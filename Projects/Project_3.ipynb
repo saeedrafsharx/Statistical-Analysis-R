{
 "cells": [
  {
   "cell_type": "markdown",
   "metadata": {},
   "source": [
    "# Part A. \n",
    "\n",
    "Howell and Huessy classified children as exhibiting (or not exhibiting) attention deficit disorder (ADD)-related behaviors in second, fourth, and fifth grade. The subjects were then sorted on the basis of the year(s) in which the individuals were classed as exhibiting such behavior. They then looked at GPA for these children when the latter were in high school. The data are given in terms of mean GPA per group.\n",
    "\n",
    "<img src=\"pr31.jpg\" width=\"450\"/>\n",
    "\n",
    "- Run the analysis of variance and draw the appropriate conclusion.\n",
    "- Leaving out the Never ADD group. In what way does this analysis clarify the interpretation of the data?\n",
    "- Calculate Cohen’s d to examine the pairwise effect sizes—in other words, calculate d on the comparison of each group with each of the other groups.\n",
    "- What is a reasonable set of conclusions from this study?"
   ]
  },
  {
   "cell_type": "markdown",
   "metadata": {},
   "source": [
    "# Method A Replicating data"
   ]
  },
  {
   "cell_type": "code",
   "execution_count": 7,
   "metadata": {},
   "outputs": [],
   "source": [
    "library(rstatix)\n",
    "library(ggpubr)"
   ]
  },
  {
   "cell_type": "code",
   "execution_count": 7,
   "metadata": {},
   "outputs": [],
   "source": [
    "means = c(2.6774, 1.6123, 1.9975, 2.0287, 1.7000, 1.9000, 1.8986, 1.4225)\n",
    "sds = c(0.9721, 1.0097, 0.7642, 0.5461, 0.8788, 1.0318, 0.3045, 0.5884)\n",
    "n = c(201, 13, 12, 8, 14, 9, 7, 8)\n",
    "\n",
    "\n",
    "set.seed(12)\n",
    "\n",
    "# che dasture zibaii !!! \n",
    "simulated_data = lapply(seq_along(means), function(i) {\n",
    "  rnorm(n[i], mean = means[i], sd = sds[i])\n",
    "})\n",
    "\n",
    "\n",
    "ADD_data = data.frame(\n",
    "  Years = rep(seq_along(means), times = sapply(simulated_data, length)),\n",
    "  GPA = unlist(simulated_data)\n",
    ")"
   ]
  },
  {
   "cell_type": "markdown",
   "metadata": {},
   "source": [
    "### Since there was No data provided, but only statistics, I simulated data from them in order to do analysis."
   ]
  },
  {
   "cell_type": "code",
   "execution_count": 8,
   "metadata": {},
   "outputs": [],
   "source": [
    "ADD_data = ADD_data %>% mutate (Years = ifelse (Years == \"1\", \"NoADD\", ifelse(Years == \"2\", \"Second_only\", ifelse(Years == \"3\", \"Forth_only\", ifelse(Years == \"4\", \"Second_Forth\", ifelse(Years == \"5\", \"Fifth_only\", ifelse(Years == \"6\", \"Second_Fifth\", ifelse(Years == \"7\", \"Forth_Fifth\", \"All_three\"))))))))"
   ]
  },
  {
   "cell_type": "code",
   "execution_count": 9,
   "metadata": {
    "scrolled": true
   },
   "outputs": [
    {
     "data": {
      "text/html": [
       "<table class=\"dataframe\">\n",
       "<caption>A data.frame: 272 × 2</caption>\n",
       "<thead>\n",
       "\t<tr><th scope=col>Years</th><th scope=col>GPA</th></tr>\n",
       "\t<tr><th scope=col>&lt;chr&gt;</th><th scope=col>&lt;dbl&gt;</th></tr>\n",
       "</thead>\n",
       "<tbody>\n",
       "\t<tr><td>NoADD</td><td>1.2381402</td></tr>\n",
       "\t<tr><td>NoADD</td><td>4.2105664</td></tr>\n",
       "\t<tr><td>NoADD</td><td>1.7473487</td></tr>\n",
       "\t<tr><td>NoADD</td><td>1.7830629</td></tr>\n",
       "\t<tr><td>NoADD</td><td>0.7354921</td></tr>\n",
       "\t<tr><td>NoADD</td><td>2.4127010</td></tr>\n",
       "\t<tr><td>NoADD</td><td>2.3708495</td></tr>\n",
       "\t<tr><td>NoADD</td><td>2.0666731</td></tr>\n",
       "\t<tr><td>NoADD</td><td>2.5739065</td></tr>\n",
       "\t<tr><td>NoADD</td><td>3.0934732</td></tr>\n",
       "\t<tr><td>NoADD</td><td>1.9213788</td></tr>\n",
       "\t<tr><td>NoADD</td><td>1.4196170</td></tr>\n",
       "\t<tr><td>NoADD</td><td>1.9195834</td></tr>\n",
       "\t<tr><td>NoADD</td><td>2.6890183</td></tr>\n",
       "\t<tr><td>NoADD</td><td>2.5292362</td></tr>\n",
       "\t<tr><td>NoADD</td><td>1.9935624</td></tr>\n",
       "\t<tr><td>NoADD</td><td>3.8331094</td></tr>\n",
       "\t<tr><td>NoADD</td><td>3.0084120</td></tr>\n",
       "\t<tr><td>NoADD</td><td>3.1702238</td></tr>\n",
       "\t<tr><td>NoADD</td><td>2.3922781</td></tr>\n",
       "\t<tr><td>NoADD</td><td>2.8948018</td></tr>\n",
       "\t<tr><td>NoADD</td><td>4.6286005</td></tr>\n",
       "\t<tr><td>NoADD</td><td>3.6611449</td></tr>\n",
       "\t<tr><td>NoADD</td><td>2.3833794</td></tr>\n",
       "\t<tr><td>NoADD</td><td>1.6807595</td></tr>\n",
       "\t<tr><td>NoADD</td><td>2.4174752</td></tr>\n",
       "\t<tr><td>NoADD</td><td>2.4838494</td></tr>\n",
       "\t<tr><td>NoADD</td><td>2.8048643</td></tr>\n",
       "\t<tr><td>NoADD</td><td>2.8191321</td></tr>\n",
       "\t<tr><td>NoADD</td><td>3.0293631</td></tr>\n",
       "\t<tr><td>⋮</td><td>⋮</td></tr>\n",
       "\t<tr><td>Fifth_only  </td><td> 2.28888145</td></tr>\n",
       "\t<tr><td>Fifth_only  </td><td> 2.17261655</td></tr>\n",
       "\t<tr><td>Fifth_only  </td><td> 1.65143142</td></tr>\n",
       "\t<tr><td>Fifth_only  </td><td> 2.14124749</td></tr>\n",
       "\t<tr><td>Fifth_only  </td><td> 1.13734515</td></tr>\n",
       "\t<tr><td>Fifth_only  </td><td> 3.28435798</td></tr>\n",
       "\t<tr><td>Second_Fifth</td><td> 2.93047733</td></tr>\n",
       "\t<tr><td>Second_Fifth</td><td> 2.80563962</td></tr>\n",
       "\t<tr><td>Second_Fifth</td><td> 1.43067172</td></tr>\n",
       "\t<tr><td>Second_Fifth</td><td> 1.80879475</td></tr>\n",
       "\t<tr><td>Second_Fifth</td><td> 1.94092394</td></tr>\n",
       "\t<tr><td>Second_Fifth</td><td> 2.46446662</td></tr>\n",
       "\t<tr><td>Second_Fifth</td><td> 1.66713596</td></tr>\n",
       "\t<tr><td>Second_Fifth</td><td> 2.30617455</td></tr>\n",
       "\t<tr><td>Second_Fifth</td><td> 2.02751183</td></tr>\n",
       "\t<tr><td>Forth_Fifth </td><td> 1.94771178</td></tr>\n",
       "\t<tr><td>Forth_Fifth </td><td> 1.51041844</td></tr>\n",
       "\t<tr><td>Forth_Fifth </td><td> 1.54014213</td></tr>\n",
       "\t<tr><td>Forth_Fifth </td><td> 1.93716739</td></tr>\n",
       "\t<tr><td>Forth_Fifth </td><td> 2.42879064</td></tr>\n",
       "\t<tr><td>Forth_Fifth </td><td> 1.72009436</td></tr>\n",
       "\t<tr><td>Forth_Fifth </td><td> 1.76304053</td></tr>\n",
       "\t<tr><td>All_three   </td><td> 1.37134929</td></tr>\n",
       "\t<tr><td>All_three   </td><td> 1.58715236</td></tr>\n",
       "\t<tr><td>All_three   </td><td> 1.48546849</td></tr>\n",
       "\t<tr><td>All_three   </td><td> 1.41896062</td></tr>\n",
       "\t<tr><td>All_three   </td><td> 2.44873739</td></tr>\n",
       "\t<tr><td>All_three   </td><td> 1.38639044</td></tr>\n",
       "\t<tr><td>All_three   </td><td>-0.06873048</td></tr>\n",
       "\t<tr><td>All_three   </td><td> 1.65374269</td></tr>\n",
       "</tbody>\n",
       "</table>\n"
      ],
      "text/latex": [
       "A data.frame: 272 × 2\n",
       "\\begin{tabular}{ll}\n",
       " Years & GPA\\\\\n",
       " <chr> & <dbl>\\\\\n",
       "\\hline\n",
       "\t NoADD & 1.2381402\\\\\n",
       "\t NoADD & 4.2105664\\\\\n",
       "\t NoADD & 1.7473487\\\\\n",
       "\t NoADD & 1.7830629\\\\\n",
       "\t NoADD & 0.7354921\\\\\n",
       "\t NoADD & 2.4127010\\\\\n",
       "\t NoADD & 2.3708495\\\\\n",
       "\t NoADD & 2.0666731\\\\\n",
       "\t NoADD & 2.5739065\\\\\n",
       "\t NoADD & 3.0934732\\\\\n",
       "\t NoADD & 1.9213788\\\\\n",
       "\t NoADD & 1.4196170\\\\\n",
       "\t NoADD & 1.9195834\\\\\n",
       "\t NoADD & 2.6890183\\\\\n",
       "\t NoADD & 2.5292362\\\\\n",
       "\t NoADD & 1.9935624\\\\\n",
       "\t NoADD & 3.8331094\\\\\n",
       "\t NoADD & 3.0084120\\\\\n",
       "\t NoADD & 3.1702238\\\\\n",
       "\t NoADD & 2.3922781\\\\\n",
       "\t NoADD & 2.8948018\\\\\n",
       "\t NoADD & 4.6286005\\\\\n",
       "\t NoADD & 3.6611449\\\\\n",
       "\t NoADD & 2.3833794\\\\\n",
       "\t NoADD & 1.6807595\\\\\n",
       "\t NoADD & 2.4174752\\\\\n",
       "\t NoADD & 2.4838494\\\\\n",
       "\t NoADD & 2.8048643\\\\\n",
       "\t NoADD & 2.8191321\\\\\n",
       "\t NoADD & 3.0293631\\\\\n",
       "\t ⋮ & ⋮\\\\\n",
       "\t Fifth\\_only   &  2.28888145\\\\\n",
       "\t Fifth\\_only   &  2.17261655\\\\\n",
       "\t Fifth\\_only   &  1.65143142\\\\\n",
       "\t Fifth\\_only   &  2.14124749\\\\\n",
       "\t Fifth\\_only   &  1.13734515\\\\\n",
       "\t Fifth\\_only   &  3.28435798\\\\\n",
       "\t Second\\_Fifth &  2.93047733\\\\\n",
       "\t Second\\_Fifth &  2.80563962\\\\\n",
       "\t Second\\_Fifth &  1.43067172\\\\\n",
       "\t Second\\_Fifth &  1.80879475\\\\\n",
       "\t Second\\_Fifth &  1.94092394\\\\\n",
       "\t Second\\_Fifth &  2.46446662\\\\\n",
       "\t Second\\_Fifth &  1.66713596\\\\\n",
       "\t Second\\_Fifth &  2.30617455\\\\\n",
       "\t Second\\_Fifth &  2.02751183\\\\\n",
       "\t Forth\\_Fifth  &  1.94771178\\\\\n",
       "\t Forth\\_Fifth  &  1.51041844\\\\\n",
       "\t Forth\\_Fifth  &  1.54014213\\\\\n",
       "\t Forth\\_Fifth  &  1.93716739\\\\\n",
       "\t Forth\\_Fifth  &  2.42879064\\\\\n",
       "\t Forth\\_Fifth  &  1.72009436\\\\\n",
       "\t Forth\\_Fifth  &  1.76304053\\\\\n",
       "\t All\\_three    &  1.37134929\\\\\n",
       "\t All\\_three    &  1.58715236\\\\\n",
       "\t All\\_three    &  1.48546849\\\\\n",
       "\t All\\_three    &  1.41896062\\\\\n",
       "\t All\\_three    &  2.44873739\\\\\n",
       "\t All\\_three    &  1.38639044\\\\\n",
       "\t All\\_three    & -0.06873048\\\\\n",
       "\t All\\_three    &  1.65374269\\\\\n",
       "\\end{tabular}\n"
      ],
      "text/markdown": [
       "\n",
       "A data.frame: 272 × 2\n",
       "\n",
       "| Years &lt;chr&gt; | GPA &lt;dbl&gt; |\n",
       "|---|---|\n",
       "| NoADD | 1.2381402 |\n",
       "| NoADD | 4.2105664 |\n",
       "| NoADD | 1.7473487 |\n",
       "| NoADD | 1.7830629 |\n",
       "| NoADD | 0.7354921 |\n",
       "| NoADD | 2.4127010 |\n",
       "| NoADD | 2.3708495 |\n",
       "| NoADD | 2.0666731 |\n",
       "| NoADD | 2.5739065 |\n",
       "| NoADD | 3.0934732 |\n",
       "| NoADD | 1.9213788 |\n",
       "| NoADD | 1.4196170 |\n",
       "| NoADD | 1.9195834 |\n",
       "| NoADD | 2.6890183 |\n",
       "| NoADD | 2.5292362 |\n",
       "| NoADD | 1.9935624 |\n",
       "| NoADD | 3.8331094 |\n",
       "| NoADD | 3.0084120 |\n",
       "| NoADD | 3.1702238 |\n",
       "| NoADD | 2.3922781 |\n",
       "| NoADD | 2.8948018 |\n",
       "| NoADD | 4.6286005 |\n",
       "| NoADD | 3.6611449 |\n",
       "| NoADD | 2.3833794 |\n",
       "| NoADD | 1.6807595 |\n",
       "| NoADD | 2.4174752 |\n",
       "| NoADD | 2.4838494 |\n",
       "| NoADD | 2.8048643 |\n",
       "| NoADD | 2.8191321 |\n",
       "| NoADD | 3.0293631 |\n",
       "| ⋮ | ⋮ |\n",
       "| Fifth_only   |  2.28888145 |\n",
       "| Fifth_only   |  2.17261655 |\n",
       "| Fifth_only   |  1.65143142 |\n",
       "| Fifth_only   |  2.14124749 |\n",
       "| Fifth_only   |  1.13734515 |\n",
       "| Fifth_only   |  3.28435798 |\n",
       "| Second_Fifth |  2.93047733 |\n",
       "| Second_Fifth |  2.80563962 |\n",
       "| Second_Fifth |  1.43067172 |\n",
       "| Second_Fifth |  1.80879475 |\n",
       "| Second_Fifth |  1.94092394 |\n",
       "| Second_Fifth |  2.46446662 |\n",
       "| Second_Fifth |  1.66713596 |\n",
       "| Second_Fifth |  2.30617455 |\n",
       "| Second_Fifth |  2.02751183 |\n",
       "| Forth_Fifth  |  1.94771178 |\n",
       "| Forth_Fifth  |  1.51041844 |\n",
       "| Forth_Fifth  |  1.54014213 |\n",
       "| Forth_Fifth  |  1.93716739 |\n",
       "| Forth_Fifth  |  2.42879064 |\n",
       "| Forth_Fifth  |  1.72009436 |\n",
       "| Forth_Fifth  |  1.76304053 |\n",
       "| All_three    |  1.37134929 |\n",
       "| All_three    |  1.58715236 |\n",
       "| All_three    |  1.48546849 |\n",
       "| All_three    |  1.41896062 |\n",
       "| All_three    |  2.44873739 |\n",
       "| All_three    |  1.38639044 |\n",
       "| All_three    | -0.06873048 |\n",
       "| All_three    |  1.65374269 |\n",
       "\n"
      ],
      "text/plain": [
       "    Years        GPA        \n",
       "1   NoADD        1.2381402  \n",
       "2   NoADD        4.2105664  \n",
       "3   NoADD        1.7473487  \n",
       "4   NoADD        1.7830629  \n",
       "5   NoADD        0.7354921  \n",
       "6   NoADD        2.4127010  \n",
       "7   NoADD        2.3708495  \n",
       "8   NoADD        2.0666731  \n",
       "9   NoADD        2.5739065  \n",
       "10  NoADD        3.0934732  \n",
       "11  NoADD        1.9213788  \n",
       "12  NoADD        1.4196170  \n",
       "13  NoADD        1.9195834  \n",
       "14  NoADD        2.6890183  \n",
       "15  NoADD        2.5292362  \n",
       "16  NoADD        1.9935624  \n",
       "17  NoADD        3.8331094  \n",
       "18  NoADD        3.0084120  \n",
       "19  NoADD        3.1702238  \n",
       "20  NoADD        2.3922781  \n",
       "21  NoADD        2.8948018  \n",
       "22  NoADD        4.6286005  \n",
       "23  NoADD        3.6611449  \n",
       "24  NoADD        2.3833794  \n",
       "25  NoADD        1.6807595  \n",
       "26  NoADD        2.4174752  \n",
       "27  NoADD        2.4838494  \n",
       "28  NoADD        2.8048643  \n",
       "29  NoADD        2.8191321  \n",
       "30  NoADD        3.0293631  \n",
       "⋮   ⋮            ⋮          \n",
       "243 Fifth_only    2.28888145\n",
       "244 Fifth_only    2.17261655\n",
       "245 Fifth_only    1.65143142\n",
       "246 Fifth_only    2.14124749\n",
       "247 Fifth_only    1.13734515\n",
       "248 Fifth_only    3.28435798\n",
       "249 Second_Fifth  2.93047733\n",
       "250 Second_Fifth  2.80563962\n",
       "251 Second_Fifth  1.43067172\n",
       "252 Second_Fifth  1.80879475\n",
       "253 Second_Fifth  1.94092394\n",
       "254 Second_Fifth  2.46446662\n",
       "255 Second_Fifth  1.66713596\n",
       "256 Second_Fifth  2.30617455\n",
       "257 Second_Fifth  2.02751183\n",
       "258 Forth_Fifth   1.94771178\n",
       "259 Forth_Fifth   1.51041844\n",
       "260 Forth_Fifth   1.54014213\n",
       "261 Forth_Fifth   1.93716739\n",
       "262 Forth_Fifth   2.42879064\n",
       "263 Forth_Fifth   1.72009436\n",
       "264 Forth_Fifth   1.76304053\n",
       "265 All_three     1.37134929\n",
       "266 All_three     1.58715236\n",
       "267 All_three     1.48546849\n",
       "268 All_three     1.41896062\n",
       "269 All_three     2.44873739\n",
       "270 All_three     1.38639044\n",
       "271 All_three    -0.06873048\n",
       "272 All_three     1.65374269"
      ]
     },
     "metadata": {},
     "output_type": "display_data"
    }
   ],
   "source": [
    "ADD_data"
   ]
  },
  {
   "cell_type": "code",
   "execution_count": 10,
   "metadata": {},
   "outputs": [
    {
     "data": {
      "image/png": "[encoded data removed]",
      "text/plain": [
       "plot without title"
      ]
     },
     "metadata": {
      "image/png": {
       "height": 420,
       "width": 420
      }
     },
     "output_type": "display_data"
    }
   ],
   "source": [
    "ggqqplot(ADD_data, \"GPA\", facet.by = \"Years\")"
   ]
  },
  {
   "cell_type": "code",
   "execution_count": 17,
   "metadata": {},
   "outputs": [
    {
     "data": {
      "text/html": [
       "<table class=\"dataframe\">\n",
       "<caption>A tibble: 4 × 4</caption>\n",
       "<thead>\n",
       "\t<tr><th scope=col>Years</th><th scope=col>GPA</th><th scope=col>is.outlier</th><th scope=col>is.extreme</th></tr>\n",
       "\t<tr><th scope=col>&lt;chr&gt;</th><th scope=col>&lt;dbl&gt;</th><th scope=col>&lt;lgl&gt;</th><th scope=col>&lt;lgl&gt;</th></tr>\n",
       "</thead>\n",
       "<tbody>\n",
       "\t<tr><td>All_three  </td><td> 2.44873739</td><td>TRUE</td><td> TRUE</td></tr>\n",
       "\t<tr><td>All_three  </td><td>-0.06873048</td><td>TRUE</td><td> TRUE</td></tr>\n",
       "\t<tr><td>Forth_Fifth</td><td> 2.42879064</td><td>TRUE</td><td>FALSE</td></tr>\n",
       "\t<tr><td>NoADD      </td><td>-0.22573394</td><td>TRUE</td><td>FALSE</td></tr>\n",
       "</tbody>\n",
       "</table>\n"
      ],
      "text/latex": [
       "A tibble: 4 × 4\n",
       "\\begin{tabular}{llll}\n",
       " Years & GPA & is.outlier & is.extreme\\\\\n",
       " <chr> & <dbl> & <lgl> & <lgl>\\\\\n",
       "\\hline\n",
       "\t All\\_three   &  2.44873739 & TRUE &  TRUE\\\\\n",
       "\t All\\_three   & -0.06873048 & TRUE &  TRUE\\\\\n",
       "\t Forth\\_Fifth &  2.42879064 & TRUE & FALSE\\\\\n",
       "\t NoADD       & -0.22573394 & TRUE & FALSE\\\\\n",
       "\\end{tabular}\n"
      ],
      "text/markdown": [
       "\n",
       "A tibble: 4 × 4\n",
       "\n",
       "| Years &lt;chr&gt; | GPA &lt;dbl&gt; | is.outlier &lt;lgl&gt; | is.extreme &lt;lgl&gt; |\n",
       "|---|---|---|---|\n",
       "| All_three   |  2.44873739 | TRUE |  TRUE |\n",
       "| All_three   | -0.06873048 | TRUE |  TRUE |\n",
       "| Forth_Fifth |  2.42879064 | TRUE | FALSE |\n",
       "| NoADD       | -0.22573394 | TRUE | FALSE |\n",
       "\n"
      ],
      "text/plain": [
       "  Years       GPA         is.outlier is.extreme\n",
       "1 All_three    2.44873739 TRUE        TRUE     \n",
       "2 All_three   -0.06873048 TRUE        TRUE     \n",
       "3 Forth_Fifth  2.42879064 TRUE       FALSE     \n",
       "4 NoADD       -0.22573394 TRUE       FALSE     "
      ]
     },
     "metadata": {},
     "output_type": "display_data"
    }
   ],
   "source": [
    "ADD_data %>% group_by(Years) %>% identify_outliers(GPA)"
   ]
  },
  {
   "cell_type": "code",
   "execution_count": 67,
   "metadata": {},
   "outputs": [],
   "source": [
    "ADD_data = ADD_data[-c(269,271), ]"
   ]
  },
  {
   "cell_type": "code",
   "execution_count": 18,
   "metadata": {},
   "outputs": [
    {
     "name": "stderr",
     "output_type": "stream",
     "text": [
      "Warning message in leveneTest.default(y = y, group = group, ...):\n",
      "\"group coerced to factor.\"\n"
     ]
    },
    {
     "data": {
      "text/html": [
       "<table class=\"dataframe\">\n",
       "<caption>A tibble: 1 × 4</caption>\n",
       "<thead>\n",
       "\t<tr><th scope=col>df1</th><th scope=col>df2</th><th scope=col>statistic</th><th scope=col>p</th></tr>\n",
       "\t<tr><th scope=col>&lt;int&gt;</th><th scope=col>&lt;int&gt;</th><th scope=col>&lt;dbl&gt;</th><th scope=col>&lt;dbl&gt;</th></tr>\n",
       "</thead>\n",
       "<tbody>\n",
       "\t<tr><td>7</td><td>264</td><td>2.335124</td><td>0.025036</td></tr>\n",
       "</tbody>\n",
       "</table>\n"
      ],
      "text/latex": [
       "A tibble: 1 × 4\n",
       "\\begin{tabular}{llll}\n",
       " df1 & df2 & statistic & p\\\\\n",
       " <int> & <int> & <dbl> & <dbl>\\\\\n",
       "\\hline\n",
       "\t 7 & 264 & 2.335124 & 0.025036\\\\\n",
       "\\end{tabular}\n"
      ],
      "text/markdown": [
       "\n",
       "A tibble: 1 × 4\n",
       "\n",
       "| df1 &lt;int&gt; | df2 &lt;int&gt; | statistic &lt;dbl&gt; | p &lt;dbl&gt; |\n",
       "|---|---|---|---|\n",
       "| 7 | 264 | 2.335124 | 0.025036 |\n",
       "\n"
      ],
      "text/plain": [
       "  df1 df2 statistic p       \n",
       "1 7   264 2.335124  0.025036"
      ]
     },
     "metadata": {},
     "output_type": "display_data"
    }
   ],
   "source": [
    "ADD_data %>% levene_test(GPA~Years)"
   ]
  },
  {
   "cell_type": "code",
   "execution_count": 71,
   "metadata": {},
   "outputs": [
    {
     "data": {
      "text/html": [
       "<table class=\"dataframe\">\n",
       "<caption>A tibble: 8 × 4</caption>\n",
       "<thead>\n",
       "\t<tr><th scope=col>Years</th><th scope=col>variable</th><th scope=col>statistic</th><th scope=col>p</th></tr>\n",
       "\t<tr><th scope=col>&lt;chr&gt;</th><th scope=col>&lt;chr&gt;</th><th scope=col>&lt;dbl&gt;</th><th scope=col>&lt;dbl&gt;</th></tr>\n",
       "</thead>\n",
       "<tbody>\n",
       "\t<tr><td>All_three   </td><td>GPA</td><td>0.9018844</td><td>0.3851886</td></tr>\n",
       "\t<tr><td>Fifth_only  </td><td>GPA</td><td>0.9565630</td><td>0.6663220</td></tr>\n",
       "\t<tr><td>Forth_Fifth </td><td>GPA</td><td>0.8997690</td><td>0.3295850</td></tr>\n",
       "\t<tr><td>Forth_only  </td><td>GPA</td><td>0.9328470</td><td>0.4112685</td></tr>\n",
       "\t<tr><td>NoADD       </td><td>GPA</td><td>0.9951698</td><td>0.7715956</td></tr>\n",
       "\t<tr><td>Second_Fifth</td><td>GPA</td><td>0.9613372</td><td>0.8122093</td></tr>\n",
       "\t<tr><td>Second_Forth</td><td>GPA</td><td>0.9820332</td><td>0.9722578</td></tr>\n",
       "\t<tr><td>Second_only </td><td>GPA</td><td>0.9412044</td><td>0.4726866</td></tr>\n",
       "</tbody>\n",
       "</table>\n"
      ],
      "text/latex": [
       "A tibble: 8 × 4\n",
       "\\begin{tabular}{llll}\n",
       " Years & variable & statistic & p\\\\\n",
       " <chr> & <chr> & <dbl> & <dbl>\\\\\n",
       "\\hline\n",
       "\t All\\_three    & GPA & 0.9018844 & 0.3851886\\\\\n",
       "\t Fifth\\_only   & GPA & 0.9565630 & 0.6663220\\\\\n",
       "\t Forth\\_Fifth  & GPA & 0.8997690 & 0.3295850\\\\\n",
       "\t Forth\\_only   & GPA & 0.9328470 & 0.4112685\\\\\n",
       "\t NoADD        & GPA & 0.9951698 & 0.7715956\\\\\n",
       "\t Second\\_Fifth & GPA & 0.9613372 & 0.8122093\\\\\n",
       "\t Second\\_Forth & GPA & 0.9820332 & 0.9722578\\\\\n",
       "\t Second\\_only  & GPA & 0.9412044 & 0.4726866\\\\\n",
       "\\end{tabular}\n"
      ],
      "text/markdown": [
       "\n",
       "A tibble: 8 × 4\n",
       "\n",
       "| Years &lt;chr&gt; | variable &lt;chr&gt; | statistic &lt;dbl&gt; | p &lt;dbl&gt; |\n",
       "|---|---|---|---|\n",
       "| All_three    | GPA | 0.9018844 | 0.3851886 |\n",
       "| Fifth_only   | GPA | 0.9565630 | 0.6663220 |\n",
       "| Forth_Fifth  | GPA | 0.8997690 | 0.3295850 |\n",
       "| Forth_only   | GPA | 0.9328470 | 0.4112685 |\n",
       "| NoADD        | GPA | 0.9951698 | 0.7715956 |\n",
       "| Second_Fifth | GPA | 0.9613372 | 0.8122093 |\n",
       "| Second_Forth | GPA | 0.9820332 | 0.9722578 |\n",
       "| Second_only  | GPA | 0.9412044 | 0.4726866 |\n",
       "\n"
      ],
      "text/plain": [
       "  Years        variable statistic p        \n",
       "1 All_three    GPA      0.9018844 0.3851886\n",
       "2 Fifth_only   GPA      0.9565630 0.6663220\n",
       "3 Forth_Fifth  GPA      0.8997690 0.3295850\n",
       "4 Forth_only   GPA      0.9328470 0.4112685\n",
       "5 NoADD        GPA      0.9951698 0.7715956\n",
       "6 Second_Fifth GPA      0.9613372 0.8122093\n",
       "7 Second_Forth GPA      0.9820332 0.9722578\n",
       "8 Second_only  GPA      0.9412044 0.4726866"
      ]
     },
     "metadata": {},
     "output_type": "display_data"
    }
   ],
   "source": [
    "ADD_data %>% group_by(Years) %>% shapiro_test(GPA)"
   ]
  },
  {
   "cell_type": "code",
   "execution_count": 8,
   "metadata": {},
   "outputs": [
    {
     "data": {
      "text/html": [
       "<table class=\"dataframe\">\n",
       "<caption>A anova_test: 1 × 7</caption>\n",
       "<thead>\n",
       "\t<tr><th></th><th scope=col>Effect</th><th scope=col>DFn</th><th scope=col>DFd</th><th scope=col>F</th><th scope=col>p</th><th scope=col>p&lt;.05</th><th scope=col>ges</th></tr>\n",
       "\t<tr><th></th><th scope=col>&lt;chr&gt;</th><th scope=col>&lt;dbl&gt;</th><th scope=col>&lt;dbl&gt;</th><th scope=col>&lt;dbl&gt;</th><th scope=col>&lt;dbl&gt;</th><th scope=col>&lt;chr&gt;</th><th scope=col>&lt;dbl&gt;</th></tr>\n",
       "</thead>\n",
       "<tbody>\n",
       "\t<tr><th scope=row>1</th><td>Years</td><td>7</td><td>264</td><td>7.591</td><td>2.41e-08</td><td>*</td><td>0.168</td></tr>\n",
       "</tbody>\n",
       "</table>\n"
      ],
      "text/latex": [
       "A anova\\_test: 1 × 7\n",
       "\\begin{tabular}{r|lllllll}\n",
       "  & Effect & DFn & DFd & F & p & p<.05 & ges\\\\\n",
       "  & <chr> & <dbl> & <dbl> & <dbl> & <dbl> & <chr> & <dbl>\\\\\n",
       "\\hline\n",
       "\t1 & Years & 7 & 264 & 7.591 & 2.41e-08 & * & 0.168\\\\\n",
       "\\end{tabular}\n"
      ],
      "text/markdown": [
       "\n",
       "A anova_test: 1 × 7\n",
       "\n",
       "| <!--/--> | Effect &lt;chr&gt; | DFn &lt;dbl&gt; | DFd &lt;dbl&gt; | F &lt;dbl&gt; | p &lt;dbl&gt; | p&lt;.05 &lt;chr&gt; | ges &lt;dbl&gt; |\n",
       "|---|---|---|---|---|---|---|---|\n",
       "| 1 | Years | 7 | 264 | 7.591 | 2.41e-08 | * | 0.168 |\n",
       "\n"
      ],
      "text/plain": [
       "  Effect DFn DFd F     p        p<.05 ges  \n",
       "1 Years  7   264 7.591 2.41e-08 *     0.168"
      ]
     },
     "metadata": {},
     "output_type": "display_data"
    }
   ],
   "source": [
    "ADD_data %>% anova_test(GPA ~ Years)"
   ]
  },
  {
   "cell_type": "code",
   "execution_count": 74,
   "metadata": {},
   "outputs": [
    {
     "data": {
      "text/html": [
       "<table class=\"dataframe\">\n",
       "<caption>A rstatix_test: 1 × 6</caption>\n",
       "<thead>\n",
       "\t<tr><th></th><th scope=col>.y.</th><th scope=col>n</th><th scope=col>statistic</th><th scope=col>df</th><th scope=col>p</th><th scope=col>method</th></tr>\n",
       "\t<tr><th></th><th scope=col>&lt;chr&gt;</th><th scope=col>&lt;int&gt;</th><th scope=col>&lt;dbl&gt;</th><th scope=col>&lt;int&gt;</th><th scope=col>&lt;dbl&gt;</th><th scope=col>&lt;chr&gt;</th></tr>\n",
       "</thead>\n",
       "<tbody>\n",
       "\t<tr><th scope=row>1</th><td>GPA</td><td>270</td><td>46.22176</td><td>7</td><td>7.91e-08</td><td>Kruskal-Wallis</td></tr>\n",
       "</tbody>\n",
       "</table>\n"
      ],
      "text/latex": [
       "A rstatix\\_test: 1 × 6\n",
       "\\begin{tabular}{r|llllll}\n",
       "  & .y. & n & statistic & df & p & method\\\\\n",
       "  & <chr> & <int> & <dbl> & <int> & <dbl> & <chr>\\\\\n",
       "\\hline\n",
       "\t1 & GPA & 270 & 46.22176 & 7 & 7.91e-08 & Kruskal-Wallis\\\\\n",
       "\\end{tabular}\n"
      ],
      "text/markdown": [
       "\n",
       "A rstatix_test: 1 × 6\n",
       "\n",
       "| <!--/--> | .y. &lt;chr&gt; | n &lt;int&gt; | statistic &lt;dbl&gt; | df &lt;int&gt; | p &lt;dbl&gt; | method &lt;chr&gt; |\n",
       "|---|---|---|---|---|---|---|\n",
       "| 1 | GPA | 270 | 46.22176 | 7 | 7.91e-08 | Kruskal-Wallis |\n",
       "\n"
      ],
      "text/plain": [
       "  .y. n   statistic df p        method        \n",
       "1 GPA 270 46.22176  7  7.91e-08 Kruskal-Wallis"
      ]
     },
     "metadata": {},
     "output_type": "display_data"
    }
   ],
   "source": [
    "ADD_data %>% kruskal_test(GPA~Years)"
   ]
  },
  {
   "cell_type": "markdown",
   "metadata": {},
   "source": [
    "### There is alot to say here, first, most of our groups are normally distributed but one, which was due to extreme ourliers that we identified, by removing the ourliers all the distributions get normal, but the result of levene test shows that the variances are not homeogenous, no matter if we remove the outliers or not, so just in case I computed both anova exam and kruskal valis exam. but since both of them show meaningful significance, we'll be sure that no matter about the outliers or homeogenity of variances, the result we report is significant."
   ]
  },
  {
   "cell_type": "code",
   "execution_count": 11,
   "metadata": {
    "scrolled": true
   },
   "outputs": [
    {
     "data": {
      "text/html": [
       "<table class=\"dataframe\">\n",
       "<caption>A rstatix_test: 28 × 9</caption>\n",
       "<thead>\n",
       "\t<tr><th></th><th scope=col>.y.</th><th scope=col>group1</th><th scope=col>group2</th><th scope=col>n1</th><th scope=col>n2</th><th scope=col>statistic</th><th scope=col>p</th><th scope=col>p.adj</th><th scope=col>p.adj.signif</th></tr>\n",
       "\t<tr><th></th><th scope=col>&lt;chr&gt;</th><th scope=col>&lt;chr&gt;</th><th scope=col>&lt;chr&gt;</th><th scope=col>&lt;int&gt;</th><th scope=col>&lt;int&gt;</th><th scope=col>&lt;dbl&gt;</th><th scope=col>&lt;dbl&gt;</th><th scope=col>&lt;dbl&gt;</th><th scope=col>&lt;chr&gt;</th></tr>\n",
       "</thead>\n",
       "<tbody>\n",
       "\t<tr><th scope=row>1</th><td>GPA</td><td>All_three   </td><td>Fifth_only  </td><td>  8</td><td> 14</td><td>  51</td><td>0.764000</td><td>1.000</td><td>ns</td></tr>\n",
       "\t<tr><th scope=row>2</th><td>GPA</td><td>All_three   </td><td>Forth_Fifth </td><td>  8</td><td>  7</td><td>  11</td><td>0.054000</td><td>1.000</td><td>ns</td></tr>\n",
       "\t<tr><th scope=row>3</th><td>GPA</td><td>All_three   </td><td>Forth_only  </td><td>  8</td><td> 12</td><td>  23</td><td>0.057000</td><td>1.000</td><td>ns</td></tr>\n",
       "\t<tr><th scope=row>4</th><td>GPA</td><td>All_three   </td><td>NoADD       </td><td>  8</td><td>201</td><td> 213</td><td>0.000431</td><td>0.012</td><td>* </td></tr>\n",
       "\t<tr><th scope=row>5</th><td>GPA</td><td>All_three   </td><td>Second_Fifth</td><td>  8</td><td>  9</td><td>   9</td><td>0.008000</td><td>0.221</td><td>ns</td></tr>\n",
       "\t<tr><th scope=row>6</th><td>GPA</td><td>All_three   </td><td>Second_Forth</td><td>  8</td><td>  8</td><td>  17</td><td>0.130000</td><td>1.000</td><td>ns</td></tr>\n",
       "\t<tr><th scope=row>7</th><td>GPA</td><td>All_three   </td><td>Second_only </td><td>  8</td><td> 13</td><td>  39</td><td>0.374000</td><td>1.000</td><td>ns</td></tr>\n",
       "\t<tr><th scope=row>8</th><td>GPA</td><td>Fifth_only  </td><td>Forth_Fifth </td><td> 14</td><td>  7</td><td>  38</td><td>0.443000</td><td>1.000</td><td>ns</td></tr>\n",
       "\t<tr><th scope=row>9</th><td>GPA</td><td>Fifth_only  </td><td>Forth_only  </td><td> 14</td><td> 12</td><td>  57</td><td>0.176000</td><td>1.000</td><td>ns</td></tr>\n",
       "\t<tr><th scope=row>10</th><td>GPA</td><td>Fifth_only  </td><td>NoADD       </td><td> 14</td><td>201</td><td> 590</td><td>0.000286</td><td>0.008</td><td>**</td></tr>\n",
       "\t<tr><th scope=row>11</th><td>GPA</td><td>Fifth_only  </td><td>Second_Fifth</td><td> 14</td><td>  9</td><td>  37</td><td>0.109000</td><td>1.000</td><td>ns</td></tr>\n",
       "\t<tr><th scope=row>12</th><td>GPA</td><td>Fifth_only  </td><td>Second_Forth</td><td> 14</td><td>  8</td><td>  40</td><td>0.297000</td><td>1.000</td><td>ns</td></tr>\n",
       "\t<tr><th scope=row>13</th><td>GPA</td><td>Fifth_only  </td><td>Second_only </td><td> 14</td><td> 13</td><td>  94</td><td>0.905000</td><td>1.000</td><td>ns</td></tr>\n",
       "\t<tr><th scope=row>14</th><td>GPA</td><td>Forth_Fifth </td><td>Forth_only  </td><td>  7</td><td> 12</td><td>  36</td><td>0.650000</td><td>1.000</td><td>ns</td></tr>\n",
       "\t<tr><th scope=row>15</th><td>GPA</td><td>Forth_Fifth </td><td>NoADD       </td><td>  7</td><td>201</td><td> 288</td><td>0.008000</td><td>0.225</td><td>ns</td></tr>\n",
       "\t<tr><th scope=row>16</th><td>GPA</td><td>Forth_Fifth </td><td>Second_Fifth</td><td>  7</td><td>  9</td><td>  19</td><td>0.210000</td><td>1.000</td><td>ns</td></tr>\n",
       "\t<tr><th scope=row>17</th><td>GPA</td><td>Forth_Fifth </td><td>Second_Forth</td><td>  7</td><td>  8</td><td>  23</td><td>0.613000</td><td>1.000</td><td>ns</td></tr>\n",
       "\t<tr><th scope=row>18</th><td>GPA</td><td>Forth_Fifth </td><td>Second_only </td><td>  7</td><td> 13</td><td>  54</td><td>0.536000</td><td>1.000</td><td>ns</td></tr>\n",
       "\t<tr><th scope=row>19</th><td>GPA</td><td>Forth_only  </td><td>NoADD       </td><td> 12</td><td>201</td><td> 745</td><td>0.026000</td><td>0.739</td><td>ns</td></tr>\n",
       "\t<tr><th scope=row>20</th><td>GPA</td><td>Forth_only  </td><td>Second_Fifth</td><td> 12</td><td>  9</td><td>  49</td><td>0.754000</td><td>1.000</td><td>ns</td></tr>\n",
       "\t<tr><th scope=row>21</th><td>GPA</td><td>Forth_only  </td><td>Second_Forth</td><td> 12</td><td>  8</td><td>  51</td><td>0.851000</td><td>1.000</td><td>ns</td></tr>\n",
       "\t<tr><th scope=row>22</th><td>GPA</td><td>Forth_only  </td><td>Second_only </td><td> 12</td><td> 13</td><td>  99</td><td>0.270000</td><td>1.000</td><td>ns</td></tr>\n",
       "\t<tr><th scope=row>23</th><td>GPA</td><td>NoADD       </td><td>Second_Fifth</td><td>201</td><td>  9</td><td>1232</td><td>0.067000</td><td>1.000</td><td>ns</td></tr>\n",
       "\t<tr><th scope=row>24</th><td>GPA</td><td>NoADD       </td><td>Second_Forth</td><td>201</td><td>  8</td><td>1187</td><td>0.023000</td><td>0.633</td><td>ns</td></tr>\n",
       "\t<tr><th scope=row>25</th><td>GPA</td><td>NoADD       </td><td>Second_only </td><td>201</td><td> 13</td><td>2051</td><td>0.000585</td><td>0.016</td><td>* </td></tr>\n",
       "\t<tr><th scope=row>26</th><td>GPA</td><td>Second_Fifth</td><td>Second_Forth</td><td>  9</td><td>  8</td><td>  43</td><td>0.541000</td><td>1.000</td><td>ns</td></tr>\n",
       "\t<tr><th scope=row>27</th><td>GPA</td><td>Second_Fifth</td><td>Second_only </td><td>  9</td><td> 13</td><td>  82</td><td>0.126000</td><td>1.000</td><td>ns</td></tr>\n",
       "\t<tr><th scope=row>28</th><td>GPA</td><td>Second_Forth</td><td>Second_only </td><td>  8</td><td> 13</td><td>  66</td><td>0.336000</td><td>1.000</td><td>ns</td></tr>\n",
       "</tbody>\n",
       "</table>\n"
      ],
      "text/latex": [
       "A rstatix\\_test: 28 × 9\n",
       "\\begin{tabular}{r|lllllllll}\n",
       "  & .y. & group1 & group2 & n1 & n2 & statistic & p & p.adj & p.adj.signif\\\\\n",
       "  & <chr> & <chr> & <chr> & <int> & <int> & <dbl> & <dbl> & <dbl> & <chr>\\\\\n",
       "\\hline\n",
       "\t1 & GPA & All\\_three    & Fifth\\_only   &   8 &  14 &   51 & 0.764000 & 1.000 & ns\\\\\n",
       "\t2 & GPA & All\\_three    & Forth\\_Fifth  &   8 &   7 &   11 & 0.054000 & 1.000 & ns\\\\\n",
       "\t3 & GPA & All\\_three    & Forth\\_only   &   8 &  12 &   23 & 0.057000 & 1.000 & ns\\\\\n",
       "\t4 & GPA & All\\_three    & NoADD        &   8 & 201 &  213 & 0.000431 & 0.012 & * \\\\\n",
       "\t5 & GPA & All\\_three    & Second\\_Fifth &   8 &   9 &    9 & 0.008000 & 0.221 & ns\\\\\n",
       "\t6 & GPA & All\\_three    & Second\\_Forth &   8 &   8 &   17 & 0.130000 & 1.000 & ns\\\\\n",
       "\t7 & GPA & All\\_three    & Second\\_only  &   8 &  13 &   39 & 0.374000 & 1.000 & ns\\\\\n",
       "\t8 & GPA & Fifth\\_only   & Forth\\_Fifth  &  14 &   7 &   38 & 0.443000 & 1.000 & ns\\\\\n",
       "\t9 & GPA & Fifth\\_only   & Forth\\_only   &  14 &  12 &   57 & 0.176000 & 1.000 & ns\\\\\n",
       "\t10 & GPA & Fifth\\_only   & NoADD        &  14 & 201 &  590 & 0.000286 & 0.008 & **\\\\\n",
       "\t11 & GPA & Fifth\\_only   & Second\\_Fifth &  14 &   9 &   37 & 0.109000 & 1.000 & ns\\\\\n",
       "\t12 & GPA & Fifth\\_only   & Second\\_Forth &  14 &   8 &   40 & 0.297000 & 1.000 & ns\\\\\n",
       "\t13 & GPA & Fifth\\_only   & Second\\_only  &  14 &  13 &   94 & 0.905000 & 1.000 & ns\\\\\n",
       "\t14 & GPA & Forth\\_Fifth  & Forth\\_only   &   7 &  12 &   36 & 0.650000 & 1.000 & ns\\\\\n",
       "\t15 & GPA & Forth\\_Fifth  & NoADD        &   7 & 201 &  288 & 0.008000 & 0.225 & ns\\\\\n",
       "\t16 & GPA & Forth\\_Fifth  & Second\\_Fifth &   7 &   9 &   19 & 0.210000 & 1.000 & ns\\\\\n",
       "\t17 & GPA & Forth\\_Fifth  & Second\\_Forth &   7 &   8 &   23 & 0.613000 & 1.000 & ns\\\\\n",
       "\t18 & GPA & Forth\\_Fifth  & Second\\_only  &   7 &  13 &   54 & 0.536000 & 1.000 & ns\\\\\n",
       "\t19 & GPA & Forth\\_only   & NoADD        &  12 & 201 &  745 & 0.026000 & 0.739 & ns\\\\\n",
       "\t20 & GPA & Forth\\_only   & Second\\_Fifth &  12 &   9 &   49 & 0.754000 & 1.000 & ns\\\\\n",
       "\t21 & GPA & Forth\\_only   & Second\\_Forth &  12 &   8 &   51 & 0.851000 & 1.000 & ns\\\\\n",
       "\t22 & GPA & Forth\\_only   & Second\\_only  &  12 &  13 &   99 & 0.270000 & 1.000 & ns\\\\\n",
       "\t23 & GPA & NoADD        & Second\\_Fifth & 201 &   9 & 1232 & 0.067000 & 1.000 & ns\\\\\n",
       "\t24 & GPA & NoADD        & Second\\_Forth & 201 &   8 & 1187 & 0.023000 & 0.633 & ns\\\\\n",
       "\t25 & GPA & NoADD        & Second\\_only  & 201 &  13 & 2051 & 0.000585 & 0.016 & * \\\\\n",
       "\t26 & GPA & Second\\_Fifth & Second\\_Forth &   9 &   8 &   43 & 0.541000 & 1.000 & ns\\\\\n",
       "\t27 & GPA & Second\\_Fifth & Second\\_only  &   9 &  13 &   82 & 0.126000 & 1.000 & ns\\\\\n",
       "\t28 & GPA & Second\\_Forth & Second\\_only  &   8 &  13 &   66 & 0.336000 & 1.000 & ns\\\\\n",
       "\\end{tabular}\n"
      ],
      "text/markdown": [
       "\n",
       "A rstatix_test: 28 × 9\n",
       "\n",
       "| <!--/--> | .y. &lt;chr&gt; | group1 &lt;chr&gt; | group2 &lt;chr&gt; | n1 &lt;int&gt; | n2 &lt;int&gt; | statistic &lt;dbl&gt; | p &lt;dbl&gt; | p.adj &lt;dbl&gt; | p.adj.signif &lt;chr&gt; |\n",
       "|---|---|---|---|---|---|---|---|---|---|\n",
       "| 1 | GPA | All_three    | Fifth_only   |   8 |  14 |   51 | 0.764000 | 1.000 | ns |\n",
       "| 2 | GPA | All_three    | Forth_Fifth  |   8 |   7 |   11 | 0.054000 | 1.000 | ns |\n",
       "| 3 | GPA | All_three    | Forth_only   |   8 |  12 |   23 | 0.057000 | 1.000 | ns |\n",
       "| 4 | GPA | All_three    | NoADD        |   8 | 201 |  213 | 0.000431 | 0.012 | *  |\n",
       "| 5 | GPA | All_three    | Second_Fifth |   8 |   9 |    9 | 0.008000 | 0.221 | ns |\n",
       "| 6 | GPA | All_three    | Second_Forth |   8 |   8 |   17 | 0.130000 | 1.000 | ns |\n",
       "| 7 | GPA | All_three    | Second_only  |   8 |  13 |   39 | 0.374000 | 1.000 | ns |\n",
       "| 8 | GPA | Fifth_only   | Forth_Fifth  |  14 |   7 |   38 | 0.443000 | 1.000 | ns |\n",
       "| 9 | GPA | Fifth_only   | Forth_only   |  14 |  12 |   57 | 0.176000 | 1.000 | ns |\n",
       "| 10 | GPA | Fifth_only   | NoADD        |  14 | 201 |  590 | 0.000286 | 0.008 | ** |\n",
       "| 11 | GPA | Fifth_only   | Second_Fifth |  14 |   9 |   37 | 0.109000 | 1.000 | ns |\n",
       "| 12 | GPA | Fifth_only   | Second_Forth |  14 |   8 |   40 | 0.297000 | 1.000 | ns |\n",
       "| 13 | GPA | Fifth_only   | Second_only  |  14 |  13 |   94 | 0.905000 | 1.000 | ns |\n",
       "| 14 | GPA | Forth_Fifth  | Forth_only   |   7 |  12 |   36 | 0.650000 | 1.000 | ns |\n",
       "| 15 | GPA | Forth_Fifth  | NoADD        |   7 | 201 |  288 | 0.008000 | 0.225 | ns |\n",
       "| 16 | GPA | Forth_Fifth  | Second_Fifth |   7 |   9 |   19 | 0.210000 | 1.000 | ns |\n",
       "| 17 | GPA | Forth_Fifth  | Second_Forth |   7 |   8 |   23 | 0.613000 | 1.000 | ns |\n",
       "| 18 | GPA | Forth_Fifth  | Second_only  |   7 |  13 |   54 | 0.536000 | 1.000 | ns |\n",
       "| 19 | GPA | Forth_only   | NoADD        |  12 | 201 |  745 | 0.026000 | 0.739 | ns |\n",
       "| 20 | GPA | Forth_only   | Second_Fifth |  12 |   9 |   49 | 0.754000 | 1.000 | ns |\n",
       "| 21 | GPA | Forth_only   | Second_Forth |  12 |   8 |   51 | 0.851000 | 1.000 | ns |\n",
       "| 22 | GPA | Forth_only   | Second_only  |  12 |  13 |   99 | 0.270000 | 1.000 | ns |\n",
       "| 23 | GPA | NoADD        | Second_Fifth | 201 |   9 | 1232 | 0.067000 | 1.000 | ns |\n",
       "| 24 | GPA | NoADD        | Second_Forth | 201 |   8 | 1187 | 0.023000 | 0.633 | ns |\n",
       "| 25 | GPA | NoADD        | Second_only  | 201 |  13 | 2051 | 0.000585 | 0.016 | *  |\n",
       "| 26 | GPA | Second_Fifth | Second_Forth |   9 |   8 |   43 | 0.541000 | 1.000 | ns |\n",
       "| 27 | GPA | Second_Fifth | Second_only  |   9 |  13 |   82 | 0.126000 | 1.000 | ns |\n",
       "| 28 | GPA | Second_Forth | Second_only  |   8 |  13 |   66 | 0.336000 | 1.000 | ns |\n",
       "\n"
      ],
      "text/plain": [
       "   .y. group1       group2       n1  n2  statistic p        p.adj p.adj.signif\n",
       "1  GPA All_three    Fifth_only     8  14   51      0.764000 1.000 ns          \n",
       "2  GPA All_three    Forth_Fifth    8   7   11      0.054000 1.000 ns          \n",
       "3  GPA All_three    Forth_only     8  12   23      0.057000 1.000 ns          \n",
       "4  GPA All_three    NoADD          8 201  213      0.000431 0.012 *           \n",
       "5  GPA All_three    Second_Fifth   8   9    9      0.008000 0.221 ns          \n",
       "6  GPA All_three    Second_Forth   8   8   17      0.130000 1.000 ns          \n",
       "7  GPA All_three    Second_only    8  13   39      0.374000 1.000 ns          \n",
       "8  GPA Fifth_only   Forth_Fifth   14   7   38      0.443000 1.000 ns          \n",
       "9  GPA Fifth_only   Forth_only    14  12   57      0.176000 1.000 ns          \n",
       "10 GPA Fifth_only   NoADD         14 201  590      0.000286 0.008 **          \n",
       "11 GPA Fifth_only   Second_Fifth  14   9   37      0.109000 1.000 ns          \n",
       "12 GPA Fifth_only   Second_Forth  14   8   40      0.297000 1.000 ns          \n",
       "13 GPA Fifth_only   Second_only   14  13   94      0.905000 1.000 ns          \n",
       "14 GPA Forth_Fifth  Forth_only     7  12   36      0.650000 1.000 ns          \n",
       "15 GPA Forth_Fifth  NoADD          7 201  288      0.008000 0.225 ns          \n",
       "16 GPA Forth_Fifth  Second_Fifth   7   9   19      0.210000 1.000 ns          \n",
       "17 GPA Forth_Fifth  Second_Forth   7   8   23      0.613000 1.000 ns          \n",
       "18 GPA Forth_Fifth  Second_only    7  13   54      0.536000 1.000 ns          \n",
       "19 GPA Forth_only   NoADD         12 201  745      0.026000 0.739 ns          \n",
       "20 GPA Forth_only   Second_Fifth  12   9   49      0.754000 1.000 ns          \n",
       "21 GPA Forth_only   Second_Forth  12   8   51      0.851000 1.000 ns          \n",
       "22 GPA Forth_only   Second_only   12  13   99      0.270000 1.000 ns          \n",
       "23 GPA NoADD        Second_Fifth 201   9 1232      0.067000 1.000 ns          \n",
       "24 GPA NoADD        Second_Forth 201   8 1187      0.023000 0.633 ns          \n",
       "25 GPA NoADD        Second_only  201  13 2051      0.000585 0.016 *           \n",
       "26 GPA Second_Fifth Second_Forth   9   8   43      0.541000 1.000 ns          \n",
       "27 GPA Second_Fifth Second_only    9  13   82      0.126000 1.000 ns          \n",
       "28 GPA Second_Forth Second_only    8  13   66      0.336000 1.000 ns          "
      ]
     },
     "metadata": {},
     "output_type": "display_data"
    }
   ],
   "source": [
    "ADD_data %>% wilcox_test(GPA~Years, p.adjust.method = \"bonferroni\")"
   ]
  },
  {
   "cell_type": "code",
   "execution_count": 9,
   "metadata": {
    "scrolled": true
   },
   "outputs": [
    {
     "data": {
      "text/html": [
       "<table class=\"dataframe\">\n",
       "<caption>A rstatix_test: 28 × 9</caption>\n",
       "<thead>\n",
       "\t<tr><th></th><th scope=col>term</th><th scope=col>group1</th><th scope=col>group2</th><th scope=col>null.value</th><th scope=col>estimate</th><th scope=col>conf.low</th><th scope=col>conf.high</th><th scope=col>p.adj</th><th scope=col>p.adj.signif</th></tr>\n",
       "\t<tr><th></th><th scope=col>&lt;chr&gt;</th><th scope=col>&lt;chr&gt;</th><th scope=col>&lt;chr&gt;</th><th scope=col>&lt;dbl&gt;</th><th scope=col>&lt;dbl&gt;</th><th scope=col>&lt;dbl&gt;</th><th scope=col>&lt;dbl&gt;</th><th scope=col>&lt;dbl&gt;</th><th scope=col>&lt;chr&gt;</th></tr>\n",
       "</thead>\n",
       "<tbody>\n",
       "\t<tr><th scope=row>1</th><td>Years</td><td>All_three   </td><td>Fifth_only  </td><td>0</td><td> 0.29690064</td><td>-0.8943890</td><td> 1.4881903</td><td>0.995000</td><td>ns </td></tr>\n",
       "\t<tr><th scope=row>2</th><td>Years</td><td>All_three   </td><td>Forth_Fifth </td><td>0</td><td> 0.42495405</td><td>-0.9661725</td><td> 1.8160806</td><td>0.983000</td><td>ns </td></tr>\n",
       "\t<tr><th scope=row>3</th><td>Years</td><td>All_three   </td><td>Forth_only  </td><td>0</td><td> 0.67665372</td><td>-0.5502046</td><td> 1.9035120</td><td>0.697000</td><td>ns </td></tr>\n",
       "\t<tr><th scope=row>4</th><td>Years</td><td>All_three   </td><td>NoADD       </td><td>0</td><td> 1.24218650</td><td> 0.2731388</td><td> 2.2112342</td><td>0.002850</td><td>** </td></tr>\n",
       "\t<tr><th scope=row>5</th><td>Years</td><td>All_three   </td><td>Second_Fifth</td><td>0</td><td> 0.74314908</td><td>-0.5629414</td><td> 2.0492395</td><td>0.662000</td><td>ns </td></tr>\n",
       "\t<tr><th scope=row>6</th><td>Years</td><td>All_three   </td><td>Second_Forth</td><td>0</td><td> 0.54904077</td><td>-0.7949152</td><td> 1.8929967</td><td>0.916000</td><td>ns </td></tr>\n",
       "\t<tr><th scope=row>7</th><td>Years</td><td>All_three   </td><td>Second_only </td><td>0</td><td> 0.17865613</td><td>-1.0291800</td><td> 1.3864923</td><td>1.000000</td><td>ns </td></tr>\n",
       "\t<tr><th scope=row>8</th><td>Years</td><td>Fifth_only  </td><td>Forth_Fifth </td><td>0</td><td> 0.12805341</td><td>-1.1162080</td><td> 1.3723149</td><td>1.000000</td><td>ns </td></tr>\n",
       "\t<tr><th scope=row>9</th><td>Years</td><td>Fifth_only  </td><td>Forth_only  </td><td>0</td><td> 0.37975308</td><td>-0.6776658</td><td> 1.4371720</td><td>0.957000</td><td>ns </td></tr>\n",
       "\t<tr><th scope=row>10</th><td>Years</td><td>Fifth_only  </td><td>NoADD       </td><td>0</td><td> 0.94528586</td><td> 0.2023143</td><td> 1.6882575</td><td>0.003180</td><td>** </td></tr>\n",
       "\t<tr><th scope=row>11</th><td>Years</td><td>Fifth_only  </td><td>Second_Fifth</td><td>0</td><td> 0.44624844</td><td>-0.7021529</td><td> 1.5946497</td><td>0.935000</td><td>ns </td></tr>\n",
       "\t<tr><th scope=row>12</th><td>Years</td><td>Fifth_only  </td><td>Second_Forth</td><td>0</td><td> 0.25214013</td><td>-0.9391495</td><td> 1.4434298</td><td>0.998000</td><td>ns </td></tr>\n",
       "\t<tr><th scope=row>13</th><td>Years</td><td>Fifth_only  </td><td>Second_only </td><td>0</td><td>-0.11824450</td><td>-1.1535326</td><td> 0.9170436</td><td>1.000000</td><td>ns </td></tr>\n",
       "\t<tr><th scope=row>14</th><td>Years</td><td>Forth_Fifth </td><td>Forth_only  </td><td>0</td><td> 0.25169968</td><td>-1.0266574</td><td> 1.5300568</td><td>0.999000</td><td>ns </td></tr>\n",
       "\t<tr><th scope=row>15</th><td>Years</td><td>Forth_Fifth </td><td>NoADD       </td><td>0</td><td> 0.81723245</td><td>-0.2162418</td><td> 1.8507067</td><td>0.238000</td><td>ns </td></tr>\n",
       "\t<tr><th scope=row>16</th><td>Years</td><td>Forth_Fifth </td><td>Second_Fifth</td><td>0</td><td> 0.31819503</td><td>-1.0363853</td><td> 1.6727753</td><td>0.996000</td><td>ns </td></tr>\n",
       "\t<tr><th scope=row>17</th><td>Years</td><td>Forth_Fifth </td><td>Second_Forth</td><td>0</td><td> 0.12408673</td><td>-1.2670399</td><td> 1.5152133</td><td>1.000000</td><td>ns </td></tr>\n",
       "\t<tr><th scope=row>18</th><td>Years</td><td>Forth_Fifth </td><td>Second_only </td><td>0</td><td>-0.24629791</td><td>-1.5064105</td><td> 1.0138146</td><td>0.999000</td><td>ns </td></tr>\n",
       "\t<tr><th scope=row>19</th><td>Years</td><td>Forth_only  </td><td>NoADD       </td><td>0</td><td> 0.56553278</td><td>-0.2332270</td><td> 1.3642925</td><td>0.378000</td><td>ns </td></tr>\n",
       "\t<tr><th scope=row>20</th><td>Years</td><td>Forth_only  </td><td>Second_Fifth</td><td>0</td><td> 0.06649536</td><td>-1.1187624</td><td> 1.2517531</td><td>1.000000</td><td>ns </td></tr>\n",
       "\t<tr><th scope=row>21</th><td>Years</td><td>Forth_only  </td><td>Second_Forth</td><td>0</td><td>-0.12761295</td><td>-1.3544713</td><td> 1.0992454</td><td>1.000000</td><td>ns </td></tr>\n",
       "\t<tr><th scope=row>22</th><td>Years</td><td>Forth_only  </td><td>Second_only </td><td>0</td><td>-0.49799759</td><td>-1.5740235</td><td> 0.5780283</td><td>0.850000</td><td>ns </td></tr>\n",
       "\t<tr><th scope=row>23</th><td>Years</td><td>NoADD       </td><td>Second_Fifth</td><td>0</td><td>-0.49903742</td><td>-1.4148475</td><td> 0.4167726</td><td>0.710000</td><td>ns </td></tr>\n",
       "\t<tr><th scope=row>24</th><td>Years</td><td>NoADD       </td><td>Second_Forth</td><td>0</td><td>-0.69314573</td><td>-1.6621934</td><td> 0.2759020</td><td>0.364000</td><td>ns </td></tr>\n",
       "\t<tr><th scope=row>25</th><td>Years</td><td>NoADD       </td><td>Second_only </td><td>0</td><td>-1.06353036</td><td>-1.8327533</td><td>-0.2943074</td><td>0.000856</td><td>***</td></tr>\n",
       "\t<tr><th scope=row>26</th><td>Years</td><td>Second_Fifth</td><td>Second_Forth</td><td>0</td><td>-0.19410830</td><td>-1.5001987</td><td> 1.1119821</td><td>1.000000</td><td>ns </td></tr>\n",
       "\t<tr><th scope=row>27</th><td>Years</td><td>Second_Fifth</td><td>Second_only </td><td>0</td><td>-0.56449294</td><td>-1.7300497</td><td> 0.6010639</td><td>0.818000</td><td>ns </td></tr>\n",
       "\t<tr><th scope=row>28</th><td>Years</td><td>Second_Forth</td><td>Second_only </td><td>0</td><td>-0.37038464</td><td>-1.5782208</td><td> 0.8374515</td><td>0.982000</td><td>ns </td></tr>\n",
       "</tbody>\n",
       "</table>\n"
      ],
      "text/latex": [
       "A rstatix\\_test: 28 × 9\n",
       "\\begin{tabular}{r|lllllllll}\n",
       "  & term & group1 & group2 & null.value & estimate & conf.low & conf.high & p.adj & p.adj.signif\\\\\n",
       "  & <chr> & <chr> & <chr> & <dbl> & <dbl> & <dbl> & <dbl> & <dbl> & <chr>\\\\\n",
       "\\hline\n",
       "\t1 & Years & All\\_three    & Fifth\\_only   & 0 &  0.29690064 & -0.8943890 &  1.4881903 & 0.995000 & ns \\\\\n",
       "\t2 & Years & All\\_three    & Forth\\_Fifth  & 0 &  0.42495405 & -0.9661725 &  1.8160806 & 0.983000 & ns \\\\\n",
       "\t3 & Years & All\\_three    & Forth\\_only   & 0 &  0.67665372 & -0.5502046 &  1.9035120 & 0.697000 & ns \\\\\n",
       "\t4 & Years & All\\_three    & NoADD        & 0 &  1.24218650 &  0.2731388 &  2.2112342 & 0.002850 & ** \\\\\n",
       "\t5 & Years & All\\_three    & Second\\_Fifth & 0 &  0.74314908 & -0.5629414 &  2.0492395 & 0.662000 & ns \\\\\n",
       "\t6 & Years & All\\_three    & Second\\_Forth & 0 &  0.54904077 & -0.7949152 &  1.8929967 & 0.916000 & ns \\\\\n",
       "\t7 & Years & All\\_three    & Second\\_only  & 0 &  0.17865613 & -1.0291800 &  1.3864923 & 1.000000 & ns \\\\\n",
       "\t8 & Years & Fifth\\_only   & Forth\\_Fifth  & 0 &  0.12805341 & -1.1162080 &  1.3723149 & 1.000000 & ns \\\\\n",
       "\t9 & Years & Fifth\\_only   & Forth\\_only   & 0 &  0.37975308 & -0.6776658 &  1.4371720 & 0.957000 & ns \\\\\n",
       "\t10 & Years & Fifth\\_only   & NoADD        & 0 &  0.94528586 &  0.2023143 &  1.6882575 & 0.003180 & ** \\\\\n",
       "\t11 & Years & Fifth\\_only   & Second\\_Fifth & 0 &  0.44624844 & -0.7021529 &  1.5946497 & 0.935000 & ns \\\\\n",
       "\t12 & Years & Fifth\\_only   & Second\\_Forth & 0 &  0.25214013 & -0.9391495 &  1.4434298 & 0.998000 & ns \\\\\n",
       "\t13 & Years & Fifth\\_only   & Second\\_only  & 0 & -0.11824450 & -1.1535326 &  0.9170436 & 1.000000 & ns \\\\\n",
       "\t14 & Years & Forth\\_Fifth  & Forth\\_only   & 0 &  0.25169968 & -1.0266574 &  1.5300568 & 0.999000 & ns \\\\\n",
       "\t15 & Years & Forth\\_Fifth  & NoADD        & 0 &  0.81723245 & -0.2162418 &  1.8507067 & 0.238000 & ns \\\\\n",
       "\t16 & Years & Forth\\_Fifth  & Second\\_Fifth & 0 &  0.31819503 & -1.0363853 &  1.6727753 & 0.996000 & ns \\\\\n",
       "\t17 & Years & Forth\\_Fifth  & Second\\_Forth & 0 &  0.12408673 & -1.2670399 &  1.5152133 & 1.000000 & ns \\\\\n",
       "\t18 & Years & Forth\\_Fifth  & Second\\_only  & 0 & -0.24629791 & -1.5064105 &  1.0138146 & 0.999000 & ns \\\\\n",
       "\t19 & Years & Forth\\_only   & NoADD        & 0 &  0.56553278 & -0.2332270 &  1.3642925 & 0.378000 & ns \\\\\n",
       "\t20 & Years & Forth\\_only   & Second\\_Fifth & 0 &  0.06649536 & -1.1187624 &  1.2517531 & 1.000000 & ns \\\\\n",
       "\t21 & Years & Forth\\_only   & Second\\_Forth & 0 & -0.12761295 & -1.3544713 &  1.0992454 & 1.000000 & ns \\\\\n",
       "\t22 & Years & Forth\\_only   & Second\\_only  & 0 & -0.49799759 & -1.5740235 &  0.5780283 & 0.850000 & ns \\\\\n",
       "\t23 & Years & NoADD        & Second\\_Fifth & 0 & -0.49903742 & -1.4148475 &  0.4167726 & 0.710000 & ns \\\\\n",
       "\t24 & Years & NoADD        & Second\\_Forth & 0 & -0.69314573 & -1.6621934 &  0.2759020 & 0.364000 & ns \\\\\n",
       "\t25 & Years & NoADD        & Second\\_only  & 0 & -1.06353036 & -1.8327533 & -0.2943074 & 0.000856 & ***\\\\\n",
       "\t26 & Years & Second\\_Fifth & Second\\_Forth & 0 & -0.19410830 & -1.5001987 &  1.1119821 & 1.000000 & ns \\\\\n",
       "\t27 & Years & Second\\_Fifth & Second\\_only  & 0 & -0.56449294 & -1.7300497 &  0.6010639 & 0.818000 & ns \\\\\n",
       "\t28 & Years & Second\\_Forth & Second\\_only  & 0 & -0.37038464 & -1.5782208 &  0.8374515 & 0.982000 & ns \\\\\n",
       "\\end{tabular}\n"
      ],
      "text/markdown": [
       "\n",
       "A rstatix_test: 28 × 9\n",
       "\n",
       "| <!--/--> | term &lt;chr&gt; | group1 &lt;chr&gt; | group2 &lt;chr&gt; | null.value &lt;dbl&gt; | estimate &lt;dbl&gt; | conf.low &lt;dbl&gt; | conf.high &lt;dbl&gt; | p.adj &lt;dbl&gt; | p.adj.signif &lt;chr&gt; |\n",
       "|---|---|---|---|---|---|---|---|---|---|\n",
       "| 1 | Years | All_three    | Fifth_only   | 0 |  0.29690064 | -0.8943890 |  1.4881903 | 0.995000 | ns  |\n",
       "| 2 | Years | All_three    | Forth_Fifth  | 0 |  0.42495405 | -0.9661725 |  1.8160806 | 0.983000 | ns  |\n",
       "| 3 | Years | All_three    | Forth_only   | 0 |  0.67665372 | -0.5502046 |  1.9035120 | 0.697000 | ns  |\n",
       "| 4 | Years | All_three    | NoADD        | 0 |  1.24218650 |  0.2731388 |  2.2112342 | 0.002850 | **  |\n",
       "| 5 | Years | All_three    | Second_Fifth | 0 |  0.74314908 | -0.5629414 |  2.0492395 | 0.662000 | ns  |\n",
       "| 6 | Years | All_three    | Second_Forth | 0 |  0.54904077 | -0.7949152 |  1.8929967 | 0.916000 | ns  |\n",
       "| 7 | Years | All_three    | Second_only  | 0 |  0.17865613 | -1.0291800 |  1.3864923 | 1.000000 | ns  |\n",
       "| 8 | Years | Fifth_only   | Forth_Fifth  | 0 |  0.12805341 | -1.1162080 |  1.3723149 | 1.000000 | ns  |\n",
       "| 9 | Years | Fifth_only   | Forth_only   | 0 |  0.37975308 | -0.6776658 |  1.4371720 | 0.957000 | ns  |\n",
       "| 10 | Years | Fifth_only   | NoADD        | 0 |  0.94528586 |  0.2023143 |  1.6882575 | 0.003180 | **  |\n",
       "| 11 | Years | Fifth_only   | Second_Fifth | 0 |  0.44624844 | -0.7021529 |  1.5946497 | 0.935000 | ns  |\n",
       "| 12 | Years | Fifth_only   | Second_Forth | 0 |  0.25214013 | -0.9391495 |  1.4434298 | 0.998000 | ns  |\n",
       "| 13 | Years | Fifth_only   | Second_only  | 0 | -0.11824450 | -1.1535326 |  0.9170436 | 1.000000 | ns  |\n",
       "| 14 | Years | Forth_Fifth  | Forth_only   | 0 |  0.25169968 | -1.0266574 |  1.5300568 | 0.999000 | ns  |\n",
       "| 15 | Years | Forth_Fifth  | NoADD        | 0 |  0.81723245 | -0.2162418 |  1.8507067 | 0.238000 | ns  |\n",
       "| 16 | Years | Forth_Fifth  | Second_Fifth | 0 |  0.31819503 | -1.0363853 |  1.6727753 | 0.996000 | ns  |\n",
       "| 17 | Years | Forth_Fifth  | Second_Forth | 0 |  0.12408673 | -1.2670399 |  1.5152133 | 1.000000 | ns  |\n",
       "| 18 | Years | Forth_Fifth  | Second_only  | 0 | -0.24629791 | -1.5064105 |  1.0138146 | 0.999000 | ns  |\n",
       "| 19 | Years | Forth_only   | NoADD        | 0 |  0.56553278 | -0.2332270 |  1.3642925 | 0.378000 | ns  |\n",
       "| 20 | Years | Forth_only   | Second_Fifth | 0 |  0.06649536 | -1.1187624 |  1.2517531 | 1.000000 | ns  |\n",
       "| 21 | Years | Forth_only   | Second_Forth | 0 | -0.12761295 | -1.3544713 |  1.0992454 | 1.000000 | ns  |\n",
       "| 22 | Years | Forth_only   | Second_only  | 0 | -0.49799759 | -1.5740235 |  0.5780283 | 0.850000 | ns  |\n",
       "| 23 | Years | NoADD        | Second_Fifth | 0 | -0.49903742 | -1.4148475 |  0.4167726 | 0.710000 | ns  |\n",
       "| 24 | Years | NoADD        | Second_Forth | 0 | -0.69314573 | -1.6621934 |  0.2759020 | 0.364000 | ns  |\n",
       "| 25 | Years | NoADD        | Second_only  | 0 | -1.06353036 | -1.8327533 | -0.2943074 | 0.000856 | *** |\n",
       "| 26 | Years | Second_Fifth | Second_Forth | 0 | -0.19410830 | -1.5001987 |  1.1119821 | 1.000000 | ns  |\n",
       "| 27 | Years | Second_Fifth | Second_only  | 0 | -0.56449294 | -1.7300497 |  0.6010639 | 0.818000 | ns  |\n",
       "| 28 | Years | Second_Forth | Second_only  | 0 | -0.37038464 | -1.5782208 |  0.8374515 | 0.982000 | ns  |\n",
       "\n"
      ],
      "text/plain": [
       "   term  group1       group2       null.value estimate    conf.low   conf.high \n",
       "1  Years All_three    Fifth_only   0           0.29690064 -0.8943890  1.4881903\n",
       "2  Years All_three    Forth_Fifth  0           0.42495405 -0.9661725  1.8160806\n",
       "3  Years All_three    Forth_only   0           0.67665372 -0.5502046  1.9035120\n",
       "4  Years All_three    NoADD        0           1.24218650  0.2731388  2.2112342\n",
       "5  Years All_three    Second_Fifth 0           0.74314908 -0.5629414  2.0492395\n",
       "6  Years All_three    Second_Forth 0           0.54904077 -0.7949152  1.8929967\n",
       "7  Years All_three    Second_only  0           0.17865613 -1.0291800  1.3864923\n",
       "8  Years Fifth_only   Forth_Fifth  0           0.12805341 -1.1162080  1.3723149\n",
       "9  Years Fifth_only   Forth_only   0           0.37975308 -0.6776658  1.4371720\n",
       "10 Years Fifth_only   NoADD        0           0.94528586  0.2023143  1.6882575\n",
       "11 Years Fifth_only   Second_Fifth 0           0.44624844 -0.7021529  1.5946497\n",
       "12 Years Fifth_only   Second_Forth 0           0.25214013 -0.9391495  1.4434298\n",
       "13 Years Fifth_only   Second_only  0          -0.11824450 -1.1535326  0.9170436\n",
       "14 Years Forth_Fifth  Forth_only   0           0.25169968 -1.0266574  1.5300568\n",
       "15 Years Forth_Fifth  NoADD        0           0.81723245 -0.2162418  1.8507067\n",
       "16 Years Forth_Fifth  Second_Fifth 0           0.31819503 -1.0363853  1.6727753\n",
       "17 Years Forth_Fifth  Second_Forth 0           0.12408673 -1.2670399  1.5152133\n",
       "18 Years Forth_Fifth  Second_only  0          -0.24629791 -1.5064105  1.0138146\n",
       "19 Years Forth_only   NoADD        0           0.56553278 -0.2332270  1.3642925\n",
       "20 Years Forth_only   Second_Fifth 0           0.06649536 -1.1187624  1.2517531\n",
       "21 Years Forth_only   Second_Forth 0          -0.12761295 -1.3544713  1.0992454\n",
       "22 Years Forth_only   Second_only  0          -0.49799759 -1.5740235  0.5780283\n",
       "23 Years NoADD        Second_Fifth 0          -0.49903742 -1.4148475  0.4167726\n",
       "24 Years NoADD        Second_Forth 0          -0.69314573 -1.6621934  0.2759020\n",
       "25 Years NoADD        Second_only  0          -1.06353036 -1.8327533 -0.2943074\n",
       "26 Years Second_Fifth Second_Forth 0          -0.19410830 -1.5001987  1.1119821\n",
       "27 Years Second_Fifth Second_only  0          -0.56449294 -1.7300497  0.6010639\n",
       "28 Years Second_Forth Second_only  0          -0.37038464 -1.5782208  0.8374515\n",
       "   p.adj    p.adj.signif\n",
       "1  0.995000 ns          \n",
       "2  0.983000 ns          \n",
       "3  0.697000 ns          \n",
       "4  0.002850 **          \n",
       "5  0.662000 ns          \n",
       "6  0.916000 ns          \n",
       "7  1.000000 ns          \n",
       "8  1.000000 ns          \n",
       "9  0.957000 ns          \n",
       "10 0.003180 **          \n",
       "11 0.935000 ns          \n",
       "12 0.998000 ns          \n",
       "13 1.000000 ns          \n",
       "14 0.999000 ns          \n",
       "15 0.238000 ns          \n",
       "16 0.996000 ns          \n",
       "17 1.000000 ns          \n",
       "18 0.999000 ns          \n",
       "19 0.378000 ns          \n",
       "20 1.000000 ns          \n",
       "21 1.000000 ns          \n",
       "22 0.850000 ns          \n",
       "23 0.710000 ns          \n",
       "24 0.364000 ns          \n",
       "25 0.000856 ***         \n",
       "26 1.000000 ns          \n",
       "27 0.818000 ns          \n",
       "28 0.982000 ns          "
      ]
     },
     "metadata": {},
     "output_type": "display_data"
    }
   ],
   "source": [
    "ADD_data %>% tukey_hsd(GPA~Years)"
   ]
  },
  {
   "cell_type": "code",
   "execution_count": 12,
   "metadata": {},
   "outputs": [],
   "source": [
    "pair_tested = ADD_data %>% tukey_hsd(GPA~Years)"
   ]
  },
  {
   "cell_type": "code",
   "execution_count": 17,
   "metadata": {},
   "outputs": [],
   "source": [
    "boxpl = ggboxplot(ADD_data, x= \"Years\", y = \"GPA\", color = \"Years\")"
   ]
  },
  {
   "cell_type": "code",
   "execution_count": 18,
   "metadata": {},
   "outputs": [],
   "source": [
    "pair_tested = pair_tested %>% add_xy_position(x = \"Years\")"
   ]
  },
  {
   "cell_type": "code",
   "execution_count": 20,
   "metadata": {},
   "outputs": [
    {
     "data": {
      "image/png": "[encoded data removed]",
      "text/plain": [
       "plot without title"
      ]
     },
     "metadata": {
      "image/png": {
       "height": 420,
       "width": 420
      }
     },
     "output_type": "display_data"
    }
   ],
   "source": [
    "boxpl + stat_pvalue_manual(pair_tested, hide.ns = TRUE)"
   ]
  },
  {
   "cell_type": "markdown",
   "metadata": {},
   "source": [
    "# Answer:\n",
    "#### The conclusion that one can draw from comparison of variances and two by two comparison of tukey test, is that having or not having ADD effects the GPA of the students, but for how many of the Years of education one of diagnosed with ADD is not a effecting factor, atleast as the tukey test results show, since only significancy observable is between NOADD group and other ADD diagnosed groups and there is not a significant difference between the years in which students were diagnosed."
   ]
  },
  {
   "cell_type": "code",
   "execution_count": 75,
   "metadata": {
    "scrolled": true
   },
   "outputs": [
    {
     "data": {
      "text/html": [
       "<table class=\"dataframe\">\n",
       "<caption>A rstatix_test: 28 × 7</caption>\n",
       "<thead>\n",
       "\t<tr><th></th><th scope=col>.y.</th><th scope=col>group1</th><th scope=col>group2</th><th scope=col>effsize</th><th scope=col>n1</th><th scope=col>n2</th><th scope=col>magnitude</th></tr>\n",
       "\t<tr><th></th><th scope=col>&lt;chr&gt;</th><th scope=col>&lt;chr&gt;</th><th scope=col>&lt;chr&gt;</th><th scope=col>&lt;dbl&gt;</th><th scope=col>&lt;int&gt;</th><th scope=col>&lt;int&gt;</th><th scope=col>&lt;ord&gt;</th></tr>\n",
       "</thead>\n",
       "<tbody>\n",
       "\t<tr><th scope=row>1</th><td>GPA</td><td>All_three   </td><td>Fifth_only  </td><td>-0.4022278</td><td>  6</td><td> 14</td><td>small     </td></tr>\n",
       "\t<tr><th scope=row>2</th><td>GPA</td><td>All_three   </td><td>Forth_Fifth </td><td>-1.4925824</td><td>  6</td><td>  7</td><td>large     </td></tr>\n",
       "\t<tr><th scope=row>3</th><td>GPA</td><td>All_three   </td><td>Forth_only  </td><td>-1.2525389</td><td>  6</td><td> 12</td><td>large     </td></tr>\n",
       "\t<tr><th scope=row>4</th><td>GPA</td><td>All_three   </td><td>NoADD       </td><td>-1.7697762</td><td>  6</td><td>201</td><td>large     </td></tr>\n",
       "\t<tr><th scope=row>5</th><td>GPA</td><td>All_three   </td><td>Second_Fifth</td><td>-1.8087532</td><td>  6</td><td>  9</td><td>large     </td></tr>\n",
       "\t<tr><th scope=row>6</th><td>GPA</td><td>All_three   </td><td>Second_Forth</td><td>-1.1630532</td><td>  6</td><td>  8</td><td>large     </td></tr>\n",
       "\t<tr><th scope=row>7</th><td>GPA</td><td>All_three   </td><td>Second_only </td><td>-0.1515164</td><td>  6</td><td> 13</td><td>negligible</td></tr>\n",
       "\t<tr><th scope=row>8</th><td>GPA</td><td>Fifth_only  </td><td>Forth_Fifth </td><td>-0.2161828</td><td> 14</td><td>  7</td><td>small     </td></tr>\n",
       "\t<tr><th scope=row>9</th><td>GPA</td><td>Fifth_only  </td><td>Forth_only  </td><td>-0.5229529</td><td> 14</td><td> 12</td><td>moderate  </td></tr>\n",
       "\t<tr><th scope=row>10</th><td>GPA</td><td>Fifth_only  </td><td>NoADD       </td><td>-1.1052304</td><td> 14</td><td>201</td><td>large     </td></tr>\n",
       "\t<tr><th scope=row>11</th><td>GPA</td><td>Fifth_only  </td><td>Second_Fifth</td><td>-0.6785591</td><td> 14</td><td>  9</td><td>moderate  </td></tr>\n",
       "\t<tr><th scope=row>12</th><td>GPA</td><td>Fifth_only  </td><td>Second_Forth</td><td>-0.3707090</td><td> 14</td><td>  8</td><td>small     </td></tr>\n",
       "\t<tr><th scope=row>13</th><td>GPA</td><td>Fifth_only  </td><td>Second_only </td><td> 0.1341055</td><td> 14</td><td> 13</td><td>negligible</td></tr>\n",
       "\t<tr><th scope=row>14</th><td>GPA</td><td>Forth_Fifth </td><td>Forth_only  </td><td>-0.4806783</td><td>  7</td><td> 12</td><td>small     </td></tr>\n",
       "\t<tr><th scope=row>15</th><td>GPA</td><td>Forth_Fifth </td><td>NoADD       </td><td>-1.1815694</td><td>  7</td><td>201</td><td>large     </td></tr>\n",
       "\t<tr><th scope=row>16</th><td>GPA</td><td>Forth_Fifth </td><td>Second_Fifth</td><td>-0.7513276</td><td>  7</td><td>  9</td><td>moderate  </td></tr>\n",
       "\t<tr><th scope=row>17</th><td>GPA</td><td>Forth_Fifth </td><td>Second_Forth</td><td>-0.2711142</td><td>  7</td><td>  8</td><td>small     </td></tr>\n",
       "\t<tr><th scope=row>18</th><td>GPA</td><td>Forth_Fifth </td><td>Second_only </td><td> 0.3401463</td><td>  7</td><td> 13</td><td>small     </td></tr>\n",
       "\t<tr><th scope=row>19</th><td>GPA</td><td>Forth_only  </td><td>NoADD       </td><td>-0.6988608</td><td> 12</td><td>201</td><td>moderate  </td></tr>\n",
       "\t<tr><th scope=row>20</th><td>GPA</td><td>Forth_only  </td><td>Second_Fifth</td><td>-0.1114747</td><td> 12</td><td>  9</td><td>negligible</td></tr>\n",
       "\t<tr><th scope=row>21</th><td>GPA</td><td>Forth_only  </td><td>Second_Forth</td><td> 0.2054161</td><td> 12</td><td>  8</td><td>small     </td></tr>\n",
       "\t<tr><th scope=row>22</th><td>GPA</td><td>Forth_only  </td><td>Second_only </td><td> 0.5948934</td><td> 12</td><td> 13</td><td>moderate  </td></tr>\n",
       "\t<tr><th scope=row>23</th><td>GPA</td><td>NoADD       </td><td>Second_Fifth</td><td> 0.6668629</td><td>201</td><td>  9</td><td>moderate  </td></tr>\n",
       "\t<tr><th scope=row>24</th><td>GPA</td><td>NoADD       </td><td>Second_Forth</td><td> 0.9023015</td><td>201</td><td>  8</td><td>large     </td></tr>\n",
       "\t<tr><th scope=row>25</th><td>GPA</td><td>NoADD       </td><td>Second_only </td><td> 1.1179843</td><td>201</td><td> 13</td><td>large     </td></tr>\n",
       "\t<tr><th scope=row>26</th><td>GPA</td><td>Second_Fifth</td><td>Second_Forth</td><td> 0.3597631</td><td>  9</td><td>  8</td><td>small     </td></tr>\n",
       "\t<tr><th scope=row>27</th><td>GPA</td><td>Second_Fifth</td><td>Second_only </td><td> 0.7251769</td><td>  9</td><td> 13</td><td>moderate  </td></tr>\n",
       "\t<tr><th scope=row>28</th><td>GPA</td><td>Second_Forth</td><td>Second_only </td><td> 0.4644126</td><td>  8</td><td> 13</td><td>small     </td></tr>\n",
       "</tbody>\n",
       "</table>\n"
      ],
      "text/latex": [
       "A rstatix\\_test: 28 × 7\n",
       "\\begin{tabular}{r|lllllll}\n",
       "  & .y. & group1 & group2 & effsize & n1 & n2 & magnitude\\\\\n",
       "  & <chr> & <chr> & <chr> & <dbl> & <int> & <int> & <ord>\\\\\n",
       "\\hline\n",
       "\t1 & GPA & All\\_three    & Fifth\\_only   & -0.4022278 &   6 &  14 & small     \\\\\n",
       "\t2 & GPA & All\\_three    & Forth\\_Fifth  & -1.4925824 &   6 &   7 & large     \\\\\n",
       "\t3 & GPA & All\\_three    & Forth\\_only   & -1.2525389 &   6 &  12 & large     \\\\\n",
       "\t4 & GPA & All\\_three    & NoADD        & -1.7697762 &   6 & 201 & large     \\\\\n",
       "\t5 & GPA & All\\_three    & Second\\_Fifth & -1.8087532 &   6 &   9 & large     \\\\\n",
       "\t6 & GPA & All\\_three    & Second\\_Forth & -1.1630532 &   6 &   8 & large     \\\\\n",
       "\t7 & GPA & All\\_three    & Second\\_only  & -0.1515164 &   6 &  13 & negligible\\\\\n",
       "\t8 & GPA & Fifth\\_only   & Forth\\_Fifth  & -0.2161828 &  14 &   7 & small     \\\\\n",
       "\t9 & GPA & Fifth\\_only   & Forth\\_only   & -0.5229529 &  14 &  12 & moderate  \\\\\n",
       "\t10 & GPA & Fifth\\_only   & NoADD        & -1.1052304 &  14 & 201 & large     \\\\\n",
       "\t11 & GPA & Fifth\\_only   & Second\\_Fifth & -0.6785591 &  14 &   9 & moderate  \\\\\n",
       "\t12 & GPA & Fifth\\_only   & Second\\_Forth & -0.3707090 &  14 &   8 & small     \\\\\n",
       "\t13 & GPA & Fifth\\_only   & Second\\_only  &  0.1341055 &  14 &  13 & negligible\\\\\n",
       "\t14 & GPA & Forth\\_Fifth  & Forth\\_only   & -0.4806783 &   7 &  12 & small     \\\\\n",
       "\t15 & GPA & Forth\\_Fifth  & NoADD        & -1.1815694 &   7 & 201 & large     \\\\\n",
       "\t16 & GPA & Forth\\_Fifth  & Second\\_Fifth & -0.7513276 &   7 &   9 & moderate  \\\\\n",
       "\t17 & GPA & Forth\\_Fifth  & Second\\_Forth & -0.2711142 &   7 &   8 & small     \\\\\n",
       "\t18 & GPA & Forth\\_Fifth  & Second\\_only  &  0.3401463 &   7 &  13 & small     \\\\\n",
       "\t19 & GPA & Forth\\_only   & NoADD        & -0.6988608 &  12 & 201 & moderate  \\\\\n",
       "\t20 & GPA & Forth\\_only   & Second\\_Fifth & -0.1114747 &  12 &   9 & negligible\\\\\n",
       "\t21 & GPA & Forth\\_only   & Second\\_Forth &  0.2054161 &  12 &   8 & small     \\\\\n",
       "\t22 & GPA & Forth\\_only   & Second\\_only  &  0.5948934 &  12 &  13 & moderate  \\\\\n",
       "\t23 & GPA & NoADD        & Second\\_Fifth &  0.6668629 & 201 &   9 & moderate  \\\\\n",
       "\t24 & GPA & NoADD        & Second\\_Forth &  0.9023015 & 201 &   8 & large     \\\\\n",
       "\t25 & GPA & NoADD        & Second\\_only  &  1.1179843 & 201 &  13 & large     \\\\\n",
       "\t26 & GPA & Second\\_Fifth & Second\\_Forth &  0.3597631 &   9 &   8 & small     \\\\\n",
       "\t27 & GPA & Second\\_Fifth & Second\\_only  &  0.7251769 &   9 &  13 & moderate  \\\\\n",
       "\t28 & GPA & Second\\_Forth & Second\\_only  &  0.4644126 &   8 &  13 & small     \\\\\n",
       "\\end{tabular}\n"
      ],
      "text/markdown": [
       "\n",
       "A rstatix_test: 28 × 7\n",
       "\n",
       "| <!--/--> | .y. &lt;chr&gt; | group1 &lt;chr&gt; | group2 &lt;chr&gt; | effsize &lt;dbl&gt; | n1 &lt;int&gt; | n2 &lt;int&gt; | magnitude &lt;ord&gt; |\n",
       "|---|---|---|---|---|---|---|---|\n",
       "| 1 | GPA | All_three    | Fifth_only   | -0.4022278 |   6 |  14 | small      |\n",
       "| 2 | GPA | All_three    | Forth_Fifth  | -1.4925824 |   6 |   7 | large      |\n",
       "| 3 | GPA | All_three    | Forth_only   | -1.2525389 |   6 |  12 | large      |\n",
       "| 4 | GPA | All_three    | NoADD        | -1.7697762 |   6 | 201 | large      |\n",
       "| 5 | GPA | All_three    | Second_Fifth | -1.8087532 |   6 |   9 | large      |\n",
       "| 6 | GPA | All_three    | Second_Forth | -1.1630532 |   6 |   8 | large      |\n",
       "| 7 | GPA | All_three    | Second_only  | -0.1515164 |   6 |  13 | negligible |\n",
       "| 8 | GPA | Fifth_only   | Forth_Fifth  | -0.2161828 |  14 |   7 | small      |\n",
       "| 9 | GPA | Fifth_only   | Forth_only   | -0.5229529 |  14 |  12 | moderate   |\n",
       "| 10 | GPA | Fifth_only   | NoADD        | -1.1052304 |  14 | 201 | large      |\n",
       "| 11 | GPA | Fifth_only   | Second_Fifth | -0.6785591 |  14 |   9 | moderate   |\n",
       "| 12 | GPA | Fifth_only   | Second_Forth | -0.3707090 |  14 |   8 | small      |\n",
       "| 13 | GPA | Fifth_only   | Second_only  |  0.1341055 |  14 |  13 | negligible |\n",
       "| 14 | GPA | Forth_Fifth  | Forth_only   | -0.4806783 |   7 |  12 | small      |\n",
       "| 15 | GPA | Forth_Fifth  | NoADD        | -1.1815694 |   7 | 201 | large      |\n",
       "| 16 | GPA | Forth_Fifth  | Second_Fifth | -0.7513276 |   7 |   9 | moderate   |\n",
       "| 17 | GPA | Forth_Fifth  | Second_Forth | -0.2711142 |   7 |   8 | small      |\n",
       "| 18 | GPA | Forth_Fifth  | Second_only  |  0.3401463 |   7 |  13 | small      |\n",
       "| 19 | GPA | Forth_only   | NoADD        | -0.6988608 |  12 | 201 | moderate   |\n",
       "| 20 | GPA | Forth_only   | Second_Fifth | -0.1114747 |  12 |   9 | negligible |\n",
       "| 21 | GPA | Forth_only   | Second_Forth |  0.2054161 |  12 |   8 | small      |\n",
       "| 22 | GPA | Forth_only   | Second_only  |  0.5948934 |  12 |  13 | moderate   |\n",
       "| 23 | GPA | NoADD        | Second_Fifth |  0.6668629 | 201 |   9 | moderate   |\n",
       "| 24 | GPA | NoADD        | Second_Forth |  0.9023015 | 201 |   8 | large      |\n",
       "| 25 | GPA | NoADD        | Second_only  |  1.1179843 | 201 |  13 | large      |\n",
       "| 26 | GPA | Second_Fifth | Second_Forth |  0.3597631 |   9 |   8 | small      |\n",
       "| 27 | GPA | Second_Fifth | Second_only  |  0.7251769 |   9 |  13 | moderate   |\n",
       "| 28 | GPA | Second_Forth | Second_only  |  0.4644126 |   8 |  13 | small      |\n",
       "\n"
      ],
      "text/plain": [
       "   .y. group1       group2       effsize    n1  n2  magnitude \n",
       "1  GPA All_three    Fifth_only   -0.4022278   6  14 small     \n",
       "2  GPA All_three    Forth_Fifth  -1.4925824   6   7 large     \n",
       "3  GPA All_three    Forth_only   -1.2525389   6  12 large     \n",
       "4  GPA All_three    NoADD        -1.7697762   6 201 large     \n",
       "5  GPA All_three    Second_Fifth -1.8087532   6   9 large     \n",
       "6  GPA All_three    Second_Forth -1.1630532   6   8 large     \n",
       "7  GPA All_three    Second_only  -0.1515164   6  13 negligible\n",
       "8  GPA Fifth_only   Forth_Fifth  -0.2161828  14   7 small     \n",
       "9  GPA Fifth_only   Forth_only   -0.5229529  14  12 moderate  \n",
       "10 GPA Fifth_only   NoADD        -1.1052304  14 201 large     \n",
       "11 GPA Fifth_only   Second_Fifth -0.6785591  14   9 moderate  \n",
       "12 GPA Fifth_only   Second_Forth -0.3707090  14   8 small     \n",
       "13 GPA Fifth_only   Second_only   0.1341055  14  13 negligible\n",
       "14 GPA Forth_Fifth  Forth_only   -0.4806783   7  12 small     \n",
       "15 GPA Forth_Fifth  NoADD        -1.1815694   7 201 large     \n",
       "16 GPA Forth_Fifth  Second_Fifth -0.7513276   7   9 moderate  \n",
       "17 GPA Forth_Fifth  Second_Forth -0.2711142   7   8 small     \n",
       "18 GPA Forth_Fifth  Second_only   0.3401463   7  13 small     \n",
       "19 GPA Forth_only   NoADD        -0.6988608  12 201 moderate  \n",
       "20 GPA Forth_only   Second_Fifth -0.1114747  12   9 negligible\n",
       "21 GPA Forth_only   Second_Forth  0.2054161  12   8 small     \n",
       "22 GPA Forth_only   Second_only   0.5948934  12  13 moderate  \n",
       "23 GPA NoADD        Second_Fifth  0.6668629 201   9 moderate  \n",
       "24 GPA NoADD        Second_Forth  0.9023015 201   8 large     \n",
       "25 GPA NoADD        Second_only   1.1179843 201  13 large     \n",
       "26 GPA Second_Fifth Second_Forth  0.3597631   9   8 small     \n",
       "27 GPA Second_Fifth Second_only   0.7251769   9  13 moderate  \n",
       "28 GPA Second_Forth Second_only   0.4644126   8  13 small     "
      ]
     },
     "metadata": {},
     "output_type": "display_data"
    }
   ],
   "source": [
    "ADD_data %>% cohens_d(GPA~Years)"
   ]
  },
  {
   "cell_type": "markdown",
   "metadata": {},
   "source": [
    "### Interestingly, for the three pairs that we found significany, the effect size is large for them too, so we can confidently report out results."
   ]
  },
  {
   "cell_type": "markdown",
   "metadata": {},
   "source": [
    "# Method B: Manual Calculation, (bad idea)"
   ]
  },
  {
   "cell_type": "code",
   "execution_count": 1,
   "metadata": {},
   "outputs": [],
   "source": [
    "Never_Add = c(2.6774, 0.9721, 201)\n",
    "Second_only = c(1.6123, 1.0097, 13)\n",
    "Forth_only = c(1.9975, 0.7642, 12)\n",
    "Second_forth = c(2.0287, 0.5461, 8)\n",
    "Fifth_only = c(1.7000, 0.8788, 14)\n",
    "Second_fifth = c(1.9000, 1.0318, 9)\n",
    "Fourth_fifth = c(1.8986, 0.3045, 7)\n",
    "second_fourth_fifth <- c(1.4225, 0.5884, 8)"
   ]
  },
  {
   "cell_type": "code",
   "execution_count": 2,
   "metadata": {},
   "outputs": [
    {
     "data": {
      "text/html": [
       "<table class=\"dataframe\">\n",
       "<caption>A data.frame: 8 × 4</caption>\n",
       "<thead>\n",
       "\t<tr><th scope=col>group</th><th scope=col>mean</th><th scope=col>sd</th><th scope=col>n</th></tr>\n",
       "\t<tr><th scope=col>&lt;chr&gt;</th><th scope=col>&lt;dbl&gt;</th><th scope=col>&lt;dbl&gt;</th><th scope=col>&lt;dbl&gt;</th></tr>\n",
       "</thead>\n",
       "<tbody>\n",
       "\t<tr><td>Never_Add          </td><td>2.6774</td><td>0.9721</td><td>201</td></tr>\n",
       "\t<tr><td>Second_only        </td><td>1.6123</td><td>1.0097</td><td> 13</td></tr>\n",
       "\t<tr><td>Forth_only         </td><td>1.9975</td><td>0.7642</td><td> 12</td></tr>\n",
       "\t<tr><td>Second_forth       </td><td>2.0287</td><td>0.5461</td><td>  8</td></tr>\n",
       "\t<tr><td>Fifth_only         </td><td>1.7000</td><td>0.8788</td><td> 14</td></tr>\n",
       "\t<tr><td>Second_fifth       </td><td>1.9000</td><td>1.0318</td><td>  9</td></tr>\n",
       "\t<tr><td>Fourth_fifth       </td><td>1.8986</td><td>0.3045</td><td>  7</td></tr>\n",
       "\t<tr><td>second_fourth_fifth</td><td>1.4225</td><td>0.5884</td><td>  8</td></tr>\n",
       "</tbody>\n",
       "</table>\n"
      ],
      "text/latex": [
       "A data.frame: 8 × 4\n",
       "\\begin{tabular}{llll}\n",
       " group & mean & sd & n\\\\\n",
       " <chr> & <dbl> & <dbl> & <dbl>\\\\\n",
       "\\hline\n",
       "\t Never\\_Add           & 2.6774 & 0.9721 & 201\\\\\n",
       "\t Second\\_only         & 1.6123 & 1.0097 &  13\\\\\n",
       "\t Forth\\_only          & 1.9975 & 0.7642 &  12\\\\\n",
       "\t Second\\_forth        & 2.0287 & 0.5461 &   8\\\\\n",
       "\t Fifth\\_only          & 1.7000 & 0.8788 &  14\\\\\n",
       "\t Second\\_fifth        & 1.9000 & 1.0318 &   9\\\\\n",
       "\t Fourth\\_fifth        & 1.8986 & 0.3045 &   7\\\\\n",
       "\t second\\_fourth\\_fifth & 1.4225 & 0.5884 &   8\\\\\n",
       "\\end{tabular}\n"
      ],
      "text/markdown": [
       "\n",
       "A data.frame: 8 × 4\n",
       "\n",
       "| group &lt;chr&gt; | mean &lt;dbl&gt; | sd &lt;dbl&gt; | n &lt;dbl&gt; |\n",
       "|---|---|---|---|\n",
       "| Never_Add           | 2.6774 | 0.9721 | 201 |\n",
       "| Second_only         | 1.6123 | 1.0097 |  13 |\n",
       "| Forth_only          | 1.9975 | 0.7642 |  12 |\n",
       "| Second_forth        | 2.0287 | 0.5461 |   8 |\n",
       "| Fifth_only          | 1.7000 | 0.8788 |  14 |\n",
       "| Second_fifth        | 1.9000 | 1.0318 |   9 |\n",
       "| Fourth_fifth        | 1.8986 | 0.3045 |   7 |\n",
       "| second_fourth_fifth | 1.4225 | 0.5884 |   8 |\n",
       "\n"
      ],
      "text/plain": [
       "  group               mean   sd     n  \n",
       "1 Never_Add           2.6774 0.9721 201\n",
       "2 Second_only         1.6123 1.0097  13\n",
       "3 Forth_only          1.9975 0.7642  12\n",
       "4 Second_forth        2.0287 0.5461   8\n",
       "5 Fifth_only          1.7000 0.8788  14\n",
       "6 Second_fifth        1.9000 1.0318   9\n",
       "7 Fourth_fifth        1.8986 0.3045   7\n",
       "8 second_fourth_fifth 1.4225 0.5884   8"
      ]
     },
     "metadata": {},
     "output_type": "display_data"
    }
   ],
   "source": [
    "data_summary1 = data.frame(\n",
    "  group = rep(c(\"Never_Add\", \"Second_only\", \"Forth_only\", \"Second_forth\", \"Fifth_only\", \"Second_fifth\", \"Fourth_fifth\", \"second_fourth_fifth\")),\n",
    "  mean = c(Never_Add[1], Second_only[1], Forth_only[1], Second_forth[1], Fifth_only[1], Second_fifth[1], Fourth_fifth[1], second_fourth_fifth[1]),\n",
    "  sd = c(Never_Add[2], Second_only[2], Forth_only[2], Second_forth[2], Fifth_only[2], Second_fifth[2], Fourth_fifth[2], second_fourth_fifth[2]),\n",
    "  n = c(Never_Add[3], Second_only[3], Forth_only[3], Second_forth[3], Fifth_only[3], Second_fifth[3], Fourth_fifth[3], second_fourth_fifth[3])\n",
    ")\n",
    "data_summary1"
   ]
  },
  {
   "cell_type": "code",
   "execution_count": 3,
   "metadata": {},
   "outputs": [
    {
     "data": {
      "text/html": [
       "1.904625"
      ],
      "text/latex": [
       "1.904625"
      ],
      "text/markdown": [
       "1.904625"
      ],
      "text/plain": [
       "[1] 1.904625"
      ]
     },
     "metadata": {},
     "output_type": "display_data"
    },
    {
     "data": {
      "text/html": [
       "123.817190345"
      ],
      "text/latex": [
       "123.817190345"
      ],
      "text/markdown": [
       "123.817190345"
      ],
      "text/plain": [
       "[1] 123.8172"
      ]
     },
     "metadata": {},
     "output_type": "display_data"
    },
    {
     "data": {
      "text/html": [
       "231.27768165"
      ],
      "text/latex": [
       "231.27768165"
      ],
      "text/markdown": [
       "231.27768165"
      ],
      "text/plain": [
       "[1] 231.2777"
      ]
     },
     "metadata": {},
     "output_type": "display_data"
    }
   ],
   "source": [
    "mean_all = mean(data_summary1$mean)\n",
    "SSB = sum(data_summary1$n * (data_summary1$mean - mean_all)^2)\n",
    "SSW = sum((data_summary1$n - 1) * data_summary1$sd^2)\n",
    "\n",
    "mean_all\n",
    "SSB\n",
    "SSW"
   ]
  },
  {
   "cell_type": "code",
   "execution_count": 4,
   "metadata": {},
   "outputs": [
    {
     "data": {
      "text/html": [
       "7"
      ],
      "text/latex": [
       "7"
      ],
      "text/markdown": [
       "7"
      ],
      "text/plain": [
       "[1] 7"
      ]
     },
     "metadata": {},
     "output_type": "display_data"
    },
    {
     "data": {
      "text/html": [
       "208"
      ],
      "text/latex": [
       "208"
      ],
      "text/markdown": [
       "208"
      ],
      "text/plain": [
       "[1] 208"
      ]
     },
     "metadata": {},
     "output_type": "display_data"
    }
   ],
   "source": [
    "df_between = length(unique(data_summary1$group)) - 1\n",
    "df_within = sum(data_summary1$n - 8)\n",
    "df_between\n",
    "df_within"
   ]
  },
  {
   "cell_type": "code",
   "execution_count": 5,
   "metadata": {},
   "outputs": [
    {
     "data": {
      "text/html": [
       "17.6881700492857"
      ],
      "text/latex": [
       "17.6881700492857"
      ],
      "text/markdown": [
       "17.6881700492857"
      ],
      "text/plain": [
       "[1] 17.68817"
      ]
     },
     "metadata": {},
     "output_type": "display_data"
    },
    {
     "data": {
      "text/html": [
       "1.11191193100962"
      ],
      "text/latex": [
       "1.11191193100962"
      ],
      "text/markdown": [
       "1.11191193100962"
      ],
      "text/plain": [
       "[1] 1.111912"
      ]
     },
     "metadata": {},
     "output_type": "display_data"
    }
   ],
   "source": [
    "MSB = SSB / df_between\n",
    "MSW = SSW / df_within\n",
    "MSB\n",
    "MSW"
   ]
  },
  {
   "cell_type": "code",
   "execution_count": 6,
   "metadata": {},
   "outputs": [
    {
     "data": {
      "text/html": [
       "15.907887626698"
      ],
      "text/latex": [
       "15.907887626698"
      ],
      "text/markdown": [
       "15.907887626698"
      ],
      "text/plain": [
       "[1] 15.90789"
      ]
     },
     "metadata": {},
     "output_type": "display_data"
    }
   ],
   "source": [
    "F_statistic = MSB / MSW\n",
    "F_statistic"
   ]
  },
  {
   "cell_type": "code",
   "execution_count": 7,
   "metadata": {},
   "outputs": [
    {
     "data": {
      "text/html": [
       "1.11022302462516e-16"
      ],
      "text/latex": [
       "1.11022302462516e-16"
      ],
      "text/markdown": [
       "1.11022302462516e-16"
      ],
      "text/plain": [
       "[1] 1.110223e-16"
      ]
     },
     "metadata": {},
     "output_type": "display_data"
    }
   ],
   "source": [
    "p_value = 1 - pf(F_statistic, df_between, df_within)\n",
    "p_value"
   ]
  },
  {
   "cell_type": "code",
   "execution_count": 8,
   "metadata": {
    "scrolled": true
   },
   "outputs": [
    {
     "name": "stdout",
     "output_type": "stream",
     "text": [
      "Cohen's d ( Never_Add  vs.  Second_only ): 1.09323209009971 \n",
      "Cohen's d ( Never_Add  vs.  Forth_only ): 0.706483620950703 \n",
      "Cohen's d ( Never_Add  vs.  Second_forth ): 0.675177173850073 \n",
      "Cohen's d ( Never_Add  vs.  Fifth_only ): 1.01110655202604 \n",
      "Cohen's d ( Never_Add  vs.  Second_fifth ): 0.797772077484079 \n",
      "Cohen's d ( Never_Add  vs.  Fourth_fifth ): 0.811886581178655 \n",
      "Cohen's d ( Never_Add  vs.  second_fourth_fifth ): 1.30497310717706 \n",
      "Cohen's d ( Second_only  vs.  Forth_only ): -0.427679336376757 \n",
      "Cohen's d ( Second_only  vs.  Second_forth ): -0.479615470745588 \n",
      "Cohen's d ( Second_only  vs.  Fifth_only ): -0.0929123606967099 \n",
      "Cohen's d ( Second_only  vs.  Second_fifth ): -0.282447177116889 \n",
      "Cohen's d ( Second_only  vs.  Fourth_fifth ): -0.339639407086639 \n",
      "Cohen's d ( Second_only  vs.  second_fourth_fifth ): 0.21609468207511 \n",
      "Cohen's d ( Forth_only  vs.  Second_forth ): -0.0453717346680846 \n",
      "Cohen's d ( Forth_only  vs.  Fifth_only ): 0.359192949832885 \n",
      "Cohen's d ( Forth_only  vs.  Second_fifth ): 0.109949414493223 \n",
      "Cohen's d ( Forth_only  vs.  Fourth_fifth ): 0.154341415224366 \n",
      "Cohen's d ( Forth_only  vs.  second_fourth_fifth ): 0.820150061320329 \n",
      "Cohen's d ( Second_forth  vs.  Fifth_only ): 0.422116122040555 \n",
      "Cohen's d ( Second_forth  vs.  Second_fifth ): 0.153066364185256 \n",
      "Cohen's d ( Second_forth  vs.  Fourth_fifth ): 0.288487252132508 \n",
      "Cohen's d ( Second_forth  vs.  second_fourth_fifth ): 1.067922564277 \n",
      "Cohen's d ( Fifth_only  vs.  Second_fifth ): -0.212759922707191 \n",
      "Cohen's d ( Fifth_only  vs.  Fourth_fifth ): -0.265939803719181 \n",
      "Cohen's d ( Fifth_only  vs.  second_fourth_fifth ): 0.351529743211837 \n",
      "Cohen's d ( Second_fifth  vs.  Fourth_fifth ): 0.00173904787540902 \n",
      "Cohen's d ( Second_fifth  vs.  second_fourth_fifth ): 0.559116832333895 \n",
      "Cohen's d ( Fourth_fifth  vs.  second_fourth_fifth ): 0.994430859565439 \n"
     ]
    }
   ],
   "source": [
    "calculate_cohens_d = function(mean1, sd1, n1, mean2, sd2, n2) {\n",
    "  pooled_sd = sqrt(((n1 - 1) * sd1^2 + (n2 - 1) * sd2^2) / (n1 + n2 - 2))\n",
    "  cohens_d = (mean1 - mean2) / pooled_sd\n",
    "  return(cohens_d)\n",
    "}\n",
    "\n",
    "\n",
    "groups = c(\"Never_Add\", \"Second_only\", \"Forth_only\", \"Second_forth\", \"Fifth_only\", \"Second_fifth\", \"Fourth_fifth\", \"second_fourth_fifth\")\n",
    "\n",
    "for (i in 1:(length(groups) - 1)) {\n",
    "  for (j in (i + 1):length(groups)) {\n",
    "    group1 = get(groups[i])\n",
    "    group2 = get(groups[j])\n",
    "    \n",
    "    cohens_d <- calculate_cohens_d(group1[1], group1[2], group1[3], group2[1], group2[2], group2[3])\n",
    "    \n",
    "    cat(paste(\"Cohen's d (\", groups[i], \" vs. \", groups[j], \"):\", cohens_d, \"\\n\"))\n",
    "  }\n",
    "}"
   ]
  },
  {
   "cell_type": "markdown",
   "metadata": {},
   "source": [
    "# Part B. \n",
    "\n",
    "Davey, Startup, Zara, MacDonald, and Field were interested in the role of mood on the degree of compulsive checking in which a person engaged. (Compulsive checking is involved in a number of psychopathologies.) Three groups of 10 participants each listened to music designed to induce positive, negative, or neutral mood. They were then asked to “list as many things around your home that you should check for safety or security reasons before you go away for three weeks.” The dependent variable was the number of things listed. The actual data follows.\n",
    "\n",
    "<img src=\"pr32.jpg\" width=\"250\"/>\n",
    "\n",
    "- Run the appropriate analysis of variance and draw you own conclusion.\n",
    "- Calculate Cohen’s d to examine the pairwise effect sizes—in other words, calculate d on the comparison of each group with each of the other groups.\n",
    "- What is a reasonable set of conclusions from this study?\n"
   ]
  },
  {
   "cell_type": "code",
   "execution_count": 63,
   "metadata": {},
   "outputs": [],
   "source": [
    "MI_data = data.frame (\n",
    "    Negative = c(7,5,16,13,13,24,20,10,11,7),\n",
    "    Positive = c(9,12,7,3,10,4,5,4,7,9),\n",
    "    None = c(8,5,11,9,11,10,11,10,7,5))"
   ]
  },
  {
   "cell_type": "code",
   "execution_count": 64,
   "metadata": {},
   "outputs": [],
   "source": [
    "library(rstatix)\n",
    "library(ggpubr)"
   ]
  },
  {
   "cell_type": "code",
   "execution_count": 65,
   "metadata": {
    "scrolled": true
   },
   "outputs": [
    {
     "data": {
      "text/html": [
       "<table class=\"dataframe\">\n",
       "<caption>A data.frame: 10 × 3</caption>\n",
       "<thead>\n",
       "\t<tr><th scope=col>Negative</th><th scope=col>Positive</th><th scope=col>None</th></tr>\n",
       "\t<tr><th scope=col>&lt;dbl&gt;</th><th scope=col>&lt;dbl&gt;</th><th scope=col>&lt;dbl&gt;</th></tr>\n",
       "</thead>\n",
       "<tbody>\n",
       "\t<tr><td> 7</td><td> 9</td><td> 8</td></tr>\n",
       "\t<tr><td> 5</td><td>12</td><td> 5</td></tr>\n",
       "\t<tr><td>16</td><td> 7</td><td>11</td></tr>\n",
       "\t<tr><td>13</td><td> 3</td><td> 9</td></tr>\n",
       "\t<tr><td>13</td><td>10</td><td>11</td></tr>\n",
       "\t<tr><td>24</td><td> 4</td><td>10</td></tr>\n",
       "\t<tr><td>20</td><td> 5</td><td>11</td></tr>\n",
       "\t<tr><td>10</td><td> 4</td><td>10</td></tr>\n",
       "\t<tr><td>11</td><td> 7</td><td> 7</td></tr>\n",
       "\t<tr><td> 7</td><td> 9</td><td> 5</td></tr>\n",
       "</tbody>\n",
       "</table>\n"
      ],
      "text/latex": [
       "A data.frame: 10 × 3\n",
       "\\begin{tabular}{lll}\n",
       " Negative & Positive & None\\\\\n",
       " <dbl> & <dbl> & <dbl>\\\\\n",
       "\\hline\n",
       "\t  7 &  9 &  8\\\\\n",
       "\t  5 & 12 &  5\\\\\n",
       "\t 16 &  7 & 11\\\\\n",
       "\t 13 &  3 &  9\\\\\n",
       "\t 13 & 10 & 11\\\\\n",
       "\t 24 &  4 & 10\\\\\n",
       "\t 20 &  5 & 11\\\\\n",
       "\t 10 &  4 & 10\\\\\n",
       "\t 11 &  7 &  7\\\\\n",
       "\t  7 &  9 &  5\\\\\n",
       "\\end{tabular}\n"
      ],
      "text/markdown": [
       "\n",
       "A data.frame: 10 × 3\n",
       "\n",
       "| Negative &lt;dbl&gt; | Positive &lt;dbl&gt; | None &lt;dbl&gt; |\n",
       "|---|---|---|\n",
       "|  7 |  9 |  8 |\n",
       "|  5 | 12 |  5 |\n",
       "| 16 |  7 | 11 |\n",
       "| 13 |  3 |  9 |\n",
       "| 13 | 10 | 11 |\n",
       "| 24 |  4 | 10 |\n",
       "| 20 |  5 | 11 |\n",
       "| 10 |  4 | 10 |\n",
       "| 11 |  7 |  7 |\n",
       "|  7 |  9 |  5 |\n",
       "\n"
      ],
      "text/plain": [
       "   Negative Positive None\n",
       "1   7        9        8  \n",
       "2   5       12        5  \n",
       "3  16        7       11  \n",
       "4  13        3        9  \n",
       "5  13       10       11  \n",
       "6  24        4       10  \n",
       "7  20        5       11  \n",
       "8  10        4       10  \n",
       "9  11        7        7  \n",
       "10  7        9        5  "
      ]
     },
     "metadata": {},
     "output_type": "display_data"
    }
   ],
   "source": [
    "MI_data"
   ]
  },
  {
   "cell_type": "code",
   "execution_count": 66,
   "metadata": {},
   "outputs": [],
   "source": [
    "MI_long = gather (MI_data, key = \"Induced_mood\", value = \"items_checked\", Negative, Positive, None)"
   ]
  },
  {
   "cell_type": "code",
   "execution_count": 67,
   "metadata": {
    "scrolled": true
   },
   "outputs": [
    {
     "data": {
      "text/html": [
       "<table class=\"dataframe\">\n",
       "<caption>A data.frame: 30 × 2</caption>\n",
       "<thead>\n",
       "\t<tr><th scope=col>Induced_mood</th><th scope=col>items_checked</th></tr>\n",
       "\t<tr><th scope=col>&lt;chr&gt;</th><th scope=col>&lt;dbl&gt;</th></tr>\n",
       "</thead>\n",
       "<tbody>\n",
       "\t<tr><td>Negative</td><td> 7</td></tr>\n",
       "\t<tr><td>Negative</td><td> 5</td></tr>\n",
       "\t<tr><td>Negative</td><td>16</td></tr>\n",
       "\t<tr><td>Negative</td><td>13</td></tr>\n",
       "\t<tr><td>Negative</td><td>13</td></tr>\n",
       "\t<tr><td>Negative</td><td>24</td></tr>\n",
       "\t<tr><td>Negative</td><td>20</td></tr>\n",
       "\t<tr><td>Negative</td><td>10</td></tr>\n",
       "\t<tr><td>Negative</td><td>11</td></tr>\n",
       "\t<tr><td>Negative</td><td> 7</td></tr>\n",
       "\t<tr><td>Positive</td><td> 9</td></tr>\n",
       "\t<tr><td>Positive</td><td>12</td></tr>\n",
       "\t<tr><td>Positive</td><td> 7</td></tr>\n",
       "\t<tr><td>Positive</td><td> 3</td></tr>\n",
       "\t<tr><td>Positive</td><td>10</td></tr>\n",
       "\t<tr><td>Positive</td><td> 4</td></tr>\n",
       "\t<tr><td>Positive</td><td> 5</td></tr>\n",
       "\t<tr><td>Positive</td><td> 4</td></tr>\n",
       "\t<tr><td>Positive</td><td> 7</td></tr>\n",
       "\t<tr><td>Positive</td><td> 9</td></tr>\n",
       "\t<tr><td>None    </td><td> 8</td></tr>\n",
       "\t<tr><td>None    </td><td> 5</td></tr>\n",
       "\t<tr><td>None    </td><td>11</td></tr>\n",
       "\t<tr><td>None    </td><td> 9</td></tr>\n",
       "\t<tr><td>None    </td><td>11</td></tr>\n",
       "\t<tr><td>None    </td><td>10</td></tr>\n",
       "\t<tr><td>None    </td><td>11</td></tr>\n",
       "\t<tr><td>None    </td><td>10</td></tr>\n",
       "\t<tr><td>None    </td><td> 7</td></tr>\n",
       "\t<tr><td>None    </td><td> 5</td></tr>\n",
       "</tbody>\n",
       "</table>\n"
      ],
      "text/latex": [
       "A data.frame: 30 × 2\n",
       "\\begin{tabular}{ll}\n",
       " Induced\\_mood & items\\_checked\\\\\n",
       " <chr> & <dbl>\\\\\n",
       "\\hline\n",
       "\t Negative &  7\\\\\n",
       "\t Negative &  5\\\\\n",
       "\t Negative & 16\\\\\n",
       "\t Negative & 13\\\\\n",
       "\t Negative & 13\\\\\n",
       "\t Negative & 24\\\\\n",
       "\t Negative & 20\\\\\n",
       "\t Negative & 10\\\\\n",
       "\t Negative & 11\\\\\n",
       "\t Negative &  7\\\\\n",
       "\t Positive &  9\\\\\n",
       "\t Positive & 12\\\\\n",
       "\t Positive &  7\\\\\n",
       "\t Positive &  3\\\\\n",
       "\t Positive & 10\\\\\n",
       "\t Positive &  4\\\\\n",
       "\t Positive &  5\\\\\n",
       "\t Positive &  4\\\\\n",
       "\t Positive &  7\\\\\n",
       "\t Positive &  9\\\\\n",
       "\t None     &  8\\\\\n",
       "\t None     &  5\\\\\n",
       "\t None     & 11\\\\\n",
       "\t None     &  9\\\\\n",
       "\t None     & 11\\\\\n",
       "\t None     & 10\\\\\n",
       "\t None     & 11\\\\\n",
       "\t None     & 10\\\\\n",
       "\t None     &  7\\\\\n",
       "\t None     &  5\\\\\n",
       "\\end{tabular}\n"
      ],
      "text/markdown": [
       "\n",
       "A data.frame: 30 × 2\n",
       "\n",
       "| Induced_mood &lt;chr&gt; | items_checked &lt;dbl&gt; |\n",
       "|---|---|\n",
       "| Negative |  7 |\n",
       "| Negative |  5 |\n",
       "| Negative | 16 |\n",
       "| Negative | 13 |\n",
       "| Negative | 13 |\n",
       "| Negative | 24 |\n",
       "| Negative | 20 |\n",
       "| Negative | 10 |\n",
       "| Negative | 11 |\n",
       "| Negative |  7 |\n",
       "| Positive |  9 |\n",
       "| Positive | 12 |\n",
       "| Positive |  7 |\n",
       "| Positive |  3 |\n",
       "| Positive | 10 |\n",
       "| Positive |  4 |\n",
       "| Positive |  5 |\n",
       "| Positive |  4 |\n",
       "| Positive |  7 |\n",
       "| Positive |  9 |\n",
       "| None     |  8 |\n",
       "| None     |  5 |\n",
       "| None     | 11 |\n",
       "| None     |  9 |\n",
       "| None     | 11 |\n",
       "| None     | 10 |\n",
       "| None     | 11 |\n",
       "| None     | 10 |\n",
       "| None     |  7 |\n",
       "| None     |  5 |\n",
       "\n"
      ],
      "text/plain": [
       "   Induced_mood items_checked\n",
       "1  Negative      7           \n",
       "2  Negative      5           \n",
       "3  Negative     16           \n",
       "4  Negative     13           \n",
       "5  Negative     13           \n",
       "6  Negative     24           \n",
       "7  Negative     20           \n",
       "8  Negative     10           \n",
       "9  Negative     11           \n",
       "10 Negative      7           \n",
       "11 Positive      9           \n",
       "12 Positive     12           \n",
       "13 Positive      7           \n",
       "14 Positive      3           \n",
       "15 Positive     10           \n",
       "16 Positive      4           \n",
       "17 Positive      5           \n",
       "18 Positive      4           \n",
       "19 Positive      7           \n",
       "20 Positive      9           \n",
       "21 None          8           \n",
       "22 None          5           \n",
       "23 None         11           \n",
       "24 None          9           \n",
       "25 None         11           \n",
       "26 None         10           \n",
       "27 None         11           \n",
       "28 None         10           \n",
       "29 None          7           \n",
       "30 None          5           "
      ]
     },
     "metadata": {},
     "output_type": "display_data"
    }
   ],
   "source": [
    "MI_long"
   ]
  },
  {
   "cell_type": "code",
   "execution_count": 45,
   "metadata": {},
   "outputs": [
    {
     "data": {
      "image/png": "[encoded data removed]",
      "text/plain": [
       "plot without title"
      ]
     },
     "metadata": {
      "image/png": {
       "height": 420,
       "width": 420
      }
     },
     "output_type": "display_data"
    }
   ],
   "source": [
    "ggqqplot(MI_long, \"items_checked\", facet.by = \"Induced_mood\")"
   ]
  },
  {
   "cell_type": "code",
   "execution_count": 46,
   "metadata": {},
   "outputs": [
    {
     "data": {
      "text/html": [
       "<table class=\"dataframe\">\n",
       "<caption>A data.frame: 0 × 4</caption>\n",
       "<thead>\n",
       "\t<tr><th scope=col>Induced_mood</th><th scope=col>items_checked</th><th scope=col>is.outlier</th><th scope=col>is.extreme</th></tr>\n",
       "\t<tr><th scope=col>&lt;chr&gt;</th><th scope=col>&lt;dbl&gt;</th><th scope=col>&lt;lgl&gt;</th><th scope=col>&lt;lgl&gt;</th></tr>\n",
       "</thead>\n",
       "<tbody>\n",
       "</tbody>\n",
       "</table>\n"
      ],
      "text/latex": [
       "A data.frame: 0 × 4\n",
       "\\begin{tabular}{llll}\n",
       " Induced\\_mood & items\\_checked & is.outlier & is.extreme\\\\\n",
       " <chr> & <dbl> & <lgl> & <lgl>\\\\\n",
       "\\hline\n",
       "\\end{tabular}\n"
      ],
      "text/markdown": [
       "\n",
       "A data.frame: 0 × 4\n",
       "\n",
       "| Induced_mood &lt;chr&gt; | items_checked &lt;dbl&gt; | is.outlier &lt;lgl&gt; | is.extreme &lt;lgl&gt; |\n",
       "|---|---|---|---|\n",
       "\n"
      ],
      "text/plain": [
       "     Induced_mood items_checked is.outlier is.extreme"
      ]
     },
     "metadata": {},
     "output_type": "display_data"
    }
   ],
   "source": [
    "MI_long %>% group_by(Induced_mood) %>% identify_outliers(items_checked)"
   ]
  },
  {
   "cell_type": "code",
   "execution_count": 47,
   "metadata": {},
   "outputs": [
    {
     "data": {
      "text/html": [
       "<table class=\"dataframe\">\n",
       "<caption>A tibble: 3 × 4</caption>\n",
       "<thead>\n",
       "\t<tr><th scope=col>Induced_mood</th><th scope=col>variable</th><th scope=col>statistic</th><th scope=col>p</th></tr>\n",
       "\t<tr><th scope=col>&lt;chr&gt;</th><th scope=col>&lt;chr&gt;</th><th scope=col>&lt;dbl&gt;</th><th scope=col>&lt;dbl&gt;</th></tr>\n",
       "</thead>\n",
       "<tbody>\n",
       "\t<tr><td>Negative</td><td>items_checked</td><td>0.9441600</td><td>0.60015932</td></tr>\n",
       "\t<tr><td>None    </td><td>items_checked</td><td>0.8587379</td><td>0.07373638</td></tr>\n",
       "\t<tr><td>Positive</td><td>items_checked</td><td>0.9461599</td><td>0.62334439</td></tr>\n",
       "</tbody>\n",
       "</table>\n"
      ],
      "text/latex": [
       "A tibble: 3 × 4\n",
       "\\begin{tabular}{llll}\n",
       " Induced\\_mood & variable & statistic & p\\\\\n",
       " <chr> & <chr> & <dbl> & <dbl>\\\\\n",
       "\\hline\n",
       "\t Negative & items\\_checked & 0.9441600 & 0.60015932\\\\\n",
       "\t None     & items\\_checked & 0.8587379 & 0.07373638\\\\\n",
       "\t Positive & items\\_checked & 0.9461599 & 0.62334439\\\\\n",
       "\\end{tabular}\n"
      ],
      "text/markdown": [
       "\n",
       "A tibble: 3 × 4\n",
       "\n",
       "| Induced_mood &lt;chr&gt; | variable &lt;chr&gt; | statistic &lt;dbl&gt; | p &lt;dbl&gt; |\n",
       "|---|---|---|---|\n",
       "| Negative | items_checked | 0.9441600 | 0.60015932 |\n",
       "| None     | items_checked | 0.8587379 | 0.07373638 |\n",
       "| Positive | items_checked | 0.9461599 | 0.62334439 |\n",
       "\n"
      ],
      "text/plain": [
       "  Induced_mood variable      statistic p         \n",
       "1 Negative     items_checked 0.9441600 0.60015932\n",
       "2 None         items_checked 0.8587379 0.07373638\n",
       "3 Positive     items_checked 0.9461599 0.62334439"
      ]
     },
     "metadata": {},
     "output_type": "display_data"
    }
   ],
   "source": [
    "MI_long %>% group_by(Induced_mood) %>% shapiro_test(items_checked)"
   ]
  },
  {
   "cell_type": "code",
   "execution_count": 48,
   "metadata": {},
   "outputs": [
    {
     "name": "stderr",
     "output_type": "stream",
     "text": [
      "Warning message in leveneTest.default(y = y, group = group, ...):\n",
      "\"group coerced to factor.\"\n"
     ]
    },
    {
     "data": {
      "text/html": [
       "<table class=\"dataframe\">\n",
       "<caption>A tibble: 1 × 4</caption>\n",
       "<thead>\n",
       "\t<tr><th scope=col>df1</th><th scope=col>df2</th><th scope=col>statistic</th><th scope=col>p</th></tr>\n",
       "\t<tr><th scope=col>&lt;int&gt;</th><th scope=col>&lt;int&gt;</th><th scope=col>&lt;dbl&gt;</th><th scope=col>&lt;dbl&gt;</th></tr>\n",
       "</thead>\n",
       "<tbody>\n",
       "\t<tr><td>2</td><td>27</td><td>3.455955</td><td>0.04609516</td></tr>\n",
       "</tbody>\n",
       "</table>\n"
      ],
      "text/latex": [
       "A tibble: 1 × 4\n",
       "\\begin{tabular}{llll}\n",
       " df1 & df2 & statistic & p\\\\\n",
       " <int> & <int> & <dbl> & <dbl>\\\\\n",
       "\\hline\n",
       "\t 2 & 27 & 3.455955 & 0.04609516\\\\\n",
       "\\end{tabular}\n"
      ],
      "text/markdown": [
       "\n",
       "A tibble: 1 × 4\n",
       "\n",
       "| df1 &lt;int&gt; | df2 &lt;int&gt; | statistic &lt;dbl&gt; | p &lt;dbl&gt; |\n",
       "|---|---|---|---|\n",
       "| 2 | 27 | 3.455955 | 0.04609516 |\n",
       "\n"
      ],
      "text/plain": [
       "  df1 df2 statistic p         \n",
       "1 2   27  3.455955  0.04609516"
      ]
     },
     "metadata": {},
     "output_type": "display_data"
    }
   ],
   "source": [
    "MI_long %>% levene_test(items_checked ~ Induced_mood)"
   ]
  },
  {
   "cell_type": "markdown",
   "metadata": {},
   "source": [
    "## There are no outliers, and all the data is normally distributed, yet levene test p value report is a bit low but no that far away from 0.05, so I guess we could perform parametric hypo exam."
   ]
  },
  {
   "cell_type": "code",
   "execution_count": 62,
   "metadata": {},
   "outputs": [
    {
     "data": {
      "text/html": [
       "<table class=\"dataframe\">\n",
       "<caption>A anova_test: 1 × 7</caption>\n",
       "<thead>\n",
       "\t<tr><th></th><th scope=col>Effect</th><th scope=col>DFn</th><th scope=col>DFd</th><th scope=col>F</th><th scope=col>p</th><th scope=col>p&lt;.05</th><th scope=col>ges</th></tr>\n",
       "\t<tr><th></th><th scope=col>&lt;chr&gt;</th><th scope=col>&lt;dbl&gt;</th><th scope=col>&lt;dbl&gt;</th><th scope=col>&lt;dbl&gt;</th><th scope=col>&lt;dbl&gt;</th><th scope=col>&lt;chr&gt;</th><th scope=col>&lt;dbl&gt;</th></tr>\n",
       "</thead>\n",
       "<tbody>\n",
       "\t<tr><th scope=row>1</th><td>Induced_mood</td><td>2</td><td>27</td><td>4.876</td><td>0.016</td><td>*</td><td>0.265</td></tr>\n",
       "</tbody>\n",
       "</table>\n"
      ],
      "text/latex": [
       "A anova\\_test: 1 × 7\n",
       "\\begin{tabular}{r|lllllll}\n",
       "  & Effect & DFn & DFd & F & p & p<.05 & ges\\\\\n",
       "  & <chr> & <dbl> & <dbl> & <dbl> & <dbl> & <chr> & <dbl>\\\\\n",
       "\\hline\n",
       "\t1 & Induced\\_mood & 2 & 27 & 4.876 & 0.016 & * & 0.265\\\\\n",
       "\\end{tabular}\n"
      ],
      "text/markdown": [
       "\n",
       "A anova_test: 1 × 7\n",
       "\n",
       "| <!--/--> | Effect &lt;chr&gt; | DFn &lt;dbl&gt; | DFd &lt;dbl&gt; | F &lt;dbl&gt; | p &lt;dbl&gt; | p&lt;.05 &lt;chr&gt; | ges &lt;dbl&gt; |\n",
       "|---|---|---|---|---|---|---|---|\n",
       "| 1 | Induced_mood | 2 | 27 | 4.876 | 0.016 | * | 0.265 |\n",
       "\n"
      ],
      "text/plain": [
       "  Effect       DFn DFd F     p     p<.05 ges  \n",
       "1 Induced_mood 2   27  4.876 0.016 *     0.265"
      ]
     },
     "metadata": {},
     "output_type": "display_data"
    }
   ],
   "source": [
    "MI_long %>% anova_test(items_checked~Induced_mood)"
   ]
  },
  {
   "cell_type": "code",
   "execution_count": 68,
   "metadata": {},
   "outputs": [
    {
     "data": {
      "text/html": [
       "<table class=\"dataframe\">\n",
       "<caption>A rstatix_test: 1 × 6</caption>\n",
       "<thead>\n",
       "\t<tr><th></th><th scope=col>.y.</th><th scope=col>n</th><th scope=col>statistic</th><th scope=col>df</th><th scope=col>p</th><th scope=col>method</th></tr>\n",
       "\t<tr><th></th><th scope=col>&lt;chr&gt;</th><th scope=col>&lt;int&gt;</th><th scope=col>&lt;dbl&gt;</th><th scope=col>&lt;int&gt;</th><th scope=col>&lt;dbl&gt;</th><th scope=col>&lt;chr&gt;</th></tr>\n",
       "</thead>\n",
       "<tbody>\n",
       "\t<tr><th scope=row>1</th><td>items_checked</td><td>30</td><td>6.734873</td><td>2</td><td>0.0345</td><td>Kruskal-Wallis</td></tr>\n",
       "</tbody>\n",
       "</table>\n"
      ],
      "text/latex": [
       "A rstatix\\_test: 1 × 6\n",
       "\\begin{tabular}{r|llllll}\n",
       "  & .y. & n & statistic & df & p & method\\\\\n",
       "  & <chr> & <int> & <dbl> & <int> & <dbl> & <chr>\\\\\n",
       "\\hline\n",
       "\t1 & items\\_checked & 30 & 6.734873 & 2 & 0.0345 & Kruskal-Wallis\\\\\n",
       "\\end{tabular}\n"
      ],
      "text/markdown": [
       "\n",
       "A rstatix_test: 1 × 6\n",
       "\n",
       "| <!--/--> | .y. &lt;chr&gt; | n &lt;int&gt; | statistic &lt;dbl&gt; | df &lt;int&gt; | p &lt;dbl&gt; | method &lt;chr&gt; |\n",
       "|---|---|---|---|---|---|---|\n",
       "| 1 | items_checked | 30 | 6.734873 | 2 | 0.0345 | Kruskal-Wallis |\n",
       "\n"
      ],
      "text/plain": [
       "  .y.           n  statistic df p      method        \n",
       "1 items_checked 30 6.734873  2  0.0345 Kruskal-Wallis"
      ]
     },
     "metadata": {},
     "output_type": "display_data"
    }
   ],
   "source": [
    "MI_long %>% kruskal_test(items_checked ~ Induced_mood)"
   ]
  },
  {
   "cell_type": "code",
   "execution_count": 7,
   "metadata": {},
   "outputs": [
    {
     "data": {
      "text/html": [
       "<table class=\"dataframe\">\n",
       "<caption>A rstatix_test: 3 × 9</caption>\n",
       "<thead>\n",
       "\t<tr><th></th><th scope=col>term</th><th scope=col>.y.</th><th scope=col>group1</th><th scope=col>group2</th><th scope=col>df</th><th scope=col>statistic</th><th scope=col>p</th><th scope=col>p.adj</th><th scope=col>p.adj.signif</th></tr>\n",
       "\t<tr><th></th><th scope=col>&lt;chr&gt;</th><th scope=col>&lt;chr&gt;</th><th scope=col>&lt;chr&gt;</th><th scope=col>&lt;chr&gt;</th><th scope=col>&lt;dbl&gt;</th><th scope=col>&lt;dbl&gt;</th><th scope=col>&lt;dbl&gt;</th><th scope=col>&lt;dbl&gt;</th><th scope=col>&lt;chr&gt;</th></tr>\n",
       "</thead>\n",
       "<tbody>\n",
       "\t<tr><th scope=row>1</th><td>Induced_mood</td><td>items_checked</td><td>Negative</td><td>None    </td><td>27</td><td>2.1208556</td><td>0.043264202</td><td>0.12979261</td><td>ns</td></tr>\n",
       "\t<tr><th scope=row>2</th><td>Induced_mood</td><td>items_checked</td><td>Negative</td><td>Positive</td><td>27</td><td>3.0453311</td><td>0.005139881</td><td>0.01541964</td><td>* </td></tr>\n",
       "\t<tr><th scope=row>3</th><td>Induced_mood</td><td>items_checked</td><td>None    </td><td>Positive</td><td>27</td><td>0.9244755</td><td>0.363427968</td><td>1.00000000</td><td>ns</td></tr>\n",
       "</tbody>\n",
       "</table>\n"
      ],
      "text/latex": [
       "A rstatix\\_test: 3 × 9\n",
       "\\begin{tabular}{r|lllllllll}\n",
       "  & term & .y. & group1 & group2 & df & statistic & p & p.adj & p.adj.signif\\\\\n",
       "  & <chr> & <chr> & <chr> & <chr> & <dbl> & <dbl> & <dbl> & <dbl> & <chr>\\\\\n",
       "\\hline\n",
       "\t1 & Induced\\_mood & items\\_checked & Negative & None     & 27 & 2.1208556 & 0.043264202 & 0.12979261 & ns\\\\\n",
       "\t2 & Induced\\_mood & items\\_checked & Negative & Positive & 27 & 3.0453311 & 0.005139881 & 0.01541964 & * \\\\\n",
       "\t3 & Induced\\_mood & items\\_checked & None     & Positive & 27 & 0.9244755 & 0.363427968 & 1.00000000 & ns\\\\\n",
       "\\end{tabular}\n"
      ],
      "text/markdown": [
       "\n",
       "A rstatix_test: 3 × 9\n",
       "\n",
       "| <!--/--> | term &lt;chr&gt; | .y. &lt;chr&gt; | group1 &lt;chr&gt; | group2 &lt;chr&gt; | df &lt;dbl&gt; | statistic &lt;dbl&gt; | p &lt;dbl&gt; | p.adj &lt;dbl&gt; | p.adj.signif &lt;chr&gt; |\n",
       "|---|---|---|---|---|---|---|---|---|---|\n",
       "| 1 | Induced_mood | items_checked | Negative | None     | 27 | 2.1208556 | 0.043264202 | 0.12979261 | ns |\n",
       "| 2 | Induced_mood | items_checked | Negative | Positive | 27 | 3.0453311 | 0.005139881 | 0.01541964 | *  |\n",
       "| 3 | Induced_mood | items_checked | None     | Positive | 27 | 0.9244755 | 0.363427968 | 1.00000000 | ns |\n",
       "\n"
      ],
      "text/plain": [
       "  term         .y.           group1   group2   df statistic p          \n",
       "1 Induced_mood items_checked Negative None     27 2.1208556 0.043264202\n",
       "2 Induced_mood items_checked Negative Positive 27 3.0453311 0.005139881\n",
       "3 Induced_mood items_checked None     Positive 27 0.9244755 0.363427968\n",
       "  p.adj      p.adj.signif\n",
       "1 0.12979261 ns          \n",
       "2 0.01541964 *           \n",
       "3 1.00000000 ns          "
      ]
     },
     "metadata": {},
     "output_type": "display_data"
    }
   ],
   "source": [
    "MI_long  %>% emmeans_test(items_checked~Induced_mood, p.adjust.method = \"bonferroni\")"
   ]
  },
  {
   "cell_type": "code",
   "execution_count": 69,
   "metadata": {},
   "outputs": [
    {
     "data": {
      "text/html": [
       "<table class=\"dataframe\">\n",
       "<caption>A rstatix_test: 3 × 9</caption>\n",
       "<thead>\n",
       "\t<tr><th></th><th scope=col>.y.</th><th scope=col>group1</th><th scope=col>group2</th><th scope=col>n1</th><th scope=col>n2</th><th scope=col>statistic</th><th scope=col>p</th><th scope=col>p.adj</th><th scope=col>p.adj.signif</th></tr>\n",
       "\t<tr><th></th><th scope=col>&lt;chr&gt;</th><th scope=col>&lt;chr&gt;</th><th scope=col>&lt;chr&gt;</th><th scope=col>&lt;int&gt;</th><th scope=col>&lt;int&gt;</th><th scope=col>&lt;dbl&gt;</th><th scope=col>&lt;dbl&gt;</th><th scope=col>&lt;dbl&gt;</th><th scope=col>&lt;chr&gt;</th></tr>\n",
       "</thead>\n",
       "<tbody>\n",
       "\t<tr><th scope=row>1</th><td>items_checked</td><td>Negative</td><td>None    </td><td>10</td><td>10</td><td>70.5</td><td>0.127</td><td>0.381</td><td>ns</td></tr>\n",
       "\t<tr><th scope=row>2</th><td>items_checked</td><td>Negative</td><td>Positive</td><td>10</td><td>10</td><td>81.0</td><td>0.020</td><td>0.061</td><td>ns</td></tr>\n",
       "\t<tr><th scope=row>3</th><td>items_checked</td><td>None    </td><td>Positive</td><td>10</td><td>10</td><td>69.0</td><td>0.159</td><td>0.477</td><td>ns</td></tr>\n",
       "</tbody>\n",
       "</table>\n"
      ],
      "text/latex": [
       "A rstatix\\_test: 3 × 9\n",
       "\\begin{tabular}{r|lllllllll}\n",
       "  & .y. & group1 & group2 & n1 & n2 & statistic & p & p.adj & p.adj.signif\\\\\n",
       "  & <chr> & <chr> & <chr> & <int> & <int> & <dbl> & <dbl> & <dbl> & <chr>\\\\\n",
       "\\hline\n",
       "\t1 & items\\_checked & Negative & None     & 10 & 10 & 70.5 & 0.127 & 0.381 & ns\\\\\n",
       "\t2 & items\\_checked & Negative & Positive & 10 & 10 & 81.0 & 0.020 & 0.061 & ns\\\\\n",
       "\t3 & items\\_checked & None     & Positive & 10 & 10 & 69.0 & 0.159 & 0.477 & ns\\\\\n",
       "\\end{tabular}\n"
      ],
      "text/markdown": [
       "\n",
       "A rstatix_test: 3 × 9\n",
       "\n",
       "| <!--/--> | .y. &lt;chr&gt; | group1 &lt;chr&gt; | group2 &lt;chr&gt; | n1 &lt;int&gt; | n2 &lt;int&gt; | statistic &lt;dbl&gt; | p &lt;dbl&gt; | p.adj &lt;dbl&gt; | p.adj.signif &lt;chr&gt; |\n",
       "|---|---|---|---|---|---|---|---|---|---|\n",
       "| 1 | items_checked | Negative | None     | 10 | 10 | 70.5 | 0.127 | 0.381 | ns |\n",
       "| 2 | items_checked | Negative | Positive | 10 | 10 | 81.0 | 0.020 | 0.061 | ns |\n",
       "| 3 | items_checked | None     | Positive | 10 | 10 | 69.0 | 0.159 | 0.477 | ns |\n",
       "\n"
      ],
      "text/plain": [
       "  .y.           group1   group2   n1 n2 statistic p     p.adj p.adj.signif\n",
       "1 items_checked Negative None     10 10 70.5      0.127 0.381 ns          \n",
       "2 items_checked Negative Positive 10 10 81.0      0.020 0.061 ns          \n",
       "3 items_checked None     Positive 10 10 69.0      0.159 0.477 ns          "
      ]
     },
     "metadata": {},
     "output_type": "display_data"
    }
   ],
   "source": [
    "MI_long %>% wilcox_test(items_checked~Induced_mood, p.adjust.method = \"bonferroni\")"
   ]
  },
  {
   "cell_type": "code",
   "execution_count": 99,
   "metadata": {},
   "outputs": [
    {
     "data": {
      "text/html": [
       "<table class=\"dataframe\">\n",
       "<caption>A rstatix_test: 3 × 7</caption>\n",
       "<thead>\n",
       "\t<tr><th></th><th scope=col>.y.</th><th scope=col>group1</th><th scope=col>group2</th><th scope=col>effsize</th><th scope=col>n1</th><th scope=col>n2</th><th scope=col>magnitude</th></tr>\n",
       "\t<tr><th></th><th scope=col>&lt;chr&gt;</th><th scope=col>&lt;chr&gt;</th><th scope=col>&lt;chr&gt;</th><th scope=col>&lt;dbl&gt;</th><th scope=col>&lt;int&gt;</th><th scope=col>&lt;int&gt;</th><th scope=col>&lt;ord&gt;</th></tr>\n",
       "</thead>\n",
       "<tbody>\n",
       "\t<tr><th scope=row>1</th><td>items_checked</td><td>Negative</td><td>None    </td><td>0.8527434</td><td>10</td><td>10</td><td>large   </td></tr>\n",
       "\t<tr><th scope=row>2</th><td>items_checked</td><td>Negative</td><td>Positive</td><td>1.1785484</td><td>10</td><td>10</td><td>large   </td></tr>\n",
       "\t<tr><th scope=row>3</th><td>items_checked</td><td>None    </td><td>Positive</td><td>0.6323340</td><td>10</td><td>10</td><td>moderate</td></tr>\n",
       "</tbody>\n",
       "</table>\n"
      ],
      "text/latex": [
       "A rstatix\\_test: 3 × 7\n",
       "\\begin{tabular}{r|lllllll}\n",
       "  & .y. & group1 & group2 & effsize & n1 & n2 & magnitude\\\\\n",
       "  & <chr> & <chr> & <chr> & <dbl> & <int> & <int> & <ord>\\\\\n",
       "\\hline\n",
       "\t1 & items\\_checked & Negative & None     & 0.8527434 & 10 & 10 & large   \\\\\n",
       "\t2 & items\\_checked & Negative & Positive & 1.1785484 & 10 & 10 & large   \\\\\n",
       "\t3 & items\\_checked & None     & Positive & 0.6323340 & 10 & 10 & moderate\\\\\n",
       "\\end{tabular}\n"
      ],
      "text/markdown": [
       "\n",
       "A rstatix_test: 3 × 7\n",
       "\n",
       "| <!--/--> | .y. &lt;chr&gt; | group1 &lt;chr&gt; | group2 &lt;chr&gt; | effsize &lt;dbl&gt; | n1 &lt;int&gt; | n2 &lt;int&gt; | magnitude &lt;ord&gt; |\n",
       "|---|---|---|---|---|---|---|---|\n",
       "| 1 | items_checked | Negative | None     | 0.8527434 | 10 | 10 | large    |\n",
       "| 2 | items_checked | Negative | Positive | 1.1785484 | 10 | 10 | large    |\n",
       "| 3 | items_checked | None     | Positive | 0.6323340 | 10 | 10 | moderate |\n",
       "\n"
      ],
      "text/plain": [
       "  .y.           group1   group2   effsize   n1 n2 magnitude\n",
       "1 items_checked Negative None     0.8527434 10 10 large    \n",
       "2 items_checked Negative Positive 1.1785484 10 10 large    \n",
       "3 items_checked None     Positive 0.6323340 10 10 moderate "
      ]
     },
     "metadata": {},
     "output_type": "display_data"
    }
   ],
   "source": [
    "MI_long %>% cohens_d(items_checked~Induced_mood)"
   ]
  },
  {
   "cell_type": "code",
   "execution_count": 12,
   "metadata": {},
   "outputs": [
    {
     "data": {
      "image/png": "[encoded data removed]",
      "text/plain": [
       "plot without title"
      ]
     },
     "metadata": {
      "image/png": {
       "height": 420,
       "width": 420
      }
     },
     "output_type": "display_data"
    }
   ],
   "source": [
    "ggboxplot(MI_long, x = \"Induced_mood\", y = \"items_checked\") + stat_pvalue_manual(tresp1, hide.ns = TRUE)"
   ]
  },
  {
   "cell_type": "markdown",
   "metadata": {},
   "source": [
    "# Answer:\n",
    "#### Apparently the colaboration of state of mood and and degree of compolsive checking is meaningful due to the report of anova test, meanwhile the post hoc test performed reports that there is significant difference between positive and negative mood induction and compolsive checking. meanwhile, the effesize for thm is large too, so its safe to report that there is meaningful evidence."
   ]
  },
  {
   "cell_type": "markdown",
   "metadata": {},
   "source": [
    "# Part C.\n",
    "\n",
    "Strayer, Drews, & Couch (2006) ran a study in which they compared the driving behavior of a control group, a group that was at the legal limit for alcohol, and a group that was talking on a cell phone. I have modified their study slightly to make it suitable for this project, but the results are consistent with theirs. The three groups are given below \n",
    "\n",
    "<img src=\"pr33.jpg\" width=\"600\"/>\n",
    "\n",
    "- From these data is there evidence that cell phones lead to longer reaction times than baseline conditions? How does the cell phone condition differ from the alcohol-impaired condition?\n",
    "- Calculate Cohen’s d to examine the pairwise effect sizes—in other words, calculate d on the comparison of each group with each of the other groups.\n",
    "- What is a reasonable set of conclusions from this study?\n",
    "\n"
   ]
  },
  {
   "cell_type": "code",
   "execution_count": 28,
   "metadata": {},
   "outputs": [],
   "source": [
    "Driving_Data = data.frame(\n",
    "    Control = c(808, 757, 773, 937, 726, 788, 806, 792, 751, 765, 853, 655, 626, 721, 630, 722, 683, 709, \n",
    "               718, 812, 703, 791, 586, 864, 737, 701, 799, 844, 639, 705, 822, 935, 842, 827, 784, 838,\n",
    "               795, 823, 791, 819),\n",
    "    Alcohol = c(631, 656, 621, 706, 937, 538, 947, 855, 661, 887, 750, 945, 663, 880, 873, 830, 751, 855,\n",
    "               815 ,593 ,666, 730, 1021, 906, 821 ,956 ,606, 660, 802 ,961, 629, 603, 826, 531, 828, 959,\n",
    "               743 ,745, 922, 829),\n",
    "    Cell_phone = c(909, 712, 805, 852 ,859 ,781, 841 ,822, 740, 910, 900, 912, 863, 785 ,863, 809 ,927 ,847 ,918 ,810 ,788,\n",
    "                  929 ,798 ,863 ,981 ,842 ,1021, 827 ,876, 736 ,640 ,851 ,787, 703, 942 ,758 ,843 ,781 ,969 ,872))"
   ]
  },
  {
   "cell_type": "code",
   "execution_count": 29,
   "metadata": {
    "scrolled": true
   },
   "outputs": [
    {
     "data": {
      "text/html": [
       "<table class=\"dataframe\">\n",
       "<caption>A data.frame: 40 × 3</caption>\n",
       "<thead>\n",
       "\t<tr><th scope=col>Control</th><th scope=col>Alcohol</th><th scope=col>Cell_phone</th></tr>\n",
       "\t<tr><th scope=col>&lt;dbl&gt;</th><th scope=col>&lt;dbl&gt;</th><th scope=col>&lt;dbl&gt;</th></tr>\n",
       "</thead>\n",
       "<tbody>\n",
       "\t<tr><td>808</td><td> 631</td><td> 909</td></tr>\n",
       "\t<tr><td>757</td><td> 656</td><td> 712</td></tr>\n",
       "\t<tr><td>773</td><td> 621</td><td> 805</td></tr>\n",
       "\t<tr><td>937</td><td> 706</td><td> 852</td></tr>\n",
       "\t<tr><td>726</td><td> 937</td><td> 859</td></tr>\n",
       "\t<tr><td>788</td><td> 538</td><td> 781</td></tr>\n",
       "\t<tr><td>806</td><td> 947</td><td> 841</td></tr>\n",
       "\t<tr><td>792</td><td> 855</td><td> 822</td></tr>\n",
       "\t<tr><td>751</td><td> 661</td><td> 740</td></tr>\n",
       "\t<tr><td>765</td><td> 887</td><td> 910</td></tr>\n",
       "\t<tr><td>853</td><td> 750</td><td> 900</td></tr>\n",
       "\t<tr><td>655</td><td> 945</td><td> 912</td></tr>\n",
       "\t<tr><td>626</td><td> 663</td><td> 863</td></tr>\n",
       "\t<tr><td>721</td><td> 880</td><td> 785</td></tr>\n",
       "\t<tr><td>630</td><td> 873</td><td> 863</td></tr>\n",
       "\t<tr><td>722</td><td> 830</td><td> 809</td></tr>\n",
       "\t<tr><td>683</td><td> 751</td><td> 927</td></tr>\n",
       "\t<tr><td>709</td><td> 855</td><td> 847</td></tr>\n",
       "\t<tr><td>718</td><td> 815</td><td> 918</td></tr>\n",
       "\t<tr><td>812</td><td> 593</td><td> 810</td></tr>\n",
       "\t<tr><td>703</td><td> 666</td><td> 788</td></tr>\n",
       "\t<tr><td>791</td><td> 730</td><td> 929</td></tr>\n",
       "\t<tr><td>586</td><td>1021</td><td> 798</td></tr>\n",
       "\t<tr><td>864</td><td> 906</td><td> 863</td></tr>\n",
       "\t<tr><td>737</td><td> 821</td><td> 981</td></tr>\n",
       "\t<tr><td>701</td><td> 956</td><td> 842</td></tr>\n",
       "\t<tr><td>799</td><td> 606</td><td>1021</td></tr>\n",
       "\t<tr><td>844</td><td> 660</td><td> 827</td></tr>\n",
       "\t<tr><td>639</td><td> 802</td><td> 876</td></tr>\n",
       "\t<tr><td>705</td><td> 961</td><td> 736</td></tr>\n",
       "\t<tr><td>822</td><td> 629</td><td> 640</td></tr>\n",
       "\t<tr><td>935</td><td> 603</td><td> 851</td></tr>\n",
       "\t<tr><td>842</td><td> 826</td><td> 787</td></tr>\n",
       "\t<tr><td>827</td><td> 531</td><td> 703</td></tr>\n",
       "\t<tr><td>784</td><td> 828</td><td> 942</td></tr>\n",
       "\t<tr><td>838</td><td> 959</td><td> 758</td></tr>\n",
       "\t<tr><td>795</td><td> 743</td><td> 843</td></tr>\n",
       "\t<tr><td>823</td><td> 745</td><td> 781</td></tr>\n",
       "\t<tr><td>791</td><td> 922</td><td> 969</td></tr>\n",
       "\t<tr><td>819</td><td> 829</td><td> 872</td></tr>\n",
       "</tbody>\n",
       "</table>\n"
      ],
      "text/latex": [
       "A data.frame: 40 × 3\n",
       "\\begin{tabular}{lll}\n",
       " Control & Alcohol & Cell\\_phone\\\\\n",
       " <dbl> & <dbl> & <dbl>\\\\\n",
       "\\hline\n",
       "\t 808 &  631 &  909\\\\\n",
       "\t 757 &  656 &  712\\\\\n",
       "\t 773 &  621 &  805\\\\\n",
       "\t 937 &  706 &  852\\\\\n",
       "\t 726 &  937 &  859\\\\\n",
       "\t 788 &  538 &  781\\\\\n",
       "\t 806 &  947 &  841\\\\\n",
       "\t 792 &  855 &  822\\\\\n",
       "\t 751 &  661 &  740\\\\\n",
       "\t 765 &  887 &  910\\\\\n",
       "\t 853 &  750 &  900\\\\\n",
       "\t 655 &  945 &  912\\\\\n",
       "\t 626 &  663 &  863\\\\\n",
       "\t 721 &  880 &  785\\\\\n",
       "\t 630 &  873 &  863\\\\\n",
       "\t 722 &  830 &  809\\\\\n",
       "\t 683 &  751 &  927\\\\\n",
       "\t 709 &  855 &  847\\\\\n",
       "\t 718 &  815 &  918\\\\\n",
       "\t 812 &  593 &  810\\\\\n",
       "\t 703 &  666 &  788\\\\\n",
       "\t 791 &  730 &  929\\\\\n",
       "\t 586 & 1021 &  798\\\\\n",
       "\t 864 &  906 &  863\\\\\n",
       "\t 737 &  821 &  981\\\\\n",
       "\t 701 &  956 &  842\\\\\n",
       "\t 799 &  606 & 1021\\\\\n",
       "\t 844 &  660 &  827\\\\\n",
       "\t 639 &  802 &  876\\\\\n",
       "\t 705 &  961 &  736\\\\\n",
       "\t 822 &  629 &  640\\\\\n",
       "\t 935 &  603 &  851\\\\\n",
       "\t 842 &  826 &  787\\\\\n",
       "\t 827 &  531 &  703\\\\\n",
       "\t 784 &  828 &  942\\\\\n",
       "\t 838 &  959 &  758\\\\\n",
       "\t 795 &  743 &  843\\\\\n",
       "\t 823 &  745 &  781\\\\\n",
       "\t 791 &  922 &  969\\\\\n",
       "\t 819 &  829 &  872\\\\\n",
       "\\end{tabular}\n"
      ],
      "text/markdown": [
       "\n",
       "A data.frame: 40 × 3\n",
       "\n",
       "| Control &lt;dbl&gt; | Alcohol &lt;dbl&gt; | Cell_phone &lt;dbl&gt; |\n",
       "|---|---|---|\n",
       "| 808 |  631 |  909 |\n",
       "| 757 |  656 |  712 |\n",
       "| 773 |  621 |  805 |\n",
       "| 937 |  706 |  852 |\n",
       "| 726 |  937 |  859 |\n",
       "| 788 |  538 |  781 |\n",
       "| 806 |  947 |  841 |\n",
       "| 792 |  855 |  822 |\n",
       "| 751 |  661 |  740 |\n",
       "| 765 |  887 |  910 |\n",
       "| 853 |  750 |  900 |\n",
       "| 655 |  945 |  912 |\n",
       "| 626 |  663 |  863 |\n",
       "| 721 |  880 |  785 |\n",
       "| 630 |  873 |  863 |\n",
       "| 722 |  830 |  809 |\n",
       "| 683 |  751 |  927 |\n",
       "| 709 |  855 |  847 |\n",
       "| 718 |  815 |  918 |\n",
       "| 812 |  593 |  810 |\n",
       "| 703 |  666 |  788 |\n",
       "| 791 |  730 |  929 |\n",
       "| 586 | 1021 |  798 |\n",
       "| 864 |  906 |  863 |\n",
       "| 737 |  821 |  981 |\n",
       "| 701 |  956 |  842 |\n",
       "| 799 |  606 | 1021 |\n",
       "| 844 |  660 |  827 |\n",
       "| 639 |  802 |  876 |\n",
       "| 705 |  961 |  736 |\n",
       "| 822 |  629 |  640 |\n",
       "| 935 |  603 |  851 |\n",
       "| 842 |  826 |  787 |\n",
       "| 827 |  531 |  703 |\n",
       "| 784 |  828 |  942 |\n",
       "| 838 |  959 |  758 |\n",
       "| 795 |  743 |  843 |\n",
       "| 823 |  745 |  781 |\n",
       "| 791 |  922 |  969 |\n",
       "| 819 |  829 |  872 |\n",
       "\n"
      ],
      "text/plain": [
       "   Control Alcohol Cell_phone\n",
       "1  808      631     909      \n",
       "2  757      656     712      \n",
       "3  773      621     805      \n",
       "4  937      706     852      \n",
       "5  726      937     859      \n",
       "6  788      538     781      \n",
       "7  806      947     841      \n",
       "8  792      855     822      \n",
       "9  751      661     740      \n",
       "10 765      887     910      \n",
       "11 853      750     900      \n",
       "12 655      945     912      \n",
       "13 626      663     863      \n",
       "14 721      880     785      \n",
       "15 630      873     863      \n",
       "16 722      830     809      \n",
       "17 683      751     927      \n",
       "18 709      855     847      \n",
       "19 718      815     918      \n",
       "20 812      593     810      \n",
       "21 703      666     788      \n",
       "22 791      730     929      \n",
       "23 586     1021     798      \n",
       "24 864      906     863      \n",
       "25 737      821     981      \n",
       "26 701      956     842      \n",
       "27 799      606    1021      \n",
       "28 844      660     827      \n",
       "29 639      802     876      \n",
       "30 705      961     736      \n",
       "31 822      629     640      \n",
       "32 935      603     851      \n",
       "33 842      826     787      \n",
       "34 827      531     703      \n",
       "35 784      828     942      \n",
       "36 838      959     758      \n",
       "37 795      743     843      \n",
       "38 823      745     781      \n",
       "39 791      922     969      \n",
       "40 819      829     872      "
      ]
     },
     "metadata": {},
     "output_type": "display_data"
    }
   ],
   "source": [
    "Driving_Data"
   ]
  },
  {
   "cell_type": "code",
   "execution_count": 30,
   "metadata": {},
   "outputs": [],
   "source": [
    "Driving_long = gather(Driving_Data, key = \"Distraction\", value = \"Driving_behavior\")"
   ]
  },
  {
   "cell_type": "code",
   "execution_count": 31,
   "metadata": {
    "scrolled": true
   },
   "outputs": [
    {
     "data": {
      "text/html": [
       "<table class=\"dataframe\">\n",
       "<caption>A data.frame: 120 × 2</caption>\n",
       "<thead>\n",
       "\t<tr><th scope=col>Distraction</th><th scope=col>Driving_behavior</th></tr>\n",
       "\t<tr><th scope=col>&lt;chr&gt;</th><th scope=col>&lt;dbl&gt;</th></tr>\n",
       "</thead>\n",
       "<tbody>\n",
       "\t<tr><td>Control</td><td>808</td></tr>\n",
       "\t<tr><td>Control</td><td>757</td></tr>\n",
       "\t<tr><td>Control</td><td>773</td></tr>\n",
       "\t<tr><td>Control</td><td>937</td></tr>\n",
       "\t<tr><td>Control</td><td>726</td></tr>\n",
       "\t<tr><td>Control</td><td>788</td></tr>\n",
       "\t<tr><td>Control</td><td>806</td></tr>\n",
       "\t<tr><td>Control</td><td>792</td></tr>\n",
       "\t<tr><td>Control</td><td>751</td></tr>\n",
       "\t<tr><td>Control</td><td>765</td></tr>\n",
       "\t<tr><td>Control</td><td>853</td></tr>\n",
       "\t<tr><td>Control</td><td>655</td></tr>\n",
       "\t<tr><td>Control</td><td>626</td></tr>\n",
       "\t<tr><td>Control</td><td>721</td></tr>\n",
       "\t<tr><td>Control</td><td>630</td></tr>\n",
       "\t<tr><td>Control</td><td>722</td></tr>\n",
       "\t<tr><td>Control</td><td>683</td></tr>\n",
       "\t<tr><td>Control</td><td>709</td></tr>\n",
       "\t<tr><td>Control</td><td>718</td></tr>\n",
       "\t<tr><td>Control</td><td>812</td></tr>\n",
       "\t<tr><td>Control</td><td>703</td></tr>\n",
       "\t<tr><td>Control</td><td>791</td></tr>\n",
       "\t<tr><td>Control</td><td>586</td></tr>\n",
       "\t<tr><td>Control</td><td>864</td></tr>\n",
       "\t<tr><td>Control</td><td>737</td></tr>\n",
       "\t<tr><td>Control</td><td>701</td></tr>\n",
       "\t<tr><td>Control</td><td>799</td></tr>\n",
       "\t<tr><td>Control</td><td>844</td></tr>\n",
       "\t<tr><td>Control</td><td>639</td></tr>\n",
       "\t<tr><td>Control</td><td>705</td></tr>\n",
       "\t<tr><td>⋮</td><td>⋮</td></tr>\n",
       "\t<tr><td>Cell_phone</td><td> 900</td></tr>\n",
       "\t<tr><td>Cell_phone</td><td> 912</td></tr>\n",
       "\t<tr><td>Cell_phone</td><td> 863</td></tr>\n",
       "\t<tr><td>Cell_phone</td><td> 785</td></tr>\n",
       "\t<tr><td>Cell_phone</td><td> 863</td></tr>\n",
       "\t<tr><td>Cell_phone</td><td> 809</td></tr>\n",
       "\t<tr><td>Cell_phone</td><td> 927</td></tr>\n",
       "\t<tr><td>Cell_phone</td><td> 847</td></tr>\n",
       "\t<tr><td>Cell_phone</td><td> 918</td></tr>\n",
       "\t<tr><td>Cell_phone</td><td> 810</td></tr>\n",
       "\t<tr><td>Cell_phone</td><td> 788</td></tr>\n",
       "\t<tr><td>Cell_phone</td><td> 929</td></tr>\n",
       "\t<tr><td>Cell_phone</td><td> 798</td></tr>\n",
       "\t<tr><td>Cell_phone</td><td> 863</td></tr>\n",
       "\t<tr><td>Cell_phone</td><td> 981</td></tr>\n",
       "\t<tr><td>Cell_phone</td><td> 842</td></tr>\n",
       "\t<tr><td>Cell_phone</td><td>1021</td></tr>\n",
       "\t<tr><td>Cell_phone</td><td> 827</td></tr>\n",
       "\t<tr><td>Cell_phone</td><td> 876</td></tr>\n",
       "\t<tr><td>Cell_phone</td><td> 736</td></tr>\n",
       "\t<tr><td>Cell_phone</td><td> 640</td></tr>\n",
       "\t<tr><td>Cell_phone</td><td> 851</td></tr>\n",
       "\t<tr><td>Cell_phone</td><td> 787</td></tr>\n",
       "\t<tr><td>Cell_phone</td><td> 703</td></tr>\n",
       "\t<tr><td>Cell_phone</td><td> 942</td></tr>\n",
       "\t<tr><td>Cell_phone</td><td> 758</td></tr>\n",
       "\t<tr><td>Cell_phone</td><td> 843</td></tr>\n",
       "\t<tr><td>Cell_phone</td><td> 781</td></tr>\n",
       "\t<tr><td>Cell_phone</td><td> 969</td></tr>\n",
       "\t<tr><td>Cell_phone</td><td> 872</td></tr>\n",
       "</tbody>\n",
       "</table>\n"
      ],
      "text/latex": [
       "A data.frame: 120 × 2\n",
       "\\begin{tabular}{ll}\n",
       " Distraction & Driving\\_behavior\\\\\n",
       " <chr> & <dbl>\\\\\n",
       "\\hline\n",
       "\t Control & 808\\\\\n",
       "\t Control & 757\\\\\n",
       "\t Control & 773\\\\\n",
       "\t Control & 937\\\\\n",
       "\t Control & 726\\\\\n",
       "\t Control & 788\\\\\n",
       "\t Control & 806\\\\\n",
       "\t Control & 792\\\\\n",
       "\t Control & 751\\\\\n",
       "\t Control & 765\\\\\n",
       "\t Control & 853\\\\\n",
       "\t Control & 655\\\\\n",
       "\t Control & 626\\\\\n",
       "\t Control & 721\\\\\n",
       "\t Control & 630\\\\\n",
       "\t Control & 722\\\\\n",
       "\t Control & 683\\\\\n",
       "\t Control & 709\\\\\n",
       "\t Control & 718\\\\\n",
       "\t Control & 812\\\\\n",
       "\t Control & 703\\\\\n",
       "\t Control & 791\\\\\n",
       "\t Control & 586\\\\\n",
       "\t Control & 864\\\\\n",
       "\t Control & 737\\\\\n",
       "\t Control & 701\\\\\n",
       "\t Control & 799\\\\\n",
       "\t Control & 844\\\\\n",
       "\t Control & 639\\\\\n",
       "\t Control & 705\\\\\n",
       "\t ⋮ & ⋮\\\\\n",
       "\t Cell\\_phone &  900\\\\\n",
       "\t Cell\\_phone &  912\\\\\n",
       "\t Cell\\_phone &  863\\\\\n",
       "\t Cell\\_phone &  785\\\\\n",
       "\t Cell\\_phone &  863\\\\\n",
       "\t Cell\\_phone &  809\\\\\n",
       "\t Cell\\_phone &  927\\\\\n",
       "\t Cell\\_phone &  847\\\\\n",
       "\t Cell\\_phone &  918\\\\\n",
       "\t Cell\\_phone &  810\\\\\n",
       "\t Cell\\_phone &  788\\\\\n",
       "\t Cell\\_phone &  929\\\\\n",
       "\t Cell\\_phone &  798\\\\\n",
       "\t Cell\\_phone &  863\\\\\n",
       "\t Cell\\_phone &  981\\\\\n",
       "\t Cell\\_phone &  842\\\\\n",
       "\t Cell\\_phone & 1021\\\\\n",
       "\t Cell\\_phone &  827\\\\\n",
       "\t Cell\\_phone &  876\\\\\n",
       "\t Cell\\_phone &  736\\\\\n",
       "\t Cell\\_phone &  640\\\\\n",
       "\t Cell\\_phone &  851\\\\\n",
       "\t Cell\\_phone &  787\\\\\n",
       "\t Cell\\_phone &  703\\\\\n",
       "\t Cell\\_phone &  942\\\\\n",
       "\t Cell\\_phone &  758\\\\\n",
       "\t Cell\\_phone &  843\\\\\n",
       "\t Cell\\_phone &  781\\\\\n",
       "\t Cell\\_phone &  969\\\\\n",
       "\t Cell\\_phone &  872\\\\\n",
       "\\end{tabular}\n"
      ],
      "text/markdown": [
       "\n",
       "A data.frame: 120 × 2\n",
       "\n",
       "| Distraction &lt;chr&gt; | Driving_behavior &lt;dbl&gt; |\n",
       "|---|---|\n",
       "| Control | 808 |\n",
       "| Control | 757 |\n",
       "| Control | 773 |\n",
       "| Control | 937 |\n",
       "| Control | 726 |\n",
       "| Control | 788 |\n",
       "| Control | 806 |\n",
       "| Control | 792 |\n",
       "| Control | 751 |\n",
       "| Control | 765 |\n",
       "| Control | 853 |\n",
       "| Control | 655 |\n",
       "| Control | 626 |\n",
       "| Control | 721 |\n",
       "| Control | 630 |\n",
       "| Control | 722 |\n",
       "| Control | 683 |\n",
       "| Control | 709 |\n",
       "| Control | 718 |\n",
       "| Control | 812 |\n",
       "| Control | 703 |\n",
       "| Control | 791 |\n",
       "| Control | 586 |\n",
       "| Control | 864 |\n",
       "| Control | 737 |\n",
       "| Control | 701 |\n",
       "| Control | 799 |\n",
       "| Control | 844 |\n",
       "| Control | 639 |\n",
       "| Control | 705 |\n",
       "| ⋮ | ⋮ |\n",
       "| Cell_phone |  900 |\n",
       "| Cell_phone |  912 |\n",
       "| Cell_phone |  863 |\n",
       "| Cell_phone |  785 |\n",
       "| Cell_phone |  863 |\n",
       "| Cell_phone |  809 |\n",
       "| Cell_phone |  927 |\n",
       "| Cell_phone |  847 |\n",
       "| Cell_phone |  918 |\n",
       "| Cell_phone |  810 |\n",
       "| Cell_phone |  788 |\n",
       "| Cell_phone |  929 |\n",
       "| Cell_phone |  798 |\n",
       "| Cell_phone |  863 |\n",
       "| Cell_phone |  981 |\n",
       "| Cell_phone |  842 |\n",
       "| Cell_phone | 1021 |\n",
       "| Cell_phone |  827 |\n",
       "| Cell_phone |  876 |\n",
       "| Cell_phone |  736 |\n",
       "| Cell_phone |  640 |\n",
       "| Cell_phone |  851 |\n",
       "| Cell_phone |  787 |\n",
       "| Cell_phone |  703 |\n",
       "| Cell_phone |  942 |\n",
       "| Cell_phone |  758 |\n",
       "| Cell_phone |  843 |\n",
       "| Cell_phone |  781 |\n",
       "| Cell_phone |  969 |\n",
       "| Cell_phone |  872 |\n",
       "\n"
      ],
      "text/plain": [
       "    Distraction Driving_behavior\n",
       "1   Control     808             \n",
       "2   Control     757             \n",
       "3   Control     773             \n",
       "4   Control     937             \n",
       "5   Control     726             \n",
       "6   Control     788             \n",
       "7   Control     806             \n",
       "8   Control     792             \n",
       "9   Control     751             \n",
       "10  Control     765             \n",
       "11  Control     853             \n",
       "12  Control     655             \n",
       "13  Control     626             \n",
       "14  Control     721             \n",
       "15  Control     630             \n",
       "16  Control     722             \n",
       "17  Control     683             \n",
       "18  Control     709             \n",
       "19  Control     718             \n",
       "20  Control     812             \n",
       "21  Control     703             \n",
       "22  Control     791             \n",
       "23  Control     586             \n",
       "24  Control     864             \n",
       "25  Control     737             \n",
       "26  Control     701             \n",
       "27  Control     799             \n",
       "28  Control     844             \n",
       "29  Control     639             \n",
       "30  Control     705             \n",
       "⋮   ⋮           ⋮               \n",
       "91  Cell_phone   900            \n",
       "92  Cell_phone   912            \n",
       "93  Cell_phone   863            \n",
       "94  Cell_phone   785            \n",
       "95  Cell_phone   863            \n",
       "96  Cell_phone   809            \n",
       "97  Cell_phone   927            \n",
       "98  Cell_phone   847            \n",
       "99  Cell_phone   918            \n",
       "100 Cell_phone   810            \n",
       "101 Cell_phone   788            \n",
       "102 Cell_phone   929            \n",
       "103 Cell_phone   798            \n",
       "104 Cell_phone   863            \n",
       "105 Cell_phone   981            \n",
       "106 Cell_phone   842            \n",
       "107 Cell_phone  1021            \n",
       "108 Cell_phone   827            \n",
       "109 Cell_phone   876            \n",
       "110 Cell_phone   736            \n",
       "111 Cell_phone   640            \n",
       "112 Cell_phone   851            \n",
       "113 Cell_phone   787            \n",
       "114 Cell_phone   703            \n",
       "115 Cell_phone   942            \n",
       "116 Cell_phone   758            \n",
       "117 Cell_phone   843            \n",
       "118 Cell_phone   781            \n",
       "119 Cell_phone   969            \n",
       "120 Cell_phone   872            "
      ]
     },
     "metadata": {},
     "output_type": "display_data"
    }
   ],
   "source": [
    "Driving_long"
   ]
  },
  {
   "cell_type": "code",
   "execution_count": 32,
   "metadata": {},
   "outputs": [
    {
     "data": {
      "text/html": [
       "<table class=\"dataframe\">\n",
       "<caption>A tibble: 3 × 14</caption>\n",
       "<thead>\n",
       "\t<tr><th scope=col>Distraction</th><th scope=col>variable</th><th scope=col>n</th><th scope=col>min</th><th scope=col>max</th><th scope=col>median</th><th scope=col>q1</th><th scope=col>q3</th><th scope=col>iqr</th><th scope=col>mad</th><th scope=col>mean</th><th scope=col>sd</th><th scope=col>se</th><th scope=col>ci</th></tr>\n",
       "\t<tr><th scope=col>&lt;chr&gt;</th><th scope=col>&lt;fct&gt;</th><th scope=col>&lt;dbl&gt;</th><th scope=col>&lt;dbl&gt;</th><th scope=col>&lt;dbl&gt;</th><th scope=col>&lt;dbl&gt;</th><th scope=col>&lt;dbl&gt;</th><th scope=col>&lt;dbl&gt;</th><th scope=col>&lt;dbl&gt;</th><th scope=col>&lt;dbl&gt;</th><th scope=col>&lt;dbl&gt;</th><th scope=col>&lt;dbl&gt;</th><th scope=col>&lt;dbl&gt;</th><th scope=col>&lt;dbl&gt;</th></tr>\n",
       "</thead>\n",
       "<tbody>\n",
       "\t<tr><td>Alcohol   </td><td>Driving_behavior</td><td>40</td><td>531</td><td>1021</td><td>808.5</td><td>660.75</td><td>881.75</td><td>221.0</td><td>179.395</td><td>778.450</td><td>133.395</td><td>21.092</td><td>42.662</td></tr>\n",
       "\t<tr><td>Cell_phone</td><td>Driving_behavior</td><td>40</td><td>640</td><td>1021</td><td>845.0</td><td>787.75</td><td>902.25</td><td>114.5</td><td> 85.250</td><td>841.800</td><td> 79.696</td><td>12.601</td><td>25.488</td></tr>\n",
       "\t<tr><td>Control   </td><td>Driving_behavior</td><td>40</td><td>586</td><td> 937</td><td>786.0</td><td>715.75</td><td>819.75</td><td>104.0</td><td> 80.060</td><td>766.925</td><td> 79.276</td><td>12.535</td><td>25.354</td></tr>\n",
       "</tbody>\n",
       "</table>\n"
      ],
      "text/latex": [
       "A tibble: 3 × 14\n",
       "\\begin{tabular}{llllllllllllll}\n",
       " Distraction & variable & n & min & max & median & q1 & q3 & iqr & mad & mean & sd & se & ci\\\\\n",
       " <chr> & <fct> & <dbl> & <dbl> & <dbl> & <dbl> & <dbl> & <dbl> & <dbl> & <dbl> & <dbl> & <dbl> & <dbl> & <dbl>\\\\\n",
       "\\hline\n",
       "\t Alcohol    & Driving\\_behavior & 40 & 531 & 1021 & 808.5 & 660.75 & 881.75 & 221.0 & 179.395 & 778.450 & 133.395 & 21.092 & 42.662\\\\\n",
       "\t Cell\\_phone & Driving\\_behavior & 40 & 640 & 1021 & 845.0 & 787.75 & 902.25 & 114.5 &  85.250 & 841.800 &  79.696 & 12.601 & 25.488\\\\\n",
       "\t Control    & Driving\\_behavior & 40 & 586 &  937 & 786.0 & 715.75 & 819.75 & 104.0 &  80.060 & 766.925 &  79.276 & 12.535 & 25.354\\\\\n",
       "\\end{tabular}\n"
      ],
      "text/markdown": [
       "\n",
       "A tibble: 3 × 14\n",
       "\n",
       "| Distraction &lt;chr&gt; | variable &lt;fct&gt; | n &lt;dbl&gt; | min &lt;dbl&gt; | max &lt;dbl&gt; | median &lt;dbl&gt; | q1 &lt;dbl&gt; | q3 &lt;dbl&gt; | iqr &lt;dbl&gt; | mad &lt;dbl&gt; | mean &lt;dbl&gt; | sd &lt;dbl&gt; | se &lt;dbl&gt; | ci &lt;dbl&gt; |\n",
       "|---|---|---|---|---|---|---|---|---|---|---|---|---|---|\n",
       "| Alcohol    | Driving_behavior | 40 | 531 | 1021 | 808.5 | 660.75 | 881.75 | 221.0 | 179.395 | 778.450 | 133.395 | 21.092 | 42.662 |\n",
       "| Cell_phone | Driving_behavior | 40 | 640 | 1021 | 845.0 | 787.75 | 902.25 | 114.5 |  85.250 | 841.800 |  79.696 | 12.601 | 25.488 |\n",
       "| Control    | Driving_behavior | 40 | 586 |  937 | 786.0 | 715.75 | 819.75 | 104.0 |  80.060 | 766.925 |  79.276 | 12.535 | 25.354 |\n",
       "\n"
      ],
      "text/plain": [
       "  Distraction variable         n  min max  median q1     q3     iqr   mad    \n",
       "1 Alcohol     Driving_behavior 40 531 1021 808.5  660.75 881.75 221.0 179.395\n",
       "2 Cell_phone  Driving_behavior 40 640 1021 845.0  787.75 902.25 114.5  85.250\n",
       "3 Control     Driving_behavior 40 586  937 786.0  715.75 819.75 104.0  80.060\n",
       "  mean    sd      se     ci    \n",
       "1 778.450 133.395 21.092 42.662\n",
       "2 841.800  79.696 12.601 25.488\n",
       "3 766.925  79.276 12.535 25.354"
      ]
     },
     "metadata": {},
     "output_type": "display_data"
    }
   ],
   "source": [
    "Driving_long %>% group_by(Distraction) %>% get_summary_stats(Driving_behavior)"
   ]
  },
  {
   "cell_type": "code",
   "execution_count": 33,
   "metadata": {},
   "outputs": [
    {
     "data": {
      "image/png": "[encoded data removed]",
      "text/plain": [
       "plot without title"
      ]
     },
     "metadata": {
      "image/png": {
       "height": 420,
       "width": 420
      }
     },
     "output_type": "display_data"
    }
   ],
   "source": [
    "ggqqplot(Driving_long, \"Driving_behavior\", facet.by = \"Distraction\")"
   ]
  },
  {
   "cell_type": "code",
   "execution_count": 34,
   "metadata": {},
   "outputs": [
    {
     "data": {
      "text/html": [
       "<table class=\"dataframe\">\n",
       "<caption>A tibble: 3 × 4</caption>\n",
       "<thead>\n",
       "\t<tr><th scope=col>Distraction</th><th scope=col>variable</th><th scope=col>statistic</th><th scope=col>p</th></tr>\n",
       "\t<tr><th scope=col>&lt;chr&gt;</th><th scope=col>&lt;chr&gt;</th><th scope=col>&lt;dbl&gt;</th><th scope=col>&lt;dbl&gt;</th></tr>\n",
       "</thead>\n",
       "<tbody>\n",
       "\t<tr><td>Alcohol   </td><td>Driving_behavior</td><td>0.9571318</td><td>0.1335359</td></tr>\n",
       "\t<tr><td>Cell_phone</td><td>Driving_behavior</td><td>0.9927677</td><td>0.9957953</td></tr>\n",
       "\t<tr><td>Control   </td><td>Driving_behavior</td><td>0.9769110</td><td>0.5762613</td></tr>\n",
       "</tbody>\n",
       "</table>\n"
      ],
      "text/latex": [
       "A tibble: 3 × 4\n",
       "\\begin{tabular}{llll}\n",
       " Distraction & variable & statistic & p\\\\\n",
       " <chr> & <chr> & <dbl> & <dbl>\\\\\n",
       "\\hline\n",
       "\t Alcohol    & Driving\\_behavior & 0.9571318 & 0.1335359\\\\\n",
       "\t Cell\\_phone & Driving\\_behavior & 0.9927677 & 0.9957953\\\\\n",
       "\t Control    & Driving\\_behavior & 0.9769110 & 0.5762613\\\\\n",
       "\\end{tabular}\n"
      ],
      "text/markdown": [
       "\n",
       "A tibble: 3 × 4\n",
       "\n",
       "| Distraction &lt;chr&gt; | variable &lt;chr&gt; | statistic &lt;dbl&gt; | p &lt;dbl&gt; |\n",
       "|---|---|---|---|\n",
       "| Alcohol    | Driving_behavior | 0.9571318 | 0.1335359 |\n",
       "| Cell_phone | Driving_behavior | 0.9927677 | 0.9957953 |\n",
       "| Control    | Driving_behavior | 0.9769110 | 0.5762613 |\n",
       "\n"
      ],
      "text/plain": [
       "  Distraction variable         statistic p        \n",
       "1 Alcohol     Driving_behavior 0.9571318 0.1335359\n",
       "2 Cell_phone  Driving_behavior 0.9927677 0.9957953\n",
       "3 Control     Driving_behavior 0.9769110 0.5762613"
      ]
     },
     "metadata": {},
     "output_type": "display_data"
    }
   ],
   "source": [
    "Driving_long %>% group_by(Distraction) %>% shapiro_test(Driving_behavior)"
   ]
  },
  {
   "cell_type": "code",
   "execution_count": 36,
   "metadata": {},
   "outputs": [
    {
     "data": {
      "text/html": [
       "<table class=\"dataframe\">\n",
       "<caption>A data.frame: 0 × 4</caption>\n",
       "<thead>\n",
       "\t<tr><th scope=col>Distraction</th><th scope=col>Driving_behavior</th><th scope=col>is.outlier</th><th scope=col>is.extreme</th></tr>\n",
       "\t<tr><th scope=col>&lt;chr&gt;</th><th scope=col>&lt;dbl&gt;</th><th scope=col>&lt;lgl&gt;</th><th scope=col>&lt;lgl&gt;</th></tr>\n",
       "</thead>\n",
       "<tbody>\n",
       "</tbody>\n",
       "</table>\n"
      ],
      "text/latex": [
       "A data.frame: 0 × 4\n",
       "\\begin{tabular}{llll}\n",
       " Distraction & Driving\\_behavior & is.outlier & is.extreme\\\\\n",
       " <chr> & <dbl> & <lgl> & <lgl>\\\\\n",
       "\\hline\n",
       "\\end{tabular}\n"
      ],
      "text/markdown": [
       "\n",
       "A data.frame: 0 × 4\n",
       "\n",
       "| Distraction &lt;chr&gt; | Driving_behavior &lt;dbl&gt; | is.outlier &lt;lgl&gt; | is.extreme &lt;lgl&gt; |\n",
       "|---|---|---|---|\n",
       "\n"
      ],
      "text/plain": [
       "     Distraction Driving_behavior is.outlier is.extreme"
      ]
     },
     "metadata": {},
     "output_type": "display_data"
    }
   ],
   "source": [
    "Driving_long %>% group_by(Distraction) %>% identify_outliers(Driving_behavior)"
   ]
  },
  {
   "cell_type": "code",
   "execution_count": 37,
   "metadata": {},
   "outputs": [
    {
     "name": "stderr",
     "output_type": "stream",
     "text": [
      "Warning message in leveneTest.default(y = y, group = group, ...):\n",
      "\"group coerced to factor.\"\n"
     ]
    },
    {
     "data": {
      "text/html": [
       "<table class=\"dataframe\">\n",
       "<caption>A tibble: 1 × 4</caption>\n",
       "<thead>\n",
       "\t<tr><th scope=col>df1</th><th scope=col>df2</th><th scope=col>statistic</th><th scope=col>p</th></tr>\n",
       "\t<tr><th scope=col>&lt;int&gt;</th><th scope=col>&lt;int&gt;</th><th scope=col>&lt;dbl&gt;</th><th scope=col>&lt;dbl&gt;</th></tr>\n",
       "</thead>\n",
       "<tbody>\n",
       "\t<tr><td>2</td><td>117</td><td>10.42054</td><td>6.842612e-05</td></tr>\n",
       "</tbody>\n",
       "</table>\n"
      ],
      "text/latex": [
       "A tibble: 1 × 4\n",
       "\\begin{tabular}{llll}\n",
       " df1 & df2 & statistic & p\\\\\n",
       " <int> & <int> & <dbl> & <dbl>\\\\\n",
       "\\hline\n",
       "\t 2 & 117 & 10.42054 & 6.842612e-05\\\\\n",
       "\\end{tabular}\n"
      ],
      "text/markdown": [
       "\n",
       "A tibble: 1 × 4\n",
       "\n",
       "| df1 &lt;int&gt; | df2 &lt;int&gt; | statistic &lt;dbl&gt; | p &lt;dbl&gt; |\n",
       "|---|---|---|---|\n",
       "| 2 | 117 | 10.42054 | 6.842612e-05 |\n",
       "\n"
      ],
      "text/plain": [
       "  df1 df2 statistic p           \n",
       "1 2   117 10.42054  6.842612e-05"
      ]
     },
     "metadata": {},
     "output_type": "display_data"
    }
   ],
   "source": [
    "Driving_long %>% levene_test(Driving_behavior~Distraction)"
   ]
  },
  {
   "cell_type": "markdown",
   "metadata": {},
   "source": [
    "## Eventhough the data is normally distributed, yet the levene test result shows that the variances are not homeogenous, so I guess we can't proceed with parametric hypotests."
   ]
  },
  {
   "cell_type": "code",
   "execution_count": 165,
   "metadata": {},
   "outputs": [
    {
     "data": {
      "text/html": [
       "<table class=\"dataframe\">\n",
       "<caption>A rstatix_test: 1 × 6</caption>\n",
       "<thead>\n",
       "\t<tr><th></th><th scope=col>.y.</th><th scope=col>n</th><th scope=col>statistic</th><th scope=col>df</th><th scope=col>p</th><th scope=col>method</th></tr>\n",
       "\t<tr><th></th><th scope=col>&lt;chr&gt;</th><th scope=col>&lt;int&gt;</th><th scope=col>&lt;dbl&gt;</th><th scope=col>&lt;int&gt;</th><th scope=col>&lt;dbl&gt;</th><th scope=col>&lt;chr&gt;</th></tr>\n",
       "</thead>\n",
       "<tbody>\n",
       "\t<tr><th scope=row>1</th><td>Driving_behavior</td><td>120</td><td>12.47607</td><td>2</td><td>0.00195</td><td>Kruskal-Wallis</td></tr>\n",
       "</tbody>\n",
       "</table>\n"
      ],
      "text/latex": [
       "A rstatix\\_test: 1 × 6\n",
       "\\begin{tabular}{r|llllll}\n",
       "  & .y. & n & statistic & df & p & method\\\\\n",
       "  & <chr> & <int> & <dbl> & <int> & <dbl> & <chr>\\\\\n",
       "\\hline\n",
       "\t1 & Driving\\_behavior & 120 & 12.47607 & 2 & 0.00195 & Kruskal-Wallis\\\\\n",
       "\\end{tabular}\n"
      ],
      "text/markdown": [
       "\n",
       "A rstatix_test: 1 × 6\n",
       "\n",
       "| <!--/--> | .y. &lt;chr&gt; | n &lt;int&gt; | statistic &lt;dbl&gt; | df &lt;int&gt; | p &lt;dbl&gt; | method &lt;chr&gt; |\n",
       "|---|---|---|---|---|---|---|\n",
       "| 1 | Driving_behavior | 120 | 12.47607 | 2 | 0.00195 | Kruskal-Wallis |\n",
       "\n"
      ],
      "text/plain": [
       "  .y.              n   statistic df p       method        \n",
       "1 Driving_behavior 120 12.47607  2  0.00195 Kruskal-Wallis"
      ]
     },
     "metadata": {},
     "output_type": "display_data"
    }
   ],
   "source": [
    "Driving_long %>% kruskal_test(Driving_behavior~Distraction)"
   ]
  },
  {
   "cell_type": "code",
   "execution_count": 166,
   "metadata": {},
   "outputs": [
    {
     "data": {
      "text/html": [
       "<table class=\"dataframe\">\n",
       "<caption>A rstatix_test: 3 × 9</caption>\n",
       "<thead>\n",
       "\t<tr><th></th><th scope=col>.y.</th><th scope=col>group1</th><th scope=col>group2</th><th scope=col>n1</th><th scope=col>n2</th><th scope=col>statistic</th><th scope=col>p</th><th scope=col>p.adj</th><th scope=col>p.adj.signif</th></tr>\n",
       "\t<tr><th></th><th scope=col>&lt;chr&gt;</th><th scope=col>&lt;chr&gt;</th><th scope=col>&lt;chr&gt;</th><th scope=col>&lt;int&gt;</th><th scope=col>&lt;int&gt;</th><th scope=col>&lt;dbl&gt;</th><th scope=col>&lt;dbl&gt;</th><th scope=col>&lt;dbl&gt;</th><th scope=col>&lt;chr&gt;</th></tr>\n",
       "</thead>\n",
       "<tbody>\n",
       "\t<tr><th scope=row>1</th><td>Driving_behavior</td><td>Alcohol   </td><td>Cell_phone</td><td>40</td><td>40</td><td> 595.5</td><td>0.050000</td><td>0.149000</td><td>ns </td></tr>\n",
       "\t<tr><th scope=row>2</th><td>Driving_behavior</td><td>Alcohol   </td><td>Control   </td><td>40</td><td>40</td><td> 877.0</td><td>0.462000</td><td>1.000000</td><td>ns </td></tr>\n",
       "\t<tr><th scope=row>3</th><td>Driving_behavior</td><td>Cell_phone</td><td>Control   </td><td>40</td><td>40</td><td>1197.5</td><td>0.000133</td><td>0.000399</td><td>***</td></tr>\n",
       "</tbody>\n",
       "</table>\n"
      ],
      "text/latex": [
       "A rstatix\\_test: 3 × 9\n",
       "\\begin{tabular}{r|lllllllll}\n",
       "  & .y. & group1 & group2 & n1 & n2 & statistic & p & p.adj & p.adj.signif\\\\\n",
       "  & <chr> & <chr> & <chr> & <int> & <int> & <dbl> & <dbl> & <dbl> & <chr>\\\\\n",
       "\\hline\n",
       "\t1 & Driving\\_behavior & Alcohol    & Cell\\_phone & 40 & 40 &  595.5 & 0.050000 & 0.149000 & ns \\\\\n",
       "\t2 & Driving\\_behavior & Alcohol    & Control    & 40 & 40 &  877.0 & 0.462000 & 1.000000 & ns \\\\\n",
       "\t3 & Driving\\_behavior & Cell\\_phone & Control    & 40 & 40 & 1197.5 & 0.000133 & 0.000399 & ***\\\\\n",
       "\\end{tabular}\n"
      ],
      "text/markdown": [
       "\n",
       "A rstatix_test: 3 × 9\n",
       "\n",
       "| <!--/--> | .y. &lt;chr&gt; | group1 &lt;chr&gt; | group2 &lt;chr&gt; | n1 &lt;int&gt; | n2 &lt;int&gt; | statistic &lt;dbl&gt; | p &lt;dbl&gt; | p.adj &lt;dbl&gt; | p.adj.signif &lt;chr&gt; |\n",
       "|---|---|---|---|---|---|---|---|---|---|\n",
       "| 1 | Driving_behavior | Alcohol    | Cell_phone | 40 | 40 |  595.5 | 0.050000 | 0.149000 | ns  |\n",
       "| 2 | Driving_behavior | Alcohol    | Control    | 40 | 40 |  877.0 | 0.462000 | 1.000000 | ns  |\n",
       "| 3 | Driving_behavior | Cell_phone | Control    | 40 | 40 | 1197.5 | 0.000133 | 0.000399 | *** |\n",
       "\n"
      ],
      "text/plain": [
       "  .y.              group1     group2     n1 n2 statistic p        p.adj   \n",
       "1 Driving_behavior Alcohol    Cell_phone 40 40  595.5    0.050000 0.149000\n",
       "2 Driving_behavior Alcohol    Control    40 40  877.0    0.462000 1.000000\n",
       "3 Driving_behavior Cell_phone Control    40 40 1197.5    0.000133 0.000399\n",
       "  p.adj.signif\n",
       "1 ns          \n",
       "2 ns          \n",
       "3 ***         "
      ]
     },
     "metadata": {},
     "output_type": "display_data"
    }
   ],
   "source": [
    "Driving_long %>% wilcox_test(Driving_behavior ~ Distraction, p.adjust.method = \"bonferroni\")"
   ]
  },
  {
   "cell_type": "code",
   "execution_count": 167,
   "metadata": {},
   "outputs": [],
   "source": [
    "coxres = Driving_long %>% wilcox_test(Driving_behavior ~ Distraction, p.adjust.method = \"bonferroni\")"
   ]
  },
  {
   "cell_type": "code",
   "execution_count": 181,
   "metadata": {},
   "outputs": [],
   "source": [
    "drivingbox = ggboxplot(Driving_long, x = \"Distraction\", y = \"Driving_behavior\", color = \"Distraction\")"
   ]
  },
  {
   "cell_type": "code",
   "execution_count": 183,
   "metadata": {},
   "outputs": [],
   "source": [
    "coxres = coxres %>% add_xy_position(x = \"Distraction\")"
   ]
  },
  {
   "cell_type": "code",
   "execution_count": 186,
   "metadata": {},
   "outputs": [
    {
     "data": {
      "image/png": "[encoded data removed]",
      "text/plain": [
       "plot without title"
      ]
     },
     "metadata": {
      "image/png": {
       "height": 420,
       "width": 420
      }
     },
     "output_type": "display_data"
    }
   ],
   "source": [
    "drivingbox + stat_pvalue_manual(coxres, hide.ns = TRUE)"
   ]
  },
  {
   "cell_type": "markdown",
   "metadata": {},
   "source": [
    "# Answer:\n",
    "#### The kruskal wallis test result shows that there is significant difference between groups that had distractors like alcohol consumption or cell phone usage while driving, meanwhile the post hoc test result shows that only cell phone usage while driving significantlly reduces quality of driving behavior, and legal dose of alcohol consumption does not effect the driving behavior quality, so one can conclude that cell phone usage is the main danger against quality of driving, and alcohol consumtion on legal dosage can have not much of a reduction in driving behavior quality."
   ]
  },
  {
   "cell_type": "code",
   "execution_count": 38,
   "metadata": {},
   "outputs": [
    {
     "data": {
      "text/html": [
       "<table class=\"dataframe\">\n",
       "<caption>A rstatix_test: 3 × 7</caption>\n",
       "<thead>\n",
       "\t<tr><th></th><th scope=col>.y.</th><th scope=col>group1</th><th scope=col>group2</th><th scope=col>effsize</th><th scope=col>n1</th><th scope=col>n2</th><th scope=col>magnitude</th></tr>\n",
       "\t<tr><th></th><th scope=col>&lt;chr&gt;</th><th scope=col>&lt;chr&gt;</th><th scope=col>&lt;chr&gt;</th><th scope=col>&lt;dbl&gt;</th><th scope=col>&lt;int&gt;</th><th scope=col>&lt;int&gt;</th><th scope=col>&lt;ord&gt;</th></tr>\n",
       "</thead>\n",
       "<tbody>\n",
       "\t<tr><th scope=row>1</th><td>Driving_behavior</td><td>Alcohol   </td><td>Cell_phone</td><td>-0.5765545</td><td>40</td><td>40</td><td>moderate  </td></tr>\n",
       "\t<tr><th scope=row>2</th><td>Driving_behavior</td><td>Alcohol   </td><td>Control   </td><td> 0.1050354</td><td>40</td><td>40</td><td>negligible</td></tr>\n",
       "\t<tr><th scope=row>3</th><td>Driving_behavior</td><td>Cell_phone</td><td>Control   </td><td> 0.9419828</td><td>40</td><td>40</td><td>large     </td></tr>\n",
       "</tbody>\n",
       "</table>\n"
      ],
      "text/latex": [
       "A rstatix\\_test: 3 × 7\n",
       "\\begin{tabular}{r|lllllll}\n",
       "  & .y. & group1 & group2 & effsize & n1 & n2 & magnitude\\\\\n",
       "  & <chr> & <chr> & <chr> & <dbl> & <int> & <int> & <ord>\\\\\n",
       "\\hline\n",
       "\t1 & Driving\\_behavior & Alcohol    & Cell\\_phone & -0.5765545 & 40 & 40 & moderate  \\\\\n",
       "\t2 & Driving\\_behavior & Alcohol    & Control    &  0.1050354 & 40 & 40 & negligible\\\\\n",
       "\t3 & Driving\\_behavior & Cell\\_phone & Control    &  0.9419828 & 40 & 40 & large     \\\\\n",
       "\\end{tabular}\n"
      ],
      "text/markdown": [
       "\n",
       "A rstatix_test: 3 × 7\n",
       "\n",
       "| <!--/--> | .y. &lt;chr&gt; | group1 &lt;chr&gt; | group2 &lt;chr&gt; | effsize &lt;dbl&gt; | n1 &lt;int&gt; | n2 &lt;int&gt; | magnitude &lt;ord&gt; |\n",
       "|---|---|---|---|---|---|---|---|\n",
       "| 1 | Driving_behavior | Alcohol    | Cell_phone | -0.5765545 | 40 | 40 | moderate   |\n",
       "| 2 | Driving_behavior | Alcohol    | Control    |  0.1050354 | 40 | 40 | negligible |\n",
       "| 3 | Driving_behavior | Cell_phone | Control    |  0.9419828 | 40 | 40 | large      |\n",
       "\n"
      ],
      "text/plain": [
       "  .y.              group1     group2     effsize    n1 n2 magnitude \n",
       "1 Driving_behavior Alcohol    Cell_phone -0.5765545 40 40 moderate  \n",
       "2 Driving_behavior Alcohol    Control     0.1050354 40 40 negligible\n",
       "3 Driving_behavior Cell_phone Control     0.9419828 40 40 large     "
      ]
     },
     "metadata": {},
     "output_type": "display_data"
    }
   ],
   "source": [
    "Driving_long %>% cohens_d(Driving_behavior~Distraction)"
   ]
  },
  {
   "cell_type": "markdown",
   "metadata": {},
   "source": [
    "## Answer:\n",
    "#### Interestingly, only the intraction of cell phone usage in comparison to control group has a large effect size and other comparisons are negligible even when modrate, which is in accordance to the results we reported above. cell phone usage is indeed a significant variable affecting the driving behavior."
   ]
  },
  {
   "cell_type": "markdown",
   "metadata": {},
   "source": [
    "\n",
    "# Part D. \n",
    "\n",
    "Gouzoulis-Mayfrank et al. examined the task performance of users of the drug Ecstacy and compared that with a group of Cannabis users and a control group of non-users. There were 28 participants in each group, and the Ecstacy users were almost all users of Cannabis as well. Performance was evaluated on several different tasks, but we will focus on a test of abstract thinking. The data given below were created to have the same means and variances as in the original study, and higher scores represent better performance. \n",
    "\n",
    "<img src=\"pr34.jpg\" width=\"450\"/>\n",
    "\n",
    "- Run an analysis of variance comparing the means of the three groups.\n",
    "- Calculate Cohen’s d to examine the pairwise effect sizes—in other words, calculate d on the comparison of each group with each of the other groups.\n",
    "- What is a reasonable set of conclusions from this study?\n"
   ]
  },
  {
   "cell_type": "code",
   "execution_count": 13,
   "metadata": {},
   "outputs": [],
   "source": [
    "Drug_usage = data.frame(\n",
    "    Ecstacy = c(25,25,23,32,21,28,34,26,23,22,26,21,29,28,\n",
    "               23,24,29,23,30,18,25,25,25,25,32,23,29,32),\n",
    "    Cannnibis = c(28,28,28,29,37,34,27,25,34,28,25,27,30,\n",
    "                  29,31,32,30,29,32,25,32,31,32,22,31,25,\n",
    "                  28,34),\n",
    "    Control = c(29,31,31,25,33,21,28,40,35,32,29,31,25,32,\n",
    "               33,34,28,28,25,22,27,34,38,31,30,31,26,30))"
   ]
  },
  {
   "cell_type": "code",
   "execution_count": 14,
   "metadata": {},
   "outputs": [],
   "source": [
    "Drug_long = gather(Drug_usage, key = \"Type\", value= \"Performance\")"
   ]
  },
  {
   "cell_type": "code",
   "execution_count": 15,
   "metadata": {
    "scrolled": true
   },
   "outputs": [
    {
     "data": {
      "text/html": [
       "<table class=\"dataframe\">\n",
       "<caption>A data.frame: 84 × 2</caption>\n",
       "<thead>\n",
       "\t<tr><th scope=col>Type</th><th scope=col>Performance</th></tr>\n",
       "\t<tr><th scope=col>&lt;chr&gt;</th><th scope=col>&lt;dbl&gt;</th></tr>\n",
       "</thead>\n",
       "<tbody>\n",
       "\t<tr><td>Ecstacy  </td><td>25</td></tr>\n",
       "\t<tr><td>Ecstacy  </td><td>25</td></tr>\n",
       "\t<tr><td>Ecstacy  </td><td>23</td></tr>\n",
       "\t<tr><td>Ecstacy  </td><td>32</td></tr>\n",
       "\t<tr><td>Ecstacy  </td><td>21</td></tr>\n",
       "\t<tr><td>Ecstacy  </td><td>28</td></tr>\n",
       "\t<tr><td>Ecstacy  </td><td>34</td></tr>\n",
       "\t<tr><td>Ecstacy  </td><td>26</td></tr>\n",
       "\t<tr><td>Ecstacy  </td><td>23</td></tr>\n",
       "\t<tr><td>Ecstacy  </td><td>22</td></tr>\n",
       "\t<tr><td>Ecstacy  </td><td>26</td></tr>\n",
       "\t<tr><td>Ecstacy  </td><td>21</td></tr>\n",
       "\t<tr><td>Ecstacy  </td><td>29</td></tr>\n",
       "\t<tr><td>Ecstacy  </td><td>28</td></tr>\n",
       "\t<tr><td>Ecstacy  </td><td>23</td></tr>\n",
       "\t<tr><td>Ecstacy  </td><td>24</td></tr>\n",
       "\t<tr><td>Ecstacy  </td><td>29</td></tr>\n",
       "\t<tr><td>Ecstacy  </td><td>23</td></tr>\n",
       "\t<tr><td>Ecstacy  </td><td>30</td></tr>\n",
       "\t<tr><td>Ecstacy  </td><td>18</td></tr>\n",
       "\t<tr><td>Ecstacy  </td><td>25</td></tr>\n",
       "\t<tr><td>Ecstacy  </td><td>25</td></tr>\n",
       "\t<tr><td>Ecstacy  </td><td>25</td></tr>\n",
       "\t<tr><td>Ecstacy  </td><td>25</td></tr>\n",
       "\t<tr><td>Ecstacy  </td><td>32</td></tr>\n",
       "\t<tr><td>Ecstacy  </td><td>23</td></tr>\n",
       "\t<tr><td>Ecstacy  </td><td>29</td></tr>\n",
       "\t<tr><td>Ecstacy  </td><td>32</td></tr>\n",
       "\t<tr><td>Cannnibis</td><td>28</td></tr>\n",
       "\t<tr><td>Cannnibis</td><td>28</td></tr>\n",
       "\t<tr><td>⋮</td><td>⋮</td></tr>\n",
       "\t<tr><td>Cannnibis</td><td>28</td></tr>\n",
       "\t<tr><td>Cannnibis</td><td>34</td></tr>\n",
       "\t<tr><td>Control  </td><td>29</td></tr>\n",
       "\t<tr><td>Control  </td><td>31</td></tr>\n",
       "\t<tr><td>Control  </td><td>31</td></tr>\n",
       "\t<tr><td>Control  </td><td>25</td></tr>\n",
       "\t<tr><td>Control  </td><td>33</td></tr>\n",
       "\t<tr><td>Control  </td><td>21</td></tr>\n",
       "\t<tr><td>Control  </td><td>28</td></tr>\n",
       "\t<tr><td>Control  </td><td>40</td></tr>\n",
       "\t<tr><td>Control  </td><td>35</td></tr>\n",
       "\t<tr><td>Control  </td><td>32</td></tr>\n",
       "\t<tr><td>Control  </td><td>29</td></tr>\n",
       "\t<tr><td>Control  </td><td>31</td></tr>\n",
       "\t<tr><td>Control  </td><td>25</td></tr>\n",
       "\t<tr><td>Control  </td><td>32</td></tr>\n",
       "\t<tr><td>Control  </td><td>33</td></tr>\n",
       "\t<tr><td>Control  </td><td>34</td></tr>\n",
       "\t<tr><td>Control  </td><td>28</td></tr>\n",
       "\t<tr><td>Control  </td><td>28</td></tr>\n",
       "\t<tr><td>Control  </td><td>25</td></tr>\n",
       "\t<tr><td>Control  </td><td>22</td></tr>\n",
       "\t<tr><td>Control  </td><td>27</td></tr>\n",
       "\t<tr><td>Control  </td><td>34</td></tr>\n",
       "\t<tr><td>Control  </td><td>38</td></tr>\n",
       "\t<tr><td>Control  </td><td>31</td></tr>\n",
       "\t<tr><td>Control  </td><td>30</td></tr>\n",
       "\t<tr><td>Control  </td><td>31</td></tr>\n",
       "\t<tr><td>Control  </td><td>26</td></tr>\n",
       "\t<tr><td>Control  </td><td>30</td></tr>\n",
       "</tbody>\n",
       "</table>\n"
      ],
      "text/latex": [
       "A data.frame: 84 × 2\n",
       "\\begin{tabular}{ll}\n",
       " Type & Performance\\\\\n",
       " <chr> & <dbl>\\\\\n",
       "\\hline\n",
       "\t Ecstacy   & 25\\\\\n",
       "\t Ecstacy   & 25\\\\\n",
       "\t Ecstacy   & 23\\\\\n",
       "\t Ecstacy   & 32\\\\\n",
       "\t Ecstacy   & 21\\\\\n",
       "\t Ecstacy   & 28\\\\\n",
       "\t Ecstacy   & 34\\\\\n",
       "\t Ecstacy   & 26\\\\\n",
       "\t Ecstacy   & 23\\\\\n",
       "\t Ecstacy   & 22\\\\\n",
       "\t Ecstacy   & 26\\\\\n",
       "\t Ecstacy   & 21\\\\\n",
       "\t Ecstacy   & 29\\\\\n",
       "\t Ecstacy   & 28\\\\\n",
       "\t Ecstacy   & 23\\\\\n",
       "\t Ecstacy   & 24\\\\\n",
       "\t Ecstacy   & 29\\\\\n",
       "\t Ecstacy   & 23\\\\\n",
       "\t Ecstacy   & 30\\\\\n",
       "\t Ecstacy   & 18\\\\\n",
       "\t Ecstacy   & 25\\\\\n",
       "\t Ecstacy   & 25\\\\\n",
       "\t Ecstacy   & 25\\\\\n",
       "\t Ecstacy   & 25\\\\\n",
       "\t Ecstacy   & 32\\\\\n",
       "\t Ecstacy   & 23\\\\\n",
       "\t Ecstacy   & 29\\\\\n",
       "\t Ecstacy   & 32\\\\\n",
       "\t Cannnibis & 28\\\\\n",
       "\t Cannnibis & 28\\\\\n",
       "\t ⋮ & ⋮\\\\\n",
       "\t Cannnibis & 28\\\\\n",
       "\t Cannnibis & 34\\\\\n",
       "\t Control   & 29\\\\\n",
       "\t Control   & 31\\\\\n",
       "\t Control   & 31\\\\\n",
       "\t Control   & 25\\\\\n",
       "\t Control   & 33\\\\\n",
       "\t Control   & 21\\\\\n",
       "\t Control   & 28\\\\\n",
       "\t Control   & 40\\\\\n",
       "\t Control   & 35\\\\\n",
       "\t Control   & 32\\\\\n",
       "\t Control   & 29\\\\\n",
       "\t Control   & 31\\\\\n",
       "\t Control   & 25\\\\\n",
       "\t Control   & 32\\\\\n",
       "\t Control   & 33\\\\\n",
       "\t Control   & 34\\\\\n",
       "\t Control   & 28\\\\\n",
       "\t Control   & 28\\\\\n",
       "\t Control   & 25\\\\\n",
       "\t Control   & 22\\\\\n",
       "\t Control   & 27\\\\\n",
       "\t Control   & 34\\\\\n",
       "\t Control   & 38\\\\\n",
       "\t Control   & 31\\\\\n",
       "\t Control   & 30\\\\\n",
       "\t Control   & 31\\\\\n",
       "\t Control   & 26\\\\\n",
       "\t Control   & 30\\\\\n",
       "\\end{tabular}\n"
      ],
      "text/markdown": [
       "\n",
       "A data.frame: 84 × 2\n",
       "\n",
       "| Type &lt;chr&gt; | Performance &lt;dbl&gt; |\n",
       "|---|---|\n",
       "| Ecstacy   | 25 |\n",
       "| Ecstacy   | 25 |\n",
       "| Ecstacy   | 23 |\n",
       "| Ecstacy   | 32 |\n",
       "| Ecstacy   | 21 |\n",
       "| Ecstacy   | 28 |\n",
       "| Ecstacy   | 34 |\n",
       "| Ecstacy   | 26 |\n",
       "| Ecstacy   | 23 |\n",
       "| Ecstacy   | 22 |\n",
       "| Ecstacy   | 26 |\n",
       "| Ecstacy   | 21 |\n",
       "| Ecstacy   | 29 |\n",
       "| Ecstacy   | 28 |\n",
       "| Ecstacy   | 23 |\n",
       "| Ecstacy   | 24 |\n",
       "| Ecstacy   | 29 |\n",
       "| Ecstacy   | 23 |\n",
       "| Ecstacy   | 30 |\n",
       "| Ecstacy   | 18 |\n",
       "| Ecstacy   | 25 |\n",
       "| Ecstacy   | 25 |\n",
       "| Ecstacy   | 25 |\n",
       "| Ecstacy   | 25 |\n",
       "| Ecstacy   | 32 |\n",
       "| Ecstacy   | 23 |\n",
       "| Ecstacy   | 29 |\n",
       "| Ecstacy   | 32 |\n",
       "| Cannnibis | 28 |\n",
       "| Cannnibis | 28 |\n",
       "| ⋮ | ⋮ |\n",
       "| Cannnibis | 28 |\n",
       "| Cannnibis | 34 |\n",
       "| Control   | 29 |\n",
       "| Control   | 31 |\n",
       "| Control   | 31 |\n",
       "| Control   | 25 |\n",
       "| Control   | 33 |\n",
       "| Control   | 21 |\n",
       "| Control   | 28 |\n",
       "| Control   | 40 |\n",
       "| Control   | 35 |\n",
       "| Control   | 32 |\n",
       "| Control   | 29 |\n",
       "| Control   | 31 |\n",
       "| Control   | 25 |\n",
       "| Control   | 32 |\n",
       "| Control   | 33 |\n",
       "| Control   | 34 |\n",
       "| Control   | 28 |\n",
       "| Control   | 28 |\n",
       "| Control   | 25 |\n",
       "| Control   | 22 |\n",
       "| Control   | 27 |\n",
       "| Control   | 34 |\n",
       "| Control   | 38 |\n",
       "| Control   | 31 |\n",
       "| Control   | 30 |\n",
       "| Control   | 31 |\n",
       "| Control   | 26 |\n",
       "| Control   | 30 |\n",
       "\n"
      ],
      "text/plain": [
       "   Type      Performance\n",
       "1  Ecstacy   25         \n",
       "2  Ecstacy   25         \n",
       "3  Ecstacy   23         \n",
       "4  Ecstacy   32         \n",
       "5  Ecstacy   21         \n",
       "6  Ecstacy   28         \n",
       "7  Ecstacy   34         \n",
       "8  Ecstacy   26         \n",
       "9  Ecstacy   23         \n",
       "10 Ecstacy   22         \n",
       "11 Ecstacy   26         \n",
       "12 Ecstacy   21         \n",
       "13 Ecstacy   29         \n",
       "14 Ecstacy   28         \n",
       "15 Ecstacy   23         \n",
       "16 Ecstacy   24         \n",
       "17 Ecstacy   29         \n",
       "18 Ecstacy   23         \n",
       "19 Ecstacy   30         \n",
       "20 Ecstacy   18         \n",
       "21 Ecstacy   25         \n",
       "22 Ecstacy   25         \n",
       "23 Ecstacy   25         \n",
       "24 Ecstacy   25         \n",
       "25 Ecstacy   32         \n",
       "26 Ecstacy   23         \n",
       "27 Ecstacy   29         \n",
       "28 Ecstacy   32         \n",
       "29 Cannnibis 28         \n",
       "30 Cannnibis 28         \n",
       "⋮  ⋮         ⋮          \n",
       "55 Cannnibis 28         \n",
       "56 Cannnibis 34         \n",
       "57 Control   29         \n",
       "58 Control   31         \n",
       "59 Control   31         \n",
       "60 Control   25         \n",
       "61 Control   33         \n",
       "62 Control   21         \n",
       "63 Control   28         \n",
       "64 Control   40         \n",
       "65 Control   35         \n",
       "66 Control   32         \n",
       "67 Control   29         \n",
       "68 Control   31         \n",
       "69 Control   25         \n",
       "70 Control   32         \n",
       "71 Control   33         \n",
       "72 Control   34         \n",
       "73 Control   28         \n",
       "74 Control   28         \n",
       "75 Control   25         \n",
       "76 Control   22         \n",
       "77 Control   27         \n",
       "78 Control   34         \n",
       "79 Control   38         \n",
       "80 Control   31         \n",
       "81 Control   30         \n",
       "82 Control   31         \n",
       "83 Control   26         \n",
       "84 Control   30         "
      ]
     },
     "metadata": {},
     "output_type": "display_data"
    }
   ],
   "source": [
    "Drug_long"
   ]
  },
  {
   "cell_type": "code",
   "execution_count": 16,
   "metadata": {},
   "outputs": [
    {
     "data": {
      "text/html": [
       "<table class=\"dataframe\">\n",
       "<caption>A tibble: 3 × 14</caption>\n",
       "<thead>\n",
       "\t<tr><th scope=col>Type</th><th scope=col>variable</th><th scope=col>n</th><th scope=col>min</th><th scope=col>max</th><th scope=col>median</th><th scope=col>q1</th><th scope=col>q3</th><th scope=col>iqr</th><th scope=col>mad</th><th scope=col>mean</th><th scope=col>sd</th><th scope=col>se</th><th scope=col>ci</th></tr>\n",
       "\t<tr><th scope=col>&lt;chr&gt;</th><th scope=col>&lt;fct&gt;</th><th scope=col>&lt;dbl&gt;</th><th scope=col>&lt;dbl&gt;</th><th scope=col>&lt;dbl&gt;</th><th scope=col>&lt;dbl&gt;</th><th scope=col>&lt;dbl&gt;</th><th scope=col>&lt;dbl&gt;</th><th scope=col>&lt;dbl&gt;</th><th scope=col>&lt;dbl&gt;</th><th scope=col>&lt;dbl&gt;</th><th scope=col>&lt;dbl&gt;</th><th scope=col>&lt;dbl&gt;</th><th scope=col>&lt;dbl&gt;</th></tr>\n",
       "</thead>\n",
       "<tbody>\n",
       "\t<tr><td>Cannnibis</td><td>Performance</td><td>28</td><td>22</td><td>37</td><td>29.0</td><td>27.75</td><td>32.00</td><td>4.25</td><td>2.965</td><td>29.393</td><td>3.392</td><td>0.641</td><td>1.315</td></tr>\n",
       "\t<tr><td>Control  </td><td>Performance</td><td>28</td><td>21</td><td>40</td><td>30.5</td><td>27.75</td><td>32.25</td><td>4.50</td><td>3.706</td><td>29.964</td><td>4.350</td><td>0.822</td><td>1.687</td></tr>\n",
       "\t<tr><td>Ecstacy  </td><td>Performance</td><td>28</td><td>18</td><td>34</td><td>25.0</td><td>23.00</td><td>29.00</td><td>6.00</td><td>3.706</td><td>25.929</td><td>3.887</td><td>0.735</td><td>1.507</td></tr>\n",
       "</tbody>\n",
       "</table>\n"
      ],
      "text/latex": [
       "A tibble: 3 × 14\n",
       "\\begin{tabular}{llllllllllllll}\n",
       " Type & variable & n & min & max & median & q1 & q3 & iqr & mad & mean & sd & se & ci\\\\\n",
       " <chr> & <fct> & <dbl> & <dbl> & <dbl> & <dbl> & <dbl> & <dbl> & <dbl> & <dbl> & <dbl> & <dbl> & <dbl> & <dbl>\\\\\n",
       "\\hline\n",
       "\t Cannnibis & Performance & 28 & 22 & 37 & 29.0 & 27.75 & 32.00 & 4.25 & 2.965 & 29.393 & 3.392 & 0.641 & 1.315\\\\\n",
       "\t Control   & Performance & 28 & 21 & 40 & 30.5 & 27.75 & 32.25 & 4.50 & 3.706 & 29.964 & 4.350 & 0.822 & 1.687\\\\\n",
       "\t Ecstacy   & Performance & 28 & 18 & 34 & 25.0 & 23.00 & 29.00 & 6.00 & 3.706 & 25.929 & 3.887 & 0.735 & 1.507\\\\\n",
       "\\end{tabular}\n"
      ],
      "text/markdown": [
       "\n",
       "A tibble: 3 × 14\n",
       "\n",
       "| Type &lt;chr&gt; | variable &lt;fct&gt; | n &lt;dbl&gt; | min &lt;dbl&gt; | max &lt;dbl&gt; | median &lt;dbl&gt; | q1 &lt;dbl&gt; | q3 &lt;dbl&gt; | iqr &lt;dbl&gt; | mad &lt;dbl&gt; | mean &lt;dbl&gt; | sd &lt;dbl&gt; | se &lt;dbl&gt; | ci &lt;dbl&gt; |\n",
       "|---|---|---|---|---|---|---|---|---|---|---|---|---|---|\n",
       "| Cannnibis | Performance | 28 | 22 | 37 | 29.0 | 27.75 | 32.00 | 4.25 | 2.965 | 29.393 | 3.392 | 0.641 | 1.315 |\n",
       "| Control   | Performance | 28 | 21 | 40 | 30.5 | 27.75 | 32.25 | 4.50 | 3.706 | 29.964 | 4.350 | 0.822 | 1.687 |\n",
       "| Ecstacy   | Performance | 28 | 18 | 34 | 25.0 | 23.00 | 29.00 | 6.00 | 3.706 | 25.929 | 3.887 | 0.735 | 1.507 |\n",
       "\n"
      ],
      "text/plain": [
       "  Type      variable    n  min max median q1    q3    iqr  mad   mean   sd   \n",
       "1 Cannnibis Performance 28 22  37  29.0   27.75 32.00 4.25 2.965 29.393 3.392\n",
       "2 Control   Performance 28 21  40  30.5   27.75 32.25 4.50 3.706 29.964 4.350\n",
       "3 Ecstacy   Performance 28 18  34  25.0   23.00 29.00 6.00 3.706 25.929 3.887\n",
       "  se    ci   \n",
       "1 0.641 1.315\n",
       "2 0.822 1.687\n",
       "3 0.735 1.507"
      ]
     },
     "metadata": {},
     "output_type": "display_data"
    }
   ],
   "source": [
    "Drug_long %>% group_by(Type) %>% get_summary_stats(Performance)"
   ]
  },
  {
   "cell_type": "code",
   "execution_count": 17,
   "metadata": {},
   "outputs": [
    {
     "data": {
      "image/png": "[encoded data removed]",
      "text/plain": [
       "plot without title"
      ]
     },
     "metadata": {
      "image/png": {
       "height": 420,
       "width": 420
      }
     },
     "output_type": "display_data"
    }
   ],
   "source": [
    "ggqqplot(Drug_long, \"Performance\", facet.by = \"Type\")"
   ]
  },
  {
   "cell_type": "code",
   "execution_count": 18,
   "metadata": {},
   "outputs": [
    {
     "data": {
      "text/html": [
       "<table class=\"dataframe\">\n",
       "<caption>A tibble: 1 × 4</caption>\n",
       "<thead>\n",
       "\t<tr><th scope=col>Type</th><th scope=col>Performance</th><th scope=col>is.outlier</th><th scope=col>is.extreme</th></tr>\n",
       "\t<tr><th scope=col>&lt;chr&gt;</th><th scope=col>&lt;dbl&gt;</th><th scope=col>&lt;lgl&gt;</th><th scope=col>&lt;lgl&gt;</th></tr>\n",
       "</thead>\n",
       "<tbody>\n",
       "\t<tr><td>Control</td><td>40</td><td>TRUE</td><td>FALSE</td></tr>\n",
       "</tbody>\n",
       "</table>\n"
      ],
      "text/latex": [
       "A tibble: 1 × 4\n",
       "\\begin{tabular}{llll}\n",
       " Type & Performance & is.outlier & is.extreme\\\\\n",
       " <chr> & <dbl> & <lgl> & <lgl>\\\\\n",
       "\\hline\n",
       "\t Control & 40 & TRUE & FALSE\\\\\n",
       "\\end{tabular}\n"
      ],
      "text/markdown": [
       "\n",
       "A tibble: 1 × 4\n",
       "\n",
       "| Type &lt;chr&gt; | Performance &lt;dbl&gt; | is.outlier &lt;lgl&gt; | is.extreme &lt;lgl&gt; |\n",
       "|---|---|---|---|\n",
       "| Control | 40 | TRUE | FALSE |\n",
       "\n"
      ],
      "text/plain": [
       "  Type    Performance is.outlier is.extreme\n",
       "1 Control 40          TRUE       FALSE     "
      ]
     },
     "metadata": {},
     "output_type": "display_data"
    }
   ],
   "source": [
    "Drug_long %>% group_by(Type) %>% identify_outliers(Performance)"
   ]
  },
  {
   "cell_type": "code",
   "execution_count": 19,
   "metadata": {},
   "outputs": [
    {
     "data": {
      "text/html": [
       "<table class=\"dataframe\">\n",
       "<caption>A tibble: 3 × 4</caption>\n",
       "<thead>\n",
       "\t<tr><th scope=col>Type</th><th scope=col>variable</th><th scope=col>statistic</th><th scope=col>p</th></tr>\n",
       "\t<tr><th scope=col>&lt;chr&gt;</th><th scope=col>&lt;chr&gt;</th><th scope=col>&lt;dbl&gt;</th><th scope=col>&lt;dbl&gt;</th></tr>\n",
       "</thead>\n",
       "<tbody>\n",
       "\t<tr><td>Cannnibis</td><td>Performance</td><td>0.9787536</td><td>0.8195677</td></tr>\n",
       "\t<tr><td>Control  </td><td>Performance</td><td>0.9823961</td><td>0.9033555</td></tr>\n",
       "\t<tr><td>Ecstacy  </td><td>Performance</td><td>0.9622613</td><td>0.3939298</td></tr>\n",
       "</tbody>\n",
       "</table>\n"
      ],
      "text/latex": [
       "A tibble: 3 × 4\n",
       "\\begin{tabular}{llll}\n",
       " Type & variable & statistic & p\\\\\n",
       " <chr> & <chr> & <dbl> & <dbl>\\\\\n",
       "\\hline\n",
       "\t Cannnibis & Performance & 0.9787536 & 0.8195677\\\\\n",
       "\t Control   & Performance & 0.9823961 & 0.9033555\\\\\n",
       "\t Ecstacy   & Performance & 0.9622613 & 0.3939298\\\\\n",
       "\\end{tabular}\n"
      ],
      "text/markdown": [
       "\n",
       "A tibble: 3 × 4\n",
       "\n",
       "| Type &lt;chr&gt; | variable &lt;chr&gt; | statistic &lt;dbl&gt; | p &lt;dbl&gt; |\n",
       "|---|---|---|---|\n",
       "| Cannnibis | Performance | 0.9787536 | 0.8195677 |\n",
       "| Control   | Performance | 0.9823961 | 0.9033555 |\n",
       "| Ecstacy   | Performance | 0.9622613 | 0.3939298 |\n",
       "\n"
      ],
      "text/plain": [
       "  Type      variable    statistic p        \n",
       "1 Cannnibis Performance 0.9787536 0.8195677\n",
       "2 Control   Performance 0.9823961 0.9033555\n",
       "3 Ecstacy   Performance 0.9622613 0.3939298"
      ]
     },
     "metadata": {},
     "output_type": "display_data"
    }
   ],
   "source": [
    "Drug_long %>% group_by(Type) %>% shapiro_test(Performance)"
   ]
  },
  {
   "cell_type": "code",
   "execution_count": 20,
   "metadata": {},
   "outputs": [
    {
     "name": "stderr",
     "output_type": "stream",
     "text": [
      "Warning message in leveneTest.default(y = y, group = group, ...):\n",
      "\"group coerced to factor.\"\n"
     ]
    },
    {
     "data": {
      "text/html": [
       "<table class=\"dataframe\">\n",
       "<caption>A tibble: 1 × 4</caption>\n",
       "<thead>\n",
       "\t<tr><th scope=col>df1</th><th scope=col>df2</th><th scope=col>statistic</th><th scope=col>p</th></tr>\n",
       "\t<tr><th scope=col>&lt;int&gt;</th><th scope=col>&lt;int&gt;</th><th scope=col>&lt;dbl&gt;</th><th scope=col>&lt;dbl&gt;</th></tr>\n",
       "</thead>\n",
       "<tbody>\n",
       "\t<tr><td>2</td><td>81</td><td>0.4647259</td><td>0.6299721</td></tr>\n",
       "</tbody>\n",
       "</table>\n"
      ],
      "text/latex": [
       "A tibble: 1 × 4\n",
       "\\begin{tabular}{llll}\n",
       " df1 & df2 & statistic & p\\\\\n",
       " <int> & <int> & <dbl> & <dbl>\\\\\n",
       "\\hline\n",
       "\t 2 & 81 & 0.4647259 & 0.6299721\\\\\n",
       "\\end{tabular}\n"
      ],
      "text/markdown": [
       "\n",
       "A tibble: 1 × 4\n",
       "\n",
       "| df1 &lt;int&gt; | df2 &lt;int&gt; | statistic &lt;dbl&gt; | p &lt;dbl&gt; |\n",
       "|---|---|---|---|\n",
       "| 2 | 81 | 0.4647259 | 0.6299721 |\n",
       "\n"
      ],
      "text/plain": [
       "  df1 df2 statistic p        \n",
       "1 2   81  0.4647259 0.6299721"
      ]
     },
     "metadata": {},
     "output_type": "display_data"
    }
   ],
   "source": [
    "Drug_long %>% levene_test(Performance~Type)"
   ]
  },
  {
   "cell_type": "markdown",
   "metadata": {},
   "source": [
    "## All the persumptions of parametric tests are valid, so we proceed to use them."
   ]
  },
  {
   "cell_type": "code",
   "execution_count": 21,
   "metadata": {},
   "outputs": [
    {
     "data": {
      "text/html": [
       "<table class=\"dataframe\">\n",
       "<caption>A anova_test: 1 × 7</caption>\n",
       "<thead>\n",
       "\t<tr><th></th><th scope=col>Effect</th><th scope=col>DFn</th><th scope=col>DFd</th><th scope=col>F</th><th scope=col>p</th><th scope=col>p&lt;.05</th><th scope=col>ges</th></tr>\n",
       "\t<tr><th></th><th scope=col>&lt;chr&gt;</th><th scope=col>&lt;dbl&gt;</th><th scope=col>&lt;dbl&gt;</th><th scope=col>&lt;dbl&gt;</th><th scope=col>&lt;dbl&gt;</th><th scope=col>&lt;chr&gt;</th><th scope=col>&lt;dbl&gt;</th></tr>\n",
       "</thead>\n",
       "<tbody>\n",
       "\t<tr><th scope=row>1</th><td>Type</td><td>2</td><td>81</td><td>8.797</td><td>0.000349</td><td>*</td><td>0.178</td></tr>\n",
       "</tbody>\n",
       "</table>\n"
      ],
      "text/latex": [
       "A anova\\_test: 1 × 7\n",
       "\\begin{tabular}{r|lllllll}\n",
       "  & Effect & DFn & DFd & F & p & p<.05 & ges\\\\\n",
       "  & <chr> & <dbl> & <dbl> & <dbl> & <dbl> & <chr> & <dbl>\\\\\n",
       "\\hline\n",
       "\t1 & Type & 2 & 81 & 8.797 & 0.000349 & * & 0.178\\\\\n",
       "\\end{tabular}\n"
      ],
      "text/markdown": [
       "\n",
       "A anova_test: 1 × 7\n",
       "\n",
       "| <!--/--> | Effect &lt;chr&gt; | DFn &lt;dbl&gt; | DFd &lt;dbl&gt; | F &lt;dbl&gt; | p &lt;dbl&gt; | p&lt;.05 &lt;chr&gt; | ges &lt;dbl&gt; |\n",
       "|---|---|---|---|---|---|---|---|\n",
       "| 1 | Type | 2 | 81 | 8.797 | 0.000349 | * | 0.178 |\n",
       "\n"
      ],
      "text/plain": [
       "  Effect DFn DFd F     p        p<.05 ges  \n",
       "1 Type   2   81  8.797 0.000349 *     0.178"
      ]
     },
     "metadata": {},
     "output_type": "display_data"
    }
   ],
   "source": [
    "Drug_long %>% anova_test(Performance~Type)"
   ]
  },
  {
   "cell_type": "code",
   "execution_count": 22,
   "metadata": {},
   "outputs": [
    {
     "data": {
      "text/html": [
       "<table class=\"dataframe\">\n",
       "<caption>A rstatix_test: 3 × 9</caption>\n",
       "<thead>\n",
       "\t<tr><th></th><th scope=col>term</th><th scope=col>.y.</th><th scope=col>group1</th><th scope=col>group2</th><th scope=col>df</th><th scope=col>statistic</th><th scope=col>p</th><th scope=col>p.adj</th><th scope=col>p.adj.signif</th></tr>\n",
       "\t<tr><th></th><th scope=col>&lt;chr&gt;</th><th scope=col>&lt;chr&gt;</th><th scope=col>&lt;chr&gt;</th><th scope=col>&lt;chr&gt;</th><th scope=col>&lt;dbl&gt;</th><th scope=col>&lt;dbl&gt;</th><th scope=col>&lt;dbl&gt;</th><th scope=col>&lt;dbl&gt;</th><th scope=col>&lt;chr&gt;</th></tr>\n",
       "</thead>\n",
       "<tbody>\n",
       "\t<tr><th scope=row>1</th><td>Type</td><td>Performance</td><td>Cannnibis</td><td>Control</td><td>81</td><td>-0.5487875</td><td>0.5846608728</td><td>1.0000000000</td><td>ns </td></tr>\n",
       "\t<tr><th scope=row>2</th><td>Type</td><td>Performance</td><td>Cannnibis</td><td>Ecstacy</td><td>81</td><td> 3.3270242</td><td>0.0013215815</td><td>0.0039647446</td><td>** </td></tr>\n",
       "\t<tr><th scope=row>3</th><td>Type</td><td>Performance</td><td>Control  </td><td>Ecstacy</td><td>81</td><td> 3.8758117</td><td>0.0002148296</td><td>0.0006444888</td><td>***</td></tr>\n",
       "</tbody>\n",
       "</table>\n"
      ],
      "text/latex": [
       "A rstatix\\_test: 3 × 9\n",
       "\\begin{tabular}{r|lllllllll}\n",
       "  & term & .y. & group1 & group2 & df & statistic & p & p.adj & p.adj.signif\\\\\n",
       "  & <chr> & <chr> & <chr> & <chr> & <dbl> & <dbl> & <dbl> & <dbl> & <chr>\\\\\n",
       "\\hline\n",
       "\t1 & Type & Performance & Cannnibis & Control & 81 & -0.5487875 & 0.5846608728 & 1.0000000000 & ns \\\\\n",
       "\t2 & Type & Performance & Cannnibis & Ecstacy & 81 &  3.3270242 & 0.0013215815 & 0.0039647446 & ** \\\\\n",
       "\t3 & Type & Performance & Control   & Ecstacy & 81 &  3.8758117 & 0.0002148296 & 0.0006444888 & ***\\\\\n",
       "\\end{tabular}\n"
      ],
      "text/markdown": [
       "\n",
       "A rstatix_test: 3 × 9\n",
       "\n",
       "| <!--/--> | term &lt;chr&gt; | .y. &lt;chr&gt; | group1 &lt;chr&gt; | group2 &lt;chr&gt; | df &lt;dbl&gt; | statistic &lt;dbl&gt; | p &lt;dbl&gt; | p.adj &lt;dbl&gt; | p.adj.signif &lt;chr&gt; |\n",
       "|---|---|---|---|---|---|---|---|---|---|\n",
       "| 1 | Type | Performance | Cannnibis | Control | 81 | -0.5487875 | 0.5846608728 | 1.0000000000 | ns  |\n",
       "| 2 | Type | Performance | Cannnibis | Ecstacy | 81 |  3.3270242 | 0.0013215815 | 0.0039647446 | **  |\n",
       "| 3 | Type | Performance | Control   | Ecstacy | 81 |  3.8758117 | 0.0002148296 | 0.0006444888 | *** |\n",
       "\n"
      ],
      "text/plain": [
       "  term .y.         group1    group2  df statistic  p            p.adj       \n",
       "1 Type Performance Cannnibis Control 81 -0.5487875 0.5846608728 1.0000000000\n",
       "2 Type Performance Cannnibis Ecstacy 81  3.3270242 0.0013215815 0.0039647446\n",
       "3 Type Performance Control   Ecstacy 81  3.8758117 0.0002148296 0.0006444888\n",
       "  p.adj.signif\n",
       "1 ns          \n",
       "2 **          \n",
       "3 ***         "
      ]
     },
     "metadata": {},
     "output_type": "display_data"
    }
   ],
   "source": [
    "Drug_long %>% emmeans_test(Performance ~ Type, p.adjust.method = \"bonferroni\")"
   ]
  },
  {
   "cell_type": "code",
   "execution_count": 23,
   "metadata": {},
   "outputs": [],
   "source": [
    "tressdrug = Drug_long %>% emmeans_test(Performance ~ Type, p.adjust.method = \"bonferroni\")\n",
    "boxressdrug = ggboxplot(Drug_long, x=\"Type\", y=\"Performance\", color=\"Type\")"
   ]
  },
  {
   "cell_type": "code",
   "execution_count": 24,
   "metadata": {},
   "outputs": [],
   "source": [
    "tressdrug = tressdrug %>% add_xy_position(x = \"Type\")"
   ]
  },
  {
   "cell_type": "code",
   "execution_count": 26,
   "metadata": {},
   "outputs": [
    {
     "data": {
      "image/png": "[encoded data removed]",
      "text/plain": [
       "plot without title"
      ]
     },
     "metadata": {
      "image/png": {
       "height": 420,
       "width": 420
      }
     },
     "output_type": "display_data"
    }
   ],
   "source": [
    "boxressdrug + stat_pvalue_manual(tressdrug)"
   ]
  },
  {
   "cell_type": "code",
   "execution_count": 27,
   "metadata": {},
   "outputs": [
    {
     "data": {
      "text/html": [
       "<table class=\"dataframe\">\n",
       "<caption>A rstatix_test: 3 × 7</caption>\n",
       "<thead>\n",
       "\t<tr><th></th><th scope=col>.y.</th><th scope=col>group1</th><th scope=col>group2</th><th scope=col>effsize</th><th scope=col>n1</th><th scope=col>n2</th><th scope=col>magnitude</th></tr>\n",
       "\t<tr><th></th><th scope=col>&lt;chr&gt;</th><th scope=col>&lt;chr&gt;</th><th scope=col>&lt;chr&gt;</th><th scope=col>&lt;dbl&gt;</th><th scope=col>&lt;int&gt;</th><th scope=col>&lt;int&gt;</th><th scope=col>&lt;ord&gt;</th></tr>\n",
       "</thead>\n",
       "<tbody>\n",
       "\t<tr><th scope=row>1</th><td>Performance</td><td>Cannnibis</td><td>Control</td><td>-0.1464931</td><td>28</td><td>28</td><td>negligible</td></tr>\n",
       "\t<tr><th scope=row>2</th><td>Performance</td><td>Cannnibis</td><td>Ecstacy</td><td> 0.9496999</td><td>28</td><td>28</td><td>large     </td></tr>\n",
       "\t<tr><th scope=row>3</th><td>Performance</td><td>Control  </td><td>Ecstacy</td><td> 0.9783669</td><td>28</td><td>28</td><td>large     </td></tr>\n",
       "</tbody>\n",
       "</table>\n"
      ],
      "text/latex": [
       "A rstatix\\_test: 3 × 7\n",
       "\\begin{tabular}{r|lllllll}\n",
       "  & .y. & group1 & group2 & effsize & n1 & n2 & magnitude\\\\\n",
       "  & <chr> & <chr> & <chr> & <dbl> & <int> & <int> & <ord>\\\\\n",
       "\\hline\n",
       "\t1 & Performance & Cannnibis & Control & -0.1464931 & 28 & 28 & negligible\\\\\n",
       "\t2 & Performance & Cannnibis & Ecstacy &  0.9496999 & 28 & 28 & large     \\\\\n",
       "\t3 & Performance & Control   & Ecstacy &  0.9783669 & 28 & 28 & large     \\\\\n",
       "\\end{tabular}\n"
      ],
      "text/markdown": [
       "\n",
       "A rstatix_test: 3 × 7\n",
       "\n",
       "| <!--/--> | .y. &lt;chr&gt; | group1 &lt;chr&gt; | group2 &lt;chr&gt; | effsize &lt;dbl&gt; | n1 &lt;int&gt; | n2 &lt;int&gt; | magnitude &lt;ord&gt; |\n",
       "|---|---|---|---|---|---|---|---|\n",
       "| 1 | Performance | Cannnibis | Control | -0.1464931 | 28 | 28 | negligible |\n",
       "| 2 | Performance | Cannnibis | Ecstacy |  0.9496999 | 28 | 28 | large      |\n",
       "| 3 | Performance | Control   | Ecstacy |  0.9783669 | 28 | 28 | large      |\n",
       "\n"
      ],
      "text/plain": [
       "  .y.         group1    group2  effsize    n1 n2 magnitude \n",
       "1 Performance Cannnibis Control -0.1464931 28 28 negligible\n",
       "2 Performance Cannnibis Ecstacy  0.9496999 28 28 large     \n",
       "3 Performance Control   Ecstacy  0.9783669 28 28 large     "
      ]
     },
     "metadata": {},
     "output_type": "display_data"
    }
   ],
   "source": [
    "Drug_long %>% cohens_d(Performance~Type)"
   ]
  },
  {
   "cell_type": "markdown",
   "metadata": {},
   "source": [
    "## Answer:\n",
    "### Anova test result shows that there is meaningful colaboration between drug usage and task performance, then post hoc test was performed to know that which type for drug usage in comparison to which, has affected task performance, as we can see, bonferroni adjusted multiple t test results shows that most significant difference was between Ecstacy abuse group and control group, and then between ecxtacy and cannabis abuse groups, but there was no significant difference between control group and cannabis abusers, which might indicate that ecstasy abuse has most effect on task performance whilst Cannabis abuse did not show much difference in task performance, the effect size computed supports this conclusion, there is only a negligible effect between cannabis abuse and control group, whilst between ecstay abuse groups and other two groups the effect size magnitude is large, so its safe to report that ecstacy absude affects task performance in large scales, but cannabis abuse might not have the same effect."
   ]
  }
 ],
 "metadata": {
  "kernelspec": {
   "display_name": "R",
   "language": "R",
   "name": "ir"
  },
  "language_info": {
   "codemirror_mode": "r",
   "file_extension": ".r",
   "mimetype": "text/x-r-source",
   "name": "R",
   "pygments_lexer": "r",
   "version": "4.3.2"
  }
 },
 "nbformat": 4,
 "nbformat_minor": 4
}
