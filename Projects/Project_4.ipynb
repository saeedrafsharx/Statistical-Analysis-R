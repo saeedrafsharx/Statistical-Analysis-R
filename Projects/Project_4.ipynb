{
 "cells": [
  {
   "cell_type": "markdown",
   "metadata": {},
   "source": [
    "# Part A.\n",
    "\n",
    "In a study of memory processes, animals were tested in a one-trial avoidance-learning task. The animals were presented with a fear-producing stimulus on the learning trial as soon as they stepped across a line in the test chamber. The dependent variable was the time it took them to step across the line on the test trial. Three groups of animals differed in terms of the area in which they had electrodes implanted in their cortex (Neutral site, Area A, or Area B). Each group was further divided and given electrical stimulation 50, 100, or 150 milliseconds after crossing the line and being presented with the fear-inducing stimulus. If the brain area that was stimulated is involved in memory, stimulation would be expected to interfere with memory consolidation and retard learning of the avoidance response, and the animal should not show any hesitancy in recrossing the line. The data on latency to recross the line are as follows:\n",
    "\n",
    "<img src=\"p9.png\" width=\"600\"/>\n",
    "\n",
    "The data are found in https://github.com/amanirad/Statistics-in-cognitive-rehabilitation-and-cognitive-linguistics.\n",
    "\n",
    "- Run the appropriate analysis of variance and state your conclusions and interpret the results.\n",
    "- Use the Bonferroni test to compare the neutral site to each of the other areas, ignoring the length of stimulation. \n",
    "- Use simple effects to examine the effect of delay of stimulation in area A for the data."
   ]
  },
  {
   "cell_type": "code",
   "execution_count": 4,
   "metadata": {},
   "outputs": [],
   "source": [
    "library(rstatix)\n",
    "library(ggpubr)"
   ]
  },
  {
   "cell_type": "code",
   "execution_count": 3,
   "metadata": {},
   "outputs": [],
   "source": [
    "learning_data = read.table(\"C://Users//Saeed//Desktop//Amar//Statistics-in-cognitive-rehabilitation-and-cognitive-linguistics-main//project_1.dat\", header = TRUE)"
   ]
  },
  {
   "cell_type": "code",
   "execution_count": 8,
   "metadata": {
    "scrolled": true
   },
   "outputs": [
    {
     "data": {
      "text/html": [
       "<table class=\"dataframe\">\n",
       "<caption>A data.frame: 45 × 3</caption>\n",
       "<thead>\n",
       "\t<tr><th scope=col>Area</th><th scope=col>Duration</th><th scope=col>Time</th></tr>\n",
       "\t<tr><th scope=col>&lt;chr&gt;</th><th scope=col>&lt;chr&gt;</th><th scope=col>&lt;int&gt;</th></tr>\n",
       "</thead>\n",
       "<tbody>\n",
       "\t<tr><td>Neutral</td><td>Short   </td><td>25</td></tr>\n",
       "\t<tr><td>Neutral</td><td>Short   </td><td>30</td></tr>\n",
       "\t<tr><td>Neutral</td><td>Short   </td><td>28</td></tr>\n",
       "\t<tr><td>Neutral</td><td>Short   </td><td>40</td></tr>\n",
       "\t<tr><td>Neutral</td><td>Short   </td><td>20</td></tr>\n",
       "\t<tr><td>Neutral</td><td>Moderate</td><td>30</td></tr>\n",
       "\t<tr><td>Neutral</td><td>Moderate</td><td>25</td></tr>\n",
       "\t<tr><td>Neutral</td><td>Moderate</td><td>27</td></tr>\n",
       "\t<tr><td>Neutral</td><td>Moderate</td><td>35</td></tr>\n",
       "\t<tr><td>Neutral</td><td>Moderate</td><td>23</td></tr>\n",
       "\t<tr><td>Neutral</td><td>Long    </td><td>28</td></tr>\n",
       "\t<tr><td>Neutral</td><td>Long    </td><td>31</td></tr>\n",
       "\t<tr><td>Neutral</td><td>Long    </td><td>26</td></tr>\n",
       "\t<tr><td>Neutral</td><td>Long    </td><td>20</td></tr>\n",
       "\t<tr><td>Neutral</td><td>Long    </td><td>35</td></tr>\n",
       "\t<tr><td>AreaA  </td><td>Short   </td><td>11</td></tr>\n",
       "\t<tr><td>AreaA  </td><td>Short   </td><td>18</td></tr>\n",
       "\t<tr><td>AreaA  </td><td>Short   </td><td>26</td></tr>\n",
       "\t<tr><td>AreaA  </td><td>Short   </td><td>15</td></tr>\n",
       "\t<tr><td>AreaA  </td><td>Short   </td><td>14</td></tr>\n",
       "\t<tr><td>AreaA  </td><td>Moderate</td><td>31</td></tr>\n",
       "\t<tr><td>AreaA  </td><td>Moderate</td><td>20</td></tr>\n",
       "\t<tr><td>AreaA  </td><td>Moderate</td><td>22</td></tr>\n",
       "\t<tr><td>AreaA  </td><td>Moderate</td><td>23</td></tr>\n",
       "\t<tr><td>AreaA  </td><td>Moderate</td><td>19</td></tr>\n",
       "\t<tr><td>AreaA  </td><td>Long    </td><td>23</td></tr>\n",
       "\t<tr><td>AreaA  </td><td>Long    </td><td>28</td></tr>\n",
       "\t<tr><td>AreaA  </td><td>Long    </td><td>35</td></tr>\n",
       "\t<tr><td>AreaA  </td><td>Long    </td><td>27</td></tr>\n",
       "\t<tr><td>AreaA  </td><td>Long    </td><td>21</td></tr>\n",
       "\t<tr><td>AreaB  </td><td>Short   </td><td>23</td></tr>\n",
       "\t<tr><td>AreaB  </td><td>Short   </td><td>30</td></tr>\n",
       "\t<tr><td>AreaB  </td><td>Short   </td><td>18</td></tr>\n",
       "\t<tr><td>AreaB  </td><td>Short   </td><td>28</td></tr>\n",
       "\t<tr><td>AreaB  </td><td>Short   </td><td>23</td></tr>\n",
       "\t<tr><td>AreaB  </td><td>Moderate</td><td>18</td></tr>\n",
       "\t<tr><td>AreaB  </td><td>Moderate</td><td>24</td></tr>\n",
       "\t<tr><td>AreaB  </td><td>Moderate</td><td> 9</td></tr>\n",
       "\t<tr><td>AreaB  </td><td>Moderate</td><td>16</td></tr>\n",
       "\t<tr><td>AreaB  </td><td>Moderate</td><td>13</td></tr>\n",
       "\t<tr><td>AreaB  </td><td>Long    </td><td>28</td></tr>\n",
       "\t<tr><td>AreaB  </td><td>Long    </td><td>21</td></tr>\n",
       "\t<tr><td>AreaB  </td><td>Long    </td><td>30</td></tr>\n",
       "\t<tr><td>AreaB  </td><td>Long    </td><td>30</td></tr>\n",
       "\t<tr><td>AreaB  </td><td>Long    </td><td>23</td></tr>\n",
       "</tbody>\n",
       "</table>\n"
      ],
      "text/latex": [
       "A data.frame: 45 × 3\n",
       "\\begin{tabular}{lll}\n",
       " Area & Duration & Time\\\\\n",
       " <chr> & <chr> & <int>\\\\\n",
       "\\hline\n",
       "\t Neutral & Short    & 25\\\\\n",
       "\t Neutral & Short    & 30\\\\\n",
       "\t Neutral & Short    & 28\\\\\n",
       "\t Neutral & Short    & 40\\\\\n",
       "\t Neutral & Short    & 20\\\\\n",
       "\t Neutral & Moderate & 30\\\\\n",
       "\t Neutral & Moderate & 25\\\\\n",
       "\t Neutral & Moderate & 27\\\\\n",
       "\t Neutral & Moderate & 35\\\\\n",
       "\t Neutral & Moderate & 23\\\\\n",
       "\t Neutral & Long     & 28\\\\\n",
       "\t Neutral & Long     & 31\\\\\n",
       "\t Neutral & Long     & 26\\\\\n",
       "\t Neutral & Long     & 20\\\\\n",
       "\t Neutral & Long     & 35\\\\\n",
       "\t AreaA   & Short    & 11\\\\\n",
       "\t AreaA   & Short    & 18\\\\\n",
       "\t AreaA   & Short    & 26\\\\\n",
       "\t AreaA   & Short    & 15\\\\\n",
       "\t AreaA   & Short    & 14\\\\\n",
       "\t AreaA   & Moderate & 31\\\\\n",
       "\t AreaA   & Moderate & 20\\\\\n",
       "\t AreaA   & Moderate & 22\\\\\n",
       "\t AreaA   & Moderate & 23\\\\\n",
       "\t AreaA   & Moderate & 19\\\\\n",
       "\t AreaA   & Long     & 23\\\\\n",
       "\t AreaA   & Long     & 28\\\\\n",
       "\t AreaA   & Long     & 35\\\\\n",
       "\t AreaA   & Long     & 27\\\\\n",
       "\t AreaA   & Long     & 21\\\\\n",
       "\t AreaB   & Short    & 23\\\\\n",
       "\t AreaB   & Short    & 30\\\\\n",
       "\t AreaB   & Short    & 18\\\\\n",
       "\t AreaB   & Short    & 28\\\\\n",
       "\t AreaB   & Short    & 23\\\\\n",
       "\t AreaB   & Moderate & 18\\\\\n",
       "\t AreaB   & Moderate & 24\\\\\n",
       "\t AreaB   & Moderate &  9\\\\\n",
       "\t AreaB   & Moderate & 16\\\\\n",
       "\t AreaB   & Moderate & 13\\\\\n",
       "\t AreaB   & Long     & 28\\\\\n",
       "\t AreaB   & Long     & 21\\\\\n",
       "\t AreaB   & Long     & 30\\\\\n",
       "\t AreaB   & Long     & 30\\\\\n",
       "\t AreaB   & Long     & 23\\\\\n",
       "\\end{tabular}\n"
      ],
      "text/markdown": [
       "\n",
       "A data.frame: 45 × 3\n",
       "\n",
       "| Area &lt;chr&gt; | Duration &lt;chr&gt; | Time &lt;int&gt; |\n",
       "|---|---|---|\n",
       "| Neutral | Short    | 25 |\n",
       "| Neutral | Short    | 30 |\n",
       "| Neutral | Short    | 28 |\n",
       "| Neutral | Short    | 40 |\n",
       "| Neutral | Short    | 20 |\n",
       "| Neutral | Moderate | 30 |\n",
       "| Neutral | Moderate | 25 |\n",
       "| Neutral | Moderate | 27 |\n",
       "| Neutral | Moderate | 35 |\n",
       "| Neutral | Moderate | 23 |\n",
       "| Neutral | Long     | 28 |\n",
       "| Neutral | Long     | 31 |\n",
       "| Neutral | Long     | 26 |\n",
       "| Neutral | Long     | 20 |\n",
       "| Neutral | Long     | 35 |\n",
       "| AreaA   | Short    | 11 |\n",
       "| AreaA   | Short    | 18 |\n",
       "| AreaA   | Short    | 26 |\n",
       "| AreaA   | Short    | 15 |\n",
       "| AreaA   | Short    | 14 |\n",
       "| AreaA   | Moderate | 31 |\n",
       "| AreaA   | Moderate | 20 |\n",
       "| AreaA   | Moderate | 22 |\n",
       "| AreaA   | Moderate | 23 |\n",
       "| AreaA   | Moderate | 19 |\n",
       "| AreaA   | Long     | 23 |\n",
       "| AreaA   | Long     | 28 |\n",
       "| AreaA   | Long     | 35 |\n",
       "| AreaA   | Long     | 27 |\n",
       "| AreaA   | Long     | 21 |\n",
       "| AreaB   | Short    | 23 |\n",
       "| AreaB   | Short    | 30 |\n",
       "| AreaB   | Short    | 18 |\n",
       "| AreaB   | Short    | 28 |\n",
       "| AreaB   | Short    | 23 |\n",
       "| AreaB   | Moderate | 18 |\n",
       "| AreaB   | Moderate | 24 |\n",
       "| AreaB   | Moderate |  9 |\n",
       "| AreaB   | Moderate | 16 |\n",
       "| AreaB   | Moderate | 13 |\n",
       "| AreaB   | Long     | 28 |\n",
       "| AreaB   | Long     | 21 |\n",
       "| AreaB   | Long     | 30 |\n",
       "| AreaB   | Long     | 30 |\n",
       "| AreaB   | Long     | 23 |\n",
       "\n"
      ],
      "text/plain": [
       "   Area    Duration Time\n",
       "1  Neutral Short    25  \n",
       "2  Neutral Short    30  \n",
       "3  Neutral Short    28  \n",
       "4  Neutral Short    40  \n",
       "5  Neutral Short    20  \n",
       "6  Neutral Moderate 30  \n",
       "7  Neutral Moderate 25  \n",
       "8  Neutral Moderate 27  \n",
       "9  Neutral Moderate 35  \n",
       "10 Neutral Moderate 23  \n",
       "11 Neutral Long     28  \n",
       "12 Neutral Long     31  \n",
       "13 Neutral Long     26  \n",
       "14 Neutral Long     20  \n",
       "15 Neutral Long     35  \n",
       "16 AreaA   Short    11  \n",
       "17 AreaA   Short    18  \n",
       "18 AreaA   Short    26  \n",
       "19 AreaA   Short    15  \n",
       "20 AreaA   Short    14  \n",
       "21 AreaA   Moderate 31  \n",
       "22 AreaA   Moderate 20  \n",
       "23 AreaA   Moderate 22  \n",
       "24 AreaA   Moderate 23  \n",
       "25 AreaA   Moderate 19  \n",
       "26 AreaA   Long     23  \n",
       "27 AreaA   Long     28  \n",
       "28 AreaA   Long     35  \n",
       "29 AreaA   Long     27  \n",
       "30 AreaA   Long     21  \n",
       "31 AreaB   Short    23  \n",
       "32 AreaB   Short    30  \n",
       "33 AreaB   Short    18  \n",
       "34 AreaB   Short    28  \n",
       "35 AreaB   Short    23  \n",
       "36 AreaB   Moderate 18  \n",
       "37 AreaB   Moderate 24  \n",
       "38 AreaB   Moderate  9  \n",
       "39 AreaB   Moderate 16  \n",
       "40 AreaB   Moderate 13  \n",
       "41 AreaB   Long     28  \n",
       "42 AreaB   Long     21  \n",
       "43 AreaB   Long     30  \n",
       "44 AreaB   Long     30  \n",
       "45 AreaB   Long     23  "
      ]
     },
     "metadata": {},
     "output_type": "display_data"
    }
   ],
   "source": [
    "learning_data"
   ]
  },
  {
   "cell_type": "code",
   "execution_count": 6,
   "metadata": {},
   "outputs": [],
   "source": [
    "learning_data = learning_data %>% mutate (Area = ifelse (Area == \"1\", \"Neutral\", ifelse(Area == \"2\", \"AreaA\", \"AreaB\")))"
   ]
  },
  {
   "cell_type": "code",
   "execution_count": 7,
   "metadata": {},
   "outputs": [],
   "source": [
    "learning_data = learning_data %>% mutate (Duration = ifelse (Duration == \"1\", \"Short\", ifelse(Duration == \"2\", \"Moderate\" , \"Long\")))"
   ]
  },
  {
   "cell_type": "code",
   "execution_count": 8,
   "metadata": {},
   "outputs": [
    {
     "data": {
      "text/html": [
       "<table class=\"dataframe\">\n",
       "<caption>A tibble: 9 × 15</caption>\n",
       "<thead>\n",
       "\t<tr><th scope=col>Area</th><th scope=col>Duration</th><th scope=col>variable</th><th scope=col>n</th><th scope=col>min</th><th scope=col>max</th><th scope=col>median</th><th scope=col>q1</th><th scope=col>q3</th><th scope=col>iqr</th><th scope=col>mad</th><th scope=col>mean</th><th scope=col>sd</th><th scope=col>se</th><th scope=col>ci</th></tr>\n",
       "\t<tr><th scope=col>&lt;chr&gt;</th><th scope=col>&lt;chr&gt;</th><th scope=col>&lt;fct&gt;</th><th scope=col>&lt;dbl&gt;</th><th scope=col>&lt;dbl&gt;</th><th scope=col>&lt;dbl&gt;</th><th scope=col>&lt;dbl&gt;</th><th scope=col>&lt;dbl&gt;</th><th scope=col>&lt;dbl&gt;</th><th scope=col>&lt;dbl&gt;</th><th scope=col>&lt;dbl&gt;</th><th scope=col>&lt;dbl&gt;</th><th scope=col>&lt;dbl&gt;</th><th scope=col>&lt;dbl&gt;</th><th scope=col>&lt;dbl&gt;</th></tr>\n",
       "</thead>\n",
       "<tbody>\n",
       "\t<tr><td>AreaA  </td><td>Long    </td><td>Time</td><td>5</td><td>21</td><td>35</td><td>27</td><td>23</td><td>28</td><td>5</td><td>5.930</td><td>26.8</td><td>5.404</td><td>2.417</td><td>6.710</td></tr>\n",
       "\t<tr><td>AreaA  </td><td>Moderate</td><td>Time</td><td>5</td><td>19</td><td>31</td><td>22</td><td>20</td><td>23</td><td>3</td><td>2.965</td><td>23.0</td><td>4.743</td><td>2.121</td><td>5.890</td></tr>\n",
       "\t<tr><td>AreaA  </td><td>Short   </td><td>Time</td><td>5</td><td>11</td><td>26</td><td>15</td><td>14</td><td>18</td><td>4</td><td>4.448</td><td>16.8</td><td>5.718</td><td>2.557</td><td>7.100</td></tr>\n",
       "\t<tr><td>AreaB  </td><td>Long    </td><td>Time</td><td>5</td><td>21</td><td>30</td><td>28</td><td>23</td><td>30</td><td>7</td><td>2.965</td><td>26.4</td><td>4.159</td><td>1.860</td><td>5.164</td></tr>\n",
       "\t<tr><td>AreaB  </td><td>Moderate</td><td>Time</td><td>5</td><td> 9</td><td>24</td><td>16</td><td>13</td><td>18</td><td>5</td><td>4.448</td><td>16.0</td><td>5.612</td><td>2.510</td><td>6.969</td></tr>\n",
       "\t<tr><td>AreaB  </td><td>Short   </td><td>Time</td><td>5</td><td>18</td><td>30</td><td>23</td><td>23</td><td>28</td><td>5</td><td>7.413</td><td>24.4</td><td>4.722</td><td>2.112</td><td>5.863</td></tr>\n",
       "\t<tr><td>Neutral</td><td>Long    </td><td>Time</td><td>5</td><td>20</td><td>35</td><td>28</td><td>26</td><td>31</td><td>5</td><td>4.448</td><td>28.0</td><td>5.612</td><td>2.510</td><td>6.969</td></tr>\n",
       "\t<tr><td>Neutral</td><td>Moderate</td><td>Time</td><td>5</td><td>23</td><td>35</td><td>27</td><td>25</td><td>30</td><td>5</td><td>4.448</td><td>28.0</td><td>4.690</td><td>2.098</td><td>5.824</td></tr>\n",
       "\t<tr><td>Neutral</td><td>Short   </td><td>Time</td><td>5</td><td>20</td><td>40</td><td>28</td><td>25</td><td>30</td><td>5</td><td>4.448</td><td>28.6</td><td>7.403</td><td>3.311</td><td>9.192</td></tr>\n",
       "</tbody>\n",
       "</table>\n"
      ],
      "text/latex": [
       "A tibble: 9 × 15\n",
       "\\begin{tabular}{lllllllllllllll}\n",
       " Area & Duration & variable & n & min & max & median & q1 & q3 & iqr & mad & mean & sd & se & ci\\\\\n",
       " <chr> & <chr> & <fct> & <dbl> & <dbl> & <dbl> & <dbl> & <dbl> & <dbl> & <dbl> & <dbl> & <dbl> & <dbl> & <dbl> & <dbl>\\\\\n",
       "\\hline\n",
       "\t AreaA   & Long     & Time & 5 & 21 & 35 & 27 & 23 & 28 & 5 & 5.930 & 26.8 & 5.404 & 2.417 & 6.710\\\\\n",
       "\t AreaA   & Moderate & Time & 5 & 19 & 31 & 22 & 20 & 23 & 3 & 2.965 & 23.0 & 4.743 & 2.121 & 5.890\\\\\n",
       "\t AreaA   & Short    & Time & 5 & 11 & 26 & 15 & 14 & 18 & 4 & 4.448 & 16.8 & 5.718 & 2.557 & 7.100\\\\\n",
       "\t AreaB   & Long     & Time & 5 & 21 & 30 & 28 & 23 & 30 & 7 & 2.965 & 26.4 & 4.159 & 1.860 & 5.164\\\\\n",
       "\t AreaB   & Moderate & Time & 5 &  9 & 24 & 16 & 13 & 18 & 5 & 4.448 & 16.0 & 5.612 & 2.510 & 6.969\\\\\n",
       "\t AreaB   & Short    & Time & 5 & 18 & 30 & 23 & 23 & 28 & 5 & 7.413 & 24.4 & 4.722 & 2.112 & 5.863\\\\\n",
       "\t Neutral & Long     & Time & 5 & 20 & 35 & 28 & 26 & 31 & 5 & 4.448 & 28.0 & 5.612 & 2.510 & 6.969\\\\\n",
       "\t Neutral & Moderate & Time & 5 & 23 & 35 & 27 & 25 & 30 & 5 & 4.448 & 28.0 & 4.690 & 2.098 & 5.824\\\\\n",
       "\t Neutral & Short    & Time & 5 & 20 & 40 & 28 & 25 & 30 & 5 & 4.448 & 28.6 & 7.403 & 3.311 & 9.192\\\\\n",
       "\\end{tabular}\n"
      ],
      "text/markdown": [
       "\n",
       "A tibble: 9 × 15\n",
       "\n",
       "| Area &lt;chr&gt; | Duration &lt;chr&gt; | variable &lt;fct&gt; | n &lt;dbl&gt; | min &lt;dbl&gt; | max &lt;dbl&gt; | median &lt;dbl&gt; | q1 &lt;dbl&gt; | q3 &lt;dbl&gt; | iqr &lt;dbl&gt; | mad &lt;dbl&gt; | mean &lt;dbl&gt; | sd &lt;dbl&gt; | se &lt;dbl&gt; | ci &lt;dbl&gt; |\n",
       "|---|---|---|---|---|---|---|---|---|---|---|---|---|---|---|\n",
       "| AreaA   | Long     | Time | 5 | 21 | 35 | 27 | 23 | 28 | 5 | 5.930 | 26.8 | 5.404 | 2.417 | 6.710 |\n",
       "| AreaA   | Moderate | Time | 5 | 19 | 31 | 22 | 20 | 23 | 3 | 2.965 | 23.0 | 4.743 | 2.121 | 5.890 |\n",
       "| AreaA   | Short    | Time | 5 | 11 | 26 | 15 | 14 | 18 | 4 | 4.448 | 16.8 | 5.718 | 2.557 | 7.100 |\n",
       "| AreaB   | Long     | Time | 5 | 21 | 30 | 28 | 23 | 30 | 7 | 2.965 | 26.4 | 4.159 | 1.860 | 5.164 |\n",
       "| AreaB   | Moderate | Time | 5 |  9 | 24 | 16 | 13 | 18 | 5 | 4.448 | 16.0 | 5.612 | 2.510 | 6.969 |\n",
       "| AreaB   | Short    | Time | 5 | 18 | 30 | 23 | 23 | 28 | 5 | 7.413 | 24.4 | 4.722 | 2.112 | 5.863 |\n",
       "| Neutral | Long     | Time | 5 | 20 | 35 | 28 | 26 | 31 | 5 | 4.448 | 28.0 | 5.612 | 2.510 | 6.969 |\n",
       "| Neutral | Moderate | Time | 5 | 23 | 35 | 27 | 25 | 30 | 5 | 4.448 | 28.0 | 4.690 | 2.098 | 5.824 |\n",
       "| Neutral | Short    | Time | 5 | 20 | 40 | 28 | 25 | 30 | 5 | 4.448 | 28.6 | 7.403 | 3.311 | 9.192 |\n",
       "\n"
      ],
      "text/plain": [
       "  Area    Duration variable n min max median q1 q3 iqr mad   mean sd    se   \n",
       "1 AreaA   Long     Time     5 21  35  27     23 28 5   5.930 26.8 5.404 2.417\n",
       "2 AreaA   Moderate Time     5 19  31  22     20 23 3   2.965 23.0 4.743 2.121\n",
       "3 AreaA   Short    Time     5 11  26  15     14 18 4   4.448 16.8 5.718 2.557\n",
       "4 AreaB   Long     Time     5 21  30  28     23 30 7   2.965 26.4 4.159 1.860\n",
       "5 AreaB   Moderate Time     5  9  24  16     13 18 5   4.448 16.0 5.612 2.510\n",
       "6 AreaB   Short    Time     5 18  30  23     23 28 5   7.413 24.4 4.722 2.112\n",
       "7 Neutral Long     Time     5 20  35  28     26 31 5   4.448 28.0 5.612 2.510\n",
       "8 Neutral Moderate Time     5 23  35  27     25 30 5   4.448 28.0 4.690 2.098\n",
       "9 Neutral Short    Time     5 20  40  28     25 30 5   4.448 28.6 7.403 3.311\n",
       "  ci   \n",
       "1 6.710\n",
       "2 5.890\n",
       "3 7.100\n",
       "4 5.164\n",
       "5 6.969\n",
       "6 5.863\n",
       "7 6.969\n",
       "8 5.824\n",
       "9 9.192"
      ]
     },
     "metadata": {},
     "output_type": "display_data"
    }
   ],
   "source": [
    "learning_data %>% group_by(Area, Duration) %>% get_summary_stats(Time)"
   ]
  },
  {
   "cell_type": "code",
   "execution_count": 159,
   "metadata": {},
   "outputs": [
    {
     "data": {
      "image/png": "[encoded data removed]",
      "text/plain": [
       "plot without title"
      ]
     },
     "metadata": {
      "image/png": {
       "height": 420,
       "width": 420
      }
     },
     "output_type": "display_data"
    }
   ],
   "source": [
    "ggqqplot(learning_data, \"Time\") + facet_grid(Area ~ Duration)"
   ]
  },
  {
   "cell_type": "code",
   "execution_count": 9,
   "metadata": {},
   "outputs": [
    {
     "data": {
      "text/html": [
       "<table class=\"dataframe\">\n",
       "<caption>A tibble: 3 × 5</caption>\n",
       "<thead>\n",
       "\t<tr><th scope=col>Area</th><th scope=col>Duration</th><th scope=col>Time</th><th scope=col>is.outlier</th><th scope=col>is.extreme</th></tr>\n",
       "\t<tr><th scope=col>&lt;chr&gt;</th><th scope=col>&lt;chr&gt;</th><th scope=col>&lt;int&gt;</th><th scope=col>&lt;lgl&gt;</th><th scope=col>&lt;lgl&gt;</th></tr>\n",
       "</thead>\n",
       "<tbody>\n",
       "\t<tr><td>AreaA  </td><td>Moderate</td><td>31</td><td>TRUE</td><td>FALSE</td></tr>\n",
       "\t<tr><td>AreaA  </td><td>Short   </td><td>26</td><td>TRUE</td><td>FALSE</td></tr>\n",
       "\t<tr><td>Neutral</td><td>Short   </td><td>40</td><td>TRUE</td><td>FALSE</td></tr>\n",
       "</tbody>\n",
       "</table>\n"
      ],
      "text/latex": [
       "A tibble: 3 × 5\n",
       "\\begin{tabular}{lllll}\n",
       " Area & Duration & Time & is.outlier & is.extreme\\\\\n",
       " <chr> & <chr> & <int> & <lgl> & <lgl>\\\\\n",
       "\\hline\n",
       "\t AreaA   & Moderate & 31 & TRUE & FALSE\\\\\n",
       "\t AreaA   & Short    & 26 & TRUE & FALSE\\\\\n",
       "\t Neutral & Short    & 40 & TRUE & FALSE\\\\\n",
       "\\end{tabular}\n"
      ],
      "text/markdown": [
       "\n",
       "A tibble: 3 × 5\n",
       "\n",
       "| Area &lt;chr&gt; | Duration &lt;chr&gt; | Time &lt;int&gt; | is.outlier &lt;lgl&gt; | is.extreme &lt;lgl&gt; |\n",
       "|---|---|---|---|---|\n",
       "| AreaA   | Moderate | 31 | TRUE | FALSE |\n",
       "| AreaA   | Short    | 26 | TRUE | FALSE |\n",
       "| Neutral | Short    | 40 | TRUE | FALSE |\n",
       "\n"
      ],
      "text/plain": [
       "  Area    Duration Time is.outlier is.extreme\n",
       "1 AreaA   Moderate 31   TRUE       FALSE     \n",
       "2 AreaA   Short    26   TRUE       FALSE     \n",
       "3 Neutral Short    40   TRUE       FALSE     "
      ]
     },
     "metadata": {},
     "output_type": "display_data"
    }
   ],
   "source": [
    "learning_data %>% group_by(Area, Duration) %>% identify_outliers(Time)"
   ]
  },
  {
   "cell_type": "code",
   "execution_count": 8,
   "metadata": {},
   "outputs": [
    {
     "data": {
      "text/html": [
       "<table class=\"dataframe\">\n",
       "<caption>A tibble: 9 × 5</caption>\n",
       "<thead>\n",
       "\t<tr><th scope=col>Area</th><th scope=col>Duration</th><th scope=col>variable</th><th scope=col>statistic</th><th scope=col>p</th></tr>\n",
       "\t<tr><th scope=col>&lt;chr&gt;</th><th scope=col>&lt;chr&gt;</th><th scope=col>&lt;chr&gt;</th><th scope=col>&lt;dbl&gt;</th><th scope=col>&lt;dbl&gt;</th></tr>\n",
       "</thead>\n",
       "<tbody>\n",
       "\t<tr><td>AreaA  </td><td>Long    </td><td>Time</td><td>0.9460349</td><td>0.7088551</td></tr>\n",
       "\t<tr><td>AreaA  </td><td>Moderate</td><td>Time</td><td>0.8409519</td><td>0.1675703</td></tr>\n",
       "\t<tr><td>AreaA  </td><td>Short   </td><td>Time</td><td>0.9141809</td><td>0.4931178</td></tr>\n",
       "\t<tr><td>AreaB  </td><td>Long    </td><td>Time</td><td>0.8504109</td><td>0.1958209</td></tr>\n",
       "\t<tr><td>AreaB  </td><td>Moderate</td><td>Time</td><td>0.9913625</td><td>0.9842414</td></tr>\n",
       "\t<tr><td>AreaB  </td><td>Short   </td><td>Time</td><td>0.9452666</td><td>0.7033700</td></tr>\n",
       "\t<tr><td>Neutral</td><td>Long    </td><td>Time</td><td>0.9913625</td><td>0.9842414</td></tr>\n",
       "\t<tr><td>Neutral</td><td>Moderate</td><td>Time</td><td>0.9581566</td><td>0.7950916</td></tr>\n",
       "\t<tr><td>Neutral</td><td>Short   </td><td>Time</td><td>0.9591148</td><td>0.8018062</td></tr>\n",
       "</tbody>\n",
       "</table>\n"
      ],
      "text/latex": [
       "A tibble: 9 × 5\n",
       "\\begin{tabular}{lllll}\n",
       " Area & Duration & variable & statistic & p\\\\\n",
       " <chr> & <chr> & <chr> & <dbl> & <dbl>\\\\\n",
       "\\hline\n",
       "\t AreaA   & Long     & Time & 0.9460349 & 0.7088551\\\\\n",
       "\t AreaA   & Moderate & Time & 0.8409519 & 0.1675703\\\\\n",
       "\t AreaA   & Short    & Time & 0.9141809 & 0.4931178\\\\\n",
       "\t AreaB   & Long     & Time & 0.8504109 & 0.1958209\\\\\n",
       "\t AreaB   & Moderate & Time & 0.9913625 & 0.9842414\\\\\n",
       "\t AreaB   & Short    & Time & 0.9452666 & 0.7033700\\\\\n",
       "\t Neutral & Long     & Time & 0.9913625 & 0.9842414\\\\\n",
       "\t Neutral & Moderate & Time & 0.9581566 & 0.7950916\\\\\n",
       "\t Neutral & Short    & Time & 0.9591148 & 0.8018062\\\\\n",
       "\\end{tabular}\n"
      ],
      "text/markdown": [
       "\n",
       "A tibble: 9 × 5\n",
       "\n",
       "| Area &lt;chr&gt; | Duration &lt;chr&gt; | variable &lt;chr&gt; | statistic &lt;dbl&gt; | p &lt;dbl&gt; |\n",
       "|---|---|---|---|---|\n",
       "| AreaA   | Long     | Time | 0.9460349 | 0.7088551 |\n",
       "| AreaA   | Moderate | Time | 0.8409519 | 0.1675703 |\n",
       "| AreaA   | Short    | Time | 0.9141809 | 0.4931178 |\n",
       "| AreaB   | Long     | Time | 0.8504109 | 0.1958209 |\n",
       "| AreaB   | Moderate | Time | 0.9913625 | 0.9842414 |\n",
       "| AreaB   | Short    | Time | 0.9452666 | 0.7033700 |\n",
       "| Neutral | Long     | Time | 0.9913625 | 0.9842414 |\n",
       "| Neutral | Moderate | Time | 0.9581566 | 0.7950916 |\n",
       "| Neutral | Short    | Time | 0.9591148 | 0.8018062 |\n",
       "\n"
      ],
      "text/plain": [
       "  Area    Duration variable statistic p        \n",
       "1 AreaA   Long     Time     0.9460349 0.7088551\n",
       "2 AreaA   Moderate Time     0.8409519 0.1675703\n",
       "3 AreaA   Short    Time     0.9141809 0.4931178\n",
       "4 AreaB   Long     Time     0.8504109 0.1958209\n",
       "5 AreaB   Moderate Time     0.9913625 0.9842414\n",
       "6 AreaB   Short    Time     0.9452666 0.7033700\n",
       "7 Neutral Long     Time     0.9913625 0.9842414\n",
       "8 Neutral Moderate Time     0.9581566 0.7950916\n",
       "9 Neutral Short    Time     0.9591148 0.8018062"
      ]
     },
     "metadata": {},
     "output_type": "display_data"
    }
   ],
   "source": [
    "learning_data %>% group_by(Area, Duration) %>% shapiro_test(Time)"
   ]
  },
  {
   "cell_type": "code",
   "execution_count": 15,
   "metadata": {},
   "outputs": [
    {
     "data": {
      "text/html": [
       "<table class=\"dataframe\">\n",
       "<caption>A tibble: 1 × 4</caption>\n",
       "<thead>\n",
       "\t<tr><th scope=col>df1</th><th scope=col>df2</th><th scope=col>statistic</th><th scope=col>p</th></tr>\n",
       "\t<tr><th scope=col>&lt;int&gt;</th><th scope=col>&lt;int&gt;</th><th scope=col>&lt;dbl&gt;</th><th scope=col>&lt;dbl&gt;</th></tr>\n",
       "</thead>\n",
       "<tbody>\n",
       "\t<tr><td>8</td><td>36</td><td>0.1355422</td><td>0.9970647</td></tr>\n",
       "</tbody>\n",
       "</table>\n"
      ],
      "text/latex": [
       "A tibble: 1 × 4\n",
       "\\begin{tabular}{llll}\n",
       " df1 & df2 & statistic & p\\\\\n",
       " <int> & <int> & <dbl> & <dbl>\\\\\n",
       "\\hline\n",
       "\t 8 & 36 & 0.1355422 & 0.9970647\\\\\n",
       "\\end{tabular}\n"
      ],
      "text/markdown": [
       "\n",
       "A tibble: 1 × 4\n",
       "\n",
       "| df1 &lt;int&gt; | df2 &lt;int&gt; | statistic &lt;dbl&gt; | p &lt;dbl&gt; |\n",
       "|---|---|---|---|\n",
       "| 8 | 36 | 0.1355422 | 0.9970647 |\n",
       "\n"
      ],
      "text/plain": [
       "  df1 df2 statistic p        \n",
       "1 8   36  0.1355422 0.9970647"
      ]
     },
     "metadata": {},
     "output_type": "display_data"
    }
   ],
   "source": [
    "learning_data %>% levene_test(Time ~ Area* Duration)"
   ]
  },
  {
   "cell_type": "code",
   "execution_count": 18,
   "metadata": {},
   "outputs": [
    {
     "data": {
      "text/html": [
       "<table class=\"dataframe\">\n",
       "<caption>A anova_test: 3 × 7</caption>\n",
       "<thead>\n",
       "\t<tr><th></th><th scope=col>Effect</th><th scope=col>DFn</th><th scope=col>DFd</th><th scope=col>F</th><th scope=col>p</th><th scope=col>p&lt;.05</th><th scope=col>ges</th></tr>\n",
       "\t<tr><th></th><th scope=col>&lt;chr&gt;</th><th scope=col>&lt;dbl&gt;</th><th scope=col>&lt;dbl&gt;</th><th scope=col>&lt;dbl&gt;</th><th scope=col>&lt;dbl&gt;</th><th scope=col>&lt;chr&gt;</th><th scope=col>&lt;dbl&gt;</th></tr>\n",
       "</thead>\n",
       "<tbody>\n",
       "\t<tr><th scope=row>1</th><td>Area         </td><td>2</td><td>36</td><td>6.074</td><td>0.005</td><td>*</td><td>0.252</td></tr>\n",
       "\t<tr><th scope=row>2</th><td>Duration     </td><td>2</td><td>36</td><td>3.217</td><td>0.052</td><td> </td><td>0.152</td></tr>\n",
       "\t<tr><th scope=row>3</th><td>Area:Duration</td><td>4</td><td>36</td><td>3.172</td><td>0.025</td><td>*</td><td>0.261</td></tr>\n",
       "</tbody>\n",
       "</table>\n"
      ],
      "text/latex": [
       "A anova\\_test: 3 × 7\n",
       "\\begin{tabular}{r|lllllll}\n",
       "  & Effect & DFn & DFd & F & p & p<.05 & ges\\\\\n",
       "  & <chr> & <dbl> & <dbl> & <dbl> & <dbl> & <chr> & <dbl>\\\\\n",
       "\\hline\n",
       "\t1 & Area          & 2 & 36 & 6.074 & 0.005 & * & 0.252\\\\\n",
       "\t2 & Duration      & 2 & 36 & 3.217 & 0.052 &   & 0.152\\\\\n",
       "\t3 & Area:Duration & 4 & 36 & 3.172 & 0.025 & * & 0.261\\\\\n",
       "\\end{tabular}\n"
      ],
      "text/markdown": [
       "\n",
       "A anova_test: 3 × 7\n",
       "\n",
       "| <!--/--> | Effect &lt;chr&gt; | DFn &lt;dbl&gt; | DFd &lt;dbl&gt; | F &lt;dbl&gt; | p &lt;dbl&gt; | p&lt;.05 &lt;chr&gt; | ges &lt;dbl&gt; |\n",
       "|---|---|---|---|---|---|---|---|\n",
       "| 1 | Area          | 2 | 36 | 6.074 | 0.005 | * | 0.252 |\n",
       "| 2 | Duration      | 2 | 36 | 3.217 | 0.052 | <!----> | 0.152 |\n",
       "| 3 | Area:Duration | 4 | 36 | 3.172 | 0.025 | * | 0.261 |\n",
       "\n"
      ],
      "text/plain": [
       "  Effect        DFn DFd F     p     p<.05 ges  \n",
       "1 Area          2   36  6.074 0.005 *     0.252\n",
       "2 Duration      2   36  3.217 0.052       0.152\n",
       "3 Area:Duration 4   36  3.172 0.025 *     0.261"
      ]
     },
     "metadata": {},
     "output_type": "display_data"
    }
   ],
   "source": [
    "learning_data %>% anova_test(Time ~ Area * Duration)"
   ]
  },
  {
   "cell_type": "code",
   "execution_count": 11,
   "metadata": {},
   "outputs": [
    {
     "data": {
      "text/html": [
       "<table class=\"dataframe\">\n",
       "<caption>A grouped_anova_test: 3 × 9</caption>\n",
       "<thead>\n",
       "\t<tr><th scope=col>Area</th><th scope=col>Effect</th><th scope=col>DFn</th><th scope=col>DFd</th><th scope=col>F</th><th scope=col>p</th><th scope=col>p&lt;.05</th><th scope=col>ges</th><th scope=col>p.adj</th></tr>\n",
       "\t<tr><th scope=col>&lt;chr&gt;</th><th scope=col>&lt;chr&gt;</th><th scope=col>&lt;dbl&gt;</th><th scope=col>&lt;dbl&gt;</th><th scope=col>&lt;dbl&gt;</th><th scope=col>&lt;dbl&gt;</th><th scope=col>&lt;chr&gt;</th><th scope=col>&lt;dbl&gt;</th><th scope=col>&lt;dbl&gt;</th></tr>\n",
       "</thead>\n",
       "<tbody>\n",
       "\t<tr><td>AreaA  </td><td>Duration</td><td>2</td><td>12</td><td>4.528</td><td>0.034</td><td>*</td><td>0.430</td><td>0.102</td></tr>\n",
       "\t<tr><td>AreaB  </td><td>Duration</td><td>2</td><td>12</td><td>6.425</td><td>0.013</td><td>*</td><td>0.517</td><td>0.039</td></tr>\n",
       "\t<tr><td>Neutral</td><td>Duration</td><td>2</td><td>12</td><td>0.017</td><td>0.984</td><td> </td><td>0.003</td><td>1.000</td></tr>\n",
       "</tbody>\n",
       "</table>\n"
      ],
      "text/latex": [
       "A grouped\\_anova\\_test: 3 × 9\n",
       "\\begin{tabular}{lllllllll}\n",
       " Area & Effect & DFn & DFd & F & p & p<.05 & ges & p.adj\\\\\n",
       " <chr> & <chr> & <dbl> & <dbl> & <dbl> & <dbl> & <chr> & <dbl> & <dbl>\\\\\n",
       "\\hline\n",
       "\t AreaA   & Duration & 2 & 12 & 4.528 & 0.034 & * & 0.430 & 0.102\\\\\n",
       "\t AreaB   & Duration & 2 & 12 & 6.425 & 0.013 & * & 0.517 & 0.039\\\\\n",
       "\t Neutral & Duration & 2 & 12 & 0.017 & 0.984 &   & 0.003 & 1.000\\\\\n",
       "\\end{tabular}\n"
      ],
      "text/markdown": [
       "\n",
       "A grouped_anova_test: 3 × 9\n",
       "\n",
       "| Area &lt;chr&gt; | Effect &lt;chr&gt; | DFn &lt;dbl&gt; | DFd &lt;dbl&gt; | F &lt;dbl&gt; | p &lt;dbl&gt; | p&lt;.05 &lt;chr&gt; | ges &lt;dbl&gt; | p.adj &lt;dbl&gt; |\n",
       "|---|---|---|---|---|---|---|---|---|\n",
       "| AreaA   | Duration | 2 | 12 | 4.528 | 0.034 | * | 0.430 | 0.102 |\n",
       "| AreaB   | Duration | 2 | 12 | 6.425 | 0.013 | * | 0.517 | 0.039 |\n",
       "| Neutral | Duration | 2 | 12 | 0.017 | 0.984 | <!----> | 0.003 | 1.000 |\n",
       "\n"
      ],
      "text/plain": [
       "  Area    Effect   DFn DFd F     p     p<.05 ges   p.adj\n",
       "1 AreaA   Duration 2   12  4.528 0.034 *     0.430 0.102\n",
       "2 AreaB   Duration 2   12  6.425 0.013 *     0.517 0.039\n",
       "3 Neutral Duration 2   12  0.017 0.984       0.003 1.000"
      ]
     },
     "metadata": {},
     "output_type": "display_data"
    }
   ],
   "source": [
    "learning_data %>% group_by(Area) %>% anova_test(Time ~ Duration) %>% adjust_pvalue (method = \"bonferroni\")"
   ]
  },
  {
   "cell_type": "code",
   "execution_count": 12,
   "metadata": {},
   "outputs": [
    {
     "data": {
      "text/html": [
       "<table class=\"dataframe\">\n",
       "<caption>A grouped_anova_test: 3 × 9</caption>\n",
       "<thead>\n",
       "\t<tr><th scope=col>Duration</th><th scope=col>Effect</th><th scope=col>DFn</th><th scope=col>DFd</th><th scope=col>F</th><th scope=col>p</th><th scope=col>p&lt;.05</th><th scope=col>ges</th><th scope=col>p.adj</th></tr>\n",
       "\t<tr><th scope=col>&lt;chr&gt;</th><th scope=col>&lt;chr&gt;</th><th scope=col>&lt;dbl&gt;</th><th scope=col>&lt;dbl&gt;</th><th scope=col>&lt;dbl&gt;</th><th scope=col>&lt;dbl&gt;</th><th scope=col>&lt;chr&gt;</th><th scope=col>&lt;dbl&gt;</th><th scope=col>&lt;dbl&gt;</th></tr>\n",
       "</thead>\n",
       "<tbody>\n",
       "\t<tr><td>Long    </td><td>Area</td><td>2</td><td>12</td><td>0.133</td><td>0.876</td><td> </td><td>0.022</td><td>1.000</td></tr>\n",
       "\t<tr><td>Moderate</td><td>Area</td><td>2</td><td>12</td><td>7.171</td><td>0.009</td><td>*</td><td>0.544</td><td>0.027</td></tr>\n",
       "\t<tr><td>Short   </td><td>Area</td><td>2</td><td>12</td><td>4.887</td><td>0.028</td><td>*</td><td>0.449</td><td>0.084</td></tr>\n",
       "</tbody>\n",
       "</table>\n"
      ],
      "text/latex": [
       "A grouped\\_anova\\_test: 3 × 9\n",
       "\\begin{tabular}{lllllllll}\n",
       " Duration & Effect & DFn & DFd & F & p & p<.05 & ges & p.adj\\\\\n",
       " <chr> & <chr> & <dbl> & <dbl> & <dbl> & <dbl> & <chr> & <dbl> & <dbl>\\\\\n",
       "\\hline\n",
       "\t Long     & Area & 2 & 12 & 0.133 & 0.876 &   & 0.022 & 1.000\\\\\n",
       "\t Moderate & Area & 2 & 12 & 7.171 & 0.009 & * & 0.544 & 0.027\\\\\n",
       "\t Short    & Area & 2 & 12 & 4.887 & 0.028 & * & 0.449 & 0.084\\\\\n",
       "\\end{tabular}\n"
      ],
      "text/markdown": [
       "\n",
       "A grouped_anova_test: 3 × 9\n",
       "\n",
       "| Duration &lt;chr&gt; | Effect &lt;chr&gt; | DFn &lt;dbl&gt; | DFd &lt;dbl&gt; | F &lt;dbl&gt; | p &lt;dbl&gt; | p&lt;.05 &lt;chr&gt; | ges &lt;dbl&gt; | p.adj &lt;dbl&gt; |\n",
       "|---|---|---|---|---|---|---|---|---|\n",
       "| Long     | Area | 2 | 12 | 0.133 | 0.876 | <!----> | 0.022 | 1.000 |\n",
       "| Moderate | Area | 2 | 12 | 7.171 | 0.009 | * | 0.544 | 0.027 |\n",
       "| Short    | Area | 2 | 12 | 4.887 | 0.028 | * | 0.449 | 0.084 |\n",
       "\n"
      ],
      "text/plain": [
       "  Duration Effect DFn DFd F     p     p<.05 ges   p.adj\n",
       "1 Long     Area   2   12  0.133 0.876       0.022 1.000\n",
       "2 Moderate Area   2   12  7.171 0.009 *     0.544 0.027\n",
       "3 Short    Area   2   12  4.887 0.028 *     0.449 0.084"
      ]
     },
     "metadata": {},
     "output_type": "display_data"
    }
   ],
   "source": [
    "learning_data %>% group_by(Duration) %>% anova_test(Time ~ Area) %>% adjust_pvalue (method = \"bonferroni\")"
   ]
  },
  {
   "cell_type": "code",
   "execution_count": 9,
   "metadata": {},
   "outputs": [
    {
     "data": {
      "text/html": [
       "<table class=\"dataframe\">\n",
       "<caption>A rstatix_test: 9 × 10</caption>\n",
       "<thead>\n",
       "\t<tr><th></th><th scope=col>Duration</th><th scope=col>term</th><th scope=col>.y.</th><th scope=col>group1</th><th scope=col>group2</th><th scope=col>df</th><th scope=col>statistic</th><th scope=col>p</th><th scope=col>p.adj</th><th scope=col>p.adj.signif</th></tr>\n",
       "\t<tr><th></th><th scope=col>&lt;fct&gt;</th><th scope=col>&lt;chr&gt;</th><th scope=col>&lt;chr&gt;</th><th scope=col>&lt;chr&gt;</th><th scope=col>&lt;chr&gt;</th><th scope=col>&lt;dbl&gt;</th><th scope=col>&lt;dbl&gt;</th><th scope=col>&lt;dbl&gt;</th><th scope=col>&lt;dbl&gt;</th><th scope=col>&lt;chr&gt;</th></tr>\n",
       "</thead>\n",
       "<tbody>\n",
       "\t<tr><th scope=row>1</th><td>Long    </td><td>Area</td><td>Time</td><td>AreaA</td><td>AreaB  </td><td>36</td><td> 0.1168191</td><td>0.907652697</td><td>1.000000000</td><td>ns</td></tr>\n",
       "\t<tr><th scope=row>2</th><td>Long    </td><td>Area</td><td>Time</td><td>AreaA</td><td>Neutral</td><td>36</td><td>-0.3504573</td><td>0.728037926</td><td>1.000000000</td><td>ns</td></tr>\n",
       "\t<tr><th scope=row>3</th><td>Long    </td><td>Area</td><td>Time</td><td>AreaB</td><td>Neutral</td><td>36</td><td>-0.4672764</td><td>0.643118245</td><td>1.000000000</td><td>ns</td></tr>\n",
       "\t<tr><th scope=row>4</th><td>Moderate</td><td>Area</td><td>Time</td><td>AreaA</td><td>AreaB  </td><td>36</td><td> 2.0443342</td><td>0.048287184</td><td>0.144861551</td><td>ns</td></tr>\n",
       "\t<tr><th scope=row>5</th><td>Moderate</td><td>Area</td><td>Time</td><td>AreaA</td><td>Neutral</td><td>36</td><td>-1.4602387</td><td>0.152897216</td><td>0.458691648</td><td>ns</td></tr>\n",
       "\t<tr><th scope=row>6</th><td>Moderate</td><td>Area</td><td>Time</td><td>AreaB</td><td>Neutral</td><td>36</td><td>-3.5045730</td><td>0.001243002</td><td>0.003729006</td><td>**</td></tr>\n",
       "\t<tr><th scope=row>7</th><td>Short   </td><td>Area</td><td>Time</td><td>AreaA</td><td>AreaB  </td><td>36</td><td>-2.2195629</td><td>0.032836378</td><td>0.098509134</td><td>ns</td></tr>\n",
       "\t<tr><th scope=row>8</th><td>Short   </td><td>Area</td><td>Time</td><td>AreaA</td><td>Neutral</td><td>36</td><td>-3.4461634</td><td>0.001462476</td><td>0.004387428</td><td>**</td></tr>\n",
       "\t<tr><th scope=row>9</th><td>Short   </td><td>Area</td><td>Time</td><td>AreaB</td><td>Neutral</td><td>36</td><td>-1.2266005</td><td>0.227935062</td><td>0.683805185</td><td>ns</td></tr>\n",
       "</tbody>\n",
       "</table>\n"
      ],
      "text/latex": [
       "A rstatix\\_test: 9 × 10\n",
       "\\begin{tabular}{r|llllllllll}\n",
       "  & Duration & term & .y. & group1 & group2 & df & statistic & p & p.adj & p.adj.signif\\\\\n",
       "  & <fct> & <chr> & <chr> & <chr> & <chr> & <dbl> & <dbl> & <dbl> & <dbl> & <chr>\\\\\n",
       "\\hline\n",
       "\t1 & Long     & Area & Time & AreaA & AreaB   & 36 &  0.1168191 & 0.907652697 & 1.000000000 & ns\\\\\n",
       "\t2 & Long     & Area & Time & AreaA & Neutral & 36 & -0.3504573 & 0.728037926 & 1.000000000 & ns\\\\\n",
       "\t3 & Long     & Area & Time & AreaB & Neutral & 36 & -0.4672764 & 0.643118245 & 1.000000000 & ns\\\\\n",
       "\t4 & Moderate & Area & Time & AreaA & AreaB   & 36 &  2.0443342 & 0.048287184 & 0.144861551 & ns\\\\\n",
       "\t5 & Moderate & Area & Time & AreaA & Neutral & 36 & -1.4602387 & 0.152897216 & 0.458691648 & ns\\\\\n",
       "\t6 & Moderate & Area & Time & AreaB & Neutral & 36 & -3.5045730 & 0.001243002 & 0.003729006 & **\\\\\n",
       "\t7 & Short    & Area & Time & AreaA & AreaB   & 36 & -2.2195629 & 0.032836378 & 0.098509134 & ns\\\\\n",
       "\t8 & Short    & Area & Time & AreaA & Neutral & 36 & -3.4461634 & 0.001462476 & 0.004387428 & **\\\\\n",
       "\t9 & Short    & Area & Time & AreaB & Neutral & 36 & -1.2266005 & 0.227935062 & 0.683805185 & ns\\\\\n",
       "\\end{tabular}\n"
      ],
      "text/markdown": [
       "\n",
       "A rstatix_test: 9 × 10\n",
       "\n",
       "| <!--/--> | Duration &lt;fct&gt; | term &lt;chr&gt; | .y. &lt;chr&gt; | group1 &lt;chr&gt; | group2 &lt;chr&gt; | df &lt;dbl&gt; | statistic &lt;dbl&gt; | p &lt;dbl&gt; | p.adj &lt;dbl&gt; | p.adj.signif &lt;chr&gt; |\n",
       "|---|---|---|---|---|---|---|---|---|---|---|\n",
       "| 1 | Long     | Area | Time | AreaA | AreaB   | 36 |  0.1168191 | 0.907652697 | 1.000000000 | ns |\n",
       "| 2 | Long     | Area | Time | AreaA | Neutral | 36 | -0.3504573 | 0.728037926 | 1.000000000 | ns |\n",
       "| 3 | Long     | Area | Time | AreaB | Neutral | 36 | -0.4672764 | 0.643118245 | 1.000000000 | ns |\n",
       "| 4 | Moderate | Area | Time | AreaA | AreaB   | 36 |  2.0443342 | 0.048287184 | 0.144861551 | ns |\n",
       "| 5 | Moderate | Area | Time | AreaA | Neutral | 36 | -1.4602387 | 0.152897216 | 0.458691648 | ns |\n",
       "| 6 | Moderate | Area | Time | AreaB | Neutral | 36 | -3.5045730 | 0.001243002 | 0.003729006 | ** |\n",
       "| 7 | Short    | Area | Time | AreaA | AreaB   | 36 | -2.2195629 | 0.032836378 | 0.098509134 | ns |\n",
       "| 8 | Short    | Area | Time | AreaA | Neutral | 36 | -3.4461634 | 0.001462476 | 0.004387428 | ** |\n",
       "| 9 | Short    | Area | Time | AreaB | Neutral | 36 | -1.2266005 | 0.227935062 | 0.683805185 | ns |\n",
       "\n"
      ],
      "text/plain": [
       "  Duration term .y.  group1 group2  df statistic  p           p.adj      \n",
       "1 Long     Area Time AreaA  AreaB   36  0.1168191 0.907652697 1.000000000\n",
       "2 Long     Area Time AreaA  Neutral 36 -0.3504573 0.728037926 1.000000000\n",
       "3 Long     Area Time AreaB  Neutral 36 -0.4672764 0.643118245 1.000000000\n",
       "4 Moderate Area Time AreaA  AreaB   36  2.0443342 0.048287184 0.144861551\n",
       "5 Moderate Area Time AreaA  Neutral 36 -1.4602387 0.152897216 0.458691648\n",
       "6 Moderate Area Time AreaB  Neutral 36 -3.5045730 0.001243002 0.003729006\n",
       "7 Short    Area Time AreaA  AreaB   36 -2.2195629 0.032836378 0.098509134\n",
       "8 Short    Area Time AreaA  Neutral 36 -3.4461634 0.001462476 0.004387428\n",
       "9 Short    Area Time AreaB  Neutral 36 -1.2266005 0.227935062 0.683805185\n",
       "  p.adj.signif\n",
       "1 ns          \n",
       "2 ns          \n",
       "3 ns          \n",
       "4 ns          \n",
       "5 ns          \n",
       "6 **          \n",
       "7 ns          \n",
       "8 **          \n",
       "9 ns          "
      ]
     },
     "metadata": {},
     "output_type": "display_data"
    }
   ],
   "source": [
    "learning_data %>% group_by(Duration) %>% emmeans_test(Time ~ Area, p.adjust.method = \"bonferroni\")"
   ]
  },
  {
   "cell_type": "code",
   "execution_count": 10,
   "metadata": {},
   "outputs": [],
   "source": [
    "library(emmeans)"
   ]
  },
  {
   "cell_type": "code",
   "execution_count": 11,
   "metadata": {},
   "outputs": [
    {
     "name": "stdout",
     "output_type": "stream",
     "text": [
      "Area = AreaA:\n",
      " Duration emmean   SE df lower.CL upper.CL\n",
      " Long       26.8 2.42 36     21.9     31.7\n",
      " Moderate   23.0 2.42 36     18.1     27.9\n",
      " Short      16.8 2.42 36     11.9     21.7\n",
      "\n",
      "Area = AreaB:\n",
      " Duration emmean   SE df lower.CL upper.CL\n",
      " Long       26.4 2.42 36     21.5     31.3\n",
      " Moderate   16.0 2.42 36     11.1     20.9\n",
      " Short      24.4 2.42 36     19.5     29.3\n",
      "\n",
      "Area = Neutral:\n",
      " Duration emmean   SE df lower.CL upper.CL\n",
      " Long       28.0 2.42 36     23.1     32.9\n",
      " Moderate   28.0 2.42 36     23.1     32.9\n",
      " Short      28.6 2.42 36     23.7     33.5\n",
      "\n",
      "Confidence level used: 0.95 \n",
      "Area = AreaA:\n",
      " contrast         estimate   SE df t.ratio p.value\n",
      " Long - Moderate       3.8 3.42 36   1.110  0.5144\n",
      " Long - Short         10.0 3.42 36   2.920  0.0161\n",
      " Moderate - Short      6.2 3.42 36   1.811  0.1805\n",
      "\n",
      "Area = AreaB:\n",
      " contrast         estimate   SE df t.ratio p.value\n",
      " Long - Moderate      10.4 3.42 36   3.037  0.0120\n",
      " Long - Short          2.0 3.42 36   0.584  0.8295\n",
      " Moderate - Short     -8.4 3.42 36  -2.453  0.0490\n",
      "\n",
      "Area = Neutral:\n",
      " contrast         estimate   SE df t.ratio p.value\n",
      " Long - Moderate       0.0 3.42 36   0.000  1.0000\n",
      " Long - Short         -0.6 3.42 36  -0.175  0.9832\n",
      " Moderate - Short     -0.6 3.42 36  -0.175  0.9832\n",
      "\n",
      "P value adjustment: tukey method for comparing a family of 3 estimates \n"
     ]
    }
   ],
   "source": [
    "model = aov(Time ~ Area * Duration, data = learning_data)\n",
    "emm_results = emmeans(model, ~ Duration | Area)\n",
    "\n",
    "\n",
    "print(emm_results)\n",
    "\n",
    "\n",
    "pairwise_results = pairs(emm_results, adjust = \"tukey\")\n",
    "\n",
    "\n",
    "print(pairwise_results)\n"
   ]
  },
  {
   "cell_type": "code",
   "execution_count": 12,
   "metadata": {},
   "outputs": [],
   "source": [
    "testresult = learning_data %>% group_by(Duration) %>% emmeans_test(Time ~ Area, p.adjust.method = \"bonferroni\")"
   ]
  },
  {
   "cell_type": "code",
   "execution_count": 13,
   "metadata": {},
   "outputs": [],
   "source": [
    "learningbox = ggboxplot(learning_data, x = \"Duration\", y = \"Time\", color = \"Area\")"
   ]
  },
  {
   "cell_type": "code",
   "execution_count": 14,
   "metadata": {},
   "outputs": [],
   "source": [
    "testresult = testresult %>% add_xy_position(\"Duration\")"
   ]
  },
  {
   "cell_type": "code",
   "execution_count": 15,
   "metadata": {},
   "outputs": [
    {
     "data": {
      "image/png": "[encoded data removed]",
      "text/plain": [
       "plot without title"
      ]
     },
     "metadata": {
      "image/png": {
       "height": 420,
       "width": 420
      }
     },
     "output_type": "display_data"
    }
   ],
   "source": [
    "learningbox + stat_pvalue_manual(testresult, hide.ns = TRUE)"
   ]
  },
  {
   "cell_type": "code",
   "execution_count": 79,
   "metadata": {},
   "outputs": [
    {
     "data": {
      "text/html": [
       "<table class=\"dataframe\">\n",
       "<caption>A rstatix_test: 3 × 7</caption>\n",
       "<thead>\n",
       "\t<tr><th></th><th scope=col>.y.</th><th scope=col>group1</th><th scope=col>group2</th><th scope=col>effsize</th><th scope=col>n1</th><th scope=col>n2</th><th scope=col>magnitude</th></tr>\n",
       "\t<tr><th></th><th scope=col>&lt;chr&gt;</th><th scope=col>&lt;chr&gt;</th><th scope=col>&lt;chr&gt;</th><th scope=col>&lt;dbl&gt;</th><th scope=col>&lt;int&gt;</th><th scope=col>&lt;int&gt;</th><th scope=col>&lt;ord&gt;</th></tr>\n",
       "</thead>\n",
       "<tbody>\n",
       "\t<tr><th scope=row>1</th><td>Time</td><td>AreaA</td><td>AreaB  </td><td>-0.01026364</td><td>15</td><td>15</td><td>negligible</td></tr>\n",
       "\t<tr><th scope=row>2</th><td>Time</td><td>AreaA</td><td>Neutral</td><td>-0.99080305</td><td>15</td><td>15</td><td>large     </td></tr>\n",
       "\t<tr><th scope=row>3</th><td>Time</td><td>AreaB</td><td>Neutral</td><td>-0.98145231</td><td>15</td><td>15</td><td>large     </td></tr>\n",
       "</tbody>\n",
       "</table>\n"
      ],
      "text/latex": [
       "A rstatix\\_test: 3 × 7\n",
       "\\begin{tabular}{r|lllllll}\n",
       "  & .y. & group1 & group2 & effsize & n1 & n2 & magnitude\\\\\n",
       "  & <chr> & <chr> & <chr> & <dbl> & <int> & <int> & <ord>\\\\\n",
       "\\hline\n",
       "\t1 & Time & AreaA & AreaB   & -0.01026364 & 15 & 15 & negligible\\\\\n",
       "\t2 & Time & AreaA & Neutral & -0.99080305 & 15 & 15 & large     \\\\\n",
       "\t3 & Time & AreaB & Neutral & -0.98145231 & 15 & 15 & large     \\\\\n",
       "\\end{tabular}\n"
      ],
      "text/markdown": [
       "\n",
       "A rstatix_test: 3 × 7\n",
       "\n",
       "| <!--/--> | .y. &lt;chr&gt; | group1 &lt;chr&gt; | group2 &lt;chr&gt; | effsize &lt;dbl&gt; | n1 &lt;int&gt; | n2 &lt;int&gt; | magnitude &lt;ord&gt; |\n",
       "|---|---|---|---|---|---|---|---|\n",
       "| 1 | Time | AreaA | AreaB   | -0.01026364 | 15 | 15 | negligible |\n",
       "| 2 | Time | AreaA | Neutral | -0.99080305 | 15 | 15 | large      |\n",
       "| 3 | Time | AreaB | Neutral | -0.98145231 | 15 | 15 | large      |\n",
       "\n"
      ],
      "text/plain": [
       "  .y.  group1 group2  effsize     n1 n2 magnitude \n",
       "1 Time AreaA  AreaB   -0.01026364 15 15 negligible\n",
       "2 Time AreaA  Neutral -0.99080305 15 15 large     \n",
       "3 Time AreaB  Neutral -0.98145231 15 15 large     "
      ]
     },
     "metadata": {},
     "output_type": "display_data"
    }
   ],
   "source": [
    "learning_data %>% cohens_d(Time~ Area)"
   ]
  },
  {
   "cell_type": "code",
   "execution_count": 80,
   "metadata": {},
   "outputs": [
    {
     "data": {
      "text/html": [
       "<table class=\"dataframe\">\n",
       "<caption>A rstatix_test: 3 × 7</caption>\n",
       "<thead>\n",
       "\t<tr><th></th><th scope=col>.y.</th><th scope=col>group1</th><th scope=col>group2</th><th scope=col>effsize</th><th scope=col>n1</th><th scope=col>n2</th><th scope=col>magnitude</th></tr>\n",
       "\t<tr><th></th><th scope=col>&lt;chr&gt;</th><th scope=col>&lt;chr&gt;</th><th scope=col>&lt;chr&gt;</th><th scope=col>&lt;dbl&gt;</th><th scope=col>&lt;int&gt;</th><th scope=col>&lt;int&gt;</th><th scope=col>&lt;ord&gt;</th></tr>\n",
       "</thead>\n",
       "<tbody>\n",
       "\t<tr><th scope=row>1</th><td>Time</td><td>Short   </td><td>Moderate</td><td> 0.1290642</td><td>15</td><td>15</td><td>negligible</td></tr>\n",
       "\t<tr><th scope=row>2</th><td>Time</td><td>Short   </td><td>Long    </td><td>-0.6019445</td><td>15</td><td>15</td><td>moderate  </td></tr>\n",
       "\t<tr><th scope=row>3</th><td>Time</td><td>Moderate</td><td>Long    </td><td>-0.7975335</td><td>15</td><td>15</td><td>moderate  </td></tr>\n",
       "</tbody>\n",
       "</table>\n"
      ],
      "text/latex": [
       "A rstatix\\_test: 3 × 7\n",
       "\\begin{tabular}{r|lllllll}\n",
       "  & .y. & group1 & group2 & effsize & n1 & n2 & magnitude\\\\\n",
       "  & <chr> & <chr> & <chr> & <dbl> & <int> & <int> & <ord>\\\\\n",
       "\\hline\n",
       "\t1 & Time & Short    & Moderate &  0.1290642 & 15 & 15 & negligible\\\\\n",
       "\t2 & Time & Short    & Long     & -0.6019445 & 15 & 15 & moderate  \\\\\n",
       "\t3 & Time & Moderate & Long     & -0.7975335 & 15 & 15 & moderate  \\\\\n",
       "\\end{tabular}\n"
      ],
      "text/markdown": [
       "\n",
       "A rstatix_test: 3 × 7\n",
       "\n",
       "| <!--/--> | .y. &lt;chr&gt; | group1 &lt;chr&gt; | group2 &lt;chr&gt; | effsize &lt;dbl&gt; | n1 &lt;int&gt; | n2 &lt;int&gt; | magnitude &lt;ord&gt; |\n",
       "|---|---|---|---|---|---|---|---|\n",
       "| 1 | Time | Short    | Moderate |  0.1290642 | 15 | 15 | negligible |\n",
       "| 2 | Time | Short    | Long     | -0.6019445 | 15 | 15 | moderate   |\n",
       "| 3 | Time | Moderate | Long     | -0.7975335 | 15 | 15 | moderate   |\n",
       "\n"
      ],
      "text/plain": [
       "  .y.  group1   group2   effsize    n1 n2 magnitude \n",
       "1 Time Short    Moderate  0.1290642 15 15 negligible\n",
       "2 Time Short    Long     -0.6019445 15 15 moderate  \n",
       "3 Time Moderate Long     -0.7975335 15 15 moderate  "
      ]
     },
     "metadata": {},
     "output_type": "display_data"
    }
   ],
   "source": [
    "learning_data %>% cohens_d(Time~ Duration)"
   ]
  },
  {
   "cell_type": "markdown",
   "metadata": {},
   "source": [
    "# Answer:\n",
    "#### After preprocessing the data, its obvious that we have all the presuppositions needed to do parametric hypo tests, the two way classic ANOVA exam shows that Area-Duration colaboration is significantlly meaningful, but it also reports that Area variable itself, alone has significance towards learing rate, but duration alone, does not. We continue with post hoc tests starting with one way ANOVA, which also shows that AreaA with 50ms of stimulation has significant difference, and also AreaB stimulaton with moderate duration also has significant difference, control group has no significancy. And at last we go one level further down and take multiple alpha value adjusted t tests, which shows that specifically AreaA with 50ms stimulation is meaningful in comparison with sham group, which is also true about AreaB with 100ms stimulation, which is meaningful in comparison with sham group. and other colaborations are not. Effect size computation report with Cohen's d also shows that the two Area A with 50ms and Area B with 100ms stimulation both in comparison with control group have large magnitude of effect size, which makes us sure in order to report the colaboration found in this examination. I believe that I have answered the second question of the Part A within the explanation provided above."
   ]
  },
  {
   "cell_type": "markdown",
   "metadata": {},
   "source": [
    "# Part B. \n",
    "Three researchers ran a study comparing different treatments for posttraumatic stress disorder (PTSD). They used three groups (plus a waiting list control). One group received Stress Inoculation Therapy (SIT), another received a Prolonged Exposure (PE) treatment, and a third received standard Supportive Counseling (SC). All clients were measured at Pretreatment, Posttreatment, and a 3.5-month Follow-up. The data below closely approximate the data that they collected, and the dependent variable is a measure of PTSD.\n",
    "\n",
    "<img src=\"p10.png\" width=\"600\"/>\n",
    "\n",
    "- Run a repeated measures analysis of variance on these data. Draw the appropriate conclusions.\n",
    "- Run a mixed models analysis of variance, specifying an appropriate form for the covariance matrix, and compare the results with those you obtained above."
   ]
  },
  {
   "cell_type": "code",
   "execution_count": 15,
   "metadata": {},
   "outputs": [],
   "source": [
    "library(readxl)\n",
    "library(rstatix)\n",
    "library(ggpubr)"
   ]
  },
  {
   "cell_type": "code",
   "execution_count": 16,
   "metadata": {},
   "outputs": [],
   "source": [
    "ptsd_data = read_excel(\"C://Users//Saeed//Desktop//ptsd_data.xlsx\")"
   ]
  },
  {
   "cell_type": "code",
   "execution_count": 17,
   "metadata": {
    "scrolled": true
   },
   "outputs": [
    {
     "data": {
      "text/html": [
       "<table class=\"dataframe\">\n",
       "<caption>A tibble: 135 × 4</caption>\n",
       "<thead>\n",
       "\t<tr><th scope=col>Method</th><th scope=col>Test</th><th scope=col>Measure</th><th scope=col>id</th></tr>\n",
       "\t<tr><th scope=col>&lt;chr&gt;</th><th scope=col>&lt;chr&gt;</th><th scope=col>&lt;dbl&gt;</th><th scope=col>&lt;dbl&gt;</th></tr>\n",
       "</thead>\n",
       "<tbody>\n",
       "\t<tr><td>SIT</td><td>pre </td><td>19</td><td> 1</td></tr>\n",
       "\t<tr><td>SIT</td><td>pre </td><td>28</td><td> 2</td></tr>\n",
       "\t<tr><td>SIT</td><td>pre </td><td>18</td><td> 3</td></tr>\n",
       "\t<tr><td>SIT</td><td>pre </td><td>23</td><td> 4</td></tr>\n",
       "\t<tr><td>SIT</td><td>pre </td><td>21</td><td> 5</td></tr>\n",
       "\t<tr><td>SIT</td><td>pre </td><td>24</td><td> 6</td></tr>\n",
       "\t<tr><td>SIT</td><td>pre </td><td>26</td><td> 7</td></tr>\n",
       "\t<tr><td>SIT</td><td>pre </td><td>15</td><td> 8</td></tr>\n",
       "\t<tr><td>SIT</td><td>pre </td><td>18</td><td> 9</td></tr>\n",
       "\t<tr><td>SIT</td><td>pre </td><td>34</td><td>10</td></tr>\n",
       "\t<tr><td>SIT</td><td>pre </td><td>20</td><td>11</td></tr>\n",
       "\t<tr><td>SIT</td><td>pre </td><td>34</td><td>12</td></tr>\n",
       "\t<tr><td>SIT</td><td>pre </td><td>29</td><td>13</td></tr>\n",
       "\t<tr><td>SIT</td><td>pre </td><td>33</td><td>14</td></tr>\n",
       "\t<tr><td>SIT</td><td>pre </td><td>22</td><td>15</td></tr>\n",
       "\t<tr><td>SIT</td><td>post</td><td> 6</td><td> 1</td></tr>\n",
       "\t<tr><td>SIT</td><td>post</td><td>14</td><td> 2</td></tr>\n",
       "\t<tr><td>SIT</td><td>post</td><td> 6</td><td> 3</td></tr>\n",
       "\t<tr><td>SIT</td><td>post</td><td> 6</td><td> 4</td></tr>\n",
       "\t<tr><td>SIT</td><td>post</td><td> 6</td><td> 5</td></tr>\n",
       "\t<tr><td>SIT</td><td>post</td><td>10</td><td> 6</td></tr>\n",
       "\t<tr><td>SIT</td><td>post</td><td>10</td><td> 7</td></tr>\n",
       "\t<tr><td>SIT</td><td>post</td><td> 6</td><td> 8</td></tr>\n",
       "\t<tr><td>SIT</td><td>post</td><td> 8</td><td> 9</td></tr>\n",
       "\t<tr><td>SIT</td><td>post</td><td>13</td><td>10</td></tr>\n",
       "\t<tr><td>SIT</td><td>post</td><td>10</td><td>11</td></tr>\n",
       "\t<tr><td>SIT</td><td>post</td><td>10</td><td>12</td></tr>\n",
       "\t<tr><td>SIT</td><td>post</td><td>16</td><td>13</td></tr>\n",
       "\t<tr><td>SIT</td><td>post</td><td>19</td><td>14</td></tr>\n",
       "\t<tr><td>SIT</td><td>post</td><td> 7</td><td>15</td></tr>\n",
       "\t<tr><td>⋮</td><td>⋮</td><td>⋮</td><td>⋮</td></tr>\n",
       "\t<tr><td>SC</td><td>post    </td><td>14</td><td> 1</td></tr>\n",
       "\t<tr><td>SC</td><td>post    </td><td>18</td><td> 2</td></tr>\n",
       "\t<tr><td>SC</td><td>post    </td><td>19</td><td> 3</td></tr>\n",
       "\t<tr><td>SC</td><td>post    </td><td>21</td><td> 4</td></tr>\n",
       "\t<tr><td>SC</td><td>post    </td><td>20</td><td> 5</td></tr>\n",
       "\t<tr><td>SC</td><td>post    </td><td>20</td><td> 6</td></tr>\n",
       "\t<tr><td>SC</td><td>post    </td><td>35</td><td> 7</td></tr>\n",
       "\t<tr><td>SC</td><td>post    </td><td>22</td><td> 8</td></tr>\n",
       "\t<tr><td>SC</td><td>post    </td><td>10</td><td> 9</td></tr>\n",
       "\t<tr><td>SC</td><td>post    </td><td>19</td><td>10</td></tr>\n",
       "\t<tr><td>SC</td><td>post    </td><td>27</td><td>11</td></tr>\n",
       "\t<tr><td>SC</td><td>post    </td><td>15</td><td>12</td></tr>\n",
       "\t<tr><td>SC</td><td>post    </td><td>18</td><td>13</td></tr>\n",
       "\t<tr><td>SC</td><td>post    </td><td>21</td><td>14</td></tr>\n",
       "\t<tr><td>SC</td><td>post    </td><td>18</td><td>15</td></tr>\n",
       "\t<tr><td>SC</td><td>followup</td><td>18</td><td> 1</td></tr>\n",
       "\t<tr><td>SC</td><td>followup</td><td> 9</td><td> 2</td></tr>\n",
       "\t<tr><td>SC</td><td>followup</td><td>13</td><td> 3</td></tr>\n",
       "\t<tr><td>SC</td><td>followup</td><td>11</td><td> 4</td></tr>\n",
       "\t<tr><td>SC</td><td>followup</td><td>18</td><td> 5</td></tr>\n",
       "\t<tr><td>SC</td><td>followup</td><td>26</td><td> 6</td></tr>\n",
       "\t<tr><td>SC</td><td>followup</td><td>34</td><td> 7</td></tr>\n",
       "\t<tr><td>SC</td><td>followup</td><td>22</td><td> 8</td></tr>\n",
       "\t<tr><td>SC</td><td>followup</td><td> 8</td><td> 9</td></tr>\n",
       "\t<tr><td>SC</td><td>followup</td><td>19</td><td>10</td></tr>\n",
       "\t<tr><td>SC</td><td>followup</td><td>23</td><td>11</td></tr>\n",
       "\t<tr><td>SC</td><td>followup</td><td>12</td><td>12</td></tr>\n",
       "\t<tr><td>SC</td><td>followup</td><td>13</td><td>13</td></tr>\n",
       "\t<tr><td>SC</td><td>followup</td><td>19</td><td>14</td></tr>\n",
       "\t<tr><td>SC</td><td>followup</td><td>13</td><td>15</td></tr>\n",
       "</tbody>\n",
       "</table>\n"
      ],
      "text/latex": [
       "A tibble: 135 × 4\n",
       "\\begin{tabular}{llll}\n",
       " Method & Test & Measure & id\\\\\n",
       " <chr> & <chr> & <dbl> & <dbl>\\\\\n",
       "\\hline\n",
       "\t SIT & pre  & 19 &  1\\\\\n",
       "\t SIT & pre  & 28 &  2\\\\\n",
       "\t SIT & pre  & 18 &  3\\\\\n",
       "\t SIT & pre  & 23 &  4\\\\\n",
       "\t SIT & pre  & 21 &  5\\\\\n",
       "\t SIT & pre  & 24 &  6\\\\\n",
       "\t SIT & pre  & 26 &  7\\\\\n",
       "\t SIT & pre  & 15 &  8\\\\\n",
       "\t SIT & pre  & 18 &  9\\\\\n",
       "\t SIT & pre  & 34 & 10\\\\\n",
       "\t SIT & pre  & 20 & 11\\\\\n",
       "\t SIT & pre  & 34 & 12\\\\\n",
       "\t SIT & pre  & 29 & 13\\\\\n",
       "\t SIT & pre  & 33 & 14\\\\\n",
       "\t SIT & pre  & 22 & 15\\\\\n",
       "\t SIT & post &  6 &  1\\\\\n",
       "\t SIT & post & 14 &  2\\\\\n",
       "\t SIT & post &  6 &  3\\\\\n",
       "\t SIT & post &  6 &  4\\\\\n",
       "\t SIT & post &  6 &  5\\\\\n",
       "\t SIT & post & 10 &  6\\\\\n",
       "\t SIT & post & 10 &  7\\\\\n",
       "\t SIT & post &  6 &  8\\\\\n",
       "\t SIT & post &  8 &  9\\\\\n",
       "\t SIT & post & 13 & 10\\\\\n",
       "\t SIT & post & 10 & 11\\\\\n",
       "\t SIT & post & 10 & 12\\\\\n",
       "\t SIT & post & 16 & 13\\\\\n",
       "\t SIT & post & 19 & 14\\\\\n",
       "\t SIT & post &  7 & 15\\\\\n",
       "\t ⋮ & ⋮ & ⋮ & ⋮\\\\\n",
       "\t SC & post     & 14 &  1\\\\\n",
       "\t SC & post     & 18 &  2\\\\\n",
       "\t SC & post     & 19 &  3\\\\\n",
       "\t SC & post     & 21 &  4\\\\\n",
       "\t SC & post     & 20 &  5\\\\\n",
       "\t SC & post     & 20 &  6\\\\\n",
       "\t SC & post     & 35 &  7\\\\\n",
       "\t SC & post     & 22 &  8\\\\\n",
       "\t SC & post     & 10 &  9\\\\\n",
       "\t SC & post     & 19 & 10\\\\\n",
       "\t SC & post     & 27 & 11\\\\\n",
       "\t SC & post     & 15 & 12\\\\\n",
       "\t SC & post     & 18 & 13\\\\\n",
       "\t SC & post     & 21 & 14\\\\\n",
       "\t SC & post     & 18 & 15\\\\\n",
       "\t SC & followup & 18 &  1\\\\\n",
       "\t SC & followup &  9 &  2\\\\\n",
       "\t SC & followup & 13 &  3\\\\\n",
       "\t SC & followup & 11 &  4\\\\\n",
       "\t SC & followup & 18 &  5\\\\\n",
       "\t SC & followup & 26 &  6\\\\\n",
       "\t SC & followup & 34 &  7\\\\\n",
       "\t SC & followup & 22 &  8\\\\\n",
       "\t SC & followup &  8 &  9\\\\\n",
       "\t SC & followup & 19 & 10\\\\\n",
       "\t SC & followup & 23 & 11\\\\\n",
       "\t SC & followup & 12 & 12\\\\\n",
       "\t SC & followup & 13 & 13\\\\\n",
       "\t SC & followup & 19 & 14\\\\\n",
       "\t SC & followup & 13 & 15\\\\\n",
       "\\end{tabular}\n"
      ],
      "text/markdown": [
       "\n",
       "A tibble: 135 × 4\n",
       "\n",
       "| Method &lt;chr&gt; | Test &lt;chr&gt; | Measure &lt;dbl&gt; | id &lt;dbl&gt; |\n",
       "|---|---|---|---|\n",
       "| SIT | pre  | 19 |  1 |\n",
       "| SIT | pre  | 28 |  2 |\n",
       "| SIT | pre  | 18 |  3 |\n",
       "| SIT | pre  | 23 |  4 |\n",
       "| SIT | pre  | 21 |  5 |\n",
       "| SIT | pre  | 24 |  6 |\n",
       "| SIT | pre  | 26 |  7 |\n",
       "| SIT | pre  | 15 |  8 |\n",
       "| SIT | pre  | 18 |  9 |\n",
       "| SIT | pre  | 34 | 10 |\n",
       "| SIT | pre  | 20 | 11 |\n",
       "| SIT | pre  | 34 | 12 |\n",
       "| SIT | pre  | 29 | 13 |\n",
       "| SIT | pre  | 33 | 14 |\n",
       "| SIT | pre  | 22 | 15 |\n",
       "| SIT | post |  6 |  1 |\n",
       "| SIT | post | 14 |  2 |\n",
       "| SIT | post |  6 |  3 |\n",
       "| SIT | post |  6 |  4 |\n",
       "| SIT | post |  6 |  5 |\n",
       "| SIT | post | 10 |  6 |\n",
       "| SIT | post | 10 |  7 |\n",
       "| SIT | post |  6 |  8 |\n",
       "| SIT | post |  8 |  9 |\n",
       "| SIT | post | 13 | 10 |\n",
       "| SIT | post | 10 | 11 |\n",
       "| SIT | post | 10 | 12 |\n",
       "| SIT | post | 16 | 13 |\n",
       "| SIT | post | 19 | 14 |\n",
       "| SIT | post |  7 | 15 |\n",
       "| ⋮ | ⋮ | ⋮ | ⋮ |\n",
       "| SC | post     | 14 |  1 |\n",
       "| SC | post     | 18 |  2 |\n",
       "| SC | post     | 19 |  3 |\n",
       "| SC | post     | 21 |  4 |\n",
       "| SC | post     | 20 |  5 |\n",
       "| SC | post     | 20 |  6 |\n",
       "| SC | post     | 35 |  7 |\n",
       "| SC | post     | 22 |  8 |\n",
       "| SC | post     | 10 |  9 |\n",
       "| SC | post     | 19 | 10 |\n",
       "| SC | post     | 27 | 11 |\n",
       "| SC | post     | 15 | 12 |\n",
       "| SC | post     | 18 | 13 |\n",
       "| SC | post     | 21 | 14 |\n",
       "| SC | post     | 18 | 15 |\n",
       "| SC | followup | 18 |  1 |\n",
       "| SC | followup |  9 |  2 |\n",
       "| SC | followup | 13 |  3 |\n",
       "| SC | followup | 11 |  4 |\n",
       "| SC | followup | 18 |  5 |\n",
       "| SC | followup | 26 |  6 |\n",
       "| SC | followup | 34 |  7 |\n",
       "| SC | followup | 22 |  8 |\n",
       "| SC | followup |  8 |  9 |\n",
       "| SC | followup | 19 | 10 |\n",
       "| SC | followup | 23 | 11 |\n",
       "| SC | followup | 12 | 12 |\n",
       "| SC | followup | 13 | 13 |\n",
       "| SC | followup | 19 | 14 |\n",
       "| SC | followup | 13 | 15 |\n",
       "\n"
      ],
      "text/plain": [
       "    Method Test     Measure id\n",
       "1   SIT    pre      19       1\n",
       "2   SIT    pre      28       2\n",
       "3   SIT    pre      18       3\n",
       "4   SIT    pre      23       4\n",
       "5   SIT    pre      21       5\n",
       "6   SIT    pre      24       6\n",
       "7   SIT    pre      26       7\n",
       "8   SIT    pre      15       8\n",
       "9   SIT    pre      18       9\n",
       "10  SIT    pre      34      10\n",
       "11  SIT    pre      20      11\n",
       "12  SIT    pre      34      12\n",
       "13  SIT    pre      29      13\n",
       "14  SIT    pre      33      14\n",
       "15  SIT    pre      22      15\n",
       "16  SIT    post      6       1\n",
       "17  SIT    post     14       2\n",
       "18  SIT    post      6       3\n",
       "19  SIT    post      6       4\n",
       "20  SIT    post      6       5\n",
       "21  SIT    post     10       6\n",
       "22  SIT    post     10       7\n",
       "23  SIT    post      6       8\n",
       "24  SIT    post      8       9\n",
       "25  SIT    post     13      10\n",
       "26  SIT    post     10      11\n",
       "27  SIT    post     10      12\n",
       "28  SIT    post     16      13\n",
       "29  SIT    post     19      14\n",
       "30  SIT    post      7      15\n",
       "⋮   ⋮      ⋮        ⋮       ⋮ \n",
       "106 SC     post     14       1\n",
       "107 SC     post     18       2\n",
       "108 SC     post     19       3\n",
       "109 SC     post     21       4\n",
       "110 SC     post     20       5\n",
       "111 SC     post     20       6\n",
       "112 SC     post     35       7\n",
       "113 SC     post     22       8\n",
       "114 SC     post     10       9\n",
       "115 SC     post     19      10\n",
       "116 SC     post     27      11\n",
       "117 SC     post     15      12\n",
       "118 SC     post     18      13\n",
       "119 SC     post     21      14\n",
       "120 SC     post     18      15\n",
       "121 SC     followup 18       1\n",
       "122 SC     followup  9       2\n",
       "123 SC     followup 13       3\n",
       "124 SC     followup 11       4\n",
       "125 SC     followup 18       5\n",
       "126 SC     followup 26       6\n",
       "127 SC     followup 34       7\n",
       "128 SC     followup 22       8\n",
       "129 SC     followup  8       9\n",
       "130 SC     followup 19      10\n",
       "131 SC     followup 23      11\n",
       "132 SC     followup 12      12\n",
       "133 SC     followup 13      13\n",
       "134 SC     followup 19      14\n",
       "135 SC     followup 13      15"
      ]
     },
     "metadata": {},
     "output_type": "display_data"
    }
   ],
   "source": [
    "ptsd_data"
   ]
  },
  {
   "cell_type": "code",
   "execution_count": 18,
   "metadata": {},
   "outputs": [
    {
     "data": {
      "text/html": [
       "<table class=\"dataframe\">\n",
       "<caption>A tibble: 9 × 6</caption>\n",
       "<thead>\n",
       "\t<tr><th scope=col>Method</th><th scope=col>Test</th><th scope=col>variable</th><th scope=col>n</th><th scope=col>mean</th><th scope=col>sd</th></tr>\n",
       "\t<tr><th scope=col>&lt;chr&gt;</th><th scope=col>&lt;chr&gt;</th><th scope=col>&lt;fct&gt;</th><th scope=col>&lt;dbl&gt;</th><th scope=col>&lt;dbl&gt;</th><th scope=col>&lt;dbl&gt;</th></tr>\n",
       "</thead>\n",
       "<tbody>\n",
       "\t<tr><td>PE </td><td>followup</td><td>Measure</td><td>15</td><td>10.933</td><td>7.535</td></tr>\n",
       "\t<tr><td>PE </td><td>post    </td><td>Measure</td><td>15</td><td>14.400</td><td>9.202</td></tr>\n",
       "\t<tr><td>PE </td><td>pre     </td><td>Measure</td><td>15</td><td>25.000</td><td>4.721</td></tr>\n",
       "\t<tr><td>SC </td><td>followup</td><td>Measure</td><td>15</td><td>17.200</td><td>7.043</td></tr>\n",
       "\t<tr><td>SC </td><td>post    </td><td>Measure</td><td>15</td><td>19.800</td><td>5.697</td></tr>\n",
       "\t<tr><td>SC </td><td>pre     </td><td>Measure</td><td>15</td><td>24.667</td><td>5.300</td></tr>\n",
       "\t<tr><td>SIT</td><td>followup</td><td>Measure</td><td>15</td><td>12.400</td><td>9.448</td></tr>\n",
       "\t<tr><td>SIT</td><td>post    </td><td>Measure</td><td>15</td><td> 9.800</td><td>4.092</td></tr>\n",
       "\t<tr><td>SIT</td><td>pre     </td><td>Measure</td><td>15</td><td>24.267</td><td>6.170</td></tr>\n",
       "</tbody>\n",
       "</table>\n"
      ],
      "text/latex": [
       "A tibble: 9 × 6\n",
       "\\begin{tabular}{llllll}\n",
       " Method & Test & variable & n & mean & sd\\\\\n",
       " <chr> & <chr> & <fct> & <dbl> & <dbl> & <dbl>\\\\\n",
       "\\hline\n",
       "\t PE  & followup & Measure & 15 & 10.933 & 7.535\\\\\n",
       "\t PE  & post     & Measure & 15 & 14.400 & 9.202\\\\\n",
       "\t PE  & pre      & Measure & 15 & 25.000 & 4.721\\\\\n",
       "\t SC  & followup & Measure & 15 & 17.200 & 7.043\\\\\n",
       "\t SC  & post     & Measure & 15 & 19.800 & 5.697\\\\\n",
       "\t SC  & pre      & Measure & 15 & 24.667 & 5.300\\\\\n",
       "\t SIT & followup & Measure & 15 & 12.400 & 9.448\\\\\n",
       "\t SIT & post     & Measure & 15 &  9.800 & 4.092\\\\\n",
       "\t SIT & pre      & Measure & 15 & 24.267 & 6.170\\\\\n",
       "\\end{tabular}\n"
      ],
      "text/markdown": [
       "\n",
       "A tibble: 9 × 6\n",
       "\n",
       "| Method &lt;chr&gt; | Test &lt;chr&gt; | variable &lt;fct&gt; | n &lt;dbl&gt; | mean &lt;dbl&gt; | sd &lt;dbl&gt; |\n",
       "|---|---|---|---|---|---|\n",
       "| PE  | followup | Measure | 15 | 10.933 | 7.535 |\n",
       "| PE  | post     | Measure | 15 | 14.400 | 9.202 |\n",
       "| PE  | pre      | Measure | 15 | 25.000 | 4.721 |\n",
       "| SC  | followup | Measure | 15 | 17.200 | 7.043 |\n",
       "| SC  | post     | Measure | 15 | 19.800 | 5.697 |\n",
       "| SC  | pre      | Measure | 15 | 24.667 | 5.300 |\n",
       "| SIT | followup | Measure | 15 | 12.400 | 9.448 |\n",
       "| SIT | post     | Measure | 15 |  9.800 | 4.092 |\n",
       "| SIT | pre      | Measure | 15 | 24.267 | 6.170 |\n",
       "\n"
      ],
      "text/plain": [
       "  Method Test     variable n  mean   sd   \n",
       "1 PE     followup Measure  15 10.933 7.535\n",
       "2 PE     post     Measure  15 14.400 9.202\n",
       "3 PE     pre      Measure  15 25.000 4.721\n",
       "4 SC     followup Measure  15 17.200 7.043\n",
       "5 SC     post     Measure  15 19.800 5.697\n",
       "6 SC     pre      Measure  15 24.667 5.300\n",
       "7 SIT    followup Measure  15 12.400 9.448\n",
       "8 SIT    post     Measure  15  9.800 4.092\n",
       "9 SIT    pre      Measure  15 24.267 6.170"
      ]
     },
     "metadata": {},
     "output_type": "display_data"
    }
   ],
   "source": [
    "ptsd_data %>% group_by(Method, Test) %>% get_summary_stats(Measure, type = \"mean_sd\")"
   ]
  },
  {
   "cell_type": "code",
   "execution_count": 19,
   "metadata": {},
   "outputs": [
    {
     "data": {
      "image/png": "[encoded data removed]",
      "text/plain": [
       "plot without title"
      ]
     },
     "metadata": {
      "image/png": {
       "height": 420,
       "width": 420
      }
     },
     "output_type": "display_data"
    }
   ],
   "source": [
    "ggqqplot(ptsd_data, \"Measure\") + facet_grid(Method~Test)"
   ]
  },
  {
   "cell_type": "code",
   "execution_count": 20,
   "metadata": {},
   "outputs": [
    {
     "data": {
      "text/html": [
       "<table class=\"dataframe\">\n",
       "<caption>A tibble: 7 × 6</caption>\n",
       "<thead>\n",
       "\t<tr><th scope=col>Method</th><th scope=col>Test</th><th scope=col>Measure</th><th scope=col>id</th><th scope=col>is.outlier</th><th scope=col>is.extreme</th></tr>\n",
       "\t<tr><th scope=col>&lt;chr&gt;</th><th scope=col>&lt;chr&gt;</th><th scope=col>&lt;dbl&gt;</th><th scope=col>&lt;dbl&gt;</th><th scope=col>&lt;lgl&gt;</th><th scope=col>&lt;lgl&gt;</th></tr>\n",
       "</thead>\n",
       "<tbody>\n",
       "\t<tr><td>SC </td><td>followup</td><td>34</td><td> 7</td><td>TRUE</td><td>FALSE</td></tr>\n",
       "\t<tr><td>SC </td><td>post    </td><td>35</td><td> 7</td><td>TRUE</td><td> TRUE</td></tr>\n",
       "\t<tr><td>SC </td><td>post    </td><td>10</td><td> 9</td><td>TRUE</td><td>FALSE</td></tr>\n",
       "\t<tr><td>SC </td><td>post    </td><td>27</td><td>11</td><td>TRUE</td><td>FALSE</td></tr>\n",
       "\t<tr><td>SC </td><td>pre     </td><td>12</td><td> 1</td><td>TRUE</td><td>FALSE</td></tr>\n",
       "\t<tr><td>SC </td><td>pre     </td><td>34</td><td>11</td><td>TRUE</td><td>FALSE</td></tr>\n",
       "\t<tr><td>SIT</td><td>followup</td><td>39</td><td>14</td><td>TRUE</td><td>FALSE</td></tr>\n",
       "</tbody>\n",
       "</table>\n"
      ],
      "text/latex": [
       "A tibble: 7 × 6\n",
       "\\begin{tabular}{llllll}\n",
       " Method & Test & Measure & id & is.outlier & is.extreme\\\\\n",
       " <chr> & <chr> & <dbl> & <dbl> & <lgl> & <lgl>\\\\\n",
       "\\hline\n",
       "\t SC  & followup & 34 &  7 & TRUE & FALSE\\\\\n",
       "\t SC  & post     & 35 &  7 & TRUE &  TRUE\\\\\n",
       "\t SC  & post     & 10 &  9 & TRUE & FALSE\\\\\n",
       "\t SC  & post     & 27 & 11 & TRUE & FALSE\\\\\n",
       "\t SC  & pre      & 12 &  1 & TRUE & FALSE\\\\\n",
       "\t SC  & pre      & 34 & 11 & TRUE & FALSE\\\\\n",
       "\t SIT & followup & 39 & 14 & TRUE & FALSE\\\\\n",
       "\\end{tabular}\n"
      ],
      "text/markdown": [
       "\n",
       "A tibble: 7 × 6\n",
       "\n",
       "| Method &lt;chr&gt; | Test &lt;chr&gt; | Measure &lt;dbl&gt; | id &lt;dbl&gt; | is.outlier &lt;lgl&gt; | is.extreme &lt;lgl&gt; |\n",
       "|---|---|---|---|---|---|\n",
       "| SC  | followup | 34 |  7 | TRUE | FALSE |\n",
       "| SC  | post     | 35 |  7 | TRUE |  TRUE |\n",
       "| SC  | post     | 10 |  9 | TRUE | FALSE |\n",
       "| SC  | post     | 27 | 11 | TRUE | FALSE |\n",
       "| SC  | pre      | 12 |  1 | TRUE | FALSE |\n",
       "| SC  | pre      | 34 | 11 | TRUE | FALSE |\n",
       "| SIT | followup | 39 | 14 | TRUE | FALSE |\n",
       "\n"
      ],
      "text/plain": [
       "  Method Test     Measure id is.outlier is.extreme\n",
       "1 SC     followup 34       7 TRUE       FALSE     \n",
       "2 SC     post     35       7 TRUE        TRUE     \n",
       "3 SC     post     10       9 TRUE       FALSE     \n",
       "4 SC     post     27      11 TRUE       FALSE     \n",
       "5 SC     pre      12       1 TRUE       FALSE     \n",
       "6 SC     pre      34      11 TRUE       FALSE     \n",
       "7 SIT    followup 39      14 TRUE       FALSE     "
      ]
     },
     "metadata": {},
     "output_type": "display_data"
    }
   ],
   "source": [
    "ptsd_data %>% group_by(Method, Test) %>% identify_outliers(Measure)"
   ]
  },
  {
   "cell_type": "code",
   "execution_count": 21,
   "metadata": {},
   "outputs": [
    {
     "data": {
      "text/html": [
       "<table class=\"dataframe\">\n",
       "<caption>A tibble: 9 × 5</caption>\n",
       "<thead>\n",
       "\t<tr><th scope=col>Method</th><th scope=col>Test</th><th scope=col>variable</th><th scope=col>statistic</th><th scope=col>p</th></tr>\n",
       "\t<tr><th scope=col>&lt;chr&gt;</th><th scope=col>&lt;chr&gt;</th><th scope=col>&lt;chr&gt;</th><th scope=col>&lt;dbl&gt;</th><th scope=col>&lt;dbl&gt;</th></tr>\n",
       "</thead>\n",
       "<tbody>\n",
       "\t<tr><td>PE </td><td>followup</td><td>Measure</td><td>0.9066639</td><td>0.12036543</td></tr>\n",
       "\t<tr><td>PE </td><td>post    </td><td>Measure</td><td>0.9355783</td><td>0.33000763</td></tr>\n",
       "\t<tr><td>PE </td><td>pre     </td><td>Measure</td><td>0.9433104</td><td>0.42582430</td></tr>\n",
       "\t<tr><td>SC </td><td>followup</td><td>Measure</td><td>0.9320402</td><td>0.29265792</td></tr>\n",
       "\t<tr><td>SC </td><td>post    </td><td>Measure</td><td>0.8898863</td><td>0.06679420</td></tr>\n",
       "\t<tr><td>SC </td><td>pre     </td><td>Measure</td><td>0.9459071</td><td>0.46244231</td></tr>\n",
       "\t<tr><td>SIT</td><td>followup</td><td>Measure</td><td>0.8594653</td><td>0.02370838</td></tr>\n",
       "\t<tr><td>SIT</td><td>post    </td><td>Measure</td><td>0.8607188</td><td>0.02471639</td></tr>\n",
       "\t<tr><td>SIT</td><td>pre     </td><td>Measure</td><td>0.9334535</td><td>0.30710484</td></tr>\n",
       "</tbody>\n",
       "</table>\n"
      ],
      "text/latex": [
       "A tibble: 9 × 5\n",
       "\\begin{tabular}{lllll}\n",
       " Method & Test & variable & statistic & p\\\\\n",
       " <chr> & <chr> & <chr> & <dbl> & <dbl>\\\\\n",
       "\\hline\n",
       "\t PE  & followup & Measure & 0.9066639 & 0.12036543\\\\\n",
       "\t PE  & post     & Measure & 0.9355783 & 0.33000763\\\\\n",
       "\t PE  & pre      & Measure & 0.9433104 & 0.42582430\\\\\n",
       "\t SC  & followup & Measure & 0.9320402 & 0.29265792\\\\\n",
       "\t SC  & post     & Measure & 0.8898863 & 0.06679420\\\\\n",
       "\t SC  & pre      & Measure & 0.9459071 & 0.46244231\\\\\n",
       "\t SIT & followup & Measure & 0.8594653 & 0.02370838\\\\\n",
       "\t SIT & post     & Measure & 0.8607188 & 0.02471639\\\\\n",
       "\t SIT & pre      & Measure & 0.9334535 & 0.30710484\\\\\n",
       "\\end{tabular}\n"
      ],
      "text/markdown": [
       "\n",
       "A tibble: 9 × 5\n",
       "\n",
       "| Method &lt;chr&gt; | Test &lt;chr&gt; | variable &lt;chr&gt; | statistic &lt;dbl&gt; | p &lt;dbl&gt; |\n",
       "|---|---|---|---|---|\n",
       "| PE  | followup | Measure | 0.9066639 | 0.12036543 |\n",
       "| PE  | post     | Measure | 0.9355783 | 0.33000763 |\n",
       "| PE  | pre      | Measure | 0.9433104 | 0.42582430 |\n",
       "| SC  | followup | Measure | 0.9320402 | 0.29265792 |\n",
       "| SC  | post     | Measure | 0.8898863 | 0.06679420 |\n",
       "| SC  | pre      | Measure | 0.9459071 | 0.46244231 |\n",
       "| SIT | followup | Measure | 0.8594653 | 0.02370838 |\n",
       "| SIT | post     | Measure | 0.8607188 | 0.02471639 |\n",
       "| SIT | pre      | Measure | 0.9334535 | 0.30710484 |\n",
       "\n"
      ],
      "text/plain": [
       "  Method Test     variable statistic p         \n",
       "1 PE     followup Measure  0.9066639 0.12036543\n",
       "2 PE     post     Measure  0.9355783 0.33000763\n",
       "3 PE     pre      Measure  0.9433104 0.42582430\n",
       "4 SC     followup Measure  0.9320402 0.29265792\n",
       "5 SC     post     Measure  0.8898863 0.06679420\n",
       "6 SC     pre      Measure  0.9459071 0.46244231\n",
       "7 SIT    followup Measure  0.8594653 0.02370838\n",
       "8 SIT    post     Measure  0.8607188 0.02471639\n",
       "9 SIT    pre      Measure  0.9334535 0.30710484"
      ]
     },
     "metadata": {},
     "output_type": "display_data"
    }
   ],
   "source": [
    "ptsd_data %>% group_by(Method, Test) %>% shapiro_test(Measure)"
   ]
  },
  {
   "cell_type": "code",
   "execution_count": 22,
   "metadata": {},
   "outputs": [
    {
     "name": "stderr",
     "output_type": "stream",
     "text": [
      "Warning message:\n",
      "\"\u001b[1m\u001b[22mThere were 3 warnings in `mutate()`.\n",
      "The first warning was:\n",
      "\u001b[1m\u001b[22m\u001b[36mℹ\u001b[39m In argument: `data = map(.data$data, .f, ...)`.\n",
      "Caused by warning in `leveneTest.default()`:\n",
      "\u001b[33m!\u001b[39m group coerced to factor.\n",
      "\u001b[1m\u001b[22m\u001b[36mℹ\u001b[39m Run `dplyr::last_dplyr_warnings()` to see the 2 remaining warnings.\"\n"
     ]
    },
    {
     "data": {
      "text/html": [
       "<table class=\"dataframe\">\n",
       "<caption>A tibble: 3 × 5</caption>\n",
       "<thead>\n",
       "\t<tr><th scope=col>Test</th><th scope=col>df1</th><th scope=col>df2</th><th scope=col>statistic</th><th scope=col>p</th></tr>\n",
       "\t<tr><th scope=col>&lt;chr&gt;</th><th scope=col>&lt;int&gt;</th><th scope=col>&lt;int&gt;</th><th scope=col>&lt;dbl&gt;</th><th scope=col>&lt;dbl&gt;</th></tr>\n",
       "</thead>\n",
       "<tbody>\n",
       "\t<tr><td>followup</td><td>2</td><td>42</td><td>0.1788569</td><td>0.836859150</td></tr>\n",
       "\t<tr><td>post    </td><td>2</td><td>42</td><td>6.5463507</td><td>0.003351658</td></tr>\n",
       "\t<tr><td>pre     </td><td>2</td><td>42</td><td>0.6794837</td><td>0.512362737</td></tr>\n",
       "</tbody>\n",
       "</table>\n"
      ],
      "text/latex": [
       "A tibble: 3 × 5\n",
       "\\begin{tabular}{lllll}\n",
       " Test & df1 & df2 & statistic & p\\\\\n",
       " <chr> & <int> & <int> & <dbl> & <dbl>\\\\\n",
       "\\hline\n",
       "\t followup & 2 & 42 & 0.1788569 & 0.836859150\\\\\n",
       "\t post     & 2 & 42 & 6.5463507 & 0.003351658\\\\\n",
       "\t pre      & 2 & 42 & 0.6794837 & 0.512362737\\\\\n",
       "\\end{tabular}\n"
      ],
      "text/markdown": [
       "\n",
       "A tibble: 3 × 5\n",
       "\n",
       "| Test &lt;chr&gt; | df1 &lt;int&gt; | df2 &lt;int&gt; | statistic &lt;dbl&gt; | p &lt;dbl&gt; |\n",
       "|---|---|---|---|---|\n",
       "| followup | 2 | 42 | 0.1788569 | 0.836859150 |\n",
       "| post     | 2 | 42 | 6.5463507 | 0.003351658 |\n",
       "| pre      | 2 | 42 | 0.6794837 | 0.512362737 |\n",
       "\n"
      ],
      "text/plain": [
       "  Test     df1 df2 statistic p          \n",
       "1 followup 2   42  0.1788569 0.836859150\n",
       "2 post     2   42  6.5463507 0.003351658\n",
       "3 pre      2   42  0.6794837 0.512362737"
      ]
     },
     "metadata": {},
     "output_type": "display_data"
    }
   ],
   "source": [
    "ptsd_data %>% group_by(Test) %>%  levene_test(Measure~Method)"
   ]
  },
  {
   "cell_type": "code",
   "execution_count": 23,
   "metadata": {},
   "outputs": [
    {
     "data": {
      "text/html": [
       "<table class=\"dataframe\">\n",
       "<caption>A tibble: 1 × 4</caption>\n",
       "<thead>\n",
       "\t<tr><th scope=col>statistic</th><th scope=col>p.value</th><th scope=col>parameter</th><th scope=col>method</th></tr>\n",
       "\t<tr><th scope=col>&lt;dbl&gt;</th><th scope=col>&lt;dbl&gt;</th><th scope=col>&lt;dbl&gt;</th><th scope=col>&lt;chr&gt;</th></tr>\n",
       "</thead>\n",
       "<tbody>\n",
       "\t<tr><td>5.962123</td><td>0.05073894</td><td>2</td><td>Box's M-test for Homogeneity of Covariance Matrices</td></tr>\n",
       "</tbody>\n",
       "</table>\n"
      ],
      "text/latex": [
       "A tibble: 1 × 4\n",
       "\\begin{tabular}{llll}\n",
       " statistic & p.value & parameter & method\\\\\n",
       " <dbl> & <dbl> & <dbl> & <chr>\\\\\n",
       "\\hline\n",
       "\t 5.962123 & 0.05073894 & 2 & Box's M-test for Homogeneity of Covariance Matrices\\\\\n",
       "\\end{tabular}\n"
      ],
      "text/markdown": [
       "\n",
       "A tibble: 1 × 4\n",
       "\n",
       "| statistic &lt;dbl&gt; | p.value &lt;dbl&gt; | parameter &lt;dbl&gt; | method &lt;chr&gt; |\n",
       "|---|---|---|---|\n",
       "| 5.962123 | 0.05073894 | 2 | Box's M-test for Homogeneity of Covariance Matrices |\n",
       "\n"
      ],
      "text/plain": [
       "  statistic p.value    parameter\n",
       "1 5.962123  0.05073894 2        \n",
       "  method                                             \n",
       "1 Box's M-test for Homogeneity of Covariance Matrices"
      ]
     },
     "metadata": {},
     "output_type": "display_data"
    }
   ],
   "source": [
    "box_m(ptsd_data[, \"Measure\", drop = FALSE], ptsd_data$Method)"
   ]
  },
  {
   "cell_type": "code",
   "execution_count": 24,
   "metadata": {},
   "outputs": [
    {
     "data": {
      "text/html": [
       "<dl>\n",
       "\t<dt>$ANOVA</dt>\n",
       "\t\t<dd><table class=\"dataframe\">\n",
       "<caption>A data.frame: 3 × 7</caption>\n",
       "<thead>\n",
       "\t<tr><th scope=col>Effect</th><th scope=col>DFn</th><th scope=col>DFd</th><th scope=col>F</th><th scope=col>p</th><th scope=col>p&lt;.05</th><th scope=col>ges</th></tr>\n",
       "\t<tr><th scope=col>&lt;chr&gt;</th><th scope=col>&lt;dbl&gt;</th><th scope=col>&lt;dbl&gt;</th><th scope=col>&lt;dbl&gt;</th><th scope=col>&lt;dbl&gt;</th><th scope=col>&lt;chr&gt;</th><th scope=col>&lt;dbl&gt;</th></tr>\n",
       "</thead>\n",
       "<tbody>\n",
       "\t<tr><td>Test       </td><td>2</td><td>28</td><td>82.447</td><td>1.84e-12</td><td>*</td><td>0.366</td></tr>\n",
       "\t<tr><td>Method     </td><td>2</td><td>28</td><td> 4.263</td><td>2.40e-02</td><td>*</td><td>0.096</td></tr>\n",
       "\t<tr><td>Test:Method</td><td>4</td><td>56</td><td> 4.070</td><td>6.00e-03</td><td>*</td><td>0.072</td></tr>\n",
       "</tbody>\n",
       "</table>\n",
       "</dd>\n",
       "\t<dt>$`Mauchly's Test for Sphericity`</dt>\n",
       "\t\t<dd><table class=\"dataframe\">\n",
       "<caption>A data.frame: 3 × 4</caption>\n",
       "<thead>\n",
       "\t<tr><th></th><th scope=col>Effect</th><th scope=col>W</th><th scope=col>p</th><th scope=col>p&lt;.05</th></tr>\n",
       "\t<tr><th></th><th scope=col>&lt;chr&gt;</th><th scope=col>&lt;dbl&gt;</th><th scope=col>&lt;dbl&gt;</th><th scope=col>&lt;chr&gt;</th></tr>\n",
       "</thead>\n",
       "<tbody>\n",
       "\t<tr><th scope=row>1</th><td>Test       </td><td>0.903</td><td>0.516</td><td></td></tr>\n",
       "\t<tr><th scope=row>2</th><td>Method     </td><td>0.869</td><td>0.400</td><td></td></tr>\n",
       "\t<tr><th scope=row>3</th><td>Test:Method</td><td>0.262</td><td>0.057</td><td></td></tr>\n",
       "</tbody>\n",
       "</table>\n",
       "</dd>\n",
       "\t<dt>$`Sphericity Corrections`</dt>\n",
       "\t\t<dd><table class=\"dataframe\">\n",
       "<caption>A data.frame: 3 × 9</caption>\n",
       "<thead>\n",
       "\t<tr><th scope=col>Effect</th><th scope=col>GGe</th><th scope=col>DF[GG]</th><th scope=col>p[GG]</th><th scope=col>p[GG]&lt;.05</th><th scope=col>HFe</th><th scope=col>DF[HF]</th><th scope=col>p[HF]</th><th scope=col>p[HF]&lt;.05</th></tr>\n",
       "\t<tr><th scope=col>&lt;chr&gt;</th><th scope=col>&lt;dbl&gt;</th><th scope=col>&lt;chr&gt;</th><th scope=col>&lt;dbl&gt;</th><th scope=col>&lt;chr&gt;</th><th scope=col>&lt;dbl&gt;</th><th scope=col>&lt;chr&gt;</th><th scope=col>&lt;dbl&gt;</th><th scope=col>&lt;chr&gt;</th></tr>\n",
       "</thead>\n",
       "<tbody>\n",
       "\t<tr><td>Test       </td><td>0.912</td><td>1.82, 25.53</td><td>1.53e-11</td><td>*</td><td>1.041</td><td>2.08, 29.15</td><td>1.84e-12</td><td>*</td></tr>\n",
       "\t<tr><td>Method     </td><td>0.884</td><td>1.77, 24.75</td><td>3.00e-02</td><td>*</td><td>1.002</td><td>2, 28.06   </td><td>2.40e-02</td><td>*</td></tr>\n",
       "\t<tr><td>Test:Method</td><td>0.689</td><td>2.75, 38.56</td><td>1.50e-02</td><td>*</td><td>0.874</td><td>3.5, 48.94 </td><td>9.00e-03</td><td>*</td></tr>\n",
       "</tbody>\n",
       "</table>\n",
       "</dd>\n",
       "</dl>\n"
      ],
      "text/latex": [
       "\\begin{description}\n",
       "\\item[\\$ANOVA] A data.frame: 3 × 7\n",
       "\\begin{tabular}{lllllll}\n",
       " Effect & DFn & DFd & F & p & p<.05 & ges\\\\\n",
       " <chr> & <dbl> & <dbl> & <dbl> & <dbl> & <chr> & <dbl>\\\\\n",
       "\\hline\n",
       "\t Test        & 2 & 28 & 82.447 & 1.84e-12 & * & 0.366\\\\\n",
       "\t Method      & 2 & 28 &  4.263 & 2.40e-02 & * & 0.096\\\\\n",
       "\t Test:Method & 4 & 56 &  4.070 & 6.00e-03 & * & 0.072\\\\\n",
       "\\end{tabular}\n",
       "\n",
       "\\item[\\$`Mauchly's Test for Sphericity`] A data.frame: 3 × 4\n",
       "\\begin{tabular}{r|llll}\n",
       "  & Effect & W & p & p<.05\\\\\n",
       "  & <chr> & <dbl> & <dbl> & <chr>\\\\\n",
       "\\hline\n",
       "\t1 & Test        & 0.903 & 0.516 & \\\\\n",
       "\t2 & Method      & 0.869 & 0.400 & \\\\\n",
       "\t3 & Test:Method & 0.262 & 0.057 & \\\\\n",
       "\\end{tabular}\n",
       "\n",
       "\\item[\\$`Sphericity Corrections`] A data.frame: 3 × 9\n",
       "\\begin{tabular}{lllllllll}\n",
       " Effect & GGe & DF{[}GG{]} & p{[}GG{]} & p{[}GG{]}<.05 & HFe & DF{[}HF{]} & p{[}HF{]} & p{[}HF{]}<.05\\\\\n",
       " <chr> & <dbl> & <chr> & <dbl> & <chr> & <dbl> & <chr> & <dbl> & <chr>\\\\\n",
       "\\hline\n",
       "\t Test        & 0.912 & 1.82, 25.53 & 1.53e-11 & * & 1.041 & 2.08, 29.15 & 1.84e-12 & *\\\\\n",
       "\t Method      & 0.884 & 1.77, 24.75 & 3.00e-02 & * & 1.002 & 2, 28.06    & 2.40e-02 & *\\\\\n",
       "\t Test:Method & 0.689 & 2.75, 38.56 & 1.50e-02 & * & 0.874 & 3.5, 48.94  & 9.00e-03 & *\\\\\n",
       "\\end{tabular}\n",
       "\n",
       "\\end{description}\n"
      ],
      "text/markdown": [
       "$ANOVA\n",
       ":   \n",
       "A data.frame: 3 × 7\n",
       "\n",
       "| Effect &lt;chr&gt; | DFn &lt;dbl&gt; | DFd &lt;dbl&gt; | F &lt;dbl&gt; | p &lt;dbl&gt; | p&lt;.05 &lt;chr&gt; | ges &lt;dbl&gt; |\n",
       "|---|---|---|---|---|---|---|\n",
       "| Test        | 2 | 28 | 82.447 | 1.84e-12 | * | 0.366 |\n",
       "| Method      | 2 | 28 |  4.263 | 2.40e-02 | * | 0.096 |\n",
       "| Test:Method | 4 | 56 |  4.070 | 6.00e-03 | * | 0.072 |\n",
       "\n",
       "\n",
       "$`Mauchly's Test for Sphericity`\n",
       ":   \n",
       "A data.frame: 3 × 4\n",
       "\n",
       "| <!--/--> | Effect &lt;chr&gt; | W &lt;dbl&gt; | p &lt;dbl&gt; | p&lt;.05 &lt;chr&gt; |\n",
       "|---|---|---|---|---|\n",
       "| 1 | Test        | 0.903 | 0.516 | <!----> |\n",
       "| 2 | Method      | 0.869 | 0.400 | <!----> |\n",
       "| 3 | Test:Method | 0.262 | 0.057 | <!----> |\n",
       "\n",
       "\n",
       "$`Sphericity Corrections`\n",
       ":   \n",
       "A data.frame: 3 × 9\n",
       "\n",
       "| Effect &lt;chr&gt; | GGe &lt;dbl&gt; | DF[GG] &lt;chr&gt; | p[GG] &lt;dbl&gt; | p[GG]&lt;.05 &lt;chr&gt; | HFe &lt;dbl&gt; | DF[HF] &lt;chr&gt; | p[HF] &lt;dbl&gt; | p[HF]&lt;.05 &lt;chr&gt; |\n",
       "|---|---|---|---|---|---|---|---|---|\n",
       "| Test        | 0.912 | 1.82, 25.53 | 1.53e-11 | * | 1.041 | 2.08, 29.15 | 1.84e-12 | * |\n",
       "| Method      | 0.884 | 1.77, 24.75 | 3.00e-02 | * | 1.002 | 2, 28.06    | 2.40e-02 | * |\n",
       "| Test:Method | 0.689 | 2.75, 38.56 | 1.50e-02 | * | 0.874 | 3.5, 48.94  | 9.00e-03 | * |\n",
       "\n",
       "\n",
       "\n",
       "\n"
      ],
      "text/plain": [
       "ANOVA Table (type III tests)\n",
       "\n",
       "$ANOVA\n",
       "       Effect DFn DFd      F        p p<.05   ges\n",
       "1        Test   2  28 82.447 1.84e-12     * 0.366\n",
       "2      Method   2  28  4.263 2.40e-02     * 0.096\n",
       "3 Test:Method   4  56  4.070 6.00e-03     * 0.072\n",
       "\n",
       "$`Mauchly's Test for Sphericity`\n",
       "       Effect     W     p p<.05\n",
       "1        Test 0.903 0.516      \n",
       "2      Method 0.869 0.400      \n",
       "3 Test:Method 0.262 0.057      \n",
       "\n",
       "$`Sphericity Corrections`\n",
       "       Effect   GGe      DF[GG]    p[GG] p[GG]<.05   HFe      DF[HF]    p[HF]\n",
       "1        Test 0.912 1.82, 25.53 1.53e-11         * 1.041 2.08, 29.15 1.84e-12\n",
       "2      Method 0.884 1.77, 24.75 3.00e-02         * 1.002    2, 28.06 2.40e-02\n",
       "3 Test:Method 0.689 2.75, 38.56 1.50e-02         * 0.874  3.5, 48.94 9.00e-03\n",
       "  p[HF]<.05\n",
       "1         *\n",
       "2         *\n",
       "3         *\n"
      ]
     },
     "metadata": {},
     "output_type": "display_data"
    }
   ],
   "source": [
    "anova_test(data = ptsd_data, dv = Measure, wid = id, within  =  c(Test, Method))"
   ]
  },
  {
   "cell_type": "code",
   "execution_count": 25,
   "metadata": {},
   "outputs": [
    {
     "name": "stderr",
     "output_type": "stream",
     "text": [
      "Warning message:\n",
      "\"The 'wid' column contains duplicate ids across between-subjects variables. Automatic unique id will be created\"\n"
     ]
    },
    {
     "data": {
      "text/html": [
       "<dl>\n",
       "\t<dt>$ANOVA</dt>\n",
       "\t\t<dd><table class=\"dataframe\">\n",
       "<caption>A data.frame: 3 × 7</caption>\n",
       "<thead>\n",
       "\t<tr><th scope=col>Effect</th><th scope=col>DFn</th><th scope=col>DFd</th><th scope=col>F</th><th scope=col>p</th><th scope=col>p&lt;.05</th><th scope=col>ges</th></tr>\n",
       "\t<tr><th scope=col>&lt;chr&gt;</th><th scope=col>&lt;dbl&gt;</th><th scope=col>&lt;dbl&gt;</th><th scope=col>&lt;dbl&gt;</th><th scope=col>&lt;dbl&gt;</th><th scope=col>&lt;chr&gt;</th><th scope=col>&lt;dbl&gt;</th></tr>\n",
       "</thead>\n",
       "<tbody>\n",
       "\t<tr><td>Method     </td><td>2</td><td>42</td><td> 3.525</td><td>3.80e-02</td><td>*</td><td>0.096</td></tr>\n",
       "\t<tr><td>Test       </td><td>2</td><td>84</td><td>66.374</td><td>5.12e-18</td><td>*</td><td>0.366</td></tr>\n",
       "\t<tr><td>Method:Test</td><td>4</td><td>84</td><td> 4.466</td><td>3.00e-03</td><td>*</td><td>0.072</td></tr>\n",
       "</tbody>\n",
       "</table>\n",
       "</dd>\n",
       "\t<dt>$`Mauchly's Test for Sphericity`</dt>\n",
       "\t\t<dd><table class=\"dataframe\">\n",
       "<caption>A data.frame: 2 × 4</caption>\n",
       "<thead>\n",
       "\t<tr><th></th><th scope=col>Effect</th><th scope=col>W</th><th scope=col>p</th><th scope=col>p&lt;.05</th></tr>\n",
       "\t<tr><th></th><th scope=col>&lt;chr&gt;</th><th scope=col>&lt;dbl&gt;</th><th scope=col>&lt;dbl&gt;</th><th scope=col>&lt;chr&gt;</th></tr>\n",
       "</thead>\n",
       "<tbody>\n",
       "\t<tr><th scope=row>1</th><td>Test       </td><td>0.73</td><td>0.002</td><td>*</td></tr>\n",
       "\t<tr><th scope=row>2</th><td>Method:Test</td><td>0.73</td><td>0.002</td><td>*</td></tr>\n",
       "</tbody>\n",
       "</table>\n",
       "</dd>\n",
       "\t<dt>$`Sphericity Corrections`</dt>\n",
       "\t\t<dd><table class=\"dataframe\">\n",
       "<caption>A data.frame: 2 × 9</caption>\n",
       "<thead>\n",
       "\t<tr><th scope=col>Effect</th><th scope=col>GGe</th><th scope=col>DF[GG]</th><th scope=col>p[GG]</th><th scope=col>p[GG]&lt;.05</th><th scope=col>HFe</th><th scope=col>DF[HF]</th><th scope=col>p[HF]</th><th scope=col>p[HF]&lt;.05</th></tr>\n",
       "\t<tr><th scope=col>&lt;chr&gt;</th><th scope=col>&lt;dbl&gt;</th><th scope=col>&lt;chr&gt;</th><th scope=col>&lt;dbl&gt;</th><th scope=col>&lt;chr&gt;</th><th scope=col>&lt;dbl&gt;</th><th scope=col>&lt;chr&gt;</th><th scope=col>&lt;dbl&gt;</th><th scope=col>&lt;chr&gt;</th></tr>\n",
       "</thead>\n",
       "<tbody>\n",
       "\t<tr><td>Test       </td><td>0.787</td><td>1.57, 66.14</td><td>1.08e-14</td><td>*</td><td>0.813</td><td>1.63, 68.27</td><td>4.33e-15</td><td>*</td></tr>\n",
       "\t<tr><td>Method:Test</td><td>0.787</td><td>3.15, 66.14</td><td>6.00e-03</td><td>*</td><td>0.813</td><td>3.25, 68.27</td><td>5.00e-03</td><td>*</td></tr>\n",
       "</tbody>\n",
       "</table>\n",
       "</dd>\n",
       "</dl>\n"
      ],
      "text/latex": [
       "\\begin{description}\n",
       "\\item[\\$ANOVA] A data.frame: 3 × 7\n",
       "\\begin{tabular}{lllllll}\n",
       " Effect & DFn & DFd & F & p & p<.05 & ges\\\\\n",
       " <chr> & <dbl> & <dbl> & <dbl> & <dbl> & <chr> & <dbl>\\\\\n",
       "\\hline\n",
       "\t Method      & 2 & 42 &  3.525 & 3.80e-02 & * & 0.096\\\\\n",
       "\t Test        & 2 & 84 & 66.374 & 5.12e-18 & * & 0.366\\\\\n",
       "\t Method:Test & 4 & 84 &  4.466 & 3.00e-03 & * & 0.072\\\\\n",
       "\\end{tabular}\n",
       "\n",
       "\\item[\\$`Mauchly's Test for Sphericity`] A data.frame: 2 × 4\n",
       "\\begin{tabular}{r|llll}\n",
       "  & Effect & W & p & p<.05\\\\\n",
       "  & <chr> & <dbl> & <dbl> & <chr>\\\\\n",
       "\\hline\n",
       "\t1 & Test        & 0.73 & 0.002 & *\\\\\n",
       "\t2 & Method:Test & 0.73 & 0.002 & *\\\\\n",
       "\\end{tabular}\n",
       "\n",
       "\\item[\\$`Sphericity Corrections`] A data.frame: 2 × 9\n",
       "\\begin{tabular}{lllllllll}\n",
       " Effect & GGe & DF{[}GG{]} & p{[}GG{]} & p{[}GG{]}<.05 & HFe & DF{[}HF{]} & p{[}HF{]} & p{[}HF{]}<.05\\\\\n",
       " <chr> & <dbl> & <chr> & <dbl> & <chr> & <dbl> & <chr> & <dbl> & <chr>\\\\\n",
       "\\hline\n",
       "\t Test        & 0.787 & 1.57, 66.14 & 1.08e-14 & * & 0.813 & 1.63, 68.27 & 4.33e-15 & *\\\\\n",
       "\t Method:Test & 0.787 & 3.15, 66.14 & 6.00e-03 & * & 0.813 & 3.25, 68.27 & 5.00e-03 & *\\\\\n",
       "\\end{tabular}\n",
       "\n",
       "\\end{description}\n"
      ],
      "text/markdown": [
       "$ANOVA\n",
       ":   \n",
       "A data.frame: 3 × 7\n",
       "\n",
       "| Effect &lt;chr&gt; | DFn &lt;dbl&gt; | DFd &lt;dbl&gt; | F &lt;dbl&gt; | p &lt;dbl&gt; | p&lt;.05 &lt;chr&gt; | ges &lt;dbl&gt; |\n",
       "|---|---|---|---|---|---|---|\n",
       "| Method      | 2 | 42 |  3.525 | 3.80e-02 | * | 0.096 |\n",
       "| Test        | 2 | 84 | 66.374 | 5.12e-18 | * | 0.366 |\n",
       "| Method:Test | 4 | 84 |  4.466 | 3.00e-03 | * | 0.072 |\n",
       "\n",
       "\n",
       "$`Mauchly's Test for Sphericity`\n",
       ":   \n",
       "A data.frame: 2 × 4\n",
       "\n",
       "| <!--/--> | Effect &lt;chr&gt; | W &lt;dbl&gt; | p &lt;dbl&gt; | p&lt;.05 &lt;chr&gt; |\n",
       "|---|---|---|---|---|\n",
       "| 1 | Test        | 0.73 | 0.002 | * |\n",
       "| 2 | Method:Test | 0.73 | 0.002 | * |\n",
       "\n",
       "\n",
       "$`Sphericity Corrections`\n",
       ":   \n",
       "A data.frame: 2 × 9\n",
       "\n",
       "| Effect &lt;chr&gt; | GGe &lt;dbl&gt; | DF[GG] &lt;chr&gt; | p[GG] &lt;dbl&gt; | p[GG]&lt;.05 &lt;chr&gt; | HFe &lt;dbl&gt; | DF[HF] &lt;chr&gt; | p[HF] &lt;dbl&gt; | p[HF]&lt;.05 &lt;chr&gt; |\n",
       "|---|---|---|---|---|---|---|---|---|\n",
       "| Test        | 0.787 | 1.57, 66.14 | 1.08e-14 | * | 0.813 | 1.63, 68.27 | 4.33e-15 | * |\n",
       "| Method:Test | 0.787 | 3.15, 66.14 | 6.00e-03 | * | 0.813 | 3.25, 68.27 | 5.00e-03 | * |\n",
       "\n",
       "\n",
       "\n",
       "\n"
      ],
      "text/plain": [
       "ANOVA Table (type II tests)\n",
       "\n",
       "$ANOVA\n",
       "       Effect DFn DFd      F        p p<.05   ges\n",
       "1      Method   2  42  3.525 3.80e-02     * 0.096\n",
       "2        Test   2  84 66.374 5.12e-18     * 0.366\n",
       "3 Method:Test   4  84  4.466 3.00e-03     * 0.072\n",
       "\n",
       "$`Mauchly's Test for Sphericity`\n",
       "       Effect    W     p p<.05\n",
       "1        Test 0.73 0.002     *\n",
       "2 Method:Test 0.73 0.002     *\n",
       "\n",
       "$`Sphericity Corrections`\n",
       "       Effect   GGe      DF[GG]    p[GG] p[GG]<.05   HFe      DF[HF]    p[HF]\n",
       "1        Test 0.787 1.57, 66.14 1.08e-14         * 0.813 1.63, 68.27 4.33e-15\n",
       "2 Method:Test 0.787 3.15, 66.14 6.00e-03         * 0.813 3.25, 68.27 5.00e-03\n",
       "  p[HF]<.05\n",
       "1         *\n",
       "2         *\n"
      ]
     },
     "metadata": {},
     "output_type": "display_data"
    }
   ],
   "source": [
    "anova_test(data = ptsd_data, dv = Measure, wid = id, between = Method ,within  =  Test)"
   ]
  },
  {
   "cell_type": "markdown",
   "metadata": {},
   "source": [
    "#### The mixed model and repeated measure analysis of variances was performed, both show significant difference between method of procedure(Pe,SC,SIT) and time of measure(Pre,Post,follow) have meaningful collaboration. whilst its of importance to note that, method of procedure is naturally a between group variable while the time of measure is a within group variable, so technically we should perform a mixded model of variance analysis and not a repeated measure one."
   ]
  },
  {
   "cell_type": "markdown",
   "metadata": {},
   "source": [
    "# Post-hoc tests"
   ]
  },
  {
   "cell_type": "code",
   "execution_count": 26,
   "metadata": {},
   "outputs": [
    {
     "name": "stderr",
     "output_type": "stream",
     "text": [
      "Warning message:\n",
      "\"\u001b[1m\u001b[22mThere were 3 warnings in `mutate()`.\n",
      "The first warning was:\n",
      "\u001b[1m\u001b[22m\u001b[36mℹ\u001b[39m In argument: `data = map(.data$data, .f, ...)`.\n",
      "Caused by warning:\n",
      "\u001b[33m!\u001b[39m The 'wid' column contains duplicate ids across between-subjects variables. Automatic unique id will be created\n",
      "\u001b[1m\u001b[22m\u001b[36mℹ\u001b[39m Run `dplyr::last_dplyr_warnings()` to see the 2 remaining warnings.\"\n"
     ]
    },
    {
     "data": {
      "text/html": [
       "<table class=\"dataframe\">\n",
       "<caption>A grouped_anova_test: 3 × 9</caption>\n",
       "<thead>\n",
       "\t<tr><th scope=col>Test</th><th scope=col>Effect</th><th scope=col>DFn</th><th scope=col>DFd</th><th scope=col>F</th><th scope=col>p</th><th scope=col>p&lt;.05</th><th scope=col>ges</th><th scope=col>p.adj</th></tr>\n",
       "\t<tr><th scope=col>&lt;chr&gt;</th><th scope=col>&lt;chr&gt;</th><th scope=col>&lt;dbl&gt;</th><th scope=col>&lt;dbl&gt;</th><th scope=col>&lt;dbl&gt;</th><th scope=col>&lt;dbl&gt;</th><th scope=col>&lt;chr&gt;</th><th scope=col>&lt;dbl&gt;</th><th scope=col>&lt;dbl&gt;</th></tr>\n",
       "</thead>\n",
       "<tbody>\n",
       "\t<tr><td>followup</td><td>Method</td><td>2</td><td>42</td><td>2.471</td><td>0.097000</td><td> </td><td>0.105</td><td>0.291000</td></tr>\n",
       "\t<tr><td>post    </td><td>Method</td><td>2</td><td>42</td><td>8.421</td><td>0.000841</td><td>*</td><td>0.286</td><td>0.002523</td></tr>\n",
       "\t<tr><td>pre     </td><td>Method</td><td>2</td><td>42</td><td>0.069</td><td>0.934000</td><td> </td><td>0.003</td><td>1.000000</td></tr>\n",
       "</tbody>\n",
       "</table>\n"
      ],
      "text/latex": [
       "A grouped\\_anova\\_test: 3 × 9\n",
       "\\begin{tabular}{lllllllll}\n",
       " Test & Effect & DFn & DFd & F & p & p<.05 & ges & p.adj\\\\\n",
       " <chr> & <chr> & <dbl> & <dbl> & <dbl> & <dbl> & <chr> & <dbl> & <dbl>\\\\\n",
       "\\hline\n",
       "\t followup & Method & 2 & 42 & 2.471 & 0.097000 &   & 0.105 & 0.291000\\\\\n",
       "\t post     & Method & 2 & 42 & 8.421 & 0.000841 & * & 0.286 & 0.002523\\\\\n",
       "\t pre      & Method & 2 & 42 & 0.069 & 0.934000 &   & 0.003 & 1.000000\\\\\n",
       "\\end{tabular}\n"
      ],
      "text/markdown": [
       "\n",
       "A grouped_anova_test: 3 × 9\n",
       "\n",
       "| Test &lt;chr&gt; | Effect &lt;chr&gt; | DFn &lt;dbl&gt; | DFd &lt;dbl&gt; | F &lt;dbl&gt; | p &lt;dbl&gt; | p&lt;.05 &lt;chr&gt; | ges &lt;dbl&gt; | p.adj &lt;dbl&gt; |\n",
       "|---|---|---|---|---|---|---|---|---|\n",
       "| followup | Method | 2 | 42 | 2.471 | 0.097000 | <!----> | 0.105 | 0.291000 |\n",
       "| post     | Method | 2 | 42 | 8.421 | 0.000841 | * | 0.286 | 0.002523 |\n",
       "| pre      | Method | 2 | 42 | 0.069 | 0.934000 | <!----> | 0.003 | 1.000000 |\n",
       "\n"
      ],
      "text/plain": [
       "  Test     Effect DFn DFd F     p        p<.05 ges   p.adj   \n",
       "1 followup Method 2   42  2.471 0.097000       0.105 0.291000\n",
       "2 post     Method 2   42  8.421 0.000841 *     0.286 0.002523\n",
       "3 pre      Method 2   42  0.069 0.934000       0.003 1.000000"
      ]
     },
     "metadata": {},
     "output_type": "display_data"
    }
   ],
   "source": [
    "ptsd_data %>% group_by(Test) %>% anova_test(dv = Measure, wid = id, between = Method) %>% get_anova_table() %>% adjust_pvalue (method = \"bonferroni\")"
   ]
  },
  {
   "cell_type": "code",
   "execution_count": 59,
   "metadata": {},
   "outputs": [
    {
     "data": {
      "text/html": [
       "<table class=\"dataframe\">\n",
       "<caption>A tibble: 3 × 9</caption>\n",
       "<thead>\n",
       "\t<tr><th scope=col>Method</th><th scope=col>Effect</th><th scope=col>DFn</th><th scope=col>DFd</th><th scope=col>F</th><th scope=col>p</th><th scope=col>p&lt;.05</th><th scope=col>ges</th><th scope=col>p.adj</th></tr>\n",
       "\t<tr><th scope=col>&lt;chr&gt;</th><th scope=col>&lt;chr&gt;</th><th scope=col>&lt;dbl&gt;</th><th scope=col>&lt;dbl&gt;</th><th scope=col>&lt;dbl&gt;</th><th scope=col>&lt;dbl&gt;</th><th scope=col>&lt;chr&gt;</th><th scope=col>&lt;dbl&gt;</th><th scope=col>&lt;dbl&gt;</th></tr>\n",
       "</thead>\n",
       "<tbody>\n",
       "\t<tr><td>PE </td><td>Test</td><td>2.00</td><td>28.00</td><td>28.745</td><td>1.63e-07</td><td>*</td><td>0.413</td><td>4.89e-07</td></tr>\n",
       "\t<tr><td>SC </td><td>Test</td><td>1.12</td><td>15.67</td><td>10.267</td><td>5.00e-03</td><td>*</td><td>0.218</td><td>1.50e-02</td></tr>\n",
       "\t<tr><td>SIT</td><td>Test</td><td>1.18</td><td>16.59</td><td>32.796</td><td>1.41e-05</td><td>*</td><td>0.469</td><td>4.23e-05</td></tr>\n",
       "</tbody>\n",
       "</table>\n"
      ],
      "text/latex": [
       "A tibble: 3 × 9\n",
       "\\begin{tabular}{lllllllll}\n",
       " Method & Effect & DFn & DFd & F & p & p<.05 & ges & p.adj\\\\\n",
       " <chr> & <chr> & <dbl> & <dbl> & <dbl> & <dbl> & <chr> & <dbl> & <dbl>\\\\\n",
       "\\hline\n",
       "\t PE  & Test & 2.00 & 28.00 & 28.745 & 1.63e-07 & * & 0.413 & 4.89e-07\\\\\n",
       "\t SC  & Test & 1.12 & 15.67 & 10.267 & 5.00e-03 & * & 0.218 & 1.50e-02\\\\\n",
       "\t SIT & Test & 1.18 & 16.59 & 32.796 & 1.41e-05 & * & 0.469 & 4.23e-05\\\\\n",
       "\\end{tabular}\n"
      ],
      "text/markdown": [
       "\n",
       "A tibble: 3 × 9\n",
       "\n",
       "| Method &lt;chr&gt; | Effect &lt;chr&gt; | DFn &lt;dbl&gt; | DFd &lt;dbl&gt; | F &lt;dbl&gt; | p &lt;dbl&gt; | p&lt;.05 &lt;chr&gt; | ges &lt;dbl&gt; | p.adj &lt;dbl&gt; |\n",
       "|---|---|---|---|---|---|---|---|---|\n",
       "| PE  | Test | 2.00 | 28.00 | 28.745 | 1.63e-07 | * | 0.413 | 4.89e-07 |\n",
       "| SC  | Test | 1.12 | 15.67 | 10.267 | 5.00e-03 | * | 0.218 | 1.50e-02 |\n",
       "| SIT | Test | 1.18 | 16.59 | 32.796 | 1.41e-05 | * | 0.469 | 4.23e-05 |\n",
       "\n"
      ],
      "text/plain": [
       "  Method Effect DFn  DFd   F      p        p<.05 ges   p.adj   \n",
       "1 PE     Test   2.00 28.00 28.745 1.63e-07 *     0.413 4.89e-07\n",
       "2 SC     Test   1.12 15.67 10.267 5.00e-03 *     0.218 1.50e-02\n",
       "3 SIT    Test   1.18 16.59 32.796 1.41e-05 *     0.469 4.23e-05"
      ]
     },
     "metadata": {},
     "output_type": "display_data"
    }
   ],
   "source": [
    "ptsd_data %>% group_by(Method) %>% anova_test(dv = Measure, wid = id, within = Test) %>% get_anova_table() %>% adjust_pvalue (method = \"bonferroni\")"
   ]
  },
  {
   "cell_type": "markdown",
   "metadata": {},
   "source": [
    "#### One way anova with adjusted p value was performed as post hoc test, twice, once with between group variable fixed, and once with within group variable fixed, the results show that only comparison of post test results' means had significancy no matter the method of procedure, but when time of measure was fixed, all of the three methods of procedure had significancy in alpha level of 0.05. "
   ]
  },
  {
   "cell_type": "code",
   "execution_count": 12,
   "metadata": {},
   "outputs": [
    {
     "data": {
      "text/html": [
       "<table class=\"dataframe\">\n",
       "<caption>A rstatix_test: 9 × 10</caption>\n",
       "<thead>\n",
       "\t<tr><th></th><th scope=col>Test</th><th scope=col>.y.</th><th scope=col>group1</th><th scope=col>group2</th><th scope=col>n1</th><th scope=col>n2</th><th scope=col>p</th><th scope=col>p.signif</th><th scope=col>p.adj</th><th scope=col>p.adj.signif</th></tr>\n",
       "\t<tr><th></th><th scope=col>&lt;chr&gt;</th><th scope=col>&lt;chr&gt;</th><th scope=col>&lt;chr&gt;</th><th scope=col>&lt;chr&gt;</th><th scope=col>&lt;int&gt;</th><th scope=col>&lt;int&gt;</th><th scope=col>&lt;dbl&gt;</th><th scope=col>&lt;chr&gt;</th><th scope=col>&lt;dbl&gt;</th><th scope=col>&lt;chr&gt;</th></tr>\n",
       "</thead>\n",
       "<tbody>\n",
       "\t<tr><th scope=row>1</th><td>followup</td><td>Measure</td><td>PE</td><td>SC </td><td>15</td><td>15</td><td>0.039500</td><td>*  </td><td>0.118000</td><td>ns </td></tr>\n",
       "\t<tr><th scope=row>2</th><td>followup</td><td>Measure</td><td>PE</td><td>SIT</td><td>15</td><td>15</td><td>0.622000</td><td>ns </td><td>1.000000</td><td>ns </td></tr>\n",
       "\t<tr><th scope=row>3</th><td>followup</td><td>Measure</td><td>SC</td><td>SIT</td><td>15</td><td>15</td><td>0.111000</td><td>ns </td><td>0.333000</td><td>ns </td></tr>\n",
       "\t<tr><th scope=row>4</th><td>post    </td><td>Measure</td><td>PE</td><td>SC </td><td>15</td><td>15</td><td>0.032300</td><td>*  </td><td>0.097000</td><td>ns </td></tr>\n",
       "\t<tr><th scope=row>5</th><td>post    </td><td>Measure</td><td>PE</td><td>SIT</td><td>15</td><td>15</td><td>0.066300</td><td>ns </td><td>0.199000</td><td>ns </td></tr>\n",
       "\t<tr><th scope=row>6</th><td>post    </td><td>Measure</td><td>SC</td><td>SIT</td><td>15</td><td>15</td><td>0.000185</td><td>***</td><td>0.000556</td><td>***</td></tr>\n",
       "\t<tr><th scope=row>7</th><td>pre     </td><td>Measure</td><td>PE</td><td>SC </td><td>15</td><td>15</td><td>0.867000</td><td>ns </td><td>1.000000</td><td>ns </td></tr>\n",
       "\t<tr><th scope=row>8</th><td>pre     </td><td>Measure</td><td>PE</td><td>SIT</td><td>15</td><td>15</td><td>0.713000</td><td>ns </td><td>1.000000</td><td>ns </td></tr>\n",
       "\t<tr><th scope=row>9</th><td>pre     </td><td>Measure</td><td>SC</td><td>SIT</td><td>15</td><td>15</td><td>0.841000</td><td>ns </td><td>1.000000</td><td>ns </td></tr>\n",
       "</tbody>\n",
       "</table>\n"
      ],
      "text/latex": [
       "A rstatix\\_test: 9 × 10\n",
       "\\begin{tabular}{r|llllllllll}\n",
       "  & Test & .y. & group1 & group2 & n1 & n2 & p & p.signif & p.adj & p.adj.signif\\\\\n",
       "  & <chr> & <chr> & <chr> & <chr> & <int> & <int> & <dbl> & <chr> & <dbl> & <chr>\\\\\n",
       "\\hline\n",
       "\t1 & followup & Measure & PE & SC  & 15 & 15 & 0.039500 & *   & 0.118000 & ns \\\\\n",
       "\t2 & followup & Measure & PE & SIT & 15 & 15 & 0.622000 & ns  & 1.000000 & ns \\\\\n",
       "\t3 & followup & Measure & SC & SIT & 15 & 15 & 0.111000 & ns  & 0.333000 & ns \\\\\n",
       "\t4 & post     & Measure & PE & SC  & 15 & 15 & 0.032300 & *   & 0.097000 & ns \\\\\n",
       "\t5 & post     & Measure & PE & SIT & 15 & 15 & 0.066300 & ns  & 0.199000 & ns \\\\\n",
       "\t6 & post     & Measure & SC & SIT & 15 & 15 & 0.000185 & *** & 0.000556 & ***\\\\\n",
       "\t7 & pre      & Measure & PE & SC  & 15 & 15 & 0.867000 & ns  & 1.000000 & ns \\\\\n",
       "\t8 & pre      & Measure & PE & SIT & 15 & 15 & 0.713000 & ns  & 1.000000 & ns \\\\\n",
       "\t9 & pre      & Measure & SC & SIT & 15 & 15 & 0.841000 & ns  & 1.000000 & ns \\\\\n",
       "\\end{tabular}\n"
      ],
      "text/markdown": [
       "\n",
       "A rstatix_test: 9 × 10\n",
       "\n",
       "| <!--/--> | Test &lt;chr&gt; | .y. &lt;chr&gt; | group1 &lt;chr&gt; | group2 &lt;chr&gt; | n1 &lt;int&gt; | n2 &lt;int&gt; | p &lt;dbl&gt; | p.signif &lt;chr&gt; | p.adj &lt;dbl&gt; | p.adj.signif &lt;chr&gt; |\n",
       "|---|---|---|---|---|---|---|---|---|---|---|\n",
       "| 1 | followup | Measure | PE | SC  | 15 | 15 | 0.039500 | *   | 0.118000 | ns  |\n",
       "| 2 | followup | Measure | PE | SIT | 15 | 15 | 0.622000 | ns  | 1.000000 | ns  |\n",
       "| 3 | followup | Measure | SC | SIT | 15 | 15 | 0.111000 | ns  | 0.333000 | ns  |\n",
       "| 4 | post     | Measure | PE | SC  | 15 | 15 | 0.032300 | *   | 0.097000 | ns  |\n",
       "| 5 | post     | Measure | PE | SIT | 15 | 15 | 0.066300 | ns  | 0.199000 | ns  |\n",
       "| 6 | post     | Measure | SC | SIT | 15 | 15 | 0.000185 | *** | 0.000556 | *** |\n",
       "| 7 | pre      | Measure | PE | SC  | 15 | 15 | 0.867000 | ns  | 1.000000 | ns  |\n",
       "| 8 | pre      | Measure | PE | SIT | 15 | 15 | 0.713000 | ns  | 1.000000 | ns  |\n",
       "| 9 | pre      | Measure | SC | SIT | 15 | 15 | 0.841000 | ns  | 1.000000 | ns  |\n",
       "\n"
      ],
      "text/plain": [
       "  Test     .y.     group1 group2 n1 n2 p        p.signif p.adj    p.adj.signif\n",
       "1 followup Measure PE     SC     15 15 0.039500 *        0.118000 ns          \n",
       "2 followup Measure PE     SIT    15 15 0.622000 ns       1.000000 ns          \n",
       "3 followup Measure SC     SIT    15 15 0.111000 ns       0.333000 ns          \n",
       "4 post     Measure PE     SC     15 15 0.032300 *        0.097000 ns          \n",
       "5 post     Measure PE     SIT    15 15 0.066300 ns       0.199000 ns          \n",
       "6 post     Measure SC     SIT    15 15 0.000185 ***      0.000556 ***         \n",
       "7 pre      Measure PE     SC     15 15 0.867000 ns       1.000000 ns          \n",
       "8 pre      Measure PE     SIT    15 15 0.713000 ns       1.000000 ns          \n",
       "9 pre      Measure SC     SIT    15 15 0.841000 ns       1.000000 ns          "
      ]
     },
     "metadata": {},
     "output_type": "display_data"
    }
   ],
   "source": [
    "ptsd_data %>% group_by(Test) %>% pairwise_t_test(Measure ~ Method, p.adjust.method = \"bonferroni\")"
   ]
  },
  {
   "cell_type": "markdown",
   "metadata": {},
   "source": [
    "### the last step would be to find out of two groups specifically have significant difference, the only significancy reported is in between PE and SC methods of procedure comparing their Post test results. "
   ]
  },
  {
   "cell_type": "code",
   "execution_count": 13,
   "metadata": {},
   "outputs": [
    {
     "data": {
      "text/html": [
       "<table class=\"dataframe\">\n",
       "<caption>A rstatix_test: 9 × 11</caption>\n",
       "<thead>\n",
       "\t<tr><th></th><th scope=col>Method</th><th scope=col>.y.</th><th scope=col>group1</th><th scope=col>group2</th><th scope=col>n1</th><th scope=col>n2</th><th scope=col>statistic</th><th scope=col>df</th><th scope=col>p</th><th scope=col>p.adj</th><th scope=col>p.adj.signif</th></tr>\n",
       "\t<tr><th></th><th scope=col>&lt;chr&gt;</th><th scope=col>&lt;chr&gt;</th><th scope=col>&lt;chr&gt;</th><th scope=col>&lt;chr&gt;</th><th scope=col>&lt;int&gt;</th><th scope=col>&lt;int&gt;</th><th scope=col>&lt;dbl&gt;</th><th scope=col>&lt;dbl&gt;</th><th scope=col>&lt;dbl&gt;</th><th scope=col>&lt;dbl&gt;</th><th scope=col>&lt;chr&gt;</th></tr>\n",
       "</thead>\n",
       "<tbody>\n",
       "\t<tr><th scope=row>1</th><td>PE </td><td>Measure</td><td>followup</td><td>post</td><td>15</td><td>15</td><td> -1.693738</td><td>14</td><td>1.12e-01</td><td>3.36e-01</td><td>ns  </td></tr>\n",
       "\t<tr><th scope=row>2</th><td>PE </td><td>Measure</td><td>followup</td><td>pre </td><td>15</td><td>15</td><td> -7.313226</td><td>14</td><td>3.83e-06</td><td>1.15e-05</td><td>****</td></tr>\n",
       "\t<tr><th scope=row>3</th><td>PE </td><td>Measure</td><td>post    </td><td>pre </td><td>15</td><td>15</td><td> -5.815838</td><td>14</td><td>4.48e-05</td><td>1.34e-04</td><td>*** </td></tr>\n",
       "\t<tr><th scope=row>4</th><td>SC </td><td>Measure</td><td>followup</td><td>post</td><td>15</td><td>15</td><td> -2.356691</td><td>14</td><td>3.40e-02</td><td>1.00e-01</td><td>ns  </td></tr>\n",
       "\t<tr><th scope=row>5</th><td>SC </td><td>Measure</td><td>followup</td><td>pre </td><td>15</td><td>15</td><td> -3.259854</td><td>14</td><td>6.00e-03</td><td>1.70e-02</td><td>*   </td></tr>\n",
       "\t<tr><th scope=row>6</th><td>SC </td><td>Measure</td><td>post    </td><td>pre </td><td>15</td><td>15</td><td> -3.501232</td><td>14</td><td>4.00e-03</td><td>1.10e-02</td><td>*   </td></tr>\n",
       "\t<tr><th scope=row>7</th><td>SIT</td><td>Measure</td><td>followup</td><td>post</td><td>15</td><td>15</td><td>  1.381699</td><td>14</td><td>1.89e-01</td><td>5.67e-01</td><td>ns  </td></tr>\n",
       "\t<tr><th scope=row>8</th><td>SIT</td><td>Measure</td><td>followup</td><td>pre </td><td>15</td><td>15</td><td> -4.737232</td><td>14</td><td>3.18e-04</td><td>9.54e-04</td><td>*** </td></tr>\n",
       "\t<tr><th scope=row>9</th><td>SIT</td><td>Measure</td><td>post    </td><td>pre </td><td>15</td><td>15</td><td>-14.015635</td><td>14</td><td>1.25e-09</td><td>3.75e-09</td><td>****</td></tr>\n",
       "</tbody>\n",
       "</table>\n"
      ],
      "text/latex": [
       "A rstatix\\_test: 9 × 11\n",
       "\\begin{tabular}{r|lllllllllll}\n",
       "  & Method & .y. & group1 & group2 & n1 & n2 & statistic & df & p & p.adj & p.adj.signif\\\\\n",
       "  & <chr> & <chr> & <chr> & <chr> & <int> & <int> & <dbl> & <dbl> & <dbl> & <dbl> & <chr>\\\\\n",
       "\\hline\n",
       "\t1 & PE  & Measure & followup & post & 15 & 15 &  -1.693738 & 14 & 1.12e-01 & 3.36e-01 & ns  \\\\\n",
       "\t2 & PE  & Measure & followup & pre  & 15 & 15 &  -7.313226 & 14 & 3.83e-06 & 1.15e-05 & ****\\\\\n",
       "\t3 & PE  & Measure & post     & pre  & 15 & 15 &  -5.815838 & 14 & 4.48e-05 & 1.34e-04 & *** \\\\\n",
       "\t4 & SC  & Measure & followup & post & 15 & 15 &  -2.356691 & 14 & 3.40e-02 & 1.00e-01 & ns  \\\\\n",
       "\t5 & SC  & Measure & followup & pre  & 15 & 15 &  -3.259854 & 14 & 6.00e-03 & 1.70e-02 & *   \\\\\n",
       "\t6 & SC  & Measure & post     & pre  & 15 & 15 &  -3.501232 & 14 & 4.00e-03 & 1.10e-02 & *   \\\\\n",
       "\t7 & SIT & Measure & followup & post & 15 & 15 &   1.381699 & 14 & 1.89e-01 & 5.67e-01 & ns  \\\\\n",
       "\t8 & SIT & Measure & followup & pre  & 15 & 15 &  -4.737232 & 14 & 3.18e-04 & 9.54e-04 & *** \\\\\n",
       "\t9 & SIT & Measure & post     & pre  & 15 & 15 & -14.015635 & 14 & 1.25e-09 & 3.75e-09 & ****\\\\\n",
       "\\end{tabular}\n"
      ],
      "text/markdown": [
       "\n",
       "A rstatix_test: 9 × 11\n",
       "\n",
       "| <!--/--> | Method &lt;chr&gt; | .y. &lt;chr&gt; | group1 &lt;chr&gt; | group2 &lt;chr&gt; | n1 &lt;int&gt; | n2 &lt;int&gt; | statistic &lt;dbl&gt; | df &lt;dbl&gt; | p &lt;dbl&gt; | p.adj &lt;dbl&gt; | p.adj.signif &lt;chr&gt; |\n",
       "|---|---|---|---|---|---|---|---|---|---|---|---|\n",
       "| 1 | PE  | Measure | followup | post | 15 | 15 |  -1.693738 | 14 | 1.12e-01 | 3.36e-01 | ns   |\n",
       "| 2 | PE  | Measure | followup | pre  | 15 | 15 |  -7.313226 | 14 | 3.83e-06 | 1.15e-05 | **** |\n",
       "| 3 | PE  | Measure | post     | pre  | 15 | 15 |  -5.815838 | 14 | 4.48e-05 | 1.34e-04 | ***  |\n",
       "| 4 | SC  | Measure | followup | post | 15 | 15 |  -2.356691 | 14 | 3.40e-02 | 1.00e-01 | ns   |\n",
       "| 5 | SC  | Measure | followup | pre  | 15 | 15 |  -3.259854 | 14 | 6.00e-03 | 1.70e-02 | *    |\n",
       "| 6 | SC  | Measure | post     | pre  | 15 | 15 |  -3.501232 | 14 | 4.00e-03 | 1.10e-02 | *    |\n",
       "| 7 | SIT | Measure | followup | post | 15 | 15 |   1.381699 | 14 | 1.89e-01 | 5.67e-01 | ns   |\n",
       "| 8 | SIT | Measure | followup | pre  | 15 | 15 |  -4.737232 | 14 | 3.18e-04 | 9.54e-04 | ***  |\n",
       "| 9 | SIT | Measure | post     | pre  | 15 | 15 | -14.015635 | 14 | 1.25e-09 | 3.75e-09 | **** |\n",
       "\n"
      ],
      "text/plain": [
       "  Method .y.     group1   group2 n1 n2 statistic  df p        p.adj   \n",
       "1 PE     Measure followup post   15 15  -1.693738 14 1.12e-01 3.36e-01\n",
       "2 PE     Measure followup pre    15 15  -7.313226 14 3.83e-06 1.15e-05\n",
       "3 PE     Measure post     pre    15 15  -5.815838 14 4.48e-05 1.34e-04\n",
       "4 SC     Measure followup post   15 15  -2.356691 14 3.40e-02 1.00e-01\n",
       "5 SC     Measure followup pre    15 15  -3.259854 14 6.00e-03 1.70e-02\n",
       "6 SC     Measure post     pre    15 15  -3.501232 14 4.00e-03 1.10e-02\n",
       "7 SIT    Measure followup post   15 15   1.381699 14 1.89e-01 5.67e-01\n",
       "8 SIT    Measure followup pre    15 15  -4.737232 14 3.18e-04 9.54e-04\n",
       "9 SIT    Measure post     pre    15 15 -14.015635 14 1.25e-09 3.75e-09\n",
       "  p.adj.signif\n",
       "1 ns          \n",
       "2 ****        \n",
       "3 ***         \n",
       "4 ns          \n",
       "5 *           \n",
       "6 *           \n",
       "7 ns          \n",
       "8 ***         \n",
       "9 ****        "
      ]
     },
     "metadata": {},
     "output_type": "display_data"
    }
   ],
   "source": [
    "ptsd_data %>% group_by(Method) %>% pairwise_t_test(Measure ~ Test, paired = TRUE, p.adjust.method = \"bonferroni\")"
   ]
  },
  {
   "cell_type": "markdown",
   "metadata": {},
   "source": [
    "### Comparison of all the methods of procedure in pre and post times of measure shows significancy which means that the procedures were consistant through time."
   ]
  },
  {
   "cell_type": "code",
   "execution_count": 32,
   "metadata": {},
   "outputs": [],
   "source": [
    "tres1 = ptsd_data %>% group_by(Test) %>% pairwise_t_test(Measure ~ Method, paired = TRUE, p.adjust.method = \"bonferroni\")"
   ]
  },
  {
   "cell_type": "code",
   "execution_count": 51,
   "metadata": {},
   "outputs": [],
   "source": [
    "tres2 = ptsd_data %>% group_by(Method) %>% pairwise_t_test(Measure ~ Test, paired = TRUE, p.adjust.method = \"bonferroni\")"
   ]
  },
  {
   "cell_type": "code",
   "execution_count": 46,
   "metadata": {},
   "outputs": [],
   "source": [
    "bxp1 = ggboxplot(ptsd_data, x= \"Test\", y = \"Measure\", color = \"Method\")"
   ]
  },
  {
   "cell_type": "code",
   "execution_count": 49,
   "metadata": {},
   "outputs": [],
   "source": [
    "tres1 = tres1 %>% add_xy_position(x = \"Test\")"
   ]
  },
  {
   "cell_type": "code",
   "execution_count": 52,
   "metadata": {},
   "outputs": [],
   "source": [
    "tres2 = tres2 %>% add_xy_position(x = \"Test\")"
   ]
  },
  {
   "cell_type": "code",
   "execution_count": 55,
   "metadata": {},
   "outputs": [
    {
     "data": {
      "image/png": "[encoded data removed]",
      "text/plain": [
       "plot without title"
      ]
     },
     "metadata": {
      "image/png": {
       "height": 420,
       "width": 420
      }
     },
     "output_type": "display_data"
    }
   ],
   "source": [
    "bxp1 + stat_pvalue_manual(tres1, hide.ns = TRUE)"
   ]
  },
  {
   "cell_type": "code",
   "execution_count": 54,
   "metadata": {},
   "outputs": [
    {
     "data": {
      "image/png": "[encoded data removed]",
      "text/plain": [
       "plot without title"
      ]
     },
     "metadata": {
      "image/png": {
       "height": 420,
       "width": 420
      }
     },
     "output_type": "display_data"
    }
   ],
   "source": [
    "bxp1 + stat_pvalue_manual(tres2, hide.ns = TRUE)"
   ]
  },
  {
   "cell_type": "markdown",
   "metadata": {},
   "source": [
    "- The following data come from above data with some observations deleted. (An entry of “999” represents a missing observation.)\n",
    "\n",
    "<img src=\"p11.png\" width=\"600\"/>\n",
    "\n",
    "    - Analyze these data using a standard repeated measures analysis of variance.\n",
    "    - How do your results differ from the results you found above.\n",
    "    - Now analyze the new data using a mixed models approach withan appropriate form for the covariance matrix. How do those results differ from the results you found above?\n"
   ]
  },
  {
   "cell_type": "code",
   "execution_count": 4,
   "metadata": {},
   "outputs": [
    {
     "name": "stderr",
     "output_type": "stream",
     "text": [
      "Loading required package: ggplot2\n",
      "\n"
     ]
    }
   ],
   "source": [
    "library(readxl)\n",
    "library(ggpubr)"
   ]
  },
  {
   "cell_type": "code",
   "execution_count": 5,
   "metadata": {},
   "outputs": [],
   "source": [
    "ptsd_na_data = read_excel(\"C://Users//Saeed//Desktop//ptsd_na_data.xlsx\")"
   ]
  },
  {
   "cell_type": "code",
   "execution_count": 6,
   "metadata": {},
   "outputs": [
    {
     "name": "stderr",
     "output_type": "stream",
     "text": [
      "Warning message in eval(expr, envir, enclos):\n",
      "\"NAs introduced by coercion\"\n"
     ]
    }
   ],
   "source": [
    "ptsd_na_data$Measure = as.double(ptsd_na_data$Measure)"
   ]
  },
  {
   "cell_type": "code",
   "execution_count": 7,
   "metadata": {
    "scrolled": true
   },
   "outputs": [
    {
     "data": {
      "text/html": [
       "<table class=\"dataframe\">\n",
       "<caption>A tibble: 135 × 4</caption>\n",
       "<thead>\n",
       "\t<tr><th scope=col>Method</th><th scope=col>Test</th><th scope=col>Measure</th><th scope=col>id</th></tr>\n",
       "\t<tr><th scope=col>&lt;chr&gt;</th><th scope=col>&lt;chr&gt;</th><th scope=col>&lt;dbl&gt;</th><th scope=col>&lt;dbl&gt;</th></tr>\n",
       "</thead>\n",
       "<tbody>\n",
       "\t<tr><td>SIT</td><td>pre </td><td>19</td><td> 1</td></tr>\n",
       "\t<tr><td>SIT</td><td>pre </td><td>28</td><td> 2</td></tr>\n",
       "\t<tr><td>SIT</td><td>pre </td><td>18</td><td> 3</td></tr>\n",
       "\t<tr><td>SIT</td><td>pre </td><td>NA</td><td> 4</td></tr>\n",
       "\t<tr><td>SIT</td><td>pre </td><td>21</td><td> 5</td></tr>\n",
       "\t<tr><td>SIT</td><td>pre </td><td>24</td><td> 6</td></tr>\n",
       "\t<tr><td>SIT</td><td>pre </td><td>26</td><td> 7</td></tr>\n",
       "\t<tr><td>SIT</td><td>pre </td><td>15</td><td> 8</td></tr>\n",
       "\t<tr><td>SIT</td><td>pre </td><td>18</td><td> 9</td></tr>\n",
       "\t<tr><td>SIT</td><td>pre </td><td>34</td><td>10</td></tr>\n",
       "\t<tr><td>SIT</td><td>pre </td><td>20</td><td>11</td></tr>\n",
       "\t<tr><td>SIT</td><td>pre </td><td>34</td><td>12</td></tr>\n",
       "\t<tr><td>SIT</td><td>pre </td><td>29</td><td>13</td></tr>\n",
       "\t<tr><td>SIT</td><td>pre </td><td>33</td><td>14</td></tr>\n",
       "\t<tr><td>SIT</td><td>pre </td><td>22</td><td>15</td></tr>\n",
       "\t<tr><td>SIT</td><td>post</td><td> 6</td><td> 1</td></tr>\n",
       "\t<tr><td>SIT</td><td>post</td><td>14</td><td> 2</td></tr>\n",
       "\t<tr><td>SIT</td><td>post</td><td> 6</td><td> 3</td></tr>\n",
       "\t<tr><td>SIT</td><td>post</td><td> 6</td><td> 4</td></tr>\n",
       "\t<tr><td>SIT</td><td>post</td><td> 6</td><td> 5</td></tr>\n",
       "\t<tr><td>SIT</td><td>post</td><td>10</td><td> 6</td></tr>\n",
       "\t<tr><td>SIT</td><td>post</td><td>10</td><td> 7</td></tr>\n",
       "\t<tr><td>SIT</td><td>post</td><td> 6</td><td> 8</td></tr>\n",
       "\t<tr><td>SIT</td><td>post</td><td> 8</td><td> 9</td></tr>\n",
       "\t<tr><td>SIT</td><td>post</td><td>13</td><td>10</td></tr>\n",
       "\t<tr><td>SIT</td><td>post</td><td>NA</td><td>11</td></tr>\n",
       "\t<tr><td>SIT</td><td>post</td><td>10</td><td>12</td></tr>\n",
       "\t<tr><td>SIT</td><td>post</td><td>16</td><td>13</td></tr>\n",
       "\t<tr><td>SIT</td><td>post</td><td>19</td><td>14</td></tr>\n",
       "\t<tr><td>SIT</td><td>post</td><td> 7</td><td>15</td></tr>\n",
       "\t<tr><td>⋮</td><td>⋮</td><td>⋮</td><td>⋮</td></tr>\n",
       "\t<tr><td>SC</td><td>post    </td><td>14</td><td> 1</td></tr>\n",
       "\t<tr><td>SC</td><td>post    </td><td>18</td><td> 2</td></tr>\n",
       "\t<tr><td>SC</td><td>post    </td><td>NA</td><td> 3</td></tr>\n",
       "\t<tr><td>SC</td><td>post    </td><td>21</td><td> 4</td></tr>\n",
       "\t<tr><td>SC</td><td>post    </td><td>20</td><td> 5</td></tr>\n",
       "\t<tr><td>SC</td><td>post    </td><td>20</td><td> 6</td></tr>\n",
       "\t<tr><td>SC</td><td>post    </td><td>35</td><td> 7</td></tr>\n",
       "\t<tr><td>SC</td><td>post    </td><td>22</td><td> 8</td></tr>\n",
       "\t<tr><td>SC</td><td>post    </td><td>10</td><td> 9</td></tr>\n",
       "\t<tr><td>SC</td><td>post    </td><td>19</td><td>10</td></tr>\n",
       "\t<tr><td>SC</td><td>post    </td><td>NA</td><td>11</td></tr>\n",
       "\t<tr><td>SC</td><td>post    </td><td>15</td><td>12</td></tr>\n",
       "\t<tr><td>SC</td><td>post    </td><td>18</td><td>13</td></tr>\n",
       "\t<tr><td>SC</td><td>post    </td><td>21</td><td>14</td></tr>\n",
       "\t<tr><td>SC</td><td>post    </td><td>18</td><td>15</td></tr>\n",
       "\t<tr><td>SC</td><td>followup</td><td>18</td><td> 1</td></tr>\n",
       "\t<tr><td>SC</td><td>followup</td><td> 9</td><td> 2</td></tr>\n",
       "\t<tr><td>SC</td><td>followup</td><td>13</td><td> 3</td></tr>\n",
       "\t<tr><td>SC</td><td>followup</td><td>11</td><td> 4</td></tr>\n",
       "\t<tr><td>SC</td><td>followup</td><td>18</td><td> 5</td></tr>\n",
       "\t<tr><td>SC</td><td>followup</td><td>26</td><td> 6</td></tr>\n",
       "\t<tr><td>SC</td><td>followup</td><td>34</td><td> 7</td></tr>\n",
       "\t<tr><td>SC</td><td>followup</td><td>NA</td><td> 8</td></tr>\n",
       "\t<tr><td>SC</td><td>followup</td><td> 8</td><td> 9</td></tr>\n",
       "\t<tr><td>SC</td><td>followup</td><td>19</td><td>10</td></tr>\n",
       "\t<tr><td>SC</td><td>followup</td><td>NA</td><td>11</td></tr>\n",
       "\t<tr><td>SC</td><td>followup</td><td>12</td><td>12</td></tr>\n",
       "\t<tr><td>SC</td><td>followup</td><td>13</td><td>13</td></tr>\n",
       "\t<tr><td>SC</td><td>followup</td><td>19</td><td>14</td></tr>\n",
       "\t<tr><td>SC</td><td>followup</td><td>13</td><td>15</td></tr>\n",
       "</tbody>\n",
       "</table>\n"
      ],
      "text/latex": [
       "A tibble: 135 × 4\n",
       "\\begin{tabular}{llll}\n",
       " Method & Test & Measure & id\\\\\n",
       " <chr> & <chr> & <dbl> & <dbl>\\\\\n",
       "\\hline\n",
       "\t SIT & pre  & 19 &  1\\\\\n",
       "\t SIT & pre  & 28 &  2\\\\\n",
       "\t SIT & pre  & 18 &  3\\\\\n",
       "\t SIT & pre  & NA &  4\\\\\n",
       "\t SIT & pre  & 21 &  5\\\\\n",
       "\t SIT & pre  & 24 &  6\\\\\n",
       "\t SIT & pre  & 26 &  7\\\\\n",
       "\t SIT & pre  & 15 &  8\\\\\n",
       "\t SIT & pre  & 18 &  9\\\\\n",
       "\t SIT & pre  & 34 & 10\\\\\n",
       "\t SIT & pre  & 20 & 11\\\\\n",
       "\t SIT & pre  & 34 & 12\\\\\n",
       "\t SIT & pre  & 29 & 13\\\\\n",
       "\t SIT & pre  & 33 & 14\\\\\n",
       "\t SIT & pre  & 22 & 15\\\\\n",
       "\t SIT & post &  6 &  1\\\\\n",
       "\t SIT & post & 14 &  2\\\\\n",
       "\t SIT & post &  6 &  3\\\\\n",
       "\t SIT & post &  6 &  4\\\\\n",
       "\t SIT & post &  6 &  5\\\\\n",
       "\t SIT & post & 10 &  6\\\\\n",
       "\t SIT & post & 10 &  7\\\\\n",
       "\t SIT & post &  6 &  8\\\\\n",
       "\t SIT & post &  8 &  9\\\\\n",
       "\t SIT & post & 13 & 10\\\\\n",
       "\t SIT & post & NA & 11\\\\\n",
       "\t SIT & post & 10 & 12\\\\\n",
       "\t SIT & post & 16 & 13\\\\\n",
       "\t SIT & post & 19 & 14\\\\\n",
       "\t SIT & post &  7 & 15\\\\\n",
       "\t ⋮ & ⋮ & ⋮ & ⋮\\\\\n",
       "\t SC & post     & 14 &  1\\\\\n",
       "\t SC & post     & 18 &  2\\\\\n",
       "\t SC & post     & NA &  3\\\\\n",
       "\t SC & post     & 21 &  4\\\\\n",
       "\t SC & post     & 20 &  5\\\\\n",
       "\t SC & post     & 20 &  6\\\\\n",
       "\t SC & post     & 35 &  7\\\\\n",
       "\t SC & post     & 22 &  8\\\\\n",
       "\t SC & post     & 10 &  9\\\\\n",
       "\t SC & post     & 19 & 10\\\\\n",
       "\t SC & post     & NA & 11\\\\\n",
       "\t SC & post     & 15 & 12\\\\\n",
       "\t SC & post     & 18 & 13\\\\\n",
       "\t SC & post     & 21 & 14\\\\\n",
       "\t SC & post     & 18 & 15\\\\\n",
       "\t SC & followup & 18 &  1\\\\\n",
       "\t SC & followup &  9 &  2\\\\\n",
       "\t SC & followup & 13 &  3\\\\\n",
       "\t SC & followup & 11 &  4\\\\\n",
       "\t SC & followup & 18 &  5\\\\\n",
       "\t SC & followup & 26 &  6\\\\\n",
       "\t SC & followup & 34 &  7\\\\\n",
       "\t SC & followup & NA &  8\\\\\n",
       "\t SC & followup &  8 &  9\\\\\n",
       "\t SC & followup & 19 & 10\\\\\n",
       "\t SC & followup & NA & 11\\\\\n",
       "\t SC & followup & 12 & 12\\\\\n",
       "\t SC & followup & 13 & 13\\\\\n",
       "\t SC & followup & 19 & 14\\\\\n",
       "\t SC & followup & 13 & 15\\\\\n",
       "\\end{tabular}\n"
      ],
      "text/markdown": [
       "\n",
       "A tibble: 135 × 4\n",
       "\n",
       "| Method &lt;chr&gt; | Test &lt;chr&gt; | Measure &lt;dbl&gt; | id &lt;dbl&gt; |\n",
       "|---|---|---|---|\n",
       "| SIT | pre  | 19 |  1 |\n",
       "| SIT | pre  | 28 |  2 |\n",
       "| SIT | pre  | 18 |  3 |\n",
       "| SIT | pre  | NA |  4 |\n",
       "| SIT | pre  | 21 |  5 |\n",
       "| SIT | pre  | 24 |  6 |\n",
       "| SIT | pre  | 26 |  7 |\n",
       "| SIT | pre  | 15 |  8 |\n",
       "| SIT | pre  | 18 |  9 |\n",
       "| SIT | pre  | 34 | 10 |\n",
       "| SIT | pre  | 20 | 11 |\n",
       "| SIT | pre  | 34 | 12 |\n",
       "| SIT | pre  | 29 | 13 |\n",
       "| SIT | pre  | 33 | 14 |\n",
       "| SIT | pre  | 22 | 15 |\n",
       "| SIT | post |  6 |  1 |\n",
       "| SIT | post | 14 |  2 |\n",
       "| SIT | post |  6 |  3 |\n",
       "| SIT | post |  6 |  4 |\n",
       "| SIT | post |  6 |  5 |\n",
       "| SIT | post | 10 |  6 |\n",
       "| SIT | post | 10 |  7 |\n",
       "| SIT | post |  6 |  8 |\n",
       "| SIT | post |  8 |  9 |\n",
       "| SIT | post | 13 | 10 |\n",
       "| SIT | post | NA | 11 |\n",
       "| SIT | post | 10 | 12 |\n",
       "| SIT | post | 16 | 13 |\n",
       "| SIT | post | 19 | 14 |\n",
       "| SIT | post |  7 | 15 |\n",
       "| ⋮ | ⋮ | ⋮ | ⋮ |\n",
       "| SC | post     | 14 |  1 |\n",
       "| SC | post     | 18 |  2 |\n",
       "| SC | post     | NA |  3 |\n",
       "| SC | post     | 21 |  4 |\n",
       "| SC | post     | 20 |  5 |\n",
       "| SC | post     | 20 |  6 |\n",
       "| SC | post     | 35 |  7 |\n",
       "| SC | post     | 22 |  8 |\n",
       "| SC | post     | 10 |  9 |\n",
       "| SC | post     | 19 | 10 |\n",
       "| SC | post     | NA | 11 |\n",
       "| SC | post     | 15 | 12 |\n",
       "| SC | post     | 18 | 13 |\n",
       "| SC | post     | 21 | 14 |\n",
       "| SC | post     | 18 | 15 |\n",
       "| SC | followup | 18 |  1 |\n",
       "| SC | followup |  9 |  2 |\n",
       "| SC | followup | 13 |  3 |\n",
       "| SC | followup | 11 |  4 |\n",
       "| SC | followup | 18 |  5 |\n",
       "| SC | followup | 26 |  6 |\n",
       "| SC | followup | 34 |  7 |\n",
       "| SC | followup | NA |  8 |\n",
       "| SC | followup |  8 |  9 |\n",
       "| SC | followup | 19 | 10 |\n",
       "| SC | followup | NA | 11 |\n",
       "| SC | followup | 12 | 12 |\n",
       "| SC | followup | 13 | 13 |\n",
       "| SC | followup | 19 | 14 |\n",
       "| SC | followup | 13 | 15 |\n",
       "\n"
      ],
      "text/plain": [
       "    Method Test     Measure id\n",
       "1   SIT    pre      19       1\n",
       "2   SIT    pre      28       2\n",
       "3   SIT    pre      18       3\n",
       "4   SIT    pre      NA       4\n",
       "5   SIT    pre      21       5\n",
       "6   SIT    pre      24       6\n",
       "7   SIT    pre      26       7\n",
       "8   SIT    pre      15       8\n",
       "9   SIT    pre      18       9\n",
       "10  SIT    pre      34      10\n",
       "11  SIT    pre      20      11\n",
       "12  SIT    pre      34      12\n",
       "13  SIT    pre      29      13\n",
       "14  SIT    pre      33      14\n",
       "15  SIT    pre      22      15\n",
       "16  SIT    post      6       1\n",
       "17  SIT    post     14       2\n",
       "18  SIT    post      6       3\n",
       "19  SIT    post      6       4\n",
       "20  SIT    post      6       5\n",
       "21  SIT    post     10       6\n",
       "22  SIT    post     10       7\n",
       "23  SIT    post      6       8\n",
       "24  SIT    post      8       9\n",
       "25  SIT    post     13      10\n",
       "26  SIT    post     NA      11\n",
       "27  SIT    post     10      12\n",
       "28  SIT    post     16      13\n",
       "29  SIT    post     19      14\n",
       "30  SIT    post      7      15\n",
       "⋮   ⋮      ⋮        ⋮       ⋮ \n",
       "106 SC     post     14       1\n",
       "107 SC     post     18       2\n",
       "108 SC     post     NA       3\n",
       "109 SC     post     21       4\n",
       "110 SC     post     20       5\n",
       "111 SC     post     20       6\n",
       "112 SC     post     35       7\n",
       "113 SC     post     22       8\n",
       "114 SC     post     10       9\n",
       "115 SC     post     19      10\n",
       "116 SC     post     NA      11\n",
       "117 SC     post     15      12\n",
       "118 SC     post     18      13\n",
       "119 SC     post     21      14\n",
       "120 SC     post     18      15\n",
       "121 SC     followup 18       1\n",
       "122 SC     followup  9       2\n",
       "123 SC     followup 13       3\n",
       "124 SC     followup 11       4\n",
       "125 SC     followup 18       5\n",
       "126 SC     followup 26       6\n",
       "127 SC     followup 34       7\n",
       "128 SC     followup NA       8\n",
       "129 SC     followup  8       9\n",
       "130 SC     followup 19      10\n",
       "131 SC     followup NA      11\n",
       "132 SC     followup 12      12\n",
       "133 SC     followup 13      13\n",
       "134 SC     followup 19      14\n",
       "135 SC     followup 13      15"
      ]
     },
     "metadata": {},
     "output_type": "display_data"
    }
   ],
   "source": [
    "ptsd_na_data"
   ]
  },
  {
   "cell_type": "code",
   "execution_count": 9,
   "metadata": {},
   "outputs": [
    {
     "data": {
      "text/html": [
       "<table class=\"dataframe\">\n",
       "<caption>A tibble: 9 × 15</caption>\n",
       "<thead>\n",
       "\t<tr><th scope=col>Method</th><th scope=col>Test</th><th scope=col>variable</th><th scope=col>n</th><th scope=col>min</th><th scope=col>max</th><th scope=col>median</th><th scope=col>q1</th><th scope=col>q3</th><th scope=col>iqr</th><th scope=col>mad</th><th scope=col>mean</th><th scope=col>sd</th><th scope=col>se</th><th scope=col>ci</th></tr>\n",
       "\t<tr><th scope=col>&lt;chr&gt;</th><th scope=col>&lt;chr&gt;</th><th scope=col>&lt;fct&gt;</th><th scope=col>&lt;dbl&gt;</th><th scope=col>&lt;dbl&gt;</th><th scope=col>&lt;dbl&gt;</th><th scope=col>&lt;dbl&gt;</th><th scope=col>&lt;dbl&gt;</th><th scope=col>&lt;dbl&gt;</th><th scope=col>&lt;dbl&gt;</th><th scope=col>&lt;dbl&gt;</th><th scope=col>&lt;dbl&gt;</th><th scope=col>&lt;dbl&gt;</th><th scope=col>&lt;dbl&gt;</th><th scope=col>&lt;dbl&gt;</th></tr>\n",
       "</thead>\n",
       "<tbody>\n",
       "\t<tr><td>PE </td><td>followup</td><td>Measure</td><td>13</td><td> 0</td><td>21</td><td>11.0</td><td> 7.00</td><td>20.00</td><td>13.00</td><td>11.861</td><td>11.923</td><td> 7.632</td><td>2.117</td><td>4.612</td></tr>\n",
       "\t<tr><td>PE </td><td>post    </td><td>Measure</td><td>13</td><td> 4</td><td>31</td><td>15.0</td><td> 7.00</td><td>22.00</td><td>15.00</td><td>11.861</td><td>14.846</td><td> 8.924</td><td>2.475</td><td>5.393</td></tr>\n",
       "\t<tr><td>PE </td><td>pre     </td><td>Measure</td><td>14</td><td>19</td><td>36</td><td>25.5</td><td>22.00</td><td>27.75</td><td> 5.75</td><td> 5.189</td><td>25.286</td><td> 4.762</td><td>1.273</td><td>2.750</td></tr>\n",
       "\t<tr><td>SC </td><td>followup</td><td>Measure</td><td>13</td><td> 8</td><td>34</td><td>13.0</td><td>12.00</td><td>19.00</td><td> 7.00</td><td> 7.413</td><td>16.385</td><td> 7.240</td><td>2.008</td><td>4.375</td></tr>\n",
       "\t<tr><td>SC </td><td>post    </td><td>Measure</td><td>13</td><td>10</td><td>35</td><td>19.0</td><td>18.00</td><td>21.00</td><td> 3.00</td><td> 2.965</td><td>19.308</td><td> 5.765</td><td>1.599</td><td>3.484</td></tr>\n",
       "\t<tr><td>SC </td><td>pre     </td><td>Measure</td><td>15</td><td>12</td><td>34</td><td>26.0</td><td>22.50</td><td>27.00</td><td> 4.50</td><td> 4.448</td><td>24.667</td><td> 5.300</td><td>1.369</td><td>2.935</td></tr>\n",
       "\t<tr><td>SIT</td><td>followup</td><td>Measure</td><td>13</td><td> 1</td><td>39</td><td>11.0</td><td> 8.00</td><td>16.00</td><td> 8.00</td><td> 7.413</td><td>12.538</td><td>10.030</td><td>2.782</td><td>6.061</td></tr>\n",
       "\t<tr><td>SIT</td><td>post    </td><td>Measure</td><td>14</td><td> 6</td><td>19</td><td> 9.0</td><td> 6.00</td><td>12.25</td><td> 6.25</td><td> 4.448</td><td> 9.786</td><td> 4.246</td><td>1.135</td><td>2.451</td></tr>\n",
       "\t<tr><td>SIT</td><td>pre     </td><td>Measure</td><td>14</td><td>15</td><td>34</td><td>23.0</td><td>19.25</td><td>28.75</td><td> 9.50</td><td> 7.413</td><td>24.357</td><td> 6.392</td><td>1.708</td><td>3.691</td></tr>\n",
       "</tbody>\n",
       "</table>\n"
      ],
      "text/latex": [
       "A tibble: 9 × 15\n",
       "\\begin{tabular}{lllllllllllllll}\n",
       " Method & Test & variable & n & min & max & median & q1 & q3 & iqr & mad & mean & sd & se & ci\\\\\n",
       " <chr> & <chr> & <fct> & <dbl> & <dbl> & <dbl> & <dbl> & <dbl> & <dbl> & <dbl> & <dbl> & <dbl> & <dbl> & <dbl> & <dbl>\\\\\n",
       "\\hline\n",
       "\t PE  & followup & Measure & 13 &  0 & 21 & 11.0 &  7.00 & 20.00 & 13.00 & 11.861 & 11.923 &  7.632 & 2.117 & 4.612\\\\\n",
       "\t PE  & post     & Measure & 13 &  4 & 31 & 15.0 &  7.00 & 22.00 & 15.00 & 11.861 & 14.846 &  8.924 & 2.475 & 5.393\\\\\n",
       "\t PE  & pre      & Measure & 14 & 19 & 36 & 25.5 & 22.00 & 27.75 &  5.75 &  5.189 & 25.286 &  4.762 & 1.273 & 2.750\\\\\n",
       "\t SC  & followup & Measure & 13 &  8 & 34 & 13.0 & 12.00 & 19.00 &  7.00 &  7.413 & 16.385 &  7.240 & 2.008 & 4.375\\\\\n",
       "\t SC  & post     & Measure & 13 & 10 & 35 & 19.0 & 18.00 & 21.00 &  3.00 &  2.965 & 19.308 &  5.765 & 1.599 & 3.484\\\\\n",
       "\t SC  & pre      & Measure & 15 & 12 & 34 & 26.0 & 22.50 & 27.00 &  4.50 &  4.448 & 24.667 &  5.300 & 1.369 & 2.935\\\\\n",
       "\t SIT & followup & Measure & 13 &  1 & 39 & 11.0 &  8.00 & 16.00 &  8.00 &  7.413 & 12.538 & 10.030 & 2.782 & 6.061\\\\\n",
       "\t SIT & post     & Measure & 14 &  6 & 19 &  9.0 &  6.00 & 12.25 &  6.25 &  4.448 &  9.786 &  4.246 & 1.135 & 2.451\\\\\n",
       "\t SIT & pre      & Measure & 14 & 15 & 34 & 23.0 & 19.25 & 28.75 &  9.50 &  7.413 & 24.357 &  6.392 & 1.708 & 3.691\\\\\n",
       "\\end{tabular}\n"
      ],
      "text/markdown": [
       "\n",
       "A tibble: 9 × 15\n",
       "\n",
       "| Method &lt;chr&gt; | Test &lt;chr&gt; | variable &lt;fct&gt; | n &lt;dbl&gt; | min &lt;dbl&gt; | max &lt;dbl&gt; | median &lt;dbl&gt; | q1 &lt;dbl&gt; | q3 &lt;dbl&gt; | iqr &lt;dbl&gt; | mad &lt;dbl&gt; | mean &lt;dbl&gt; | sd &lt;dbl&gt; | se &lt;dbl&gt; | ci &lt;dbl&gt; |\n",
       "|---|---|---|---|---|---|---|---|---|---|---|---|---|---|---|\n",
       "| PE  | followup | Measure | 13 |  0 | 21 | 11.0 |  7.00 | 20.00 | 13.00 | 11.861 | 11.923 |  7.632 | 2.117 | 4.612 |\n",
       "| PE  | post     | Measure | 13 |  4 | 31 | 15.0 |  7.00 | 22.00 | 15.00 | 11.861 | 14.846 |  8.924 | 2.475 | 5.393 |\n",
       "| PE  | pre      | Measure | 14 | 19 | 36 | 25.5 | 22.00 | 27.75 |  5.75 |  5.189 | 25.286 |  4.762 | 1.273 | 2.750 |\n",
       "| SC  | followup | Measure | 13 |  8 | 34 | 13.0 | 12.00 | 19.00 |  7.00 |  7.413 | 16.385 |  7.240 | 2.008 | 4.375 |\n",
       "| SC  | post     | Measure | 13 | 10 | 35 | 19.0 | 18.00 | 21.00 |  3.00 |  2.965 | 19.308 |  5.765 | 1.599 | 3.484 |\n",
       "| SC  | pre      | Measure | 15 | 12 | 34 | 26.0 | 22.50 | 27.00 |  4.50 |  4.448 | 24.667 |  5.300 | 1.369 | 2.935 |\n",
       "| SIT | followup | Measure | 13 |  1 | 39 | 11.0 |  8.00 | 16.00 |  8.00 |  7.413 | 12.538 | 10.030 | 2.782 | 6.061 |\n",
       "| SIT | post     | Measure | 14 |  6 | 19 |  9.0 |  6.00 | 12.25 |  6.25 |  4.448 |  9.786 |  4.246 | 1.135 | 2.451 |\n",
       "| SIT | pre      | Measure | 14 | 15 | 34 | 23.0 | 19.25 | 28.75 |  9.50 |  7.413 | 24.357 |  6.392 | 1.708 | 3.691 |\n",
       "\n"
      ],
      "text/plain": [
       "  Method Test     variable n  min max median q1    q3    iqr   mad    mean  \n",
       "1 PE     followup Measure  13  0  21  11.0    7.00 20.00 13.00 11.861 11.923\n",
       "2 PE     post     Measure  13  4  31  15.0    7.00 22.00 15.00 11.861 14.846\n",
       "3 PE     pre      Measure  14 19  36  25.5   22.00 27.75  5.75  5.189 25.286\n",
       "4 SC     followup Measure  13  8  34  13.0   12.00 19.00  7.00  7.413 16.385\n",
       "5 SC     post     Measure  13 10  35  19.0   18.00 21.00  3.00  2.965 19.308\n",
       "6 SC     pre      Measure  15 12  34  26.0   22.50 27.00  4.50  4.448 24.667\n",
       "7 SIT    followup Measure  13  1  39  11.0    8.00 16.00  8.00  7.413 12.538\n",
       "8 SIT    post     Measure  14  6  19   9.0    6.00 12.25  6.25  4.448  9.786\n",
       "9 SIT    pre      Measure  14 15  34  23.0   19.25 28.75  9.50  7.413 24.357\n",
       "  sd     se    ci   \n",
       "1  7.632 2.117 4.612\n",
       "2  8.924 2.475 5.393\n",
       "3  4.762 1.273 2.750\n",
       "4  7.240 2.008 4.375\n",
       "5  5.765 1.599 3.484\n",
       "6  5.300 1.369 2.935\n",
       "7 10.030 2.782 6.061\n",
       "8  4.246 1.135 2.451\n",
       "9  6.392 1.708 3.691"
      ]
     },
     "metadata": {},
     "output_type": "display_data"
    }
   ],
   "source": [
    "ptsd_na_data %>% group_by(Method, Test) %>% get_summary_stats(Measure)"
   ]
  },
  {
   "cell_type": "code",
   "execution_count": 8,
   "metadata": {},
   "outputs": [
    {
     "ename": "ERROR",
     "evalue": "Error in anova_test(data = ptsd_na_data, dv = Measure, wid = id, within = c(Test, : could not find function \"anova_test\"\n",
     "output_type": "error",
     "traceback": [
      "Error in anova_test(data = ptsd_na_data, dv = Measure, wid = id, within = c(Test, : could not find function \"anova_test\"\nTraceback:\n"
     ]
    }
   ],
   "source": [
    "anova_test(data = ptsd_na_data, dv = Measure, wid = id, within  =  c(Test, Method))"
   ]
  },
  {
   "cell_type": "code",
   "execution_count": 24,
   "metadata": {},
   "outputs": [
    {
     "name": "stderr",
     "output_type": "stream",
     "text": [
      "Warning message:\n",
      "\"NA detected in rows: 4,26,37,41,47,62,65,83,84,108,116,128,131.\n",
      "Removing this rows before the analysis.\"\n",
      "Warning message:\n",
      "\"The 'wid' column contains duplicate ids across between-subjects variables. Automatic unique id will be created\"\n"
     ]
    },
    {
     "data": {
      "text/html": [
       "<dl>\n",
       "\t<dt>$ANOVA</dt>\n",
       "\t\t<dd><table class=\"dataframe\">\n",
       "<caption>A data.frame: 3 × 7</caption>\n",
       "<thead>\n",
       "\t<tr><th scope=col>Effect</th><th scope=col>DFn</th><th scope=col>DFd</th><th scope=col>F</th><th scope=col>p</th><th scope=col>p&lt;.05</th><th scope=col>ges</th></tr>\n",
       "\t<tr><th scope=col>&lt;chr&gt;</th><th scope=col>&lt;dbl&gt;</th><th scope=col>&lt;dbl&gt;</th><th scope=col>&lt;dbl&gt;</th><th scope=col>&lt;dbl&gt;</th><th scope=col>&lt;chr&gt;</th><th scope=col>&lt;dbl&gt;</th></tr>\n",
       "</thead>\n",
       "<tbody>\n",
       "\t<tr><td>Method     </td><td>2</td><td>32</td><td> 1.604</td><td>2.17e-01</td><td> </td><td>0.059</td></tr>\n",
       "\t<tr><td>Test       </td><td>2</td><td>64</td><td>45.589</td><td>4.91e-13</td><td>*</td><td>0.348</td></tr>\n",
       "\t<tr><td>Method:Test</td><td>4</td><td>64</td><td> 3.669</td><td>9.00e-03</td><td>*</td><td>0.079</td></tr>\n",
       "</tbody>\n",
       "</table>\n",
       "</dd>\n",
       "\t<dt>$`Mauchly's Test for Sphericity`</dt>\n",
       "\t\t<dd><table class=\"dataframe\">\n",
       "<caption>A data.frame: 2 × 4</caption>\n",
       "<thead>\n",
       "\t<tr><th></th><th scope=col>Effect</th><th scope=col>W</th><th scope=col>p</th><th scope=col>p&lt;.05</th></tr>\n",
       "\t<tr><th></th><th scope=col>&lt;chr&gt;</th><th scope=col>&lt;dbl&gt;</th><th scope=col>&lt;dbl&gt;</th><th scope=col>&lt;chr&gt;</th></tr>\n",
       "</thead>\n",
       "<tbody>\n",
       "\t<tr><th scope=row>1</th><td>Test       </td><td>0.639</td><td>0.000977</td><td>*</td></tr>\n",
       "\t<tr><th scope=row>2</th><td>Method:Test</td><td>0.639</td><td>0.000977</td><td>*</td></tr>\n",
       "</tbody>\n",
       "</table>\n",
       "</dd>\n",
       "\t<dt>$`Sphericity Corrections`</dt>\n",
       "\t\t<dd><table class=\"dataframe\">\n",
       "<caption>A data.frame: 2 × 9</caption>\n",
       "<thead>\n",
       "\t<tr><th scope=col>Effect</th><th scope=col>GGe</th><th scope=col>DF[GG]</th><th scope=col>p[GG]</th><th scope=col>p[GG]&lt;.05</th><th scope=col>HFe</th><th scope=col>DF[HF]</th><th scope=col>p[HF]</th><th scope=col>p[HF]&lt;.05</th></tr>\n",
       "\t<tr><th scope=col>&lt;chr&gt;</th><th scope=col>&lt;dbl&gt;</th><th scope=col>&lt;chr&gt;</th><th scope=col>&lt;dbl&gt;</th><th scope=col>&lt;chr&gt;</th><th scope=col>&lt;dbl&gt;</th><th scope=col>&lt;chr&gt;</th><th scope=col>&lt;dbl&gt;</th><th scope=col>&lt;chr&gt;</th></tr>\n",
       "</thead>\n",
       "<tbody>\n",
       "\t<tr><td>Test       </td><td>0.735</td><td>1.47, 47.04</td><td>3.55e-10</td><td>*</td><td>0.762</td><td>1.52, 48.75</td><td>1.83e-10</td><td>*</td></tr>\n",
       "\t<tr><td>Method:Test</td><td>0.735</td><td>2.94, 47.04</td><td>1.90e-02</td><td>*</td><td>0.762</td><td>3.05, 48.75</td><td>1.80e-02</td><td>*</td></tr>\n",
       "</tbody>\n",
       "</table>\n",
       "</dd>\n",
       "</dl>\n"
      ],
      "text/latex": [
       "\\begin{description}\n",
       "\\item[\\$ANOVA] A data.frame: 3 × 7\n",
       "\\begin{tabular}{lllllll}\n",
       " Effect & DFn & DFd & F & p & p<.05 & ges\\\\\n",
       " <chr> & <dbl> & <dbl> & <dbl> & <dbl> & <chr> & <dbl>\\\\\n",
       "\\hline\n",
       "\t Method      & 2 & 32 &  1.604 & 2.17e-01 &   & 0.059\\\\\n",
       "\t Test        & 2 & 64 & 45.589 & 4.91e-13 & * & 0.348\\\\\n",
       "\t Method:Test & 4 & 64 &  3.669 & 9.00e-03 & * & 0.079\\\\\n",
       "\\end{tabular}\n",
       "\n",
       "\\item[\\$`Mauchly's Test for Sphericity`] A data.frame: 2 × 4\n",
       "\\begin{tabular}{r|llll}\n",
       "  & Effect & W & p & p<.05\\\\\n",
       "  & <chr> & <dbl> & <dbl> & <chr>\\\\\n",
       "\\hline\n",
       "\t1 & Test        & 0.639 & 0.000977 & *\\\\\n",
       "\t2 & Method:Test & 0.639 & 0.000977 & *\\\\\n",
       "\\end{tabular}\n",
       "\n",
       "\\item[\\$`Sphericity Corrections`] A data.frame: 2 × 9\n",
       "\\begin{tabular}{lllllllll}\n",
       " Effect & GGe & DF{[}GG{]} & p{[}GG{]} & p{[}GG{]}<.05 & HFe & DF{[}HF{]} & p{[}HF{]} & p{[}HF{]}<.05\\\\\n",
       " <chr> & <dbl> & <chr> & <dbl> & <chr> & <dbl> & <chr> & <dbl> & <chr>\\\\\n",
       "\\hline\n",
       "\t Test        & 0.735 & 1.47, 47.04 & 3.55e-10 & * & 0.762 & 1.52, 48.75 & 1.83e-10 & *\\\\\n",
       "\t Method:Test & 0.735 & 2.94, 47.04 & 1.90e-02 & * & 0.762 & 3.05, 48.75 & 1.80e-02 & *\\\\\n",
       "\\end{tabular}\n",
       "\n",
       "\\end{description}\n"
      ],
      "text/markdown": [
       "$ANOVA\n",
       ":   \n",
       "A data.frame: 3 × 7\n",
       "\n",
       "| Effect &lt;chr&gt; | DFn &lt;dbl&gt; | DFd &lt;dbl&gt; | F &lt;dbl&gt; | p &lt;dbl&gt; | p&lt;.05 &lt;chr&gt; | ges &lt;dbl&gt; |\n",
       "|---|---|---|---|---|---|---|\n",
       "| Method      | 2 | 32 |  1.604 | 2.17e-01 | <!----> | 0.059 |\n",
       "| Test        | 2 | 64 | 45.589 | 4.91e-13 | * | 0.348 |\n",
       "| Method:Test | 4 | 64 |  3.669 | 9.00e-03 | * | 0.079 |\n",
       "\n",
       "\n",
       "$`Mauchly's Test for Sphericity`\n",
       ":   \n",
       "A data.frame: 2 × 4\n",
       "\n",
       "| <!--/--> | Effect &lt;chr&gt; | W &lt;dbl&gt; | p &lt;dbl&gt; | p&lt;.05 &lt;chr&gt; |\n",
       "|---|---|---|---|---|\n",
       "| 1 | Test        | 0.639 | 0.000977 | * |\n",
       "| 2 | Method:Test | 0.639 | 0.000977 | * |\n",
       "\n",
       "\n",
       "$`Sphericity Corrections`\n",
       ":   \n",
       "A data.frame: 2 × 9\n",
       "\n",
       "| Effect &lt;chr&gt; | GGe &lt;dbl&gt; | DF[GG] &lt;chr&gt; | p[GG] &lt;dbl&gt; | p[GG]&lt;.05 &lt;chr&gt; | HFe &lt;dbl&gt; | DF[HF] &lt;chr&gt; | p[HF] &lt;dbl&gt; | p[HF]&lt;.05 &lt;chr&gt; |\n",
       "|---|---|---|---|---|---|---|---|---|\n",
       "| Test        | 0.735 | 1.47, 47.04 | 3.55e-10 | * | 0.762 | 1.52, 48.75 | 1.83e-10 | * |\n",
       "| Method:Test | 0.735 | 2.94, 47.04 | 1.90e-02 | * | 0.762 | 3.05, 48.75 | 1.80e-02 | * |\n",
       "\n",
       "\n",
       "\n",
       "\n"
      ],
      "text/plain": [
       "ANOVA Table (type III tests)\n",
       "\n",
       "$ANOVA\n",
       "       Effect DFn DFd      F        p p<.05   ges\n",
       "1      Method   2  32  1.604 2.17e-01       0.059\n",
       "2        Test   2  64 45.589 4.91e-13     * 0.348\n",
       "3 Method:Test   4  64  3.669 9.00e-03     * 0.079\n",
       "\n",
       "$`Mauchly's Test for Sphericity`\n",
       "       Effect     W        p p<.05\n",
       "1        Test 0.639 0.000977     *\n",
       "2 Method:Test 0.639 0.000977     *\n",
       "\n",
       "$`Sphericity Corrections`\n",
       "       Effect   GGe      DF[GG]    p[GG] p[GG]<.05   HFe      DF[HF]    p[HF]\n",
       "1        Test 0.735 1.47, 47.04 3.55e-10         * 0.762 1.52, 48.75 1.83e-10\n",
       "2 Method:Test 0.735 2.94, 47.04 1.90e-02         * 0.762 3.05, 48.75 1.80e-02\n",
       "  p[HF]<.05\n",
       "1         *\n",
       "2         *\n"
      ]
     },
     "metadata": {},
     "output_type": "display_data"
    }
   ],
   "source": [
    "ptsd_na_data %>% anova_test(dv = Measure, wid = id, between = Method, within = Test)"
   ]
  },
  {
   "cell_type": "code",
   "execution_count": 27,
   "metadata": {},
   "outputs": [
    {
     "name": "stderr",
     "output_type": "stream",
     "text": [
      "Warning message:\n",
      "\"\u001b[1m\u001b[22mThere were 3 warnings in `mutate()`.\n",
      "The first warning was:\n",
      "\u001b[1m\u001b[22m\u001b[36mℹ\u001b[39m In argument: `data = map(.data$data, .f, ...)`.\n",
      "Caused by warning:\n",
      "\u001b[33m!\u001b[39m NA detected in rows: 4,26,37,41.\n",
      "Removing this rows before the analysis.\n",
      "\u001b[1m\u001b[22m\u001b[36mℹ\u001b[39m Run `dplyr::last_dplyr_warnings()` to see the 2 remaining warnings.\"\n"
     ]
    },
    {
     "data": {
      "text/html": [
       "<table class=\"dataframe\">\n",
       "<caption>A tibble: 3 × 9</caption>\n",
       "<thead>\n",
       "\t<tr><th scope=col>Method</th><th scope=col>Effect</th><th scope=col>DFn</th><th scope=col>DFd</th><th scope=col>F</th><th scope=col>p</th><th scope=col>p&lt;.05</th><th scope=col>ges</th><th scope=col>p.adj</th></tr>\n",
       "\t<tr><th scope=col>&lt;chr&gt;</th><th scope=col>&lt;chr&gt;</th><th scope=col>&lt;dbl&gt;</th><th scope=col>&lt;dbl&gt;</th><th scope=col>&lt;dbl&gt;</th><th scope=col>&lt;dbl&gt;</th><th scope=col>&lt;chr&gt;</th><th scope=col>&lt;dbl&gt;</th><th scope=col>&lt;dbl&gt;</th></tr>\n",
       "</thead>\n",
       "<tbody>\n",
       "\t<tr><td>PE </td><td>Test</td><td>2.00</td><td>20.00</td><td>22.368</td><td>7.92e-06</td><td>*</td><td>0.433</td><td>2.376e-05</td></tr>\n",
       "\t<tr><td>SC </td><td>Test</td><td>1.11</td><td>12.22</td><td> 6.198</td><td>2.60e-02</td><td>*</td><td>0.197</td><td>7.800e-02</td></tr>\n",
       "\t<tr><td>SIT</td><td>Test</td><td>1.18</td><td>12.96</td><td>22.617</td><td>2.48e-04</td><td>*</td><td>0.426</td><td>7.440e-04</td></tr>\n",
       "</tbody>\n",
       "</table>\n"
      ],
      "text/latex": [
       "A tibble: 3 × 9\n",
       "\\begin{tabular}{lllllllll}\n",
       " Method & Effect & DFn & DFd & F & p & p<.05 & ges & p.adj\\\\\n",
       " <chr> & <chr> & <dbl> & <dbl> & <dbl> & <dbl> & <chr> & <dbl> & <dbl>\\\\\n",
       "\\hline\n",
       "\t PE  & Test & 2.00 & 20.00 & 22.368 & 7.92e-06 & * & 0.433 & 2.376e-05\\\\\n",
       "\t SC  & Test & 1.11 & 12.22 &  6.198 & 2.60e-02 & * & 0.197 & 7.800e-02\\\\\n",
       "\t SIT & Test & 1.18 & 12.96 & 22.617 & 2.48e-04 & * & 0.426 & 7.440e-04\\\\\n",
       "\\end{tabular}\n"
      ],
      "text/markdown": [
       "\n",
       "A tibble: 3 × 9\n",
       "\n",
       "| Method &lt;chr&gt; | Effect &lt;chr&gt; | DFn &lt;dbl&gt; | DFd &lt;dbl&gt; | F &lt;dbl&gt; | p &lt;dbl&gt; | p&lt;.05 &lt;chr&gt; | ges &lt;dbl&gt; | p.adj &lt;dbl&gt; |\n",
       "|---|---|---|---|---|---|---|---|---|\n",
       "| PE  | Test | 2.00 | 20.00 | 22.368 | 7.92e-06 | * | 0.433 | 2.376e-05 |\n",
       "| SC  | Test | 1.11 | 12.22 |  6.198 | 2.60e-02 | * | 0.197 | 7.800e-02 |\n",
       "| SIT | Test | 1.18 | 12.96 | 22.617 | 2.48e-04 | * | 0.426 | 7.440e-04 |\n",
       "\n"
      ],
      "text/plain": [
       "  Method Effect DFn  DFd   F      p        p<.05 ges   p.adj    \n",
       "1 PE     Test   2.00 20.00 22.368 7.92e-06 *     0.433 2.376e-05\n",
       "2 SC     Test   1.11 12.22  6.198 2.60e-02 *     0.197 7.800e-02\n",
       "3 SIT    Test   1.18 12.96 22.617 2.48e-04 *     0.426 7.440e-04"
      ]
     },
     "metadata": {},
     "output_type": "display_data"
    }
   ],
   "source": [
    "ptsd_na_data %>% group_by(Method) %>% anova_test(dv = Measure, wid = id, within = Test) %>% get_anova_table %>% adjust_pvalue(method = \"bonferroni\")"
   ]
  },
  {
   "cell_type": "markdown",
   "metadata": {},
   "source": [
    "#### Answer: The difference observed here between the casual data and the dataset that has deleted data, shows that the colaboration of times of measure and methods of procedure is still significant but the significancy of Methods of procedure alone is disturbed now."
   ]
  },
  {
   "cell_type": "code",
   "execution_count": 29,
   "metadata": {},
   "outputs": [
    {
     "name": "stderr",
     "output_type": "stream",
     "text": [
      "Warning message:\n",
      "\"\u001b[1m\u001b[22mThere were 6 warnings in `mutate()`.\n",
      "The first warning was:\n",
      "\u001b[1m\u001b[22m\u001b[36mℹ\u001b[39m In argument: `data = map(.data$data, .f, ...)`.\n",
      "Caused by warning:\n",
      "\u001b[33m!\u001b[39m NA detected in rows: 4,17.\n",
      "Removing this rows before the analysis.\n",
      "\u001b[1m\u001b[22m\u001b[36mℹ\u001b[39m Run `dplyr::last_dplyr_warnings()` to see the 5 remaining warnings.\"\n"
     ]
    },
    {
     "data": {
      "text/html": [
       "<table class=\"dataframe\">\n",
       "<caption>A grouped_anova_test: 3 × 9</caption>\n",
       "<thead>\n",
       "\t<tr><th scope=col>Test</th><th scope=col>Effect</th><th scope=col>DFn</th><th scope=col>DFd</th><th scope=col>F</th><th scope=col>p</th><th scope=col>p&lt;.05</th><th scope=col>ges</th><th scope=col>p.adj</th></tr>\n",
       "\t<tr><th scope=col>&lt;chr&gt;</th><th scope=col>&lt;chr&gt;</th><th scope=col>&lt;dbl&gt;</th><th scope=col>&lt;dbl&gt;</th><th scope=col>&lt;dbl&gt;</th><th scope=col>&lt;dbl&gt;</th><th scope=col>&lt;chr&gt;</th><th scope=col>&lt;dbl&gt;</th><th scope=col>&lt;dbl&gt;</th></tr>\n",
       "</thead>\n",
       "<tbody>\n",
       "\t<tr><td>followup</td><td>Method</td><td>2</td><td>36</td><td>1.079</td><td>0.351</td><td> </td><td>0.057</td><td>1.000</td></tr>\n",
       "\t<tr><td>post    </td><td>Method</td><td>2</td><td>37</td><td>7.140</td><td>0.002</td><td>*</td><td>0.278</td><td>0.006</td></tr>\n",
       "\t<tr><td>pre     </td><td>Method</td><td>2</td><td>40</td><td>0.103</td><td>0.903</td><td> </td><td>0.005</td><td>1.000</td></tr>\n",
       "</tbody>\n",
       "</table>\n"
      ],
      "text/latex": [
       "A grouped\\_anova\\_test: 3 × 9\n",
       "\\begin{tabular}{lllllllll}\n",
       " Test & Effect & DFn & DFd & F & p & p<.05 & ges & p.adj\\\\\n",
       " <chr> & <chr> & <dbl> & <dbl> & <dbl> & <dbl> & <chr> & <dbl> & <dbl>\\\\\n",
       "\\hline\n",
       "\t followup & Method & 2 & 36 & 1.079 & 0.351 &   & 0.057 & 1.000\\\\\n",
       "\t post     & Method & 2 & 37 & 7.140 & 0.002 & * & 0.278 & 0.006\\\\\n",
       "\t pre      & Method & 2 & 40 & 0.103 & 0.903 &   & 0.005 & 1.000\\\\\n",
       "\\end{tabular}\n"
      ],
      "text/markdown": [
       "\n",
       "A grouped_anova_test: 3 × 9\n",
       "\n",
       "| Test &lt;chr&gt; | Effect &lt;chr&gt; | DFn &lt;dbl&gt; | DFd &lt;dbl&gt; | F &lt;dbl&gt; | p &lt;dbl&gt; | p&lt;.05 &lt;chr&gt; | ges &lt;dbl&gt; | p.adj &lt;dbl&gt; |\n",
       "|---|---|---|---|---|---|---|---|---|\n",
       "| followup | Method | 2 | 36 | 1.079 | 0.351 | <!----> | 0.057 | 1.000 |\n",
       "| post     | Method | 2 | 37 | 7.140 | 0.002 | * | 0.278 | 0.006 |\n",
       "| pre      | Method | 2 | 40 | 0.103 | 0.903 | <!----> | 0.005 | 1.000 |\n",
       "\n"
      ],
      "text/plain": [
       "  Test     Effect DFn DFd F     p     p<.05 ges   p.adj\n",
       "1 followup Method 2   36  1.079 0.351       0.057 1.000\n",
       "2 post     Method 2   37  7.140 0.002 *     0.278 0.006\n",
       "3 pre      Method 2   40  0.103 0.903       0.005 1.000"
      ]
     },
     "metadata": {},
     "output_type": "display_data"
    }
   ],
   "source": [
    "ptsd_na_data %>% group_by(Test) %>% anova_test(dv = Measure, wid = id, between = Method) %>% get_anova_table %>% adjust_pvalue(method = \"bonferroni\")"
   ]
  },
  {
   "cell_type": "code",
   "execution_count": 34,
   "metadata": {},
   "outputs": [
    {
     "data": {
      "text/html": [
       "<table class=\"dataframe\">\n",
       "<caption>A rstatix_test: 9 × 11</caption>\n",
       "<thead>\n",
       "\t<tr><th></th><th scope=col>Method</th><th scope=col>.y.</th><th scope=col>group1</th><th scope=col>group2</th><th scope=col>n1</th><th scope=col>n2</th><th scope=col>statistic</th><th scope=col>df</th><th scope=col>p</th><th scope=col>p.adj</th><th scope=col>p.adj.signif</th></tr>\n",
       "\t<tr><th></th><th scope=col>&lt;chr&gt;</th><th scope=col>&lt;chr&gt;</th><th scope=col>&lt;chr&gt;</th><th scope=col>&lt;chr&gt;</th><th scope=col>&lt;int&gt;</th><th scope=col>&lt;int&gt;</th><th scope=col>&lt;dbl&gt;</th><th scope=col>&lt;dbl&gt;</th><th scope=col>&lt;dbl&gt;</th><th scope=col>&lt;dbl&gt;</th><th scope=col>&lt;chr&gt;</th></tr>\n",
       "</thead>\n",
       "<tbody>\n",
       "\t<tr><th scope=row>1</th><td>PE </td><td>Measure</td><td>followup</td><td>post</td><td>13</td><td>13</td><td> -1.954340</td><td>10</td><td>7.90e-02</td><td>2.38e-01</td><td>ns  </td></tr>\n",
       "\t<tr><th scope=row>2</th><td>PE </td><td>Measure</td><td>followup</td><td>pre </td><td>13</td><td>14</td><td> -7.275199</td><td>11</td><td>1.59e-05</td><td>4.77e-05</td><td>****</td></tr>\n",
       "\t<tr><th scope=row>3</th><td>PE </td><td>Measure</td><td>post    </td><td>pre </td><td>13</td><td>14</td><td> -6.305841</td><td>12</td><td>3.91e-05</td><td>1.17e-04</td><td>*** </td></tr>\n",
       "\t<tr><th scope=row>4</th><td>SC </td><td>Measure</td><td>followup</td><td>post</td><td>13</td><td>13</td><td> -1.811535</td><td>11</td><td>9.70e-02</td><td>2.92e-01</td><td>ns  </td></tr>\n",
       "\t<tr><th scope=row>5</th><td>SC </td><td>Measure</td><td>followup</td><td>pre </td><td>13</td><td>15</td><td> -2.839464</td><td>12</td><td>1.50e-02</td><td>4.50e-02</td><td>*   </td></tr>\n",
       "\t<tr><th scope=row>6</th><td>SC </td><td>Measure</td><td>post    </td><td>pre </td><td>13</td><td>15</td><td> -2.927532</td><td>12</td><td>1.30e-02</td><td>3.80e-02</td><td>*   </td></tr>\n",
       "\t<tr><th scope=row>7</th><td>SIT</td><td>Measure</td><td>followup</td><td>post</td><td>13</td><td>14</td><td>  1.307004</td><td>12</td><td>2.16e-01</td><td>6.48e-01</td><td>ns  </td></tr>\n",
       "\t<tr><th scope=row>8</th><td>SIT</td><td>Measure</td><td>followup</td><td>pre </td><td>13</td><td>14</td><td> -3.944239</td><td>11</td><td>2.00e-03</td><td>7.00e-03</td><td>**  </td></tr>\n",
       "\t<tr><th scope=row>9</th><td>SIT</td><td>Measure</td><td>post    </td><td>pre </td><td>14</td><td>14</td><td>-13.003332</td><td>12</td><td>1.97e-08</td><td>5.91e-08</td><td>****</td></tr>\n",
       "</tbody>\n",
       "</table>\n"
      ],
      "text/latex": [
       "A rstatix\\_test: 9 × 11\n",
       "\\begin{tabular}{r|lllllllllll}\n",
       "  & Method & .y. & group1 & group2 & n1 & n2 & statistic & df & p & p.adj & p.adj.signif\\\\\n",
       "  & <chr> & <chr> & <chr> & <chr> & <int> & <int> & <dbl> & <dbl> & <dbl> & <dbl> & <chr>\\\\\n",
       "\\hline\n",
       "\t1 & PE  & Measure & followup & post & 13 & 13 &  -1.954340 & 10 & 7.90e-02 & 2.38e-01 & ns  \\\\\n",
       "\t2 & PE  & Measure & followup & pre  & 13 & 14 &  -7.275199 & 11 & 1.59e-05 & 4.77e-05 & ****\\\\\n",
       "\t3 & PE  & Measure & post     & pre  & 13 & 14 &  -6.305841 & 12 & 3.91e-05 & 1.17e-04 & *** \\\\\n",
       "\t4 & SC  & Measure & followup & post & 13 & 13 &  -1.811535 & 11 & 9.70e-02 & 2.92e-01 & ns  \\\\\n",
       "\t5 & SC  & Measure & followup & pre  & 13 & 15 &  -2.839464 & 12 & 1.50e-02 & 4.50e-02 & *   \\\\\n",
       "\t6 & SC  & Measure & post     & pre  & 13 & 15 &  -2.927532 & 12 & 1.30e-02 & 3.80e-02 & *   \\\\\n",
       "\t7 & SIT & Measure & followup & post & 13 & 14 &   1.307004 & 12 & 2.16e-01 & 6.48e-01 & ns  \\\\\n",
       "\t8 & SIT & Measure & followup & pre  & 13 & 14 &  -3.944239 & 11 & 2.00e-03 & 7.00e-03 & **  \\\\\n",
       "\t9 & SIT & Measure & post     & pre  & 14 & 14 & -13.003332 & 12 & 1.97e-08 & 5.91e-08 & ****\\\\\n",
       "\\end{tabular}\n"
      ],
      "text/markdown": [
       "\n",
       "A rstatix_test: 9 × 11\n",
       "\n",
       "| <!--/--> | Method &lt;chr&gt; | .y. &lt;chr&gt; | group1 &lt;chr&gt; | group2 &lt;chr&gt; | n1 &lt;int&gt; | n2 &lt;int&gt; | statistic &lt;dbl&gt; | df &lt;dbl&gt; | p &lt;dbl&gt; | p.adj &lt;dbl&gt; | p.adj.signif &lt;chr&gt; |\n",
       "|---|---|---|---|---|---|---|---|---|---|---|---|\n",
       "| 1 | PE  | Measure | followup | post | 13 | 13 |  -1.954340 | 10 | 7.90e-02 | 2.38e-01 | ns   |\n",
       "| 2 | PE  | Measure | followup | pre  | 13 | 14 |  -7.275199 | 11 | 1.59e-05 | 4.77e-05 | **** |\n",
       "| 3 | PE  | Measure | post     | pre  | 13 | 14 |  -6.305841 | 12 | 3.91e-05 | 1.17e-04 | ***  |\n",
       "| 4 | SC  | Measure | followup | post | 13 | 13 |  -1.811535 | 11 | 9.70e-02 | 2.92e-01 | ns   |\n",
       "| 5 | SC  | Measure | followup | pre  | 13 | 15 |  -2.839464 | 12 | 1.50e-02 | 4.50e-02 | *    |\n",
       "| 6 | SC  | Measure | post     | pre  | 13 | 15 |  -2.927532 | 12 | 1.30e-02 | 3.80e-02 | *    |\n",
       "| 7 | SIT | Measure | followup | post | 13 | 14 |   1.307004 | 12 | 2.16e-01 | 6.48e-01 | ns   |\n",
       "| 8 | SIT | Measure | followup | pre  | 13 | 14 |  -3.944239 | 11 | 2.00e-03 | 7.00e-03 | **   |\n",
       "| 9 | SIT | Measure | post     | pre  | 14 | 14 | -13.003332 | 12 | 1.97e-08 | 5.91e-08 | **** |\n",
       "\n"
      ],
      "text/plain": [
       "  Method .y.     group1   group2 n1 n2 statistic  df p        p.adj   \n",
       "1 PE     Measure followup post   13 13  -1.954340 10 7.90e-02 2.38e-01\n",
       "2 PE     Measure followup pre    13 14  -7.275199 11 1.59e-05 4.77e-05\n",
       "3 PE     Measure post     pre    13 14  -6.305841 12 3.91e-05 1.17e-04\n",
       "4 SC     Measure followup post   13 13  -1.811535 11 9.70e-02 2.92e-01\n",
       "5 SC     Measure followup pre    13 15  -2.839464 12 1.50e-02 4.50e-02\n",
       "6 SC     Measure post     pre    13 15  -2.927532 12 1.30e-02 3.80e-02\n",
       "7 SIT    Measure followup post   13 14   1.307004 12 2.16e-01 6.48e-01\n",
       "8 SIT    Measure followup pre    13 14  -3.944239 11 2.00e-03 7.00e-03\n",
       "9 SIT    Measure post     pre    14 14 -13.003332 12 1.97e-08 5.91e-08\n",
       "  p.adj.signif\n",
       "1 ns          \n",
       "2 ****        \n",
       "3 ***         \n",
       "4 ns          \n",
       "5 *           \n",
       "6 *           \n",
       "7 ns          \n",
       "8 **          \n",
       "9 ****        "
      ]
     },
     "metadata": {},
     "output_type": "display_data"
    }
   ],
   "source": [
    "ptsd_na_data %>% group_by(Method) %>% pairwise_t_test(Measure ~ Test, paired = TRUE, p.adjust.method = \"bonferroni\")"
   ]
  },
  {
   "cell_type": "markdown",
   "metadata": {},
   "source": [
    "#### The rest of the results reported are similar between the disturbed dataset and the normal one."
   ]
  }
 ],
 "metadata": {
  "kernelspec": {
   "display_name": "R",
   "language": "R",
   "name": "ir"
  },
  "language_info": {
   "codemirror_mode": "r",
   "file_extension": ".r",
   "mimetype": "text/x-r-source",
   "name": "R",
   "pygments_lexer": "r",
   "version": "4.3.2"
  }
 },
 "nbformat": 4,
 "nbformat_minor": 4
}
