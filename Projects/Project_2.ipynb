{
 "cells": [
  {
   "cell_type": "markdown",
   "metadata": {},
   "source": [
    "# Part A. \n",
    "Hoaglin, Mosteller, and Tukey present data on blood levels of beta-endorphin as a function of stress. They took beta-endorphin levels for 19 patients 12 hours before surgery and again 10 minutes before surgery. The data are presented below, in fmol/ml:\n",
    "\n",
    "\n",
    "<img src=\"pr21.jpg\" width=\"300\"/>\n",
    "\n",
    "- Based on these data, what can you conclude? What effect does increased stress have on beta-endorphin levels?\n",
    "- Create a scatterplot of the data, and compute the correlation between the two sets of scores. What does this say that is relevant to the answer to this project?\n",
    "- We always need to look closely at our data. Sometimes we find things that are hard to explain. Look closely at the data; what attracts your attention?\n",
    "- Construct 95% confidence limits on the true mean difference between two levels at the two times described above.\n",
    "- Compute a measure of effect size for the data, and tell what this measure indicates.\n",
    "- Assume that the mean and the standard deviation of the difference scores would remain the same if we added more subjects. How many subjects would we need to obtain a $t$ that is significant at $\\alpha=0.01$ (two-tailed)? (The difference was significant at $\\alpha=0.05$, but not at $\\alpha=0.01$.) \n",
    "- Modify the data by shifting the entries in the “12-hour” column so as to increase the relationship between the two variables. Run a $t$ test on the modified data and notice the effect on $t$. (You could never do this with real data, because paired scores must be kept together, but doing so here reveals the important role played by the relationship between variables.)\n",
    "- Using your answer to the previous part and your knowledge of correlation, how would you expect the degree of correlation between two variables (data sets) to affect the magnitude of the $t$ test between them?"
   ]
  },
  {
   "cell_type": "code",
   "execution_count": 2,
   "metadata": {},
   "outputs": [],
   "source": [
    "library(rstatix)\n",
    "library(ggpubr)\n",
    "library(dplyr)"
   ]
  },
  {
   "cell_type": "code",
   "execution_count": 3,
   "metadata": {},
   "outputs": [],
   "source": [
    "Stress_Endo = data.frame(\n",
    "    TwelveHours = c(10.0,6.5,8.0,12.0,5.0,11.5,5.0,3.5,7.5,5.8,4.7,8.0,7.0,17.0,8.8,17.0,15.0,4.4,2.0),\n",
    "    TenMinutes = c(6.5,14.0,13.5,18.0,14.5,9.0,18.0,42.0,7.5,6.0,25.0,12.0,52.0,20.0,16.0,15.0,11.5,2.5,2.0))"
   ]
  },
  {
   "cell_type": "code",
   "execution_count": 4,
   "metadata": {
    "scrolled": true
   },
   "outputs": [
    {
     "data": {
      "text/html": [
       "<table class=\"dataframe\">\n",
       "<caption>A data.frame: 19 × 2</caption>\n",
       "<thead>\n",
       "\t<tr><th scope=col>TwelveHours</th><th scope=col>TenMinutes</th></tr>\n",
       "\t<tr><th scope=col>&lt;dbl&gt;</th><th scope=col>&lt;dbl&gt;</th></tr>\n",
       "</thead>\n",
       "<tbody>\n",
       "\t<tr><td>10.0</td><td> 6.5</td></tr>\n",
       "\t<tr><td> 6.5</td><td>14.0</td></tr>\n",
       "\t<tr><td> 8.0</td><td>13.5</td></tr>\n",
       "\t<tr><td>12.0</td><td>18.0</td></tr>\n",
       "\t<tr><td> 5.0</td><td>14.5</td></tr>\n",
       "\t<tr><td>11.5</td><td> 9.0</td></tr>\n",
       "\t<tr><td> 5.0</td><td>18.0</td></tr>\n",
       "\t<tr><td> 3.5</td><td>42.0</td></tr>\n",
       "\t<tr><td> 7.5</td><td> 7.5</td></tr>\n",
       "\t<tr><td> 5.8</td><td> 6.0</td></tr>\n",
       "\t<tr><td> 4.7</td><td>25.0</td></tr>\n",
       "\t<tr><td> 8.0</td><td>12.0</td></tr>\n",
       "\t<tr><td> 7.0</td><td>52.0</td></tr>\n",
       "\t<tr><td>17.0</td><td>20.0</td></tr>\n",
       "\t<tr><td> 8.8</td><td>16.0</td></tr>\n",
       "\t<tr><td>17.0</td><td>15.0</td></tr>\n",
       "\t<tr><td>15.0</td><td>11.5</td></tr>\n",
       "\t<tr><td> 4.4</td><td> 2.5</td></tr>\n",
       "\t<tr><td> 2.0</td><td> 2.0</td></tr>\n",
       "</tbody>\n",
       "</table>\n"
      ],
      "text/latex": [
       "A data.frame: 19 × 2\n",
       "\\begin{tabular}{ll}\n",
       " TwelveHours & TenMinutes\\\\\n",
       " <dbl> & <dbl>\\\\\n",
       "\\hline\n",
       "\t 10.0 &  6.5\\\\\n",
       "\t  6.5 & 14.0\\\\\n",
       "\t  8.0 & 13.5\\\\\n",
       "\t 12.0 & 18.0\\\\\n",
       "\t  5.0 & 14.5\\\\\n",
       "\t 11.5 &  9.0\\\\\n",
       "\t  5.0 & 18.0\\\\\n",
       "\t  3.5 & 42.0\\\\\n",
       "\t  7.5 &  7.5\\\\\n",
       "\t  5.8 &  6.0\\\\\n",
       "\t  4.7 & 25.0\\\\\n",
       "\t  8.0 & 12.0\\\\\n",
       "\t  7.0 & 52.0\\\\\n",
       "\t 17.0 & 20.0\\\\\n",
       "\t  8.8 & 16.0\\\\\n",
       "\t 17.0 & 15.0\\\\\n",
       "\t 15.0 & 11.5\\\\\n",
       "\t  4.4 &  2.5\\\\\n",
       "\t  2.0 &  2.0\\\\\n",
       "\\end{tabular}\n"
      ],
      "text/markdown": [
       "\n",
       "A data.frame: 19 × 2\n",
       "\n",
       "| TwelveHours &lt;dbl&gt; | TenMinutes &lt;dbl&gt; |\n",
       "|---|---|\n",
       "| 10.0 |  6.5 |\n",
       "|  6.5 | 14.0 |\n",
       "|  8.0 | 13.5 |\n",
       "| 12.0 | 18.0 |\n",
       "|  5.0 | 14.5 |\n",
       "| 11.5 |  9.0 |\n",
       "|  5.0 | 18.0 |\n",
       "|  3.5 | 42.0 |\n",
       "|  7.5 |  7.5 |\n",
       "|  5.8 |  6.0 |\n",
       "|  4.7 | 25.0 |\n",
       "|  8.0 | 12.0 |\n",
       "|  7.0 | 52.0 |\n",
       "| 17.0 | 20.0 |\n",
       "|  8.8 | 16.0 |\n",
       "| 17.0 | 15.0 |\n",
       "| 15.0 | 11.5 |\n",
       "|  4.4 |  2.5 |\n",
       "|  2.0 |  2.0 |\n",
       "\n"
      ],
      "text/plain": [
       "   TwelveHours TenMinutes\n",
       "1  10.0         6.5      \n",
       "2   6.5        14.0      \n",
       "3   8.0        13.5      \n",
       "4  12.0        18.0      \n",
       "5   5.0        14.5      \n",
       "6  11.5         9.0      \n",
       "7   5.0        18.0      \n",
       "8   3.5        42.0      \n",
       "9   7.5         7.5      \n",
       "10  5.8         6.0      \n",
       "11  4.7        25.0      \n",
       "12  8.0        12.0      \n",
       "13  7.0        52.0      \n",
       "14 17.0        20.0      \n",
       "15  8.8        16.0      \n",
       "16 17.0        15.0      \n",
       "17 15.0        11.5      \n",
       "18  4.4         2.5      \n",
       "19  2.0         2.0      "
      ]
     },
     "metadata": {},
     "output_type": "display_data"
    }
   ],
   "source": [
    "Stress_Endo"
   ]
  },
  {
   "cell_type": "code",
   "execution_count": 5,
   "metadata": {},
   "outputs": [],
   "source": [
    "Stress_long = gather(Stress_Endo, key = \"Measure\", value = \"Level\", TwelveHours, TenMinutes)"
   ]
  },
  {
   "cell_type": "code",
   "execution_count": 6,
   "metadata": {},
   "outputs": [],
   "source": [
    "Stress_long = Stress_long %>% mutate(ID = row_number())"
   ]
  },
  {
   "cell_type": "code",
   "execution_count": 7,
   "metadata": {
    "scrolled": true
   },
   "outputs": [
    {
     "data": {
      "text/html": [
       "<table class=\"dataframe\">\n",
       "<caption>A data.frame: 38 × 3</caption>\n",
       "<thead>\n",
       "\t<tr><th scope=col>Measure</th><th scope=col>Level</th><th scope=col>ID</th></tr>\n",
       "\t<tr><th scope=col>&lt;chr&gt;</th><th scope=col>&lt;dbl&gt;</th><th scope=col>&lt;int&gt;</th></tr>\n",
       "</thead>\n",
       "<tbody>\n",
       "\t<tr><td>TwelveHours</td><td>10.0</td><td> 1</td></tr>\n",
       "\t<tr><td>TwelveHours</td><td> 6.5</td><td> 2</td></tr>\n",
       "\t<tr><td>TwelveHours</td><td> 8.0</td><td> 3</td></tr>\n",
       "\t<tr><td>TwelveHours</td><td>12.0</td><td> 4</td></tr>\n",
       "\t<tr><td>TwelveHours</td><td> 5.0</td><td> 5</td></tr>\n",
       "\t<tr><td>TwelveHours</td><td>11.5</td><td> 6</td></tr>\n",
       "\t<tr><td>TwelveHours</td><td> 5.0</td><td> 7</td></tr>\n",
       "\t<tr><td>TwelveHours</td><td> 3.5</td><td> 8</td></tr>\n",
       "\t<tr><td>TwelveHours</td><td> 7.5</td><td> 9</td></tr>\n",
       "\t<tr><td>TwelveHours</td><td> 5.8</td><td>10</td></tr>\n",
       "\t<tr><td>TwelveHours</td><td> 4.7</td><td>11</td></tr>\n",
       "\t<tr><td>TwelveHours</td><td> 8.0</td><td>12</td></tr>\n",
       "\t<tr><td>TwelveHours</td><td> 7.0</td><td>13</td></tr>\n",
       "\t<tr><td>TwelveHours</td><td>17.0</td><td>14</td></tr>\n",
       "\t<tr><td>TwelveHours</td><td> 8.8</td><td>15</td></tr>\n",
       "\t<tr><td>TwelveHours</td><td>17.0</td><td>16</td></tr>\n",
       "\t<tr><td>TwelveHours</td><td>15.0</td><td>17</td></tr>\n",
       "\t<tr><td>TwelveHours</td><td> 4.4</td><td>18</td></tr>\n",
       "\t<tr><td>TwelveHours</td><td> 2.0</td><td>19</td></tr>\n",
       "\t<tr><td>TenMinutes </td><td> 6.5</td><td>20</td></tr>\n",
       "\t<tr><td>TenMinutes </td><td>14.0</td><td>21</td></tr>\n",
       "\t<tr><td>TenMinutes </td><td>13.5</td><td>22</td></tr>\n",
       "\t<tr><td>TenMinutes </td><td>18.0</td><td>23</td></tr>\n",
       "\t<tr><td>TenMinutes </td><td>14.5</td><td>24</td></tr>\n",
       "\t<tr><td>TenMinutes </td><td> 9.0</td><td>25</td></tr>\n",
       "\t<tr><td>TenMinutes </td><td>18.0</td><td>26</td></tr>\n",
       "\t<tr><td>TenMinutes </td><td>42.0</td><td>27</td></tr>\n",
       "\t<tr><td>TenMinutes </td><td> 7.5</td><td>28</td></tr>\n",
       "\t<tr><td>TenMinutes </td><td> 6.0</td><td>29</td></tr>\n",
       "\t<tr><td>TenMinutes </td><td>25.0</td><td>30</td></tr>\n",
       "\t<tr><td>TenMinutes </td><td>12.0</td><td>31</td></tr>\n",
       "\t<tr><td>TenMinutes </td><td>52.0</td><td>32</td></tr>\n",
       "\t<tr><td>TenMinutes </td><td>20.0</td><td>33</td></tr>\n",
       "\t<tr><td>TenMinutes </td><td>16.0</td><td>34</td></tr>\n",
       "\t<tr><td>TenMinutes </td><td>15.0</td><td>35</td></tr>\n",
       "\t<tr><td>TenMinutes </td><td>11.5</td><td>36</td></tr>\n",
       "\t<tr><td>TenMinutes </td><td> 2.5</td><td>37</td></tr>\n",
       "\t<tr><td>TenMinutes </td><td> 2.0</td><td>38</td></tr>\n",
       "</tbody>\n",
       "</table>\n"
      ],
      "text/latex": [
       "A data.frame: 38 × 3\n",
       "\\begin{tabular}{lll}\n",
       " Measure & Level & ID\\\\\n",
       " <chr> & <dbl> & <int>\\\\\n",
       "\\hline\n",
       "\t TwelveHours & 10.0 &  1\\\\\n",
       "\t TwelveHours &  6.5 &  2\\\\\n",
       "\t TwelveHours &  8.0 &  3\\\\\n",
       "\t TwelveHours & 12.0 &  4\\\\\n",
       "\t TwelveHours &  5.0 &  5\\\\\n",
       "\t TwelveHours & 11.5 &  6\\\\\n",
       "\t TwelveHours &  5.0 &  7\\\\\n",
       "\t TwelveHours &  3.5 &  8\\\\\n",
       "\t TwelveHours &  7.5 &  9\\\\\n",
       "\t TwelveHours &  5.8 & 10\\\\\n",
       "\t TwelveHours &  4.7 & 11\\\\\n",
       "\t TwelveHours &  8.0 & 12\\\\\n",
       "\t TwelveHours &  7.0 & 13\\\\\n",
       "\t TwelveHours & 17.0 & 14\\\\\n",
       "\t TwelveHours &  8.8 & 15\\\\\n",
       "\t TwelveHours & 17.0 & 16\\\\\n",
       "\t TwelveHours & 15.0 & 17\\\\\n",
       "\t TwelveHours &  4.4 & 18\\\\\n",
       "\t TwelveHours &  2.0 & 19\\\\\n",
       "\t TenMinutes  &  6.5 & 20\\\\\n",
       "\t TenMinutes  & 14.0 & 21\\\\\n",
       "\t TenMinutes  & 13.5 & 22\\\\\n",
       "\t TenMinutes  & 18.0 & 23\\\\\n",
       "\t TenMinutes  & 14.5 & 24\\\\\n",
       "\t TenMinutes  &  9.0 & 25\\\\\n",
       "\t TenMinutes  & 18.0 & 26\\\\\n",
       "\t TenMinutes  & 42.0 & 27\\\\\n",
       "\t TenMinutes  &  7.5 & 28\\\\\n",
       "\t TenMinutes  &  6.0 & 29\\\\\n",
       "\t TenMinutes  & 25.0 & 30\\\\\n",
       "\t TenMinutes  & 12.0 & 31\\\\\n",
       "\t TenMinutes  & 52.0 & 32\\\\\n",
       "\t TenMinutes  & 20.0 & 33\\\\\n",
       "\t TenMinutes  & 16.0 & 34\\\\\n",
       "\t TenMinutes  & 15.0 & 35\\\\\n",
       "\t TenMinutes  & 11.5 & 36\\\\\n",
       "\t TenMinutes  &  2.5 & 37\\\\\n",
       "\t TenMinutes  &  2.0 & 38\\\\\n",
       "\\end{tabular}\n"
      ],
      "text/markdown": [
       "\n",
       "A data.frame: 38 × 3\n",
       "\n",
       "| Measure &lt;chr&gt; | Level &lt;dbl&gt; | ID &lt;int&gt; |\n",
       "|---|---|---|\n",
       "| TwelveHours | 10.0 |  1 |\n",
       "| TwelveHours |  6.5 |  2 |\n",
       "| TwelveHours |  8.0 |  3 |\n",
       "| TwelveHours | 12.0 |  4 |\n",
       "| TwelveHours |  5.0 |  5 |\n",
       "| TwelveHours | 11.5 |  6 |\n",
       "| TwelveHours |  5.0 |  7 |\n",
       "| TwelveHours |  3.5 |  8 |\n",
       "| TwelveHours |  7.5 |  9 |\n",
       "| TwelveHours |  5.8 | 10 |\n",
       "| TwelveHours |  4.7 | 11 |\n",
       "| TwelveHours |  8.0 | 12 |\n",
       "| TwelveHours |  7.0 | 13 |\n",
       "| TwelveHours | 17.0 | 14 |\n",
       "| TwelveHours |  8.8 | 15 |\n",
       "| TwelveHours | 17.0 | 16 |\n",
       "| TwelveHours | 15.0 | 17 |\n",
       "| TwelveHours |  4.4 | 18 |\n",
       "| TwelveHours |  2.0 | 19 |\n",
       "| TenMinutes  |  6.5 | 20 |\n",
       "| TenMinutes  | 14.0 | 21 |\n",
       "| TenMinutes  | 13.5 | 22 |\n",
       "| TenMinutes  | 18.0 | 23 |\n",
       "| TenMinutes  | 14.5 | 24 |\n",
       "| TenMinutes  |  9.0 | 25 |\n",
       "| TenMinutes  | 18.0 | 26 |\n",
       "| TenMinutes  | 42.0 | 27 |\n",
       "| TenMinutes  |  7.5 | 28 |\n",
       "| TenMinutes  |  6.0 | 29 |\n",
       "| TenMinutes  | 25.0 | 30 |\n",
       "| TenMinutes  | 12.0 | 31 |\n",
       "| TenMinutes  | 52.0 | 32 |\n",
       "| TenMinutes  | 20.0 | 33 |\n",
       "| TenMinutes  | 16.0 | 34 |\n",
       "| TenMinutes  | 15.0 | 35 |\n",
       "| TenMinutes  | 11.5 | 36 |\n",
       "| TenMinutes  |  2.5 | 37 |\n",
       "| TenMinutes  |  2.0 | 38 |\n",
       "\n"
      ],
      "text/plain": [
       "   Measure     Level ID\n",
       "1  TwelveHours 10.0   1\n",
       "2  TwelveHours  6.5   2\n",
       "3  TwelveHours  8.0   3\n",
       "4  TwelveHours 12.0   4\n",
       "5  TwelveHours  5.0   5\n",
       "6  TwelveHours 11.5   6\n",
       "7  TwelveHours  5.0   7\n",
       "8  TwelveHours  3.5   8\n",
       "9  TwelveHours  7.5   9\n",
       "10 TwelveHours  5.8  10\n",
       "11 TwelveHours  4.7  11\n",
       "12 TwelveHours  8.0  12\n",
       "13 TwelveHours  7.0  13\n",
       "14 TwelveHours 17.0  14\n",
       "15 TwelveHours  8.8  15\n",
       "16 TwelveHours 17.0  16\n",
       "17 TwelveHours 15.0  17\n",
       "18 TwelveHours  4.4  18\n",
       "19 TwelveHours  2.0  19\n",
       "20 TenMinutes   6.5  20\n",
       "21 TenMinutes  14.0  21\n",
       "22 TenMinutes  13.5  22\n",
       "23 TenMinutes  18.0  23\n",
       "24 TenMinutes  14.5  24\n",
       "25 TenMinutes   9.0  25\n",
       "26 TenMinutes  18.0  26\n",
       "27 TenMinutes  42.0  27\n",
       "28 TenMinutes   7.5  28\n",
       "29 TenMinutes   6.0  29\n",
       "30 TenMinutes  25.0  30\n",
       "31 TenMinutes  12.0  31\n",
       "32 TenMinutes  52.0  32\n",
       "33 TenMinutes  20.0  33\n",
       "34 TenMinutes  16.0  34\n",
       "35 TenMinutes  15.0  35\n",
       "36 TenMinutes  11.5  36\n",
       "37 TenMinutes   2.5  37\n",
       "38 TenMinutes   2.0  38"
      ]
     },
     "metadata": {},
     "output_type": "display_data"
    }
   ],
   "source": [
    "Stress_long"
   ]
  },
  {
   "cell_type": "markdown",
   "metadata": {},
   "source": [
    "## 1. Based on these data, what can you conclude? What effect does increased stress have on beta-endorphin levels?\n"
   ]
  },
  {
   "cell_type": "code",
   "execution_count": 8,
   "metadata": {},
   "outputs": [
    {
     "data": {
      "text/html": [
       "<table class=\"dataframe\">\n",
       "<caption>A tibble: 2 × 14</caption>\n",
       "<thead>\n",
       "\t<tr><th scope=col>Measure</th><th scope=col>variable</th><th scope=col>n</th><th scope=col>min</th><th scope=col>max</th><th scope=col>median</th><th scope=col>q1</th><th scope=col>q3</th><th scope=col>iqr</th><th scope=col>mad</th><th scope=col>mean</th><th scope=col>sd</th><th scope=col>se</th><th scope=col>ci</th></tr>\n",
       "\t<tr><th scope=col>&lt;chr&gt;</th><th scope=col>&lt;fct&gt;</th><th scope=col>&lt;dbl&gt;</th><th scope=col>&lt;dbl&gt;</th><th scope=col>&lt;dbl&gt;</th><th scope=col>&lt;dbl&gt;</th><th scope=col>&lt;dbl&gt;</th><th scope=col>&lt;dbl&gt;</th><th scope=col>&lt;dbl&gt;</th><th scope=col>&lt;dbl&gt;</th><th scope=col>&lt;dbl&gt;</th><th scope=col>&lt;dbl&gt;</th><th scope=col>&lt;dbl&gt;</th><th scope=col>&lt;dbl&gt;</th></tr>\n",
       "</thead>\n",
       "<tbody>\n",
       "\t<tr><td>TenMinutes </td><td>Level</td><td>19</td><td>2</td><td>52</td><td>14.0</td><td>8.25</td><td>18.00</td><td>9.75</td><td>7.413</td><td>16.053</td><td>12.509</td><td>2.870</td><td>6.029</td></tr>\n",
       "\t<tr><td>TwelveHours</td><td>Level</td><td>19</td><td>2</td><td>17</td><td> 7.5</td><td>5.00</td><td>10.75</td><td>5.75</td><td>3.706</td><td> 8.353</td><td> 4.397</td><td>1.009</td><td>2.119</td></tr>\n",
       "</tbody>\n",
       "</table>\n"
      ],
      "text/latex": [
       "A tibble: 2 × 14\n",
       "\\begin{tabular}{llllllllllllll}\n",
       " Measure & variable & n & min & max & median & q1 & q3 & iqr & mad & mean & sd & se & ci\\\\\n",
       " <chr> & <fct> & <dbl> & <dbl> & <dbl> & <dbl> & <dbl> & <dbl> & <dbl> & <dbl> & <dbl> & <dbl> & <dbl> & <dbl>\\\\\n",
       "\\hline\n",
       "\t TenMinutes  & Level & 19 & 2 & 52 & 14.0 & 8.25 & 18.00 & 9.75 & 7.413 & 16.053 & 12.509 & 2.870 & 6.029\\\\\n",
       "\t TwelveHours & Level & 19 & 2 & 17 &  7.5 & 5.00 & 10.75 & 5.75 & 3.706 &  8.353 &  4.397 & 1.009 & 2.119\\\\\n",
       "\\end{tabular}\n"
      ],
      "text/markdown": [
       "\n",
       "A tibble: 2 × 14\n",
       "\n",
       "| Measure &lt;chr&gt; | variable &lt;fct&gt; | n &lt;dbl&gt; | min &lt;dbl&gt; | max &lt;dbl&gt; | median &lt;dbl&gt; | q1 &lt;dbl&gt; | q3 &lt;dbl&gt; | iqr &lt;dbl&gt; | mad &lt;dbl&gt; | mean &lt;dbl&gt; | sd &lt;dbl&gt; | se &lt;dbl&gt; | ci &lt;dbl&gt; |\n",
       "|---|---|---|---|---|---|---|---|---|---|---|---|---|---|\n",
       "| TenMinutes  | Level | 19 | 2 | 52 | 14.0 | 8.25 | 18.00 | 9.75 | 7.413 | 16.053 | 12.509 | 2.870 | 6.029 |\n",
       "| TwelveHours | Level | 19 | 2 | 17 |  7.5 | 5.00 | 10.75 | 5.75 | 3.706 |  8.353 |  4.397 | 1.009 | 2.119 |\n",
       "\n"
      ],
      "text/plain": [
       "  Measure     variable n  min max median q1   q3    iqr  mad   mean   sd    \n",
       "1 TenMinutes  Level    19 2   52  14.0   8.25 18.00 9.75 7.413 16.053 12.509\n",
       "2 TwelveHours Level    19 2   17   7.5   5.00 10.75 5.75 3.706  8.353  4.397\n",
       "  se    ci   \n",
       "1 2.870 6.029\n",
       "2 1.009 2.119"
      ]
     },
     "metadata": {},
     "output_type": "display_data"
    }
   ],
   "source": [
    "Stress_long %>% group_by(Measure) %>% get_summary_stats(Level)"
   ]
  },
  {
   "cell_type": "markdown",
   "metadata": {},
   "source": [
    "# Answer:\n",
    "#### its apparent that the more the situation is stressful, like 10min before surgery, the betaendorphin levels increase, which would indicate that stress level can be related to, if not predict, betaendorphin level, or vise versa, the higher the level betaendorphin, the higher might be the stress level of patients."
   ]
  },
  {
   "cell_type": "markdown",
   "metadata": {},
   "source": [
    "## 2. Create a scatterplot of the data, and compute the correlation between the two sets of scores. What does this say that is relevant to the answer to this project?"
   ]
  },
  {
   "cell_type": "code",
   "execution_count": 253,
   "metadata": {},
   "outputs": [],
   "source": [
    "endo_lm = lm(TwelveHours~TenMinutes, data = Stress_Endo)"
   ]
  },
  {
   "cell_type": "code",
   "execution_count": 254,
   "metadata": {},
   "outputs": [
    {
     "data": {
      "text/plain": [
       "\n",
       "Call:\n",
       "lm(formula = TwelveHours ~ TenMinutes, data = Stress_Endo)\n",
       "\n",
       "Residuals:\n",
       "    Min      1Q  Median      3Q     Max \n",
       "-6.6655 -3.3482 -0.5523  2.2125  8.7352 \n",
       "\n",
       "Coefficients:\n",
       "            Estimate Std. Error t value Pr(>|t|)    \n",
       "(Intercept)  8.71001    1.71412   5.081 9.25e-05 ***\n",
       "TenMinutes  -0.02226    0.08508  -0.262    0.797    \n",
       "---\n",
       "Signif. codes:  0 '***' 0.001 '**' 0.01 '*' 0.05 '.' 0.1 ' ' 1\n",
       "\n",
       "Residual standard error: 4.515 on 17 degrees of freedom\n",
       "Multiple R-squared:  0.004012,\tAdjusted R-squared:  -0.05458 \n",
       "F-statistic: 0.06847 on 1 and 17 DF,  p-value: 0.7967\n"
      ]
     },
     "metadata": {},
     "output_type": "display_data"
    }
   ],
   "source": [
    "summary(endo_lm)"
   ]
  },
  {
   "cell_type": "code",
   "execution_count": 43,
   "metadata": {},
   "outputs": [
    {
     "data": {
      "image/png": "[encoded data removed]",
      "text/plain": [
       "plot without title"
      ]
     },
     "metadata": {
      "image/png": {
       "height": 420,
       "width": 420
      }
     },
     "output_type": "display_data"
    }
   ],
   "source": [
    "plot(Stress_Endo)\n",
    "abline(endo_lm, lwd = 3, col = \"red\")"
   ]
  },
  {
   "cell_type": "markdown",
   "metadata": {},
   "source": [
    "## The Correlation report shows that there is no linear relation between two sets of data, plus, correlation lines drawn on the scatter plot shows the same, A value is almost zero."
   ]
  },
  {
   "cell_type": "markdown",
   "metadata": {},
   "source": [
    "## 3. We always need to look closely at our data. Sometimes we find things that are hard to explain. Look closely at the data; what attracts your attention?\n",
    "\n",
    "#### Answer: its odd that some of the data shows  that the beta endorphin level actually is lower 10 mins before surgery, which is against the assumption of the project."
   ]
  },
  {
   "cell_type": "markdown",
   "metadata": {},
   "source": [
    "## 4. Construct 95% confidence limits on the true mean difference between two levels at the two times described above."
   ]
  },
  {
   "cell_type": "code",
   "execution_count": 14,
   "metadata": {},
   "outputs": [
    {
     "name": "stderr",
     "output_type": "stream",
     "text": [
      "Warning message in wilcox.test.default(Stress_Endo$TwelveHours, Stress_Endo$TenMinutes, :\n",
      "\"cannot compute exact p-value with ties\"\n",
      "Warning message in wilcox.test.default(Stress_Endo$TwelveHours, Stress_Endo$TenMinutes, :\n",
      "\"cannot compute exact confidence interval with ties\"\n",
      "Warning message in wilcox.test.default(Stress_Endo$TwelveHours, Stress_Endo$TenMinutes, :\n",
      "\"cannot compute exact p-value with zeroes\"\n",
      "Warning message in wilcox.test.default(Stress_Endo$TwelveHours, Stress_Endo$TenMinutes, :\n",
      "\"cannot compute exact confidence interval with zeroes\"\n"
     ]
    },
    {
     "data": {
      "text/plain": [
       "\n",
       "\tWilcoxon signed rank test with continuity correction\n",
       "\n",
       "data:  Stress_Endo$TwelveHours and Stress_Endo$TenMinutes\n",
       "V = 22, p-value = 0.01057\n",
       "alternative hypothesis: true location shift is not equal to 0\n",
       "95 percent confidence interval:\n",
       " -16.649930  -1.250057\n",
       "sample estimates:\n",
       "(pseudo)median \n",
       "     -5.500086 \n"
      ]
     },
     "metadata": {},
     "output_type": "display_data"
    }
   ],
   "source": [
    "wilcox.test(Stress_Endo$TwelveHours, Stress_Endo$TenMinutes, paired = TRUE, alternative = \"two.sided\", conf.int = TRUE)"
   ]
  },
  {
   "cell_type": "markdown",
   "metadata": {},
   "source": [
    "## Answer: \n",
    "#### since the data is not normally distributed here I used wilcoxon test to extract 95% confidence interval."
   ]
  },
  {
   "cell_type": "markdown",
   "metadata": {},
   "source": [
    "# 5. Compute a measure of effect size for the data, and tell what this measure indicates"
   ]
  },
  {
   "cell_type": "code",
   "execution_count": 292,
   "metadata": {},
   "outputs": [
    {
     "data": {
      "text/html": [
       "<table class=\"dataframe\">\n",
       "<caption>A tibble: 2 × 4</caption>\n",
       "<thead>\n",
       "\t<tr><th scope=col>Measure</th><th scope=col>variable</th><th scope=col>statistic</th><th scope=col>p</th></tr>\n",
       "\t<tr><th scope=col>&lt;chr&gt;</th><th scope=col>&lt;chr&gt;</th><th scope=col>&lt;dbl&gt;</th><th scope=col>&lt;dbl&gt;</th></tr>\n",
       "</thead>\n",
       "<tbody>\n",
       "\t<tr><td>TenMinutes </td><td>Level</td><td>0.8166532</td><td>0.002015472</td></tr>\n",
       "\t<tr><td>TwelveHours</td><td>Level</td><td>0.9204097</td><td>0.115159639</td></tr>\n",
       "</tbody>\n",
       "</table>\n"
      ],
      "text/latex": [
       "A tibble: 2 × 4\n",
       "\\begin{tabular}{llll}\n",
       " Measure & variable & statistic & p\\\\\n",
       " <chr> & <chr> & <dbl> & <dbl>\\\\\n",
       "\\hline\n",
       "\t TenMinutes  & Level & 0.8166532 & 0.002015472\\\\\n",
       "\t TwelveHours & Level & 0.9204097 & 0.115159639\\\\\n",
       "\\end{tabular}\n"
      ],
      "text/markdown": [
       "\n",
       "A tibble: 2 × 4\n",
       "\n",
       "| Measure &lt;chr&gt; | variable &lt;chr&gt; | statistic &lt;dbl&gt; | p &lt;dbl&gt; |\n",
       "|---|---|---|---|\n",
       "| TenMinutes  | Level | 0.8166532 | 0.002015472 |\n",
       "| TwelveHours | Level | 0.9204097 | 0.115159639 |\n",
       "\n"
      ],
      "text/plain": [
       "  Measure     variable statistic p          \n",
       "1 TenMinutes  Level    0.8166532 0.002015472\n",
       "2 TwelveHours Level    0.9204097 0.115159639"
      ]
     },
     "metadata": {},
     "output_type": "display_data"
    }
   ],
   "source": [
    "Stress_long %>% group_by(Measure) %>% shapiro_test(Level)"
   ]
  },
  {
   "cell_type": "code",
   "execution_count": 269,
   "metadata": {},
   "outputs": [],
   "source": [
    "Stress_Endo = Stress_Endo[-8, ]"
   ]
  },
  {
   "cell_type": "code",
   "execution_count": 270,
   "metadata": {},
   "outputs": [],
   "source": [
    "Stress_Endo = Stress_Endo[-12, ]"
   ]
  },
  {
   "cell_type": "code",
   "execution_count": 295,
   "metadata": {},
   "outputs": [
    {
     "data": {
      "text/html": [
       "<table class=\"dataframe\">\n",
       "<caption>A tibble: 2 × 4</caption>\n",
       "<thead>\n",
       "\t<tr><th scope=col>Measure</th><th scope=col>Level</th><th scope=col>is.outlier</th><th scope=col>is.extreme</th></tr>\n",
       "\t<tr><th scope=col>&lt;chr&gt;</th><th scope=col>&lt;dbl&gt;</th><th scope=col>&lt;lgl&gt;</th><th scope=col>&lt;lgl&gt;</th></tr>\n",
       "</thead>\n",
       "<tbody>\n",
       "\t<tr><td>TenMinutes</td><td>42</td><td>TRUE</td><td>FALSE</td></tr>\n",
       "\t<tr><td>TenMinutes</td><td>52</td><td>TRUE</td><td> TRUE</td></tr>\n",
       "</tbody>\n",
       "</table>\n"
      ],
      "text/latex": [
       "A tibble: 2 × 4\n",
       "\\begin{tabular}{llll}\n",
       " Measure & Level & is.outlier & is.extreme\\\\\n",
       " <chr> & <dbl> & <lgl> & <lgl>\\\\\n",
       "\\hline\n",
       "\t TenMinutes & 42 & TRUE & FALSE\\\\\n",
       "\t TenMinutes & 52 & TRUE &  TRUE\\\\\n",
       "\\end{tabular}\n"
      ],
      "text/markdown": [
       "\n",
       "A tibble: 2 × 4\n",
       "\n",
       "| Measure &lt;chr&gt; | Level &lt;dbl&gt; | is.outlier &lt;lgl&gt; | is.extreme &lt;lgl&gt; |\n",
       "|---|---|---|---|\n",
       "| TenMinutes | 42 | TRUE | FALSE |\n",
       "| TenMinutes | 52 | TRUE |  TRUE |\n",
       "\n"
      ],
      "text/plain": [
       "  Measure    Level is.outlier is.extreme\n",
       "1 TenMinutes 42    TRUE       FALSE     \n",
       "2 TenMinutes 52    TRUE        TRUE     "
      ]
     },
     "metadata": {},
     "output_type": "display_data"
    }
   ],
   "source": [
    "Stress_long %>% group_by(Measure) %>% identify_outliers(Level)"
   ]
  },
  {
   "cell_type": "code",
   "execution_count": 22,
   "metadata": {},
   "outputs": [
    {
     "data": {
      "text/plain": [
       "\n",
       "\tSymmetry test by Miao, Gel, and Gastwirth (2006)\n",
       "\n",
       "data:  Stress_long$Level[Stress_long$Measure == \"TenMinutes\"]\n",
       "Test statistic = 1.1969, p-value = 0.2314\n",
       "alternative hypothesis: the distribution is asymmetric.\n"
      ]
     },
     "metadata": {},
     "output_type": "display_data"
    },
    {
     "data": {
      "text/plain": [
       "\n",
       "\tSymmetry test by Miao, Gel, and Gastwirth (2006)\n",
       "\n",
       "data:  Stress_long$Level[Stress_long$Measure == \"TwelveHours\"]\n",
       "Test statistic = 1.1763, p-value = 0.2395\n",
       "alternative hypothesis: the distribution is asymmetric.\n"
      ]
     },
     "metadata": {},
     "output_type": "display_data"
    }
   ],
   "source": [
    "library(lawstat)\n",
    "symmetry.test(Stress_long$Level[Stress_long$Measure == \"TenMinutes\"], boot = FALSE)\n",
    "symmetry.test(Stress_long$Level[Stress_long$Measure == \"TwelveHours\"], boot = FALSE)"
   ]
  },
  {
   "cell_type": "markdown",
   "metadata": {},
   "source": [
    "### Here, I tried deleting the outlier data which contradicted with the noramlity of the distributions, yet after deleting the result of shapiro test shows that the data is now normally distributed but still levene test result indicates that no metter the outlier data, the variances are no homogenous, so I reversed the deletion process and decided to perform non parametric wilcoxon test instead of t."
   ]
  },
  {
   "cell_type": "code",
   "execution_count": 296,
   "metadata": {},
   "outputs": [
    {
     "data": {
      "image/png": "[encoded data removed]",
      "text/plain": [
       "plot without title"
      ]
     },
     "metadata": {
      "image/png": {
       "height": 420,
       "width": 420
      }
     },
     "output_type": "display_data"
    }
   ],
   "source": [
    "ggqqplot(Stress_long, \"Level\", facet.by = \"Measure\")"
   ]
  },
  {
   "cell_type": "code",
   "execution_count": 297,
   "metadata": {},
   "outputs": [
    {
     "name": "stderr",
     "output_type": "stream",
     "text": [
      "Warning message in leveneTest.default(y = y, group = group, ...):\n",
      "\"group coerced to factor.\"\n"
     ]
    },
    {
     "data": {
      "text/html": [
       "<table class=\"dataframe\">\n",
       "<caption>A tibble: 1 × 4</caption>\n",
       "<thead>\n",
       "\t<tr><th scope=col>df1</th><th scope=col>df2</th><th scope=col>statistic</th><th scope=col>p</th></tr>\n",
       "\t<tr><th scope=col>&lt;int&gt;</th><th scope=col>&lt;int&gt;</th><th scope=col>&lt;dbl&gt;</th><th scope=col>&lt;dbl&gt;</th></tr>\n",
       "</thead>\n",
       "<tbody>\n",
       "\t<tr><td>1</td><td>36</td><td>3.814655</td><td>0.05861313</td></tr>\n",
       "</tbody>\n",
       "</table>\n"
      ],
      "text/latex": [
       "A tibble: 1 × 4\n",
       "\\begin{tabular}{llll}\n",
       " df1 & df2 & statistic & p\\\\\n",
       " <int> & <int> & <dbl> & <dbl>\\\\\n",
       "\\hline\n",
       "\t 1 & 36 & 3.814655 & 0.05861313\\\\\n",
       "\\end{tabular}\n"
      ],
      "text/markdown": [
       "\n",
       "A tibble: 1 × 4\n",
       "\n",
       "| df1 &lt;int&gt; | df2 &lt;int&gt; | statistic &lt;dbl&gt; | p &lt;dbl&gt; |\n",
       "|---|---|---|---|\n",
       "| 1 | 36 | 3.814655 | 0.05861313 |\n",
       "\n"
      ],
      "text/plain": [
       "  df1 df2 statistic p         \n",
       "1 1   36  3.814655  0.05861313"
      ]
     },
     "metadata": {},
     "output_type": "display_data"
    }
   ],
   "source": [
    "Stress_long %>% levene_test(Level~Measure)"
   ]
  },
  {
   "cell_type": "code",
   "execution_count": 298,
   "metadata": {},
   "outputs": [
    {
     "data": {
      "text/html": [
       "<table class=\"dataframe\">\n",
       "<caption>A rstatix_test: 1 × 7</caption>\n",
       "<thead>\n",
       "\t<tr><th></th><th scope=col>.y.</th><th scope=col>group1</th><th scope=col>group2</th><th scope=col>n1</th><th scope=col>n2</th><th scope=col>statistic</th><th scope=col>p</th></tr>\n",
       "\t<tr><th></th><th scope=col>&lt;chr&gt;</th><th scope=col>&lt;chr&gt;</th><th scope=col>&lt;chr&gt;</th><th scope=col>&lt;int&gt;</th><th scope=col>&lt;int&gt;</th><th scope=col>&lt;dbl&gt;</th><th scope=col>&lt;dbl&gt;</th></tr>\n",
       "</thead>\n",
       "<tbody>\n",
       "\t<tr><th scope=row>1</th><td>Level</td><td>TenMinutes</td><td>TwelveHours</td><td>19</td><td>19</td><td>131</td><td>0.0106</td></tr>\n",
       "</tbody>\n",
       "</table>\n"
      ],
      "text/latex": [
       "A rstatix\\_test: 1 × 7\n",
       "\\begin{tabular}{r|lllllll}\n",
       "  & .y. & group1 & group2 & n1 & n2 & statistic & p\\\\\n",
       "  & <chr> & <chr> & <chr> & <int> & <int> & <dbl> & <dbl>\\\\\n",
       "\\hline\n",
       "\t1 & Level & TenMinutes & TwelveHours & 19 & 19 & 131 & 0.0106\\\\\n",
       "\\end{tabular}\n"
      ],
      "text/markdown": [
       "\n",
       "A rstatix_test: 1 × 7\n",
       "\n",
       "| <!--/--> | .y. &lt;chr&gt; | group1 &lt;chr&gt; | group2 &lt;chr&gt; | n1 &lt;int&gt; | n2 &lt;int&gt; | statistic &lt;dbl&gt; | p &lt;dbl&gt; |\n",
       "|---|---|---|---|---|---|---|---|\n",
       "| 1 | Level | TenMinutes | TwelveHours | 19 | 19 | 131 | 0.0106 |\n",
       "\n"
      ],
      "text/plain": [
       "  .y.   group1     group2      n1 n2 statistic p     \n",
       "1 Level TenMinutes TwelveHours 19 19 131       0.0106"
      ]
     },
     "metadata": {},
     "output_type": "display_data"
    }
   ],
   "source": [
    "Stress_long %>% wilcox_test(Level ~ Measure, paired = TRUE)"
   ]
  },
  {
   "cell_type": "markdown",
   "metadata": {},
   "source": [
    "#### P value is less than 0.05 predetermined alpha, so different stressful situation can cause different levels of Beta Endorphin in patients, which means project's alternative hypothasis is not equal to zero, and is meaningful."
   ]
  },
  {
   "cell_type": "code",
   "execution_count": 300,
   "metadata": {},
   "outputs": [
    {
     "data": {
      "text/html": [
       "<table class=\"dataframe\">\n",
       "<caption>A rstatix_test: 1 × 7</caption>\n",
       "<thead>\n",
       "\t<tr><th></th><th scope=col>.y.</th><th scope=col>group1</th><th scope=col>group2</th><th scope=col>effsize</th><th scope=col>n1</th><th scope=col>n2</th><th scope=col>magnitude</th></tr>\n",
       "\t<tr><th></th><th scope=col>&lt;chr&gt;</th><th scope=col>&lt;chr&gt;</th><th scope=col>&lt;chr&gt;</th><th scope=col>&lt;dbl&gt;</th><th scope=col>&lt;int&gt;</th><th scope=col>&lt;int&gt;</th><th scope=col>&lt;ord&gt;</th></tr>\n",
       "</thead>\n",
       "<tbody>\n",
       "\t<tr><th scope=row>1</th><td>Level</td><td>TenMinutes</td><td>TwelveHours</td><td>0.5684129</td><td>19</td><td>19</td><td>large</td></tr>\n",
       "</tbody>\n",
       "</table>\n"
      ],
      "text/latex": [
       "A rstatix\\_test: 1 × 7\n",
       "\\begin{tabular}{r|lllllll}\n",
       "  & .y. & group1 & group2 & effsize & n1 & n2 & magnitude\\\\\n",
       "  & <chr> & <chr> & <chr> & <dbl> & <int> & <int> & <ord>\\\\\n",
       "\\hline\n",
       "\t1 & Level & TenMinutes & TwelveHours & 0.5684129 & 19 & 19 & large\\\\\n",
       "\\end{tabular}\n"
      ],
      "text/markdown": [
       "\n",
       "A rstatix_test: 1 × 7\n",
       "\n",
       "| <!--/--> | .y. &lt;chr&gt; | group1 &lt;chr&gt; | group2 &lt;chr&gt; | effsize &lt;dbl&gt; | n1 &lt;int&gt; | n2 &lt;int&gt; | magnitude &lt;ord&gt; |\n",
       "|---|---|---|---|---|---|---|---|\n",
       "| 1 | Level | TenMinutes | TwelveHours | 0.5684129 | 19 | 19 | large |\n",
       "\n"
      ],
      "text/plain": [
       "  .y.   group1     group2      effsize   n1 n2 magnitude\n",
       "1 Level TenMinutes TwelveHours 0.5684129 19 19 large    "
      ]
     },
     "metadata": {},
     "output_type": "display_data"
    }
   ],
   "source": [
    "Stress_long %>% wilcox_effsize(Level~Measure, paired = TRUE)"
   ]
  },
  {
   "cell_type": "markdown",
   "metadata": {},
   "source": [
    "#### Answer: The effect size calculated is LARGE, so there is not only significant relationship between stress and Beta Endorphin levels, but also the effect is large in reality."
   ]
  },
  {
   "cell_type": "markdown",
   "metadata": {},
   "source": [
    "## 6. Assume that the mean and the standard deviation of the difference scores would remain the same if we added more subjects. How many subjects would we need to obtain a t that is significant at alpha=0.01 (two-tailed)? (The difference was significant at alpha=0.05, but not at alpha=0.01.)"
   ]
  },
  {
   "cell_type": "code",
   "execution_count": 66,
   "metadata": {},
   "outputs": [],
   "source": [
    "diff_scores = Stress_Endo$TwelveHours - Stress_Endo$TenMinutes\n",
    "mean_diff = mean(diff_scores)\n",
    "sd_diff = sd(diff_scores)"
   ]
  },
  {
   "cell_type": "code",
   "execution_count": 67,
   "metadata": {},
   "outputs": [],
   "source": [
    "alpha = 0.01"
   ]
  },
  {
   "cell_type": "code",
   "execution_count": 68,
   "metadata": {},
   "outputs": [],
   "source": [
    "effectsizenotlong = endobetastress %>% wilcox_effsize(level~measure, paired = TRUE)"
   ]
  },
  {
   "cell_type": "code",
   "execution_count": 69,
   "metadata": {},
   "outputs": [],
   "source": [
    "effect_size = abs(mean_diff) / sd_diff"
   ]
  },
  {
   "cell_type": "code",
   "execution_count": 70,
   "metadata": {},
   "outputs": [
    {
     "data": {
      "text/html": [
       "0.56956187292642"
      ],
      "text/latex": [
       "0.56956187292642"
      ],
      "text/markdown": [
       "0.56956187292642"
      ],
      "text/plain": [
       "[1] 0.5695619"
      ]
     },
     "metadata": {},
     "output_type": "display_data"
    }
   ],
   "source": [
    "effect_size"
   ]
  },
  {
   "cell_type": "code",
   "execution_count": 72,
   "metadata": {},
   "outputs": [
    {
     "data": {
      "text/html": [
       "39.3582365840941"
      ],
      "text/latex": [
       "39.3582365840941"
      ],
      "text/markdown": [
       "39.3582365840941"
      ],
      "text/plain": [
       "[1] 39.35824"
      ]
     },
     "metadata": {},
     "output_type": "display_data"
    }
   ],
   "source": [
    "pwr.t.test(d = effect_size, sig.level = alpha, p = 0.8, type = \"paired\", alternative = \"two.sided\")$n"
   ]
  },
  {
   "cell_type": "markdown",
   "metadata": {},
   "source": [
    "## Answer: \n",
    "#### Apparently adding one or two more to each group of the data would create a lower p value and make it possible to have significance when alpha is 0.01."
   ]
  },
  {
   "cell_type": "markdown",
   "metadata": {},
   "source": [
    "## 7. Modify the data by shifting the entries in the “12-hour” column so as to increase the relationship between the two variables. Run a   test on the modified data and notice the effect ont..)"
   ]
  },
  {
   "cell_type": "code",
   "execution_count": 125,
   "metadata": {},
   "outputs": [],
   "source": [
    "modified_data = read_excel(\"C://Users//Saeed//Desktop//Amar//Statistics-in-cognitive-rehabilitation-and-cognitive-linguistics-main//pr21rev.xlsx\")"
   ]
  },
  {
   "cell_type": "code",
   "execution_count": 129,
   "metadata": {},
   "outputs": [
    {
     "data": {
      "text/html": [
       "<table class=\"dataframe\">\n",
       "<caption>A rstatix_test: 1 × 7</caption>\n",
       "<thead>\n",
       "\t<tr><th></th><th scope=col>.y.</th><th scope=col>group1</th><th scope=col>group2</th><th scope=col>n1</th><th scope=col>n2</th><th scope=col>statistic</th><th scope=col>p</th></tr>\n",
       "\t<tr><th></th><th scope=col>&lt;chr&gt;</th><th scope=col>&lt;chr&gt;</th><th scope=col>&lt;chr&gt;</th><th scope=col>&lt;int&gt;</th><th scope=col>&lt;int&gt;</th><th scope=col>&lt;dbl&gt;</th><th scope=col>&lt;dbl&gt;</th></tr>\n",
       "</thead>\n",
       "<tbody>\n",
       "\t<tr><th scope=row>1</th><td>level</td><td>thbefore</td><td>tmbefore</td><td>19</td><td>19</td><td>8</td><td>0.00128</td></tr>\n",
       "</tbody>\n",
       "</table>\n"
      ],
      "text/latex": [
       "A rstatix\\_test: 1 × 7\n",
       "\\begin{tabular}{r|lllllll}\n",
       "  & .y. & group1 & group2 & n1 & n2 & statistic & p\\\\\n",
       "  & <chr> & <chr> & <chr> & <int> & <int> & <dbl> & <dbl>\\\\\n",
       "\\hline\n",
       "\t1 & level & thbefore & tmbefore & 19 & 19 & 8 & 0.00128\\\\\n",
       "\\end{tabular}\n"
      ],
      "text/markdown": [
       "\n",
       "A rstatix_test: 1 × 7\n",
       "\n",
       "| <!--/--> | .y. &lt;chr&gt; | group1 &lt;chr&gt; | group2 &lt;chr&gt; | n1 &lt;int&gt; | n2 &lt;int&gt; | statistic &lt;dbl&gt; | p &lt;dbl&gt; |\n",
       "|---|---|---|---|---|---|---|---|\n",
       "| 1 | level | thbefore | tmbefore | 19 | 19 | 8 | 0.00128 |\n",
       "\n"
      ],
      "text/plain": [
       "  .y.   group1   group2   n1 n2 statistic p      \n",
       "1 level thbefore tmbefore 19 19 8         0.00128"
      ]
     },
     "metadata": {},
     "output_type": "display_data"
    }
   ],
   "source": [
    "modified_data %>% wilcox_test(level~measure, paired = TRUE)"
   ]
  },
  {
   "cell_type": "markdown",
   "metadata": {},
   "source": [
    "# Answer\n",
    "#### By manipulating the data, the p value of our hypo test decreased, so significace is increased but only virtually, which is absolutely wrong."
   ]
  },
  {
   "cell_type": "markdown",
   "metadata": {},
   "source": [
    "## 8. Using your answer to the previous part and your knowledge of correlation, how would you expect the degree of correlation between two variables (data sets) to affect the magnitude of the t test between them?\n",
    "\n",
    "# Answer:\n",
    "#### I would guess that, the greater the correlation number between variables is, the greater the variables change together, so i would argue that degree of correlation between two sets of variables is not a valid way to discuss the changes that would occur, only the greatness of the changes is what we have in mind."
   ]
  },
  {
   "cell_type": "markdown",
   "metadata": {},
   "source": [
    "# Part B.\n",
    "The Thematic Apperception Test (TAT) presents participants with ambiguous pictures and asks them to tell a story about them. These stories can be scored in any number of ways. Three researchers asked mothers of 20 normal and 20 schizophrenic children to complete the TAT and then scored for the number of stories (out of 10) that exhibited a positive parent–child relationship. The data follow (https://github.com/amanirad/Statistics-in-cognitive-rehabilitation-and-cognitive-linguistics):\n",
    "\n",
    "<img src=\"p3.png\" width=\"400\"/>\n",
    "\n",
    "- What would you assume to be the experimental hypothesis behind this study?\n",
    "- What would you conclude with respect to that hypothesis?\n",
    "- Why might it be smart to look at the variances of the two groups?\n",
    "- A significant difference might lead someone to suggest that poor parent–child relationships are the cause of schizophrenia. Why might this be a troublesome conclusion?\n",
    "- Calculate the 95% confidence limits on mean1-mean2 for the data. Calculate Cohen’s d^."
   ]
  },
  {
   "cell_type": "code",
   "execution_count": 5,
   "metadata": {},
   "outputs": [],
   "source": [
    "library(rstatix)\n",
    "library(ggpubr)"
   ]
  },
  {
   "cell_type": "code",
   "execution_count": 1,
   "metadata": {},
   "outputs": [],
   "source": [
    "schizo = read.table(\"C://Users//Saeed//Desktop//Amar//Statistics-in-cognitive-rehabilitation-and-cognitive-linguistics-main//project_2_B.dat\", header = TRUE)"
   ]
  },
  {
   "cell_type": "code",
   "execution_count": 20,
   "metadata": {
    "scrolled": true
   },
   "outputs": [
    {
     "data": {
      "text/html": [
       "<table class=\"dataframe\">\n",
       "<caption>A data.frame: 40 × 2</caption>\n",
       "<thead>\n",
       "\t<tr><th scope=col>GROUP</th><th scope=col>NUMBER</th></tr>\n",
       "\t<tr><th scope=col>&lt;chr&gt;</th><th scope=col>&lt;int&gt;</th></tr>\n",
       "</thead>\n",
       "<tbody>\n",
       "\t<tr><td>NORMAL</td><td>8</td></tr>\n",
       "\t<tr><td>NORMAL</td><td>4</td></tr>\n",
       "\t<tr><td>NORMAL</td><td>6</td></tr>\n",
       "\t<tr><td>NORMAL</td><td>3</td></tr>\n",
       "\t<tr><td>NORMAL</td><td>1</td></tr>\n",
       "\t<tr><td>NORMAL</td><td>4</td></tr>\n",
       "\t<tr><td>NORMAL</td><td>4</td></tr>\n",
       "\t<tr><td>NORMAL</td><td>6</td></tr>\n",
       "\t<tr><td>NORMAL</td><td>4</td></tr>\n",
       "\t<tr><td>NORMAL</td><td>2</td></tr>\n",
       "\t<tr><td>NORMAL</td><td>2</td></tr>\n",
       "\t<tr><td>NORMAL</td><td>1</td></tr>\n",
       "\t<tr><td>NORMAL</td><td>1</td></tr>\n",
       "\t<tr><td>NORMAL</td><td>4</td></tr>\n",
       "\t<tr><td>NORMAL</td><td>3</td></tr>\n",
       "\t<tr><td>NORMAL</td><td>3</td></tr>\n",
       "\t<tr><td>NORMAL</td><td>2</td></tr>\n",
       "\t<tr><td>NORMAL</td><td>6</td></tr>\n",
       "\t<tr><td>NORMAL</td><td>3</td></tr>\n",
       "\t<tr><td>NORMAL</td><td>4</td></tr>\n",
       "\t<tr><td>SCHIZO</td><td>2</td></tr>\n",
       "\t<tr><td>SCHIZO</td><td>1</td></tr>\n",
       "\t<tr><td>SCHIZO</td><td>1</td></tr>\n",
       "\t<tr><td>SCHIZO</td><td>3</td></tr>\n",
       "\t<tr><td>SCHIZO</td><td>2</td></tr>\n",
       "\t<tr><td>SCHIZO</td><td>7</td></tr>\n",
       "\t<tr><td>SCHIZO</td><td>2</td></tr>\n",
       "\t<tr><td>SCHIZO</td><td>1</td></tr>\n",
       "\t<tr><td>SCHIZO</td><td>3</td></tr>\n",
       "\t<tr><td>SCHIZO</td><td>1</td></tr>\n",
       "\t<tr><td>SCHIZO</td><td>0</td></tr>\n",
       "\t<tr><td>SCHIZO</td><td>2</td></tr>\n",
       "\t<tr><td>SCHIZO</td><td>4</td></tr>\n",
       "\t<tr><td>SCHIZO</td><td>2</td></tr>\n",
       "\t<tr><td>SCHIZO</td><td>3</td></tr>\n",
       "\t<tr><td>SCHIZO</td><td>3</td></tr>\n",
       "\t<tr><td>SCHIZO</td><td>0</td></tr>\n",
       "\t<tr><td>SCHIZO</td><td>1</td></tr>\n",
       "\t<tr><td>SCHIZO</td><td>2</td></tr>\n",
       "\t<tr><td>SCHIZO</td><td>2</td></tr>\n",
       "</tbody>\n",
       "</table>\n"
      ],
      "text/latex": [
       "A data.frame: 40 × 2\n",
       "\\begin{tabular}{ll}\n",
       " GROUP & NUMBER\\\\\n",
       " <chr> & <int>\\\\\n",
       "\\hline\n",
       "\t NORMAL & 8\\\\\n",
       "\t NORMAL & 4\\\\\n",
       "\t NORMAL & 6\\\\\n",
       "\t NORMAL & 3\\\\\n",
       "\t NORMAL & 1\\\\\n",
       "\t NORMAL & 4\\\\\n",
       "\t NORMAL & 4\\\\\n",
       "\t NORMAL & 6\\\\\n",
       "\t NORMAL & 4\\\\\n",
       "\t NORMAL & 2\\\\\n",
       "\t NORMAL & 2\\\\\n",
       "\t NORMAL & 1\\\\\n",
       "\t NORMAL & 1\\\\\n",
       "\t NORMAL & 4\\\\\n",
       "\t NORMAL & 3\\\\\n",
       "\t NORMAL & 3\\\\\n",
       "\t NORMAL & 2\\\\\n",
       "\t NORMAL & 6\\\\\n",
       "\t NORMAL & 3\\\\\n",
       "\t NORMAL & 4\\\\\n",
       "\t SCHIZO & 2\\\\\n",
       "\t SCHIZO & 1\\\\\n",
       "\t SCHIZO & 1\\\\\n",
       "\t SCHIZO & 3\\\\\n",
       "\t SCHIZO & 2\\\\\n",
       "\t SCHIZO & 7\\\\\n",
       "\t SCHIZO & 2\\\\\n",
       "\t SCHIZO & 1\\\\\n",
       "\t SCHIZO & 3\\\\\n",
       "\t SCHIZO & 1\\\\\n",
       "\t SCHIZO & 0\\\\\n",
       "\t SCHIZO & 2\\\\\n",
       "\t SCHIZO & 4\\\\\n",
       "\t SCHIZO & 2\\\\\n",
       "\t SCHIZO & 3\\\\\n",
       "\t SCHIZO & 3\\\\\n",
       "\t SCHIZO & 0\\\\\n",
       "\t SCHIZO & 1\\\\\n",
       "\t SCHIZO & 2\\\\\n",
       "\t SCHIZO & 2\\\\\n",
       "\\end{tabular}\n"
      ],
      "text/markdown": [
       "\n",
       "A data.frame: 40 × 2\n",
       "\n",
       "| GROUP &lt;chr&gt; | NUMBER &lt;int&gt; |\n",
       "|---|---|\n",
       "| NORMAL | 8 |\n",
       "| NORMAL | 4 |\n",
       "| NORMAL | 6 |\n",
       "| NORMAL | 3 |\n",
       "| NORMAL | 1 |\n",
       "| NORMAL | 4 |\n",
       "| NORMAL | 4 |\n",
       "| NORMAL | 6 |\n",
       "| NORMAL | 4 |\n",
       "| NORMAL | 2 |\n",
       "| NORMAL | 2 |\n",
       "| NORMAL | 1 |\n",
       "| NORMAL | 1 |\n",
       "| NORMAL | 4 |\n",
       "| NORMAL | 3 |\n",
       "| NORMAL | 3 |\n",
       "| NORMAL | 2 |\n",
       "| NORMAL | 6 |\n",
       "| NORMAL | 3 |\n",
       "| NORMAL | 4 |\n",
       "| SCHIZO | 2 |\n",
       "| SCHIZO | 1 |\n",
       "| SCHIZO | 1 |\n",
       "| SCHIZO | 3 |\n",
       "| SCHIZO | 2 |\n",
       "| SCHIZO | 7 |\n",
       "| SCHIZO | 2 |\n",
       "| SCHIZO | 1 |\n",
       "| SCHIZO | 3 |\n",
       "| SCHIZO | 1 |\n",
       "| SCHIZO | 0 |\n",
       "| SCHIZO | 2 |\n",
       "| SCHIZO | 4 |\n",
       "| SCHIZO | 2 |\n",
       "| SCHIZO | 3 |\n",
       "| SCHIZO | 3 |\n",
       "| SCHIZO | 0 |\n",
       "| SCHIZO | 1 |\n",
       "| SCHIZO | 2 |\n",
       "| SCHIZO | 2 |\n",
       "\n"
      ],
      "text/plain": [
       "   GROUP  NUMBER\n",
       "1  NORMAL 8     \n",
       "2  NORMAL 4     \n",
       "3  NORMAL 6     \n",
       "4  NORMAL 3     \n",
       "5  NORMAL 1     \n",
       "6  NORMAL 4     \n",
       "7  NORMAL 4     \n",
       "8  NORMAL 6     \n",
       "9  NORMAL 4     \n",
       "10 NORMAL 2     \n",
       "11 NORMAL 2     \n",
       "12 NORMAL 1     \n",
       "13 NORMAL 1     \n",
       "14 NORMAL 4     \n",
       "15 NORMAL 3     \n",
       "16 NORMAL 3     \n",
       "17 NORMAL 2     \n",
       "18 NORMAL 6     \n",
       "19 NORMAL 3     \n",
       "20 NORMAL 4     \n",
       "21 SCHIZO 2     \n",
       "22 SCHIZO 1     \n",
       "23 SCHIZO 1     \n",
       "24 SCHIZO 3     \n",
       "25 SCHIZO 2     \n",
       "26 SCHIZO 7     \n",
       "27 SCHIZO 2     \n",
       "28 SCHIZO 1     \n",
       "29 SCHIZO 3     \n",
       "30 SCHIZO 1     \n",
       "31 SCHIZO 0     \n",
       "32 SCHIZO 2     \n",
       "33 SCHIZO 4     \n",
       "34 SCHIZO 2     \n",
       "35 SCHIZO 3     \n",
       "36 SCHIZO 3     \n",
       "37 SCHIZO 0     \n",
       "38 SCHIZO 1     \n",
       "39 SCHIZO 2     \n",
       "40 SCHIZO 2     "
      ]
     },
     "metadata": {},
     "output_type": "display_data"
    }
   ],
   "source": [
    "schizo"
   ]
  },
  {
   "cell_type": "code",
   "execution_count": 6,
   "metadata": {},
   "outputs": [],
   "source": [
    "schizo = schizo %>% mutate (GROUP = ifelse (GROUP == \"1\", \"NORMAL\", \"SCHIZO\" ))"
   ]
  },
  {
   "cell_type": "markdown",
   "metadata": {},
   "source": [
    "## 1. What would you assume to be the experimental hypothesis behind this study?\n",
    "# Answer:\n",
    "#### Researchers are trying to see if diagnosis of schizophrenia has any effect on parent-child relationship. \n",
    "#### Null hypo: H0: mu(normal) = mu(schizo), Alternative hypo: H1: mu(normal) != mu(schizo)"
   ]
  },
  {
   "cell_type": "markdown",
   "metadata": {},
   "source": [
    "## 2. What would you conclude with respect to that hypothesis?"
   ]
  },
  {
   "cell_type": "code",
   "execution_count": 8,
   "metadata": {},
   "outputs": [
    {
     "data": {
      "text/html": [
       "<table class=\"dataframe\">\n",
       "<caption>A tibble: 2 × 14</caption>\n",
       "<thead>\n",
       "\t<tr><th scope=col>GROUP</th><th scope=col>variable</th><th scope=col>n</th><th scope=col>min</th><th scope=col>max</th><th scope=col>median</th><th scope=col>q1</th><th scope=col>q3</th><th scope=col>iqr</th><th scope=col>mad</th><th scope=col>mean</th><th scope=col>sd</th><th scope=col>se</th><th scope=col>ci</th></tr>\n",
       "\t<tr><th scope=col>&lt;chr&gt;</th><th scope=col>&lt;fct&gt;</th><th scope=col>&lt;dbl&gt;</th><th scope=col>&lt;dbl&gt;</th><th scope=col>&lt;dbl&gt;</th><th scope=col>&lt;dbl&gt;</th><th scope=col>&lt;dbl&gt;</th><th scope=col>&lt;dbl&gt;</th><th scope=col>&lt;dbl&gt;</th><th scope=col>&lt;dbl&gt;</th><th scope=col>&lt;dbl&gt;</th><th scope=col>&lt;dbl&gt;</th><th scope=col>&lt;dbl&gt;</th><th scope=col>&lt;dbl&gt;</th></tr>\n",
       "</thead>\n",
       "<tbody>\n",
       "\t<tr><td>NORMAL</td><td>NUMBER</td><td>20</td><td>1</td><td>8</td><td>3.5</td><td>2</td><td>4</td><td>2</td><td>1.483</td><td>3.55</td><td>1.877</td><td>0.420</td><td>0.879</td></tr>\n",
       "\t<tr><td>SCHIZO</td><td>NUMBER</td><td>20</td><td>0</td><td>7</td><td>2.0</td><td>1</td><td>3</td><td>2</td><td>1.483</td><td>2.10</td><td>1.553</td><td>0.347</td><td>0.727</td></tr>\n",
       "</tbody>\n",
       "</table>\n"
      ],
      "text/latex": [
       "A tibble: 2 × 14\n",
       "\\begin{tabular}{llllllllllllll}\n",
       " GROUP & variable & n & min & max & median & q1 & q3 & iqr & mad & mean & sd & se & ci\\\\\n",
       " <chr> & <fct> & <dbl> & <dbl> & <dbl> & <dbl> & <dbl> & <dbl> & <dbl> & <dbl> & <dbl> & <dbl> & <dbl> & <dbl>\\\\\n",
       "\\hline\n",
       "\t NORMAL & NUMBER & 20 & 1 & 8 & 3.5 & 2 & 4 & 2 & 1.483 & 3.55 & 1.877 & 0.420 & 0.879\\\\\n",
       "\t SCHIZO & NUMBER & 20 & 0 & 7 & 2.0 & 1 & 3 & 2 & 1.483 & 2.10 & 1.553 & 0.347 & 0.727\\\\\n",
       "\\end{tabular}\n"
      ],
      "text/markdown": [
       "\n",
       "A tibble: 2 × 14\n",
       "\n",
       "| GROUP &lt;chr&gt; | variable &lt;fct&gt; | n &lt;dbl&gt; | min &lt;dbl&gt; | max &lt;dbl&gt; | median &lt;dbl&gt; | q1 &lt;dbl&gt; | q3 &lt;dbl&gt; | iqr &lt;dbl&gt; | mad &lt;dbl&gt; | mean &lt;dbl&gt; | sd &lt;dbl&gt; | se &lt;dbl&gt; | ci &lt;dbl&gt; |\n",
       "|---|---|---|---|---|---|---|---|---|---|---|---|---|---|\n",
       "| NORMAL | NUMBER | 20 | 1 | 8 | 3.5 | 2 | 4 | 2 | 1.483 | 3.55 | 1.877 | 0.420 | 0.879 |\n",
       "| SCHIZO | NUMBER | 20 | 0 | 7 | 2.0 | 1 | 3 | 2 | 1.483 | 2.10 | 1.553 | 0.347 | 0.727 |\n",
       "\n"
      ],
      "text/plain": [
       "  GROUP  variable n  min max median q1 q3 iqr mad   mean sd    se    ci   \n",
       "1 NORMAL NUMBER   20 1   8   3.5    2  4  2   1.483 3.55 1.877 0.420 0.879\n",
       "2 SCHIZO NUMBER   20 0   7   2.0    1  3  2   1.483 2.10 1.553 0.347 0.727"
      ]
     },
     "metadata": {},
     "output_type": "display_data"
    }
   ],
   "source": [
    "schizo %>% group_by(GROUP) %>% get_summary_stats(NUMBER)"
   ]
  },
  {
   "cell_type": "code",
   "execution_count": 9,
   "metadata": {},
   "outputs": [
    {
     "data": {
      "image/png": "[encoded data removed]",
      "text/plain": [
       "plot without title"
      ]
     },
     "metadata": {
      "image/png": {
       "height": 420,
       "width": 420
      }
     },
     "output_type": "display_data"
    }
   ],
   "source": [
    "ggboxplot(data = schizo, x = \"GROUP\", y = \"NUMBER\")"
   ]
  },
  {
   "cell_type": "code",
   "execution_count": 153,
   "metadata": {},
   "outputs": [
    {
     "data": {
      "image/png": "[encoded data removed]",
      "text/plain": [
       "plot without title"
      ]
     },
     "metadata": {
      "image/png": {
       "height": 420,
       "width": 420
      }
     },
     "output_type": "display_data"
    }
   ],
   "source": [
    "ggqqplot(schizo, \"NUMBER\", facet.by = \"GROUP\")"
   ]
  },
  {
   "cell_type": "code",
   "execution_count": 10,
   "metadata": {},
   "outputs": [
    {
     "data": {
      "text/html": [
       "<table class=\"dataframe\">\n",
       "<caption>A tibble: 2 × 4</caption>\n",
       "<thead>\n",
       "\t<tr><th scope=col>GROUP</th><th scope=col>variable</th><th scope=col>statistic</th><th scope=col>p</th></tr>\n",
       "\t<tr><th scope=col>&lt;chr&gt;</th><th scope=col>&lt;chr&gt;</th><th scope=col>&lt;dbl&gt;</th><th scope=col>&lt;dbl&gt;</th></tr>\n",
       "</thead>\n",
       "<tbody>\n",
       "\t<tr><td>NORMAL</td><td>NUMBER</td><td>0.9245045</td><td>0.121003170</td></tr>\n",
       "\t<tr><td>SCHIZO</td><td>NUMBER</td><td>0.8486413</td><td>0.005058476</td></tr>\n",
       "</tbody>\n",
       "</table>\n"
      ],
      "text/latex": [
       "A tibble: 2 × 4\n",
       "\\begin{tabular}{llll}\n",
       " GROUP & variable & statistic & p\\\\\n",
       " <chr> & <chr> & <dbl> & <dbl>\\\\\n",
       "\\hline\n",
       "\t NORMAL & NUMBER & 0.9245045 & 0.121003170\\\\\n",
       "\t SCHIZO & NUMBER & 0.8486413 & 0.005058476\\\\\n",
       "\\end{tabular}\n"
      ],
      "text/markdown": [
       "\n",
       "A tibble: 2 × 4\n",
       "\n",
       "| GROUP &lt;chr&gt; | variable &lt;chr&gt; | statistic &lt;dbl&gt; | p &lt;dbl&gt; |\n",
       "|---|---|---|---|\n",
       "| NORMAL | NUMBER | 0.9245045 | 0.121003170 |\n",
       "| SCHIZO | NUMBER | 0.8486413 | 0.005058476 |\n",
       "\n"
      ],
      "text/plain": [
       "  GROUP  variable statistic p          \n",
       "1 NORMAL NUMBER   0.9245045 0.121003170\n",
       "2 SCHIZO NUMBER   0.8486413 0.005058476"
      ]
     },
     "metadata": {},
     "output_type": "display_data"
    }
   ],
   "source": [
    "schizo %>% group_by(GROUP) %>% shapiro_test(NUMBER)"
   ]
  },
  {
   "cell_type": "code",
   "execution_count": 35,
   "metadata": {},
   "outputs": [
    {
     "name": "stderr",
     "output_type": "stream",
     "text": [
      "Warning message in leveneTest.default(y = y, group = group, ...):\n",
      "\"group coerced to factor.\"\n"
     ]
    },
    {
     "data": {
      "text/html": [
       "<table class=\"dataframe\">\n",
       "<caption>A tibble: 1 × 4</caption>\n",
       "<thead>\n",
       "\t<tr><th scope=col>df1</th><th scope=col>df2</th><th scope=col>statistic</th><th scope=col>p</th></tr>\n",
       "\t<tr><th scope=col>&lt;int&gt;</th><th scope=col>&lt;int&gt;</th><th scope=col>&lt;dbl&gt;</th><th scope=col>&lt;dbl&gt;</th></tr>\n",
       "</thead>\n",
       "<tbody>\n",
       "\t<tr><td>1</td><td>38</td><td>1.510304</td><td>0.2266489</td></tr>\n",
       "</tbody>\n",
       "</table>\n"
      ],
      "text/latex": [
       "A tibble: 1 × 4\n",
       "\\begin{tabular}{llll}\n",
       " df1 & df2 & statistic & p\\\\\n",
       " <int> & <int> & <dbl> & <dbl>\\\\\n",
       "\\hline\n",
       "\t 1 & 38 & 1.510304 & 0.2266489\\\\\n",
       "\\end{tabular}\n"
      ],
      "text/markdown": [
       "\n",
       "A tibble: 1 × 4\n",
       "\n",
       "| df1 &lt;int&gt; | df2 &lt;int&gt; | statistic &lt;dbl&gt; | p &lt;dbl&gt; |\n",
       "|---|---|---|---|\n",
       "| 1 | 38 | 1.510304 | 0.2266489 |\n",
       "\n"
      ],
      "text/plain": [
       "  df1 df2 statistic p        \n",
       "1 1   38  1.510304  0.2266489"
      ]
     },
     "metadata": {},
     "output_type": "display_data"
    }
   ],
   "source": [
    "schizo %>% levene_test(NUMBER ~ GROUP)"
   ]
  },
  {
   "cell_type": "markdown",
   "metadata": {},
   "source": [
    "#### I tried deleting the outlier data in schizo group, since schizo group is the one that is not normally distributed according to shapiro test, by deleting it the data becomes normal, but oddly, data deletion destroys homeogenity of variances as the result of levene test indicates, so no matter what we do, we have to use non parametric hypo tests."
   ]
  },
  {
   "cell_type": "code",
   "execution_count": 82,
   "metadata": {},
   "outputs": [
    {
     "data": {
      "text/html": [
       "<table class=\"dataframe\">\n",
       "<caption>A rstatix_test: 1 × 7</caption>\n",
       "<thead>\n",
       "\t<tr><th></th><th scope=col>.y.</th><th scope=col>group1</th><th scope=col>group2</th><th scope=col>n1</th><th scope=col>n2</th><th scope=col>statistic</th><th scope=col>p</th></tr>\n",
       "\t<tr><th></th><th scope=col>&lt;chr&gt;</th><th scope=col>&lt;chr&gt;</th><th scope=col>&lt;chr&gt;</th><th scope=col>&lt;int&gt;</th><th scope=col>&lt;int&gt;</th><th scope=col>&lt;dbl&gt;</th><th scope=col>&lt;dbl&gt;</th></tr>\n",
       "</thead>\n",
       "<tbody>\n",
       "\t<tr><th scope=row>1</th><td>NUMBER</td><td>NORMAL</td><td>SCHIZO</td><td>20</td><td>20</td><td>297</td><td>0.00782</td></tr>\n",
       "</tbody>\n",
       "</table>\n"
      ],
      "text/latex": [
       "A rstatix\\_test: 1 × 7\n",
       "\\begin{tabular}{r|lllllll}\n",
       "  & .y. & group1 & group2 & n1 & n2 & statistic & p\\\\\n",
       "  & <chr> & <chr> & <chr> & <int> & <int> & <dbl> & <dbl>\\\\\n",
       "\\hline\n",
       "\t1 & NUMBER & NORMAL & SCHIZO & 20 & 20 & 297 & 0.00782\\\\\n",
       "\\end{tabular}\n"
      ],
      "text/markdown": [
       "\n",
       "A rstatix_test: 1 × 7\n",
       "\n",
       "| <!--/--> | .y. &lt;chr&gt; | group1 &lt;chr&gt; | group2 &lt;chr&gt; | n1 &lt;int&gt; | n2 &lt;int&gt; | statistic &lt;dbl&gt; | p &lt;dbl&gt; |\n",
       "|---|---|---|---|---|---|---|---|\n",
       "| 1 | NUMBER | NORMAL | SCHIZO | 20 | 20 | 297 | 0.00782 |\n",
       "\n"
      ],
      "text/plain": [
       "  .y.    group1 group2 n1 n2 statistic p      \n",
       "1 NUMBER NORMAL SCHIZO 20 20 297       0.00782"
      ]
     },
     "metadata": {},
     "output_type": "display_data"
    }
   ],
   "source": [
    "schizo %>% wilcox_test(NUMBER~GROUP)"
   ]
  },
  {
   "cell_type": "code",
   "execution_count": 83,
   "metadata": {},
   "outputs": [
    {
     "data": {
      "text/html": [
       "<table class=\"dataframe\">\n",
       "<caption>A rstatix_test: 1 × 7</caption>\n",
       "<thead>\n",
       "\t<tr><th></th><th scope=col>.y.</th><th scope=col>group1</th><th scope=col>group2</th><th scope=col>effsize</th><th scope=col>n1</th><th scope=col>n2</th><th scope=col>magnitude</th></tr>\n",
       "\t<tr><th></th><th scope=col>&lt;chr&gt;</th><th scope=col>&lt;chr&gt;</th><th scope=col>&lt;chr&gt;</th><th scope=col>&lt;dbl&gt;</th><th scope=col>&lt;int&gt;</th><th scope=col>&lt;int&gt;</th><th scope=col>&lt;ord&gt;</th></tr>\n",
       "</thead>\n",
       "<tbody>\n",
       "\t<tr><th scope=row>1</th><td>NUMBER</td><td>NORMAL</td><td>SCHIZO</td><td>0.4227547</td><td>20</td><td>20</td><td>moderate</td></tr>\n",
       "</tbody>\n",
       "</table>\n"
      ],
      "text/latex": [
       "A rstatix\\_test: 1 × 7\n",
       "\\begin{tabular}{r|lllllll}\n",
       "  & .y. & group1 & group2 & effsize & n1 & n2 & magnitude\\\\\n",
       "  & <chr> & <chr> & <chr> & <dbl> & <int> & <int> & <ord>\\\\\n",
       "\\hline\n",
       "\t1 & NUMBER & NORMAL & SCHIZO & 0.4227547 & 20 & 20 & moderate\\\\\n",
       "\\end{tabular}\n"
      ],
      "text/markdown": [
       "\n",
       "A rstatix_test: 1 × 7\n",
       "\n",
       "| <!--/--> | .y. &lt;chr&gt; | group1 &lt;chr&gt; | group2 &lt;chr&gt; | effsize &lt;dbl&gt; | n1 &lt;int&gt; | n2 &lt;int&gt; | magnitude &lt;ord&gt; |\n",
       "|---|---|---|---|---|---|---|---|\n",
       "| 1 | NUMBER | NORMAL | SCHIZO | 0.4227547 | 20 | 20 | moderate |\n",
       "\n"
      ],
      "text/plain": [
       "  .y.    group1 group2 effsize   n1 n2 magnitude\n",
       "1 NUMBER NORMAL SCHIZO 0.4227547 20 20 moderate "
      ]
     },
     "metadata": {},
     "output_type": "display_data"
    }
   ],
   "source": [
    "schizo %>% wilcox_effsize(NUMBER~GROUP)"
   ]
  },
  {
   "cell_type": "markdown",
   "metadata": {},
   "source": [
    "# Answer:\n",
    "#### Since shapiro test result shows that the data is not normally distributed, I used wilcoxon test to examine the hypothesis, p value is too small and so null hypothesis is not true, and there might be significant relationship between onset of Schizophrenia and parent-child relationship. \n",
    "#### also the effect size is moderate so researchers should be careful presenting the results."
   ]
  },
  {
   "cell_type": "markdown",
   "metadata": {},
   "source": [
    "## 3. Why might it be smart to look at the variances of the two groups?"
   ]
  },
  {
   "cell_type": "code",
   "execution_count": 18,
   "metadata": {},
   "outputs": [
    {
     "name": "stderr",
     "output_type": "stream",
     "text": [
      "Warning message in leveneTest.default(y = y, group = group, ...):\n",
      "\"group coerced to factor.\"\n"
     ]
    },
    {
     "data": {
      "text/html": [
       "<table class=\"dataframe\">\n",
       "<caption>A tibble: 1 × 4</caption>\n",
       "<thead>\n",
       "\t<tr><th scope=col>df1</th><th scope=col>df2</th><th scope=col>statistic</th><th scope=col>p</th></tr>\n",
       "\t<tr><th scope=col>&lt;int&gt;</th><th scope=col>&lt;int&gt;</th><th scope=col>&lt;dbl&gt;</th><th scope=col>&lt;dbl&gt;</th></tr>\n",
       "</thead>\n",
       "<tbody>\n",
       "\t<tr><td>1</td><td>38</td><td>1.510304</td><td>0.2266489</td></tr>\n",
       "</tbody>\n",
       "</table>\n"
      ],
      "text/latex": [
       "A tibble: 1 × 4\n",
       "\\begin{tabular}{llll}\n",
       " df1 & df2 & statistic & p\\\\\n",
       " <int> & <int> & <dbl> & <dbl>\\\\\n",
       "\\hline\n",
       "\t 1 & 38 & 1.510304 & 0.2266489\\\\\n",
       "\\end{tabular}\n"
      ],
      "text/markdown": [
       "\n",
       "A tibble: 1 × 4\n",
       "\n",
       "| df1 &lt;int&gt; | df2 &lt;int&gt; | statistic &lt;dbl&gt; | p &lt;dbl&gt; |\n",
       "|---|---|---|---|\n",
       "| 1 | 38 | 1.510304 | 0.2266489 |\n",
       "\n"
      ],
      "text/plain": [
       "  df1 df2 statistic p        \n",
       "1 1   38  1.510304  0.2266489"
      ]
     },
     "metadata": {},
     "output_type": "display_data"
    }
   ],
   "source": [
    "schizo %>% levene_test(NUMBER ~ GROUP)"
   ]
  },
  {
   "cell_type": "markdown",
   "metadata": {},
   "source": [
    "## Answer:\n",
    "#### Homogeneity of variances is one of the presuppositions of parametric hypo tests. don't know much more, I'll return for more research if time lets."
   ]
  },
  {
   "cell_type": "markdown",
   "metadata": {},
   "source": [
    "## 4. A significant difference might lead someone to suggest that poor parent–child relationships are the cause of schizophrenia. Why might this be a troublesome conclusion?"
   ]
  },
  {
   "cell_type": "markdown",
   "metadata": {},
   "source": [
    "# Answer:\n",
    "#### there might be many intermidiating variables that have effect on the hypothesis researchers are looking for, like gender, societal class etc., which non is controlled, and then the N value migh be too small, and even more, the effect size measured is moderate and non-parametric, its not much to look at statistically speaking."
   ]
  },
  {
   "cell_type": "markdown",
   "metadata": {},
   "source": [
    "## 5. Calculate the 95% confidence limits on mean1-mean2 for the data. Calculate Cohen’s d^."
   ]
  },
  {
   "cell_type": "code",
   "execution_count": 20,
   "metadata": {},
   "outputs": [
    {
     "data": {
      "text/html": [
       "<style>\n",
       ".list-inline {list-style: none; margin:0; padding: 0}\n",
       ".list-inline>li {display: inline-block}\n",
       ".list-inline>li:not(:last-child)::after {content: \"\\00b7\"; padding: 0 .5ex}\n",
       "</style>\n",
       "<ol class=list-inline><li>0.34601374448856</li><li>2.55398625551144</li></ol>\n"
      ],
      "text/latex": [
       "\\begin{enumerate*}\n",
       "\\item 0.34601374448856\n",
       "\\item 2.55398625551144\n",
       "\\end{enumerate*}\n"
      ],
      "text/markdown": [
       "1. 0.34601374448856\n",
       "2. 2.55398625551144\n",
       "\n",
       "\n"
      ],
      "text/plain": [
       "[1] 0.3460137 2.5539863\n",
       "attr(,\"conf.level\")\n",
       "[1] 0.95"
      ]
     },
     "metadata": {},
     "output_type": "display_data"
    }
   ],
   "source": [
    "t_test_result = t.test(NUMBER ~ GROUP, data = schizo)\n",
    "t_test_result$conf.int"
   ]
  },
  {
   "cell_type": "code",
   "execution_count": 86,
   "metadata": {},
   "outputs": [
    {
     "data": {
      "text/html": [
       "<table class=\"dataframe\">\n",
       "<caption>A rstatix_test: 1 × 7</caption>\n",
       "<thead>\n",
       "\t<tr><th></th><th scope=col>.y.</th><th scope=col>group1</th><th scope=col>group2</th><th scope=col>effsize</th><th scope=col>n1</th><th scope=col>n2</th><th scope=col>magnitude</th></tr>\n",
       "\t<tr><th></th><th scope=col>&lt;chr&gt;</th><th scope=col>&lt;chr&gt;</th><th scope=col>&lt;chr&gt;</th><th scope=col>&lt;dbl&gt;</th><th scope=col>&lt;int&gt;</th><th scope=col>&lt;int&gt;</th><th scope=col>&lt;ord&gt;</th></tr>\n",
       "</thead>\n",
       "<tbody>\n",
       "\t<tr><th scope=row>1</th><td>NUMBER</td><td>NORMAL</td><td>SCHIZO</td><td>0.8417857</td><td>20</td><td>20</td><td>large</td></tr>\n",
       "</tbody>\n",
       "</table>\n"
      ],
      "text/latex": [
       "A rstatix\\_test: 1 × 7\n",
       "\\begin{tabular}{r|lllllll}\n",
       "  & .y. & group1 & group2 & effsize & n1 & n2 & magnitude\\\\\n",
       "  & <chr> & <chr> & <chr> & <dbl> & <int> & <int> & <ord>\\\\\n",
       "\\hline\n",
       "\t1 & NUMBER & NORMAL & SCHIZO & 0.8417857 & 20 & 20 & large\\\\\n",
       "\\end{tabular}\n"
      ],
      "text/markdown": [
       "\n",
       "A rstatix_test: 1 × 7\n",
       "\n",
       "| <!--/--> | .y. &lt;chr&gt; | group1 &lt;chr&gt; | group2 &lt;chr&gt; | effsize &lt;dbl&gt; | n1 &lt;int&gt; | n2 &lt;int&gt; | magnitude &lt;ord&gt; |\n",
       "|---|---|---|---|---|---|---|---|\n",
       "| 1 | NUMBER | NORMAL | SCHIZO | 0.8417857 | 20 | 20 | large |\n",
       "\n"
      ],
      "text/plain": [
       "  .y.    group1 group2 effsize   n1 n2 magnitude\n",
       "1 NUMBER NORMAL SCHIZO 0.8417857 20 20 large    "
      ]
     },
     "metadata": {},
     "output_type": "display_data"
    }
   ],
   "source": [
    "schizo %>% cohens_d(NUMBER~GROUP)"
   ]
  },
  {
   "cell_type": "markdown",
   "metadata": {},
   "source": [
    "# Part C. \n",
    "- Brescoll and Uhlmann (2008) investigated the hypothesis that when an observer views a videotape of a male expressing anger as opposed to sadness, the male in the anger condition is accorded higher status than the male in the sadness condition. For 19 males the mean and standard deviation (in parentheses) of the anger condition were 6.47 (2.25). For the 29 men in the sad condition the mean and standard deviation were 4.05 (1.61). Is this difference significant?\n",
    "- They found the reverse effect for females. They thought that perhaps this latter result was related to the way anger is judged in females compared to males. When they compared judgments of a video of a group of 41 females who expressed anger without an attribution for the source of anger, women’s perceived status had a mean and standard deviation of 3.40 (1.44). When the women on the video gave an external attribution for their anger (an employee stole something), their perceived status had a mean and standard deviation of 5.02 (1.66) with a standard deviation of 1.66.\n",
    "  - Is this difference significant?\n",
    "  - What is the effect size?\n",
    "  - The corresponding means and standard deviations (in parentheses) for males were 5.42 (1.63) in the no-attribution condition and 4.14 (2.46) in the external attribution condition. Do we have evidence of a double standard for males and females?"
   ]
  },
  {
   "cell_type": "markdown",
   "metadata": {},
   "source": [
    "# METHOD A: REPLICATING DATA"
   ]
  },
  {
   "cell_type": "markdown",
   "metadata": {},
   "source": [
    "# Part A"
   ]
  },
  {
   "cell_type": "code",
   "execution_count": 6,
   "metadata": {},
   "outputs": [],
   "source": [
    "library(rstatix)\n",
    "library(ggpubr)"
   ]
  },
  {
   "cell_type": "code",
   "execution_count": 1,
   "metadata": {},
   "outputs": [],
   "source": [
    "moody_means = c(6.47, 4.05)\n",
    "moody_sds = c(2.25, 1.61)\n",
    "moody_ns = c(19, 29)\n",
    "\n",
    "\n",
    "set.seed(12)\n",
    " \n",
    "simulated_data = lapply(seq_along(moody_means), function(i) {\n",
    "  rnorm(moody_ns[i], mean = moody_means[i], sd = moody_sds[i])\n",
    "})\n",
    "\n",
    "\n",
    "mood_status = data.frame(\n",
    "  Mood = rep(seq_along(moody_means), times = sapply(simulated_data, length)),\n",
    "  Status = unlist(simulated_data)\n",
    ")"
   ]
  },
  {
   "cell_type": "code",
   "execution_count": 8,
   "metadata": {
    "scrolled": true
   },
   "outputs": [
    {
     "data": {
      "text/html": [
       "<table class=\"dataframe\">\n",
       "<caption>A data.frame: 48 × 2</caption>\n",
       "<thead>\n",
       "\t<tr><th scope=col>Mood</th><th scope=col>Status</th></tr>\n",
       "\t<tr><th scope=col>&lt;chr&gt;</th><th scope=col>&lt;dbl&gt;</th></tr>\n",
       "</thead>\n",
       "<tbody>\n",
       "\t<tr><td>Angry</td><td> 3.138723</td></tr>\n",
       "\t<tr><td>Angry</td><td>10.018631</td></tr>\n",
       "\t<tr><td>Angry</td><td> 4.317325</td></tr>\n",
       "\t<tr><td>Angry</td><td> 4.399988</td></tr>\n",
       "\t<tr><td>Angry</td><td> 1.975305</td></tr>\n",
       "\t<tr><td>Angry</td><td> 5.857334</td></tr>\n",
       "\t<tr><td>Angry</td><td> 5.760465</td></tr>\n",
       "\t<tr><td>Angry</td><td> 5.056426</td></tr>\n",
       "\t<tr><td>Angry</td><td> 6.230456</td></tr>\n",
       "\t<tr><td>Angry</td><td> 7.433033</td></tr>\n",
       "\t<tr><td>Angry</td><td> 4.720131</td></tr>\n",
       "\t<tr><td>Angry</td><td> 3.558765</td></tr>\n",
       "\t<tr><td>Angry</td><td> 4.715975</td></tr>\n",
       "\t<tr><td>Angry</td><td> 6.496891</td></tr>\n",
       "\t<tr><td>Angry</td><td> 6.127063</td></tr>\n",
       "\t<tr><td>Angry</td><td> 4.887205</td></tr>\n",
       "\t<tr><td>Angry</td><td> 9.144978</td></tr>\n",
       "\t<tr><td>Angry</td><td> 7.236153</td></tr>\n",
       "\t<tr><td>Angry</td><td> 7.610678</td></tr>\n",
       "\t<tr><td>Sad  </td><td> 3.577779</td></tr>\n",
       "\t<tr><td>Sad  </td><td> 4.410063</td></tr>\n",
       "\t<tr><td>Sad  </td><td> 7.281594</td></tr>\n",
       "\t<tr><td>Sad  </td><td> 5.679286</td></tr>\n",
       "\t<tr><td>Sad  </td><td> 3.563041</td></tr>\n",
       "\t<tr><td>Sad  </td><td> 2.399356</td></tr>\n",
       "\t<tr><td>Sad  </td><td> 3.619510</td></tr>\n",
       "\t<tr><td>Sad  </td><td> 3.729440</td></tr>\n",
       "\t<tr><td>Sad  </td><td> 4.261107</td></tr>\n",
       "\t<tr><td>Sad  </td><td> 4.284738</td></tr>\n",
       "\t<tr><td>Sad  </td><td> 4.632924</td></tr>\n",
       "\t<tr><td>Sad  </td><td> 5.135110</td></tr>\n",
       "\t<tr><td>Sad  </td><td> 7.385978</td></tr>\n",
       "\t<tr><td>Sad  </td><td> 3.178944</td></tr>\n",
       "\t<tr><td>Sad  </td><td> 2.326508</td></tr>\n",
       "\t<tr><td>Sad  </td><td> 3.450345</td></tr>\n",
       "\t<tr><td>Sad  </td><td> 3.268922</td></tr>\n",
       "\t<tr><td>Sad  </td><td> 4.492403</td></tr>\n",
       "\t<tr><td>Sad  </td><td> 3.277985</td></tr>\n",
       "\t<tr><td>Sad  </td><td> 5.334950</td></tr>\n",
       "\t<tr><td>Sad  </td><td> 2.432834</td></tr>\n",
       "\t<tr><td>Sad  </td><td> 4.219025</td></tr>\n",
       "\t<tr><td>Sad  </td><td> 2.188851</td></tr>\n",
       "\t<tr><td>Sad  </td><td> 4.980797</td></tr>\n",
       "\t<tr><td>Sad  </td><td> 1.481043</td></tr>\n",
       "\t<tr><td>Sad  </td><td> 3.553309</td></tr>\n",
       "\t<tr><td>Sad  </td><td> 4.773640</td></tr>\n",
       "\t<tr><td>Sad  </td><td> 2.476944</td></tr>\n",
       "\t<tr><td>Sad  </td><td> 4.355897</td></tr>\n",
       "</tbody>\n",
       "</table>\n"
      ],
      "text/latex": [
       "A data.frame: 48 × 2\n",
       "\\begin{tabular}{ll}\n",
       " Mood & Status\\\\\n",
       " <chr> & <dbl>\\\\\n",
       "\\hline\n",
       "\t Angry &  3.138723\\\\\n",
       "\t Angry & 10.018631\\\\\n",
       "\t Angry &  4.317325\\\\\n",
       "\t Angry &  4.399988\\\\\n",
       "\t Angry &  1.975305\\\\\n",
       "\t Angry &  5.857334\\\\\n",
       "\t Angry &  5.760465\\\\\n",
       "\t Angry &  5.056426\\\\\n",
       "\t Angry &  6.230456\\\\\n",
       "\t Angry &  7.433033\\\\\n",
       "\t Angry &  4.720131\\\\\n",
       "\t Angry &  3.558765\\\\\n",
       "\t Angry &  4.715975\\\\\n",
       "\t Angry &  6.496891\\\\\n",
       "\t Angry &  6.127063\\\\\n",
       "\t Angry &  4.887205\\\\\n",
       "\t Angry &  9.144978\\\\\n",
       "\t Angry &  7.236153\\\\\n",
       "\t Angry &  7.610678\\\\\n",
       "\t Sad   &  3.577779\\\\\n",
       "\t Sad   &  4.410063\\\\\n",
       "\t Sad   &  7.281594\\\\\n",
       "\t Sad   &  5.679286\\\\\n",
       "\t Sad   &  3.563041\\\\\n",
       "\t Sad   &  2.399356\\\\\n",
       "\t Sad   &  3.619510\\\\\n",
       "\t Sad   &  3.729440\\\\\n",
       "\t Sad   &  4.261107\\\\\n",
       "\t Sad   &  4.284738\\\\\n",
       "\t Sad   &  4.632924\\\\\n",
       "\t Sad   &  5.135110\\\\\n",
       "\t Sad   &  7.385978\\\\\n",
       "\t Sad   &  3.178944\\\\\n",
       "\t Sad   &  2.326508\\\\\n",
       "\t Sad   &  3.450345\\\\\n",
       "\t Sad   &  3.268922\\\\\n",
       "\t Sad   &  4.492403\\\\\n",
       "\t Sad   &  3.277985\\\\\n",
       "\t Sad   &  5.334950\\\\\n",
       "\t Sad   &  2.432834\\\\\n",
       "\t Sad   &  4.219025\\\\\n",
       "\t Sad   &  2.188851\\\\\n",
       "\t Sad   &  4.980797\\\\\n",
       "\t Sad   &  1.481043\\\\\n",
       "\t Sad   &  3.553309\\\\\n",
       "\t Sad   &  4.773640\\\\\n",
       "\t Sad   &  2.476944\\\\\n",
       "\t Sad   &  4.355897\\\\\n",
       "\\end{tabular}\n"
      ],
      "text/markdown": [
       "\n",
       "A data.frame: 48 × 2\n",
       "\n",
       "| Mood &lt;chr&gt; | Status &lt;dbl&gt; |\n",
       "|---|---|\n",
       "| Angry |  3.138723 |\n",
       "| Angry | 10.018631 |\n",
       "| Angry |  4.317325 |\n",
       "| Angry |  4.399988 |\n",
       "| Angry |  1.975305 |\n",
       "| Angry |  5.857334 |\n",
       "| Angry |  5.760465 |\n",
       "| Angry |  5.056426 |\n",
       "| Angry |  6.230456 |\n",
       "| Angry |  7.433033 |\n",
       "| Angry |  4.720131 |\n",
       "| Angry |  3.558765 |\n",
       "| Angry |  4.715975 |\n",
       "| Angry |  6.496891 |\n",
       "| Angry |  6.127063 |\n",
       "| Angry |  4.887205 |\n",
       "| Angry |  9.144978 |\n",
       "| Angry |  7.236153 |\n",
       "| Angry |  7.610678 |\n",
       "| Sad   |  3.577779 |\n",
       "| Sad   |  4.410063 |\n",
       "| Sad   |  7.281594 |\n",
       "| Sad   |  5.679286 |\n",
       "| Sad   |  3.563041 |\n",
       "| Sad   |  2.399356 |\n",
       "| Sad   |  3.619510 |\n",
       "| Sad   |  3.729440 |\n",
       "| Sad   |  4.261107 |\n",
       "| Sad   |  4.284738 |\n",
       "| Sad   |  4.632924 |\n",
       "| Sad   |  5.135110 |\n",
       "| Sad   |  7.385978 |\n",
       "| Sad   |  3.178944 |\n",
       "| Sad   |  2.326508 |\n",
       "| Sad   |  3.450345 |\n",
       "| Sad   |  3.268922 |\n",
       "| Sad   |  4.492403 |\n",
       "| Sad   |  3.277985 |\n",
       "| Sad   |  5.334950 |\n",
       "| Sad   |  2.432834 |\n",
       "| Sad   |  4.219025 |\n",
       "| Sad   |  2.188851 |\n",
       "| Sad   |  4.980797 |\n",
       "| Sad   |  1.481043 |\n",
       "| Sad   |  3.553309 |\n",
       "| Sad   |  4.773640 |\n",
       "| Sad   |  2.476944 |\n",
       "| Sad   |  4.355897 |\n",
       "\n"
      ],
      "text/plain": [
       "   Mood  Status   \n",
       "1  Angry  3.138723\n",
       "2  Angry 10.018631\n",
       "3  Angry  4.317325\n",
       "4  Angry  4.399988\n",
       "5  Angry  1.975305\n",
       "6  Angry  5.857334\n",
       "7  Angry  5.760465\n",
       "8  Angry  5.056426\n",
       "9  Angry  6.230456\n",
       "10 Angry  7.433033\n",
       "11 Angry  4.720131\n",
       "12 Angry  3.558765\n",
       "13 Angry  4.715975\n",
       "14 Angry  6.496891\n",
       "15 Angry  6.127063\n",
       "16 Angry  4.887205\n",
       "17 Angry  9.144978\n",
       "18 Angry  7.236153\n",
       "19 Angry  7.610678\n",
       "20 Sad    3.577779\n",
       "21 Sad    4.410063\n",
       "22 Sad    7.281594\n",
       "23 Sad    5.679286\n",
       "24 Sad    3.563041\n",
       "25 Sad    2.399356\n",
       "26 Sad    3.619510\n",
       "27 Sad    3.729440\n",
       "28 Sad    4.261107\n",
       "29 Sad    4.284738\n",
       "30 Sad    4.632924\n",
       "31 Sad    5.135110\n",
       "32 Sad    7.385978\n",
       "33 Sad    3.178944\n",
       "34 Sad    2.326508\n",
       "35 Sad    3.450345\n",
       "36 Sad    3.268922\n",
       "37 Sad    4.492403\n",
       "38 Sad    3.277985\n",
       "39 Sad    5.334950\n",
       "40 Sad    2.432834\n",
       "41 Sad    4.219025\n",
       "42 Sad    2.188851\n",
       "43 Sad    4.980797\n",
       "44 Sad    1.481043\n",
       "45 Sad    3.553309\n",
       "46 Sad    4.773640\n",
       "47 Sad    2.476944\n",
       "48 Sad    4.355897"
      ]
     },
     "metadata": {},
     "output_type": "display_data"
    }
   ],
   "source": [
    "mood_status"
   ]
  },
  {
   "cell_type": "code",
   "execution_count": 7,
   "metadata": {},
   "outputs": [],
   "source": [
    "mood_status = mood_status %>% mutate (Mood = ifelse( Mood == \"1\", \"Angry\", \"Sad\"))"
   ]
  },
  {
   "cell_type": "code",
   "execution_count": 9,
   "metadata": {},
   "outputs": [
    {
     "data": {
      "text/html": [
       "<table class=\"dataframe\">\n",
       "<caption>A tibble: 2 × 14</caption>\n",
       "<thead>\n",
       "\t<tr><th scope=col>Mood</th><th scope=col>variable</th><th scope=col>n</th><th scope=col>min</th><th scope=col>max</th><th scope=col>median</th><th scope=col>q1</th><th scope=col>q3</th><th scope=col>iqr</th><th scope=col>mad</th><th scope=col>mean</th><th scope=col>sd</th><th scope=col>se</th><th scope=col>ci</th></tr>\n",
       "\t<tr><th scope=col>&lt;chr&gt;</th><th scope=col>&lt;fct&gt;</th><th scope=col>&lt;dbl&gt;</th><th scope=col>&lt;dbl&gt;</th><th scope=col>&lt;dbl&gt;</th><th scope=col>&lt;dbl&gt;</th><th scope=col>&lt;dbl&gt;</th><th scope=col>&lt;dbl&gt;</th><th scope=col>&lt;dbl&gt;</th><th scope=col>&lt;dbl&gt;</th><th scope=col>&lt;dbl&gt;</th><th scope=col>&lt;dbl&gt;</th><th scope=col>&lt;dbl&gt;</th><th scope=col>&lt;dbl&gt;</th></tr>\n",
       "</thead>\n",
       "<tbody>\n",
       "\t<tr><td>Angry</td><td>Status</td><td>19</td><td>1.975</td><td>10.019</td><td>5.760</td><td>4.558</td><td>6.867</td><td>2.309</td><td>2.017</td><td>5.720</td><td>2.004</td><td>0.460</td><td>0.966</td></tr>\n",
       "\t<tr><td>Sad  </td><td>Status</td><td>29</td><td>1.481</td><td> 7.386</td><td>3.729</td><td>3.269</td><td>4.633</td><td>1.364</td><td>1.131</td><td>3.991</td><td>1.381</td><td>0.256</td><td>0.525</td></tr>\n",
       "</tbody>\n",
       "</table>\n"
      ],
      "text/latex": [
       "A tibble: 2 × 14\n",
       "\\begin{tabular}{llllllllllllll}\n",
       " Mood & variable & n & min & max & median & q1 & q3 & iqr & mad & mean & sd & se & ci\\\\\n",
       " <chr> & <fct> & <dbl> & <dbl> & <dbl> & <dbl> & <dbl> & <dbl> & <dbl> & <dbl> & <dbl> & <dbl> & <dbl> & <dbl>\\\\\n",
       "\\hline\n",
       "\t Angry & Status & 19 & 1.975 & 10.019 & 5.760 & 4.558 & 6.867 & 2.309 & 2.017 & 5.720 & 2.004 & 0.460 & 0.966\\\\\n",
       "\t Sad   & Status & 29 & 1.481 &  7.386 & 3.729 & 3.269 & 4.633 & 1.364 & 1.131 & 3.991 & 1.381 & 0.256 & 0.525\\\\\n",
       "\\end{tabular}\n"
      ],
      "text/markdown": [
       "\n",
       "A tibble: 2 × 14\n",
       "\n",
       "| Mood &lt;chr&gt; | variable &lt;fct&gt; | n &lt;dbl&gt; | min &lt;dbl&gt; | max &lt;dbl&gt; | median &lt;dbl&gt; | q1 &lt;dbl&gt; | q3 &lt;dbl&gt; | iqr &lt;dbl&gt; | mad &lt;dbl&gt; | mean &lt;dbl&gt; | sd &lt;dbl&gt; | se &lt;dbl&gt; | ci &lt;dbl&gt; |\n",
       "|---|---|---|---|---|---|---|---|---|---|---|---|---|---|\n",
       "| Angry | Status | 19 | 1.975 | 10.019 | 5.760 | 4.558 | 6.867 | 2.309 | 2.017 | 5.720 | 2.004 | 0.460 | 0.966 |\n",
       "| Sad   | Status | 29 | 1.481 |  7.386 | 3.729 | 3.269 | 4.633 | 1.364 | 1.131 | 3.991 | 1.381 | 0.256 | 0.525 |\n",
       "\n"
      ],
      "text/plain": [
       "  Mood  variable n  min   max    median q1    q3    iqr   mad   mean  sd   \n",
       "1 Angry Status   19 1.975 10.019 5.760  4.558 6.867 2.309 2.017 5.720 2.004\n",
       "2 Sad   Status   29 1.481  7.386 3.729  3.269 4.633 1.364 1.131 3.991 1.381\n",
       "  se    ci   \n",
       "1 0.460 0.966\n",
       "2 0.256 0.525"
      ]
     },
     "metadata": {},
     "output_type": "display_data"
    }
   ],
   "source": [
    "mood_status %>% group_by(Mood) %>% get_summary_stats(Status)"
   ]
  },
  {
   "cell_type": "code",
   "execution_count": 11,
   "metadata": {},
   "outputs": [
    {
     "data": {
      "image/png": "[encoded data removed]",
      "text/plain": [
       "plot without title"
      ]
     },
     "metadata": {
      "image/png": {
       "height": 420,
       "width": 420
      }
     },
     "output_type": "display_data"
    }
   ],
   "source": [
    "ggqqplot(mood_status, \"Status\", facet.by = \"Mood\")"
   ]
  },
  {
   "cell_type": "code",
   "execution_count": 10,
   "metadata": {},
   "outputs": [
    {
     "data": {
      "text/html": [
       "<table class=\"dataframe\">\n",
       "<caption>A tibble: 2 × 4</caption>\n",
       "<thead>\n",
       "\t<tr><th scope=col>Mood</th><th scope=col>variable</th><th scope=col>statistic</th><th scope=col>p</th></tr>\n",
       "\t<tr><th scope=col>&lt;chr&gt;</th><th scope=col>&lt;chr&gt;</th><th scope=col>&lt;dbl&gt;</th><th scope=col>&lt;dbl&gt;</th></tr>\n",
       "</thead>\n",
       "<tbody>\n",
       "\t<tr><td>Angry</td><td>Status</td><td>0.9810650</td><td>0.9539712</td></tr>\n",
       "\t<tr><td>Sad  </td><td>Status</td><td>0.9522238</td><td>0.2089834</td></tr>\n",
       "</tbody>\n",
       "</table>\n"
      ],
      "text/latex": [
       "A tibble: 2 × 4\n",
       "\\begin{tabular}{llll}\n",
       " Mood & variable & statistic & p\\\\\n",
       " <chr> & <chr> & <dbl> & <dbl>\\\\\n",
       "\\hline\n",
       "\t Angry & Status & 0.9810650 & 0.9539712\\\\\n",
       "\t Sad   & Status & 0.9522238 & 0.2089834\\\\\n",
       "\\end{tabular}\n"
      ],
      "text/markdown": [
       "\n",
       "A tibble: 2 × 4\n",
       "\n",
       "| Mood &lt;chr&gt; | variable &lt;chr&gt; | statistic &lt;dbl&gt; | p &lt;dbl&gt; |\n",
       "|---|---|---|---|\n",
       "| Angry | Status | 0.9810650 | 0.9539712 |\n",
       "| Sad   | Status | 0.9522238 | 0.2089834 |\n",
       "\n"
      ],
      "text/plain": [
       "  Mood  variable statistic p        \n",
       "1 Angry Status   0.9810650 0.9539712\n",
       "2 Sad   Status   0.9522238 0.2089834"
      ]
     },
     "metadata": {},
     "output_type": "display_data"
    }
   ],
   "source": [
    "mood_status %>% group_by(Mood) %>% shapiro_test(Status)"
   ]
  },
  {
   "cell_type": "code",
   "execution_count": 126,
   "metadata": {},
   "outputs": [
    {
     "name": "stderr",
     "output_type": "stream",
     "text": [
      "Warning message in leveneTest.default(y = y, group = group, ...):\n",
      "\"group coerced to factor.\"\n"
     ]
    },
    {
     "data": {
      "text/html": [
       "<table class=\"dataframe\">\n",
       "<caption>A tibble: 1 × 4</caption>\n",
       "<thead>\n",
       "\t<tr><th scope=col>df1</th><th scope=col>df2</th><th scope=col>statistic</th><th scope=col>p</th></tr>\n",
       "\t<tr><th scope=col>&lt;int&gt;</th><th scope=col>&lt;int&gt;</th><th scope=col>&lt;dbl&gt;</th><th scope=col>&lt;dbl&gt;</th></tr>\n",
       "</thead>\n",
       "<tbody>\n",
       "\t<tr><td>1</td><td>46</td><td>2.594546</td><td>0.1140738</td></tr>\n",
       "</tbody>\n",
       "</table>\n"
      ],
      "text/latex": [
       "A tibble: 1 × 4\n",
       "\\begin{tabular}{llll}\n",
       " df1 & df2 & statistic & p\\\\\n",
       " <int> & <int> & <dbl> & <dbl>\\\\\n",
       "\\hline\n",
       "\t 1 & 46 & 2.594546 & 0.1140738\\\\\n",
       "\\end{tabular}\n"
      ],
      "text/markdown": [
       "\n",
       "A tibble: 1 × 4\n",
       "\n",
       "| df1 &lt;int&gt; | df2 &lt;int&gt; | statistic &lt;dbl&gt; | p &lt;dbl&gt; |\n",
       "|---|---|---|---|\n",
       "| 1 | 46 | 2.594546 | 0.1140738 |\n",
       "\n"
      ],
      "text/plain": [
       "  df1 df2 statistic p        \n",
       "1 1   46  2.594546  0.1140738"
      ]
     },
     "metadata": {},
     "output_type": "display_data"
    }
   ],
   "source": [
    "mood_status %>% levene_test(Status~Mood)"
   ]
  },
  {
   "cell_type": "code",
   "execution_count": 13,
   "metadata": {},
   "outputs": [
    {
     "data": {
      "text/html": [
       "<table class=\"dataframe\">\n",
       "<caption>A rstatix_test: 1 × 9</caption>\n",
       "<thead>\n",
       "\t<tr><th scope=col>.y.</th><th scope=col>group1</th><th scope=col>group2</th><th scope=col>n1</th><th scope=col>n2</th><th scope=col>statistic</th><th scope=col>df</th><th scope=col>p</th><th scope=col>p.signif</th></tr>\n",
       "\t<tr><th scope=col>&lt;chr&gt;</th><th scope=col>&lt;chr&gt;</th><th scope=col>&lt;chr&gt;</th><th scope=col>&lt;int&gt;</th><th scope=col>&lt;int&gt;</th><th scope=col>&lt;dbl&gt;</th><th scope=col>&lt;dbl&gt;</th><th scope=col>&lt;dbl&gt;</th><th scope=col>&lt;chr&gt;</th></tr>\n",
       "</thead>\n",
       "<tbody>\n",
       "\t<tr><td>Status</td><td>Angry</td><td>Sad</td><td>19</td><td>29</td><td>3.284268</td><td>29.13231</td><td>0.00266</td><td>**</td></tr>\n",
       "</tbody>\n",
       "</table>\n"
      ],
      "text/latex": [
       "A rstatix\\_test: 1 × 9\n",
       "\\begin{tabular}{lllllllll}\n",
       " .y. & group1 & group2 & n1 & n2 & statistic & df & p & p.signif\\\\\n",
       " <chr> & <chr> & <chr> & <int> & <int> & <dbl> & <dbl> & <dbl> & <chr>\\\\\n",
       "\\hline\n",
       "\t Status & Angry & Sad & 19 & 29 & 3.284268 & 29.13231 & 0.00266 & **\\\\\n",
       "\\end{tabular}\n"
      ],
      "text/markdown": [
       "\n",
       "A rstatix_test: 1 × 9\n",
       "\n",
       "| .y. &lt;chr&gt; | group1 &lt;chr&gt; | group2 &lt;chr&gt; | n1 &lt;int&gt; | n2 &lt;int&gt; | statistic &lt;dbl&gt; | df &lt;dbl&gt; | p &lt;dbl&gt; | p.signif &lt;chr&gt; |\n",
       "|---|---|---|---|---|---|---|---|---|\n",
       "| Status | Angry | Sad | 19 | 29 | 3.284268 | 29.13231 | 0.00266 | ** |\n",
       "\n"
      ],
      "text/plain": [
       "  .y.    group1 group2 n1 n2 statistic df       p       p.signif\n",
       "1 Status Angry  Sad    19 29 3.284268  29.13231 0.00266 **      "
      ]
     },
     "metadata": {},
     "output_type": "display_data"
    }
   ],
   "source": [
    "mood_status %>%  t_test(Status~Mood) %>% add_significance"
   ]
  },
  {
   "cell_type": "code",
   "execution_count": 16,
   "metadata": {},
   "outputs": [
    {
     "data": {
      "image/png": "[encoded data removed]",
      "text/plain": [
       "plot without title"
      ]
     },
     "metadata": {
      "image/png": {
       "height": 420,
       "width": 420
      }
     },
     "output_type": "display_data"
    }
   ],
   "source": [
    "t_value = mood_status %>%  t_test(Status~Mood) %>% add_significance\n",
    "t_value = t_value %>% add_xy_position(x = \"Mood\")\n",
    "boxjing = ggboxplot(mood_status, x = \"Mood\", y = \"Status\")\n",
    "boxjing + stat_pvalue_manual(t_value)"
   ]
  },
  {
   "cell_type": "code",
   "execution_count": 50,
   "metadata": {},
   "outputs": [
    {
     "data": {
      "text/html": [
       "<table class=\"dataframe\">\n",
       "<caption>A rstatix_test: 1 × 7</caption>\n",
       "<thead>\n",
       "\t<tr><th></th><th scope=col>.y.</th><th scope=col>group1</th><th scope=col>group2</th><th scope=col>effsize</th><th scope=col>n1</th><th scope=col>n2</th><th scope=col>magnitude</th></tr>\n",
       "\t<tr><th></th><th scope=col>&lt;chr&gt;</th><th scope=col>&lt;chr&gt;</th><th scope=col>&lt;chr&gt;</th><th scope=col>&lt;dbl&gt;</th><th scope=col>&lt;int&gt;</th><th scope=col>&lt;int&gt;</th><th scope=col>&lt;ord&gt;</th></tr>\n",
       "</thead>\n",
       "<tbody>\n",
       "\t<tr><th scope=row>1</th><td>Status</td><td>Angry</td><td>Sad</td><td>1.004656</td><td>19</td><td>29</td><td>large</td></tr>\n",
       "</tbody>\n",
       "</table>\n"
      ],
      "text/latex": [
       "A rstatix\\_test: 1 × 7\n",
       "\\begin{tabular}{r|lllllll}\n",
       "  & .y. & group1 & group2 & effsize & n1 & n2 & magnitude\\\\\n",
       "  & <chr> & <chr> & <chr> & <dbl> & <int> & <int> & <ord>\\\\\n",
       "\\hline\n",
       "\t1 & Status & Angry & Sad & 1.004656 & 19 & 29 & large\\\\\n",
       "\\end{tabular}\n"
      ],
      "text/markdown": [
       "\n",
       "A rstatix_test: 1 × 7\n",
       "\n",
       "| <!--/--> | .y. &lt;chr&gt; | group1 &lt;chr&gt; | group2 &lt;chr&gt; | effsize &lt;dbl&gt; | n1 &lt;int&gt; | n2 &lt;int&gt; | magnitude &lt;ord&gt; |\n",
       "|---|---|---|---|---|---|---|---|\n",
       "| 1 | Status | Angry | Sad | 1.004656 | 19 | 29 | large |\n",
       "\n"
      ],
      "text/plain": [
       "  .y.    group1 group2 effsize  n1 n2 magnitude\n",
       "1 Status Angry  Sad    1.004656 19 29 large    "
      ]
     },
     "metadata": {},
     "output_type": "display_data"
    }
   ],
   "source": [
    "mood_status %>% cohens_d(Status~Mood)"
   ]
  },
  {
   "cell_type": "markdown",
   "metadata": {},
   "source": [
    "## Answer:\n",
    "#### The P value computed by the t test is lower than presupposed alpha, so it is meaningful, null hypothesis is wrong, plus the effect size computed is large too. so the assumption that men accord higher status towards anger condition is true."
   ]
  },
  {
   "cell_type": "markdown",
   "metadata": {},
   "source": [
    "# Part B"
   ]
  },
  {
   "cell_type": "code",
   "execution_count": 51,
   "metadata": {},
   "outputs": [],
   "source": [
    "moody_female_means = c(3.40, 5.02)\n",
    "moody_female_sds = c(1.44, 1.66)\n",
    "moody_female_ns = c(41, 41)\n",
    "\n",
    "\n",
    "set.seed(12)\n",
    "\n",
    "simulated_data = lapply(seq_along(moody_female_means), function(i) {\n",
    "  rnorm(moody_female_ns[i], mean = moody_female_means[i], sd = moody_female_sds[i])\n",
    "})\n",
    "\n",
    "\n",
    "mood_status_females = data.frame(\n",
    "  Mood = rep(seq_along(moody_female_means), times = sapply(simulated_data, length)),\n",
    "  Status = unlist(simulated_data)\n",
    ")"
   ]
  },
  {
   "cell_type": "code",
   "execution_count": 52,
   "metadata": {},
   "outputs": [],
   "source": [
    "mood_status_females = mood_status_females %>% mutate (Mood = ifelse( Mood == \"1\", \"Yes_attrib\", \"No_attrib\"))"
   ]
  },
  {
   "cell_type": "code",
   "execution_count": 53,
   "metadata": {
    "scrolled": true
   },
   "outputs": [
    {
     "data": {
      "text/html": [
       "<table class=\"dataframe\">\n",
       "<caption>A data.frame: 82 × 2</caption>\n",
       "<thead>\n",
       "\t<tr><th scope=col>Mood</th><th scope=col>Status</th></tr>\n",
       "\t<tr><th scope=col>&lt;chr&gt;</th><th scope=col>&lt;dbl&gt;</th></tr>\n",
       "</thead>\n",
       "<tbody>\n",
       "\t<tr><td>Yes_attrib</td><td>1.2679827</td></tr>\n",
       "\t<tr><td>Yes_attrib</td><td>5.6711240</td></tr>\n",
       "\t<tr><td>Yes_attrib</td><td>2.0222880</td></tr>\n",
       "\t<tr><td>Yes_attrib</td><td>2.0751924</td></tr>\n",
       "\t<tr><td>Yes_attrib</td><td>0.5233954</td></tr>\n",
       "\t<tr><td>Yes_attrib</td><td>3.0078937</td></tr>\n",
       "\t<tr><td>Yes_attrib</td><td>2.9458979</td></tr>\n",
       "\t<tr><td>Yes_attrib</td><td>2.4953125</td></tr>\n",
       "\t<tr><td>Yes_attrib</td><td>3.2466920</td></tr>\n",
       "\t<tr><td>Yes_attrib</td><td>4.0163413</td></tr>\n",
       "\t<tr><td>Yes_attrib</td><td>2.2800838</td></tr>\n",
       "\t<tr><td>Yes_attrib</td><td>1.5368095</td></tr>\n",
       "\t<tr><td>Yes_attrib</td><td>2.2774242</td></tr>\n",
       "\t<tr><td>Yes_attrib</td><td>3.4172105</td></tr>\n",
       "\t<tr><td>Yes_attrib</td><td>3.1805206</td></tr>\n",
       "\t<tr><td>Yes_attrib</td><td>2.3870115</td></tr>\n",
       "\t<tr><td>Yes_attrib</td><td>5.1119860</td></tr>\n",
       "\t<tr><td>Yes_attrib</td><td>3.8903377</td></tr>\n",
       "\t<tr><td>Yes_attrib</td><td>4.1300342</td></tr>\n",
       "\t<tr><td>Yes_attrib</td><td>2.9776406</td></tr>\n",
       "\t<tr><td>Yes_attrib</td><td>3.7220436</td></tr>\n",
       "\t<tr><td>Yes_attrib</td><td>6.2903701</td></tr>\n",
       "\t<tr><td>Yes_attrib</td><td>4.8572499</td></tr>\n",
       "\t<tr><td>Yes_attrib</td><td>2.9644587</td></tr>\n",
       "\t<tr><td>Yes_attrib</td><td>1.9236474</td></tr>\n",
       "\t<tr><td>Yes_attrib</td><td>3.0149658</td></tr>\n",
       "\t<tr><td>Yes_attrib</td><td>3.1132878</td></tr>\n",
       "\t<tr><td>Yes_attrib</td><td>3.5888165</td></tr>\n",
       "\t<tr><td>Yes_attrib</td><td>3.6099518</td></tr>\n",
       "\t<tr><td>Yes_attrib</td><td>3.9213732</td></tr>\n",
       "\t<tr><td>⋮</td><td>⋮</td></tr>\n",
       "\t<tr><td>No_attrib</td><td>5.778333</td></tr>\n",
       "\t<tr><td>No_attrib</td><td>8.373756</td></tr>\n",
       "\t<tr><td>No_attrib</td><td>3.275522</td></tr>\n",
       "\t<tr><td>No_attrib</td><td>6.239522</td></tr>\n",
       "\t<tr><td>No_attrib</td><td>5.915155</td></tr>\n",
       "\t<tr><td>No_attrib</td><td>2.838307</td></tr>\n",
       "\t<tr><td>No_attrib</td><td>4.604936</td></tr>\n",
       "\t<tr><td>No_attrib</td><td>5.541580</td></tr>\n",
       "\t<tr><td>No_attrib</td><td>5.694868</td></tr>\n",
       "\t<tr><td>No_attrib</td><td>6.670738</td></tr>\n",
       "\t<tr><td>No_attrib</td><td>6.440576</td></tr>\n",
       "\t<tr><td>No_attrib</td><td>5.347234</td></tr>\n",
       "\t<tr><td>No_attrib</td><td>6.404980</td></tr>\n",
       "\t<tr><td>No_attrib</td><td>6.425672</td></tr>\n",
       "\t<tr><td>No_attrib</td><td>8.263815</td></tr>\n",
       "\t<tr><td>No_attrib</td><td>1.452228</td></tr>\n",
       "\t<tr><td>No_attrib</td><td>6.632060</td></tr>\n",
       "\t<tr><td>No_attrib</td><td>6.920802</td></tr>\n",
       "\t<tr><td>No_attrib</td><td>4.147835</td></tr>\n",
       "\t<tr><td>No_attrib</td><td>5.435531</td></tr>\n",
       "\t<tr><td>No_attrib</td><td>4.307185</td></tr>\n",
       "\t<tr><td>No_attrib</td><td>4.717017</td></tr>\n",
       "\t<tr><td>No_attrib</td><td>4.848505</td></tr>\n",
       "\t<tr><td>No_attrib</td><td>3.967829</td></tr>\n",
       "\t<tr><td>No_attrib</td><td>2.910051</td></tr>\n",
       "\t<tr><td>No_attrib</td><td>4.382642</td></tr>\n",
       "\t<tr><td>No_attrib</td><td>5.877815</td></tr>\n",
       "\t<tr><td>No_attrib</td><td>4.724572</td></tr>\n",
       "\t<tr><td>No_attrib</td><td>5.027068</td></tr>\n",
       "\t<tr><td>No_attrib</td><td>2.905061</td></tr>\n",
       "</tbody>\n",
       "</table>\n"
      ],
      "text/latex": [
       "A data.frame: 82 × 2\n",
       "\\begin{tabular}{ll}\n",
       " Mood & Status\\\\\n",
       " <chr> & <dbl>\\\\\n",
       "\\hline\n",
       "\t Yes\\_attrib & 1.2679827\\\\\n",
       "\t Yes\\_attrib & 5.6711240\\\\\n",
       "\t Yes\\_attrib & 2.0222880\\\\\n",
       "\t Yes\\_attrib & 2.0751924\\\\\n",
       "\t Yes\\_attrib & 0.5233954\\\\\n",
       "\t Yes\\_attrib & 3.0078937\\\\\n",
       "\t Yes\\_attrib & 2.9458979\\\\\n",
       "\t Yes\\_attrib & 2.4953125\\\\\n",
       "\t Yes\\_attrib & 3.2466920\\\\\n",
       "\t Yes\\_attrib & 4.0163413\\\\\n",
       "\t Yes\\_attrib & 2.2800838\\\\\n",
       "\t Yes\\_attrib & 1.5368095\\\\\n",
       "\t Yes\\_attrib & 2.2774242\\\\\n",
       "\t Yes\\_attrib & 3.4172105\\\\\n",
       "\t Yes\\_attrib & 3.1805206\\\\\n",
       "\t Yes\\_attrib & 2.3870115\\\\\n",
       "\t Yes\\_attrib & 5.1119860\\\\\n",
       "\t Yes\\_attrib & 3.8903377\\\\\n",
       "\t Yes\\_attrib & 4.1300342\\\\\n",
       "\t Yes\\_attrib & 2.9776406\\\\\n",
       "\t Yes\\_attrib & 3.7220436\\\\\n",
       "\t Yes\\_attrib & 6.2903701\\\\\n",
       "\t Yes\\_attrib & 4.8572499\\\\\n",
       "\t Yes\\_attrib & 2.9644587\\\\\n",
       "\t Yes\\_attrib & 1.9236474\\\\\n",
       "\t Yes\\_attrib & 3.0149658\\\\\n",
       "\t Yes\\_attrib & 3.1132878\\\\\n",
       "\t Yes\\_attrib & 3.5888165\\\\\n",
       "\t Yes\\_attrib & 3.6099518\\\\\n",
       "\t Yes\\_attrib & 3.9213732\\\\\n",
       "\t ⋮ & ⋮\\\\\n",
       "\t No\\_attrib & 5.778333\\\\\n",
       "\t No\\_attrib & 8.373756\\\\\n",
       "\t No\\_attrib & 3.275522\\\\\n",
       "\t No\\_attrib & 6.239522\\\\\n",
       "\t No\\_attrib & 5.915155\\\\\n",
       "\t No\\_attrib & 2.838307\\\\\n",
       "\t No\\_attrib & 4.604936\\\\\n",
       "\t No\\_attrib & 5.541580\\\\\n",
       "\t No\\_attrib & 5.694868\\\\\n",
       "\t No\\_attrib & 6.670738\\\\\n",
       "\t No\\_attrib & 6.440576\\\\\n",
       "\t No\\_attrib & 5.347234\\\\\n",
       "\t No\\_attrib & 6.404980\\\\\n",
       "\t No\\_attrib & 6.425672\\\\\n",
       "\t No\\_attrib & 8.263815\\\\\n",
       "\t No\\_attrib & 1.452228\\\\\n",
       "\t No\\_attrib & 6.632060\\\\\n",
       "\t No\\_attrib & 6.920802\\\\\n",
       "\t No\\_attrib & 4.147835\\\\\n",
       "\t No\\_attrib & 5.435531\\\\\n",
       "\t No\\_attrib & 4.307185\\\\\n",
       "\t No\\_attrib & 4.717017\\\\\n",
       "\t No\\_attrib & 4.848505\\\\\n",
       "\t No\\_attrib & 3.967829\\\\\n",
       "\t No\\_attrib & 2.910051\\\\\n",
       "\t No\\_attrib & 4.382642\\\\\n",
       "\t No\\_attrib & 5.877815\\\\\n",
       "\t No\\_attrib & 4.724572\\\\\n",
       "\t No\\_attrib & 5.027068\\\\\n",
       "\t No\\_attrib & 2.905061\\\\\n",
       "\\end{tabular}\n"
      ],
      "text/markdown": [
       "\n",
       "A data.frame: 82 × 2\n",
       "\n",
       "| Mood &lt;chr&gt; | Status &lt;dbl&gt; |\n",
       "|---|---|\n",
       "| Yes_attrib | 1.2679827 |\n",
       "| Yes_attrib | 5.6711240 |\n",
       "| Yes_attrib | 2.0222880 |\n",
       "| Yes_attrib | 2.0751924 |\n",
       "| Yes_attrib | 0.5233954 |\n",
       "| Yes_attrib | 3.0078937 |\n",
       "| Yes_attrib | 2.9458979 |\n",
       "| Yes_attrib | 2.4953125 |\n",
       "| Yes_attrib | 3.2466920 |\n",
       "| Yes_attrib | 4.0163413 |\n",
       "| Yes_attrib | 2.2800838 |\n",
       "| Yes_attrib | 1.5368095 |\n",
       "| Yes_attrib | 2.2774242 |\n",
       "| Yes_attrib | 3.4172105 |\n",
       "| Yes_attrib | 3.1805206 |\n",
       "| Yes_attrib | 2.3870115 |\n",
       "| Yes_attrib | 5.1119860 |\n",
       "| Yes_attrib | 3.8903377 |\n",
       "| Yes_attrib | 4.1300342 |\n",
       "| Yes_attrib | 2.9776406 |\n",
       "| Yes_attrib | 3.7220436 |\n",
       "| Yes_attrib | 6.2903701 |\n",
       "| Yes_attrib | 4.8572499 |\n",
       "| Yes_attrib | 2.9644587 |\n",
       "| Yes_attrib | 1.9236474 |\n",
       "| Yes_attrib | 3.0149658 |\n",
       "| Yes_attrib | 3.1132878 |\n",
       "| Yes_attrib | 3.5888165 |\n",
       "| Yes_attrib | 3.6099518 |\n",
       "| Yes_attrib | 3.9213732 |\n",
       "| ⋮ | ⋮ |\n",
       "| No_attrib | 5.778333 |\n",
       "| No_attrib | 8.373756 |\n",
       "| No_attrib | 3.275522 |\n",
       "| No_attrib | 6.239522 |\n",
       "| No_attrib | 5.915155 |\n",
       "| No_attrib | 2.838307 |\n",
       "| No_attrib | 4.604936 |\n",
       "| No_attrib | 5.541580 |\n",
       "| No_attrib | 5.694868 |\n",
       "| No_attrib | 6.670738 |\n",
       "| No_attrib | 6.440576 |\n",
       "| No_attrib | 5.347234 |\n",
       "| No_attrib | 6.404980 |\n",
       "| No_attrib | 6.425672 |\n",
       "| No_attrib | 8.263815 |\n",
       "| No_attrib | 1.452228 |\n",
       "| No_attrib | 6.632060 |\n",
       "| No_attrib | 6.920802 |\n",
       "| No_attrib | 4.147835 |\n",
       "| No_attrib | 5.435531 |\n",
       "| No_attrib | 4.307185 |\n",
       "| No_attrib | 4.717017 |\n",
       "| No_attrib | 4.848505 |\n",
       "| No_attrib | 3.967829 |\n",
       "| No_attrib | 2.910051 |\n",
       "| No_attrib | 4.382642 |\n",
       "| No_attrib | 5.877815 |\n",
       "| No_attrib | 4.724572 |\n",
       "| No_attrib | 5.027068 |\n",
       "| No_attrib | 2.905061 |\n",
       "\n"
      ],
      "text/plain": [
       "   Mood       Status   \n",
       "1  Yes_attrib 1.2679827\n",
       "2  Yes_attrib 5.6711240\n",
       "3  Yes_attrib 2.0222880\n",
       "4  Yes_attrib 2.0751924\n",
       "5  Yes_attrib 0.5233954\n",
       "6  Yes_attrib 3.0078937\n",
       "7  Yes_attrib 2.9458979\n",
       "8  Yes_attrib 2.4953125\n",
       "9  Yes_attrib 3.2466920\n",
       "10 Yes_attrib 4.0163413\n",
       "11 Yes_attrib 2.2800838\n",
       "12 Yes_attrib 1.5368095\n",
       "13 Yes_attrib 2.2774242\n",
       "14 Yes_attrib 3.4172105\n",
       "15 Yes_attrib 3.1805206\n",
       "16 Yes_attrib 2.3870115\n",
       "17 Yes_attrib 5.1119860\n",
       "18 Yes_attrib 3.8903377\n",
       "19 Yes_attrib 4.1300342\n",
       "20 Yes_attrib 2.9776406\n",
       "21 Yes_attrib 3.7220436\n",
       "22 Yes_attrib 6.2903701\n",
       "23 Yes_attrib 4.8572499\n",
       "24 Yes_attrib 2.9644587\n",
       "25 Yes_attrib 1.9236474\n",
       "26 Yes_attrib 3.0149658\n",
       "27 Yes_attrib 3.1132878\n",
       "28 Yes_attrib 3.5888165\n",
       "29 Yes_attrib 3.6099518\n",
       "30 Yes_attrib 3.9213732\n",
       "⋮  ⋮          ⋮        \n",
       "53 No_attrib  5.778333 \n",
       "54 No_attrib  8.373756 \n",
       "55 No_attrib  3.275522 \n",
       "56 No_attrib  6.239522 \n",
       "57 No_attrib  5.915155 \n",
       "58 No_attrib  2.838307 \n",
       "59 No_attrib  4.604936 \n",
       "60 No_attrib  5.541580 \n",
       "61 No_attrib  5.694868 \n",
       "62 No_attrib  6.670738 \n",
       "63 No_attrib  6.440576 \n",
       "64 No_attrib  5.347234 \n",
       "65 No_attrib  6.404980 \n",
       "66 No_attrib  6.425672 \n",
       "67 No_attrib  8.263815 \n",
       "68 No_attrib  1.452228 \n",
       "69 No_attrib  6.632060 \n",
       "70 No_attrib  6.920802 \n",
       "71 No_attrib  4.147835 \n",
       "72 No_attrib  5.435531 \n",
       "73 No_attrib  4.307185 \n",
       "74 No_attrib  4.717017 \n",
       "75 No_attrib  4.848505 \n",
       "76 No_attrib  3.967829 \n",
       "77 No_attrib  2.910051 \n",
       "78 No_attrib  4.382642 \n",
       "79 No_attrib  5.877815 \n",
       "80 No_attrib  4.724572 \n",
       "81 No_attrib  5.027068 \n",
       "82 No_attrib  2.905061 "
      ]
     },
     "metadata": {},
     "output_type": "display_data"
    }
   ],
   "source": [
    "mood_status_females"
   ]
  },
  {
   "cell_type": "code",
   "execution_count": 118,
   "metadata": {},
   "outputs": [
    {
     "name": "stderr",
     "output_type": "stream",
     "text": [
      "Warning message in leveneTest.default(y = y, group = group, ...):\n",
      "\"group coerced to factor.\"\n"
     ]
    },
    {
     "data": {
      "text/html": [
       "<table class=\"dataframe\">\n",
       "<caption>A tibble: 1 × 4</caption>\n",
       "<thead>\n",
       "\t<tr><th scope=col>df1</th><th scope=col>df2</th><th scope=col>statistic</th><th scope=col>p</th></tr>\n",
       "\t<tr><th scope=col>&lt;int&gt;</th><th scope=col>&lt;int&gt;</th><th scope=col>&lt;dbl&gt;</th><th scope=col>&lt;dbl&gt;</th></tr>\n",
       "</thead>\n",
       "<tbody>\n",
       "\t<tr><td>1</td><td>80</td><td>1.507657</td><td>0.2230974</td></tr>\n",
       "</tbody>\n",
       "</table>\n"
      ],
      "text/latex": [
       "A tibble: 1 × 4\n",
       "\\begin{tabular}{llll}\n",
       " df1 & df2 & statistic & p\\\\\n",
       " <int> & <int> & <dbl> & <dbl>\\\\\n",
       "\\hline\n",
       "\t 1 & 80 & 1.507657 & 0.2230974\\\\\n",
       "\\end{tabular}\n"
      ],
      "text/markdown": [
       "\n",
       "A tibble: 1 × 4\n",
       "\n",
       "| df1 &lt;int&gt; | df2 &lt;int&gt; | statistic &lt;dbl&gt; | p &lt;dbl&gt; |\n",
       "|---|---|---|---|\n",
       "| 1 | 80 | 1.507657 | 0.2230974 |\n",
       "\n"
      ],
      "text/plain": [
       "  df1 df2 statistic p        \n",
       "1 1   80  1.507657  0.2230974"
      ]
     },
     "metadata": {},
     "output_type": "display_data"
    }
   ],
   "source": [
    "mood_status_females %>% levene_test(Status~Mood)"
   ]
  },
  {
   "cell_type": "code",
   "execution_count": 55,
   "metadata": {},
   "outputs": [
    {
     "data": {
      "image/png": "[encoded data removed]",
      "text/plain": [
       "plot without title"
      ]
     },
     "metadata": {
      "image/png": {
       "height": 420,
       "width": 420
      }
     },
     "output_type": "display_data"
    }
   ],
   "source": [
    "ggqqplot(mood_status_females, \"Status\", facet.by = \"Mood\")"
   ]
  },
  {
   "cell_type": "code",
   "execution_count": 54,
   "metadata": {},
   "outputs": [
    {
     "data": {
      "text/html": [
       "<table class=\"dataframe\">\n",
       "<caption>A tibble: 2 × 4</caption>\n",
       "<thead>\n",
       "\t<tr><th scope=col>Mood</th><th scope=col>variable</th><th scope=col>statistic</th><th scope=col>p</th></tr>\n",
       "\t<tr><th scope=col>&lt;chr&gt;</th><th scope=col>&lt;chr&gt;</th><th scope=col>&lt;dbl&gt;</th><th scope=col>&lt;dbl&gt;</th></tr>\n",
       "</thead>\n",
       "<tbody>\n",
       "\t<tr><td>No_attrib </td><td>Status</td><td>0.9833527</td><td>0.8000825</td></tr>\n",
       "\t<tr><td>Yes_attrib</td><td>Status</td><td>0.9704185</td><td>0.3557898</td></tr>\n",
       "</tbody>\n",
       "</table>\n"
      ],
      "text/latex": [
       "A tibble: 2 × 4\n",
       "\\begin{tabular}{llll}\n",
       " Mood & variable & statistic & p\\\\\n",
       " <chr> & <chr> & <dbl> & <dbl>\\\\\n",
       "\\hline\n",
       "\t No\\_attrib  & Status & 0.9833527 & 0.8000825\\\\\n",
       "\t Yes\\_attrib & Status & 0.9704185 & 0.3557898\\\\\n",
       "\\end{tabular}\n"
      ],
      "text/markdown": [
       "\n",
       "A tibble: 2 × 4\n",
       "\n",
       "| Mood &lt;chr&gt; | variable &lt;chr&gt; | statistic &lt;dbl&gt; | p &lt;dbl&gt; |\n",
       "|---|---|---|---|\n",
       "| No_attrib  | Status | 0.9833527 | 0.8000825 |\n",
       "| Yes_attrib | Status | 0.9704185 | 0.3557898 |\n",
       "\n"
      ],
      "text/plain": [
       "  Mood       variable statistic p        \n",
       "1 No_attrib  Status   0.9833527 0.8000825\n",
       "2 Yes_attrib Status   0.9704185 0.3557898"
      ]
     },
     "metadata": {},
     "output_type": "display_data"
    }
   ],
   "source": [
    "mood_status_females %>% group_by(Mood) %>% shapiro_test(Status)"
   ]
  },
  {
   "cell_type": "code",
   "execution_count": 56,
   "metadata": {},
   "outputs": [
    {
     "data": {
      "text/html": [
       "<table class=\"dataframe\">\n",
       "<caption>A tibble: 3 × 4</caption>\n",
       "<thead>\n",
       "\t<tr><th scope=col>Mood</th><th scope=col>Status</th><th scope=col>is.outlier</th><th scope=col>is.extreme</th></tr>\n",
       "\t<tr><th scope=col>&lt;chr&gt;</th><th scope=col>&lt;dbl&gt;</th><th scope=col>&lt;lgl&gt;</th><th scope=col>&lt;lgl&gt;</th></tr>\n",
       "</thead>\n",
       "<tbody>\n",
       "\t<tr><td>No_attrib </td><td>1.452228</td><td>TRUE</td><td>FALSE</td></tr>\n",
       "\t<tr><td>Yes_attrib</td><td>6.290370</td><td>TRUE</td><td>FALSE</td></tr>\n",
       "\t<tr><td>Yes_attrib</td><td>6.383732</td><td>TRUE</td><td>FALSE</td></tr>\n",
       "</tbody>\n",
       "</table>\n"
      ],
      "text/latex": [
       "A tibble: 3 × 4\n",
       "\\begin{tabular}{llll}\n",
       " Mood & Status & is.outlier & is.extreme\\\\\n",
       " <chr> & <dbl> & <lgl> & <lgl>\\\\\n",
       "\\hline\n",
       "\t No\\_attrib  & 1.452228 & TRUE & FALSE\\\\\n",
       "\t Yes\\_attrib & 6.290370 & TRUE & FALSE\\\\\n",
       "\t Yes\\_attrib & 6.383732 & TRUE & FALSE\\\\\n",
       "\\end{tabular}\n"
      ],
      "text/markdown": [
       "\n",
       "A tibble: 3 × 4\n",
       "\n",
       "| Mood &lt;chr&gt; | Status &lt;dbl&gt; | is.outlier &lt;lgl&gt; | is.extreme &lt;lgl&gt; |\n",
       "|---|---|---|---|\n",
       "| No_attrib  | 1.452228 | TRUE | FALSE |\n",
       "| Yes_attrib | 6.290370 | TRUE | FALSE |\n",
       "| Yes_attrib | 6.383732 | TRUE | FALSE |\n",
       "\n"
      ],
      "text/plain": [
       "  Mood       Status   is.outlier is.extreme\n",
       "1 No_attrib  1.452228 TRUE       FALSE     \n",
       "2 Yes_attrib 6.290370 TRUE       FALSE     \n",
       "3 Yes_attrib 6.383732 TRUE       FALSE     "
      ]
     },
     "metadata": {},
     "output_type": "display_data"
    }
   ],
   "source": [
    "mood_status_females %>% group_by(Mood) %>% identify_outliers(Status)"
   ]
  },
  {
   "cell_type": "code",
   "execution_count": 57,
   "metadata": {
    "scrolled": true
   },
   "outputs": [
    {
     "data": {
      "text/html": [
       "<table class=\"dataframe\">\n",
       "<caption>A rstatix_test: 1 × 9</caption>\n",
       "<thead>\n",
       "\t<tr><th scope=col>.y.</th><th scope=col>group1</th><th scope=col>group2</th><th scope=col>n1</th><th scope=col>n2</th><th scope=col>statistic</th><th scope=col>df</th><th scope=col>p</th><th scope=col>p.signif</th></tr>\n",
       "\t<tr><th scope=col>&lt;chr&gt;</th><th scope=col>&lt;chr&gt;</th><th scope=col>&lt;chr&gt;</th><th scope=col>&lt;int&gt;</th><th scope=col>&lt;int&gt;</th><th scope=col>&lt;dbl&gt;</th><th scope=col>&lt;dbl&gt;</th><th scope=col>&lt;dbl&gt;</th><th scope=col>&lt;chr&gt;</th></tr>\n",
       "</thead>\n",
       "<tbody>\n",
       "\t<tr><td>Status</td><td>No_attrib</td><td>Yes_attrib</td><td>41</td><td>41</td><td>5.849029</td><td>40</td><td>7.71e-07</td><td>****</td></tr>\n",
       "</tbody>\n",
       "</table>\n"
      ],
      "text/latex": [
       "A rstatix\\_test: 1 × 9\n",
       "\\begin{tabular}{lllllllll}\n",
       " .y. & group1 & group2 & n1 & n2 & statistic & df & p & p.signif\\\\\n",
       " <chr> & <chr> & <chr> & <int> & <int> & <dbl> & <dbl> & <dbl> & <chr>\\\\\n",
       "\\hline\n",
       "\t Status & No\\_attrib & Yes\\_attrib & 41 & 41 & 5.849029 & 40 & 7.71e-07 & ****\\\\\n",
       "\\end{tabular}\n"
      ],
      "text/markdown": [
       "\n",
       "A rstatix_test: 1 × 9\n",
       "\n",
       "| .y. &lt;chr&gt; | group1 &lt;chr&gt; | group2 &lt;chr&gt; | n1 &lt;int&gt; | n2 &lt;int&gt; | statistic &lt;dbl&gt; | df &lt;dbl&gt; | p &lt;dbl&gt; | p.signif &lt;chr&gt; |\n",
       "|---|---|---|---|---|---|---|---|---|\n",
       "| Status | No_attrib | Yes_attrib | 41 | 41 | 5.849029 | 40 | 7.71e-07 | **** |\n",
       "\n"
      ],
      "text/plain": [
       "  .y.    group1    group2     n1 n2 statistic df p        p.signif\n",
       "1 Status No_attrib Yes_attrib 41 41 5.849029  40 7.71e-07 ****    "
      ]
     },
     "metadata": {},
     "output_type": "display_data"
    }
   ],
   "source": [
    "mood_status_females %>% t_test(Status~Mood, paired = TRUE) %>% add_significance"
   ]
  },
  {
   "cell_type": "code",
   "execution_count": 58,
   "metadata": {},
   "outputs": [
    {
     "data": {
      "image/png": "[encoded data removed]",
      "text/plain": [
       "plot without title"
      ]
     },
     "metadata": {
      "image/png": {
       "height": 420,
       "width": 420
      }
     },
     "output_type": "display_data"
    }
   ],
   "source": [
    "tress1 = mood_status_females %>% t_test(Status~Mood, paired = TRUE) %>% add_significance\n",
    "ggbox2 = ggboxplot(mood_status_females, x = \"Mood\", y = \"Status\")\n",
    "tress1 = tress1 %>% add_xy_position(x = \"Mood\")\n",
    "ggbox2 + stat_pvalue_manual(tress1)"
   ]
  },
  {
   "cell_type": "code",
   "execution_count": 112,
   "metadata": {},
   "outputs": [
    {
     "data": {
      "text/html": [
       "<table class=\"dataframe\">\n",
       "<caption>A rstatix_test: 1 × 7</caption>\n",
       "<thead>\n",
       "\t<tr><th></th><th scope=col>.y.</th><th scope=col>group1</th><th scope=col>group2</th><th scope=col>effsize</th><th scope=col>n1</th><th scope=col>n2</th><th scope=col>magnitude</th></tr>\n",
       "\t<tr><th></th><th scope=col>&lt;chr&gt;</th><th scope=col>&lt;chr&gt;</th><th scope=col>&lt;chr&gt;</th><th scope=col>&lt;dbl&gt;</th><th scope=col>&lt;int&gt;</th><th scope=col>&lt;int&gt;</th><th scope=col>&lt;ord&gt;</th></tr>\n",
       "</thead>\n",
       "<tbody>\n",
       "\t<tr><th scope=row>1</th><td>Status</td><td>No_attrib</td><td>Yes_attrib</td><td>1.293317</td><td>41</td><td>41</td><td>large</td></tr>\n",
       "</tbody>\n",
       "</table>\n"
      ],
      "text/latex": [
       "A rstatix\\_test: 1 × 7\n",
       "\\begin{tabular}{r|lllllll}\n",
       "  & .y. & group1 & group2 & effsize & n1 & n2 & magnitude\\\\\n",
       "  & <chr> & <chr> & <chr> & <dbl> & <int> & <int> & <ord>\\\\\n",
       "\\hline\n",
       "\t1 & Status & No\\_attrib & Yes\\_attrib & 1.293317 & 41 & 41 & large\\\\\n",
       "\\end{tabular}\n"
      ],
      "text/markdown": [
       "\n",
       "A rstatix_test: 1 × 7\n",
       "\n",
       "| <!--/--> | .y. &lt;chr&gt; | group1 &lt;chr&gt; | group2 &lt;chr&gt; | effsize &lt;dbl&gt; | n1 &lt;int&gt; | n2 &lt;int&gt; | magnitude &lt;ord&gt; |\n",
       "|---|---|---|---|---|---|---|---|\n",
       "| 1 | Status | No_attrib | Yes_attrib | 1.293317 | 41 | 41 | large |\n",
       "\n"
      ],
      "text/plain": [
       "  .y.    group1    group2     effsize  n1 n2 magnitude\n",
       "1 Status No_attrib Yes_attrib 1.293317 41 41 large    "
      ]
     },
     "metadata": {},
     "output_type": "display_data"
    }
   ],
   "source": [
    "mood_status_females %>% cohens_d(Status~Mood)"
   ]
  },
  {
   "cell_type": "markdown",
   "metadata": {},
   "source": [
    "## Answer:\n",
    "### They might be right, since t test results low p value, plus the effect size is large, women might indeed judge the anger emotion on accordance to the attribution towards it."
   ]
  },
  {
   "cell_type": "markdown",
   "metadata": {},
   "source": [
    "# Part C"
   ]
  },
  {
   "cell_type": "markdown",
   "metadata": {},
   "source": [
    "### Here I changed my method, instead I computed the differences of the male and female with and without attributions and then compared them as two independent sets of data. seemed to be easier."
   ]
  },
  {
   "cell_type": "code",
   "execution_count": 62,
   "metadata": {},
   "outputs": [],
   "source": [
    "male_attrib_means = c(5.42, 4.14)\n",
    "male_attrib_sds = c(1.63, 2.46)\n",
    "ns_male = c(48, 48)\n",
    "\n",
    "female_attrib_means = c(5.02, 3.40)\n",
    "female_attrib_sds = c(1.44, 1.66)\n",
    "ns_female = c(41, 41)"
   ]
  },
  {
   "cell_type": "code",
   "execution_count": 63,
   "metadata": {},
   "outputs": [
    {
     "data": {
      "text/html": [
       "1.28"
      ],
      "text/latex": [
       "1.28"
      ],
      "text/markdown": [
       "1.28"
      ],
      "text/plain": [
       "[1] 1.28"
      ]
     },
     "metadata": {},
     "output_type": "display_data"
    },
    {
     "data": {
      "text/html": [
       "1.62"
      ],
      "text/latex": [
       "1.62"
      ],
      "text/markdown": [
       "1.62"
      ],
      "text/plain": [
       "[1] 1.62"
      ]
     },
     "metadata": {},
     "output_type": "display_data"
    }
   ],
   "source": [
    "male_diff = male_attrib_means[1] - male_attrib_means[2]\n",
    "female_diff = female_attrib_means[1] - female_attrib_means[2]\n",
    "male_diff\n",
    "female_diff"
   ]
  },
  {
   "cell_type": "code",
   "execution_count": 64,
   "metadata": {},
   "outputs": [
    {
     "data": {
      "text/plain": [
       "\n",
       "\tOne Sample t-test\n",
       "\n",
       "data:  c(male_diff, female_diff)\n",
       "t = 8.5294, df = 1, p-value = 0.0743\n",
       "alternative hypothesis: true mean is not equal to 0\n",
       "95 percent confidence interval:\n",
       " -0.7100548  3.6100548\n",
       "sample estimates:\n",
       "mean of x \n",
       "     1.45 \n"
      ]
     },
     "metadata": {},
     "output_type": "display_data"
    }
   ],
   "source": [
    "t.test(c(male_diff, female_diff))"
   ]
  },
  {
   "cell_type": "markdown",
   "metadata": {},
   "source": [
    "## Answer:\n",
    "#### In male group with and without attribution, as the t test result indicates, angry men with no attribution towards their mood are indeed considered to have higher status, so Yes, researchers do have a double standard here."
   ]
  },
  {
   "cell_type": "markdown",
   "metadata": {},
   "source": [
    "# METHOD B: MANUAL CALCULATION"
   ]
  },
  {
   "cell_type": "markdown",
   "metadata": {},
   "source": [
    "### A: Comparison of two group of men with saddness and anger emotional judgement towards status of same gender."
   ]
  },
  {
   "cell_type": "code",
   "execution_count": 22,
   "metadata": {},
   "outputs": [],
   "source": [
    "mean_anger_condition = 6.47\n",
    "mean_sad_condition = 4.05\n",
    "sd_anger_condition = 2.25\n",
    "sd_sad_condition = 1.61\n",
    "number_anger_condition = 19\n",
    "number_sad_condition = 29"
   ]
  },
  {
   "cell_type": "code",
   "execution_count": 23,
   "metadata": {},
   "outputs": [
    {
     "data": {
      "text/html": [
       "4.05689724790181"
      ],
      "text/latex": [
       "4.05689724790181"
      ],
      "text/markdown": [
       "4.05689724790181"
      ],
      "text/plain": [
       "[1] 4.056897"
      ]
     },
     "metadata": {},
     "output_type": "display_data"
    }
   ],
   "source": [
    "t_comp = (mean_anger_condition - mean_sad_condition) / sqrt((sd_anger_condition^2 / number_anger_condition) + (sd_sad_condition^2 / number_sad_condition))\n",
    "t_comp"
   ]
  },
  {
   "cell_type": "code",
   "execution_count": 67,
   "metadata": {},
   "outputs": [
    {
     "data": {
      "text/html": [
       "46"
      ],
      "text/latex": [
       "46"
      ],
      "text/markdown": [
       "46"
      ],
      "text/plain": [
       "[1] 46"
      ]
     },
     "metadata": {},
     "output_type": "display_data"
    }
   ],
   "source": [
    "degree_of_freedom = (29+19) - 2\n",
    "degree_of_freedom"
   ]
  },
  {
   "cell_type": "code",
   "execution_count": 68,
   "metadata": {},
   "outputs": [
    {
     "data": {
      "text/html": [
       "0.000190621547347542"
      ],
      "text/latex": [
       "0.000190621547347542"
      ],
      "text/markdown": [
       "0.000190621547347542"
      ],
      "text/plain": [
       "[1] 0.0001906215"
      ]
     },
     "metadata": {},
     "output_type": "display_data"
    }
   ],
   "source": [
    "p_value = 2 * pt(abs(t_comp), degree_of_freedom, lower.tail = FALSE)\n",
    "\n",
    "p_value"
   ]
  },
  {
   "cell_type": "markdown",
   "metadata": {},
   "source": [
    "## B: Comparison of females status judgement with and without attribution towards anger emotion."
   ]
  },
  {
   "cell_type": "code",
   "execution_count": 27,
   "metadata": {},
   "outputs": [],
   "source": [
    "mean_without_attribution = 3.40\n",
    "mean_with_attribution = 5.02\n",
    "sd_without_attribution = 1.44\n",
    "sd_with_attribution = 1.66\n",
    "n = 41"
   ]
  },
  {
   "cell_type": "code",
   "execution_count": 28,
   "metadata": {},
   "outputs": [],
   "source": [
    "pooled_sd = sqrt(((sd_without_attribution^2) + (sd_with_attribution^2)) / 2)"
   ]
  },
  {
   "cell_type": "code",
   "execution_count": 29,
   "metadata": {},
   "outputs": [
    {
     "data": {
      "text/html": [
       "6.67550836968279"
      ],
      "text/latex": [
       "6.67550836968279"
      ],
      "text/markdown": [
       "6.67550836968279"
      ],
      "text/plain": [
       "[1] 6.675508"
      ]
     },
     "metadata": {},
     "output_type": "display_data"
    }
   ],
   "source": [
    "t_comp2 = (mean_with_attribution - mean_without_attribution) / (pooled_sd / sqrt(n))\n",
    "t_comp2"
   ]
  },
  {
   "cell_type": "code",
   "execution_count": 30,
   "metadata": {},
   "outputs": [],
   "source": [
    "degree_of_freedom2 = n - 1"
   ]
  },
  {
   "cell_type": "code",
   "execution_count": 31,
   "metadata": {},
   "outputs": [
    {
     "data": {
      "text/html": [
       "5.32231456662044e-08"
      ],
      "text/latex": [
       "5.32231456662044e-08"
      ],
      "text/markdown": [
       "5.32231456662044e-08"
      ],
      "text/plain": [
       "[1] 5.322315e-08"
      ]
     },
     "metadata": {},
     "output_type": "display_data"
    }
   ],
   "source": [
    "p_value2 = 2 * pt(abs(t_comp2), degree_of_freedom2, lower.tail = FALSE)\n",
    "p_value2"
   ]
  },
  {
   "cell_type": "code",
   "execution_count": 32,
   "metadata": {},
   "outputs": [],
   "source": [
    "meandiff = mean_with_attribution - mean_without_attribution"
   ]
  },
  {
   "cell_type": "code",
   "execution_count": 33,
   "metadata": {},
   "outputs": [
    {
     "data": {
      "text/html": [
       "1.04253925461224"
      ],
      "text/latex": [
       "1.04253925461224"
      ],
      "text/markdown": [
       "1.04253925461224"
      ],
      "text/plain": [
       "[1] 1.042539"
      ]
     },
     "metadata": {},
     "output_type": "display_data"
    }
   ],
   "source": [
    "Cohens_D = meandiff/pooled_sd\n",
    "Cohens_D"
   ]
  },
  {
   "cell_type": "markdown",
   "metadata": {},
   "source": [
    "#### Answer: The t test result shows that there is significant difference between with and without attribution towards anger emotion in females. but the effect size computed using Cohen's D is showing small magnitude of effectsize, so the resutls might not be much to look at."
   ]
  },
  {
   "cell_type": "markdown",
   "metadata": {},
   "source": [
    "## C: Comparison of attribution's role on status judgement in anger emotion in males."
   ]
  },
  {
   "cell_type": "code",
   "execution_count": 40,
   "metadata": {},
   "outputs": [],
   "source": [
    "corresponding_male_mean1 = 5.42\n",
    "corresponding_female_mean2 = 4.14\n",
    "corresponding_male_sd1 = 1.63\n",
    "corresponding_female_sd2 = 2.46\n",
    "n_male = 48\n",
    "n_female = 41"
   ]
  },
  {
   "cell_type": "code",
   "execution_count": 41,
   "metadata": {},
   "outputs": [],
   "source": [
    "t_comp3 = (corresponding_mean1 - corresponding_mean2) / sqrt((corresponding_sd1^2 / n) + (corresponding_sd2^2 / n))"
   ]
  },
  {
   "cell_type": "code",
   "execution_count": 42,
   "metadata": {},
   "outputs": [],
   "source": [
    "degree_of_freedom3 = n -1"
   ]
  },
  {
   "cell_type": "code",
   "execution_count": 43,
   "metadata": {},
   "outputs": [
    {
     "data": {
      "text/html": [
       "0.00424910716075338"
      ],
      "text/latex": [
       "0.00424910716075338"
      ],
      "text/markdown": [
       "0.00424910716075338"
      ],
      "text/plain": [
       "[1] 0.004249107"
      ]
     },
     "metadata": {},
     "output_type": "display_data"
    }
   ],
   "source": [
    "p_value3 = 2 * pt(abs(t_comp3), degree_of_freedom3, lower.tail = FALSE)\n",
    "p_value3"
   ]
  },
  {
   "cell_type": "code",
   "execution_count": 44,
   "metadata": {},
   "outputs": [],
   "source": [
    "meandiff2 = corresponding_mean1 - corresponding_mean2"
   ]
  },
  {
   "cell_type": "code",
   "execution_count": 45,
   "metadata": {},
   "outputs": [],
   "source": [
    "pooled_sd2 = sqrt(((corresponding_sd2^2) + (corresponding_sd1^2)) / 2)"
   ]
  },
  {
   "cell_type": "code",
   "execution_count": 46,
   "metadata": {},
   "outputs": [
    {
     "data": {
      "text/html": [
       "0.613413443065094"
      ],
      "text/latex": [
       "0.613413443065094"
      ],
      "text/markdown": [
       "0.613413443065094"
      ],
      "text/plain": [
       "[1] 0.6134134"
      ]
     },
     "metadata": {},
     "output_type": "display_data"
    }
   ],
   "source": [
    "Cohens_D2 = meandiff2/pooled_sd2\n",
    "Cohens_D2"
   ]
  },
  {
   "cell_type": "markdown",
   "metadata": {},
   "source": [
    "## Answer:\n",
    "#### Here also t test result shows significant difference between male status judgement towards anger emotion, with and without attribution provided, but the resutls is in contrast with female's judgement, so yes, we have a double standard here."
   ]
  },
  {
   "cell_type": "markdown",
   "metadata": {},
   "source": [
    "# Part D. \n",
    "- Two researchers reported on an intervention program for women with abusive partners. The study involved a 10-week intervention program and a three-year follow-up, and used an experimental (intervention) and control group. At the end of the 10-week intervention period the mean quality-of-life score for the intervention group was 5.03 with a standard deviation of 1.01 and a sample size of 135. For the control group the mean was 4.61 with a standard deviation of 1.13 and a sample size of 130. Do these data indicate that the intervention was successful in terms of the quality-of-life measure?\n",
    "- Calculate a confidence interval for the difference in group means. Then calculate a d-family measure of effect size for that difference.\n",
    "- Another way to investigate the effectiveness of the intervention described above would be to note that the mean quality-of-life score before the intervention was 4.47 with a standard deviation of 1.18. The quality-of-life score was 5.03 after the intervention with a standard deviation of 1.01. The sample size was 135 at each time. What do these data tell you about the effect of the intervention? (Note: You don’t have the difference scores, but assume that the standard deviation of difference scores was 1.30.)\n",
    "- For the control condition of the experiment the beginning and 10-week means were 4.32 and 4.61 with standard deviations of 0.98 and 1.13, respectively. The sample size was 130. Using the data from this group and the intervention group, plot the change in pre- to post-test scores for the two groups and interpret what you see. (If you wish the information, the standard deviation of the difference was 1.25.)"
   ]
  },
  {
   "cell_type": "markdown",
   "metadata": {},
   "source": [
    "# METHOD A: REPLICATING DATA"
   ]
  },
  {
   "cell_type": "code",
   "execution_count": 28,
   "metadata": {},
   "outputs": [],
   "source": [
    "library(rstatix)\n",
    "library(ggpubr)\n",
    "library(tidyverse)"
   ]
  },
  {
   "cell_type": "code",
   "execution_count": 18,
   "metadata": {},
   "outputs": [],
   "source": [
    "after_intervention_control_mean = c(5.03, 4.61)\n",
    "after_intervention_control_sd = c(1.01, 1.13)\n",
    "n_intervention_control = c(135, 130)\n",
    "\n",
    "\n",
    "set.seed(12)\n",
    "\n",
    "simulated_data = lapply(seq_along(after_intervention_control_mean), function(i) {\n",
    "  rnorm(n_intervention_control[i], mean = after_intervention_control_mean[i], sd = after_intervention_control_sd[i])\n",
    "})\n",
    "\n",
    "\n",
    "abusive_data = data.frame(\n",
    "  Group = rep(seq_along(after_intervention_control_mean), times = sapply(simulated_data, length)),\n",
    "  QOL = unlist(simulated_data)\n",
    ")"
   ]
  },
  {
   "cell_type": "code",
   "execution_count": 22,
   "metadata": {
    "scrolled": true
   },
   "outputs": [
    {
     "data": {
      "text/html": [
       "<table class=\"dataframe\">\n",
       "<caption>A data.frame: 265 × 2</caption>\n",
       "<thead>\n",
       "\t<tr><th scope=col>Group</th><th scope=col>QOL</th></tr>\n",
       "\t<tr><th scope=col>&lt;chr&gt;</th><th scope=col>&lt;dbl&gt;</th></tr>\n",
       "</thead>\n",
       "<tbody>\n",
       "\t<tr><td>Intervention</td><td>3.534627</td></tr>\n",
       "\t<tr><td>Intervention</td><td>6.622941</td></tr>\n",
       "\t<tr><td>Intervention</td><td>4.063688</td></tr>\n",
       "\t<tr><td>Intervention</td><td>4.100795</td></tr>\n",
       "\t<tr><td>Intervention</td><td>3.012381</td></tr>\n",
       "\t<tr><td>Intervention</td><td>4.754981</td></tr>\n",
       "\t<tr><td>Intervention</td><td>4.711498</td></tr>\n",
       "\t<tr><td>Intervention</td><td>4.395462</td></tr>\n",
       "\t<tr><td>Intervention</td><td>4.922471</td></tr>\n",
       "\t<tr><td>Intervention</td><td>5.462295</td></tr>\n",
       "\t<tr><td>Intervention</td><td>4.244503</td></tr>\n",
       "\t<tr><td>Intervention</td><td>3.723179</td></tr>\n",
       "\t<tr><td>Intervention</td><td>4.242638</td></tr>\n",
       "\t<tr><td>Intervention</td><td>5.042071</td></tr>\n",
       "\t<tr><td>Intervention</td><td>4.876060</td></tr>\n",
       "\t<tr><td>Intervention</td><td>4.319501</td></tr>\n",
       "\t<tr><td>Intervention</td><td>6.230768</td></tr>\n",
       "\t<tr><td>Intervention</td><td>5.373917</td></tr>\n",
       "\t<tr><td>Intervention</td><td>5.542038</td></tr>\n",
       "\t<tr><td>Intervention</td><td>4.733762</td></tr>\n",
       "\t<tr><td>Intervention</td><td>5.255878</td></tr>\n",
       "\t<tr><td>Intervention</td><td>7.057273</td></tr>\n",
       "\t<tr><td>Intervention</td><td>6.052099</td></tr>\n",
       "\t<tr><td>Intervention</td><td>4.724516</td></tr>\n",
       "\t<tr><td>Intervention</td><td>3.994503</td></tr>\n",
       "\t<tr><td>Intervention</td><td>4.759941</td></tr>\n",
       "\t<tr><td>Intervention</td><td>4.828903</td></tr>\n",
       "\t<tr><td>Intervention</td><td>5.162434</td></tr>\n",
       "\t<tr><td>Intervention</td><td>5.177258</td></tr>\n",
       "\t<tr><td>Intervention</td><td>5.395685</td></tr>\n",
       "\t<tr><td>⋮</td><td>⋮</td></tr>\n",
       "\t<tr><td>Control</td><td>3.134821</td></tr>\n",
       "\t<tr><td>Control</td><td>4.151921</td></tr>\n",
       "\t<tr><td>Control</td><td>6.145779</td></tr>\n",
       "\t<tr><td>Control</td><td>3.862788</td></tr>\n",
       "\t<tr><td>Control</td><td>3.576523</td></tr>\n",
       "\t<tr><td>Control</td><td>4.754932</td></tr>\n",
       "\t<tr><td>Control</td><td>4.355257</td></tr>\n",
       "\t<tr><td>Control</td><td>5.367210</td></tr>\n",
       "\t<tr><td>Control</td><td>5.217711</td></tr>\n",
       "\t<tr><td>Control</td><td>4.547548</td></tr>\n",
       "\t<tr><td>Control</td><td>5.177376</td></tr>\n",
       "\t<tr><td>Control</td><td>3.886513</td></tr>\n",
       "\t<tr><td>Control</td><td>6.647238</td></tr>\n",
       "\t<tr><td>Control</td><td>5.738551</td></tr>\n",
       "\t<tr><td>Control</td><td>5.601832</td></tr>\n",
       "\t<tr><td>Control</td><td>4.096004</td></tr>\n",
       "\t<tr><td>Control</td><td>4.510114</td></tr>\n",
       "\t<tr><td>Control</td><td>4.654819</td></tr>\n",
       "\t<tr><td>Control</td><td>5.228189</td></tr>\n",
       "\t<tr><td>Control</td><td>4.354973</td></tr>\n",
       "\t<tr><td>Control</td><td>5.054832</td></tr>\n",
       "\t<tr><td>Control</td><td>4.749648</td></tr>\n",
       "\t<tr><td>Control</td><td>4.792254</td></tr>\n",
       "\t<tr><td>Control</td><td>3.169458</td></tr>\n",
       "\t<tr><td>Control</td><td>3.279762</td></tr>\n",
       "\t<tr><td>Control</td><td>4.753124</td></tr>\n",
       "\t<tr><td>Control</td><td>6.577538</td></tr>\n",
       "\t<tr><td>Control</td><td>3.947565</td></tr>\n",
       "\t<tr><td>Control</td><td>4.106939</td></tr>\n",
       "\t<tr><td>Control</td><td>4.511767</td></tr>\n",
       "</tbody>\n",
       "</table>\n"
      ],
      "text/latex": [
       "A data.frame: 265 × 2\n",
       "\\begin{tabular}{ll}\n",
       " Group & QOL\\\\\n",
       " <chr> & <dbl>\\\\\n",
       "\\hline\n",
       "\t Intervention & 3.534627\\\\\n",
       "\t Intervention & 6.622941\\\\\n",
       "\t Intervention & 4.063688\\\\\n",
       "\t Intervention & 4.100795\\\\\n",
       "\t Intervention & 3.012381\\\\\n",
       "\t Intervention & 4.754981\\\\\n",
       "\t Intervention & 4.711498\\\\\n",
       "\t Intervention & 4.395462\\\\\n",
       "\t Intervention & 4.922471\\\\\n",
       "\t Intervention & 5.462295\\\\\n",
       "\t Intervention & 4.244503\\\\\n",
       "\t Intervention & 3.723179\\\\\n",
       "\t Intervention & 4.242638\\\\\n",
       "\t Intervention & 5.042071\\\\\n",
       "\t Intervention & 4.876060\\\\\n",
       "\t Intervention & 4.319501\\\\\n",
       "\t Intervention & 6.230768\\\\\n",
       "\t Intervention & 5.373917\\\\\n",
       "\t Intervention & 5.542038\\\\\n",
       "\t Intervention & 4.733762\\\\\n",
       "\t Intervention & 5.255878\\\\\n",
       "\t Intervention & 7.057273\\\\\n",
       "\t Intervention & 6.052099\\\\\n",
       "\t Intervention & 4.724516\\\\\n",
       "\t Intervention & 3.994503\\\\\n",
       "\t Intervention & 4.759941\\\\\n",
       "\t Intervention & 4.828903\\\\\n",
       "\t Intervention & 5.162434\\\\\n",
       "\t Intervention & 5.177258\\\\\n",
       "\t Intervention & 5.395685\\\\\n",
       "\t ⋮ & ⋮\\\\\n",
       "\t Control & 3.134821\\\\\n",
       "\t Control & 4.151921\\\\\n",
       "\t Control & 6.145779\\\\\n",
       "\t Control & 3.862788\\\\\n",
       "\t Control & 3.576523\\\\\n",
       "\t Control & 4.754932\\\\\n",
       "\t Control & 4.355257\\\\\n",
       "\t Control & 5.367210\\\\\n",
       "\t Control & 5.217711\\\\\n",
       "\t Control & 4.547548\\\\\n",
       "\t Control & 5.177376\\\\\n",
       "\t Control & 3.886513\\\\\n",
       "\t Control & 6.647238\\\\\n",
       "\t Control & 5.738551\\\\\n",
       "\t Control & 5.601832\\\\\n",
       "\t Control & 4.096004\\\\\n",
       "\t Control & 4.510114\\\\\n",
       "\t Control & 4.654819\\\\\n",
       "\t Control & 5.228189\\\\\n",
       "\t Control & 4.354973\\\\\n",
       "\t Control & 5.054832\\\\\n",
       "\t Control & 4.749648\\\\\n",
       "\t Control & 4.792254\\\\\n",
       "\t Control & 3.169458\\\\\n",
       "\t Control & 3.279762\\\\\n",
       "\t Control & 4.753124\\\\\n",
       "\t Control & 6.577538\\\\\n",
       "\t Control & 3.947565\\\\\n",
       "\t Control & 4.106939\\\\\n",
       "\t Control & 4.511767\\\\\n",
       "\\end{tabular}\n"
      ],
      "text/markdown": [
       "\n",
       "A data.frame: 265 × 2\n",
       "\n",
       "| Group &lt;chr&gt; | QOL &lt;dbl&gt; |\n",
       "|---|---|\n",
       "| Intervention | 3.534627 |\n",
       "| Intervention | 6.622941 |\n",
       "| Intervention | 4.063688 |\n",
       "| Intervention | 4.100795 |\n",
       "| Intervention | 3.012381 |\n",
       "| Intervention | 4.754981 |\n",
       "| Intervention | 4.711498 |\n",
       "| Intervention | 4.395462 |\n",
       "| Intervention | 4.922471 |\n",
       "| Intervention | 5.462295 |\n",
       "| Intervention | 4.244503 |\n",
       "| Intervention | 3.723179 |\n",
       "| Intervention | 4.242638 |\n",
       "| Intervention | 5.042071 |\n",
       "| Intervention | 4.876060 |\n",
       "| Intervention | 4.319501 |\n",
       "| Intervention | 6.230768 |\n",
       "| Intervention | 5.373917 |\n",
       "| Intervention | 5.542038 |\n",
       "| Intervention | 4.733762 |\n",
       "| Intervention | 5.255878 |\n",
       "| Intervention | 7.057273 |\n",
       "| Intervention | 6.052099 |\n",
       "| Intervention | 4.724516 |\n",
       "| Intervention | 3.994503 |\n",
       "| Intervention | 4.759941 |\n",
       "| Intervention | 4.828903 |\n",
       "| Intervention | 5.162434 |\n",
       "| Intervention | 5.177258 |\n",
       "| Intervention | 5.395685 |\n",
       "| ⋮ | ⋮ |\n",
       "| Control | 3.134821 |\n",
       "| Control | 4.151921 |\n",
       "| Control | 6.145779 |\n",
       "| Control | 3.862788 |\n",
       "| Control | 3.576523 |\n",
       "| Control | 4.754932 |\n",
       "| Control | 4.355257 |\n",
       "| Control | 5.367210 |\n",
       "| Control | 5.217711 |\n",
       "| Control | 4.547548 |\n",
       "| Control | 5.177376 |\n",
       "| Control | 3.886513 |\n",
       "| Control | 6.647238 |\n",
       "| Control | 5.738551 |\n",
       "| Control | 5.601832 |\n",
       "| Control | 4.096004 |\n",
       "| Control | 4.510114 |\n",
       "| Control | 4.654819 |\n",
       "| Control | 5.228189 |\n",
       "| Control | 4.354973 |\n",
       "| Control | 5.054832 |\n",
       "| Control | 4.749648 |\n",
       "| Control | 4.792254 |\n",
       "| Control | 3.169458 |\n",
       "| Control | 3.279762 |\n",
       "| Control | 4.753124 |\n",
       "| Control | 6.577538 |\n",
       "| Control | 3.947565 |\n",
       "| Control | 4.106939 |\n",
       "| Control | 4.511767 |\n",
       "\n"
      ],
      "text/plain": [
       "    Group        QOL     \n",
       "1   Intervention 3.534627\n",
       "2   Intervention 6.622941\n",
       "3   Intervention 4.063688\n",
       "4   Intervention 4.100795\n",
       "5   Intervention 3.012381\n",
       "6   Intervention 4.754981\n",
       "7   Intervention 4.711498\n",
       "8   Intervention 4.395462\n",
       "9   Intervention 4.922471\n",
       "10  Intervention 5.462295\n",
       "11  Intervention 4.244503\n",
       "12  Intervention 3.723179\n",
       "13  Intervention 4.242638\n",
       "14  Intervention 5.042071\n",
       "15  Intervention 4.876060\n",
       "16  Intervention 4.319501\n",
       "17  Intervention 6.230768\n",
       "18  Intervention 5.373917\n",
       "19  Intervention 5.542038\n",
       "20  Intervention 4.733762\n",
       "21  Intervention 5.255878\n",
       "22  Intervention 7.057273\n",
       "23  Intervention 6.052099\n",
       "24  Intervention 4.724516\n",
       "25  Intervention 3.994503\n",
       "26  Intervention 4.759941\n",
       "27  Intervention 4.828903\n",
       "28  Intervention 5.162434\n",
       "29  Intervention 5.177258\n",
       "30  Intervention 5.395685\n",
       "⋮   ⋮            ⋮       \n",
       "236 Control      3.134821\n",
       "237 Control      4.151921\n",
       "238 Control      6.145779\n",
       "239 Control      3.862788\n",
       "240 Control      3.576523\n",
       "241 Control      4.754932\n",
       "242 Control      4.355257\n",
       "243 Control      5.367210\n",
       "244 Control      5.217711\n",
       "245 Control      4.547548\n",
       "246 Control      5.177376\n",
       "247 Control      3.886513\n",
       "248 Control      6.647238\n",
       "249 Control      5.738551\n",
       "250 Control      5.601832\n",
       "251 Control      4.096004\n",
       "252 Control      4.510114\n",
       "253 Control      4.654819\n",
       "254 Control      5.228189\n",
       "255 Control      4.354973\n",
       "256 Control      5.054832\n",
       "257 Control      4.749648\n",
       "258 Control      4.792254\n",
       "259 Control      3.169458\n",
       "260 Control      3.279762\n",
       "261 Control      4.753124\n",
       "262 Control      6.577538\n",
       "263 Control      3.947565\n",
       "264 Control      4.106939\n",
       "265 Control      4.511767"
      ]
     },
     "metadata": {},
     "output_type": "display_data"
    }
   ],
   "source": [
    "abusive_data"
   ]
  },
  {
   "cell_type": "code",
   "execution_count": 21,
   "metadata": {},
   "outputs": [],
   "source": [
    "abusive_data = abusive_data%>% mutate (Group = ifelse(Group == \"1\", \"Intervention\", \"Control\"))"
   ]
  },
  {
   "cell_type": "code",
   "execution_count": 23,
   "metadata": {},
   "outputs": [
    {
     "data": {
      "text/html": [
       "<table class=\"dataframe\">\n",
       "<caption>A rstatix_test: 1 × 8</caption>\n",
       "<thead>\n",
       "\t<tr><th></th><th scope=col>.y.</th><th scope=col>group1</th><th scope=col>group2</th><th scope=col>n1</th><th scope=col>n2</th><th scope=col>statistic</th><th scope=col>df</th><th scope=col>p</th></tr>\n",
       "\t<tr><th></th><th scope=col>&lt;chr&gt;</th><th scope=col>&lt;chr&gt;</th><th scope=col>&lt;chr&gt;</th><th scope=col>&lt;int&gt;</th><th scope=col>&lt;int&gt;</th><th scope=col>&lt;dbl&gt;</th><th scope=col>&lt;dbl&gt;</th><th scope=col>&lt;dbl&gt;</th></tr>\n",
       "</thead>\n",
       "<tbody>\n",
       "\t<tr><th scope=row>1</th><td>QOL</td><td>Control</td><td>Intervention</td><td>130</td><td>135</td><td>-3.789022</td><td>251.4577</td><td>0.000189</td></tr>\n",
       "</tbody>\n",
       "</table>\n"
      ],
      "text/latex": [
       "A rstatix\\_test: 1 × 8\n",
       "\\begin{tabular}{r|llllllll}\n",
       "  & .y. & group1 & group2 & n1 & n2 & statistic & df & p\\\\\n",
       "  & <chr> & <chr> & <chr> & <int> & <int> & <dbl> & <dbl> & <dbl>\\\\\n",
       "\\hline\n",
       "\t1 & QOL & Control & Intervention & 130 & 135 & -3.789022 & 251.4577 & 0.000189\\\\\n",
       "\\end{tabular}\n"
      ],
      "text/markdown": [
       "\n",
       "A rstatix_test: 1 × 8\n",
       "\n",
       "| <!--/--> | .y. &lt;chr&gt; | group1 &lt;chr&gt; | group2 &lt;chr&gt; | n1 &lt;int&gt; | n2 &lt;int&gt; | statistic &lt;dbl&gt; | df &lt;dbl&gt; | p &lt;dbl&gt; |\n",
       "|---|---|---|---|---|---|---|---|---|\n",
       "| 1 | QOL | Control | Intervention | 130 | 135 | -3.789022 | 251.4577 | 0.000189 |\n",
       "\n"
      ],
      "text/plain": [
       "  .y. group1  group2       n1  n2  statistic df       p       \n",
       "1 QOL Control Intervention 130 135 -3.789022 251.4577 0.000189"
      ]
     },
     "metadata": {},
     "output_type": "display_data"
    }
   ],
   "source": [
    "abusive_data %>% t_test(QOL~Group)"
   ]
  },
  {
   "cell_type": "code",
   "execution_count": 24,
   "metadata": {},
   "outputs": [
    {
     "data": {
      "text/html": [
       "<table class=\"dataframe\">\n",
       "<caption>A rstatix_test: 1 × 7</caption>\n",
       "<thead>\n",
       "\t<tr><th></th><th scope=col>.y.</th><th scope=col>group1</th><th scope=col>group2</th><th scope=col>effsize</th><th scope=col>n1</th><th scope=col>n2</th><th scope=col>magnitude</th></tr>\n",
       "\t<tr><th></th><th scope=col>&lt;chr&gt;</th><th scope=col>&lt;chr&gt;</th><th scope=col>&lt;chr&gt;</th><th scope=col>&lt;dbl&gt;</th><th scope=col>&lt;int&gt;</th><th scope=col>&lt;int&gt;</th><th scope=col>&lt;ord&gt;</th></tr>\n",
       "</thead>\n",
       "<tbody>\n",
       "\t<tr><th scope=row>1</th><td>QOL</td><td>Control</td><td>Intervention</td><td>-0.4663752</td><td>130</td><td>135</td><td>small</td></tr>\n",
       "</tbody>\n",
       "</table>\n"
      ],
      "text/latex": [
       "A rstatix\\_test: 1 × 7\n",
       "\\begin{tabular}{r|lllllll}\n",
       "  & .y. & group1 & group2 & effsize & n1 & n2 & magnitude\\\\\n",
       "  & <chr> & <chr> & <chr> & <dbl> & <int> & <int> & <ord>\\\\\n",
       "\\hline\n",
       "\t1 & QOL & Control & Intervention & -0.4663752 & 130 & 135 & small\\\\\n",
       "\\end{tabular}\n"
      ],
      "text/markdown": [
       "\n",
       "A rstatix_test: 1 × 7\n",
       "\n",
       "| <!--/--> | .y. &lt;chr&gt; | group1 &lt;chr&gt; | group2 &lt;chr&gt; | effsize &lt;dbl&gt; | n1 &lt;int&gt; | n2 &lt;int&gt; | magnitude &lt;ord&gt; |\n",
       "|---|---|---|---|---|---|---|---|\n",
       "| 1 | QOL | Control | Intervention | -0.4663752 | 130 | 135 | small |\n",
       "\n"
      ],
      "text/plain": [
       "  .y. group1  group2       effsize    n1  n2  magnitude\n",
       "1 QOL Control Intervention -0.4663752 130 135 small    "
      ]
     },
     "metadata": {},
     "output_type": "display_data"
    }
   ],
   "source": [
    "abusive_data %>% cohens_d(QOL~Group)"
   ]
  },
  {
   "cell_type": "code",
   "execution_count": 40,
   "metadata": {},
   "outputs": [
    {
     "data": {
      "text/html": [
       "<style>\n",
       ".list-inline {list-style: none; margin:0; padding: 0}\n",
       ".list-inline>li {display: inline-block}\n",
       ".list-inline>li:not(:last-child)::after {content: \"\\00b7\"; padding: 0 .5ex}\n",
       "</style>\n",
       "<ol class=list-inline><li>4.88012122682196</li><li>5.19003643926972</li></ol>\n"
      ],
      "text/latex": [
       "\\begin{enumerate*}\n",
       "\\item 4.88012122682196\n",
       "\\item 5.19003643926972\n",
       "\\end{enumerate*}\n"
      ],
      "text/markdown": [
       "1. 4.88012122682196\n",
       "2. 5.19003643926972\n",
       "\n",
       "\n"
      ],
      "text/plain": [
       "[1] 4.880121 5.190036\n",
       "attr(,\"conf.level\")\n",
       "[1] 0.95"
      ]
     },
     "metadata": {},
     "output_type": "display_data"
    }
   ],
   "source": [
    "t.test(abusive_data$QOL[abusive_data$Group==\"Intervention\"])$conf.int"
   ]
  },
  {
   "cell_type": "code",
   "execution_count": 41,
   "metadata": {},
   "outputs": [
    {
     "data": {
      "text/html": [
       "<style>\n",
       ".list-inline {list-style: none; margin:0; padding: 0}\n",
       ".list-inline>li {display: inline-block}\n",
       ".list-inline>li:not(:last-child)::after {content: \"\\00b7\"; padding: 0 .5ex}\n",
       "</style>\n",
       "<ol class=list-inline><li>4.37820035688786</li><li>4.75600833568484</li></ol>\n"
      ],
      "text/latex": [
       "\\begin{enumerate*}\n",
       "\\item 4.37820035688786\n",
       "\\item 4.75600833568484\n",
       "\\end{enumerate*}\n"
      ],
      "text/markdown": [
       "1. 4.37820035688786\n",
       "2. 4.75600833568484\n",
       "\n",
       "\n"
      ],
      "text/plain": [
       "[1] 4.378200 4.756008\n",
       "attr(,\"conf.level\")\n",
       "[1] 0.95"
      ]
     },
     "metadata": {},
     "output_type": "display_data"
    }
   ],
   "source": [
    "t.test(abusive_data$QOL[abusive_data$Group==\"Control\"])$conf.int"
   ]
  },
  {
   "cell_type": "markdown",
   "metadata": {},
   "source": [
    "## Answer\n",
    "#### Since we have two sets of independent data to compare, I computed a independent t test, which low p value indicates that the Intervention was probably a success, but low effect size computed using cohen's d test shows low effect size magnitude which indicates eventhough the mean comparison shows significant difference, yet intervention might not be as effective as imagined."
   ]
  },
  {
   "cell_type": "markdown",
   "metadata": {},
   "source": [
    "# Answer:\n",
    "#### Using t test to calculate the mean difference significance of control and intervention groups, the p value is small so the difference in meaningful and the intervention was probably effective, the confidence interval is also calculated which is 0.083_0.58 as the t test reports, the conhen's d was calculated manually, which reports 0.32, which is low in terms of Cohen's d."
   ]
  },
  {
   "cell_type": "markdown",
   "metadata": {},
   "source": [
    "## Part Two\n",
    "## Comparison of before and after intervention in the intervention group."
   ]
  },
  {
   "cell_type": "code",
   "execution_count": 29,
   "metadata": {},
   "outputs": [],
   "source": [
    "intervention_mean = c(4.47, 5.03)\n",
    "intervention_sd = c(1.18, 1.01)\n",
    "n_intervention = c(135,135)\n",
    "\n",
    "set.seed(14)\n",
    " \n",
    "simulated_data2 = lapply(seq_along(intervention_mean), function(i) {\n",
    "  rnorm(n_intervention[i], mean = intervention_mean[i], sd = intervention_sd[i])\n",
    "})\n",
    "\n",
    "\n",
    "intervention_before_after = data.frame(\n",
    "  Group = rep(seq_along(intervention_mean), times = sapply(simulated_data2, length)),\n",
    "  QOL = unlist(simulated_data2)\n",
    ")"
   ]
  },
  {
   "cell_type": "code",
   "execution_count": 32,
   "metadata": {
    "scrolled": true
   },
   "outputs": [
    {
     "data": {
      "text/html": [
       "<table class=\"dataframe\">\n",
       "<caption>A data.frame: 270 × 2</caption>\n",
       "<thead>\n",
       "\t<tr><th scope=col>Group</th><th scope=col>QOL</th></tr>\n",
       "\t<tr><th scope=col>&lt;chr&gt;</th><th scope=col>&lt;dbl&gt;</th></tr>\n",
       "</thead>\n",
       "<tbody>\n",
       "\t<tr><td>Before_Int</td><td>3.689017</td></tr>\n",
       "\t<tr><td>Before_Int</td><td>6.498366</td></tr>\n",
       "\t<tr><td>Before_Int</td><td>6.973567</td></tr>\n",
       "\t<tr><td>Before_Int</td><td>6.236641</td></tr>\n",
       "\t<tr><td>Before_Int</td><td>4.427354</td></tr>\n",
       "\t<tr><td>Before_Int</td><td>5.923695</td></tr>\n",
       "\t<tr><td>Before_Int</td><td>4.393441</td></tr>\n",
       "\t<tr><td>Before_Int</td><td>5.731413</td></tr>\n",
       "\t<tr><td>Before_Int</td><td>4.025181</td></tr>\n",
       "\t<tr><td>Before_Int</td><td>5.700956</td></tr>\n",
       "\t<tr><td>Before_Int</td><td>4.018270</td></tr>\n",
       "\t<tr><td>Before_Int</td><td>4.823317</td></tr>\n",
       "\t<tr><td>Before_Int</td><td>5.265603</td></tr>\n",
       "\t<tr><td>Before_Int</td><td>4.124477</td></tr>\n",
       "\t<tr><td>Before_Int</td><td>5.045903</td></tr>\n",
       "\t<tr><td>Before_Int</td><td>5.511706</td></tr>\n",
       "\t<tr><td>Before_Int</td><td>6.668044</td></tr>\n",
       "\t<tr><td>Before_Int</td><td>6.371836</td></tr>\n",
       "\t<tr><td>Before_Int</td><td>4.629866</td></tr>\n",
       "\t<tr><td>Before_Int</td><td>5.753941</td></tr>\n",
       "\t<tr><td>Before_Int</td><td>2.975159</td></tr>\n",
       "\t<tr><td>Before_Int</td><td>4.235672</td></tr>\n",
       "\t<tr><td>Before_Int</td><td>4.633862</td></tr>\n",
       "\t<tr><td>Before_Int</td><td>4.140384</td></tr>\n",
       "\t<tr><td>Before_Int</td><td>5.306525</td></tr>\n",
       "\t<tr><td>Before_Int</td><td>3.565400</td></tr>\n",
       "\t<tr><td>Before_Int</td><td>6.173168</td></tr>\n",
       "\t<tr><td>Before_Int</td><td>5.466958</td></tr>\n",
       "\t<tr><td>Before_Int</td><td>3.998743</td></tr>\n",
       "\t<tr><td>Before_Int</td><td>2.785234</td></tr>\n",
       "\t<tr><td>⋮</td><td>⋮</td></tr>\n",
       "\t<tr><td>After_Int</td><td>5.606054</td></tr>\n",
       "\t<tr><td>After_Int</td><td>4.569953</td></tr>\n",
       "\t<tr><td>After_Int</td><td>4.543770</td></tr>\n",
       "\t<tr><td>After_Int</td><td>6.897983</td></tr>\n",
       "\t<tr><td>After_Int</td><td>6.139617</td></tr>\n",
       "\t<tr><td>After_Int</td><td>3.548425</td></tr>\n",
       "\t<tr><td>After_Int</td><td>7.143186</td></tr>\n",
       "\t<tr><td>After_Int</td><td>5.878220</td></tr>\n",
       "\t<tr><td>After_Int</td><td>3.969083</td></tr>\n",
       "\t<tr><td>After_Int</td><td>3.474549</td></tr>\n",
       "\t<tr><td>After_Int</td><td>6.702174</td></tr>\n",
       "\t<tr><td>After_Int</td><td>2.719612</td></tr>\n",
       "\t<tr><td>After_Int</td><td>6.066908</td></tr>\n",
       "\t<tr><td>After_Int</td><td>6.304236</td></tr>\n",
       "\t<tr><td>After_Int</td><td>5.166695</td></tr>\n",
       "\t<tr><td>After_Int</td><td>3.080344</td></tr>\n",
       "\t<tr><td>After_Int</td><td>4.340146</td></tr>\n",
       "\t<tr><td>After_Int</td><td>3.997428</td></tr>\n",
       "\t<tr><td>After_Int</td><td>2.991304</td></tr>\n",
       "\t<tr><td>After_Int</td><td>3.680541</td></tr>\n",
       "\t<tr><td>After_Int</td><td>4.691409</td></tr>\n",
       "\t<tr><td>After_Int</td><td>3.812444</td></tr>\n",
       "\t<tr><td>After_Int</td><td>4.851331</td></tr>\n",
       "\t<tr><td>After_Int</td><td>5.207842</td></tr>\n",
       "\t<tr><td>After_Int</td><td>4.317000</td></tr>\n",
       "\t<tr><td>After_Int</td><td>6.284233</td></tr>\n",
       "\t<tr><td>After_Int</td><td>4.243532</td></tr>\n",
       "\t<tr><td>After_Int</td><td>5.302503</td></tr>\n",
       "\t<tr><td>After_Int</td><td>6.484241</td></tr>\n",
       "\t<tr><td>After_Int</td><td>5.249437</td></tr>\n",
       "</tbody>\n",
       "</table>\n"
      ],
      "text/latex": [
       "A data.frame: 270 × 2\n",
       "\\begin{tabular}{ll}\n",
       " Group & QOL\\\\\n",
       " <chr> & <dbl>\\\\\n",
       "\\hline\n",
       "\t Before\\_Int & 3.689017\\\\\n",
       "\t Before\\_Int & 6.498366\\\\\n",
       "\t Before\\_Int & 6.973567\\\\\n",
       "\t Before\\_Int & 6.236641\\\\\n",
       "\t Before\\_Int & 4.427354\\\\\n",
       "\t Before\\_Int & 5.923695\\\\\n",
       "\t Before\\_Int & 4.393441\\\\\n",
       "\t Before\\_Int & 5.731413\\\\\n",
       "\t Before\\_Int & 4.025181\\\\\n",
       "\t Before\\_Int & 5.700956\\\\\n",
       "\t Before\\_Int & 4.018270\\\\\n",
       "\t Before\\_Int & 4.823317\\\\\n",
       "\t Before\\_Int & 5.265603\\\\\n",
       "\t Before\\_Int & 4.124477\\\\\n",
       "\t Before\\_Int & 5.045903\\\\\n",
       "\t Before\\_Int & 5.511706\\\\\n",
       "\t Before\\_Int & 6.668044\\\\\n",
       "\t Before\\_Int & 6.371836\\\\\n",
       "\t Before\\_Int & 4.629866\\\\\n",
       "\t Before\\_Int & 5.753941\\\\\n",
       "\t Before\\_Int & 2.975159\\\\\n",
       "\t Before\\_Int & 4.235672\\\\\n",
       "\t Before\\_Int & 4.633862\\\\\n",
       "\t Before\\_Int & 4.140384\\\\\n",
       "\t Before\\_Int & 5.306525\\\\\n",
       "\t Before\\_Int & 3.565400\\\\\n",
       "\t Before\\_Int & 6.173168\\\\\n",
       "\t Before\\_Int & 5.466958\\\\\n",
       "\t Before\\_Int & 3.998743\\\\\n",
       "\t Before\\_Int & 2.785234\\\\\n",
       "\t ⋮ & ⋮\\\\\n",
       "\t After\\_Int & 5.606054\\\\\n",
       "\t After\\_Int & 4.569953\\\\\n",
       "\t After\\_Int & 4.543770\\\\\n",
       "\t After\\_Int & 6.897983\\\\\n",
       "\t After\\_Int & 6.139617\\\\\n",
       "\t After\\_Int & 3.548425\\\\\n",
       "\t After\\_Int & 7.143186\\\\\n",
       "\t After\\_Int & 5.878220\\\\\n",
       "\t After\\_Int & 3.969083\\\\\n",
       "\t After\\_Int & 3.474549\\\\\n",
       "\t After\\_Int & 6.702174\\\\\n",
       "\t After\\_Int & 2.719612\\\\\n",
       "\t After\\_Int & 6.066908\\\\\n",
       "\t After\\_Int & 6.304236\\\\\n",
       "\t After\\_Int & 5.166695\\\\\n",
       "\t After\\_Int & 3.080344\\\\\n",
       "\t After\\_Int & 4.340146\\\\\n",
       "\t After\\_Int & 3.997428\\\\\n",
       "\t After\\_Int & 2.991304\\\\\n",
       "\t After\\_Int & 3.680541\\\\\n",
       "\t After\\_Int & 4.691409\\\\\n",
       "\t After\\_Int & 3.812444\\\\\n",
       "\t After\\_Int & 4.851331\\\\\n",
       "\t After\\_Int & 5.207842\\\\\n",
       "\t After\\_Int & 4.317000\\\\\n",
       "\t After\\_Int & 6.284233\\\\\n",
       "\t After\\_Int & 4.243532\\\\\n",
       "\t After\\_Int & 5.302503\\\\\n",
       "\t After\\_Int & 6.484241\\\\\n",
       "\t After\\_Int & 5.249437\\\\\n",
       "\\end{tabular}\n"
      ],
      "text/markdown": [
       "\n",
       "A data.frame: 270 × 2\n",
       "\n",
       "| Group &lt;chr&gt; | QOL &lt;dbl&gt; |\n",
       "|---|---|\n",
       "| Before_Int | 3.689017 |\n",
       "| Before_Int | 6.498366 |\n",
       "| Before_Int | 6.973567 |\n",
       "| Before_Int | 6.236641 |\n",
       "| Before_Int | 4.427354 |\n",
       "| Before_Int | 5.923695 |\n",
       "| Before_Int | 4.393441 |\n",
       "| Before_Int | 5.731413 |\n",
       "| Before_Int | 4.025181 |\n",
       "| Before_Int | 5.700956 |\n",
       "| Before_Int | 4.018270 |\n",
       "| Before_Int | 4.823317 |\n",
       "| Before_Int | 5.265603 |\n",
       "| Before_Int | 4.124477 |\n",
       "| Before_Int | 5.045903 |\n",
       "| Before_Int | 5.511706 |\n",
       "| Before_Int | 6.668044 |\n",
       "| Before_Int | 6.371836 |\n",
       "| Before_Int | 4.629866 |\n",
       "| Before_Int | 5.753941 |\n",
       "| Before_Int | 2.975159 |\n",
       "| Before_Int | 4.235672 |\n",
       "| Before_Int | 4.633862 |\n",
       "| Before_Int | 4.140384 |\n",
       "| Before_Int | 5.306525 |\n",
       "| Before_Int | 3.565400 |\n",
       "| Before_Int | 6.173168 |\n",
       "| Before_Int | 5.466958 |\n",
       "| Before_Int | 3.998743 |\n",
       "| Before_Int | 2.785234 |\n",
       "| ⋮ | ⋮ |\n",
       "| After_Int | 5.606054 |\n",
       "| After_Int | 4.569953 |\n",
       "| After_Int | 4.543770 |\n",
       "| After_Int | 6.897983 |\n",
       "| After_Int | 6.139617 |\n",
       "| After_Int | 3.548425 |\n",
       "| After_Int | 7.143186 |\n",
       "| After_Int | 5.878220 |\n",
       "| After_Int | 3.969083 |\n",
       "| After_Int | 3.474549 |\n",
       "| After_Int | 6.702174 |\n",
       "| After_Int | 2.719612 |\n",
       "| After_Int | 6.066908 |\n",
       "| After_Int | 6.304236 |\n",
       "| After_Int | 5.166695 |\n",
       "| After_Int | 3.080344 |\n",
       "| After_Int | 4.340146 |\n",
       "| After_Int | 3.997428 |\n",
       "| After_Int | 2.991304 |\n",
       "| After_Int | 3.680541 |\n",
       "| After_Int | 4.691409 |\n",
       "| After_Int | 3.812444 |\n",
       "| After_Int | 4.851331 |\n",
       "| After_Int | 5.207842 |\n",
       "| After_Int | 4.317000 |\n",
       "| After_Int | 6.284233 |\n",
       "| After_Int | 4.243532 |\n",
       "| After_Int | 5.302503 |\n",
       "| After_Int | 6.484241 |\n",
       "| After_Int | 5.249437 |\n",
       "\n"
      ],
      "text/plain": [
       "    Group      QOL     \n",
       "1   Before_Int 3.689017\n",
       "2   Before_Int 6.498366\n",
       "3   Before_Int 6.973567\n",
       "4   Before_Int 6.236641\n",
       "5   Before_Int 4.427354\n",
       "6   Before_Int 5.923695\n",
       "7   Before_Int 4.393441\n",
       "8   Before_Int 5.731413\n",
       "9   Before_Int 4.025181\n",
       "10  Before_Int 5.700956\n",
       "11  Before_Int 4.018270\n",
       "12  Before_Int 4.823317\n",
       "13  Before_Int 5.265603\n",
       "14  Before_Int 4.124477\n",
       "15  Before_Int 5.045903\n",
       "16  Before_Int 5.511706\n",
       "17  Before_Int 6.668044\n",
       "18  Before_Int 6.371836\n",
       "19  Before_Int 4.629866\n",
       "20  Before_Int 5.753941\n",
       "21  Before_Int 2.975159\n",
       "22  Before_Int 4.235672\n",
       "23  Before_Int 4.633862\n",
       "24  Before_Int 4.140384\n",
       "25  Before_Int 5.306525\n",
       "26  Before_Int 3.565400\n",
       "27  Before_Int 6.173168\n",
       "28  Before_Int 5.466958\n",
       "29  Before_Int 3.998743\n",
       "30  Before_Int 2.785234\n",
       "⋮   ⋮          ⋮       \n",
       "241 After_Int  5.606054\n",
       "242 After_Int  4.569953\n",
       "243 After_Int  4.543770\n",
       "244 After_Int  6.897983\n",
       "245 After_Int  6.139617\n",
       "246 After_Int  3.548425\n",
       "247 After_Int  7.143186\n",
       "248 After_Int  5.878220\n",
       "249 After_Int  3.969083\n",
       "250 After_Int  3.474549\n",
       "251 After_Int  6.702174\n",
       "252 After_Int  2.719612\n",
       "253 After_Int  6.066908\n",
       "254 After_Int  6.304236\n",
       "255 After_Int  5.166695\n",
       "256 After_Int  3.080344\n",
       "257 After_Int  4.340146\n",
       "258 After_Int  3.997428\n",
       "259 After_Int  2.991304\n",
       "260 After_Int  3.680541\n",
       "261 After_Int  4.691409\n",
       "262 After_Int  3.812444\n",
       "263 After_Int  4.851331\n",
       "264 After_Int  5.207842\n",
       "265 After_Int  4.317000\n",
       "266 After_Int  6.284233\n",
       "267 After_Int  4.243532\n",
       "268 After_Int  5.302503\n",
       "269 After_Int  6.484241\n",
       "270 After_Int  5.249437"
      ]
     },
     "metadata": {},
     "output_type": "display_data"
    }
   ],
   "source": [
    "intervention_before_after"
   ]
  },
  {
   "cell_type": "code",
   "execution_count": 31,
   "metadata": {},
   "outputs": [],
   "source": [
    "intervention_before_after = intervention_before_after%>% mutate (Group = ifelse(Group == \"1\", \"Before_Int\", \"After_Int\"))"
   ]
  },
  {
   "cell_type": "code",
   "execution_count": 34,
   "metadata": {},
   "outputs": [
    {
     "data": {
      "image/png": "[encoded data removed]",
      "text/plain": [
       "plot without title"
      ]
     },
     "metadata": {
      "image/png": {
       "height": 420,
       "width": 420
      }
     },
     "output_type": "display_data"
    }
   ],
   "source": [
    "ggqqplot(intervention_before_after, \"QOL\", facet.by = \"Group\")"
   ]
  },
  {
   "cell_type": "code",
   "execution_count": 35,
   "metadata": {},
   "outputs": [
    {
     "data": {
      "text/html": [
       "<table class=\"dataframe\">\n",
       "<caption>A tibble: 2 × 4</caption>\n",
       "<thead>\n",
       "\t<tr><th scope=col>Group</th><th scope=col>variable</th><th scope=col>statistic</th><th scope=col>p</th></tr>\n",
       "\t<tr><th scope=col>&lt;chr&gt;</th><th scope=col>&lt;chr&gt;</th><th scope=col>&lt;dbl&gt;</th><th scope=col>&lt;dbl&gt;</th></tr>\n",
       "</thead>\n",
       "<tbody>\n",
       "\t<tr><td>After_Int </td><td>QOL</td><td>0.9861024</td><td>0.1892646</td></tr>\n",
       "\t<tr><td>Before_Int</td><td>QOL</td><td>0.9920296</td><td>0.6453702</td></tr>\n",
       "</tbody>\n",
       "</table>\n"
      ],
      "text/latex": [
       "A tibble: 2 × 4\n",
       "\\begin{tabular}{llll}\n",
       " Group & variable & statistic & p\\\\\n",
       " <chr> & <chr> & <dbl> & <dbl>\\\\\n",
       "\\hline\n",
       "\t After\\_Int  & QOL & 0.9861024 & 0.1892646\\\\\n",
       "\t Before\\_Int & QOL & 0.9920296 & 0.6453702\\\\\n",
       "\\end{tabular}\n"
      ],
      "text/markdown": [
       "\n",
       "A tibble: 2 × 4\n",
       "\n",
       "| Group &lt;chr&gt; | variable &lt;chr&gt; | statistic &lt;dbl&gt; | p &lt;dbl&gt; |\n",
       "|---|---|---|---|\n",
       "| After_Int  | QOL | 0.9861024 | 0.1892646 |\n",
       "| Before_Int | QOL | 0.9920296 | 0.6453702 |\n",
       "\n"
      ],
      "text/plain": [
       "  Group      variable statistic p        \n",
       "1 After_Int  QOL      0.9861024 0.1892646\n",
       "2 Before_Int QOL      0.9920296 0.6453702"
      ]
     },
     "metadata": {},
     "output_type": "display_data"
    }
   ],
   "source": [
    "intervention_before_after %>% group_by(Group) %>% shapiro_test(QOL)"
   ]
  },
  {
   "cell_type": "code",
   "execution_count": 37,
   "metadata": {},
   "outputs": [
    {
     "name": "stderr",
     "output_type": "stream",
     "text": [
      "Warning message in leveneTest.default(y = y, group = group, ...):\n",
      "\"group coerced to factor.\"\n"
     ]
    },
    {
     "data": {
      "text/html": [
       "<table class=\"dataframe\">\n",
       "<caption>A tibble: 1 × 4</caption>\n",
       "<thead>\n",
       "\t<tr><th scope=col>df1</th><th scope=col>df2</th><th scope=col>statistic</th><th scope=col>p</th></tr>\n",
       "\t<tr><th scope=col>&lt;int&gt;</th><th scope=col>&lt;int&gt;</th><th scope=col>&lt;dbl&gt;</th><th scope=col>&lt;dbl&gt;</th></tr>\n",
       "</thead>\n",
       "<tbody>\n",
       "\t<tr><td>1</td><td>268</td><td>0.369582</td><td>0.543747</td></tr>\n",
       "</tbody>\n",
       "</table>\n"
      ],
      "text/latex": [
       "A tibble: 1 × 4\n",
       "\\begin{tabular}{llll}\n",
       " df1 & df2 & statistic & p\\\\\n",
       " <int> & <int> & <dbl> & <dbl>\\\\\n",
       "\\hline\n",
       "\t 1 & 268 & 0.369582 & 0.543747\\\\\n",
       "\\end{tabular}\n"
      ],
      "text/markdown": [
       "\n",
       "A tibble: 1 × 4\n",
       "\n",
       "| df1 &lt;int&gt; | df2 &lt;int&gt; | statistic &lt;dbl&gt; | p &lt;dbl&gt; |\n",
       "|---|---|---|---|\n",
       "| 1 | 268 | 0.369582 | 0.543747 |\n",
       "\n"
      ],
      "text/plain": [
       "  df1 df2 statistic p       \n",
       "1 1   268 0.369582  0.543747"
      ]
     },
     "metadata": {},
     "output_type": "display_data"
    }
   ],
   "source": [
    "intervention_before_after %>% levene_test(QOL~Group)"
   ]
  },
  {
   "cell_type": "code",
   "execution_count": 38,
   "metadata": {},
   "outputs": [
    {
     "data": {
      "text/html": [
       "<table class=\"dataframe\">\n",
       "<caption>A data.frame: 0 × 4</caption>\n",
       "<thead>\n",
       "\t<tr><th scope=col>Group</th><th scope=col>QOL</th><th scope=col>is.outlier</th><th scope=col>is.extreme</th></tr>\n",
       "\t<tr><th scope=col>&lt;chr&gt;</th><th scope=col>&lt;dbl&gt;</th><th scope=col>&lt;lgl&gt;</th><th scope=col>&lt;lgl&gt;</th></tr>\n",
       "</thead>\n",
       "<tbody>\n",
       "</tbody>\n",
       "</table>\n"
      ],
      "text/latex": [
       "A data.frame: 0 × 4\n",
       "\\begin{tabular}{llll}\n",
       " Group & QOL & is.outlier & is.extreme\\\\\n",
       " <chr> & <dbl> & <lgl> & <lgl>\\\\\n",
       "\\hline\n",
       "\\end{tabular}\n"
      ],
      "text/markdown": [
       "\n",
       "A data.frame: 0 × 4\n",
       "\n",
       "| Group &lt;chr&gt; | QOL &lt;dbl&gt; | is.outlier &lt;lgl&gt; | is.extreme &lt;lgl&gt; |\n",
       "|---|---|---|---|\n",
       "\n"
      ],
      "text/plain": [
       "     Group QOL is.outlier is.extreme"
      ]
     },
     "metadata": {},
     "output_type": "display_data"
    }
   ],
   "source": [
    "intervention_before_after %>% group_by(Group) %>% identify_outliers(QOL)"
   ]
  },
  {
   "cell_type": "code",
   "execution_count": 33,
   "metadata": {},
   "outputs": [
    {
     "data": {
      "text/html": [
       "<table class=\"dataframe\">\n",
       "<caption>A rstatix_test: 1 × 8</caption>\n",
       "<thead>\n",
       "\t<tr><th></th><th scope=col>.y.</th><th scope=col>group1</th><th scope=col>group2</th><th scope=col>n1</th><th scope=col>n2</th><th scope=col>statistic</th><th scope=col>df</th><th scope=col>p</th></tr>\n",
       "\t<tr><th></th><th scope=col>&lt;chr&gt;</th><th scope=col>&lt;chr&gt;</th><th scope=col>&lt;chr&gt;</th><th scope=col>&lt;int&gt;</th><th scope=col>&lt;int&gt;</th><th scope=col>&lt;dbl&gt;</th><th scope=col>&lt;dbl&gt;</th><th scope=col>&lt;dbl&gt;</th></tr>\n",
       "</thead>\n",
       "<tbody>\n",
       "\t<tr><th scope=row>1</th><td>QOL</td><td>After_Int</td><td>Before_Int</td><td>135</td><td>135</td><td>3.264349</td><td>265.2921</td><td>0.00124</td></tr>\n",
       "</tbody>\n",
       "</table>\n"
      ],
      "text/latex": [
       "A rstatix\\_test: 1 × 8\n",
       "\\begin{tabular}{r|llllllll}\n",
       "  & .y. & group1 & group2 & n1 & n2 & statistic & df & p\\\\\n",
       "  & <chr> & <chr> & <chr> & <int> & <int> & <dbl> & <dbl> & <dbl>\\\\\n",
       "\\hline\n",
       "\t1 & QOL & After\\_Int & Before\\_Int & 135 & 135 & 3.264349 & 265.2921 & 0.00124\\\\\n",
       "\\end{tabular}\n"
      ],
      "text/markdown": [
       "\n",
       "A rstatix_test: 1 × 8\n",
       "\n",
       "| <!--/--> | .y. &lt;chr&gt; | group1 &lt;chr&gt; | group2 &lt;chr&gt; | n1 &lt;int&gt; | n2 &lt;int&gt; | statistic &lt;dbl&gt; | df &lt;dbl&gt; | p &lt;dbl&gt; |\n",
       "|---|---|---|---|---|---|---|---|---|\n",
       "| 1 | QOL | After_Int | Before_Int | 135 | 135 | 3.264349 | 265.2921 | 0.00124 |\n",
       "\n"
      ],
      "text/plain": [
       "  .y. group1    group2     n1  n2  statistic df       p      \n",
       "1 QOL After_Int Before_Int 135 135 3.264349  265.2921 0.00124"
      ]
     },
     "metadata": {},
     "output_type": "display_data"
    }
   ],
   "source": [
    "intervention_before_after %>% t_test(QOL~Group)"
   ]
  },
  {
   "cell_type": "code",
   "execution_count": 39,
   "metadata": {},
   "outputs": [
    {
     "data": {
      "text/html": [
       "<table class=\"dataframe\">\n",
       "<caption>A rstatix_test: 1 × 7</caption>\n",
       "<thead>\n",
       "\t<tr><th></th><th scope=col>.y.</th><th scope=col>group1</th><th scope=col>group2</th><th scope=col>effsize</th><th scope=col>n1</th><th scope=col>n2</th><th scope=col>magnitude</th></tr>\n",
       "\t<tr><th></th><th scope=col>&lt;chr&gt;</th><th scope=col>&lt;chr&gt;</th><th scope=col>&lt;chr&gt;</th><th scope=col>&lt;dbl&gt;</th><th scope=col>&lt;int&gt;</th><th scope=col>&lt;int&gt;</th><th scope=col>&lt;ord&gt;</th></tr>\n",
       "</thead>\n",
       "<tbody>\n",
       "\t<tr><th scope=row>1</th><td>QOL</td><td>After_Int</td><td>Before_Int</td><td>0.3973239</td><td>135</td><td>135</td><td>small</td></tr>\n",
       "</tbody>\n",
       "</table>\n"
      ],
      "text/latex": [
       "A rstatix\\_test: 1 × 7\n",
       "\\begin{tabular}{r|lllllll}\n",
       "  & .y. & group1 & group2 & effsize & n1 & n2 & magnitude\\\\\n",
       "  & <chr> & <chr> & <chr> & <dbl> & <int> & <int> & <ord>\\\\\n",
       "\\hline\n",
       "\t1 & QOL & After\\_Int & Before\\_Int & 0.3973239 & 135 & 135 & small\\\\\n",
       "\\end{tabular}\n"
      ],
      "text/markdown": [
       "\n",
       "A rstatix_test: 1 × 7\n",
       "\n",
       "| <!--/--> | .y. &lt;chr&gt; | group1 &lt;chr&gt; | group2 &lt;chr&gt; | effsize &lt;dbl&gt; | n1 &lt;int&gt; | n2 &lt;int&gt; | magnitude &lt;ord&gt; |\n",
       "|---|---|---|---|---|---|---|---|\n",
       "| 1 | QOL | After_Int | Before_Int | 0.3973239 | 135 | 135 | small |\n",
       "\n"
      ],
      "text/plain": [
       "  .y. group1    group2     effsize   n1  n2  magnitude\n",
       "1 QOL After_Int Before_Int 0.3973239 135 135 small    "
      ]
     },
     "metadata": {},
     "output_type": "display_data"
    }
   ],
   "source": [
    "intervention_before_after %>% cohens_d(QOL~Group)"
   ]
  },
  {
   "cell_type": "markdown",
   "metadata": {},
   "source": [
    "## Answer:\n",
    "#### Here you can see that the before and after intervention mean comparison is meaningful as reported by the t test, but the cohen's d value is too little, so reporting the results researchers must be careful."
   ]
  },
  {
   "cell_type": "markdown",
   "metadata": {},
   "source": [
    "# PART 3 : plotting the differences"
   ]
  },
  {
   "cell_type": "code",
   "execution_count": 101,
   "metadata": {},
   "outputs": [
    {
     "data": {
      "image/png": "[encoded data removed]",
      "text/plain": [
       "Plot with title \"Histogram of subtracted_intervention\""
      ]
     },
     "metadata": {
      "image/png": {
       "height": 420,
       "width": 420
      }
     },
     "output_type": "display_data"
    }
   ],
   "source": [
    "hist(subtracted_intervention, col = \"Red\", breaks = 100)\n",
    "hist(subtracted_control, col = \"Blue\", add = TRUE, breaks = 100)"
   ]
  },
  {
   "cell_type": "code",
   "execution_count": 108,
   "metadata": {},
   "outputs": [
    {
     "data": {
      "image/png": "[encoded data removed]",
      "text/plain": [
       "plot without title"
      ]
     },
     "metadata": {
      "image/png": {
       "height": 420,
       "width": 420
      }
     },
     "output_type": "display_data"
    }
   ],
   "source": [
    "boxplot(subtracted_intervention, subtracted_control)"
   ]
  },
  {
   "cell_type": "markdown",
   "metadata": {},
   "source": [
    "## Answer:\n",
    "#### T test from difference of intervention and control group, both from before and after intervention is low so the null hypothesis is not true and researchers can report that the intervention did make difference, the hitogram shows the same resutls and as its observable, the intervention group has higher stats."
   ]
  },
  {
   "cell_type": "markdown",
   "metadata": {},
   "source": [
    "# METHOD B: MANUAL CALCULATION"
   ]
  },
  {
   "cell_type": "code",
   "execution_count": 6,
   "metadata": {},
   "outputs": [],
   "source": [
    "mean_intervention = 5.03\n",
    "mean_control = 4.61\n",
    "sd_control = 1.13\n",
    "sd_intervention = 1.01\n",
    "n_intervention = 135\n",
    "n_control = 130"
   ]
  },
  {
   "cell_type": "code",
   "execution_count": 7,
   "metadata": {},
   "outputs": [
    {
     "data": {
      "text/html": [
       "3.1859712096036"
      ],
      "text/latex": [
       "3.1859712096036"
      ],
      "text/markdown": [
       "3.1859712096036"
      ],
      "text/plain": [
       "[1] 3.185971"
      ]
     },
     "metadata": {},
     "output_type": "display_data"
    }
   ],
   "source": [
    "t_score = (mean_intervention - mean_control )/sqrt((sd_intervention^2/n_intervention) + (sd_control^2/n_control))\n",
    "t_score"
   ]
  },
  {
   "cell_type": "code",
   "execution_count": 8,
   "metadata": {},
   "outputs": [
    {
     "data": {
      "text/html": [
       "263"
      ],
      "text/latex": [
       "263"
      ],
      "text/markdown": [
       "263"
      ],
      "text/plain": [
       "[1] 263"
      ]
     },
     "metadata": {},
     "output_type": "display_data"
    }
   ],
   "source": [
    "degree_of_freedom = n_intervention + n_control - 2\n",
    "degree_of_freedom"
   ]
  },
  {
   "cell_type": "code",
   "execution_count": 9,
   "metadata": {},
   "outputs": [
    {
     "data": {
      "text/html": [
       "0.0016167475851126"
      ],
      "text/latex": [
       "0.0016167475851126"
      ],
      "text/markdown": [
       "0.0016167475851126"
      ],
      "text/plain": [
       "[1] 0.001616748"
      ]
     },
     "metadata": {},
     "output_type": "display_data"
    }
   ],
   "source": [
    "p_val = 2 * pt(abs(t_score), degree_of_freedom, lower.tail = FALSE)\n",
    "p_val"
   ]
  },
  {
   "cell_type": "code",
   "execution_count": 10,
   "metadata": {},
   "outputs": [
    {
     "data": {
      "text/html": [
       "0.669265377640033"
      ],
      "text/latex": [
       "0.669265377640033"
      ],
      "text/markdown": [
       "0.669265377640033"
      ],
      "text/plain": [
       "[1] 0.6692654"
      ]
     },
     "metadata": {},
     "output_type": "display_data"
    }
   ],
   "source": [
    "upper_confidence_interval = (mean_intervention - mean_control) + (1.960*sqrt((sd_intervention/n_intervention)+(sd_control/n_control)))\n",
    "upper_confidence_interval"
   ]
  },
  {
   "cell_type": "code",
   "execution_count": 11,
   "metadata": {},
   "outputs": [
    {
     "data": {
      "text/html": [
       "0.170734622359966"
      ],
      "text/latex": [
       "0.170734622359966"
      ],
      "text/markdown": [
       "0.170734622359966"
      ],
      "text/plain": [
       "[1] 0.1707346"
      ]
     },
     "metadata": {},
     "output_type": "display_data"
    }
   ],
   "source": [
    "lower_confidence_interval = (mean_intervention - mean_control) - (1.960*sqrt((sd_intervention/n_intervention)+(sd_control/n_control)))\n",
    "lower_confidence_interval"
   ]
  },
  {
   "cell_type": "code",
   "execution_count": 12,
   "metadata": {},
   "outputs": [
    {
     "data": {
      "text/html": [
       "0.391907694835434"
      ],
      "text/latex": [
       "0.391907694835434"
      ],
      "text/markdown": [
       "0.391907694835434"
      ],
      "text/plain": [
       "[1] 0.3919077"
      ]
     },
     "metadata": {},
     "output_type": "display_data"
    }
   ],
   "source": [
    "cohens_d = (mean_intervention - mean_control) / sqrt(((sd_intervention^2) + (sd_control^2)) / 2)\n",
    "cohens_d"
   ]
  },
  {
   "cell_type": "markdown",
   "metadata": {},
   "source": [
    "#### the p value calculated is lower than 0.05 alpha, so there is significant difference between the intervention and control group, which means that the intervention was a success. The effect size calculated is at the medium range so its fair to say its ok to report the success of intervention."
   ]
  },
  {
   "cell_type": "markdown",
   "metadata": {},
   "source": [
    "## Part 2 of question:"
   ]
  },
  {
   "cell_type": "code",
   "execution_count": 1,
   "metadata": {},
   "outputs": [],
   "source": [
    "mean_before = 4.47\n",
    "sd_before = 1.18\n",
    "mean_after = 5.03\n",
    "sd_after = 1.01\n",
    "sd_difference = 1.30\n",
    "sample_size = 135"
   ]
  },
  {
   "cell_type": "code",
   "execution_count": 2,
   "metadata": {},
   "outputs": [],
   "source": [
    "se_difference = sd_difference / sqrt(sample_size)"
   ]
  },
  {
   "cell_type": "code",
   "execution_count": 3,
   "metadata": {},
   "outputs": [],
   "source": [
    "t_stat = (mean_before - mean_after) / se_difference\n",
    "df = sample_size - 1"
   ]
  },
  {
   "cell_type": "code",
   "execution_count": 4,
   "metadata": {},
   "outputs": [
    {
     "data": {
      "text/html": [
       "1.72329051170825e-06"
      ],
      "text/latex": [
       "1.72329051170825e-06"
      ],
      "text/markdown": [
       "1.72329051170825e-06"
      ],
      "text/plain": [
       "[1] 1.723291e-06"
      ]
     },
     "metadata": {},
     "output_type": "display_data"
    }
   ],
   "source": [
    "p_value = 2 * pt(abs(t_stat), df = df, lower.tail = FALSE)\n",
    "p_value"
   ]
  },
  {
   "cell_type": "code",
   "execution_count": 5,
   "metadata": {},
   "outputs": [
    {
     "data": {
      "text/html": [
       "-0.430769230769231"
      ],
      "text/latex": [
       "-0.430769230769231"
      ],
      "text/markdown": [
       "-0.430769230769231"
      ],
      "text/plain": [
       "[1] -0.4307692"
      ]
     },
     "metadata": {},
     "output_type": "display_data"
    }
   ],
   "source": [
    "cohen_d = (mean_before - mean_after) / sd_difference\n",
    "cohen_d"
   ]
  },
  {
   "cell_type": "markdown",
   "metadata": {},
   "source": [
    "### The pre and post intervention comparison also shows that the intervention was a success, and the effect size calculated is still in the medium range."
   ]
  }
 ],
 "metadata": {
  "kernelspec": {
   "display_name": "R",
   "language": "R",
   "name": "ir"
  },
  "language_info": {
   "codemirror_mode": "r",
   "file_extension": ".r",
   "mimetype": "text/x-r-source",
   "name": "R",
   "pygments_lexer": "r",
   "version": "4.3.2"
  }
 },
 "nbformat": 4,
 "nbformat_minor": 4
}
