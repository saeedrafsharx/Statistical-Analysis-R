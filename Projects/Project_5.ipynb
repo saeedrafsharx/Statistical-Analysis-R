{
 "cells": [
  {
   "cell_type": "markdown",
   "metadata": {},
   "source": [
    "# Part A.\n",
    "\n",
    "A psychologist studying perceived “quality of life” in a large number of cities (N5150) came up with the following equation using mean temperature (Temp), median income in $1000 (Income), per capita expenditure on social services (Socser), and population density (Popul) as predictors.\n",
    "\n",
    "$$\\hat{Y}  = 5.37 - 0.01 Temp + 0.05 Income + 0.003 Socser - 0.01Popul$$\n",
    "\n",
    "- Interpret the regression equation in terms of the coefficients.\n",
    "- Assume there is a city that has a mean temperature of 55 degrees, a median income of $12,000, spends $500 per capita on social services, and has a population density of 200 people per block. What is its predicted quality of life score?\n",
    "- What would we predict in a different city that was identical in every way except that it spent 100 USD per capita on social services?\n",
    "\n",
    "- Assume that $\\beta = [-0.438 ~~0.762 ~~ 0.081~~-0.132]$. Interpret the results.\n",
    "- For the values of $\\beta$, the corresponding standard errors are $[0.397~~ 0.252~~ 0.052~~ 0.025]$. Which, if any, predictor would you be most likely to drop if you wanted to refine your regression equation?"
   ]
  },
  {
   "cell_type": "markdown",
   "metadata": {},
   "source": [
    "#### Interpret the regression equation in terms of the coefficients:\n",
    "##### The formula indicates that, one degree decrease in Temp results in 0.01 decrease of quality of life(QOL), Every 1k dollar, increas in income results in 0.05 unit increase of QOL, Every 100 dolalr increase in Socser results in 0.003 unit increase in QOL, and every 100 person increase in population results in 0.01 decrease in QOL."
   ]
  },
  {
   "cell_type": "markdown",
   "metadata": {},
   "source": [
    "#### Assume there is a city that has a mean temperature of 55 degrees, a median income of $12,000, spends $500 per capita on social services, and has a population density of 200 people per block. What is its predicted quality of life score?\n"
   ]
  },
  {
   "cell_type": "markdown",
   "metadata": {},
   "source": [
    "## $City_score = 5.37 - 0.01 * temp + 0.05 * income + 0.003 * socser - 0.01 * popul$\n",
    "## $City_score = 5.37 - 0.01(55) + 0.05 *(12000) + 0.003*(500) - 0.01*(200)$"
   ]
  },
  {
   "cell_type": "code",
   "execution_count": 7,
   "metadata": {},
   "outputs": [
    {
     "data": {
      "text/html": [
       "4.92"
      ],
      "text/latex": [
       "4.92"
      ],
      "text/markdown": [
       "4.92"
      ],
      "text/plain": [
       "[1] 4.92"
      ]
     },
     "metadata": {},
     "output_type": "display_data"
    }
   ],
   "source": [
    "City_score = 5.37 - 0.01*(55) + 0.05*(12) + 0.003*(500) - 0.01*(200)\n",
    "City_score"
   ]
  },
  {
   "cell_type": "markdown",
   "metadata": {},
   "source": [
    "#### What would we predict in a different city that was identical in every way except that it spent 100 USD per capita on social services?"
   ]
  },
  {
   "cell_type": "code",
   "execution_count": 8,
   "metadata": {},
   "outputs": [
    {
     "data": {
      "text/html": [
       "3.72"
      ],
      "text/latex": [
       "3.72"
      ],
      "text/markdown": [
       "3.72"
      ],
      "text/plain": [
       "[1] 3.72"
      ]
     },
     "metadata": {},
     "output_type": "display_data"
    }
   ],
   "source": [
    "City_score2 = 5.37 - 0.01*(55) + 0.05*(12) + 0.003*(100) - 0.01*(200)\n",
    "City_score2"
   ]
  },
  {
   "cell_type": "markdown",
   "metadata": {},
   "source": [
    "### Assume that $\\beta = [-0.438 ~~0.762 ~~ 0.081~~-0.132]$. Interpret the results."
   ]
  },
  {
   "cell_type": "markdown",
   "metadata": {},
   "source": [
    "#### Temperature and quality of life have a negative correlation, as seen by the beta value of -0.438 for temperature. A lower expected quality of life score is correlated with a higher temperature, also the number 0.438 indicates that the temperature was 43.8 degrees.\n",
    "#### Income and quality of life have a positive correlation, as seen by the income beta value of 0.762. A higher expected quality of life score is correlated with a greater income, and that the income was 15240$ for the given Beta value.\n",
    "#### Although social services and quality of life have a positive link, the beta value for social services (0.081) is substantially lower than the coefficient for income. This implies that although spending on social services has a beneficial effect, it is not as great as the effect of income, and that \n",
    "#### Population density and quality of life are negatively correlated, as seen by the population density beta value of -0.132. A predicted quality of life score that is lower is correlated with a larger population density.\n",
    "\n",
    "#### These numbers help us understand how each factor contributes to the changes in the outcome, taking into account the different scales involved. For instance, Income has the most positive impact on Y, followed by Socser, while Temp and Popul have a bit of a downer effect.\r\n"
   ]
  },
  {
   "cell_type": "markdown",
   "metadata": {},
   "source": [
    "#### For the values of $\\beta$, the corresponding standard errors are $[0.397~~ 0.252~~ 0.052~~ 0.025]$. Which, if any, predictor would you be most likely to drop if you wanted to refine your regression equation?"
   ]
  },
  {
   "cell_type": "code",
   "execution_count": 2,
   "metadata": {},
   "outputs": [
    {
     "data": {
      "text/html": [
       "<style>\n",
       ".list-inline {list-style: none; margin:0; padding: 0}\n",
       ".list-inline>li {display: inline-block}\n",
       ".list-inline>li:not(:last-child)::after {content: \"\\00b7\"; padding: 0 .5ex}\n",
       "</style>\n",
       "<ol class=list-inline><li>0.0251889168765743</li><li>0.198412698412698</li><li>0.0576923076923077</li><li>0.4</li></ol>\n"
      ],
      "text/latex": [
       "\\begin{enumerate*}\n",
       "\\item 0.0251889168765743\n",
       "\\item 0.198412698412698\n",
       "\\item 0.0576923076923077\n",
       "\\item 0.4\n",
       "\\end{enumerate*}\n"
      ],
      "text/markdown": [
       "1. 0.0251889168765743\n",
       "2. 0.198412698412698\n",
       "3. 0.0576923076923077\n",
       "4. 0.4\n",
       "\n",
       "\n"
      ],
      "text/plain": [
       "[1] 0.02518892 0.19841270 0.05769231 0.40000000"
      ]
     },
     "metadata": {},
     "output_type": "display_data"
    }
   ],
   "source": [
    "Beta = c(0.01, 0.05, 0.003, 0.01)\n",
    "Standard_Error = c(0.397, 0.252, 0.052, 0.025)\n",
    "\n",
    "t_stats = Beta / Standard_Error\n",
    "\n",
    "t_stats"
   ]
  },
  {
   "cell_type": "markdown",
   "metadata": {},
   "source": [
    "#### The indicator that I would drop would be Temperature. since it has the smallest absolute t statistic."
   ]
  },
  {
   "cell_type": "markdown",
   "metadata": {},
   "source": [
    "# Part B. \n",
    "\n",
    "A large corporation is interested in predicting a measure of job satisfaction among its employees. They collected data on 15 employees who each supplied information on job satisfaction, level of responsibility, number of people supervised, rating of working environment, and years of service. The data follow:\n",
    "\n",
    "<img src=\"p51.jpg\" width=\"600\"/>\n",
    "\n",
    "The data are found in https://github.com/amanirad/Statistics-in-cognitive-rehabilitation-and-cognitive-linguistics.\n",
    "\n",
    "- Write out the regression equation using all five predictors.\n",
    "- What are the $\\beta$'s?\n",
    "- Which variable has the largest semi-partial correlation with the criterion, partialling out the other variables?\n",
    "- The overall $F$ is not significant, yet the Environment correlates significantly ($r=0.58$) with $Y$. How is this possible?\n",
    "- Calculate the adjusted $R^2$ for the data"
   ]
  },
  {
   "cell_type": "markdown",
   "metadata": {},
   "source": [
    "### NOTE: Seems that there is problem with the question, we MUST  have a dependent variable in order to be able to compute correlations for it. whilst the question asks that all five columns provided in the data are all predictors."
   ]
  },
  {
   "cell_type": "code",
   "execution_count": 20,
   "metadata": {},
   "outputs": [],
   "source": [
    "library(tidyverse)\n",
    "library(ggpubr)\n",
    "library(ppcor)"
   ]
  },
  {
   "cell_type": "code",
   "execution_count": 3,
   "metadata": {},
   "outputs": [],
   "source": [
    "job_satisfaction = read.table(\"C://Users//Saeed//Desktop//Amar//Statistics-in-cognitive-rehabilitation-and-cognitive-linguistics-main//project_5_B.dat\", header = TRUE)"
   ]
  },
  {
   "cell_type": "code",
   "execution_count": 4,
   "metadata": {
    "scrolled": true
   },
   "outputs": [
    {
     "data": {
      "text/html": [
       "<table class=\"dataframe\">\n",
       "<caption>A data.frame: 15 × 5</caption>\n",
       "<thead>\n",
       "\t<tr><th scope=col>Satisf</th><th scope=col>Respons</th><th scope=col>NumSuper</th><th scope=col>Environ</th><th scope=col>YearsService</th></tr>\n",
       "\t<tr><th scope=col>&lt;int&gt;</th><th scope=col>&lt;int&gt;</th><th scope=col>&lt;int&gt;</th><th scope=col>&lt;int&gt;</th><th scope=col>&lt;int&gt;</th></tr>\n",
       "</thead>\n",
       "<tbody>\n",
       "\t<tr><td>2</td><td>4</td><td>5</td><td>1</td><td>5</td></tr>\n",
       "\t<tr><td>2</td><td>2</td><td>3</td><td>1</td><td>7</td></tr>\n",
       "\t<tr><td>3</td><td>3</td><td>4</td><td>7</td><td>5</td></tr>\n",
       "\t<tr><td>3</td><td>6</td><td>7</td><td>3</td><td>3</td></tr>\n",
       "\t<tr><td>5</td><td>2</td><td>4</td><td>5</td><td>3</td></tr>\n",
       "\t<tr><td>5</td><td>8</td><td>8</td><td>8</td><td>6</td></tr>\n",
       "\t<tr><td>6</td><td>4</td><td>6</td><td>5</td><td>3</td></tr>\n",
       "\t<tr><td>6</td><td>5</td><td>5</td><td>5</td><td>2</td></tr>\n",
       "\t<tr><td>6</td><td>8</td><td>9</td><td>6</td><td>7</td></tr>\n",
       "\t<tr><td>7</td><td>8</td><td>8</td><td>4</td><td>3</td></tr>\n",
       "\t<tr><td>8</td><td>9</td><td>9</td><td>7</td><td>5</td></tr>\n",
       "\t<tr><td>8</td><td>6</td><td>3</td><td>2</td><td>5</td></tr>\n",
       "\t<tr><td>8</td><td>3</td><td>6</td><td>8</td><td>8</td></tr>\n",
       "\t<tr><td>9</td><td>7</td><td>9</td><td>7</td><td>8</td></tr>\n",
       "\t<tr><td>9</td><td>9</td><td>9</td><td>9</td><td>1</td></tr>\n",
       "</tbody>\n",
       "</table>\n"
      ],
      "text/latex": [
       "A data.frame: 15 × 5\n",
       "\\begin{tabular}{lllll}\n",
       " Satisf & Respons & NumSuper & Environ & YearsService\\\\\n",
       " <int> & <int> & <int> & <int> & <int>\\\\\n",
       "\\hline\n",
       "\t 2 & 4 & 5 & 1 & 5\\\\\n",
       "\t 2 & 2 & 3 & 1 & 7\\\\\n",
       "\t 3 & 3 & 4 & 7 & 5\\\\\n",
       "\t 3 & 6 & 7 & 3 & 3\\\\\n",
       "\t 5 & 2 & 4 & 5 & 3\\\\\n",
       "\t 5 & 8 & 8 & 8 & 6\\\\\n",
       "\t 6 & 4 & 6 & 5 & 3\\\\\n",
       "\t 6 & 5 & 5 & 5 & 2\\\\\n",
       "\t 6 & 8 & 9 & 6 & 7\\\\\n",
       "\t 7 & 8 & 8 & 4 & 3\\\\\n",
       "\t 8 & 9 & 9 & 7 & 5\\\\\n",
       "\t 8 & 6 & 3 & 2 & 5\\\\\n",
       "\t 8 & 3 & 6 & 8 & 8\\\\\n",
       "\t 9 & 7 & 9 & 7 & 8\\\\\n",
       "\t 9 & 9 & 9 & 9 & 1\\\\\n",
       "\\end{tabular}\n"
      ],
      "text/markdown": [
       "\n",
       "A data.frame: 15 × 5\n",
       "\n",
       "| Satisf &lt;int&gt; | Respons &lt;int&gt; | NumSuper &lt;int&gt; | Environ &lt;int&gt; | YearsService &lt;int&gt; |\n",
       "|---|---|---|---|---|\n",
       "| 2 | 4 | 5 | 1 | 5 |\n",
       "| 2 | 2 | 3 | 1 | 7 |\n",
       "| 3 | 3 | 4 | 7 | 5 |\n",
       "| 3 | 6 | 7 | 3 | 3 |\n",
       "| 5 | 2 | 4 | 5 | 3 |\n",
       "| 5 | 8 | 8 | 8 | 6 |\n",
       "| 6 | 4 | 6 | 5 | 3 |\n",
       "| 6 | 5 | 5 | 5 | 2 |\n",
       "| 6 | 8 | 9 | 6 | 7 |\n",
       "| 7 | 8 | 8 | 4 | 3 |\n",
       "| 8 | 9 | 9 | 7 | 5 |\n",
       "| 8 | 6 | 3 | 2 | 5 |\n",
       "| 8 | 3 | 6 | 8 | 8 |\n",
       "| 9 | 7 | 9 | 7 | 8 |\n",
       "| 9 | 9 | 9 | 9 | 1 |\n",
       "\n"
      ],
      "text/plain": [
       "   Satisf Respons NumSuper Environ YearsService\n",
       "1  2      4       5        1       5           \n",
       "2  2      2       3        1       7           \n",
       "3  3      3       4        7       5           \n",
       "4  3      6       7        3       3           \n",
       "5  5      2       4        5       3           \n",
       "6  5      8       8        8       6           \n",
       "7  6      4       6        5       3           \n",
       "8  6      5       5        5       2           \n",
       "9  6      8       9        6       7           \n",
       "10 7      8       8        4       3           \n",
       "11 8      9       9        7       5           \n",
       "12 8      6       3        2       5           \n",
       "13 8      3       6        8       8           \n",
       "14 9      7       9        7       8           \n",
       "15 9      9       9        9       1           "
      ]
     },
     "metadata": {},
     "output_type": "display_data"
    }
   ],
   "source": [
    "job_satisfaction"
   ]
  },
  {
   "cell_type": "code",
   "execution_count": 5,
   "metadata": {},
   "outputs": [],
   "source": [
    "multi_lm_satis = lm(Satisf ~ Respons + NumSuper + Environ + YearsService, data = job_satisfaction)"
   ]
  },
  {
   "cell_type": "code",
   "execution_count": 6,
   "metadata": {},
   "outputs": [
    {
     "data": {
      "text/plain": [
       "\n",
       "Call:\n",
       "lm(formula = Satisf ~ Respons + NumSuper + Environ + YearsService, \n",
       "    data = job_satisfaction)\n",
       "\n",
       "Residuals:\n",
       "    Min      1Q  Median      3Q     Max \n",
       "-3.1441 -1.0830  0.4068  1.1422  2.3796 \n",
       "\n",
       "Coefficients:\n",
       "             Estimate Std. Error t value Pr(>|t|)\n",
       "(Intercept)   1.66926    2.03155   0.822    0.430\n",
       "Respons       0.60516    0.42784   1.414    0.188\n",
       "NumSuper     -0.33399    0.53673  -0.622    0.548\n",
       "Environ       0.48552    0.27610   1.758    0.109\n",
       "YearsService  0.07023    0.26223   0.268    0.794\n",
       "\n",
       "Residual standard error: 2.057 on 10 degrees of freedom\n",
       "Multiple R-squared:  0.4864,\tAdjusted R-squared:  0.2809 \n",
       "F-statistic: 2.367 on 4 and 10 DF,  p-value: 0.1227\n"
      ]
     },
     "metadata": {},
     "output_type": "display_data"
    }
   ],
   "source": [
    "summary(multi_lm_satis)"
   ]
  },
  {
   "cell_type": "markdown",
   "metadata": {},
   "source": [
    "#### The $\\beta$'s are the Estimate reported above, and Intercept Estimate value is the $\\beta0$"
   ]
  },
  {
   "cell_type": "markdown",
   "metadata": {},
   "source": [
    "#### Answer :By choosing Statisf column as the dependent variable we are able to calculate the $\\beta$'s, and then write down the regression equation.\n",
    "\n",
    "#### $Satisfaction = 1.66926 - 0.60516 * Responsibility -0.33399 * NumberSupervised + 0.4855 * Environment + 0.07023 * YearsOfService$"
   ]
  },
  {
   "cell_type": "code",
   "execution_count": 24,
   "metadata": {},
   "outputs": [
    {
     "name": "stdout",
     "output_type": "stream",
     "text": [
      "                  Satisf    Respons    NumSuper     Environ YearsService\n",
      "Satisf        1.00000000  0.3273571 -0.05960164  0.39579585   0.04231010\n",
      "Respons       0.32735713  1.0000000  0.77999821 -0.26440819  -0.30881850\n",
      "NumSuper     -0.05960164  0.7799982  1.00000000  0.45399540   0.23831378\n",
      "Environ       0.39579585 -0.2644082  0.45399540  1.00000000   0.03643496\n",
      "YearsService  0.04231010 -0.3088185  0.23831378  0.03643496   1.00000000\n"
     ]
    }
   ],
   "source": [
    "result = pcor(job_satisfaction[, c(\"Satisf\", \"Respons\", \"NumSuper\", \"Environ\", \"YearsService\")], method = \"spearman\")\n",
    "\n",
    "print(result$estimate)"
   ]
  },
  {
   "cell_type": "markdown",
   "metadata": {},
   "source": [
    "#### Answer: Apparently Environment has the largest semi-partial correlation with the criterion."
   ]
  },
  {
   "cell_type": "markdown",
   "metadata": {},
   "source": [
    "## The overall $F$ is not significant, yet the Environment correlates significantly ($r=0.58$) with $Y$. How is this possible?"
   ]
  },
  {
   "cell_type": "markdown",
   "metadata": {},
   "source": [
    "#### Answer: As I searched for possible explanations for this phenomenon, I found out that it might be due to small sample sizes, or due to multicollinearity of indicators."
   ]
  },
  {
   "cell_type": "markdown",
   "metadata": {},
   "source": [
    "## Calculate the adjusted $R^2$ for the data"
   ]
  },
  {
   "cell_type": "markdown",
   "metadata": {},
   "source": [
    "#### The Adjusted R-squared:  0.2809, due to the report of lm function above."
   ]
  },
  {
   "cell_type": "markdown",
   "metadata": {},
   "source": [
    "# Part C.\n",
    "\n",
    "One of the assumptions lying behind our use of regression is the assumption of homogeneity of variance in arrays. One way to examine the data for violations of this assumption is to calculate predicted values of Y and the corresponding residuals ($Y – \\hat{Y}$). If you plot the residuals against the predicted values, you should see a more or less random collection of points. The vertical dispersion should not increase or decrease systematically as you move from right to left, nor should there be any other apparent pattern. Create the scatterplot for the data https://github.com/amanirad/Statistics-in-cognitive-rehabilitation-and-cognitive-linguistics. Explain the assumption of homogeneity of variances in detail."
   ]
  },
  {
   "cell_type": "code",
   "execution_count": 37,
   "metadata": {},
   "outputs": [],
   "source": [
    "assumptions = read.table(\"C://Users//Saeed//Desktop//Amar//Statistics-in-cognitive-rehabilitation-and-cognitive-linguistics-main//project_5_C.dat\", header = TRUE)"
   ]
  },
  {
   "cell_type": "code",
   "execution_count": 38,
   "metadata": {
    "scrolled": true
   },
   "outputs": [
    {
     "data": {
      "text/html": [
       "<table class=\"dataframe\">\n",
       "<caption>A data.frame: 89 × 20</caption>\n",
       "<thead>\n",
       "\t<tr><th scope=col>FamNum</th><th scope=col>SexP</th><th scope=col>SomTP</th><th scope=col>DepTP</th><th scope=col>AnxTP</th><th scope=col>HosTP</th><th scope=col>GSITP</th><th scope=col>SexS</th><th scope=col>SomTS</th><th scope=col>DepTS</th><th scope=col>AnxTS</th><th scope=col>HosTS</th><th scope=col>GSITS</th><th scope=col>SexChild</th><th scope=col>Intern</th><th scope=col>Extern</th><th scope=col>TotBP</th><th scope=col>InternT</th><th scope=col>ExternT</th><th scope=col>TotBPT</th></tr>\n",
       "\t<tr><th scope=col>&lt;int&gt;</th><th scope=col>&lt;int&gt;</th><th scope=col>&lt;int&gt;</th><th scope=col>&lt;int&gt;</th><th scope=col>&lt;int&gt;</th><th scope=col>&lt;int&gt;</th><th scope=col>&lt;int&gt;</th><th scope=col>&lt;int&gt;</th><th scope=col>&lt;int&gt;</th><th scope=col>&lt;int&gt;</th><th scope=col>&lt;int&gt;</th><th scope=col>&lt;int&gt;</th><th scope=col>&lt;int&gt;</th><th scope=col>&lt;int&gt;</th><th scope=col>&lt;int&gt;</th><th scope=col>&lt;int&gt;</th><th scope=col>&lt;int&gt;</th><th scope=col>&lt;int&gt;</th><th scope=col>&lt;int&gt;</th><th scope=col>&lt;int&gt;</th></tr>\n",
       "</thead>\n",
       "<tbody>\n",
       "\t<tr><td>101</td><td> 2</td><td>62</td><td>50</td><td>52</td><td>39</td><td>52</td><td> 1</td><td>42</td><td>44</td><td>41</td><td>40</td><td>42</td><td>NA</td><td>NA</td><td>NA</td><td>NA</td><td>NA</td><td>NA</td><td>NA</td></tr>\n",
       "\t<tr><td>104</td><td> 1</td><td>56</td><td>65</td><td>55</td><td>40</td><td>57</td><td> 2</td><td>53</td><td>73</td><td>68</td><td>67</td><td>71</td><td> 1</td><td>11</td><td>12</td><td>28</td><td>58</td><td>57</td><td>60</td></tr>\n",
       "\t<tr><td>105</td><td> 1</td><td>56</td><td>57</td><td>67</td><td>65</td><td>61</td><td> 2</td><td>41</td><td>67</td><td>63</td><td>66</td><td>65</td><td> 2</td><td> 7</td><td> 7</td><td>15</td><td>47</td><td>48</td><td>45</td></tr>\n",
       "\t<tr><td>106</td><td> 2</td><td>41</td><td>61</td><td>64</td><td>53</td><td>57</td><td> 1</td><td>60</td><td>60</td><td>59</td><td>67</td><td>62</td><td> 1</td><td> 6</td><td>10</td><td>15</td><td>49</td><td>52</td><td>48</td></tr>\n",
       "\t<tr><td>107</td><td> 2</td><td>61</td><td>61</td><td>52</td><td>56</td><td>57</td><td> 1</td><td>42</td><td>44</td><td>50</td><td>61</td><td>50</td><td> 1</td><td>10</td><td>11</td><td>25</td><td>58</td><td>57</td><td>58</td></tr>\n",
       "\t<tr><td>108</td><td> 1</td><td>56</td><td>53</td><td>55</td><td>53</td><td>53</td><td> 2</td><td>65</td><td>70</td><td>70</td><td>53</td><td>69</td><td>NA</td><td>NA</td><td>NA</td><td>NA</td><td>NA</td><td>NA</td><td>NA</td></tr>\n",
       "\t<tr><td>109</td><td> 2</td><td>57</td><td>64</td><td>59</td><td>53</td><td>60</td><td>NA</td><td>NA</td><td>NA</td><td>NA</td><td>NA</td><td>NA</td><td>NA</td><td>NA</td><td>NA</td><td>NA</td><td>NA</td><td>NA</td><td>NA</td></tr>\n",
       "\t<tr><td>110</td><td> 1</td><td>42</td><td>53</td><td>50</td><td>53</td><td>50</td><td> 2</td><td>41</td><td>42</td><td>38</td><td>39</td><td>33</td><td> 2</td><td> 5</td><td> 5</td><td>15</td><td>49</td><td>49</td><td>52</td></tr>\n",
       "\t<tr><td>111</td><td> 2</td><td>51</td><td>42</td><td>38</td><td>39</td><td>39</td><td> 1</td><td>60</td><td>44</td><td>41</td><td>40</td><td>45</td><td>NA</td><td>NA</td><td>NA</td><td>NA</td><td>NA</td><td>NA</td><td>NA</td></tr>\n",
       "\t<tr><td>112</td><td> 2</td><td>53</td><td>61</td><td>61</td><td>56</td><td>55</td><td> 1</td><td>42</td><td>44</td><td>50</td><td>40</td><td>42</td><td> 1</td><td> 4</td><td> 9</td><td>14</td><td>48</td><td>55</td><td>51</td></tr>\n",
       "\t<tr><td>113</td><td> 1</td><td>42</td><td>44</td><td>50</td><td>40</td><td>42</td><td> 2</td><td>41</td><td>42</td><td>38</td><td>39</td><td>43</td><td>NA</td><td>NA</td><td>NA</td><td>NA</td><td>NA</td><td>NA</td><td>NA</td></tr>\n",
       "\t<tr><td>114</td><td> 2</td><td>53</td><td>57</td><td>55</td><td>56</td><td>51</td><td> 1</td><td>54</td><td>44</td><td>41</td><td>40</td><td>35</td><td>NA</td><td>NA</td><td>NA</td><td>NA</td><td>NA</td><td>NA</td><td>NA</td></tr>\n",
       "\t<tr><td>115</td><td>NA</td><td>NA</td><td>NA</td><td>NA</td><td>NA</td><td>NA</td><td> 2</td><td>58</td><td>57</td><td>52</td><td>53</td><td>57</td><td> 2</td><td> 9</td><td>29</td><td>41</td><td>55</td><td>65</td><td>65</td></tr>\n",
       "\t<tr><td>116</td><td> 2</td><td>57</td><td>70</td><td>59</td><td>66</td><td>66</td><td>NA</td><td>NA</td><td>NA</td><td>NA</td><td>NA</td><td>NA</td><td> 1</td><td>18</td><td>11</td><td>32</td><td>64</td><td>57</td><td>61</td></tr>\n",
       "\t<tr><td>117</td><td> 2</td><td>53</td><td>57</td><td>61</td><td>53</td><td>52</td><td> 1</td><td>42</td><td>53</td><td>59</td><td>53</td><td>53</td><td> 2</td><td> 6</td><td> 9</td><td>21</td><td>46</td><td>51</td><td>49</td></tr>\n",
       "\t<tr><td>118</td><td> 1</td><td>68</td><td>53</td><td>55</td><td>53</td><td>59</td><td>NA</td><td>NA</td><td>NA</td><td>NA</td><td>NA</td><td>NA</td><td>NA</td><td>NA</td><td>NA</td><td>NA</td><td>NA</td><td>NA</td><td>NA</td></tr>\n",
       "\t<tr><td>119</td><td> 2</td><td>41</td><td>61</td><td>46</td><td>53</td><td>56</td><td>NA</td><td>NA</td><td>NA</td><td>NA</td><td>NA</td><td>NA</td><td> 2</td><td> 1</td><td> 0</td><td> 1</td><td>40</td><td>38</td><td>33</td></tr>\n",
       "\t<tr><td>120</td><td> 2</td><td>57</td><td>61</td><td>55</td><td>56</td><td>58</td><td>NA</td><td>NA</td><td>NA</td><td>NA</td><td>NA</td><td>NA</td><td>NA</td><td>NA</td><td>NA</td><td>NA</td><td>NA</td><td>NA</td><td>NA</td></tr>\n",
       "\t<tr><td>121</td><td> 2</td><td>61</td><td>63</td><td>63</td><td>72</td><td>63</td><td>NA</td><td>NA</td><td>NA</td><td>NA</td><td>NA</td><td>NA</td><td> 1</td><td>24</td><td>16</td><td>44</td><td>67</td><td>61</td><td>64</td></tr>\n",
       "\t<tr><td>122</td><td> 2</td><td>53</td><td>42</td><td>38</td><td>39</td><td>39</td><td> 1</td><td>65</td><td>71</td><td>69</td><td>78</td><td>67</td><td>NA</td><td>NA</td><td>NA</td><td>NA</td><td>NA</td><td>NA</td><td>NA</td></tr>\n",
       "\t<tr><td>123</td><td> 2</td><td>41</td><td>57</td><td>61</td><td>67</td><td>57</td><td> 1</td><td>60</td><td>78</td><td>55</td><td>61</td><td>64</td><td> 1</td><td> 4</td><td> 9</td><td>13</td><td>46</td><td>51</td><td>46</td></tr>\n",
       "\t<tr><td>125</td><td> 2</td><td>41</td><td>42</td><td>52</td><td>39</td><td>48</td><td> 1</td><td>42</td><td>44</td><td>41</td><td>40</td><td>42</td><td>NA</td><td>NA</td><td>NA</td><td>NA</td><td>NA</td><td>NA</td><td>NA</td></tr>\n",
       "\t<tr><td>126</td><td> 2</td><td>58</td><td>42</td><td>55</td><td>60</td><td>54</td><td>NA</td><td>NA</td><td>NA</td><td>NA</td><td>NA</td><td>NA</td><td>NA</td><td>NA</td><td>NA</td><td>NA</td><td>NA</td><td>NA</td><td>NA</td></tr>\n",
       "\t<tr><td>127</td><td> 2</td><td>65</td><td>42</td><td>38</td><td>39</td><td>49</td><td> 1</td><td>54</td><td>44</td><td>41</td><td>40</td><td>42</td><td>NA</td><td>NA</td><td>NA</td><td>NA</td><td>NA</td><td>NA</td><td>NA</td></tr>\n",
       "\t<tr><td>129</td><td> 2</td><td>51</td><td>42</td><td>55</td><td>53</td><td>54</td><td> 1</td><td>54</td><td>44</td><td>55</td><td>53</td><td>50</td><td>NA</td><td>NA</td><td>NA</td><td>NA</td><td>NA</td><td>NA</td><td>NA</td></tr>\n",
       "\t<tr><td>130</td><td> 1</td><td>65</td><td>44</td><td>55</td><td>40</td><td>53</td><td> 2</td><td>41</td><td>61</td><td>52</td><td>53</td><td>52</td><td>NA</td><td>NA</td><td>NA</td><td>NA</td><td>NA</td><td>NA</td><td>NA</td></tr>\n",
       "\t<tr><td>131</td><td> 2</td><td>58</td><td>50</td><td>52</td><td>39</td><td>48</td><td>NA</td><td>NA</td><td>NA</td><td>NA</td><td>NA</td><td>NA</td><td>NA</td><td>NA</td><td>NA</td><td>NA</td><td>NA</td><td>NA</td><td>NA</td></tr>\n",
       "\t<tr><td>132</td><td>NA</td><td>NA</td><td>NA</td><td>NA</td><td>NA</td><td>NA</td><td> 2</td><td>41</td><td>61</td><td>68</td><td>63</td><td>61</td><td>NA</td><td>NA</td><td>NA</td><td>NA</td><td>NA</td><td>NA</td><td>NA</td></tr>\n",
       "\t<tr><td>135</td><td> 2</td><td>53</td><td>50</td><td>38</td><td>39</td><td>45</td><td> 1</td><td>42</td><td>44</td><td>50</td><td>53</td><td>50</td><td> 2</td><td> 1</td><td> 4</td><td> 7</td><td>40</td><td>44</td><td>43</td></tr>\n",
       "\t<tr><td>138</td><td> 2</td><td>41</td><td>42</td><td>38</td><td>39</td><td>43</td><td>NA</td><td>NA</td><td>NA</td><td>NA</td><td>NA</td><td>NA</td><td> 1</td><td> 2</td><td> 1</td><td> 3</td><td>38</td><td>34</td><td>33</td></tr>\n",
       "\t<tr><td>⋮</td><td>⋮</td><td>⋮</td><td>⋮</td><td>⋮</td><td>⋮</td><td>⋮</td><td>⋮</td><td>⋮</td><td>⋮</td><td>⋮</td><td>⋮</td><td>⋮</td><td>⋮</td><td>⋮</td><td>⋮</td><td>⋮</td><td>⋮</td><td>⋮</td><td>⋮</td></tr>\n",
       "\t<tr><td>238</td><td> 2</td><td>51</td><td>50</td><td>55</td><td>56</td><td>54</td><td> 1</td><td>42</td><td>57</td><td>50</td><td>40</td><td>53</td><td>NA</td><td>NA</td><td>NA</td><td>NA</td><td>NA</td><td>NA</td><td>NA</td></tr>\n",
       "\t<tr><td>239</td><td> 2</td><td>66</td><td>54</td><td>55</td><td>53</td><td>63</td><td>NA</td><td>NA</td><td>NA</td><td>NA</td><td>NA</td><td>NA</td><td> 1</td><td>24</td><td>15</td><td>45</td><td>69</td><td>57</td><td>65</td></tr>\n",
       "\t<tr><td>240</td><td>NA</td><td>NA</td><td>NA</td><td>NA</td><td>NA</td><td>NA</td><td> 1</td><td>42</td><td>65</td><td>64</td><td>71</td><td>60</td><td> 1</td><td>15</td><td>14</td><td>38</td><td>61</td><td>56</td><td>61</td></tr>\n",
       "\t<tr><td>243</td><td>NA</td><td>NA</td><td>NA</td><td>NA</td><td>NA</td><td>NA</td><td> 2</td><td>51</td><td>57</td><td>55</td><td>53</td><td>54</td><td>NA</td><td>NA</td><td>NA</td><td>NA</td><td>NA</td><td>NA</td><td>NA</td></tr>\n",
       "\t<tr><td>304</td><td> 2</td><td>61</td><td>50</td><td>61</td><td>39</td><td>55</td><td> 1</td><td>76</td><td>53</td><td>64</td><td>67</td><td>65</td><td> 2</td><td>13</td><td> 8</td><td>22</td><td>58</td><td>52</td><td>57</td></tr>\n",
       "\t<tr><td>305</td><td> 2</td><td>64</td><td>57</td><td>70</td><td>72</td><td>71</td><td> 1</td><td>54</td><td>60</td><td>67</td><td>58</td><td>58</td><td> 1</td><td>14</td><td>16</td><td>38</td><td>60</td><td>58</td><td>61</td></tr>\n",
       "\t<tr><td>306</td><td> 2</td><td>69</td><td>64</td><td>68</td><td>63</td><td>66</td><td> 1</td><td>54</td><td>44</td><td>64</td><td>53</td><td>48</td><td> 2</td><td>20</td><td>25</td><td>45</td><td>67</td><td>65</td><td>67</td></tr>\n",
       "\t<tr><td>307</td><td> 2</td><td>74</td><td>78</td><td>75</td><td>74</td><td>80</td><td> 1</td><td>56</td><td>71</td><td>64</td><td>61</td><td>65</td><td>NA</td><td>NA</td><td>NA</td><td>NA</td><td>NA</td><td>NA</td><td>NA</td></tr>\n",
       "\t<tr><td>308</td><td> 2</td><td>51</td><td>62</td><td>55</td><td>53</td><td>54</td><td> 1</td><td>75</td><td>67</td><td>64</td><td>61</td><td>66</td><td>NA</td><td>NA</td><td>NA</td><td>NA</td><td>NA</td><td>NA</td><td>NA</td></tr>\n",
       "\t<tr><td>309</td><td> 2</td><td>61</td><td>42</td><td>55</td><td>56</td><td>54</td><td> 1</td><td>42</td><td>44</td><td>50</td><td>40</td><td>45</td><td> 1</td><td> 1</td><td> 1</td><td> 3</td><td>40</td><td>41</td><td>39</td></tr>\n",
       "\t<tr><td>310</td><td> 2</td><td>62</td><td>42</td><td>55</td><td>53</td><td>55</td><td>NA</td><td>NA</td><td>NA</td><td>NA</td><td>NA</td><td>NA</td><td>NA</td><td>NA</td><td>NA</td><td>NA</td><td>NA</td><td>NA</td><td>NA</td></tr>\n",
       "\t<tr><td>311</td><td> 2</td><td>68</td><td>63</td><td>64</td><td>56</td><td>63</td><td>NA</td><td>NA</td><td>NA</td><td>NA</td><td>NA</td><td>NA</td><td> 2</td><td>15</td><td> 6</td><td>26</td><td>60</td><td>50</td><td>59</td></tr>\n",
       "\t<tr><td>312</td><td> 2</td><td>78</td><td>73</td><td>75</td><td>74</td><td>80</td><td>NA</td><td>NA</td><td>NA</td><td>NA</td><td>NA</td><td>NA</td><td> 2</td><td>42</td><td>40</td><td>83</td><td>77</td><td>74</td><td>77</td></tr>\n",
       "\t<tr><td>315</td><td> 2</td><td>64</td><td>54</td><td>55</td><td>56</td><td>57</td><td> 1</td><td>42</td><td>44</td><td>41</td><td>40</td><td>45</td><td> 2</td><td> 0</td><td> 0</td><td> 0</td><td>37</td><td>38</td><td>30</td></tr>\n",
       "\t<tr><td>316</td><td> 2</td><td>65</td><td>50</td><td>55</td><td>53</td><td>60</td><td>NA</td><td>NA</td><td>NA</td><td>NA</td><td>NA</td><td>NA</td><td>NA</td><td>NA</td><td>NA</td><td>NA</td><td>NA</td><td>NA</td><td>NA</td></tr>\n",
       "\t<tr><td>317</td><td> 2</td><td>NA</td><td>NA</td><td>NA</td><td>NA</td><td>NA</td><td> 2</td><td>41</td><td>50</td><td>55</td><td>39</td><td>45</td><td>NA</td><td>NA</td><td>NA</td><td>NA</td><td>NA</td><td>NA</td><td>NA</td></tr>\n",
       "\t<tr><td>318</td><td> 2</td><td>57</td><td>42</td><td>38</td><td>53</td><td>43</td><td> 1</td><td>78</td><td>65</td><td>78</td><td>58</td><td>72</td><td> 2</td><td> 3</td><td>10</td><td>16</td><td>45</td><td>52</td><td>49</td></tr>\n",
       "\t<tr><td>319</td><td> 2</td><td>57</td><td>61</td><td>55</td><td>53</td><td>55</td><td>NA</td><td>NA</td><td>NA</td><td>NA</td><td>NA</td><td>NA</td><td> 2</td><td>13</td><td>19</td><td>33</td><td>58</td><td>61</td><td>62</td></tr>\n",
       "\t<tr><td>320</td><td> 1</td><td>NA</td><td>NA</td><td>NA</td><td>NA</td><td>NA</td><td> 2</td><td>NA</td><td>NA</td><td>NA</td><td>NA</td><td>NA</td><td>NA</td><td>NA</td><td>NA</td><td>NA</td><td>NA</td><td>NA</td><td>NA</td></tr>\n",
       "\t<tr><td>321</td><td> 2</td><td>51</td><td>61</td><td>59</td><td>63</td><td>61</td><td> 2</td><td>53</td><td>57</td><td>63</td><td>53</td><td>58</td><td> 1</td><td>13</td><td>11</td><td>27</td><td>61</td><td>57</td><td>59</td></tr>\n",
       "\t<tr><td>322</td><td> 2</td><td>41</td><td>54</td><td>59</td><td>53</td><td>57</td><td>NA</td><td>NA</td><td>NA</td><td>NA</td><td>NA</td><td>NA</td><td>NA</td><td>NA</td><td>NA</td><td>NA</td><td>NA</td><td>NA</td><td>NA</td></tr>\n",
       "\t<tr><td>323</td><td> 2</td><td>66</td><td>67</td><td>52</td><td>53</td><td>62</td><td>NA</td><td>NA</td><td>NA</td><td>NA</td><td>NA</td><td>NA</td><td>NA</td><td>NA</td><td>NA</td><td>NA</td><td>NA</td><td>NA</td><td>NA</td></tr>\n",
       "\t<tr><td>324</td><td> 2</td><td>61</td><td>57</td><td>68</td><td>53</td><td>57</td><td>NA</td><td>NA</td><td>NA</td><td>NA</td><td>NA</td><td>NA</td><td> 1</td><td> 0</td><td> 2</td><td> 3</td><td>36</td><td>45</td><td>39</td></tr>\n",
       "\t<tr><td>325</td><td> 2</td><td>67</td><td>63</td><td>61</td><td>53</td><td>66</td><td> 1</td><td>54</td><td>71</td><td>74</td><td>61</td><td>72</td><td> 1</td><td>15</td><td>42</td><td>59</td><td>62</td><td>75</td><td>68</td></tr>\n",
       "\t<tr><td>326</td><td> 2</td><td>61</td><td>63</td><td>59</td><td>53</td><td>61</td><td>NA</td><td>NA</td><td>NA</td><td>NA</td><td>NA</td><td>NA</td><td>NA</td><td>NA</td><td>NA</td><td>NA</td><td>NA</td><td>NA</td><td>NA</td></tr>\n",
       "\t<tr><td>327</td><td> 2</td><td>NA</td><td>NA</td><td>NA</td><td>NA</td><td>NA</td><td>NA</td><td>NA</td><td>NA</td><td>NA</td><td>NA</td><td>NA</td><td>NA</td><td>NA</td><td>NA</td><td>NA</td><td>NA</td><td>NA</td><td>NA</td></tr>\n",
       "\t<tr><td>329</td><td> 2</td><td>53</td><td>42</td><td>38</td><td>56</td><td>45</td><td> 1</td><td>42</td><td>60</td><td>67</td><td>58</td><td>57</td><td>NA</td><td>NA</td><td>NA</td><td>NA</td><td>NA</td><td>NA</td><td>NA</td></tr>\n",
       "\t<tr><td>332</td><td> 2</td><td>51</td><td>50</td><td>52</td><td>39</td><td>48</td><td>NA</td><td>NA</td><td>NA</td><td>NA</td><td>NA</td><td>NA</td><td>NA</td><td>NA</td><td>NA</td><td>NA</td><td>NA</td><td>NA</td><td>NA</td></tr>\n",
       "\t<tr><td>401</td><td>NA</td><td>NA</td><td>NA</td><td>NA</td><td>NA</td><td>NA</td><td> 1</td><td>56</td><td>44</td><td>55</td><td>40</td><td>45</td><td>NA</td><td>NA</td><td>NA</td><td>NA</td><td>NA</td><td>NA</td><td>NA</td></tr>\n",
       "\t<tr><td>404</td><td> 1</td><td>68</td><td>73</td><td>74</td><td>63</td><td>72</td><td> 2</td><td>51</td><td>50</td><td>46</td><td>66</td><td>55</td><td>NA</td><td>NA</td><td>NA</td><td>NA</td><td>NA</td><td>NA</td><td>NA</td></tr>\n",
       "</tbody>\n",
       "</table>\n"
      ],
      "text/latex": [
       "A data.frame: 89 × 20\n",
       "\\begin{tabular}{llllllllllllllllllll}\n",
       " FamNum & SexP & SomTP & DepTP & AnxTP & HosTP & GSITP & SexS & SomTS & DepTS & AnxTS & HosTS & GSITS & SexChild & Intern & Extern & TotBP & InternT & ExternT & TotBPT\\\\\n",
       " <int> & <int> & <int> & <int> & <int> & <int> & <int> & <int> & <int> & <int> & <int> & <int> & <int> & <int> & <int> & <int> & <int> & <int> & <int> & <int>\\\\\n",
       "\\hline\n",
       "\t 101 &  2 & 62 & 50 & 52 & 39 & 52 &  1 & 42 & 44 & 41 & 40 & 42 & NA & NA & NA & NA & NA & NA & NA\\\\\n",
       "\t 104 &  1 & 56 & 65 & 55 & 40 & 57 &  2 & 53 & 73 & 68 & 67 & 71 &  1 & 11 & 12 & 28 & 58 & 57 & 60\\\\\n",
       "\t 105 &  1 & 56 & 57 & 67 & 65 & 61 &  2 & 41 & 67 & 63 & 66 & 65 &  2 &  7 &  7 & 15 & 47 & 48 & 45\\\\\n",
       "\t 106 &  2 & 41 & 61 & 64 & 53 & 57 &  1 & 60 & 60 & 59 & 67 & 62 &  1 &  6 & 10 & 15 & 49 & 52 & 48\\\\\n",
       "\t 107 &  2 & 61 & 61 & 52 & 56 & 57 &  1 & 42 & 44 & 50 & 61 & 50 &  1 & 10 & 11 & 25 & 58 & 57 & 58\\\\\n",
       "\t 108 &  1 & 56 & 53 & 55 & 53 & 53 &  2 & 65 & 70 & 70 & 53 & 69 & NA & NA & NA & NA & NA & NA & NA\\\\\n",
       "\t 109 &  2 & 57 & 64 & 59 & 53 & 60 & NA & NA & NA & NA & NA & NA & NA & NA & NA & NA & NA & NA & NA\\\\\n",
       "\t 110 &  1 & 42 & 53 & 50 & 53 & 50 &  2 & 41 & 42 & 38 & 39 & 33 &  2 &  5 &  5 & 15 & 49 & 49 & 52\\\\\n",
       "\t 111 &  2 & 51 & 42 & 38 & 39 & 39 &  1 & 60 & 44 & 41 & 40 & 45 & NA & NA & NA & NA & NA & NA & NA\\\\\n",
       "\t 112 &  2 & 53 & 61 & 61 & 56 & 55 &  1 & 42 & 44 & 50 & 40 & 42 &  1 &  4 &  9 & 14 & 48 & 55 & 51\\\\\n",
       "\t 113 &  1 & 42 & 44 & 50 & 40 & 42 &  2 & 41 & 42 & 38 & 39 & 43 & NA & NA & NA & NA & NA & NA & NA\\\\\n",
       "\t 114 &  2 & 53 & 57 & 55 & 56 & 51 &  1 & 54 & 44 & 41 & 40 & 35 & NA & NA & NA & NA & NA & NA & NA\\\\\n",
       "\t 115 & NA & NA & NA & NA & NA & NA &  2 & 58 & 57 & 52 & 53 & 57 &  2 &  9 & 29 & 41 & 55 & 65 & 65\\\\\n",
       "\t 116 &  2 & 57 & 70 & 59 & 66 & 66 & NA & NA & NA & NA & NA & NA &  1 & 18 & 11 & 32 & 64 & 57 & 61\\\\\n",
       "\t 117 &  2 & 53 & 57 & 61 & 53 & 52 &  1 & 42 & 53 & 59 & 53 & 53 &  2 &  6 &  9 & 21 & 46 & 51 & 49\\\\\n",
       "\t 118 &  1 & 68 & 53 & 55 & 53 & 59 & NA & NA & NA & NA & NA & NA & NA & NA & NA & NA & NA & NA & NA\\\\\n",
       "\t 119 &  2 & 41 & 61 & 46 & 53 & 56 & NA & NA & NA & NA & NA & NA &  2 &  1 &  0 &  1 & 40 & 38 & 33\\\\\n",
       "\t 120 &  2 & 57 & 61 & 55 & 56 & 58 & NA & NA & NA & NA & NA & NA & NA & NA & NA & NA & NA & NA & NA\\\\\n",
       "\t 121 &  2 & 61 & 63 & 63 & 72 & 63 & NA & NA & NA & NA & NA & NA &  1 & 24 & 16 & 44 & 67 & 61 & 64\\\\\n",
       "\t 122 &  2 & 53 & 42 & 38 & 39 & 39 &  1 & 65 & 71 & 69 & 78 & 67 & NA & NA & NA & NA & NA & NA & NA\\\\\n",
       "\t 123 &  2 & 41 & 57 & 61 & 67 & 57 &  1 & 60 & 78 & 55 & 61 & 64 &  1 &  4 &  9 & 13 & 46 & 51 & 46\\\\\n",
       "\t 125 &  2 & 41 & 42 & 52 & 39 & 48 &  1 & 42 & 44 & 41 & 40 & 42 & NA & NA & NA & NA & NA & NA & NA\\\\\n",
       "\t 126 &  2 & 58 & 42 & 55 & 60 & 54 & NA & NA & NA & NA & NA & NA & NA & NA & NA & NA & NA & NA & NA\\\\\n",
       "\t 127 &  2 & 65 & 42 & 38 & 39 & 49 &  1 & 54 & 44 & 41 & 40 & 42 & NA & NA & NA & NA & NA & NA & NA\\\\\n",
       "\t 129 &  2 & 51 & 42 & 55 & 53 & 54 &  1 & 54 & 44 & 55 & 53 & 50 & NA & NA & NA & NA & NA & NA & NA\\\\\n",
       "\t 130 &  1 & 65 & 44 & 55 & 40 & 53 &  2 & 41 & 61 & 52 & 53 & 52 & NA & NA & NA & NA & NA & NA & NA\\\\\n",
       "\t 131 &  2 & 58 & 50 & 52 & 39 & 48 & NA & NA & NA & NA & NA & NA & NA & NA & NA & NA & NA & NA & NA\\\\\n",
       "\t 132 & NA & NA & NA & NA & NA & NA &  2 & 41 & 61 & 68 & 63 & 61 & NA & NA & NA & NA & NA & NA & NA\\\\\n",
       "\t 135 &  2 & 53 & 50 & 38 & 39 & 45 &  1 & 42 & 44 & 50 & 53 & 50 &  2 &  1 &  4 &  7 & 40 & 44 & 43\\\\\n",
       "\t 138 &  2 & 41 & 42 & 38 & 39 & 43 & NA & NA & NA & NA & NA & NA &  1 &  2 &  1 &  3 & 38 & 34 & 33\\\\\n",
       "\t ⋮ & ⋮ & ⋮ & ⋮ & ⋮ & ⋮ & ⋮ & ⋮ & ⋮ & ⋮ & ⋮ & ⋮ & ⋮ & ⋮ & ⋮ & ⋮ & ⋮ & ⋮ & ⋮ & ⋮\\\\\n",
       "\t 238 &  2 & 51 & 50 & 55 & 56 & 54 &  1 & 42 & 57 & 50 & 40 & 53 & NA & NA & NA & NA & NA & NA & NA\\\\\n",
       "\t 239 &  2 & 66 & 54 & 55 & 53 & 63 & NA & NA & NA & NA & NA & NA &  1 & 24 & 15 & 45 & 69 & 57 & 65\\\\\n",
       "\t 240 & NA & NA & NA & NA & NA & NA &  1 & 42 & 65 & 64 & 71 & 60 &  1 & 15 & 14 & 38 & 61 & 56 & 61\\\\\n",
       "\t 243 & NA & NA & NA & NA & NA & NA &  2 & 51 & 57 & 55 & 53 & 54 & NA & NA & NA & NA & NA & NA & NA\\\\\n",
       "\t 304 &  2 & 61 & 50 & 61 & 39 & 55 &  1 & 76 & 53 & 64 & 67 & 65 &  2 & 13 &  8 & 22 & 58 & 52 & 57\\\\\n",
       "\t 305 &  2 & 64 & 57 & 70 & 72 & 71 &  1 & 54 & 60 & 67 & 58 & 58 &  1 & 14 & 16 & 38 & 60 & 58 & 61\\\\\n",
       "\t 306 &  2 & 69 & 64 & 68 & 63 & 66 &  1 & 54 & 44 & 64 & 53 & 48 &  2 & 20 & 25 & 45 & 67 & 65 & 67\\\\\n",
       "\t 307 &  2 & 74 & 78 & 75 & 74 & 80 &  1 & 56 & 71 & 64 & 61 & 65 & NA & NA & NA & NA & NA & NA & NA\\\\\n",
       "\t 308 &  2 & 51 & 62 & 55 & 53 & 54 &  1 & 75 & 67 & 64 & 61 & 66 & NA & NA & NA & NA & NA & NA & NA\\\\\n",
       "\t 309 &  2 & 61 & 42 & 55 & 56 & 54 &  1 & 42 & 44 & 50 & 40 & 45 &  1 &  1 &  1 &  3 & 40 & 41 & 39\\\\\n",
       "\t 310 &  2 & 62 & 42 & 55 & 53 & 55 & NA & NA & NA & NA & NA & NA & NA & NA & NA & NA & NA & NA & NA\\\\\n",
       "\t 311 &  2 & 68 & 63 & 64 & 56 & 63 & NA & NA & NA & NA & NA & NA &  2 & 15 &  6 & 26 & 60 & 50 & 59\\\\\n",
       "\t 312 &  2 & 78 & 73 & 75 & 74 & 80 & NA & NA & NA & NA & NA & NA &  2 & 42 & 40 & 83 & 77 & 74 & 77\\\\\n",
       "\t 315 &  2 & 64 & 54 & 55 & 56 & 57 &  1 & 42 & 44 & 41 & 40 & 45 &  2 &  0 &  0 &  0 & 37 & 38 & 30\\\\\n",
       "\t 316 &  2 & 65 & 50 & 55 & 53 & 60 & NA & NA & NA & NA & NA & NA & NA & NA & NA & NA & NA & NA & NA\\\\\n",
       "\t 317 &  2 & NA & NA & NA & NA & NA &  2 & 41 & 50 & 55 & 39 & 45 & NA & NA & NA & NA & NA & NA & NA\\\\\n",
       "\t 318 &  2 & 57 & 42 & 38 & 53 & 43 &  1 & 78 & 65 & 78 & 58 & 72 &  2 &  3 & 10 & 16 & 45 & 52 & 49\\\\\n",
       "\t 319 &  2 & 57 & 61 & 55 & 53 & 55 & NA & NA & NA & NA & NA & NA &  2 & 13 & 19 & 33 & 58 & 61 & 62\\\\\n",
       "\t 320 &  1 & NA & NA & NA & NA & NA &  2 & NA & NA & NA & NA & NA & NA & NA & NA & NA & NA & NA & NA\\\\\n",
       "\t 321 &  2 & 51 & 61 & 59 & 63 & 61 &  2 & 53 & 57 & 63 & 53 & 58 &  1 & 13 & 11 & 27 & 61 & 57 & 59\\\\\n",
       "\t 322 &  2 & 41 & 54 & 59 & 53 & 57 & NA & NA & NA & NA & NA & NA & NA & NA & NA & NA & NA & NA & NA\\\\\n",
       "\t 323 &  2 & 66 & 67 & 52 & 53 & 62 & NA & NA & NA & NA & NA & NA & NA & NA & NA & NA & NA & NA & NA\\\\\n",
       "\t 324 &  2 & 61 & 57 & 68 & 53 & 57 & NA & NA & NA & NA & NA & NA &  1 &  0 &  2 &  3 & 36 & 45 & 39\\\\\n",
       "\t 325 &  2 & 67 & 63 & 61 & 53 & 66 &  1 & 54 & 71 & 74 & 61 & 72 &  1 & 15 & 42 & 59 & 62 & 75 & 68\\\\\n",
       "\t 326 &  2 & 61 & 63 & 59 & 53 & 61 & NA & NA & NA & NA & NA & NA & NA & NA & NA & NA & NA & NA & NA\\\\\n",
       "\t 327 &  2 & NA & NA & NA & NA & NA & NA & NA & NA & NA & NA & NA & NA & NA & NA & NA & NA & NA & NA\\\\\n",
       "\t 329 &  2 & 53 & 42 & 38 & 56 & 45 &  1 & 42 & 60 & 67 & 58 & 57 & NA & NA & NA & NA & NA & NA & NA\\\\\n",
       "\t 332 &  2 & 51 & 50 & 52 & 39 & 48 & NA & NA & NA & NA & NA & NA & NA & NA & NA & NA & NA & NA & NA\\\\\n",
       "\t 401 & NA & NA & NA & NA & NA & NA &  1 & 56 & 44 & 55 & 40 & 45 & NA & NA & NA & NA & NA & NA & NA\\\\\n",
       "\t 404 &  1 & 68 & 73 & 74 & 63 & 72 &  2 & 51 & 50 & 46 & 66 & 55 & NA & NA & NA & NA & NA & NA & NA\\\\\n",
       "\\end{tabular}\n"
      ],
      "text/markdown": [
       "\n",
       "A data.frame: 89 × 20\n",
       "\n",
       "| FamNum &lt;int&gt; | SexP &lt;int&gt; | SomTP &lt;int&gt; | DepTP &lt;int&gt; | AnxTP &lt;int&gt; | HosTP &lt;int&gt; | GSITP &lt;int&gt; | SexS &lt;int&gt; | SomTS &lt;int&gt; | DepTS &lt;int&gt; | AnxTS &lt;int&gt; | HosTS &lt;int&gt; | GSITS &lt;int&gt; | SexChild &lt;int&gt; | Intern &lt;int&gt; | Extern &lt;int&gt; | TotBP &lt;int&gt; | InternT &lt;int&gt; | ExternT &lt;int&gt; | TotBPT &lt;int&gt; |\n",
       "|---|---|---|---|---|---|---|---|---|---|---|---|---|---|---|---|---|---|---|---|\n",
       "| 101 |  2 | 62 | 50 | 52 | 39 | 52 |  1 | 42 | 44 | 41 | 40 | 42 | NA | NA | NA | NA | NA | NA | NA |\n",
       "| 104 |  1 | 56 | 65 | 55 | 40 | 57 |  2 | 53 | 73 | 68 | 67 | 71 |  1 | 11 | 12 | 28 | 58 | 57 | 60 |\n",
       "| 105 |  1 | 56 | 57 | 67 | 65 | 61 |  2 | 41 | 67 | 63 | 66 | 65 |  2 |  7 |  7 | 15 | 47 | 48 | 45 |\n",
       "| 106 |  2 | 41 | 61 | 64 | 53 | 57 |  1 | 60 | 60 | 59 | 67 | 62 |  1 |  6 | 10 | 15 | 49 | 52 | 48 |\n",
       "| 107 |  2 | 61 | 61 | 52 | 56 | 57 |  1 | 42 | 44 | 50 | 61 | 50 |  1 | 10 | 11 | 25 | 58 | 57 | 58 |\n",
       "| 108 |  1 | 56 | 53 | 55 | 53 | 53 |  2 | 65 | 70 | 70 | 53 | 69 | NA | NA | NA | NA | NA | NA | NA |\n",
       "| 109 |  2 | 57 | 64 | 59 | 53 | 60 | NA | NA | NA | NA | NA | NA | NA | NA | NA | NA | NA | NA | NA |\n",
       "| 110 |  1 | 42 | 53 | 50 | 53 | 50 |  2 | 41 | 42 | 38 | 39 | 33 |  2 |  5 |  5 | 15 | 49 | 49 | 52 |\n",
       "| 111 |  2 | 51 | 42 | 38 | 39 | 39 |  1 | 60 | 44 | 41 | 40 | 45 | NA | NA | NA | NA | NA | NA | NA |\n",
       "| 112 |  2 | 53 | 61 | 61 | 56 | 55 |  1 | 42 | 44 | 50 | 40 | 42 |  1 |  4 |  9 | 14 | 48 | 55 | 51 |\n",
       "| 113 |  1 | 42 | 44 | 50 | 40 | 42 |  2 | 41 | 42 | 38 | 39 | 43 | NA | NA | NA | NA | NA | NA | NA |\n",
       "| 114 |  2 | 53 | 57 | 55 | 56 | 51 |  1 | 54 | 44 | 41 | 40 | 35 | NA | NA | NA | NA | NA | NA | NA |\n",
       "| 115 | NA | NA | NA | NA | NA | NA |  2 | 58 | 57 | 52 | 53 | 57 |  2 |  9 | 29 | 41 | 55 | 65 | 65 |\n",
       "| 116 |  2 | 57 | 70 | 59 | 66 | 66 | NA | NA | NA | NA | NA | NA |  1 | 18 | 11 | 32 | 64 | 57 | 61 |\n",
       "| 117 |  2 | 53 | 57 | 61 | 53 | 52 |  1 | 42 | 53 | 59 | 53 | 53 |  2 |  6 |  9 | 21 | 46 | 51 | 49 |\n",
       "| 118 |  1 | 68 | 53 | 55 | 53 | 59 | NA | NA | NA | NA | NA | NA | NA | NA | NA | NA | NA | NA | NA |\n",
       "| 119 |  2 | 41 | 61 | 46 | 53 | 56 | NA | NA | NA | NA | NA | NA |  2 |  1 |  0 |  1 | 40 | 38 | 33 |\n",
       "| 120 |  2 | 57 | 61 | 55 | 56 | 58 | NA | NA | NA | NA | NA | NA | NA | NA | NA | NA | NA | NA | NA |\n",
       "| 121 |  2 | 61 | 63 | 63 | 72 | 63 | NA | NA | NA | NA | NA | NA |  1 | 24 | 16 | 44 | 67 | 61 | 64 |\n",
       "| 122 |  2 | 53 | 42 | 38 | 39 | 39 |  1 | 65 | 71 | 69 | 78 | 67 | NA | NA | NA | NA | NA | NA | NA |\n",
       "| 123 |  2 | 41 | 57 | 61 | 67 | 57 |  1 | 60 | 78 | 55 | 61 | 64 |  1 |  4 |  9 | 13 | 46 | 51 | 46 |\n",
       "| 125 |  2 | 41 | 42 | 52 | 39 | 48 |  1 | 42 | 44 | 41 | 40 | 42 | NA | NA | NA | NA | NA | NA | NA |\n",
       "| 126 |  2 | 58 | 42 | 55 | 60 | 54 | NA | NA | NA | NA | NA | NA | NA | NA | NA | NA | NA | NA | NA |\n",
       "| 127 |  2 | 65 | 42 | 38 | 39 | 49 |  1 | 54 | 44 | 41 | 40 | 42 | NA | NA | NA | NA | NA | NA | NA |\n",
       "| 129 |  2 | 51 | 42 | 55 | 53 | 54 |  1 | 54 | 44 | 55 | 53 | 50 | NA | NA | NA | NA | NA | NA | NA |\n",
       "| 130 |  1 | 65 | 44 | 55 | 40 | 53 |  2 | 41 | 61 | 52 | 53 | 52 | NA | NA | NA | NA | NA | NA | NA |\n",
       "| 131 |  2 | 58 | 50 | 52 | 39 | 48 | NA | NA | NA | NA | NA | NA | NA | NA | NA | NA | NA | NA | NA |\n",
       "| 132 | NA | NA | NA | NA | NA | NA |  2 | 41 | 61 | 68 | 63 | 61 | NA | NA | NA | NA | NA | NA | NA |\n",
       "| 135 |  2 | 53 | 50 | 38 | 39 | 45 |  1 | 42 | 44 | 50 | 53 | 50 |  2 |  1 |  4 |  7 | 40 | 44 | 43 |\n",
       "| 138 |  2 | 41 | 42 | 38 | 39 | 43 | NA | NA | NA | NA | NA | NA |  1 |  2 |  1 |  3 | 38 | 34 | 33 |\n",
       "| ⋮ | ⋮ | ⋮ | ⋮ | ⋮ | ⋮ | ⋮ | ⋮ | ⋮ | ⋮ | ⋮ | ⋮ | ⋮ | ⋮ | ⋮ | ⋮ | ⋮ | ⋮ | ⋮ | ⋮ |\n",
       "| 238 |  2 | 51 | 50 | 55 | 56 | 54 |  1 | 42 | 57 | 50 | 40 | 53 | NA | NA | NA | NA | NA | NA | NA |\n",
       "| 239 |  2 | 66 | 54 | 55 | 53 | 63 | NA | NA | NA | NA | NA | NA |  1 | 24 | 15 | 45 | 69 | 57 | 65 |\n",
       "| 240 | NA | NA | NA | NA | NA | NA |  1 | 42 | 65 | 64 | 71 | 60 |  1 | 15 | 14 | 38 | 61 | 56 | 61 |\n",
       "| 243 | NA | NA | NA | NA | NA | NA |  2 | 51 | 57 | 55 | 53 | 54 | NA | NA | NA | NA | NA | NA | NA |\n",
       "| 304 |  2 | 61 | 50 | 61 | 39 | 55 |  1 | 76 | 53 | 64 | 67 | 65 |  2 | 13 |  8 | 22 | 58 | 52 | 57 |\n",
       "| 305 |  2 | 64 | 57 | 70 | 72 | 71 |  1 | 54 | 60 | 67 | 58 | 58 |  1 | 14 | 16 | 38 | 60 | 58 | 61 |\n",
       "| 306 |  2 | 69 | 64 | 68 | 63 | 66 |  1 | 54 | 44 | 64 | 53 | 48 |  2 | 20 | 25 | 45 | 67 | 65 | 67 |\n",
       "| 307 |  2 | 74 | 78 | 75 | 74 | 80 |  1 | 56 | 71 | 64 | 61 | 65 | NA | NA | NA | NA | NA | NA | NA |\n",
       "| 308 |  2 | 51 | 62 | 55 | 53 | 54 |  1 | 75 | 67 | 64 | 61 | 66 | NA | NA | NA | NA | NA | NA | NA |\n",
       "| 309 |  2 | 61 | 42 | 55 | 56 | 54 |  1 | 42 | 44 | 50 | 40 | 45 |  1 |  1 |  1 |  3 | 40 | 41 | 39 |\n",
       "| 310 |  2 | 62 | 42 | 55 | 53 | 55 | NA | NA | NA | NA | NA | NA | NA | NA | NA | NA | NA | NA | NA |\n",
       "| 311 |  2 | 68 | 63 | 64 | 56 | 63 | NA | NA | NA | NA | NA | NA |  2 | 15 |  6 | 26 | 60 | 50 | 59 |\n",
       "| 312 |  2 | 78 | 73 | 75 | 74 | 80 | NA | NA | NA | NA | NA | NA |  2 | 42 | 40 | 83 | 77 | 74 | 77 |\n",
       "| 315 |  2 | 64 | 54 | 55 | 56 | 57 |  1 | 42 | 44 | 41 | 40 | 45 |  2 |  0 |  0 |  0 | 37 | 38 | 30 |\n",
       "| 316 |  2 | 65 | 50 | 55 | 53 | 60 | NA | NA | NA | NA | NA | NA | NA | NA | NA | NA | NA | NA | NA |\n",
       "| 317 |  2 | NA | NA | NA | NA | NA |  2 | 41 | 50 | 55 | 39 | 45 | NA | NA | NA | NA | NA | NA | NA |\n",
       "| 318 |  2 | 57 | 42 | 38 | 53 | 43 |  1 | 78 | 65 | 78 | 58 | 72 |  2 |  3 | 10 | 16 | 45 | 52 | 49 |\n",
       "| 319 |  2 | 57 | 61 | 55 | 53 | 55 | NA | NA | NA | NA | NA | NA |  2 | 13 | 19 | 33 | 58 | 61 | 62 |\n",
       "| 320 |  1 | NA | NA | NA | NA | NA |  2 | NA | NA | NA | NA | NA | NA | NA | NA | NA | NA | NA | NA |\n",
       "| 321 |  2 | 51 | 61 | 59 | 63 | 61 |  2 | 53 | 57 | 63 | 53 | 58 |  1 | 13 | 11 | 27 | 61 | 57 | 59 |\n",
       "| 322 |  2 | 41 | 54 | 59 | 53 | 57 | NA | NA | NA | NA | NA | NA | NA | NA | NA | NA | NA | NA | NA |\n",
       "| 323 |  2 | 66 | 67 | 52 | 53 | 62 | NA | NA | NA | NA | NA | NA | NA | NA | NA | NA | NA | NA | NA |\n",
       "| 324 |  2 | 61 | 57 | 68 | 53 | 57 | NA | NA | NA | NA | NA | NA |  1 |  0 |  2 |  3 | 36 | 45 | 39 |\n",
       "| 325 |  2 | 67 | 63 | 61 | 53 | 66 |  1 | 54 | 71 | 74 | 61 | 72 |  1 | 15 | 42 | 59 | 62 | 75 | 68 |\n",
       "| 326 |  2 | 61 | 63 | 59 | 53 | 61 | NA | NA | NA | NA | NA | NA | NA | NA | NA | NA | NA | NA | NA |\n",
       "| 327 |  2 | NA | NA | NA | NA | NA | NA | NA | NA | NA | NA | NA | NA | NA | NA | NA | NA | NA | NA |\n",
       "| 329 |  2 | 53 | 42 | 38 | 56 | 45 |  1 | 42 | 60 | 67 | 58 | 57 | NA | NA | NA | NA | NA | NA | NA |\n",
       "| 332 |  2 | 51 | 50 | 52 | 39 | 48 | NA | NA | NA | NA | NA | NA | NA | NA | NA | NA | NA | NA | NA |\n",
       "| 401 | NA | NA | NA | NA | NA | NA |  1 | 56 | 44 | 55 | 40 | 45 | NA | NA | NA | NA | NA | NA | NA |\n",
       "| 404 |  1 | 68 | 73 | 74 | 63 | 72 |  2 | 51 | 50 | 46 | 66 | 55 | NA | NA | NA | NA | NA | NA | NA |\n",
       "\n"
      ],
      "text/plain": [
       "   FamNum SexP SomTP DepTP AnxTP HosTP GSITP SexS SomTS DepTS AnxTS HosTS GSITS\n",
       "1  101     2   62    50    52    39    52     1   42    44    41    40    42   \n",
       "2  104     1   56    65    55    40    57     2   53    73    68    67    71   \n",
       "3  105     1   56    57    67    65    61     2   41    67    63    66    65   \n",
       "4  106     2   41    61    64    53    57     1   60    60    59    67    62   \n",
       "5  107     2   61    61    52    56    57     1   42    44    50    61    50   \n",
       "6  108     1   56    53    55    53    53     2   65    70    70    53    69   \n",
       "7  109     2   57    64    59    53    60    NA   NA    NA    NA    NA    NA   \n",
       "8  110     1   42    53    50    53    50     2   41    42    38    39    33   \n",
       "9  111     2   51    42    38    39    39     1   60    44    41    40    45   \n",
       "10 112     2   53    61    61    56    55     1   42    44    50    40    42   \n",
       "11 113     1   42    44    50    40    42     2   41    42    38    39    43   \n",
       "12 114     2   53    57    55    56    51     1   54    44    41    40    35   \n",
       "13 115    NA   NA    NA    NA    NA    NA     2   58    57    52    53    57   \n",
       "14 116     2   57    70    59    66    66    NA   NA    NA    NA    NA    NA   \n",
       "15 117     2   53    57    61    53    52     1   42    53    59    53    53   \n",
       "16 118     1   68    53    55    53    59    NA   NA    NA    NA    NA    NA   \n",
       "17 119     2   41    61    46    53    56    NA   NA    NA    NA    NA    NA   \n",
       "18 120     2   57    61    55    56    58    NA   NA    NA    NA    NA    NA   \n",
       "19 121     2   61    63    63    72    63    NA   NA    NA    NA    NA    NA   \n",
       "20 122     2   53    42    38    39    39     1   65    71    69    78    67   \n",
       "21 123     2   41    57    61    67    57     1   60    78    55    61    64   \n",
       "22 125     2   41    42    52    39    48     1   42    44    41    40    42   \n",
       "23 126     2   58    42    55    60    54    NA   NA    NA    NA    NA    NA   \n",
       "24 127     2   65    42    38    39    49     1   54    44    41    40    42   \n",
       "25 129     2   51    42    55    53    54     1   54    44    55    53    50   \n",
       "26 130     1   65    44    55    40    53     2   41    61    52    53    52   \n",
       "27 131     2   58    50    52    39    48    NA   NA    NA    NA    NA    NA   \n",
       "28 132    NA   NA    NA    NA    NA    NA     2   41    61    68    63    61   \n",
       "29 135     2   53    50    38    39    45     1   42    44    50    53    50   \n",
       "30 138     2   41    42    38    39    43    NA   NA    NA    NA    NA    NA   \n",
       "⋮  ⋮      ⋮    ⋮     ⋮     ⋮     ⋮     ⋮     ⋮    ⋮     ⋮     ⋮     ⋮     ⋮    \n",
       "60 238     2   51    50    55    56    54     1   42    57    50    40    53   \n",
       "61 239     2   66    54    55    53    63    NA   NA    NA    NA    NA    NA   \n",
       "62 240    NA   NA    NA    NA    NA    NA     1   42    65    64    71    60   \n",
       "63 243    NA   NA    NA    NA    NA    NA     2   51    57    55    53    54   \n",
       "64 304     2   61    50    61    39    55     1   76    53    64    67    65   \n",
       "65 305     2   64    57    70    72    71     1   54    60    67    58    58   \n",
       "66 306     2   69    64    68    63    66     1   54    44    64    53    48   \n",
       "67 307     2   74    78    75    74    80     1   56    71    64    61    65   \n",
       "68 308     2   51    62    55    53    54     1   75    67    64    61    66   \n",
       "69 309     2   61    42    55    56    54     1   42    44    50    40    45   \n",
       "70 310     2   62    42    55    53    55    NA   NA    NA    NA    NA    NA   \n",
       "71 311     2   68    63    64    56    63    NA   NA    NA    NA    NA    NA   \n",
       "72 312     2   78    73    75    74    80    NA   NA    NA    NA    NA    NA   \n",
       "73 315     2   64    54    55    56    57     1   42    44    41    40    45   \n",
       "74 316     2   65    50    55    53    60    NA   NA    NA    NA    NA    NA   \n",
       "75 317     2   NA    NA    NA    NA    NA     2   41    50    55    39    45   \n",
       "76 318     2   57    42    38    53    43     1   78    65    78    58    72   \n",
       "77 319     2   57    61    55    53    55    NA   NA    NA    NA    NA    NA   \n",
       "78 320     1   NA    NA    NA    NA    NA     2   NA    NA    NA    NA    NA   \n",
       "79 321     2   51    61    59    63    61     2   53    57    63    53    58   \n",
       "80 322     2   41    54    59    53    57    NA   NA    NA    NA    NA    NA   \n",
       "81 323     2   66    67    52    53    62    NA   NA    NA    NA    NA    NA   \n",
       "82 324     2   61    57    68    53    57    NA   NA    NA    NA    NA    NA   \n",
       "83 325     2   67    63    61    53    66     1   54    71    74    61    72   \n",
       "84 326     2   61    63    59    53    61    NA   NA    NA    NA    NA    NA   \n",
       "85 327     2   NA    NA    NA    NA    NA    NA   NA    NA    NA    NA    NA   \n",
       "86 329     2   53    42    38    56    45     1   42    60    67    58    57   \n",
       "87 332     2   51    50    52    39    48    NA   NA    NA    NA    NA    NA   \n",
       "88 401    NA   NA    NA    NA    NA    NA     1   56    44    55    40    45   \n",
       "89 404     1   68    73    74    63    72     2   51    50    46    66    55   \n",
       "   SexChild Intern Extern TotBP InternT ExternT TotBPT\n",
       "1  NA       NA     NA     NA    NA      NA      NA    \n",
       "2   1       11     12     28    58      57      60    \n",
       "3   2        7      7     15    47      48      45    \n",
       "4   1        6     10     15    49      52      48    \n",
       "5   1       10     11     25    58      57      58    \n",
       "6  NA       NA     NA     NA    NA      NA      NA    \n",
       "7  NA       NA     NA     NA    NA      NA      NA    \n",
       "8   2        5      5     15    49      49      52    \n",
       "9  NA       NA     NA     NA    NA      NA      NA    \n",
       "10  1        4      9     14    48      55      51    \n",
       "11 NA       NA     NA     NA    NA      NA      NA    \n",
       "12 NA       NA     NA     NA    NA      NA      NA    \n",
       "13  2        9     29     41    55      65      65    \n",
       "14  1       18     11     32    64      57      61    \n",
       "15  2        6      9     21    46      51      49    \n",
       "16 NA       NA     NA     NA    NA      NA      NA    \n",
       "17  2        1      0      1    40      38      33    \n",
       "18 NA       NA     NA     NA    NA      NA      NA    \n",
       "19  1       24     16     44    67      61      64    \n",
       "20 NA       NA     NA     NA    NA      NA      NA    \n",
       "21  1        4      9     13    46      51      46    \n",
       "22 NA       NA     NA     NA    NA      NA      NA    \n",
       "23 NA       NA     NA     NA    NA      NA      NA    \n",
       "24 NA       NA     NA     NA    NA      NA      NA    \n",
       "25 NA       NA     NA     NA    NA      NA      NA    \n",
       "26 NA       NA     NA     NA    NA      NA      NA    \n",
       "27 NA       NA     NA     NA    NA      NA      NA    \n",
       "28 NA       NA     NA     NA    NA      NA      NA    \n",
       "29  2        1      4      7    40      44      43    \n",
       "30  1        2      1      3    38      34      33    \n",
       "⋮  ⋮        ⋮      ⋮      ⋮     ⋮       ⋮       ⋮     \n",
       "60 NA       NA     NA     NA    NA      NA      NA    \n",
       "61  1       24     15     45    69      57      65    \n",
       "62  1       15     14     38    61      56      61    \n",
       "63 NA       NA     NA     NA    NA      NA      NA    \n",
       "64  2       13      8     22    58      52      57    \n",
       "65  1       14     16     38    60      58      61    \n",
       "66  2       20     25     45    67      65      67    \n",
       "67 NA       NA     NA     NA    NA      NA      NA    \n",
       "68 NA       NA     NA     NA    NA      NA      NA    \n",
       "69  1        1      1      3    40      41      39    \n",
       "70 NA       NA     NA     NA    NA      NA      NA    \n",
       "71  2       15      6     26    60      50      59    \n",
       "72  2       42     40     83    77      74      77    \n",
       "73  2        0      0      0    37      38      30    \n",
       "74 NA       NA     NA     NA    NA      NA      NA    \n",
       "75 NA       NA     NA     NA    NA      NA      NA    \n",
       "76  2        3     10     16    45      52      49    \n",
       "77  2       13     19     33    58      61      62    \n",
       "78 NA       NA     NA     NA    NA      NA      NA    \n",
       "79  1       13     11     27    61      57      59    \n",
       "80 NA       NA     NA     NA    NA      NA      NA    \n",
       "81 NA       NA     NA     NA    NA      NA      NA    \n",
       "82  1        0      2      3    36      45      39    \n",
       "83  1       15     42     59    62      75      68    \n",
       "84 NA       NA     NA     NA    NA      NA      NA    \n",
       "85 NA       NA     NA     NA    NA      NA      NA    \n",
       "86 NA       NA     NA     NA    NA      NA      NA    \n",
       "87 NA       NA     NA     NA    NA      NA      NA    \n",
       "88 NA       NA     NA     NA    NA      NA      NA    \n",
       "89 NA       NA     NA     NA    NA      NA      NA    "
      ]
     },
     "metadata": {},
     "output_type": "display_data"
    }
   ],
   "source": [
    "assumptions"
   ]
  },
  {
   "cell_type": "code",
   "execution_count": 39,
   "metadata": {},
   "outputs": [],
   "source": [
    "library(imputeTS)"
   ]
  },
  {
   "cell_type": "code",
   "execution_count": 40,
   "metadata": {},
   "outputs": [],
   "source": [
    "data_imputed = na_mean(assumptions)"
   ]
  },
  {
   "cell_type": "code",
   "execution_count": 41,
   "metadata": {
    "scrolled": true
   },
   "outputs": [
    {
     "data": {
      "text/html": [
       "<table class=\"dataframe\">\n",
       "<caption>A data.frame: 89 × 20</caption>\n",
       "<thead>\n",
       "\t<tr><th scope=col>FamNum</th><th scope=col>SexP</th><th scope=col>SomTP</th><th scope=col>DepTP</th><th scope=col>AnxTP</th><th scope=col>HosTP</th><th scope=col>GSITP</th><th scope=col>SexS</th><th scope=col>SomTS</th><th scope=col>DepTS</th><th scope=col>AnxTS</th><th scope=col>HosTS</th><th scope=col>GSITS</th><th scope=col>SexChild</th><th scope=col>Intern</th><th scope=col>Extern</th><th scope=col>TotBP</th><th scope=col>InternT</th><th scope=col>ExternT</th><th scope=col>TotBPT</th></tr>\n",
       "\t<tr><th scope=col>&lt;int&gt;</th><th scope=col>&lt;dbl&gt;</th><th scope=col>&lt;dbl&gt;</th><th scope=col>&lt;dbl&gt;</th><th scope=col>&lt;dbl&gt;</th><th scope=col>&lt;dbl&gt;</th><th scope=col>&lt;dbl&gt;</th><th scope=col>&lt;dbl&gt;</th><th scope=col>&lt;dbl&gt;</th><th scope=col>&lt;dbl&gt;</th><th scope=col>&lt;dbl&gt;</th><th scope=col>&lt;dbl&gt;</th><th scope=col>&lt;dbl&gt;</th><th scope=col>&lt;dbl&gt;</th><th scope=col>&lt;dbl&gt;</th><th scope=col>&lt;dbl&gt;</th><th scope=col>&lt;dbl&gt;</th><th scope=col>&lt;dbl&gt;</th><th scope=col>&lt;dbl&gt;</th><th scope=col>&lt;dbl&gt;</th></tr>\n",
       "</thead>\n",
       "<tbody>\n",
       "\t<tr><td>101</td><td>2.000000</td><td>62.00000</td><td>50.00000</td><td>52.00000</td><td>39.00000</td><td>52.00000</td><td>1.000000</td><td>42.00000</td><td>44.00000</td><td>41.00</td><td>40.00</td><td>42.00000</td><td>1.463415</td><td> 9.536585</td><td>12.09756</td><td>24.43902</td><td>52.68293</td><td>53.68293</td><td>53.58537</td></tr>\n",
       "\t<tr><td>104</td><td>1.000000</td><td>56.00000</td><td>65.00000</td><td>55.00000</td><td>40.00000</td><td>57.00000</td><td>2.000000</td><td>53.00000</td><td>73.00000</td><td>68.00</td><td>67.00</td><td>71.00000</td><td>1.000000</td><td>11.000000</td><td>12.00000</td><td>28.00000</td><td>58.00000</td><td>57.00000</td><td>60.00000</td></tr>\n",
       "\t<tr><td>105</td><td>1.000000</td><td>56.00000</td><td>57.00000</td><td>67.00000</td><td>65.00000</td><td>61.00000</td><td>2.000000</td><td>41.00000</td><td>67.00000</td><td>63.00</td><td>66.00</td><td>65.00000</td><td>2.000000</td><td> 7.000000</td><td> 7.00000</td><td>15.00000</td><td>47.00000</td><td>48.00000</td><td>45.00000</td></tr>\n",
       "\t<tr><td>106</td><td>2.000000</td><td>41.00000</td><td>61.00000</td><td>64.00000</td><td>53.00000</td><td>57.00000</td><td>1.000000</td><td>60.00000</td><td>60.00000</td><td>59.00</td><td>67.00</td><td>62.00000</td><td>1.000000</td><td> 6.000000</td><td>10.00000</td><td>15.00000</td><td>49.00000</td><td>52.00000</td><td>48.00000</td></tr>\n",
       "\t<tr><td>107</td><td>2.000000</td><td>61.00000</td><td>61.00000</td><td>52.00000</td><td>56.00000</td><td>57.00000</td><td>1.000000</td><td>42.00000</td><td>44.00000</td><td>50.00</td><td>61.00</td><td>50.00000</td><td>1.000000</td><td>10.000000</td><td>11.00000</td><td>25.00000</td><td>58.00000</td><td>57.00000</td><td>58.00000</td></tr>\n",
       "\t<tr><td>108</td><td>1.000000</td><td>56.00000</td><td>53.00000</td><td>55.00000</td><td>53.00000</td><td>53.00000</td><td>2.000000</td><td>65.00000</td><td>70.00000</td><td>70.00</td><td>53.00</td><td>69.00000</td><td>1.463415</td><td> 9.536585</td><td>12.09756</td><td>24.43902</td><td>52.68293</td><td>53.68293</td><td>53.58537</td></tr>\n",
       "\t<tr><td>109</td><td>2.000000</td><td>57.00000</td><td>64.00000</td><td>59.00000</td><td>53.00000</td><td>60.00000</td><td>1.393443</td><td>50.61667</td><td>54.56667</td><td>55.25</td><td>53.75</td><td>53.68333</td><td>1.463415</td><td> 9.536585</td><td>12.09756</td><td>24.43902</td><td>52.68293</td><td>53.68293</td><td>53.58537</td></tr>\n",
       "\t<tr><td>110</td><td>1.000000</td><td>42.00000</td><td>53.00000</td><td>50.00000</td><td>53.00000</td><td>50.00000</td><td>2.000000</td><td>41.00000</td><td>42.00000</td><td>38.00</td><td>39.00</td><td>33.00000</td><td>2.000000</td><td> 5.000000</td><td> 5.00000</td><td>15.00000</td><td>49.00000</td><td>49.00000</td><td>52.00000</td></tr>\n",
       "\t<tr><td>111</td><td>2.000000</td><td>51.00000</td><td>42.00000</td><td>38.00000</td><td>39.00000</td><td>39.00000</td><td>1.000000</td><td>60.00000</td><td>44.00000</td><td>41.00</td><td>40.00</td><td>45.00000</td><td>1.463415</td><td> 9.536585</td><td>12.09756</td><td>24.43902</td><td>52.68293</td><td>53.68293</td><td>53.58537</td></tr>\n",
       "\t<tr><td>112</td><td>2.000000</td><td>53.00000</td><td>61.00000</td><td>61.00000</td><td>56.00000</td><td>55.00000</td><td>1.000000</td><td>42.00000</td><td>44.00000</td><td>50.00</td><td>40.00</td><td>42.00000</td><td>1.000000</td><td> 4.000000</td><td> 9.00000</td><td>14.00000</td><td>48.00000</td><td>55.00000</td><td>51.00000</td></tr>\n",
       "\t<tr><td>113</td><td>1.000000</td><td>42.00000</td><td>44.00000</td><td>50.00000</td><td>40.00000</td><td>42.00000</td><td>2.000000</td><td>41.00000</td><td>42.00000</td><td>38.00</td><td>39.00</td><td>43.00000</td><td>1.463415</td><td> 9.536585</td><td>12.09756</td><td>24.43902</td><td>52.68293</td><td>53.68293</td><td>53.58537</td></tr>\n",
       "\t<tr><td>114</td><td>2.000000</td><td>53.00000</td><td>57.00000</td><td>55.00000</td><td>56.00000</td><td>51.00000</td><td>1.000000</td><td>54.00000</td><td>44.00000</td><td>41.00</td><td>40.00</td><td>35.00000</td><td>1.463415</td><td> 9.536585</td><td>12.09756</td><td>24.43902</td><td>52.68293</td><td>53.68293</td><td>53.58537</td></tr>\n",
       "\t<tr><td>115</td><td>1.792683</td><td>56.56962</td><td>54.75949</td><td>55.59494</td><td>53.18987</td><td>56.01266</td><td>2.000000</td><td>58.00000</td><td>57.00000</td><td>52.00</td><td>53.00</td><td>57.00000</td><td>2.000000</td><td> 9.000000</td><td>29.00000</td><td>41.00000</td><td>55.00000</td><td>65.00000</td><td>65.00000</td></tr>\n",
       "\t<tr><td>116</td><td>2.000000</td><td>57.00000</td><td>70.00000</td><td>59.00000</td><td>66.00000</td><td>66.00000</td><td>1.393443</td><td>50.61667</td><td>54.56667</td><td>55.25</td><td>53.75</td><td>53.68333</td><td>1.000000</td><td>18.000000</td><td>11.00000</td><td>32.00000</td><td>64.00000</td><td>57.00000</td><td>61.00000</td></tr>\n",
       "\t<tr><td>117</td><td>2.000000</td><td>53.00000</td><td>57.00000</td><td>61.00000</td><td>53.00000</td><td>52.00000</td><td>1.000000</td><td>42.00000</td><td>53.00000</td><td>59.00</td><td>53.00</td><td>53.00000</td><td>2.000000</td><td> 6.000000</td><td> 9.00000</td><td>21.00000</td><td>46.00000</td><td>51.00000</td><td>49.00000</td></tr>\n",
       "\t<tr><td>118</td><td>1.000000</td><td>68.00000</td><td>53.00000</td><td>55.00000</td><td>53.00000</td><td>59.00000</td><td>1.393443</td><td>50.61667</td><td>54.56667</td><td>55.25</td><td>53.75</td><td>53.68333</td><td>1.463415</td><td> 9.536585</td><td>12.09756</td><td>24.43902</td><td>52.68293</td><td>53.68293</td><td>53.58537</td></tr>\n",
       "\t<tr><td>119</td><td>2.000000</td><td>41.00000</td><td>61.00000</td><td>46.00000</td><td>53.00000</td><td>56.00000</td><td>1.393443</td><td>50.61667</td><td>54.56667</td><td>55.25</td><td>53.75</td><td>53.68333</td><td>2.000000</td><td> 1.000000</td><td> 0.00000</td><td> 1.00000</td><td>40.00000</td><td>38.00000</td><td>33.00000</td></tr>\n",
       "\t<tr><td>120</td><td>2.000000</td><td>57.00000</td><td>61.00000</td><td>55.00000</td><td>56.00000</td><td>58.00000</td><td>1.393443</td><td>50.61667</td><td>54.56667</td><td>55.25</td><td>53.75</td><td>53.68333</td><td>1.463415</td><td> 9.536585</td><td>12.09756</td><td>24.43902</td><td>52.68293</td><td>53.68293</td><td>53.58537</td></tr>\n",
       "\t<tr><td>121</td><td>2.000000</td><td>61.00000</td><td>63.00000</td><td>63.00000</td><td>72.00000</td><td>63.00000</td><td>1.393443</td><td>50.61667</td><td>54.56667</td><td>55.25</td><td>53.75</td><td>53.68333</td><td>1.000000</td><td>24.000000</td><td>16.00000</td><td>44.00000</td><td>67.00000</td><td>61.00000</td><td>64.00000</td></tr>\n",
       "\t<tr><td>122</td><td>2.000000</td><td>53.00000</td><td>42.00000</td><td>38.00000</td><td>39.00000</td><td>39.00000</td><td>1.000000</td><td>65.00000</td><td>71.00000</td><td>69.00</td><td>78.00</td><td>67.00000</td><td>1.463415</td><td> 9.536585</td><td>12.09756</td><td>24.43902</td><td>52.68293</td><td>53.68293</td><td>53.58537</td></tr>\n",
       "\t<tr><td>123</td><td>2.000000</td><td>41.00000</td><td>57.00000</td><td>61.00000</td><td>67.00000</td><td>57.00000</td><td>1.000000</td><td>60.00000</td><td>78.00000</td><td>55.00</td><td>61.00</td><td>64.00000</td><td>1.000000</td><td> 4.000000</td><td> 9.00000</td><td>13.00000</td><td>46.00000</td><td>51.00000</td><td>46.00000</td></tr>\n",
       "\t<tr><td>125</td><td>2.000000</td><td>41.00000</td><td>42.00000</td><td>52.00000</td><td>39.00000</td><td>48.00000</td><td>1.000000</td><td>42.00000</td><td>44.00000</td><td>41.00</td><td>40.00</td><td>42.00000</td><td>1.463415</td><td> 9.536585</td><td>12.09756</td><td>24.43902</td><td>52.68293</td><td>53.68293</td><td>53.58537</td></tr>\n",
       "\t<tr><td>126</td><td>2.000000</td><td>58.00000</td><td>42.00000</td><td>55.00000</td><td>60.00000</td><td>54.00000</td><td>1.393443</td><td>50.61667</td><td>54.56667</td><td>55.25</td><td>53.75</td><td>53.68333</td><td>1.463415</td><td> 9.536585</td><td>12.09756</td><td>24.43902</td><td>52.68293</td><td>53.68293</td><td>53.58537</td></tr>\n",
       "\t<tr><td>127</td><td>2.000000</td><td>65.00000</td><td>42.00000</td><td>38.00000</td><td>39.00000</td><td>49.00000</td><td>1.000000</td><td>54.00000</td><td>44.00000</td><td>41.00</td><td>40.00</td><td>42.00000</td><td>1.463415</td><td> 9.536585</td><td>12.09756</td><td>24.43902</td><td>52.68293</td><td>53.68293</td><td>53.58537</td></tr>\n",
       "\t<tr><td>129</td><td>2.000000</td><td>51.00000</td><td>42.00000</td><td>55.00000</td><td>53.00000</td><td>54.00000</td><td>1.000000</td><td>54.00000</td><td>44.00000</td><td>55.00</td><td>53.00</td><td>50.00000</td><td>1.463415</td><td> 9.536585</td><td>12.09756</td><td>24.43902</td><td>52.68293</td><td>53.68293</td><td>53.58537</td></tr>\n",
       "\t<tr><td>130</td><td>1.000000</td><td>65.00000</td><td>44.00000</td><td>55.00000</td><td>40.00000</td><td>53.00000</td><td>2.000000</td><td>41.00000</td><td>61.00000</td><td>52.00</td><td>53.00</td><td>52.00000</td><td>1.463415</td><td> 9.536585</td><td>12.09756</td><td>24.43902</td><td>52.68293</td><td>53.68293</td><td>53.58537</td></tr>\n",
       "\t<tr><td>131</td><td>2.000000</td><td>58.00000</td><td>50.00000</td><td>52.00000</td><td>39.00000</td><td>48.00000</td><td>1.393443</td><td>50.61667</td><td>54.56667</td><td>55.25</td><td>53.75</td><td>53.68333</td><td>1.463415</td><td> 9.536585</td><td>12.09756</td><td>24.43902</td><td>52.68293</td><td>53.68293</td><td>53.58537</td></tr>\n",
       "\t<tr><td>132</td><td>1.792683</td><td>56.56962</td><td>54.75949</td><td>55.59494</td><td>53.18987</td><td>56.01266</td><td>2.000000</td><td>41.00000</td><td>61.00000</td><td>68.00</td><td>63.00</td><td>61.00000</td><td>1.463415</td><td> 9.536585</td><td>12.09756</td><td>24.43902</td><td>52.68293</td><td>53.68293</td><td>53.58537</td></tr>\n",
       "\t<tr><td>135</td><td>2.000000</td><td>53.00000</td><td>50.00000</td><td>38.00000</td><td>39.00000</td><td>45.00000</td><td>1.000000</td><td>42.00000</td><td>44.00000</td><td>50.00</td><td>53.00</td><td>50.00000</td><td>2.000000</td><td> 1.000000</td><td> 4.00000</td><td> 7.00000</td><td>40.00000</td><td>44.00000</td><td>43.00000</td></tr>\n",
       "\t<tr><td>138</td><td>2.000000</td><td>41.00000</td><td>42.00000</td><td>38.00000</td><td>39.00000</td><td>43.00000</td><td>1.393443</td><td>50.61667</td><td>54.56667</td><td>55.25</td><td>53.75</td><td>53.68333</td><td>1.000000</td><td> 2.000000</td><td> 1.00000</td><td> 3.00000</td><td>38.00000</td><td>34.00000</td><td>33.00000</td></tr>\n",
       "\t<tr><td>⋮</td><td>⋮</td><td>⋮</td><td>⋮</td><td>⋮</td><td>⋮</td><td>⋮</td><td>⋮</td><td>⋮</td><td>⋮</td><td>⋮</td><td>⋮</td><td>⋮</td><td>⋮</td><td>⋮</td><td>⋮</td><td>⋮</td><td>⋮</td><td>⋮</td><td>⋮</td></tr>\n",
       "\t<tr><td>238</td><td>2.000000</td><td>51.00000</td><td>50.00000</td><td>55.00000</td><td>56.00000</td><td>54.00000</td><td>1.000000</td><td>42.00000</td><td>57.00000</td><td>50.00</td><td>40.00</td><td>53.00000</td><td>1.463415</td><td> 9.536585</td><td>12.09756</td><td>24.43902</td><td>52.68293</td><td>53.68293</td><td>53.58537</td></tr>\n",
       "\t<tr><td>239</td><td>2.000000</td><td>66.00000</td><td>54.00000</td><td>55.00000</td><td>53.00000</td><td>63.00000</td><td>1.393443</td><td>50.61667</td><td>54.56667</td><td>55.25</td><td>53.75</td><td>53.68333</td><td>1.000000</td><td>24.000000</td><td>15.00000</td><td>45.00000</td><td>69.00000</td><td>57.00000</td><td>65.00000</td></tr>\n",
       "\t<tr><td>240</td><td>1.792683</td><td>56.56962</td><td>54.75949</td><td>55.59494</td><td>53.18987</td><td>56.01266</td><td>1.000000</td><td>42.00000</td><td>65.00000</td><td>64.00</td><td>71.00</td><td>60.00000</td><td>1.000000</td><td>15.000000</td><td>14.00000</td><td>38.00000</td><td>61.00000</td><td>56.00000</td><td>61.00000</td></tr>\n",
       "\t<tr><td>243</td><td>1.792683</td><td>56.56962</td><td>54.75949</td><td>55.59494</td><td>53.18987</td><td>56.01266</td><td>2.000000</td><td>51.00000</td><td>57.00000</td><td>55.00</td><td>53.00</td><td>54.00000</td><td>1.463415</td><td> 9.536585</td><td>12.09756</td><td>24.43902</td><td>52.68293</td><td>53.68293</td><td>53.58537</td></tr>\n",
       "\t<tr><td>304</td><td>2.000000</td><td>61.00000</td><td>50.00000</td><td>61.00000</td><td>39.00000</td><td>55.00000</td><td>1.000000</td><td>76.00000</td><td>53.00000</td><td>64.00</td><td>67.00</td><td>65.00000</td><td>2.000000</td><td>13.000000</td><td> 8.00000</td><td>22.00000</td><td>58.00000</td><td>52.00000</td><td>57.00000</td></tr>\n",
       "\t<tr><td>305</td><td>2.000000</td><td>64.00000</td><td>57.00000</td><td>70.00000</td><td>72.00000</td><td>71.00000</td><td>1.000000</td><td>54.00000</td><td>60.00000</td><td>67.00</td><td>58.00</td><td>58.00000</td><td>1.000000</td><td>14.000000</td><td>16.00000</td><td>38.00000</td><td>60.00000</td><td>58.00000</td><td>61.00000</td></tr>\n",
       "\t<tr><td>306</td><td>2.000000</td><td>69.00000</td><td>64.00000</td><td>68.00000</td><td>63.00000</td><td>66.00000</td><td>1.000000</td><td>54.00000</td><td>44.00000</td><td>64.00</td><td>53.00</td><td>48.00000</td><td>2.000000</td><td>20.000000</td><td>25.00000</td><td>45.00000</td><td>67.00000</td><td>65.00000</td><td>67.00000</td></tr>\n",
       "\t<tr><td>307</td><td>2.000000</td><td>74.00000</td><td>78.00000</td><td>75.00000</td><td>74.00000</td><td>80.00000</td><td>1.000000</td><td>56.00000</td><td>71.00000</td><td>64.00</td><td>61.00</td><td>65.00000</td><td>1.463415</td><td> 9.536585</td><td>12.09756</td><td>24.43902</td><td>52.68293</td><td>53.68293</td><td>53.58537</td></tr>\n",
       "\t<tr><td>308</td><td>2.000000</td><td>51.00000</td><td>62.00000</td><td>55.00000</td><td>53.00000</td><td>54.00000</td><td>1.000000</td><td>75.00000</td><td>67.00000</td><td>64.00</td><td>61.00</td><td>66.00000</td><td>1.463415</td><td> 9.536585</td><td>12.09756</td><td>24.43902</td><td>52.68293</td><td>53.68293</td><td>53.58537</td></tr>\n",
       "\t<tr><td>309</td><td>2.000000</td><td>61.00000</td><td>42.00000</td><td>55.00000</td><td>56.00000</td><td>54.00000</td><td>1.000000</td><td>42.00000</td><td>44.00000</td><td>50.00</td><td>40.00</td><td>45.00000</td><td>1.000000</td><td> 1.000000</td><td> 1.00000</td><td> 3.00000</td><td>40.00000</td><td>41.00000</td><td>39.00000</td></tr>\n",
       "\t<tr><td>310</td><td>2.000000</td><td>62.00000</td><td>42.00000</td><td>55.00000</td><td>53.00000</td><td>55.00000</td><td>1.393443</td><td>50.61667</td><td>54.56667</td><td>55.25</td><td>53.75</td><td>53.68333</td><td>1.463415</td><td> 9.536585</td><td>12.09756</td><td>24.43902</td><td>52.68293</td><td>53.68293</td><td>53.58537</td></tr>\n",
       "\t<tr><td>311</td><td>2.000000</td><td>68.00000</td><td>63.00000</td><td>64.00000</td><td>56.00000</td><td>63.00000</td><td>1.393443</td><td>50.61667</td><td>54.56667</td><td>55.25</td><td>53.75</td><td>53.68333</td><td>2.000000</td><td>15.000000</td><td> 6.00000</td><td>26.00000</td><td>60.00000</td><td>50.00000</td><td>59.00000</td></tr>\n",
       "\t<tr><td>312</td><td>2.000000</td><td>78.00000</td><td>73.00000</td><td>75.00000</td><td>74.00000</td><td>80.00000</td><td>1.393443</td><td>50.61667</td><td>54.56667</td><td>55.25</td><td>53.75</td><td>53.68333</td><td>2.000000</td><td>42.000000</td><td>40.00000</td><td>83.00000</td><td>77.00000</td><td>74.00000</td><td>77.00000</td></tr>\n",
       "\t<tr><td>315</td><td>2.000000</td><td>64.00000</td><td>54.00000</td><td>55.00000</td><td>56.00000</td><td>57.00000</td><td>1.000000</td><td>42.00000</td><td>44.00000</td><td>41.00</td><td>40.00</td><td>45.00000</td><td>2.000000</td><td> 0.000000</td><td> 0.00000</td><td> 0.00000</td><td>37.00000</td><td>38.00000</td><td>30.00000</td></tr>\n",
       "\t<tr><td>316</td><td>2.000000</td><td>65.00000</td><td>50.00000</td><td>55.00000</td><td>53.00000</td><td>60.00000</td><td>1.393443</td><td>50.61667</td><td>54.56667</td><td>55.25</td><td>53.75</td><td>53.68333</td><td>1.463415</td><td> 9.536585</td><td>12.09756</td><td>24.43902</td><td>52.68293</td><td>53.68293</td><td>53.58537</td></tr>\n",
       "\t<tr><td>317</td><td>2.000000</td><td>56.56962</td><td>54.75949</td><td>55.59494</td><td>53.18987</td><td>56.01266</td><td>2.000000</td><td>41.00000</td><td>50.00000</td><td>55.00</td><td>39.00</td><td>45.00000</td><td>1.463415</td><td> 9.536585</td><td>12.09756</td><td>24.43902</td><td>52.68293</td><td>53.68293</td><td>53.58537</td></tr>\n",
       "\t<tr><td>318</td><td>2.000000</td><td>57.00000</td><td>42.00000</td><td>38.00000</td><td>53.00000</td><td>43.00000</td><td>1.000000</td><td>78.00000</td><td>65.00000</td><td>78.00</td><td>58.00</td><td>72.00000</td><td>2.000000</td><td> 3.000000</td><td>10.00000</td><td>16.00000</td><td>45.00000</td><td>52.00000</td><td>49.00000</td></tr>\n",
       "\t<tr><td>319</td><td>2.000000</td><td>57.00000</td><td>61.00000</td><td>55.00000</td><td>53.00000</td><td>55.00000</td><td>1.393443</td><td>50.61667</td><td>54.56667</td><td>55.25</td><td>53.75</td><td>53.68333</td><td>2.000000</td><td>13.000000</td><td>19.00000</td><td>33.00000</td><td>58.00000</td><td>61.00000</td><td>62.00000</td></tr>\n",
       "\t<tr><td>320</td><td>1.000000</td><td>56.56962</td><td>54.75949</td><td>55.59494</td><td>53.18987</td><td>56.01266</td><td>2.000000</td><td>50.61667</td><td>54.56667</td><td>55.25</td><td>53.75</td><td>53.68333</td><td>1.463415</td><td> 9.536585</td><td>12.09756</td><td>24.43902</td><td>52.68293</td><td>53.68293</td><td>53.58537</td></tr>\n",
       "\t<tr><td>321</td><td>2.000000</td><td>51.00000</td><td>61.00000</td><td>59.00000</td><td>63.00000</td><td>61.00000</td><td>2.000000</td><td>53.00000</td><td>57.00000</td><td>63.00</td><td>53.00</td><td>58.00000</td><td>1.000000</td><td>13.000000</td><td>11.00000</td><td>27.00000</td><td>61.00000</td><td>57.00000</td><td>59.00000</td></tr>\n",
       "\t<tr><td>322</td><td>2.000000</td><td>41.00000</td><td>54.00000</td><td>59.00000</td><td>53.00000</td><td>57.00000</td><td>1.393443</td><td>50.61667</td><td>54.56667</td><td>55.25</td><td>53.75</td><td>53.68333</td><td>1.463415</td><td> 9.536585</td><td>12.09756</td><td>24.43902</td><td>52.68293</td><td>53.68293</td><td>53.58537</td></tr>\n",
       "\t<tr><td>323</td><td>2.000000</td><td>66.00000</td><td>67.00000</td><td>52.00000</td><td>53.00000</td><td>62.00000</td><td>1.393443</td><td>50.61667</td><td>54.56667</td><td>55.25</td><td>53.75</td><td>53.68333</td><td>1.463415</td><td> 9.536585</td><td>12.09756</td><td>24.43902</td><td>52.68293</td><td>53.68293</td><td>53.58537</td></tr>\n",
       "\t<tr><td>324</td><td>2.000000</td><td>61.00000</td><td>57.00000</td><td>68.00000</td><td>53.00000</td><td>57.00000</td><td>1.393443</td><td>50.61667</td><td>54.56667</td><td>55.25</td><td>53.75</td><td>53.68333</td><td>1.000000</td><td> 0.000000</td><td> 2.00000</td><td> 3.00000</td><td>36.00000</td><td>45.00000</td><td>39.00000</td></tr>\n",
       "\t<tr><td>325</td><td>2.000000</td><td>67.00000</td><td>63.00000</td><td>61.00000</td><td>53.00000</td><td>66.00000</td><td>1.000000</td><td>54.00000</td><td>71.00000</td><td>74.00</td><td>61.00</td><td>72.00000</td><td>1.000000</td><td>15.000000</td><td>42.00000</td><td>59.00000</td><td>62.00000</td><td>75.00000</td><td>68.00000</td></tr>\n",
       "\t<tr><td>326</td><td>2.000000</td><td>61.00000</td><td>63.00000</td><td>59.00000</td><td>53.00000</td><td>61.00000</td><td>1.393443</td><td>50.61667</td><td>54.56667</td><td>55.25</td><td>53.75</td><td>53.68333</td><td>1.463415</td><td> 9.536585</td><td>12.09756</td><td>24.43902</td><td>52.68293</td><td>53.68293</td><td>53.58537</td></tr>\n",
       "\t<tr><td>327</td><td>2.000000</td><td>56.56962</td><td>54.75949</td><td>55.59494</td><td>53.18987</td><td>56.01266</td><td>1.393443</td><td>50.61667</td><td>54.56667</td><td>55.25</td><td>53.75</td><td>53.68333</td><td>1.463415</td><td> 9.536585</td><td>12.09756</td><td>24.43902</td><td>52.68293</td><td>53.68293</td><td>53.58537</td></tr>\n",
       "\t<tr><td>329</td><td>2.000000</td><td>53.00000</td><td>42.00000</td><td>38.00000</td><td>56.00000</td><td>45.00000</td><td>1.000000</td><td>42.00000</td><td>60.00000</td><td>67.00</td><td>58.00</td><td>57.00000</td><td>1.463415</td><td> 9.536585</td><td>12.09756</td><td>24.43902</td><td>52.68293</td><td>53.68293</td><td>53.58537</td></tr>\n",
       "\t<tr><td>332</td><td>2.000000</td><td>51.00000</td><td>50.00000</td><td>52.00000</td><td>39.00000</td><td>48.00000</td><td>1.393443</td><td>50.61667</td><td>54.56667</td><td>55.25</td><td>53.75</td><td>53.68333</td><td>1.463415</td><td> 9.536585</td><td>12.09756</td><td>24.43902</td><td>52.68293</td><td>53.68293</td><td>53.58537</td></tr>\n",
       "\t<tr><td>401</td><td>1.792683</td><td>56.56962</td><td>54.75949</td><td>55.59494</td><td>53.18987</td><td>56.01266</td><td>1.000000</td><td>56.00000</td><td>44.00000</td><td>55.00</td><td>40.00</td><td>45.00000</td><td>1.463415</td><td> 9.536585</td><td>12.09756</td><td>24.43902</td><td>52.68293</td><td>53.68293</td><td>53.58537</td></tr>\n",
       "\t<tr><td>404</td><td>1.000000</td><td>68.00000</td><td>73.00000</td><td>74.00000</td><td>63.00000</td><td>72.00000</td><td>2.000000</td><td>51.00000</td><td>50.00000</td><td>46.00</td><td>66.00</td><td>55.00000</td><td>1.463415</td><td> 9.536585</td><td>12.09756</td><td>24.43902</td><td>52.68293</td><td>53.68293</td><td>53.58537</td></tr>\n",
       "</tbody>\n",
       "</table>\n"
      ],
      "text/latex": [
       "A data.frame: 89 × 20\n",
       "\\begin{tabular}{llllllllllllllllllll}\n",
       " FamNum & SexP & SomTP & DepTP & AnxTP & HosTP & GSITP & SexS & SomTS & DepTS & AnxTS & HosTS & GSITS & SexChild & Intern & Extern & TotBP & InternT & ExternT & TotBPT\\\\\n",
       " <int> & <dbl> & <dbl> & <dbl> & <dbl> & <dbl> & <dbl> & <dbl> & <dbl> & <dbl> & <dbl> & <dbl> & <dbl> & <dbl> & <dbl> & <dbl> & <dbl> & <dbl> & <dbl> & <dbl>\\\\\n",
       "\\hline\n",
       "\t 101 & 2.000000 & 62.00000 & 50.00000 & 52.00000 & 39.00000 & 52.00000 & 1.000000 & 42.00000 & 44.00000 & 41.00 & 40.00 & 42.00000 & 1.463415 &  9.536585 & 12.09756 & 24.43902 & 52.68293 & 53.68293 & 53.58537\\\\\n",
       "\t 104 & 1.000000 & 56.00000 & 65.00000 & 55.00000 & 40.00000 & 57.00000 & 2.000000 & 53.00000 & 73.00000 & 68.00 & 67.00 & 71.00000 & 1.000000 & 11.000000 & 12.00000 & 28.00000 & 58.00000 & 57.00000 & 60.00000\\\\\n",
       "\t 105 & 1.000000 & 56.00000 & 57.00000 & 67.00000 & 65.00000 & 61.00000 & 2.000000 & 41.00000 & 67.00000 & 63.00 & 66.00 & 65.00000 & 2.000000 &  7.000000 &  7.00000 & 15.00000 & 47.00000 & 48.00000 & 45.00000\\\\\n",
       "\t 106 & 2.000000 & 41.00000 & 61.00000 & 64.00000 & 53.00000 & 57.00000 & 1.000000 & 60.00000 & 60.00000 & 59.00 & 67.00 & 62.00000 & 1.000000 &  6.000000 & 10.00000 & 15.00000 & 49.00000 & 52.00000 & 48.00000\\\\\n",
       "\t 107 & 2.000000 & 61.00000 & 61.00000 & 52.00000 & 56.00000 & 57.00000 & 1.000000 & 42.00000 & 44.00000 & 50.00 & 61.00 & 50.00000 & 1.000000 & 10.000000 & 11.00000 & 25.00000 & 58.00000 & 57.00000 & 58.00000\\\\\n",
       "\t 108 & 1.000000 & 56.00000 & 53.00000 & 55.00000 & 53.00000 & 53.00000 & 2.000000 & 65.00000 & 70.00000 & 70.00 & 53.00 & 69.00000 & 1.463415 &  9.536585 & 12.09756 & 24.43902 & 52.68293 & 53.68293 & 53.58537\\\\\n",
       "\t 109 & 2.000000 & 57.00000 & 64.00000 & 59.00000 & 53.00000 & 60.00000 & 1.393443 & 50.61667 & 54.56667 & 55.25 & 53.75 & 53.68333 & 1.463415 &  9.536585 & 12.09756 & 24.43902 & 52.68293 & 53.68293 & 53.58537\\\\\n",
       "\t 110 & 1.000000 & 42.00000 & 53.00000 & 50.00000 & 53.00000 & 50.00000 & 2.000000 & 41.00000 & 42.00000 & 38.00 & 39.00 & 33.00000 & 2.000000 &  5.000000 &  5.00000 & 15.00000 & 49.00000 & 49.00000 & 52.00000\\\\\n",
       "\t 111 & 2.000000 & 51.00000 & 42.00000 & 38.00000 & 39.00000 & 39.00000 & 1.000000 & 60.00000 & 44.00000 & 41.00 & 40.00 & 45.00000 & 1.463415 &  9.536585 & 12.09756 & 24.43902 & 52.68293 & 53.68293 & 53.58537\\\\\n",
       "\t 112 & 2.000000 & 53.00000 & 61.00000 & 61.00000 & 56.00000 & 55.00000 & 1.000000 & 42.00000 & 44.00000 & 50.00 & 40.00 & 42.00000 & 1.000000 &  4.000000 &  9.00000 & 14.00000 & 48.00000 & 55.00000 & 51.00000\\\\\n",
       "\t 113 & 1.000000 & 42.00000 & 44.00000 & 50.00000 & 40.00000 & 42.00000 & 2.000000 & 41.00000 & 42.00000 & 38.00 & 39.00 & 43.00000 & 1.463415 &  9.536585 & 12.09756 & 24.43902 & 52.68293 & 53.68293 & 53.58537\\\\\n",
       "\t 114 & 2.000000 & 53.00000 & 57.00000 & 55.00000 & 56.00000 & 51.00000 & 1.000000 & 54.00000 & 44.00000 & 41.00 & 40.00 & 35.00000 & 1.463415 &  9.536585 & 12.09756 & 24.43902 & 52.68293 & 53.68293 & 53.58537\\\\\n",
       "\t 115 & 1.792683 & 56.56962 & 54.75949 & 55.59494 & 53.18987 & 56.01266 & 2.000000 & 58.00000 & 57.00000 & 52.00 & 53.00 & 57.00000 & 2.000000 &  9.000000 & 29.00000 & 41.00000 & 55.00000 & 65.00000 & 65.00000\\\\\n",
       "\t 116 & 2.000000 & 57.00000 & 70.00000 & 59.00000 & 66.00000 & 66.00000 & 1.393443 & 50.61667 & 54.56667 & 55.25 & 53.75 & 53.68333 & 1.000000 & 18.000000 & 11.00000 & 32.00000 & 64.00000 & 57.00000 & 61.00000\\\\\n",
       "\t 117 & 2.000000 & 53.00000 & 57.00000 & 61.00000 & 53.00000 & 52.00000 & 1.000000 & 42.00000 & 53.00000 & 59.00 & 53.00 & 53.00000 & 2.000000 &  6.000000 &  9.00000 & 21.00000 & 46.00000 & 51.00000 & 49.00000\\\\\n",
       "\t 118 & 1.000000 & 68.00000 & 53.00000 & 55.00000 & 53.00000 & 59.00000 & 1.393443 & 50.61667 & 54.56667 & 55.25 & 53.75 & 53.68333 & 1.463415 &  9.536585 & 12.09756 & 24.43902 & 52.68293 & 53.68293 & 53.58537\\\\\n",
       "\t 119 & 2.000000 & 41.00000 & 61.00000 & 46.00000 & 53.00000 & 56.00000 & 1.393443 & 50.61667 & 54.56667 & 55.25 & 53.75 & 53.68333 & 2.000000 &  1.000000 &  0.00000 &  1.00000 & 40.00000 & 38.00000 & 33.00000\\\\\n",
       "\t 120 & 2.000000 & 57.00000 & 61.00000 & 55.00000 & 56.00000 & 58.00000 & 1.393443 & 50.61667 & 54.56667 & 55.25 & 53.75 & 53.68333 & 1.463415 &  9.536585 & 12.09756 & 24.43902 & 52.68293 & 53.68293 & 53.58537\\\\\n",
       "\t 121 & 2.000000 & 61.00000 & 63.00000 & 63.00000 & 72.00000 & 63.00000 & 1.393443 & 50.61667 & 54.56667 & 55.25 & 53.75 & 53.68333 & 1.000000 & 24.000000 & 16.00000 & 44.00000 & 67.00000 & 61.00000 & 64.00000\\\\\n",
       "\t 122 & 2.000000 & 53.00000 & 42.00000 & 38.00000 & 39.00000 & 39.00000 & 1.000000 & 65.00000 & 71.00000 & 69.00 & 78.00 & 67.00000 & 1.463415 &  9.536585 & 12.09756 & 24.43902 & 52.68293 & 53.68293 & 53.58537\\\\\n",
       "\t 123 & 2.000000 & 41.00000 & 57.00000 & 61.00000 & 67.00000 & 57.00000 & 1.000000 & 60.00000 & 78.00000 & 55.00 & 61.00 & 64.00000 & 1.000000 &  4.000000 &  9.00000 & 13.00000 & 46.00000 & 51.00000 & 46.00000\\\\\n",
       "\t 125 & 2.000000 & 41.00000 & 42.00000 & 52.00000 & 39.00000 & 48.00000 & 1.000000 & 42.00000 & 44.00000 & 41.00 & 40.00 & 42.00000 & 1.463415 &  9.536585 & 12.09756 & 24.43902 & 52.68293 & 53.68293 & 53.58537\\\\\n",
       "\t 126 & 2.000000 & 58.00000 & 42.00000 & 55.00000 & 60.00000 & 54.00000 & 1.393443 & 50.61667 & 54.56667 & 55.25 & 53.75 & 53.68333 & 1.463415 &  9.536585 & 12.09756 & 24.43902 & 52.68293 & 53.68293 & 53.58537\\\\\n",
       "\t 127 & 2.000000 & 65.00000 & 42.00000 & 38.00000 & 39.00000 & 49.00000 & 1.000000 & 54.00000 & 44.00000 & 41.00 & 40.00 & 42.00000 & 1.463415 &  9.536585 & 12.09756 & 24.43902 & 52.68293 & 53.68293 & 53.58537\\\\\n",
       "\t 129 & 2.000000 & 51.00000 & 42.00000 & 55.00000 & 53.00000 & 54.00000 & 1.000000 & 54.00000 & 44.00000 & 55.00 & 53.00 & 50.00000 & 1.463415 &  9.536585 & 12.09756 & 24.43902 & 52.68293 & 53.68293 & 53.58537\\\\\n",
       "\t 130 & 1.000000 & 65.00000 & 44.00000 & 55.00000 & 40.00000 & 53.00000 & 2.000000 & 41.00000 & 61.00000 & 52.00 & 53.00 & 52.00000 & 1.463415 &  9.536585 & 12.09756 & 24.43902 & 52.68293 & 53.68293 & 53.58537\\\\\n",
       "\t 131 & 2.000000 & 58.00000 & 50.00000 & 52.00000 & 39.00000 & 48.00000 & 1.393443 & 50.61667 & 54.56667 & 55.25 & 53.75 & 53.68333 & 1.463415 &  9.536585 & 12.09756 & 24.43902 & 52.68293 & 53.68293 & 53.58537\\\\\n",
       "\t 132 & 1.792683 & 56.56962 & 54.75949 & 55.59494 & 53.18987 & 56.01266 & 2.000000 & 41.00000 & 61.00000 & 68.00 & 63.00 & 61.00000 & 1.463415 &  9.536585 & 12.09756 & 24.43902 & 52.68293 & 53.68293 & 53.58537\\\\\n",
       "\t 135 & 2.000000 & 53.00000 & 50.00000 & 38.00000 & 39.00000 & 45.00000 & 1.000000 & 42.00000 & 44.00000 & 50.00 & 53.00 & 50.00000 & 2.000000 &  1.000000 &  4.00000 &  7.00000 & 40.00000 & 44.00000 & 43.00000\\\\\n",
       "\t 138 & 2.000000 & 41.00000 & 42.00000 & 38.00000 & 39.00000 & 43.00000 & 1.393443 & 50.61667 & 54.56667 & 55.25 & 53.75 & 53.68333 & 1.000000 &  2.000000 &  1.00000 &  3.00000 & 38.00000 & 34.00000 & 33.00000\\\\\n",
       "\t ⋮ & ⋮ & ⋮ & ⋮ & ⋮ & ⋮ & ⋮ & ⋮ & ⋮ & ⋮ & ⋮ & ⋮ & ⋮ & ⋮ & ⋮ & ⋮ & ⋮ & ⋮ & ⋮ & ⋮\\\\\n",
       "\t 238 & 2.000000 & 51.00000 & 50.00000 & 55.00000 & 56.00000 & 54.00000 & 1.000000 & 42.00000 & 57.00000 & 50.00 & 40.00 & 53.00000 & 1.463415 &  9.536585 & 12.09756 & 24.43902 & 52.68293 & 53.68293 & 53.58537\\\\\n",
       "\t 239 & 2.000000 & 66.00000 & 54.00000 & 55.00000 & 53.00000 & 63.00000 & 1.393443 & 50.61667 & 54.56667 & 55.25 & 53.75 & 53.68333 & 1.000000 & 24.000000 & 15.00000 & 45.00000 & 69.00000 & 57.00000 & 65.00000\\\\\n",
       "\t 240 & 1.792683 & 56.56962 & 54.75949 & 55.59494 & 53.18987 & 56.01266 & 1.000000 & 42.00000 & 65.00000 & 64.00 & 71.00 & 60.00000 & 1.000000 & 15.000000 & 14.00000 & 38.00000 & 61.00000 & 56.00000 & 61.00000\\\\\n",
       "\t 243 & 1.792683 & 56.56962 & 54.75949 & 55.59494 & 53.18987 & 56.01266 & 2.000000 & 51.00000 & 57.00000 & 55.00 & 53.00 & 54.00000 & 1.463415 &  9.536585 & 12.09756 & 24.43902 & 52.68293 & 53.68293 & 53.58537\\\\\n",
       "\t 304 & 2.000000 & 61.00000 & 50.00000 & 61.00000 & 39.00000 & 55.00000 & 1.000000 & 76.00000 & 53.00000 & 64.00 & 67.00 & 65.00000 & 2.000000 & 13.000000 &  8.00000 & 22.00000 & 58.00000 & 52.00000 & 57.00000\\\\\n",
       "\t 305 & 2.000000 & 64.00000 & 57.00000 & 70.00000 & 72.00000 & 71.00000 & 1.000000 & 54.00000 & 60.00000 & 67.00 & 58.00 & 58.00000 & 1.000000 & 14.000000 & 16.00000 & 38.00000 & 60.00000 & 58.00000 & 61.00000\\\\\n",
       "\t 306 & 2.000000 & 69.00000 & 64.00000 & 68.00000 & 63.00000 & 66.00000 & 1.000000 & 54.00000 & 44.00000 & 64.00 & 53.00 & 48.00000 & 2.000000 & 20.000000 & 25.00000 & 45.00000 & 67.00000 & 65.00000 & 67.00000\\\\\n",
       "\t 307 & 2.000000 & 74.00000 & 78.00000 & 75.00000 & 74.00000 & 80.00000 & 1.000000 & 56.00000 & 71.00000 & 64.00 & 61.00 & 65.00000 & 1.463415 &  9.536585 & 12.09756 & 24.43902 & 52.68293 & 53.68293 & 53.58537\\\\\n",
       "\t 308 & 2.000000 & 51.00000 & 62.00000 & 55.00000 & 53.00000 & 54.00000 & 1.000000 & 75.00000 & 67.00000 & 64.00 & 61.00 & 66.00000 & 1.463415 &  9.536585 & 12.09756 & 24.43902 & 52.68293 & 53.68293 & 53.58537\\\\\n",
       "\t 309 & 2.000000 & 61.00000 & 42.00000 & 55.00000 & 56.00000 & 54.00000 & 1.000000 & 42.00000 & 44.00000 & 50.00 & 40.00 & 45.00000 & 1.000000 &  1.000000 &  1.00000 &  3.00000 & 40.00000 & 41.00000 & 39.00000\\\\\n",
       "\t 310 & 2.000000 & 62.00000 & 42.00000 & 55.00000 & 53.00000 & 55.00000 & 1.393443 & 50.61667 & 54.56667 & 55.25 & 53.75 & 53.68333 & 1.463415 &  9.536585 & 12.09756 & 24.43902 & 52.68293 & 53.68293 & 53.58537\\\\\n",
       "\t 311 & 2.000000 & 68.00000 & 63.00000 & 64.00000 & 56.00000 & 63.00000 & 1.393443 & 50.61667 & 54.56667 & 55.25 & 53.75 & 53.68333 & 2.000000 & 15.000000 &  6.00000 & 26.00000 & 60.00000 & 50.00000 & 59.00000\\\\\n",
       "\t 312 & 2.000000 & 78.00000 & 73.00000 & 75.00000 & 74.00000 & 80.00000 & 1.393443 & 50.61667 & 54.56667 & 55.25 & 53.75 & 53.68333 & 2.000000 & 42.000000 & 40.00000 & 83.00000 & 77.00000 & 74.00000 & 77.00000\\\\\n",
       "\t 315 & 2.000000 & 64.00000 & 54.00000 & 55.00000 & 56.00000 & 57.00000 & 1.000000 & 42.00000 & 44.00000 & 41.00 & 40.00 & 45.00000 & 2.000000 &  0.000000 &  0.00000 &  0.00000 & 37.00000 & 38.00000 & 30.00000\\\\\n",
       "\t 316 & 2.000000 & 65.00000 & 50.00000 & 55.00000 & 53.00000 & 60.00000 & 1.393443 & 50.61667 & 54.56667 & 55.25 & 53.75 & 53.68333 & 1.463415 &  9.536585 & 12.09756 & 24.43902 & 52.68293 & 53.68293 & 53.58537\\\\\n",
       "\t 317 & 2.000000 & 56.56962 & 54.75949 & 55.59494 & 53.18987 & 56.01266 & 2.000000 & 41.00000 & 50.00000 & 55.00 & 39.00 & 45.00000 & 1.463415 &  9.536585 & 12.09756 & 24.43902 & 52.68293 & 53.68293 & 53.58537\\\\\n",
       "\t 318 & 2.000000 & 57.00000 & 42.00000 & 38.00000 & 53.00000 & 43.00000 & 1.000000 & 78.00000 & 65.00000 & 78.00 & 58.00 & 72.00000 & 2.000000 &  3.000000 & 10.00000 & 16.00000 & 45.00000 & 52.00000 & 49.00000\\\\\n",
       "\t 319 & 2.000000 & 57.00000 & 61.00000 & 55.00000 & 53.00000 & 55.00000 & 1.393443 & 50.61667 & 54.56667 & 55.25 & 53.75 & 53.68333 & 2.000000 & 13.000000 & 19.00000 & 33.00000 & 58.00000 & 61.00000 & 62.00000\\\\\n",
       "\t 320 & 1.000000 & 56.56962 & 54.75949 & 55.59494 & 53.18987 & 56.01266 & 2.000000 & 50.61667 & 54.56667 & 55.25 & 53.75 & 53.68333 & 1.463415 &  9.536585 & 12.09756 & 24.43902 & 52.68293 & 53.68293 & 53.58537\\\\\n",
       "\t 321 & 2.000000 & 51.00000 & 61.00000 & 59.00000 & 63.00000 & 61.00000 & 2.000000 & 53.00000 & 57.00000 & 63.00 & 53.00 & 58.00000 & 1.000000 & 13.000000 & 11.00000 & 27.00000 & 61.00000 & 57.00000 & 59.00000\\\\\n",
       "\t 322 & 2.000000 & 41.00000 & 54.00000 & 59.00000 & 53.00000 & 57.00000 & 1.393443 & 50.61667 & 54.56667 & 55.25 & 53.75 & 53.68333 & 1.463415 &  9.536585 & 12.09756 & 24.43902 & 52.68293 & 53.68293 & 53.58537\\\\\n",
       "\t 323 & 2.000000 & 66.00000 & 67.00000 & 52.00000 & 53.00000 & 62.00000 & 1.393443 & 50.61667 & 54.56667 & 55.25 & 53.75 & 53.68333 & 1.463415 &  9.536585 & 12.09756 & 24.43902 & 52.68293 & 53.68293 & 53.58537\\\\\n",
       "\t 324 & 2.000000 & 61.00000 & 57.00000 & 68.00000 & 53.00000 & 57.00000 & 1.393443 & 50.61667 & 54.56667 & 55.25 & 53.75 & 53.68333 & 1.000000 &  0.000000 &  2.00000 &  3.00000 & 36.00000 & 45.00000 & 39.00000\\\\\n",
       "\t 325 & 2.000000 & 67.00000 & 63.00000 & 61.00000 & 53.00000 & 66.00000 & 1.000000 & 54.00000 & 71.00000 & 74.00 & 61.00 & 72.00000 & 1.000000 & 15.000000 & 42.00000 & 59.00000 & 62.00000 & 75.00000 & 68.00000\\\\\n",
       "\t 326 & 2.000000 & 61.00000 & 63.00000 & 59.00000 & 53.00000 & 61.00000 & 1.393443 & 50.61667 & 54.56667 & 55.25 & 53.75 & 53.68333 & 1.463415 &  9.536585 & 12.09756 & 24.43902 & 52.68293 & 53.68293 & 53.58537\\\\\n",
       "\t 327 & 2.000000 & 56.56962 & 54.75949 & 55.59494 & 53.18987 & 56.01266 & 1.393443 & 50.61667 & 54.56667 & 55.25 & 53.75 & 53.68333 & 1.463415 &  9.536585 & 12.09756 & 24.43902 & 52.68293 & 53.68293 & 53.58537\\\\\n",
       "\t 329 & 2.000000 & 53.00000 & 42.00000 & 38.00000 & 56.00000 & 45.00000 & 1.000000 & 42.00000 & 60.00000 & 67.00 & 58.00 & 57.00000 & 1.463415 &  9.536585 & 12.09756 & 24.43902 & 52.68293 & 53.68293 & 53.58537\\\\\n",
       "\t 332 & 2.000000 & 51.00000 & 50.00000 & 52.00000 & 39.00000 & 48.00000 & 1.393443 & 50.61667 & 54.56667 & 55.25 & 53.75 & 53.68333 & 1.463415 &  9.536585 & 12.09756 & 24.43902 & 52.68293 & 53.68293 & 53.58537\\\\\n",
       "\t 401 & 1.792683 & 56.56962 & 54.75949 & 55.59494 & 53.18987 & 56.01266 & 1.000000 & 56.00000 & 44.00000 & 55.00 & 40.00 & 45.00000 & 1.463415 &  9.536585 & 12.09756 & 24.43902 & 52.68293 & 53.68293 & 53.58537\\\\\n",
       "\t 404 & 1.000000 & 68.00000 & 73.00000 & 74.00000 & 63.00000 & 72.00000 & 2.000000 & 51.00000 & 50.00000 & 46.00 & 66.00 & 55.00000 & 1.463415 &  9.536585 & 12.09756 & 24.43902 & 52.68293 & 53.68293 & 53.58537\\\\\n",
       "\\end{tabular}\n"
      ],
      "text/markdown": [
       "\n",
       "A data.frame: 89 × 20\n",
       "\n",
       "| FamNum &lt;int&gt; | SexP &lt;dbl&gt; | SomTP &lt;dbl&gt; | DepTP &lt;dbl&gt; | AnxTP &lt;dbl&gt; | HosTP &lt;dbl&gt; | GSITP &lt;dbl&gt; | SexS &lt;dbl&gt; | SomTS &lt;dbl&gt; | DepTS &lt;dbl&gt; | AnxTS &lt;dbl&gt; | HosTS &lt;dbl&gt; | GSITS &lt;dbl&gt; | SexChild &lt;dbl&gt; | Intern &lt;dbl&gt; | Extern &lt;dbl&gt; | TotBP &lt;dbl&gt; | InternT &lt;dbl&gt; | ExternT &lt;dbl&gt; | TotBPT &lt;dbl&gt; |\n",
       "|---|---|---|---|---|---|---|---|---|---|---|---|---|---|---|---|---|---|---|---|\n",
       "| 101 | 2.000000 | 62.00000 | 50.00000 | 52.00000 | 39.00000 | 52.00000 | 1.000000 | 42.00000 | 44.00000 | 41.00 | 40.00 | 42.00000 | 1.463415 |  9.536585 | 12.09756 | 24.43902 | 52.68293 | 53.68293 | 53.58537 |\n",
       "| 104 | 1.000000 | 56.00000 | 65.00000 | 55.00000 | 40.00000 | 57.00000 | 2.000000 | 53.00000 | 73.00000 | 68.00 | 67.00 | 71.00000 | 1.000000 | 11.000000 | 12.00000 | 28.00000 | 58.00000 | 57.00000 | 60.00000 |\n",
       "| 105 | 1.000000 | 56.00000 | 57.00000 | 67.00000 | 65.00000 | 61.00000 | 2.000000 | 41.00000 | 67.00000 | 63.00 | 66.00 | 65.00000 | 2.000000 |  7.000000 |  7.00000 | 15.00000 | 47.00000 | 48.00000 | 45.00000 |\n",
       "| 106 | 2.000000 | 41.00000 | 61.00000 | 64.00000 | 53.00000 | 57.00000 | 1.000000 | 60.00000 | 60.00000 | 59.00 | 67.00 | 62.00000 | 1.000000 |  6.000000 | 10.00000 | 15.00000 | 49.00000 | 52.00000 | 48.00000 |\n",
       "| 107 | 2.000000 | 61.00000 | 61.00000 | 52.00000 | 56.00000 | 57.00000 | 1.000000 | 42.00000 | 44.00000 | 50.00 | 61.00 | 50.00000 | 1.000000 | 10.000000 | 11.00000 | 25.00000 | 58.00000 | 57.00000 | 58.00000 |\n",
       "| 108 | 1.000000 | 56.00000 | 53.00000 | 55.00000 | 53.00000 | 53.00000 | 2.000000 | 65.00000 | 70.00000 | 70.00 | 53.00 | 69.00000 | 1.463415 |  9.536585 | 12.09756 | 24.43902 | 52.68293 | 53.68293 | 53.58537 |\n",
       "| 109 | 2.000000 | 57.00000 | 64.00000 | 59.00000 | 53.00000 | 60.00000 | 1.393443 | 50.61667 | 54.56667 | 55.25 | 53.75 | 53.68333 | 1.463415 |  9.536585 | 12.09756 | 24.43902 | 52.68293 | 53.68293 | 53.58537 |\n",
       "| 110 | 1.000000 | 42.00000 | 53.00000 | 50.00000 | 53.00000 | 50.00000 | 2.000000 | 41.00000 | 42.00000 | 38.00 | 39.00 | 33.00000 | 2.000000 |  5.000000 |  5.00000 | 15.00000 | 49.00000 | 49.00000 | 52.00000 |\n",
       "| 111 | 2.000000 | 51.00000 | 42.00000 | 38.00000 | 39.00000 | 39.00000 | 1.000000 | 60.00000 | 44.00000 | 41.00 | 40.00 | 45.00000 | 1.463415 |  9.536585 | 12.09756 | 24.43902 | 52.68293 | 53.68293 | 53.58537 |\n",
       "| 112 | 2.000000 | 53.00000 | 61.00000 | 61.00000 | 56.00000 | 55.00000 | 1.000000 | 42.00000 | 44.00000 | 50.00 | 40.00 | 42.00000 | 1.000000 |  4.000000 |  9.00000 | 14.00000 | 48.00000 | 55.00000 | 51.00000 |\n",
       "| 113 | 1.000000 | 42.00000 | 44.00000 | 50.00000 | 40.00000 | 42.00000 | 2.000000 | 41.00000 | 42.00000 | 38.00 | 39.00 | 43.00000 | 1.463415 |  9.536585 | 12.09756 | 24.43902 | 52.68293 | 53.68293 | 53.58537 |\n",
       "| 114 | 2.000000 | 53.00000 | 57.00000 | 55.00000 | 56.00000 | 51.00000 | 1.000000 | 54.00000 | 44.00000 | 41.00 | 40.00 | 35.00000 | 1.463415 |  9.536585 | 12.09756 | 24.43902 | 52.68293 | 53.68293 | 53.58537 |\n",
       "| 115 | 1.792683 | 56.56962 | 54.75949 | 55.59494 | 53.18987 | 56.01266 | 2.000000 | 58.00000 | 57.00000 | 52.00 | 53.00 | 57.00000 | 2.000000 |  9.000000 | 29.00000 | 41.00000 | 55.00000 | 65.00000 | 65.00000 |\n",
       "| 116 | 2.000000 | 57.00000 | 70.00000 | 59.00000 | 66.00000 | 66.00000 | 1.393443 | 50.61667 | 54.56667 | 55.25 | 53.75 | 53.68333 | 1.000000 | 18.000000 | 11.00000 | 32.00000 | 64.00000 | 57.00000 | 61.00000 |\n",
       "| 117 | 2.000000 | 53.00000 | 57.00000 | 61.00000 | 53.00000 | 52.00000 | 1.000000 | 42.00000 | 53.00000 | 59.00 | 53.00 | 53.00000 | 2.000000 |  6.000000 |  9.00000 | 21.00000 | 46.00000 | 51.00000 | 49.00000 |\n",
       "| 118 | 1.000000 | 68.00000 | 53.00000 | 55.00000 | 53.00000 | 59.00000 | 1.393443 | 50.61667 | 54.56667 | 55.25 | 53.75 | 53.68333 | 1.463415 |  9.536585 | 12.09756 | 24.43902 | 52.68293 | 53.68293 | 53.58537 |\n",
       "| 119 | 2.000000 | 41.00000 | 61.00000 | 46.00000 | 53.00000 | 56.00000 | 1.393443 | 50.61667 | 54.56667 | 55.25 | 53.75 | 53.68333 | 2.000000 |  1.000000 |  0.00000 |  1.00000 | 40.00000 | 38.00000 | 33.00000 |\n",
       "| 120 | 2.000000 | 57.00000 | 61.00000 | 55.00000 | 56.00000 | 58.00000 | 1.393443 | 50.61667 | 54.56667 | 55.25 | 53.75 | 53.68333 | 1.463415 |  9.536585 | 12.09756 | 24.43902 | 52.68293 | 53.68293 | 53.58537 |\n",
       "| 121 | 2.000000 | 61.00000 | 63.00000 | 63.00000 | 72.00000 | 63.00000 | 1.393443 | 50.61667 | 54.56667 | 55.25 | 53.75 | 53.68333 | 1.000000 | 24.000000 | 16.00000 | 44.00000 | 67.00000 | 61.00000 | 64.00000 |\n",
       "| 122 | 2.000000 | 53.00000 | 42.00000 | 38.00000 | 39.00000 | 39.00000 | 1.000000 | 65.00000 | 71.00000 | 69.00 | 78.00 | 67.00000 | 1.463415 |  9.536585 | 12.09756 | 24.43902 | 52.68293 | 53.68293 | 53.58537 |\n",
       "| 123 | 2.000000 | 41.00000 | 57.00000 | 61.00000 | 67.00000 | 57.00000 | 1.000000 | 60.00000 | 78.00000 | 55.00 | 61.00 | 64.00000 | 1.000000 |  4.000000 |  9.00000 | 13.00000 | 46.00000 | 51.00000 | 46.00000 |\n",
       "| 125 | 2.000000 | 41.00000 | 42.00000 | 52.00000 | 39.00000 | 48.00000 | 1.000000 | 42.00000 | 44.00000 | 41.00 | 40.00 | 42.00000 | 1.463415 |  9.536585 | 12.09756 | 24.43902 | 52.68293 | 53.68293 | 53.58537 |\n",
       "| 126 | 2.000000 | 58.00000 | 42.00000 | 55.00000 | 60.00000 | 54.00000 | 1.393443 | 50.61667 | 54.56667 | 55.25 | 53.75 | 53.68333 | 1.463415 |  9.536585 | 12.09756 | 24.43902 | 52.68293 | 53.68293 | 53.58537 |\n",
       "| 127 | 2.000000 | 65.00000 | 42.00000 | 38.00000 | 39.00000 | 49.00000 | 1.000000 | 54.00000 | 44.00000 | 41.00 | 40.00 | 42.00000 | 1.463415 |  9.536585 | 12.09756 | 24.43902 | 52.68293 | 53.68293 | 53.58537 |\n",
       "| 129 | 2.000000 | 51.00000 | 42.00000 | 55.00000 | 53.00000 | 54.00000 | 1.000000 | 54.00000 | 44.00000 | 55.00 | 53.00 | 50.00000 | 1.463415 |  9.536585 | 12.09756 | 24.43902 | 52.68293 | 53.68293 | 53.58537 |\n",
       "| 130 | 1.000000 | 65.00000 | 44.00000 | 55.00000 | 40.00000 | 53.00000 | 2.000000 | 41.00000 | 61.00000 | 52.00 | 53.00 | 52.00000 | 1.463415 |  9.536585 | 12.09756 | 24.43902 | 52.68293 | 53.68293 | 53.58537 |\n",
       "| 131 | 2.000000 | 58.00000 | 50.00000 | 52.00000 | 39.00000 | 48.00000 | 1.393443 | 50.61667 | 54.56667 | 55.25 | 53.75 | 53.68333 | 1.463415 |  9.536585 | 12.09756 | 24.43902 | 52.68293 | 53.68293 | 53.58537 |\n",
       "| 132 | 1.792683 | 56.56962 | 54.75949 | 55.59494 | 53.18987 | 56.01266 | 2.000000 | 41.00000 | 61.00000 | 68.00 | 63.00 | 61.00000 | 1.463415 |  9.536585 | 12.09756 | 24.43902 | 52.68293 | 53.68293 | 53.58537 |\n",
       "| 135 | 2.000000 | 53.00000 | 50.00000 | 38.00000 | 39.00000 | 45.00000 | 1.000000 | 42.00000 | 44.00000 | 50.00 | 53.00 | 50.00000 | 2.000000 |  1.000000 |  4.00000 |  7.00000 | 40.00000 | 44.00000 | 43.00000 |\n",
       "| 138 | 2.000000 | 41.00000 | 42.00000 | 38.00000 | 39.00000 | 43.00000 | 1.393443 | 50.61667 | 54.56667 | 55.25 | 53.75 | 53.68333 | 1.000000 |  2.000000 |  1.00000 |  3.00000 | 38.00000 | 34.00000 | 33.00000 |\n",
       "| ⋮ | ⋮ | ⋮ | ⋮ | ⋮ | ⋮ | ⋮ | ⋮ | ⋮ | ⋮ | ⋮ | ⋮ | ⋮ | ⋮ | ⋮ | ⋮ | ⋮ | ⋮ | ⋮ | ⋮ |\n",
       "| 238 | 2.000000 | 51.00000 | 50.00000 | 55.00000 | 56.00000 | 54.00000 | 1.000000 | 42.00000 | 57.00000 | 50.00 | 40.00 | 53.00000 | 1.463415 |  9.536585 | 12.09756 | 24.43902 | 52.68293 | 53.68293 | 53.58537 |\n",
       "| 239 | 2.000000 | 66.00000 | 54.00000 | 55.00000 | 53.00000 | 63.00000 | 1.393443 | 50.61667 | 54.56667 | 55.25 | 53.75 | 53.68333 | 1.000000 | 24.000000 | 15.00000 | 45.00000 | 69.00000 | 57.00000 | 65.00000 |\n",
       "| 240 | 1.792683 | 56.56962 | 54.75949 | 55.59494 | 53.18987 | 56.01266 | 1.000000 | 42.00000 | 65.00000 | 64.00 | 71.00 | 60.00000 | 1.000000 | 15.000000 | 14.00000 | 38.00000 | 61.00000 | 56.00000 | 61.00000 |\n",
       "| 243 | 1.792683 | 56.56962 | 54.75949 | 55.59494 | 53.18987 | 56.01266 | 2.000000 | 51.00000 | 57.00000 | 55.00 | 53.00 | 54.00000 | 1.463415 |  9.536585 | 12.09756 | 24.43902 | 52.68293 | 53.68293 | 53.58537 |\n",
       "| 304 | 2.000000 | 61.00000 | 50.00000 | 61.00000 | 39.00000 | 55.00000 | 1.000000 | 76.00000 | 53.00000 | 64.00 | 67.00 | 65.00000 | 2.000000 | 13.000000 |  8.00000 | 22.00000 | 58.00000 | 52.00000 | 57.00000 |\n",
       "| 305 | 2.000000 | 64.00000 | 57.00000 | 70.00000 | 72.00000 | 71.00000 | 1.000000 | 54.00000 | 60.00000 | 67.00 | 58.00 | 58.00000 | 1.000000 | 14.000000 | 16.00000 | 38.00000 | 60.00000 | 58.00000 | 61.00000 |\n",
       "| 306 | 2.000000 | 69.00000 | 64.00000 | 68.00000 | 63.00000 | 66.00000 | 1.000000 | 54.00000 | 44.00000 | 64.00 | 53.00 | 48.00000 | 2.000000 | 20.000000 | 25.00000 | 45.00000 | 67.00000 | 65.00000 | 67.00000 |\n",
       "| 307 | 2.000000 | 74.00000 | 78.00000 | 75.00000 | 74.00000 | 80.00000 | 1.000000 | 56.00000 | 71.00000 | 64.00 | 61.00 | 65.00000 | 1.463415 |  9.536585 | 12.09756 | 24.43902 | 52.68293 | 53.68293 | 53.58537 |\n",
       "| 308 | 2.000000 | 51.00000 | 62.00000 | 55.00000 | 53.00000 | 54.00000 | 1.000000 | 75.00000 | 67.00000 | 64.00 | 61.00 | 66.00000 | 1.463415 |  9.536585 | 12.09756 | 24.43902 | 52.68293 | 53.68293 | 53.58537 |\n",
       "| 309 | 2.000000 | 61.00000 | 42.00000 | 55.00000 | 56.00000 | 54.00000 | 1.000000 | 42.00000 | 44.00000 | 50.00 | 40.00 | 45.00000 | 1.000000 |  1.000000 |  1.00000 |  3.00000 | 40.00000 | 41.00000 | 39.00000 |\n",
       "| 310 | 2.000000 | 62.00000 | 42.00000 | 55.00000 | 53.00000 | 55.00000 | 1.393443 | 50.61667 | 54.56667 | 55.25 | 53.75 | 53.68333 | 1.463415 |  9.536585 | 12.09756 | 24.43902 | 52.68293 | 53.68293 | 53.58537 |\n",
       "| 311 | 2.000000 | 68.00000 | 63.00000 | 64.00000 | 56.00000 | 63.00000 | 1.393443 | 50.61667 | 54.56667 | 55.25 | 53.75 | 53.68333 | 2.000000 | 15.000000 |  6.00000 | 26.00000 | 60.00000 | 50.00000 | 59.00000 |\n",
       "| 312 | 2.000000 | 78.00000 | 73.00000 | 75.00000 | 74.00000 | 80.00000 | 1.393443 | 50.61667 | 54.56667 | 55.25 | 53.75 | 53.68333 | 2.000000 | 42.000000 | 40.00000 | 83.00000 | 77.00000 | 74.00000 | 77.00000 |\n",
       "| 315 | 2.000000 | 64.00000 | 54.00000 | 55.00000 | 56.00000 | 57.00000 | 1.000000 | 42.00000 | 44.00000 | 41.00 | 40.00 | 45.00000 | 2.000000 |  0.000000 |  0.00000 |  0.00000 | 37.00000 | 38.00000 | 30.00000 |\n",
       "| 316 | 2.000000 | 65.00000 | 50.00000 | 55.00000 | 53.00000 | 60.00000 | 1.393443 | 50.61667 | 54.56667 | 55.25 | 53.75 | 53.68333 | 1.463415 |  9.536585 | 12.09756 | 24.43902 | 52.68293 | 53.68293 | 53.58537 |\n",
       "| 317 | 2.000000 | 56.56962 | 54.75949 | 55.59494 | 53.18987 | 56.01266 | 2.000000 | 41.00000 | 50.00000 | 55.00 | 39.00 | 45.00000 | 1.463415 |  9.536585 | 12.09756 | 24.43902 | 52.68293 | 53.68293 | 53.58537 |\n",
       "| 318 | 2.000000 | 57.00000 | 42.00000 | 38.00000 | 53.00000 | 43.00000 | 1.000000 | 78.00000 | 65.00000 | 78.00 | 58.00 | 72.00000 | 2.000000 |  3.000000 | 10.00000 | 16.00000 | 45.00000 | 52.00000 | 49.00000 |\n",
       "| 319 | 2.000000 | 57.00000 | 61.00000 | 55.00000 | 53.00000 | 55.00000 | 1.393443 | 50.61667 | 54.56667 | 55.25 | 53.75 | 53.68333 | 2.000000 | 13.000000 | 19.00000 | 33.00000 | 58.00000 | 61.00000 | 62.00000 |\n",
       "| 320 | 1.000000 | 56.56962 | 54.75949 | 55.59494 | 53.18987 | 56.01266 | 2.000000 | 50.61667 | 54.56667 | 55.25 | 53.75 | 53.68333 | 1.463415 |  9.536585 | 12.09756 | 24.43902 | 52.68293 | 53.68293 | 53.58537 |\n",
       "| 321 | 2.000000 | 51.00000 | 61.00000 | 59.00000 | 63.00000 | 61.00000 | 2.000000 | 53.00000 | 57.00000 | 63.00 | 53.00 | 58.00000 | 1.000000 | 13.000000 | 11.00000 | 27.00000 | 61.00000 | 57.00000 | 59.00000 |\n",
       "| 322 | 2.000000 | 41.00000 | 54.00000 | 59.00000 | 53.00000 | 57.00000 | 1.393443 | 50.61667 | 54.56667 | 55.25 | 53.75 | 53.68333 | 1.463415 |  9.536585 | 12.09756 | 24.43902 | 52.68293 | 53.68293 | 53.58537 |\n",
       "| 323 | 2.000000 | 66.00000 | 67.00000 | 52.00000 | 53.00000 | 62.00000 | 1.393443 | 50.61667 | 54.56667 | 55.25 | 53.75 | 53.68333 | 1.463415 |  9.536585 | 12.09756 | 24.43902 | 52.68293 | 53.68293 | 53.58537 |\n",
       "| 324 | 2.000000 | 61.00000 | 57.00000 | 68.00000 | 53.00000 | 57.00000 | 1.393443 | 50.61667 | 54.56667 | 55.25 | 53.75 | 53.68333 | 1.000000 |  0.000000 |  2.00000 |  3.00000 | 36.00000 | 45.00000 | 39.00000 |\n",
       "| 325 | 2.000000 | 67.00000 | 63.00000 | 61.00000 | 53.00000 | 66.00000 | 1.000000 | 54.00000 | 71.00000 | 74.00 | 61.00 | 72.00000 | 1.000000 | 15.000000 | 42.00000 | 59.00000 | 62.00000 | 75.00000 | 68.00000 |\n",
       "| 326 | 2.000000 | 61.00000 | 63.00000 | 59.00000 | 53.00000 | 61.00000 | 1.393443 | 50.61667 | 54.56667 | 55.25 | 53.75 | 53.68333 | 1.463415 |  9.536585 | 12.09756 | 24.43902 | 52.68293 | 53.68293 | 53.58537 |\n",
       "| 327 | 2.000000 | 56.56962 | 54.75949 | 55.59494 | 53.18987 | 56.01266 | 1.393443 | 50.61667 | 54.56667 | 55.25 | 53.75 | 53.68333 | 1.463415 |  9.536585 | 12.09756 | 24.43902 | 52.68293 | 53.68293 | 53.58537 |\n",
       "| 329 | 2.000000 | 53.00000 | 42.00000 | 38.00000 | 56.00000 | 45.00000 | 1.000000 | 42.00000 | 60.00000 | 67.00 | 58.00 | 57.00000 | 1.463415 |  9.536585 | 12.09756 | 24.43902 | 52.68293 | 53.68293 | 53.58537 |\n",
       "| 332 | 2.000000 | 51.00000 | 50.00000 | 52.00000 | 39.00000 | 48.00000 | 1.393443 | 50.61667 | 54.56667 | 55.25 | 53.75 | 53.68333 | 1.463415 |  9.536585 | 12.09756 | 24.43902 | 52.68293 | 53.68293 | 53.58537 |\n",
       "| 401 | 1.792683 | 56.56962 | 54.75949 | 55.59494 | 53.18987 | 56.01266 | 1.000000 | 56.00000 | 44.00000 | 55.00 | 40.00 | 45.00000 | 1.463415 |  9.536585 | 12.09756 | 24.43902 | 52.68293 | 53.68293 | 53.58537 |\n",
       "| 404 | 1.000000 | 68.00000 | 73.00000 | 74.00000 | 63.00000 | 72.00000 | 2.000000 | 51.00000 | 50.00000 | 46.00 | 66.00 | 55.00000 | 1.463415 |  9.536585 | 12.09756 | 24.43902 | 52.68293 | 53.68293 | 53.58537 |\n",
       "\n"
      ],
      "text/plain": [
       "   FamNum SexP     SomTP    DepTP    AnxTP    HosTP    GSITP    SexS    \n",
       "1  101    2.000000 62.00000 50.00000 52.00000 39.00000 52.00000 1.000000\n",
       "2  104    1.000000 56.00000 65.00000 55.00000 40.00000 57.00000 2.000000\n",
       "3  105    1.000000 56.00000 57.00000 67.00000 65.00000 61.00000 2.000000\n",
       "4  106    2.000000 41.00000 61.00000 64.00000 53.00000 57.00000 1.000000\n",
       "5  107    2.000000 61.00000 61.00000 52.00000 56.00000 57.00000 1.000000\n",
       "6  108    1.000000 56.00000 53.00000 55.00000 53.00000 53.00000 2.000000\n",
       "7  109    2.000000 57.00000 64.00000 59.00000 53.00000 60.00000 1.393443\n",
       "8  110    1.000000 42.00000 53.00000 50.00000 53.00000 50.00000 2.000000\n",
       "9  111    2.000000 51.00000 42.00000 38.00000 39.00000 39.00000 1.000000\n",
       "10 112    2.000000 53.00000 61.00000 61.00000 56.00000 55.00000 1.000000\n",
       "11 113    1.000000 42.00000 44.00000 50.00000 40.00000 42.00000 2.000000\n",
       "12 114    2.000000 53.00000 57.00000 55.00000 56.00000 51.00000 1.000000\n",
       "13 115    1.792683 56.56962 54.75949 55.59494 53.18987 56.01266 2.000000\n",
       "14 116    2.000000 57.00000 70.00000 59.00000 66.00000 66.00000 1.393443\n",
       "15 117    2.000000 53.00000 57.00000 61.00000 53.00000 52.00000 1.000000\n",
       "16 118    1.000000 68.00000 53.00000 55.00000 53.00000 59.00000 1.393443\n",
       "17 119    2.000000 41.00000 61.00000 46.00000 53.00000 56.00000 1.393443\n",
       "18 120    2.000000 57.00000 61.00000 55.00000 56.00000 58.00000 1.393443\n",
       "19 121    2.000000 61.00000 63.00000 63.00000 72.00000 63.00000 1.393443\n",
       "20 122    2.000000 53.00000 42.00000 38.00000 39.00000 39.00000 1.000000\n",
       "21 123    2.000000 41.00000 57.00000 61.00000 67.00000 57.00000 1.000000\n",
       "22 125    2.000000 41.00000 42.00000 52.00000 39.00000 48.00000 1.000000\n",
       "23 126    2.000000 58.00000 42.00000 55.00000 60.00000 54.00000 1.393443\n",
       "24 127    2.000000 65.00000 42.00000 38.00000 39.00000 49.00000 1.000000\n",
       "25 129    2.000000 51.00000 42.00000 55.00000 53.00000 54.00000 1.000000\n",
       "26 130    1.000000 65.00000 44.00000 55.00000 40.00000 53.00000 2.000000\n",
       "27 131    2.000000 58.00000 50.00000 52.00000 39.00000 48.00000 1.393443\n",
       "28 132    1.792683 56.56962 54.75949 55.59494 53.18987 56.01266 2.000000\n",
       "29 135    2.000000 53.00000 50.00000 38.00000 39.00000 45.00000 1.000000\n",
       "30 138    2.000000 41.00000 42.00000 38.00000 39.00000 43.00000 1.393443\n",
       "⋮  ⋮      ⋮        ⋮        ⋮        ⋮        ⋮        ⋮        ⋮       \n",
       "60 238    2.000000 51.00000 50.00000 55.00000 56.00000 54.00000 1.000000\n",
       "61 239    2.000000 66.00000 54.00000 55.00000 53.00000 63.00000 1.393443\n",
       "62 240    1.792683 56.56962 54.75949 55.59494 53.18987 56.01266 1.000000\n",
       "63 243    1.792683 56.56962 54.75949 55.59494 53.18987 56.01266 2.000000\n",
       "64 304    2.000000 61.00000 50.00000 61.00000 39.00000 55.00000 1.000000\n",
       "65 305    2.000000 64.00000 57.00000 70.00000 72.00000 71.00000 1.000000\n",
       "66 306    2.000000 69.00000 64.00000 68.00000 63.00000 66.00000 1.000000\n",
       "67 307    2.000000 74.00000 78.00000 75.00000 74.00000 80.00000 1.000000\n",
       "68 308    2.000000 51.00000 62.00000 55.00000 53.00000 54.00000 1.000000\n",
       "69 309    2.000000 61.00000 42.00000 55.00000 56.00000 54.00000 1.000000\n",
       "70 310    2.000000 62.00000 42.00000 55.00000 53.00000 55.00000 1.393443\n",
       "71 311    2.000000 68.00000 63.00000 64.00000 56.00000 63.00000 1.393443\n",
       "72 312    2.000000 78.00000 73.00000 75.00000 74.00000 80.00000 1.393443\n",
       "73 315    2.000000 64.00000 54.00000 55.00000 56.00000 57.00000 1.000000\n",
       "74 316    2.000000 65.00000 50.00000 55.00000 53.00000 60.00000 1.393443\n",
       "75 317    2.000000 56.56962 54.75949 55.59494 53.18987 56.01266 2.000000\n",
       "76 318    2.000000 57.00000 42.00000 38.00000 53.00000 43.00000 1.000000\n",
       "77 319    2.000000 57.00000 61.00000 55.00000 53.00000 55.00000 1.393443\n",
       "78 320    1.000000 56.56962 54.75949 55.59494 53.18987 56.01266 2.000000\n",
       "79 321    2.000000 51.00000 61.00000 59.00000 63.00000 61.00000 2.000000\n",
       "80 322    2.000000 41.00000 54.00000 59.00000 53.00000 57.00000 1.393443\n",
       "81 323    2.000000 66.00000 67.00000 52.00000 53.00000 62.00000 1.393443\n",
       "82 324    2.000000 61.00000 57.00000 68.00000 53.00000 57.00000 1.393443\n",
       "83 325    2.000000 67.00000 63.00000 61.00000 53.00000 66.00000 1.000000\n",
       "84 326    2.000000 61.00000 63.00000 59.00000 53.00000 61.00000 1.393443\n",
       "85 327    2.000000 56.56962 54.75949 55.59494 53.18987 56.01266 1.393443\n",
       "86 329    2.000000 53.00000 42.00000 38.00000 56.00000 45.00000 1.000000\n",
       "87 332    2.000000 51.00000 50.00000 52.00000 39.00000 48.00000 1.393443\n",
       "88 401    1.792683 56.56962 54.75949 55.59494 53.18987 56.01266 1.000000\n",
       "89 404    1.000000 68.00000 73.00000 74.00000 63.00000 72.00000 2.000000\n",
       "   SomTS    DepTS    AnxTS HosTS GSITS    SexChild Intern    Extern   TotBP   \n",
       "1  42.00000 44.00000 41.00 40.00 42.00000 1.463415  9.536585 12.09756 24.43902\n",
       "2  53.00000 73.00000 68.00 67.00 71.00000 1.000000 11.000000 12.00000 28.00000\n",
       "3  41.00000 67.00000 63.00 66.00 65.00000 2.000000  7.000000  7.00000 15.00000\n",
       "4  60.00000 60.00000 59.00 67.00 62.00000 1.000000  6.000000 10.00000 15.00000\n",
       "5  42.00000 44.00000 50.00 61.00 50.00000 1.000000 10.000000 11.00000 25.00000\n",
       "6  65.00000 70.00000 70.00 53.00 69.00000 1.463415  9.536585 12.09756 24.43902\n",
       "7  50.61667 54.56667 55.25 53.75 53.68333 1.463415  9.536585 12.09756 24.43902\n",
       "8  41.00000 42.00000 38.00 39.00 33.00000 2.000000  5.000000  5.00000 15.00000\n",
       "9  60.00000 44.00000 41.00 40.00 45.00000 1.463415  9.536585 12.09756 24.43902\n",
       "10 42.00000 44.00000 50.00 40.00 42.00000 1.000000  4.000000  9.00000 14.00000\n",
       "11 41.00000 42.00000 38.00 39.00 43.00000 1.463415  9.536585 12.09756 24.43902\n",
       "12 54.00000 44.00000 41.00 40.00 35.00000 1.463415  9.536585 12.09756 24.43902\n",
       "13 58.00000 57.00000 52.00 53.00 57.00000 2.000000  9.000000 29.00000 41.00000\n",
       "14 50.61667 54.56667 55.25 53.75 53.68333 1.000000 18.000000 11.00000 32.00000\n",
       "15 42.00000 53.00000 59.00 53.00 53.00000 2.000000  6.000000  9.00000 21.00000\n",
       "16 50.61667 54.56667 55.25 53.75 53.68333 1.463415  9.536585 12.09756 24.43902\n",
       "17 50.61667 54.56667 55.25 53.75 53.68333 2.000000  1.000000  0.00000  1.00000\n",
       "18 50.61667 54.56667 55.25 53.75 53.68333 1.463415  9.536585 12.09756 24.43902\n",
       "19 50.61667 54.56667 55.25 53.75 53.68333 1.000000 24.000000 16.00000 44.00000\n",
       "20 65.00000 71.00000 69.00 78.00 67.00000 1.463415  9.536585 12.09756 24.43902\n",
       "21 60.00000 78.00000 55.00 61.00 64.00000 1.000000  4.000000  9.00000 13.00000\n",
       "22 42.00000 44.00000 41.00 40.00 42.00000 1.463415  9.536585 12.09756 24.43902\n",
       "23 50.61667 54.56667 55.25 53.75 53.68333 1.463415  9.536585 12.09756 24.43902\n",
       "24 54.00000 44.00000 41.00 40.00 42.00000 1.463415  9.536585 12.09756 24.43902\n",
       "25 54.00000 44.00000 55.00 53.00 50.00000 1.463415  9.536585 12.09756 24.43902\n",
       "26 41.00000 61.00000 52.00 53.00 52.00000 1.463415  9.536585 12.09756 24.43902\n",
       "27 50.61667 54.56667 55.25 53.75 53.68333 1.463415  9.536585 12.09756 24.43902\n",
       "28 41.00000 61.00000 68.00 63.00 61.00000 1.463415  9.536585 12.09756 24.43902\n",
       "29 42.00000 44.00000 50.00 53.00 50.00000 2.000000  1.000000  4.00000  7.00000\n",
       "30 50.61667 54.56667 55.25 53.75 53.68333 1.000000  2.000000  1.00000  3.00000\n",
       "⋮  ⋮        ⋮        ⋮     ⋮     ⋮        ⋮        ⋮         ⋮        ⋮       \n",
       "60 42.00000 57.00000 50.00 40.00 53.00000 1.463415  9.536585 12.09756 24.43902\n",
       "61 50.61667 54.56667 55.25 53.75 53.68333 1.000000 24.000000 15.00000 45.00000\n",
       "62 42.00000 65.00000 64.00 71.00 60.00000 1.000000 15.000000 14.00000 38.00000\n",
       "63 51.00000 57.00000 55.00 53.00 54.00000 1.463415  9.536585 12.09756 24.43902\n",
       "64 76.00000 53.00000 64.00 67.00 65.00000 2.000000 13.000000  8.00000 22.00000\n",
       "65 54.00000 60.00000 67.00 58.00 58.00000 1.000000 14.000000 16.00000 38.00000\n",
       "66 54.00000 44.00000 64.00 53.00 48.00000 2.000000 20.000000 25.00000 45.00000\n",
       "67 56.00000 71.00000 64.00 61.00 65.00000 1.463415  9.536585 12.09756 24.43902\n",
       "68 75.00000 67.00000 64.00 61.00 66.00000 1.463415  9.536585 12.09756 24.43902\n",
       "69 42.00000 44.00000 50.00 40.00 45.00000 1.000000  1.000000  1.00000  3.00000\n",
       "70 50.61667 54.56667 55.25 53.75 53.68333 1.463415  9.536585 12.09756 24.43902\n",
       "71 50.61667 54.56667 55.25 53.75 53.68333 2.000000 15.000000  6.00000 26.00000\n",
       "72 50.61667 54.56667 55.25 53.75 53.68333 2.000000 42.000000 40.00000 83.00000\n",
       "73 42.00000 44.00000 41.00 40.00 45.00000 2.000000  0.000000  0.00000  0.00000\n",
       "74 50.61667 54.56667 55.25 53.75 53.68333 1.463415  9.536585 12.09756 24.43902\n",
       "75 41.00000 50.00000 55.00 39.00 45.00000 1.463415  9.536585 12.09756 24.43902\n",
       "76 78.00000 65.00000 78.00 58.00 72.00000 2.000000  3.000000 10.00000 16.00000\n",
       "77 50.61667 54.56667 55.25 53.75 53.68333 2.000000 13.000000 19.00000 33.00000\n",
       "78 50.61667 54.56667 55.25 53.75 53.68333 1.463415  9.536585 12.09756 24.43902\n",
       "79 53.00000 57.00000 63.00 53.00 58.00000 1.000000 13.000000 11.00000 27.00000\n",
       "80 50.61667 54.56667 55.25 53.75 53.68333 1.463415  9.536585 12.09756 24.43902\n",
       "81 50.61667 54.56667 55.25 53.75 53.68333 1.463415  9.536585 12.09756 24.43902\n",
       "82 50.61667 54.56667 55.25 53.75 53.68333 1.000000  0.000000  2.00000  3.00000\n",
       "83 54.00000 71.00000 74.00 61.00 72.00000 1.000000 15.000000 42.00000 59.00000\n",
       "84 50.61667 54.56667 55.25 53.75 53.68333 1.463415  9.536585 12.09756 24.43902\n",
       "85 50.61667 54.56667 55.25 53.75 53.68333 1.463415  9.536585 12.09756 24.43902\n",
       "86 42.00000 60.00000 67.00 58.00 57.00000 1.463415  9.536585 12.09756 24.43902\n",
       "87 50.61667 54.56667 55.25 53.75 53.68333 1.463415  9.536585 12.09756 24.43902\n",
       "88 56.00000 44.00000 55.00 40.00 45.00000 1.463415  9.536585 12.09756 24.43902\n",
       "89 51.00000 50.00000 46.00 66.00 55.00000 1.463415  9.536585 12.09756 24.43902\n",
       "   InternT  ExternT  TotBPT  \n",
       "1  52.68293 53.68293 53.58537\n",
       "2  58.00000 57.00000 60.00000\n",
       "3  47.00000 48.00000 45.00000\n",
       "4  49.00000 52.00000 48.00000\n",
       "5  58.00000 57.00000 58.00000\n",
       "6  52.68293 53.68293 53.58537\n",
       "7  52.68293 53.68293 53.58537\n",
       "8  49.00000 49.00000 52.00000\n",
       "9  52.68293 53.68293 53.58537\n",
       "10 48.00000 55.00000 51.00000\n",
       "11 52.68293 53.68293 53.58537\n",
       "12 52.68293 53.68293 53.58537\n",
       "13 55.00000 65.00000 65.00000\n",
       "14 64.00000 57.00000 61.00000\n",
       "15 46.00000 51.00000 49.00000\n",
       "16 52.68293 53.68293 53.58537\n",
       "17 40.00000 38.00000 33.00000\n",
       "18 52.68293 53.68293 53.58537\n",
       "19 67.00000 61.00000 64.00000\n",
       "20 52.68293 53.68293 53.58537\n",
       "21 46.00000 51.00000 46.00000\n",
       "22 52.68293 53.68293 53.58537\n",
       "23 52.68293 53.68293 53.58537\n",
       "24 52.68293 53.68293 53.58537\n",
       "25 52.68293 53.68293 53.58537\n",
       "26 52.68293 53.68293 53.58537\n",
       "27 52.68293 53.68293 53.58537\n",
       "28 52.68293 53.68293 53.58537\n",
       "29 40.00000 44.00000 43.00000\n",
       "30 38.00000 34.00000 33.00000\n",
       "⋮  ⋮        ⋮        ⋮       \n",
       "60 52.68293 53.68293 53.58537\n",
       "61 69.00000 57.00000 65.00000\n",
       "62 61.00000 56.00000 61.00000\n",
       "63 52.68293 53.68293 53.58537\n",
       "64 58.00000 52.00000 57.00000\n",
       "65 60.00000 58.00000 61.00000\n",
       "66 67.00000 65.00000 67.00000\n",
       "67 52.68293 53.68293 53.58537\n",
       "68 52.68293 53.68293 53.58537\n",
       "69 40.00000 41.00000 39.00000\n",
       "70 52.68293 53.68293 53.58537\n",
       "71 60.00000 50.00000 59.00000\n",
       "72 77.00000 74.00000 77.00000\n",
       "73 37.00000 38.00000 30.00000\n",
       "74 52.68293 53.68293 53.58537\n",
       "75 52.68293 53.68293 53.58537\n",
       "76 45.00000 52.00000 49.00000\n",
       "77 58.00000 61.00000 62.00000\n",
       "78 52.68293 53.68293 53.58537\n",
       "79 61.00000 57.00000 59.00000\n",
       "80 52.68293 53.68293 53.58537\n",
       "81 52.68293 53.68293 53.58537\n",
       "82 36.00000 45.00000 39.00000\n",
       "83 62.00000 75.00000 68.00000\n",
       "84 52.68293 53.68293 53.58537\n",
       "85 52.68293 53.68293 53.58537\n",
       "86 52.68293 53.68293 53.58537\n",
       "87 52.68293 53.68293 53.58537\n",
       "88 52.68293 53.68293 53.58537\n",
       "89 52.68293 53.68293 53.58537"
      ]
     },
     "metadata": {},
     "output_type": "display_data"
    }
   ],
   "source": [
    "data_imputed"
   ]
  },
  {
   "cell_type": "code",
   "execution_count": 44,
   "metadata": {},
   "outputs": [
    {
     "data": {
      "image/png": "[encoded data removed]",
      "text/plain": [
       "Plot with title \"Residuals vs Predicted Values\""
      ]
     },
     "metadata": {
      "image/png": {
       "height": 420,
       "width": 420
      }
     },
     "output_type": "display_data"
    }
   ],
   "source": [
    "lm_model = lm(TotBP ~ SexP + SomTP + DepTP + AnxTP + HosTP + GSITP + SexS + SomTS + DepTS + AnxTS + HosTS + GSITS + SexChild + Intern + Extern + TotBPT, data = data_imputed)\n",
    "\n",
    "predicted_values = fitted(lm_model)\n",
    "residuals = residuals(lm_model)\n",
    "\n",
    "plot(predicted_values, residuals, xlab = \"Predicted Values\", ylab = \"Residuals\", main = \"Residuals vs Predicted Values\")\n",
    "abline(h = 0, col = \"red\", lty = 2) "
   ]
  },
  {
   "cell_type": "markdown",
   "metadata": {},
   "source": [
    "#### Answer: I searched for possible explanations, I found out that if:\n",
    "###    1. Random Dispersion, 2. Constant Spread, and 3. No Funnel Shape, are met on the scatter plot, \n",
    "#### then we can say that homogeneity of variances is met, but due to the shape of the scatter plot above, apparently the homogeneity is not met here. `"
   ]
  }
 ],
 "metadata": {
  "kernelspec": {
   "display_name": "R",
   "language": "R",
   "name": "ir"
  },
  "language_info": {
   "codemirror_mode": "r",
   "file_extension": ".r",
   "mimetype": "text/x-r-source",
   "name": "R",
   "pygments_lexer": "r",
   "version": "4.3.2"
  }
 },
 "nbformat": 4,
 "nbformat_minor": 4
}
