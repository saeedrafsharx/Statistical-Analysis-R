{
 "cells": [
  {
   "cell_type": "markdown",
   "metadata": {},
   "source": [
    "# Project 1.\n",
    "\n",
    "In a study of memory processes, animals were tested in a one-trial avoidance-learning task. The animals were presented with a fear-producing stimulus on the learning trial as soon as they stepped across a line in the test chamber. The dependent variable was the time it took them to step across the line on the test trial. Three groups of animals differed in terms of the area in which they had electrodes implanted in their cortex (Neutral site, Area A, or Area B). Each group was further divided and given electrical stimulation 50, 100, or 150 milliseconds after crossing the line and being presented with the fear-inducing stimulus. If the brain area that was stimulated is involved in memory, stimulation would be expected to interfere with memory consolidation and retard learning of the avoidance response, and the animal should not show any hesitancy in recrossing the line. The data on latency to recross the line are as follows:\n",
    "\n",
    "<img src=\"Images/p9.png\" width=\"600\"/>\n",
    "\n",
    "The data are found in https://github.com/amanirad/Statistics-in-cognitive-rehabilitation-and-cognitive-linguistics.\n",
    "\n",
    "1. Plot ungrouped as well as grouped frequency distribution for these data.\n",
    "2. Create the histogram for the data using a reasonable number of intervals. Fit the probability density of each condition on the data.\n",
    "3. Plot ungrouped as well as grouped boxplot for these data.\n",
    "4. Discuss the statistical summary of the data in each condition in the form of statistics of mean, standard deviation, median, quantiles, etc.\n",
    "5. Does this data include outliers? Should they be removed? How? Remove them if necessary.\n",
    "6. Check the normality of the data using: \n",
    " 1. Find and plot a sampling distribution using a selection of samples such as 50 with sample size equals to 5 from the data in the table above.  \n",
    "    1. Compare the means and the standard deviations for the distribution in main data and the sampling distribution of the mean.\n",
    "    2. What would the Central Limit Theorem lead you to expect in this situation?\n",
    "    3. Do the data correspond to what you would predict?\n",
    "    4. In what way would the result differ if you had drawn more samples of size 5?\n",
    "    5. In what way would the result differ if you had drawn 50 samples of size 15?\n",
    " 2. Check out the QQ plot. \n",
    "3. Use the appropriate statistical test and check its p-value and discuss it. What is the null hypothesis? Outline the hypothesis-testing procedure that you have just applied. Compute 95% confidence llimit on mean (or median).\n",
    "7. Is the data distribution symmetrical? Examine and discuss it using an appropriate statistical test.\n"
   ]
  },
  {
   "cell_type": "markdown",
   "metadata": {},
   "source": [
    "### Project 1 answer sheet for Cognitive Rehabilitation Statistics Course, By Saeed_Rezaei_Afshar"
   ]
  },
  {
   "cell_type": "code",
   "execution_count": 2,
   "metadata": {
    "vscode": {
     "languageId": "r"
    }
   },
   "outputs": [],
   "source": [
    "Animal_data = read.table(\"project_1.dat\", header = TRUE)"
   ]
  },
  {
   "cell_type": "code",
   "execution_count": 5,
   "metadata": {
    "vscode": {
     "languageId": "r"
    }
   },
   "outputs": [
    {
     "name": "stderr",
     "output_type": "stream",
     "text": [
      "\n",
      "Attaching package: 'rstatix'\n",
      "\n",
      "\n",
      "The following object is masked from 'package:stats':\n",
      "\n",
      "    filter\n",
      "\n",
      "\n",
      "Loading required package: ggplot2\n",
      "\n",
      "\n",
      "Attaching package: 'MASS'\n",
      "\n",
      "\n",
      "The following object is masked from 'package:rstatix':\n",
      "\n",
      "    select\n",
      "\n",
      "\n"
     ]
    }
   ],
   "source": [
    "library(rstatix)\n",
    "library(ggpubr)\n",
    "library(lattice)\n",
    "library(insight)\n",
    "library(ggplot2)\n",
    "library(MASS)\n",
    "library(moments)"
   ]
  },
  {
   "cell_type": "code",
   "execution_count": 6,
   "metadata": {
    "vscode": {
     "languageId": "r"
    }
   },
   "outputs": [],
   "source": [
    "Animal_data = Animal_data %>% mutate (Area = ifelse (Area == \"1\", \"Neutral\", ifelse(Area == \"2\", \"AreaA\", \"AreaB\")))"
   ]
  },
  {
   "cell_type": "code",
   "execution_count": 7,
   "metadata": {
    "jp-MarkdownHeadingCollapsed": true,
    "vscode": {
     "languageId": "r"
    }
   },
   "outputs": [],
   "source": [
    "Animal_data = Animal_data %>% mutate (Duration = ifelse (Duration == \"1\", \"Short\", ifelse(Duration == \"2\", \"Moderate\" , \"Long\")))"
   ]
  },
  {
   "cell_type": "code",
   "execution_count": 43,
   "metadata": {
    "scrolled": true,
    "vscode": {
     "languageId": "r"
    }
   },
   "outputs": [
    {
     "data": {
      "text/html": [
       "<table class=\"dataframe\">\n",
       "<caption>A data.frame: 45 × 4</caption>\n",
       "<thead>\n",
       "\t<tr><th scope=col>uid</th><th scope=col>Area</th><th scope=col>Duration</th><th scope=col>Time</th></tr>\n",
       "\t<tr><th scope=col>&lt;int&gt;</th><th scope=col>&lt;chr&gt;</th><th scope=col>&lt;chr&gt;</th><th scope=col>&lt;int&gt;</th></tr>\n",
       "</thead>\n",
       "<tbody>\n",
       "\t<tr><td> 1</td><td>Neutral</td><td>Short   </td><td>25</td></tr>\n",
       "\t<tr><td> 2</td><td>Neutral</td><td>Short   </td><td>30</td></tr>\n",
       "\t<tr><td> 3</td><td>Neutral</td><td>Short   </td><td>28</td></tr>\n",
       "\t<tr><td> 4</td><td>Neutral</td><td>Short   </td><td>40</td></tr>\n",
       "\t<tr><td> 5</td><td>Neutral</td><td>Short   </td><td>20</td></tr>\n",
       "\t<tr><td> 6</td><td>Neutral</td><td>Moderate</td><td>30</td></tr>\n",
       "\t<tr><td> 7</td><td>Neutral</td><td>Moderate</td><td>25</td></tr>\n",
       "\t<tr><td> 8</td><td>Neutral</td><td>Moderate</td><td>27</td></tr>\n",
       "\t<tr><td> 9</td><td>Neutral</td><td>Moderate</td><td>35</td></tr>\n",
       "\t<tr><td>10</td><td>Neutral</td><td>Moderate</td><td>23</td></tr>\n",
       "\t<tr><td>11</td><td>Neutral</td><td>Long    </td><td>28</td></tr>\n",
       "\t<tr><td>12</td><td>Neutral</td><td>Long    </td><td>31</td></tr>\n",
       "\t<tr><td>13</td><td>Neutral</td><td>Long    </td><td>26</td></tr>\n",
       "\t<tr><td>14</td><td>Neutral</td><td>Long    </td><td>20</td></tr>\n",
       "\t<tr><td>15</td><td>Neutral</td><td>Long    </td><td>35</td></tr>\n",
       "\t<tr><td>16</td><td>AreaA  </td><td>Short   </td><td>11</td></tr>\n",
       "\t<tr><td>17</td><td>AreaA  </td><td>Short   </td><td>18</td></tr>\n",
       "\t<tr><td>18</td><td>AreaA  </td><td>Short   </td><td>26</td></tr>\n",
       "\t<tr><td>19</td><td>AreaA  </td><td>Short   </td><td>15</td></tr>\n",
       "\t<tr><td>20</td><td>AreaA  </td><td>Short   </td><td>14</td></tr>\n",
       "\t<tr><td>21</td><td>AreaA  </td><td>Moderate</td><td>31</td></tr>\n",
       "\t<tr><td>22</td><td>AreaA  </td><td>Moderate</td><td>20</td></tr>\n",
       "\t<tr><td>23</td><td>AreaA  </td><td>Moderate</td><td>22</td></tr>\n",
       "\t<tr><td>24</td><td>AreaA  </td><td>Moderate</td><td>23</td></tr>\n",
       "\t<tr><td>25</td><td>AreaA  </td><td>Moderate</td><td>19</td></tr>\n",
       "\t<tr><td>26</td><td>AreaA  </td><td>Long    </td><td>23</td></tr>\n",
       "\t<tr><td>27</td><td>AreaA  </td><td>Long    </td><td>28</td></tr>\n",
       "\t<tr><td>28</td><td>AreaA  </td><td>Long    </td><td>35</td></tr>\n",
       "\t<tr><td>29</td><td>AreaA  </td><td>Long    </td><td>27</td></tr>\n",
       "\t<tr><td>30</td><td>AreaA  </td><td>Long    </td><td>21</td></tr>\n",
       "\t<tr><td>31</td><td>AreaB  </td><td>Short   </td><td>23</td></tr>\n",
       "\t<tr><td>32</td><td>AreaB  </td><td>Short   </td><td>30</td></tr>\n",
       "\t<tr><td>33</td><td>AreaB  </td><td>Short   </td><td>18</td></tr>\n",
       "\t<tr><td>34</td><td>AreaB  </td><td>Short   </td><td>28</td></tr>\n",
       "\t<tr><td>35</td><td>AreaB  </td><td>Short   </td><td>23</td></tr>\n",
       "\t<tr><td>36</td><td>AreaB  </td><td>Moderate</td><td>18</td></tr>\n",
       "\t<tr><td>37</td><td>AreaB  </td><td>Moderate</td><td>24</td></tr>\n",
       "\t<tr><td>38</td><td>AreaB  </td><td>Moderate</td><td> 9</td></tr>\n",
       "\t<tr><td>39</td><td>AreaB  </td><td>Moderate</td><td>16</td></tr>\n",
       "\t<tr><td>40</td><td>AreaB  </td><td>Moderate</td><td>13</td></tr>\n",
       "\t<tr><td>41</td><td>AreaB  </td><td>Long    </td><td>28</td></tr>\n",
       "\t<tr><td>42</td><td>AreaB  </td><td>Long    </td><td>21</td></tr>\n",
       "\t<tr><td>43</td><td>AreaB  </td><td>Long    </td><td>30</td></tr>\n",
       "\t<tr><td>44</td><td>AreaB  </td><td>Long    </td><td>30</td></tr>\n",
       "\t<tr><td>45</td><td>AreaB  </td><td>Long    </td><td>23</td></tr>\n",
       "</tbody>\n",
       "</table>\n"
      ],
      "text/latex": [
       "A data.frame: 45 × 4\n",
       "\\begin{tabular}{llll}\n",
       " uid & Area & Duration & Time\\\\\n",
       " <int> & <chr> & <chr> & <int>\\\\\n",
       "\\hline\n",
       "\t  1 & Neutral & Short    & 25\\\\\n",
       "\t  2 & Neutral & Short    & 30\\\\\n",
       "\t  3 & Neutral & Short    & 28\\\\\n",
       "\t  4 & Neutral & Short    & 40\\\\\n",
       "\t  5 & Neutral & Short    & 20\\\\\n",
       "\t  6 & Neutral & Moderate & 30\\\\\n",
       "\t  7 & Neutral & Moderate & 25\\\\\n",
       "\t  8 & Neutral & Moderate & 27\\\\\n",
       "\t  9 & Neutral & Moderate & 35\\\\\n",
       "\t 10 & Neutral & Moderate & 23\\\\\n",
       "\t 11 & Neutral & Long     & 28\\\\\n",
       "\t 12 & Neutral & Long     & 31\\\\\n",
       "\t 13 & Neutral & Long     & 26\\\\\n",
       "\t 14 & Neutral & Long     & 20\\\\\n",
       "\t 15 & Neutral & Long     & 35\\\\\n",
       "\t 16 & AreaA   & Short    & 11\\\\\n",
       "\t 17 & AreaA   & Short    & 18\\\\\n",
       "\t 18 & AreaA   & Short    & 26\\\\\n",
       "\t 19 & AreaA   & Short    & 15\\\\\n",
       "\t 20 & AreaA   & Short    & 14\\\\\n",
       "\t 21 & AreaA   & Moderate & 31\\\\\n",
       "\t 22 & AreaA   & Moderate & 20\\\\\n",
       "\t 23 & AreaA   & Moderate & 22\\\\\n",
       "\t 24 & AreaA   & Moderate & 23\\\\\n",
       "\t 25 & AreaA   & Moderate & 19\\\\\n",
       "\t 26 & AreaA   & Long     & 23\\\\\n",
       "\t 27 & AreaA   & Long     & 28\\\\\n",
       "\t 28 & AreaA   & Long     & 35\\\\\n",
       "\t 29 & AreaA   & Long     & 27\\\\\n",
       "\t 30 & AreaA   & Long     & 21\\\\\n",
       "\t 31 & AreaB   & Short    & 23\\\\\n",
       "\t 32 & AreaB   & Short    & 30\\\\\n",
       "\t 33 & AreaB   & Short    & 18\\\\\n",
       "\t 34 & AreaB   & Short    & 28\\\\\n",
       "\t 35 & AreaB   & Short    & 23\\\\\n",
       "\t 36 & AreaB   & Moderate & 18\\\\\n",
       "\t 37 & AreaB   & Moderate & 24\\\\\n",
       "\t 38 & AreaB   & Moderate &  9\\\\\n",
       "\t 39 & AreaB   & Moderate & 16\\\\\n",
       "\t 40 & AreaB   & Moderate & 13\\\\\n",
       "\t 41 & AreaB   & Long     & 28\\\\\n",
       "\t 42 & AreaB   & Long     & 21\\\\\n",
       "\t 43 & AreaB   & Long     & 30\\\\\n",
       "\t 44 & AreaB   & Long     & 30\\\\\n",
       "\t 45 & AreaB   & Long     & 23\\\\\n",
       "\\end{tabular}\n"
      ],
      "text/markdown": [
       "\n",
       "A data.frame: 45 × 4\n",
       "\n",
       "| uid &lt;int&gt; | Area &lt;chr&gt; | Duration &lt;chr&gt; | Time &lt;int&gt; |\n",
       "|---|---|---|---|\n",
       "|  1 | Neutral | Short    | 25 |\n",
       "|  2 | Neutral | Short    | 30 |\n",
       "|  3 | Neutral | Short    | 28 |\n",
       "|  4 | Neutral | Short    | 40 |\n",
       "|  5 | Neutral | Short    | 20 |\n",
       "|  6 | Neutral | Moderate | 30 |\n",
       "|  7 | Neutral | Moderate | 25 |\n",
       "|  8 | Neutral | Moderate | 27 |\n",
       "|  9 | Neutral | Moderate | 35 |\n",
       "| 10 | Neutral | Moderate | 23 |\n",
       "| 11 | Neutral | Long     | 28 |\n",
       "| 12 | Neutral | Long     | 31 |\n",
       "| 13 | Neutral | Long     | 26 |\n",
       "| 14 | Neutral | Long     | 20 |\n",
       "| 15 | Neutral | Long     | 35 |\n",
       "| 16 | AreaA   | Short    | 11 |\n",
       "| 17 | AreaA   | Short    | 18 |\n",
       "| 18 | AreaA   | Short    | 26 |\n",
       "| 19 | AreaA   | Short    | 15 |\n",
       "| 20 | AreaA   | Short    | 14 |\n",
       "| 21 | AreaA   | Moderate | 31 |\n",
       "| 22 | AreaA   | Moderate | 20 |\n",
       "| 23 | AreaA   | Moderate | 22 |\n",
       "| 24 | AreaA   | Moderate | 23 |\n",
       "| 25 | AreaA   | Moderate | 19 |\n",
       "| 26 | AreaA   | Long     | 23 |\n",
       "| 27 | AreaA   | Long     | 28 |\n",
       "| 28 | AreaA   | Long     | 35 |\n",
       "| 29 | AreaA   | Long     | 27 |\n",
       "| 30 | AreaA   | Long     | 21 |\n",
       "| 31 | AreaB   | Short    | 23 |\n",
       "| 32 | AreaB   | Short    | 30 |\n",
       "| 33 | AreaB   | Short    | 18 |\n",
       "| 34 | AreaB   | Short    | 28 |\n",
       "| 35 | AreaB   | Short    | 23 |\n",
       "| 36 | AreaB   | Moderate | 18 |\n",
       "| 37 | AreaB   | Moderate | 24 |\n",
       "| 38 | AreaB   | Moderate |  9 |\n",
       "| 39 | AreaB   | Moderate | 16 |\n",
       "| 40 | AreaB   | Moderate | 13 |\n",
       "| 41 | AreaB   | Long     | 28 |\n",
       "| 42 | AreaB   | Long     | 21 |\n",
       "| 43 | AreaB   | Long     | 30 |\n",
       "| 44 | AreaB   | Long     | 30 |\n",
       "| 45 | AreaB   | Long     | 23 |\n",
       "\n"
      ],
      "text/plain": [
       "   uid Area    Duration Time\n",
       "1   1  Neutral Short    25  \n",
       "2   2  Neutral Short    30  \n",
       "3   3  Neutral Short    28  \n",
       "4   4  Neutral Short    40  \n",
       "5   5  Neutral Short    20  \n",
       "6   6  Neutral Moderate 30  \n",
       "7   7  Neutral Moderate 25  \n",
       "8   8  Neutral Moderate 27  \n",
       "9   9  Neutral Moderate 35  \n",
       "10 10  Neutral Moderate 23  \n",
       "11 11  Neutral Long     28  \n",
       "12 12  Neutral Long     31  \n",
       "13 13  Neutral Long     26  \n",
       "14 14  Neutral Long     20  \n",
       "15 15  Neutral Long     35  \n",
       "16 16  AreaA   Short    11  \n",
       "17 17  AreaA   Short    18  \n",
       "18 18  AreaA   Short    26  \n",
       "19 19  AreaA   Short    15  \n",
       "20 20  AreaA   Short    14  \n",
       "21 21  AreaA   Moderate 31  \n",
       "22 22  AreaA   Moderate 20  \n",
       "23 23  AreaA   Moderate 22  \n",
       "24 24  AreaA   Moderate 23  \n",
       "25 25  AreaA   Moderate 19  \n",
       "26 26  AreaA   Long     23  \n",
       "27 27  AreaA   Long     28  \n",
       "28 28  AreaA   Long     35  \n",
       "29 29  AreaA   Long     27  \n",
       "30 30  AreaA   Long     21  \n",
       "31 31  AreaB   Short    23  \n",
       "32 32  AreaB   Short    30  \n",
       "33 33  AreaB   Short    18  \n",
       "34 34  AreaB   Short    28  \n",
       "35 35  AreaB   Short    23  \n",
       "36 36  AreaB   Moderate 18  \n",
       "37 37  AreaB   Moderate 24  \n",
       "38 38  AreaB   Moderate  9  \n",
       "39 39  AreaB   Moderate 16  \n",
       "40 40  AreaB   Moderate 13  \n",
       "41 41  AreaB   Long     28  \n",
       "42 42  AreaB   Long     21  \n",
       "43 43  AreaB   Long     30  \n",
       "44 44  AreaB   Long     30  \n",
       "45 45  AreaB   Long     23  "
      ]
     },
     "metadata": {},
     "output_type": "display_data"
    }
   ],
   "source": [
    "Animal_data"
   ]
  },
  {
   "cell_type": "code",
   "execution_count": 6,
   "metadata": {
    "vscode": {
     "languageId": "r"
    }
   },
   "outputs": [],
   "source": [
    "Animal_data = transform(Animal_data,uid = as.integer(uid))"
   ]
  },
  {
   "cell_type": "code",
   "execution_count": 27,
   "metadata": {
    "vscode": {
     "languageId": "r"
    }
   },
   "outputs": [
    {
     "name": "stderr",
     "output_type": "stream",
     "text": [
      "Warning message in eval(substitute(list(...)), `_data`, parent.frame()):\n",
      "\"NAs introduced by coercion\"\n"
     ]
    }
   ],
   "source": [
    "Animal_data = transform(Animal_data,Area = as.integer(Area))"
   ]
  },
  {
   "cell_type": "markdown",
   "metadata": {},
   "source": [
    "#### Data was imported, and since Area and Duration rows were named by 1,2,3 with data type of integer, I changed them to character based tags for better contrast and data recall."
   ]
  },
  {
   "cell_type": "markdown",
   "metadata": {},
   "source": [
    "# Question No. 1"
   ]
  },
  {
   "cell_type": "markdown",
   "metadata": {},
   "source": [
    "## Ungrouped data distribution"
   ]
  },
  {
   "cell_type": "code",
   "execution_count": 8,
   "metadata": {
    "vscode": {
     "languageId": "r"
    }
   },
   "outputs": [
    {
     "data": {
      "image/png": "[encoded data removed]",
      "text/plain": [
       "plot without title"
      ]
     },
     "metadata": {
      "image/png": {
       "height": 420,
       "width": 420
      }
     },
     "output_type": "display_data"
    }
   ],
   "source": [
    "barchart(Time ~ Area, data = Animal_data)"
   ]
  },
  {
   "cell_type": "markdown",
   "metadata": {},
   "source": [
    "#### Its observable from bars that both Area A and Area B have lower Time value than the Neutral group. so we may have a possible significance."
   ]
  },
  {
   "cell_type": "markdown",
   "metadata": {},
   "source": [
    "### Grouped data distribution using Bar Chart"
   ]
  },
  {
   "cell_type": "code",
   "execution_count": 90,
   "metadata": {
    "vscode": {
     "languageId": "r"
    }
   },
   "outputs": [
    {
     "data": {
      "image/png": "[encoded data removed]",
      "text/plain": [
       "plot without title"
      ]
     },
     "metadata": {
      "image/png": {
       "height": 420,
       "width": 420
      }
     },
     "output_type": "display_data"
    }
   ],
   "source": [
    "barchart(Time ~ Duration, data = Animal_data, groups = Area, auto.key=list(space='right'))"
   ]
  },
  {
   "cell_type": "markdown",
   "metadata": {},
   "source": [
    "#### Much better view of data distribution, making it more comparable. Area A stimulation in 50ms duration has lower time, also, Area B in 100ms duration has much more significant difference comapred to Area A and Neutral."
   ]
  },
  {
   "cell_type": "markdown",
   "metadata": {},
   "source": [
    "# Question No. 2"
   ]
  },
  {
   "cell_type": "code",
   "execution_count": 14,
   "metadata": {
    "vscode": {
     "languageId": "r"
    }
   },
   "outputs": [],
   "source": [
    "Animal_data$Time_sorted = sort(Animal_data$Time)"
   ]
  },
  {
   "cell_type": "markdown",
   "metadata": {},
   "source": [
    "## Histrogram and Density."
   ]
  },
  {
   "cell_type": "code",
   "execution_count": 95,
   "metadata": {
    "vscode": {
     "languageId": "r"
    }
   },
   "outputs": [
    {
     "data": {
      "image/png": "[encoded data removed]",
      "text/plain": [
       "Plot with title \"Histogram of Animal_data$Time\""
      ]
     },
     "metadata": {
      "image/png": {
       "height": 420,
       "width": 420
      }
     },
     "output_type": "display_data"
    }
   ],
   "source": [
    "hist(Animal_data$Time, breaks = 100, probability = TRUE) \n",
    "lines(density(Animal_data$Time), col = \"blue\")"
   ]
  },
  {
   "cell_type": "markdown",
   "metadata": {},
   "source": [
    "#### We can see that the probability of an observed data to fall under the curve, is more probable between 15-30/35 ms Time, which also means based on frequency that greater number of our data falls under the same range mentioned. also data distribution \"looks\" like a normal distribution."
   ]
  },
  {
   "cell_type": "markdown",
   "metadata": {},
   "source": [
    "## Grouped probability density fit on the data."
   ]
  },
  {
   "cell_type": "code",
   "execution_count": 33,
   "metadata": {
    "vscode": {
     "languageId": "r"
    }
   },
   "outputs": [
    {
     "name": "stderr",
     "output_type": "stream",
     "text": [
      "\u001b[1m\u001b[22m`stat_bin()` using `bins = 30`. Pick better value with `binwidth`.\n"
     ]
    },
    {
     "data": {
      "image/png": "[encoded data removed]",
      "text/plain": [
       "plot without title"
      ]
     },
     "metadata": {
      "image/png": {
       "height": 420,
       "width": 420
      }
     },
     "output_type": "display_data"
    }
   ],
   "source": [
    "ggplot(Animal_data, aes(x = Time, y=..density..)) + geom_histogram(fill = \"white\", colour = \"black\") + facet_grid(Duration ~ Area, scales = \"free\") + geom_density()\n"
   ]
  },
  {
   "cell_type": "markdown",
   "metadata": {},
   "source": [
    "#### An interesting point of view. We can see that animals stimulated in Area A with 50ms stimulation respond so quicker than other groups, also animals stimulated in Area B with 100ms stimulation also responded so quicker than other groups."
   ]
  },
  {
   "cell_type": "markdown",
   "metadata": {},
   "source": [
    "### Question No. 3"
   ]
  },
  {
   "cell_type": "markdown",
   "metadata": {},
   "source": [
    "#### UnGrouped Boxplot"
   ]
  },
  {
   "cell_type": "code",
   "execution_count": 10,
   "metadata": {
    "vscode": {
     "languageId": "r"
    }
   },
   "outputs": [
    {
     "data": {
      "image/png": "[encoded data removed]",
      "text/plain": [
       "plot without title"
      ]
     },
     "metadata": {
      "image/png": {
       "height": 420,
       "width": 420
      }
     },
     "output_type": "display_data"
    }
   ],
   "source": [
    "ggboxplot(Animal_data, x= \"Area\", y = \"Time\", add = \"point\")"
   ]
  },
  {
   "cell_type": "markdown",
   "metadata": {},
   "source": [
    "#### Seeminlgy this boxplot tells us the same things we mentioned of our observation in bar plots"
   ]
  },
  {
   "cell_type": "markdown",
   "metadata": {},
   "source": [
    "## Grouped Boxplot"
   ]
  },
  {
   "cell_type": "code",
   "execution_count": 9,
   "metadata": {
    "vscode": {
     "languageId": "r"
    }
   },
   "outputs": [
    {
     "data": {
      "image/png": "[encoded data removed]",
      "text/plain": [
       "plot without title"
      ]
     },
     "metadata": {
      "image/png": {
       "height": 420,
       "width": 420
      }
     },
     "output_type": "display_data"
    }
   ],
   "source": [
    "ggboxplot(Animal_data, x = \"Duration\", y = \"Time\", color = \"Area\")"
   ]
  },
  {
   "cell_type": "markdown",
   "metadata": {},
   "source": [
    "### The comment in ungrouped is true here to, but also our outliers can be seen."
   ]
  },
  {
   "cell_type": "markdown",
   "metadata": {},
   "source": [
    "# Question No. 4"
   ]
  },
  {
   "cell_type": "code",
   "execution_count": 9,
   "metadata": {
    "scrolled": true,
    "vscode": {
     "languageId": "r"
    }
   },
   "outputs": [
    {
     "data": {
      "text/html": [
       "<table class=\"dataframe\">\n",
       "<caption>A tibble: 9 × 15</caption>\n",
       "<thead>\n",
       "\t<tr><th scope=col>Area</th><th scope=col>Duration</th><th scope=col>variable</th><th scope=col>n</th><th scope=col>min</th><th scope=col>max</th><th scope=col>median</th><th scope=col>q1</th><th scope=col>q3</th><th scope=col>iqr</th><th scope=col>mad</th><th scope=col>mean</th><th scope=col>sd</th><th scope=col>se</th><th scope=col>ci</th></tr>\n",
       "\t<tr><th scope=col>&lt;chr&gt;</th><th scope=col>&lt;dbl&gt;</th><th scope=col>&lt;fct&gt;</th><th scope=col>&lt;dbl&gt;</th><th scope=col>&lt;dbl&gt;</th><th scope=col>&lt;dbl&gt;</th><th scope=col>&lt;dbl&gt;</th><th scope=col>&lt;dbl&gt;</th><th scope=col>&lt;dbl&gt;</th><th scope=col>&lt;dbl&gt;</th><th scope=col>&lt;dbl&gt;</th><th scope=col>&lt;dbl&gt;</th><th scope=col>&lt;dbl&gt;</th><th scope=col>&lt;dbl&gt;</th><th scope=col>&lt;dbl&gt;</th></tr>\n",
       "</thead>\n",
       "<tbody>\n",
       "\t<tr><td>Area_A </td><td> 50</td><td>Time</td><td>5</td><td>11</td><td>26</td><td>15</td><td>14</td><td>18</td><td>4</td><td>4.448</td><td>16.8</td><td>5.718</td><td>2.557</td><td>7.100</td></tr>\n",
       "\t<tr><td>Area_A </td><td>100</td><td>Time</td><td>5</td><td>19</td><td>31</td><td>22</td><td>20</td><td>23</td><td>3</td><td>2.965</td><td>23.0</td><td>4.743</td><td>2.121</td><td>5.890</td></tr>\n",
       "\t<tr><td>Area_A </td><td>150</td><td>Time</td><td>5</td><td>21</td><td>35</td><td>27</td><td>23</td><td>28</td><td>5</td><td>5.930</td><td>26.8</td><td>5.404</td><td>2.417</td><td>6.710</td></tr>\n",
       "\t<tr><td>Area_B </td><td> 50</td><td>Time</td><td>5</td><td>18</td><td>30</td><td>23</td><td>23</td><td>28</td><td>5</td><td>7.413</td><td>24.4</td><td>4.722</td><td>2.112</td><td>5.863</td></tr>\n",
       "\t<tr><td>Area_B </td><td>100</td><td>Time</td><td>5</td><td> 9</td><td>24</td><td>16</td><td>13</td><td>18</td><td>5</td><td>4.448</td><td>16.0</td><td>5.612</td><td>2.510</td><td>6.969</td></tr>\n",
       "\t<tr><td>Area_B </td><td>150</td><td>Time</td><td>5</td><td>21</td><td>30</td><td>28</td><td>23</td><td>30</td><td>7</td><td>2.965</td><td>26.4</td><td>4.159</td><td>1.860</td><td>5.164</td></tr>\n",
       "\t<tr><td>Neutral</td><td> 50</td><td>Time</td><td>5</td><td>20</td><td>40</td><td>28</td><td>25</td><td>30</td><td>5</td><td>4.448</td><td>28.6</td><td>7.403</td><td>3.311</td><td>9.192</td></tr>\n",
       "\t<tr><td>Neutral</td><td>100</td><td>Time</td><td>5</td><td>23</td><td>35</td><td>27</td><td>25</td><td>30</td><td>5</td><td>4.448</td><td>28.0</td><td>4.690</td><td>2.098</td><td>5.824</td></tr>\n",
       "\t<tr><td>Neutral</td><td>150</td><td>Time</td><td>5</td><td>20</td><td>35</td><td>28</td><td>26</td><td>31</td><td>5</td><td>4.448</td><td>28.0</td><td>5.612</td><td>2.510</td><td>6.969</td></tr>\n",
       "</tbody>\n",
       "</table>\n"
      ],
      "text/latex": [
       "A tibble: 9 × 15\n",
       "\\begin{tabular}{lllllllllllllll}\n",
       " Area & Duration & variable & n & min & max & median & q1 & q3 & iqr & mad & mean & sd & se & ci\\\\\n",
       " <chr> & <dbl> & <fct> & <dbl> & <dbl> & <dbl> & <dbl> & <dbl> & <dbl> & <dbl> & <dbl> & <dbl> & <dbl> & <dbl> & <dbl>\\\\\n",
       "\\hline\n",
       "\t Area\\_A  &  50 & Time & 5 & 11 & 26 & 15 & 14 & 18 & 4 & 4.448 & 16.8 & 5.718 & 2.557 & 7.100\\\\\n",
       "\t Area\\_A  & 100 & Time & 5 & 19 & 31 & 22 & 20 & 23 & 3 & 2.965 & 23.0 & 4.743 & 2.121 & 5.890\\\\\n",
       "\t Area\\_A  & 150 & Time & 5 & 21 & 35 & 27 & 23 & 28 & 5 & 5.930 & 26.8 & 5.404 & 2.417 & 6.710\\\\\n",
       "\t Area\\_B  &  50 & Time & 5 & 18 & 30 & 23 & 23 & 28 & 5 & 7.413 & 24.4 & 4.722 & 2.112 & 5.863\\\\\n",
       "\t Area\\_B  & 100 & Time & 5 &  9 & 24 & 16 & 13 & 18 & 5 & 4.448 & 16.0 & 5.612 & 2.510 & 6.969\\\\\n",
       "\t Area\\_B  & 150 & Time & 5 & 21 & 30 & 28 & 23 & 30 & 7 & 2.965 & 26.4 & 4.159 & 1.860 & 5.164\\\\\n",
       "\t Neutral &  50 & Time & 5 & 20 & 40 & 28 & 25 & 30 & 5 & 4.448 & 28.6 & 7.403 & 3.311 & 9.192\\\\\n",
       "\t Neutral & 100 & Time & 5 & 23 & 35 & 27 & 25 & 30 & 5 & 4.448 & 28.0 & 4.690 & 2.098 & 5.824\\\\\n",
       "\t Neutral & 150 & Time & 5 & 20 & 35 & 28 & 26 & 31 & 5 & 4.448 & 28.0 & 5.612 & 2.510 & 6.969\\\\\n",
       "\\end{tabular}\n"
      ],
      "text/markdown": [
       "\n",
       "A tibble: 9 × 15\n",
       "\n",
       "| Area &lt;chr&gt; | Duration &lt;dbl&gt; | variable &lt;fct&gt; | n &lt;dbl&gt; | min &lt;dbl&gt; | max &lt;dbl&gt; | median &lt;dbl&gt; | q1 &lt;dbl&gt; | q3 &lt;dbl&gt; | iqr &lt;dbl&gt; | mad &lt;dbl&gt; | mean &lt;dbl&gt; | sd &lt;dbl&gt; | se &lt;dbl&gt; | ci &lt;dbl&gt; |\n",
       "|---|---|---|---|---|---|---|---|---|---|---|---|---|---|---|\n",
       "| Area_A  |  50 | Time | 5 | 11 | 26 | 15 | 14 | 18 | 4 | 4.448 | 16.8 | 5.718 | 2.557 | 7.100 |\n",
       "| Area_A  | 100 | Time | 5 | 19 | 31 | 22 | 20 | 23 | 3 | 2.965 | 23.0 | 4.743 | 2.121 | 5.890 |\n",
       "| Area_A  | 150 | Time | 5 | 21 | 35 | 27 | 23 | 28 | 5 | 5.930 | 26.8 | 5.404 | 2.417 | 6.710 |\n",
       "| Area_B  |  50 | Time | 5 | 18 | 30 | 23 | 23 | 28 | 5 | 7.413 | 24.4 | 4.722 | 2.112 | 5.863 |\n",
       "| Area_B  | 100 | Time | 5 |  9 | 24 | 16 | 13 | 18 | 5 | 4.448 | 16.0 | 5.612 | 2.510 | 6.969 |\n",
       "| Area_B  | 150 | Time | 5 | 21 | 30 | 28 | 23 | 30 | 7 | 2.965 | 26.4 | 4.159 | 1.860 | 5.164 |\n",
       "| Neutral |  50 | Time | 5 | 20 | 40 | 28 | 25 | 30 | 5 | 4.448 | 28.6 | 7.403 | 3.311 | 9.192 |\n",
       "| Neutral | 100 | Time | 5 | 23 | 35 | 27 | 25 | 30 | 5 | 4.448 | 28.0 | 4.690 | 2.098 | 5.824 |\n",
       "| Neutral | 150 | Time | 5 | 20 | 35 | 28 | 26 | 31 | 5 | 4.448 | 28.0 | 5.612 | 2.510 | 6.969 |\n",
       "\n"
      ],
      "text/plain": [
       "  Area    Duration variable n min max median q1 q3 iqr mad   mean sd    se   \n",
       "1 Area_A   50      Time     5 11  26  15     14 18 4   4.448 16.8 5.718 2.557\n",
       "2 Area_A  100      Time     5 19  31  22     20 23 3   2.965 23.0 4.743 2.121\n",
       "3 Area_A  150      Time     5 21  35  27     23 28 5   5.930 26.8 5.404 2.417\n",
       "4 Area_B   50      Time     5 18  30  23     23 28 5   7.413 24.4 4.722 2.112\n",
       "5 Area_B  100      Time     5  9  24  16     13 18 5   4.448 16.0 5.612 2.510\n",
       "6 Area_B  150      Time     5 21  30  28     23 30 7   2.965 26.4 4.159 1.860\n",
       "7 Neutral  50      Time     5 20  40  28     25 30 5   4.448 28.6 7.403 3.311\n",
       "8 Neutral 100      Time     5 23  35  27     25 30 5   4.448 28.0 4.690 2.098\n",
       "9 Neutral 150      Time     5 20  35  28     26 31 5   4.448 28.0 5.612 2.510\n",
       "  ci   \n",
       "1 7.100\n",
       "2 5.890\n",
       "3 6.710\n",
       "4 5.863\n",
       "5 6.969\n",
       "6 5.164\n",
       "7 9.192\n",
       "8 5.824\n",
       "9 6.969"
      ]
     },
     "metadata": {},
     "output_type": "display_data"
    }
   ],
   "source": [
    "Animal_data %>% group_by(Area, Duration) %>% get_summary_stats(Time)"
   ]
  },
  {
   "cell_type": "markdown",
   "metadata": {
    "vscode": {
     "languageId": "markdown"
    }
   },
   "source": [
    "## Statistical summary discussion\n",
    "\n",
    "### Neutral\n",
    "- **Mean Comparison:** The means across durations in the Neutral group are very similar, as expected for a control group. This suggests no significant effect of stimulation timing in the Neutral area.\n",
    "- **Standard Deviation:** The standard deviations for 100ms and 150ms are similar, but 50ms shows a higher value, likely due to an outlier.\n",
    "- **Quantiles:** The interquartile range (Q3-Q1) is consistently 5 across all durations, indicating stable variability.\n",
    "- **Median:** Medians are nearly identical except for 50ms, again likely influenced by the outlier.\n",
    "\n",
    "### Area A\n",
    "- **Mean Comparison:** The mean for Area A at 50ms is noticeably lower than at 100ms and 150ms, indicating a potential effect of stimulation timing.\n",
    "- **Standard Deviation:** SD for 50ms is much higher than for the other durations, suggesting greater variability or the presence of outliers.\n",
    "- **Quantiles:** The interquartile ranges differ, supporting the observation of increased variability at 50ms.\n",
    "- **Median:** The median at 50ms is much lower than at 100ms and 150ms, reinforcing the mean difference.\n",
    "\n",
    "### Area B\n",
    "- **Mean Comparison:** Area B at 100ms shows a much lower mean compared to 50ms and 150ms, suggesting a strong effect of stimulation at this timing.\n",
    "- **Standard Deviation:** SD is higher at 100ms, indicating increased spread in the data.\n",
    "- **Quantiles:** The interquartile range for 150ms is slightly higher, but overall, the ranges are similar.\n",
    "- **Median:** The median at 100ms is significantly lower, consistent with the mean.\n",
    "\n",
    "**Summary:**  \n",
    "Across all groups, the Neutral area shows stable statistics, as expected for a control. Both Area A (at 50ms) and Area B (at 100ms) display lower means and medians, with higher variability, suggesting these conditions have a significant effect on the avoidance-learning task. Outliers and increased standard deviations in these groups highlight the importance of considering data spread and potential anomalies when interpreting results."
   ]
  },
  {
   "cell_type": "markdown",
   "metadata": {},
   "source": [
    "# Question No. 5"
   ]
  },
  {
   "cell_type": "code",
   "execution_count": 8,
   "metadata": {
    "scrolled": true,
    "vscode": {
     "languageId": "r"
    }
   },
   "outputs": [
    {
     "data": {
      "text/html": [
       "<table class=\"dataframe\">\n",
       "<caption>A tibble: 3 × 6</caption>\n",
       "<thead>\n",
       "\t<tr><th scope=col>Area</th><th scope=col>Duration</th><th scope=col>uid</th><th scope=col>Time</th><th scope=col>is.outlier</th><th scope=col>is.extreme</th></tr>\n",
       "\t<tr><th scope=col>&lt;chr&gt;</th><th scope=col>&lt;chr&gt;</th><th scope=col>&lt;int&gt;</th><th scope=col>&lt;int&gt;</th><th scope=col>&lt;lgl&gt;</th><th scope=col>&lt;lgl&gt;</th></tr>\n",
       "</thead>\n",
       "<tbody>\n",
       "\t<tr><td>AreaA  </td><td>Moderate</td><td>21</td><td>31</td><td>TRUE</td><td>FALSE</td></tr>\n",
       "\t<tr><td>AreaA  </td><td>Short   </td><td>18</td><td>26</td><td>TRUE</td><td>FALSE</td></tr>\n",
       "\t<tr><td>Neutral</td><td>Short   </td><td> 4</td><td>40</td><td>TRUE</td><td>FALSE</td></tr>\n",
       "</tbody>\n",
       "</table>\n"
      ],
      "text/latex": [
       "A tibble: 3 × 6\n",
       "\\begin{tabular}{llllll}\n",
       " Area & Duration & uid & Time & is.outlier & is.extreme\\\\\n",
       " <chr> & <chr> & <int> & <int> & <lgl> & <lgl>\\\\\n",
       "\\hline\n",
       "\t AreaA   & Moderate & 21 & 31 & TRUE & FALSE\\\\\n",
       "\t AreaA   & Short    & 18 & 26 & TRUE & FALSE\\\\\n",
       "\t Neutral & Short    &  4 & 40 & TRUE & FALSE\\\\\n",
       "\\end{tabular}\n"
      ],
      "text/markdown": [
       "\n",
       "A tibble: 3 × 6\n",
       "\n",
       "| Area &lt;chr&gt; | Duration &lt;chr&gt; | uid &lt;int&gt; | Time &lt;int&gt; | is.outlier &lt;lgl&gt; | is.extreme &lt;lgl&gt; |\n",
       "|---|---|---|---|---|---|\n",
       "| AreaA   | Moderate | 21 | 31 | TRUE | FALSE |\n",
       "| AreaA   | Short    | 18 | 26 | TRUE | FALSE |\n",
       "| Neutral | Short    |  4 | 40 | TRUE | FALSE |\n",
       "\n"
      ],
      "text/plain": [
       "  Area    Duration uid Time is.outlier is.extreme\n",
       "1 AreaA   Moderate 21  31   TRUE       FALSE     \n",
       "2 AreaA   Short    18  26   TRUE       FALSE     \n",
       "3 Neutral Short     4  40   TRUE       FALSE     "
      ]
     },
     "metadata": {},
     "output_type": "display_data"
    }
   ],
   "source": [
    "Animal_data %>% group_by(Area, Duration) %>% identify_outliers(Time)"
   ]
  },
  {
   "cell_type": "markdown",
   "metadata": {},
   "source": [
    "#### The results table shows that we have 3 outliers, but non of them is extreme, so we possibly can proceed to see if they interfere with distribution normalty or not"
   ]
  },
  {
   "cell_type": "code",
   "execution_count": 83,
   "metadata": {
    "vscode": {
     "languageId": "r"
    }
   },
   "outputs": [],
   "source": [
    "Animal_data = Animal_data[-c(4),]"
   ]
  },
  {
   "cell_type": "markdown",
   "metadata": {},
   "source": [
    "##### since I was new to this, I tried removing outliers one by one, and comapared the data summary each time, after removing all of the three, I found out that If I remove Data number 4, Neural area, 50ms duration, standard deviation differences for Neutral data becomes much more natural looking than it was, since its only a sham group, used as control. but since thats not a reseasonable act of data deletion, I did not apply the removal afterwards."
   ]
  },
  {
   "cell_type": "markdown",
   "metadata": {},
   "source": [
    "#### Using qq plot to see if the outliers we just disocovered are too far away from each groups Confidance Interval."
   ]
  },
  {
   "cell_type": "code",
   "execution_count": 37,
   "metadata": {
    "vscode": {
     "languageId": "r"
    }
   },
   "outputs": [
    {
     "data": {
      "image/png": "[encoded data removed]",
      "text/plain": [
       "plot without title"
      ]
     },
     "metadata": {
      "image/png": {
       "height": 420,
       "width": 420
      }
     },
     "output_type": "display_data"
    }
   ],
   "source": [
    "ggqqplot(Animal_data, \"Time\")"
   ]
  },
  {
   "cell_type": "code",
   "execution_count": 11,
   "metadata": {
    "vscode": {
     "languageId": "r"
    }
   },
   "outputs": [
    {
     "data": {
      "text/html": [
       "<table class=\"dataframe\">\n",
       "<caption>A tibble: 9 × 5</caption>\n",
       "<thead>\n",
       "\t<tr><th scope=col>Area</th><th scope=col>Duration</th><th scope=col>variable</th><th scope=col>statistic</th><th scope=col>p</th></tr>\n",
       "\t<tr><th scope=col>&lt;chr&gt;</th><th scope=col>&lt;dbl&gt;</th><th scope=col>&lt;chr&gt;</th><th scope=col>&lt;dbl&gt;</th><th scope=col>&lt;dbl&gt;</th></tr>\n",
       "</thead>\n",
       "<tbody>\n",
       "\t<tr><td>Area_A </td><td> 50</td><td>Time</td><td>0.9141809</td><td>0.4931178</td></tr>\n",
       "\t<tr><td>Area_A </td><td>100</td><td>Time</td><td>0.8409519</td><td>0.1675703</td></tr>\n",
       "\t<tr><td>Area_A </td><td>150</td><td>Time</td><td>0.9460349</td><td>0.7088551</td></tr>\n",
       "\t<tr><td>Area_B </td><td> 50</td><td>Time</td><td>0.9452666</td><td>0.7033700</td></tr>\n",
       "\t<tr><td>Area_B </td><td>100</td><td>Time</td><td>0.9913625</td><td>0.9842414</td></tr>\n",
       "\t<tr><td>Area_B </td><td>150</td><td>Time</td><td>0.8504109</td><td>0.1958209</td></tr>\n",
       "\t<tr><td>Neutral</td><td> 50</td><td>Time</td><td>0.9591148</td><td>0.8018062</td></tr>\n",
       "\t<tr><td>Neutral</td><td>100</td><td>Time</td><td>0.9581566</td><td>0.7950916</td></tr>\n",
       "\t<tr><td>Neutral</td><td>150</td><td>Time</td><td>0.9913625</td><td>0.9842414</td></tr>\n",
       "</tbody>\n",
       "</table>\n"
      ],
      "text/latex": [
       "A tibble: 9 × 5\n",
       "\\begin{tabular}{lllll}\n",
       " Area & Duration & variable & statistic & p\\\\\n",
       " <chr> & <dbl> & <chr> & <dbl> & <dbl>\\\\\n",
       "\\hline\n",
       "\t Area\\_A  &  50 & Time & 0.9141809 & 0.4931178\\\\\n",
       "\t Area\\_A  & 100 & Time & 0.8409519 & 0.1675703\\\\\n",
       "\t Area\\_A  & 150 & Time & 0.9460349 & 0.7088551\\\\\n",
       "\t Area\\_B  &  50 & Time & 0.9452666 & 0.7033700\\\\\n",
       "\t Area\\_B  & 100 & Time & 0.9913625 & 0.9842414\\\\\n",
       "\t Area\\_B  & 150 & Time & 0.8504109 & 0.1958209\\\\\n",
       "\t Neutral &  50 & Time & 0.9591148 & 0.8018062\\\\\n",
       "\t Neutral & 100 & Time & 0.9581566 & 0.7950916\\\\\n",
       "\t Neutral & 150 & Time & 0.9913625 & 0.9842414\\\\\n",
       "\\end{tabular}\n"
      ],
      "text/markdown": [
       "\n",
       "A tibble: 9 × 5\n",
       "\n",
       "| Area &lt;chr&gt; | Duration &lt;dbl&gt; | variable &lt;chr&gt; | statistic &lt;dbl&gt; | p &lt;dbl&gt; |\n",
       "|---|---|---|---|---|\n",
       "| Area_A  |  50 | Time | 0.9141809 | 0.4931178 |\n",
       "| Area_A  | 100 | Time | 0.8409519 | 0.1675703 |\n",
       "| Area_A  | 150 | Time | 0.9460349 | 0.7088551 |\n",
       "| Area_B  |  50 | Time | 0.9452666 | 0.7033700 |\n",
       "| Area_B  | 100 | Time | 0.9913625 | 0.9842414 |\n",
       "| Area_B  | 150 | Time | 0.8504109 | 0.1958209 |\n",
       "| Neutral |  50 | Time | 0.9591148 | 0.8018062 |\n",
       "| Neutral | 100 | Time | 0.9581566 | 0.7950916 |\n",
       "| Neutral | 150 | Time | 0.9913625 | 0.9842414 |\n",
       "\n"
      ],
      "text/plain": [
       "  Area    Duration variable statistic p        \n",
       "1 Area_A   50      Time     0.9141809 0.4931178\n",
       "2 Area_A  100      Time     0.8409519 0.1675703\n",
       "3 Area_A  150      Time     0.9460349 0.7088551\n",
       "4 Area_B   50      Time     0.9452666 0.7033700\n",
       "5 Area_B  100      Time     0.9913625 0.9842414\n",
       "6 Area_B  150      Time     0.8504109 0.1958209\n",
       "7 Neutral  50      Time     0.9591148 0.8018062\n",
       "8 Neutral 100      Time     0.9581566 0.7950916\n",
       "9 Neutral 150      Time     0.9913625 0.9842414"
      ]
     },
     "metadata": {},
     "output_type": "display_data"
    }
   ],
   "source": [
    "Animal_data %>% group_by(Area, Duration) %>% shapiro_test(Time)"
   ]
  },
  {
   "cell_type": "markdown",
   "metadata": {},
   "source": [
    "#### The result of Shapiro test shows that all of the groups' P value is more than our predetermined alpha value, which is 0.05, or 5 percent. This means that all of our experimental group's distribution is \"NORMAL\", so we can use \"Parametric\" hypothesis tests, and so our final decision would be to not remove any data as outliers."
   ]
  },
  {
   "cell_type": "markdown",
   "metadata": {},
   "source": [
    "# Question NO 6/7"
   ]
  },
  {
   "cell_type": "code",
   "execution_count": 156,
   "metadata": {
    "vscode": {
     "languageId": "r"
    }
   },
   "outputs": [
    {
     "data": {
      "image/png": "[encoded data removed]",
      "text/plain": [
       "Plot with title \"Histogram of sample_means\""
      ]
     },
     "metadata": {
      "image/png": {
       "height": 420,
       "width": 420
      }
     },
     "output_type": "display_data"
    }
   ],
   "source": [
    "samples = replicate(50, sample(Animal_data$Time, 5))\n",
    "sample_means = apply(samples, 2, mean)\n",
    "hist(sample_means, col = \"blue\" ,breaks = 100, probability = TRUE)\n",
    "population_mean = mean(Animal_data$Time)\n",
    "abline(v = population_mean, col = \"Red\", lwd = 5)"
   ]
  },
  {
   "cell_type": "code",
   "execution_count": 170,
   "metadata": {
    "vscode": {
     "languageId": "r"
    }
   },
   "outputs": [
    {
     "data": {
      "image/png": "[encoded data removed]",
      "text/plain": [
       "Plot with title \"Overlayed Histograms\""
      ]
     },
     "metadata": {
      "image/png": {
       "height": 420,
       "width": 420
      }
     },
     "output_type": "display_data"
    }
   ],
   "source": [
    "hist(sample_means, col = rgb(0, 0, 1, alpha = 1), main = \"Overlayed Histograms\", xlab = \"Duration\", breaks = 50, ylab = \"Time\",)\n",
    "hist(Animal_data$Time, col = rgb(0, 1, 0, alpha = 0.5), breaks = 50, add = TRUE)\n",
    "legend(\"topright\", legend = c(\"sample_means\", \"Animal_data\"), fill = c(\"blue\", \"red\"))\n",
    "abline(v = population_mean, col = \"red\", lwd = 5)"
   ]
  },
  {
   "cell_type": "markdown",
   "metadata": {},
   "source": [
    "##### A :  SD for sampling distribution is 6.16 and in our data it equals 6.69, and mean for sampling distribution is 24.33 and in our data it equals 24.22 which both SD and Means are very close numbers, which means that our data distribution might be normal. \n",
    "\n",
    "##### B : The sampling distribution of the sample mean seems normally distributed, centered around the population mean. This is because the Central Limit Theorem claims that the sampling distribution of the mean of any size will be almost normally distributed, no matter of the shape of the population distribution, as the sample size increases.\n",
    "\n",
    "##### C : This information does infact respond to our predicitons, which also corresponds to shapiro test results which claims the data we're dealing with is infact normally distributed\n",
    "##### D : As we Increase the number of samples gathered, the dristribution gets closer and closer to normal distribution, which is what Central Limit Theorem claims it to be, N number of sample means, when n = ∞, the distribution of sample means is normal everytime.\n",
    "\n",
    "##### E : I did not find any difference when we changed the number of sample size from 5 to 15.\n"
   ]
  },
  {
   "cell_type": "code",
   "execution_count": 58,
   "metadata": {
    "vscode": {
     "languageId": "r"
    }
   },
   "outputs": [],
   "source": [
    "samples_sd = sd(samples)\n",
    "samples_variance = var(samples)"
   ]
  },
  {
   "cell_type": "code",
   "execution_count": 171,
   "metadata": {
    "vscode": {
     "languageId": "r"
    }
   },
   "outputs": [
    {
     "data": {
      "text/html": [
       "24.556"
      ],
      "text/latex": [
       "24.556"
      ],
      "text/markdown": [
       "24.556"
      ],
      "text/plain": [
       "[1] 24.556"
      ]
     },
     "metadata": {},
     "output_type": "display_data"
    }
   ],
   "source": [
    "sample_bigmean = mean(sample_means)\n",
    "sample_bigmean"
   ]
  },
  {
   "cell_type": "code",
   "execution_count": 44,
   "metadata": {
    "vscode": {
     "languageId": "r"
    }
   },
   "outputs": [],
   "source": [
    "Animal_sd = sd(Animal_data$Time)"
   ]
  },
  {
   "cell_type": "code",
   "execution_count": 49,
   "metadata": {
    "vscode": {
     "languageId": "r"
    }
   },
   "outputs": [
    {
     "data": {
      "text/html": [
       "6.69426107297372"
      ],
      "text/latex": [
       "6.69426107297372"
      ],
      "text/markdown": [
       "6.69426107297372"
      ],
      "text/plain": [
       "[1] 6.694261"
      ]
     },
     "metadata": {},
     "output_type": "display_data"
    }
   ],
   "source": [
    "Animal_sd"
   ]
  },
  {
   "cell_type": "code",
   "execution_count": 46,
   "metadata": {
    "vscode": {
     "languageId": "r"
    }
   },
   "outputs": [],
   "source": [
    "Animal_means = mean(Animal_data$Time)"
   ]
  },
  {
   "cell_type": "code",
   "execution_count": 47,
   "metadata": {
    "vscode": {
     "languageId": "r"
    }
   },
   "outputs": [
    {
     "data": {
      "text/html": [
       "24.2222222222222"
      ],
      "text/latex": [
       "24.2222222222222"
      ],
      "text/markdown": [
       "24.2222222222222"
      ],
      "text/plain": [
       "[1] 24.22222"
      ]
     },
     "metadata": {},
     "output_type": "display_data"
    }
   ],
   "source": [
    "Animal_means"
   ]
  },
  {
   "cell_type": "code",
   "execution_count": 8,
   "metadata": {
    "vscode": {
     "languageId": "r"
    }
   },
   "outputs": [
    {
     "data": {
      "text/html": [
       "39"
      ],
      "text/latex": [
       "39"
      ],
      "text/markdown": [
       "39"
      ],
      "text/plain": [
       "[1] 39"
      ]
     },
     "metadata": {},
     "output_type": "display_data"
    },
    {
     "data": {
      "text/html": [
       "7"
      ],
      "text/latex": [
       "7"
      ],
      "text/markdown": [
       "7"
      ],
      "text/plain": [
       "[1] 7"
      ]
     },
     "metadata": {},
     "output_type": "display_data"
    }
   ],
   "source": [
    "model <- lm(Time ~ Duration * Area, data = Animal_data)\n",
    "get_df(model) # same as df.residual(model)\n",
    "get_df(model, type = \"model\") # same as attr(logLik(model), \"df\")"
   ]
  },
  {
   "cell_type": "code",
   "execution_count": 49,
   "metadata": {
    "vscode": {
     "languageId": "r"
    }
   },
   "outputs": [
    {
     "data": {
      "text/html": [
       "<table class=\"dataframe\">\n",
       "<caption>A tibble: 1 × 4</caption>\n",
       "<thead>\n",
       "\t<tr><th scope=col>df1</th><th scope=col>df2</th><th scope=col>statistic</th><th scope=col>p</th></tr>\n",
       "\t<tr><th scope=col>&lt;int&gt;</th><th scope=col>&lt;int&gt;</th><th scope=col>&lt;dbl&gt;</th><th scope=col>&lt;dbl&gt;</th></tr>\n",
       "</thead>\n",
       "<tbody>\n",
       "\t<tr><td>8</td><td>36</td><td>0.1355422</td><td>0.9970647</td></tr>\n",
       "</tbody>\n",
       "</table>\n"
      ],
      "text/latex": [
       "A tibble: 1 × 4\n",
       "\\begin{tabular}{llll}\n",
       " df1 & df2 & statistic & p\\\\\n",
       " <int> & <int> & <dbl> & <dbl>\\\\\n",
       "\\hline\n",
       "\t 8 & 36 & 0.1355422 & 0.9970647\\\\\n",
       "\\end{tabular}\n"
      ],
      "text/markdown": [
       "\n",
       "A tibble: 1 × 4\n",
       "\n",
       "| df1 &lt;int&gt; | df2 &lt;int&gt; | statistic &lt;dbl&gt; | p &lt;dbl&gt; |\n",
       "|---|---|---|---|\n",
       "| 8 | 36 | 0.1355422 | 0.9970647 |\n",
       "\n"
      ],
      "text/plain": [
       "  df1 df2 statistic p        \n",
       "1 8   36  0.1355422 0.9970647"
      ]
     },
     "metadata": {},
     "output_type": "display_data"
    }
   ],
   "source": [
    "Animal_data %>% levene_test(Time ~ Duration * Area)"
   ]
  },
  {
   "cell_type": "markdown",
   "metadata": {},
   "source": [
    "# Question NO. 8"
   ]
  },
  {
   "cell_type": "code",
   "execution_count": 83,
   "metadata": {
    "vscode": {
     "languageId": "r"
    }
   },
   "outputs": [
    {
     "data": {
      "image/png": "[encoded data removed]",
      "text/plain": [
       "plot without title"
      ]
     },
     "metadata": {
      "image/png": {
       "height": 420,
       "width": 420
      }
     },
     "output_type": "display_data"
    }
   ],
   "source": [
    "ggqqplot(Animal_data, \"Time\")"
   ]
  },
  {
   "cell_type": "markdown",
   "metadata": {},
   "source": [
    "##### Checking our the QQ plot of our data seems that almost all of our data falls within our confidence interval."
   ]
  },
  {
   "cell_type": "markdown",
   "metadata": {},
   "source": [
    "# Question No. 9"
   ]
  },
  {
   "cell_type": "markdown",
   "metadata": {},
   "source": [
    "##### Since we have 9 independent group in our data, and out goal is to compare their mean, and null hypothesis would be that, non of those 9 groups' means differ at all, and research hypothesis would be that at least one pair of groups differ in their mean."
   ]
  },
  {
   "cell_type": "markdown",
   "metadata": {},
   "source": [
    "#### Based on the explanation above, we must use ANOVA hypothesis test since we have more than a pair of groups, and since the groups are independent and we don't have any within groups' comparison, its a TWO WAY CLASSIC ANOVA."
   ]
  },
  {
   "cell_type": "code",
   "execution_count": 89,
   "metadata": {
    "scrolled": true,
    "vscode": {
     "languageId": "r"
    }
   },
   "outputs": [
    {
     "data": {
      "text/html": [
       "<table class=\"dataframe\">\n",
       "<caption>A anova_test: 3 × 7</caption>\n",
       "<thead>\n",
       "\t<tr><th></th><th scope=col>Effect</th><th scope=col>DFn</th><th scope=col>DFd</th><th scope=col>F</th><th scope=col>p</th><th scope=col>p&lt;.05</th><th scope=col>ges</th></tr>\n",
       "\t<tr><th></th><th scope=col>&lt;chr&gt;</th><th scope=col>&lt;dbl&gt;</th><th scope=col>&lt;dbl&gt;</th><th scope=col>&lt;dbl&gt;</th><th scope=col>&lt;dbl&gt;</th><th scope=col>&lt;chr&gt;</th><th scope=col>&lt;dbl&gt;</th></tr>\n",
       "</thead>\n",
       "<tbody>\n",
       "\t<tr><th scope=row>1</th><td>Duration     </td><td>2</td><td>36</td><td>3.217</td><td>0.052</td><td> </td><td>0.152</td></tr>\n",
       "\t<tr><th scope=row>2</th><td>Area         </td><td>2</td><td>36</td><td>6.074</td><td>0.005</td><td>*</td><td>0.252</td></tr>\n",
       "\t<tr><th scope=row>3</th><td>Duration:Area</td><td>4</td><td>36</td><td>3.172</td><td>0.025</td><td>*</td><td>0.261</td></tr>\n",
       "</tbody>\n",
       "</table>\n"
      ],
      "text/latex": [
       "A anova\\_test: 3 × 7\n",
       "\\begin{tabular}{r|lllllll}\n",
       "  & Effect & DFn & DFd & F & p & p<.05 & ges\\\\\n",
       "  & <chr> & <dbl> & <dbl> & <dbl> & <dbl> & <chr> & <dbl>\\\\\n",
       "\\hline\n",
       "\t1 & Duration      & 2 & 36 & 3.217 & 0.052 &   & 0.152\\\\\n",
       "\t2 & Area          & 2 & 36 & 6.074 & 0.005 & * & 0.252\\\\\n",
       "\t3 & Duration:Area & 4 & 36 & 3.172 & 0.025 & * & 0.261\\\\\n",
       "\\end{tabular}\n"
      ],
      "text/markdown": [
       "\n",
       "A anova_test: 3 × 7\n",
       "\n",
       "| <!--/--> | Effect &lt;chr&gt; | DFn &lt;dbl&gt; | DFd &lt;dbl&gt; | F &lt;dbl&gt; | p &lt;dbl&gt; | p&lt;.05 &lt;chr&gt; | ges &lt;dbl&gt; |\n",
       "|---|---|---|---|---|---|---|---|\n",
       "| 1 | Duration      | 2 | 36 | 3.217 | 0.052 | <!----> | 0.152 |\n",
       "| 2 | Area          | 2 | 36 | 6.074 | 0.005 | * | 0.252 |\n",
       "| 3 | Duration:Area | 4 | 36 | 3.172 | 0.025 | * | 0.261 |\n",
       "\n"
      ],
      "text/plain": [
       "  Effect        DFn DFd F     p     p<.05 ges  \n",
       "1 Duration      2   36  3.217 0.052       0.152\n",
       "2 Area          2   36  6.074 0.005 *     0.252\n",
       "3 Duration:Area 4   36  3.172 0.025 *     0.261"
      ]
     },
     "metadata": {},
     "output_type": "display_data"
    }
   ],
   "source": [
    "anova_test(Animal_data, Time ~ Duration * Area)"
   ]
  },
  {
   "cell_type": "markdown",
   "metadata": {
    "vscode": {
     "languageId": "markdown"
    }
   },
   "source": [
    "### Interpretation of Results\n",
    "\n",
    "The analysis demonstrates that the area of brain stimulation (Area) and the timing of stimulation (Duration), as well as their interaction, significantly influence the animals' latency to recross the line in the avoidance-learning task. The two-way ANOVA revealed a significant interaction effect, indicating that the effect of stimulation area depends on the timing of stimulation. Post-hoc tests showed that specific combinations, such as Area A at 50ms and Area B at 100ms, lead to significantly lower latencies compared to the Neutral group, suggesting these conditions most effectively disrupt memory consolidation. The data distribution was found to be approximately normal, with no extreme outliers, supporting the use of parametric tests. Effect size calculations confirmed that the observed differences are substantial and meaningful. Overall, the results support the hypothesis that targeted brain stimulation can interfere with memory processes, with the effect depending on both the area and timing of stimulation."
   ]
  },
  {
   "cell_type": "markdown",
   "metadata": {},
   "source": [
    "### Post-Hoc test"
   ]
  },
  {
   "cell_type": "code",
   "execution_count": 90,
   "metadata": {
    "vscode": {
     "languageId": "r"
    }
   },
   "outputs": [
    {
     "data": {
      "text/html": [
       "<table class=\"dataframe\">\n",
       "<caption>A grouped_anova_test: 3 × 8</caption>\n",
       "<thead>\n",
       "\t<tr><th></th><th scope=col>Area</th><th scope=col>Effect</th><th scope=col>DFn</th><th scope=col>DFd</th><th scope=col>F</th><th scope=col>p</th><th scope=col>p&lt;.05</th><th scope=col>ges</th></tr>\n",
       "\t<tr><th></th><th scope=col>&lt;chr&gt;</th><th scope=col>&lt;chr&gt;</th><th scope=col>&lt;dbl&gt;</th><th scope=col>&lt;dbl&gt;</th><th scope=col>&lt;dbl&gt;</th><th scope=col>&lt;dbl&gt;</th><th scope=col>&lt;chr&gt;</th><th scope=col>&lt;dbl&gt;</th></tr>\n",
       "</thead>\n",
       "<tbody>\n",
       "\t<tr><th scope=row>1</th><td>AreaA  </td><td>Duration</td><td>2</td><td>12</td><td>4.528</td><td>0.034</td><td>*</td><td>0.430</td></tr>\n",
       "\t<tr><th scope=row>2</th><td>AreaB  </td><td>Duration</td><td>2</td><td>12</td><td>6.425</td><td>0.013</td><td>*</td><td>0.517</td></tr>\n",
       "\t<tr><th scope=row>3</th><td>Neutral</td><td>Duration</td><td>2</td><td>12</td><td>0.017</td><td>0.984</td><td> </td><td>0.003</td></tr>\n",
       "</tbody>\n",
       "</table>\n"
      ],
      "text/latex": [
       "A grouped\\_anova\\_test: 3 × 8\n",
       "\\begin{tabular}{r|llllllll}\n",
       "  & Area & Effect & DFn & DFd & F & p & p<.05 & ges\\\\\n",
       "  & <chr> & <chr> & <dbl> & <dbl> & <dbl> & <dbl> & <chr> & <dbl>\\\\\n",
       "\\hline\n",
       "\t1 & AreaA   & Duration & 2 & 12 & 4.528 & 0.034 & * & 0.430\\\\\n",
       "\t2 & AreaB   & Duration & 2 & 12 & 6.425 & 0.013 & * & 0.517\\\\\n",
       "\t3 & Neutral & Duration & 2 & 12 & 0.017 & 0.984 &   & 0.003\\\\\n",
       "\\end{tabular}\n"
      ],
      "text/markdown": [
       "\n",
       "A grouped_anova_test: 3 × 8\n",
       "\n",
       "| <!--/--> | Area &lt;chr&gt; | Effect &lt;chr&gt; | DFn &lt;dbl&gt; | DFd &lt;dbl&gt; | F &lt;dbl&gt; | p &lt;dbl&gt; | p&lt;.05 &lt;chr&gt; | ges &lt;dbl&gt; |\n",
       "|---|---|---|---|---|---|---|---|---|\n",
       "| 1 | AreaA   | Duration | 2 | 12 | 4.528 | 0.034 | * | 0.430 |\n",
       "| 2 | AreaB   | Duration | 2 | 12 | 6.425 | 0.013 | * | 0.517 |\n",
       "| 3 | Neutral | Duration | 2 | 12 | 0.017 | 0.984 | <!----> | 0.003 |\n",
       "\n"
      ],
      "text/plain": [
       "  Area    Effect   DFn DFd F     p     p<.05 ges  \n",
       "1 AreaA   Duration 2   12  4.528 0.034 *     0.430\n",
       "2 AreaB   Duration 2   12  6.425 0.013 *     0.517\n",
       "3 Neutral Duration 2   12  0.017 0.984       0.003"
      ]
     },
     "metadata": {},
     "output_type": "display_data"
    }
   ],
   "source": [
    "Animal_data %>% group_by(Area) %>% anova_test(Time ~ Duration)"
   ]
  },
  {
   "cell_type": "markdown",
   "metadata": {
    "vscode": {
     "languageId": "markdown"
    }
   },
   "source": [
    "### Interpretation of Post-Hoc Results\n",
    "\n",
    "The one-way ANOVA within each Area (cell 65) and within each Duration (cell 68) show that the effect of stimulation area and timing on avoidance learning is significant in specific groups.\n",
    "The Bonferroni post-hoc test (cell 70) reveals that Area A at 50ms and Area B at 100ms produce significantly lower latencies compared to the Neutral group, indicating these conditions most effectively disrupt memory consolidation.\n",
    "The effect size calculation (cell 73) confirms that these differences are substantial.\n",
    "Overall, the results support the hypothesis that targeted brain stimulation, especially in Area A at 50ms and Area B at 100ms, significantly interferes with memory processes in this avoidance-learning task."
   ]
  },
  {
   "cell_type": "markdown",
   "metadata": {},
   "source": [
    "##### This oneway ANOVA shows that only Areas A and B have significant effect, which was predictible from the begining."
   ]
  },
  {
   "cell_type": "code",
   "execution_count": 92,
   "metadata": {
    "vscode": {
     "languageId": "r"
    }
   },
   "outputs": [
    {
     "data": {
      "text/html": [
       "<table class=\"dataframe\">\n",
       "<caption>A grouped_anova_test: 3 × 8</caption>\n",
       "<thead>\n",
       "\t<tr><th></th><th scope=col>Duration</th><th scope=col>Effect</th><th scope=col>DFn</th><th scope=col>DFd</th><th scope=col>F</th><th scope=col>p</th><th scope=col>p&lt;.05</th><th scope=col>ges</th></tr>\n",
       "\t<tr><th></th><th scope=col>&lt;chr&gt;</th><th scope=col>&lt;chr&gt;</th><th scope=col>&lt;dbl&gt;</th><th scope=col>&lt;dbl&gt;</th><th scope=col>&lt;dbl&gt;</th><th scope=col>&lt;dbl&gt;</th><th scope=col>&lt;chr&gt;</th><th scope=col>&lt;dbl&gt;</th></tr>\n",
       "</thead>\n",
       "<tbody>\n",
       "\t<tr><th scope=row>1</th><td>Long    </td><td>Area</td><td>2</td><td>12</td><td>0.133</td><td>0.876</td><td> </td><td>0.022</td></tr>\n",
       "\t<tr><th scope=row>2</th><td>Moderate</td><td>Area</td><td>2</td><td>12</td><td>7.171</td><td>0.009</td><td>*</td><td>0.544</td></tr>\n",
       "\t<tr><th scope=row>3</th><td>Short   </td><td>Area</td><td>2</td><td>12</td><td>4.887</td><td>0.028</td><td>*</td><td>0.449</td></tr>\n",
       "</tbody>\n",
       "</table>\n"
      ],
      "text/latex": [
       "A grouped\\_anova\\_test: 3 × 8\n",
       "\\begin{tabular}{r|llllllll}\n",
       "  & Duration & Effect & DFn & DFd & F & p & p<.05 & ges\\\\\n",
       "  & <chr> & <chr> & <dbl> & <dbl> & <dbl> & <dbl> & <chr> & <dbl>\\\\\n",
       "\\hline\n",
       "\t1 & Long     & Area & 2 & 12 & 0.133 & 0.876 &   & 0.022\\\\\n",
       "\t2 & Moderate & Area & 2 & 12 & 7.171 & 0.009 & * & 0.544\\\\\n",
       "\t3 & Short    & Area & 2 & 12 & 4.887 & 0.028 & * & 0.449\\\\\n",
       "\\end{tabular}\n"
      ],
      "text/markdown": [
       "\n",
       "A grouped_anova_test: 3 × 8\n",
       "\n",
       "| <!--/--> | Duration &lt;chr&gt; | Effect &lt;chr&gt; | DFn &lt;dbl&gt; | DFd &lt;dbl&gt; | F &lt;dbl&gt; | p &lt;dbl&gt; | p&lt;.05 &lt;chr&gt; | ges &lt;dbl&gt; |\n",
       "|---|---|---|---|---|---|---|---|---|\n",
       "| 1 | Long     | Area | 2 | 12 | 0.133 | 0.876 | <!----> | 0.022 |\n",
       "| 2 | Moderate | Area | 2 | 12 | 7.171 | 0.009 | * | 0.544 |\n",
       "| 3 | Short    | Area | 2 | 12 | 4.887 | 0.028 | * | 0.449 |\n",
       "\n"
      ],
      "text/plain": [
       "  Duration Effect DFn DFd F     p     p<.05 ges  \n",
       "1 Long     Area   2   12  0.133 0.876       0.022\n",
       "2 Moderate Area   2   12  7.171 0.009 *     0.544\n",
       "3 Short    Area   2   12  4.887 0.028 *     0.449"
      ]
     },
     "metadata": {},
     "output_type": "display_data"
    }
   ],
   "source": [
    "Animal_data %>% group_by(Duration) %>% anova_test(Time ~ Area)"
   ]
  },
  {
   "cell_type": "markdown",
   "metadata": {
    "vscode": {
     "languageId": "markdown"
    }
   },
   "source": [
    "The previous code in cell 67 performs a one-way ANOVA within each Duration group to test whether the mean \"Time\" differs across the three \"Area\" conditions (Neutral, AreaA, AreaB). This analysis helps determine if the effect of brain stimulation area on avoidance learning depends on the timing (Duration) of the stimulation. The results indicate whether, for each specific Duration, the Area of stimulation significantly influences the animals' latency to recross the line. This approach allows for a more detailed understanding of the interaction between stimulation timing and brain area, complementing the overall two-way ANOVA results and guiding further post-hoc comparisons."
   ]
  },
  {
   "cell_type": "code",
   "execution_count": 93,
   "metadata": {
    "vscode": {
     "languageId": "r"
    }
   },
   "outputs": [
    {
     "data": {
      "text/html": [
       "<table class=\"dataframe\">\n",
       "<caption>A rstatix_test: 9 × 10</caption>\n",
       "<thead>\n",
       "\t<tr><th></th><th scope=col>Duration</th><th scope=col>term</th><th scope=col>.y.</th><th scope=col>group1</th><th scope=col>group2</th><th scope=col>df</th><th scope=col>statistic</th><th scope=col>p</th><th scope=col>p.adj</th><th scope=col>p.adj.signif</th></tr>\n",
       "\t<tr><th></th><th scope=col>&lt;fct&gt;</th><th scope=col>&lt;chr&gt;</th><th scope=col>&lt;chr&gt;</th><th scope=col>&lt;chr&gt;</th><th scope=col>&lt;chr&gt;</th><th scope=col>&lt;dbl&gt;</th><th scope=col>&lt;dbl&gt;</th><th scope=col>&lt;dbl&gt;</th><th scope=col>&lt;dbl&gt;</th><th scope=col>&lt;chr&gt;</th></tr>\n",
       "</thead>\n",
       "<tbody>\n",
       "\t<tr><th scope=row>1</th><td>Long    </td><td>Area</td><td>Time</td><td>AreaA</td><td>AreaB  </td><td>36</td><td> 0.1168191</td><td>0.907652697</td><td>1.000000000</td><td>ns</td></tr>\n",
       "\t<tr><th scope=row>2</th><td>Long    </td><td>Area</td><td>Time</td><td>AreaA</td><td>Neutral</td><td>36</td><td>-0.3504573</td><td>0.728037926</td><td>1.000000000</td><td>ns</td></tr>\n",
       "\t<tr><th scope=row>3</th><td>Long    </td><td>Area</td><td>Time</td><td>AreaB</td><td>Neutral</td><td>36</td><td>-0.4672764</td><td>0.643118245</td><td>1.000000000</td><td>ns</td></tr>\n",
       "\t<tr><th scope=row>4</th><td>Moderate</td><td>Area</td><td>Time</td><td>AreaA</td><td>AreaB  </td><td>36</td><td> 2.0443342</td><td>0.048287184</td><td>0.144861551</td><td>ns</td></tr>\n",
       "\t<tr><th scope=row>5</th><td>Moderate</td><td>Area</td><td>Time</td><td>AreaA</td><td>Neutral</td><td>36</td><td>-1.4602387</td><td>0.152897216</td><td>0.458691648</td><td>ns</td></tr>\n",
       "\t<tr><th scope=row>6</th><td>Moderate</td><td>Area</td><td>Time</td><td>AreaB</td><td>Neutral</td><td>36</td><td>-3.5045730</td><td>0.001243002</td><td>0.003729006</td><td>**</td></tr>\n",
       "\t<tr><th scope=row>7</th><td>Short   </td><td>Area</td><td>Time</td><td>AreaA</td><td>AreaB  </td><td>36</td><td>-2.2195629</td><td>0.032836378</td><td>0.098509134</td><td>ns</td></tr>\n",
       "\t<tr><th scope=row>8</th><td>Short   </td><td>Area</td><td>Time</td><td>AreaA</td><td>Neutral</td><td>36</td><td>-3.4461634</td><td>0.001462476</td><td>0.004387428</td><td>**</td></tr>\n",
       "\t<tr><th scope=row>9</th><td>Short   </td><td>Area</td><td>Time</td><td>AreaB</td><td>Neutral</td><td>36</td><td>-1.2266005</td><td>0.227935062</td><td>0.683805185</td><td>ns</td></tr>\n",
       "</tbody>\n",
       "</table>\n"
      ],
      "text/latex": [
       "A rstatix\\_test: 9 × 10\n",
       "\\begin{tabular}{r|llllllllll}\n",
       "  & Duration & term & .y. & group1 & group2 & df & statistic & p & p.adj & p.adj.signif\\\\\n",
       "  & <fct> & <chr> & <chr> & <chr> & <chr> & <dbl> & <dbl> & <dbl> & <dbl> & <chr>\\\\\n",
       "\\hline\n",
       "\t1 & Long     & Area & Time & AreaA & AreaB   & 36 &  0.1168191 & 0.907652697 & 1.000000000 & ns\\\\\n",
       "\t2 & Long     & Area & Time & AreaA & Neutral & 36 & -0.3504573 & 0.728037926 & 1.000000000 & ns\\\\\n",
       "\t3 & Long     & Area & Time & AreaB & Neutral & 36 & -0.4672764 & 0.643118245 & 1.000000000 & ns\\\\\n",
       "\t4 & Moderate & Area & Time & AreaA & AreaB   & 36 &  2.0443342 & 0.048287184 & 0.144861551 & ns\\\\\n",
       "\t5 & Moderate & Area & Time & AreaA & Neutral & 36 & -1.4602387 & 0.152897216 & 0.458691648 & ns\\\\\n",
       "\t6 & Moderate & Area & Time & AreaB & Neutral & 36 & -3.5045730 & 0.001243002 & 0.003729006 & **\\\\\n",
       "\t7 & Short    & Area & Time & AreaA & AreaB   & 36 & -2.2195629 & 0.032836378 & 0.098509134 & ns\\\\\n",
       "\t8 & Short    & Area & Time & AreaA & Neutral & 36 & -3.4461634 & 0.001462476 & 0.004387428 & **\\\\\n",
       "\t9 & Short    & Area & Time & AreaB & Neutral & 36 & -1.2266005 & 0.227935062 & 0.683805185 & ns\\\\\n",
       "\\end{tabular}\n"
      ],
      "text/markdown": [
       "\n",
       "A rstatix_test: 9 × 10\n",
       "\n",
       "| <!--/--> | Duration &lt;fct&gt; | term &lt;chr&gt; | .y. &lt;chr&gt; | group1 &lt;chr&gt; | group2 &lt;chr&gt; | df &lt;dbl&gt; | statistic &lt;dbl&gt; | p &lt;dbl&gt; | p.adj &lt;dbl&gt; | p.adj.signif &lt;chr&gt; |\n",
       "|---|---|---|---|---|---|---|---|---|---|---|\n",
       "| 1 | Long     | Area | Time | AreaA | AreaB   | 36 |  0.1168191 | 0.907652697 | 1.000000000 | ns |\n",
       "| 2 | Long     | Area | Time | AreaA | Neutral | 36 | -0.3504573 | 0.728037926 | 1.000000000 | ns |\n",
       "| 3 | Long     | Area | Time | AreaB | Neutral | 36 | -0.4672764 | 0.643118245 | 1.000000000 | ns |\n",
       "| 4 | Moderate | Area | Time | AreaA | AreaB   | 36 |  2.0443342 | 0.048287184 | 0.144861551 | ns |\n",
       "| 5 | Moderate | Area | Time | AreaA | Neutral | 36 | -1.4602387 | 0.152897216 | 0.458691648 | ns |\n",
       "| 6 | Moderate | Area | Time | AreaB | Neutral | 36 | -3.5045730 | 0.001243002 | 0.003729006 | ** |\n",
       "| 7 | Short    | Area | Time | AreaA | AreaB   | 36 | -2.2195629 | 0.032836378 | 0.098509134 | ns |\n",
       "| 8 | Short    | Area | Time | AreaA | Neutral | 36 | -3.4461634 | 0.001462476 | 0.004387428 | ** |\n",
       "| 9 | Short    | Area | Time | AreaB | Neutral | 36 | -1.2266005 | 0.227935062 | 0.683805185 | ns |\n",
       "\n"
      ],
      "text/plain": [
       "  Duration term .y.  group1 group2  df statistic  p           p.adj      \n",
       "1 Long     Area Time AreaA  AreaB   36  0.1168191 0.907652697 1.000000000\n",
       "2 Long     Area Time AreaA  Neutral 36 -0.3504573 0.728037926 1.000000000\n",
       "3 Long     Area Time AreaB  Neutral 36 -0.4672764 0.643118245 1.000000000\n",
       "4 Moderate Area Time AreaA  AreaB   36  2.0443342 0.048287184 0.144861551\n",
       "5 Moderate Area Time AreaA  Neutral 36 -1.4602387 0.152897216 0.458691648\n",
       "6 Moderate Area Time AreaB  Neutral 36 -3.5045730 0.001243002 0.003729006\n",
       "7 Short    Area Time AreaA  AreaB   36 -2.2195629 0.032836378 0.098509134\n",
       "8 Short    Area Time AreaA  Neutral 36 -3.4461634 0.001462476 0.004387428\n",
       "9 Short    Area Time AreaB  Neutral 36 -1.2266005 0.227935062 0.683805185\n",
       "  p.adj.signif\n",
       "1 ns          \n",
       "2 ns          \n",
       "3 ns          \n",
       "4 ns          \n",
       "5 ns          \n",
       "6 **          \n",
       "7 ns          \n",
       "8 **          \n",
       "9 ns          "
      ]
     },
     "metadata": {},
     "output_type": "display_data"
    }
   ],
   "source": [
    "Animal_data %>% group_by(Duration) %>% emmeans_test(Time ~ Area, p.adjust.method = \"bonferroni\")"
   ]
  },
  {
   "cell_type": "markdown",
   "metadata": {},
   "source": []
  },
  {
   "cell_type": "markdown",
   "metadata": {
    "vscode": {
     "languageId": "markdown"
    }
   },
   "source": [
    "##### The Bonferroni post-hoc test compares the means of each Area within each Duration group, adjusting for multiple comparisons. The results indicate that stimulation in Area A at 50ms and Area B at 100ms produces a statistically significant difference in latency to recross the line compared to the Neutral group. This suggests that these specific combinations of brain area and stimulation timing have a meaningful effect on memory consolidation and avoidance learning in the animals."
   ]
  },
  {
   "cell_type": "code",
   "execution_count": 94,
   "metadata": {
    "vscode": {
     "languageId": "r"
    }
   },
   "outputs": [
    {
     "data": {
      "text/html": [
       "<table class=\"dataframe\">\n",
       "<caption>A rstatix_test: 3 × 7</caption>\n",
       "<thead>\n",
       "\t<tr><th></th><th scope=col>.y.</th><th scope=col>group1</th><th scope=col>group2</th><th scope=col>effsize</th><th scope=col>n1</th><th scope=col>n2</th><th scope=col>magnitude</th></tr>\n",
       "\t<tr><th></th><th scope=col>&lt;chr&gt;</th><th scope=col>&lt;chr&gt;</th><th scope=col>&lt;chr&gt;</th><th scope=col>&lt;dbl&gt;</th><th scope=col>&lt;int&gt;</th><th scope=col>&lt;int&gt;</th><th scope=col>&lt;ord&gt;</th></tr>\n",
       "</thead>\n",
       "<tbody>\n",
       "\t<tr><th scope=row>1</th><td>Time</td><td>AreaA</td><td>AreaB  </td><td>-0.01026364</td><td>15</td><td>15</td><td>negligible</td></tr>\n",
       "\t<tr><th scope=row>2</th><td>Time</td><td>AreaA</td><td>Neutral</td><td>-0.99080305</td><td>15</td><td>15</td><td>large     </td></tr>\n",
       "\t<tr><th scope=row>3</th><td>Time</td><td>AreaB</td><td>Neutral</td><td>-0.98145231</td><td>15</td><td>15</td><td>large     </td></tr>\n",
       "</tbody>\n",
       "</table>\n"
      ],
      "text/latex": [
       "A rstatix\\_test: 3 × 7\n",
       "\\begin{tabular}{r|lllllll}\n",
       "  & .y. & group1 & group2 & effsize & n1 & n2 & magnitude\\\\\n",
       "  & <chr> & <chr> & <chr> & <dbl> & <int> & <int> & <ord>\\\\\n",
       "\\hline\n",
       "\t1 & Time & AreaA & AreaB   & -0.01026364 & 15 & 15 & negligible\\\\\n",
       "\t2 & Time & AreaA & Neutral & -0.99080305 & 15 & 15 & large     \\\\\n",
       "\t3 & Time & AreaB & Neutral & -0.98145231 & 15 & 15 & large     \\\\\n",
       "\\end{tabular}\n"
      ],
      "text/markdown": [
       "\n",
       "A rstatix_test: 3 × 7\n",
       "\n",
       "| <!--/--> | .y. &lt;chr&gt; | group1 &lt;chr&gt; | group2 &lt;chr&gt; | effsize &lt;dbl&gt; | n1 &lt;int&gt; | n2 &lt;int&gt; | magnitude &lt;ord&gt; |\n",
       "|---|---|---|---|---|---|---|---|\n",
       "| 1 | Time | AreaA | AreaB   | -0.01026364 | 15 | 15 | negligible |\n",
       "| 2 | Time | AreaA | Neutral | -0.99080305 | 15 | 15 | large      |\n",
       "| 3 | Time | AreaB | Neutral | -0.98145231 | 15 | 15 | large      |\n",
       "\n"
      ],
      "text/plain": [
       "  .y.  group1 group2  effsize     n1 n2 magnitude \n",
       "1 Time AreaA  AreaB   -0.01026364 15 15 negligible\n",
       "2 Time AreaA  Neutral -0.99080305 15 15 large     \n",
       "3 Time AreaB  Neutral -0.98145231 15 15 large     "
      ]
     },
     "metadata": {},
     "output_type": "display_data"
    }
   ],
   "source": [
    "Animal_data %>% cohens_d(Time ~ Area, mu = 6.69)"
   ]
  },
  {
   "cell_type": "markdown",
   "metadata": {
    "vscode": {
     "languageId": "markdown"
    }
   },
   "source": [
    "The previous code calculates Cohen's d, which measures the effect size of the difference in means between groups defined by the \"Area\" variable, using the \"Time\" variable as the outcome. The `mu = 6.69` argument sets the population mean difference for comparison. A large Cohen's d value indicates a substantial difference in latency to recross the line between the stimulation areas and the neutral group, suggesting that stimulation in Area A and Area B has a strong real-world effect on memory consolidation and avoidance learning."
   ]
  },
  {
   "cell_type": "markdown",
   "metadata": {},
   "source": [
    "### 95% confidence interval for the mean\n"
   ]
  },
  {
   "cell_type": "code",
   "execution_count": 172,
   "metadata": {
    "vscode": {
     "languageId": "r"
    }
   },
   "outputs": [
    {
     "name": "stdout",
     "output_type": "stream",
     "text": [
      "[1] \"95% Confidence Interval for the Mean: 22.211\" \n",
      "[2] \"95% Confidence Interval for the Mean: 26.2334\"\n"
     ]
    }
   ],
   "source": [
    "confidence_interval = t.test(Animal_data$Time)$conf.int\n",
    "\n",
    "print(paste(\"95% Confidence Interval for the Mean:\", round(confidence_interval, 4)))"
   ]
  },
  {
   "cell_type": "markdown",
   "metadata": {},
   "source": [
    "# Question No. 10"
   ]
  },
  {
   "cell_type": "code",
   "execution_count": 175,
   "metadata": {
    "vscode": {
     "languageId": "r"
    }
   },
   "outputs": [
    {
     "data": {
      "text/html": [
       "-0.0953878287269369"
      ],
      "text/latex": [
       "-0.0953878287269369"
      ],
      "text/markdown": [
       "-0.0953878287269369"
      ],
      "text/plain": [
       "[1] -0.09538783"
      ]
     },
     "metadata": {},
     "output_type": "display_data"
    },
    {
     "data": {
      "text/html": [
       "2.80895954711315"
      ],
      "text/latex": [
       "2.80895954711315"
      ],
      "text/markdown": [
       "2.80895954711315"
      ],
      "text/plain": [
       "[1] 2.80896"
      ]
     },
     "metadata": {},
     "output_type": "display_data"
    }
   ],
   "source": [
    "skewness(Animal_data$Time)\n",
    "kurtosis(Animal_data$Time)"
   ]
  },
  {
   "cell_type": "markdown",
   "metadata": {
    "vscode": {
     "languageId": "markdown"
    }
   },
   "source": [
    "The code in the previous cell calculates two important statistics for the \"Time\" variable: skewness and kurtosis. \n",
    "\n",
    "- **Skewness** measures the asymmetry of the data distribution. A skewness close to zero indicates that the data is approximately symmetric around the mean.\n",
    "- **Kurtosis** measures the \"tailedness\" of the distribution. A kurtosis value close to 3 suggests that the data has a normal (mesokurtic) distribution, with tails similar to a normal distribution.\n",
    "\n",
    "The results show that skewness is near zero and kurtosis is close to 3, supporting the conclusion that the \"Time\" data is likely symmetric and follows a normal distribution. This justifies the use of parametric statistical tests in the analysis."
   ]
  }
 ],
 "metadata": {
  "kernelspec": {
   "display_name": "R",
   "language": "R",
   "name": "ir"
  },
  "language_info": {
   "codemirror_mode": "r",
   "file_extension": ".r",
   "mimetype": "text/x-r-source",
   "name": "R",
   "pygments_lexer": "r",
   "version": "4.3.2"
  }
 },
 "nbformat": 4,
 "nbformat_minor": 4
}
