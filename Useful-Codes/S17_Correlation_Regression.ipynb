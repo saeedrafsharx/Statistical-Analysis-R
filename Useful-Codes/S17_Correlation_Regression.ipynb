{
 "cells": [
  {
   "cell_type": "markdown",
   "id": "f8382688-bbd2-4536-ade5-e0e4fd353fc3",
   "metadata": {},
   "source": [
    "Covariance jahate rabete ro neshon mide -> + ya - pas ba meghdare Cov tahili nmikonim. \n",
    "correlation magnitude ro neshun mide va mishe ba meghdaresh tahlil kard.\n",
    "Cov = Cov/V(x)V(y), leza mishe ham ruye alamat ya jahate rabete bahs kard ham shed'date rabete, bayad dar kenare adade Cor, yek P value ham dashte bashim ta ghezavat konim.\n",
    "\n",
    "harja hadaf pishbini hast mirim soraghe Regression."
   ]
  },
  {
   "cell_type": "code",
   "execution_count": 25,
   "id": "899b5372-fb56-4c1b-8a00-89c6b8ba48c2",
   "metadata": {},
   "outputs": [],
   "source": [
    "RDM = data.frame(\n",
    "    MRT=c(0.9,1.8,2.4,3.5,3.9,4.4,5.1,5.6,6.3),\n",
    "    DM=c(1.4,2.6,1,3.7,5.5,3.2,3,4.9,6.3))"
   ]
  },
  {
   "cell_type": "code",
   "execution_count": 26,
   "id": "39df05bd-51a4-4fd7-8683-987da561b6a6",
   "metadata": {},
   "outputs": [
    {
     "data": {
      "text/html": [
       "<table class=\"dataframe\">\n",
       "<caption>A data.frame: 9 × 2</caption>\n",
       "<thead>\n",
       "\t<tr><th scope=col>MRT</th><th scope=col>DM</th></tr>\n",
       "\t<tr><th scope=col>&lt;dbl&gt;</th><th scope=col>&lt;dbl&gt;</th></tr>\n",
       "</thead>\n",
       "<tbody>\n",
       "\t<tr><td>0.9</td><td>1.4</td></tr>\n",
       "\t<tr><td>1.8</td><td>2.6</td></tr>\n",
       "\t<tr><td>2.4</td><td>1.0</td></tr>\n",
       "\t<tr><td>3.5</td><td>3.7</td></tr>\n",
       "\t<tr><td>3.9</td><td>5.5</td></tr>\n",
       "\t<tr><td>4.4</td><td>3.2</td></tr>\n",
       "\t<tr><td>5.1</td><td>3.0</td></tr>\n",
       "\t<tr><td>5.6</td><td>4.9</td></tr>\n",
       "\t<tr><td>6.3</td><td>6.3</td></tr>\n",
       "</tbody>\n",
       "</table>\n"
      ],
      "text/latex": [
       "A data.frame: 9 × 2\n",
       "\\begin{tabular}{ll}\n",
       " MRT & DM\\\\\n",
       " <dbl> & <dbl>\\\\\n",
       "\\hline\n",
       "\t 0.9 & 1.4\\\\\n",
       "\t 1.8 & 2.6\\\\\n",
       "\t 2.4 & 1.0\\\\\n",
       "\t 3.5 & 3.7\\\\\n",
       "\t 3.9 & 5.5\\\\\n",
       "\t 4.4 & 3.2\\\\\n",
       "\t 5.1 & 3.0\\\\\n",
       "\t 5.6 & 4.9\\\\\n",
       "\t 6.3 & 6.3\\\\\n",
       "\\end{tabular}\n"
      ],
      "text/markdown": [
       "\n",
       "A data.frame: 9 × 2\n",
       "\n",
       "| MRT &lt;dbl&gt; | DM &lt;dbl&gt; |\n",
       "|---|---|\n",
       "| 0.9 | 1.4 |\n",
       "| 1.8 | 2.6 |\n",
       "| 2.4 | 1.0 |\n",
       "| 3.5 | 3.7 |\n",
       "| 3.9 | 5.5 |\n",
       "| 4.4 | 3.2 |\n",
       "| 5.1 | 3.0 |\n",
       "| 5.6 | 4.9 |\n",
       "| 6.3 | 6.3 |\n",
       "\n"
      ],
      "text/plain": [
       "  MRT DM \n",
       "1 0.9 1.4\n",
       "2 1.8 2.6\n",
       "3 2.4 1.0\n",
       "4 3.5 3.7\n",
       "5 3.9 5.5\n",
       "6 4.4 3.2\n",
       "7 5.1 3.0\n",
       "8 5.6 4.9\n",
       "9 6.3 6.3"
      ]
     },
     "metadata": {},
     "output_type": "display_data"
    }
   ],
   "source": [
    "RDM"
   ]
  },
  {
   "cell_type": "code",
   "execution_count": 28,
   "id": "21b95901-a1da-4ab8-be2a-940a0b16b7cc",
   "metadata": {},
   "outputs": [
    {
     "data": {
      "image/png": "[encoded data removed]",
      "text/plain": [
       "plot without title"
      ]
     },
     "metadata": {
      "image/png": {
       "height": 420,
       "width": 420
      }
     },
     "output_type": "display_data"
    }
   ],
   "source": [
    "plot(RDM)\n",
    "abline(RDM_Reg)"
   ]
  },
  {
   "cell_type": "code",
   "execution_count": 21,
   "id": "cfa9a21d-8d94-4090-bfc0-49f8dc15f64a",
   "metadata": {},
   "outputs": [
    {
     "data": {
      "text/plain": [
       "\n",
       "Call:\n",
       "lm(formula = DM ~ MRT, data = RDM)\n",
       "\n",
       "Coefficients:\n",
       "(Intercept)          MRT  \n",
       "     0.5813       0.7778  \n"
      ]
     },
     "metadata": {},
     "output_type": "display_data"
    }
   ],
   "source": [
    "lm(DM~MRT, data = RDM)"
   ]
  },
  {
   "cell_type": "markdown",
   "id": "c9a83631-6749-4d35-9a85-285e4fe9b1db",
   "metadata": {},
   "source": [
    "A = MRT, B= Intercept"
   ]
  },
  {
   "cell_type": "code",
   "execution_count": 6,
   "id": "24a5766e-763f-46c6-8e52-75e9e39b3656",
   "metadata": {},
   "outputs": [],
   "source": [
    "RDM_Reg = lm(DM~MRT, data = RDM)"
   ]
  },
  {
   "cell_type": "code",
   "execution_count": 7,
   "id": "c471e13e-3134-4028-9528-8acbfa7de228",
   "metadata": {},
   "outputs": [
    {
     "data": {
      "text/plain": [
       "\n",
       "Call:\n",
       "lm(formula = DM ~ MRT, data = RDM)\n",
       "\n",
       "Residuals:\n",
       "    Min      1Q  Median      3Q     Max \n",
       "-1.5482 -0.8037  0.1186  0.6186  1.8852 \n",
       "\n",
       "Coefficients:\n",
       "            Estimate Std. Error t value Pr(>|t|)  \n",
       "(Intercept)   0.5813     0.9647   0.603   0.5658  \n",
       "MRT           0.7778     0.2334   3.332   0.0126 *\n",
       "---\n",
       "Signif. codes:  0 '***' 0.001 '**' 0.01 '*' 0.05 '.' 0.1 ' ' 1\n",
       "\n",
       "Residual standard error: 1.19 on 7 degrees of freedom\n",
       "Multiple R-squared:  0.6133,\tAdjusted R-squared:  0.558 \n",
       "F-statistic:  11.1 on 1 and 7 DF,  p-value: 0.01256\n"
      ]
     },
     "metadata": {},
     "output_type": "display_data"
    }
   ],
   "source": [
    "summary(RDM_Reg)"
   ]
  },
  {
   "cell_type": "markdown",
   "id": "bc58147d-9933-4f7a-ba87-ce6eb1e25c70",
   "metadata": {},
   "source": [
    "Halate ideal in mishe ke Median nazdik sefr bere, 1Q va 3Q nazdik be ham bashan va min o max ham bhamin surat. R-squared ham jaye gozine R hast ke meghdaresh ghabel tahlile."
   ]
  },
  {
   "cell_type": "markdown",
   "id": "7646e8da-ff4f-4156-b7e7-0fdc6be82e61",
   "metadata": {},
   "source": [
    "# Second Example"
   ]
  },
  {
   "cell_type": "code",
   "execution_count": 29,
   "id": "37db5242-8996-4dd7-aa85-cbbcf4410510",
   "metadata": {},
   "outputs": [],
   "source": [
    "RDM_data = data.frame(\n",
    "    MRT_wm=c(0.9,1.8,2.4,3.5,3.9,4.4,5.1,5.6,6.3),\n",
    "    MRT_ic=c(0.7,1.3,0.7,2,3.6,3,2.9,3.9,4),\n",
    "    DM=c(1.4,2.6,1,3.7,5.5,3.2,3,4.9,6.3))"
   ]
  },
  {
   "cell_type": "code",
   "execution_count": 30,
   "id": "897466d9-cd4b-4b8d-ada9-2085eb96a4f5",
   "metadata": {},
   "outputs": [
    {
     "data": {
      "text/html": [
       "<table class=\"dataframe\">\n",
       "<caption>A data.frame: 9 × 3</caption>\n",
       "<thead>\n",
       "\t<tr><th scope=col>MRT_wm</th><th scope=col>MRT_ic</th><th scope=col>DM</th></tr>\n",
       "\t<tr><th scope=col>&lt;dbl&gt;</th><th scope=col>&lt;dbl&gt;</th><th scope=col>&lt;dbl&gt;</th></tr>\n",
       "</thead>\n",
       "<tbody>\n",
       "\t<tr><td>0.9</td><td>0.7</td><td>1.4</td></tr>\n",
       "\t<tr><td>1.8</td><td>1.3</td><td>2.6</td></tr>\n",
       "\t<tr><td>2.4</td><td>0.7</td><td>1.0</td></tr>\n",
       "\t<tr><td>3.5</td><td>2.0</td><td>3.7</td></tr>\n",
       "\t<tr><td>3.9</td><td>3.6</td><td>5.5</td></tr>\n",
       "\t<tr><td>4.4</td><td>3.0</td><td>3.2</td></tr>\n",
       "\t<tr><td>5.1</td><td>2.9</td><td>3.0</td></tr>\n",
       "\t<tr><td>5.6</td><td>3.9</td><td>4.9</td></tr>\n",
       "\t<tr><td>6.3</td><td>4.0</td><td>6.3</td></tr>\n",
       "</tbody>\n",
       "</table>\n"
      ],
      "text/latex": [
       "A data.frame: 9 × 3\n",
       "\\begin{tabular}{lll}\n",
       " MRT\\_wm & MRT\\_ic & DM\\\\\n",
       " <dbl> & <dbl> & <dbl>\\\\\n",
       "\\hline\n",
       "\t 0.9 & 0.7 & 1.4\\\\\n",
       "\t 1.8 & 1.3 & 2.6\\\\\n",
       "\t 2.4 & 0.7 & 1.0\\\\\n",
       "\t 3.5 & 2.0 & 3.7\\\\\n",
       "\t 3.9 & 3.6 & 5.5\\\\\n",
       "\t 4.4 & 3.0 & 3.2\\\\\n",
       "\t 5.1 & 2.9 & 3.0\\\\\n",
       "\t 5.6 & 3.9 & 4.9\\\\\n",
       "\t 6.3 & 4.0 & 6.3\\\\\n",
       "\\end{tabular}\n"
      ],
      "text/markdown": [
       "\n",
       "A data.frame: 9 × 3\n",
       "\n",
       "| MRT_wm &lt;dbl&gt; | MRT_ic &lt;dbl&gt; | DM &lt;dbl&gt; |\n",
       "|---|---|---|\n",
       "| 0.9 | 0.7 | 1.4 |\n",
       "| 1.8 | 1.3 | 2.6 |\n",
       "| 2.4 | 0.7 | 1.0 |\n",
       "| 3.5 | 2.0 | 3.7 |\n",
       "| 3.9 | 3.6 | 5.5 |\n",
       "| 4.4 | 3.0 | 3.2 |\n",
       "| 5.1 | 2.9 | 3.0 |\n",
       "| 5.6 | 3.9 | 4.9 |\n",
       "| 6.3 | 4.0 | 6.3 |\n",
       "\n"
      ],
      "text/plain": [
       "  MRT_wm MRT_ic DM \n",
       "1 0.9    0.7    1.4\n",
       "2 1.8    1.3    2.6\n",
       "3 2.4    0.7    1.0\n",
       "4 3.5    2.0    3.7\n",
       "5 3.9    3.6    5.5\n",
       "6 4.4    3.0    3.2\n",
       "7 5.1    2.9    3.0\n",
       "8 5.6    3.9    4.9\n",
       "9 6.3    4.0    6.3"
      ]
     },
     "metadata": {},
     "output_type": "display_data"
    }
   ],
   "source": [
    "RDM_data"
   ]
  },
  {
   "cell_type": "code",
   "execution_count": 36,
   "id": "79d7092b-ee32-448d-9cf3-562f606b26c1",
   "metadata": {},
   "outputs": [
    {
     "data": {
      "image/png": "[encoded data removed]",
      "text/plain": [
       "plot without title"
      ]
     },
     "metadata": {
      "image/png": {
       "height": 420,
       "width": 420
      }
     },
     "output_type": "display_data"
    }
   ],
   "source": [
    "plot(RDM_data)"
   ]
  },
  {
   "cell_type": "code",
   "execution_count": 32,
   "id": "87d1c9ac-7572-4c3f-8cb3-7c93316bcc4d",
   "metadata": {},
   "outputs": [
    {
     "data": {
      "text/plain": [
       "\n",
       "Call:\n",
       "lm(formula = DM ~ MRT_wm * MRT_ic, data = RDM_data)\n",
       "\n",
       "Coefficients:\n",
       "  (Intercept)         MRT_wm         MRT_ic  MRT_wm:MRT_ic  \n",
       "      1.34232       -0.57578        1.31474        0.09911  \n"
      ]
     },
     "metadata": {},
     "output_type": "display_data"
    }
   ],
   "source": [
    "lm(DM~MRT_wm*MRT_ic, data = RDM_data)"
   ]
  },
  {
   "cell_type": "code",
   "execution_count": 33,
   "id": "814ff0c6-b088-4930-b042-d20e58cdef78",
   "metadata": {},
   "outputs": [],
   "source": [
    "Multiple_Reg = lm(DM~MRT_wm+MRT_ic, data = RDM_data)"
   ]
  },
  {
   "cell_type": "code",
   "execution_count": 34,
   "id": "b7dc0b4d-7b4f-4f59-993e-dcc10eead508",
   "metadata": {},
   "outputs": [
    {
     "data": {
      "text/plain": [
       "\n",
       "Call:\n",
       "lm(formula = DM ~ MRT_wm + MRT_ic, data = RDM_data)\n",
       "\n",
       "Residuals:\n",
       "     Min       1Q   Median       3Q      Max \n",
       "-0.99928 -0.38648 -0.06967  0.34454  1.07932 \n",
       "\n",
       "Coefficients:\n",
       "            Estimate Std. Error t value Pr(>|t|)  \n",
       "(Intercept)   0.7070     0.6510   1.086   0.3192  \n",
       "MRT_wm       -0.3293     0.3933  -0.837   0.4345  \n",
       "MRT_ic        1.6470     0.5363   3.071   0.0219 *\n",
       "---\n",
       "Signif. codes:  0 '***' 0.001 '**' 0.01 '*' 0.05 '.' 0.1 ' ' 1\n",
       "\n",
       "Residual standard error: 0.8017 on 6 degrees of freedom\n",
       "Multiple R-squared:  0.8496,\tAdjusted R-squared:  0.7995 \n",
       "F-statistic: 16.95 on 2 and 6 DF,  p-value: 0.003399\n"
      ]
     },
     "metadata": {},
     "output_type": "display_data"
    }
   ],
   "source": [
    "summary(Multiple_Reg)"
   ]
  },
  {
   "cell_type": "code",
   "execution_count": null,
   "id": "6062a4eb-a3eb-4f79-9886-d43de9819ba2",
   "metadata": {},
   "outputs": [],
   "source": []
  }
 ],
 "metadata": {
  "kernelspec": {
   "display_name": "R",
   "language": "R",
   "name": "ir"
  },
  "language_info": {
   "codemirror_mode": "r",
   "file_extension": ".r",
   "mimetype": "text/x-r-source",
   "name": "R",
   "pygments_lexer": "r",
   "version": "4.3.2"
  }
 },
 "nbformat": 4,
 "nbformat_minor": 5
}
