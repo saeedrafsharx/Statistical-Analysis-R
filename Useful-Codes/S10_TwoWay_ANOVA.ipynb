{
 "cells": [
  {
   "cell_type": "code",
   "execution_count": 4,
   "id": "61026fee-7f95-463b-a53c-86d449f907f0",
   "metadata": {},
   "outputs": [],
   "source": [
    "library(datarium)"
   ]
  },
  {
   "cell_type": "code",
   "execution_count": 2,
   "id": "2cb53c7b-8ff3-408d-a1b6-eb1b1aea488d",
   "metadata": {},
   "outputs": [
    {
     "name": "stderr",
     "output_type": "stream",
     "text": [
      "\n",
      "Attaching package: 'rstatix'\n",
      "\n",
      "\n",
      "The following object is masked from 'package:stats':\n",
      "\n",
      "    filter\n",
      "\n",
      "\n"
     ]
    }
   ],
   "source": [
    "library(rstatix)"
   ]
  },
  {
   "cell_type": "code",
   "execution_count": 3,
   "id": "98730f3d-cbfb-4507-b886-779a95c8b969",
   "metadata": {},
   "outputs": [
    {
     "name": "stderr",
     "output_type": "stream",
     "text": [
      "Loading required package: ggplot2\n",
      "\n"
     ]
    }
   ],
   "source": [
    "library(ggpubr)"
   ]
  },
  {
   "cell_type": "code",
   "execution_count": 5,
   "id": "b297ce62-167e-4af2-aef7-a4b28416be41",
   "metadata": {},
   "outputs": [],
   "source": [
    "data(\"performance\", package = \"datarium\")"
   ]
  },
  {
   "cell_type": "code",
   "execution_count": 5,
   "id": "9dafa1c9-0185-426b-87a3-2c15574f52a5",
   "metadata": {},
   "outputs": [
    {
     "data": {
      "text/html": [
       "<table class=\"dataframe\">\n",
       "<caption>A tibble: 60 × 5</caption>\n",
       "<thead>\n",
       "\t<tr><th scope=col>id</th><th scope=col>gender</th><th scope=col>stress</th><th scope=col>t1</th><th scope=col>t2</th></tr>\n",
       "\t<tr><th scope=col>&lt;int&gt;</th><th scope=col>&lt;fct&gt;</th><th scope=col>&lt;fct&gt;</th><th scope=col>&lt;dbl&gt;</th><th scope=col>&lt;dbl&gt;</th></tr>\n",
       "</thead>\n",
       "<tbody>\n",
       "\t<tr><td> 1</td><td>male  </td><td>low     </td><td>5.964417</td><td>5.578506</td></tr>\n",
       "\t<tr><td> 2</td><td>male  </td><td>low     </td><td>5.506574</td><td>5.819924</td></tr>\n",
       "\t<tr><td> 3</td><td>male  </td><td>low     </td><td>5.625011</td><td>5.471414</td></tr>\n",
       "\t<tr><td> 4</td><td>male  </td><td>low     </td><td>5.710243</td><td>5.786593</td></tr>\n",
       "\t<tr><td> 5</td><td>male  </td><td>low     </td><td>5.736350</td><td>5.718538</td></tr>\n",
       "\t<tr><td> 6</td><td>male  </td><td>low     </td><td>5.616418</td><td>5.680656</td></tr>\n",
       "\t<tr><td> 7</td><td>male  </td><td>low     </td><td>5.476803</td><td>5.598871</td></tr>\n",
       "\t<tr><td> 8</td><td>male  </td><td>low     </td><td>5.644752</td><td>5.919890</td></tr>\n",
       "\t<tr><td> 9</td><td>male  </td><td>low     </td><td>6.057531</td><td>5.839342</td></tr>\n",
       "\t<tr><td>10</td><td>male  </td><td>low     </td><td>5.864048</td><td>5.573202</td></tr>\n",
       "\t<tr><td>11</td><td>male  </td><td>moderate</td><td>5.850000</td><td>5.745430</td></tr>\n",
       "\t<tr><td>12</td><td>male  </td><td>moderate</td><td>5.535620</td><td>5.777104</td></tr>\n",
       "\t<tr><td>13</td><td>male  </td><td>moderate</td><td>5.580000</td><td>5.528082</td></tr>\n",
       "\t<tr><td>14</td><td>male  </td><td>moderate</td><td>5.571208</td><td>5.672252</td></tr>\n",
       "\t<tr><td>15</td><td>male  </td><td>moderate</td><td>5.957600</td><td>5.977485</td></tr>\n",
       "\t<tr><td>16</td><td>male  </td><td>moderate</td><td>6.012326</td><td>5.855019</td></tr>\n",
       "\t<tr><td>17</td><td>male  </td><td>moderate</td><td>5.672864</td><td>5.576906</td></tr>\n",
       "\t<tr><td>18</td><td>male  </td><td>moderate</td><td>5.572448</td><td>5.780541</td></tr>\n",
       "\t<tr><td>19</td><td>male  </td><td>moderate</td><td>5.906073</td><td>5.757992</td></tr>\n",
       "\t<tr><td>20</td><td>male  </td><td>moderate</td><td>5.517768</td><td>6.016235</td></tr>\n",
       "\t<tr><td>21</td><td>male  </td><td>high    </td><td>5.233304</td><td>5.635632</td></tr>\n",
       "\t<tr><td>22</td><td>male  </td><td>high    </td><td>5.562025</td><td>5.295316</td></tr>\n",
       "\t<tr><td>23</td><td>male  </td><td>high    </td><td>5.381736</td><td>5.409874</td></tr>\n",
       "\t<tr><td>24</td><td>male  </td><td>high    </td><td>5.588057</td><td>5.822075</td></tr>\n",
       "\t<tr><td>25</td><td>male  </td><td>high    </td><td>5.479264</td><td>5.736975</td></tr>\n",
       "\t<tr><td>26</td><td>male  </td><td>high    </td><td>5.613790</td><td>5.864545</td></tr>\n",
       "\t<tr><td>27</td><td>male  </td><td>high    </td><td>5.485648</td><td>5.591926</td></tr>\n",
       "\t<tr><td>28</td><td>male  </td><td>high    </td><td>5.466967</td><td>5.459541</td></tr>\n",
       "\t<tr><td>29</td><td>male  </td><td>high    </td><td>5.602570</td><td>5.730586</td></tr>\n",
       "\t<tr><td>30</td><td>male  </td><td>high    </td><td>5.380364</td><td>5.827769</td></tr>\n",
       "\t<tr><td>31</td><td>female</td><td>low     </td><td>5.746070</td><td>5.755632</td></tr>\n",
       "\t<tr><td>32</td><td>female</td><td>low     </td><td>5.768068</td><td>5.908012</td></tr>\n",
       "\t<tr><td>33</td><td>female</td><td>low     </td><td>5.545183</td><td>5.700920</td></tr>\n",
       "\t<tr><td>34</td><td>female</td><td>low     </td><td>5.628698</td><td>5.735273</td></tr>\n",
       "\t<tr><td>35</td><td>female</td><td>low     </td><td>5.522691</td><td>5.571622</td></tr>\n",
       "\t<tr><td>36</td><td>female</td><td>low     </td><td>5.852965</td><td>6.151016</td></tr>\n",
       "\t<tr><td>37</td><td>female</td><td>low     </td><td>5.506788</td><td>5.900000</td></tr>\n",
       "\t<tr><td>38</td><td>female</td><td>low     </td><td>5.703268</td><td>5.694640</td></tr>\n",
       "\t<tr><td>39</td><td>female</td><td>low     </td><td>5.504772</td><td>5.660171</td></tr>\n",
       "\t<tr><td>40</td><td>female</td><td>low     </td><td>5.475396</td><td>5.740901</td></tr>\n",
       "\t<tr><td>41</td><td>female</td><td>moderate</td><td>5.980410</td><td>5.482661</td></tr>\n",
       "\t<tr><td>42</td><td>female</td><td>moderate</td><td>5.641483</td><td>5.962456</td></tr>\n",
       "\t<tr><td>43</td><td>female</td><td>moderate</td><td>6.057340</td><td>5.456732</td></tr>\n",
       "\t<tr><td>44</td><td>female</td><td>moderate</td><td>5.617252</td><td>5.535889</td></tr>\n",
       "\t<tr><td>45</td><td>female</td><td>moderate</td><td>5.569780</td><td>5.509189</td></tr>\n",
       "\t<tr><td>46</td><td>female</td><td>moderate</td><td>5.703230</td><td>5.916776</td></tr>\n",
       "\t<tr><td>47</td><td>female</td><td>moderate</td><td>6.146671</td><td>5.600000</td></tr>\n",
       "\t<tr><td>48</td><td>female</td><td>moderate</td><td>5.877485</td><td>5.386634</td></tr>\n",
       "\t<tr><td>49</td><td>female</td><td>moderate</td><td>5.829820</td><td>6.015797</td></tr>\n",
       "\t<tr><td>50</td><td>female</td><td>moderate</td><td>5.960872</td><td>5.316915</td></tr>\n",
       "\t<tr><td>51</td><td>female</td><td>high    </td><td>5.593956</td><td>5.061280</td></tr>\n",
       "\t<tr><td>52</td><td>female</td><td>high    </td><td>5.486839</td><td>5.096092</td></tr>\n",
       "\t<tr><td>53</td><td>female</td><td>high    </td><td>5.452907</td><td>5.369373</td></tr>\n",
       "\t<tr><td>54</td><td>female</td><td>high    </td><td>5.659519</td><td>5.359335</td></tr>\n",
       "\t<tr><td>55</td><td>female</td><td>high    </td><td>5.273704</td><td>5.245224</td></tr>\n",
       "\t<tr><td>56</td><td>female</td><td>high    </td><td>5.368449</td><td>5.769302</td></tr>\n",
       "\t<tr><td>57</td><td>female</td><td>high    </td><td>5.489559</td><td>5.619406</td></tr>\n",
       "\t<tr><td>58</td><td>female</td><td>high    </td><td>5.765244</td><td>5.433761</td></tr>\n",
       "\t<tr><td>59</td><td>female</td><td>high    </td><td>5.578024</td><td>5.327330</td></tr>\n",
       "\t<tr><td>60</td><td>female</td><td>high    </td><td>5.422013</td><td>5.079942</td></tr>\n",
       "</tbody>\n",
       "</table>\n"
      ],
      "text/latex": [
       "A tibble: 60 × 5\n",
       "\\begin{tabular}{lllll}\n",
       " id & gender & stress & t1 & t2\\\\\n",
       " <int> & <fct> & <fct> & <dbl> & <dbl>\\\\\n",
       "\\hline\n",
       "\t  1 & male   & low      & 5.964417 & 5.578506\\\\\n",
       "\t  2 & male   & low      & 5.506574 & 5.819924\\\\\n",
       "\t  3 & male   & low      & 5.625011 & 5.471414\\\\\n",
       "\t  4 & male   & low      & 5.710243 & 5.786593\\\\\n",
       "\t  5 & male   & low      & 5.736350 & 5.718538\\\\\n",
       "\t  6 & male   & low      & 5.616418 & 5.680656\\\\\n",
       "\t  7 & male   & low      & 5.476803 & 5.598871\\\\\n",
       "\t  8 & male   & low      & 5.644752 & 5.919890\\\\\n",
       "\t  9 & male   & low      & 6.057531 & 5.839342\\\\\n",
       "\t 10 & male   & low      & 5.864048 & 5.573202\\\\\n",
       "\t 11 & male   & moderate & 5.850000 & 5.745430\\\\\n",
       "\t 12 & male   & moderate & 5.535620 & 5.777104\\\\\n",
       "\t 13 & male   & moderate & 5.580000 & 5.528082\\\\\n",
       "\t 14 & male   & moderate & 5.571208 & 5.672252\\\\\n",
       "\t 15 & male   & moderate & 5.957600 & 5.977485\\\\\n",
       "\t 16 & male   & moderate & 6.012326 & 5.855019\\\\\n",
       "\t 17 & male   & moderate & 5.672864 & 5.576906\\\\\n",
       "\t 18 & male   & moderate & 5.572448 & 5.780541\\\\\n",
       "\t 19 & male   & moderate & 5.906073 & 5.757992\\\\\n",
       "\t 20 & male   & moderate & 5.517768 & 6.016235\\\\\n",
       "\t 21 & male   & high     & 5.233304 & 5.635632\\\\\n",
       "\t 22 & male   & high     & 5.562025 & 5.295316\\\\\n",
       "\t 23 & male   & high     & 5.381736 & 5.409874\\\\\n",
       "\t 24 & male   & high     & 5.588057 & 5.822075\\\\\n",
       "\t 25 & male   & high     & 5.479264 & 5.736975\\\\\n",
       "\t 26 & male   & high     & 5.613790 & 5.864545\\\\\n",
       "\t 27 & male   & high     & 5.485648 & 5.591926\\\\\n",
       "\t 28 & male   & high     & 5.466967 & 5.459541\\\\\n",
       "\t 29 & male   & high     & 5.602570 & 5.730586\\\\\n",
       "\t 30 & male   & high     & 5.380364 & 5.827769\\\\\n",
       "\t 31 & female & low      & 5.746070 & 5.755632\\\\\n",
       "\t 32 & female & low      & 5.768068 & 5.908012\\\\\n",
       "\t 33 & female & low      & 5.545183 & 5.700920\\\\\n",
       "\t 34 & female & low      & 5.628698 & 5.735273\\\\\n",
       "\t 35 & female & low      & 5.522691 & 5.571622\\\\\n",
       "\t 36 & female & low      & 5.852965 & 6.151016\\\\\n",
       "\t 37 & female & low      & 5.506788 & 5.900000\\\\\n",
       "\t 38 & female & low      & 5.703268 & 5.694640\\\\\n",
       "\t 39 & female & low      & 5.504772 & 5.660171\\\\\n",
       "\t 40 & female & low      & 5.475396 & 5.740901\\\\\n",
       "\t 41 & female & moderate & 5.980410 & 5.482661\\\\\n",
       "\t 42 & female & moderate & 5.641483 & 5.962456\\\\\n",
       "\t 43 & female & moderate & 6.057340 & 5.456732\\\\\n",
       "\t 44 & female & moderate & 5.617252 & 5.535889\\\\\n",
       "\t 45 & female & moderate & 5.569780 & 5.509189\\\\\n",
       "\t 46 & female & moderate & 5.703230 & 5.916776\\\\\n",
       "\t 47 & female & moderate & 6.146671 & 5.600000\\\\\n",
       "\t 48 & female & moderate & 5.877485 & 5.386634\\\\\n",
       "\t 49 & female & moderate & 5.829820 & 6.015797\\\\\n",
       "\t 50 & female & moderate & 5.960872 & 5.316915\\\\\n",
       "\t 51 & female & high     & 5.593956 & 5.061280\\\\\n",
       "\t 52 & female & high     & 5.486839 & 5.096092\\\\\n",
       "\t 53 & female & high     & 5.452907 & 5.369373\\\\\n",
       "\t 54 & female & high     & 5.659519 & 5.359335\\\\\n",
       "\t 55 & female & high     & 5.273704 & 5.245224\\\\\n",
       "\t 56 & female & high     & 5.368449 & 5.769302\\\\\n",
       "\t 57 & female & high     & 5.489559 & 5.619406\\\\\n",
       "\t 58 & female & high     & 5.765244 & 5.433761\\\\\n",
       "\t 59 & female & high     & 5.578024 & 5.327330\\\\\n",
       "\t 60 & female & high     & 5.422013 & 5.079942\\\\\n",
       "\\end{tabular}\n"
      ],
      "text/markdown": [
       "\n",
       "A tibble: 60 × 5\n",
       "\n",
       "| id &lt;int&gt; | gender &lt;fct&gt; | stress &lt;fct&gt; | t1 &lt;dbl&gt; | t2 &lt;dbl&gt; |\n",
       "|---|---|---|---|---|\n",
       "|  1 | male   | low      | 5.964417 | 5.578506 |\n",
       "|  2 | male   | low      | 5.506574 | 5.819924 |\n",
       "|  3 | male   | low      | 5.625011 | 5.471414 |\n",
       "|  4 | male   | low      | 5.710243 | 5.786593 |\n",
       "|  5 | male   | low      | 5.736350 | 5.718538 |\n",
       "|  6 | male   | low      | 5.616418 | 5.680656 |\n",
       "|  7 | male   | low      | 5.476803 | 5.598871 |\n",
       "|  8 | male   | low      | 5.644752 | 5.919890 |\n",
       "|  9 | male   | low      | 6.057531 | 5.839342 |\n",
       "| 10 | male   | low      | 5.864048 | 5.573202 |\n",
       "| 11 | male   | moderate | 5.850000 | 5.745430 |\n",
       "| 12 | male   | moderate | 5.535620 | 5.777104 |\n",
       "| 13 | male   | moderate | 5.580000 | 5.528082 |\n",
       "| 14 | male   | moderate | 5.571208 | 5.672252 |\n",
       "| 15 | male   | moderate | 5.957600 | 5.977485 |\n",
       "| 16 | male   | moderate | 6.012326 | 5.855019 |\n",
       "| 17 | male   | moderate | 5.672864 | 5.576906 |\n",
       "| 18 | male   | moderate | 5.572448 | 5.780541 |\n",
       "| 19 | male   | moderate | 5.906073 | 5.757992 |\n",
       "| 20 | male   | moderate | 5.517768 | 6.016235 |\n",
       "| 21 | male   | high     | 5.233304 | 5.635632 |\n",
       "| 22 | male   | high     | 5.562025 | 5.295316 |\n",
       "| 23 | male   | high     | 5.381736 | 5.409874 |\n",
       "| 24 | male   | high     | 5.588057 | 5.822075 |\n",
       "| 25 | male   | high     | 5.479264 | 5.736975 |\n",
       "| 26 | male   | high     | 5.613790 | 5.864545 |\n",
       "| 27 | male   | high     | 5.485648 | 5.591926 |\n",
       "| 28 | male   | high     | 5.466967 | 5.459541 |\n",
       "| 29 | male   | high     | 5.602570 | 5.730586 |\n",
       "| 30 | male   | high     | 5.380364 | 5.827769 |\n",
       "| 31 | female | low      | 5.746070 | 5.755632 |\n",
       "| 32 | female | low      | 5.768068 | 5.908012 |\n",
       "| 33 | female | low      | 5.545183 | 5.700920 |\n",
       "| 34 | female | low      | 5.628698 | 5.735273 |\n",
       "| 35 | female | low      | 5.522691 | 5.571622 |\n",
       "| 36 | female | low      | 5.852965 | 6.151016 |\n",
       "| 37 | female | low      | 5.506788 | 5.900000 |\n",
       "| 38 | female | low      | 5.703268 | 5.694640 |\n",
       "| 39 | female | low      | 5.504772 | 5.660171 |\n",
       "| 40 | female | low      | 5.475396 | 5.740901 |\n",
       "| 41 | female | moderate | 5.980410 | 5.482661 |\n",
       "| 42 | female | moderate | 5.641483 | 5.962456 |\n",
       "| 43 | female | moderate | 6.057340 | 5.456732 |\n",
       "| 44 | female | moderate | 5.617252 | 5.535889 |\n",
       "| 45 | female | moderate | 5.569780 | 5.509189 |\n",
       "| 46 | female | moderate | 5.703230 | 5.916776 |\n",
       "| 47 | female | moderate | 6.146671 | 5.600000 |\n",
       "| 48 | female | moderate | 5.877485 | 5.386634 |\n",
       "| 49 | female | moderate | 5.829820 | 6.015797 |\n",
       "| 50 | female | moderate | 5.960872 | 5.316915 |\n",
       "| 51 | female | high     | 5.593956 | 5.061280 |\n",
       "| 52 | female | high     | 5.486839 | 5.096092 |\n",
       "| 53 | female | high     | 5.452907 | 5.369373 |\n",
       "| 54 | female | high     | 5.659519 | 5.359335 |\n",
       "| 55 | female | high     | 5.273704 | 5.245224 |\n",
       "| 56 | female | high     | 5.368449 | 5.769302 |\n",
       "| 57 | female | high     | 5.489559 | 5.619406 |\n",
       "| 58 | female | high     | 5.765244 | 5.433761 |\n",
       "| 59 | female | high     | 5.578024 | 5.327330 |\n",
       "| 60 | female | high     | 5.422013 | 5.079942 |\n",
       "\n"
      ],
      "text/plain": [
       "   id gender stress   t1       t2      \n",
       "1   1 male   low      5.964417 5.578506\n",
       "2   2 male   low      5.506574 5.819924\n",
       "3   3 male   low      5.625011 5.471414\n",
       "4   4 male   low      5.710243 5.786593\n",
       "5   5 male   low      5.736350 5.718538\n",
       "6   6 male   low      5.616418 5.680656\n",
       "7   7 male   low      5.476803 5.598871\n",
       "8   8 male   low      5.644752 5.919890\n",
       "9   9 male   low      6.057531 5.839342\n",
       "10 10 male   low      5.864048 5.573202\n",
       "11 11 male   moderate 5.850000 5.745430\n",
       "12 12 male   moderate 5.535620 5.777104\n",
       "13 13 male   moderate 5.580000 5.528082\n",
       "14 14 male   moderate 5.571208 5.672252\n",
       "15 15 male   moderate 5.957600 5.977485\n",
       "16 16 male   moderate 6.012326 5.855019\n",
       "17 17 male   moderate 5.672864 5.576906\n",
       "18 18 male   moderate 5.572448 5.780541\n",
       "19 19 male   moderate 5.906073 5.757992\n",
       "20 20 male   moderate 5.517768 6.016235\n",
       "21 21 male   high     5.233304 5.635632\n",
       "22 22 male   high     5.562025 5.295316\n",
       "23 23 male   high     5.381736 5.409874\n",
       "24 24 male   high     5.588057 5.822075\n",
       "25 25 male   high     5.479264 5.736975\n",
       "26 26 male   high     5.613790 5.864545\n",
       "27 27 male   high     5.485648 5.591926\n",
       "28 28 male   high     5.466967 5.459541\n",
       "29 29 male   high     5.602570 5.730586\n",
       "30 30 male   high     5.380364 5.827769\n",
       "31 31 female low      5.746070 5.755632\n",
       "32 32 female low      5.768068 5.908012\n",
       "33 33 female low      5.545183 5.700920\n",
       "34 34 female low      5.628698 5.735273\n",
       "35 35 female low      5.522691 5.571622\n",
       "36 36 female low      5.852965 6.151016\n",
       "37 37 female low      5.506788 5.900000\n",
       "38 38 female low      5.703268 5.694640\n",
       "39 39 female low      5.504772 5.660171\n",
       "40 40 female low      5.475396 5.740901\n",
       "41 41 female moderate 5.980410 5.482661\n",
       "42 42 female moderate 5.641483 5.962456\n",
       "43 43 female moderate 6.057340 5.456732\n",
       "44 44 female moderate 5.617252 5.535889\n",
       "45 45 female moderate 5.569780 5.509189\n",
       "46 46 female moderate 5.703230 5.916776\n",
       "47 47 female moderate 6.146671 5.600000\n",
       "48 48 female moderate 5.877485 5.386634\n",
       "49 49 female moderate 5.829820 6.015797\n",
       "50 50 female moderate 5.960872 5.316915\n",
       "51 51 female high     5.593956 5.061280\n",
       "52 52 female high     5.486839 5.096092\n",
       "53 53 female high     5.452907 5.369373\n",
       "54 54 female high     5.659519 5.359335\n",
       "55 55 female high     5.273704 5.245224\n",
       "56 56 female high     5.368449 5.769302\n",
       "57 57 female high     5.489559 5.619406\n",
       "58 58 female high     5.765244 5.433761\n",
       "59 59 female high     5.578024 5.327330\n",
       "60 60 female high     5.422013 5.079942"
      ]
     },
     "metadata": {},
     "output_type": "display_data"
    }
   ],
   "source": [
    "performance"
   ]
  },
  {
   "cell_type": "code",
   "execution_count": 8,
   "id": "19a12e51-c5f0-4d5a-9d88-5e8e2930f824",
   "metadata": {},
   "outputs": [],
   "source": [
    "library(tidyverse)"
   ]
  },
  {
   "cell_type": "code",
   "execution_count": 7,
   "id": "dd2f3050-59b4-489c-a967-b3be2c733669",
   "metadata": {},
   "outputs": [],
   "source": [
    "performance = performance %>% select(id, gender, stress, t2) %>% rename(score = t2)"
   ]
  },
  {
   "cell_type": "code",
   "execution_count": 9,
   "id": "8cb0de40-f3e5-4e3a-bfa9-2525e7286e38",
   "metadata": {},
   "outputs": [
    {
     "data": {
      "text/html": [
       "<table class=\"dataframe\">\n",
       "<caption>A tibble: 60 × 4</caption>\n",
       "<thead>\n",
       "\t<tr><th scope=col>id</th><th scope=col>gender</th><th scope=col>stress</th><th scope=col>score</th></tr>\n",
       "\t<tr><th scope=col>&lt;int&gt;</th><th scope=col>&lt;fct&gt;</th><th scope=col>&lt;fct&gt;</th><th scope=col>&lt;dbl&gt;</th></tr>\n",
       "</thead>\n",
       "<tbody>\n",
       "\t<tr><td> 1</td><td>male  </td><td>low     </td><td>5.578506</td></tr>\n",
       "\t<tr><td> 2</td><td>male  </td><td>low     </td><td>5.819924</td></tr>\n",
       "\t<tr><td> 3</td><td>male  </td><td>low     </td><td>5.471414</td></tr>\n",
       "\t<tr><td> 4</td><td>male  </td><td>low     </td><td>5.786593</td></tr>\n",
       "\t<tr><td> 5</td><td>male  </td><td>low     </td><td>5.718538</td></tr>\n",
       "\t<tr><td> 6</td><td>male  </td><td>low     </td><td>5.680656</td></tr>\n",
       "\t<tr><td> 7</td><td>male  </td><td>low     </td><td>5.598871</td></tr>\n",
       "\t<tr><td> 8</td><td>male  </td><td>low     </td><td>5.919890</td></tr>\n",
       "\t<tr><td> 9</td><td>male  </td><td>low     </td><td>5.839342</td></tr>\n",
       "\t<tr><td>10</td><td>male  </td><td>low     </td><td>5.573202</td></tr>\n",
       "\t<tr><td>11</td><td>male  </td><td>moderate</td><td>5.745430</td></tr>\n",
       "\t<tr><td>12</td><td>male  </td><td>moderate</td><td>5.777104</td></tr>\n",
       "\t<tr><td>13</td><td>male  </td><td>moderate</td><td>5.528082</td></tr>\n",
       "\t<tr><td>14</td><td>male  </td><td>moderate</td><td>5.672252</td></tr>\n",
       "\t<tr><td>15</td><td>male  </td><td>moderate</td><td>5.977485</td></tr>\n",
       "\t<tr><td>16</td><td>male  </td><td>moderate</td><td>5.855019</td></tr>\n",
       "\t<tr><td>17</td><td>male  </td><td>moderate</td><td>5.576906</td></tr>\n",
       "\t<tr><td>18</td><td>male  </td><td>moderate</td><td>5.780541</td></tr>\n",
       "\t<tr><td>19</td><td>male  </td><td>moderate</td><td>5.757992</td></tr>\n",
       "\t<tr><td>20</td><td>male  </td><td>moderate</td><td>6.016235</td></tr>\n",
       "\t<tr><td>21</td><td>male  </td><td>high    </td><td>5.635632</td></tr>\n",
       "\t<tr><td>22</td><td>male  </td><td>high    </td><td>5.295316</td></tr>\n",
       "\t<tr><td>23</td><td>male  </td><td>high    </td><td>5.409874</td></tr>\n",
       "\t<tr><td>24</td><td>male  </td><td>high    </td><td>5.822075</td></tr>\n",
       "\t<tr><td>25</td><td>male  </td><td>high    </td><td>5.736975</td></tr>\n",
       "\t<tr><td>26</td><td>male  </td><td>high    </td><td>5.864545</td></tr>\n",
       "\t<tr><td>27</td><td>male  </td><td>high    </td><td>5.591926</td></tr>\n",
       "\t<tr><td>28</td><td>male  </td><td>high    </td><td>5.459541</td></tr>\n",
       "\t<tr><td>29</td><td>male  </td><td>high    </td><td>5.730586</td></tr>\n",
       "\t<tr><td>30</td><td>male  </td><td>high    </td><td>5.827769</td></tr>\n",
       "\t<tr><td>31</td><td>female</td><td>low     </td><td>5.755632</td></tr>\n",
       "\t<tr><td>32</td><td>female</td><td>low     </td><td>5.908012</td></tr>\n",
       "\t<tr><td>33</td><td>female</td><td>low     </td><td>5.700920</td></tr>\n",
       "\t<tr><td>34</td><td>female</td><td>low     </td><td>5.735273</td></tr>\n",
       "\t<tr><td>35</td><td>female</td><td>low     </td><td>5.571622</td></tr>\n",
       "\t<tr><td>36</td><td>female</td><td>low     </td><td>6.151016</td></tr>\n",
       "\t<tr><td>37</td><td>female</td><td>low     </td><td>5.900000</td></tr>\n",
       "\t<tr><td>38</td><td>female</td><td>low     </td><td>5.694640</td></tr>\n",
       "\t<tr><td>39</td><td>female</td><td>low     </td><td>5.660171</td></tr>\n",
       "\t<tr><td>40</td><td>female</td><td>low     </td><td>5.740901</td></tr>\n",
       "\t<tr><td>41</td><td>female</td><td>moderate</td><td>5.482661</td></tr>\n",
       "\t<tr><td>42</td><td>female</td><td>moderate</td><td>5.962456</td></tr>\n",
       "\t<tr><td>43</td><td>female</td><td>moderate</td><td>5.456732</td></tr>\n",
       "\t<tr><td>44</td><td>female</td><td>moderate</td><td>5.535889</td></tr>\n",
       "\t<tr><td>45</td><td>female</td><td>moderate</td><td>5.509189</td></tr>\n",
       "\t<tr><td>46</td><td>female</td><td>moderate</td><td>5.916776</td></tr>\n",
       "\t<tr><td>47</td><td>female</td><td>moderate</td><td>5.600000</td></tr>\n",
       "\t<tr><td>48</td><td>female</td><td>moderate</td><td>5.386634</td></tr>\n",
       "\t<tr><td>49</td><td>female</td><td>moderate</td><td>6.015797</td></tr>\n",
       "\t<tr><td>50</td><td>female</td><td>moderate</td><td>5.316915</td></tr>\n",
       "\t<tr><td>51</td><td>female</td><td>high    </td><td>5.061280</td></tr>\n",
       "\t<tr><td>52</td><td>female</td><td>high    </td><td>5.096092</td></tr>\n",
       "\t<tr><td>53</td><td>female</td><td>high    </td><td>5.369373</td></tr>\n",
       "\t<tr><td>54</td><td>female</td><td>high    </td><td>5.359335</td></tr>\n",
       "\t<tr><td>55</td><td>female</td><td>high    </td><td>5.245224</td></tr>\n",
       "\t<tr><td>56</td><td>female</td><td>high    </td><td>5.769302</td></tr>\n",
       "\t<tr><td>57</td><td>female</td><td>high    </td><td>5.619406</td></tr>\n",
       "\t<tr><td>58</td><td>female</td><td>high    </td><td>5.433761</td></tr>\n",
       "\t<tr><td>59</td><td>female</td><td>high    </td><td>5.327330</td></tr>\n",
       "\t<tr><td>60</td><td>female</td><td>high    </td><td>5.079942</td></tr>\n",
       "</tbody>\n",
       "</table>\n"
      ],
      "text/latex": [
       "A tibble: 60 × 4\n",
       "\\begin{tabular}{llll}\n",
       " id & gender & stress & score\\\\\n",
       " <int> & <fct> & <fct> & <dbl>\\\\\n",
       "\\hline\n",
       "\t  1 & male   & low      & 5.578506\\\\\n",
       "\t  2 & male   & low      & 5.819924\\\\\n",
       "\t  3 & male   & low      & 5.471414\\\\\n",
       "\t  4 & male   & low      & 5.786593\\\\\n",
       "\t  5 & male   & low      & 5.718538\\\\\n",
       "\t  6 & male   & low      & 5.680656\\\\\n",
       "\t  7 & male   & low      & 5.598871\\\\\n",
       "\t  8 & male   & low      & 5.919890\\\\\n",
       "\t  9 & male   & low      & 5.839342\\\\\n",
       "\t 10 & male   & low      & 5.573202\\\\\n",
       "\t 11 & male   & moderate & 5.745430\\\\\n",
       "\t 12 & male   & moderate & 5.777104\\\\\n",
       "\t 13 & male   & moderate & 5.528082\\\\\n",
       "\t 14 & male   & moderate & 5.672252\\\\\n",
       "\t 15 & male   & moderate & 5.977485\\\\\n",
       "\t 16 & male   & moderate & 5.855019\\\\\n",
       "\t 17 & male   & moderate & 5.576906\\\\\n",
       "\t 18 & male   & moderate & 5.780541\\\\\n",
       "\t 19 & male   & moderate & 5.757992\\\\\n",
       "\t 20 & male   & moderate & 6.016235\\\\\n",
       "\t 21 & male   & high     & 5.635632\\\\\n",
       "\t 22 & male   & high     & 5.295316\\\\\n",
       "\t 23 & male   & high     & 5.409874\\\\\n",
       "\t 24 & male   & high     & 5.822075\\\\\n",
       "\t 25 & male   & high     & 5.736975\\\\\n",
       "\t 26 & male   & high     & 5.864545\\\\\n",
       "\t 27 & male   & high     & 5.591926\\\\\n",
       "\t 28 & male   & high     & 5.459541\\\\\n",
       "\t 29 & male   & high     & 5.730586\\\\\n",
       "\t 30 & male   & high     & 5.827769\\\\\n",
       "\t 31 & female & low      & 5.755632\\\\\n",
       "\t 32 & female & low      & 5.908012\\\\\n",
       "\t 33 & female & low      & 5.700920\\\\\n",
       "\t 34 & female & low      & 5.735273\\\\\n",
       "\t 35 & female & low      & 5.571622\\\\\n",
       "\t 36 & female & low      & 6.151016\\\\\n",
       "\t 37 & female & low      & 5.900000\\\\\n",
       "\t 38 & female & low      & 5.694640\\\\\n",
       "\t 39 & female & low      & 5.660171\\\\\n",
       "\t 40 & female & low      & 5.740901\\\\\n",
       "\t 41 & female & moderate & 5.482661\\\\\n",
       "\t 42 & female & moderate & 5.962456\\\\\n",
       "\t 43 & female & moderate & 5.456732\\\\\n",
       "\t 44 & female & moderate & 5.535889\\\\\n",
       "\t 45 & female & moderate & 5.509189\\\\\n",
       "\t 46 & female & moderate & 5.916776\\\\\n",
       "\t 47 & female & moderate & 5.600000\\\\\n",
       "\t 48 & female & moderate & 5.386634\\\\\n",
       "\t 49 & female & moderate & 6.015797\\\\\n",
       "\t 50 & female & moderate & 5.316915\\\\\n",
       "\t 51 & female & high     & 5.061280\\\\\n",
       "\t 52 & female & high     & 5.096092\\\\\n",
       "\t 53 & female & high     & 5.369373\\\\\n",
       "\t 54 & female & high     & 5.359335\\\\\n",
       "\t 55 & female & high     & 5.245224\\\\\n",
       "\t 56 & female & high     & 5.769302\\\\\n",
       "\t 57 & female & high     & 5.619406\\\\\n",
       "\t 58 & female & high     & 5.433761\\\\\n",
       "\t 59 & female & high     & 5.327330\\\\\n",
       "\t 60 & female & high     & 5.079942\\\\\n",
       "\\end{tabular}\n"
      ],
      "text/markdown": [
       "\n",
       "A tibble: 60 × 4\n",
       "\n",
       "| id &lt;int&gt; | gender &lt;fct&gt; | stress &lt;fct&gt; | score &lt;dbl&gt; |\n",
       "|---|---|---|---|\n",
       "|  1 | male   | low      | 5.578506 |\n",
       "|  2 | male   | low      | 5.819924 |\n",
       "|  3 | male   | low      | 5.471414 |\n",
       "|  4 | male   | low      | 5.786593 |\n",
       "|  5 | male   | low      | 5.718538 |\n",
       "|  6 | male   | low      | 5.680656 |\n",
       "|  7 | male   | low      | 5.598871 |\n",
       "|  8 | male   | low      | 5.919890 |\n",
       "|  9 | male   | low      | 5.839342 |\n",
       "| 10 | male   | low      | 5.573202 |\n",
       "| 11 | male   | moderate | 5.745430 |\n",
       "| 12 | male   | moderate | 5.777104 |\n",
       "| 13 | male   | moderate | 5.528082 |\n",
       "| 14 | male   | moderate | 5.672252 |\n",
       "| 15 | male   | moderate | 5.977485 |\n",
       "| 16 | male   | moderate | 5.855019 |\n",
       "| 17 | male   | moderate | 5.576906 |\n",
       "| 18 | male   | moderate | 5.780541 |\n",
       "| 19 | male   | moderate | 5.757992 |\n",
       "| 20 | male   | moderate | 6.016235 |\n",
       "| 21 | male   | high     | 5.635632 |\n",
       "| 22 | male   | high     | 5.295316 |\n",
       "| 23 | male   | high     | 5.409874 |\n",
       "| 24 | male   | high     | 5.822075 |\n",
       "| 25 | male   | high     | 5.736975 |\n",
       "| 26 | male   | high     | 5.864545 |\n",
       "| 27 | male   | high     | 5.591926 |\n",
       "| 28 | male   | high     | 5.459541 |\n",
       "| 29 | male   | high     | 5.730586 |\n",
       "| 30 | male   | high     | 5.827769 |\n",
       "| 31 | female | low      | 5.755632 |\n",
       "| 32 | female | low      | 5.908012 |\n",
       "| 33 | female | low      | 5.700920 |\n",
       "| 34 | female | low      | 5.735273 |\n",
       "| 35 | female | low      | 5.571622 |\n",
       "| 36 | female | low      | 6.151016 |\n",
       "| 37 | female | low      | 5.900000 |\n",
       "| 38 | female | low      | 5.694640 |\n",
       "| 39 | female | low      | 5.660171 |\n",
       "| 40 | female | low      | 5.740901 |\n",
       "| 41 | female | moderate | 5.482661 |\n",
       "| 42 | female | moderate | 5.962456 |\n",
       "| 43 | female | moderate | 5.456732 |\n",
       "| 44 | female | moderate | 5.535889 |\n",
       "| 45 | female | moderate | 5.509189 |\n",
       "| 46 | female | moderate | 5.916776 |\n",
       "| 47 | female | moderate | 5.600000 |\n",
       "| 48 | female | moderate | 5.386634 |\n",
       "| 49 | female | moderate | 6.015797 |\n",
       "| 50 | female | moderate | 5.316915 |\n",
       "| 51 | female | high     | 5.061280 |\n",
       "| 52 | female | high     | 5.096092 |\n",
       "| 53 | female | high     | 5.369373 |\n",
       "| 54 | female | high     | 5.359335 |\n",
       "| 55 | female | high     | 5.245224 |\n",
       "| 56 | female | high     | 5.769302 |\n",
       "| 57 | female | high     | 5.619406 |\n",
       "| 58 | female | high     | 5.433761 |\n",
       "| 59 | female | high     | 5.327330 |\n",
       "| 60 | female | high     | 5.079942 |\n",
       "\n"
      ],
      "text/plain": [
       "   id gender stress   score   \n",
       "1   1 male   low      5.578506\n",
       "2   2 male   low      5.819924\n",
       "3   3 male   low      5.471414\n",
       "4   4 male   low      5.786593\n",
       "5   5 male   low      5.718538\n",
       "6   6 male   low      5.680656\n",
       "7   7 male   low      5.598871\n",
       "8   8 male   low      5.919890\n",
       "9   9 male   low      5.839342\n",
       "10 10 male   low      5.573202\n",
       "11 11 male   moderate 5.745430\n",
       "12 12 male   moderate 5.777104\n",
       "13 13 male   moderate 5.528082\n",
       "14 14 male   moderate 5.672252\n",
       "15 15 male   moderate 5.977485\n",
       "16 16 male   moderate 5.855019\n",
       "17 17 male   moderate 5.576906\n",
       "18 18 male   moderate 5.780541\n",
       "19 19 male   moderate 5.757992\n",
       "20 20 male   moderate 6.016235\n",
       "21 21 male   high     5.635632\n",
       "22 22 male   high     5.295316\n",
       "23 23 male   high     5.409874\n",
       "24 24 male   high     5.822075\n",
       "25 25 male   high     5.736975\n",
       "26 26 male   high     5.864545\n",
       "27 27 male   high     5.591926\n",
       "28 28 male   high     5.459541\n",
       "29 29 male   high     5.730586\n",
       "30 30 male   high     5.827769\n",
       "31 31 female low      5.755632\n",
       "32 32 female low      5.908012\n",
       "33 33 female low      5.700920\n",
       "34 34 female low      5.735273\n",
       "35 35 female low      5.571622\n",
       "36 36 female low      6.151016\n",
       "37 37 female low      5.900000\n",
       "38 38 female low      5.694640\n",
       "39 39 female low      5.660171\n",
       "40 40 female low      5.740901\n",
       "41 41 female moderate 5.482661\n",
       "42 42 female moderate 5.962456\n",
       "43 43 female moderate 5.456732\n",
       "44 44 female moderate 5.535889\n",
       "45 45 female moderate 5.509189\n",
       "46 46 female moderate 5.916776\n",
       "47 47 female moderate 5.600000\n",
       "48 48 female moderate 5.386634\n",
       "49 49 female moderate 6.015797\n",
       "50 50 female moderate 5.316915\n",
       "51 51 female high     5.061280\n",
       "52 52 female high     5.096092\n",
       "53 53 female high     5.369373\n",
       "54 54 female high     5.359335\n",
       "55 55 female high     5.245224\n",
       "56 56 female high     5.769302\n",
       "57 57 female high     5.619406\n",
       "58 58 female high     5.433761\n",
       "59 59 female high     5.327330\n",
       "60 60 female high     5.079942"
      ]
     },
     "metadata": {},
     "output_type": "display_data"
    }
   ],
   "source": [
    "performance"
   ]
  },
  {
   "cell_type": "markdown",
   "id": "f57afed4-6a4d-41a5-beea-301c8226fd57",
   "metadata": {},
   "source": [
    "# Preprocessing\n"
   ]
  },
  {
   "cell_type": "code",
   "execution_count": 13,
   "id": "4ccb6ee7-ac10-4c1e-a483-66cf38c29c1c",
   "metadata": {},
   "outputs": [
    {
     "data": {
      "text/html": [
       "<table class=\"dataframe\">\n",
       "<caption>A tibble: 6 × 15</caption>\n",
       "<thead>\n",
       "\t<tr><th scope=col>gender</th><th scope=col>stress</th><th scope=col>variable</th><th scope=col>n</th><th scope=col>min</th><th scope=col>max</th><th scope=col>median</th><th scope=col>q1</th><th scope=col>q3</th><th scope=col>iqr</th><th scope=col>mad</th><th scope=col>mean</th><th scope=col>sd</th><th scope=col>se</th><th scope=col>ci</th></tr>\n",
       "\t<tr><th scope=col>&lt;fct&gt;</th><th scope=col>&lt;fct&gt;</th><th scope=col>&lt;fct&gt;</th><th scope=col>&lt;dbl&gt;</th><th scope=col>&lt;dbl&gt;</th><th scope=col>&lt;dbl&gt;</th><th scope=col>&lt;dbl&gt;</th><th scope=col>&lt;dbl&gt;</th><th scope=col>&lt;dbl&gt;</th><th scope=col>&lt;dbl&gt;</th><th scope=col>&lt;dbl&gt;</th><th scope=col>&lt;dbl&gt;</th><th scope=col>&lt;dbl&gt;</th><th scope=col>&lt;dbl&gt;</th><th scope=col>&lt;dbl&gt;</th></tr>\n",
       "</thead>\n",
       "<tbody>\n",
       "\t<tr><td>male  </td><td>low     </td><td>score</td><td>10</td><td>5.471</td><td>5.920</td><td>5.700</td><td>5.584</td><td>5.812</td><td>0.228</td><td>0.179</td><td>5.699</td><td>0.143</td><td>0.045</td><td>0.102</td></tr>\n",
       "\t<tr><td>male  </td><td>moderate</td><td>score</td><td>10</td><td>5.528</td><td>6.016</td><td>5.768</td><td>5.691</td><td>5.836</td><td>0.146</td><td>0.135</td><td>5.769</td><td>0.155</td><td>0.049</td><td>0.111</td></tr>\n",
       "\t<tr><td>male  </td><td>high    </td><td>score</td><td>10</td><td>5.295</td><td>5.865</td><td>5.683</td><td>5.493</td><td>5.801</td><td>0.308</td><td>0.210</td><td>5.637</td><td>0.195</td><td>0.062</td><td>0.140</td></tr>\n",
       "\t<tr><td>female</td><td>low     </td><td>score</td><td>10</td><td>5.572</td><td>6.151</td><td>5.738</td><td>5.696</td><td>5.864</td><td>0.168</td><td>0.090</td><td>5.782</td><td>0.165</td><td>0.052</td><td>0.118</td></tr>\n",
       "\t<tr><td>female</td><td>moderate</td><td>score</td><td>10</td><td>5.317</td><td>6.016</td><td>5.523</td><td>5.463</td><td>5.838</td><td>0.374</td><td>0.158</td><td>5.618</td><td>0.252</td><td>0.080</td><td>0.181</td></tr>\n",
       "\t<tr><td>female</td><td>high    </td><td>score</td><td>10</td><td>5.061</td><td>5.769</td><td>5.343</td><td>5.133</td><td>5.418</td><td>0.284</td><td>0.256</td><td>5.336</td><td>0.232</td><td>0.073</td><td>0.166</td></tr>\n",
       "</tbody>\n",
       "</table>\n"
      ],
      "text/latex": [
       "A tibble: 6 × 15\n",
       "\\begin{tabular}{lllllllllllllll}\n",
       " gender & stress & variable & n & min & max & median & q1 & q3 & iqr & mad & mean & sd & se & ci\\\\\n",
       " <fct> & <fct> & <fct> & <dbl> & <dbl> & <dbl> & <dbl> & <dbl> & <dbl> & <dbl> & <dbl> & <dbl> & <dbl> & <dbl> & <dbl>\\\\\n",
       "\\hline\n",
       "\t male   & low      & score & 10 & 5.471 & 5.920 & 5.700 & 5.584 & 5.812 & 0.228 & 0.179 & 5.699 & 0.143 & 0.045 & 0.102\\\\\n",
       "\t male   & moderate & score & 10 & 5.528 & 6.016 & 5.768 & 5.691 & 5.836 & 0.146 & 0.135 & 5.769 & 0.155 & 0.049 & 0.111\\\\\n",
       "\t male   & high     & score & 10 & 5.295 & 5.865 & 5.683 & 5.493 & 5.801 & 0.308 & 0.210 & 5.637 & 0.195 & 0.062 & 0.140\\\\\n",
       "\t female & low      & score & 10 & 5.572 & 6.151 & 5.738 & 5.696 & 5.864 & 0.168 & 0.090 & 5.782 & 0.165 & 0.052 & 0.118\\\\\n",
       "\t female & moderate & score & 10 & 5.317 & 6.016 & 5.523 & 5.463 & 5.838 & 0.374 & 0.158 & 5.618 & 0.252 & 0.080 & 0.181\\\\\n",
       "\t female & high     & score & 10 & 5.061 & 5.769 & 5.343 & 5.133 & 5.418 & 0.284 & 0.256 & 5.336 & 0.232 & 0.073 & 0.166\\\\\n",
       "\\end{tabular}\n"
      ],
      "text/markdown": [
       "\n",
       "A tibble: 6 × 15\n",
       "\n",
       "| gender &lt;fct&gt; | stress &lt;fct&gt; | variable &lt;fct&gt; | n &lt;dbl&gt; | min &lt;dbl&gt; | max &lt;dbl&gt; | median &lt;dbl&gt; | q1 &lt;dbl&gt; | q3 &lt;dbl&gt; | iqr &lt;dbl&gt; | mad &lt;dbl&gt; | mean &lt;dbl&gt; | sd &lt;dbl&gt; | se &lt;dbl&gt; | ci &lt;dbl&gt; |\n",
       "|---|---|---|---|---|---|---|---|---|---|---|---|---|---|---|\n",
       "| male   | low      | score | 10 | 5.471 | 5.920 | 5.700 | 5.584 | 5.812 | 0.228 | 0.179 | 5.699 | 0.143 | 0.045 | 0.102 |\n",
       "| male   | moderate | score | 10 | 5.528 | 6.016 | 5.768 | 5.691 | 5.836 | 0.146 | 0.135 | 5.769 | 0.155 | 0.049 | 0.111 |\n",
       "| male   | high     | score | 10 | 5.295 | 5.865 | 5.683 | 5.493 | 5.801 | 0.308 | 0.210 | 5.637 | 0.195 | 0.062 | 0.140 |\n",
       "| female | low      | score | 10 | 5.572 | 6.151 | 5.738 | 5.696 | 5.864 | 0.168 | 0.090 | 5.782 | 0.165 | 0.052 | 0.118 |\n",
       "| female | moderate | score | 10 | 5.317 | 6.016 | 5.523 | 5.463 | 5.838 | 0.374 | 0.158 | 5.618 | 0.252 | 0.080 | 0.181 |\n",
       "| female | high     | score | 10 | 5.061 | 5.769 | 5.343 | 5.133 | 5.418 | 0.284 | 0.256 | 5.336 | 0.232 | 0.073 | 0.166 |\n",
       "\n"
      ],
      "text/plain": [
       "  gender stress   variable n  min   max   median q1    q3    iqr   mad   mean \n",
       "1 male   low      score    10 5.471 5.920 5.700  5.584 5.812 0.228 0.179 5.699\n",
       "2 male   moderate score    10 5.528 6.016 5.768  5.691 5.836 0.146 0.135 5.769\n",
       "3 male   high     score    10 5.295 5.865 5.683  5.493 5.801 0.308 0.210 5.637\n",
       "4 female low      score    10 5.572 6.151 5.738  5.696 5.864 0.168 0.090 5.782\n",
       "5 female moderate score    10 5.317 6.016 5.523  5.463 5.838 0.374 0.158 5.618\n",
       "6 female high     score    10 5.061 5.769 5.343  5.133 5.418 0.284 0.256 5.336\n",
       "  sd    se    ci   \n",
       "1 0.143 0.045 0.102\n",
       "2 0.155 0.049 0.111\n",
       "3 0.195 0.062 0.140\n",
       "4 0.165 0.052 0.118\n",
       "5 0.252 0.080 0.181\n",
       "6 0.232 0.073 0.166"
      ]
     },
     "metadata": {},
     "output_type": "display_data"
    }
   ],
   "source": [
    "performance %>% group_by(gender, stress) %>% get_summary_stats(score)"
   ]
  },
  {
   "cell_type": "code",
   "execution_count": 14,
   "id": "bba97f57-6fbb-448d-aec1-6a1a69788697",
   "metadata": {},
   "outputs": [
    {
     "data": {
      "image/png": "[encoded data removed]",
      "text/plain": [
       "plot without title"
      ]
     },
     "metadata": {
      "image/png": {
       "height": 420,
       "width": 420
      }
     },
     "output_type": "display_data"
    }
   ],
   "source": [
    "ggboxplot(performance, x= \"gender\", y = \"score\", color = \"stress\")"
   ]
  },
  {
   "cell_type": "code",
   "execution_count": 15,
   "id": "432c0ab3-9841-4383-920c-df7f5a44f38b",
   "metadata": {},
   "outputs": [
    {
     "data": {
      "text/html": [
       "<table class=\"dataframe\">\n",
       "<caption>A tibble: 1 × 6</caption>\n",
       "<thead>\n",
       "\t<tr><th scope=col>gender</th><th scope=col>stress</th><th scope=col>id</th><th scope=col>score</th><th scope=col>is.outlier</th><th scope=col>is.extreme</th></tr>\n",
       "\t<tr><th scope=col>&lt;fct&gt;</th><th scope=col>&lt;fct&gt;</th><th scope=col>&lt;int&gt;</th><th scope=col>&lt;dbl&gt;</th><th scope=col>&lt;lgl&gt;</th><th scope=col>&lt;lgl&gt;</th></tr>\n",
       "</thead>\n",
       "<tbody>\n",
       "\t<tr><td>female</td><td>low</td><td>36</td><td>6.151016</td><td>TRUE</td><td>FALSE</td></tr>\n",
       "</tbody>\n",
       "</table>\n"
      ],
      "text/latex": [
       "A tibble: 1 × 6\n",
       "\\begin{tabular}{llllll}\n",
       " gender & stress & id & score & is.outlier & is.extreme\\\\\n",
       " <fct> & <fct> & <int> & <dbl> & <lgl> & <lgl>\\\\\n",
       "\\hline\n",
       "\t female & low & 36 & 6.151016 & TRUE & FALSE\\\\\n",
       "\\end{tabular}\n"
      ],
      "text/markdown": [
       "\n",
       "A tibble: 1 × 6\n",
       "\n",
       "| gender &lt;fct&gt; | stress &lt;fct&gt; | id &lt;int&gt; | score &lt;dbl&gt; | is.outlier &lt;lgl&gt; | is.extreme &lt;lgl&gt; |\n",
       "|---|---|---|---|---|---|\n",
       "| female | low | 36 | 6.151016 | TRUE | FALSE |\n",
       "\n"
      ],
      "text/plain": [
       "  gender stress id score    is.outlier is.extreme\n",
       "1 female low    36 6.151016 TRUE       FALSE     "
      ]
     },
     "metadata": {},
     "output_type": "display_data"
    }
   ],
   "source": [
    "performance %>% group_by(gender,stress) %>% identify_outliers(score)"
   ]
  },
  {
   "cell_type": "code",
   "execution_count": 17,
   "id": "36a8bd05-2f1a-4ac5-aba6-735c2410c25e",
   "metadata": {},
   "outputs": [
    {
     "data": {
      "image/png": "[encoded data removed]",
      "text/plain": [
       "plot without title"
      ]
     },
     "metadata": {
      "image/png": {
       "height": 420,
       "width": 420
      }
     },
     "output_type": "display_data"
    }
   ],
   "source": [
    "ggqqplot(performance, \"score\") + facet_grid(gender ~ stress)"
   ]
  },
  {
   "cell_type": "code",
   "execution_count": 18,
   "id": "47f22533-973f-452f-9dc0-43d04ed3c5e2",
   "metadata": {},
   "outputs": [
    {
     "data": {
      "text/html": [
       "<table class=\"dataframe\">\n",
       "<caption>A tibble: 6 × 5</caption>\n",
       "<thead>\n",
       "\t<tr><th scope=col>gender</th><th scope=col>stress</th><th scope=col>variable</th><th scope=col>statistic</th><th scope=col>p</th></tr>\n",
       "\t<tr><th scope=col>&lt;fct&gt;</th><th scope=col>&lt;fct&gt;</th><th scope=col>&lt;chr&gt;</th><th scope=col>&lt;dbl&gt;</th><th scope=col>&lt;dbl&gt;</th></tr>\n",
       "</thead>\n",
       "<tbody>\n",
       "\t<tr><td>male  </td><td>low     </td><td>score</td><td>0.9657807</td><td>0.84920900</td></tr>\n",
       "\t<tr><td>male  </td><td>moderate</td><td>score</td><td>0.9578821</td><td>0.76147966</td></tr>\n",
       "\t<tr><td>male  </td><td>high    </td><td>score</td><td>0.9252528</td><td>0.40285205</td></tr>\n",
       "\t<tr><td>female</td><td>low     </td><td>score</td><td>0.8863373</td><td>0.15415318</td></tr>\n",
       "\t<tr><td>female</td><td>moderate</td><td>score</td><td>0.8652560</td><td>0.08798011</td></tr>\n",
       "\t<tr><td>female</td><td>high    </td><td>score</td><td>0.9304105</td><td>0.45194229</td></tr>\n",
       "</tbody>\n",
       "</table>\n"
      ],
      "text/latex": [
       "A tibble: 6 × 5\n",
       "\\begin{tabular}{lllll}\n",
       " gender & stress & variable & statistic & p\\\\\n",
       " <fct> & <fct> & <chr> & <dbl> & <dbl>\\\\\n",
       "\\hline\n",
       "\t male   & low      & score & 0.9657807 & 0.84920900\\\\\n",
       "\t male   & moderate & score & 0.9578821 & 0.76147966\\\\\n",
       "\t male   & high     & score & 0.9252528 & 0.40285205\\\\\n",
       "\t female & low      & score & 0.8863373 & 0.15415318\\\\\n",
       "\t female & moderate & score & 0.8652560 & 0.08798011\\\\\n",
       "\t female & high     & score & 0.9304105 & 0.45194229\\\\\n",
       "\\end{tabular}\n"
      ],
      "text/markdown": [
       "\n",
       "A tibble: 6 × 5\n",
       "\n",
       "| gender &lt;fct&gt; | stress &lt;fct&gt; | variable &lt;chr&gt; | statistic &lt;dbl&gt; | p &lt;dbl&gt; |\n",
       "|---|---|---|---|---|\n",
       "| male   | low      | score | 0.9657807 | 0.84920900 |\n",
       "| male   | moderate | score | 0.9578821 | 0.76147966 |\n",
       "| male   | high     | score | 0.9252528 | 0.40285205 |\n",
       "| female | low      | score | 0.8863373 | 0.15415318 |\n",
       "| female | moderate | score | 0.8652560 | 0.08798011 |\n",
       "| female | high     | score | 0.9304105 | 0.45194229 |\n",
       "\n"
      ],
      "text/plain": [
       "  gender stress   variable statistic p         \n",
       "1 male   low      score    0.9657807 0.84920900\n",
       "2 male   moderate score    0.9578821 0.76147966\n",
       "3 male   high     score    0.9252528 0.40285205\n",
       "4 female low      score    0.8863373 0.15415318\n",
       "5 female moderate score    0.8652560 0.08798011\n",
       "6 female high     score    0.9304105 0.45194229"
      ]
     },
     "metadata": {},
     "output_type": "display_data"
    }
   ],
   "source": [
    "performance %>% group_by(gender, stress) %>% shapiro_test(score)"
   ]
  },
  {
   "cell_type": "code",
   "execution_count": 21,
   "id": "8688de8e-dcbd-4d6f-a8a8-ef2d23d9786d",
   "metadata": {},
   "outputs": [
    {
     "data": {
      "text/html": [
       "<table class=\"dataframe\">\n",
       "<caption>A tibble: 1 × 4</caption>\n",
       "<thead>\n",
       "\t<tr><th scope=col>df1</th><th scope=col>df2</th><th scope=col>statistic</th><th scope=col>p</th></tr>\n",
       "\t<tr><th scope=col>&lt;int&gt;</th><th scope=col>&lt;int&gt;</th><th scope=col>&lt;dbl&gt;</th><th scope=col>&lt;dbl&gt;</th></tr>\n",
       "</thead>\n",
       "<tbody>\n",
       "\t<tr><td>5</td><td>54</td><td>0.7218618</td><td>0.6099186</td></tr>\n",
       "</tbody>\n",
       "</table>\n"
      ],
      "text/latex": [
       "A tibble: 1 × 4\n",
       "\\begin{tabular}{llll}\n",
       " df1 & df2 & statistic & p\\\\\n",
       " <int> & <int> & <dbl> & <dbl>\\\\\n",
       "\\hline\n",
       "\t 5 & 54 & 0.7218618 & 0.6099186\\\\\n",
       "\\end{tabular}\n"
      ],
      "text/markdown": [
       "\n",
       "A tibble: 1 × 4\n",
       "\n",
       "| df1 &lt;int&gt; | df2 &lt;int&gt; | statistic &lt;dbl&gt; | p &lt;dbl&gt; |\n",
       "|---|---|---|---|\n",
       "| 5 | 54 | 0.7218618 | 0.6099186 |\n",
       "\n"
      ],
      "text/plain": [
       "  df1 df2 statistic p        \n",
       "1 5   54  0.7218618 0.6099186"
      ]
     },
     "metadata": {},
     "output_type": "display_data"
    }
   ],
   "source": [
    "performance %>% levene_test(score ~ gender * stress)"
   ]
  },
  {
   "cell_type": "code",
   "execution_count": 23,
   "id": "70b9a9c5-34d9-4a9c-b080-74f4ce9f4ec4",
   "metadata": {},
   "outputs": [
    {
     "data": {
      "text/html": [
       "<table class=\"dataframe\">\n",
       "<caption>A anova_test: 3 × 7</caption>\n",
       "<thead>\n",
       "\t<tr><th></th><th scope=col>Effect</th><th scope=col>DFn</th><th scope=col>DFd</th><th scope=col>F</th><th scope=col>p</th><th scope=col>p&lt;.05</th><th scope=col>ges</th></tr>\n",
       "\t<tr><th></th><th scope=col>&lt;chr&gt;</th><th scope=col>&lt;dbl&gt;</th><th scope=col>&lt;dbl&gt;</th><th scope=col>&lt;dbl&gt;</th><th scope=col>&lt;dbl&gt;</th><th scope=col>&lt;chr&gt;</th><th scope=col>&lt;dbl&gt;</th></tr>\n",
       "</thead>\n",
       "<tbody>\n",
       "\t<tr><th scope=row>1</th><td>gender       </td><td>1</td><td>54</td><td>5.972</td><td>0.018000</td><td>*</td><td>0.100</td></tr>\n",
       "\t<tr><th scope=row>2</th><td>stress       </td><td>2</td><td>54</td><td>9.599</td><td>0.000271</td><td>*</td><td>0.262</td></tr>\n",
       "\t<tr><th scope=row>3</th><td>gender:stress</td><td>2</td><td>54</td><td>4.947</td><td>0.011000</td><td>*</td><td>0.155</td></tr>\n",
       "</tbody>\n",
       "</table>\n"
      ],
      "text/latex": [
       "A anova\\_test: 3 × 7\n",
       "\\begin{tabular}{r|lllllll}\n",
       "  & Effect & DFn & DFd & F & p & p<.05 & ges\\\\\n",
       "  & <chr> & <dbl> & <dbl> & <dbl> & <dbl> & <chr> & <dbl>\\\\\n",
       "\\hline\n",
       "\t1 & gender        & 1 & 54 & 5.972 & 0.018000 & * & 0.100\\\\\n",
       "\t2 & stress        & 2 & 54 & 9.599 & 0.000271 & * & 0.262\\\\\n",
       "\t3 & gender:stress & 2 & 54 & 4.947 & 0.011000 & * & 0.155\\\\\n",
       "\\end{tabular}\n"
      ],
      "text/markdown": [
       "\n",
       "A anova_test: 3 × 7\n",
       "\n",
       "| <!--/--> | Effect &lt;chr&gt; | DFn &lt;dbl&gt; | DFd &lt;dbl&gt; | F &lt;dbl&gt; | p &lt;dbl&gt; | p&lt;.05 &lt;chr&gt; | ges &lt;dbl&gt; |\n",
       "|---|---|---|---|---|---|---|---|\n",
       "| 1 | gender        | 1 | 54 | 5.972 | 0.018000 | * | 0.100 |\n",
       "| 2 | stress        | 2 | 54 | 9.599 | 0.000271 | * | 0.262 |\n",
       "| 3 | gender:stress | 2 | 54 | 4.947 | 0.011000 | * | 0.155 |\n",
       "\n"
      ],
      "text/plain": [
       "  Effect        DFn DFd F     p        p<.05 ges  \n",
       "1 gender        1   54  5.972 0.018000 *     0.100\n",
       "2 stress        2   54  9.599 0.000271 *     0.262\n",
       "3 gender:stress 2   54  4.947 0.011000 *     0.155"
      ]
     },
     "metadata": {},
     "output_type": "display_data"
    }
   ],
   "source": [
    "performance %>% anova_test(score ~ gender * stress)"
   ]
  },
  {
   "cell_type": "markdown",
   "id": "8f911aa8-a1bc-4305-8ba7-b3f3cf797430",
   "metadata": {},
   "source": [
    "# Post-hoc tests"
   ]
  },
  {
   "cell_type": "markdown",
   "id": "adc7c1e4-0db6-4e47-97e8-ba10fc7bc287",
   "metadata": {},
   "source": [
    "## از اونجایی که برای تست تعقیبی گرفتن این دو حالت داریم، یک اینکه جنسیت رو ثابت فرض کنیم و سطح استرس و تصمیم گیری رو مقایسه کنیم، دو اینکه سطح استرس رو ثابت بگیریم و جنسیت و تصمیم‌گیری رو مقایسه کنیم\n",
    "### لذا دو بار آنوای یک راهه میگیریم"
   ]
  },
  {
   "cell_type": "code",
   "execution_count": 24,
   "id": "99dcd4ce-87c6-4e49-a379-bb343d28526d",
   "metadata": {},
   "outputs": [
    {
     "data": {
      "text/html": [
       "<table class=\"dataframe\">\n",
       "<caption>A grouped_anova_test: 2 × 8</caption>\n",
       "<thead>\n",
       "\t<tr><th></th><th scope=col>gender</th><th scope=col>Effect</th><th scope=col>DFn</th><th scope=col>DFd</th><th scope=col>F</th><th scope=col>p</th><th scope=col>p&lt;.05</th><th scope=col>ges</th></tr>\n",
       "\t<tr><th></th><th scope=col>&lt;fct&gt;</th><th scope=col>&lt;chr&gt;</th><th scope=col>&lt;dbl&gt;</th><th scope=col>&lt;dbl&gt;</th><th scope=col>&lt;dbl&gt;</th><th scope=col>&lt;dbl&gt;</th><th scope=col>&lt;chr&gt;</th><th scope=col>&lt;dbl&gt;</th></tr>\n",
       "</thead>\n",
       "<tbody>\n",
       "\t<tr><th scope=row>1</th><td>male  </td><td>stress</td><td>2</td><td>27</td><td> 1.566</td><td>0.227000</td><td> </td><td>0.104</td></tr>\n",
       "\t<tr><th scope=row>2</th><td>female</td><td>stress</td><td>2</td><td>27</td><td>10.530</td><td>0.000416</td><td>*</td><td>0.438</td></tr>\n",
       "</tbody>\n",
       "</table>\n"
      ],
      "text/latex": [
       "A grouped\\_anova\\_test: 2 × 8\n",
       "\\begin{tabular}{r|llllllll}\n",
       "  & gender & Effect & DFn & DFd & F & p & p<.05 & ges\\\\\n",
       "  & <fct> & <chr> & <dbl> & <dbl> & <dbl> & <dbl> & <chr> & <dbl>\\\\\n",
       "\\hline\n",
       "\t1 & male   & stress & 2 & 27 &  1.566 & 0.227000 &   & 0.104\\\\\n",
       "\t2 & female & stress & 2 & 27 & 10.530 & 0.000416 & * & 0.438\\\\\n",
       "\\end{tabular}\n"
      ],
      "text/markdown": [
       "\n",
       "A grouped_anova_test: 2 × 8\n",
       "\n",
       "| <!--/--> | gender &lt;fct&gt; | Effect &lt;chr&gt; | DFn &lt;dbl&gt; | DFd &lt;dbl&gt; | F &lt;dbl&gt; | p &lt;dbl&gt; | p&lt;.05 &lt;chr&gt; | ges &lt;dbl&gt; |\n",
       "|---|---|---|---|---|---|---|---|---|\n",
       "| 1 | male   | stress | 2 | 27 |  1.566 | 0.227000 | <!----> | 0.104 |\n",
       "| 2 | female | stress | 2 | 27 | 10.530 | 0.000416 | * | 0.438 |\n",
       "\n"
      ],
      "text/plain": [
       "  gender Effect DFn DFd F      p        p<.05 ges  \n",
       "1 male   stress 2   27   1.566 0.227000       0.104\n",
       "2 female stress 2   27  10.530 0.000416 *     0.438"
      ]
     },
     "metadata": {},
     "output_type": "display_data"
    }
   ],
   "source": [
    "performance %>% group_by(gender) %>% anova_test(score ~ stress)"
   ]
  },
  {
   "cell_type": "code",
   "execution_count": 25,
   "id": "724842ce-7eff-417e-8466-c8841cd495df",
   "metadata": {},
   "outputs": [
    {
     "data": {
      "text/html": [
       "<table class=\"dataframe\">\n",
       "<caption>A grouped_anova_test: 3 × 8</caption>\n",
       "<thead>\n",
       "\t<tr><th></th><th scope=col>stress</th><th scope=col>Effect</th><th scope=col>DFn</th><th scope=col>DFd</th><th scope=col>F</th><th scope=col>p</th><th scope=col>p&lt;.05</th><th scope=col>ges</th></tr>\n",
       "\t<tr><th></th><th scope=col>&lt;fct&gt;</th><th scope=col>&lt;chr&gt;</th><th scope=col>&lt;dbl&gt;</th><th scope=col>&lt;dbl&gt;</th><th scope=col>&lt;dbl&gt;</th><th scope=col>&lt;dbl&gt;</th><th scope=col>&lt;chr&gt;</th><th scope=col>&lt;dbl&gt;</th></tr>\n",
       "</thead>\n",
       "<tbody>\n",
       "\t<tr><th scope=row>1</th><td>low     </td><td>gender</td><td>1</td><td>18</td><td>1.455</td><td>0.243</td><td> </td><td>0.075</td></tr>\n",
       "\t<tr><th scope=row>2</th><td>moderate</td><td>gender</td><td>1</td><td>18</td><td>2.575</td><td>0.126</td><td> </td><td>0.125</td></tr>\n",
       "\t<tr><th scope=row>3</th><td>high    </td><td>gender</td><td>1</td><td>18</td><td>9.854</td><td>0.006</td><td>*</td><td>0.354</td></tr>\n",
       "</tbody>\n",
       "</table>\n"
      ],
      "text/latex": [
       "A grouped\\_anova\\_test: 3 × 8\n",
       "\\begin{tabular}{r|llllllll}\n",
       "  & stress & Effect & DFn & DFd & F & p & p<.05 & ges\\\\\n",
       "  & <fct> & <chr> & <dbl> & <dbl> & <dbl> & <dbl> & <chr> & <dbl>\\\\\n",
       "\\hline\n",
       "\t1 & low      & gender & 1 & 18 & 1.455 & 0.243 &   & 0.075\\\\\n",
       "\t2 & moderate & gender & 1 & 18 & 2.575 & 0.126 &   & 0.125\\\\\n",
       "\t3 & high     & gender & 1 & 18 & 9.854 & 0.006 & * & 0.354\\\\\n",
       "\\end{tabular}\n"
      ],
      "text/markdown": [
       "\n",
       "A grouped_anova_test: 3 × 8\n",
       "\n",
       "| <!--/--> | stress &lt;fct&gt; | Effect &lt;chr&gt; | DFn &lt;dbl&gt; | DFd &lt;dbl&gt; | F &lt;dbl&gt; | p &lt;dbl&gt; | p&lt;.05 &lt;chr&gt; | ges &lt;dbl&gt; |\n",
       "|---|---|---|---|---|---|---|---|---|\n",
       "| 1 | low      | gender | 1 | 18 | 1.455 | 0.243 | <!----> | 0.075 |\n",
       "| 2 | moderate | gender | 1 | 18 | 2.575 | 0.126 | <!----> | 0.125 |\n",
       "| 3 | high     | gender | 1 | 18 | 9.854 | 0.006 | * | 0.354 |\n",
       "\n"
      ],
      "text/plain": [
       "  stress   Effect DFn DFd F     p     p<.05 ges  \n",
       "1 low      gender 1   18  1.455 0.243       0.075\n",
       "2 moderate gender 1   18  2.575 0.126       0.125\n",
       "3 high     gender 1   18  9.854 0.006 *     0.354"
      ]
     },
     "metadata": {},
     "output_type": "display_data"
    }
   ],
   "source": [
    "performance %>% group_by(stress) %>% anova_test(score ~ gender)"
   ]
  },
  {
   "cell_type": "code",
   "execution_count": 16,
   "id": "b0f2e242-ca37-4416-a16e-a012515a8845",
   "metadata": {
    "scrolled": true
   },
   "outputs": [
    {
     "data": {
      "text/html": [
       "<table class=\"dataframe\">\n",
       "<caption>A rstatix_test: 6 × 10</caption>\n",
       "<thead>\n",
       "\t<tr><th></th><th scope=col>gender</th><th scope=col>term</th><th scope=col>.y.</th><th scope=col>group1</th><th scope=col>group2</th><th scope=col>df</th><th scope=col>statistic</th><th scope=col>p</th><th scope=col>p.adj</th><th scope=col>p.adj.signif</th></tr>\n",
       "\t<tr><th></th><th scope=col>&lt;fct&gt;</th><th scope=col>&lt;chr&gt;</th><th scope=col>&lt;chr&gt;</th><th scope=col>&lt;chr&gt;</th><th scope=col>&lt;chr&gt;</th><th scope=col>&lt;dbl&gt;</th><th scope=col>&lt;dbl&gt;</th><th scope=col>&lt;dbl&gt;</th><th scope=col>&lt;dbl&gt;</th><th scope=col>&lt;chr&gt;</th></tr>\n",
       "</thead>\n",
       "<tbody>\n",
       "\t<tr><th scope=row>1</th><td>male  </td><td>stress</td><td>score</td><td>low     </td><td>moderate</td><td>54</td><td>-0.8039675</td><td>4.249409e-01</td><td>1.000000e+00</td><td>ns  </td></tr>\n",
       "\t<tr><th scope=row>2</th><td>male  </td><td>stress</td><td>score</td><td>low     </td><td>high    </td><td>54</td><td> 0.7035851</td><td>4.847140e-01</td><td>1.000000e+00</td><td>ns  </td></tr>\n",
       "\t<tr><th scope=row>3</th><td>male  </td><td>stress</td><td>score</td><td>moderate</td><td>high    </td><td>54</td><td> 1.5075527</td><td>1.374975e-01</td><td>4.124926e-01</td><td>ns  </td></tr>\n",
       "\t<tr><th scope=row>4</th><td>female</td><td>stress</td><td>score</td><td>low     </td><td>moderate</td><td>54</td><td> 1.8776984</td><td>6.582743e-02</td><td>1.974823e-01</td><td>ns  </td></tr>\n",
       "\t<tr><th scope=row>5</th><td>female</td><td>stress</td><td>score</td><td>low     </td><td>high    </td><td>54</td><td> 5.1183308</td><td>4.209513e-06</td><td>1.262854e-05</td><td>****</td></tr>\n",
       "\t<tr><th scope=row>6</th><td>female</td><td>stress</td><td>score</td><td>moderate</td><td>high    </td><td>54</td><td> 3.2406324</td><td>2.044574e-03</td><td>6.133722e-03</td><td>**  </td></tr>\n",
       "</tbody>\n",
       "</table>\n"
      ],
      "text/latex": [
       "A rstatix\\_test: 6 × 10\n",
       "\\begin{tabular}{r|llllllllll}\n",
       "  & gender & term & .y. & group1 & group2 & df & statistic & p & p.adj & p.adj.signif\\\\\n",
       "  & <fct> & <chr> & <chr> & <chr> & <chr> & <dbl> & <dbl> & <dbl> & <dbl> & <chr>\\\\\n",
       "\\hline\n",
       "\t1 & male   & stress & score & low      & moderate & 54 & -0.8039675 & 4.249409e-01 & 1.000000e+00 & ns  \\\\\n",
       "\t2 & male   & stress & score & low      & high     & 54 &  0.7035851 & 4.847140e-01 & 1.000000e+00 & ns  \\\\\n",
       "\t3 & male   & stress & score & moderate & high     & 54 &  1.5075527 & 1.374975e-01 & 4.124926e-01 & ns  \\\\\n",
       "\t4 & female & stress & score & low      & moderate & 54 &  1.8776984 & 6.582743e-02 & 1.974823e-01 & ns  \\\\\n",
       "\t5 & female & stress & score & low      & high     & 54 &  5.1183308 & 4.209513e-06 & 1.262854e-05 & ****\\\\\n",
       "\t6 & female & stress & score & moderate & high     & 54 &  3.2406324 & 2.044574e-03 & 6.133722e-03 & **  \\\\\n",
       "\\end{tabular}\n"
      ],
      "text/markdown": [
       "\n",
       "A rstatix_test: 6 × 10\n",
       "\n",
       "| <!--/--> | gender &lt;fct&gt; | term &lt;chr&gt; | .y. &lt;chr&gt; | group1 &lt;chr&gt; | group2 &lt;chr&gt; | df &lt;dbl&gt; | statistic &lt;dbl&gt; | p &lt;dbl&gt; | p.adj &lt;dbl&gt; | p.adj.signif &lt;chr&gt; |\n",
       "|---|---|---|---|---|---|---|---|---|---|---|\n",
       "| 1 | male   | stress | score | low      | moderate | 54 | -0.8039675 | 4.249409e-01 | 1.000000e+00 | ns   |\n",
       "| 2 | male   | stress | score | low      | high     | 54 |  0.7035851 | 4.847140e-01 | 1.000000e+00 | ns   |\n",
       "| 3 | male   | stress | score | moderate | high     | 54 |  1.5075527 | 1.374975e-01 | 4.124926e-01 | ns   |\n",
       "| 4 | female | stress | score | low      | moderate | 54 |  1.8776984 | 6.582743e-02 | 1.974823e-01 | ns   |\n",
       "| 5 | female | stress | score | low      | high     | 54 |  5.1183308 | 4.209513e-06 | 1.262854e-05 | **** |\n",
       "| 6 | female | stress | score | moderate | high     | 54 |  3.2406324 | 2.044574e-03 | 6.133722e-03 | **   |\n",
       "\n"
      ],
      "text/plain": [
       "  gender term   .y.   group1   group2   df statistic  p            p.adj       \n",
       "1 male   stress score low      moderate 54 -0.8039675 4.249409e-01 1.000000e+00\n",
       "2 male   stress score low      high     54  0.7035851 4.847140e-01 1.000000e+00\n",
       "3 male   stress score moderate high     54  1.5075527 1.374975e-01 4.124926e-01\n",
       "4 female stress score low      moderate 54  1.8776984 6.582743e-02 1.974823e-01\n",
       "5 female stress score low      high     54  5.1183308 4.209513e-06 1.262854e-05\n",
       "6 female stress score moderate high     54  3.2406324 2.044574e-03 6.133722e-03\n",
       "  p.adj.signif\n",
       "1 ns          \n",
       "2 ns          \n",
       "3 ns          \n",
       "4 ns          \n",
       "5 ****        \n",
       "6 **          "
      ]
     },
     "metadata": {},
     "output_type": "display_data"
    }
   ],
   "source": [
    "performance %>% group_by(gender) %>% emmeans_test(score ~ stress, p.adjust.method = \"bonferroni\")"
   ]
  },
  {
   "cell_type": "code",
   "execution_count": 12,
   "id": "f8afd449-4882-41b6-bf10-c4d12d40de8d",
   "metadata": {},
   "outputs": [],
   "source": [
    "b = ggboxplot(performance, x= \"gender\", y = \"score\", color = \"stress\")"
   ]
  },
  {
   "cell_type": "code",
   "execution_count": 15,
   "id": "73641d3e-1c24-4080-b49c-a51cd6d24494",
   "metadata": {},
   "outputs": [
    {
     "data": {
      "image/png": "[encoded data removed]",
      "text/plain": [
       "plot without title"
      ]
     },
     "metadata": {
      "image/png": {
       "height": 420,
       "width": 420
      }
     },
     "output_type": "display_data"
    }
   ],
   "source": [
    "pwc = pwc %>% add_xy_position(x = \"gender\")\n",
    "b + stat_pvalue_manual(pwc)"
   ]
  }
 ],
 "metadata": {
  "kernelspec": {
   "display_name": "R",
   "language": "R",
   "name": "ir"
  },
  "language_info": {
   "codemirror_mode": "r",
   "file_extension": ".r",
   "mimetype": "text/x-r-source",
   "name": "R",
   "pygments_lexer": "r",
   "version": "4.3.2"
  }
 },
 "nbformat": 4,
 "nbformat_minor": 5
}
