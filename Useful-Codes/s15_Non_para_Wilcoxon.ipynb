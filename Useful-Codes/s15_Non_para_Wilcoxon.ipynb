{
 "cells": [
  {
   "cell_type": "markdown",
   "id": "b4465696-e51a-491d-8ca7-a1dddc113d04",
   "metadata": {},
   "source": [
    "# Wilcoxon Test"
   ]
  },
  {
   "cell_type": "markdown",
   "id": "d78d7bfb-a77f-482b-a57d-c5ca4a658c7b",
   "metadata": {},
   "source": [
    "معادل تی تست ها "
   ]
  },
  {
   "cell_type": "markdown",
   "id": "5e9559f6-5ca5-460c-b3d4-13d4faebbeb5",
   "metadata": {},
   "source": [
    "## One-sample Wilcoxon signed rank test\n",
    "### One sample t test"
   ]
  },
  {
   "cell_type": "code",
   "execution_count": 19,
   "id": "6aaf0928-ccad-4464-b31a-3bade3851173",
   "metadata": {},
   "outputs": [],
   "source": [
    "library(readxl)\n",
    "library(rstatix)\n",
    "library(ggpubr)\n",
    "library(lawstat)"
   ]
  },
  {
   "cell_type": "code",
   "execution_count": 5,
   "id": "e50f1b13-ec9e-4b95-8684-4b540935b4b9",
   "metadata": {},
   "outputs": [],
   "source": [
    "GoNoGO_bias_OneGroup = read_excel(\"D://Amar//Codes_Data//GoNoGo_bias_OneGroup.xlsx\")"
   ]
  },
  {
   "cell_type": "code",
   "execution_count": 6,
   "id": "13be528a-b802-4edf-a900-503ae513f2a8",
   "metadata": {
    "scrolled": true
   },
   "outputs": [
    {
     "data": {
      "text/html": [
       "<table class=\"dataframe\">\n",
       "<caption>A tibble: 12 × 2</caption>\n",
       "<thead>\n",
       "\t<tr><th scope=col>subj</th><th scope=col>bias</th></tr>\n",
       "\t<tr><th scope=col>&lt;dbl&gt;</th><th scope=col>&lt;dbl&gt;</th></tr>\n",
       "</thead>\n",
       "<tbody>\n",
       "\t<tr><td> 1</td><td>0.63</td></tr>\n",
       "\t<tr><td> 2</td><td>0.77</td></tr>\n",
       "\t<tr><td> 3</td><td>0.73</td></tr>\n",
       "\t<tr><td> 4</td><td>0.72</td></tr>\n",
       "\t<tr><td> 5</td><td>0.57</td></tr>\n",
       "\t<tr><td> 6</td><td>0.52</td></tr>\n",
       "\t<tr><td> 7</td><td>0.78</td></tr>\n",
       "\t<tr><td> 8</td><td>0.72</td></tr>\n",
       "\t<tr><td> 9</td><td>0.75</td></tr>\n",
       "\t<tr><td>10</td><td>0.78</td></tr>\n",
       "\t<tr><td>11</td><td>0.77</td></tr>\n",
       "\t<tr><td>12</td><td>0.59</td></tr>\n",
       "</tbody>\n",
       "</table>\n"
      ],
      "text/latex": [
       "A tibble: 12 × 2\n",
       "\\begin{tabular}{ll}\n",
       " subj & bias\\\\\n",
       " <dbl> & <dbl>\\\\\n",
       "\\hline\n",
       "\t  1 & 0.63\\\\\n",
       "\t  2 & 0.77\\\\\n",
       "\t  3 & 0.73\\\\\n",
       "\t  4 & 0.72\\\\\n",
       "\t  5 & 0.57\\\\\n",
       "\t  6 & 0.52\\\\\n",
       "\t  7 & 0.78\\\\\n",
       "\t  8 & 0.72\\\\\n",
       "\t  9 & 0.75\\\\\n",
       "\t 10 & 0.78\\\\\n",
       "\t 11 & 0.77\\\\\n",
       "\t 12 & 0.59\\\\\n",
       "\\end{tabular}\n"
      ],
      "text/markdown": [
       "\n",
       "A tibble: 12 × 2\n",
       "\n",
       "| subj &lt;dbl&gt; | bias &lt;dbl&gt; |\n",
       "|---|---|\n",
       "|  1 | 0.63 |\n",
       "|  2 | 0.77 |\n",
       "|  3 | 0.73 |\n",
       "|  4 | 0.72 |\n",
       "|  5 | 0.57 |\n",
       "|  6 | 0.52 |\n",
       "|  7 | 0.78 |\n",
       "|  8 | 0.72 |\n",
       "|  9 | 0.75 |\n",
       "| 10 | 0.78 |\n",
       "| 11 | 0.77 |\n",
       "| 12 | 0.59 |\n",
       "\n"
      ],
      "text/plain": [
       "   subj bias\n",
       "1   1   0.63\n",
       "2   2   0.77\n",
       "3   3   0.73\n",
       "4   4   0.72\n",
       "5   5   0.57\n",
       "6   6   0.52\n",
       "7   7   0.78\n",
       "8   8   0.72\n",
       "9   9   0.75\n",
       "10 10   0.78\n",
       "11 11   0.77\n",
       "12 12   0.59"
      ]
     },
     "metadata": {},
     "output_type": "display_data"
    }
   ],
   "source": [
    "GoNoGO_bias_OneGroup"
   ]
  },
  {
   "cell_type": "code",
   "execution_count": 11,
   "id": "45e934dc-1c6b-4ac6-8683-6deebc134d4e",
   "metadata": {},
   "outputs": [
    {
     "data": {
      "text/html": [
       "<table class=\"dataframe\">\n",
       "<caption>A tibble: 1 × 4</caption>\n",
       "<thead>\n",
       "\t<tr><th scope=col>variable</th><th scope=col>n</th><th scope=col>median</th><th scope=col>iqr</th></tr>\n",
       "\t<tr><th scope=col>&lt;fct&gt;</th><th scope=col>&lt;dbl&gt;</th><th scope=col>&lt;dbl&gt;</th><th scope=col>&lt;dbl&gt;</th></tr>\n",
       "</thead>\n",
       "<tbody>\n",
       "\t<tr><td>bias</td><td>12</td><td>0.725</td><td>0.15</td></tr>\n",
       "</tbody>\n",
       "</table>\n"
      ],
      "text/latex": [
       "A tibble: 1 × 4\n",
       "\\begin{tabular}{llll}\n",
       " variable & n & median & iqr\\\\\n",
       " <fct> & <dbl> & <dbl> & <dbl>\\\\\n",
       "\\hline\n",
       "\t bias & 12 & 0.725 & 0.15\\\\\n",
       "\\end{tabular}\n"
      ],
      "text/markdown": [
       "\n",
       "A tibble: 1 × 4\n",
       "\n",
       "| variable &lt;fct&gt; | n &lt;dbl&gt; | median &lt;dbl&gt; | iqr &lt;dbl&gt; |\n",
       "|---|---|---|---|\n",
       "| bias | 12 | 0.725 | 0.15 |\n",
       "\n"
      ],
      "text/plain": [
       "  variable n  median iqr \n",
       "1 bias     12 0.725  0.15"
      ]
     },
     "metadata": {},
     "output_type": "display_data"
    }
   ],
   "source": [
    "GoNoGO_bias_OneGroup %>% get_summary_stats(bias, type =\"median_iqr\")"
   ]
  },
  {
   "cell_type": "code",
   "execution_count": 14,
   "id": "fa3d7bea-277a-42f7-b152-30ed4f9212bb",
   "metadata": {},
   "outputs": [
    {
     "data": {
      "image/png": "[encoded data removed]",
      "text/plain": [
       "plot without title"
      ]
     },
     "metadata": {
      "image/png": {
       "height": 420,
       "width": 420
      }
     },
     "output_type": "display_data"
    }
   ],
   "source": [
    "ggboxplot(GoNoGO_bias_OneGroup$bias)"
   ]
  },
  {
   "cell_type": "markdown",
   "id": "5f94aa21-86bb-4751-99c9-bc78b8fb39bb",
   "metadata": {},
   "source": [
    "### Mean is biased towards Go answer"
   ]
  },
  {
   "cell_type": "code",
   "execution_count": 15,
   "id": "1069e98e-8a52-4b7f-a107-195429124c52",
   "metadata": {},
   "outputs": [
    {
     "data": {
      "text/html": [
       "<table class=\"dataframe\">\n",
       "<caption>A data.frame: 0 × 4</caption>\n",
       "<thead>\n",
       "\t<tr><th scope=col>subj</th><th scope=col>bias</th><th scope=col>is.outlier</th><th scope=col>is.extreme</th></tr>\n",
       "\t<tr><th scope=col>&lt;dbl&gt;</th><th scope=col>&lt;dbl&gt;</th><th scope=col>&lt;lgl&gt;</th><th scope=col>&lt;lgl&gt;</th></tr>\n",
       "</thead>\n",
       "<tbody>\n",
       "</tbody>\n",
       "</table>\n"
      ],
      "text/latex": [
       "A data.frame: 0 × 4\n",
       "\\begin{tabular}{llll}\n",
       " subj & bias & is.outlier & is.extreme\\\\\n",
       " <dbl> & <dbl> & <lgl> & <lgl>\\\\\n",
       "\\hline\n",
       "\\end{tabular}\n"
      ],
      "text/markdown": [
       "\n",
       "A data.frame: 0 × 4\n",
       "\n",
       "| subj &lt;dbl&gt; | bias &lt;dbl&gt; | is.outlier &lt;lgl&gt; | is.extreme &lt;lgl&gt; |\n",
       "|---|---|---|---|\n",
       "\n"
      ],
      "text/plain": [
       "     subj bias is.outlier is.extreme"
      ]
     },
     "metadata": {},
     "output_type": "display_data"
    }
   ],
   "source": [
    "GoNoGO_bias_OneGroup %>% identify_outliers(bias)"
   ]
  },
  {
   "cell_type": "code",
   "execution_count": 16,
   "id": "77fb336f-1f22-4334-8eb6-3c3ec82df2b6",
   "metadata": {},
   "outputs": [
    {
     "data": {
      "text/html": [
       "<table class=\"dataframe\">\n",
       "<caption>A tibble: 1 × 3</caption>\n",
       "<thead>\n",
       "\t<tr><th scope=col>variable</th><th scope=col>statistic</th><th scope=col>p</th></tr>\n",
       "\t<tr><th scope=col>&lt;chr&gt;</th><th scope=col>&lt;dbl&gt;</th><th scope=col>&lt;dbl&gt;</th></tr>\n",
       "</thead>\n",
       "<tbody>\n",
       "\t<tr><td>bias</td><td>0.844051</td><td>0.03102369</td></tr>\n",
       "</tbody>\n",
       "</table>\n"
      ],
      "text/latex": [
       "A tibble: 1 × 3\n",
       "\\begin{tabular}{lll}\n",
       " variable & statistic & p\\\\\n",
       " <chr> & <dbl> & <dbl>\\\\\n",
       "\\hline\n",
       "\t bias & 0.844051 & 0.03102369\\\\\n",
       "\\end{tabular}\n"
      ],
      "text/markdown": [
       "\n",
       "A tibble: 1 × 3\n",
       "\n",
       "| variable &lt;chr&gt; | statistic &lt;dbl&gt; | p &lt;dbl&gt; |\n",
       "|---|---|---|\n",
       "| bias | 0.844051 | 0.03102369 |\n",
       "\n"
      ],
      "text/plain": [
       "  variable statistic p         \n",
       "1 bias     0.844051  0.03102369"
      ]
     },
     "metadata": {},
     "output_type": "display_data"
    }
   ],
   "source": [
    "GoNoGO_bias_OneGroup %>% shapiro_test(bias)"
   ]
  },
  {
   "cell_type": "markdown",
   "id": "d7a24916-d72c-467e-aada-1cceddbdade3",
   "metadata": {},
   "source": [
    "#### P value is less than 0.05, so distribution is not normal."
   ]
  },
  {
   "cell_type": "code",
   "execution_count": 17,
   "id": "d4594a26-23e5-4079-9612-701b56391d11",
   "metadata": {},
   "outputs": [
    {
     "data": {
      "image/png": "[encoded data removed]",
      "text/plain": [
       "Plot with title \"density(x = GoNoGO_bias_OneGroup$bias)\""
      ]
     },
     "metadata": {
      "image/png": {
       "height": 420,
       "width": 420
      }
     },
     "output_type": "display_data"
    }
   ],
   "source": [
    "plot(density(GoNoGO_bias_OneGroup$bias))"
   ]
  },
  {
   "cell_type": "markdown",
   "id": "50cde428-3ae1-481a-bfb1-7d75f4112c16",
   "metadata": {},
   "source": [
    "#### From the data plot it's obvious that distribution is not indeed normal."
   ]
  },
  {
   "cell_type": "code",
   "execution_count": 20,
   "id": "1eaae47c-8c68-441f-aa58-af208162ba04",
   "metadata": {},
   "outputs": [
    {
     "data": {
      "text/plain": [
       "\n",
       "\tm-out-of-n bootstrap symmetry test by Miao, Gel, and Gastwirth (2006)\n",
       "\n",
       "data:  GoNoGO_bias_OneGroup$bias\n",
       "Test statistic = -1.6308, p-value = 0.344\n",
       "alternative hypothesis: the distribution is asymmetric.\n",
       "sample estimates:\n",
       "bootstrap optimal m \n",
       "                 11 \n"
      ]
     },
     "metadata": {},
     "output_type": "display_data"
    }
   ],
   "source": [
    "symmetry.test(GoNoGO_bias_OneGroup$bias)"
   ]
  },
  {
   "cell_type": "markdown",
   "id": "2519653e-9965-4d67-9969-b5ef7705789e",
   "metadata": {},
   "source": [
    "#### Distribution is Symmetric"
   ]
  },
  {
   "cell_type": "code",
   "execution_count": 22,
   "id": "33d645d0-b296-46cb-a91e-9e59bcc8f98a",
   "metadata": {},
   "outputs": [
    {
     "data": {
      "text/html": [
       "<table class=\"dataframe\">\n",
       "<caption>A rstatix_test: 1 × 6</caption>\n",
       "<thead>\n",
       "\t<tr><th></th><th scope=col>.y.</th><th scope=col>group1</th><th scope=col>group2</th><th scope=col>n</th><th scope=col>statistic</th><th scope=col>p</th></tr>\n",
       "\t<tr><th></th><th scope=col>&lt;chr&gt;</th><th scope=col>&lt;chr&gt;</th><th scope=col>&lt;chr&gt;</th><th scope=col>&lt;int&gt;</th><th scope=col>&lt;dbl&gt;</th><th scope=col>&lt;dbl&gt;</th></tr>\n",
       "</thead>\n",
       "<tbody>\n",
       "\t<tr><th scope=row>1</th><td>bias</td><td>1</td><td>null model</td><td>12</td><td>78</td><td>0.0025</td></tr>\n",
       "</tbody>\n",
       "</table>\n"
      ],
      "text/latex": [
       "A rstatix\\_test: 1 × 6\n",
       "\\begin{tabular}{r|llllll}\n",
       "  & .y. & group1 & group2 & n & statistic & p\\\\\n",
       "  & <chr> & <chr> & <chr> & <int> & <dbl> & <dbl>\\\\\n",
       "\\hline\n",
       "\t1 & bias & 1 & null model & 12 & 78 & 0.0025\\\\\n",
       "\\end{tabular}\n"
      ],
      "text/markdown": [
       "\n",
       "A rstatix_test: 1 × 6\n",
       "\n",
       "| <!--/--> | .y. &lt;chr&gt; | group1 &lt;chr&gt; | group2 &lt;chr&gt; | n &lt;int&gt; | statistic &lt;dbl&gt; | p &lt;dbl&gt; |\n",
       "|---|---|---|---|---|---|---|\n",
       "| 1 | bias | 1 | null model | 12 | 78 | 0.0025 |\n",
       "\n"
      ],
      "text/plain": [
       "  .y.  group1 group2     n  statistic p     \n",
       "1 bias 1      null model 12 78        0.0025"
      ]
     },
     "metadata": {},
     "output_type": "display_data"
    }
   ],
   "source": [
    "GoNoGO_bias_OneGroup %>% wilcox_test(bias ~ 1, mu = 0.5)"
   ]
  },
  {
   "cell_type": "markdown",
   "id": "61fc92c4-6503-4e63-ad0e-35b2e42c0f4d",
   "metadata": {},
   "source": [
    "#### Null hypothesis is too small so null hypothesis is not correct."
   ]
  },
  {
   "cell_type": "code",
   "execution_count": 24,
   "id": "df69f097-72fe-4ae4-997e-0afabd33c932",
   "metadata": {},
   "outputs": [
    {
     "data": {
      "text/html": [
       "<table class=\"dataframe\">\n",
       "<caption>A rstatix_test: 1 × 6</caption>\n",
       "<thead>\n",
       "\t<tr><th></th><th scope=col>.y.</th><th scope=col>group1</th><th scope=col>group2</th><th scope=col>effsize</th><th scope=col>n</th><th scope=col>magnitude</th></tr>\n",
       "\t<tr><th></th><th scope=col>&lt;chr&gt;</th><th scope=col>&lt;chr&gt;</th><th scope=col>&lt;chr&gt;</th><th scope=col>&lt;dbl&gt;</th><th scope=col>&lt;int&gt;</th><th scope=col>&lt;ord&gt;</th></tr>\n",
       "</thead>\n",
       "<tbody>\n",
       "\t<tr><th scope=row>1</th><td>bias</td><td>1</td><td>null model</td><td>0.8841969</td><td>12</td><td>large</td></tr>\n",
       "</tbody>\n",
       "</table>\n"
      ],
      "text/latex": [
       "A rstatix\\_test: 1 × 6\n",
       "\\begin{tabular}{r|llllll}\n",
       "  & .y. & group1 & group2 & effsize & n & magnitude\\\\\n",
       "  & <chr> & <chr> & <chr> & <dbl> & <int> & <ord>\\\\\n",
       "\\hline\n",
       "\t1 & bias & 1 & null model & 0.8841969 & 12 & large\\\\\n",
       "\\end{tabular}\n"
      ],
      "text/markdown": [
       "\n",
       "A rstatix_test: 1 × 6\n",
       "\n",
       "| <!--/--> | .y. &lt;chr&gt; | group1 &lt;chr&gt; | group2 &lt;chr&gt; | effsize &lt;dbl&gt; | n &lt;int&gt; | magnitude &lt;ord&gt; |\n",
       "|---|---|---|---|---|---|---|\n",
       "| 1 | bias | 1 | null model | 0.8841969 | 12 | large |\n",
       "\n"
      ],
      "text/plain": [
       "  .y.  group1 group2     effsize   n  magnitude\n",
       "1 bias 1      null model 0.8841969 12 large    "
      ]
     },
     "metadata": {},
     "output_type": "display_data"
    }
   ],
   "source": [
    "GoNoGO_bias_OneGroup %>% wilcox_effsize(bias ~ 1, mu = 0.5)"
   ]
  },
  {
   "cell_type": "markdown",
   "id": "a2ea8f4f-121c-4a8c-a3b7-53f315a2722b",
   "metadata": {},
   "source": [
    "## Wilcoxon rank sum test\n",
    "\n",
    "### Two sample independent t test\n"
   ]
  },
  {
   "cell_type": "code",
   "execution_count": 28,
   "id": "34cc9a18-4a0c-4337-b55d-7889ee1da796",
   "metadata": {},
   "outputs": [],
   "source": [
    "GoNoGo_ADHD_bias = read_excel(\"D://Amar//Codes_Data//GoNoGo_ADHD_bias.xlsx\")"
   ]
  },
  {
   "cell_type": "code",
   "execution_count": 29,
   "id": "3231c0a3-34e0-4c26-b670-b67b6f148c62",
   "metadata": {
    "scrolled": true
   },
   "outputs": [
    {
     "data": {
      "text/html": [
       "<table class=\"dataframe\">\n",
       "<caption>A tibble: 44 × 3</caption>\n",
       "<thead>\n",
       "\t<tr><th scope=col>id</th><th scope=col>group</th><th scope=col>bias</th></tr>\n",
       "\t<tr><th scope=col>&lt;dbl&gt;</th><th scope=col>&lt;chr&gt;</th><th scope=col>&lt;dbl&gt;</th></tr>\n",
       "</thead>\n",
       "<tbody>\n",
       "\t<tr><td> 1</td><td>Normal</td><td>0.43</td></tr>\n",
       "\t<tr><td> 2</td><td>Normal</td><td>0.57</td></tr>\n",
       "\t<tr><td> 3</td><td>Normal</td><td>0.53</td></tr>\n",
       "\t<tr><td> 4</td><td>Normal</td><td>0.52</td></tr>\n",
       "\t<tr><td> 5</td><td>Normal</td><td>0.37</td></tr>\n",
       "\t<tr><td> 6</td><td>Normal</td><td>0.37</td></tr>\n",
       "\t<tr><td> 7</td><td>Normal</td><td>0.58</td></tr>\n",
       "\t<tr><td> 8</td><td>Normal</td><td>0.52</td></tr>\n",
       "\t<tr><td> 9</td><td>Normal</td><td>0.45</td></tr>\n",
       "\t<tr><td>10</td><td>Normal</td><td>0.58</td></tr>\n",
       "\t<tr><td>11</td><td>Normal</td><td>0.57</td></tr>\n",
       "\t<tr><td>12</td><td>Normal</td><td>0.59</td></tr>\n",
       "\t<tr><td>13</td><td>Normal</td><td>0.57</td></tr>\n",
       "\t<tr><td>14</td><td>Normal</td><td>0.53</td></tr>\n",
       "\t<tr><td>15</td><td>Normal</td><td>0.52</td></tr>\n",
       "\t<tr><td>16</td><td>Normal</td><td>0.30</td></tr>\n",
       "\t<tr><td>17</td><td>Normal</td><td>0.42</td></tr>\n",
       "\t<tr><td>18</td><td>Normal</td><td>0.48</td></tr>\n",
       "\t<tr><td>19</td><td>Normal</td><td>0.52</td></tr>\n",
       "\t<tr><td>20</td><td>Normal</td><td>0.45</td></tr>\n",
       "\t<tr><td>21</td><td>Normal</td><td>0.49</td></tr>\n",
       "\t<tr><td>22</td><td>Normal</td><td>0.57</td></tr>\n",
       "\t<tr><td>23</td><td>ADHD  </td><td>0.68</td></tr>\n",
       "\t<tr><td>24</td><td>ADHD  </td><td>0.82</td></tr>\n",
       "\t<tr><td>25</td><td>ADHD  </td><td>0.78</td></tr>\n",
       "\t<tr><td>26</td><td>ADHD  </td><td>0.77</td></tr>\n",
       "\t<tr><td>27</td><td>ADHD  </td><td>0.62</td></tr>\n",
       "\t<tr><td>28</td><td>ADHD  </td><td>0.62</td></tr>\n",
       "\t<tr><td>29</td><td>ADHD  </td><td>0.83</td></tr>\n",
       "\t<tr><td>30</td><td>ADHD  </td><td>0.77</td></tr>\n",
       "\t<tr><td>31</td><td>ADHD  </td><td>0.70</td></tr>\n",
       "\t<tr><td>32</td><td>ADHD  </td><td>0.83</td></tr>\n",
       "\t<tr><td>33</td><td>ADHD  </td><td>0.82</td></tr>\n",
       "\t<tr><td>34</td><td>ADHD  </td><td>0.84</td></tr>\n",
       "\t<tr><td>35</td><td>ADHD  </td><td>0.82</td></tr>\n",
       "\t<tr><td>36</td><td>ADHD  </td><td>0.78</td></tr>\n",
       "\t<tr><td>37</td><td>ADHD  </td><td>0.77</td></tr>\n",
       "\t<tr><td>38</td><td>ADHD  </td><td>0.55</td></tr>\n",
       "\t<tr><td>39</td><td>ADHD  </td><td>0.67</td></tr>\n",
       "\t<tr><td>40</td><td>ADHD  </td><td>0.73</td></tr>\n",
       "\t<tr><td>41</td><td>ADHD  </td><td>0.77</td></tr>\n",
       "\t<tr><td>42</td><td>ADHD  </td><td>0.70</td></tr>\n",
       "\t<tr><td>43</td><td>ADHD  </td><td>0.73</td></tr>\n",
       "\t<tr><td>44</td><td>ADHD  </td><td>0.82</td></tr>\n",
       "</tbody>\n",
       "</table>\n"
      ],
      "text/latex": [
       "A tibble: 44 × 3\n",
       "\\begin{tabular}{lll}\n",
       " id & group & bias\\\\\n",
       " <dbl> & <chr> & <dbl>\\\\\n",
       "\\hline\n",
       "\t  1 & Normal & 0.43\\\\\n",
       "\t  2 & Normal & 0.57\\\\\n",
       "\t  3 & Normal & 0.53\\\\\n",
       "\t  4 & Normal & 0.52\\\\\n",
       "\t  5 & Normal & 0.37\\\\\n",
       "\t  6 & Normal & 0.37\\\\\n",
       "\t  7 & Normal & 0.58\\\\\n",
       "\t  8 & Normal & 0.52\\\\\n",
       "\t  9 & Normal & 0.45\\\\\n",
       "\t 10 & Normal & 0.58\\\\\n",
       "\t 11 & Normal & 0.57\\\\\n",
       "\t 12 & Normal & 0.59\\\\\n",
       "\t 13 & Normal & 0.57\\\\\n",
       "\t 14 & Normal & 0.53\\\\\n",
       "\t 15 & Normal & 0.52\\\\\n",
       "\t 16 & Normal & 0.30\\\\\n",
       "\t 17 & Normal & 0.42\\\\\n",
       "\t 18 & Normal & 0.48\\\\\n",
       "\t 19 & Normal & 0.52\\\\\n",
       "\t 20 & Normal & 0.45\\\\\n",
       "\t 21 & Normal & 0.49\\\\\n",
       "\t 22 & Normal & 0.57\\\\\n",
       "\t 23 & ADHD   & 0.68\\\\\n",
       "\t 24 & ADHD   & 0.82\\\\\n",
       "\t 25 & ADHD   & 0.78\\\\\n",
       "\t 26 & ADHD   & 0.77\\\\\n",
       "\t 27 & ADHD   & 0.62\\\\\n",
       "\t 28 & ADHD   & 0.62\\\\\n",
       "\t 29 & ADHD   & 0.83\\\\\n",
       "\t 30 & ADHD   & 0.77\\\\\n",
       "\t 31 & ADHD   & 0.70\\\\\n",
       "\t 32 & ADHD   & 0.83\\\\\n",
       "\t 33 & ADHD   & 0.82\\\\\n",
       "\t 34 & ADHD   & 0.84\\\\\n",
       "\t 35 & ADHD   & 0.82\\\\\n",
       "\t 36 & ADHD   & 0.78\\\\\n",
       "\t 37 & ADHD   & 0.77\\\\\n",
       "\t 38 & ADHD   & 0.55\\\\\n",
       "\t 39 & ADHD   & 0.67\\\\\n",
       "\t 40 & ADHD   & 0.73\\\\\n",
       "\t 41 & ADHD   & 0.77\\\\\n",
       "\t 42 & ADHD   & 0.70\\\\\n",
       "\t 43 & ADHD   & 0.73\\\\\n",
       "\t 44 & ADHD   & 0.82\\\\\n",
       "\\end{tabular}\n"
      ],
      "text/markdown": [
       "\n",
       "A tibble: 44 × 3\n",
       "\n",
       "| id &lt;dbl&gt; | group &lt;chr&gt; | bias &lt;dbl&gt; |\n",
       "|---|---|---|\n",
       "|  1 | Normal | 0.43 |\n",
       "|  2 | Normal | 0.57 |\n",
       "|  3 | Normal | 0.53 |\n",
       "|  4 | Normal | 0.52 |\n",
       "|  5 | Normal | 0.37 |\n",
       "|  6 | Normal | 0.37 |\n",
       "|  7 | Normal | 0.58 |\n",
       "|  8 | Normal | 0.52 |\n",
       "|  9 | Normal | 0.45 |\n",
       "| 10 | Normal | 0.58 |\n",
       "| 11 | Normal | 0.57 |\n",
       "| 12 | Normal | 0.59 |\n",
       "| 13 | Normal | 0.57 |\n",
       "| 14 | Normal | 0.53 |\n",
       "| 15 | Normal | 0.52 |\n",
       "| 16 | Normal | 0.30 |\n",
       "| 17 | Normal | 0.42 |\n",
       "| 18 | Normal | 0.48 |\n",
       "| 19 | Normal | 0.52 |\n",
       "| 20 | Normal | 0.45 |\n",
       "| 21 | Normal | 0.49 |\n",
       "| 22 | Normal | 0.57 |\n",
       "| 23 | ADHD   | 0.68 |\n",
       "| 24 | ADHD   | 0.82 |\n",
       "| 25 | ADHD   | 0.78 |\n",
       "| 26 | ADHD   | 0.77 |\n",
       "| 27 | ADHD   | 0.62 |\n",
       "| 28 | ADHD   | 0.62 |\n",
       "| 29 | ADHD   | 0.83 |\n",
       "| 30 | ADHD   | 0.77 |\n",
       "| 31 | ADHD   | 0.70 |\n",
       "| 32 | ADHD   | 0.83 |\n",
       "| 33 | ADHD   | 0.82 |\n",
       "| 34 | ADHD   | 0.84 |\n",
       "| 35 | ADHD   | 0.82 |\n",
       "| 36 | ADHD   | 0.78 |\n",
       "| 37 | ADHD   | 0.77 |\n",
       "| 38 | ADHD   | 0.55 |\n",
       "| 39 | ADHD   | 0.67 |\n",
       "| 40 | ADHD   | 0.73 |\n",
       "| 41 | ADHD   | 0.77 |\n",
       "| 42 | ADHD   | 0.70 |\n",
       "| 43 | ADHD   | 0.73 |\n",
       "| 44 | ADHD   | 0.82 |\n",
       "\n"
      ],
      "text/plain": [
       "   id group  bias\n",
       "1   1 Normal 0.43\n",
       "2   2 Normal 0.57\n",
       "3   3 Normal 0.53\n",
       "4   4 Normal 0.52\n",
       "5   5 Normal 0.37\n",
       "6   6 Normal 0.37\n",
       "7   7 Normal 0.58\n",
       "8   8 Normal 0.52\n",
       "9   9 Normal 0.45\n",
       "10 10 Normal 0.58\n",
       "11 11 Normal 0.57\n",
       "12 12 Normal 0.59\n",
       "13 13 Normal 0.57\n",
       "14 14 Normal 0.53\n",
       "15 15 Normal 0.52\n",
       "16 16 Normal 0.30\n",
       "17 17 Normal 0.42\n",
       "18 18 Normal 0.48\n",
       "19 19 Normal 0.52\n",
       "20 20 Normal 0.45\n",
       "21 21 Normal 0.49\n",
       "22 22 Normal 0.57\n",
       "23 23 ADHD   0.68\n",
       "24 24 ADHD   0.82\n",
       "25 25 ADHD   0.78\n",
       "26 26 ADHD   0.77\n",
       "27 27 ADHD   0.62\n",
       "28 28 ADHD   0.62\n",
       "29 29 ADHD   0.83\n",
       "30 30 ADHD   0.77\n",
       "31 31 ADHD   0.70\n",
       "32 32 ADHD   0.83\n",
       "33 33 ADHD   0.82\n",
       "34 34 ADHD   0.84\n",
       "35 35 ADHD   0.82\n",
       "36 36 ADHD   0.78\n",
       "37 37 ADHD   0.77\n",
       "38 38 ADHD   0.55\n",
       "39 39 ADHD   0.67\n",
       "40 40 ADHD   0.73\n",
       "41 41 ADHD   0.77\n",
       "42 42 ADHD   0.70\n",
       "43 43 ADHD   0.73\n",
       "44 44 ADHD   0.82"
      ]
     },
     "metadata": {},
     "output_type": "display_data"
    }
   ],
   "source": [
    "GoNoGo_ADHD_bias"
   ]
  },
  {
   "cell_type": "code",
   "execution_count": 30,
   "id": "2b85d308-7cfe-4192-bc8f-227496396c52",
   "metadata": {},
   "outputs": [
    {
     "data": {
      "text/html": [
       "<table class=\"dataframe\">\n",
       "<caption>A tibble: 2 × 5</caption>\n",
       "<thead>\n",
       "\t<tr><th scope=col>group</th><th scope=col>variable</th><th scope=col>n</th><th scope=col>median</th><th scope=col>iqr</th></tr>\n",
       "\t<tr><th scope=col>&lt;chr&gt;</th><th scope=col>&lt;fct&gt;</th><th scope=col>&lt;dbl&gt;</th><th scope=col>&lt;dbl&gt;</th><th scope=col>&lt;dbl&gt;</th></tr>\n",
       "</thead>\n",
       "<tbody>\n",
       "\t<tr><td>ADHD  </td><td>bias</td><td>22</td><td>0.77</td><td>0.12</td></tr>\n",
       "\t<tr><td>Normal</td><td>bias</td><td>22</td><td>0.52</td><td>0.12</td></tr>\n",
       "</tbody>\n",
       "</table>\n"
      ],
      "text/latex": [
       "A tibble: 2 × 5\n",
       "\\begin{tabular}{lllll}\n",
       " group & variable & n & median & iqr\\\\\n",
       " <chr> & <fct> & <dbl> & <dbl> & <dbl>\\\\\n",
       "\\hline\n",
       "\t ADHD   & bias & 22 & 0.77 & 0.12\\\\\n",
       "\t Normal & bias & 22 & 0.52 & 0.12\\\\\n",
       "\\end{tabular}\n"
      ],
      "text/markdown": [
       "\n",
       "A tibble: 2 × 5\n",
       "\n",
       "| group &lt;chr&gt; | variable &lt;fct&gt; | n &lt;dbl&gt; | median &lt;dbl&gt; | iqr &lt;dbl&gt; |\n",
       "|---|---|---|---|---|\n",
       "| ADHD   | bias | 22 | 0.77 | 0.12 |\n",
       "| Normal | bias | 22 | 0.52 | 0.12 |\n",
       "\n"
      ],
      "text/plain": [
       "  group  variable n  median iqr \n",
       "1 ADHD   bias     22 0.77   0.12\n",
       "2 Normal bias     22 0.52   0.12"
      ]
     },
     "metadata": {},
     "output_type": "display_data"
    }
   ],
   "source": [
    "GoNoGo_ADHD_bias %>% group_by(group) %>% get_summary_stats(bias, type = \"median_iqr\")"
   ]
  },
  {
   "cell_type": "code",
   "execution_count": 32,
   "id": "8ce0fbe2-b6bf-4d0b-a99a-0792c562b254",
   "metadata": {},
   "outputs": [
    {
     "data": {
      "image/png": "[encoded data removed]",
      "text/plain": [
       "plot without title"
      ]
     },
     "metadata": {
      "image/png": {
       "height": 420,
       "width": 420
      }
     },
     "output_type": "display_data"
    }
   ],
   "source": [
    "ggboxplot(GoNoGo_ADHD_bias, x=\"group\", y=\"bias\")"
   ]
  },
  {
   "cell_type": "code",
   "execution_count": 33,
   "id": "f57aad70-ee87-4509-85c8-c27386898266",
   "metadata": {},
   "outputs": [
    {
     "data": {
      "text/html": [
       "<table class=\"dataframe\">\n",
       "<caption>A data.frame: 0 × 5</caption>\n",
       "<thead>\n",
       "\t<tr><th scope=col>group</th><th scope=col>id</th><th scope=col>bias</th><th scope=col>is.outlier</th><th scope=col>is.extreme</th></tr>\n",
       "\t<tr><th scope=col>&lt;chr&gt;</th><th scope=col>&lt;dbl&gt;</th><th scope=col>&lt;dbl&gt;</th><th scope=col>&lt;lgl&gt;</th><th scope=col>&lt;lgl&gt;</th></tr>\n",
       "</thead>\n",
       "<tbody>\n",
       "</tbody>\n",
       "</table>\n"
      ],
      "text/latex": [
       "A data.frame: 0 × 5\n",
       "\\begin{tabular}{lllll}\n",
       " group & id & bias & is.outlier & is.extreme\\\\\n",
       " <chr> & <dbl> & <dbl> & <lgl> & <lgl>\\\\\n",
       "\\hline\n",
       "\\end{tabular}\n"
      ],
      "text/markdown": [
       "\n",
       "A data.frame: 0 × 5\n",
       "\n",
       "| group &lt;chr&gt; | id &lt;dbl&gt; | bias &lt;dbl&gt; | is.outlier &lt;lgl&gt; | is.extreme &lt;lgl&gt; |\n",
       "|---|---|---|---|---|\n",
       "\n"
      ],
      "text/plain": [
       "     group id bias is.outlier is.extreme"
      ]
     },
     "metadata": {},
     "output_type": "display_data"
    }
   ],
   "source": [
    "GoNoGo_ADHD_bias %>% group_by(group) %>% identify_outliers(bias)"
   ]
  },
  {
   "cell_type": "code",
   "execution_count": 34,
   "id": "353991fd-ab11-48f9-a98d-3b044781c525",
   "metadata": {},
   "outputs": [
    {
     "data": {
      "text/html": [
       "<table class=\"dataframe\">\n",
       "<caption>A tibble: 2 × 4</caption>\n",
       "<thead>\n",
       "\t<tr><th scope=col>group</th><th scope=col>variable</th><th scope=col>statistic</th><th scope=col>p</th></tr>\n",
       "\t<tr><th scope=col>&lt;chr&gt;</th><th scope=col>&lt;chr&gt;</th><th scope=col>&lt;dbl&gt;</th><th scope=col>&lt;dbl&gt;</th></tr>\n",
       "</thead>\n",
       "<tbody>\n",
       "\t<tr><td>ADHD  </td><td>bias</td><td>0.9029851</td><td>0.03412215</td></tr>\n",
       "\t<tr><td>Normal</td><td>bias</td><td>0.9013495</td><td>0.03163484</td></tr>\n",
       "</tbody>\n",
       "</table>\n"
      ],
      "text/latex": [
       "A tibble: 2 × 4\n",
       "\\begin{tabular}{llll}\n",
       " group & variable & statistic & p\\\\\n",
       " <chr> & <chr> & <dbl> & <dbl>\\\\\n",
       "\\hline\n",
       "\t ADHD   & bias & 0.9029851 & 0.03412215\\\\\n",
       "\t Normal & bias & 0.9013495 & 0.03163484\\\\\n",
       "\\end{tabular}\n"
      ],
      "text/markdown": [
       "\n",
       "A tibble: 2 × 4\n",
       "\n",
       "| group &lt;chr&gt; | variable &lt;chr&gt; | statistic &lt;dbl&gt; | p &lt;dbl&gt; |\n",
       "|---|---|---|---|\n",
       "| ADHD   | bias | 0.9029851 | 0.03412215 |\n",
       "| Normal | bias | 0.9013495 | 0.03163484 |\n",
       "\n"
      ],
      "text/plain": [
       "  group  variable statistic p         \n",
       "1 ADHD   bias     0.9029851 0.03412215\n",
       "2 Normal bias     0.9013495 0.03163484"
      ]
     },
     "metadata": {},
     "output_type": "display_data"
    }
   ],
   "source": [
    "GoNoGo_ADHD_bias %>% group_by(group) %>% shapiro_test(bias)"
   ]
  },
  {
   "cell_type": "code",
   "execution_count": 42,
   "id": "1ec52e84-1f34-4597-9c44-de0ca6f81c8c",
   "metadata": {},
   "outputs": [
    {
     "data": {
      "image/png": "[encoded data removed]",
      "text/plain": [
       "Plot with title \"density(x = GoNoGo_ADHD_bias$bias[GoNoGo_ADHD_bias$group == \"Plot with title \"    \"ADHD\"])\""
      ]
     },
     "metadata": {
      "image/png": {
       "height": 420,
       "width": 420
      }
     },
     "output_type": "display_data"
    }
   ],
   "source": [
    "plot(density(GoNoGo_ADHD_bias$bias[GoNoGo_ADHD_bias$group == \"ADHD\"]))"
   ]
  },
  {
   "cell_type": "code",
   "execution_count": 43,
   "id": "0d0017a8-9542-4af1-8c9c-351f7fe40a40",
   "metadata": {},
   "outputs": [
    {
     "data": {
      "image/png": "[encoded data removed]",
      "text/plain": [
       "Plot with title \"density(x = GoNoGo_ADHD_bias$bias[GoNoGo_ADHD_bias$group == \"Plot with title \"    \"Normal\"])\""
      ]
     },
     "metadata": {
      "image/png": {
       "height": 420,
       "width": 420
      }
     },
     "output_type": "display_data"
    }
   ],
   "source": [
    "plot(density(GoNoGo_ADHD_bias$bias[GoNoGo_ADHD_bias$group == \"Normal\"]))"
   ]
  },
  {
   "cell_type": "code",
   "execution_count": 45,
   "id": "f90bd990-3cb6-42a5-bb87-a722e6453cc7",
   "metadata": {},
   "outputs": [
    {
     "data": {
      "text/plain": [
       "\n",
       "\tm-out-of-n bootstrap symmetry test by Miao, Gel, and Gastwirth (2006)\n",
       "\n",
       "data:  GoNoGo_ADHD_bias$bias[GoNoGo_ADHD_bias$group == \"ADHD\"]\n",
       "Test statistic = -1.9222, p-value = 0.064\n",
       "alternative hypothesis: the distribution is asymmetric.\n",
       "sample estimates:\n",
       "bootstrap optimal m \n",
       "                 14 \n"
      ]
     },
     "metadata": {},
     "output_type": "display_data"
    }
   ],
   "source": [
    "symmetry.test(GoNoGo_ADHD_bias$bias[GoNoGo_ADHD_bias$group == \"ADHD\"])"
   ]
  },
  {
   "cell_type": "code",
   "execution_count": 46,
   "id": "45406826-dbac-4fb7-bba8-d6d49f7dac26",
   "metadata": {},
   "outputs": [
    {
     "data": {
      "text/plain": [
       "\n",
       "\tm-out-of-n bootstrap symmetry test by Miao, Gel, and Gastwirth (2006)\n",
       "\n",
       "data:  GoNoGo_ADHD_bias$bias[GoNoGo_ADHD_bias$group == \"Normal\"]\n",
       "Test statistic = -1.8995, p-value = 0.098\n",
       "alternative hypothesis: the distribution is asymmetric.\n",
       "sample estimates:\n",
       "bootstrap optimal m \n",
       "                 20 \n"
      ]
     },
     "metadata": {},
     "output_type": "display_data"
    }
   ],
   "source": [
    "symmetry.test(GoNoGo_ADHD_bias$bias[GoNoGo_ADHD_bias$group == \"Normal\"])"
   ]
  },
  {
   "cell_type": "code",
   "execution_count": 47,
   "id": "ce9fdd02-a9c5-4076-8a72-fc750c628e55",
   "metadata": {},
   "outputs": [
    {
     "data": {
      "text/html": [
       "<table class=\"dataframe\">\n",
       "<caption>A rstatix_test: 1 × 7</caption>\n",
       "<thead>\n",
       "\t<tr><th></th><th scope=col>.y.</th><th scope=col>group1</th><th scope=col>group2</th><th scope=col>n1</th><th scope=col>n2</th><th scope=col>statistic</th><th scope=col>p</th></tr>\n",
       "\t<tr><th></th><th scope=col>&lt;chr&gt;</th><th scope=col>&lt;chr&gt;</th><th scope=col>&lt;chr&gt;</th><th scope=col>&lt;int&gt;</th><th scope=col>&lt;int&gt;</th><th scope=col>&lt;dbl&gt;</th><th scope=col>&lt;dbl&gt;</th></tr>\n",
       "</thead>\n",
       "<tbody>\n",
       "\t<tr><th scope=row>1</th><td>bias</td><td>ADHD</td><td>Normal</td><td>22</td><td>22</td><td>477</td><td>3.51e-08</td></tr>\n",
       "</tbody>\n",
       "</table>\n"
      ],
      "text/latex": [
       "A rstatix\\_test: 1 × 7\n",
       "\\begin{tabular}{r|lllllll}\n",
       "  & .y. & group1 & group2 & n1 & n2 & statistic & p\\\\\n",
       "  & <chr> & <chr> & <chr> & <int> & <int> & <dbl> & <dbl>\\\\\n",
       "\\hline\n",
       "\t1 & bias & ADHD & Normal & 22 & 22 & 477 & 3.51e-08\\\\\n",
       "\\end{tabular}\n"
      ],
      "text/markdown": [
       "\n",
       "A rstatix_test: 1 × 7\n",
       "\n",
       "| <!--/--> | .y. &lt;chr&gt; | group1 &lt;chr&gt; | group2 &lt;chr&gt; | n1 &lt;int&gt; | n2 &lt;int&gt; | statistic &lt;dbl&gt; | p &lt;dbl&gt; |\n",
       "|---|---|---|---|---|---|---|---|\n",
       "| 1 | bias | ADHD | Normal | 22 | 22 | 477 | 3.51e-08 |\n",
       "\n"
      ],
      "text/plain": [
       "  .y.  group1 group2 n1 n2 statistic p       \n",
       "1 bias ADHD   Normal 22 22 477       3.51e-08"
      ]
     },
     "metadata": {},
     "output_type": "display_data"
    }
   ],
   "source": [
    "GoNoGo_ADHD_bias %>% wilcox_test(bias ~ group)"
   ]
  },
  {
   "cell_type": "code",
   "execution_count": 48,
   "id": "27b889ff-6898-4add-9f0e-e60d1570470b",
   "metadata": {},
   "outputs": [
    {
     "data": {
      "text/html": [
       "<table class=\"dataframe\">\n",
       "<caption>A rstatix_test: 1 × 7</caption>\n",
       "<thead>\n",
       "\t<tr><th></th><th scope=col>.y.</th><th scope=col>group1</th><th scope=col>group2</th><th scope=col>effsize</th><th scope=col>n1</th><th scope=col>n2</th><th scope=col>magnitude</th></tr>\n",
       "\t<tr><th></th><th scope=col>&lt;chr&gt;</th><th scope=col>&lt;chr&gt;</th><th scope=col>&lt;chr&gt;</th><th scope=col>&lt;dbl&gt;</th><th scope=col>&lt;int&gt;</th><th scope=col>&lt;int&gt;</th><th scope=col>&lt;ord&gt;</th></tr>\n",
       "</thead>\n",
       "<tbody>\n",
       "\t<tr><th scope=row>1</th><td>bias</td><td>ADHD</td><td>Normal</td><td>0.8330179</td><td>22</td><td>22</td><td>large</td></tr>\n",
       "</tbody>\n",
       "</table>\n"
      ],
      "text/latex": [
       "A rstatix\\_test: 1 × 7\n",
       "\\begin{tabular}{r|lllllll}\n",
       "  & .y. & group1 & group2 & effsize & n1 & n2 & magnitude\\\\\n",
       "  & <chr> & <chr> & <chr> & <dbl> & <int> & <int> & <ord>\\\\\n",
       "\\hline\n",
       "\t1 & bias & ADHD & Normal & 0.8330179 & 22 & 22 & large\\\\\n",
       "\\end{tabular}\n"
      ],
      "text/markdown": [
       "\n",
       "A rstatix_test: 1 × 7\n",
       "\n",
       "| <!--/--> | .y. &lt;chr&gt; | group1 &lt;chr&gt; | group2 &lt;chr&gt; | effsize &lt;dbl&gt; | n1 &lt;int&gt; | n2 &lt;int&gt; | magnitude &lt;ord&gt; |\n",
       "|---|---|---|---|---|---|---|---|\n",
       "| 1 | bias | ADHD | Normal | 0.8330179 | 22 | 22 | large |\n",
       "\n"
      ],
      "text/plain": [
       "  .y.  group1 group2 effsize   n1 n2 magnitude\n",
       "1 bias ADHD   Normal 0.8330179 22 22 large    "
      ]
     },
     "metadata": {},
     "output_type": "display_data"
    }
   ],
   "source": [
    "GoNoGo_ADHD_bias %>% wilcox_effsize(bias ~ group)"
   ]
  },
  {
   "cell_type": "markdown",
   "id": "dabae6c8-3f06-49a6-a332-62e6bf05e579",
   "metadata": {},
   "source": [
    "## Wilcoxon signed rank test on paied samples\n",
    "### Two sample dependent t test"
   ]
  },
  {
   "cell_type": "code",
   "execution_count": 50,
   "id": "9262d571-c4be-456a-bd00-24daf6deef67",
   "metadata": {},
   "outputs": [],
   "source": [
    "GoNoGo_ADHD_bias_PrePo = read_excel(\"D://Amar//Codes_Data//GoNoGo_ADHD_bias_PrePost.xlsx\")"
   ]
  },
  {
   "cell_type": "code",
   "execution_count": 51,
   "id": "f803b543-d94d-46bb-9d23-352c1b8c8093",
   "metadata": {},
   "outputs": [
    {
     "data": {
      "text/html": [
       "<table class=\"dataframe\">\n",
       "<caption>A tibble: 44 × 3</caption>\n",
       "<thead>\n",
       "\t<tr><th scope=col>id</th><th scope=col>group</th><th scope=col>bias</th></tr>\n",
       "\t<tr><th scope=col>&lt;dbl&gt;</th><th scope=col>&lt;chr&gt;</th><th scope=col>&lt;dbl&gt;</th></tr>\n",
       "</thead>\n",
       "<tbody>\n",
       "\t<tr><td> 1</td><td>before</td><td>0.73</td></tr>\n",
       "\t<tr><td> 2</td><td>before</td><td>0.87</td></tr>\n",
       "\t<tr><td> 3</td><td>before</td><td>0.83</td></tr>\n",
       "\t<tr><td> 4</td><td>before</td><td>0.82</td></tr>\n",
       "\t<tr><td> 5</td><td>before</td><td>0.67</td></tr>\n",
       "\t<tr><td> 6</td><td>before</td><td>0.67</td></tr>\n",
       "\t<tr><td> 7</td><td>before</td><td>0.88</td></tr>\n",
       "\t<tr><td> 8</td><td>before</td><td>0.82</td></tr>\n",
       "\t<tr><td> 9</td><td>before</td><td>0.75</td></tr>\n",
       "\t<tr><td>10</td><td>before</td><td>0.88</td></tr>\n",
       "\t<tr><td>11</td><td>before</td><td>0.87</td></tr>\n",
       "\t<tr><td>12</td><td>before</td><td>0.89</td></tr>\n",
       "\t<tr><td>13</td><td>before</td><td>0.87</td></tr>\n",
       "\t<tr><td>14</td><td>before</td><td>0.83</td></tr>\n",
       "\t<tr><td>15</td><td>before</td><td>0.82</td></tr>\n",
       "\t<tr><td>16</td><td>before</td><td>0.60</td></tr>\n",
       "\t<tr><td>17</td><td>before</td><td>0.72</td></tr>\n",
       "\t<tr><td>18</td><td>before</td><td>0.78</td></tr>\n",
       "\t<tr><td>19</td><td>before</td><td>0.82</td></tr>\n",
       "\t<tr><td>20</td><td>before</td><td>0.75</td></tr>\n",
       "\t<tr><td>21</td><td>before</td><td>0.79</td></tr>\n",
       "\t<tr><td>22</td><td>before</td><td>0.87</td></tr>\n",
       "\t<tr><td> 1</td><td>after </td><td>0.68</td></tr>\n",
       "\t<tr><td> 2</td><td>after </td><td>0.82</td></tr>\n",
       "\t<tr><td> 3</td><td>after </td><td>0.78</td></tr>\n",
       "\t<tr><td> 4</td><td>after </td><td>0.77</td></tr>\n",
       "\t<tr><td> 5</td><td>after </td><td>0.62</td></tr>\n",
       "\t<tr><td> 6</td><td>after </td><td>0.62</td></tr>\n",
       "\t<tr><td> 7</td><td>after </td><td>0.83</td></tr>\n",
       "\t<tr><td> 8</td><td>after </td><td>0.77</td></tr>\n",
       "\t<tr><td> 9</td><td>after </td><td>0.70</td></tr>\n",
       "\t<tr><td>10</td><td>after </td><td>0.83</td></tr>\n",
       "\t<tr><td>11</td><td>after </td><td>0.82</td></tr>\n",
       "\t<tr><td>12</td><td>after </td><td>0.84</td></tr>\n",
       "\t<tr><td>13</td><td>after </td><td>0.82</td></tr>\n",
       "\t<tr><td>14</td><td>after </td><td>0.78</td></tr>\n",
       "\t<tr><td>15</td><td>after </td><td>0.77</td></tr>\n",
       "\t<tr><td>16</td><td>after </td><td>0.55</td></tr>\n",
       "\t<tr><td>17</td><td>after </td><td>0.67</td></tr>\n",
       "\t<tr><td>18</td><td>after </td><td>0.73</td></tr>\n",
       "\t<tr><td>19</td><td>after </td><td>0.77</td></tr>\n",
       "\t<tr><td>20</td><td>after </td><td>0.70</td></tr>\n",
       "\t<tr><td>21</td><td>after </td><td>0.73</td></tr>\n",
       "\t<tr><td>22</td><td>after </td><td>0.82</td></tr>\n",
       "</tbody>\n",
       "</table>\n"
      ],
      "text/latex": [
       "A tibble: 44 × 3\n",
       "\\begin{tabular}{lll}\n",
       " id & group & bias\\\\\n",
       " <dbl> & <chr> & <dbl>\\\\\n",
       "\\hline\n",
       "\t  1 & before & 0.73\\\\\n",
       "\t  2 & before & 0.87\\\\\n",
       "\t  3 & before & 0.83\\\\\n",
       "\t  4 & before & 0.82\\\\\n",
       "\t  5 & before & 0.67\\\\\n",
       "\t  6 & before & 0.67\\\\\n",
       "\t  7 & before & 0.88\\\\\n",
       "\t  8 & before & 0.82\\\\\n",
       "\t  9 & before & 0.75\\\\\n",
       "\t 10 & before & 0.88\\\\\n",
       "\t 11 & before & 0.87\\\\\n",
       "\t 12 & before & 0.89\\\\\n",
       "\t 13 & before & 0.87\\\\\n",
       "\t 14 & before & 0.83\\\\\n",
       "\t 15 & before & 0.82\\\\\n",
       "\t 16 & before & 0.60\\\\\n",
       "\t 17 & before & 0.72\\\\\n",
       "\t 18 & before & 0.78\\\\\n",
       "\t 19 & before & 0.82\\\\\n",
       "\t 20 & before & 0.75\\\\\n",
       "\t 21 & before & 0.79\\\\\n",
       "\t 22 & before & 0.87\\\\\n",
       "\t  1 & after  & 0.68\\\\\n",
       "\t  2 & after  & 0.82\\\\\n",
       "\t  3 & after  & 0.78\\\\\n",
       "\t  4 & after  & 0.77\\\\\n",
       "\t  5 & after  & 0.62\\\\\n",
       "\t  6 & after  & 0.62\\\\\n",
       "\t  7 & after  & 0.83\\\\\n",
       "\t  8 & after  & 0.77\\\\\n",
       "\t  9 & after  & 0.70\\\\\n",
       "\t 10 & after  & 0.83\\\\\n",
       "\t 11 & after  & 0.82\\\\\n",
       "\t 12 & after  & 0.84\\\\\n",
       "\t 13 & after  & 0.82\\\\\n",
       "\t 14 & after  & 0.78\\\\\n",
       "\t 15 & after  & 0.77\\\\\n",
       "\t 16 & after  & 0.55\\\\\n",
       "\t 17 & after  & 0.67\\\\\n",
       "\t 18 & after  & 0.73\\\\\n",
       "\t 19 & after  & 0.77\\\\\n",
       "\t 20 & after  & 0.70\\\\\n",
       "\t 21 & after  & 0.73\\\\\n",
       "\t 22 & after  & 0.82\\\\\n",
       "\\end{tabular}\n"
      ],
      "text/markdown": [
       "\n",
       "A tibble: 44 × 3\n",
       "\n",
       "| id &lt;dbl&gt; | group &lt;chr&gt; | bias &lt;dbl&gt; |\n",
       "|---|---|---|\n",
       "|  1 | before | 0.73 |\n",
       "|  2 | before | 0.87 |\n",
       "|  3 | before | 0.83 |\n",
       "|  4 | before | 0.82 |\n",
       "|  5 | before | 0.67 |\n",
       "|  6 | before | 0.67 |\n",
       "|  7 | before | 0.88 |\n",
       "|  8 | before | 0.82 |\n",
       "|  9 | before | 0.75 |\n",
       "| 10 | before | 0.88 |\n",
       "| 11 | before | 0.87 |\n",
       "| 12 | before | 0.89 |\n",
       "| 13 | before | 0.87 |\n",
       "| 14 | before | 0.83 |\n",
       "| 15 | before | 0.82 |\n",
       "| 16 | before | 0.60 |\n",
       "| 17 | before | 0.72 |\n",
       "| 18 | before | 0.78 |\n",
       "| 19 | before | 0.82 |\n",
       "| 20 | before | 0.75 |\n",
       "| 21 | before | 0.79 |\n",
       "| 22 | before | 0.87 |\n",
       "|  1 | after  | 0.68 |\n",
       "|  2 | after  | 0.82 |\n",
       "|  3 | after  | 0.78 |\n",
       "|  4 | after  | 0.77 |\n",
       "|  5 | after  | 0.62 |\n",
       "|  6 | after  | 0.62 |\n",
       "|  7 | after  | 0.83 |\n",
       "|  8 | after  | 0.77 |\n",
       "|  9 | after  | 0.70 |\n",
       "| 10 | after  | 0.83 |\n",
       "| 11 | after  | 0.82 |\n",
       "| 12 | after  | 0.84 |\n",
       "| 13 | after  | 0.82 |\n",
       "| 14 | after  | 0.78 |\n",
       "| 15 | after  | 0.77 |\n",
       "| 16 | after  | 0.55 |\n",
       "| 17 | after  | 0.67 |\n",
       "| 18 | after  | 0.73 |\n",
       "| 19 | after  | 0.77 |\n",
       "| 20 | after  | 0.70 |\n",
       "| 21 | after  | 0.73 |\n",
       "| 22 | after  | 0.82 |\n",
       "\n"
      ],
      "text/plain": [
       "   id group  bias\n",
       "1   1 before 0.73\n",
       "2   2 before 0.87\n",
       "3   3 before 0.83\n",
       "4   4 before 0.82\n",
       "5   5 before 0.67\n",
       "6   6 before 0.67\n",
       "7   7 before 0.88\n",
       "8   8 before 0.82\n",
       "9   9 before 0.75\n",
       "10 10 before 0.88\n",
       "11 11 before 0.87\n",
       "12 12 before 0.89\n",
       "13 13 before 0.87\n",
       "14 14 before 0.83\n",
       "15 15 before 0.82\n",
       "16 16 before 0.60\n",
       "17 17 before 0.72\n",
       "18 18 before 0.78\n",
       "19 19 before 0.82\n",
       "20 20 before 0.75\n",
       "21 21 before 0.79\n",
       "22 22 before 0.87\n",
       "23  1 after  0.68\n",
       "24  2 after  0.82\n",
       "25  3 after  0.78\n",
       "26  4 after  0.77\n",
       "27  5 after  0.62\n",
       "28  6 after  0.62\n",
       "29  7 after  0.83\n",
       "30  8 after  0.77\n",
       "31  9 after  0.70\n",
       "32 10 after  0.83\n",
       "33 11 after  0.82\n",
       "34 12 after  0.84\n",
       "35 13 after  0.82\n",
       "36 14 after  0.78\n",
       "37 15 after  0.77\n",
       "38 16 after  0.55\n",
       "39 17 after  0.67\n",
       "40 18 after  0.73\n",
       "41 19 after  0.77\n",
       "42 20 after  0.70\n",
       "43 21 after  0.73\n",
       "44 22 after  0.82"
      ]
     },
     "metadata": {},
     "output_type": "display_data"
    }
   ],
   "source": [
    "GoNoGo_ADHD_bias_PrePo"
   ]
  },
  {
   "cell_type": "code",
   "execution_count": 52,
   "id": "0c4f0311-cb0a-43a1-a4c5-30d8c8f3f885",
   "metadata": {},
   "outputs": [
    {
     "data": {
      "text/html": [
       "<table class=\"dataframe\">\n",
       "<caption>A tibble: 2 × 4</caption>\n",
       "<thead>\n",
       "\t<tr><th scope=col>group</th><th scope=col>variable</th><th scope=col>statistic</th><th scope=col>p</th></tr>\n",
       "\t<tr><th scope=col>&lt;chr&gt;</th><th scope=col>&lt;chr&gt;</th><th scope=col>&lt;dbl&gt;</th><th scope=col>&lt;dbl&gt;</th></tr>\n",
       "</thead>\n",
       "<tbody>\n",
       "\t<tr><td>after </td><td>bias</td><td>0.9029851</td><td>0.03412215</td></tr>\n",
       "\t<tr><td>before</td><td>bias</td><td>0.9013495</td><td>0.03163484</td></tr>\n",
       "</tbody>\n",
       "</table>\n"
      ],
      "text/latex": [
       "A tibble: 2 × 4\n",
       "\\begin{tabular}{llll}\n",
       " group & variable & statistic & p\\\\\n",
       " <chr> & <chr> & <dbl> & <dbl>\\\\\n",
       "\\hline\n",
       "\t after  & bias & 0.9029851 & 0.03412215\\\\\n",
       "\t before & bias & 0.9013495 & 0.03163484\\\\\n",
       "\\end{tabular}\n"
      ],
      "text/markdown": [
       "\n",
       "A tibble: 2 × 4\n",
       "\n",
       "| group &lt;chr&gt; | variable &lt;chr&gt; | statistic &lt;dbl&gt; | p &lt;dbl&gt; |\n",
       "|---|---|---|---|\n",
       "| after  | bias | 0.9029851 | 0.03412215 |\n",
       "| before | bias | 0.9013495 | 0.03163484 |\n",
       "\n"
      ],
      "text/plain": [
       "  group  variable statistic p         \n",
       "1 after  bias     0.9029851 0.03412215\n",
       "2 before bias     0.9013495 0.03163484"
      ]
     },
     "metadata": {},
     "output_type": "display_data"
    }
   ],
   "source": [
    "GoNoGo_ADHD_bias_PrePo %>% group_by(group) %>% shapiro_test(bias)"
   ]
  },
  {
   "cell_type": "code",
   "execution_count": 53,
   "id": "a18ed09a-f3e3-475e-8fac-0a3fb0ce88e4",
   "metadata": {},
   "outputs": [
    {
     "data": {
      "image/png": "[encoded data removed]",
      "text/plain": [
       "Plot with title \"density(x = GoNoGo_ADHD_bias_PrePo$bias[GoNoGo_ADHD_bias_PrePo$group == \"Plot with title \"    \"before\"])\""
      ]
     },
     "metadata": {
      "image/png": {
       "height": 420,
       "width": 420
      }
     },
     "output_type": "display_data"
    }
   ],
   "source": [
    "plot(density(GoNoGo_ADHD_bias_PrePo$bias[GoNoGo_ADHD_bias_PrePo$group == \"before\"]))"
   ]
  },
  {
   "cell_type": "code",
   "execution_count": 54,
   "id": "70062d96-625d-4cad-9463-78b27da68e59",
   "metadata": {},
   "outputs": [
    {
     "data": {
      "image/png": "[encoded data removed]",
      "text/plain": [
       "Plot with title \"density(x = GoNoGo_ADHD_bias_PrePo$bias[GoNoGo_ADHD_bias_PrePo$group == \"Plot with title \"    \"after\"])\""
      ]
     },
     "metadata": {
      "image/png": {
       "height": 420,
       "width": 420
      }
     },
     "output_type": "display_data"
    }
   ],
   "source": [
    "plot(density(GoNoGo_ADHD_bias_PrePo$bias[GoNoGo_ADHD_bias_PrePo$group == \"after\"]))"
   ]
  },
  {
   "cell_type": "code",
   "execution_count": 56,
   "id": "96fa00b0-586b-47cc-8f3b-ceb34579f46b",
   "metadata": {},
   "outputs": [
    {
     "data": {
      "text/plain": [
       "\n",
       "\tm-out-of-n bootstrap symmetry test by Miao, Gel, and Gastwirth (2006)\n",
       "\n",
       "data:  GoNoGo_ADHD_bias_PrePo$bias[GoNoGo_ADHD_bias_PrePo$group == \"before\"]\n",
       "Test statistic = -1.8995, p-value = 0.112\n",
       "alternative hypothesis: the distribution is asymmetric.\n",
       "sample estimates:\n",
       "bootstrap optimal m \n",
       "                 17 \n"
      ]
     },
     "metadata": {},
     "output_type": "display_data"
    }
   ],
   "source": [
    "symmetry.test(GoNoGo_ADHD_bias_PrePo$bias[GoNoGo_ADHD_bias_PrePo$group == \"before\"])"
   ]
  },
  {
   "cell_type": "code",
   "execution_count": 57,
   "id": "872f53d0-b647-49d8-a71b-171adb8c79c8",
   "metadata": {},
   "outputs": [
    {
     "data": {
      "text/plain": [
       "\n",
       "\tm-out-of-n bootstrap symmetry test by Miao, Gel, and Gastwirth (2006)\n",
       "\n",
       "data:  GoNoGo_ADHD_bias_PrePo$bias[GoNoGo_ADHD_bias_PrePo$group == \"after\"]\n",
       "Test statistic = -1.9222, p-value = 0.084\n",
       "alternative hypothesis: the distribution is asymmetric.\n",
       "sample estimates:\n",
       "bootstrap optimal m \n",
       "                 14 \n"
      ]
     },
     "metadata": {},
     "output_type": "display_data"
    }
   ],
   "source": [
    "symmetry.test(GoNoGo_ADHD_bias_PrePo$bias[GoNoGo_ADHD_bias_PrePo$group == \"after\"])"
   ]
  },
  {
   "cell_type": "code",
   "execution_count": 58,
   "id": "e4e491a1-36be-4b03-b8dd-a0de7f6d3e27",
   "metadata": {},
   "outputs": [
    {
     "data": {
      "text/html": [
       "<table class=\"dataframe\">\n",
       "<caption>A rstatix_test: 1 × 7</caption>\n",
       "<thead>\n",
       "\t<tr><th></th><th scope=col>.y.</th><th scope=col>group1</th><th scope=col>group2</th><th scope=col>n1</th><th scope=col>n2</th><th scope=col>statistic</th><th scope=col>p</th></tr>\n",
       "\t<tr><th></th><th scope=col>&lt;chr&gt;</th><th scope=col>&lt;chr&gt;</th><th scope=col>&lt;chr&gt;</th><th scope=col>&lt;int&gt;</th><th scope=col>&lt;int&gt;</th><th scope=col>&lt;dbl&gt;</th><th scope=col>&lt;dbl&gt;</th></tr>\n",
       "</thead>\n",
       "<tbody>\n",
       "\t<tr><th scope=row>1</th><td>bias</td><td>after</td><td>before</td><td>22</td><td>22</td><td>0</td><td>2.69e-05</td></tr>\n",
       "</tbody>\n",
       "</table>\n"
      ],
      "text/latex": [
       "A rstatix\\_test: 1 × 7\n",
       "\\begin{tabular}{r|lllllll}\n",
       "  & .y. & group1 & group2 & n1 & n2 & statistic & p\\\\\n",
       "  & <chr> & <chr> & <chr> & <int> & <int> & <dbl> & <dbl>\\\\\n",
       "\\hline\n",
       "\t1 & bias & after & before & 22 & 22 & 0 & 2.69e-05\\\\\n",
       "\\end{tabular}\n"
      ],
      "text/markdown": [
       "\n",
       "A rstatix_test: 1 × 7\n",
       "\n",
       "| <!--/--> | .y. &lt;chr&gt; | group1 &lt;chr&gt; | group2 &lt;chr&gt; | n1 &lt;int&gt; | n2 &lt;int&gt; | statistic &lt;dbl&gt; | p &lt;dbl&gt; |\n",
       "|---|---|---|---|---|---|---|---|\n",
       "| 1 | bias | after | before | 22 | 22 | 0 | 2.69e-05 |\n",
       "\n"
      ],
      "text/plain": [
       "  .y.  group1 group2 n1 n2 statistic p       \n",
       "1 bias after  before 22 22 0         2.69e-05"
      ]
     },
     "metadata": {},
     "output_type": "display_data"
    }
   ],
   "source": [
    "GoNoGo_ADHD_bias_PrePo %>% wilcox_test(bias ~ group, paired = TRUE)"
   ]
  },
  {
   "cell_type": "code",
   "execution_count": 59,
   "id": "2b9e62b8-8823-4b0e-8c70-8515ebebf816",
   "metadata": {},
   "outputs": [
    {
     "data": {
      "text/html": [
       "<table class=\"dataframe\">\n",
       "<caption>A rstatix_test: 1 × 7</caption>\n",
       "<thead>\n",
       "\t<tr><th></th><th scope=col>.y.</th><th scope=col>group1</th><th scope=col>group2</th><th scope=col>effsize</th><th scope=col>n1</th><th scope=col>n2</th><th scope=col>magnitude</th></tr>\n",
       "\t<tr><th></th><th scope=col>&lt;chr&gt;</th><th scope=col>&lt;chr&gt;</th><th scope=col>&lt;chr&gt;</th><th scope=col>&lt;dbl&gt;</th><th scope=col>&lt;int&gt;</th><th scope=col>&lt;int&gt;</th><th scope=col>&lt;ord&gt;</th></tr>\n",
       "</thead>\n",
       "<tbody>\n",
       "\t<tr><th scope=row>1</th><td>bias</td><td>after</td><td>before</td><td>0.8986844</td><td>22</td><td>22</td><td>large</td></tr>\n",
       "</tbody>\n",
       "</table>\n"
      ],
      "text/latex": [
       "A rstatix\\_test: 1 × 7\n",
       "\\begin{tabular}{r|lllllll}\n",
       "  & .y. & group1 & group2 & effsize & n1 & n2 & magnitude\\\\\n",
       "  & <chr> & <chr> & <chr> & <dbl> & <int> & <int> & <ord>\\\\\n",
       "\\hline\n",
       "\t1 & bias & after & before & 0.8986844 & 22 & 22 & large\\\\\n",
       "\\end{tabular}\n"
      ],
      "text/markdown": [
       "\n",
       "A rstatix_test: 1 × 7\n",
       "\n",
       "| <!--/--> | .y. &lt;chr&gt; | group1 &lt;chr&gt; | group2 &lt;chr&gt; | effsize &lt;dbl&gt; | n1 &lt;int&gt; | n2 &lt;int&gt; | magnitude &lt;ord&gt; |\n",
       "|---|---|---|---|---|---|---|---|\n",
       "| 1 | bias | after | before | 0.8986844 | 22 | 22 | large |\n",
       "\n"
      ],
      "text/plain": [
       "  .y.  group1 group2 effsize   n1 n2 magnitude\n",
       "1 bias after  before 0.8986844 22 22 large    "
      ]
     },
     "metadata": {},
     "output_type": "display_data"
    }
   ],
   "source": [
    "GoNoGo_ADHD_bias_PrePo %>% wilcox_effsize(bias ~ group, paired = TRUE)"
   ]
  }
 ],
 "metadata": {
  "kernelspec": {
   "display_name": "R",
   "language": "R",
   "name": "ir"
  },
  "language_info": {
   "codemirror_mode": "r",
   "file_extension": ".r",
   "mimetype": "text/x-r-source",
   "name": "R",
   "pygments_lexer": "r",
   "version": "4.3.2"
  }
 },
 "nbformat": 4,
 "nbformat_minor": 5
}
