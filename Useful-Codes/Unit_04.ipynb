{
 "cells": [
  {
   "cell_type": "markdown",
   "metadata": {
    "colab_type": "text",
    "id": "view-in-github"
   },
   "source": [
    "<a href=\"https://colab.research.google.com/github/saeedrafsharx/R_Beheshti_Exercises/blob/main/Unit_04.ipynb\" target=\"_parent\"><img src=\"https://colab.research.google.com/assets/colab-badge.svg\" alt=\"Open In Colab\"/></a>"
   ]
  },
  {
   "cell_type": "markdown",
   "metadata": {
    "id": "cf3U61f7cz2t"
   },
   "source": [
    "##کتابخونه های لازم رو صدا میکنیم بیان و پکیج هاشون رو هم نصب میکنیم"
   ]
  },
  {
   "cell_type": "code",
   "execution_count": null,
   "metadata": {
    "id": "RWg86AQGUtVd"
   },
   "outputs": [],
   "source": [
    "install.packages(\"rstatix\", repos = \"https://cloud.r-project.org\")"
   ]
  },
  {
   "cell_type": "code",
   "execution_count": null,
   "metadata": {
    "id": "eppfeu71Ytu6"
   },
   "outputs": [],
   "source": [
    "install.packages(\"ggpubr\")"
   ]
  },
  {
   "cell_type": "code",
   "execution_count": null,
   "metadata": {
    "id": "BrKW7i5dQ2P5"
   },
   "outputs": [],
   "source": [
    "library(readxl)"
   ]
  },
  {
   "cell_type": "code",
   "execution_count": null,
   "metadata": {
    "id": "0CNFOiW8YmGC"
   },
   "outputs": [],
   "source": [
    "library(ggpubr)"
   ]
  },
  {
   "cell_type": "code",
   "execution_count": null,
   "metadata": {
    "id": "h1X5aLRQUiVH"
   },
   "outputs": [],
   "source": [
    "library(rstatix)"
   ]
  },
  {
   "cell_type": "markdown",
   "metadata": {
    "id": "udhtY4WSdG1L"
   },
   "source": [
    "## داده هامون رو میریزیم داخل Data_normal"
   ]
  },
  {
   "cell_type": "code",
   "execution_count": null,
   "metadata": {
    "id": "OAcHJ5bKR8Sp"
   },
   "outputs": [],
   "source": [
    "Data_normal = read_excel(\"GoNoGo_bias_OneGroup.xlsx\")"
   ]
  },
  {
   "cell_type": "code",
   "execution_count": null,
   "metadata": {
    "id": "ycKujvlrS1ov"
   },
   "outputs": [],
   "source": [
    "Data_normal"
   ]
  },
  {
   "cell_type": "markdown",
   "metadata": {
    "id": "wze-IhuUdNJt"
   },
   "source": [
    "## یه خلاصه از آماره ی نمونه میگیریم ببینیم چه خبره، چخبرتونه"
   ]
  },
  {
   "cell_type": "code",
   "execution_count": null,
   "metadata": {
    "colab": {
     "base_uri": "https://localhost:8080/",
     "height": 149
    },
    "id": "k6sLsZjMTm8X",
    "outputId": "3f14302c-05bb-449a-ecea-db735fd514aa"
   },
   "outputs": [
    {
     "data": {
      "text/html": [
       "<table class=\"dataframe\">\n",
       "<caption>A tibble: 1 × 13</caption>\n",
       "<thead>\n",
       "\t<tr><th scope=col>variable</th><th scope=col>n</th><th scope=col>min</th><th scope=col>max</th><th scope=col>median</th><th scope=col>q1</th><th scope=col>q3</th><th scope=col>iqr</th><th scope=col>mad</th><th scope=col>mean</th><th scope=col>sd</th><th scope=col>se</th><th scope=col>ci</th></tr>\n",
       "\t<tr><th scope=col>&lt;fct&gt;</th><th scope=col>&lt;dbl&gt;</th><th scope=col>&lt;dbl&gt;</th><th scope=col>&lt;dbl&gt;</th><th scope=col>&lt;dbl&gt;</th><th scope=col>&lt;dbl&gt;</th><th scope=col>&lt;dbl&gt;</th><th scope=col>&lt;dbl&gt;</th><th scope=col>&lt;dbl&gt;</th><th scope=col>&lt;dbl&gt;</th><th scope=col>&lt;dbl&gt;</th><th scope=col>&lt;dbl&gt;</th><th scope=col>&lt;dbl&gt;</th></tr>\n",
       "</thead>\n",
       "<tbody>\n",
       "\t<tr><td>bias</td><td>12</td><td>0.52</td><td>0.78</td><td>0.725</td><td>0.62</td><td>0.77</td><td>0.15</td><td>0.074</td><td>0.694</td><td>0.092</td><td>0.026</td><td>0.058</td></tr>\n",
       "</tbody>\n",
       "</table>\n"
      ],
      "text/latex": [
       "A tibble: 1 × 13\n",
       "\\begin{tabular}{lllllllllllll}\n",
       " variable & n & min & max & median & q1 & q3 & iqr & mad & mean & sd & se & ci\\\\\n",
       " <fct> & <dbl> & <dbl> & <dbl> & <dbl> & <dbl> & <dbl> & <dbl> & <dbl> & <dbl> & <dbl> & <dbl> & <dbl>\\\\\n",
       "\\hline\n",
       "\t bias & 12 & 0.52 & 0.78 & 0.725 & 0.62 & 0.77 & 0.15 & 0.074 & 0.694 & 0.092 & 0.026 & 0.058\\\\\n",
       "\\end{tabular}\n"
      ],
      "text/markdown": [
       "\n",
       "A tibble: 1 × 13\n",
       "\n",
       "| variable &lt;fct&gt; | n &lt;dbl&gt; | min &lt;dbl&gt; | max &lt;dbl&gt; | median &lt;dbl&gt; | q1 &lt;dbl&gt; | q3 &lt;dbl&gt; | iqr &lt;dbl&gt; | mad &lt;dbl&gt; | mean &lt;dbl&gt; | sd &lt;dbl&gt; | se &lt;dbl&gt; | ci &lt;dbl&gt; |\n",
       "|---|---|---|---|---|---|---|---|---|---|---|---|---|\n",
       "| bias | 12 | 0.52 | 0.78 | 0.725 | 0.62 | 0.77 | 0.15 | 0.074 | 0.694 | 0.092 | 0.026 | 0.058 |\n",
       "\n"
      ],
      "text/plain": [
       "  variable n  min  max  median q1   q3   iqr  mad   mean  sd    se    ci   \n",
       "1 bias     12 0.52 0.78 0.725  0.62 0.77 0.15 0.074 0.694 0.092 0.026 0.058"
      ]
     },
     "metadata": {},
     "output_type": "display_data"
    }
   ],
   "source": [
    "Data_normal %>% get_summary_stats(bias)"
   ]
  },
  {
   "cell_type": "markdown",
   "metadata": {
    "id": "CF7Rn_ZXdZAI"
   },
   "source": [
    "## یه نمودار جعبه ای کشیدیم، نمی‌دونم چرا؟!"
   ]
  },
  {
   "cell_type": "code",
   "execution_count": null,
   "metadata": {
    "colab": {
     "base_uri": "https://localhost:8080/",
     "height": 437
    },
    "id": "JAYqwy0NZHeO",
    "outputId": "c92ad811-16c1-40a1-db16-4b02acf8df57"
   },
   "outputs": [
    {
     "data": {
      "image/png": "[encoded data removed]",
      "text/plain": [
       "plot without title"
      ]
     },
     "metadata": {
      "image/png": {
       "height": 420,
       "width": 420
      }
     },
     "output_type": "display_data"
    }
   ],
   "source": [
    "ggboxplot(Data_normal$bias, width = 0.5, add = c(\"mean\",\"jitter\"), fun.ylab=\"bias\")"
   ]
  },
  {
   "cell_type": "markdown",
   "metadata": {
    "id": "iM3UHNJcdgdm"
   },
   "source": [
    "## نمودار کیو کیو پلات کشیدیم ببینیم آیا پیش شرط نرمال بودن توزیع رو داریم یا نه\n",
    "## چون واسه تست های پارامتریک باید توزیع جامعه نرمال باشه"
   ]
  },
  {
   "cell_type": "code",
   "execution_count": null,
   "metadata": {
    "colab": {
     "base_uri": "https://localhost:8080/",
     "height": 437
    },
    "id": "Jo8AH49_bZDD",
    "outputId": "b6c26e9c-1f56-4b49-9b68-f6ccfb61e919"
   },
   "outputs": [
    {
     "data": {
      "image/png": "[encoded data removed]",
      "text/plain": [
       "plot without title"
      ]
     },
     "metadata": {
      "image/png": {
       "height": 420,
       "width": 420
      }
     },
     "output_type": "display_data"
    }
   ],
   "source": [
    "ggqqplot(Data_normal,\"bias\")"
   ]
  },
  {
   "cell_type": "markdown",
   "metadata": {
    "id": "71th7x71dw8Q"
   },
   "source": [
    "## یه راه دیگه واسه بررسی نرمال بودن توزیع جامعه شاپیرو هست\n",
    "### اگر مقدار پی بیشتر از ۰.۵ باشه توزیع نرماله"
   ]
  },
  {
   "cell_type": "code",
   "execution_count": null,
   "metadata": {
    "colab": {
     "base_uri": "https://localhost:8080/",
     "height": 129
    },
    "id": "vUisoL1Ibj0-",
    "outputId": "a5cb3a73-b134-47e1-827e-ee954924a78a"
   },
   "outputs": [
    {
     "data": {
      "text/html": [
       "<table class=\"dataframe\">\n",
       "<caption>A tibble: 1 × 3</caption>\n",
       "<thead>\n",
       "\t<tr><th scope=col>variable</th><th scope=col>statistic</th><th scope=col>p</th></tr>\n",
       "\t<tr><th scope=col>&lt;chr&gt;</th><th scope=col>&lt;dbl&gt;</th><th scope=col>&lt;dbl&gt;</th></tr>\n",
       "</thead>\n",
       "<tbody>\n",
       "\t<tr><td>bias</td><td>0.844051</td><td>0.03102369</td></tr>\n",
       "</tbody>\n",
       "</table>\n"
      ],
      "text/latex": [
       "A tibble: 1 × 3\n",
       "\\begin{tabular}{lll}\n",
       " variable & statistic & p\\\\\n",
       " <chr> & <dbl> & <dbl>\\\\\n",
       "\\hline\n",
       "\t bias & 0.844051 & 0.03102369\\\\\n",
       "\\end{tabular}\n"
      ],
      "text/markdown": [
       "\n",
       "A tibble: 1 × 3\n",
       "\n",
       "| variable &lt;chr&gt; | statistic &lt;dbl&gt; | p &lt;dbl&gt; |\n",
       "|---|---|---|\n",
       "| bias | 0.844051 | 0.03102369 |\n",
       "\n"
      ],
      "text/plain": [
       "  variable statistic p         \n",
       "1 bias     0.844051  0.03102369"
      ]
     },
     "metadata": {},
     "output_type": "display_data"
    }
   ],
   "source": [
    "Data_normal %>% shapiro_test(bias)"
   ]
  },
  {
   "cell_type": "markdown",
   "metadata": {
    "id": "hOkOGoLqeEYo"
   },
   "source": [
    "## پیش شرط دیگه ی آزمون های پارامتریک مثل تی، اینه که داده پرت نداشته باشیم\n",
    "## پس از دستور زیر استفاده میکنیم بهمون بگه داریم با نه\n",
    "### اگر بود باید کاریش کرد که استاد گفت سر کلاس میگم"
   ]
  },
  {
   "cell_type": "code",
   "execution_count": null,
   "metadata": {
    "colab": {
     "base_uri": "https://localhost:8080/",
     "height": 118
    },
    "id": "p19tlXewbvk2",
    "outputId": "9e411b60-c396-46c7-b2fd-ada2cd387046"
   },
   "outputs": [
    {
     "data": {
      "text/html": [
       "<table class=\"dataframe\">\n",
       "<caption>A data.frame: 0 × 4</caption>\n",
       "<thead>\n",
       "\t<tr><th scope=col>subj</th><th scope=col>bias</th><th scope=col>is.outlier</th><th scope=col>is.extreme</th></tr>\n",
       "\t<tr><th scope=col>&lt;dbl&gt;</th><th scope=col>&lt;dbl&gt;</th><th scope=col>&lt;lgl&gt;</th><th scope=col>&lt;lgl&gt;</th></tr>\n",
       "</thead>\n",
       "<tbody>\n",
       "</tbody>\n",
       "</table>\n"
      ],
      "text/latex": [
       "A data.frame: 0 × 4\n",
       "\\begin{tabular}{llll}\n",
       " subj & bias & is.outlier & is.extreme\\\\\n",
       " <dbl> & <dbl> & <lgl> & <lgl>\\\\\n",
       "\\hline\n",
       "\\end{tabular}\n"
      ],
      "text/markdown": [
       "\n",
       "A data.frame: 0 × 4\n",
       "\n",
       "| subj &lt;dbl&gt; | bias &lt;dbl&gt; | is.outlier &lt;lgl&gt; | is.extreme &lt;lgl&gt; |\n",
       "|---|---|---|---|\n",
       "\n"
      ],
      "text/plain": [
       "     subj bias is.outlier is.extreme"
      ]
     },
     "metadata": {},
     "output_type": "display_data"
    }
   ],
   "source": [
    "Data_normal %>% identify_outliers(bias)"
   ]
  },
  {
   "cell_type": "markdown",
   "metadata": {
    "id": "BWGre7VJeUop"
   },
   "source": [
    "## پیش شرط هارو داشتیم، تست تی میگیریم،\n",
    "### مقدار پی خییییییلی کمه پس فرض صفرمون رد میشه"
   ]
  },
  {
   "cell_type": "code",
   "execution_count": null,
   "metadata": {
    "colab": {
     "base_uri": "https://localhost:8080/",
     "height": 167
    },
    "id": "3oCaBDxsb62g",
    "outputId": "2730af2d-8107-41cb-e9f1-4fffed28cad1"
   },
   "outputs": [
    {
     "data": {
      "text/html": [
       "<table class=\"dataframe\">\n",
       "<caption>A rstatix_test: 1 × 7</caption>\n",
       "<thead>\n",
       "\t<tr><th></th><th scope=col>.y.</th><th scope=col>group1</th><th scope=col>group2</th><th scope=col>n</th><th scope=col>statistic</th><th scope=col>df</th><th scope=col>p</th></tr>\n",
       "\t<tr><th></th><th scope=col>&lt;chr&gt;</th><th scope=col>&lt;chr&gt;</th><th scope=col>&lt;chr&gt;</th><th scope=col>&lt;int&gt;</th><th scope=col>&lt;dbl&gt;</th><th scope=col>&lt;dbl&gt;</th><th scope=col>&lt;dbl&gt;</th></tr>\n",
       "</thead>\n",
       "<tbody>\n",
       "\t<tr><th scope=row>1</th><td>bias</td><td>1</td><td>null model</td><td>12</td><td>7.327255</td><td>11</td><td>1.49e-05</td></tr>\n",
       "</tbody>\n",
       "</table>\n"
      ],
      "text/latex": [
       "A rstatix\\_test: 1 × 7\n",
       "\\begin{tabular}{r|lllllll}\n",
       "  & .y. & group1 & group2 & n & statistic & df & p\\\\\n",
       "  & <chr> & <chr> & <chr> & <int> & <dbl> & <dbl> & <dbl>\\\\\n",
       "\\hline\n",
       "\t1 & bias & 1 & null model & 12 & 7.327255 & 11 & 1.49e-05\\\\\n",
       "\\end{tabular}\n"
      ],
      "text/markdown": [
       "\n",
       "A rstatix_test: 1 × 7\n",
       "\n",
       "| <!--/--> | .y. &lt;chr&gt; | group1 &lt;chr&gt; | group2 &lt;chr&gt; | n &lt;int&gt; | statistic &lt;dbl&gt; | df &lt;dbl&gt; | p &lt;dbl&gt; |\n",
       "|---|---|---|---|---|---|---|---|\n",
       "| 1 | bias | 1 | null model | 12 | 7.327255 | 11 | 1.49e-05 |\n",
       "\n"
      ],
      "text/plain": [
       "  .y.  group1 group2     n  statistic df p       \n",
       "1 bias 1      null model 12 7.327255  11 1.49e-05"
      ]
     },
     "metadata": {},
     "output_type": "display_data"
    }
   ],
   "source": [
    "Data_normal %>% t_test(bias ~ 1, mu= 0.5)"
   ]
  },
  {
   "cell_type": "markdown",
   "metadata": {
    "id": "Vt55Vjg_ehyE"
   },
   "source": [
    "## یه آزمون کوهن دی هم میگیریم تا اندازه اثر بدست بیاریم\n",
    "### اندازه رو زده لارج پس اندازه اثر خوبی داریم و جوابه"
   ]
  },
  {
   "cell_type": "code",
   "execution_count": null,
   "metadata": {
    "colab": {
     "base_uri": "https://localhost:8080/",
     "height": 167
    },
    "id": "hwxhKlNYckyw",
    "outputId": "dc0660d5-ced2-4278-c820-779d1791d5c0"
   },
   "outputs": [
    {
     "data": {
      "text/html": [
       "<table class=\"dataframe\">\n",
       "<caption>A rstatix_test: 1 × 6</caption>\n",
       "<thead>\n",
       "\t<tr><th></th><th scope=col>.y.</th><th scope=col>group1</th><th scope=col>group2</th><th scope=col>effsize</th><th scope=col>n</th><th scope=col>magnitude</th></tr>\n",
       "\t<tr><th></th><th scope=col>&lt;chr&gt;</th><th scope=col>&lt;chr&gt;</th><th scope=col>&lt;chr&gt;</th><th scope=col>&lt;dbl&gt;</th><th scope=col>&lt;int&gt;</th><th scope=col>&lt;ord&gt;</th></tr>\n",
       "</thead>\n",
       "<tbody>\n",
       "\t<tr><th scope=row>1</th><td>bias</td><td>1</td><td>null model</td><td>2.115196</td><td>12</td><td>large</td></tr>\n",
       "</tbody>\n",
       "</table>\n"
      ],
      "text/latex": [
       "A rstatix\\_test: 1 × 6\n",
       "\\begin{tabular}{r|llllll}\n",
       "  & .y. & group1 & group2 & effsize & n & magnitude\\\\\n",
       "  & <chr> & <chr> & <chr> & <dbl> & <int> & <ord>\\\\\n",
       "\\hline\n",
       "\t1 & bias & 1 & null model & 2.115196 & 12 & large\\\\\n",
       "\\end{tabular}\n"
      ],
      "text/markdown": [
       "\n",
       "A rstatix_test: 1 × 6\n",
       "\n",
       "| <!--/--> | .y. &lt;chr&gt; | group1 &lt;chr&gt; | group2 &lt;chr&gt; | effsize &lt;dbl&gt; | n &lt;int&gt; | magnitude &lt;ord&gt; |\n",
       "|---|---|---|---|---|---|---|\n",
       "| 1 | bias | 1 | null model | 2.115196 | 12 | large |\n",
       "\n"
      ],
      "text/plain": [
       "  .y.  group1 group2     effsize  n  magnitude\n",
       "1 bias 1      null model 2.115196 12 large    "
      ]
     },
     "metadata": {},
     "output_type": "display_data"
    }
   ],
   "source": [
    "Data_normal %>% cohens_d(bias ~ 1, mu=0.5)"
   ]
  }
 ],
 "metadata": {
  "colab": {
   "authorship_tag": "ABX9TyPIzdzWVtqQJO8xefgxZzfj",
   "include_colab_link": true,
   "provenance": []
  },
  "kernelspec": {
   "display_name": "R",
   "language": "R",
   "name": "ir"
  },
  "language_info": {
   "codemirror_mode": "r",
   "file_extension": ".r",
   "mimetype": "text/x-r-source",
   "name": "R",
   "pygments_lexer": "r",
   "version": "4.3.2"
  }
 },
 "nbformat": 4,
 "nbformat_minor": 4
}
