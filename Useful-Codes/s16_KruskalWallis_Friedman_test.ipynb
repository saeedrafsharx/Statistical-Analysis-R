{
 "cells": [
  {
   "cell_type": "markdown",
   "id": "4848fb14-58cc-43ef-bfe2-ab240a131d7b",
   "metadata": {},
   "source": [
    "# Kruskal-Wallis test"
   ]
  },
  {
   "cell_type": "markdown",
   "id": "745d7ee3-42aa-4b59-bfc0-87d115613cbb",
   "metadata": {},
   "source": [
    "#### one way anova"
   ]
  },
  {
   "cell_type": "code",
   "execution_count": 2,
   "id": "fefe5b02-c8dd-4a90-a4f5-4b724a1f2912",
   "metadata": {},
   "outputs": [],
   "source": [
    "library(readxl)\n",
    "library(rstatix)\n",
    "library(ggpubr)\n",
    "library(lawstat)"
   ]
  },
  {
   "cell_type": "code",
   "execution_count": 3,
   "id": "ad608ba1-fff6-4e33-a588-af0a9f3092b4",
   "metadata": {},
   "outputs": [],
   "source": [
    "N_back_3groups = read_excel(\"D://Amar//Codes_Data//N_back_3groups.xlsx\")"
   ]
  },
  {
   "cell_type": "code",
   "execution_count": 4,
   "id": "acfb87f6-e5d0-448e-9e3f-b8679bc4f77d",
   "metadata": {},
   "outputs": [
    {
     "data": {
      "text/html": [
       "<table class=\"dataframe\">\n",
       "<caption>A tibble: 90 × 3</caption>\n",
       "<thead>\n",
       "\t<tr><th scope=col>id</th><th scope=col>group</th><th scope=col>MRT</th></tr>\n",
       "\t<tr><th scope=col>&lt;dbl&gt;</th><th scope=col>&lt;chr&gt;</th><th scope=col>&lt;dbl&gt;</th></tr>\n",
       "</thead>\n",
       "<tbody>\n",
       "\t<tr><td> 1</td><td>One_Back</td><td>0.317</td></tr>\n",
       "\t<tr><td> 2</td><td>One_Back</td><td>0.158</td></tr>\n",
       "\t<tr><td> 3</td><td>One_Back</td><td>0.518</td></tr>\n",
       "\t<tr><td> 4</td><td>One_Back</td><td>0.611</td></tr>\n",
       "\t<tr><td> 5</td><td>One_Back</td><td>0.150</td></tr>\n",
       "\t<tr><td> 6</td><td>One_Back</td><td>0.161</td></tr>\n",
       "\t<tr><td> 7</td><td>One_Back</td><td>0.517</td></tr>\n",
       "\t<tr><td> 8</td><td>One_Back</td><td>0.553</td></tr>\n",
       "\t<tr><td> 9</td><td>One_Back</td><td>0.533</td></tr>\n",
       "\t<tr><td>10</td><td>One_Back</td><td>0.114</td></tr>\n",
       "\t<tr><td>11</td><td>One_Back</td><td>0.317</td></tr>\n",
       "\t<tr><td>12</td><td>One_Back</td><td>0.158</td></tr>\n",
       "\t<tr><td>13</td><td>One_Back</td><td>0.518</td></tr>\n",
       "\t<tr><td>14</td><td>One_Back</td><td>0.611</td></tr>\n",
       "\t<tr><td>15</td><td>One_Back</td><td>0.150</td></tr>\n",
       "\t<tr><td>16</td><td>One_Back</td><td>0.161</td></tr>\n",
       "\t<tr><td>17</td><td>One_Back</td><td>0.517</td></tr>\n",
       "\t<tr><td>18</td><td>One_Back</td><td>0.553</td></tr>\n",
       "\t<tr><td>19</td><td>One_Back</td><td>0.533</td></tr>\n",
       "\t<tr><td>20</td><td>One_Back</td><td>0.114</td></tr>\n",
       "\t<tr><td>21</td><td>One_Back</td><td>0.317</td></tr>\n",
       "\t<tr><td>22</td><td>One_Back</td><td>0.158</td></tr>\n",
       "\t<tr><td>23</td><td>One_Back</td><td>0.518</td></tr>\n",
       "\t<tr><td>24</td><td>One_Back</td><td>0.611</td></tr>\n",
       "\t<tr><td>25</td><td>One_Back</td><td>0.150</td></tr>\n",
       "\t<tr><td>26</td><td>One_Back</td><td>0.161</td></tr>\n",
       "\t<tr><td>27</td><td>One_Back</td><td>0.517</td></tr>\n",
       "\t<tr><td>28</td><td>One_Back</td><td>0.553</td></tr>\n",
       "\t<tr><td>29</td><td>One_Back</td><td>0.533</td></tr>\n",
       "\t<tr><td>30</td><td>One_Back</td><td>0.114</td></tr>\n",
       "\t<tr><td>⋮</td><td>⋮</td><td>⋮</td></tr>\n",
       "\t<tr><td>61</td><td>Three_back</td><td>4.331921</td></tr>\n",
       "\t<tr><td>62</td><td>Three_back</td><td>4.169068</td></tr>\n",
       "\t<tr><td>63</td><td>Three_back</td><td>4.535082</td></tr>\n",
       "\t<tr><td>64</td><td>Three_back</td><td>4.616973</td></tr>\n",
       "\t<tr><td>65</td><td>Three_back</td><td>4.160099</td></tr>\n",
       "\t<tr><td>66</td><td>Three_back</td><td>4.173054</td></tr>\n",
       "\t<tr><td>67</td><td>Three_back</td><td>4.525808</td></tr>\n",
       "\t<tr><td>68</td><td>Three_back</td><td>4.561278</td></tr>\n",
       "\t<tr><td>69</td><td>Three_back</td><td>4.538714</td></tr>\n",
       "\t<tr><td>70</td><td>Three_back</td><td>4.126685</td></tr>\n",
       "\t<tr><td>71</td><td>Three_back</td><td>4.333502</td></tr>\n",
       "\t<tr><td>72</td><td>Three_back</td><td>4.168130</td></tr>\n",
       "\t<tr><td>73</td><td>Three_back</td><td>4.519702</td></tr>\n",
       "\t<tr><td>74</td><td>Three_back</td><td>4.624587</td></tr>\n",
       "\t<tr><td>75</td><td>Three_back</td><td>4.165719</td></tr>\n",
       "\t<tr><td>76</td><td>Three_back</td><td>4.172286</td></tr>\n",
       "\t<tr><td>77</td><td>Three_back</td><td>4.527537</td></tr>\n",
       "\t<tr><td>78</td><td>Three_back</td><td>4.562057</td></tr>\n",
       "\t<tr><td>79</td><td>Three_back</td><td>4.545850</td></tr>\n",
       "\t<tr><td>80</td><td>Three_back</td><td>4.122481</td></tr>\n",
       "\t<tr><td>81</td><td>Three_back</td><td>4.330612</td></tr>\n",
       "\t<tr><td>82</td><td>Three_back</td><td>4.165898</td></tr>\n",
       "\t<tr><td>83</td><td>Three_back</td><td>4.531243</td></tr>\n",
       "\t<tr><td>84</td><td>Three_back</td><td>4.621341</td></tr>\n",
       "\t<tr><td>85</td><td>Three_back</td><td>4.165570</td></tr>\n",
       "\t<tr><td>86</td><td>Three_back</td><td>4.175300</td></tr>\n",
       "\t<tr><td>87</td><td>Three_back</td><td>4.519220</td></tr>\n",
       "\t<tr><td>88</td><td>Three_back</td><td>4.561255</td></tr>\n",
       "\t<tr><td>89</td><td>Three_back</td><td>4.539509</td></tr>\n",
       "\t<tr><td>90</td><td>Three_back</td><td>4.119678</td></tr>\n",
       "</tbody>\n",
       "</table>\n"
      ],
      "text/latex": [
       "A tibble: 90 × 3\n",
       "\\begin{tabular}{lll}\n",
       " id & group & MRT\\\\\n",
       " <dbl> & <chr> & <dbl>\\\\\n",
       "\\hline\n",
       "\t  1 & One\\_Back & 0.317\\\\\n",
       "\t  2 & One\\_Back & 0.158\\\\\n",
       "\t  3 & One\\_Back & 0.518\\\\\n",
       "\t  4 & One\\_Back & 0.611\\\\\n",
       "\t  5 & One\\_Back & 0.150\\\\\n",
       "\t  6 & One\\_Back & 0.161\\\\\n",
       "\t  7 & One\\_Back & 0.517\\\\\n",
       "\t  8 & One\\_Back & 0.553\\\\\n",
       "\t  9 & One\\_Back & 0.533\\\\\n",
       "\t 10 & One\\_Back & 0.114\\\\\n",
       "\t 11 & One\\_Back & 0.317\\\\\n",
       "\t 12 & One\\_Back & 0.158\\\\\n",
       "\t 13 & One\\_Back & 0.518\\\\\n",
       "\t 14 & One\\_Back & 0.611\\\\\n",
       "\t 15 & One\\_Back & 0.150\\\\\n",
       "\t 16 & One\\_Back & 0.161\\\\\n",
       "\t 17 & One\\_Back & 0.517\\\\\n",
       "\t 18 & One\\_Back & 0.553\\\\\n",
       "\t 19 & One\\_Back & 0.533\\\\\n",
       "\t 20 & One\\_Back & 0.114\\\\\n",
       "\t 21 & One\\_Back & 0.317\\\\\n",
       "\t 22 & One\\_Back & 0.158\\\\\n",
       "\t 23 & One\\_Back & 0.518\\\\\n",
       "\t 24 & One\\_Back & 0.611\\\\\n",
       "\t 25 & One\\_Back & 0.150\\\\\n",
       "\t 26 & One\\_Back & 0.161\\\\\n",
       "\t 27 & One\\_Back & 0.517\\\\\n",
       "\t 28 & One\\_Back & 0.553\\\\\n",
       "\t 29 & One\\_Back & 0.533\\\\\n",
       "\t 30 & One\\_Back & 0.114\\\\\n",
       "\t ⋮ & ⋮ & ⋮\\\\\n",
       "\t 61 & Three\\_back & 4.331921\\\\\n",
       "\t 62 & Three\\_back & 4.169068\\\\\n",
       "\t 63 & Three\\_back & 4.535082\\\\\n",
       "\t 64 & Three\\_back & 4.616973\\\\\n",
       "\t 65 & Three\\_back & 4.160099\\\\\n",
       "\t 66 & Three\\_back & 4.173054\\\\\n",
       "\t 67 & Three\\_back & 4.525808\\\\\n",
       "\t 68 & Three\\_back & 4.561278\\\\\n",
       "\t 69 & Three\\_back & 4.538714\\\\\n",
       "\t 70 & Three\\_back & 4.126685\\\\\n",
       "\t 71 & Three\\_back & 4.333502\\\\\n",
       "\t 72 & Three\\_back & 4.168130\\\\\n",
       "\t 73 & Three\\_back & 4.519702\\\\\n",
       "\t 74 & Three\\_back & 4.624587\\\\\n",
       "\t 75 & Three\\_back & 4.165719\\\\\n",
       "\t 76 & Three\\_back & 4.172286\\\\\n",
       "\t 77 & Three\\_back & 4.527537\\\\\n",
       "\t 78 & Three\\_back & 4.562057\\\\\n",
       "\t 79 & Three\\_back & 4.545850\\\\\n",
       "\t 80 & Three\\_back & 4.122481\\\\\n",
       "\t 81 & Three\\_back & 4.330612\\\\\n",
       "\t 82 & Three\\_back & 4.165898\\\\\n",
       "\t 83 & Three\\_back & 4.531243\\\\\n",
       "\t 84 & Three\\_back & 4.621341\\\\\n",
       "\t 85 & Three\\_back & 4.165570\\\\\n",
       "\t 86 & Three\\_back & 4.175300\\\\\n",
       "\t 87 & Three\\_back & 4.519220\\\\\n",
       "\t 88 & Three\\_back & 4.561255\\\\\n",
       "\t 89 & Three\\_back & 4.539509\\\\\n",
       "\t 90 & Three\\_back & 4.119678\\\\\n",
       "\\end{tabular}\n"
      ],
      "text/markdown": [
       "\n",
       "A tibble: 90 × 3\n",
       "\n",
       "| id &lt;dbl&gt; | group &lt;chr&gt; | MRT &lt;dbl&gt; |\n",
       "|---|---|---|\n",
       "|  1 | One_Back | 0.317 |\n",
       "|  2 | One_Back | 0.158 |\n",
       "|  3 | One_Back | 0.518 |\n",
       "|  4 | One_Back | 0.611 |\n",
       "|  5 | One_Back | 0.150 |\n",
       "|  6 | One_Back | 0.161 |\n",
       "|  7 | One_Back | 0.517 |\n",
       "|  8 | One_Back | 0.553 |\n",
       "|  9 | One_Back | 0.533 |\n",
       "| 10 | One_Back | 0.114 |\n",
       "| 11 | One_Back | 0.317 |\n",
       "| 12 | One_Back | 0.158 |\n",
       "| 13 | One_Back | 0.518 |\n",
       "| 14 | One_Back | 0.611 |\n",
       "| 15 | One_Back | 0.150 |\n",
       "| 16 | One_Back | 0.161 |\n",
       "| 17 | One_Back | 0.517 |\n",
       "| 18 | One_Back | 0.553 |\n",
       "| 19 | One_Back | 0.533 |\n",
       "| 20 | One_Back | 0.114 |\n",
       "| 21 | One_Back | 0.317 |\n",
       "| 22 | One_Back | 0.158 |\n",
       "| 23 | One_Back | 0.518 |\n",
       "| 24 | One_Back | 0.611 |\n",
       "| 25 | One_Back | 0.150 |\n",
       "| 26 | One_Back | 0.161 |\n",
       "| 27 | One_Back | 0.517 |\n",
       "| 28 | One_Back | 0.553 |\n",
       "| 29 | One_Back | 0.533 |\n",
       "| 30 | One_Back | 0.114 |\n",
       "| ⋮ | ⋮ | ⋮ |\n",
       "| 61 | Three_back | 4.331921 |\n",
       "| 62 | Three_back | 4.169068 |\n",
       "| 63 | Three_back | 4.535082 |\n",
       "| 64 | Three_back | 4.616973 |\n",
       "| 65 | Three_back | 4.160099 |\n",
       "| 66 | Three_back | 4.173054 |\n",
       "| 67 | Three_back | 4.525808 |\n",
       "| 68 | Three_back | 4.561278 |\n",
       "| 69 | Three_back | 4.538714 |\n",
       "| 70 | Three_back | 4.126685 |\n",
       "| 71 | Three_back | 4.333502 |\n",
       "| 72 | Three_back | 4.168130 |\n",
       "| 73 | Three_back | 4.519702 |\n",
       "| 74 | Three_back | 4.624587 |\n",
       "| 75 | Three_back | 4.165719 |\n",
       "| 76 | Three_back | 4.172286 |\n",
       "| 77 | Three_back | 4.527537 |\n",
       "| 78 | Three_back | 4.562057 |\n",
       "| 79 | Three_back | 4.545850 |\n",
       "| 80 | Three_back | 4.122481 |\n",
       "| 81 | Three_back | 4.330612 |\n",
       "| 82 | Three_back | 4.165898 |\n",
       "| 83 | Three_back | 4.531243 |\n",
       "| 84 | Three_back | 4.621341 |\n",
       "| 85 | Three_back | 4.165570 |\n",
       "| 86 | Three_back | 4.175300 |\n",
       "| 87 | Three_back | 4.519220 |\n",
       "| 88 | Three_back | 4.561255 |\n",
       "| 89 | Three_back | 4.539509 |\n",
       "| 90 | Three_back | 4.119678 |\n",
       "\n"
      ],
      "text/plain": [
       "   id group      MRT     \n",
       "1   1 One_Back   0.317   \n",
       "2   2 One_Back   0.158   \n",
       "3   3 One_Back   0.518   \n",
       "4   4 One_Back   0.611   \n",
       "5   5 One_Back   0.150   \n",
       "6   6 One_Back   0.161   \n",
       "7   7 One_Back   0.517   \n",
       "8   8 One_Back   0.553   \n",
       "9   9 One_Back   0.533   \n",
       "10 10 One_Back   0.114   \n",
       "11 11 One_Back   0.317   \n",
       "12 12 One_Back   0.158   \n",
       "13 13 One_Back   0.518   \n",
       "14 14 One_Back   0.611   \n",
       "15 15 One_Back   0.150   \n",
       "16 16 One_Back   0.161   \n",
       "17 17 One_Back   0.517   \n",
       "18 18 One_Back   0.553   \n",
       "19 19 One_Back   0.533   \n",
       "20 20 One_Back   0.114   \n",
       "21 21 One_Back   0.317   \n",
       "22 22 One_Back   0.158   \n",
       "23 23 One_Back   0.518   \n",
       "24 24 One_Back   0.611   \n",
       "25 25 One_Back   0.150   \n",
       "26 26 One_Back   0.161   \n",
       "27 27 One_Back   0.517   \n",
       "28 28 One_Back   0.553   \n",
       "29 29 One_Back   0.533   \n",
       "30 30 One_Back   0.114   \n",
       "⋮  ⋮  ⋮          ⋮       \n",
       "61 61 Three_back 4.331921\n",
       "62 62 Three_back 4.169068\n",
       "63 63 Three_back 4.535082\n",
       "64 64 Three_back 4.616973\n",
       "65 65 Three_back 4.160099\n",
       "66 66 Three_back 4.173054\n",
       "67 67 Three_back 4.525808\n",
       "68 68 Three_back 4.561278\n",
       "69 69 Three_back 4.538714\n",
       "70 70 Three_back 4.126685\n",
       "71 71 Three_back 4.333502\n",
       "72 72 Three_back 4.168130\n",
       "73 73 Three_back 4.519702\n",
       "74 74 Three_back 4.624587\n",
       "75 75 Three_back 4.165719\n",
       "76 76 Three_back 4.172286\n",
       "77 77 Three_back 4.527537\n",
       "78 78 Three_back 4.562057\n",
       "79 79 Three_back 4.545850\n",
       "80 80 Three_back 4.122481\n",
       "81 81 Three_back 4.330612\n",
       "82 82 Three_back 4.165898\n",
       "83 83 Three_back 4.531243\n",
       "84 84 Three_back 4.621341\n",
       "85 85 Three_back 4.165570\n",
       "86 86 Three_back 4.175300\n",
       "87 87 Three_back 4.519220\n",
       "88 88 Three_back 4.561255\n",
       "89 89 Three_back 4.539509\n",
       "90 90 Three_back 4.119678"
      ]
     },
     "metadata": {},
     "output_type": "display_data"
    }
   ],
   "source": [
    "N_back_3groups"
   ]
  },
  {
   "cell_type": "code",
   "execution_count": 5,
   "id": "73781be3-69af-43dc-9de1-ec990d4b895d",
   "metadata": {},
   "outputs": [
    {
     "data": {
      "text/html": [
       "<table class=\"dataframe\">\n",
       "<caption>A tibble: 3 × 5</caption>\n",
       "<thead>\n",
       "\t<tr><th scope=col>group</th><th scope=col>variable</th><th scope=col>n</th><th scope=col>median</th><th scope=col>iqr</th></tr>\n",
       "\t<tr><th scope=col>&lt;chr&gt;</th><th scope=col>&lt;fct&gt;</th><th scope=col>&lt;dbl&gt;</th><th scope=col>&lt;dbl&gt;</th><th scope=col>&lt;dbl&gt;</th></tr>\n",
       "</thead>\n",
       "<tbody>\n",
       "\t<tr><td>One_Back  </td><td>MRT</td><td>30</td><td>0.417</td><td>0.375</td></tr>\n",
       "\t<tr><td>Three_back</td><td>MRT</td><td>30</td><td>4.426</td><td>0.371</td></tr>\n",
       "\t<tr><td>Two_back  </td><td>MRT</td><td>30</td><td>1.421</td><td>0.373</td></tr>\n",
       "</tbody>\n",
       "</table>\n"
      ],
      "text/latex": [
       "A tibble: 3 × 5\n",
       "\\begin{tabular}{lllll}\n",
       " group & variable & n & median & iqr\\\\\n",
       " <chr> & <fct> & <dbl> & <dbl> & <dbl>\\\\\n",
       "\\hline\n",
       "\t One\\_Back   & MRT & 30 & 0.417 & 0.375\\\\\n",
       "\t Three\\_back & MRT & 30 & 4.426 & 0.371\\\\\n",
       "\t Two\\_back   & MRT & 30 & 1.421 & 0.373\\\\\n",
       "\\end{tabular}\n"
      ],
      "text/markdown": [
       "\n",
       "A tibble: 3 × 5\n",
       "\n",
       "| group &lt;chr&gt; | variable &lt;fct&gt; | n &lt;dbl&gt; | median &lt;dbl&gt; | iqr &lt;dbl&gt; |\n",
       "|---|---|---|---|---|\n",
       "| One_Back   | MRT | 30 | 0.417 | 0.375 |\n",
       "| Three_back | MRT | 30 | 4.426 | 0.371 |\n",
       "| Two_back   | MRT | 30 | 1.421 | 0.373 |\n",
       "\n"
      ],
      "text/plain": [
       "  group      variable n  median iqr  \n",
       "1 One_Back   MRT      30 0.417  0.375\n",
       "2 Three_back MRT      30 4.426  0.371\n",
       "3 Two_back   MRT      30 1.421  0.373"
      ]
     },
     "metadata": {},
     "output_type": "display_data"
    }
   ],
   "source": [
    "N_back_3groups %>% group_by(group) %>% get_summary_stats(MRT, type = \"median_iqr\")"
   ]
  },
  {
   "cell_type": "code",
   "execution_count": 6,
   "id": "c9a42646-74f7-4900-ab62-c3d4883d3ca8",
   "metadata": {},
   "outputs": [
    {
     "data": {
      "image/png": "[encoded data removed]",
      "text/plain": [
       "plot without title"
      ]
     },
     "metadata": {
      "image/png": {
       "height": 420,
       "width": 420
      }
     },
     "output_type": "display_data"
    }
   ],
   "source": [
    "ggboxplot(N_back_3groups, x = \"group\", y = \"MRT\" )"
   ]
  },
  {
   "cell_type": "code",
   "execution_count": 7,
   "id": "4471508b-2fad-4ffc-b4d8-fcef12b0845f",
   "metadata": {},
   "outputs": [
    {
     "data": {
      "text/html": [
       "<table class=\"dataframe\">\n",
       "<caption>A data.frame: 0 × 5</caption>\n",
       "<thead>\n",
       "\t<tr><th scope=col>group</th><th scope=col>id</th><th scope=col>MRT</th><th scope=col>is.outlier</th><th scope=col>is.extreme</th></tr>\n",
       "\t<tr><th scope=col>&lt;chr&gt;</th><th scope=col>&lt;dbl&gt;</th><th scope=col>&lt;dbl&gt;</th><th scope=col>&lt;lgl&gt;</th><th scope=col>&lt;lgl&gt;</th></tr>\n",
       "</thead>\n",
       "<tbody>\n",
       "</tbody>\n",
       "</table>\n"
      ],
      "text/latex": [
       "A data.frame: 0 × 5\n",
       "\\begin{tabular}{lllll}\n",
       " group & id & MRT & is.outlier & is.extreme\\\\\n",
       " <chr> & <dbl> & <dbl> & <lgl> & <lgl>\\\\\n",
       "\\hline\n",
       "\\end{tabular}\n"
      ],
      "text/markdown": [
       "\n",
       "A data.frame: 0 × 5\n",
       "\n",
       "| group &lt;chr&gt; | id &lt;dbl&gt; | MRT &lt;dbl&gt; | is.outlier &lt;lgl&gt; | is.extreme &lt;lgl&gt; |\n",
       "|---|---|---|---|---|\n",
       "\n"
      ],
      "text/plain": [
       "     group id MRT is.outlier is.extreme"
      ]
     },
     "metadata": {},
     "output_type": "display_data"
    }
   ],
   "source": [
    "N_back_3groups %>% group_by(group) %>% identify_outliers(MRT)"
   ]
  },
  {
   "cell_type": "code",
   "execution_count": 8,
   "id": "e6abcedf-e8c2-410b-9ff0-24fc79e3ef40",
   "metadata": {},
   "outputs": [
    {
     "data": {
      "text/html": [
       "<table class=\"dataframe\">\n",
       "<caption>A tibble: 3 × 4</caption>\n",
       "<thead>\n",
       "\t<tr><th scope=col>group</th><th scope=col>variable</th><th scope=col>statistic</th><th scope=col>p</th></tr>\n",
       "\t<tr><th scope=col>&lt;chr&gt;</th><th scope=col>&lt;chr&gt;</th><th scope=col>&lt;dbl&gt;</th><th scope=col>&lt;dbl&gt;</th></tr>\n",
       "</thead>\n",
       "<tbody>\n",
       "\t<tr><td>One_Back  </td><td>MRT</td><td>0.8010355</td><td>6.847518e-05</td></tr>\n",
       "\t<tr><td>Three_back</td><td>MRT</td><td>0.8080260</td><td>9.213559e-05</td></tr>\n",
       "\t<tr><td>Two_back  </td><td>MRT</td><td>0.8049325</td><td>8.074167e-05</td></tr>\n",
       "</tbody>\n",
       "</table>\n"
      ],
      "text/latex": [
       "A tibble: 3 × 4\n",
       "\\begin{tabular}{llll}\n",
       " group & variable & statistic & p\\\\\n",
       " <chr> & <chr> & <dbl> & <dbl>\\\\\n",
       "\\hline\n",
       "\t One\\_Back   & MRT & 0.8010355 & 6.847518e-05\\\\\n",
       "\t Three\\_back & MRT & 0.8080260 & 9.213559e-05\\\\\n",
       "\t Two\\_back   & MRT & 0.8049325 & 8.074167e-05\\\\\n",
       "\\end{tabular}\n"
      ],
      "text/markdown": [
       "\n",
       "A tibble: 3 × 4\n",
       "\n",
       "| group &lt;chr&gt; | variable &lt;chr&gt; | statistic &lt;dbl&gt; | p &lt;dbl&gt; |\n",
       "|---|---|---|---|\n",
       "| One_Back   | MRT | 0.8010355 | 6.847518e-05 |\n",
       "| Three_back | MRT | 0.8080260 | 9.213559e-05 |\n",
       "| Two_back   | MRT | 0.8049325 | 8.074167e-05 |\n",
       "\n"
      ],
      "text/plain": [
       "  group      variable statistic p           \n",
       "1 One_Back   MRT      0.8010355 6.847518e-05\n",
       "2 Three_back MRT      0.8080260 9.213559e-05\n",
       "3 Two_back   MRT      0.8049325 8.074167e-05"
      ]
     },
     "metadata": {},
     "output_type": "display_data"
    }
   ],
   "source": [
    "N_back_3groups %>% group_by(group) %>% shapiro_test(MRT)"
   ]
  },
  {
   "cell_type": "code",
   "execution_count": 9,
   "id": "312e3348-1da3-44f7-8e2f-2a5ddfdc2d3c",
   "metadata": {},
   "outputs": [
    {
     "data": {
      "image/png": "[encoded data removed]",
      "text/plain": [
       "plot without title"
      ]
     },
     "metadata": {
      "image/png": {
       "height": 420,
       "width": 420
      }
     },
     "output_type": "display_data"
    }
   ],
   "source": [
    "ggqqplot(N_back_3groups, \"MRT\", facet.by = \"group\")"
   ]
  },
  {
   "cell_type": "code",
   "execution_count": 10,
   "id": "34789dee-f88e-44aa-92be-041afe2ab62a",
   "metadata": {},
   "outputs": [
    {
     "data": {
      "text/html": [
       "<table class=\"dataframe\">\n",
       "<caption>A rstatix_test: 1 × 6</caption>\n",
       "<thead>\n",
       "\t<tr><th></th><th scope=col>.y.</th><th scope=col>n</th><th scope=col>statistic</th><th scope=col>df</th><th scope=col>p</th><th scope=col>method</th></tr>\n",
       "\t<tr><th></th><th scope=col>&lt;chr&gt;</th><th scope=col>&lt;int&gt;</th><th scope=col>&lt;dbl&gt;</th><th scope=col>&lt;int&gt;</th><th scope=col>&lt;dbl&gt;</th><th scope=col>&lt;chr&gt;</th></tr>\n",
       "</thead>\n",
       "<tbody>\n",
       "\t<tr><th scope=row>1</th><td>MRT</td><td>90</td><td>79.14694</td><td>2</td><td>6.51e-18</td><td>Kruskal-Wallis</td></tr>\n",
       "</tbody>\n",
       "</table>\n"
      ],
      "text/latex": [
       "A rstatix\\_test: 1 × 6\n",
       "\\begin{tabular}{r|llllll}\n",
       "  & .y. & n & statistic & df & p & method\\\\\n",
       "  & <chr> & <int> & <dbl> & <int> & <dbl> & <chr>\\\\\n",
       "\\hline\n",
       "\t1 & MRT & 90 & 79.14694 & 2 & 6.51e-18 & Kruskal-Wallis\\\\\n",
       "\\end{tabular}\n"
      ],
      "text/markdown": [
       "\n",
       "A rstatix_test: 1 × 6\n",
       "\n",
       "| <!--/--> | .y. &lt;chr&gt; | n &lt;int&gt; | statistic &lt;dbl&gt; | df &lt;int&gt; | p &lt;dbl&gt; | method &lt;chr&gt; |\n",
       "|---|---|---|---|---|---|---|\n",
       "| 1 | MRT | 90 | 79.14694 | 2 | 6.51e-18 | Kruskal-Wallis |\n",
       "\n"
      ],
      "text/plain": [
       "  .y. n  statistic df p        method        \n",
       "1 MRT 90 79.14694  2  6.51e-18 Kruskal-Wallis"
      ]
     },
     "metadata": {},
     "output_type": "display_data"
    }
   ],
   "source": [
    "N_back_3groups %>% kruskal_test(MRT ~ group)"
   ]
  },
  {
   "cell_type": "code",
   "execution_count": 11,
   "id": "b9dceb77-6e41-4479-9a33-4099a284204e",
   "metadata": {},
   "outputs": [
    {
     "data": {
      "text/html": [
       "<table class=\"dataframe\">\n",
       "<caption>A rstatix_test: 1 × 5</caption>\n",
       "<thead>\n",
       "\t<tr><th></th><th scope=col>.y.</th><th scope=col>n</th><th scope=col>effsize</th><th scope=col>method</th><th scope=col>magnitude</th></tr>\n",
       "\t<tr><th></th><th scope=col>&lt;chr&gt;</th><th scope=col>&lt;int&gt;</th><th scope=col>&lt;dbl&gt;</th><th scope=col>&lt;chr&gt;</th><th scope=col>&lt;ord&gt;</th></tr>\n",
       "</thead>\n",
       "<tbody>\n",
       "\t<tr><th scope=row>1</th><td>MRT</td><td>90</td><td>0.8867464</td><td>eta2[H]</td><td>large</td></tr>\n",
       "</tbody>\n",
       "</table>\n"
      ],
      "text/latex": [
       "A rstatix\\_test: 1 × 5\n",
       "\\begin{tabular}{r|lllll}\n",
       "  & .y. & n & effsize & method & magnitude\\\\\n",
       "  & <chr> & <int> & <dbl> & <chr> & <ord>\\\\\n",
       "\\hline\n",
       "\t1 & MRT & 90 & 0.8867464 & eta2{[}H{]} & large\\\\\n",
       "\\end{tabular}\n"
      ],
      "text/markdown": [
       "\n",
       "A rstatix_test: 1 × 5\n",
       "\n",
       "| <!--/--> | .y. &lt;chr&gt; | n &lt;int&gt; | effsize &lt;dbl&gt; | method &lt;chr&gt; | magnitude &lt;ord&gt; |\n",
       "|---|---|---|---|---|---|\n",
       "| 1 | MRT | 90 | 0.8867464 | eta2[H] | large |\n",
       "\n"
      ],
      "text/plain": [
       "  .y. n  effsize   method  magnitude\n",
       "1 MRT 90 0.8867464 eta2[H] large    "
      ]
     },
     "metadata": {},
     "output_type": "display_data"
    }
   ],
   "source": [
    "N_back_3groups %>% kruskal_effsize(MRT~group)"
   ]
  },
  {
   "cell_type": "markdown",
   "id": "4f99ba45-c2f1-4907-8c0b-71127fbbb361",
   "metadata": {},
   "source": [
    "## Non Para Post-hoc"
   ]
  },
  {
   "cell_type": "code",
   "execution_count": 22,
   "id": "e70fbc57-b1b7-4fb0-ab2e-5103c2d23c4d",
   "metadata": {},
   "outputs": [
    {
     "data": {
      "text/html": [
       "<table class=\"dataframe\">\n",
       "<caption>A rstatix_test: 3 × 9</caption>\n",
       "<thead>\n",
       "\t<tr><th></th><th scope=col>.y.</th><th scope=col>group1</th><th scope=col>group2</th><th scope=col>n1</th><th scope=col>n2</th><th scope=col>statistic</th><th scope=col>p</th><th scope=col>p.adj</th><th scope=col>p.adj.signif</th></tr>\n",
       "\t<tr><th></th><th scope=col>&lt;chr&gt;</th><th scope=col>&lt;chr&gt;</th><th scope=col>&lt;chr&gt;</th><th scope=col>&lt;int&gt;</th><th scope=col>&lt;int&gt;</th><th scope=col>&lt;dbl&gt;</th><th scope=col>&lt;dbl&gt;</th><th scope=col>&lt;dbl&gt;</th><th scope=col>&lt;chr&gt;</th></tr>\n",
       "</thead>\n",
       "<tbody>\n",
       "\t<tr><th scope=row>1</th><td>MRT</td><td>One_Back  </td><td>Three_back</td><td>30</td><td>30</td><td>  0</td><td>2.94e-11</td><td>8.82e-11</td><td>****</td></tr>\n",
       "\t<tr><th scope=row>2</th><td>MRT</td><td>One_Back  </td><td>Two_back  </td><td>30</td><td>30</td><td>  0</td><td>2.94e-11</td><td>8.82e-11</td><td>****</td></tr>\n",
       "\t<tr><th scope=row>3</th><td>MRT</td><td>Three_back</td><td>Two_back  </td><td>30</td><td>30</td><td>900</td><td>1.69e-17</td><td>5.07e-17</td><td>****</td></tr>\n",
       "</tbody>\n",
       "</table>\n"
      ],
      "text/latex": [
       "A rstatix\\_test: 3 × 9\n",
       "\\begin{tabular}{r|lllllllll}\n",
       "  & .y. & group1 & group2 & n1 & n2 & statistic & p & p.adj & p.adj.signif\\\\\n",
       "  & <chr> & <chr> & <chr> & <int> & <int> & <dbl> & <dbl> & <dbl> & <chr>\\\\\n",
       "\\hline\n",
       "\t1 & MRT & One\\_Back   & Three\\_back & 30 & 30 &   0 & 2.94e-11 & 8.82e-11 & ****\\\\\n",
       "\t2 & MRT & One\\_Back   & Two\\_back   & 30 & 30 &   0 & 2.94e-11 & 8.82e-11 & ****\\\\\n",
       "\t3 & MRT & Three\\_back & Two\\_back   & 30 & 30 & 900 & 1.69e-17 & 5.07e-17 & ****\\\\\n",
       "\\end{tabular}\n"
      ],
      "text/markdown": [
       "\n",
       "A rstatix_test: 3 × 9\n",
       "\n",
       "| <!--/--> | .y. &lt;chr&gt; | group1 &lt;chr&gt; | group2 &lt;chr&gt; | n1 &lt;int&gt; | n2 &lt;int&gt; | statistic &lt;dbl&gt; | p &lt;dbl&gt; | p.adj &lt;dbl&gt; | p.adj.signif &lt;chr&gt; |\n",
       "|---|---|---|---|---|---|---|---|---|---|\n",
       "| 1 | MRT | One_Back   | Three_back | 30 | 30 |   0 | 2.94e-11 | 8.82e-11 | **** |\n",
       "| 2 | MRT | One_Back   | Two_back   | 30 | 30 |   0 | 2.94e-11 | 8.82e-11 | **** |\n",
       "| 3 | MRT | Three_back | Two_back   | 30 | 30 | 900 | 1.69e-17 | 5.07e-17 | **** |\n",
       "\n"
      ],
      "text/plain": [
       "  .y. group1     group2     n1 n2 statistic p        p.adj    p.adj.signif\n",
       "1 MRT One_Back   Three_back 30 30   0       2.94e-11 8.82e-11 ****        \n",
       "2 MRT One_Back   Two_back   30 30   0       2.94e-11 8.82e-11 ****        \n",
       "3 MRT Three_back Two_back   30 30 900       1.69e-17 5.07e-17 ****        "
      ]
     },
     "metadata": {},
     "output_type": "display_data"
    }
   ],
   "source": [
    "N_back_3groups %>% wilcox_test(MRT~group, p.adjust.method = \"bonferroni\")"
   ]
  },
  {
   "cell_type": "code",
   "execution_count": 32,
   "id": "00fd3315-35ca-4d02-8457-3a2e880402e1",
   "metadata": {},
   "outputs": [],
   "source": [
    "coxres = N_back_3groups %>% wilcox_test(MRT~group, p.adjust.method = \"bonferroni\")"
   ]
  },
  {
   "cell_type": "code",
   "execution_count": 33,
   "id": "776686ff-e9f5-4234-ab6e-0af4f9fd0e4d",
   "metadata": {},
   "outputs": [],
   "source": [
    "ggres = ggboxplot(N_back_3groups, x = \"group\", y = \"MRT\" )"
   ]
  },
  {
   "cell_type": "code",
   "execution_count": 39,
   "id": "6be2c574-11b0-4d26-a18e-4e109b34920f",
   "metadata": {},
   "outputs": [],
   "source": [
    "coxres = coxres %>% add_xy_position(x = \"group\")"
   ]
  },
  {
   "cell_type": "code",
   "execution_count": 40,
   "id": "79751c99-b797-4a79-84a5-617798883c46",
   "metadata": {},
   "outputs": [
    {
     "data": {
      "image/png": "[encoded data removed]",
      "text/plain": [
       "plot without title"
      ]
     },
     "metadata": {
      "image/png": {
       "height": 420,
       "width": 420
      }
     },
     "output_type": "display_data"
    }
   ],
   "source": [
    "ggres + stat_pvalue_manual(coxres)"
   ]
  },
  {
   "cell_type": "markdown",
   "id": "773657d3-e036-4bc8-81f1-015c072e02ed",
   "metadata": {},
   "source": [
    "# Friedman\n",
    "\n",
    "#### One way repeated measure anova\n"
   ]
  },
  {
   "cell_type": "code",
   "execution_count": 42,
   "id": "1beb4e2e-8868-4efc-a47f-23eb70b59cbe",
   "metadata": {},
   "outputs": [],
   "source": [
    "N_back_3Condition  = read_excel(\"D://Amar//Codes_Data//N_back_3Conditions.xlsx\")"
   ]
  },
  {
   "cell_type": "code",
   "execution_count": 43,
   "id": "78a79b18-5a77-41be-9790-e4ebc33cdc2b",
   "metadata": {},
   "outputs": [
    {
     "data": {
      "text/html": [
       "<table class=\"dataframe\">\n",
       "<caption>A tibble: 90 × 3</caption>\n",
       "<thead>\n",
       "\t<tr><th scope=col>id</th><th scope=col>condition</th><th scope=col>MRT</th></tr>\n",
       "\t<tr><th scope=col>&lt;dbl&gt;</th><th scope=col>&lt;chr&gt;</th><th scope=col>&lt;dbl&gt;</th></tr>\n",
       "</thead>\n",
       "<tbody>\n",
       "\t<tr><td> 1</td><td>One_Back</td><td>0.317</td></tr>\n",
       "\t<tr><td> 2</td><td>One_Back</td><td>0.158</td></tr>\n",
       "\t<tr><td> 3</td><td>One_Back</td><td>0.518</td></tr>\n",
       "\t<tr><td> 4</td><td>One_Back</td><td>0.611</td></tr>\n",
       "\t<tr><td> 5</td><td>One_Back</td><td>0.150</td></tr>\n",
       "\t<tr><td> 6</td><td>One_Back</td><td>0.161</td></tr>\n",
       "\t<tr><td> 7</td><td>One_Back</td><td>0.517</td></tr>\n",
       "\t<tr><td> 8</td><td>One_Back</td><td>0.553</td></tr>\n",
       "\t<tr><td> 9</td><td>One_Back</td><td>0.533</td></tr>\n",
       "\t<tr><td>10</td><td>One_Back</td><td>0.114</td></tr>\n",
       "\t<tr><td>11</td><td>One_Back</td><td>0.317</td></tr>\n",
       "\t<tr><td>12</td><td>One_Back</td><td>0.158</td></tr>\n",
       "\t<tr><td>13</td><td>One_Back</td><td>0.518</td></tr>\n",
       "\t<tr><td>14</td><td>One_Back</td><td>0.611</td></tr>\n",
       "\t<tr><td>15</td><td>One_Back</td><td>0.150</td></tr>\n",
       "\t<tr><td>16</td><td>One_Back</td><td>0.161</td></tr>\n",
       "\t<tr><td>17</td><td>One_Back</td><td>0.517</td></tr>\n",
       "\t<tr><td>18</td><td>One_Back</td><td>0.553</td></tr>\n",
       "\t<tr><td>19</td><td>One_Back</td><td>0.533</td></tr>\n",
       "\t<tr><td>20</td><td>One_Back</td><td>0.114</td></tr>\n",
       "\t<tr><td>21</td><td>One_Back</td><td>0.317</td></tr>\n",
       "\t<tr><td>22</td><td>One_Back</td><td>0.158</td></tr>\n",
       "\t<tr><td>23</td><td>One_Back</td><td>0.518</td></tr>\n",
       "\t<tr><td>24</td><td>One_Back</td><td>0.611</td></tr>\n",
       "\t<tr><td>25</td><td>One_Back</td><td>0.150</td></tr>\n",
       "\t<tr><td>26</td><td>One_Back</td><td>0.161</td></tr>\n",
       "\t<tr><td>27</td><td>One_Back</td><td>0.517</td></tr>\n",
       "\t<tr><td>28</td><td>One_Back</td><td>0.553</td></tr>\n",
       "\t<tr><td>29</td><td>One_Back</td><td>0.533</td></tr>\n",
       "\t<tr><td>30</td><td>One_Back</td><td>0.114</td></tr>\n",
       "\t<tr><td>⋮</td><td>⋮</td><td>⋮</td></tr>\n",
       "\t<tr><td> 1</td><td>Three_back</td><td>4.331921</td></tr>\n",
       "\t<tr><td> 2</td><td>Three_back</td><td>4.169068</td></tr>\n",
       "\t<tr><td> 3</td><td>Three_back</td><td>4.535082</td></tr>\n",
       "\t<tr><td> 4</td><td>Three_back</td><td>4.616973</td></tr>\n",
       "\t<tr><td> 5</td><td>Three_back</td><td>4.160099</td></tr>\n",
       "\t<tr><td> 6</td><td>Three_back</td><td>4.173054</td></tr>\n",
       "\t<tr><td> 7</td><td>Three_back</td><td>4.525808</td></tr>\n",
       "\t<tr><td> 8</td><td>Three_back</td><td>4.561278</td></tr>\n",
       "\t<tr><td> 9</td><td>Three_back</td><td>4.538714</td></tr>\n",
       "\t<tr><td>10</td><td>Three_back</td><td>4.126685</td></tr>\n",
       "\t<tr><td>11</td><td>Three_back</td><td>4.333502</td></tr>\n",
       "\t<tr><td>12</td><td>Three_back</td><td>4.168130</td></tr>\n",
       "\t<tr><td>13</td><td>Three_back</td><td>4.519702</td></tr>\n",
       "\t<tr><td>14</td><td>Three_back</td><td>4.624587</td></tr>\n",
       "\t<tr><td>15</td><td>Three_back</td><td>4.165719</td></tr>\n",
       "\t<tr><td>16</td><td>Three_back</td><td>4.172286</td></tr>\n",
       "\t<tr><td>17</td><td>Three_back</td><td>4.527537</td></tr>\n",
       "\t<tr><td>18</td><td>Three_back</td><td>4.562057</td></tr>\n",
       "\t<tr><td>19</td><td>Three_back</td><td>4.545850</td></tr>\n",
       "\t<tr><td>20</td><td>Three_back</td><td>4.122481</td></tr>\n",
       "\t<tr><td>21</td><td>Three_back</td><td>4.330612</td></tr>\n",
       "\t<tr><td>22</td><td>Three_back</td><td>4.165898</td></tr>\n",
       "\t<tr><td>23</td><td>Three_back</td><td>4.531243</td></tr>\n",
       "\t<tr><td>24</td><td>Three_back</td><td>4.621341</td></tr>\n",
       "\t<tr><td>25</td><td>Three_back</td><td>4.165570</td></tr>\n",
       "\t<tr><td>26</td><td>Three_back</td><td>4.175300</td></tr>\n",
       "\t<tr><td>27</td><td>Three_back</td><td>4.519220</td></tr>\n",
       "\t<tr><td>28</td><td>Three_back</td><td>4.561255</td></tr>\n",
       "\t<tr><td>29</td><td>Three_back</td><td>4.539509</td></tr>\n",
       "\t<tr><td>30</td><td>Three_back</td><td>4.119678</td></tr>\n",
       "</tbody>\n",
       "</table>\n"
      ],
      "text/latex": [
       "A tibble: 90 × 3\n",
       "\\begin{tabular}{lll}\n",
       " id & condition & MRT\\\\\n",
       " <dbl> & <chr> & <dbl>\\\\\n",
       "\\hline\n",
       "\t  1 & One\\_Back & 0.317\\\\\n",
       "\t  2 & One\\_Back & 0.158\\\\\n",
       "\t  3 & One\\_Back & 0.518\\\\\n",
       "\t  4 & One\\_Back & 0.611\\\\\n",
       "\t  5 & One\\_Back & 0.150\\\\\n",
       "\t  6 & One\\_Back & 0.161\\\\\n",
       "\t  7 & One\\_Back & 0.517\\\\\n",
       "\t  8 & One\\_Back & 0.553\\\\\n",
       "\t  9 & One\\_Back & 0.533\\\\\n",
       "\t 10 & One\\_Back & 0.114\\\\\n",
       "\t 11 & One\\_Back & 0.317\\\\\n",
       "\t 12 & One\\_Back & 0.158\\\\\n",
       "\t 13 & One\\_Back & 0.518\\\\\n",
       "\t 14 & One\\_Back & 0.611\\\\\n",
       "\t 15 & One\\_Back & 0.150\\\\\n",
       "\t 16 & One\\_Back & 0.161\\\\\n",
       "\t 17 & One\\_Back & 0.517\\\\\n",
       "\t 18 & One\\_Back & 0.553\\\\\n",
       "\t 19 & One\\_Back & 0.533\\\\\n",
       "\t 20 & One\\_Back & 0.114\\\\\n",
       "\t 21 & One\\_Back & 0.317\\\\\n",
       "\t 22 & One\\_Back & 0.158\\\\\n",
       "\t 23 & One\\_Back & 0.518\\\\\n",
       "\t 24 & One\\_Back & 0.611\\\\\n",
       "\t 25 & One\\_Back & 0.150\\\\\n",
       "\t 26 & One\\_Back & 0.161\\\\\n",
       "\t 27 & One\\_Back & 0.517\\\\\n",
       "\t 28 & One\\_Back & 0.553\\\\\n",
       "\t 29 & One\\_Back & 0.533\\\\\n",
       "\t 30 & One\\_Back & 0.114\\\\\n",
       "\t ⋮ & ⋮ & ⋮\\\\\n",
       "\t  1 & Three\\_back & 4.331921\\\\\n",
       "\t  2 & Three\\_back & 4.169068\\\\\n",
       "\t  3 & Three\\_back & 4.535082\\\\\n",
       "\t  4 & Three\\_back & 4.616973\\\\\n",
       "\t  5 & Three\\_back & 4.160099\\\\\n",
       "\t  6 & Three\\_back & 4.173054\\\\\n",
       "\t  7 & Three\\_back & 4.525808\\\\\n",
       "\t  8 & Three\\_back & 4.561278\\\\\n",
       "\t  9 & Three\\_back & 4.538714\\\\\n",
       "\t 10 & Three\\_back & 4.126685\\\\\n",
       "\t 11 & Three\\_back & 4.333502\\\\\n",
       "\t 12 & Three\\_back & 4.168130\\\\\n",
       "\t 13 & Three\\_back & 4.519702\\\\\n",
       "\t 14 & Three\\_back & 4.624587\\\\\n",
       "\t 15 & Three\\_back & 4.165719\\\\\n",
       "\t 16 & Three\\_back & 4.172286\\\\\n",
       "\t 17 & Three\\_back & 4.527537\\\\\n",
       "\t 18 & Three\\_back & 4.562057\\\\\n",
       "\t 19 & Three\\_back & 4.545850\\\\\n",
       "\t 20 & Three\\_back & 4.122481\\\\\n",
       "\t 21 & Three\\_back & 4.330612\\\\\n",
       "\t 22 & Three\\_back & 4.165898\\\\\n",
       "\t 23 & Three\\_back & 4.531243\\\\\n",
       "\t 24 & Three\\_back & 4.621341\\\\\n",
       "\t 25 & Three\\_back & 4.165570\\\\\n",
       "\t 26 & Three\\_back & 4.175300\\\\\n",
       "\t 27 & Three\\_back & 4.519220\\\\\n",
       "\t 28 & Three\\_back & 4.561255\\\\\n",
       "\t 29 & Three\\_back & 4.539509\\\\\n",
       "\t 30 & Three\\_back & 4.119678\\\\\n",
       "\\end{tabular}\n"
      ],
      "text/markdown": [
       "\n",
       "A tibble: 90 × 3\n",
       "\n",
       "| id &lt;dbl&gt; | condition &lt;chr&gt; | MRT &lt;dbl&gt; |\n",
       "|---|---|---|\n",
       "|  1 | One_Back | 0.317 |\n",
       "|  2 | One_Back | 0.158 |\n",
       "|  3 | One_Back | 0.518 |\n",
       "|  4 | One_Back | 0.611 |\n",
       "|  5 | One_Back | 0.150 |\n",
       "|  6 | One_Back | 0.161 |\n",
       "|  7 | One_Back | 0.517 |\n",
       "|  8 | One_Back | 0.553 |\n",
       "|  9 | One_Back | 0.533 |\n",
       "| 10 | One_Back | 0.114 |\n",
       "| 11 | One_Back | 0.317 |\n",
       "| 12 | One_Back | 0.158 |\n",
       "| 13 | One_Back | 0.518 |\n",
       "| 14 | One_Back | 0.611 |\n",
       "| 15 | One_Back | 0.150 |\n",
       "| 16 | One_Back | 0.161 |\n",
       "| 17 | One_Back | 0.517 |\n",
       "| 18 | One_Back | 0.553 |\n",
       "| 19 | One_Back | 0.533 |\n",
       "| 20 | One_Back | 0.114 |\n",
       "| 21 | One_Back | 0.317 |\n",
       "| 22 | One_Back | 0.158 |\n",
       "| 23 | One_Back | 0.518 |\n",
       "| 24 | One_Back | 0.611 |\n",
       "| 25 | One_Back | 0.150 |\n",
       "| 26 | One_Back | 0.161 |\n",
       "| 27 | One_Back | 0.517 |\n",
       "| 28 | One_Back | 0.553 |\n",
       "| 29 | One_Back | 0.533 |\n",
       "| 30 | One_Back | 0.114 |\n",
       "| ⋮ | ⋮ | ⋮ |\n",
       "|  1 | Three_back | 4.331921 |\n",
       "|  2 | Three_back | 4.169068 |\n",
       "|  3 | Three_back | 4.535082 |\n",
       "|  4 | Three_back | 4.616973 |\n",
       "|  5 | Three_back | 4.160099 |\n",
       "|  6 | Three_back | 4.173054 |\n",
       "|  7 | Three_back | 4.525808 |\n",
       "|  8 | Three_back | 4.561278 |\n",
       "|  9 | Three_back | 4.538714 |\n",
       "| 10 | Three_back | 4.126685 |\n",
       "| 11 | Three_back | 4.333502 |\n",
       "| 12 | Three_back | 4.168130 |\n",
       "| 13 | Three_back | 4.519702 |\n",
       "| 14 | Three_back | 4.624587 |\n",
       "| 15 | Three_back | 4.165719 |\n",
       "| 16 | Three_back | 4.172286 |\n",
       "| 17 | Three_back | 4.527537 |\n",
       "| 18 | Three_back | 4.562057 |\n",
       "| 19 | Three_back | 4.545850 |\n",
       "| 20 | Three_back | 4.122481 |\n",
       "| 21 | Three_back | 4.330612 |\n",
       "| 22 | Three_back | 4.165898 |\n",
       "| 23 | Three_back | 4.531243 |\n",
       "| 24 | Three_back | 4.621341 |\n",
       "| 25 | Three_back | 4.165570 |\n",
       "| 26 | Three_back | 4.175300 |\n",
       "| 27 | Three_back | 4.519220 |\n",
       "| 28 | Three_back | 4.561255 |\n",
       "| 29 | Three_back | 4.539509 |\n",
       "| 30 | Three_back | 4.119678 |\n",
       "\n"
      ],
      "text/plain": [
       "   id condition  MRT     \n",
       "1   1 One_Back   0.317   \n",
       "2   2 One_Back   0.158   \n",
       "3   3 One_Back   0.518   \n",
       "4   4 One_Back   0.611   \n",
       "5   5 One_Back   0.150   \n",
       "6   6 One_Back   0.161   \n",
       "7   7 One_Back   0.517   \n",
       "8   8 One_Back   0.553   \n",
       "9   9 One_Back   0.533   \n",
       "10 10 One_Back   0.114   \n",
       "11 11 One_Back   0.317   \n",
       "12 12 One_Back   0.158   \n",
       "13 13 One_Back   0.518   \n",
       "14 14 One_Back   0.611   \n",
       "15 15 One_Back   0.150   \n",
       "16 16 One_Back   0.161   \n",
       "17 17 One_Back   0.517   \n",
       "18 18 One_Back   0.553   \n",
       "19 19 One_Back   0.533   \n",
       "20 20 One_Back   0.114   \n",
       "21 21 One_Back   0.317   \n",
       "22 22 One_Back   0.158   \n",
       "23 23 One_Back   0.518   \n",
       "24 24 One_Back   0.611   \n",
       "25 25 One_Back   0.150   \n",
       "26 26 One_Back   0.161   \n",
       "27 27 One_Back   0.517   \n",
       "28 28 One_Back   0.553   \n",
       "29 29 One_Back   0.533   \n",
       "30 30 One_Back   0.114   \n",
       "⋮  ⋮  ⋮          ⋮       \n",
       "61  1 Three_back 4.331921\n",
       "62  2 Three_back 4.169068\n",
       "63  3 Three_back 4.535082\n",
       "64  4 Three_back 4.616973\n",
       "65  5 Three_back 4.160099\n",
       "66  6 Three_back 4.173054\n",
       "67  7 Three_back 4.525808\n",
       "68  8 Three_back 4.561278\n",
       "69  9 Three_back 4.538714\n",
       "70 10 Three_back 4.126685\n",
       "71 11 Three_back 4.333502\n",
       "72 12 Three_back 4.168130\n",
       "73 13 Three_back 4.519702\n",
       "74 14 Three_back 4.624587\n",
       "75 15 Three_back 4.165719\n",
       "76 16 Three_back 4.172286\n",
       "77 17 Three_back 4.527537\n",
       "78 18 Three_back 4.562057\n",
       "79 19 Three_back 4.545850\n",
       "80 20 Three_back 4.122481\n",
       "81 21 Three_back 4.330612\n",
       "82 22 Three_back 4.165898\n",
       "83 23 Three_back 4.531243\n",
       "84 24 Three_back 4.621341\n",
       "85 25 Three_back 4.165570\n",
       "86 26 Three_back 4.175300\n",
       "87 27 Three_back 4.519220\n",
       "88 28 Three_back 4.561255\n",
       "89 29 Three_back 4.539509\n",
       "90 30 Three_back 4.119678"
      ]
     },
     "metadata": {},
     "output_type": "display_data"
    }
   ],
   "source": [
    "N_back_3Condition"
   ]
  },
  {
   "cell_type": "code",
   "execution_count": 44,
   "id": "583923df-8466-47cc-bdbb-e3ead125ced8",
   "metadata": {},
   "outputs": [
    {
     "data": {
      "image/png": "[encoded data removed]",
      "text/plain": [
       "plot without title"
      ]
     },
     "metadata": {
      "image/png": {
       "height": 420,
       "width": 420
      }
     },
     "output_type": "display_data"
    }
   ],
   "source": [
    "ggboxplot(N_back_3Condition, x = \"condition\", y = \"MRT\")"
   ]
  },
  {
   "cell_type": "code",
   "execution_count": 45,
   "id": "3cf45397-d477-4fe5-b5d0-1bcc413b8e18",
   "metadata": {},
   "outputs": [
    {
     "data": {
      "text/html": [
       "<table class=\"dataframe\">\n",
       "<caption>A tibble: 3 × 4</caption>\n",
       "<thead>\n",
       "\t<tr><th scope=col>condition</th><th scope=col>variable</th><th scope=col>statistic</th><th scope=col>p</th></tr>\n",
       "\t<tr><th scope=col>&lt;chr&gt;</th><th scope=col>&lt;chr&gt;</th><th scope=col>&lt;dbl&gt;</th><th scope=col>&lt;dbl&gt;</th></tr>\n",
       "</thead>\n",
       "<tbody>\n",
       "\t<tr><td>One_Back  </td><td>MRT</td><td>0.8010355</td><td>6.847518e-05</td></tr>\n",
       "\t<tr><td>Three_back</td><td>MRT</td><td>0.8080260</td><td>9.213559e-05</td></tr>\n",
       "\t<tr><td>Two_back  </td><td>MRT</td><td>0.8049325</td><td>8.074167e-05</td></tr>\n",
       "</tbody>\n",
       "</table>\n"
      ],
      "text/latex": [
       "A tibble: 3 × 4\n",
       "\\begin{tabular}{llll}\n",
       " condition & variable & statistic & p\\\\\n",
       " <chr> & <chr> & <dbl> & <dbl>\\\\\n",
       "\\hline\n",
       "\t One\\_Back   & MRT & 0.8010355 & 6.847518e-05\\\\\n",
       "\t Three\\_back & MRT & 0.8080260 & 9.213559e-05\\\\\n",
       "\t Two\\_back   & MRT & 0.8049325 & 8.074167e-05\\\\\n",
       "\\end{tabular}\n"
      ],
      "text/markdown": [
       "\n",
       "A tibble: 3 × 4\n",
       "\n",
       "| condition &lt;chr&gt; | variable &lt;chr&gt; | statistic &lt;dbl&gt; | p &lt;dbl&gt; |\n",
       "|---|---|---|---|\n",
       "| One_Back   | MRT | 0.8010355 | 6.847518e-05 |\n",
       "| Three_back | MRT | 0.8080260 | 9.213559e-05 |\n",
       "| Two_back   | MRT | 0.8049325 | 8.074167e-05 |\n",
       "\n"
      ],
      "text/plain": [
       "  condition  variable statistic p           \n",
       "1 One_Back   MRT      0.8010355 6.847518e-05\n",
       "2 Three_back MRT      0.8080260 9.213559e-05\n",
       "3 Two_back   MRT      0.8049325 8.074167e-05"
      ]
     },
     "metadata": {},
     "output_type": "display_data"
    }
   ],
   "source": [
    "N_back_3Condition %>% group_by(condition) %>% shapiro_test(MRT)"
   ]
  },
  {
   "cell_type": "code",
   "execution_count": 48,
   "id": "7a2c5abf-8c9c-44aa-8207-630b702a1930",
   "metadata": {},
   "outputs": [
    {
     "data": {
      "text/html": [
       "<table class=\"dataframe\">\n",
       "<caption>A rstatix_test: 1 × 6</caption>\n",
       "<thead>\n",
       "\t<tr><th></th><th scope=col>.y.</th><th scope=col>n</th><th scope=col>statistic</th><th scope=col>df</th><th scope=col>p</th><th scope=col>method</th></tr>\n",
       "\t<tr><th></th><th scope=col>&lt;chr&gt;</th><th scope=col>&lt;int&gt;</th><th scope=col>&lt;dbl&gt;</th><th scope=col>&lt;dbl&gt;</th><th scope=col>&lt;dbl&gt;</th><th scope=col>&lt;chr&gt;</th></tr>\n",
       "</thead>\n",
       "<tbody>\n",
       "\t<tr><th scope=row>1</th><td>MRT</td><td>30</td><td>60</td><td>2</td><td>9.357623e-14</td><td>Friedman test</td></tr>\n",
       "</tbody>\n",
       "</table>\n"
      ],
      "text/latex": [
       "A rstatix\\_test: 1 × 6\n",
       "\\begin{tabular}{r|llllll}\n",
       "  & .y. & n & statistic & df & p & method\\\\\n",
       "  & <chr> & <int> & <dbl> & <dbl> & <dbl> & <chr>\\\\\n",
       "\\hline\n",
       "\t1 & MRT & 30 & 60 & 2 & 9.357623e-14 & Friedman test\\\\\n",
       "\\end{tabular}\n"
      ],
      "text/markdown": [
       "\n",
       "A rstatix_test: 1 × 6\n",
       "\n",
       "| <!--/--> | .y. &lt;chr&gt; | n &lt;int&gt; | statistic &lt;dbl&gt; | df &lt;dbl&gt; | p &lt;dbl&gt; | method &lt;chr&gt; |\n",
       "|---|---|---|---|---|---|---|\n",
       "| 1 | MRT | 30 | 60 | 2 | 9.357623e-14 | Friedman test |\n",
       "\n"
      ],
      "text/plain": [
       "  .y. n  statistic df p            method       \n",
       "1 MRT 30 60        2  9.357623e-14 Friedman test"
      ]
     },
     "metadata": {},
     "output_type": "display_data"
    }
   ],
   "source": [
    "N_back_3Condition %>% friedman_test(MRT ~ condition|id)"
   ]
  },
  {
   "cell_type": "code",
   "execution_count": 49,
   "id": "86ec6c21-9a90-4994-95ab-d3edb2d8f7bc",
   "metadata": {},
   "outputs": [
    {
     "data": {
      "text/html": [
       "<table class=\"dataframe\">\n",
       "<caption>A rstatix_test: 3 × 9</caption>\n",
       "<thead>\n",
       "\t<tr><th></th><th scope=col>.y.</th><th scope=col>group1</th><th scope=col>group2</th><th scope=col>n1</th><th scope=col>n2</th><th scope=col>statistic</th><th scope=col>p</th><th scope=col>p.adj</th><th scope=col>p.adj.signif</th></tr>\n",
       "\t<tr><th></th><th scope=col>&lt;chr&gt;</th><th scope=col>&lt;chr&gt;</th><th scope=col>&lt;chr&gt;</th><th scope=col>&lt;int&gt;</th><th scope=col>&lt;int&gt;</th><th scope=col>&lt;dbl&gt;</th><th scope=col>&lt;dbl&gt;</th><th scope=col>&lt;dbl&gt;</th><th scope=col>&lt;chr&gt;</th></tr>\n",
       "</thead>\n",
       "<tbody>\n",
       "\t<tr><th scope=row>1</th><td>MRT</td><td>One_Back  </td><td>Three_back</td><td>30</td><td>30</td><td>  0</td><td>1.86e-09</td><td>5.58e-09</td><td>****</td></tr>\n",
       "\t<tr><th scope=row>2</th><td>MRT</td><td>One_Back  </td><td>Two_back  </td><td>30</td><td>30</td><td>  0</td><td>1.86e-09</td><td>5.58e-09</td><td>****</td></tr>\n",
       "\t<tr><th scope=row>3</th><td>MRT</td><td>Three_back</td><td>Two_back  </td><td>30</td><td>30</td><td>465</td><td>1.86e-09</td><td>5.58e-09</td><td>****</td></tr>\n",
       "</tbody>\n",
       "</table>\n"
      ],
      "text/latex": [
       "A rstatix\\_test: 3 × 9\n",
       "\\begin{tabular}{r|lllllllll}\n",
       "  & .y. & group1 & group2 & n1 & n2 & statistic & p & p.adj & p.adj.signif\\\\\n",
       "  & <chr> & <chr> & <chr> & <int> & <int> & <dbl> & <dbl> & <dbl> & <chr>\\\\\n",
       "\\hline\n",
       "\t1 & MRT & One\\_Back   & Three\\_back & 30 & 30 &   0 & 1.86e-09 & 5.58e-09 & ****\\\\\n",
       "\t2 & MRT & One\\_Back   & Two\\_back   & 30 & 30 &   0 & 1.86e-09 & 5.58e-09 & ****\\\\\n",
       "\t3 & MRT & Three\\_back & Two\\_back   & 30 & 30 & 465 & 1.86e-09 & 5.58e-09 & ****\\\\\n",
       "\\end{tabular}\n"
      ],
      "text/markdown": [
       "\n",
       "A rstatix_test: 3 × 9\n",
       "\n",
       "| <!--/--> | .y. &lt;chr&gt; | group1 &lt;chr&gt; | group2 &lt;chr&gt; | n1 &lt;int&gt; | n2 &lt;int&gt; | statistic &lt;dbl&gt; | p &lt;dbl&gt; | p.adj &lt;dbl&gt; | p.adj.signif &lt;chr&gt; |\n",
       "|---|---|---|---|---|---|---|---|---|---|\n",
       "| 1 | MRT | One_Back   | Three_back | 30 | 30 |   0 | 1.86e-09 | 5.58e-09 | **** |\n",
       "| 2 | MRT | One_Back   | Two_back   | 30 | 30 |   0 | 1.86e-09 | 5.58e-09 | **** |\n",
       "| 3 | MRT | Three_back | Two_back   | 30 | 30 | 465 | 1.86e-09 | 5.58e-09 | **** |\n",
       "\n"
      ],
      "text/plain": [
       "  .y. group1     group2     n1 n2 statistic p        p.adj    p.adj.signif\n",
       "1 MRT One_Back   Three_back 30 30   0       1.86e-09 5.58e-09 ****        \n",
       "2 MRT One_Back   Two_back   30 30   0       1.86e-09 5.58e-09 ****        \n",
       "3 MRT Three_back Two_back   30 30 465       1.86e-09 5.58e-09 ****        "
      ]
     },
     "metadata": {},
     "output_type": "display_data"
    }
   ],
   "source": [
    "N_back_3Condition %>% wilcox_test(MRT~condition, paired = TRUE, p.adjust.method = \"bonferroni\")"
   ]
  },
  {
   "cell_type": "code",
   "execution_count": 50,
   "id": "04996d59-6586-4b3d-b714-a77b9a62e9c5",
   "metadata": {},
   "outputs": [],
   "source": [
    "coxres2 = N_back_3Condition %>% wilcox_test(MRT~condition, paired = TRUE, p.adjust.method = \"bonferroni\")"
   ]
  },
  {
   "cell_type": "code",
   "execution_count": 51,
   "id": "628dc87f-8de1-405b-be35-27198de05aa0",
   "metadata": {},
   "outputs": [],
   "source": [
    "coxres2 = coxres2 %>% add_xy_position(x = \"condition\")"
   ]
  },
  {
   "cell_type": "code",
   "execution_count": 52,
   "id": "bc54b820-9d6b-4187-b16f-b234fa7059b2",
   "metadata": {},
   "outputs": [],
   "source": [
    "ggres2 = ggboxplot(N_back_3Condition, x = \"condition\", y = \"MRT\")"
   ]
  },
  {
   "cell_type": "code",
   "execution_count": 54,
   "id": "9c721fd2-049a-4e17-86ad-51742a828ef4",
   "metadata": {},
   "outputs": [
    {
     "data": {
      "image/png": "[encoded data removed]",
      "text/plain": [
       "plot without title"
      ]
     },
     "metadata": {
      "image/png": {
       "height": 420,
       "width": 420
      }
     },
     "output_type": "display_data"
    }
   ],
   "source": [
    "ggboxplot(N_back_3Condition, x = \"condition\", y = \"MRT\") + stat_pvalue_manual(coxres2)"
   ]
  },
  {
   "cell_type": "code",
   "execution_count": null,
   "id": "87003810-71a3-4aa0-940d-6fe376d92bc6",
   "metadata": {},
   "outputs": [],
   "source": []
  }
 ],
 "metadata": {
  "kernelspec": {
   "display_name": "R",
   "language": "R",
   "name": "ir"
  },
  "language_info": {
   "codemirror_mode": "r",
   "file_extension": ".r",
   "mimetype": "text/x-r-source",
   "name": "R",
   "pygments_lexer": "r",
   "version": "4.3.2"
  }
 },
 "nbformat": 4,
 "nbformat_minor": 5
}
