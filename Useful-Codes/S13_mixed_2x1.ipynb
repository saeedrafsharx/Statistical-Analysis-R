{
 "cells": [
  {
   "cell_type": "code",
   "execution_count": 18,
   "id": "d3d5219a-01ad-4a31-8946-557c45e70116",
   "metadata": {},
   "outputs": [],
   "source": [
    "library(readxl)\n",
    "library(rstatix)\n",
    "library(ggpubr)"
   ]
  },
  {
   "cell_type": "code",
   "execution_count": 10,
   "id": "d65b9c25-543d-426a-8a30-c624d28a0738",
   "metadata": {},
   "outputs": [],
   "source": [
    "Optimal_policy = read_excel(\"D://Amar//Codes_Data//Optimal_policy.xlsx\")"
   ]
  },
  {
   "cell_type": "code",
   "execution_count": 12,
   "id": "67d95306-13fd-482d-93b3-66c1ca20c0ba",
   "metadata": {},
   "outputs": [
    {
     "data": {
      "text/html": [
       "<table class=\"dataframe\">\n",
       "<caption>A tibble: 120 × 5</caption>\n",
       "<thead>\n",
       "\t<tr><th scope=col>id</th><th scope=col>task_duration_controlled</th><th scope=col>feedback_type</th><th scope=col>Coherency</th><th scope=col>reward_rate</th></tr>\n",
       "\t<tr><th scope=col>&lt;dbl&gt;</th><th scope=col>&lt;chr&gt;</th><th scope=col>&lt;chr&gt;</th><th scope=col>&lt;chr&gt;</th><th scope=col>&lt;dbl&gt;</th></tr>\n",
       "</thead>\n",
       "<tbody>\n",
       "\t<tr><td> 1</td><td>fixed_time</td><td>Medium</td><td>Low_Coherency</td><td>0.9620027</td></tr>\n",
       "\t<tr><td> 2</td><td>fixed_time</td><td>Medium</td><td>Low_Coherency</td><td>0.8881571</td></tr>\n",
       "\t<tr><td> 3</td><td>fixed_time</td><td>Medium</td><td>Low_Coherency</td><td>0.9072598</td></tr>\n",
       "\t<tr><td> 4</td><td>fixed_time</td><td>Medium</td><td>Low_Coherency</td><td>0.9210069</td></tr>\n",
       "\t<tr><td> 5</td><td>fixed_time</td><td>Medium</td><td>Low_Coherency</td><td>0.9252177</td></tr>\n",
       "\t<tr><td> 6</td><td>fixed_time</td><td>Medium</td><td>Low_Coherency</td><td>0.9058739</td></tr>\n",
       "\t<tr><td> 7</td><td>fixed_time</td><td>Medium</td><td>Low_Coherency</td><td>0.8833553</td></tr>\n",
       "\t<tr><td> 8</td><td>fixed_time</td><td>Medium</td><td>Low_Coherency</td><td>0.9104439</td></tr>\n",
       "\t<tr><td> 9</td><td>fixed_time</td><td>Medium</td><td>Low_Coherency</td><td>0.9770211</td></tr>\n",
       "\t<tr><td>10</td><td>fixed_time</td><td>Medium</td><td>Low_Coherency</td><td>0.9458142</td></tr>\n",
       "\t<tr><td>11</td><td>fixed_time</td><td>High  </td><td>Low_Coherency</td><td>0.9435484</td></tr>\n",
       "\t<tr><td>12</td><td>fixed_time</td><td>High  </td><td>Low_Coherency</td><td>0.8928419</td></tr>\n",
       "\t<tr><td>13</td><td>fixed_time</td><td>High  </td><td>Low_Coherency</td><td>0.9000000</td></tr>\n",
       "\t<tr><td>14</td><td>fixed_time</td><td>High  </td><td>Low_Coherency</td><td>0.8985819</td></tr>\n",
       "\t<tr><td>15</td><td>fixed_time</td><td>High  </td><td>Low_Coherency</td><td>0.9609032</td></tr>\n",
       "\t<tr><td>16</td><td>fixed_time</td><td>High  </td><td>Low_Coherency</td><td>0.9697300</td></tr>\n",
       "\t<tr><td>17</td><td>fixed_time</td><td>High  </td><td>Low_Coherency</td><td>0.9149781</td></tr>\n",
       "\t<tr><td>18</td><td>fixed_time</td><td>High  </td><td>Low_Coherency</td><td>0.8987819</td></tr>\n",
       "\t<tr><td>19</td><td>fixed_time</td><td>High  </td><td>Low_Coherency</td><td>0.9525924</td></tr>\n",
       "\t<tr><td>20</td><td>fixed_time</td><td>High  </td><td>Low_Coherency</td><td>0.8899626</td></tr>\n",
       "\t<tr><td>21</td><td>fixed_time</td><td>Low   </td><td>Low_Coherency</td><td>0.8440813</td></tr>\n",
       "\t<tr><td>22</td><td>fixed_time</td><td>Low   </td><td>Low_Coherency</td><td>0.8971008</td></tr>\n",
       "\t<tr><td>23</td><td>fixed_time</td><td>Low   </td><td>Low_Coherency</td><td>0.8680219</td></tr>\n",
       "\t<tr><td>24</td><td>fixed_time</td><td>Low   </td><td>Low_Coherency</td><td>0.9012995</td></tr>\n",
       "\t<tr><td>25</td><td>fixed_time</td><td>Low   </td><td>Low_Coherency</td><td>0.8837523</td></tr>\n",
       "\t<tr><td>26</td><td>fixed_time</td><td>Low   </td><td>Low_Coherency</td><td>0.9054500</td></tr>\n",
       "\t<tr><td>27</td><td>fixed_time</td><td>Low   </td><td>Low_Coherency</td><td>0.8847819</td></tr>\n",
       "\t<tr><td>28</td><td>fixed_time</td><td>Low   </td><td>Low_Coherency</td><td>0.8817689</td></tr>\n",
       "\t<tr><td>29</td><td>fixed_time</td><td>Low   </td><td>Low_Coherency</td><td>0.9036403</td></tr>\n",
       "\t<tr><td>30</td><td>fixed_time</td><td>Low   </td><td>Low_Coherency</td><td>0.8678006</td></tr>\n",
       "\t<tr><td>⋮</td><td>⋮</td><td>⋮</td><td>⋮</td><td>⋮</td></tr>\n",
       "\t<tr><td>31</td><td>fixed_trial</td><td>Medium</td><td>High_Coherency</td><td>0.9283277</td></tr>\n",
       "\t<tr><td>32</td><td>fixed_trial</td><td>Medium</td><td>High_Coherency</td><td>0.9529052</td></tr>\n",
       "\t<tr><td>33</td><td>fixed_trial</td><td>Medium</td><td>High_Coherency</td><td>0.9195032</td></tr>\n",
       "\t<tr><td>34</td><td>fixed_trial</td><td>Medium</td><td>High_Coherency</td><td>0.9250440</td></tr>\n",
       "\t<tr><td>35</td><td>fixed_trial</td><td>Medium</td><td>High_Coherency</td><td>0.8986487</td></tr>\n",
       "\t<tr><td>36</td><td>fixed_trial</td><td>Medium</td><td>High_Coherency</td><td>0.9920994</td></tr>\n",
       "\t<tr><td>37</td><td>fixed_trial</td><td>Medium</td><td>High_Coherency</td><td>0.9516129</td></tr>\n",
       "\t<tr><td>38</td><td>fixed_trial</td><td>Medium</td><td>High_Coherency</td><td>0.9184903</td></tr>\n",
       "\t<tr><td>39</td><td>fixed_trial</td><td>Medium</td><td>High_Coherency</td><td>0.9129308</td></tr>\n",
       "\t<tr><td>40</td><td>fixed_trial</td><td>Medium</td><td>High_Coherency</td><td>0.9259518</td></tr>\n",
       "\t<tr><td>41</td><td>fixed_trial</td><td>High  </td><td>High_Coherency</td><td>0.8843002</td></tr>\n",
       "\t<tr><td>42</td><td>fixed_trial</td><td>High  </td><td>High_Coherency</td><td>0.9616865</td></tr>\n",
       "\t<tr><td>43</td><td>fixed_trial</td><td>High  </td><td>High_Coherency</td><td>0.8801181</td></tr>\n",
       "\t<tr><td>44</td><td>fixed_trial</td><td>High  </td><td>High_Coherency</td><td>0.8928853</td></tr>\n",
       "\t<tr><td>45</td><td>fixed_trial</td><td>High  </td><td>High_Coherency</td><td>0.8885789</td></tr>\n",
       "\t<tr><td>46</td><td>fixed_trial</td><td>High  </td><td>High_Coherency</td><td>0.9543187</td></tr>\n",
       "\t<tr><td>47</td><td>fixed_trial</td><td>High  </td><td>High_Coherency</td><td>0.9032258</td></tr>\n",
       "\t<tr><td>48</td><td>fixed_trial</td><td>High  </td><td>High_Coherency</td><td>0.8688119</td></tr>\n",
       "\t<tr><td>49</td><td>fixed_trial</td><td>High  </td><td>High_Coherency</td><td>0.9702898</td></tr>\n",
       "\t<tr><td>50</td><td>fixed_trial</td><td>High  </td><td>High_Coherency</td><td>0.8575669</td></tr>\n",
       "\t<tr><td>51</td><td>fixed_trial</td><td>Low   </td><td>High_Coherency</td><td>0.8163355</td></tr>\n",
       "\t<tr><td>52</td><td>fixed_trial</td><td>Low   </td><td>High_Coherency</td><td>0.8219503</td></tr>\n",
       "\t<tr><td>53</td><td>fixed_trial</td><td>Low   </td><td>High_Coherency</td><td>0.8660279</td></tr>\n",
       "\t<tr><td>54</td><td>fixed_trial</td><td>Low   </td><td>High_Coherency</td><td>0.8644089</td></tr>\n",
       "\t<tr><td>55</td><td>fixed_trial</td><td>Low   </td><td>High_Coherency</td><td>0.8460039</td></tr>\n",
       "\t<tr><td>56</td><td>fixed_trial</td><td>Low   </td><td>High_Coherency</td><td>0.9305326</td></tr>\n",
       "\t<tr><td>57</td><td>fixed_trial</td><td>Low   </td><td>High_Coherency</td><td>0.9063558</td></tr>\n",
       "\t<tr><td>58</td><td>fixed_trial</td><td>Low   </td><td>High_Coherency</td><td>0.8764131</td></tr>\n",
       "\t<tr><td>59</td><td>fixed_trial</td><td>Low   </td><td>High_Coherency</td><td>0.8592468</td></tr>\n",
       "\t<tr><td>60</td><td>fixed_trial</td><td>Low   </td><td>High_Coherency</td><td>0.8193455</td></tr>\n",
       "</tbody>\n",
       "</table>\n"
      ],
      "text/latex": [
       "A tibble: 120 × 5\n",
       "\\begin{tabular}{lllll}\n",
       " id & task\\_duration\\_controlled & feedback\\_type & Coherency & reward\\_rate\\\\\n",
       " <dbl> & <chr> & <chr> & <chr> & <dbl>\\\\\n",
       "\\hline\n",
       "\t  1 & fixed\\_time & Medium & Low\\_Coherency & 0.9620027\\\\\n",
       "\t  2 & fixed\\_time & Medium & Low\\_Coherency & 0.8881571\\\\\n",
       "\t  3 & fixed\\_time & Medium & Low\\_Coherency & 0.9072598\\\\\n",
       "\t  4 & fixed\\_time & Medium & Low\\_Coherency & 0.9210069\\\\\n",
       "\t  5 & fixed\\_time & Medium & Low\\_Coherency & 0.9252177\\\\\n",
       "\t  6 & fixed\\_time & Medium & Low\\_Coherency & 0.9058739\\\\\n",
       "\t  7 & fixed\\_time & Medium & Low\\_Coherency & 0.8833553\\\\\n",
       "\t  8 & fixed\\_time & Medium & Low\\_Coherency & 0.9104439\\\\\n",
       "\t  9 & fixed\\_time & Medium & Low\\_Coherency & 0.9770211\\\\\n",
       "\t 10 & fixed\\_time & Medium & Low\\_Coherency & 0.9458142\\\\\n",
       "\t 11 & fixed\\_time & High   & Low\\_Coherency & 0.9435484\\\\\n",
       "\t 12 & fixed\\_time & High   & Low\\_Coherency & 0.8928419\\\\\n",
       "\t 13 & fixed\\_time & High   & Low\\_Coherency & 0.9000000\\\\\n",
       "\t 14 & fixed\\_time & High   & Low\\_Coherency & 0.8985819\\\\\n",
       "\t 15 & fixed\\_time & High   & Low\\_Coherency & 0.9609032\\\\\n",
       "\t 16 & fixed\\_time & High   & Low\\_Coherency & 0.9697300\\\\\n",
       "\t 17 & fixed\\_time & High   & Low\\_Coherency & 0.9149781\\\\\n",
       "\t 18 & fixed\\_time & High   & Low\\_Coherency & 0.8987819\\\\\n",
       "\t 19 & fixed\\_time & High   & Low\\_Coherency & 0.9525924\\\\\n",
       "\t 20 & fixed\\_time & High   & Low\\_Coherency & 0.8899626\\\\\n",
       "\t 21 & fixed\\_time & Low    & Low\\_Coherency & 0.8440813\\\\\n",
       "\t 22 & fixed\\_time & Low    & Low\\_Coherency & 0.8971008\\\\\n",
       "\t 23 & fixed\\_time & Low    & Low\\_Coherency & 0.8680219\\\\\n",
       "\t 24 & fixed\\_time & Low    & Low\\_Coherency & 0.9012995\\\\\n",
       "\t 25 & fixed\\_time & Low    & Low\\_Coherency & 0.8837523\\\\\n",
       "\t 26 & fixed\\_time & Low    & Low\\_Coherency & 0.9054500\\\\\n",
       "\t 27 & fixed\\_time & Low    & Low\\_Coherency & 0.8847819\\\\\n",
       "\t 28 & fixed\\_time & Low    & Low\\_Coherency & 0.8817689\\\\\n",
       "\t 29 & fixed\\_time & Low    & Low\\_Coherency & 0.9036403\\\\\n",
       "\t 30 & fixed\\_time & Low    & Low\\_Coherency & 0.8678006\\\\\n",
       "\t ⋮ & ⋮ & ⋮ & ⋮ & ⋮\\\\\n",
       "\t 31 & fixed\\_trial & Medium & High\\_Coherency & 0.9283277\\\\\n",
       "\t 32 & fixed\\_trial & Medium & High\\_Coherency & 0.9529052\\\\\n",
       "\t 33 & fixed\\_trial & Medium & High\\_Coherency & 0.9195032\\\\\n",
       "\t 34 & fixed\\_trial & Medium & High\\_Coherency & 0.9250440\\\\\n",
       "\t 35 & fixed\\_trial & Medium & High\\_Coherency & 0.8986487\\\\\n",
       "\t 36 & fixed\\_trial & Medium & High\\_Coherency & 0.9920994\\\\\n",
       "\t 37 & fixed\\_trial & Medium & High\\_Coherency & 0.9516129\\\\\n",
       "\t 38 & fixed\\_trial & Medium & High\\_Coherency & 0.9184903\\\\\n",
       "\t 39 & fixed\\_trial & Medium & High\\_Coherency & 0.9129308\\\\\n",
       "\t 40 & fixed\\_trial & Medium & High\\_Coherency & 0.9259518\\\\\n",
       "\t 41 & fixed\\_trial & High   & High\\_Coherency & 0.8843002\\\\\n",
       "\t 42 & fixed\\_trial & High   & High\\_Coherency & 0.9616865\\\\\n",
       "\t 43 & fixed\\_trial & High   & High\\_Coherency & 0.8801181\\\\\n",
       "\t 44 & fixed\\_trial & High   & High\\_Coherency & 0.8928853\\\\\n",
       "\t 45 & fixed\\_trial & High   & High\\_Coherency & 0.8885789\\\\\n",
       "\t 46 & fixed\\_trial & High   & High\\_Coherency & 0.9543187\\\\\n",
       "\t 47 & fixed\\_trial & High   & High\\_Coherency & 0.9032258\\\\\n",
       "\t 48 & fixed\\_trial & High   & High\\_Coherency & 0.8688119\\\\\n",
       "\t 49 & fixed\\_trial & High   & High\\_Coherency & 0.9702898\\\\\n",
       "\t 50 & fixed\\_trial & High   & High\\_Coherency & 0.8575669\\\\\n",
       "\t 51 & fixed\\_trial & Low    & High\\_Coherency & 0.8163355\\\\\n",
       "\t 52 & fixed\\_trial & Low    & High\\_Coherency & 0.8219503\\\\\n",
       "\t 53 & fixed\\_trial & Low    & High\\_Coherency & 0.8660279\\\\\n",
       "\t 54 & fixed\\_trial & Low    & High\\_Coherency & 0.8644089\\\\\n",
       "\t 55 & fixed\\_trial & Low    & High\\_Coherency & 0.8460039\\\\\n",
       "\t 56 & fixed\\_trial & Low    & High\\_Coherency & 0.9305326\\\\\n",
       "\t 57 & fixed\\_trial & Low    & High\\_Coherency & 0.9063558\\\\\n",
       "\t 58 & fixed\\_trial & Low    & High\\_Coherency & 0.8764131\\\\\n",
       "\t 59 & fixed\\_trial & Low    & High\\_Coherency & 0.8592468\\\\\n",
       "\t 60 & fixed\\_trial & Low    & High\\_Coherency & 0.8193455\\\\\n",
       "\\end{tabular}\n"
      ],
      "text/markdown": [
       "\n",
       "A tibble: 120 × 5\n",
       "\n",
       "| id &lt;dbl&gt; | task_duration_controlled &lt;chr&gt; | feedback_type &lt;chr&gt; | Coherency &lt;chr&gt; | reward_rate &lt;dbl&gt; |\n",
       "|---|---|---|---|---|\n",
       "|  1 | fixed_time | Medium | Low_Coherency | 0.9620027 |\n",
       "|  2 | fixed_time | Medium | Low_Coherency | 0.8881571 |\n",
       "|  3 | fixed_time | Medium | Low_Coherency | 0.9072598 |\n",
       "|  4 | fixed_time | Medium | Low_Coherency | 0.9210069 |\n",
       "|  5 | fixed_time | Medium | Low_Coherency | 0.9252177 |\n",
       "|  6 | fixed_time | Medium | Low_Coherency | 0.9058739 |\n",
       "|  7 | fixed_time | Medium | Low_Coherency | 0.8833553 |\n",
       "|  8 | fixed_time | Medium | Low_Coherency | 0.9104439 |\n",
       "|  9 | fixed_time | Medium | Low_Coherency | 0.9770211 |\n",
       "| 10 | fixed_time | Medium | Low_Coherency | 0.9458142 |\n",
       "| 11 | fixed_time | High   | Low_Coherency | 0.9435484 |\n",
       "| 12 | fixed_time | High   | Low_Coherency | 0.8928419 |\n",
       "| 13 | fixed_time | High   | Low_Coherency | 0.9000000 |\n",
       "| 14 | fixed_time | High   | Low_Coherency | 0.8985819 |\n",
       "| 15 | fixed_time | High   | Low_Coherency | 0.9609032 |\n",
       "| 16 | fixed_time | High   | Low_Coherency | 0.9697300 |\n",
       "| 17 | fixed_time | High   | Low_Coherency | 0.9149781 |\n",
       "| 18 | fixed_time | High   | Low_Coherency | 0.8987819 |\n",
       "| 19 | fixed_time | High   | Low_Coherency | 0.9525924 |\n",
       "| 20 | fixed_time | High   | Low_Coherency | 0.8899626 |\n",
       "| 21 | fixed_time | Low    | Low_Coherency | 0.8440813 |\n",
       "| 22 | fixed_time | Low    | Low_Coherency | 0.8971008 |\n",
       "| 23 | fixed_time | Low    | Low_Coherency | 0.8680219 |\n",
       "| 24 | fixed_time | Low    | Low_Coherency | 0.9012995 |\n",
       "| 25 | fixed_time | Low    | Low_Coherency | 0.8837523 |\n",
       "| 26 | fixed_time | Low    | Low_Coherency | 0.9054500 |\n",
       "| 27 | fixed_time | Low    | Low_Coherency | 0.8847819 |\n",
       "| 28 | fixed_time | Low    | Low_Coherency | 0.8817689 |\n",
       "| 29 | fixed_time | Low    | Low_Coherency | 0.9036403 |\n",
       "| 30 | fixed_time | Low    | Low_Coherency | 0.8678006 |\n",
       "| ⋮ | ⋮ | ⋮ | ⋮ | ⋮ |\n",
       "| 31 | fixed_trial | Medium | High_Coherency | 0.9283277 |\n",
       "| 32 | fixed_trial | Medium | High_Coherency | 0.9529052 |\n",
       "| 33 | fixed_trial | Medium | High_Coherency | 0.9195032 |\n",
       "| 34 | fixed_trial | Medium | High_Coherency | 0.9250440 |\n",
       "| 35 | fixed_trial | Medium | High_Coherency | 0.8986487 |\n",
       "| 36 | fixed_trial | Medium | High_Coherency | 0.9920994 |\n",
       "| 37 | fixed_trial | Medium | High_Coherency | 0.9516129 |\n",
       "| 38 | fixed_trial | Medium | High_Coherency | 0.9184903 |\n",
       "| 39 | fixed_trial | Medium | High_Coherency | 0.9129308 |\n",
       "| 40 | fixed_trial | Medium | High_Coherency | 0.9259518 |\n",
       "| 41 | fixed_trial | High   | High_Coherency | 0.8843002 |\n",
       "| 42 | fixed_trial | High   | High_Coherency | 0.9616865 |\n",
       "| 43 | fixed_trial | High   | High_Coherency | 0.8801181 |\n",
       "| 44 | fixed_trial | High   | High_Coherency | 0.8928853 |\n",
       "| 45 | fixed_trial | High   | High_Coherency | 0.8885789 |\n",
       "| 46 | fixed_trial | High   | High_Coherency | 0.9543187 |\n",
       "| 47 | fixed_trial | High   | High_Coherency | 0.9032258 |\n",
       "| 48 | fixed_trial | High   | High_Coherency | 0.8688119 |\n",
       "| 49 | fixed_trial | High   | High_Coherency | 0.9702898 |\n",
       "| 50 | fixed_trial | High   | High_Coherency | 0.8575669 |\n",
       "| 51 | fixed_trial | Low    | High_Coherency | 0.8163355 |\n",
       "| 52 | fixed_trial | Low    | High_Coherency | 0.8219503 |\n",
       "| 53 | fixed_trial | Low    | High_Coherency | 0.8660279 |\n",
       "| 54 | fixed_trial | Low    | High_Coherency | 0.8644089 |\n",
       "| 55 | fixed_trial | Low    | High_Coherency | 0.8460039 |\n",
       "| 56 | fixed_trial | Low    | High_Coherency | 0.9305326 |\n",
       "| 57 | fixed_trial | Low    | High_Coherency | 0.9063558 |\n",
       "| 58 | fixed_trial | Low    | High_Coherency | 0.8764131 |\n",
       "| 59 | fixed_trial | Low    | High_Coherency | 0.8592468 |\n",
       "| 60 | fixed_trial | Low    | High_Coherency | 0.8193455 |\n",
       "\n"
      ],
      "text/plain": [
       "    id task_duration_controlled feedback_type Coherency      reward_rate\n",
       "1    1 fixed_time               Medium        Low_Coherency  0.9620027  \n",
       "2    2 fixed_time               Medium        Low_Coherency  0.8881571  \n",
       "3    3 fixed_time               Medium        Low_Coherency  0.9072598  \n",
       "4    4 fixed_time               Medium        Low_Coherency  0.9210069  \n",
       "5    5 fixed_time               Medium        Low_Coherency  0.9252177  \n",
       "6    6 fixed_time               Medium        Low_Coherency  0.9058739  \n",
       "7    7 fixed_time               Medium        Low_Coherency  0.8833553  \n",
       "8    8 fixed_time               Medium        Low_Coherency  0.9104439  \n",
       "9    9 fixed_time               Medium        Low_Coherency  0.9770211  \n",
       "10  10 fixed_time               Medium        Low_Coherency  0.9458142  \n",
       "11  11 fixed_time               High          Low_Coherency  0.9435484  \n",
       "12  12 fixed_time               High          Low_Coherency  0.8928419  \n",
       "13  13 fixed_time               High          Low_Coherency  0.9000000  \n",
       "14  14 fixed_time               High          Low_Coherency  0.8985819  \n",
       "15  15 fixed_time               High          Low_Coherency  0.9609032  \n",
       "16  16 fixed_time               High          Low_Coherency  0.9697300  \n",
       "17  17 fixed_time               High          Low_Coherency  0.9149781  \n",
       "18  18 fixed_time               High          Low_Coherency  0.8987819  \n",
       "19  19 fixed_time               High          Low_Coherency  0.9525924  \n",
       "20  20 fixed_time               High          Low_Coherency  0.8899626  \n",
       "21  21 fixed_time               Low           Low_Coherency  0.8440813  \n",
       "22  22 fixed_time               Low           Low_Coherency  0.8971008  \n",
       "23  23 fixed_time               Low           Low_Coherency  0.8680219  \n",
       "24  24 fixed_time               Low           Low_Coherency  0.9012995  \n",
       "25  25 fixed_time               Low           Low_Coherency  0.8837523  \n",
       "26  26 fixed_time               Low           Low_Coherency  0.9054500  \n",
       "27  27 fixed_time               Low           Low_Coherency  0.8847819  \n",
       "28  28 fixed_time               Low           Low_Coherency  0.8817689  \n",
       "29  29 fixed_time               Low           Low_Coherency  0.9036403  \n",
       "30  30 fixed_time               Low           Low_Coherency  0.8678006  \n",
       "⋮   ⋮  ⋮                        ⋮             ⋮              ⋮          \n",
       "91  31 fixed_trial              Medium        High_Coherency 0.9283277  \n",
       "92  32 fixed_trial              Medium        High_Coherency 0.9529052  \n",
       "93  33 fixed_trial              Medium        High_Coherency 0.9195032  \n",
       "94  34 fixed_trial              Medium        High_Coherency 0.9250440  \n",
       "95  35 fixed_trial              Medium        High_Coherency 0.8986487  \n",
       "96  36 fixed_trial              Medium        High_Coherency 0.9920994  \n",
       "97  37 fixed_trial              Medium        High_Coherency 0.9516129  \n",
       "98  38 fixed_trial              Medium        High_Coherency 0.9184903  \n",
       "99  39 fixed_trial              Medium        High_Coherency 0.9129308  \n",
       "100 40 fixed_trial              Medium        High_Coherency 0.9259518  \n",
       "101 41 fixed_trial              High          High_Coherency 0.8843002  \n",
       "102 42 fixed_trial              High          High_Coherency 0.9616865  \n",
       "103 43 fixed_trial              High          High_Coherency 0.8801181  \n",
       "104 44 fixed_trial              High          High_Coherency 0.8928853  \n",
       "105 45 fixed_trial              High          High_Coherency 0.8885789  \n",
       "106 46 fixed_trial              High          High_Coherency 0.9543187  \n",
       "107 47 fixed_trial              High          High_Coherency 0.9032258  \n",
       "108 48 fixed_trial              High          High_Coherency 0.8688119  \n",
       "109 49 fixed_trial              High          High_Coherency 0.9702898  \n",
       "110 50 fixed_trial              High          High_Coherency 0.8575669  \n",
       "111 51 fixed_trial              Low           High_Coherency 0.8163355  \n",
       "112 52 fixed_trial              Low           High_Coherency 0.8219503  \n",
       "113 53 fixed_trial              Low           High_Coherency 0.8660279  \n",
       "114 54 fixed_trial              Low           High_Coherency 0.8644089  \n",
       "115 55 fixed_trial              Low           High_Coherency 0.8460039  \n",
       "116 56 fixed_trial              Low           High_Coherency 0.9305326  \n",
       "117 57 fixed_trial              Low           High_Coherency 0.9063558  \n",
       "118 58 fixed_trial              Low           High_Coherency 0.8764131  \n",
       "119 59 fixed_trial              Low           High_Coherency 0.8592468  \n",
       "120 60 fixed_trial              Low           High_Coherency 0.8193455  "
      ]
     },
     "metadata": {},
     "output_type": "display_data"
    }
   ],
   "source": [
    "Optimal_policy"
   ]
  },
  {
   "cell_type": "code",
   "execution_count": 11,
   "id": "b6c6ff9d-bb89-4f1f-acf0-2daa4ea021ea",
   "metadata": {},
   "outputs": [],
   "source": [
    "Optimal_policy = Optimal_policy %>% gather (key = \"Coherency\", value = \"reward_rate\", Low_Coherency, High_Coherency)"
   ]
  },
  {
   "cell_type": "code",
   "execution_count": 15,
   "id": "44d255c0-69c1-45b5-9a4c-67ad03a7bae1",
   "metadata": {},
   "outputs": [
    {
     "data": {
      "text/html": [
       "<table class=\"dataframe\">\n",
       "<caption>A tibble: 12 × 7</caption>\n",
       "<thead>\n",
       "\t<tr><th scope=col>task_duration_controlled</th><th scope=col>feedback_type</th><th scope=col>Coherency</th><th scope=col>variable</th><th scope=col>n</th><th scope=col>mean</th><th scope=col>sd</th></tr>\n",
       "\t<tr><th scope=col>&lt;chr&gt;</th><th scope=col>&lt;chr&gt;</th><th scope=col>&lt;chr&gt;</th><th scope=col>&lt;fct&gt;</th><th scope=col>&lt;dbl&gt;</th><th scope=col>&lt;dbl&gt;</th><th scope=col>&lt;dbl&gt;</th></tr>\n",
       "</thead>\n",
       "<tbody>\n",
       "\t<tr><td>fixed_time </td><td>High  </td><td>High_Coherency</td><td>reward_rate</td><td>10</td><td>0.930</td><td>0.025</td></tr>\n",
       "\t<tr><td>fixed_time </td><td>High  </td><td>Low_Coherency </td><td>reward_rate</td><td>10</td><td>0.922</td><td>0.031</td></tr>\n",
       "\t<tr><td>fixed_time </td><td>Low   </td><td>High_Coherency</td><td>reward_rate</td><td>10</td><td>0.909</td><td>0.031</td></tr>\n",
       "\t<tr><td>fixed_time </td><td>Low   </td><td>Low_Coherency </td><td>reward_rate</td><td>10</td><td>0.884</td><td>0.020</td></tr>\n",
       "\t<tr><td>fixed_time </td><td>Medium</td><td>High_Coherency</td><td>reward_rate</td><td>10</td><td>0.919</td><td>0.023</td></tr>\n",
       "\t<tr><td>fixed_time </td><td>Medium</td><td>Low_Coherency </td><td>reward_rate</td><td>10</td><td>0.923</td><td>0.031</td></tr>\n",
       "\t<tr><td>fixed_trial</td><td>High  </td><td>High_Coherency</td><td>reward_rate</td><td>10</td><td>0.906</td><td>0.041</td></tr>\n",
       "\t<tr><td>fixed_trial</td><td>High  </td><td>Low_Coherency </td><td>reward_rate</td><td>10</td><td>0.942</td><td>0.032</td></tr>\n",
       "\t<tr><td>fixed_trial</td><td>Low   </td><td>High_Coherency</td><td>reward_rate</td><td>10</td><td>0.861</td><td>0.037</td></tr>\n",
       "\t<tr><td>fixed_trial</td><td>Low   </td><td>Low_Coherency </td><td>reward_rate</td><td>10</td><td>0.889</td><td>0.023</td></tr>\n",
       "\t<tr><td>fixed_trial</td><td>Medium</td><td>High_Coherency</td><td>reward_rate</td><td>10</td><td>0.933</td><td>0.027</td></tr>\n",
       "\t<tr><td>fixed_trial</td><td>Medium</td><td>Low_Coherency </td><td>reward_rate</td><td>10</td><td>0.907</td><td>0.022</td></tr>\n",
       "</tbody>\n",
       "</table>\n"
      ],
      "text/latex": [
       "A tibble: 12 × 7\n",
       "\\begin{tabular}{lllllll}\n",
       " task\\_duration\\_controlled & feedback\\_type & Coherency & variable & n & mean & sd\\\\\n",
       " <chr> & <chr> & <chr> & <fct> & <dbl> & <dbl> & <dbl>\\\\\n",
       "\\hline\n",
       "\t fixed\\_time  & High   & High\\_Coherency & reward\\_rate & 10 & 0.930 & 0.025\\\\\n",
       "\t fixed\\_time  & High   & Low\\_Coherency  & reward\\_rate & 10 & 0.922 & 0.031\\\\\n",
       "\t fixed\\_time  & Low    & High\\_Coherency & reward\\_rate & 10 & 0.909 & 0.031\\\\\n",
       "\t fixed\\_time  & Low    & Low\\_Coherency  & reward\\_rate & 10 & 0.884 & 0.020\\\\\n",
       "\t fixed\\_time  & Medium & High\\_Coherency & reward\\_rate & 10 & 0.919 & 0.023\\\\\n",
       "\t fixed\\_time  & Medium & Low\\_Coherency  & reward\\_rate & 10 & 0.923 & 0.031\\\\\n",
       "\t fixed\\_trial & High   & High\\_Coherency & reward\\_rate & 10 & 0.906 & 0.041\\\\\n",
       "\t fixed\\_trial & High   & Low\\_Coherency  & reward\\_rate & 10 & 0.942 & 0.032\\\\\n",
       "\t fixed\\_trial & Low    & High\\_Coherency & reward\\_rate & 10 & 0.861 & 0.037\\\\\n",
       "\t fixed\\_trial & Low    & Low\\_Coherency  & reward\\_rate & 10 & 0.889 & 0.023\\\\\n",
       "\t fixed\\_trial & Medium & High\\_Coherency & reward\\_rate & 10 & 0.933 & 0.027\\\\\n",
       "\t fixed\\_trial & Medium & Low\\_Coherency  & reward\\_rate & 10 & 0.907 & 0.022\\\\\n",
       "\\end{tabular}\n"
      ],
      "text/markdown": [
       "\n",
       "A tibble: 12 × 7\n",
       "\n",
       "| task_duration_controlled &lt;chr&gt; | feedback_type &lt;chr&gt; | Coherency &lt;chr&gt; | variable &lt;fct&gt; | n &lt;dbl&gt; | mean &lt;dbl&gt; | sd &lt;dbl&gt; |\n",
       "|---|---|---|---|---|---|---|\n",
       "| fixed_time  | High   | High_Coherency | reward_rate | 10 | 0.930 | 0.025 |\n",
       "| fixed_time  | High   | Low_Coherency  | reward_rate | 10 | 0.922 | 0.031 |\n",
       "| fixed_time  | Low    | High_Coherency | reward_rate | 10 | 0.909 | 0.031 |\n",
       "| fixed_time  | Low    | Low_Coherency  | reward_rate | 10 | 0.884 | 0.020 |\n",
       "| fixed_time  | Medium | High_Coherency | reward_rate | 10 | 0.919 | 0.023 |\n",
       "| fixed_time  | Medium | Low_Coherency  | reward_rate | 10 | 0.923 | 0.031 |\n",
       "| fixed_trial | High   | High_Coherency | reward_rate | 10 | 0.906 | 0.041 |\n",
       "| fixed_trial | High   | Low_Coherency  | reward_rate | 10 | 0.942 | 0.032 |\n",
       "| fixed_trial | Low    | High_Coherency | reward_rate | 10 | 0.861 | 0.037 |\n",
       "| fixed_trial | Low    | Low_Coherency  | reward_rate | 10 | 0.889 | 0.023 |\n",
       "| fixed_trial | Medium | High_Coherency | reward_rate | 10 | 0.933 | 0.027 |\n",
       "| fixed_trial | Medium | Low_Coherency  | reward_rate | 10 | 0.907 | 0.022 |\n",
       "\n"
      ],
      "text/plain": [
       "   task_duration_controlled feedback_type Coherency      variable    n  mean \n",
       "1  fixed_time               High          High_Coherency reward_rate 10 0.930\n",
       "2  fixed_time               High          Low_Coherency  reward_rate 10 0.922\n",
       "3  fixed_time               Low           High_Coherency reward_rate 10 0.909\n",
       "4  fixed_time               Low           Low_Coherency  reward_rate 10 0.884\n",
       "5  fixed_time               Medium        High_Coherency reward_rate 10 0.919\n",
       "6  fixed_time               Medium        Low_Coherency  reward_rate 10 0.923\n",
       "7  fixed_trial              High          High_Coherency reward_rate 10 0.906\n",
       "8  fixed_trial              High          Low_Coherency  reward_rate 10 0.942\n",
       "9  fixed_trial              Low           High_Coherency reward_rate 10 0.861\n",
       "10 fixed_trial              Low           Low_Coherency  reward_rate 10 0.889\n",
       "11 fixed_trial              Medium        High_Coherency reward_rate 10 0.933\n",
       "12 fixed_trial              Medium        Low_Coherency  reward_rate 10 0.907\n",
       "   sd   \n",
       "1  0.025\n",
       "2  0.031\n",
       "3  0.031\n",
       "4  0.020\n",
       "5  0.023\n",
       "6  0.031\n",
       "7  0.041\n",
       "8  0.032\n",
       "9  0.037\n",
       "10 0.023\n",
       "11 0.027\n",
       "12 0.022"
      ]
     },
     "metadata": {},
     "output_type": "display_data"
    }
   ],
   "source": [
    "Optimal_policy %>% group_by(task_duration_controlled, feedback_type\t, Coherency) %>% get_summary_stats(reward_rate, type = \"mean_sd\")"
   ]
  },
  {
   "cell_type": "code",
   "execution_count": 19,
   "id": "eb0c346b-c512-4edc-9f8c-129814e2abae",
   "metadata": {},
   "outputs": [
    {
     "data": {
      "image/png": "[encoded data removed]",
      "text/plain": [
       "plot without title"
      ]
     },
     "metadata": {
      "image/png": {
       "height": 420,
       "width": 420
      }
     },
     "output_type": "display_data"
    }
   ],
   "source": [
    "ggboxplot(Optimal_policy, x = \"task_duration_controlled\", y = \"reward_rate\", color = \"feedback_type\", facet.by = \"Coherency\")"
   ]
  },
  {
   "cell_type": "markdown",
   "id": "62cabcd9-be91-40c9-8492-18df87a10417",
   "metadata": {},
   "source": [
    "# همگنی واریانس را با لوون در گروپ بای متغیر درون گروهی رو میاریم و در داخل لوون بین گروهی ها رو میاریم"
   ]
  },
  {
   "cell_type": "code",
   "execution_count": 20,
   "id": "d7ac5bb9-b57a-4854-bf41-04173253bf16",
   "metadata": {},
   "outputs": [
    {
     "data": {
      "text/html": [
       "<table class=\"dataframe\">\n",
       "<caption>A tibble: 2 × 5</caption>\n",
       "<thead>\n",
       "\t<tr><th scope=col>Coherency</th><th scope=col>df1</th><th scope=col>df2</th><th scope=col>statistic</th><th scope=col>p</th></tr>\n",
       "\t<tr><th scope=col>&lt;chr&gt;</th><th scope=col>&lt;int&gt;</th><th scope=col>&lt;int&gt;</th><th scope=col>&lt;dbl&gt;</th><th scope=col>&lt;dbl&gt;</th></tr>\n",
       "</thead>\n",
       "<tbody>\n",
       "\t<tr><td>High_Coherency</td><td>5</td><td>54</td><td>0.7218645</td><td>0.6099166</td></tr>\n",
       "\t<tr><td>Low_Coherency </td><td>5</td><td>54</td><td>0.9738829</td><td>0.4421133</td></tr>\n",
       "</tbody>\n",
       "</table>\n"
      ],
      "text/latex": [
       "A tibble: 2 × 5\n",
       "\\begin{tabular}{lllll}\n",
       " Coherency & df1 & df2 & statistic & p\\\\\n",
       " <chr> & <int> & <int> & <dbl> & <dbl>\\\\\n",
       "\\hline\n",
       "\t High\\_Coherency & 5 & 54 & 0.7218645 & 0.6099166\\\\\n",
       "\t Low\\_Coherency  & 5 & 54 & 0.9738829 & 0.4421133\\\\\n",
       "\\end{tabular}\n"
      ],
      "text/markdown": [
       "\n",
       "A tibble: 2 × 5\n",
       "\n",
       "| Coherency &lt;chr&gt; | df1 &lt;int&gt; | df2 &lt;int&gt; | statistic &lt;dbl&gt; | p &lt;dbl&gt; |\n",
       "|---|---|---|---|---|\n",
       "| High_Coherency | 5 | 54 | 0.7218645 | 0.6099166 |\n",
       "| Low_Coherency  | 5 | 54 | 0.9738829 | 0.4421133 |\n",
       "\n"
      ],
      "text/plain": [
       "  Coherency      df1 df2 statistic p        \n",
       "1 High_Coherency 5   54  0.7218645 0.6099166\n",
       "2 Low_Coherency  5   54  0.9738829 0.4421133"
      ]
     },
     "metadata": {},
     "output_type": "display_data"
    }
   ],
   "source": [
    "Optimal_policy %>% group_by(Coherency) %>% levene_test(reward_rate ~ task_duration_controlled * feedback_type)"
   ]
  },
  {
   "cell_type": "code",
   "execution_count": 21,
   "id": "af26295e-d4ad-4335-b517-63bcebdc47d1",
   "metadata": {},
   "outputs": [
    {
     "data": {
      "text/html": [
       "<table class=\"dataframe\">\n",
       "<caption>A tibble: 1 × 7</caption>\n",
       "<thead>\n",
       "\t<tr><th scope=col>task_duration_controlled</th><th scope=col>feedback_type</th><th scope=col>Coherency</th><th scope=col>id</th><th scope=col>reward_rate</th><th scope=col>is.outlier</th><th scope=col>is.extreme</th></tr>\n",
       "\t<tr><th scope=col>&lt;chr&gt;</th><th scope=col>&lt;chr&gt;</th><th scope=col>&lt;chr&gt;</th><th scope=col>&lt;dbl&gt;</th><th scope=col>&lt;dbl&gt;</th><th scope=col>&lt;lgl&gt;</th><th scope=col>&lt;lgl&gt;</th></tr>\n",
       "</thead>\n",
       "<tbody>\n",
       "\t<tr><td>fixed_trial</td><td>Medium</td><td>High_Coherency</td><td>36</td><td>0.9920994</td><td>TRUE</td><td>FALSE</td></tr>\n",
       "</tbody>\n",
       "</table>\n"
      ],
      "text/latex": [
       "A tibble: 1 × 7\n",
       "\\begin{tabular}{lllllll}\n",
       " task\\_duration\\_controlled & feedback\\_type & Coherency & id & reward\\_rate & is.outlier & is.extreme\\\\\n",
       " <chr> & <chr> & <chr> & <dbl> & <dbl> & <lgl> & <lgl>\\\\\n",
       "\\hline\n",
       "\t fixed\\_trial & Medium & High\\_Coherency & 36 & 0.9920994 & TRUE & FALSE\\\\\n",
       "\\end{tabular}\n"
      ],
      "text/markdown": [
       "\n",
       "A tibble: 1 × 7\n",
       "\n",
       "| task_duration_controlled &lt;chr&gt; | feedback_type &lt;chr&gt; | Coherency &lt;chr&gt; | id &lt;dbl&gt; | reward_rate &lt;dbl&gt; | is.outlier &lt;lgl&gt; | is.extreme &lt;lgl&gt; |\n",
       "|---|---|---|---|---|---|---|\n",
       "| fixed_trial | Medium | High_Coherency | 36 | 0.9920994 | TRUE | FALSE |\n",
       "\n"
      ],
      "text/plain": [
       "  task_duration_controlled feedback_type Coherency      id reward_rate\n",
       "1 fixed_trial              Medium        High_Coherency 36 0.9920994  \n",
       "  is.outlier is.extreme\n",
       "1 TRUE       FALSE     "
      ]
     },
     "metadata": {},
     "output_type": "display_data"
    }
   ],
   "source": [
    "Optimal_policy %>% group_by(task_duration_controlled, feedback_type\t, Coherency) %>% identify_outliers(reward_rate)"
   ]
  },
  {
   "cell_type": "code",
   "execution_count": 22,
   "id": "6775995b-9d16-454a-bd0d-d039673226c9",
   "metadata": {},
   "outputs": [
    {
     "data": {
      "image/png": "[encoded data removed]",
      "text/plain": [
       "plot without title"
      ]
     },
     "metadata": {
      "image/png": {
       "height": 420,
       "width": 420
      }
     },
     "output_type": "display_data"
    }
   ],
   "source": [
    "ggqqplot(Optimal_policy, \"reward_rate\") + facet_grid(feedback_type + task_duration_controlled ~ Coherency)"
   ]
  },
  {
   "cell_type": "code",
   "execution_count": 23,
   "id": "7523b408-7cbf-42a7-8dd7-2c67000a55b0",
   "metadata": {},
   "outputs": [
    {
     "data": {
      "text/html": [
       "<table class=\"dataframe\">\n",
       "<caption>A tibble: 12 × 6</caption>\n",
       "<thead>\n",
       "\t<tr><th scope=col>task_duration_controlled</th><th scope=col>feedback_type</th><th scope=col>Coherency</th><th scope=col>variable</th><th scope=col>statistic</th><th scope=col>p</th></tr>\n",
       "\t<tr><th scope=col>&lt;chr&gt;</th><th scope=col>&lt;chr&gt;</th><th scope=col>&lt;chr&gt;</th><th scope=col>&lt;chr&gt;</th><th scope=col>&lt;dbl&gt;</th><th scope=col>&lt;dbl&gt;</th></tr>\n",
       "</thead>\n",
       "<tbody>\n",
       "\t<tr><td>fixed_time </td><td>High  </td><td>High_Coherency</td><td>reward_rate</td><td>0.9578823</td><td>0.76148210</td></tr>\n",
       "\t<tr><td>fixed_time </td><td>High  </td><td>Low_Coherency </td><td>reward_rate</td><td>0.8478101</td><td>0.05470366</td></tr>\n",
       "\t<tr><td>fixed_time </td><td>Low   </td><td>High_Coherency</td><td>reward_rate</td><td>0.9252530</td><td>0.40285462</td></tr>\n",
       "\t<tr><td>fixed_time </td><td>Low   </td><td>Low_Coherency </td><td>reward_rate</td><td>0.9152651</td><td>0.31914862</td></tr>\n",
       "\t<tr><td>fixed_time </td><td>Medium</td><td>High_Coherency</td><td>reward_rate</td><td>0.9657809</td><td>0.84921174</td></tr>\n",
       "\t<tr><td>fixed_time </td><td>Medium</td><td>Low_Coherency </td><td>reward_rate</td><td>0.9418350</td><td>0.57360660</td></tr>\n",
       "\t<tr><td>fixed_trial</td><td>High  </td><td>High_Coherency</td><td>reward_rate</td><td>0.8652561</td><td>0.08798017</td></tr>\n",
       "\t<tr><td>fixed_trial</td><td>High  </td><td>Low_Coherency </td><td>reward_rate</td><td>0.9463818</td><td>0.62593436</td></tr>\n",
       "\t<tr><td>fixed_trial</td><td>Low   </td><td>High_Coherency</td><td>reward_rate</td><td>0.9304106</td><td>0.45194336</td></tr>\n",
       "\t<tr><td>fixed_trial</td><td>Low   </td><td>Low_Coherency </td><td>reward_rate</td><td>0.9891624</td><td>0.99569069</td></tr>\n",
       "\t<tr><td>fixed_trial</td><td>Medium</td><td>High_Coherency</td><td>reward_rate</td><td>0.8863369</td><td>0.15415128</td></tr>\n",
       "\t<tr><td>fixed_trial</td><td>Medium</td><td>Low_Coherency </td><td>reward_rate</td><td>0.8977701</td><td>0.20704919</td></tr>\n",
       "</tbody>\n",
       "</table>\n"
      ],
      "text/latex": [
       "A tibble: 12 × 6\n",
       "\\begin{tabular}{llllll}\n",
       " task\\_duration\\_controlled & feedback\\_type & Coherency & variable & statistic & p\\\\\n",
       " <chr> & <chr> & <chr> & <chr> & <dbl> & <dbl>\\\\\n",
       "\\hline\n",
       "\t fixed\\_time  & High   & High\\_Coherency & reward\\_rate & 0.9578823 & 0.76148210\\\\\n",
       "\t fixed\\_time  & High   & Low\\_Coherency  & reward\\_rate & 0.8478101 & 0.05470366\\\\\n",
       "\t fixed\\_time  & Low    & High\\_Coherency & reward\\_rate & 0.9252530 & 0.40285462\\\\\n",
       "\t fixed\\_time  & Low    & Low\\_Coherency  & reward\\_rate & 0.9152651 & 0.31914862\\\\\n",
       "\t fixed\\_time  & Medium & High\\_Coherency & reward\\_rate & 0.9657809 & 0.84921174\\\\\n",
       "\t fixed\\_time  & Medium & Low\\_Coherency  & reward\\_rate & 0.9418350 & 0.57360660\\\\\n",
       "\t fixed\\_trial & High   & High\\_Coherency & reward\\_rate & 0.8652561 & 0.08798017\\\\\n",
       "\t fixed\\_trial & High   & Low\\_Coherency  & reward\\_rate & 0.9463818 & 0.62593436\\\\\n",
       "\t fixed\\_trial & Low    & High\\_Coherency & reward\\_rate & 0.9304106 & 0.45194336\\\\\n",
       "\t fixed\\_trial & Low    & Low\\_Coherency  & reward\\_rate & 0.9891624 & 0.99569069\\\\\n",
       "\t fixed\\_trial & Medium & High\\_Coherency & reward\\_rate & 0.8863369 & 0.15415128\\\\\n",
       "\t fixed\\_trial & Medium & Low\\_Coherency  & reward\\_rate & 0.8977701 & 0.20704919\\\\\n",
       "\\end{tabular}\n"
      ],
      "text/markdown": [
       "\n",
       "A tibble: 12 × 6\n",
       "\n",
       "| task_duration_controlled &lt;chr&gt; | feedback_type &lt;chr&gt; | Coherency &lt;chr&gt; | variable &lt;chr&gt; | statistic &lt;dbl&gt; | p &lt;dbl&gt; |\n",
       "|---|---|---|---|---|---|\n",
       "| fixed_time  | High   | High_Coherency | reward_rate | 0.9578823 | 0.76148210 |\n",
       "| fixed_time  | High   | Low_Coherency  | reward_rate | 0.8478101 | 0.05470366 |\n",
       "| fixed_time  | Low    | High_Coherency | reward_rate | 0.9252530 | 0.40285462 |\n",
       "| fixed_time  | Low    | Low_Coherency  | reward_rate | 0.9152651 | 0.31914862 |\n",
       "| fixed_time  | Medium | High_Coherency | reward_rate | 0.9657809 | 0.84921174 |\n",
       "| fixed_time  | Medium | Low_Coherency  | reward_rate | 0.9418350 | 0.57360660 |\n",
       "| fixed_trial | High   | High_Coherency | reward_rate | 0.8652561 | 0.08798017 |\n",
       "| fixed_trial | High   | Low_Coherency  | reward_rate | 0.9463818 | 0.62593436 |\n",
       "| fixed_trial | Low    | High_Coherency | reward_rate | 0.9304106 | 0.45194336 |\n",
       "| fixed_trial | Low    | Low_Coherency  | reward_rate | 0.9891624 | 0.99569069 |\n",
       "| fixed_trial | Medium | High_Coherency | reward_rate | 0.8863369 | 0.15415128 |\n",
       "| fixed_trial | Medium | Low_Coherency  | reward_rate | 0.8977701 | 0.20704919 |\n",
       "\n"
      ],
      "text/plain": [
       "   task_duration_controlled feedback_type Coherency      variable    statistic\n",
       "1  fixed_time               High          High_Coherency reward_rate 0.9578823\n",
       "2  fixed_time               High          Low_Coherency  reward_rate 0.8478101\n",
       "3  fixed_time               Low           High_Coherency reward_rate 0.9252530\n",
       "4  fixed_time               Low           Low_Coherency  reward_rate 0.9152651\n",
       "5  fixed_time               Medium        High_Coherency reward_rate 0.9657809\n",
       "6  fixed_time               Medium        Low_Coherency  reward_rate 0.9418350\n",
       "7  fixed_trial              High          High_Coherency reward_rate 0.8652561\n",
       "8  fixed_trial              High          Low_Coherency  reward_rate 0.9463818\n",
       "9  fixed_trial              Low           High_Coherency reward_rate 0.9304106\n",
       "10 fixed_trial              Low           Low_Coherency  reward_rate 0.9891624\n",
       "11 fixed_trial              Medium        High_Coherency reward_rate 0.8863369\n",
       "12 fixed_trial              Medium        Low_Coherency  reward_rate 0.8977701\n",
       "   p         \n",
       "1  0.76148210\n",
       "2  0.05470366\n",
       "3  0.40285462\n",
       "4  0.31914862\n",
       "5  0.84921174\n",
       "6  0.57360660\n",
       "7  0.08798017\n",
       "8  0.62593436\n",
       "9  0.45194336\n",
       "10 0.99569069\n",
       "11 0.15415128\n",
       "12 0.20704919"
      ]
     },
     "metadata": {},
     "output_type": "display_data"
    }
   ],
   "source": [
    "Optimal_policy %>% group_by(task_duration_controlled, feedback_type\t, Coherency) %>% shapiro_test(reward_rate)"
   ]
  },
  {
   "cell_type": "code",
   "execution_count": 24,
   "id": "023e88bd-4fb6-41ae-9b9a-82d7648f720f",
   "metadata": {},
   "outputs": [
    {
     "data": {
      "text/html": [
       "<table class=\"dataframe\">\n",
       "<caption>A anova_test: 7 × 7</caption>\n",
       "<thead>\n",
       "\t<tr><th></th><th scope=col>Effect</th><th scope=col>DFn</th><th scope=col>DFd</th><th scope=col>F</th><th scope=col>p</th><th scope=col>p&lt;.05</th><th scope=col>ges</th></tr>\n",
       "\t<tr><th></th><th scope=col>&lt;chr&gt;</th><th scope=col>&lt;dbl&gt;</th><th scope=col>&lt;dbl&gt;</th><th scope=col>&lt;dbl&gt;</th><th scope=col>&lt;dbl&gt;</th><th scope=col>&lt;chr&gt;</th><th scope=col>&lt;dbl&gt;</th></tr>\n",
       "</thead>\n",
       "<tbody>\n",
       "\t<tr><th scope=row>1</th><td>task_duration_controlled                        </td><td>1</td><td>54</td><td> 2.406</td><td>1.27e-01</td><td> </td><td>0.023000</td></tr>\n",
       "\t<tr><th scope=row>2</th><td>feedback_type                                   </td><td>2</td><td>54</td><td>21.166</td><td>1.63e-07</td><td>*</td><td>0.288000</td></tr>\n",
       "\t<tr><th scope=row>3</th><td>Coherency                                       </td><td>1</td><td>54</td><td> 0.063</td><td>8.03e-01</td><td> </td><td>0.000564</td></tr>\n",
       "\t<tr><th scope=row>4</th><td>task_duration_controlled:feedback_type          </td><td>2</td><td>54</td><td> 1.554</td><td>2.21e-01</td><td> </td><td>0.029000</td></tr>\n",
       "\t<tr><th scope=row>5</th><td>task_duration_controlled:Coherency              </td><td>1</td><td>54</td><td> 4.730</td><td>3.40e-02</td><td>*</td><td>0.041000</td></tr>\n",
       "\t<tr><th scope=row>6</th><td>feedback_type:Coherency                         </td><td>2</td><td>54</td><td> 1.821</td><td>1.72e-01</td><td> </td><td>0.032000</td></tr>\n",
       "\t<tr><th scope=row>7</th><td>task_duration_controlled:feedback_type:Coherency</td><td>2</td><td>54</td><td> 6.101</td><td>4.00e-03</td><td>*</td><td>0.098000</td></tr>\n",
       "</tbody>\n",
       "</table>\n"
      ],
      "text/latex": [
       "A anova\\_test: 7 × 7\n",
       "\\begin{tabular}{r|lllllll}\n",
       "  & Effect & DFn & DFd & F & p & p<.05 & ges\\\\\n",
       "  & <chr> & <dbl> & <dbl> & <dbl> & <dbl> & <chr> & <dbl>\\\\\n",
       "\\hline\n",
       "\t1 & task\\_duration\\_controlled                         & 1 & 54 &  2.406 & 1.27e-01 &   & 0.023000\\\\\n",
       "\t2 & feedback\\_type                                    & 2 & 54 & 21.166 & 1.63e-07 & * & 0.288000\\\\\n",
       "\t3 & Coherency                                        & 1 & 54 &  0.063 & 8.03e-01 &   & 0.000564\\\\\n",
       "\t4 & task\\_duration\\_controlled:feedback\\_type           & 2 & 54 &  1.554 & 2.21e-01 &   & 0.029000\\\\\n",
       "\t5 & task\\_duration\\_controlled:Coherency               & 1 & 54 &  4.730 & 3.40e-02 & * & 0.041000\\\\\n",
       "\t6 & feedback\\_type:Coherency                          & 2 & 54 &  1.821 & 1.72e-01 &   & 0.032000\\\\\n",
       "\t7 & task\\_duration\\_controlled:feedback\\_type:Coherency & 2 & 54 &  6.101 & 4.00e-03 & * & 0.098000\\\\\n",
       "\\end{tabular}\n"
      ],
      "text/markdown": [
       "\n",
       "A anova_test: 7 × 7\n",
       "\n",
       "| <!--/--> | Effect &lt;chr&gt; | DFn &lt;dbl&gt; | DFd &lt;dbl&gt; | F &lt;dbl&gt; | p &lt;dbl&gt; | p&lt;.05 &lt;chr&gt; | ges &lt;dbl&gt; |\n",
       "|---|---|---|---|---|---|---|---|\n",
       "| 1 | task_duration_controlled                         | 1 | 54 |  2.406 | 1.27e-01 | <!----> | 0.023000 |\n",
       "| 2 | feedback_type                                    | 2 | 54 | 21.166 | 1.63e-07 | * | 0.288000 |\n",
       "| 3 | Coherency                                        | 1 | 54 |  0.063 | 8.03e-01 | <!----> | 0.000564 |\n",
       "| 4 | task_duration_controlled:feedback_type           | 2 | 54 |  1.554 | 2.21e-01 | <!----> | 0.029000 |\n",
       "| 5 | task_duration_controlled:Coherency               | 1 | 54 |  4.730 | 3.40e-02 | * | 0.041000 |\n",
       "| 6 | feedback_type:Coherency                          | 2 | 54 |  1.821 | 1.72e-01 | <!----> | 0.032000 |\n",
       "| 7 | task_duration_controlled:feedback_type:Coherency | 2 | 54 |  6.101 | 4.00e-03 | * | 0.098000 |\n",
       "\n"
      ],
      "text/plain": [
       "  Effect                                           DFn DFd F      p       \n",
       "1 task_duration_controlled                         1   54   2.406 1.27e-01\n",
       "2 feedback_type                                    2   54  21.166 1.63e-07\n",
       "3 Coherency                                        1   54   0.063 8.03e-01\n",
       "4 task_duration_controlled:feedback_type           2   54   1.554 2.21e-01\n",
       "5 task_duration_controlled:Coherency               1   54   4.730 3.40e-02\n",
       "6 feedback_type:Coherency                          2   54   1.821 1.72e-01\n",
       "7 task_duration_controlled:feedback_type:Coherency 2   54   6.101 4.00e-03\n",
       "  p<.05 ges     \n",
       "1       0.023000\n",
       "2 *     0.288000\n",
       "3       0.000564\n",
       "4       0.029000\n",
       "5 *     0.041000\n",
       "6       0.032000\n",
       "7 *     0.098000"
      ]
     },
     "metadata": {},
     "output_type": "display_data"
    }
   ],
   "source": [
    "anova_test(data = Optimal_policy, dv = reward_rate, wid= id, within = Coherency, between = c(task_duration_controlled, feedback_type))"
   ]
  },
  {
   "cell_type": "code",
   "execution_count": null,
   "id": "2d8f5261-108b-447b-9852-4df91da6fed1",
   "metadata": {},
   "outputs": [],
   "source": [
    " "
   ]
  }
 ],
 "metadata": {
  "kernelspec": {
   "display_name": "R",
   "language": "R",
   "name": "ir"
  },
  "language_info": {
   "codemirror_mode": "r",
   "file_extension": ".r",
   "mimetype": "text/x-r-source",
   "name": "R",
   "pygments_lexer": "r",
   "version": "4.3.2"
  }
 },
 "nbformat": 4,
 "nbformat_minor": 5
}
