{
 "cells": [
  {
   "cell_type": "code",
   "execution_count": 17,
   "id": "7fb48cee-623e-415e-81c2-0ac4a10048be",
   "metadata": {},
   "outputs": [],
   "source": [
    "library(readxl)\n",
    "library(rstatix)"
   ]
  },
  {
   "cell_type": "code",
   "execution_count": 18,
   "id": "d0847cd6-3e26-489a-a977-e6342d91e4a4",
   "metadata": {},
   "outputs": [],
   "source": [
    "Mood_Induction  = read_excel(\"D://Amar//Codes_Data//Mood_Induction.xlsx\")"
   ]
  },
  {
   "cell_type": "code",
   "execution_count": 19,
   "id": "aad8cdc2-a3cd-4725-9d27-82051a6ff5dd",
   "metadata": {},
   "outputs": [],
   "source": [
    "Mood_Induction = Mood_Induction %>% gather(key = \"Mood\", value = \"Risk_aversion\", Neutral_Mood, Positive_Mood, Negative_Mood)"
   ]
  },
  {
   "cell_type": "code",
   "execution_count": 20,
   "id": "c68f0014-7503-4a51-9cd1-0f9987294ea0",
   "metadata": {},
   "outputs": [
    {
     "data": {
      "text/html": [
       "<table class=\"dataframe\">\n",
       "<caption>A tibble: 135 × 4</caption>\n",
       "<thead>\n",
       "\t<tr><th scope=col>id</th><th scope=col>group</th><th scope=col>Mood</th><th scope=col>Risk_aversion</th></tr>\n",
       "\t<tr><th scope=col>&lt;dbl&gt;</th><th scope=col>&lt;chr&gt;</th><th scope=col>&lt;chr&gt;</th><th scope=col>&lt;dbl&gt;</th></tr>\n",
       "</thead>\n",
       "<tbody>\n",
       "\t<tr><td> 1</td><td>Autism</td><td>Neutral_Mood</td><td>0.4700000</td></tr>\n",
       "\t<tr><td> 2</td><td>Autism</td><td>Neutral_Mood</td><td>0.4833333</td></tr>\n",
       "\t<tr><td> 3</td><td>Autism</td><td>Neutral_Mood</td><td>0.5233333</td></tr>\n",
       "\t<tr><td> 4</td><td>Autism</td><td>Neutral_Mood</td><td>0.5333333</td></tr>\n",
       "\t<tr><td> 5</td><td>Autism</td><td>Neutral_Mood</td><td>0.5500000</td></tr>\n",
       "\t<tr><td> 6</td><td>Autism</td><td>Neutral_Mood</td><td>0.5633333</td></tr>\n",
       "\t<tr><td> 7</td><td>Autism</td><td>Neutral_Mood</td><td>0.5666667</td></tr>\n",
       "\t<tr><td> 8</td><td>Autism</td><td>Neutral_Mood</td><td>0.5666667</td></tr>\n",
       "\t<tr><td> 9</td><td>Autism</td><td>Neutral_Mood</td><td>0.5766667</td></tr>\n",
       "\t<tr><td>10</td><td>Autism</td><td>Neutral_Mood</td><td>0.5766667</td></tr>\n",
       "\t<tr><td>11</td><td>Autism</td><td>Neutral_Mood</td><td>0.5933333</td></tr>\n",
       "\t<tr><td>12</td><td>Autism</td><td>Neutral_Mood</td><td>0.5966667</td></tr>\n",
       "\t<tr><td>13</td><td>Autism</td><td>Neutral_Mood</td><td>0.6366667</td></tr>\n",
       "\t<tr><td>14</td><td>Autism</td><td>Neutral_Mood</td><td>0.6466667</td></tr>\n",
       "\t<tr><td>15</td><td>Autism</td><td>Neutral_Mood</td><td>0.6600000</td></tr>\n",
       "\t<tr><td>16</td><td>ADHD  </td><td>Neutral_Mood</td><td>0.4566667</td></tr>\n",
       "\t<tr><td>17</td><td>ADHD  </td><td>Neutral_Mood</td><td>0.4900000</td></tr>\n",
       "\t<tr><td>18</td><td>ADHD  </td><td>Neutral_Mood</td><td>0.4966667</td></tr>\n",
       "\t<tr><td>19</td><td>ADHD  </td><td>Neutral_Mood</td><td>0.5033333</td></tr>\n",
       "\t<tr><td>20</td><td>ADHD  </td><td>Neutral_Mood</td><td>0.5266667</td></tr>\n",
       "\t<tr><td>21</td><td>ADHD  </td><td>Neutral_Mood</td><td>0.5466667</td></tr>\n",
       "\t<tr><td>22</td><td>ADHD  </td><td>Neutral_Mood</td><td>0.5533333</td></tr>\n",
       "\t<tr><td>23</td><td>ADHD  </td><td>Neutral_Mood</td><td>0.5633333</td></tr>\n",
       "\t<tr><td>24</td><td>ADHD  </td><td>Neutral_Mood</td><td>0.5633333</td></tr>\n",
       "\t<tr><td>25</td><td>ADHD  </td><td>Neutral_Mood</td><td>0.5733333</td></tr>\n",
       "\t<tr><td>26</td><td>ADHD  </td><td>Neutral_Mood</td><td>0.5933333</td></tr>\n",
       "\t<tr><td>27</td><td>ADHD  </td><td>Neutral_Mood</td><td>0.5933333</td></tr>\n",
       "\t<tr><td>28</td><td>ADHD  </td><td>Neutral_Mood</td><td>0.6066667</td></tr>\n",
       "\t<tr><td>29</td><td>ADHD  </td><td>Neutral_Mood</td><td>0.6133333</td></tr>\n",
       "\t<tr><td>30</td><td>ADHD  </td><td>Neutral_Mood</td><td>0.6433333</td></tr>\n",
       "\t<tr><td>⋮</td><td>⋮</td><td>⋮</td><td>⋮</td></tr>\n",
       "\t<tr><td>16</td><td>ADHD   </td><td>Negative_Mood</td><td>0.4233333</td></tr>\n",
       "\t<tr><td>17</td><td>ADHD   </td><td>Negative_Mood</td><td>0.4366667</td></tr>\n",
       "\t<tr><td>18</td><td>ADHD   </td><td>Negative_Mood</td><td>0.4533333</td></tr>\n",
       "\t<tr><td>19</td><td>ADHD   </td><td>Negative_Mood</td><td>0.4533333</td></tr>\n",
       "\t<tr><td>20</td><td>ADHD   </td><td>Negative_Mood</td><td>0.4733333</td></tr>\n",
       "\t<tr><td>21</td><td>ADHD   </td><td>Negative_Mood</td><td>0.4966667</td></tr>\n",
       "\t<tr><td>22</td><td>ADHD   </td><td>Negative_Mood</td><td>0.5366667</td></tr>\n",
       "\t<tr><td>23</td><td>ADHD   </td><td>Negative_Mood</td><td>0.5366667</td></tr>\n",
       "\t<tr><td>24</td><td>ADHD   </td><td>Negative_Mood</td><td>0.5433333</td></tr>\n",
       "\t<tr><td>25</td><td>ADHD   </td><td>Negative_Mood</td><td>0.5300000</td></tr>\n",
       "\t<tr><td>26</td><td>ADHD   </td><td>Negative_Mood</td><td>0.5800000</td></tr>\n",
       "\t<tr><td>27</td><td>ADHD   </td><td>Negative_Mood</td><td>0.5633333</td></tr>\n",
       "\t<tr><td>28</td><td>ADHD   </td><td>Negative_Mood</td><td>0.5700000</td></tr>\n",
       "\t<tr><td>29</td><td>ADHD   </td><td>Negative_Mood</td><td>0.5766667</td></tr>\n",
       "\t<tr><td>30</td><td>ADHD   </td><td>Negative_Mood</td><td>0.5900000</td></tr>\n",
       "\t<tr><td>31</td><td>Control</td><td>Negative_Mood</td><td>0.3900000</td></tr>\n",
       "\t<tr><td>32</td><td>Control</td><td>Negative_Mood</td><td>0.3966667</td></tr>\n",
       "\t<tr><td>33</td><td>Control</td><td>Negative_Mood</td><td>0.3666667</td></tr>\n",
       "\t<tr><td>34</td><td>Control</td><td>Negative_Mood</td><td>0.4033333</td></tr>\n",
       "\t<tr><td>35</td><td>Control</td><td>Negative_Mood</td><td>0.4100000</td></tr>\n",
       "\t<tr><td>36</td><td>Control</td><td>Negative_Mood</td><td>0.4533333</td></tr>\n",
       "\t<tr><td>37</td><td>Control</td><td>Negative_Mood</td><td>0.4766667</td></tr>\n",
       "\t<tr><td>38</td><td>Control</td><td>Negative_Mood</td><td>0.4733333</td></tr>\n",
       "\t<tr><td>39</td><td>Control</td><td>Negative_Mood</td><td>0.4800000</td></tr>\n",
       "\t<tr><td>40</td><td>Control</td><td>Negative_Mood</td><td>0.4600000</td></tr>\n",
       "\t<tr><td>41</td><td>Control</td><td>Negative_Mood</td><td>0.4766667</td></tr>\n",
       "\t<tr><td>42</td><td>Control</td><td>Negative_Mood</td><td>0.4600000</td></tr>\n",
       "\t<tr><td>43</td><td>Control</td><td>Negative_Mood</td><td>0.5133333</td></tr>\n",
       "\t<tr><td>44</td><td>Control</td><td>Negative_Mood</td><td>0.5033333</td></tr>\n",
       "\t<tr><td>45</td><td>Control</td><td>Negative_Mood</td><td>0.5166667</td></tr>\n",
       "</tbody>\n",
       "</table>\n"
      ],
      "text/latex": [
       "A tibble: 135 × 4\n",
       "\\begin{tabular}{llll}\n",
       " id & group & Mood & Risk\\_aversion\\\\\n",
       " <dbl> & <chr> & <chr> & <dbl>\\\\\n",
       "\\hline\n",
       "\t  1 & Autism & Neutral\\_Mood & 0.4700000\\\\\n",
       "\t  2 & Autism & Neutral\\_Mood & 0.4833333\\\\\n",
       "\t  3 & Autism & Neutral\\_Mood & 0.5233333\\\\\n",
       "\t  4 & Autism & Neutral\\_Mood & 0.5333333\\\\\n",
       "\t  5 & Autism & Neutral\\_Mood & 0.5500000\\\\\n",
       "\t  6 & Autism & Neutral\\_Mood & 0.5633333\\\\\n",
       "\t  7 & Autism & Neutral\\_Mood & 0.5666667\\\\\n",
       "\t  8 & Autism & Neutral\\_Mood & 0.5666667\\\\\n",
       "\t  9 & Autism & Neutral\\_Mood & 0.5766667\\\\\n",
       "\t 10 & Autism & Neutral\\_Mood & 0.5766667\\\\\n",
       "\t 11 & Autism & Neutral\\_Mood & 0.5933333\\\\\n",
       "\t 12 & Autism & Neutral\\_Mood & 0.5966667\\\\\n",
       "\t 13 & Autism & Neutral\\_Mood & 0.6366667\\\\\n",
       "\t 14 & Autism & Neutral\\_Mood & 0.6466667\\\\\n",
       "\t 15 & Autism & Neutral\\_Mood & 0.6600000\\\\\n",
       "\t 16 & ADHD   & Neutral\\_Mood & 0.4566667\\\\\n",
       "\t 17 & ADHD   & Neutral\\_Mood & 0.4900000\\\\\n",
       "\t 18 & ADHD   & Neutral\\_Mood & 0.4966667\\\\\n",
       "\t 19 & ADHD   & Neutral\\_Mood & 0.5033333\\\\\n",
       "\t 20 & ADHD   & Neutral\\_Mood & 0.5266667\\\\\n",
       "\t 21 & ADHD   & Neutral\\_Mood & 0.5466667\\\\\n",
       "\t 22 & ADHD   & Neutral\\_Mood & 0.5533333\\\\\n",
       "\t 23 & ADHD   & Neutral\\_Mood & 0.5633333\\\\\n",
       "\t 24 & ADHD   & Neutral\\_Mood & 0.5633333\\\\\n",
       "\t 25 & ADHD   & Neutral\\_Mood & 0.5733333\\\\\n",
       "\t 26 & ADHD   & Neutral\\_Mood & 0.5933333\\\\\n",
       "\t 27 & ADHD   & Neutral\\_Mood & 0.5933333\\\\\n",
       "\t 28 & ADHD   & Neutral\\_Mood & 0.6066667\\\\\n",
       "\t 29 & ADHD   & Neutral\\_Mood & 0.6133333\\\\\n",
       "\t 30 & ADHD   & Neutral\\_Mood & 0.6433333\\\\\n",
       "\t ⋮ & ⋮ & ⋮ & ⋮\\\\\n",
       "\t 16 & ADHD    & Negative\\_Mood & 0.4233333\\\\\n",
       "\t 17 & ADHD    & Negative\\_Mood & 0.4366667\\\\\n",
       "\t 18 & ADHD    & Negative\\_Mood & 0.4533333\\\\\n",
       "\t 19 & ADHD    & Negative\\_Mood & 0.4533333\\\\\n",
       "\t 20 & ADHD    & Negative\\_Mood & 0.4733333\\\\\n",
       "\t 21 & ADHD    & Negative\\_Mood & 0.4966667\\\\\n",
       "\t 22 & ADHD    & Negative\\_Mood & 0.5366667\\\\\n",
       "\t 23 & ADHD    & Negative\\_Mood & 0.5366667\\\\\n",
       "\t 24 & ADHD    & Negative\\_Mood & 0.5433333\\\\\n",
       "\t 25 & ADHD    & Negative\\_Mood & 0.5300000\\\\\n",
       "\t 26 & ADHD    & Negative\\_Mood & 0.5800000\\\\\n",
       "\t 27 & ADHD    & Negative\\_Mood & 0.5633333\\\\\n",
       "\t 28 & ADHD    & Negative\\_Mood & 0.5700000\\\\\n",
       "\t 29 & ADHD    & Negative\\_Mood & 0.5766667\\\\\n",
       "\t 30 & ADHD    & Negative\\_Mood & 0.5900000\\\\\n",
       "\t 31 & Control & Negative\\_Mood & 0.3900000\\\\\n",
       "\t 32 & Control & Negative\\_Mood & 0.3966667\\\\\n",
       "\t 33 & Control & Negative\\_Mood & 0.3666667\\\\\n",
       "\t 34 & Control & Negative\\_Mood & 0.4033333\\\\\n",
       "\t 35 & Control & Negative\\_Mood & 0.4100000\\\\\n",
       "\t 36 & Control & Negative\\_Mood & 0.4533333\\\\\n",
       "\t 37 & Control & Negative\\_Mood & 0.4766667\\\\\n",
       "\t 38 & Control & Negative\\_Mood & 0.4733333\\\\\n",
       "\t 39 & Control & Negative\\_Mood & 0.4800000\\\\\n",
       "\t 40 & Control & Negative\\_Mood & 0.4600000\\\\\n",
       "\t 41 & Control & Negative\\_Mood & 0.4766667\\\\\n",
       "\t 42 & Control & Negative\\_Mood & 0.4600000\\\\\n",
       "\t 43 & Control & Negative\\_Mood & 0.5133333\\\\\n",
       "\t 44 & Control & Negative\\_Mood & 0.5033333\\\\\n",
       "\t 45 & Control & Negative\\_Mood & 0.5166667\\\\\n",
       "\\end{tabular}\n"
      ],
      "text/markdown": [
       "\n",
       "A tibble: 135 × 4\n",
       "\n",
       "| id &lt;dbl&gt; | group &lt;chr&gt; | Mood &lt;chr&gt; | Risk_aversion &lt;dbl&gt; |\n",
       "|---|---|---|---|\n",
       "|  1 | Autism | Neutral_Mood | 0.4700000 |\n",
       "|  2 | Autism | Neutral_Mood | 0.4833333 |\n",
       "|  3 | Autism | Neutral_Mood | 0.5233333 |\n",
       "|  4 | Autism | Neutral_Mood | 0.5333333 |\n",
       "|  5 | Autism | Neutral_Mood | 0.5500000 |\n",
       "|  6 | Autism | Neutral_Mood | 0.5633333 |\n",
       "|  7 | Autism | Neutral_Mood | 0.5666667 |\n",
       "|  8 | Autism | Neutral_Mood | 0.5666667 |\n",
       "|  9 | Autism | Neutral_Mood | 0.5766667 |\n",
       "| 10 | Autism | Neutral_Mood | 0.5766667 |\n",
       "| 11 | Autism | Neutral_Mood | 0.5933333 |\n",
       "| 12 | Autism | Neutral_Mood | 0.5966667 |\n",
       "| 13 | Autism | Neutral_Mood | 0.6366667 |\n",
       "| 14 | Autism | Neutral_Mood | 0.6466667 |\n",
       "| 15 | Autism | Neutral_Mood | 0.6600000 |\n",
       "| 16 | ADHD   | Neutral_Mood | 0.4566667 |\n",
       "| 17 | ADHD   | Neutral_Mood | 0.4900000 |\n",
       "| 18 | ADHD   | Neutral_Mood | 0.4966667 |\n",
       "| 19 | ADHD   | Neutral_Mood | 0.5033333 |\n",
       "| 20 | ADHD   | Neutral_Mood | 0.5266667 |\n",
       "| 21 | ADHD   | Neutral_Mood | 0.5466667 |\n",
       "| 22 | ADHD   | Neutral_Mood | 0.5533333 |\n",
       "| 23 | ADHD   | Neutral_Mood | 0.5633333 |\n",
       "| 24 | ADHD   | Neutral_Mood | 0.5633333 |\n",
       "| 25 | ADHD   | Neutral_Mood | 0.5733333 |\n",
       "| 26 | ADHD   | Neutral_Mood | 0.5933333 |\n",
       "| 27 | ADHD   | Neutral_Mood | 0.5933333 |\n",
       "| 28 | ADHD   | Neutral_Mood | 0.6066667 |\n",
       "| 29 | ADHD   | Neutral_Mood | 0.6133333 |\n",
       "| 30 | ADHD   | Neutral_Mood | 0.6433333 |\n",
       "| ⋮ | ⋮ | ⋮ | ⋮ |\n",
       "| 16 | ADHD    | Negative_Mood | 0.4233333 |\n",
       "| 17 | ADHD    | Negative_Mood | 0.4366667 |\n",
       "| 18 | ADHD    | Negative_Mood | 0.4533333 |\n",
       "| 19 | ADHD    | Negative_Mood | 0.4533333 |\n",
       "| 20 | ADHD    | Negative_Mood | 0.4733333 |\n",
       "| 21 | ADHD    | Negative_Mood | 0.4966667 |\n",
       "| 22 | ADHD    | Negative_Mood | 0.5366667 |\n",
       "| 23 | ADHD    | Negative_Mood | 0.5366667 |\n",
       "| 24 | ADHD    | Negative_Mood | 0.5433333 |\n",
       "| 25 | ADHD    | Negative_Mood | 0.5300000 |\n",
       "| 26 | ADHD    | Negative_Mood | 0.5800000 |\n",
       "| 27 | ADHD    | Negative_Mood | 0.5633333 |\n",
       "| 28 | ADHD    | Negative_Mood | 0.5700000 |\n",
       "| 29 | ADHD    | Negative_Mood | 0.5766667 |\n",
       "| 30 | ADHD    | Negative_Mood | 0.5900000 |\n",
       "| 31 | Control | Negative_Mood | 0.3900000 |\n",
       "| 32 | Control | Negative_Mood | 0.3966667 |\n",
       "| 33 | Control | Negative_Mood | 0.3666667 |\n",
       "| 34 | Control | Negative_Mood | 0.4033333 |\n",
       "| 35 | Control | Negative_Mood | 0.4100000 |\n",
       "| 36 | Control | Negative_Mood | 0.4533333 |\n",
       "| 37 | Control | Negative_Mood | 0.4766667 |\n",
       "| 38 | Control | Negative_Mood | 0.4733333 |\n",
       "| 39 | Control | Negative_Mood | 0.4800000 |\n",
       "| 40 | Control | Negative_Mood | 0.4600000 |\n",
       "| 41 | Control | Negative_Mood | 0.4766667 |\n",
       "| 42 | Control | Negative_Mood | 0.4600000 |\n",
       "| 43 | Control | Negative_Mood | 0.5133333 |\n",
       "| 44 | Control | Negative_Mood | 0.5033333 |\n",
       "| 45 | Control | Negative_Mood | 0.5166667 |\n",
       "\n"
      ],
      "text/plain": [
       "    id group   Mood          Risk_aversion\n",
       "1    1 Autism  Neutral_Mood  0.4700000    \n",
       "2    2 Autism  Neutral_Mood  0.4833333    \n",
       "3    3 Autism  Neutral_Mood  0.5233333    \n",
       "4    4 Autism  Neutral_Mood  0.5333333    \n",
       "5    5 Autism  Neutral_Mood  0.5500000    \n",
       "6    6 Autism  Neutral_Mood  0.5633333    \n",
       "7    7 Autism  Neutral_Mood  0.5666667    \n",
       "8    8 Autism  Neutral_Mood  0.5666667    \n",
       "9    9 Autism  Neutral_Mood  0.5766667    \n",
       "10  10 Autism  Neutral_Mood  0.5766667    \n",
       "11  11 Autism  Neutral_Mood  0.5933333    \n",
       "12  12 Autism  Neutral_Mood  0.5966667    \n",
       "13  13 Autism  Neutral_Mood  0.6366667    \n",
       "14  14 Autism  Neutral_Mood  0.6466667    \n",
       "15  15 Autism  Neutral_Mood  0.6600000    \n",
       "16  16 ADHD    Neutral_Mood  0.4566667    \n",
       "17  17 ADHD    Neutral_Mood  0.4900000    \n",
       "18  18 ADHD    Neutral_Mood  0.4966667    \n",
       "19  19 ADHD    Neutral_Mood  0.5033333    \n",
       "20  20 ADHD    Neutral_Mood  0.5266667    \n",
       "21  21 ADHD    Neutral_Mood  0.5466667    \n",
       "22  22 ADHD    Neutral_Mood  0.5533333    \n",
       "23  23 ADHD    Neutral_Mood  0.5633333    \n",
       "24  24 ADHD    Neutral_Mood  0.5633333    \n",
       "25  25 ADHD    Neutral_Mood  0.5733333    \n",
       "26  26 ADHD    Neutral_Mood  0.5933333    \n",
       "27  27 ADHD    Neutral_Mood  0.5933333    \n",
       "28  28 ADHD    Neutral_Mood  0.6066667    \n",
       "29  29 ADHD    Neutral_Mood  0.6133333    \n",
       "30  30 ADHD    Neutral_Mood  0.6433333    \n",
       "⋮   ⋮  ⋮       ⋮             ⋮            \n",
       "106 16 ADHD    Negative_Mood 0.4233333    \n",
       "107 17 ADHD    Negative_Mood 0.4366667    \n",
       "108 18 ADHD    Negative_Mood 0.4533333    \n",
       "109 19 ADHD    Negative_Mood 0.4533333    \n",
       "110 20 ADHD    Negative_Mood 0.4733333    \n",
       "111 21 ADHD    Negative_Mood 0.4966667    \n",
       "112 22 ADHD    Negative_Mood 0.5366667    \n",
       "113 23 ADHD    Negative_Mood 0.5366667    \n",
       "114 24 ADHD    Negative_Mood 0.5433333    \n",
       "115 25 ADHD    Negative_Mood 0.5300000    \n",
       "116 26 ADHD    Negative_Mood 0.5800000    \n",
       "117 27 ADHD    Negative_Mood 0.5633333    \n",
       "118 28 ADHD    Negative_Mood 0.5700000    \n",
       "119 29 ADHD    Negative_Mood 0.5766667    \n",
       "120 30 ADHD    Negative_Mood 0.5900000    \n",
       "121 31 Control Negative_Mood 0.3900000    \n",
       "122 32 Control Negative_Mood 0.3966667    \n",
       "123 33 Control Negative_Mood 0.3666667    \n",
       "124 34 Control Negative_Mood 0.4033333    \n",
       "125 35 Control Negative_Mood 0.4100000    \n",
       "126 36 Control Negative_Mood 0.4533333    \n",
       "127 37 Control Negative_Mood 0.4766667    \n",
       "128 38 Control Negative_Mood 0.4733333    \n",
       "129 39 Control Negative_Mood 0.4800000    \n",
       "130 40 Control Negative_Mood 0.4600000    \n",
       "131 41 Control Negative_Mood 0.4766667    \n",
       "132 42 Control Negative_Mood 0.4600000    \n",
       "133 43 Control Negative_Mood 0.5133333    \n",
       "134 44 Control Negative_Mood 0.5033333    \n",
       "135 45 Control Negative_Mood 0.5166667    "
      ]
     },
     "metadata": {},
     "output_type": "display_data"
    }
   ],
   "source": [
    "Mood_Induction"
   ]
  },
  {
   "cell_type": "code",
   "execution_count": 5,
   "id": "ce8b60b4-cc95-4f4b-9eb9-37a372227ae0",
   "metadata": {},
   "outputs": [
    {
     "data": {
      "text/html": [
       "<table class=\"dataframe\">\n",
       "<caption>A tibble: 9 × 6</caption>\n",
       "<thead>\n",
       "\t<tr><th scope=col>group</th><th scope=col>Mood</th><th scope=col>variable</th><th scope=col>n</th><th scope=col>mean</th><th scope=col>sd</th></tr>\n",
       "\t<tr><th scope=col>&lt;chr&gt;</th><th scope=col>&lt;chr&gt;</th><th scope=col>&lt;fct&gt;</th><th scope=col>&lt;dbl&gt;</th><th scope=col>&lt;dbl&gt;</th><th scope=col>&lt;dbl&gt;</th></tr>\n",
       "</thead>\n",
       "<tbody>\n",
       "\t<tr><td>ADHD   </td><td>Negative_Mood</td><td>Risk_aversion</td><td>15</td><td>0.518</td><td>0.057</td></tr>\n",
       "\t<tr><td>Autism </td><td>Negative_Mood</td><td>Risk_aversion</td><td>15</td><td>0.550</td><td>0.052</td></tr>\n",
       "\t<tr><td>Control</td><td>Negative_Mood</td><td>Risk_aversion</td><td>15</td><td>0.452</td><td>0.047</td></tr>\n",
       "\t<tr><td>ADHD   </td><td>Neutral_Mood </td><td>Risk_aversion</td><td>15</td><td>0.555</td><td>0.052</td></tr>\n",
       "\t<tr><td>Autism </td><td>Neutral_Mood </td><td>Risk_aversion</td><td>15</td><td>0.570</td><td>0.054</td></tr>\n",
       "\t<tr><td>Control</td><td>Neutral_Mood </td><td>Risk_aversion</td><td>15</td><td>0.567</td><td>0.044</td></tr>\n",
       "\t<tr><td>ADHD   </td><td>Positive_Mood</td><td>Risk_aversion</td><td>15</td><td>0.549</td><td>0.056</td></tr>\n",
       "\t<tr><td>Autism </td><td>Positive_Mood</td><td>Risk_aversion</td><td>15</td><td>0.564</td><td>0.057</td></tr>\n",
       "\t<tr><td>Control</td><td>Positive_Mood</td><td>Risk_aversion</td><td>15</td><td>0.500</td><td>0.046</td></tr>\n",
       "</tbody>\n",
       "</table>\n"
      ],
      "text/latex": [
       "A tibble: 9 × 6\n",
       "\\begin{tabular}{llllll}\n",
       " group & Mood & variable & n & mean & sd\\\\\n",
       " <chr> & <chr> & <fct> & <dbl> & <dbl> & <dbl>\\\\\n",
       "\\hline\n",
       "\t ADHD    & Negative\\_Mood & Risk\\_aversion & 15 & 0.518 & 0.057\\\\\n",
       "\t Autism  & Negative\\_Mood & Risk\\_aversion & 15 & 0.550 & 0.052\\\\\n",
       "\t Control & Negative\\_Mood & Risk\\_aversion & 15 & 0.452 & 0.047\\\\\n",
       "\t ADHD    & Neutral\\_Mood  & Risk\\_aversion & 15 & 0.555 & 0.052\\\\\n",
       "\t Autism  & Neutral\\_Mood  & Risk\\_aversion & 15 & 0.570 & 0.054\\\\\n",
       "\t Control & Neutral\\_Mood  & Risk\\_aversion & 15 & 0.567 & 0.044\\\\\n",
       "\t ADHD    & Positive\\_Mood & Risk\\_aversion & 15 & 0.549 & 0.056\\\\\n",
       "\t Autism  & Positive\\_Mood & Risk\\_aversion & 15 & 0.564 & 0.057\\\\\n",
       "\t Control & Positive\\_Mood & Risk\\_aversion & 15 & 0.500 & 0.046\\\\\n",
       "\\end{tabular}\n"
      ],
      "text/markdown": [
       "\n",
       "A tibble: 9 × 6\n",
       "\n",
       "| group &lt;chr&gt; | Mood &lt;chr&gt; | variable &lt;fct&gt; | n &lt;dbl&gt; | mean &lt;dbl&gt; | sd &lt;dbl&gt; |\n",
       "|---|---|---|---|---|---|\n",
       "| ADHD    | Negative_Mood | Risk_aversion | 15 | 0.518 | 0.057 |\n",
       "| Autism  | Negative_Mood | Risk_aversion | 15 | 0.550 | 0.052 |\n",
       "| Control | Negative_Mood | Risk_aversion | 15 | 0.452 | 0.047 |\n",
       "| ADHD    | Neutral_Mood  | Risk_aversion | 15 | 0.555 | 0.052 |\n",
       "| Autism  | Neutral_Mood  | Risk_aversion | 15 | 0.570 | 0.054 |\n",
       "| Control | Neutral_Mood  | Risk_aversion | 15 | 0.567 | 0.044 |\n",
       "| ADHD    | Positive_Mood | Risk_aversion | 15 | 0.549 | 0.056 |\n",
       "| Autism  | Positive_Mood | Risk_aversion | 15 | 0.564 | 0.057 |\n",
       "| Control | Positive_Mood | Risk_aversion | 15 | 0.500 | 0.046 |\n",
       "\n"
      ],
      "text/plain": [
       "  group   Mood          variable      n  mean  sd   \n",
       "1 ADHD    Negative_Mood Risk_aversion 15 0.518 0.057\n",
       "2 Autism  Negative_Mood Risk_aversion 15 0.550 0.052\n",
       "3 Control Negative_Mood Risk_aversion 15 0.452 0.047\n",
       "4 ADHD    Neutral_Mood  Risk_aversion 15 0.555 0.052\n",
       "5 Autism  Neutral_Mood  Risk_aversion 15 0.570 0.054\n",
       "6 Control Neutral_Mood  Risk_aversion 15 0.567 0.044\n",
       "7 ADHD    Positive_Mood Risk_aversion 15 0.549 0.056\n",
       "8 Autism  Positive_Mood Risk_aversion 15 0.564 0.057\n",
       "9 Control Positive_Mood Risk_aversion 15 0.500 0.046"
      ]
     },
     "metadata": {},
     "output_type": "display_data"
    }
   ],
   "source": [
    "Mood_Induction %>% group_by(Mood, group) %>% get_summary_stats(Risk_aversion, type = \"mean_sd\")"
   ]
  },
  {
   "cell_type": "code",
   "execution_count": 25,
   "id": "9a573ea5-03d2-4dd7-b1b4-d66a15d546d8",
   "metadata": {},
   "outputs": [
    {
     "data": {
      "text/html": [
       "<table class=\"dataframe\">\n",
       "<caption>A data.frame: 0 × 6</caption>\n",
       "<thead>\n",
       "\t<tr><th scope=col>group</th><th scope=col>Mood</th><th scope=col>id</th><th scope=col>Risk_aversion</th><th scope=col>is.outlier</th><th scope=col>is.extreme</th></tr>\n",
       "\t<tr><th scope=col>&lt;chr&gt;</th><th scope=col>&lt;chr&gt;</th><th scope=col>&lt;dbl&gt;</th><th scope=col>&lt;dbl&gt;</th><th scope=col>&lt;lgl&gt;</th><th scope=col>&lt;lgl&gt;</th></tr>\n",
       "</thead>\n",
       "<tbody>\n",
       "</tbody>\n",
       "</table>\n"
      ],
      "text/latex": [
       "A data.frame: 0 × 6\n",
       "\\begin{tabular}{llllll}\n",
       " group & Mood & id & Risk\\_aversion & is.outlier & is.extreme\\\\\n",
       " <chr> & <chr> & <dbl> & <dbl> & <lgl> & <lgl>\\\\\n",
       "\\hline\n",
       "\\end{tabular}\n"
      ],
      "text/markdown": [
       "\n",
       "A data.frame: 0 × 6\n",
       "\n",
       "| group &lt;chr&gt; | Mood &lt;chr&gt; | id &lt;dbl&gt; | Risk_aversion &lt;dbl&gt; | is.outlier &lt;lgl&gt; | is.extreme &lt;lgl&gt; |\n",
       "|---|---|---|---|---|---|\n",
       "\n"
      ],
      "text/plain": [
       "     group Mood id Risk_aversion is.outlier is.extreme"
      ]
     },
     "metadata": {},
     "output_type": "display_data"
    }
   ],
   "source": [
    "Mood_Induction %>% group_by(Mood, group) %>% identify_outliers(Risk_aversion)"
   ]
  },
  {
   "cell_type": "code",
   "execution_count": 29,
   "id": "1653798d-c18f-4434-8968-7e88a2746c4f",
   "metadata": {},
   "outputs": [
    {
     "data": {
      "image/png": "[encoded data removed]",
      "text/plain": [
       "plot without title"
      ]
     },
     "metadata": {
      "image/png": {
       "height": 420,
       "width": 420
      }
     },
     "output_type": "display_data"
    }
   ],
   "source": [
    "ggqqplot(Mood_Induction, \"Risk_aversion\") + facet_grid(Mood~group)"
   ]
  },
  {
   "cell_type": "code",
   "execution_count": 27,
   "id": "4ee9d885-295c-4a44-96ed-01ad76d80a35",
   "metadata": {},
   "outputs": [
    {
     "name": "stderr",
     "output_type": "stream",
     "text": [
      "Loading required package: ggplot2\n",
      "\n"
     ]
    }
   ],
   "source": [
    "library(ggpubr)"
   ]
  },
  {
   "cell_type": "code",
   "execution_count": 30,
   "id": "b007453a-890e-4338-8c39-578d2ca4119f",
   "metadata": {},
   "outputs": [
    {
     "name": "stderr",
     "output_type": "stream",
     "text": [
      "Warning message:\n",
      "\"\u001b[1m\u001b[22mThere were 3 warnings in `mutate()`.\n",
      "The first warning was:\n",
      "\u001b[1m\u001b[22m\u001b[36mℹ\u001b[39m In argument: `data = map(.data$data, .f, ...)`.\n",
      "Caused by warning in `leveneTest.default()`:\n",
      "\u001b[33m!\u001b[39m group coerced to factor.\n",
      "\u001b[1m\u001b[22m\u001b[36mℹ\u001b[39m Run `dplyr::last_dplyr_warnings()` to see the 2 remaining warnings.\"\n"
     ]
    },
    {
     "data": {
      "text/html": [
       "<table class=\"dataframe\">\n",
       "<caption>A tibble: 3 × 5</caption>\n",
       "<thead>\n",
       "\t<tr><th scope=col>Mood</th><th scope=col>df1</th><th scope=col>df2</th><th scope=col>statistic</th><th scope=col>p</th></tr>\n",
       "\t<tr><th scope=col>&lt;chr&gt;</th><th scope=col>&lt;int&gt;</th><th scope=col>&lt;int&gt;</th><th scope=col>&lt;dbl&gt;</th><th scope=col>&lt;dbl&gt;</th></tr>\n",
       "</thead>\n",
       "<tbody>\n",
       "\t<tr><td>Negative_Mood</td><td>2</td><td>42</td><td>0.3350585</td><td>0.7171906</td></tr>\n",
       "\t<tr><td>Neutral_Mood </td><td>2</td><td>42</td><td>0.1759211</td><td>0.8392990</td></tr>\n",
       "\t<tr><td>Positive_Mood</td><td>2</td><td>42</td><td>0.2486797</td><td>0.7809698</td></tr>\n",
       "</tbody>\n",
       "</table>\n"
      ],
      "text/latex": [
       "A tibble: 3 × 5\n",
       "\\begin{tabular}{lllll}\n",
       " Mood & df1 & df2 & statistic & p\\\\\n",
       " <chr> & <int> & <int> & <dbl> & <dbl>\\\\\n",
       "\\hline\n",
       "\t Negative\\_Mood & 2 & 42 & 0.3350585 & 0.7171906\\\\\n",
       "\t Neutral\\_Mood  & 2 & 42 & 0.1759211 & 0.8392990\\\\\n",
       "\t Positive\\_Mood & 2 & 42 & 0.2486797 & 0.7809698\\\\\n",
       "\\end{tabular}\n"
      ],
      "text/markdown": [
       "\n",
       "A tibble: 3 × 5\n",
       "\n",
       "| Mood &lt;chr&gt; | df1 &lt;int&gt; | df2 &lt;int&gt; | statistic &lt;dbl&gt; | p &lt;dbl&gt; |\n",
       "|---|---|---|---|---|\n",
       "| Negative_Mood | 2 | 42 | 0.3350585 | 0.7171906 |\n",
       "| Neutral_Mood  | 2 | 42 | 0.1759211 | 0.8392990 |\n",
       "| Positive_Mood | 2 | 42 | 0.2486797 | 0.7809698 |\n",
       "\n"
      ],
      "text/plain": [
       "  Mood          df1 df2 statistic p        \n",
       "1 Negative_Mood 2   42  0.3350585 0.7171906\n",
       "2 Neutral_Mood  2   42  0.1759211 0.8392990\n",
       "3 Positive_Mood 2   42  0.2486797 0.7809698"
      ]
     },
     "metadata": {},
     "output_type": "display_data"
    }
   ],
   "source": [
    "Mood_Induction %>% group_by(Mood) %>% levene_test(Risk_aversion ~ group)"
   ]
  },
  {
   "cell_type": "markdown",
   "id": "770e1c1e-0f59-421c-9ca7-3d359774268f",
   "metadata": {},
   "source": [
    "# Tests Covariance Homogeniety."
   ]
  },
  {
   "cell_type": "code",
   "execution_count": 32,
   "id": "432b21bc-5dd5-4d9a-ace0-31322208de40",
   "metadata": {},
   "outputs": [
    {
     "data": {
      "text/html": [
       "<table class=\"dataframe\">\n",
       "<caption>A tibble: 1 × 4</caption>\n",
       "<thead>\n",
       "\t<tr><th scope=col>statistic</th><th scope=col>p.value</th><th scope=col>parameter</th><th scope=col>method</th></tr>\n",
       "\t<tr><th scope=col>&lt;dbl&gt;</th><th scope=col>&lt;dbl&gt;</th><th scope=col>&lt;dbl&gt;</th><th scope=col>&lt;chr&gt;</th></tr>\n",
       "</thead>\n",
       "<tbody>\n",
       "\t<tr><td>1.930886</td><td>0.3808144</td><td>2</td><td>Box's M-test for Homogeneity of Covariance Matrices</td></tr>\n",
       "</tbody>\n",
       "</table>\n"
      ],
      "text/latex": [
       "A tibble: 1 × 4\n",
       "\\begin{tabular}{llll}\n",
       " statistic & p.value & parameter & method\\\\\n",
       " <dbl> & <dbl> & <dbl> & <chr>\\\\\n",
       "\\hline\n",
       "\t 1.930886 & 0.3808144 & 2 & Box's M-test for Homogeneity of Covariance Matrices\\\\\n",
       "\\end{tabular}\n"
      ],
      "text/markdown": [
       "\n",
       "A tibble: 1 × 4\n",
       "\n",
       "| statistic &lt;dbl&gt; | p.value &lt;dbl&gt; | parameter &lt;dbl&gt; | method &lt;chr&gt; |\n",
       "|---|---|---|---|\n",
       "| 1.930886 | 0.3808144 | 2 | Box's M-test for Homogeneity of Covariance Matrices |\n",
       "\n"
      ],
      "text/plain": [
       "  statistic p.value   parameter\n",
       "1 1.930886  0.3808144 2        \n",
       "  method                                             \n",
       "1 Box's M-test for Homogeneity of Covariance Matrices"
      ]
     },
     "metadata": {},
     "output_type": "display_data"
    }
   ],
   "source": [
    "box_m(Mood_Induction[, \"Risk_aversion\", drop = FALSE], Mood_Induction$group)"
   ]
  },
  {
   "cell_type": "markdown",
   "id": "3a9abb3b-3dae-4b9d-a096-b06f8f091957",
   "metadata": {},
   "source": [
    "# 1 in 1 mixed anova test"
   ]
  },
  {
   "cell_type": "code",
   "execution_count": 34,
   "id": "e89813e0-0c63-4df6-8572-a166734bc772",
   "metadata": {},
   "outputs": [
    {
     "data": {
      "text/html": [
       "<dl>\n",
       "\t<dt>$ANOVA</dt>\n",
       "\t\t<dd><table class=\"dataframe\">\n",
       "<caption>A data.frame: 3 × 7</caption>\n",
       "<thead>\n",
       "\t<tr><th scope=col>Effect</th><th scope=col>DFn</th><th scope=col>DFd</th><th scope=col>F</th><th scope=col>p</th><th scope=col>p&lt;.05</th><th scope=col>ges</th></tr>\n",
       "\t<tr><th scope=col>&lt;chr&gt;</th><th scope=col>&lt;dbl&gt;</th><th scope=col>&lt;dbl&gt;</th><th scope=col>&lt;dbl&gt;</th><th scope=col>&lt;dbl&gt;</th><th scope=col>&lt;chr&gt;</th><th scope=col>&lt;dbl&gt;</th></tr>\n",
       "</thead>\n",
       "<tbody>\n",
       "\t<tr><td>group     </td><td>2</td><td>42</td><td>  4.352</td><td>1.90e-02</td><td>*</td><td>0.168</td></tr>\n",
       "\t<tr><td>Mood      </td><td>2</td><td>84</td><td>394.909</td><td>1.91e-43</td><td>*</td><td>0.179</td></tr>\n",
       "\t<tr><td>group:Mood</td><td>4</td><td>84</td><td>110.188</td><td>1.38e-32</td><td>*</td><td>0.108</td></tr>\n",
       "</tbody>\n",
       "</table>\n",
       "</dd>\n",
       "\t<dt>$`Mauchly's Test for Sphericity`</dt>\n",
       "\t\t<dd><table class=\"dataframe\">\n",
       "<caption>A data.frame: 2 × 4</caption>\n",
       "<thead>\n",
       "\t<tr><th></th><th scope=col>Effect</th><th scope=col>W</th><th scope=col>p</th><th scope=col>p&lt;.05</th></tr>\n",
       "\t<tr><th></th><th scope=col>&lt;chr&gt;</th><th scope=col>&lt;dbl&gt;</th><th scope=col>&lt;dbl&gt;</th><th scope=col>&lt;chr&gt;</th></tr>\n",
       "</thead>\n",
       "<tbody>\n",
       "\t<tr><th scope=row>1</th><td>Mood      </td><td>0.884</td><td>0.079</td><td></td></tr>\n",
       "\t<tr><th scope=row>2</th><td>group:Mood</td><td>0.884</td><td>0.079</td><td></td></tr>\n",
       "</tbody>\n",
       "</table>\n",
       "</dd>\n",
       "\t<dt>$`Sphericity Corrections`</dt>\n",
       "\t\t<dd><table class=\"dataframe\">\n",
       "<caption>A data.frame: 2 × 9</caption>\n",
       "<thead>\n",
       "\t<tr><th scope=col>Effect</th><th scope=col>GGe</th><th scope=col>DF[GG]</th><th scope=col>p[GG]</th><th scope=col>p[GG]&lt;.05</th><th scope=col>HFe</th><th scope=col>DF[HF]</th><th scope=col>p[HF]</th><th scope=col>p[HF]&lt;.05</th></tr>\n",
       "\t<tr><th scope=col>&lt;chr&gt;</th><th scope=col>&lt;dbl&gt;</th><th scope=col>&lt;chr&gt;</th><th scope=col>&lt;dbl&gt;</th><th scope=col>&lt;chr&gt;</th><th scope=col>&lt;dbl&gt;</th><th scope=col>&lt;chr&gt;</th><th scope=col>&lt;dbl&gt;</th><th scope=col>&lt;chr&gt;</th></tr>\n",
       "</thead>\n",
       "<tbody>\n",
       "\t<tr><td>Mood      </td><td>0.896</td><td>1.79, 75.24</td><td>3.48e-39</td><td>*</td><td>0.933</td><td>1.87, 78.38</td><td>1.04e-40</td><td>*</td></tr>\n",
       "\t<tr><td>group:Mood</td><td>0.896</td><td>3.58, 75.24</td><td>1.97e-29</td><td>*</td><td>0.933</td><td>3.73, 78.38</td><td>1.46e-30</td><td>*</td></tr>\n",
       "</tbody>\n",
       "</table>\n",
       "</dd>\n",
       "</dl>\n"
      ],
      "text/latex": [
       "\\begin{description}\n",
       "\\item[\\$ANOVA] A data.frame: 3 × 7\n",
       "\\begin{tabular}{lllllll}\n",
       " Effect & DFn & DFd & F & p & p<.05 & ges\\\\\n",
       " <chr> & <dbl> & <dbl> & <dbl> & <dbl> & <chr> & <dbl>\\\\\n",
       "\\hline\n",
       "\t group      & 2 & 42 &   4.352 & 1.90e-02 & * & 0.168\\\\\n",
       "\t Mood       & 2 & 84 & 394.909 & 1.91e-43 & * & 0.179\\\\\n",
       "\t group:Mood & 4 & 84 & 110.188 & 1.38e-32 & * & 0.108\\\\\n",
       "\\end{tabular}\n",
       "\n",
       "\\item[\\$`Mauchly's Test for Sphericity`] A data.frame: 2 × 4\n",
       "\\begin{tabular}{r|llll}\n",
       "  & Effect & W & p & p<.05\\\\\n",
       "  & <chr> & <dbl> & <dbl> & <chr>\\\\\n",
       "\\hline\n",
       "\t1 & Mood       & 0.884 & 0.079 & \\\\\n",
       "\t2 & group:Mood & 0.884 & 0.079 & \\\\\n",
       "\\end{tabular}\n",
       "\n",
       "\\item[\\$`Sphericity Corrections`] A data.frame: 2 × 9\n",
       "\\begin{tabular}{lllllllll}\n",
       " Effect & GGe & DF{[}GG{]} & p{[}GG{]} & p{[}GG{]}<.05 & HFe & DF{[}HF{]} & p{[}HF{]} & p{[}HF{]}<.05\\\\\n",
       " <chr> & <dbl> & <chr> & <dbl> & <chr> & <dbl> & <chr> & <dbl> & <chr>\\\\\n",
       "\\hline\n",
       "\t Mood       & 0.896 & 1.79, 75.24 & 3.48e-39 & * & 0.933 & 1.87, 78.38 & 1.04e-40 & *\\\\\n",
       "\t group:Mood & 0.896 & 3.58, 75.24 & 1.97e-29 & * & 0.933 & 3.73, 78.38 & 1.46e-30 & *\\\\\n",
       "\\end{tabular}\n",
       "\n",
       "\\end{description}\n"
      ],
      "text/markdown": [
       "$ANOVA\n",
       ":   \n",
       "A data.frame: 3 × 7\n",
       "\n",
       "| Effect &lt;chr&gt; | DFn &lt;dbl&gt; | DFd &lt;dbl&gt; | F &lt;dbl&gt; | p &lt;dbl&gt; | p&lt;.05 &lt;chr&gt; | ges &lt;dbl&gt; |\n",
       "|---|---|---|---|---|---|---|\n",
       "| group      | 2 | 42 |   4.352 | 1.90e-02 | * | 0.168 |\n",
       "| Mood       | 2 | 84 | 394.909 | 1.91e-43 | * | 0.179 |\n",
       "| group:Mood | 4 | 84 | 110.188 | 1.38e-32 | * | 0.108 |\n",
       "\n",
       "\n",
       "$`Mauchly's Test for Sphericity`\n",
       ":   \n",
       "A data.frame: 2 × 4\n",
       "\n",
       "| <!--/--> | Effect &lt;chr&gt; | W &lt;dbl&gt; | p &lt;dbl&gt; | p&lt;.05 &lt;chr&gt; |\n",
       "|---|---|---|---|---|\n",
       "| 1 | Mood       | 0.884 | 0.079 | <!----> |\n",
       "| 2 | group:Mood | 0.884 | 0.079 | <!----> |\n",
       "\n",
       "\n",
       "$`Sphericity Corrections`\n",
       ":   \n",
       "A data.frame: 2 × 9\n",
       "\n",
       "| Effect &lt;chr&gt; | GGe &lt;dbl&gt; | DF[GG] &lt;chr&gt; | p[GG] &lt;dbl&gt; | p[GG]&lt;.05 &lt;chr&gt; | HFe &lt;dbl&gt; | DF[HF] &lt;chr&gt; | p[HF] &lt;dbl&gt; | p[HF]&lt;.05 &lt;chr&gt; |\n",
       "|---|---|---|---|---|---|---|---|---|\n",
       "| Mood       | 0.896 | 1.79, 75.24 | 3.48e-39 | * | 0.933 | 1.87, 78.38 | 1.04e-40 | * |\n",
       "| group:Mood | 0.896 | 3.58, 75.24 | 1.97e-29 | * | 0.933 | 3.73, 78.38 | 1.46e-30 | * |\n",
       "\n",
       "\n",
       "\n",
       "\n"
      ],
      "text/plain": [
       "ANOVA Table (type II tests)\n",
       "\n",
       "$ANOVA\n",
       "      Effect DFn DFd       F        p p<.05   ges\n",
       "1      group   2  42   4.352 1.90e-02     * 0.168\n",
       "2       Mood   2  84 394.909 1.91e-43     * 0.179\n",
       "3 group:Mood   4  84 110.188 1.38e-32     * 0.108\n",
       "\n",
       "$`Mauchly's Test for Sphericity`\n",
       "      Effect     W     p p<.05\n",
       "1       Mood 0.884 0.079      \n",
       "2 group:Mood 0.884 0.079      \n",
       "\n",
       "$`Sphericity Corrections`\n",
       "      Effect   GGe      DF[GG]    p[GG] p[GG]<.05   HFe      DF[HF]    p[HF]\n",
       "1       Mood 0.896 1.79, 75.24 3.48e-39         * 0.933 1.87, 78.38 1.04e-40\n",
       "2 group:Mood 0.896 3.58, 75.24 1.97e-29         * 0.933 3.73, 78.38 1.46e-30\n",
       "  p[HF]<.05\n",
       "1         *\n",
       "2         *\n"
      ]
     },
     "metadata": {},
     "output_type": "display_data"
    }
   ],
   "source": [
    "anova_test(data = Mood_Induction, dv = Risk_aversion, wid = id, between = group ,within  =Mood)"
   ]
  },
  {
   "cell_type": "code",
   "execution_count": 10,
   "id": "5e4d2be1-e05b-4901-baa0-eb559af0d935",
   "metadata": {},
   "outputs": [
    {
     "data": {
      "text/html": [
       "<table class=\"dataframe\">\n",
       "<caption>A grouped_anova_test: 3 × 9</caption>\n",
       "<thead>\n",
       "\t<tr><th scope=col>Mood</th><th scope=col>Effect</th><th scope=col>DFn</th><th scope=col>DFd</th><th scope=col>F</th><th scope=col>p</th><th scope=col>p&lt;.05</th><th scope=col>ges</th><th scope=col>p.adj</th></tr>\n",
       "\t<tr><th scope=col>&lt;chr&gt;</th><th scope=col>&lt;chr&gt;</th><th scope=col>&lt;dbl&gt;</th><th scope=col>&lt;dbl&gt;</th><th scope=col>&lt;dbl&gt;</th><th scope=col>&lt;dbl&gt;</th><th scope=col>&lt;chr&gt;</th><th scope=col>&lt;dbl&gt;</th><th scope=col>&lt;dbl&gt;</th></tr>\n",
       "</thead>\n",
       "<tbody>\n",
       "\t<tr><td>Negative_Mood</td><td>group</td><td>2</td><td>42</td><td>13.796</td><td>2.48e-05</td><td>*</td><td>0.396</td><td>7.44e-05</td></tr>\n",
       "\t<tr><td>Neutral_Mood </td><td>group</td><td>2</td><td>42</td><td> 0.365</td><td>6.96e-01</td><td> </td><td>0.017</td><td>1.00e+00</td></tr>\n",
       "\t<tr><td>Positive_Mood</td><td>group</td><td>2</td><td>42</td><td> 5.845</td><td>6.00e-03</td><td>*</td><td>0.218</td><td>1.80e-02</td></tr>\n",
       "</tbody>\n",
       "</table>\n"
      ],
      "text/latex": [
       "A grouped\\_anova\\_test: 3 × 9\n",
       "\\begin{tabular}{lllllllll}\n",
       " Mood & Effect & DFn & DFd & F & p & p<.05 & ges & p.adj\\\\\n",
       " <chr> & <chr> & <dbl> & <dbl> & <dbl> & <dbl> & <chr> & <dbl> & <dbl>\\\\\n",
       "\\hline\n",
       "\t Negative\\_Mood & group & 2 & 42 & 13.796 & 2.48e-05 & * & 0.396 & 7.44e-05\\\\\n",
       "\t Neutral\\_Mood  & group & 2 & 42 &  0.365 & 6.96e-01 &   & 0.017 & 1.00e+00\\\\\n",
       "\t Positive\\_Mood & group & 2 & 42 &  5.845 & 6.00e-03 & * & 0.218 & 1.80e-02\\\\\n",
       "\\end{tabular}\n"
      ],
      "text/markdown": [
       "\n",
       "A grouped_anova_test: 3 × 9\n",
       "\n",
       "| Mood &lt;chr&gt; | Effect &lt;chr&gt; | DFn &lt;dbl&gt; | DFd &lt;dbl&gt; | F &lt;dbl&gt; | p &lt;dbl&gt; | p&lt;.05 &lt;chr&gt; | ges &lt;dbl&gt; | p.adj &lt;dbl&gt; |\n",
       "|---|---|---|---|---|---|---|---|---|\n",
       "| Negative_Mood | group | 2 | 42 | 13.796 | 2.48e-05 | * | 0.396 | 7.44e-05 |\n",
       "| Neutral_Mood  | group | 2 | 42 |  0.365 | 6.96e-01 | <!----> | 0.017 | 1.00e+00 |\n",
       "| Positive_Mood | group | 2 | 42 |  5.845 | 6.00e-03 | * | 0.218 | 1.80e-02 |\n",
       "\n"
      ],
      "text/plain": [
       "  Mood          Effect DFn DFd F      p        p<.05 ges   p.adj   \n",
       "1 Negative_Mood group  2   42  13.796 2.48e-05 *     0.396 7.44e-05\n",
       "2 Neutral_Mood  group  2   42   0.365 6.96e-01       0.017 1.00e+00\n",
       "3 Positive_Mood group  2   42   5.845 6.00e-03 *     0.218 1.80e-02"
      ]
     },
     "metadata": {},
     "output_type": "display_data"
    }
   ],
   "source": [
    "Mood_Induction %>% group_by(Mood) %>% anova_test(dv = Risk_aversion, wid = id, between = group) %>% adjust_pvalue(method = \"bonferroni\")"
   ]
  },
  {
   "cell_type": "code",
   "execution_count": 11,
   "id": "e123a8fd-82e8-4c17-88c8-c4b8297914a7",
   "metadata": {},
   "outputs": [
    {
     "data": {
      "text/html": [
       "<table class=\"dataframe\">\n",
       "<caption>A rstatix_test: 9 × 10</caption>\n",
       "<thead>\n",
       "\t<tr><th></th><th scope=col>Mood</th><th scope=col>.y.</th><th scope=col>group1</th><th scope=col>group2</th><th scope=col>n1</th><th scope=col>n2</th><th scope=col>p</th><th scope=col>p.signif</th><th scope=col>p.adj</th><th scope=col>p.adj.signif</th></tr>\n",
       "\t<tr><th></th><th scope=col>&lt;chr&gt;</th><th scope=col>&lt;chr&gt;</th><th scope=col>&lt;chr&gt;</th><th scope=col>&lt;chr&gt;</th><th scope=col>&lt;int&gt;</th><th scope=col>&lt;int&gt;</th><th scope=col>&lt;dbl&gt;</th><th scope=col>&lt;chr&gt;</th><th scope=col>&lt;dbl&gt;</th><th scope=col>&lt;chr&gt;</th></tr>\n",
       "</thead>\n",
       "<tbody>\n",
       "\t<tr><th scope=row>1</th><td>Negative_Mood</td><td>Risk_aversion</td><td>ADHD  </td><td>Autism </td><td>15</td><td>15</td><td>9.37e-02</td><td>ns  </td><td>2.81e-01</td><td>ns  </td></tr>\n",
       "\t<tr><th scope=row>2</th><td>Negative_Mood</td><td>Risk_aversion</td><td>ADHD  </td><td>Control</td><td>15</td><td>15</td><td>1.32e-03</td><td>**  </td><td>3.96e-03</td><td>**  </td></tr>\n",
       "\t<tr><th scope=row>3</th><td>Negative_Mood</td><td>Risk_aversion</td><td>Autism</td><td>Control</td><td>15</td><td>15</td><td>6.38e-06</td><td>****</td><td>1.91e-05</td><td>****</td></tr>\n",
       "\t<tr><th scope=row>4</th><td>Neutral_Mood </td><td>Risk_aversion</td><td>ADHD  </td><td>Autism </td><td>15</td><td>15</td><td>4.30e-01</td><td>ns  </td><td>1.00e+00</td><td>ns  </td></tr>\n",
       "\t<tr><th scope=row>5</th><td>Neutral_Mood </td><td>Risk_aversion</td><td>ADHD  </td><td>Control</td><td>15</td><td>15</td><td>5.10e-01</td><td>ns  </td><td>1.00e+00</td><td>ns  </td></tr>\n",
       "\t<tr><th scope=row>6</th><td>Neutral_Mood </td><td>Risk_aversion</td><td>Autism</td><td>Control</td><td>15</td><td>15</td><td>8.95e-01</td><td>ns  </td><td>1.00e+00</td><td>ns  </td></tr>\n",
       "\t<tr><th scope=row>7</th><td>Positive_Mood</td><td>Risk_aversion</td><td>ADHD  </td><td>Autism </td><td>15</td><td>15</td><td>4.35e-01</td><td>ns  </td><td>1.00e+00</td><td>ns  </td></tr>\n",
       "\t<tr><th scope=row>8</th><td>Positive_Mood</td><td>Risk_aversion</td><td>ADHD  </td><td>Control</td><td>15</td><td>15</td><td>1.69e-02</td><td>*   </td><td>5.07e-02</td><td>ns  </td></tr>\n",
       "\t<tr><th scope=row>9</th><td>Positive_Mood</td><td>Risk_aversion</td><td>Autism</td><td>Control</td><td>15</td><td>15</td><td>2.12e-03</td><td>**  </td><td>6.36e-03</td><td>**  </td></tr>\n",
       "</tbody>\n",
       "</table>\n"
      ],
      "text/latex": [
       "A rstatix\\_test: 9 × 10\n",
       "\\begin{tabular}{r|llllllllll}\n",
       "  & Mood & .y. & group1 & group2 & n1 & n2 & p & p.signif & p.adj & p.adj.signif\\\\\n",
       "  & <chr> & <chr> & <chr> & <chr> & <int> & <int> & <dbl> & <chr> & <dbl> & <chr>\\\\\n",
       "\\hline\n",
       "\t1 & Negative\\_Mood & Risk\\_aversion & ADHD   & Autism  & 15 & 15 & 9.37e-02 & ns   & 2.81e-01 & ns  \\\\\n",
       "\t2 & Negative\\_Mood & Risk\\_aversion & ADHD   & Control & 15 & 15 & 1.32e-03 & **   & 3.96e-03 & **  \\\\\n",
       "\t3 & Negative\\_Mood & Risk\\_aversion & Autism & Control & 15 & 15 & 6.38e-06 & **** & 1.91e-05 & ****\\\\\n",
       "\t4 & Neutral\\_Mood  & Risk\\_aversion & ADHD   & Autism  & 15 & 15 & 4.30e-01 & ns   & 1.00e+00 & ns  \\\\\n",
       "\t5 & Neutral\\_Mood  & Risk\\_aversion & ADHD   & Control & 15 & 15 & 5.10e-01 & ns   & 1.00e+00 & ns  \\\\\n",
       "\t6 & Neutral\\_Mood  & Risk\\_aversion & Autism & Control & 15 & 15 & 8.95e-01 & ns   & 1.00e+00 & ns  \\\\\n",
       "\t7 & Positive\\_Mood & Risk\\_aversion & ADHD   & Autism  & 15 & 15 & 4.35e-01 & ns   & 1.00e+00 & ns  \\\\\n",
       "\t8 & Positive\\_Mood & Risk\\_aversion & ADHD   & Control & 15 & 15 & 1.69e-02 & *    & 5.07e-02 & ns  \\\\\n",
       "\t9 & Positive\\_Mood & Risk\\_aversion & Autism & Control & 15 & 15 & 2.12e-03 & **   & 6.36e-03 & **  \\\\\n",
       "\\end{tabular}\n"
      ],
      "text/markdown": [
       "\n",
       "A rstatix_test: 9 × 10\n",
       "\n",
       "| <!--/--> | Mood &lt;chr&gt; | .y. &lt;chr&gt; | group1 &lt;chr&gt; | group2 &lt;chr&gt; | n1 &lt;int&gt; | n2 &lt;int&gt; | p &lt;dbl&gt; | p.signif &lt;chr&gt; | p.adj &lt;dbl&gt; | p.adj.signif &lt;chr&gt; |\n",
       "|---|---|---|---|---|---|---|---|---|---|---|\n",
       "| 1 | Negative_Mood | Risk_aversion | ADHD   | Autism  | 15 | 15 | 9.37e-02 | ns   | 2.81e-01 | ns   |\n",
       "| 2 | Negative_Mood | Risk_aversion | ADHD   | Control | 15 | 15 | 1.32e-03 | **   | 3.96e-03 | **   |\n",
       "| 3 | Negative_Mood | Risk_aversion | Autism | Control | 15 | 15 | 6.38e-06 | **** | 1.91e-05 | **** |\n",
       "| 4 | Neutral_Mood  | Risk_aversion | ADHD   | Autism  | 15 | 15 | 4.30e-01 | ns   | 1.00e+00 | ns   |\n",
       "| 5 | Neutral_Mood  | Risk_aversion | ADHD   | Control | 15 | 15 | 5.10e-01 | ns   | 1.00e+00 | ns   |\n",
       "| 6 | Neutral_Mood  | Risk_aversion | Autism | Control | 15 | 15 | 8.95e-01 | ns   | 1.00e+00 | ns   |\n",
       "| 7 | Positive_Mood | Risk_aversion | ADHD   | Autism  | 15 | 15 | 4.35e-01 | ns   | 1.00e+00 | ns   |\n",
       "| 8 | Positive_Mood | Risk_aversion | ADHD   | Control | 15 | 15 | 1.69e-02 | *    | 5.07e-02 | ns   |\n",
       "| 9 | Positive_Mood | Risk_aversion | Autism | Control | 15 | 15 | 2.12e-03 | **   | 6.36e-03 | **   |\n",
       "\n"
      ],
      "text/plain": [
       "  Mood          .y.           group1 group2  n1 n2 p        p.signif p.adj   \n",
       "1 Negative_Mood Risk_aversion ADHD   Autism  15 15 9.37e-02 ns       2.81e-01\n",
       "2 Negative_Mood Risk_aversion ADHD   Control 15 15 1.32e-03 **       3.96e-03\n",
       "3 Negative_Mood Risk_aversion Autism Control 15 15 6.38e-06 ****     1.91e-05\n",
       "4 Neutral_Mood  Risk_aversion ADHD   Autism  15 15 4.30e-01 ns       1.00e+00\n",
       "5 Neutral_Mood  Risk_aversion ADHD   Control 15 15 5.10e-01 ns       1.00e+00\n",
       "6 Neutral_Mood  Risk_aversion Autism Control 15 15 8.95e-01 ns       1.00e+00\n",
       "7 Positive_Mood Risk_aversion ADHD   Autism  15 15 4.35e-01 ns       1.00e+00\n",
       "8 Positive_Mood Risk_aversion ADHD   Control 15 15 1.69e-02 *        5.07e-02\n",
       "9 Positive_Mood Risk_aversion Autism Control 15 15 2.12e-03 **       6.36e-03\n",
       "  p.adj.signif\n",
       "1 ns          \n",
       "2 **          \n",
       "3 ****        \n",
       "4 ns          \n",
       "5 ns          \n",
       "6 ns          \n",
       "7 ns          \n",
       "8 ns          \n",
       "9 **          "
      ]
     },
     "metadata": {},
     "output_type": "display_data"
    }
   ],
   "source": [
    "Mood_Induction %>% group_by(Mood) %>% pairwise_t_test(Risk_aversion ~ group, p.adjust.method = \"bonferroni\")"
   ]
  },
  {
   "cell_type": "code",
   "execution_count": 12,
   "id": "417916a8-611b-4434-a3a0-d5ea3ff565d9",
   "metadata": {},
   "outputs": [
    {
     "data": {
      "text/html": [
       "<table class=\"dataframe\">\n",
       "<caption>A tibble: 3 × 9</caption>\n",
       "<thead>\n",
       "\t<tr><th scope=col>group</th><th scope=col>Effect</th><th scope=col>DFn</th><th scope=col>DFd</th><th scope=col>F</th><th scope=col>p</th><th scope=col>p&lt;.05</th><th scope=col>ges</th><th scope=col>p.adj</th></tr>\n",
       "\t<tr><th scope=col>&lt;chr&gt;</th><th scope=col>&lt;chr&gt;</th><th scope=col>&lt;dbl&gt;</th><th scope=col>&lt;dbl&gt;</th><th scope=col>&lt;dbl&gt;</th><th scope=col>&lt;dbl&gt;</th><th scope=col>&lt;chr&gt;</th><th scope=col>&lt;dbl&gt;</th><th scope=col>&lt;dbl&gt;</th></tr>\n",
       "</thead>\n",
       "<tbody>\n",
       "\t<tr><td>ADHD   </td><td>Mood</td><td>2</td><td>28</td><td> 77.462</td><td>3.88e-12</td><td>*</td><td>0.086</td><td>1.164e-11</td></tr>\n",
       "\t<tr><td>Autism </td><td>Mood</td><td>2</td><td>28</td><td> 14.830</td><td>4.05e-05</td><td>*</td><td>0.024</td><td>1.215e-04</td></tr>\n",
       "\t<tr><td>Control</td><td>Mood</td><td>2</td><td>28</td><td>489.732</td><td>1.64e-22</td><td>*</td><td>0.531</td><td>4.920e-22</td></tr>\n",
       "</tbody>\n",
       "</table>\n"
      ],
      "text/latex": [
       "A tibble: 3 × 9\n",
       "\\begin{tabular}{lllllllll}\n",
       " group & Effect & DFn & DFd & F & p & p<.05 & ges & p.adj\\\\\n",
       " <chr> & <chr> & <dbl> & <dbl> & <dbl> & <dbl> & <chr> & <dbl> & <dbl>\\\\\n",
       "\\hline\n",
       "\t ADHD    & Mood & 2 & 28 &  77.462 & 3.88e-12 & * & 0.086 & 1.164e-11\\\\\n",
       "\t Autism  & Mood & 2 & 28 &  14.830 & 4.05e-05 & * & 0.024 & 1.215e-04\\\\\n",
       "\t Control & Mood & 2 & 28 & 489.732 & 1.64e-22 & * & 0.531 & 4.920e-22\\\\\n",
       "\\end{tabular}\n"
      ],
      "text/markdown": [
       "\n",
       "A tibble: 3 × 9\n",
       "\n",
       "| group &lt;chr&gt; | Effect &lt;chr&gt; | DFn &lt;dbl&gt; | DFd &lt;dbl&gt; | F &lt;dbl&gt; | p &lt;dbl&gt; | p&lt;.05 &lt;chr&gt; | ges &lt;dbl&gt; | p.adj &lt;dbl&gt; |\n",
       "|---|---|---|---|---|---|---|---|---|\n",
       "| ADHD    | Mood | 2 | 28 |  77.462 | 3.88e-12 | * | 0.086 | 1.164e-11 |\n",
       "| Autism  | Mood | 2 | 28 |  14.830 | 4.05e-05 | * | 0.024 | 1.215e-04 |\n",
       "| Control | Mood | 2 | 28 | 489.732 | 1.64e-22 | * | 0.531 | 4.920e-22 |\n",
       "\n"
      ],
      "text/plain": [
       "  group   Effect DFn DFd F       p        p<.05 ges   p.adj    \n",
       "1 ADHD    Mood   2   28   77.462 3.88e-12 *     0.086 1.164e-11\n",
       "2 Autism  Mood   2   28   14.830 4.05e-05 *     0.024 1.215e-04\n",
       "3 Control Mood   2   28  489.732 1.64e-22 *     0.531 4.920e-22"
      ]
     },
     "metadata": {},
     "output_type": "display_data"
    }
   ],
   "source": [
    "Mood_Induction %>% group_by(group) %>% anova_test(dv = Risk_aversion, wid = id, within = Mood) %>% get_anova_table() %>% adjust_pvalue(method = \"bonferroni\")"
   ]
  },
  {
   "cell_type": "code",
   "execution_count": 13,
   "id": "2daa61dd-085b-4d5e-8813-e96b9022c772",
   "metadata": {},
   "outputs": [
    {
     "data": {
      "text/html": [
       "<table class=\"dataframe\">\n",
       "<caption>A rstatix_test: 9 × 11</caption>\n",
       "<thead>\n",
       "\t<tr><th></th><th scope=col>group</th><th scope=col>.y.</th><th scope=col>group1</th><th scope=col>group2</th><th scope=col>n1</th><th scope=col>n2</th><th scope=col>statistic</th><th scope=col>df</th><th scope=col>p</th><th scope=col>p.adj</th><th scope=col>p.adj.signif</th></tr>\n",
       "\t<tr><th></th><th scope=col>&lt;chr&gt;</th><th scope=col>&lt;chr&gt;</th><th scope=col>&lt;chr&gt;</th><th scope=col>&lt;chr&gt;</th><th scope=col>&lt;int&gt;</th><th scope=col>&lt;int&gt;</th><th scope=col>&lt;dbl&gt;</th><th scope=col>&lt;dbl&gt;</th><th scope=col>&lt;dbl&gt;</th><th scope=col>&lt;dbl&gt;</th><th scope=col>&lt;chr&gt;</th></tr>\n",
       "</thead>\n",
       "<tbody>\n",
       "\t<tr><th scope=row>1</th><td>ADHD   </td><td>Risk_aversion</td><td>Negative_Mood</td><td>Neutral_Mood </td><td>15</td><td>15</td><td>-10.511738</td><td>14</td><td>5.02e-08</td><td>1.51e-07</td><td>****</td></tr>\n",
       "\t<tr><th scope=row>2</th><td>ADHD   </td><td>Risk_aversion</td><td>Negative_Mood</td><td>Positive_Mood</td><td>15</td><td>15</td><td>-11.289035</td><td>14</td><td>2.04e-08</td><td>6.12e-08</td><td>****</td></tr>\n",
       "\t<tr><th scope=row>3</th><td>ADHD   </td><td>Risk_aversion</td><td>Neutral_Mood </td><td>Positive_Mood</td><td>15</td><td>15</td><td>  1.824491</td><td>14</td><td>9.00e-02</td><td>2.68e-01</td><td>ns  </td></tr>\n",
       "\t<tr><th scope=row>4</th><td>Autism </td><td>Risk_aversion</td><td>Negative_Mood</td><td>Neutral_Mood </td><td>15</td><td>15</td><td> -4.379029</td><td>14</td><td>6.30e-04</td><td>2.00e-03</td><td>**  </td></tr>\n",
       "\t<tr><th scope=row>5</th><td>Autism </td><td>Risk_aversion</td><td>Negative_Mood</td><td>Positive_Mood</td><td>15</td><td>15</td><td> -3.771711</td><td>14</td><td>2.00e-03</td><td>6.00e-03</td><td>**  </td></tr>\n",
       "\t<tr><th scope=row>6</th><td>Autism </td><td>Risk_aversion</td><td>Neutral_Mood </td><td>Positive_Mood</td><td>15</td><td>15</td><td>  2.005979</td><td>14</td><td>6.50e-02</td><td>1.94e-01</td><td>ns  </td></tr>\n",
       "\t<tr><th scope=row>7</th><td>Control</td><td>Risk_aversion</td><td>Negative_Mood</td><td>Neutral_Mood </td><td>15</td><td>15</td><td>-27.071011</td><td>14</td><td>1.72e-13</td><td>5.16e-13</td><td>****</td></tr>\n",
       "\t<tr><th scope=row>8</th><td>Control</td><td>Risk_aversion</td><td>Negative_Mood</td><td>Positive_Mood</td><td>15</td><td>15</td><td>-14.828119</td><td>14</td><td>5.93e-10</td><td>1.78e-09</td><td>****</td></tr>\n",
       "\t<tr><th scope=row>9</th><td>Control</td><td>Risk_aversion</td><td>Neutral_Mood </td><td>Positive_Mood</td><td>15</td><td>15</td><td> 19.110662</td><td>14</td><td>1.99e-11</td><td>5.97e-11</td><td>****</td></tr>\n",
       "</tbody>\n",
       "</table>\n"
      ],
      "text/latex": [
       "A rstatix\\_test: 9 × 11\n",
       "\\begin{tabular}{r|lllllllllll}\n",
       "  & group & .y. & group1 & group2 & n1 & n2 & statistic & df & p & p.adj & p.adj.signif\\\\\n",
       "  & <chr> & <chr> & <chr> & <chr> & <int> & <int> & <dbl> & <dbl> & <dbl> & <dbl> & <chr>\\\\\n",
       "\\hline\n",
       "\t1 & ADHD    & Risk\\_aversion & Negative\\_Mood & Neutral\\_Mood  & 15 & 15 & -10.511738 & 14 & 5.02e-08 & 1.51e-07 & ****\\\\\n",
       "\t2 & ADHD    & Risk\\_aversion & Negative\\_Mood & Positive\\_Mood & 15 & 15 & -11.289035 & 14 & 2.04e-08 & 6.12e-08 & ****\\\\\n",
       "\t3 & ADHD    & Risk\\_aversion & Neutral\\_Mood  & Positive\\_Mood & 15 & 15 &   1.824491 & 14 & 9.00e-02 & 2.68e-01 & ns  \\\\\n",
       "\t4 & Autism  & Risk\\_aversion & Negative\\_Mood & Neutral\\_Mood  & 15 & 15 &  -4.379029 & 14 & 6.30e-04 & 2.00e-03 & **  \\\\\n",
       "\t5 & Autism  & Risk\\_aversion & Negative\\_Mood & Positive\\_Mood & 15 & 15 &  -3.771711 & 14 & 2.00e-03 & 6.00e-03 & **  \\\\\n",
       "\t6 & Autism  & Risk\\_aversion & Neutral\\_Mood  & Positive\\_Mood & 15 & 15 &   2.005979 & 14 & 6.50e-02 & 1.94e-01 & ns  \\\\\n",
       "\t7 & Control & Risk\\_aversion & Negative\\_Mood & Neutral\\_Mood  & 15 & 15 & -27.071011 & 14 & 1.72e-13 & 5.16e-13 & ****\\\\\n",
       "\t8 & Control & Risk\\_aversion & Negative\\_Mood & Positive\\_Mood & 15 & 15 & -14.828119 & 14 & 5.93e-10 & 1.78e-09 & ****\\\\\n",
       "\t9 & Control & Risk\\_aversion & Neutral\\_Mood  & Positive\\_Mood & 15 & 15 &  19.110662 & 14 & 1.99e-11 & 5.97e-11 & ****\\\\\n",
       "\\end{tabular}\n"
      ],
      "text/markdown": [
       "\n",
       "A rstatix_test: 9 × 11\n",
       "\n",
       "| <!--/--> | group &lt;chr&gt; | .y. &lt;chr&gt; | group1 &lt;chr&gt; | group2 &lt;chr&gt; | n1 &lt;int&gt; | n2 &lt;int&gt; | statistic &lt;dbl&gt; | df &lt;dbl&gt; | p &lt;dbl&gt; | p.adj &lt;dbl&gt; | p.adj.signif &lt;chr&gt; |\n",
       "|---|---|---|---|---|---|---|---|---|---|---|---|\n",
       "| 1 | ADHD    | Risk_aversion | Negative_Mood | Neutral_Mood  | 15 | 15 | -10.511738 | 14 | 5.02e-08 | 1.51e-07 | **** |\n",
       "| 2 | ADHD    | Risk_aversion | Negative_Mood | Positive_Mood | 15 | 15 | -11.289035 | 14 | 2.04e-08 | 6.12e-08 | **** |\n",
       "| 3 | ADHD    | Risk_aversion | Neutral_Mood  | Positive_Mood | 15 | 15 |   1.824491 | 14 | 9.00e-02 | 2.68e-01 | ns   |\n",
       "| 4 | Autism  | Risk_aversion | Negative_Mood | Neutral_Mood  | 15 | 15 |  -4.379029 | 14 | 6.30e-04 | 2.00e-03 | **   |\n",
       "| 5 | Autism  | Risk_aversion | Negative_Mood | Positive_Mood | 15 | 15 |  -3.771711 | 14 | 2.00e-03 | 6.00e-03 | **   |\n",
       "| 6 | Autism  | Risk_aversion | Neutral_Mood  | Positive_Mood | 15 | 15 |   2.005979 | 14 | 6.50e-02 | 1.94e-01 | ns   |\n",
       "| 7 | Control | Risk_aversion | Negative_Mood | Neutral_Mood  | 15 | 15 | -27.071011 | 14 | 1.72e-13 | 5.16e-13 | **** |\n",
       "| 8 | Control | Risk_aversion | Negative_Mood | Positive_Mood | 15 | 15 | -14.828119 | 14 | 5.93e-10 | 1.78e-09 | **** |\n",
       "| 9 | Control | Risk_aversion | Neutral_Mood  | Positive_Mood | 15 | 15 |  19.110662 | 14 | 1.99e-11 | 5.97e-11 | **** |\n",
       "\n"
      ],
      "text/plain": [
       "  group   .y.           group1        group2        n1 n2 statistic  df\n",
       "1 ADHD    Risk_aversion Negative_Mood Neutral_Mood  15 15 -10.511738 14\n",
       "2 ADHD    Risk_aversion Negative_Mood Positive_Mood 15 15 -11.289035 14\n",
       "3 ADHD    Risk_aversion Neutral_Mood  Positive_Mood 15 15   1.824491 14\n",
       "4 Autism  Risk_aversion Negative_Mood Neutral_Mood  15 15  -4.379029 14\n",
       "5 Autism  Risk_aversion Negative_Mood Positive_Mood 15 15  -3.771711 14\n",
       "6 Autism  Risk_aversion Neutral_Mood  Positive_Mood 15 15   2.005979 14\n",
       "7 Control Risk_aversion Negative_Mood Neutral_Mood  15 15 -27.071011 14\n",
       "8 Control Risk_aversion Negative_Mood Positive_Mood 15 15 -14.828119 14\n",
       "9 Control Risk_aversion Neutral_Mood  Positive_Mood 15 15  19.110662 14\n",
       "  p        p.adj    p.adj.signif\n",
       "1 5.02e-08 1.51e-07 ****        \n",
       "2 2.04e-08 6.12e-08 ****        \n",
       "3 9.00e-02 2.68e-01 ns          \n",
       "4 6.30e-04 2.00e-03 **          \n",
       "5 2.00e-03 6.00e-03 **          \n",
       "6 6.50e-02 1.94e-01 ns          \n",
       "7 1.72e-13 5.16e-13 ****        \n",
       "8 5.93e-10 1.78e-09 ****        \n",
       "9 1.99e-11 5.97e-11 ****        "
      ]
     },
     "metadata": {},
     "output_type": "display_data"
    }
   ],
   "source": [
    "Mood_Induction %>% group_by(group) %>% pairwise_t_test(Risk_aversion ~ Mood, paired = TRUE, p.adjust.method = \"bonferroni\")"
   ]
  },
  {
   "cell_type": "code",
   "execution_count": null,
   "id": "0693c892-25e4-4243-bb5f-369d43a46590",
   "metadata": {},
   "outputs": [],
   "source": []
  }
 ],
 "metadata": {
  "kernelspec": {
   "display_name": "R",
   "language": "R",
   "name": "ir"
  },
  "language_info": {
   "codemirror_mode": "r",
   "file_extension": ".r",
   "mimetype": "text/x-r-source",
   "name": "R",
   "pygments_lexer": "r",
   "version": "4.3.2"
  }
 },
 "nbformat": 4,
 "nbformat_minor": 5
}
