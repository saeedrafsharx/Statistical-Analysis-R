{
 "cells": [
  {
   "cell_type": "code",
   "execution_count": 109,
   "id": "1a890ccc-3ec6-413e-af82-1ec5bfd6cafe",
   "metadata": {},
   "outputs": [],
   "source": [
    "Smoking_Performance = read.table(\"D:\\\\Amar\\\\Codes_Data\\\\Ex16-21.dat\", header = TRUE )"
   ]
  },
  {
   "cell_type": "code",
   "execution_count": 55,
   "id": "4bbd502f-4798-4fdf-b683-90720ca8a7e8",
   "metadata": {
    "scrolled": true
   },
   "outputs": [
    {
     "data": {
      "text/html": [
       "<table class=\"dataframe\">\n",
       "<caption>A data.frame: 45 × 2</caption>\n",
       "<thead>\n",
       "\t<tr><th scope=col>SMKGRP</th><th scope=col>RECALL</th></tr>\n",
       "\t<tr><th scope=col>&lt;int&gt;</th><th scope=col>&lt;int&gt;</th></tr>\n",
       "</thead>\n",
       "<tbody>\n",
       "\t<tr><td>1</td><td>27</td></tr>\n",
       "\t<tr><td>1</td><td>34</td></tr>\n",
       "\t<tr><td>1</td><td>19</td></tr>\n",
       "\t<tr><td>1</td><td>20</td></tr>\n",
       "\t<tr><td>1</td><td>56</td></tr>\n",
       "\t<tr><td>1</td><td>35</td></tr>\n",
       "\t<tr><td>1</td><td>23</td></tr>\n",
       "\t<tr><td>1</td><td>37</td></tr>\n",
       "\t<tr><td>1</td><td> 4</td></tr>\n",
       "\t<tr><td>1</td><td>30</td></tr>\n",
       "\t<tr><td>1</td><td> 4</td></tr>\n",
       "\t<tr><td>1</td><td>42</td></tr>\n",
       "\t<tr><td>1</td><td>34</td></tr>\n",
       "\t<tr><td>1</td><td>19</td></tr>\n",
       "\t<tr><td>1</td><td>49</td></tr>\n",
       "\t<tr><td>2</td><td>48</td></tr>\n",
       "\t<tr><td>2</td><td>29</td></tr>\n",
       "\t<tr><td>2</td><td>34</td></tr>\n",
       "\t<tr><td>2</td><td> 6</td></tr>\n",
       "\t<tr><td>2</td><td>18</td></tr>\n",
       "\t<tr><td>2</td><td>63</td></tr>\n",
       "\t<tr><td>2</td><td> 9</td></tr>\n",
       "\t<tr><td>2</td><td>54</td></tr>\n",
       "\t<tr><td>2</td><td>28</td></tr>\n",
       "\t<tr><td>2</td><td>71</td></tr>\n",
       "\t<tr><td>2</td><td>60</td></tr>\n",
       "\t<tr><td>2</td><td>54</td></tr>\n",
       "\t<tr><td>2</td><td>51</td></tr>\n",
       "\t<tr><td>2</td><td>25</td></tr>\n",
       "\t<tr><td>2</td><td>49</td></tr>\n",
       "\t<tr><td>3</td><td>34</td></tr>\n",
       "\t<tr><td>3</td><td>65</td></tr>\n",
       "\t<tr><td>3</td><td>55</td></tr>\n",
       "\t<tr><td>3</td><td>33</td></tr>\n",
       "\t<tr><td>3</td><td>42</td></tr>\n",
       "\t<tr><td>3</td><td>54</td></tr>\n",
       "\t<tr><td>3</td><td>21</td></tr>\n",
       "\t<tr><td>3</td><td>44</td></tr>\n",
       "\t<tr><td>3</td><td>61</td></tr>\n",
       "\t<tr><td>3</td><td>38</td></tr>\n",
       "\t<tr><td>3</td><td>75</td></tr>\n",
       "\t<tr><td>3</td><td>61</td></tr>\n",
       "\t<tr><td>3</td><td>51</td></tr>\n",
       "\t<tr><td>3</td><td>32</td></tr>\n",
       "\t<tr><td>3</td><td>47</td></tr>\n",
       "</tbody>\n",
       "</table>\n"
      ],
      "text/latex": [
       "A data.frame: 45 × 2\n",
       "\\begin{tabular}{ll}\n",
       " SMKGRP & RECALL\\\\\n",
       " <int> & <int>\\\\\n",
       "\\hline\n",
       "\t 1 & 27\\\\\n",
       "\t 1 & 34\\\\\n",
       "\t 1 & 19\\\\\n",
       "\t 1 & 20\\\\\n",
       "\t 1 & 56\\\\\n",
       "\t 1 & 35\\\\\n",
       "\t 1 & 23\\\\\n",
       "\t 1 & 37\\\\\n",
       "\t 1 &  4\\\\\n",
       "\t 1 & 30\\\\\n",
       "\t 1 &  4\\\\\n",
       "\t 1 & 42\\\\\n",
       "\t 1 & 34\\\\\n",
       "\t 1 & 19\\\\\n",
       "\t 1 & 49\\\\\n",
       "\t 2 & 48\\\\\n",
       "\t 2 & 29\\\\\n",
       "\t 2 & 34\\\\\n",
       "\t 2 &  6\\\\\n",
       "\t 2 & 18\\\\\n",
       "\t 2 & 63\\\\\n",
       "\t 2 &  9\\\\\n",
       "\t 2 & 54\\\\\n",
       "\t 2 & 28\\\\\n",
       "\t 2 & 71\\\\\n",
       "\t 2 & 60\\\\\n",
       "\t 2 & 54\\\\\n",
       "\t 2 & 51\\\\\n",
       "\t 2 & 25\\\\\n",
       "\t 2 & 49\\\\\n",
       "\t 3 & 34\\\\\n",
       "\t 3 & 65\\\\\n",
       "\t 3 & 55\\\\\n",
       "\t 3 & 33\\\\\n",
       "\t 3 & 42\\\\\n",
       "\t 3 & 54\\\\\n",
       "\t 3 & 21\\\\\n",
       "\t 3 & 44\\\\\n",
       "\t 3 & 61\\\\\n",
       "\t 3 & 38\\\\\n",
       "\t 3 & 75\\\\\n",
       "\t 3 & 61\\\\\n",
       "\t 3 & 51\\\\\n",
       "\t 3 & 32\\\\\n",
       "\t 3 & 47\\\\\n",
       "\\end{tabular}\n"
      ],
      "text/markdown": [
       "\n",
       "A data.frame: 45 × 2\n",
       "\n",
       "| SMKGRP &lt;int&gt; | RECALL &lt;int&gt; |\n",
       "|---|---|\n",
       "| 1 | 27 |\n",
       "| 1 | 34 |\n",
       "| 1 | 19 |\n",
       "| 1 | 20 |\n",
       "| 1 | 56 |\n",
       "| 1 | 35 |\n",
       "| 1 | 23 |\n",
       "| 1 | 37 |\n",
       "| 1 |  4 |\n",
       "| 1 | 30 |\n",
       "| 1 |  4 |\n",
       "| 1 | 42 |\n",
       "| 1 | 34 |\n",
       "| 1 | 19 |\n",
       "| 1 | 49 |\n",
       "| 2 | 48 |\n",
       "| 2 | 29 |\n",
       "| 2 | 34 |\n",
       "| 2 |  6 |\n",
       "| 2 | 18 |\n",
       "| 2 | 63 |\n",
       "| 2 |  9 |\n",
       "| 2 | 54 |\n",
       "| 2 | 28 |\n",
       "| 2 | 71 |\n",
       "| 2 | 60 |\n",
       "| 2 | 54 |\n",
       "| 2 | 51 |\n",
       "| 2 | 25 |\n",
       "| 2 | 49 |\n",
       "| 3 | 34 |\n",
       "| 3 | 65 |\n",
       "| 3 | 55 |\n",
       "| 3 | 33 |\n",
       "| 3 | 42 |\n",
       "| 3 | 54 |\n",
       "| 3 | 21 |\n",
       "| 3 | 44 |\n",
       "| 3 | 61 |\n",
       "| 3 | 38 |\n",
       "| 3 | 75 |\n",
       "| 3 | 61 |\n",
       "| 3 | 51 |\n",
       "| 3 | 32 |\n",
       "| 3 | 47 |\n",
       "\n"
      ],
      "text/plain": [
       "   SMKGRP RECALL\n",
       "1  1      27    \n",
       "2  1      34    \n",
       "3  1      19    \n",
       "4  1      20    \n",
       "5  1      56    \n",
       "6  1      35    \n",
       "7  1      23    \n",
       "8  1      37    \n",
       "9  1       4    \n",
       "10 1      30    \n",
       "11 1       4    \n",
       "12 1      42    \n",
       "13 1      34    \n",
       "14 1      19    \n",
       "15 1      49    \n",
       "16 2      48    \n",
       "17 2      29    \n",
       "18 2      34    \n",
       "19 2       6    \n",
       "20 2      18    \n",
       "21 2      63    \n",
       "22 2       9    \n",
       "23 2      54    \n",
       "24 2      28    \n",
       "25 2      71    \n",
       "26 2      60    \n",
       "27 2      54    \n",
       "28 2      51    \n",
       "29 2      25    \n",
       "30 2      49    \n",
       "31 3      34    \n",
       "32 3      65    \n",
       "33 3      55    \n",
       "34 3      33    \n",
       "35 3      42    \n",
       "36 3      54    \n",
       "37 3      21    \n",
       "38 3      44    \n",
       "39 3      61    \n",
       "40 3      38    \n",
       "41 3      75    \n",
       "42 3      61    \n",
       "43 3      51    \n",
       "44 3      32    \n",
       "45 3      47    "
      ]
     },
     "metadata": {},
     "output_type": "display_data"
    }
   ],
   "source": [
    "Smoking_Performance"
   ]
  },
  {
   "cell_type": "code",
   "execution_count": 13,
   "id": "e152316b-3bd4-471a-9b6b-3cc3177726d8",
   "metadata": {},
   "outputs": [],
   "source": [
    "library(rstatix)"
   ]
  },
  {
   "cell_type": "markdown",
   "id": "facc9229-eb01-4448-8626-f0ce2bfb8be6",
   "metadata": {},
   "source": [
    "# تغییر نام گروه های مطالعاتی "
   ]
  },
  {
   "cell_type": "code",
   "execution_count": 103,
   "id": "dea8f671-38b1-4325-8bcc-f6a7f408839d",
   "metadata": {
    "scrolled": true
   },
   "outputs": [],
   "source": [
    "Smoking_Performance = Smoking_Performance %>% mutate (SMKGRP = ifelse (SMKGRP == \"1\", \"Non_Smokers\", ifelse(SMKGRP == \"2\", \"Delayed_Smokers\", \"Active_Smokers\") ))"
   ]
  },
  {
   "cell_type": "markdown",
   "id": "84ca8694-f1c1-4c13-a67c-f4514189a2fb",
   "metadata": {},
   "source": [
    "# خلاصه ای از آماره های گروه های مورد مطالعه"
   ]
  },
  {
   "cell_type": "code",
   "execution_count": 110,
   "id": "931444e2-f778-4d85-bf5f-b09df832b733",
   "metadata": {},
   "outputs": [
    {
     "data": {
      "text/html": [
       "<table class=\"dataframe\">\n",
       "<caption>A tibble: 3 × 14</caption>\n",
       "<thead>\n",
       "\t<tr><th scope=col>SMKGRP</th><th scope=col>variable</th><th scope=col>n</th><th scope=col>min</th><th scope=col>max</th><th scope=col>median</th><th scope=col>q1</th><th scope=col>q3</th><th scope=col>iqr</th><th scope=col>mad</th><th scope=col>mean</th><th scope=col>sd</th><th scope=col>se</th><th scope=col>ci</th></tr>\n",
       "\t<tr><th scope=col>&lt;int&gt;</th><th scope=col>&lt;fct&gt;</th><th scope=col>&lt;dbl&gt;</th><th scope=col>&lt;dbl&gt;</th><th scope=col>&lt;dbl&gt;</th><th scope=col>&lt;dbl&gt;</th><th scope=col>&lt;dbl&gt;</th><th scope=col>&lt;dbl&gt;</th><th scope=col>&lt;dbl&gt;</th><th scope=col>&lt;dbl&gt;</th><th scope=col>&lt;dbl&gt;</th><th scope=col>&lt;dbl&gt;</th><th scope=col>&lt;dbl&gt;</th><th scope=col>&lt;dbl&gt;</th></tr>\n",
       "</thead>\n",
       "<tbody>\n",
       "\t<tr><td>1</td><td>RECALL</td><td>15</td><td> 4</td><td>56</td><td>30</td><td>19.5</td><td>36</td><td>16.5</td><td>14.826</td><td>28.867</td><td>14.687</td><td>3.792</td><td> 8.133</td></tr>\n",
       "\t<tr><td>2</td><td>RECALL</td><td>15</td><td> 6</td><td>71</td><td>48</td><td>26.5</td><td>54</td><td>27.5</td><td>22.239</td><td>39.933</td><td>20.133</td><td>5.198</td><td>11.149</td></tr>\n",
       "\t<tr><td>3</td><td>RECALL</td><td>15</td><td>21</td><td>75</td><td>47</td><td>36.0</td><td>58</td><td>22.0</td><td>19.274</td><td>47.533</td><td>14.652</td><td>3.783</td><td> 8.114</td></tr>\n",
       "</tbody>\n",
       "</table>\n"
      ],
      "text/latex": [
       "A tibble: 3 × 14\n",
       "\\begin{tabular}{llllllllllllll}\n",
       " SMKGRP & variable & n & min & max & median & q1 & q3 & iqr & mad & mean & sd & se & ci\\\\\n",
       " <int> & <fct> & <dbl> & <dbl> & <dbl> & <dbl> & <dbl> & <dbl> & <dbl> & <dbl> & <dbl> & <dbl> & <dbl> & <dbl>\\\\\n",
       "\\hline\n",
       "\t 1 & RECALL & 15 &  4 & 56 & 30 & 19.5 & 36 & 16.5 & 14.826 & 28.867 & 14.687 & 3.792 &  8.133\\\\\n",
       "\t 2 & RECALL & 15 &  6 & 71 & 48 & 26.5 & 54 & 27.5 & 22.239 & 39.933 & 20.133 & 5.198 & 11.149\\\\\n",
       "\t 3 & RECALL & 15 & 21 & 75 & 47 & 36.0 & 58 & 22.0 & 19.274 & 47.533 & 14.652 & 3.783 &  8.114\\\\\n",
       "\\end{tabular}\n"
      ],
      "text/markdown": [
       "\n",
       "A tibble: 3 × 14\n",
       "\n",
       "| SMKGRP &lt;int&gt; | variable &lt;fct&gt; | n &lt;dbl&gt; | min &lt;dbl&gt; | max &lt;dbl&gt; | median &lt;dbl&gt; | q1 &lt;dbl&gt; | q3 &lt;dbl&gt; | iqr &lt;dbl&gt; | mad &lt;dbl&gt; | mean &lt;dbl&gt; | sd &lt;dbl&gt; | se &lt;dbl&gt; | ci &lt;dbl&gt; |\n",
       "|---|---|---|---|---|---|---|---|---|---|---|---|---|---|\n",
       "| 1 | RECALL | 15 |  4 | 56 | 30 | 19.5 | 36 | 16.5 | 14.826 | 28.867 | 14.687 | 3.792 |  8.133 |\n",
       "| 2 | RECALL | 15 |  6 | 71 | 48 | 26.5 | 54 | 27.5 | 22.239 | 39.933 | 20.133 | 5.198 | 11.149 |\n",
       "| 3 | RECALL | 15 | 21 | 75 | 47 | 36.0 | 58 | 22.0 | 19.274 | 47.533 | 14.652 | 3.783 |  8.114 |\n",
       "\n"
      ],
      "text/plain": [
       "  SMKGRP variable n  min max median q1   q3 iqr  mad    mean   sd     se   \n",
       "1 1      RECALL   15  4  56  30     19.5 36 16.5 14.826 28.867 14.687 3.792\n",
       "2 2      RECALL   15  6  71  48     26.5 54 27.5 22.239 39.933 20.133 5.198\n",
       "3 3      RECALL   15 21  75  47     36.0 58 22.0 19.274 47.533 14.652 3.783\n",
       "  ci    \n",
       "1  8.133\n",
       "2 11.149\n",
       "3  8.114"
      ]
     },
     "metadata": {},
     "output_type": "display_data"
    }
   ],
   "source": [
    "Smoking_Performance %>% group_by(SMKGRP) %>% get_summary_stats(RECALL)"
   ]
  },
  {
   "cell_type": "markdown",
   "id": "a6e55cce-00f5-4b30-92a6-27aa20bca67f",
   "metadata": {},
   "source": [
    "# نمودار جعبه ای جهت بررسی نمرات گروه ها و نمایش تصویری"
   ]
  },
  {
   "cell_type": "code",
   "execution_count": 21,
   "id": "d473e414-5a77-474e-919c-f97dc07e1784",
   "metadata": {},
   "outputs": [],
   "source": [
    "library(ggpubr)"
   ]
  },
  {
   "cell_type": "code",
   "execution_count": 22,
   "id": "3756365c-849e-46bd-909e-ac3f1b57abf8",
   "metadata": {},
   "outputs": [
    {
     "data": {
      "image/png": "[encoded data removed]",
      "text/plain": [
       "plot without title"
      ]
     },
     "metadata": {
      "image/png": {
       "height": 420,
       "width": 420
      }
     },
     "output_type": "display_data"
    }
   ],
   "source": [
    "ggboxplot(Smoking_Performance, x = \"SMKGRP\", y = \"RECALL\")"
   ]
  },
  {
   "cell_type": "markdown",
   "id": "1031796a-9086-48f7-8dfd-7c85b52a7fb0",
   "metadata": {},
   "source": [
    "# بخش پیش پردازش\n",
    "# Preprocessing"
   ]
  },
  {
   "cell_type": "markdown",
   "id": "70357da6-ec1f-4b85-b01f-63923e88a4cb",
   "metadata": {},
   "source": [
    "## فرض صفر "
   ]
  },
  {
   "cell_type": "markdown",
   "id": "b207b30e-fc67-4e36-9da9-590dd2d0edd4",
   "metadata": {},
   "source": [
    "## H0: muN = muD = muA"
   ]
  },
  {
   "cell_type": "markdown",
   "id": "8028499e-cc2d-45c2-9759-b8f785da719c",
   "metadata": {},
   "source": [
    "## 1. بررسی وجود یا عدم وجود داده پرت"
   ]
  },
  {
   "cell_type": "code",
   "execution_count": 24,
   "id": "2e3c544b-a077-49bb-9488-b3d85efc1180",
   "metadata": {},
   "outputs": [
    {
     "data": {
      "text/html": [
       "<table class=\"dataframe\">\n",
       "<caption>A data.frame: 0 × 4</caption>\n",
       "<thead>\n",
       "\t<tr><th scope=col>SMKGRP</th><th scope=col>RECALL</th><th scope=col>is.outlier</th><th scope=col>is.extreme</th></tr>\n",
       "\t<tr><th scope=col>&lt;chr&gt;</th><th scope=col>&lt;int&gt;</th><th scope=col>&lt;lgl&gt;</th><th scope=col>&lt;lgl&gt;</th></tr>\n",
       "</thead>\n",
       "<tbody>\n",
       "</tbody>\n",
       "</table>\n"
      ],
      "text/latex": [
       "A data.frame: 0 × 4\n",
       "\\begin{tabular}{llll}\n",
       " SMKGRP & RECALL & is.outlier & is.extreme\\\\\n",
       " <chr> & <int> & <lgl> & <lgl>\\\\\n",
       "\\hline\n",
       "\\end{tabular}\n"
      ],
      "text/markdown": [
       "\n",
       "A data.frame: 0 × 4\n",
       "\n",
       "| SMKGRP &lt;chr&gt; | RECALL &lt;int&gt; | is.outlier &lt;lgl&gt; | is.extreme &lt;lgl&gt; |\n",
       "|---|---|---|---|\n",
       "\n"
      ],
      "text/plain": [
       "     SMKGRP RECALL is.outlier is.extreme"
      ]
     },
     "metadata": {},
     "output_type": "display_data"
    }
   ],
   "source": [
    "Smoking_Performance %>% group_by(SMKGRP) %>% identify_outliers(RECALL)"
   ]
  },
  {
   "cell_type": "code",
   "execution_count": 25,
   "id": "fda1d9c4-ff21-48e6-9b90-3e1892f924bb",
   "metadata": {},
   "outputs": [
    {
     "data": {
      "image/png": "[encoded data removed]",
      "text/plain": [
       "plot without title"
      ]
     },
     "metadata": {
      "image/png": {
       "height": 420,
       "width": 420
      }
     },
     "output_type": "display_data"
    }
   ],
   "source": [
    "ggqqplot(Smoking_Performance, \"RECALL\", facet.by = \"SMKGRP\")"
   ]
  },
  {
   "cell_type": "markdown",
   "id": "ca025510-67b5-46c0-9c69-e6d9c0eacdc9",
   "metadata": {},
   "source": [
    "## 2. آزمون شاپیرو جهت بررسی نرمال بودن توزیع"
   ]
  },
  {
   "cell_type": "code",
   "execution_count": 28,
   "id": "1304f874-846c-4100-a915-e1fa0356cd8e",
   "metadata": {},
   "outputs": [
    {
     "data": {
      "text/html": [
       "<table class=\"dataframe\">\n",
       "<caption>A tibble: 3 × 4</caption>\n",
       "<thead>\n",
       "\t<tr><th scope=col>SMKGRP</th><th scope=col>variable</th><th scope=col>statistic</th><th scope=col>p</th></tr>\n",
       "\t<tr><th scope=col>&lt;chr&gt;</th><th scope=col>&lt;chr&gt;</th><th scope=col>&lt;dbl&gt;</th><th scope=col>&lt;dbl&gt;</th></tr>\n",
       "</thead>\n",
       "<tbody>\n",
       "\t<tr><td>Active_Smokers </td><td>RECALL</td><td>0.9859388</td><td>0.9949199</td></tr>\n",
       "\t<tr><td>Delayed_Smokers</td><td>RECALL</td><td>0.9483760</td><td>0.4992471</td></tr>\n",
       "\t<tr><td>Non_Smokers    </td><td>RECALL</td><td>0.9686641</td><td>0.8378008</td></tr>\n",
       "</tbody>\n",
       "</table>\n"
      ],
      "text/latex": [
       "A tibble: 3 × 4\n",
       "\\begin{tabular}{llll}\n",
       " SMKGRP & variable & statistic & p\\\\\n",
       " <chr> & <chr> & <dbl> & <dbl>\\\\\n",
       "\\hline\n",
       "\t Active\\_Smokers  & RECALL & 0.9859388 & 0.9949199\\\\\n",
       "\t Delayed\\_Smokers & RECALL & 0.9483760 & 0.4992471\\\\\n",
       "\t Non\\_Smokers     & RECALL & 0.9686641 & 0.8378008\\\\\n",
       "\\end{tabular}\n"
      ],
      "text/markdown": [
       "\n",
       "A tibble: 3 × 4\n",
       "\n",
       "| SMKGRP &lt;chr&gt; | variable &lt;chr&gt; | statistic &lt;dbl&gt; | p &lt;dbl&gt; |\n",
       "|---|---|---|---|\n",
       "| Active_Smokers  | RECALL | 0.9859388 | 0.9949199 |\n",
       "| Delayed_Smokers | RECALL | 0.9483760 | 0.4992471 |\n",
       "| Non_Smokers     | RECALL | 0.9686641 | 0.8378008 |\n",
       "\n"
      ],
      "text/plain": [
       "  SMKGRP          variable statistic p        \n",
       "1 Active_Smokers  RECALL   0.9859388 0.9949199\n",
       "2 Delayed_Smokers RECALL   0.9483760 0.4992471\n",
       "3 Non_Smokers     RECALL   0.9686641 0.8378008"
      ]
     },
     "metadata": {},
     "output_type": "display_data"
    }
   ],
   "source": [
    "Smoking_Performance %>% group_by(SMKGRP) %>% shapiro_test(RECALL)"
   ]
  },
  {
   "cell_type": "markdown",
   "id": "b7f11137-3977-4dad-b4fb-203a86e9b46d",
   "metadata": {},
   "source": [
    "## 3. مقایسه واریانس ها \n",
    "#### که از شروط صادق بودن پیشفرض های آزمون آنوا همگن بودن واریان ها است"
   ]
  },
  {
   "cell_type": "code",
   "execution_count": 30,
   "id": "e5976bbf-6b11-4056-b3b5-de01e911dfaf",
   "metadata": {},
   "outputs": [],
   "source": [
    "Smoking_Performance$SMKGRP = factor (Smoking_Performance$SMKGRP)"
   ]
  },
  {
   "cell_type": "code",
   "execution_count": 29,
   "id": "c726f5e6-96c6-4aaa-87f7-adece2d4a013",
   "metadata": {},
   "outputs": [
    {
     "name": "stderr",
     "output_type": "stream",
     "text": [
      "Warning message in leveneTest.default(y = y, group = group, ...):\n",
      "\"group coerced to factor.\"\n"
     ]
    },
    {
     "data": {
      "text/html": [
       "<table class=\"dataframe\">\n",
       "<caption>A tibble: 1 × 4</caption>\n",
       "<thead>\n",
       "\t<tr><th scope=col>df1</th><th scope=col>df2</th><th scope=col>statistic</th><th scope=col>p</th></tr>\n",
       "\t<tr><th scope=col>&lt;int&gt;</th><th scope=col>&lt;int&gt;</th><th scope=col>&lt;dbl&gt;</th><th scope=col>&lt;dbl&gt;</th></tr>\n",
       "</thead>\n",
       "<tbody>\n",
       "\t<tr><td>2</td><td>42</td><td>1.323643</td><td>0.2770375</td></tr>\n",
       "</tbody>\n",
       "</table>\n"
      ],
      "text/latex": [
       "A tibble: 1 × 4\n",
       "\\begin{tabular}{llll}\n",
       " df1 & df2 & statistic & p\\\\\n",
       " <int> & <int> & <dbl> & <dbl>\\\\\n",
       "\\hline\n",
       "\t 2 & 42 & 1.323643 & 0.2770375\\\\\n",
       "\\end{tabular}\n"
      ],
      "text/markdown": [
       "\n",
       "A tibble: 1 × 4\n",
       "\n",
       "| df1 &lt;int&gt; | df2 &lt;int&gt; | statistic &lt;dbl&gt; | p &lt;dbl&gt; |\n",
       "|---|---|---|---|\n",
       "| 2 | 42 | 1.323643 | 0.2770375 |\n",
       "\n"
      ],
      "text/plain": [
       "  df1 df2 statistic p        \n",
       "1 2   42  1.323643  0.2770375"
      ]
     },
     "metadata": {},
     "output_type": "display_data"
    }
   ],
   "source": [
    "Smoking_Performance %>% levene_test(RECALL ~ SMKGRP)"
   ]
  },
  {
   "cell_type": "markdown",
   "id": "63af77cd-525e-4b5d-b278-c5ce49b11e75",
   "metadata": {},
   "source": [
    "# آزمون گرفتن"
   ]
  },
  {
   "cell_type": "markdown",
   "id": "41f1b227-8ed0-4d7a-94e6-466655f07a90",
   "metadata": {},
   "source": [
    "### پس از انجام مراحل پیش پردازش با تایید شدن صحبت پیش فرض ها و نبود داده پرت میتوان آزمون آماری مورد نظر را گرفت"
   ]
  },
  {
   "cell_type": "code",
   "execution_count": 31,
   "id": "fdee8128-53fd-4a6f-bd5f-1f7e452e6efe",
   "metadata": {},
   "outputs": [
    {
     "data": {
      "text/html": [
       "<table class=\"dataframe\">\n",
       "<caption>A anova_test: 1 × 7</caption>\n",
       "<thead>\n",
       "\t<tr><th></th><th scope=col>Effect</th><th scope=col>DFn</th><th scope=col>DFd</th><th scope=col>F</th><th scope=col>p</th><th scope=col>p&lt;.05</th><th scope=col>ges</th></tr>\n",
       "\t<tr><th></th><th scope=col>&lt;chr&gt;</th><th scope=col>&lt;dbl&gt;</th><th scope=col>&lt;dbl&gt;</th><th scope=col>&lt;dbl&gt;</th><th scope=col>&lt;dbl&gt;</th><th scope=col>&lt;chr&gt;</th><th scope=col>&lt;dbl&gt;</th></tr>\n",
       "</thead>\n",
       "<tbody>\n",
       "\t<tr><th scope=row>1</th><td>SMKGRP</td><td>2</td><td>42</td><td>4.744</td><td>0.014</td><td>*</td><td>0.184</td></tr>\n",
       "</tbody>\n",
       "</table>\n"
      ],
      "text/latex": [
       "A anova\\_test: 1 × 7\n",
       "\\begin{tabular}{r|lllllll}\n",
       "  & Effect & DFn & DFd & F & p & p<.05 & ges\\\\\n",
       "  & <chr> & <dbl> & <dbl> & <dbl> & <dbl> & <chr> & <dbl>\\\\\n",
       "\\hline\n",
       "\t1 & SMKGRP & 2 & 42 & 4.744 & 0.014 & * & 0.184\\\\\n",
       "\\end{tabular}\n"
      ],
      "text/markdown": [
       "\n",
       "A anova_test: 1 × 7\n",
       "\n",
       "| <!--/--> | Effect &lt;chr&gt; | DFn &lt;dbl&gt; | DFd &lt;dbl&gt; | F &lt;dbl&gt; | p &lt;dbl&gt; | p&lt;.05 &lt;chr&gt; | ges &lt;dbl&gt; |\n",
       "|---|---|---|---|---|---|---|---|\n",
       "| 1 | SMKGRP | 2 | 42 | 4.744 | 0.014 | * | 0.184 |\n",
       "\n"
      ],
      "text/plain": [
       "  Effect DFn DFd F     p     p<.05 ges  \n",
       "1 SMKGRP 2   42  4.744 0.014 *     0.184"
      ]
     },
     "metadata": {},
     "output_type": "display_data"
    }
   ],
   "source": [
    "Smoking_Performance %>% anova_test(RECALL ~ SMKGRP)"
   ]
  },
  {
   "cell_type": "markdown",
   "id": "571d4f62-cfb5-4152-be4a-608a6d54074e",
   "metadata": {},
   "source": [
    "### فرض صفر رد می‌شود، چون مقدار تابع اف را داریم و مقدار پی برای آن تابع اف کم بوده و با یک ستاره معنادار میشود. "
   ]
  },
  {
   "cell_type": "markdown",
   "id": "473933ea-ba2f-4c7c-b668-e20945cbe6d4",
   "metadata": {},
   "source": [
    "### ***حالا اگر بخواهیم بدانیم کدام دو گروه برابر نیستند که فرض صفر رد شد باید آزمان های تعقیبی گرفت***"
   ]
  },
  {
   "cell_type": "markdown",
   "id": "a8f1fa06-617d-46b0-80b1-c3e15263d20a",
   "metadata": {},
   "source": [
    "# Post_hoc test"
   ]
  },
  {
   "cell_type": "markdown",
   "id": "b4e3fe79-09d8-4ec7-b39e-950101f088d3",
   "metadata": {},
   "source": [
    "### بسته به مقدار بحرانی آزمون آنوا اینجا باید این مقدار تقسیم بر تعداد مقایسه های دو به دو باشد"
   ]
  },
  {
   "cell_type": "code",
   "execution_count": 32,
   "id": "8e18d305-ff69-4369-9231-ee99362b0264",
   "metadata": {},
   "outputs": [
    {
     "data": {
      "text/html": [
       "<table class=\"dataframe\">\n",
       "<caption>A rstatix_test: 3 × 9</caption>\n",
       "<thead>\n",
       "\t<tr><th></th><th scope=col>term</th><th scope=col>group1</th><th scope=col>group2</th><th scope=col>null.value</th><th scope=col>estimate</th><th scope=col>conf.low</th><th scope=col>conf.high</th><th scope=col>p.adj</th><th scope=col>p.adj.signif</th></tr>\n",
       "\t<tr><th></th><th scope=col>&lt;chr&gt;</th><th scope=col>&lt;chr&gt;</th><th scope=col>&lt;chr&gt;</th><th scope=col>&lt;dbl&gt;</th><th scope=col>&lt;dbl&gt;</th><th scope=col>&lt;dbl&gt;</th><th scope=col>&lt;dbl&gt;</th><th scope=col>&lt;dbl&gt;</th><th scope=col>&lt;chr&gt;</th></tr>\n",
       "</thead>\n",
       "<tbody>\n",
       "\t<tr><th scope=row>1</th><td>SMKGRP</td><td>Active_Smokers </td><td>Delayed_Smokers</td><td>0</td><td> -7.60000</td><td>-22.40679</td><td> 7.206788</td><td>0.4330</td><td>ns</td></tr>\n",
       "\t<tr><th scope=row>2</th><td>SMKGRP</td><td>Active_Smokers </td><td>Non_Smokers    </td><td>0</td><td>-18.66667</td><td>-33.47345</td><td>-3.859878</td><td>0.0104</td><td>* </td></tr>\n",
       "\t<tr><th scope=row>3</th><td>SMKGRP</td><td>Delayed_Smokers</td><td>Non_Smokers    </td><td>0</td><td>-11.06667</td><td>-25.87345</td><td> 3.740122</td><td>0.1770</td><td>ns</td></tr>\n",
       "</tbody>\n",
       "</table>\n"
      ],
      "text/latex": [
       "A rstatix\\_test: 3 × 9\n",
       "\\begin{tabular}{r|lllllllll}\n",
       "  & term & group1 & group2 & null.value & estimate & conf.low & conf.high & p.adj & p.adj.signif\\\\\n",
       "  & <chr> & <chr> & <chr> & <dbl> & <dbl> & <dbl> & <dbl> & <dbl> & <chr>\\\\\n",
       "\\hline\n",
       "\t1 & SMKGRP & Active\\_Smokers  & Delayed\\_Smokers & 0 &  -7.60000 & -22.40679 &  7.206788 & 0.4330 & ns\\\\\n",
       "\t2 & SMKGRP & Active\\_Smokers  & Non\\_Smokers     & 0 & -18.66667 & -33.47345 & -3.859878 & 0.0104 & * \\\\\n",
       "\t3 & SMKGRP & Delayed\\_Smokers & Non\\_Smokers     & 0 & -11.06667 & -25.87345 &  3.740122 & 0.1770 & ns\\\\\n",
       "\\end{tabular}\n"
      ],
      "text/markdown": [
       "\n",
       "A rstatix_test: 3 × 9\n",
       "\n",
       "| <!--/--> | term &lt;chr&gt; | group1 &lt;chr&gt; | group2 &lt;chr&gt; | null.value &lt;dbl&gt; | estimate &lt;dbl&gt; | conf.low &lt;dbl&gt; | conf.high &lt;dbl&gt; | p.adj &lt;dbl&gt; | p.adj.signif &lt;chr&gt; |\n",
       "|---|---|---|---|---|---|---|---|---|---|\n",
       "| 1 | SMKGRP | Active_Smokers  | Delayed_Smokers | 0 |  -7.60000 | -22.40679 |  7.206788 | 0.4330 | ns |\n",
       "| 2 | SMKGRP | Active_Smokers  | Non_Smokers     | 0 | -18.66667 | -33.47345 | -3.859878 | 0.0104 | *  |\n",
       "| 3 | SMKGRP | Delayed_Smokers | Non_Smokers     | 0 | -11.06667 | -25.87345 |  3.740122 | 0.1770 | ns |\n",
       "\n"
      ],
      "text/plain": [
       "  term   group1          group2          null.value estimate  conf.low \n",
       "1 SMKGRP Active_Smokers  Delayed_Smokers 0           -7.60000 -22.40679\n",
       "2 SMKGRP Active_Smokers  Non_Smokers     0          -18.66667 -33.47345\n",
       "3 SMKGRP Delayed_Smokers Non_Smokers     0          -11.06667 -25.87345\n",
       "  conf.high p.adj  p.adj.signif\n",
       "1  7.206788 0.4330 ns          \n",
       "2 -3.859878 0.0104 *           \n",
       "3  3.740122 0.1770 ns          "
      ]
     },
     "metadata": {},
     "output_type": "display_data"
    }
   ],
   "source": [
    "Smoking_Performance %>% tukey_hsd(RECALL ~ SMKGRP)"
   ]
  },
  {
   "cell_type": "code",
   "execution_count": 33,
   "id": "67cbb08f-69d9-438c-b972-5f192a4a66c6",
   "metadata": {},
   "outputs": [],
   "source": [
    "p = Smoking_Performance %>% tukey_hsd(RECALL ~ SMKGRP)"
   ]
  },
  {
   "cell_type": "code",
   "execution_count": 34,
   "id": "353b7d47-30e1-46ef-8fff-330bbf012e2f",
   "metadata": {},
   "outputs": [],
   "source": [
    "p = p %>% add_xy_position(x = \"SMKGRP\")"
   ]
  },
  {
   "cell_type": "code",
   "execution_count": 36,
   "id": "bff94a0a-2c1f-496f-9386-4db9b7668cc7",
   "metadata": {},
   "outputs": [
    {
     "data": {
      "image/png": "[encoded data removed]",
      "text/plain": [
       "plot without title"
      ]
     },
     "metadata": {
      "image/png": {
       "height": 420,
       "width": 420
      }
     },
     "output_type": "display_data"
    }
   ],
   "source": [
    "ggboxplot(Smoking_Performance, x = \"SMKGRP\", y = \"RECALL\") + stat_pvalue_manual(p, hide.ns = TRUE)"
   ]
  },
  {
   "cell_type": "code",
   "execution_count": 105,
   "id": "5b387401-ec94-420a-88ee-5eb52fcfb836",
   "metadata": {
    "scrolled": true
   },
   "outputs": [
    {
     "data": {
      "text/html": [
       "<table class=\"dataframe\">\n",
       "<caption>A data.frame: 45 × 2</caption>\n",
       "<thead>\n",
       "\t<tr><th scope=col>SMKGRP</th><th scope=col>RECALL</th></tr>\n",
       "\t<tr><th scope=col>&lt;chr&gt;</th><th scope=col>&lt;int&gt;</th></tr>\n",
       "</thead>\n",
       "<tbody>\n",
       "\t<tr><td>Non_Smokers    </td><td>27</td></tr>\n",
       "\t<tr><td>Non_Smokers    </td><td>34</td></tr>\n",
       "\t<tr><td>Non_Smokers    </td><td>19</td></tr>\n",
       "\t<tr><td>Non_Smokers    </td><td>20</td></tr>\n",
       "\t<tr><td>Non_Smokers    </td><td>56</td></tr>\n",
       "\t<tr><td>Non_Smokers    </td><td>35</td></tr>\n",
       "\t<tr><td>Non_Smokers    </td><td>23</td></tr>\n",
       "\t<tr><td>Non_Smokers    </td><td>37</td></tr>\n",
       "\t<tr><td>Non_Smokers    </td><td> 4</td></tr>\n",
       "\t<tr><td>Non_Smokers    </td><td>30</td></tr>\n",
       "\t<tr><td>Non_Smokers    </td><td> 4</td></tr>\n",
       "\t<tr><td>Non_Smokers    </td><td>42</td></tr>\n",
       "\t<tr><td>Non_Smokers    </td><td>34</td></tr>\n",
       "\t<tr><td>Non_Smokers    </td><td>19</td></tr>\n",
       "\t<tr><td>Non_Smokers    </td><td>49</td></tr>\n",
       "\t<tr><td>Delayed_Smokers</td><td>48</td></tr>\n",
       "\t<tr><td>Delayed_Smokers</td><td>29</td></tr>\n",
       "\t<tr><td>Delayed_Smokers</td><td>34</td></tr>\n",
       "\t<tr><td>Delayed_Smokers</td><td> 6</td></tr>\n",
       "\t<tr><td>Delayed_Smokers</td><td>18</td></tr>\n",
       "\t<tr><td>Delayed_Smokers</td><td>63</td></tr>\n",
       "\t<tr><td>Delayed_Smokers</td><td> 9</td></tr>\n",
       "\t<tr><td>Delayed_Smokers</td><td>54</td></tr>\n",
       "\t<tr><td>Delayed_Smokers</td><td>28</td></tr>\n",
       "\t<tr><td>Delayed_Smokers</td><td>71</td></tr>\n",
       "\t<tr><td>Delayed_Smokers</td><td>60</td></tr>\n",
       "\t<tr><td>Delayed_Smokers</td><td>54</td></tr>\n",
       "\t<tr><td>Delayed_Smokers</td><td>51</td></tr>\n",
       "\t<tr><td>Delayed_Smokers</td><td>25</td></tr>\n",
       "\t<tr><td>Delayed_Smokers</td><td>49</td></tr>\n",
       "\t<tr><td>Active_Smokers </td><td>34</td></tr>\n",
       "\t<tr><td>Active_Smokers </td><td>65</td></tr>\n",
       "\t<tr><td>Active_Smokers </td><td>55</td></tr>\n",
       "\t<tr><td>Active_Smokers </td><td>33</td></tr>\n",
       "\t<tr><td>Active_Smokers </td><td>42</td></tr>\n",
       "\t<tr><td>Active_Smokers </td><td>54</td></tr>\n",
       "\t<tr><td>Active_Smokers </td><td>21</td></tr>\n",
       "\t<tr><td>Active_Smokers </td><td>44</td></tr>\n",
       "\t<tr><td>Active_Smokers </td><td>61</td></tr>\n",
       "\t<tr><td>Active_Smokers </td><td>38</td></tr>\n",
       "\t<tr><td>Active_Smokers </td><td>75</td></tr>\n",
       "\t<tr><td>Active_Smokers </td><td>61</td></tr>\n",
       "\t<tr><td>Active_Smokers </td><td>51</td></tr>\n",
       "\t<tr><td>Active_Smokers </td><td>32</td></tr>\n",
       "\t<tr><td>Active_Smokers </td><td>47</td></tr>\n",
       "</tbody>\n",
       "</table>\n"
      ],
      "text/latex": [
       "A data.frame: 45 × 2\n",
       "\\begin{tabular}{ll}\n",
       " SMKGRP & RECALL\\\\\n",
       " <chr> & <int>\\\\\n",
       "\\hline\n",
       "\t Non\\_Smokers     & 27\\\\\n",
       "\t Non\\_Smokers     & 34\\\\\n",
       "\t Non\\_Smokers     & 19\\\\\n",
       "\t Non\\_Smokers     & 20\\\\\n",
       "\t Non\\_Smokers     & 56\\\\\n",
       "\t Non\\_Smokers     & 35\\\\\n",
       "\t Non\\_Smokers     & 23\\\\\n",
       "\t Non\\_Smokers     & 37\\\\\n",
       "\t Non\\_Smokers     &  4\\\\\n",
       "\t Non\\_Smokers     & 30\\\\\n",
       "\t Non\\_Smokers     &  4\\\\\n",
       "\t Non\\_Smokers     & 42\\\\\n",
       "\t Non\\_Smokers     & 34\\\\\n",
       "\t Non\\_Smokers     & 19\\\\\n",
       "\t Non\\_Smokers     & 49\\\\\n",
       "\t Delayed\\_Smokers & 48\\\\\n",
       "\t Delayed\\_Smokers & 29\\\\\n",
       "\t Delayed\\_Smokers & 34\\\\\n",
       "\t Delayed\\_Smokers &  6\\\\\n",
       "\t Delayed\\_Smokers & 18\\\\\n",
       "\t Delayed\\_Smokers & 63\\\\\n",
       "\t Delayed\\_Smokers &  9\\\\\n",
       "\t Delayed\\_Smokers & 54\\\\\n",
       "\t Delayed\\_Smokers & 28\\\\\n",
       "\t Delayed\\_Smokers & 71\\\\\n",
       "\t Delayed\\_Smokers & 60\\\\\n",
       "\t Delayed\\_Smokers & 54\\\\\n",
       "\t Delayed\\_Smokers & 51\\\\\n",
       "\t Delayed\\_Smokers & 25\\\\\n",
       "\t Delayed\\_Smokers & 49\\\\\n",
       "\t Active\\_Smokers  & 34\\\\\n",
       "\t Active\\_Smokers  & 65\\\\\n",
       "\t Active\\_Smokers  & 55\\\\\n",
       "\t Active\\_Smokers  & 33\\\\\n",
       "\t Active\\_Smokers  & 42\\\\\n",
       "\t Active\\_Smokers  & 54\\\\\n",
       "\t Active\\_Smokers  & 21\\\\\n",
       "\t Active\\_Smokers  & 44\\\\\n",
       "\t Active\\_Smokers  & 61\\\\\n",
       "\t Active\\_Smokers  & 38\\\\\n",
       "\t Active\\_Smokers  & 75\\\\\n",
       "\t Active\\_Smokers  & 61\\\\\n",
       "\t Active\\_Smokers  & 51\\\\\n",
       "\t Active\\_Smokers  & 32\\\\\n",
       "\t Active\\_Smokers  & 47\\\\\n",
       "\\end{tabular}\n"
      ],
      "text/markdown": [
       "\n",
       "A data.frame: 45 × 2\n",
       "\n",
       "| SMKGRP &lt;chr&gt; | RECALL &lt;int&gt; |\n",
       "|---|---|\n",
       "| Non_Smokers     | 27 |\n",
       "| Non_Smokers     | 34 |\n",
       "| Non_Smokers     | 19 |\n",
       "| Non_Smokers     | 20 |\n",
       "| Non_Smokers     | 56 |\n",
       "| Non_Smokers     | 35 |\n",
       "| Non_Smokers     | 23 |\n",
       "| Non_Smokers     | 37 |\n",
       "| Non_Smokers     |  4 |\n",
       "| Non_Smokers     | 30 |\n",
       "| Non_Smokers     |  4 |\n",
       "| Non_Smokers     | 42 |\n",
       "| Non_Smokers     | 34 |\n",
       "| Non_Smokers     | 19 |\n",
       "| Non_Smokers     | 49 |\n",
       "| Delayed_Smokers | 48 |\n",
       "| Delayed_Smokers | 29 |\n",
       "| Delayed_Smokers | 34 |\n",
       "| Delayed_Smokers |  6 |\n",
       "| Delayed_Smokers | 18 |\n",
       "| Delayed_Smokers | 63 |\n",
       "| Delayed_Smokers |  9 |\n",
       "| Delayed_Smokers | 54 |\n",
       "| Delayed_Smokers | 28 |\n",
       "| Delayed_Smokers | 71 |\n",
       "| Delayed_Smokers | 60 |\n",
       "| Delayed_Smokers | 54 |\n",
       "| Delayed_Smokers | 51 |\n",
       "| Delayed_Smokers | 25 |\n",
       "| Delayed_Smokers | 49 |\n",
       "| Active_Smokers  | 34 |\n",
       "| Active_Smokers  | 65 |\n",
       "| Active_Smokers  | 55 |\n",
       "| Active_Smokers  | 33 |\n",
       "| Active_Smokers  | 42 |\n",
       "| Active_Smokers  | 54 |\n",
       "| Active_Smokers  | 21 |\n",
       "| Active_Smokers  | 44 |\n",
       "| Active_Smokers  | 61 |\n",
       "| Active_Smokers  | 38 |\n",
       "| Active_Smokers  | 75 |\n",
       "| Active_Smokers  | 61 |\n",
       "| Active_Smokers  | 51 |\n",
       "| Active_Smokers  | 32 |\n",
       "| Active_Smokers  | 47 |\n",
       "\n"
      ],
      "text/plain": [
       "   SMKGRP          RECALL\n",
       "1  Non_Smokers     27    \n",
       "2  Non_Smokers     34    \n",
       "3  Non_Smokers     19    \n",
       "4  Non_Smokers     20    \n",
       "5  Non_Smokers     56    \n",
       "6  Non_Smokers     35    \n",
       "7  Non_Smokers     23    \n",
       "8  Non_Smokers     37    \n",
       "9  Non_Smokers      4    \n",
       "10 Non_Smokers     30    \n",
       "11 Non_Smokers      4    \n",
       "12 Non_Smokers     42    \n",
       "13 Non_Smokers     34    \n",
       "14 Non_Smokers     19    \n",
       "15 Non_Smokers     49    \n",
       "16 Delayed_Smokers 48    \n",
       "17 Delayed_Smokers 29    \n",
       "18 Delayed_Smokers 34    \n",
       "19 Delayed_Smokers  6    \n",
       "20 Delayed_Smokers 18    \n",
       "21 Delayed_Smokers 63    \n",
       "22 Delayed_Smokers  9    \n",
       "23 Delayed_Smokers 54    \n",
       "24 Delayed_Smokers 28    \n",
       "25 Delayed_Smokers 71    \n",
       "26 Delayed_Smokers 60    \n",
       "27 Delayed_Smokers 54    \n",
       "28 Delayed_Smokers 51    \n",
       "29 Delayed_Smokers 25    \n",
       "30 Delayed_Smokers 49    \n",
       "31 Active_Smokers  34    \n",
       "32 Active_Smokers  65    \n",
       "33 Active_Smokers  55    \n",
       "34 Active_Smokers  33    \n",
       "35 Active_Smokers  42    \n",
       "36 Active_Smokers  54    \n",
       "37 Active_Smokers  21    \n",
       "38 Active_Smokers  44    \n",
       "39 Active_Smokers  61    \n",
       "40 Active_Smokers  38    \n",
       "41 Active_Smokers  75    \n",
       "42 Active_Smokers  61    \n",
       "43 Active_Smokers  51    \n",
       "44 Active_Smokers  32    \n",
       "45 Active_Smokers  47    "
      ]
     },
     "metadata": {},
     "output_type": "display_data"
    }
   ],
   "source": [
    "Smoking_Performance"
   ]
  },
  {
   "cell_type": "code",
   "execution_count": 117,
   "id": "4f575c26-def2-4808-9cdd-d7815c8ba84b",
   "metadata": {},
   "outputs": [],
   "source": [
    "Smoking_Performance = Smoking_Performance %>% mutate (SMKGRP = ifelse (SMKGRP == \"1\", \"Non_Smokers\", ifelse(SMKGRP == \"2\", \"Delayed_Smokers\", \"Active_Smokers\") ))"
   ]
  },
  {
   "cell_type": "markdown",
   "id": "42b76b6c-2473-4521-95ce-f6bf8f895aba",
   "metadata": {},
   "source": [
    "## تی تست مجزا برای هر کدوم با دستور تی تست"
   ]
  },
  {
   "cell_type": "code",
   "execution_count": 118,
   "id": "da1b80a6-d4c9-4423-9b50-264360fc060f",
   "metadata": {},
   "outputs": [
    {
     "data": {
      "text/html": [
       "<table class=\"dataframe\">\n",
       "<caption>A rstatix_test: 3 × 10</caption>\n",
       "<thead>\n",
       "\t<tr><th></th><th scope=col>.y.</th><th scope=col>group1</th><th scope=col>group2</th><th scope=col>n1</th><th scope=col>n2</th><th scope=col>statistic</th><th scope=col>df</th><th scope=col>p</th><th scope=col>p.adj</th><th scope=col>p.adj.signif</th></tr>\n",
       "\t<tr><th></th><th scope=col>&lt;chr&gt;</th><th scope=col>&lt;chr&gt;</th><th scope=col>&lt;chr&gt;</th><th scope=col>&lt;int&gt;</th><th scope=col>&lt;int&gt;</th><th scope=col>&lt;dbl&gt;</th><th scope=col>&lt;dbl&gt;</th><th scope=col>&lt;dbl&gt;</th><th scope=col>&lt;dbl&gt;</th><th scope=col>&lt;chr&gt;</th></tr>\n",
       "</thead>\n",
       "<tbody>\n",
       "\t<tr><th scope=row>1</th><td>RECALL</td><td>Active_Smokers </td><td>Delayed_Smokers</td><td>15</td><td>15</td><td>1.182080</td><td>25.58132</td><td>0.248</td><td>0.248</td><td>ns</td></tr>\n",
       "\t<tr><th scope=row>2</th><td>RECALL</td><td>Active_Smokers </td><td>Non_Smokers    </td><td>15</td><td>15</td><td>3.484826</td><td>27.99985</td><td>0.002</td><td>0.005</td><td>**</td></tr>\n",
       "\t<tr><th scope=row>3</th><td>RECALL</td><td>Delayed_Smokers</td><td>Non_Smokers    </td><td>15</td><td>15</td><td>1.719887</td><td>25.61151</td><td>0.098</td><td>0.195</td><td>ns</td></tr>\n",
       "</tbody>\n",
       "</table>\n"
      ],
      "text/latex": [
       "A rstatix\\_test: 3 × 10\n",
       "\\begin{tabular}{r|llllllllll}\n",
       "  & .y. & group1 & group2 & n1 & n2 & statistic & df & p & p.adj & p.adj.signif\\\\\n",
       "  & <chr> & <chr> & <chr> & <int> & <int> & <dbl> & <dbl> & <dbl> & <dbl> & <chr>\\\\\n",
       "\\hline\n",
       "\t1 & RECALL & Active\\_Smokers  & Delayed\\_Smokers & 15 & 15 & 1.182080 & 25.58132 & 0.248 & 0.248 & ns\\\\\n",
       "\t2 & RECALL & Active\\_Smokers  & Non\\_Smokers     & 15 & 15 & 3.484826 & 27.99985 & 0.002 & 0.005 & **\\\\\n",
       "\t3 & RECALL & Delayed\\_Smokers & Non\\_Smokers     & 15 & 15 & 1.719887 & 25.61151 & 0.098 & 0.195 & ns\\\\\n",
       "\\end{tabular}\n"
      ],
      "text/markdown": [
       "\n",
       "A rstatix_test: 3 × 10\n",
       "\n",
       "| <!--/--> | .y. &lt;chr&gt; | group1 &lt;chr&gt; | group2 &lt;chr&gt; | n1 &lt;int&gt; | n2 &lt;int&gt; | statistic &lt;dbl&gt; | df &lt;dbl&gt; | p &lt;dbl&gt; | p.adj &lt;dbl&gt; | p.adj.signif &lt;chr&gt; |\n",
       "|---|---|---|---|---|---|---|---|---|---|---|\n",
       "| 1 | RECALL | Active_Smokers  | Delayed_Smokers | 15 | 15 | 1.182080 | 25.58132 | 0.248 | 0.248 | ns |\n",
       "| 2 | RECALL | Active_Smokers  | Non_Smokers     | 15 | 15 | 3.484826 | 27.99985 | 0.002 | 0.005 | ** |\n",
       "| 3 | RECALL | Delayed_Smokers | Non_Smokers     | 15 | 15 | 1.719887 | 25.61151 | 0.098 | 0.195 | ns |\n",
       "\n"
      ],
      "text/plain": [
       "  .y.    group1          group2          n1 n2 statistic df       p     p.adj\n",
       "1 RECALL Active_Smokers  Delayed_Smokers 15 15 1.182080  25.58132 0.248 0.248\n",
       "2 RECALL Active_Smokers  Non_Smokers     15 15 3.484826  27.99985 0.002 0.005\n",
       "3 RECALL Delayed_Smokers Non_Smokers     15 15 1.719887  25.61151 0.098 0.195\n",
       "  p.adj.signif\n",
       "1 ns          \n",
       "2 **          \n",
       "3 ns          "
      ]
     },
     "metadata": {},
     "output_type": "display_data"
    }
   ],
   "source": [
    "Smoking_Performance %>% t_test(RECALL ~ SMKGRP)"
   ]
  }
 ],
 "metadata": {
  "kernelspec": {
   "display_name": "R",
   "language": "R",
   "name": "ir"
  },
  "language_info": {
   "codemirror_mode": "r",
   "file_extension": ".r",
   "mimetype": "text/x-r-source",
   "name": "R",
   "pygments_lexer": "r",
   "version": "4.3.2"
  }
 },
 "nbformat": 4,
 "nbformat_minor": 5
}
