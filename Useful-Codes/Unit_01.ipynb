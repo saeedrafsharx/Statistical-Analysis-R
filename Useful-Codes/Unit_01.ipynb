{
 "cells": [
  {
   "cell_type": "markdown",
   "id": "c3a8693c-b6c9-4d12-ae82-b0fc2cf1ee95",
   "metadata": {},
   "source": [
    "## Instal rstatix library."
   ]
  },
  {
   "cell_type": "markdown",
   "id": "96349aec-0f2c-4152-bf2b-8ee8913464d9",
   "metadata": {},
   "source": [
    "## Bring up rstatix Lib."
   ]
  },
  {
   "cell_type": "code",
   "execution_count": 64,
   "id": "d5ae8119-9e06-4837-a054-b22be6bd2cf2",
   "metadata": {
    "scrolled": true
   },
   "outputs": [],
   "source": [
    "library (rstatix)"
   ]
  },
  {
   "cell_type": "markdown",
   "id": "67c4673e-3a02-42f0-aa47-c089a748815d",
   "metadata": {},
   "source": [
    "## Store my Data on my PC, to a variable called Data."
   ]
  },
  {
   "cell_type": "code",
   "execution_count": 14,
   "id": "cbab5888-41a2-4b83-b455-44f93f45291b",
   "metadata": {},
   "outputs": [],
   "source": [
    "Data = read.table('D:\\\\Beheshti\\\\Jamal_Amanirad\\\\Data\\\\Tab2-1.dat', header = TRUE)"
   ]
  },
  {
   "cell_type": "markdown",
   "id": "7dc67d61-edf4-41c8-a608-e78b0fe4a825",
   "metadata": {},
   "source": [
    "## Show Data table"
   ]
  },
  {
   "cell_type": "code",
   "execution_count": 36,
   "id": "d3619aed-c43e-41a6-af26-78111b97aaf7",
   "metadata": {
    "scrolled": true
   },
   "outputs": [
    {
     "data": {
      "text/html": [
       "<table class=\"dataframe\">\n",
       "<caption>A data.frame: 300 × 4</caption>\n",
       "<thead>\n",
       "\t<tr><th scope=col>Trial</th><th scope=col>RxTime</th><th scope=col>NStim</th><th scope=col>YesNo</th></tr>\n",
       "\t<tr><th scope=col>&lt;int&gt;</th><th scope=col>&lt;int&gt;</th><th scope=col>&lt;int&gt;</th><th scope=col>&lt;int&gt;</th></tr>\n",
       "</thead>\n",
       "<tbody>\n",
       "\t<tr><td> 1</td><td>40</td><td>1</td><td>1</td></tr>\n",
       "\t<tr><td> 2</td><td>41</td><td>1</td><td>1</td></tr>\n",
       "\t<tr><td> 3</td><td>47</td><td>1</td><td>1</td></tr>\n",
       "\t<tr><td> 4</td><td>38</td><td>1</td><td>1</td></tr>\n",
       "\t<tr><td> 5</td><td>40</td><td>1</td><td>1</td></tr>\n",
       "\t<tr><td> 6</td><td>37</td><td>1</td><td>1</td></tr>\n",
       "\t<tr><td> 7</td><td>38</td><td>1</td><td>1</td></tr>\n",
       "\t<tr><td> 8</td><td>47</td><td>1</td><td>1</td></tr>\n",
       "\t<tr><td> 9</td><td>45</td><td>1</td><td>1</td></tr>\n",
       "\t<tr><td>10</td><td>61</td><td>1</td><td>1</td></tr>\n",
       "\t<tr><td>11</td><td>54</td><td>1</td><td>1</td></tr>\n",
       "\t<tr><td>12</td><td>67</td><td>1</td><td>1</td></tr>\n",
       "\t<tr><td>13</td><td>49</td><td>1</td><td>1</td></tr>\n",
       "\t<tr><td>14</td><td>43</td><td>1</td><td>1</td></tr>\n",
       "\t<tr><td>15</td><td>52</td><td>1</td><td>1</td></tr>\n",
       "\t<tr><td>16</td><td>39</td><td>1</td><td>1</td></tr>\n",
       "\t<tr><td>17</td><td>46</td><td>1</td><td>1</td></tr>\n",
       "\t<tr><td>18</td><td>47</td><td>1</td><td>1</td></tr>\n",
       "\t<tr><td>19</td><td>45</td><td>1</td><td>1</td></tr>\n",
       "\t<tr><td>20</td><td>43</td><td>1</td><td>1</td></tr>\n",
       "\t<tr><td>21</td><td>39</td><td>1</td><td>1</td></tr>\n",
       "\t<tr><td>22</td><td>49</td><td>1</td><td>1</td></tr>\n",
       "\t<tr><td>23</td><td>50</td><td>1</td><td>1</td></tr>\n",
       "\t<tr><td>24</td><td>44</td><td>1</td><td>1</td></tr>\n",
       "\t<tr><td>25</td><td>53</td><td>1</td><td>1</td></tr>\n",
       "\t<tr><td>26</td><td>46</td><td>1</td><td>1</td></tr>\n",
       "\t<tr><td>27</td><td>64</td><td>1</td><td>1</td></tr>\n",
       "\t<tr><td>28</td><td>51</td><td>1</td><td>1</td></tr>\n",
       "\t<tr><td>29</td><td>40</td><td>1</td><td>1</td></tr>\n",
       "\t<tr><td>30</td><td>41</td><td>1</td><td>1</td></tr>\n",
       "\t<tr><td>⋮</td><td>⋮</td><td>⋮</td><td>⋮</td></tr>\n",
       "\t<tr><td>271</td><td> 65</td><td>5</td><td>2</td></tr>\n",
       "\t<tr><td>272</td><td> 81</td><td>5</td><td>2</td></tr>\n",
       "\t<tr><td>273</td><td> 69</td><td>5</td><td>2</td></tr>\n",
       "\t<tr><td>274</td><td> 69</td><td>5</td><td>2</td></tr>\n",
       "\t<tr><td>275</td><td> 63</td><td>5</td><td>2</td></tr>\n",
       "\t<tr><td>276</td><td> 68</td><td>5</td><td>2</td></tr>\n",
       "\t<tr><td>277</td><td> 70</td><td>5</td><td>2</td></tr>\n",
       "\t<tr><td>278</td><td> 80</td><td>5</td><td>2</td></tr>\n",
       "\t<tr><td>279</td><td> 68</td><td>5</td><td>2</td></tr>\n",
       "\t<tr><td>280</td><td>125</td><td>5</td><td>2</td></tr>\n",
       "\t<tr><td>281</td><td> 63</td><td>5</td><td>2</td></tr>\n",
       "\t<tr><td>282</td><td> 74</td><td>5</td><td>2</td></tr>\n",
       "\t<tr><td>283</td><td> 61</td><td>5</td><td>2</td></tr>\n",
       "\t<tr><td>284</td><td> 85</td><td>5</td><td>2</td></tr>\n",
       "\t<tr><td>285</td><td> 59</td><td>5</td><td>2</td></tr>\n",
       "\t<tr><td>286</td><td> 61</td><td>5</td><td>2</td></tr>\n",
       "\t<tr><td>287</td><td> 74</td><td>5</td><td>2</td></tr>\n",
       "\t<tr><td>288</td><td> 76</td><td>5</td><td>2</td></tr>\n",
       "\t<tr><td>289</td><td> 62</td><td>5</td><td>2</td></tr>\n",
       "\t<tr><td>290</td><td> 83</td><td>5</td><td>2</td></tr>\n",
       "\t<tr><td>291</td><td> 58</td><td>5</td><td>2</td></tr>\n",
       "\t<tr><td>292</td><td> 72</td><td>5</td><td>2</td></tr>\n",
       "\t<tr><td>293</td><td> 65</td><td>5</td><td>2</td></tr>\n",
       "\t<tr><td>294</td><td> 61</td><td>5</td><td>2</td></tr>\n",
       "\t<tr><td>295</td><td> 95</td><td>5</td><td>2</td></tr>\n",
       "\t<tr><td>296</td><td> 58</td><td>5</td><td>2</td></tr>\n",
       "\t<tr><td>297</td><td> 64</td><td>5</td><td>2</td></tr>\n",
       "\t<tr><td>298</td><td> 66</td><td>5</td><td>2</td></tr>\n",
       "\t<tr><td>299</td><td> 66</td><td>5</td><td>2</td></tr>\n",
       "\t<tr><td>300</td><td> 72</td><td>5</td><td>2</td></tr>\n",
       "</tbody>\n",
       "</table>\n"
      ],
      "text/latex": [
       "A data.frame: 300 × 4\n",
       "\\begin{tabular}{llll}\n",
       " Trial & RxTime & NStim & YesNo\\\\\n",
       " <int> & <int> & <int> & <int>\\\\\n",
       "\\hline\n",
       "\t  1 & 40 & 1 & 1\\\\\n",
       "\t  2 & 41 & 1 & 1\\\\\n",
       "\t  3 & 47 & 1 & 1\\\\\n",
       "\t  4 & 38 & 1 & 1\\\\\n",
       "\t  5 & 40 & 1 & 1\\\\\n",
       "\t  6 & 37 & 1 & 1\\\\\n",
       "\t  7 & 38 & 1 & 1\\\\\n",
       "\t  8 & 47 & 1 & 1\\\\\n",
       "\t  9 & 45 & 1 & 1\\\\\n",
       "\t 10 & 61 & 1 & 1\\\\\n",
       "\t 11 & 54 & 1 & 1\\\\\n",
       "\t 12 & 67 & 1 & 1\\\\\n",
       "\t 13 & 49 & 1 & 1\\\\\n",
       "\t 14 & 43 & 1 & 1\\\\\n",
       "\t 15 & 52 & 1 & 1\\\\\n",
       "\t 16 & 39 & 1 & 1\\\\\n",
       "\t 17 & 46 & 1 & 1\\\\\n",
       "\t 18 & 47 & 1 & 1\\\\\n",
       "\t 19 & 45 & 1 & 1\\\\\n",
       "\t 20 & 43 & 1 & 1\\\\\n",
       "\t 21 & 39 & 1 & 1\\\\\n",
       "\t 22 & 49 & 1 & 1\\\\\n",
       "\t 23 & 50 & 1 & 1\\\\\n",
       "\t 24 & 44 & 1 & 1\\\\\n",
       "\t 25 & 53 & 1 & 1\\\\\n",
       "\t 26 & 46 & 1 & 1\\\\\n",
       "\t 27 & 64 & 1 & 1\\\\\n",
       "\t 28 & 51 & 1 & 1\\\\\n",
       "\t 29 & 40 & 1 & 1\\\\\n",
       "\t 30 & 41 & 1 & 1\\\\\n",
       "\t ⋮ & ⋮ & ⋮ & ⋮\\\\\n",
       "\t 271 &  65 & 5 & 2\\\\\n",
       "\t 272 &  81 & 5 & 2\\\\\n",
       "\t 273 &  69 & 5 & 2\\\\\n",
       "\t 274 &  69 & 5 & 2\\\\\n",
       "\t 275 &  63 & 5 & 2\\\\\n",
       "\t 276 &  68 & 5 & 2\\\\\n",
       "\t 277 &  70 & 5 & 2\\\\\n",
       "\t 278 &  80 & 5 & 2\\\\\n",
       "\t 279 &  68 & 5 & 2\\\\\n",
       "\t 280 & 125 & 5 & 2\\\\\n",
       "\t 281 &  63 & 5 & 2\\\\\n",
       "\t 282 &  74 & 5 & 2\\\\\n",
       "\t 283 &  61 & 5 & 2\\\\\n",
       "\t 284 &  85 & 5 & 2\\\\\n",
       "\t 285 &  59 & 5 & 2\\\\\n",
       "\t 286 &  61 & 5 & 2\\\\\n",
       "\t 287 &  74 & 5 & 2\\\\\n",
       "\t 288 &  76 & 5 & 2\\\\\n",
       "\t 289 &  62 & 5 & 2\\\\\n",
       "\t 290 &  83 & 5 & 2\\\\\n",
       "\t 291 &  58 & 5 & 2\\\\\n",
       "\t 292 &  72 & 5 & 2\\\\\n",
       "\t 293 &  65 & 5 & 2\\\\\n",
       "\t 294 &  61 & 5 & 2\\\\\n",
       "\t 295 &  95 & 5 & 2\\\\\n",
       "\t 296 &  58 & 5 & 2\\\\\n",
       "\t 297 &  64 & 5 & 2\\\\\n",
       "\t 298 &  66 & 5 & 2\\\\\n",
       "\t 299 &  66 & 5 & 2\\\\\n",
       "\t 300 &  72 & 5 & 2\\\\\n",
       "\\end{tabular}\n"
      ],
      "text/markdown": [
       "\n",
       "A data.frame: 300 × 4\n",
       "\n",
       "| Trial &lt;int&gt; | RxTime &lt;int&gt; | NStim &lt;int&gt; | YesNo &lt;int&gt; |\n",
       "|---|---|---|---|\n",
       "|  1 | 40 | 1 | 1 |\n",
       "|  2 | 41 | 1 | 1 |\n",
       "|  3 | 47 | 1 | 1 |\n",
       "|  4 | 38 | 1 | 1 |\n",
       "|  5 | 40 | 1 | 1 |\n",
       "|  6 | 37 | 1 | 1 |\n",
       "|  7 | 38 | 1 | 1 |\n",
       "|  8 | 47 | 1 | 1 |\n",
       "|  9 | 45 | 1 | 1 |\n",
       "| 10 | 61 | 1 | 1 |\n",
       "| 11 | 54 | 1 | 1 |\n",
       "| 12 | 67 | 1 | 1 |\n",
       "| 13 | 49 | 1 | 1 |\n",
       "| 14 | 43 | 1 | 1 |\n",
       "| 15 | 52 | 1 | 1 |\n",
       "| 16 | 39 | 1 | 1 |\n",
       "| 17 | 46 | 1 | 1 |\n",
       "| 18 | 47 | 1 | 1 |\n",
       "| 19 | 45 | 1 | 1 |\n",
       "| 20 | 43 | 1 | 1 |\n",
       "| 21 | 39 | 1 | 1 |\n",
       "| 22 | 49 | 1 | 1 |\n",
       "| 23 | 50 | 1 | 1 |\n",
       "| 24 | 44 | 1 | 1 |\n",
       "| 25 | 53 | 1 | 1 |\n",
       "| 26 | 46 | 1 | 1 |\n",
       "| 27 | 64 | 1 | 1 |\n",
       "| 28 | 51 | 1 | 1 |\n",
       "| 29 | 40 | 1 | 1 |\n",
       "| 30 | 41 | 1 | 1 |\n",
       "| ⋮ | ⋮ | ⋮ | ⋮ |\n",
       "| 271 |  65 | 5 | 2 |\n",
       "| 272 |  81 | 5 | 2 |\n",
       "| 273 |  69 | 5 | 2 |\n",
       "| 274 |  69 | 5 | 2 |\n",
       "| 275 |  63 | 5 | 2 |\n",
       "| 276 |  68 | 5 | 2 |\n",
       "| 277 |  70 | 5 | 2 |\n",
       "| 278 |  80 | 5 | 2 |\n",
       "| 279 |  68 | 5 | 2 |\n",
       "| 280 | 125 | 5 | 2 |\n",
       "| 281 |  63 | 5 | 2 |\n",
       "| 282 |  74 | 5 | 2 |\n",
       "| 283 |  61 | 5 | 2 |\n",
       "| 284 |  85 | 5 | 2 |\n",
       "| 285 |  59 | 5 | 2 |\n",
       "| 286 |  61 | 5 | 2 |\n",
       "| 287 |  74 | 5 | 2 |\n",
       "| 288 |  76 | 5 | 2 |\n",
       "| 289 |  62 | 5 | 2 |\n",
       "| 290 |  83 | 5 | 2 |\n",
       "| 291 |  58 | 5 | 2 |\n",
       "| 292 |  72 | 5 | 2 |\n",
       "| 293 |  65 | 5 | 2 |\n",
       "| 294 |  61 | 5 | 2 |\n",
       "| 295 |  95 | 5 | 2 |\n",
       "| 296 |  58 | 5 | 2 |\n",
       "| 297 |  64 | 5 | 2 |\n",
       "| 298 |  66 | 5 | 2 |\n",
       "| 299 |  66 | 5 | 2 |\n",
       "| 300 |  72 | 5 | 2 |\n",
       "\n"
      ],
      "text/plain": [
       "    Trial RxTime NStim YesNo\n",
       "1    1    40     1     1    \n",
       "2    2    41     1     1    \n",
       "3    3    47     1     1    \n",
       "4    4    38     1     1    \n",
       "5    5    40     1     1    \n",
       "6    6    37     1     1    \n",
       "7    7    38     1     1    \n",
       "8    8    47     1     1    \n",
       "9    9    45     1     1    \n",
       "10  10    61     1     1    \n",
       "11  11    54     1     1    \n",
       "12  12    67     1     1    \n",
       "13  13    49     1     1    \n",
       "14  14    43     1     1    \n",
       "15  15    52     1     1    \n",
       "16  16    39     1     1    \n",
       "17  17    46     1     1    \n",
       "18  18    47     1     1    \n",
       "19  19    45     1     1    \n",
       "20  20    43     1     1    \n",
       "21  21    39     1     1    \n",
       "22  22    49     1     1    \n",
       "23  23    50     1     1    \n",
       "24  24    44     1     1    \n",
       "25  25    53     1     1    \n",
       "26  26    46     1     1    \n",
       "27  27    64     1     1    \n",
       "28  28    51     1     1    \n",
       "29  29    40     1     1    \n",
       "30  30    41     1     1    \n",
       "⋮   ⋮     ⋮      ⋮     ⋮    \n",
       "271 271    65    5     2    \n",
       "272 272    81    5     2    \n",
       "273 273    69    5     2    \n",
       "274 274    69    5     2    \n",
       "275 275    63    5     2    \n",
       "276 276    68    5     2    \n",
       "277 277    70    5     2    \n",
       "278 278    80    5     2    \n",
       "279 279    68    5     2    \n",
       "280 280   125    5     2    \n",
       "281 281    63    5     2    \n",
       "282 282    74    5     2    \n",
       "283 283    61    5     2    \n",
       "284 284    85    5     2    \n",
       "285 285    59    5     2    \n",
       "286 286    61    5     2    \n",
       "287 287    74    5     2    \n",
       "288 288    76    5     2    \n",
       "289 289    62    5     2    \n",
       "290 290    83    5     2    \n",
       "291 291    58    5     2    \n",
       "292 292    72    5     2    \n",
       "293 293    65    5     2    \n",
       "294 294    61    5     2    \n",
       "295 295    95    5     2    \n",
       "296 296    58    5     2    \n",
       "297 297    64    5     2    \n",
       "298 298    66    5     2    \n",
       "299 299    66    5     2    \n",
       "300 300    72    5     2    "
      ]
     },
     "metadata": {},
     "output_type": "display_data"
    }
   ],
   "source": [
    "Data"
   ]
  },
  {
   "cell_type": "markdown",
   "id": "2ba9eb6f-3be5-4604-87e6-ab03688ae71b",
   "metadata": {},
   "source": [
    "## From Data, get a summary of stats of RxTime and Group it to 3 groups based on NStim."
   ]
  },
  {
   "cell_type": "code",
   "execution_count": 19,
   "id": "09ff5646-96a5-4acc-bb6b-fa3cd8cb3445",
   "metadata": {},
   "outputs": [
    {
     "data": {
      "text/html": [
       "<table class=\"dataframe\">\n",
       "<caption>A tibble: 3 × 14</caption>\n",
       "<thead>\n",
       "\t<tr><th scope=col>NStim</th><th scope=col>variable</th><th scope=col>n</th><th scope=col>min</th><th scope=col>max</th><th scope=col>median</th><th scope=col>q1</th><th scope=col>q3</th><th scope=col>iqr</th><th scope=col>mad</th><th scope=col>mean</th><th scope=col>sd</th><th scope=col>se</th><th scope=col>ci</th></tr>\n",
       "\t<tr><th scope=col>&lt;int&gt;</th><th scope=col>&lt;fct&gt;</th><th scope=col>&lt;dbl&gt;</th><th scope=col>&lt;dbl&gt;</th><th scope=col>&lt;dbl&gt;</th><th scope=col>&lt;dbl&gt;</th><th scope=col>&lt;dbl&gt;</th><th scope=col>&lt;dbl&gt;</th><th scope=col>&lt;dbl&gt;</th><th scope=col>&lt;dbl&gt;</th><th scope=col>&lt;dbl&gt;</th><th scope=col>&lt;dbl&gt;</th><th scope=col>&lt;dbl&gt;</th><th scope=col>&lt;dbl&gt;</th></tr>\n",
       "</thead>\n",
       "<tbody>\n",
       "\t<tr><td>1</td><td>RxTime</td><td>100</td><td>36</td><td>104</td><td>50</td><td>45.00</td><td>57.25</td><td>12.25</td><td>8.896</td><td>53.27</td><td>13.356</td><td>1.336</td><td>2.650</td></tr>\n",
       "\t<tr><td>3</td><td>RxTime</td><td>100</td><td>42</td><td> 95</td><td>60</td><td>53.75</td><td>64.25</td><td>10.50</td><td>7.413</td><td>60.65</td><td> 9.408</td><td>0.941</td><td>1.867</td></tr>\n",
       "\t<tr><td>5</td><td>RxTime</td><td>100</td><td>39</td><td>125</td><td>65</td><td>59.75</td><td>72.50</td><td>12.75</td><td>9.637</td><td>66.86</td><td>12.282</td><td>1.228</td><td>2.437</td></tr>\n",
       "</tbody>\n",
       "</table>\n"
      ],
      "text/latex": [
       "A tibble: 3 × 14\n",
       "\\begin{tabular}{llllllllllllll}\n",
       " NStim & variable & n & min & max & median & q1 & q3 & iqr & mad & mean & sd & se & ci\\\\\n",
       " <int> & <fct> & <dbl> & <dbl> & <dbl> & <dbl> & <dbl> & <dbl> & <dbl> & <dbl> & <dbl> & <dbl> & <dbl> & <dbl>\\\\\n",
       "\\hline\n",
       "\t 1 & RxTime & 100 & 36 & 104 & 50 & 45.00 & 57.25 & 12.25 & 8.896 & 53.27 & 13.356 & 1.336 & 2.650\\\\\n",
       "\t 3 & RxTime & 100 & 42 &  95 & 60 & 53.75 & 64.25 & 10.50 & 7.413 & 60.65 &  9.408 & 0.941 & 1.867\\\\\n",
       "\t 5 & RxTime & 100 & 39 & 125 & 65 & 59.75 & 72.50 & 12.75 & 9.637 & 66.86 & 12.282 & 1.228 & 2.437\\\\\n",
       "\\end{tabular}\n"
      ],
      "text/markdown": [
       "\n",
       "A tibble: 3 × 14\n",
       "\n",
       "| NStim &lt;int&gt; | variable &lt;fct&gt; | n &lt;dbl&gt; | min &lt;dbl&gt; | max &lt;dbl&gt; | median &lt;dbl&gt; | q1 &lt;dbl&gt; | q3 &lt;dbl&gt; | iqr &lt;dbl&gt; | mad &lt;dbl&gt; | mean &lt;dbl&gt; | sd &lt;dbl&gt; | se &lt;dbl&gt; | ci &lt;dbl&gt; |\n",
       "|---|---|---|---|---|---|---|---|---|---|---|---|---|---|\n",
       "| 1 | RxTime | 100 | 36 | 104 | 50 | 45.00 | 57.25 | 12.25 | 8.896 | 53.27 | 13.356 | 1.336 | 2.650 |\n",
       "| 3 | RxTime | 100 | 42 |  95 | 60 | 53.75 | 64.25 | 10.50 | 7.413 | 60.65 |  9.408 | 0.941 | 1.867 |\n",
       "| 5 | RxTime | 100 | 39 | 125 | 65 | 59.75 | 72.50 | 12.75 | 9.637 | 66.86 | 12.282 | 1.228 | 2.437 |\n",
       "\n"
      ],
      "text/plain": [
       "  NStim variable n   min max median q1    q3    iqr   mad   mean  sd     se   \n",
       "1 1     RxTime   100 36  104 50     45.00 57.25 12.25 8.896 53.27 13.356 1.336\n",
       "2 3     RxTime   100 42   95 60     53.75 64.25 10.50 7.413 60.65  9.408 0.941\n",
       "3 5     RxTime   100 39  125 65     59.75 72.50 12.75 9.637 66.86 12.282 1.228\n",
       "  ci   \n",
       "1 2.650\n",
       "2 1.867\n",
       "3 2.437"
      ]
     },
     "metadata": {},
     "output_type": "display_data"
    }
   ],
   "source": [
    "Data %>% group_by(NStim) %>% get_summary_stats(RxTime)"
   ]
  },
  {
   "cell_type": "markdown",
   "id": "2019633f-3aea-44c7-b0a3-a557da2b08bc",
   "metadata": {},
   "source": [
    "## Limit Summary Stats funtion."
   ]
  },
  {
   "cell_type": "code",
   "execution_count": 20,
   "id": "105c5cc7-434b-45f3-a785-f2cf8223cb9d",
   "metadata": {},
   "outputs": [
    {
     "data": {
      "text/html": [
       "<table class=\"dataframe\">\n",
       "<caption>A tibble: 3 × 5</caption>\n",
       "<thead>\n",
       "\t<tr><th scope=col>NStim</th><th scope=col>variable</th><th scope=col>n</th><th scope=col>mean</th><th scope=col>sd</th></tr>\n",
       "\t<tr><th scope=col>&lt;int&gt;</th><th scope=col>&lt;fct&gt;</th><th scope=col>&lt;dbl&gt;</th><th scope=col>&lt;dbl&gt;</th><th scope=col>&lt;dbl&gt;</th></tr>\n",
       "</thead>\n",
       "<tbody>\n",
       "\t<tr><td>1</td><td>RxTime</td><td>100</td><td>53.27</td><td>13.356</td></tr>\n",
       "\t<tr><td>3</td><td>RxTime</td><td>100</td><td>60.65</td><td> 9.408</td></tr>\n",
       "\t<tr><td>5</td><td>RxTime</td><td>100</td><td>66.86</td><td>12.282</td></tr>\n",
       "</tbody>\n",
       "</table>\n"
      ],
      "text/latex": [
       "A tibble: 3 × 5\n",
       "\\begin{tabular}{lllll}\n",
       " NStim & variable & n & mean & sd\\\\\n",
       " <int> & <fct> & <dbl> & <dbl> & <dbl>\\\\\n",
       "\\hline\n",
       "\t 1 & RxTime & 100 & 53.27 & 13.356\\\\\n",
       "\t 3 & RxTime & 100 & 60.65 &  9.408\\\\\n",
       "\t 5 & RxTime & 100 & 66.86 & 12.282\\\\\n",
       "\\end{tabular}\n"
      ],
      "text/markdown": [
       "\n",
       "A tibble: 3 × 5\n",
       "\n",
       "| NStim &lt;int&gt; | variable &lt;fct&gt; | n &lt;dbl&gt; | mean &lt;dbl&gt; | sd &lt;dbl&gt; |\n",
       "|---|---|---|---|---|\n",
       "| 1 | RxTime | 100 | 53.27 | 13.356 |\n",
       "| 3 | RxTime | 100 | 60.65 |  9.408 |\n",
       "| 5 | RxTime | 100 | 66.86 | 12.282 |\n",
       "\n"
      ],
      "text/plain": [
       "  NStim variable n   mean  sd    \n",
       "1 1     RxTime   100 53.27 13.356\n",
       "2 3     RxTime   100 60.65  9.408\n",
       "3 5     RxTime   100 66.86 12.282"
      ]
     },
     "metadata": {},
     "output_type": "display_data"
    }
   ],
   "source": [
    "Data %>% group_by(NStim) %>% get_summary_stats(RxTime, type = \"mean_sd\")"
   ]
  },
  {
   "cell_type": "markdown",
   "id": "f870851f-88d4-4c02-ab6b-150b63e948ca",
   "metadata": {},
   "source": [
    "# Draw an Scatter plot"
   ]
  },
  {
   "cell_type": "code",
   "execution_count": 21,
   "id": "cc40281c-3b13-4ed7-93dc-cb93037eced0",
   "metadata": {
    "scrolled": true
   },
   "outputs": [
    {
     "data": {
      "image/png": "[encoded data removed]",
      "text/plain": [
       "plot without title"
      ]
     },
     "metadata": {
      "image/png": {
       "height": 420,
       "width": 420
      }
     },
     "output_type": "display_data"
    }
   ],
   "source": [
    "plot(Data$RxTime)"
   ]
  },
  {
   "cell_type": "markdown",
   "id": "62b46fad-83f3-496f-969a-242fb821f2bb",
   "metadata": {},
   "source": [
    "# Draw a Histogram"
   ]
  },
  {
   "cell_type": "code",
   "execution_count": 35,
   "id": "f0d54eef-6f4d-4d02-b889-24dbd8e8ba5e",
   "metadata": {
    "scrolled": true
   },
   "outputs": [
    {
     "data": {
      "image/png": "[encoded data removed]",
      "text/plain": [
       "Plot with title \"Histogram of Data$RxTime\""
      ]
     },
     "metadata": {
      "image/png": {
       "height": 420,
       "width": 420
      }
     },
     "output_type": "display_data"
    }
   ],
   "source": [
    "hist(Data$RxTime)"
   ]
  },
  {
   "cell_type": "markdown",
   "id": "a0267b97-4479-482c-b565-5a4867022c17",
   "metadata": {},
   "source": [
    "## Costum Breaks for Histogram"
   ]
  },
  {
   "cell_type": "code",
   "execution_count": 24,
   "id": "0fc662bc-5353-499b-80f0-eb1f80935829",
   "metadata": {},
   "outputs": [
    {
     "data": {
      "image/png": "[encoded data removed]",
      "text/plain": [
       "Plot with title \"Histogram of Data$RxTime\""
      ]
     },
     "metadata": {
      "image/png": {
       "height": 420,
       "width": 420
      }
     },
     "output_type": "display_data"
    }
   ],
   "source": [
    "hist(Data$RxTime, breaks = 50)"
   ]
  },
  {
   "cell_type": "markdown",
   "id": "5e6d08f5-7142-4f64-817a-6ba8290adb3e",
   "metadata": {},
   "source": [
    "## Putting a Curve on Histogram"
   ]
  },
  {
   "cell_type": "code",
   "execution_count": 32,
   "id": "ce13d0ae-69e7-48db-82fe-c659abf0db7b",
   "metadata": {
    "scrolled": true
   },
   "outputs": [
    {
     "data": {
      "image/png": "[encoded data removed]",
      "text/plain": [
       "Plot with title \"Histogram of Data$RxTime\""
      ]
     },
     "metadata": {
      "image/png": {
       "height": 420,
       "width": 420
      }
     },
     "output_type": "display_data"
    }
   ],
   "source": [
    "hist(Data$RxTime, breaks = 50, probability = TRUE)\n",
    "lines(density(Data$RxTime))\n"
   ]
  },
  {
   "cell_type": "markdown",
   "id": "25587046-b281-4e7f-bbdd-33b6a4d3a129",
   "metadata": {},
   "source": [
    "## Another approach to fit a curve on the historgram."
   ]
  },
  {
   "cell_type": "markdown",
   "id": "3e9fddac-d1cb-4680-9940-afeb0e72bea5",
   "metadata": {},
   "source": [
    "## Sort RxTime"
   ]
  },
  {
   "cell_type": "code",
   "execution_count": 48,
   "id": "36808574-72ca-4df6-a6b3-ae437532895f",
   "metadata": {
    "scrolled": true
   },
   "outputs": [],
   "source": [
    "Data$RxTime_sorted = sort(Data$RxTime)"
   ]
  },
  {
   "cell_type": "code",
   "execution_count": 50,
   "id": "f2e98bf3-23bf-4d2c-9722-203d6af93e15",
   "metadata": {},
   "outputs": [
    {
     "data": {
      "text/html": [
       "60.26"
      ],
      "text/latex": [
       "60.26"
      ],
      "text/markdown": [
       "60.26"
      ],
      "text/plain": [
       "[1] 60.26"
      ]
     },
     "metadata": {},
     "output_type": "display_data"
    },
    {
     "data": {
      "text/html": [
       "13.0106362457181"
      ],
      "text/latex": [
       "13.0106362457181"
      ],
      "text/markdown": [
       "13.0106362457181"
      ],
      "text/plain": [
       "[1] 13.01064"
      ]
     },
     "metadata": {},
     "output_type": "display_data"
    }
   ],
   "source": [
    "meanRT = mean(Data$RxTime_sorted)\n",
    "sdRT = sd(Data$RxTime_sorted)\n",
    "meanRT\n",
    "sdRT"
   ]
  },
  {
   "cell_type": "code",
   "execution_count": 51,
   "id": "e7d1c778-6244-4745-9616-7c7bb8104eeb",
   "metadata": {},
   "outputs": [],
   "source": [
    "yn = dnorm(Data$RxTime_sorted, mean = meanRT, sd = sdRT)"
   ]
  },
  {
   "cell_type": "code",
   "execution_count": 56,
   "id": "c87c9919-d2a5-4fd6-90be-704313c8079f",
   "metadata": {
    "scrolled": true
   },
   "outputs": [
    {
     "data": {
      "image/png": "[encoded data removed]",
      "text/plain": [
       "Plot with title \"Histogram of Data$RxTime\""
      ]
     },
     "metadata": {
      "image/png": {
       "height": 420,
       "width": 420
      }
     },
     "output_type": "display_data"
    }
   ],
   "source": [
    "hist(Data$RxTime, breaks = 50, probability = TRUE)\n",
    "lines(Data$RxTime_sorted, yn, col = \"red\")\n",
    "lines(density(Data$RxTime), col = \"blue\")"
   ]
  },
  {
   "cell_type": "markdown",
   "id": "2a9ecc72-1fb1-464a-9842-03cdadc0cebc",
   "metadata": {},
   "source": [
    "# Draw Box plot"
   ]
  },
  {
   "cell_type": "code",
   "execution_count": 59,
   "id": "737d906b-09ac-4976-8d8d-68224d7136cc",
   "metadata": {
    "scrolled": true
   },
   "outputs": [
    {
     "data": {
      "image/png": "[encoded data removed]",
      "text/plain": [
       "plot without title"
      ]
     },
     "metadata": {
      "image/png": {
       "height": 420,
       "width": 420
      }
     },
     "output_type": "display_data"
    }
   ],
   "source": [
    "boxplot(Data$RxTime)"
   ]
  },
  {
   "cell_type": "code",
   "execution_count": 62,
   "id": "17f4980b-4090-421c-89cd-c13e55bd2a3c",
   "metadata": {},
   "outputs": [
    {
     "data": {
      "image/png": "[encoded data removed]",
      "text/plain": [
       "plot without title"
      ]
     },
     "metadata": {
      "image/png": {
       "height": 420,
       "width": 420
      }
     },
     "output_type": "display_data"
    }
   ],
   "source": [
    "boxplot(RxTime ~ NStim, data = Data)"
   ]
  },
  {
   "cell_type": "markdown",
   "id": "d9e937cb-9519-41e0-9fdb-97e1bdfee634",
   "metadata": {},
   "source": [
    "## Installing ggpubr library to get access to boxplot funtion"
   ]
  },
  {
   "cell_type": "code",
   "execution_count": 66,
   "id": "3fbed9cc-63ef-4fab-bdf6-2f53bb15ae26",
   "metadata": {
    "scrolled": true
   },
   "outputs": [
    {
     "name": "stderr",
     "output_type": "stream",
     "text": [
      "Installing package into 'C:/Users/Saeed/AppData/Local/R/win-library/4.3'\n",
      "(as 'lib' is unspecified)\n",
      "\n",
      "also installing the dependencies 'gtable', 'isoband', 'ggplot2', 'ggrepel', 'ggsci', 'cowplot', 'ggsignif', 'gridExtra', 'polynom'\n",
      "\n",
      "\n"
     ]
    },
    {
     "name": "stdout",
     "output_type": "stream",
     "text": [
      "package 'gtable' successfully unpacked and MD5 sums checked\n",
      "package 'isoband' successfully unpacked and MD5 sums checked\n",
      "package 'ggplot2' successfully unpacked and MD5 sums checked\n",
      "package 'ggrepel' successfully unpacked and MD5 sums checked\n",
      "package 'ggsci' successfully unpacked and MD5 sums checked\n",
      "package 'cowplot' successfully unpacked and MD5 sums checked\n",
      "package 'ggsignif' successfully unpacked and MD5 sums checked\n",
      "package 'gridExtra' successfully unpacked and MD5 sums checked\n",
      "package 'polynom' successfully unpacked and MD5 sums checked\n",
      "package 'ggpubr' successfully unpacked and MD5 sums checked\n",
      "\n",
      "The downloaded binary packages are in\n",
      "\tC:\\Users\\Saeed\\AppData\\Local\\Temp\\RtmpuMRrru\\downloaded_packages\n"
     ]
    }
   ],
   "source": [
    "install.packages(\"ggpubr\")"
   ]
  },
  {
   "cell_type": "code",
   "execution_count": 68,
   "id": "f77242a2-e576-4b34-be29-7cdb5063f1a6",
   "metadata": {},
   "outputs": [],
   "source": [
    "library(ggpubr)"
   ]
  },
  {
   "cell_type": "markdown",
   "id": "10d4fea7-56e5-4a28-b2be-f54ffc77d706",
   "metadata": {},
   "source": [
    "# Box Plot"
   ]
  },
  {
   "cell_type": "code",
   "execution_count": 69,
   "id": "2dc6b56b-83b9-4f72-9a4e-02b99c37db31",
   "metadata": {},
   "outputs": [
    {
     "data": {
      "image/png": "[encoded data removed]",
      "text/plain": [
       "plot without title"
      ]
     },
     "metadata": {
      "image/png": {
       "height": 420,
       "width": 420
      }
     },
     "output_type": "display_data"
    }
   ],
   "source": [
    "ggboxplot(Data, x = \"NStim\", y = \"RxTime\")"
   ]
  },
  {
   "cell_type": "markdown",
   "id": "f5aacc29-8f1b-4084-b583-9007aebe4a5b",
   "metadata": {},
   "source": [
    "# QQ Plot"
   ]
  },
  {
   "cell_type": "code",
   "execution_count": 72,
   "id": "260d0182-2a95-4650-89c1-67171fb18874",
   "metadata": {},
   "outputs": [
    {
     "data": {
      "image/png": "[encoded data removed]",
      "text/plain": [
       "plot without title"
      ]
     },
     "metadata": {
      "image/png": {
       "height": 420,
       "width": 420
      }
     },
     "output_type": "display_data"
    }
   ],
   "source": [
    "ggqqplot(Data, \"RxTime\", facet.by = \"NStim\" )"
   ]
  }
 ],
 "metadata": {
  "kernelspec": {
   "display_name": "R",
   "language": "R",
   "name": "ir"
  },
  "language_info": {
   "codemirror_mode": "r",
   "file_extension": ".r",
   "mimetype": "text/x-r-source",
   "name": "R",
   "pygments_lexer": "r",
   "version": "4.3.2"
  }
 },
 "nbformat": 4,
 "nbformat_minor": 5
}
