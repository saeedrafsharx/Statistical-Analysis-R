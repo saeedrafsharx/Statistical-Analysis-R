{
 "cells": [
  {
   "cell_type": "code",
   "execution_count": 33,
   "id": "ee35f8d0-e865-464f-bc4f-48bad88f8c26",
   "metadata": {},
   "outputs": [],
   "source": [
    "x = seq(from = 0, to = 20, by = 0.1)\n",
    "ygamma = dgamma(x, shape = 2, scale =2) * 100"
   ]
  },
  {
   "cell_type": "code",
   "execution_count": 34,
   "id": "00ea26a4-39a6-452e-a8be-11ef4a7884d6",
   "metadata": {},
   "outputs": [],
   "source": [
    "y_norm = vector(length = 200)"
   ]
  },
  {
   "cell_type": "code",
   "execution_count": 35,
   "id": "3629b9af-90ef-43c3-908a-f96eab0b398a",
   "metadata": {},
   "outputs": [],
   "source": [
    "for (i in 1:201){ y_norm[i] = rnorm(n = 1, mean = ygamma[i], sd = 2) }"
   ]
  },
  {
   "cell_type": "code",
   "execution_count": 36,
   "id": "7d5d00e9-31a6-4c80-893b-a66bb9b189ee",
   "metadata": {},
   "outputs": [],
   "source": [
    "data = data.frame(x, y_norm)"
   ]
  },
  {
   "cell_type": "code",
   "execution_count": 37,
   "id": "70bbb2b5-5626-43ea-99bb-20a2efef9d4f",
   "metadata": {},
   "outputs": [
    {
     "data": {
      "image/png": "[encoded data removed]",
      "text/plain": [
       "plot without title"
      ]
     },
     "metadata": {
      "image/png": {
       "height": 420,
       "width": 420
      }
     },
     "output_type": "display_data"
    }
   ],
   "source": [
    "plot(data)"
   ]
  },
  {
   "cell_type": "code",
   "execution_count": 54,
   "id": "4b2fa26a-d1ee-4fee-af4f-69a81e029e19",
   "metadata": {},
   "outputs": [
    {
     "data": {
      "text/html": [
       "<table class=\"dataframe\">\n",
       "<caption>A data.frame: 201 × 2</caption>\n",
       "<thead>\n",
       "\t<tr><th scope=col>x</th><th scope=col>y_norm</th></tr>\n",
       "\t<tr><th scope=col>&lt;dbl&gt;</th><th scope=col>&lt;dbl&gt;</th></tr>\n",
       "</thead>\n",
       "<tbody>\n",
       "\t<tr><td>0.0</td><td> 1.50848009</td></tr>\n",
       "\t<tr><td>0.1</td><td> 0.01245339</td></tr>\n",
       "\t<tr><td>0.2</td><td> 3.98326045</td></tr>\n",
       "\t<tr><td>0.3</td><td> 9.60831444</td></tr>\n",
       "\t<tr><td>0.4</td><td> 6.89467576</td></tr>\n",
       "\t<tr><td>0.5</td><td> 8.43289630</td></tr>\n",
       "\t<tr><td>0.6</td><td> 7.63645674</td></tr>\n",
       "\t<tr><td>0.7</td><td>10.43343804</td></tr>\n",
       "\t<tr><td>0.8</td><td>16.95498328</td></tr>\n",
       "\t<tr><td>0.9</td><td>14.60154712</td></tr>\n",
       "\t<tr><td>1.0</td><td>15.18802182</td></tr>\n",
       "\t<tr><td>1.1</td><td>19.93501958</td></tr>\n",
       "\t<tr><td>1.2</td><td>15.83068543</td></tr>\n",
       "\t<tr><td>1.3</td><td>15.44845331</td></tr>\n",
       "\t<tr><td>1.4</td><td>16.05303000</td></tr>\n",
       "\t<tr><td>1.5</td><td>14.67332659</td></tr>\n",
       "\t<tr><td>1.6</td><td>20.20651262</td></tr>\n",
       "\t<tr><td>1.7</td><td>15.69745999</td></tr>\n",
       "\t<tr><td>1.8</td><td>20.25044166</td></tr>\n",
       "\t<tr><td>1.9</td><td>19.21680300</td></tr>\n",
       "\t<tr><td>2.0</td><td>18.17168055</td></tr>\n",
       "\t<tr><td>2.1</td><td>18.16045203</td></tr>\n",
       "\t<tr><td>2.2</td><td>21.20292884</td></tr>\n",
       "\t<tr><td>2.3</td><td>18.87247524</td></tr>\n",
       "\t<tr><td>2.4</td><td>20.25117297</td></tr>\n",
       "\t<tr><td>2.5</td><td>12.57830108</td></tr>\n",
       "\t<tr><td>2.6</td><td>13.38078569</td></tr>\n",
       "\t<tr><td>2.7</td><td>18.91832168</td></tr>\n",
       "\t<tr><td>2.8</td><td>16.62449106</td></tr>\n",
       "\t<tr><td>2.9</td><td>14.59196570</td></tr>\n",
       "\t<tr><td>⋮</td><td>⋮</td></tr>\n",
       "\t<tr><td>17.1</td><td>-5.50556999</td></tr>\n",
       "\t<tr><td>17.2</td><td> 0.14523850</td></tr>\n",
       "\t<tr><td>17.3</td><td> 1.59419631</td></tr>\n",
       "\t<tr><td>17.4</td><td>-0.64662344</td></tr>\n",
       "\t<tr><td>17.5</td><td> 1.86728964</td></tr>\n",
       "\t<tr><td>17.6</td><td> 0.19675713</td></tr>\n",
       "\t<tr><td>17.7</td><td> 3.27797387</td></tr>\n",
       "\t<tr><td>17.8</td><td> 1.19563105</td></tr>\n",
       "\t<tr><td>17.9</td><td>-1.20806956</td></tr>\n",
       "\t<tr><td>18.0</td><td> 2.86391311</td></tr>\n",
       "\t<tr><td>18.1</td><td>-0.62387220</td></tr>\n",
       "\t<tr><td>18.2</td><td> 1.05195756</td></tr>\n",
       "\t<tr><td>18.3</td><td> 1.64304759</td></tr>\n",
       "\t<tr><td>18.4</td><td> 0.07785441</td></tr>\n",
       "\t<tr><td>18.5</td><td> 0.99033175</td></tr>\n",
       "\t<tr><td>18.6</td><td> 1.94390874</td></tr>\n",
       "\t<tr><td>18.7</td><td> 2.11976344</td></tr>\n",
       "\t<tr><td>18.8</td><td>-1.64698167</td></tr>\n",
       "\t<tr><td>18.9</td><td> 3.31767444</td></tr>\n",
       "\t<tr><td>19.0</td><td> 0.71398157</td></tr>\n",
       "\t<tr><td>19.1</td><td>-2.91444307</td></tr>\n",
       "\t<tr><td>19.2</td><td>-0.28664936</td></tr>\n",
       "\t<tr><td>19.3</td><td> 1.18054439</td></tr>\n",
       "\t<tr><td>19.4</td><td> 2.37708497</td></tr>\n",
       "\t<tr><td>19.5</td><td> 0.99777922</td></tr>\n",
       "\t<tr><td>19.6</td><td> 0.16972803</td></tr>\n",
       "\t<tr><td>19.7</td><td> 3.33005963</td></tr>\n",
       "\t<tr><td>19.8</td><td>-1.09070370</td></tr>\n",
       "\t<tr><td>19.9</td><td>-1.93815627</td></tr>\n",
       "\t<tr><td>20.0</td><td> 3.77349330</td></tr>\n",
       "</tbody>\n",
       "</table>\n"
      ],
      "text/latex": [
       "A data.frame: 201 × 2\n",
       "\\begin{tabular}{ll}\n",
       " x & y\\_norm\\\\\n",
       " <dbl> & <dbl>\\\\\n",
       "\\hline\n",
       "\t 0.0 &  1.50848009\\\\\n",
       "\t 0.1 &  0.01245339\\\\\n",
       "\t 0.2 &  3.98326045\\\\\n",
       "\t 0.3 &  9.60831444\\\\\n",
       "\t 0.4 &  6.89467576\\\\\n",
       "\t 0.5 &  8.43289630\\\\\n",
       "\t 0.6 &  7.63645674\\\\\n",
       "\t 0.7 & 10.43343804\\\\\n",
       "\t 0.8 & 16.95498328\\\\\n",
       "\t 0.9 & 14.60154712\\\\\n",
       "\t 1.0 & 15.18802182\\\\\n",
       "\t 1.1 & 19.93501958\\\\\n",
       "\t 1.2 & 15.83068543\\\\\n",
       "\t 1.3 & 15.44845331\\\\\n",
       "\t 1.4 & 16.05303000\\\\\n",
       "\t 1.5 & 14.67332659\\\\\n",
       "\t 1.6 & 20.20651262\\\\\n",
       "\t 1.7 & 15.69745999\\\\\n",
       "\t 1.8 & 20.25044166\\\\\n",
       "\t 1.9 & 19.21680300\\\\\n",
       "\t 2.0 & 18.17168055\\\\\n",
       "\t 2.1 & 18.16045203\\\\\n",
       "\t 2.2 & 21.20292884\\\\\n",
       "\t 2.3 & 18.87247524\\\\\n",
       "\t 2.4 & 20.25117297\\\\\n",
       "\t 2.5 & 12.57830108\\\\\n",
       "\t 2.6 & 13.38078569\\\\\n",
       "\t 2.7 & 18.91832168\\\\\n",
       "\t 2.8 & 16.62449106\\\\\n",
       "\t 2.9 & 14.59196570\\\\\n",
       "\t ⋮ & ⋮\\\\\n",
       "\t 17.1 & -5.50556999\\\\\n",
       "\t 17.2 &  0.14523850\\\\\n",
       "\t 17.3 &  1.59419631\\\\\n",
       "\t 17.4 & -0.64662344\\\\\n",
       "\t 17.5 &  1.86728964\\\\\n",
       "\t 17.6 &  0.19675713\\\\\n",
       "\t 17.7 &  3.27797387\\\\\n",
       "\t 17.8 &  1.19563105\\\\\n",
       "\t 17.9 & -1.20806956\\\\\n",
       "\t 18.0 &  2.86391311\\\\\n",
       "\t 18.1 & -0.62387220\\\\\n",
       "\t 18.2 &  1.05195756\\\\\n",
       "\t 18.3 &  1.64304759\\\\\n",
       "\t 18.4 &  0.07785441\\\\\n",
       "\t 18.5 &  0.99033175\\\\\n",
       "\t 18.6 &  1.94390874\\\\\n",
       "\t 18.7 &  2.11976344\\\\\n",
       "\t 18.8 & -1.64698167\\\\\n",
       "\t 18.9 &  3.31767444\\\\\n",
       "\t 19.0 &  0.71398157\\\\\n",
       "\t 19.1 & -2.91444307\\\\\n",
       "\t 19.2 & -0.28664936\\\\\n",
       "\t 19.3 &  1.18054439\\\\\n",
       "\t 19.4 &  2.37708497\\\\\n",
       "\t 19.5 &  0.99777922\\\\\n",
       "\t 19.6 &  0.16972803\\\\\n",
       "\t 19.7 &  3.33005963\\\\\n",
       "\t 19.8 & -1.09070370\\\\\n",
       "\t 19.9 & -1.93815627\\\\\n",
       "\t 20.0 &  3.77349330\\\\\n",
       "\\end{tabular}\n"
      ],
      "text/markdown": [
       "\n",
       "A data.frame: 201 × 2\n",
       "\n",
       "| x &lt;dbl&gt; | y_norm &lt;dbl&gt; |\n",
       "|---|---|\n",
       "| 0.0 |  1.50848009 |\n",
       "| 0.1 |  0.01245339 |\n",
       "| 0.2 |  3.98326045 |\n",
       "| 0.3 |  9.60831444 |\n",
       "| 0.4 |  6.89467576 |\n",
       "| 0.5 |  8.43289630 |\n",
       "| 0.6 |  7.63645674 |\n",
       "| 0.7 | 10.43343804 |\n",
       "| 0.8 | 16.95498328 |\n",
       "| 0.9 | 14.60154712 |\n",
       "| 1.0 | 15.18802182 |\n",
       "| 1.1 | 19.93501958 |\n",
       "| 1.2 | 15.83068543 |\n",
       "| 1.3 | 15.44845331 |\n",
       "| 1.4 | 16.05303000 |\n",
       "| 1.5 | 14.67332659 |\n",
       "| 1.6 | 20.20651262 |\n",
       "| 1.7 | 15.69745999 |\n",
       "| 1.8 | 20.25044166 |\n",
       "| 1.9 | 19.21680300 |\n",
       "| 2.0 | 18.17168055 |\n",
       "| 2.1 | 18.16045203 |\n",
       "| 2.2 | 21.20292884 |\n",
       "| 2.3 | 18.87247524 |\n",
       "| 2.4 | 20.25117297 |\n",
       "| 2.5 | 12.57830108 |\n",
       "| 2.6 | 13.38078569 |\n",
       "| 2.7 | 18.91832168 |\n",
       "| 2.8 | 16.62449106 |\n",
       "| 2.9 | 14.59196570 |\n",
       "| ⋮ | ⋮ |\n",
       "| 17.1 | -5.50556999 |\n",
       "| 17.2 |  0.14523850 |\n",
       "| 17.3 |  1.59419631 |\n",
       "| 17.4 | -0.64662344 |\n",
       "| 17.5 |  1.86728964 |\n",
       "| 17.6 |  0.19675713 |\n",
       "| 17.7 |  3.27797387 |\n",
       "| 17.8 |  1.19563105 |\n",
       "| 17.9 | -1.20806956 |\n",
       "| 18.0 |  2.86391311 |\n",
       "| 18.1 | -0.62387220 |\n",
       "| 18.2 |  1.05195756 |\n",
       "| 18.3 |  1.64304759 |\n",
       "| 18.4 |  0.07785441 |\n",
       "| 18.5 |  0.99033175 |\n",
       "| 18.6 |  1.94390874 |\n",
       "| 18.7 |  2.11976344 |\n",
       "| 18.8 | -1.64698167 |\n",
       "| 18.9 |  3.31767444 |\n",
       "| 19.0 |  0.71398157 |\n",
       "| 19.1 | -2.91444307 |\n",
       "| 19.2 | -0.28664936 |\n",
       "| 19.3 |  1.18054439 |\n",
       "| 19.4 |  2.37708497 |\n",
       "| 19.5 |  0.99777922 |\n",
       "| 19.6 |  0.16972803 |\n",
       "| 19.7 |  3.33005963 |\n",
       "| 19.8 | -1.09070370 |\n",
       "| 19.9 | -1.93815627 |\n",
       "| 20.0 |  3.77349330 |\n",
       "\n"
      ],
      "text/plain": [
       "    x    y_norm     \n",
       "1   0.0   1.50848009\n",
       "2   0.1   0.01245339\n",
       "3   0.2   3.98326045\n",
       "4   0.3   9.60831444\n",
       "5   0.4   6.89467576\n",
       "6   0.5   8.43289630\n",
       "7   0.6   7.63645674\n",
       "8   0.7  10.43343804\n",
       "9   0.8  16.95498328\n",
       "10  0.9  14.60154712\n",
       "11  1.0  15.18802182\n",
       "12  1.1  19.93501958\n",
       "13  1.2  15.83068543\n",
       "14  1.3  15.44845331\n",
       "15  1.4  16.05303000\n",
       "16  1.5  14.67332659\n",
       "17  1.6  20.20651262\n",
       "18  1.7  15.69745999\n",
       "19  1.8  20.25044166\n",
       "20  1.9  19.21680300\n",
       "21  2.0  18.17168055\n",
       "22  2.1  18.16045203\n",
       "23  2.2  21.20292884\n",
       "24  2.3  18.87247524\n",
       "25  2.4  20.25117297\n",
       "26  2.5  12.57830108\n",
       "27  2.6  13.38078569\n",
       "28  2.7  18.91832168\n",
       "29  2.8  16.62449106\n",
       "30  2.9  14.59196570\n",
       "⋮   ⋮    ⋮          \n",
       "172 17.1 -5.50556999\n",
       "173 17.2  0.14523850\n",
       "174 17.3  1.59419631\n",
       "175 17.4 -0.64662344\n",
       "176 17.5  1.86728964\n",
       "177 17.6  0.19675713\n",
       "178 17.7  3.27797387\n",
       "179 17.8  1.19563105\n",
       "180 17.9 -1.20806956\n",
       "181 18.0  2.86391311\n",
       "182 18.1 -0.62387220\n",
       "183 18.2  1.05195756\n",
       "184 18.3  1.64304759\n",
       "185 18.4  0.07785441\n",
       "186 18.5  0.99033175\n",
       "187 18.6  1.94390874\n",
       "188 18.7  2.11976344\n",
       "189 18.8 -1.64698167\n",
       "190 18.9  3.31767444\n",
       "191 19.0  0.71398157\n",
       "192 19.1 -2.91444307\n",
       "193 19.2 -0.28664936\n",
       "194 19.3  1.18054439\n",
       "195 19.4  2.37708497\n",
       "196 19.5  0.99777922\n",
       "197 19.6  0.16972803\n",
       "198 19.7  3.33005963\n",
       "199 19.8 -1.09070370\n",
       "200 19.9 -1.93815627\n",
       "201 20.0  3.77349330"
      ]
     },
     "metadata": {},
     "output_type": "display_data"
    }
   ],
   "source": [
    "data"
   ]
  },
  {
   "cell_type": "markdown",
   "id": "a93e6170-cc68-414e-bac5-4dacd93f1f2f",
   "metadata": {},
   "source": [
    "# linear regression = lowess() or loess(), difference is second one can fit a curve in each window"
   ]
  },
  {
   "cell_type": "code",
   "execution_count": 45,
   "id": "a6cd5593-616b-40c2-b73c-72205c4a3855",
   "metadata": {},
   "outputs": [],
   "source": [
    "nlm = lowess(data$y_norm ~ data$x, f=1/6)"
   ]
  },
  {
   "cell_type": "code",
   "execution_count": 46,
   "id": "89260192-c2c5-4510-afc7-067d1a5c85ff",
   "metadata": {},
   "outputs": [
    {
     "data": {
      "image/png": "[encoded data removed]",
      "text/plain": [
       "plot without title"
      ]
     },
     "metadata": {
      "image/png": {
       "height": 420,
       "width": 420
      }
     },
     "output_type": "display_data"
    }
   ],
   "source": [
    "plot(data)\n",
    "lines(x, nlm$y, col = \"red\", lwd = 3)"
   ]
  },
  {
   "cell_type": "code",
   "execution_count": 48,
   "id": "1684b4b4-d26a-4499-91ed-9bf322ae43ae",
   "metadata": {},
   "outputs": [],
   "source": [
    "nlm2 = loess(data$y_norm ~ data$x, span = 1/5, degree = 2, family = \"symmetric\", iteration = 4)"
   ]
  },
  {
   "cell_type": "code",
   "execution_count": 50,
   "id": "207fc3a1-5f4c-4275-8105-2435782ec12f",
   "metadata": {},
   "outputs": [],
   "source": [
    "pl = predict(nlm2)"
   ]
  },
  {
   "cell_type": "code",
   "execution_count": 53,
   "id": "612607e7-35fe-4536-bced-d4c98c03a00c",
   "metadata": {},
   "outputs": [
    {
     "data": {
      "image/png": "[encoded data removed]",
      "text/plain": [
       "plot without title"
      ]
     },
     "metadata": {
      "image/png": {
       "height": 420,
       "width": 420
      }
     },
     "output_type": "display_data"
    }
   ],
   "source": [
    "plot(data)\n",
    "lines(x, nlm2$fit, lwd = 3)\n",
    "lines(x, nlm$y, col = \"red\", lwd = 3)"
   ]
  },
  {
   "cell_type": "code",
   "execution_count": null,
   "id": "038a2dea-6925-44db-83b6-35bd4ebaf582",
   "metadata": {},
   "outputs": [],
   "source": []
  }
 ],
 "metadata": {
  "kernelspec": {
   "display_name": "R",
   "language": "R",
   "name": "ir"
  },
  "language_info": {
   "codemirror_mode": "r",
   "file_extension": ".r",
   "mimetype": "text/x-r-source",
   "name": "R",
   "pygments_lexer": "r",
   "version": "4.3.2"
  }
 },
 "nbformat": 4,
 "nbformat_minor": 5
}
