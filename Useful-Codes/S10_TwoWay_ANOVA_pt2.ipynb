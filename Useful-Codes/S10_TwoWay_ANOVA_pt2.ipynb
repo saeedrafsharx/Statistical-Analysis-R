{
 "cells": [
  {
   "cell_type": "code",
   "execution_count": 3,
   "id": "64b49a9a-2db4-4a04-a855-6719dc09ad69",
   "metadata": {},
   "outputs": [],
   "source": [
    "library(datarium)"
   ]
  },
  {
   "cell_type": "code",
   "execution_count": 3,
   "id": "a94d0fc9-3c04-4ed0-aef9-f6900acee0f1",
   "metadata": {},
   "outputs": [],
   "source": [
    "data(\"headache\", package = \"datarium\")"
   ]
  },
  {
   "cell_type": "code",
   "execution_count": 4,
   "id": "b2bca0a1-ecc2-4c38-b9d1-c6f8e69d961e",
   "metadata": {},
   "outputs": [
    {
     "data": {
      "text/html": [
       "<table class=\"dataframe\">\n",
       "<caption>A tibble: 72 × 5</caption>\n",
       "<thead>\n",
       "\t<tr><th scope=col>id</th><th scope=col>gender</th><th scope=col>risk</th><th scope=col>treatment</th><th scope=col>pain_score</th></tr>\n",
       "\t<tr><th scope=col>&lt;int&gt;</th><th scope=col>&lt;fct&gt;</th><th scope=col>&lt;fct&gt;</th><th scope=col>&lt;fct&gt;</th><th scope=col>&lt;dbl&gt;</th></tr>\n",
       "</thead>\n",
       "<tbody>\n",
       "\t<tr><td> 1</td><td>male</td><td>low </td><td>X</td><td> 79.31170</td></tr>\n",
       "\t<tr><td> 2</td><td>male</td><td>low </td><td>X</td><td> 76.84340</td></tr>\n",
       "\t<tr><td> 3</td><td>male</td><td>low </td><td>X</td><td> 70.83242</td></tr>\n",
       "\t<tr><td> 4</td><td>male</td><td>low </td><td>X</td><td> 81.16394</td></tr>\n",
       "\t<tr><td> 5</td><td>male</td><td>low </td><td>X</td><td> 75.05221</td></tr>\n",
       "\t<tr><td> 6</td><td>male</td><td>low </td><td>X</td><td> 73.10703</td></tr>\n",
       "\t<tr><td> 7</td><td>male</td><td>low </td><td>Y</td><td> 68.17993</td></tr>\n",
       "\t<tr><td> 8</td><td>male</td><td>low </td><td>Y</td><td> 80.67716</td></tr>\n",
       "\t<tr><td> 9</td><td>male</td><td>low </td><td>Y</td><td> 75.33002</td></tr>\n",
       "\t<tr><td>10</td><td>male</td><td>low </td><td>Y</td><td> 73.44091</td></tr>\n",
       "\t<tr><td>11</td><td>male</td><td>low </td><td>Y</td><td> 73.28105</td></tr>\n",
       "\t<tr><td>12</td><td>male</td><td>low </td><td>Y</td><td> 67.92356</td></tr>\n",
       "\t<tr><td>13</td><td>male</td><td>low </td><td>Z</td><td> 75.04887</td></tr>\n",
       "\t<tr><td>14</td><td>male</td><td>low </td><td>Z</td><td> 68.29942</td></tr>\n",
       "\t<tr><td>15</td><td>male</td><td>low </td><td>Z</td><td> 69.39180</td></tr>\n",
       "\t<tr><td>16</td><td>male</td><td>low </td><td>Z</td><td> 78.91063</td></tr>\n",
       "\t<tr><td>17</td><td>male</td><td>low </td><td>Z</td><td> 80.43278</td></tr>\n",
       "\t<tr><td>18</td><td>male</td><td>low </td><td>Z</td><td> 74.65168</td></tr>\n",
       "\t<tr><td>19</td><td>male</td><td>high</td><td>X</td><td> 94.08629</td></tr>\n",
       "\t<tr><td>20</td><td>male</td><td>high</td><td>X</td><td>100.00000</td></tr>\n",
       "\t<tr><td>21</td><td>male</td><td>high</td><td>X</td><td> 92.69871</td></tr>\n",
       "\t<tr><td>22</td><td>male</td><td>high</td><td>X</td><td> 95.71058</td></tr>\n",
       "\t<tr><td>23</td><td>male</td><td>high</td><td>X</td><td> 86.29371</td></tr>\n",
       "\t<tr><td>24</td><td>male</td><td>high</td><td>X</td><td> 87.64380</td></tr>\n",
       "\t<tr><td>25</td><td>male</td><td>high</td><td>Y</td><td> 78.57556</td></tr>\n",
       "\t<tr><td>26</td><td>male</td><td>high</td><td>Y</td><td> 82.24019</td></tr>\n",
       "\t<tr><td>27</td><td>male</td><td>high</td><td>Y</td><td> 84.44975</td></tr>\n",
       "\t<tr><td>28</td><td>male</td><td>high</td><td>Y</td><td> 77.52446</td></tr>\n",
       "\t<tr><td>29</td><td>male</td><td>high</td><td>Y</td><td> 91.17852</td></tr>\n",
       "\t<tr><td>30</td><td>male</td><td>high</td><td>Y</td><td> 80.08078</td></tr>\n",
       "\t<tr><td>⋮</td><td>⋮</td><td>⋮</td><td>⋮</td><td>⋮</td></tr>\n",
       "\t<tr><td>43</td><td>female</td><td>low </td><td>Y</td><td>70.08107</td></tr>\n",
       "\t<tr><td>44</td><td>female</td><td>low </td><td>Y</td><td>63.73262</td></tr>\n",
       "\t<tr><td>45</td><td>female</td><td>low </td><td>Y</td><td>68.51391</td></tr>\n",
       "\t<tr><td>46</td><td>female</td><td>low </td><td>Y</td><td>74.74600</td></tr>\n",
       "\t<tr><td>47</td><td>female</td><td>low </td><td>Y</td><td>68.95398</td></tr>\n",
       "\t<tr><td>48</td><td>female</td><td>low </td><td>Y</td><td>64.14397</td></tr>\n",
       "\t<tr><td>49</td><td>female</td><td>low </td><td>Z</td><td>69.01734</td></tr>\n",
       "\t<tr><td>50</td><td>female</td><td>low </td><td>Z</td><td>72.14142</td></tr>\n",
       "\t<tr><td>51</td><td>female</td><td>low </td><td>Z</td><td>65.44941</td></tr>\n",
       "\t<tr><td>52</td><td>female</td><td>low </td><td>Z</td><td>68.81561</td></tr>\n",
       "\t<tr><td>53</td><td>female</td><td>low </td><td>Z</td><td>73.09633</td></tr>\n",
       "\t<tr><td>54</td><td>female</td><td>low </td><td>Z</td><td>70.15724</td></tr>\n",
       "\t<tr><td>55</td><td>female</td><td>high</td><td>X</td><td>81.46978</td></tr>\n",
       "\t<tr><td>56</td><td>female</td><td>high</td><td>X</td><td>82.65706</td></tr>\n",
       "\t<tr><td>57</td><td>female</td><td>high</td><td>X</td><td>68.36018</td></tr>\n",
       "\t<tr><td>58</td><td>female</td><td>high</td><td>X</td><td>78.59195</td></tr>\n",
       "\t<tr><td>59</td><td>female</td><td>high</td><td>X</td><td>81.31714</td></tr>\n",
       "\t<tr><td>60</td><td>female</td><td>high</td><td>X</td><td>80.79423</td></tr>\n",
       "\t<tr><td>61</td><td>female</td><td>high</td><td>Y</td><td>84.19464</td></tr>\n",
       "\t<tr><td>62</td><td>female</td><td>high</td><td>Y</td><td>73.14439</td></tr>\n",
       "\t<tr><td>63</td><td>female</td><td>high</td><td>Y</td><td>79.50255</td></tr>\n",
       "\t<tr><td>64</td><td>female</td><td>high</td><td>Y</td><td>81.53723</td></tr>\n",
       "\t<tr><td>65</td><td>female</td><td>high</td><td>Y</td><td>82.08192</td></tr>\n",
       "\t<tr><td>66</td><td>female</td><td>high</td><td>Y</td><td>86.59109</td></tr>\n",
       "\t<tr><td>67</td><td>female</td><td>high</td><td>Z</td><td>74.98806</td></tr>\n",
       "\t<tr><td>68</td><td>female</td><td>high</td><td>Z</td><td>82.78630</td></tr>\n",
       "\t<tr><td>69</td><td>female</td><td>high</td><td>Z</td><td>81.26564</td></tr>\n",
       "\t<tr><td>70</td><td>female</td><td>high</td><td>Z</td><td>80.41955</td></tr>\n",
       "\t<tr><td>71</td><td>female</td><td>high</td><td>Z</td><td>87.14226</td></tr>\n",
       "\t<tr><td>72</td><td>female</td><td>high</td><td>Z</td><td>79.60904</td></tr>\n",
       "</tbody>\n",
       "</table>\n"
      ],
      "text/latex": [
       "A tibble: 72 × 5\n",
       "\\begin{tabular}{lllll}\n",
       " id & gender & risk & treatment & pain\\_score\\\\\n",
       " <int> & <fct> & <fct> & <fct> & <dbl>\\\\\n",
       "\\hline\n",
       "\t  1 & male & low  & X &  79.31170\\\\\n",
       "\t  2 & male & low  & X &  76.84340\\\\\n",
       "\t  3 & male & low  & X &  70.83242\\\\\n",
       "\t  4 & male & low  & X &  81.16394\\\\\n",
       "\t  5 & male & low  & X &  75.05221\\\\\n",
       "\t  6 & male & low  & X &  73.10703\\\\\n",
       "\t  7 & male & low  & Y &  68.17993\\\\\n",
       "\t  8 & male & low  & Y &  80.67716\\\\\n",
       "\t  9 & male & low  & Y &  75.33002\\\\\n",
       "\t 10 & male & low  & Y &  73.44091\\\\\n",
       "\t 11 & male & low  & Y &  73.28105\\\\\n",
       "\t 12 & male & low  & Y &  67.92356\\\\\n",
       "\t 13 & male & low  & Z &  75.04887\\\\\n",
       "\t 14 & male & low  & Z &  68.29942\\\\\n",
       "\t 15 & male & low  & Z &  69.39180\\\\\n",
       "\t 16 & male & low  & Z &  78.91063\\\\\n",
       "\t 17 & male & low  & Z &  80.43278\\\\\n",
       "\t 18 & male & low  & Z &  74.65168\\\\\n",
       "\t 19 & male & high & X &  94.08629\\\\\n",
       "\t 20 & male & high & X & 100.00000\\\\\n",
       "\t 21 & male & high & X &  92.69871\\\\\n",
       "\t 22 & male & high & X &  95.71058\\\\\n",
       "\t 23 & male & high & X &  86.29371\\\\\n",
       "\t 24 & male & high & X &  87.64380\\\\\n",
       "\t 25 & male & high & Y &  78.57556\\\\\n",
       "\t 26 & male & high & Y &  82.24019\\\\\n",
       "\t 27 & male & high & Y &  84.44975\\\\\n",
       "\t 28 & male & high & Y &  77.52446\\\\\n",
       "\t 29 & male & high & Y &  91.17852\\\\\n",
       "\t 30 & male & high & Y &  80.08078\\\\\n",
       "\t ⋮ & ⋮ & ⋮ & ⋮ & ⋮\\\\\n",
       "\t 43 & female & low  & Y & 70.08107\\\\\n",
       "\t 44 & female & low  & Y & 63.73262\\\\\n",
       "\t 45 & female & low  & Y & 68.51391\\\\\n",
       "\t 46 & female & low  & Y & 74.74600\\\\\n",
       "\t 47 & female & low  & Y & 68.95398\\\\\n",
       "\t 48 & female & low  & Y & 64.14397\\\\\n",
       "\t 49 & female & low  & Z & 69.01734\\\\\n",
       "\t 50 & female & low  & Z & 72.14142\\\\\n",
       "\t 51 & female & low  & Z & 65.44941\\\\\n",
       "\t 52 & female & low  & Z & 68.81561\\\\\n",
       "\t 53 & female & low  & Z & 73.09633\\\\\n",
       "\t 54 & female & low  & Z & 70.15724\\\\\n",
       "\t 55 & female & high & X & 81.46978\\\\\n",
       "\t 56 & female & high & X & 82.65706\\\\\n",
       "\t 57 & female & high & X & 68.36018\\\\\n",
       "\t 58 & female & high & X & 78.59195\\\\\n",
       "\t 59 & female & high & X & 81.31714\\\\\n",
       "\t 60 & female & high & X & 80.79423\\\\\n",
       "\t 61 & female & high & Y & 84.19464\\\\\n",
       "\t 62 & female & high & Y & 73.14439\\\\\n",
       "\t 63 & female & high & Y & 79.50255\\\\\n",
       "\t 64 & female & high & Y & 81.53723\\\\\n",
       "\t 65 & female & high & Y & 82.08192\\\\\n",
       "\t 66 & female & high & Y & 86.59109\\\\\n",
       "\t 67 & female & high & Z & 74.98806\\\\\n",
       "\t 68 & female & high & Z & 82.78630\\\\\n",
       "\t 69 & female & high & Z & 81.26564\\\\\n",
       "\t 70 & female & high & Z & 80.41955\\\\\n",
       "\t 71 & female & high & Z & 87.14226\\\\\n",
       "\t 72 & female & high & Z & 79.60904\\\\\n",
       "\\end{tabular}\n"
      ],
      "text/markdown": [
       "\n",
       "A tibble: 72 × 5\n",
       "\n",
       "| id &lt;int&gt; | gender &lt;fct&gt; | risk &lt;fct&gt; | treatment &lt;fct&gt; | pain_score &lt;dbl&gt; |\n",
       "|---|---|---|---|---|\n",
       "|  1 | male | low  | X |  79.31170 |\n",
       "|  2 | male | low  | X |  76.84340 |\n",
       "|  3 | male | low  | X |  70.83242 |\n",
       "|  4 | male | low  | X |  81.16394 |\n",
       "|  5 | male | low  | X |  75.05221 |\n",
       "|  6 | male | low  | X |  73.10703 |\n",
       "|  7 | male | low  | Y |  68.17993 |\n",
       "|  8 | male | low  | Y |  80.67716 |\n",
       "|  9 | male | low  | Y |  75.33002 |\n",
       "| 10 | male | low  | Y |  73.44091 |\n",
       "| 11 | male | low  | Y |  73.28105 |\n",
       "| 12 | male | low  | Y |  67.92356 |\n",
       "| 13 | male | low  | Z |  75.04887 |\n",
       "| 14 | male | low  | Z |  68.29942 |\n",
       "| 15 | male | low  | Z |  69.39180 |\n",
       "| 16 | male | low  | Z |  78.91063 |\n",
       "| 17 | male | low  | Z |  80.43278 |\n",
       "| 18 | male | low  | Z |  74.65168 |\n",
       "| 19 | male | high | X |  94.08629 |\n",
       "| 20 | male | high | X | 100.00000 |\n",
       "| 21 | male | high | X |  92.69871 |\n",
       "| 22 | male | high | X |  95.71058 |\n",
       "| 23 | male | high | X |  86.29371 |\n",
       "| 24 | male | high | X |  87.64380 |\n",
       "| 25 | male | high | Y |  78.57556 |\n",
       "| 26 | male | high | Y |  82.24019 |\n",
       "| 27 | male | high | Y |  84.44975 |\n",
       "| 28 | male | high | Y |  77.52446 |\n",
       "| 29 | male | high | Y |  91.17852 |\n",
       "| 30 | male | high | Y |  80.08078 |\n",
       "| ⋮ | ⋮ | ⋮ | ⋮ | ⋮ |\n",
       "| 43 | female | low  | Y | 70.08107 |\n",
       "| 44 | female | low  | Y | 63.73262 |\n",
       "| 45 | female | low  | Y | 68.51391 |\n",
       "| 46 | female | low  | Y | 74.74600 |\n",
       "| 47 | female | low  | Y | 68.95398 |\n",
       "| 48 | female | low  | Y | 64.14397 |\n",
       "| 49 | female | low  | Z | 69.01734 |\n",
       "| 50 | female | low  | Z | 72.14142 |\n",
       "| 51 | female | low  | Z | 65.44941 |\n",
       "| 52 | female | low  | Z | 68.81561 |\n",
       "| 53 | female | low  | Z | 73.09633 |\n",
       "| 54 | female | low  | Z | 70.15724 |\n",
       "| 55 | female | high | X | 81.46978 |\n",
       "| 56 | female | high | X | 82.65706 |\n",
       "| 57 | female | high | X | 68.36018 |\n",
       "| 58 | female | high | X | 78.59195 |\n",
       "| 59 | female | high | X | 81.31714 |\n",
       "| 60 | female | high | X | 80.79423 |\n",
       "| 61 | female | high | Y | 84.19464 |\n",
       "| 62 | female | high | Y | 73.14439 |\n",
       "| 63 | female | high | Y | 79.50255 |\n",
       "| 64 | female | high | Y | 81.53723 |\n",
       "| 65 | female | high | Y | 82.08192 |\n",
       "| 66 | female | high | Y | 86.59109 |\n",
       "| 67 | female | high | Z | 74.98806 |\n",
       "| 68 | female | high | Z | 82.78630 |\n",
       "| 69 | female | high | Z | 81.26564 |\n",
       "| 70 | female | high | Z | 80.41955 |\n",
       "| 71 | female | high | Z | 87.14226 |\n",
       "| 72 | female | high | Z | 79.60904 |\n",
       "\n"
      ],
      "text/plain": [
       "   id gender risk treatment pain_score\n",
       "1   1 male   low  X          79.31170 \n",
       "2   2 male   low  X          76.84340 \n",
       "3   3 male   low  X          70.83242 \n",
       "4   4 male   low  X          81.16394 \n",
       "5   5 male   low  X          75.05221 \n",
       "6   6 male   low  X          73.10703 \n",
       "7   7 male   low  Y          68.17993 \n",
       "8   8 male   low  Y          80.67716 \n",
       "9   9 male   low  Y          75.33002 \n",
       "10 10 male   low  Y          73.44091 \n",
       "11 11 male   low  Y          73.28105 \n",
       "12 12 male   low  Y          67.92356 \n",
       "13 13 male   low  Z          75.04887 \n",
       "14 14 male   low  Z          68.29942 \n",
       "15 15 male   low  Z          69.39180 \n",
       "16 16 male   low  Z          78.91063 \n",
       "17 17 male   low  Z          80.43278 \n",
       "18 18 male   low  Z          74.65168 \n",
       "19 19 male   high X          94.08629 \n",
       "20 20 male   high X         100.00000 \n",
       "21 21 male   high X          92.69871 \n",
       "22 22 male   high X          95.71058 \n",
       "23 23 male   high X          86.29371 \n",
       "24 24 male   high X          87.64380 \n",
       "25 25 male   high Y          78.57556 \n",
       "26 26 male   high Y          82.24019 \n",
       "27 27 male   high Y          84.44975 \n",
       "28 28 male   high Y          77.52446 \n",
       "29 29 male   high Y          91.17852 \n",
       "30 30 male   high Y          80.08078 \n",
       "⋮  ⋮  ⋮      ⋮    ⋮         ⋮         \n",
       "43 43 female low  Y         70.08107  \n",
       "44 44 female low  Y         63.73262  \n",
       "45 45 female low  Y         68.51391  \n",
       "46 46 female low  Y         74.74600  \n",
       "47 47 female low  Y         68.95398  \n",
       "48 48 female low  Y         64.14397  \n",
       "49 49 female low  Z         69.01734  \n",
       "50 50 female low  Z         72.14142  \n",
       "51 51 female low  Z         65.44941  \n",
       "52 52 female low  Z         68.81561  \n",
       "53 53 female low  Z         73.09633  \n",
       "54 54 female low  Z         70.15724  \n",
       "55 55 female high X         81.46978  \n",
       "56 56 female high X         82.65706  \n",
       "57 57 female high X         68.36018  \n",
       "58 58 female high X         78.59195  \n",
       "59 59 female high X         81.31714  \n",
       "60 60 female high X         80.79423  \n",
       "61 61 female high Y         84.19464  \n",
       "62 62 female high Y         73.14439  \n",
       "63 63 female high Y         79.50255  \n",
       "64 64 female high Y         81.53723  \n",
       "65 65 female high Y         82.08192  \n",
       "66 66 female high Y         86.59109  \n",
       "67 67 female high Z         74.98806  \n",
       "68 68 female high Z         82.78630  \n",
       "69 69 female high Z         81.26564  \n",
       "70 70 female high Z         80.41955  \n",
       "71 71 female high Z         87.14226  \n",
       "72 72 female high Z         79.60904  "
      ]
     },
     "metadata": {},
     "output_type": "display_data"
    }
   ],
   "source": [
    "headache"
   ]
  },
  {
   "cell_type": "code",
   "execution_count": 8,
   "id": "b588e22b-a92d-4b38-a55b-744bbd95220a",
   "metadata": {},
   "outputs": [],
   "source": [
    "library(rstatix)"
   ]
  },
  {
   "cell_type": "code",
   "execution_count": 10,
   "id": "4a542066-c84f-4311-832a-421091605c03",
   "metadata": {},
   "outputs": [
    {
     "data": {
      "text/html": [
       "<table class=\"dataframe\">\n",
       "<caption>A tibble: 12 × 16</caption>\n",
       "<thead>\n",
       "\t<tr><th scope=col>gender</th><th scope=col>risk</th><th scope=col>treatment</th><th scope=col>variable</th><th scope=col>n</th><th scope=col>min</th><th scope=col>max</th><th scope=col>median</th><th scope=col>q1</th><th scope=col>q3</th><th scope=col>iqr</th><th scope=col>mad</th><th scope=col>mean</th><th scope=col>sd</th><th scope=col>se</th><th scope=col>ci</th></tr>\n",
       "\t<tr><th scope=col>&lt;fct&gt;</th><th scope=col>&lt;fct&gt;</th><th scope=col>&lt;fct&gt;</th><th scope=col>&lt;fct&gt;</th><th scope=col>&lt;dbl&gt;</th><th scope=col>&lt;dbl&gt;</th><th scope=col>&lt;dbl&gt;</th><th scope=col>&lt;dbl&gt;</th><th scope=col>&lt;dbl&gt;</th><th scope=col>&lt;dbl&gt;</th><th scope=col>&lt;dbl&gt;</th><th scope=col>&lt;dbl&gt;</th><th scope=col>&lt;dbl&gt;</th><th scope=col>&lt;dbl&gt;</th><th scope=col>&lt;dbl&gt;</th><th scope=col>&lt;dbl&gt;</th></tr>\n",
       "</thead>\n",
       "<tbody>\n",
       "\t<tr><td>male  </td><td>high</td><td>X</td><td>pain_score</td><td>6</td><td>86.294</td><td>100.000</td><td>93.392</td><td>88.908</td><td>95.305</td><td>6.397</td><td>5.980</td><td>92.739</td><td>5.116</td><td>2.089</td><td>5.369</td></tr>\n",
       "\t<tr><td>male  </td><td>high</td><td>Y</td><td>pain_score</td><td>6</td><td>77.524</td><td> 91.179</td><td>81.160</td><td>78.952</td><td>83.897</td><td>4.945</td><td>4.355</td><td>82.342</td><td>5.001</td><td>2.042</td><td>5.248</td></tr>\n",
       "\t<tr><td>male  </td><td>high</td><td>Z</td><td>pain_score</td><td>6</td><td>74.420</td><td> 85.056</td><td>80.370</td><td>76.602</td><td>81.984</td><td>5.382</td><td>4.833</td><td>79.681</td><td>4.046</td><td>1.652</td><td>4.246</td></tr>\n",
       "\t<tr><td>male  </td><td>low </td><td>X</td><td>pain_score</td><td>6</td><td>70.832</td><td> 81.164</td><td>75.948</td><td>73.593</td><td>78.695</td><td>5.101</td><td>4.600</td><td>76.052</td><td>3.855</td><td>1.574</td><td>4.045</td></tr>\n",
       "\t<tr><td>male  </td><td>low </td><td>Y</td><td>pain_score</td><td>6</td><td>67.924</td><td> 80.677</td><td>73.361</td><td>69.455</td><td>74.858</td><td>5.403</td><td>5.300</td><td>73.139</td><td>4.765</td><td>1.945</td><td>5.001</td></tr>\n",
       "\t<tr><td>male  </td><td>low </td><td>Z</td><td>pain_score</td><td>6</td><td>68.299</td><td> 80.433</td><td>74.850</td><td>70.707</td><td>77.945</td><td>7.238</td><td>7.056</td><td>74.456</td><td>4.889</td><td>1.996</td><td>5.131</td></tr>\n",
       "\t<tr><td>female</td><td>high</td><td>X</td><td>pain_score</td><td>6</td><td>68.360</td><td> 82.657</td><td>81.056</td><td>79.143</td><td>81.432</td><td>2.289</td><td>1.494</td><td>78.865</td><td>5.316</td><td>2.170</td><td>5.579</td></tr>\n",
       "\t<tr><td>female</td><td>high</td><td>Y</td><td>pain_score</td><td>6</td><td>73.144</td><td> 86.591</td><td>81.810</td><td>80.011</td><td>83.666</td><td>3.655</td><td>3.478</td><td>81.175</td><td>4.619</td><td>1.886</td><td>4.848</td></tr>\n",
       "\t<tr><td>female</td><td>high</td><td>Z</td><td>pain_score</td><td>6</td><td>74.988</td><td> 87.142</td><td>80.843</td><td>79.812</td><td>82.406</td><td>2.594</td><td>2.355</td><td>81.035</td><td>3.985</td><td>1.627</td><td>4.182</td></tr>\n",
       "\t<tr><td>female</td><td>low </td><td>X</td><td>pain_score</td><td>6</td><td>68.614</td><td> 78.071</td><td>74.625</td><td>72.005</td><td>77.059</td><td>5.054</td><td>4.816</td><td>74.156</td><td>3.690</td><td>1.507</td><td>3.873</td></tr>\n",
       "\t<tr><td>female</td><td>low </td><td>Y</td><td>pain_score</td><td>6</td><td>63.733</td><td> 74.746</td><td>68.734</td><td>65.236</td><td>69.799</td><td>4.563</td><td>4.401</td><td>68.362</td><td>4.082</td><td>1.666</td><td>4.284</td></tr>\n",
       "\t<tr><td>female</td><td>low </td><td>Z</td><td>pain_score</td><td>6</td><td>65.449</td><td> 73.096</td><td>69.587</td><td>68.866</td><td>71.645</td><td>2.779</td><td>2.465</td><td>69.780</td><td>2.720</td><td>1.110</td><td>2.854</td></tr>\n",
       "</tbody>\n",
       "</table>\n"
      ],
      "text/latex": [
       "A tibble: 12 × 16\n",
       "\\begin{tabular}{llllllllllllllll}\n",
       " gender & risk & treatment & variable & n & min & max & median & q1 & q3 & iqr & mad & mean & sd & se & ci\\\\\n",
       " <fct> & <fct> & <fct> & <fct> & <dbl> & <dbl> & <dbl> & <dbl> & <dbl> & <dbl> & <dbl> & <dbl> & <dbl> & <dbl> & <dbl> & <dbl>\\\\\n",
       "\\hline\n",
       "\t male   & high & X & pain\\_score & 6 & 86.294 & 100.000 & 93.392 & 88.908 & 95.305 & 6.397 & 5.980 & 92.739 & 5.116 & 2.089 & 5.369\\\\\n",
       "\t male   & high & Y & pain\\_score & 6 & 77.524 &  91.179 & 81.160 & 78.952 & 83.897 & 4.945 & 4.355 & 82.342 & 5.001 & 2.042 & 5.248\\\\\n",
       "\t male   & high & Z & pain\\_score & 6 & 74.420 &  85.056 & 80.370 & 76.602 & 81.984 & 5.382 & 4.833 & 79.681 & 4.046 & 1.652 & 4.246\\\\\n",
       "\t male   & low  & X & pain\\_score & 6 & 70.832 &  81.164 & 75.948 & 73.593 & 78.695 & 5.101 & 4.600 & 76.052 & 3.855 & 1.574 & 4.045\\\\\n",
       "\t male   & low  & Y & pain\\_score & 6 & 67.924 &  80.677 & 73.361 & 69.455 & 74.858 & 5.403 & 5.300 & 73.139 & 4.765 & 1.945 & 5.001\\\\\n",
       "\t male   & low  & Z & pain\\_score & 6 & 68.299 &  80.433 & 74.850 & 70.707 & 77.945 & 7.238 & 7.056 & 74.456 & 4.889 & 1.996 & 5.131\\\\\n",
       "\t female & high & X & pain\\_score & 6 & 68.360 &  82.657 & 81.056 & 79.143 & 81.432 & 2.289 & 1.494 & 78.865 & 5.316 & 2.170 & 5.579\\\\\n",
       "\t female & high & Y & pain\\_score & 6 & 73.144 &  86.591 & 81.810 & 80.011 & 83.666 & 3.655 & 3.478 & 81.175 & 4.619 & 1.886 & 4.848\\\\\n",
       "\t female & high & Z & pain\\_score & 6 & 74.988 &  87.142 & 80.843 & 79.812 & 82.406 & 2.594 & 2.355 & 81.035 & 3.985 & 1.627 & 4.182\\\\\n",
       "\t female & low  & X & pain\\_score & 6 & 68.614 &  78.071 & 74.625 & 72.005 & 77.059 & 5.054 & 4.816 & 74.156 & 3.690 & 1.507 & 3.873\\\\\n",
       "\t female & low  & Y & pain\\_score & 6 & 63.733 &  74.746 & 68.734 & 65.236 & 69.799 & 4.563 & 4.401 & 68.362 & 4.082 & 1.666 & 4.284\\\\\n",
       "\t female & low  & Z & pain\\_score & 6 & 65.449 &  73.096 & 69.587 & 68.866 & 71.645 & 2.779 & 2.465 & 69.780 & 2.720 & 1.110 & 2.854\\\\\n",
       "\\end{tabular}\n"
      ],
      "text/markdown": [
       "\n",
       "A tibble: 12 × 16\n",
       "\n",
       "| gender &lt;fct&gt; | risk &lt;fct&gt; | treatment &lt;fct&gt; | variable &lt;fct&gt; | n &lt;dbl&gt; | min &lt;dbl&gt; | max &lt;dbl&gt; | median &lt;dbl&gt; | q1 &lt;dbl&gt; | q3 &lt;dbl&gt; | iqr &lt;dbl&gt; | mad &lt;dbl&gt; | mean &lt;dbl&gt; | sd &lt;dbl&gt; | se &lt;dbl&gt; | ci &lt;dbl&gt; |\n",
       "|---|---|---|---|---|---|---|---|---|---|---|---|---|---|---|---|\n",
       "| male   | high | X | pain_score | 6 | 86.294 | 100.000 | 93.392 | 88.908 | 95.305 | 6.397 | 5.980 | 92.739 | 5.116 | 2.089 | 5.369 |\n",
       "| male   | high | Y | pain_score | 6 | 77.524 |  91.179 | 81.160 | 78.952 | 83.897 | 4.945 | 4.355 | 82.342 | 5.001 | 2.042 | 5.248 |\n",
       "| male   | high | Z | pain_score | 6 | 74.420 |  85.056 | 80.370 | 76.602 | 81.984 | 5.382 | 4.833 | 79.681 | 4.046 | 1.652 | 4.246 |\n",
       "| male   | low  | X | pain_score | 6 | 70.832 |  81.164 | 75.948 | 73.593 | 78.695 | 5.101 | 4.600 | 76.052 | 3.855 | 1.574 | 4.045 |\n",
       "| male   | low  | Y | pain_score | 6 | 67.924 |  80.677 | 73.361 | 69.455 | 74.858 | 5.403 | 5.300 | 73.139 | 4.765 | 1.945 | 5.001 |\n",
       "| male   | low  | Z | pain_score | 6 | 68.299 |  80.433 | 74.850 | 70.707 | 77.945 | 7.238 | 7.056 | 74.456 | 4.889 | 1.996 | 5.131 |\n",
       "| female | high | X | pain_score | 6 | 68.360 |  82.657 | 81.056 | 79.143 | 81.432 | 2.289 | 1.494 | 78.865 | 5.316 | 2.170 | 5.579 |\n",
       "| female | high | Y | pain_score | 6 | 73.144 |  86.591 | 81.810 | 80.011 | 83.666 | 3.655 | 3.478 | 81.175 | 4.619 | 1.886 | 4.848 |\n",
       "| female | high | Z | pain_score | 6 | 74.988 |  87.142 | 80.843 | 79.812 | 82.406 | 2.594 | 2.355 | 81.035 | 3.985 | 1.627 | 4.182 |\n",
       "| female | low  | X | pain_score | 6 | 68.614 |  78.071 | 74.625 | 72.005 | 77.059 | 5.054 | 4.816 | 74.156 | 3.690 | 1.507 | 3.873 |\n",
       "| female | low  | Y | pain_score | 6 | 63.733 |  74.746 | 68.734 | 65.236 | 69.799 | 4.563 | 4.401 | 68.362 | 4.082 | 1.666 | 4.284 |\n",
       "| female | low  | Z | pain_score | 6 | 65.449 |  73.096 | 69.587 | 68.866 | 71.645 | 2.779 | 2.465 | 69.780 | 2.720 | 1.110 | 2.854 |\n",
       "\n"
      ],
      "text/plain": [
       "   gender risk treatment variable   n min    max     median q1     q3     iqr  \n",
       "1  male   high X         pain_score 6 86.294 100.000 93.392 88.908 95.305 6.397\n",
       "2  male   high Y         pain_score 6 77.524  91.179 81.160 78.952 83.897 4.945\n",
       "3  male   high Z         pain_score 6 74.420  85.056 80.370 76.602 81.984 5.382\n",
       "4  male   low  X         pain_score 6 70.832  81.164 75.948 73.593 78.695 5.101\n",
       "5  male   low  Y         pain_score 6 67.924  80.677 73.361 69.455 74.858 5.403\n",
       "6  male   low  Z         pain_score 6 68.299  80.433 74.850 70.707 77.945 7.238\n",
       "7  female high X         pain_score 6 68.360  82.657 81.056 79.143 81.432 2.289\n",
       "8  female high Y         pain_score 6 73.144  86.591 81.810 80.011 83.666 3.655\n",
       "9  female high Z         pain_score 6 74.988  87.142 80.843 79.812 82.406 2.594\n",
       "10 female low  X         pain_score 6 68.614  78.071 74.625 72.005 77.059 5.054\n",
       "11 female low  Y         pain_score 6 63.733  74.746 68.734 65.236 69.799 4.563\n",
       "12 female low  Z         pain_score 6 65.449  73.096 69.587 68.866 71.645 2.779\n",
       "   mad   mean   sd    se    ci   \n",
       "1  5.980 92.739 5.116 2.089 5.369\n",
       "2  4.355 82.342 5.001 2.042 5.248\n",
       "3  4.833 79.681 4.046 1.652 4.246\n",
       "4  4.600 76.052 3.855 1.574 4.045\n",
       "5  5.300 73.139 4.765 1.945 5.001\n",
       "6  7.056 74.456 4.889 1.996 5.131\n",
       "7  1.494 78.865 5.316 2.170 5.579\n",
       "8  3.478 81.175 4.619 1.886 4.848\n",
       "9  2.355 81.035 3.985 1.627 4.182\n",
       "10 4.816 74.156 3.690 1.507 3.873\n",
       "11 4.401 68.362 4.082 1.666 4.284\n",
       "12 2.465 69.780 2.720 1.110 2.854"
      ]
     },
     "metadata": {},
     "output_type": "display_data"
    }
   ],
   "source": [
    "headache %>% group_by(gender, risk, treatment) %>% get_summary_stats(pain_score)"
   ]
  },
  {
   "cell_type": "code",
   "execution_count": 12,
   "id": "f160d8d3-d828-460d-9551-4d5c78caac76",
   "metadata": {},
   "outputs": [
    {
     "name": "stderr",
     "output_type": "stream",
     "text": [
      "Loading required package: ggplot2\n",
      "\n"
     ]
    }
   ],
   "source": [
    "library(ggpubr)"
   ]
  },
  {
   "cell_type": "code",
   "execution_count": 13,
   "id": "e57187b6-483f-4576-afaa-8eb75aefe529",
   "metadata": {},
   "outputs": [
    {
     "data": {
      "image/png": "[encoded data removed]",
      "text/plain": [
       "plot without title"
      ]
     },
     "metadata": {
      "image/png": {
       "height": 420,
       "width": 420
      }
     },
     "output_type": "display_data"
    }
   ],
   "source": [
    "ggboxplot(headache, x = \"treatment\", y  =\"pain_score\", color = \"risk\", facet.by = \"gender\")"
   ]
  },
  {
   "cell_type": "code",
   "execution_count": 14,
   "id": "db96d1d0-7a49-4bd9-8b35-cc0585478500",
   "metadata": {},
   "outputs": [
    {
     "data": {
      "text/html": [
       "<table class=\"dataframe\">\n",
       "<caption>A tibble: 4 × 7</caption>\n",
       "<thead>\n",
       "\t<tr><th scope=col>gender</th><th scope=col>risk</th><th scope=col>treatment</th><th scope=col>id</th><th scope=col>pain_score</th><th scope=col>is.outlier</th><th scope=col>is.extreme</th></tr>\n",
       "\t<tr><th scope=col>&lt;fct&gt;</th><th scope=col>&lt;fct&gt;</th><th scope=col>&lt;fct&gt;</th><th scope=col>&lt;int&gt;</th><th scope=col>&lt;dbl&gt;</th><th scope=col>&lt;lgl&gt;</th><th scope=col>&lt;lgl&gt;</th></tr>\n",
       "</thead>\n",
       "<tbody>\n",
       "\t<tr><td>female</td><td>high</td><td>X</td><td>57</td><td>68.36018</td><td>TRUE</td><td> TRUE</td></tr>\n",
       "\t<tr><td>female</td><td>high</td><td>Y</td><td>62</td><td>73.14439</td><td>TRUE</td><td>FALSE</td></tr>\n",
       "\t<tr><td>female</td><td>high</td><td>Z</td><td>67</td><td>74.98806</td><td>TRUE</td><td>FALSE</td></tr>\n",
       "\t<tr><td>female</td><td>high</td><td>Z</td><td>71</td><td>87.14226</td><td>TRUE</td><td>FALSE</td></tr>\n",
       "</tbody>\n",
       "</table>\n"
      ],
      "text/latex": [
       "A tibble: 4 × 7\n",
       "\\begin{tabular}{lllllll}\n",
       " gender & risk & treatment & id & pain\\_score & is.outlier & is.extreme\\\\\n",
       " <fct> & <fct> & <fct> & <int> & <dbl> & <lgl> & <lgl>\\\\\n",
       "\\hline\n",
       "\t female & high & X & 57 & 68.36018 & TRUE &  TRUE\\\\\n",
       "\t female & high & Y & 62 & 73.14439 & TRUE & FALSE\\\\\n",
       "\t female & high & Z & 67 & 74.98806 & TRUE & FALSE\\\\\n",
       "\t female & high & Z & 71 & 87.14226 & TRUE & FALSE\\\\\n",
       "\\end{tabular}\n"
      ],
      "text/markdown": [
       "\n",
       "A tibble: 4 × 7\n",
       "\n",
       "| gender &lt;fct&gt; | risk &lt;fct&gt; | treatment &lt;fct&gt; | id &lt;int&gt; | pain_score &lt;dbl&gt; | is.outlier &lt;lgl&gt; | is.extreme &lt;lgl&gt; |\n",
       "|---|---|---|---|---|---|---|\n",
       "| female | high | X | 57 | 68.36018 | TRUE |  TRUE |\n",
       "| female | high | Y | 62 | 73.14439 | TRUE | FALSE |\n",
       "| female | high | Z | 67 | 74.98806 | TRUE | FALSE |\n",
       "| female | high | Z | 71 | 87.14226 | TRUE | FALSE |\n",
       "\n"
      ],
      "text/plain": [
       "  gender risk treatment id pain_score is.outlier is.extreme\n",
       "1 female high X         57 68.36018   TRUE        TRUE     \n",
       "2 female high Y         62 73.14439   TRUE       FALSE     \n",
       "3 female high Z         67 74.98806   TRUE       FALSE     \n",
       "4 female high Z         71 87.14226   TRUE       FALSE     "
      ]
     },
     "metadata": {},
     "output_type": "display_data"
    }
   ],
   "source": [
    "headache %>% group_by(gender, risk, treatment) %>% identify_outliers(pain_score)"
   ]
  },
  {
   "cell_type": "code",
   "execution_count": 18,
   "id": "a8f91041-4b20-4df6-8427-195a3def5fd0",
   "metadata": {},
   "outputs": [],
   "source": [
    "library(ggplot2)"
   ]
  },
  {
   "cell_type": "code",
   "execution_count": 25,
   "id": "a76b5edd-e740-463a-ba76-2d628ae93051",
   "metadata": {},
   "outputs": [
    {
     "data": {
      "image/png": "[encoded data removed]",
      "text/plain": [
       "plot without title"
      ]
     },
     "metadata": {
      "image/png": {
       "height": 420,
       "width": 420
      }
     },
     "output_type": "display_data"
    }
   ],
   "source": [
    "ggqqplot(headache, \"pain_score\") + facet_grid(gender + risk ~ treatment)"
   ]
  },
  {
   "cell_type": "code",
   "execution_count": 24,
   "id": "6d401a95-327d-4ae3-b8b7-8fab167efba8",
   "metadata": {},
   "outputs": [
    {
     "data": {
      "text/html": [
       "<table class=\"dataframe\">\n",
       "<caption>A tibble: 12 × 6</caption>\n",
       "<thead>\n",
       "\t<tr><th scope=col>gender</th><th scope=col>risk</th><th scope=col>treatment</th><th scope=col>variable</th><th scope=col>statistic</th><th scope=col>p</th></tr>\n",
       "\t<tr><th scope=col>&lt;fct&gt;</th><th scope=col>&lt;fct&gt;</th><th scope=col>&lt;fct&gt;</th><th scope=col>&lt;chr&gt;</th><th scope=col>&lt;dbl&gt;</th><th scope=col>&lt;dbl&gt;</th></tr>\n",
       "</thead>\n",
       "<tbody>\n",
       "\t<tr><td>male  </td><td>high</td><td>X</td><td>pain_score</td><td>0.9584342</td><td>0.8075952</td></tr>\n",
       "\t<tr><td>male  </td><td>high</td><td>Y</td><td>pain_score</td><td>0.9017300</td><td>0.3842567</td></tr>\n",
       "\t<tr><td>male  </td><td>high</td><td>Z</td><td>pain_score</td><td>0.9554783</td><td>0.7843029</td></tr>\n",
       "\t<tr><td>male  </td><td>low </td><td>X</td><td>pain_score</td><td>0.9821936</td><td>0.9619276</td></tr>\n",
       "\t<tr><td>male  </td><td>low </td><td>Y</td><td>pain_score</td><td>0.9202722</td><td>0.5073236</td></tr>\n",
       "\t<tr><td>male  </td><td>low </td><td>Z</td><td>pain_score</td><td>0.9240513</td><td>0.5350067</td></tr>\n",
       "\t<tr><td>female</td><td>high</td><td>X</td><td>pain_score</td><td>0.9219488</td><td>0.5425890</td></tr>\n",
       "\t<tr><td>female</td><td>high</td><td>Y</td><td>pain_score</td><td>0.9393324</td><td>0.6538245</td></tr>\n",
       "\t<tr><td>female</td><td>high</td><td>Z</td><td>pain_score</td><td>0.9712317</td><td>0.9006042</td></tr>\n",
       "\t<tr><td>female</td><td>low </td><td>X</td><td>pain_score</td><td>0.9325506</td><td>0.5999377</td></tr>\n",
       "\t<tr><td>female</td><td>low </td><td>Y</td><td>pain_score</td><td>0.9267738</td><td>0.5554278</td></tr>\n",
       "\t<tr><td>female</td><td>low </td><td>Z</td><td>pain_score</td><td>0.9575847</td><td>0.8009463</td></tr>\n",
       "</tbody>\n",
       "</table>\n"
      ],
      "text/latex": [
       "A tibble: 12 × 6\n",
       "\\begin{tabular}{llllll}\n",
       " gender & risk & treatment & variable & statistic & p\\\\\n",
       " <fct> & <fct> & <fct> & <chr> & <dbl> & <dbl>\\\\\n",
       "\\hline\n",
       "\t male   & high & X & pain\\_score & 0.9584342 & 0.8075952\\\\\n",
       "\t male   & high & Y & pain\\_score & 0.9017300 & 0.3842567\\\\\n",
       "\t male   & high & Z & pain\\_score & 0.9554783 & 0.7843029\\\\\n",
       "\t male   & low  & X & pain\\_score & 0.9821936 & 0.9619276\\\\\n",
       "\t male   & low  & Y & pain\\_score & 0.9202722 & 0.5073236\\\\\n",
       "\t male   & low  & Z & pain\\_score & 0.9240513 & 0.5350067\\\\\n",
       "\t female & high & X & pain\\_score & 0.9219488 & 0.5425890\\\\\n",
       "\t female & high & Y & pain\\_score & 0.9393324 & 0.6538245\\\\\n",
       "\t female & high & Z & pain\\_score & 0.9712317 & 0.9006042\\\\\n",
       "\t female & low  & X & pain\\_score & 0.9325506 & 0.5999377\\\\\n",
       "\t female & low  & Y & pain\\_score & 0.9267738 & 0.5554278\\\\\n",
       "\t female & low  & Z & pain\\_score & 0.9575847 & 0.8009463\\\\\n",
       "\\end{tabular}\n"
      ],
      "text/markdown": [
       "\n",
       "A tibble: 12 × 6\n",
       "\n",
       "| gender &lt;fct&gt; | risk &lt;fct&gt; | treatment &lt;fct&gt; | variable &lt;chr&gt; | statistic &lt;dbl&gt; | p &lt;dbl&gt; |\n",
       "|---|---|---|---|---|---|\n",
       "| male   | high | X | pain_score | 0.9584342 | 0.8075952 |\n",
       "| male   | high | Y | pain_score | 0.9017300 | 0.3842567 |\n",
       "| male   | high | Z | pain_score | 0.9554783 | 0.7843029 |\n",
       "| male   | low  | X | pain_score | 0.9821936 | 0.9619276 |\n",
       "| male   | low  | Y | pain_score | 0.9202722 | 0.5073236 |\n",
       "| male   | low  | Z | pain_score | 0.9240513 | 0.5350067 |\n",
       "| female | high | X | pain_score | 0.9219488 | 0.5425890 |\n",
       "| female | high | Y | pain_score | 0.9393324 | 0.6538245 |\n",
       "| female | high | Z | pain_score | 0.9712317 | 0.9006042 |\n",
       "| female | low  | X | pain_score | 0.9325506 | 0.5999377 |\n",
       "| female | low  | Y | pain_score | 0.9267738 | 0.5554278 |\n",
       "| female | low  | Z | pain_score | 0.9575847 | 0.8009463 |\n",
       "\n"
      ],
      "text/plain": [
       "   gender risk treatment variable   statistic p        \n",
       "1  male   high X         pain_score 0.9584342 0.8075952\n",
       "2  male   high Y         pain_score 0.9017300 0.3842567\n",
       "3  male   high Z         pain_score 0.9554783 0.7843029\n",
       "4  male   low  X         pain_score 0.9821936 0.9619276\n",
       "5  male   low  Y         pain_score 0.9202722 0.5073236\n",
       "6  male   low  Z         pain_score 0.9240513 0.5350067\n",
       "7  female high X         pain_score 0.9219488 0.5425890\n",
       "8  female high Y         pain_score 0.9393324 0.6538245\n",
       "9  female high Z         pain_score 0.9712317 0.9006042\n",
       "10 female low  X         pain_score 0.9325506 0.5999377\n",
       "11 female low  Y         pain_score 0.9267738 0.5554278\n",
       "12 female low  Z         pain_score 0.9575847 0.8009463"
      ]
     },
     "metadata": {},
     "output_type": "display_data"
    }
   ],
   "source": [
    "headache %>% group_by(gender, risk, treatment) %>% shapiro_test(pain_score)"
   ]
  },
  {
   "cell_type": "code",
   "execution_count": 23,
   "id": "6c0fb30b-60fc-4aea-946c-67d9dd89b57d",
   "metadata": {},
   "outputs": [],
   "source": [
    "headache = headache[-c(57),]"
   ]
  },
  {
   "cell_type": "code",
   "execution_count": 26,
   "id": "e9ed1a85-3132-4a60-a2af-2f0ccc55cba0",
   "metadata": {},
   "outputs": [
    {
     "data": {
      "text/html": [
       "<table class=\"dataframe\">\n",
       "<caption>A tibble: 1 × 4</caption>\n",
       "<thead>\n",
       "\t<tr><th scope=col>df1</th><th scope=col>df2</th><th scope=col>statistic</th><th scope=col>p</th></tr>\n",
       "\t<tr><th scope=col>&lt;int&gt;</th><th scope=col>&lt;int&gt;</th><th scope=col>&lt;dbl&gt;</th><th scope=col>&lt;dbl&gt;</th></tr>\n",
       "</thead>\n",
       "<tbody>\n",
       "\t<tr><td>11</td><td>59</td><td>0.5246834</td><td>0.878915</td></tr>\n",
       "</tbody>\n",
       "</table>\n"
      ],
      "text/latex": [
       "A tibble: 1 × 4\n",
       "\\begin{tabular}{llll}\n",
       " df1 & df2 & statistic & p\\\\\n",
       " <int> & <int> & <dbl> & <dbl>\\\\\n",
       "\\hline\n",
       "\t 11 & 59 & 0.5246834 & 0.878915\\\\\n",
       "\\end{tabular}\n"
      ],
      "text/markdown": [
       "\n",
       "A tibble: 1 × 4\n",
       "\n",
       "| df1 &lt;int&gt; | df2 &lt;int&gt; | statistic &lt;dbl&gt; | p &lt;dbl&gt; |\n",
       "|---|---|---|---|\n",
       "| 11 | 59 | 0.5246834 | 0.878915 |\n",
       "\n"
      ],
      "text/plain": [
       "  df1 df2 statistic p       \n",
       "1 11  59  0.5246834 0.878915"
      ]
     },
     "metadata": {},
     "output_type": "display_data"
    }
   ],
   "source": [
    "headache %>% levene_test(pain_score ~ gender * risk * treatment)"
   ]
  },
  {
   "cell_type": "code",
   "execution_count": 27,
   "id": "242242ff-0510-4e1f-8e6c-9991abb6c503",
   "metadata": {},
   "outputs": [
    {
     "data": {
      "text/html": [
       "<table class=\"dataframe\">\n",
       "<caption>A anova_test: 7 × 7</caption>\n",
       "<thead>\n",
       "\t<tr><th></th><th scope=col>Effect</th><th scope=col>DFn</th><th scope=col>DFd</th><th scope=col>F</th><th scope=col>p</th><th scope=col>p&lt;.05</th><th scope=col>ges</th></tr>\n",
       "\t<tr><th></th><th scope=col>&lt;chr&gt;</th><th scope=col>&lt;dbl&gt;</th><th scope=col>&lt;dbl&gt;</th><th scope=col>&lt;dbl&gt;</th><th scope=col>&lt;dbl&gt;</th><th scope=col>&lt;chr&gt;</th><th scope=col>&lt;dbl&gt;</th></tr>\n",
       "</thead>\n",
       "<tbody>\n",
       "\t<tr><th scope=row>1</th><td>gender               </td><td>1</td><td>59</td><td> 13.921</td><td>4.30e-04</td><td>*</td><td>1.91e-01</td></tr>\n",
       "\t<tr><th scope=row>2</th><td>risk                 </td><td>1</td><td>59</td><td>109.707</td><td>4.41e-15</td><td>*</td><td>6.50e-01</td></tr>\n",
       "\t<tr><th scope=row>3</th><td>treatment            </td><td>2</td><td>59</td><td> 10.607</td><td>1.16e-04</td><td>*</td><td>2.64e-01</td></tr>\n",
       "\t<tr><th scope=row>4</th><td>gender:risk          </td><td>1</td><td>59</td><td>  0.002</td><td>9.68e-01</td><td> </td><td>2.71e-05</td></tr>\n",
       "\t<tr><th scope=row>5</th><td>gender:treatment     </td><td>2</td><td>59</td><td>  2.185</td><td>1.22e-01</td><td> </td><td>6.90e-02</td></tr>\n",
       "\t<tr><th scope=row>6</th><td>risk:treatment       </td><td>2</td><td>59</td><td>  1.279</td><td>2.86e-01</td><td> </td><td>4.20e-02</td></tr>\n",
       "\t<tr><th scope=row>7</th><td>gender:risk:treatment</td><td>2</td><td>59</td><td>  6.123</td><td>4.00e-03</td><td>*</td><td>1.72e-01</td></tr>\n",
       "</tbody>\n",
       "</table>\n"
      ],
      "text/latex": [
       "A anova\\_test: 7 × 7\n",
       "\\begin{tabular}{r|lllllll}\n",
       "  & Effect & DFn & DFd & F & p & p<.05 & ges\\\\\n",
       "  & <chr> & <dbl> & <dbl> & <dbl> & <dbl> & <chr> & <dbl>\\\\\n",
       "\\hline\n",
       "\t1 & gender                & 1 & 59 &  13.921 & 4.30e-04 & * & 1.91e-01\\\\\n",
       "\t2 & risk                  & 1 & 59 & 109.707 & 4.41e-15 & * & 6.50e-01\\\\\n",
       "\t3 & treatment             & 2 & 59 &  10.607 & 1.16e-04 & * & 2.64e-01\\\\\n",
       "\t4 & gender:risk           & 1 & 59 &   0.002 & 9.68e-01 &   & 2.71e-05\\\\\n",
       "\t5 & gender:treatment      & 2 & 59 &   2.185 & 1.22e-01 &   & 6.90e-02\\\\\n",
       "\t6 & risk:treatment        & 2 & 59 &   1.279 & 2.86e-01 &   & 4.20e-02\\\\\n",
       "\t7 & gender:risk:treatment & 2 & 59 &   6.123 & 4.00e-03 & * & 1.72e-01\\\\\n",
       "\\end{tabular}\n"
      ],
      "text/markdown": [
       "\n",
       "A anova_test: 7 × 7\n",
       "\n",
       "| <!--/--> | Effect &lt;chr&gt; | DFn &lt;dbl&gt; | DFd &lt;dbl&gt; | F &lt;dbl&gt; | p &lt;dbl&gt; | p&lt;.05 &lt;chr&gt; | ges &lt;dbl&gt; |\n",
       "|---|---|---|---|---|---|---|---|\n",
       "| 1 | gender                | 1 | 59 |  13.921 | 4.30e-04 | * | 1.91e-01 |\n",
       "| 2 | risk                  | 1 | 59 | 109.707 | 4.41e-15 | * | 6.50e-01 |\n",
       "| 3 | treatment             | 2 | 59 |  10.607 | 1.16e-04 | * | 2.64e-01 |\n",
       "| 4 | gender:risk           | 1 | 59 |   0.002 | 9.68e-01 | <!----> | 2.71e-05 |\n",
       "| 5 | gender:treatment      | 2 | 59 |   2.185 | 1.22e-01 | <!----> | 6.90e-02 |\n",
       "| 6 | risk:treatment        | 2 | 59 |   1.279 | 2.86e-01 | <!----> | 4.20e-02 |\n",
       "| 7 | gender:risk:treatment | 2 | 59 |   6.123 | 4.00e-03 | * | 1.72e-01 |\n",
       "\n"
      ],
      "text/plain": [
       "  Effect                DFn DFd F       p        p<.05 ges     \n",
       "1 gender                1   59   13.921 4.30e-04 *     1.91e-01\n",
       "2 risk                  1   59  109.707 4.41e-15 *     6.50e-01\n",
       "3 treatment             2   59   10.607 1.16e-04 *     2.64e-01\n",
       "4 gender:risk           1   59    0.002 9.68e-01       2.71e-05\n",
       "5 gender:treatment      2   59    2.185 1.22e-01       6.90e-02\n",
       "6 risk:treatment        2   59    1.279 2.86e-01       4.20e-02\n",
       "7 gender:risk:treatment 2   59    6.123 4.00e-03 *     1.72e-01"
      ]
     },
     "metadata": {},
     "output_type": "display_data"
    }
   ],
   "source": [
    "headache  %>% anova_test(pain_score ~ gender*risk*treatment)"
   ]
  },
  {
   "cell_type": "markdown",
   "id": "ed073c6a-b38e-4c34-8862-a327c8185df2",
   "metadata": {},
   "source": [
    "# Post-hoc tests"
   ]
  },
  {
   "cell_type": "markdown",
   "id": "7bfb7b90-ad45-4e08-b180-9d4deb158105",
   "metadata": {},
   "source": [
    "## در سه سطح میشه پس آزمون داشته باشیم"
   ]
  },
  {
   "cell_type": "code",
   "execution_count": 28,
   "id": "4230e179-7f92-44d3-965d-a56f11cbe047",
   "metadata": {},
   "outputs": [
    {
     "data": {
      "text/html": [
       "<table class=\"dataframe\">\n",
       "<caption>A grouped_anova_test: 6 × 8</caption>\n",
       "<thead>\n",
       "\t<tr><th></th><th scope=col>gender</th><th scope=col>Effect</th><th scope=col>DFn</th><th scope=col>DFd</th><th scope=col>F</th><th scope=col>p</th><th scope=col>p&lt;.05</th><th scope=col>ges</th></tr>\n",
       "\t<tr><th></th><th scope=col>&lt;fct&gt;</th><th scope=col>&lt;chr&gt;</th><th scope=col>&lt;dbl&gt;</th><th scope=col>&lt;dbl&gt;</th><th scope=col>&lt;dbl&gt;</th><th scope=col>&lt;dbl&gt;</th><th scope=col>&lt;chr&gt;</th><th scope=col>&lt;dbl&gt;</th></tr>\n",
       "</thead>\n",
       "<tbody>\n",
       "\t<tr><th scope=row>1</th><td>male  </td><td>risk          </td><td>1</td><td>30</td><td>45.022</td><td>1.95e-07</td><td>*</td><td>0.600</td></tr>\n",
       "\t<tr><th scope=row>2</th><td>male  </td><td>treatment     </td><td>2</td><td>30</td><td> 9.155</td><td>7.88e-04</td><td>*</td><td>0.379</td></tr>\n",
       "\t<tr><th scope=row>3</th><td>male  </td><td>risk:treatment</td><td>2</td><td>30</td><td> 4.725</td><td>1.60e-02</td><td>*</td><td>0.240</td></tr>\n",
       "\t<tr><th scope=row>4</th><td>female</td><td>risk          </td><td>1</td><td>29</td><td>71.428</td><td>2.59e-09</td><td>*</td><td>0.711</td></tr>\n",
       "\t<tr><th scope=row>5</th><td>female</td><td>treatment     </td><td>2</td><td>29</td><td> 2.072</td><td>1.44e-01</td><td> </td><td>0.125</td></tr>\n",
       "\t<tr><th scope=row>6</th><td>female</td><td>risk:treatment</td><td>2</td><td>29</td><td> 2.074</td><td>1.44e-01</td><td> </td><td>0.125</td></tr>\n",
       "</tbody>\n",
       "</table>\n"
      ],
      "text/latex": [
       "A grouped\\_anova\\_test: 6 × 8\n",
       "\\begin{tabular}{r|llllllll}\n",
       "  & gender & Effect & DFn & DFd & F & p & p<.05 & ges\\\\\n",
       "  & <fct> & <chr> & <dbl> & <dbl> & <dbl> & <dbl> & <chr> & <dbl>\\\\\n",
       "\\hline\n",
       "\t1 & male   & risk           & 1 & 30 & 45.022 & 1.95e-07 & * & 0.600\\\\\n",
       "\t2 & male   & treatment      & 2 & 30 &  9.155 & 7.88e-04 & * & 0.379\\\\\n",
       "\t3 & male   & risk:treatment & 2 & 30 &  4.725 & 1.60e-02 & * & 0.240\\\\\n",
       "\t4 & female & risk           & 1 & 29 & 71.428 & 2.59e-09 & * & 0.711\\\\\n",
       "\t5 & female & treatment      & 2 & 29 &  2.072 & 1.44e-01 &   & 0.125\\\\\n",
       "\t6 & female & risk:treatment & 2 & 29 &  2.074 & 1.44e-01 &   & 0.125\\\\\n",
       "\\end{tabular}\n"
      ],
      "text/markdown": [
       "\n",
       "A grouped_anova_test: 6 × 8\n",
       "\n",
       "| <!--/--> | gender &lt;fct&gt; | Effect &lt;chr&gt; | DFn &lt;dbl&gt; | DFd &lt;dbl&gt; | F &lt;dbl&gt; | p &lt;dbl&gt; | p&lt;.05 &lt;chr&gt; | ges &lt;dbl&gt; |\n",
       "|---|---|---|---|---|---|---|---|---|\n",
       "| 1 | male   | risk           | 1 | 30 | 45.022 | 1.95e-07 | * | 0.600 |\n",
       "| 2 | male   | treatment      | 2 | 30 |  9.155 | 7.88e-04 | * | 0.379 |\n",
       "| 3 | male   | risk:treatment | 2 | 30 |  4.725 | 1.60e-02 | * | 0.240 |\n",
       "| 4 | female | risk           | 1 | 29 | 71.428 | 2.59e-09 | * | 0.711 |\n",
       "| 5 | female | treatment      | 2 | 29 |  2.072 | 1.44e-01 | <!----> | 0.125 |\n",
       "| 6 | female | risk:treatment | 2 | 29 |  2.074 | 1.44e-01 | <!----> | 0.125 |\n",
       "\n"
      ],
      "text/plain": [
       "  gender Effect         DFn DFd F      p        p<.05 ges  \n",
       "1 male   risk           1   30  45.022 1.95e-07 *     0.600\n",
       "2 male   treatment      2   30   9.155 7.88e-04 *     0.379\n",
       "3 male   risk:treatment 2   30   4.725 1.60e-02 *     0.240\n",
       "4 female risk           1   29  71.428 2.59e-09 *     0.711\n",
       "5 female treatment      2   29   2.072 1.44e-01       0.125\n",
       "6 female risk:treatment 2   29   2.074 1.44e-01       0.125"
      ]
     },
     "metadata": {},
     "output_type": "display_data"
    }
   ],
   "source": [
    "headache %>% group_by(gender) %>% anova_test(pain_score ~ risk * treatment)"
   ]
  },
  {
   "cell_type": "code",
   "execution_count": 29,
   "id": "e35e5c6a-5532-4377-8382-33be92c0c9b0",
   "metadata": {},
   "outputs": [
    {
     "data": {
      "text/html": [
       "<table class=\"dataframe\">\n",
       "<caption>A grouped_anova_test: 6 × 8</caption>\n",
       "<thead>\n",
       "\t<tr><th></th><th scope=col>risk</th><th scope=col>Effect</th><th scope=col>DFn</th><th scope=col>DFd</th><th scope=col>F</th><th scope=col>p</th><th scope=col>p&lt;.05</th><th scope=col>ges</th></tr>\n",
       "\t<tr><th></th><th scope=col>&lt;fct&gt;</th><th scope=col>&lt;chr&gt;</th><th scope=col>&lt;dbl&gt;</th><th scope=col>&lt;dbl&gt;</th><th scope=col>&lt;dbl&gt;</th><th scope=col>&lt;dbl&gt;</th><th scope=col>&lt;chr&gt;</th><th scope=col>&lt;dbl&gt;</th></tr>\n",
       "</thead>\n",
       "<tbody>\n",
       "\t<tr><th scope=row>1</th><td>high</td><td>gender          </td><td>1</td><td>29</td><td>6.206</td><td>0.019</td><td>*</td><td>0.176</td></tr>\n",
       "\t<tr><th scope=row>2</th><td>high</td><td>treatment       </td><td>2</td><td>29</td><td>8.109</td><td>0.002</td><td>*</td><td>0.359</td></tr>\n",
       "\t<tr><th scope=row>3</th><td>high</td><td>gender:treatment</td><td>2</td><td>29</td><td>7.446</td><td>0.002</td><td>*</td><td>0.339</td></tr>\n",
       "\t<tr><th scope=row>4</th><td>low </td><td>gender          </td><td>1</td><td>30</td><td>7.794</td><td>0.009</td><td>*</td><td>0.206</td></tr>\n",
       "\t<tr><th scope=row>5</th><td>low </td><td>treatment       </td><td>2</td><td>30</td><td>3.600</td><td>0.040</td><td>*</td><td>0.194</td></tr>\n",
       "\t<tr><th scope=row>6</th><td>low </td><td>gender:treatment</td><td>2</td><td>30</td><td>0.485</td><td>0.620</td><td> </td><td>0.031</td></tr>\n",
       "</tbody>\n",
       "</table>\n"
      ],
      "text/latex": [
       "A grouped\\_anova\\_test: 6 × 8\n",
       "\\begin{tabular}{r|llllllll}\n",
       "  & risk & Effect & DFn & DFd & F & p & p<.05 & ges\\\\\n",
       "  & <fct> & <chr> & <dbl> & <dbl> & <dbl> & <dbl> & <chr> & <dbl>\\\\\n",
       "\\hline\n",
       "\t1 & high & gender           & 1 & 29 & 6.206 & 0.019 & * & 0.176\\\\\n",
       "\t2 & high & treatment        & 2 & 29 & 8.109 & 0.002 & * & 0.359\\\\\n",
       "\t3 & high & gender:treatment & 2 & 29 & 7.446 & 0.002 & * & 0.339\\\\\n",
       "\t4 & low  & gender           & 1 & 30 & 7.794 & 0.009 & * & 0.206\\\\\n",
       "\t5 & low  & treatment        & 2 & 30 & 3.600 & 0.040 & * & 0.194\\\\\n",
       "\t6 & low  & gender:treatment & 2 & 30 & 0.485 & 0.620 &   & 0.031\\\\\n",
       "\\end{tabular}\n"
      ],
      "text/markdown": [
       "\n",
       "A grouped_anova_test: 6 × 8\n",
       "\n",
       "| <!--/--> | risk &lt;fct&gt; | Effect &lt;chr&gt; | DFn &lt;dbl&gt; | DFd &lt;dbl&gt; | F &lt;dbl&gt; | p &lt;dbl&gt; | p&lt;.05 &lt;chr&gt; | ges &lt;dbl&gt; |\n",
       "|---|---|---|---|---|---|---|---|---|\n",
       "| 1 | high | gender           | 1 | 29 | 6.206 | 0.019 | * | 0.176 |\n",
       "| 2 | high | treatment        | 2 | 29 | 8.109 | 0.002 | * | 0.359 |\n",
       "| 3 | high | gender:treatment | 2 | 29 | 7.446 | 0.002 | * | 0.339 |\n",
       "| 4 | low  | gender           | 1 | 30 | 7.794 | 0.009 | * | 0.206 |\n",
       "| 5 | low  | treatment        | 2 | 30 | 3.600 | 0.040 | * | 0.194 |\n",
       "| 6 | low  | gender:treatment | 2 | 30 | 0.485 | 0.620 | <!----> | 0.031 |\n",
       "\n"
      ],
      "text/plain": [
       "  risk Effect           DFn DFd F     p     p<.05 ges  \n",
       "1 high gender           1   29  6.206 0.019 *     0.176\n",
       "2 high treatment        2   29  8.109 0.002 *     0.359\n",
       "3 high gender:treatment 2   29  7.446 0.002 *     0.339\n",
       "4 low  gender           1   30  7.794 0.009 *     0.206\n",
       "5 low  treatment        2   30  3.600 0.040 *     0.194\n",
       "6 low  gender:treatment 2   30  0.485 0.620       0.031"
      ]
     },
     "metadata": {},
     "output_type": "display_data"
    }
   ],
   "source": [
    "headache %>% group_by(risk) %>% anova_test(pain_score ~ gender * treatment)"
   ]
  },
  {
   "cell_type": "code",
   "execution_count": 30,
   "id": "e82fc0d8-035c-400b-8654-cee6fa34c349",
   "metadata": {},
   "outputs": [
    {
     "data": {
      "text/html": [
       "<table class=\"dataframe\">\n",
       "<caption>A grouped_anova_test: 9 × 8</caption>\n",
       "<thead>\n",
       "\t<tr><th></th><th scope=col>treatment</th><th scope=col>Effect</th><th scope=col>DFn</th><th scope=col>DFd</th><th scope=col>F</th><th scope=col>p</th><th scope=col>p&lt;.05</th><th scope=col>ges</th></tr>\n",
       "\t<tr><th></th><th scope=col>&lt;fct&gt;</th><th scope=col>&lt;chr&gt;</th><th scope=col>&lt;dbl&gt;</th><th scope=col>&lt;dbl&gt;</th><th scope=col>&lt;dbl&gt;</th><th scope=col>&lt;dbl&gt;</th><th scope=col>&lt;chr&gt;</th><th scope=col>&lt;dbl&gt;</th></tr>\n",
       "</thead>\n",
       "<tbody>\n",
       "\t<tr><th scope=row>1</th><td>X</td><td>gender     </td><td>1</td><td>19</td><td>16.794</td><td>6.12e-04</td><td>*</td><td>0.469</td></tr>\n",
       "\t<tr><th scope=row>2</th><td>X</td><td>risk       </td><td>1</td><td>19</td><td>55.383</td><td>4.82e-07</td><td>*</td><td>0.745</td></tr>\n",
       "\t<tr><th scope=row>3</th><td>X</td><td>gender:risk</td><td>1</td><td>19</td><td> 9.385</td><td>6.00e-03</td><td>*</td><td>0.331</td></tr>\n",
       "\t<tr><th scope=row>4</th><td>Y</td><td>gender     </td><td>1</td><td>20</td><td> 2.472</td><td>1.32e-01</td><td> </td><td>0.110</td></tr>\n",
       "\t<tr><th scope=row>5</th><td>Y</td><td>risk       </td><td>1</td><td>20</td><td>33.929</td><td>1.07e-05</td><td>*</td><td>0.629</td></tr>\n",
       "\t<tr><th scope=row>6</th><td>Y</td><td>gender:risk</td><td>1</td><td>20</td><td> 0.913</td><td>3.51e-01</td><td> </td><td>0.044</td></tr>\n",
       "\t<tr><th scope=row>7</th><td>Z</td><td>gender     </td><td>1</td><td>20</td><td> 1.042</td><td>3.20e-01</td><td> </td><td>0.050</td></tr>\n",
       "\t<tr><th scope=row>8</th><td>Z</td><td>risk       </td><td>1</td><td>20</td><td>25.645</td><td>5.93e-05</td><td>*</td><td>0.562</td></tr>\n",
       "\t<tr><th scope=row>9</th><td>Z</td><td>gender:risk</td><td>1</td><td>20</td><td> 3.434</td><td>7.90e-02</td><td> </td><td>0.147</td></tr>\n",
       "</tbody>\n",
       "</table>\n"
      ],
      "text/latex": [
       "A grouped\\_anova\\_test: 9 × 8\n",
       "\\begin{tabular}{r|llllllll}\n",
       "  & treatment & Effect & DFn & DFd & F & p & p<.05 & ges\\\\\n",
       "  & <fct> & <chr> & <dbl> & <dbl> & <dbl> & <dbl> & <chr> & <dbl>\\\\\n",
       "\\hline\n",
       "\t1 & X & gender      & 1 & 19 & 16.794 & 6.12e-04 & * & 0.469\\\\\n",
       "\t2 & X & risk        & 1 & 19 & 55.383 & 4.82e-07 & * & 0.745\\\\\n",
       "\t3 & X & gender:risk & 1 & 19 &  9.385 & 6.00e-03 & * & 0.331\\\\\n",
       "\t4 & Y & gender      & 1 & 20 &  2.472 & 1.32e-01 &   & 0.110\\\\\n",
       "\t5 & Y & risk        & 1 & 20 & 33.929 & 1.07e-05 & * & 0.629\\\\\n",
       "\t6 & Y & gender:risk & 1 & 20 &  0.913 & 3.51e-01 &   & 0.044\\\\\n",
       "\t7 & Z & gender      & 1 & 20 &  1.042 & 3.20e-01 &   & 0.050\\\\\n",
       "\t8 & Z & risk        & 1 & 20 & 25.645 & 5.93e-05 & * & 0.562\\\\\n",
       "\t9 & Z & gender:risk & 1 & 20 &  3.434 & 7.90e-02 &   & 0.147\\\\\n",
       "\\end{tabular}\n"
      ],
      "text/markdown": [
       "\n",
       "A grouped_anova_test: 9 × 8\n",
       "\n",
       "| <!--/--> | treatment &lt;fct&gt; | Effect &lt;chr&gt; | DFn &lt;dbl&gt; | DFd &lt;dbl&gt; | F &lt;dbl&gt; | p &lt;dbl&gt; | p&lt;.05 &lt;chr&gt; | ges &lt;dbl&gt; |\n",
       "|---|---|---|---|---|---|---|---|---|\n",
       "| 1 | X | gender      | 1 | 19 | 16.794 | 6.12e-04 | * | 0.469 |\n",
       "| 2 | X | risk        | 1 | 19 | 55.383 | 4.82e-07 | * | 0.745 |\n",
       "| 3 | X | gender:risk | 1 | 19 |  9.385 | 6.00e-03 | * | 0.331 |\n",
       "| 4 | Y | gender      | 1 | 20 |  2.472 | 1.32e-01 | <!----> | 0.110 |\n",
       "| 5 | Y | risk        | 1 | 20 | 33.929 | 1.07e-05 | * | 0.629 |\n",
       "| 6 | Y | gender:risk | 1 | 20 |  0.913 | 3.51e-01 | <!----> | 0.044 |\n",
       "| 7 | Z | gender      | 1 | 20 |  1.042 | 3.20e-01 | <!----> | 0.050 |\n",
       "| 8 | Z | risk        | 1 | 20 | 25.645 | 5.93e-05 | * | 0.562 |\n",
       "| 9 | Z | gender:risk | 1 | 20 |  3.434 | 7.90e-02 | <!----> | 0.147 |\n",
       "\n"
      ],
      "text/plain": [
       "  treatment Effect      DFn DFd F      p        p<.05 ges  \n",
       "1 X         gender      1   19  16.794 6.12e-04 *     0.469\n",
       "2 X         risk        1   19  55.383 4.82e-07 *     0.745\n",
       "3 X         gender:risk 1   19   9.385 6.00e-03 *     0.331\n",
       "4 Y         gender      1   20   2.472 1.32e-01       0.110\n",
       "5 Y         risk        1   20  33.929 1.07e-05 *     0.629\n",
       "6 Y         gender:risk 1   20   0.913 3.51e-01       0.044\n",
       "7 Z         gender      1   20   1.042 3.20e-01       0.050\n",
       "8 Z         risk        1   20  25.645 5.93e-05 *     0.562\n",
       "9 Z         gender:risk 1   20   3.434 7.90e-02       0.147"
      ]
     },
     "metadata": {},
     "output_type": "display_data"
    }
   ],
   "source": [
    "headache %>% group_by(treatment) %>% anova_test(pain_score ~ gender * risk)"
   ]
  },
  {
   "cell_type": "code",
   "execution_count": 32,
   "id": "aca399f8-2475-4289-bd03-4e7ea90a5509",
   "metadata": {},
   "outputs": [
    {
     "data": {
      "text/html": [
       "<table class=\"dataframe\">\n",
       "<caption>A rstatix_test: 6 × 10</caption>\n",
       "<thead>\n",
       "\t<tr><th></th><th scope=col>gender</th><th scope=col>term</th><th scope=col>.y.</th><th scope=col>group1</th><th scope=col>group2</th><th scope=col>df</th><th scope=col>statistic</th><th scope=col>p</th><th scope=col>p.adj</th><th scope=col>p.adj.signif</th></tr>\n",
       "\t<tr><th></th><th scope=col>&lt;fct&gt;</th><th scope=col>&lt;chr&gt;</th><th scope=col>&lt;chr&gt;</th><th scope=col>&lt;chr&gt;</th><th scope=col>&lt;chr&gt;</th><th scope=col>&lt;dbl&gt;</th><th scope=col>&lt;dbl&gt;</th><th scope=col>&lt;dbl&gt;</th><th scope=col>&lt;dbl&gt;</th><th scope=col>&lt;chr&gt;</th></tr>\n",
       "</thead>\n",
       "<tbody>\n",
       "\t<tr><th scope=row>1</th><td>male  </td><td>treatment</td><td>pain_score</td><td>X</td><td>Y</td><td>65</td><td> 2.3237547</td><td>0.02327643</td><td>0.06982930</td><td>ns</td></tr>\n",
       "\t<tr><th scope=row>2</th><td>male  </td><td>treatment</td><td>pain_score</td><td>X</td><td>Z</td><td>65</td><td> 2.5583446</td><td>0.01285634</td><td>0.03856901</td><td>* </td></tr>\n",
       "\t<tr><th scope=row>3</th><td>male  </td><td>treatment</td><td>pain_score</td><td>Y</td><td>Z</td><td>65</td><td> 0.2345899</td><td>0.81526446</td><td>1.00000000</td><td>ns</td></tr>\n",
       "\t<tr><th scope=row>4</th><td>female</td><td>treatment</td><td>pain_score</td><td>X</td><td>Y</td><td>65</td><td> 0.8479158</td><td>0.39959643</td><td>1.00000000</td><td>ns</td></tr>\n",
       "\t<tr><th scope=row>5</th><td>female</td><td>treatment</td><td>pain_score</td><td>X</td><td>Z</td><td>65</td><td> 0.6297938</td><td>0.53103715</td><td>1.00000000</td><td>ns</td></tr>\n",
       "\t<tr><th scope=row>6</th><td>female</td><td>treatment</td><td>pain_score</td><td>Y</td><td>Z</td><td>65</td><td>-0.2230243</td><td>0.82421601</td><td>1.00000000</td><td>ns</td></tr>\n",
       "</tbody>\n",
       "</table>\n"
      ],
      "text/latex": [
       "A rstatix\\_test: 6 × 10\n",
       "\\begin{tabular}{r|llllllllll}\n",
       "  & gender & term & .y. & group1 & group2 & df & statistic & p & p.adj & p.adj.signif\\\\\n",
       "  & <fct> & <chr> & <chr> & <chr> & <chr> & <dbl> & <dbl> & <dbl> & <dbl> & <chr>\\\\\n",
       "\\hline\n",
       "\t1 & male   & treatment & pain\\_score & X & Y & 65 &  2.3237547 & 0.02327643 & 0.06982930 & ns\\\\\n",
       "\t2 & male   & treatment & pain\\_score & X & Z & 65 &  2.5583446 & 0.01285634 & 0.03856901 & * \\\\\n",
       "\t3 & male   & treatment & pain\\_score & Y & Z & 65 &  0.2345899 & 0.81526446 & 1.00000000 & ns\\\\\n",
       "\t4 & female & treatment & pain\\_score & X & Y & 65 &  0.8479158 & 0.39959643 & 1.00000000 & ns\\\\\n",
       "\t5 & female & treatment & pain\\_score & X & Z & 65 &  0.6297938 & 0.53103715 & 1.00000000 & ns\\\\\n",
       "\t6 & female & treatment & pain\\_score & Y & Z & 65 & -0.2230243 & 0.82421601 & 1.00000000 & ns\\\\\n",
       "\\end{tabular}\n"
      ],
      "text/markdown": [
       "\n",
       "A rstatix_test: 6 × 10\n",
       "\n",
       "| <!--/--> | gender &lt;fct&gt; | term &lt;chr&gt; | .y. &lt;chr&gt; | group1 &lt;chr&gt; | group2 &lt;chr&gt; | df &lt;dbl&gt; | statistic &lt;dbl&gt; | p &lt;dbl&gt; | p.adj &lt;dbl&gt; | p.adj.signif &lt;chr&gt; |\n",
       "|---|---|---|---|---|---|---|---|---|---|---|\n",
       "| 1 | male   | treatment | pain_score | X | Y | 65 |  2.3237547 | 0.02327643 | 0.06982930 | ns |\n",
       "| 2 | male   | treatment | pain_score | X | Z | 65 |  2.5583446 | 0.01285634 | 0.03856901 | *  |\n",
       "| 3 | male   | treatment | pain_score | Y | Z | 65 |  0.2345899 | 0.81526446 | 1.00000000 | ns |\n",
       "| 4 | female | treatment | pain_score | X | Y | 65 |  0.8479158 | 0.39959643 | 1.00000000 | ns |\n",
       "| 5 | female | treatment | pain_score | X | Z | 65 |  0.6297938 | 0.53103715 | 1.00000000 | ns |\n",
       "| 6 | female | treatment | pain_score | Y | Z | 65 | -0.2230243 | 0.82421601 | 1.00000000 | ns |\n",
       "\n"
      ],
      "text/plain": [
       "  gender term      .y.        group1 group2 df statistic  p          p.adj     \n",
       "1 male   treatment pain_score X      Y      65  2.3237547 0.02327643 0.06982930\n",
       "2 male   treatment pain_score X      Z      65  2.5583446 0.01285634 0.03856901\n",
       "3 male   treatment pain_score Y      Z      65  0.2345899 0.81526446 1.00000000\n",
       "4 female treatment pain_score X      Y      65  0.8479158 0.39959643 1.00000000\n",
       "5 female treatment pain_score X      Z      65  0.6297938 0.53103715 1.00000000\n",
       "6 female treatment pain_score Y      Z      65 -0.2230243 0.82421601 1.00000000\n",
       "  p.adj.signif\n",
       "1 ns          \n",
       "2 *           \n",
       "3 ns          \n",
       "4 ns          \n",
       "5 ns          \n",
       "6 ns          "
      ]
     },
     "metadata": {},
     "output_type": "display_data"
    }
   ],
   "source": [
    "headache %>% group_by(gender) %>% emmeans_test(pain_score ~ treatment, p.adjust.method = \"bonferroni\")"
   ]
  },
  {
   "cell_type": "code",
   "execution_count": 2,
   "id": "1dbd5ddd-0ca2-4f1a-9b95-4ea6eb0eaa23",
   "metadata": {},
   "outputs": [
    {
     "ename": "ERROR",
     "evalue": "Error in headache %>% group_by(gender) %>% emmeans_test(pain_score ~ risk, : could not find function \"%>%\"\n",
     "output_type": "error",
     "traceback": [
      "Error in headache %>% group_by(gender) %>% emmeans_test(pain_score ~ risk, : could not find function \"%>%\"\nTraceback:\n"
     ]
    }
   ],
   "source": [
    "headache %>% group_by(gender) %>% emmeans_test(pain_score ~ risk, p.adjust.method = \"bonferroni\")"
   ]
  },
  {
   "cell_type": "code",
   "execution_count": 1,
   "id": "a0dd8acf-73ec-4cd1-9eaf-a077ec488f0e",
   "metadata": {},
   "outputs": [
    {
     "ename": "ERROR",
     "evalue": "Error in cohen.d(Animal_data, Area, alpha = 0.05, std = TRUE): could not find function \"cohen.d\"\n",
     "output_type": "error",
     "traceback": [
      "Error in cohen.d(Animal_data, Area, alpha = 0.05, std = TRUE): could not find function \"cohen.d\"\nTraceback:\n"
     ]
    }
   ],
   "source": [
    "cohen.d(Animal_data, Area,alpha=.05,std=TRUE)"
   ]
  }
 ],
 "metadata": {
  "kernelspec": {
   "display_name": "R",
   "language": "R",
   "name": "ir"
  },
  "language_info": {
   "codemirror_mode": "r",
   "file_extension": ".r",
   "mimetype": "text/x-r-source",
   "name": "R",
   "pygments_lexer": "r",
   "version": "4.3.2"
  }
 },
 "nbformat": 4,
 "nbformat_minor": 5
}
