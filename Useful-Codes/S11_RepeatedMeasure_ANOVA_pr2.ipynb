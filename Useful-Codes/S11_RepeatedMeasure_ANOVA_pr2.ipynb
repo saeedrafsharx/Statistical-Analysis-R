{
 "cells": [
  {
   "cell_type": "code",
   "execution_count": 2,
   "id": "334490a9-482a-456f-8ea2-67263a7e02ab",
   "metadata": {},
   "outputs": [
    {
     "name": "stderr",
     "output_type": "stream",
     "text": [
      "Loading required package: ggplot2\n",
      "\n"
     ]
    }
   ],
   "source": [
    "library(ggpubr)"
   ]
  },
  {
   "cell_type": "code",
   "execution_count": 3,
   "id": "d736c68e-175a-4ca2-952f-d33775d53275",
   "metadata": {},
   "outputs": [],
   "source": [
    "library(readxl)"
   ]
  },
  {
   "cell_type": "code",
   "execution_count": 4,
   "id": "12829b9e-e21d-4115-9246-6f3e5bdfe064",
   "metadata": {},
   "outputs": [
    {
     "name": "stderr",
     "output_type": "stream",
     "text": [
      "\n",
      "Attaching package: 'rstatix'\n",
      "\n",
      "\n",
      "The following object is masked from 'package:stats':\n",
      "\n",
      "    filter\n",
      "\n",
      "\n"
     ]
    }
   ],
   "source": [
    "library(rstatix)"
   ]
  },
  {
   "cell_type": "code",
   "execution_count": 5,
   "id": "1eab2e2b-7638-42cd-8ef9-beacf40dc0cc",
   "metadata": {},
   "outputs": [
    {
     "name": "stderr",
     "output_type": "stream",
     "text": [
      "── \u001b[1mAttaching core tidyverse packages\u001b[22m ──────────────────────────────────────────────────────────────── tidyverse 2.0.0 ──\n",
      "\u001b[32m✔\u001b[39m \u001b[34mdplyr    \u001b[39m 1.1.4     \u001b[32m✔\u001b[39m \u001b[34mreadr    \u001b[39m 2.1.4\n",
      "\u001b[32m✔\u001b[39m \u001b[34mforcats  \u001b[39m 1.0.0     \u001b[32m✔\u001b[39m \u001b[34mstringr  \u001b[39m 1.5.1\n",
      "\u001b[32m✔\u001b[39m \u001b[34mlubridate\u001b[39m 1.9.3     \u001b[32m✔\u001b[39m \u001b[34mtibble   \u001b[39m 3.2.1\n",
      "\u001b[32m✔\u001b[39m \u001b[34mpurrr    \u001b[39m 1.0.2     \u001b[32m✔\u001b[39m \u001b[34mtidyr    \u001b[39m 1.3.0\n",
      "── \u001b[1mConflicts\u001b[22m ────────────────────────────────────────────────────────────────────────────────── tidyverse_conflicts() ──\n",
      "\u001b[31m✖\u001b[39m \u001b[34mdplyr\u001b[39m::\u001b[32mfilter()\u001b[39m masks \u001b[34mrstatix\u001b[39m::filter(), \u001b[34mstats\u001b[39m::filter()\n",
      "\u001b[31m✖\u001b[39m \u001b[34mdplyr\u001b[39m::\u001b[32mlag()\u001b[39m    masks \u001b[34mstats\u001b[39m::lag()\n",
      "\u001b[36mℹ\u001b[39m Use the conflicted package (\u001b[3m\u001b[34m<http://conflicted.r-lib.org/>\u001b[39m\u001b[23m) to force all conflicts to become errors\n"
     ]
    }
   ],
   "source": [
    "library(tidyverse)"
   ]
  },
  {
   "cell_type": "code",
   "execution_count": 6,
   "id": "28f45f46-d605-4d60-beb8-e51dc41ceb11",
   "metadata": {},
   "outputs": [],
   "source": [
    "Learning_TwoGr = read_excel(\"D:\\\\Amar\\\\Codes_Data\\\\LearningTwoGroups.xlsx\")"
   ]
  },
  {
   "cell_type": "code",
   "execution_count": 6,
   "id": "e60875a6-c3eb-42e6-b4ce-d9437a30453a",
   "metadata": {},
   "outputs": [
    {
     "data": {
      "text/html": [
       "<table class=\"dataframe\">\n",
       "<caption>A tibble: 24 × 5</caption>\n",
       "<thead>\n",
       "\t<tr><th scope=col>id</th><th scope=col>group</th><th scope=col>pre_test</th><th scope=col>post_test</th><th scope=col>follow_up</th></tr>\n",
       "\t<tr><th scope=col>&lt;dbl&gt;</th><th scope=col>&lt;chr&gt;</th><th scope=col>&lt;dbl&gt;</th><th scope=col>&lt;dbl&gt;</th><th scope=col>&lt;dbl&gt;</th></tr>\n",
       "</thead>\n",
       "<tbody>\n",
       "\t<tr><td> 1</td><td>DLPFC_OutPhase</td><td>0.83</td><td>0.69</td><td>0.77</td></tr>\n",
       "\t<tr><td> 2</td><td>DLPFC_OutPhase</td><td>0.97</td><td>0.88</td><td>0.95</td></tr>\n",
       "\t<tr><td> 3</td><td>DLPFC_OutPhase</td><td>0.93</td><td>0.89</td><td>0.92</td></tr>\n",
       "\t<tr><td> 4</td><td>DLPFC_OutPhase</td><td>0.92</td><td>0.89</td><td>0.92</td></tr>\n",
       "\t<tr><td> 5</td><td>DLPFC_OutPhase</td><td>0.77</td><td>0.68</td><td>0.73</td></tr>\n",
       "\t<tr><td> 6</td><td>DLPFC_OutPhase</td><td>0.72</td><td>0.63</td><td>0.65</td></tr>\n",
       "\t<tr><td> 7</td><td>DLPFC_OutPhase</td><td>0.92</td><td>0.79</td><td>0.89</td></tr>\n",
       "\t<tr><td> 8</td><td>DLPFC_OutPhase</td><td>0.92</td><td>0.81</td><td>0.87</td></tr>\n",
       "\t<tr><td> 9</td><td>DLPFC_OutPhase</td><td>0.95</td><td>0.84</td><td>0.91</td></tr>\n",
       "\t<tr><td>10</td><td>DLPFC_OutPhase</td><td>0.92</td><td>0.81</td><td>0.84</td></tr>\n",
       "\t<tr><td>11</td><td>DLPFC_OutPhase</td><td>0.92</td><td>0.91</td><td>0.92</td></tr>\n",
       "\t<tr><td>12</td><td>DLPFC_OutPhase</td><td>0.79</td><td>0.62</td><td>0.69</td></tr>\n",
       "\t<tr><td> 1</td><td>DLPFC_InPhase </td><td>0.84</td><td>0.88</td><td>0.86</td></tr>\n",
       "\t<tr><td> 2</td><td>DLPFC_InPhase </td><td>1.00</td><td>0.97</td><td>0.99</td></tr>\n",
       "\t<tr><td> 3</td><td>DLPFC_InPhase </td><td>0.91</td><td>0.92</td><td>0.91</td></tr>\n",
       "\t<tr><td> 4</td><td>DLPFC_InPhase </td><td>0.91</td><td>0.95</td><td>0.92</td></tr>\n",
       "\t<tr><td> 5</td><td>DLPFC_InPhase </td><td>0.74</td><td>0.72</td><td>0.76</td></tr>\n",
       "\t<tr><td> 6</td><td>DLPFC_InPhase </td><td>0.76</td><td>0.76</td><td>0.75</td></tr>\n",
       "\t<tr><td> 7</td><td>DLPFC_InPhase </td><td>0.90</td><td>0.87</td><td>0.87</td></tr>\n",
       "\t<tr><td> 8</td><td>DLPFC_InPhase </td><td>0.89</td><td>0.88</td><td>0.89</td></tr>\n",
       "\t<tr><td> 9</td><td>DLPFC_InPhase </td><td>0.93</td><td>0.93</td><td>0.94</td></tr>\n",
       "\t<tr><td>10</td><td>DLPFC_InPhase </td><td>0.90</td><td>0.95</td><td>0.93</td></tr>\n",
       "\t<tr><td>11</td><td>DLPFC_InPhase </td><td>0.93</td><td>0.91</td><td>0.92</td></tr>\n",
       "\t<tr><td>12</td><td>DLPFC_InPhase </td><td>0.80</td><td>0.78</td><td>0.80</td></tr>\n",
       "</tbody>\n",
       "</table>\n"
      ],
      "text/latex": [
       "A tibble: 24 × 5\n",
       "\\begin{tabular}{lllll}\n",
       " id & group & pre\\_test & post\\_test & follow\\_up\\\\\n",
       " <dbl> & <chr> & <dbl> & <dbl> & <dbl>\\\\\n",
       "\\hline\n",
       "\t  1 & DLPFC\\_OutPhase & 0.83 & 0.69 & 0.77\\\\\n",
       "\t  2 & DLPFC\\_OutPhase & 0.97 & 0.88 & 0.95\\\\\n",
       "\t  3 & DLPFC\\_OutPhase & 0.93 & 0.89 & 0.92\\\\\n",
       "\t  4 & DLPFC\\_OutPhase & 0.92 & 0.89 & 0.92\\\\\n",
       "\t  5 & DLPFC\\_OutPhase & 0.77 & 0.68 & 0.73\\\\\n",
       "\t  6 & DLPFC\\_OutPhase & 0.72 & 0.63 & 0.65\\\\\n",
       "\t  7 & DLPFC\\_OutPhase & 0.92 & 0.79 & 0.89\\\\\n",
       "\t  8 & DLPFC\\_OutPhase & 0.92 & 0.81 & 0.87\\\\\n",
       "\t  9 & DLPFC\\_OutPhase & 0.95 & 0.84 & 0.91\\\\\n",
       "\t 10 & DLPFC\\_OutPhase & 0.92 & 0.81 & 0.84\\\\\n",
       "\t 11 & DLPFC\\_OutPhase & 0.92 & 0.91 & 0.92\\\\\n",
       "\t 12 & DLPFC\\_OutPhase & 0.79 & 0.62 & 0.69\\\\\n",
       "\t  1 & DLPFC\\_InPhase  & 0.84 & 0.88 & 0.86\\\\\n",
       "\t  2 & DLPFC\\_InPhase  & 1.00 & 0.97 & 0.99\\\\\n",
       "\t  3 & DLPFC\\_InPhase  & 0.91 & 0.92 & 0.91\\\\\n",
       "\t  4 & DLPFC\\_InPhase  & 0.91 & 0.95 & 0.92\\\\\n",
       "\t  5 & DLPFC\\_InPhase  & 0.74 & 0.72 & 0.76\\\\\n",
       "\t  6 & DLPFC\\_InPhase  & 0.76 & 0.76 & 0.75\\\\\n",
       "\t  7 & DLPFC\\_InPhase  & 0.90 & 0.87 & 0.87\\\\\n",
       "\t  8 & DLPFC\\_InPhase  & 0.89 & 0.88 & 0.89\\\\\n",
       "\t  9 & DLPFC\\_InPhase  & 0.93 & 0.93 & 0.94\\\\\n",
       "\t 10 & DLPFC\\_InPhase  & 0.90 & 0.95 & 0.93\\\\\n",
       "\t 11 & DLPFC\\_InPhase  & 0.93 & 0.91 & 0.92\\\\\n",
       "\t 12 & DLPFC\\_InPhase  & 0.80 & 0.78 & 0.80\\\\\n",
       "\\end{tabular}\n"
      ],
      "text/markdown": [
       "\n",
       "A tibble: 24 × 5\n",
       "\n",
       "| id &lt;dbl&gt; | group &lt;chr&gt; | pre_test &lt;dbl&gt; | post_test &lt;dbl&gt; | follow_up &lt;dbl&gt; |\n",
       "|---|---|---|---|---|\n",
       "|  1 | DLPFC_OutPhase | 0.83 | 0.69 | 0.77 |\n",
       "|  2 | DLPFC_OutPhase | 0.97 | 0.88 | 0.95 |\n",
       "|  3 | DLPFC_OutPhase | 0.93 | 0.89 | 0.92 |\n",
       "|  4 | DLPFC_OutPhase | 0.92 | 0.89 | 0.92 |\n",
       "|  5 | DLPFC_OutPhase | 0.77 | 0.68 | 0.73 |\n",
       "|  6 | DLPFC_OutPhase | 0.72 | 0.63 | 0.65 |\n",
       "|  7 | DLPFC_OutPhase | 0.92 | 0.79 | 0.89 |\n",
       "|  8 | DLPFC_OutPhase | 0.92 | 0.81 | 0.87 |\n",
       "|  9 | DLPFC_OutPhase | 0.95 | 0.84 | 0.91 |\n",
       "| 10 | DLPFC_OutPhase | 0.92 | 0.81 | 0.84 |\n",
       "| 11 | DLPFC_OutPhase | 0.92 | 0.91 | 0.92 |\n",
       "| 12 | DLPFC_OutPhase | 0.79 | 0.62 | 0.69 |\n",
       "|  1 | DLPFC_InPhase  | 0.84 | 0.88 | 0.86 |\n",
       "|  2 | DLPFC_InPhase  | 1.00 | 0.97 | 0.99 |\n",
       "|  3 | DLPFC_InPhase  | 0.91 | 0.92 | 0.91 |\n",
       "|  4 | DLPFC_InPhase  | 0.91 | 0.95 | 0.92 |\n",
       "|  5 | DLPFC_InPhase  | 0.74 | 0.72 | 0.76 |\n",
       "|  6 | DLPFC_InPhase  | 0.76 | 0.76 | 0.75 |\n",
       "|  7 | DLPFC_InPhase  | 0.90 | 0.87 | 0.87 |\n",
       "|  8 | DLPFC_InPhase  | 0.89 | 0.88 | 0.89 |\n",
       "|  9 | DLPFC_InPhase  | 0.93 | 0.93 | 0.94 |\n",
       "| 10 | DLPFC_InPhase  | 0.90 | 0.95 | 0.93 |\n",
       "| 11 | DLPFC_InPhase  | 0.93 | 0.91 | 0.92 |\n",
       "| 12 | DLPFC_InPhase  | 0.80 | 0.78 | 0.80 |\n",
       "\n"
      ],
      "text/plain": [
       "   id group          pre_test post_test follow_up\n",
       "1   1 DLPFC_OutPhase 0.83     0.69      0.77     \n",
       "2   2 DLPFC_OutPhase 0.97     0.88      0.95     \n",
       "3   3 DLPFC_OutPhase 0.93     0.89      0.92     \n",
       "4   4 DLPFC_OutPhase 0.92     0.89      0.92     \n",
       "5   5 DLPFC_OutPhase 0.77     0.68      0.73     \n",
       "6   6 DLPFC_OutPhase 0.72     0.63      0.65     \n",
       "7   7 DLPFC_OutPhase 0.92     0.79      0.89     \n",
       "8   8 DLPFC_OutPhase 0.92     0.81      0.87     \n",
       "9   9 DLPFC_OutPhase 0.95     0.84      0.91     \n",
       "10 10 DLPFC_OutPhase 0.92     0.81      0.84     \n",
       "11 11 DLPFC_OutPhase 0.92     0.91      0.92     \n",
       "12 12 DLPFC_OutPhase 0.79     0.62      0.69     \n",
       "13  1 DLPFC_InPhase  0.84     0.88      0.86     \n",
       "14  2 DLPFC_InPhase  1.00     0.97      0.99     \n",
       "15  3 DLPFC_InPhase  0.91     0.92      0.91     \n",
       "16  4 DLPFC_InPhase  0.91     0.95      0.92     \n",
       "17  5 DLPFC_InPhase  0.74     0.72      0.76     \n",
       "18  6 DLPFC_InPhase  0.76     0.76      0.75     \n",
       "19  7 DLPFC_InPhase  0.90     0.87      0.87     \n",
       "20  8 DLPFC_InPhase  0.89     0.88      0.89     \n",
       "21  9 DLPFC_InPhase  0.93     0.93      0.94     \n",
       "22 10 DLPFC_InPhase  0.90     0.95      0.93     \n",
       "23 11 DLPFC_InPhase  0.93     0.91      0.92     \n",
       "24 12 DLPFC_InPhase  0.80     0.78      0.80     "
      ]
     },
     "metadata": {},
     "output_type": "display_data"
    }
   ],
   "source": [
    "Learning_TwoGr"
   ]
  },
  {
   "cell_type": "code",
   "execution_count": 7,
   "id": "4f1070f5-d8f2-4335-bcb8-861f40a30f9d",
   "metadata": {},
   "outputs": [],
   "source": [
    "Learning_TwoGr = Learning_TwoGr %>% gather (key = \"time\", value = \"Learning_rate\", pre_test, post_test, follow_up)"
   ]
  },
  {
   "cell_type": "code",
   "execution_count": 8,
   "id": "94e7baab-3649-417c-b51c-f3b478a6b533",
   "metadata": {},
   "outputs": [
    {
     "data": {
      "text/html": [
       "<table class=\"dataframe\">\n",
       "<caption>A tibble: 72 × 4</caption>\n",
       "<thead>\n",
       "\t<tr><th scope=col>id</th><th scope=col>group</th><th scope=col>time</th><th scope=col>Learning_rate</th></tr>\n",
       "\t<tr><th scope=col>&lt;dbl&gt;</th><th scope=col>&lt;chr&gt;</th><th scope=col>&lt;chr&gt;</th><th scope=col>&lt;dbl&gt;</th></tr>\n",
       "</thead>\n",
       "<tbody>\n",
       "\t<tr><td> 1</td><td>DLPFC_OutPhase</td><td>pre_test </td><td>0.83</td></tr>\n",
       "\t<tr><td> 2</td><td>DLPFC_OutPhase</td><td>pre_test </td><td>0.97</td></tr>\n",
       "\t<tr><td> 3</td><td>DLPFC_OutPhase</td><td>pre_test </td><td>0.93</td></tr>\n",
       "\t<tr><td> 4</td><td>DLPFC_OutPhase</td><td>pre_test </td><td>0.92</td></tr>\n",
       "\t<tr><td> 5</td><td>DLPFC_OutPhase</td><td>pre_test </td><td>0.77</td></tr>\n",
       "\t<tr><td> 6</td><td>DLPFC_OutPhase</td><td>pre_test </td><td>0.72</td></tr>\n",
       "\t<tr><td> 7</td><td>DLPFC_OutPhase</td><td>pre_test </td><td>0.92</td></tr>\n",
       "\t<tr><td> 8</td><td>DLPFC_OutPhase</td><td>pre_test </td><td>0.92</td></tr>\n",
       "\t<tr><td> 9</td><td>DLPFC_OutPhase</td><td>pre_test </td><td>0.95</td></tr>\n",
       "\t<tr><td>10</td><td>DLPFC_OutPhase</td><td>pre_test </td><td>0.92</td></tr>\n",
       "\t<tr><td>11</td><td>DLPFC_OutPhase</td><td>pre_test </td><td>0.92</td></tr>\n",
       "\t<tr><td>12</td><td>DLPFC_OutPhase</td><td>pre_test </td><td>0.79</td></tr>\n",
       "\t<tr><td> 1</td><td>DLPFC_InPhase </td><td>pre_test </td><td>0.84</td></tr>\n",
       "\t<tr><td> 2</td><td>DLPFC_InPhase </td><td>pre_test </td><td>1.00</td></tr>\n",
       "\t<tr><td> 3</td><td>DLPFC_InPhase </td><td>pre_test </td><td>0.91</td></tr>\n",
       "\t<tr><td> 4</td><td>DLPFC_InPhase </td><td>pre_test </td><td>0.91</td></tr>\n",
       "\t<tr><td> 5</td><td>DLPFC_InPhase </td><td>pre_test </td><td>0.74</td></tr>\n",
       "\t<tr><td> 6</td><td>DLPFC_InPhase </td><td>pre_test </td><td>0.76</td></tr>\n",
       "\t<tr><td> 7</td><td>DLPFC_InPhase </td><td>pre_test </td><td>0.90</td></tr>\n",
       "\t<tr><td> 8</td><td>DLPFC_InPhase </td><td>pre_test </td><td>0.89</td></tr>\n",
       "\t<tr><td> 9</td><td>DLPFC_InPhase </td><td>pre_test </td><td>0.93</td></tr>\n",
       "\t<tr><td>10</td><td>DLPFC_InPhase </td><td>pre_test </td><td>0.90</td></tr>\n",
       "\t<tr><td>11</td><td>DLPFC_InPhase </td><td>pre_test </td><td>0.93</td></tr>\n",
       "\t<tr><td>12</td><td>DLPFC_InPhase </td><td>pre_test </td><td>0.80</td></tr>\n",
       "\t<tr><td> 1</td><td>DLPFC_OutPhase</td><td>post_test</td><td>0.69</td></tr>\n",
       "\t<tr><td> 2</td><td>DLPFC_OutPhase</td><td>post_test</td><td>0.88</td></tr>\n",
       "\t<tr><td> 3</td><td>DLPFC_OutPhase</td><td>post_test</td><td>0.89</td></tr>\n",
       "\t<tr><td> 4</td><td>DLPFC_OutPhase</td><td>post_test</td><td>0.89</td></tr>\n",
       "\t<tr><td> 5</td><td>DLPFC_OutPhase</td><td>post_test</td><td>0.68</td></tr>\n",
       "\t<tr><td> 6</td><td>DLPFC_OutPhase</td><td>post_test</td><td>0.63</td></tr>\n",
       "\t<tr><td>⋮</td><td>⋮</td><td>⋮</td><td>⋮</td></tr>\n",
       "\t<tr><td> 7</td><td>DLPFC_InPhase </td><td>post_test</td><td>0.87</td></tr>\n",
       "\t<tr><td> 8</td><td>DLPFC_InPhase </td><td>post_test</td><td>0.88</td></tr>\n",
       "\t<tr><td> 9</td><td>DLPFC_InPhase </td><td>post_test</td><td>0.93</td></tr>\n",
       "\t<tr><td>10</td><td>DLPFC_InPhase </td><td>post_test</td><td>0.95</td></tr>\n",
       "\t<tr><td>11</td><td>DLPFC_InPhase </td><td>post_test</td><td>0.91</td></tr>\n",
       "\t<tr><td>12</td><td>DLPFC_InPhase </td><td>post_test</td><td>0.78</td></tr>\n",
       "\t<tr><td> 1</td><td>DLPFC_OutPhase</td><td>follow_up</td><td>0.77</td></tr>\n",
       "\t<tr><td> 2</td><td>DLPFC_OutPhase</td><td>follow_up</td><td>0.95</td></tr>\n",
       "\t<tr><td> 3</td><td>DLPFC_OutPhase</td><td>follow_up</td><td>0.92</td></tr>\n",
       "\t<tr><td> 4</td><td>DLPFC_OutPhase</td><td>follow_up</td><td>0.92</td></tr>\n",
       "\t<tr><td> 5</td><td>DLPFC_OutPhase</td><td>follow_up</td><td>0.73</td></tr>\n",
       "\t<tr><td> 6</td><td>DLPFC_OutPhase</td><td>follow_up</td><td>0.65</td></tr>\n",
       "\t<tr><td> 7</td><td>DLPFC_OutPhase</td><td>follow_up</td><td>0.89</td></tr>\n",
       "\t<tr><td> 8</td><td>DLPFC_OutPhase</td><td>follow_up</td><td>0.87</td></tr>\n",
       "\t<tr><td> 9</td><td>DLPFC_OutPhase</td><td>follow_up</td><td>0.91</td></tr>\n",
       "\t<tr><td>10</td><td>DLPFC_OutPhase</td><td>follow_up</td><td>0.84</td></tr>\n",
       "\t<tr><td>11</td><td>DLPFC_OutPhase</td><td>follow_up</td><td>0.92</td></tr>\n",
       "\t<tr><td>12</td><td>DLPFC_OutPhase</td><td>follow_up</td><td>0.69</td></tr>\n",
       "\t<tr><td> 1</td><td>DLPFC_InPhase </td><td>follow_up</td><td>0.86</td></tr>\n",
       "\t<tr><td> 2</td><td>DLPFC_InPhase </td><td>follow_up</td><td>0.99</td></tr>\n",
       "\t<tr><td> 3</td><td>DLPFC_InPhase </td><td>follow_up</td><td>0.91</td></tr>\n",
       "\t<tr><td> 4</td><td>DLPFC_InPhase </td><td>follow_up</td><td>0.92</td></tr>\n",
       "\t<tr><td> 5</td><td>DLPFC_InPhase </td><td>follow_up</td><td>0.76</td></tr>\n",
       "\t<tr><td> 6</td><td>DLPFC_InPhase </td><td>follow_up</td><td>0.75</td></tr>\n",
       "\t<tr><td> 7</td><td>DLPFC_InPhase </td><td>follow_up</td><td>0.87</td></tr>\n",
       "\t<tr><td> 8</td><td>DLPFC_InPhase </td><td>follow_up</td><td>0.89</td></tr>\n",
       "\t<tr><td> 9</td><td>DLPFC_InPhase </td><td>follow_up</td><td>0.94</td></tr>\n",
       "\t<tr><td>10</td><td>DLPFC_InPhase </td><td>follow_up</td><td>0.93</td></tr>\n",
       "\t<tr><td>11</td><td>DLPFC_InPhase </td><td>follow_up</td><td>0.92</td></tr>\n",
       "\t<tr><td>12</td><td>DLPFC_InPhase </td><td>follow_up</td><td>0.80</td></tr>\n",
       "</tbody>\n",
       "</table>\n"
      ],
      "text/latex": [
       "A tibble: 72 × 4\n",
       "\\begin{tabular}{llll}\n",
       " id & group & time & Learning\\_rate\\\\\n",
       " <dbl> & <chr> & <chr> & <dbl>\\\\\n",
       "\\hline\n",
       "\t  1 & DLPFC\\_OutPhase & pre\\_test  & 0.83\\\\\n",
       "\t  2 & DLPFC\\_OutPhase & pre\\_test  & 0.97\\\\\n",
       "\t  3 & DLPFC\\_OutPhase & pre\\_test  & 0.93\\\\\n",
       "\t  4 & DLPFC\\_OutPhase & pre\\_test  & 0.92\\\\\n",
       "\t  5 & DLPFC\\_OutPhase & pre\\_test  & 0.77\\\\\n",
       "\t  6 & DLPFC\\_OutPhase & pre\\_test  & 0.72\\\\\n",
       "\t  7 & DLPFC\\_OutPhase & pre\\_test  & 0.92\\\\\n",
       "\t  8 & DLPFC\\_OutPhase & pre\\_test  & 0.92\\\\\n",
       "\t  9 & DLPFC\\_OutPhase & pre\\_test  & 0.95\\\\\n",
       "\t 10 & DLPFC\\_OutPhase & pre\\_test  & 0.92\\\\\n",
       "\t 11 & DLPFC\\_OutPhase & pre\\_test  & 0.92\\\\\n",
       "\t 12 & DLPFC\\_OutPhase & pre\\_test  & 0.79\\\\\n",
       "\t  1 & DLPFC\\_InPhase  & pre\\_test  & 0.84\\\\\n",
       "\t  2 & DLPFC\\_InPhase  & pre\\_test  & 1.00\\\\\n",
       "\t  3 & DLPFC\\_InPhase  & pre\\_test  & 0.91\\\\\n",
       "\t  4 & DLPFC\\_InPhase  & pre\\_test  & 0.91\\\\\n",
       "\t  5 & DLPFC\\_InPhase  & pre\\_test  & 0.74\\\\\n",
       "\t  6 & DLPFC\\_InPhase  & pre\\_test  & 0.76\\\\\n",
       "\t  7 & DLPFC\\_InPhase  & pre\\_test  & 0.90\\\\\n",
       "\t  8 & DLPFC\\_InPhase  & pre\\_test  & 0.89\\\\\n",
       "\t  9 & DLPFC\\_InPhase  & pre\\_test  & 0.93\\\\\n",
       "\t 10 & DLPFC\\_InPhase  & pre\\_test  & 0.90\\\\\n",
       "\t 11 & DLPFC\\_InPhase  & pre\\_test  & 0.93\\\\\n",
       "\t 12 & DLPFC\\_InPhase  & pre\\_test  & 0.80\\\\\n",
       "\t  1 & DLPFC\\_OutPhase & post\\_test & 0.69\\\\\n",
       "\t  2 & DLPFC\\_OutPhase & post\\_test & 0.88\\\\\n",
       "\t  3 & DLPFC\\_OutPhase & post\\_test & 0.89\\\\\n",
       "\t  4 & DLPFC\\_OutPhase & post\\_test & 0.89\\\\\n",
       "\t  5 & DLPFC\\_OutPhase & post\\_test & 0.68\\\\\n",
       "\t  6 & DLPFC\\_OutPhase & post\\_test & 0.63\\\\\n",
       "\t ⋮ & ⋮ & ⋮ & ⋮\\\\\n",
       "\t  7 & DLPFC\\_InPhase  & post\\_test & 0.87\\\\\n",
       "\t  8 & DLPFC\\_InPhase  & post\\_test & 0.88\\\\\n",
       "\t  9 & DLPFC\\_InPhase  & post\\_test & 0.93\\\\\n",
       "\t 10 & DLPFC\\_InPhase  & post\\_test & 0.95\\\\\n",
       "\t 11 & DLPFC\\_InPhase  & post\\_test & 0.91\\\\\n",
       "\t 12 & DLPFC\\_InPhase  & post\\_test & 0.78\\\\\n",
       "\t  1 & DLPFC\\_OutPhase & follow\\_up & 0.77\\\\\n",
       "\t  2 & DLPFC\\_OutPhase & follow\\_up & 0.95\\\\\n",
       "\t  3 & DLPFC\\_OutPhase & follow\\_up & 0.92\\\\\n",
       "\t  4 & DLPFC\\_OutPhase & follow\\_up & 0.92\\\\\n",
       "\t  5 & DLPFC\\_OutPhase & follow\\_up & 0.73\\\\\n",
       "\t  6 & DLPFC\\_OutPhase & follow\\_up & 0.65\\\\\n",
       "\t  7 & DLPFC\\_OutPhase & follow\\_up & 0.89\\\\\n",
       "\t  8 & DLPFC\\_OutPhase & follow\\_up & 0.87\\\\\n",
       "\t  9 & DLPFC\\_OutPhase & follow\\_up & 0.91\\\\\n",
       "\t 10 & DLPFC\\_OutPhase & follow\\_up & 0.84\\\\\n",
       "\t 11 & DLPFC\\_OutPhase & follow\\_up & 0.92\\\\\n",
       "\t 12 & DLPFC\\_OutPhase & follow\\_up & 0.69\\\\\n",
       "\t  1 & DLPFC\\_InPhase  & follow\\_up & 0.86\\\\\n",
       "\t  2 & DLPFC\\_InPhase  & follow\\_up & 0.99\\\\\n",
       "\t  3 & DLPFC\\_InPhase  & follow\\_up & 0.91\\\\\n",
       "\t  4 & DLPFC\\_InPhase  & follow\\_up & 0.92\\\\\n",
       "\t  5 & DLPFC\\_InPhase  & follow\\_up & 0.76\\\\\n",
       "\t  6 & DLPFC\\_InPhase  & follow\\_up & 0.75\\\\\n",
       "\t  7 & DLPFC\\_InPhase  & follow\\_up & 0.87\\\\\n",
       "\t  8 & DLPFC\\_InPhase  & follow\\_up & 0.89\\\\\n",
       "\t  9 & DLPFC\\_InPhase  & follow\\_up & 0.94\\\\\n",
       "\t 10 & DLPFC\\_InPhase  & follow\\_up & 0.93\\\\\n",
       "\t 11 & DLPFC\\_InPhase  & follow\\_up & 0.92\\\\\n",
       "\t 12 & DLPFC\\_InPhase  & follow\\_up & 0.80\\\\\n",
       "\\end{tabular}\n"
      ],
      "text/markdown": [
       "\n",
       "A tibble: 72 × 4\n",
       "\n",
       "| id &lt;dbl&gt; | group &lt;chr&gt; | time &lt;chr&gt; | Learning_rate &lt;dbl&gt; |\n",
       "|---|---|---|---|\n",
       "|  1 | DLPFC_OutPhase | pre_test  | 0.83 |\n",
       "|  2 | DLPFC_OutPhase | pre_test  | 0.97 |\n",
       "|  3 | DLPFC_OutPhase | pre_test  | 0.93 |\n",
       "|  4 | DLPFC_OutPhase | pre_test  | 0.92 |\n",
       "|  5 | DLPFC_OutPhase | pre_test  | 0.77 |\n",
       "|  6 | DLPFC_OutPhase | pre_test  | 0.72 |\n",
       "|  7 | DLPFC_OutPhase | pre_test  | 0.92 |\n",
       "|  8 | DLPFC_OutPhase | pre_test  | 0.92 |\n",
       "|  9 | DLPFC_OutPhase | pre_test  | 0.95 |\n",
       "| 10 | DLPFC_OutPhase | pre_test  | 0.92 |\n",
       "| 11 | DLPFC_OutPhase | pre_test  | 0.92 |\n",
       "| 12 | DLPFC_OutPhase | pre_test  | 0.79 |\n",
       "|  1 | DLPFC_InPhase  | pre_test  | 0.84 |\n",
       "|  2 | DLPFC_InPhase  | pre_test  | 1.00 |\n",
       "|  3 | DLPFC_InPhase  | pre_test  | 0.91 |\n",
       "|  4 | DLPFC_InPhase  | pre_test  | 0.91 |\n",
       "|  5 | DLPFC_InPhase  | pre_test  | 0.74 |\n",
       "|  6 | DLPFC_InPhase  | pre_test  | 0.76 |\n",
       "|  7 | DLPFC_InPhase  | pre_test  | 0.90 |\n",
       "|  8 | DLPFC_InPhase  | pre_test  | 0.89 |\n",
       "|  9 | DLPFC_InPhase  | pre_test  | 0.93 |\n",
       "| 10 | DLPFC_InPhase  | pre_test  | 0.90 |\n",
       "| 11 | DLPFC_InPhase  | pre_test  | 0.93 |\n",
       "| 12 | DLPFC_InPhase  | pre_test  | 0.80 |\n",
       "|  1 | DLPFC_OutPhase | post_test | 0.69 |\n",
       "|  2 | DLPFC_OutPhase | post_test | 0.88 |\n",
       "|  3 | DLPFC_OutPhase | post_test | 0.89 |\n",
       "|  4 | DLPFC_OutPhase | post_test | 0.89 |\n",
       "|  5 | DLPFC_OutPhase | post_test | 0.68 |\n",
       "|  6 | DLPFC_OutPhase | post_test | 0.63 |\n",
       "| ⋮ | ⋮ | ⋮ | ⋮ |\n",
       "|  7 | DLPFC_InPhase  | post_test | 0.87 |\n",
       "|  8 | DLPFC_InPhase  | post_test | 0.88 |\n",
       "|  9 | DLPFC_InPhase  | post_test | 0.93 |\n",
       "| 10 | DLPFC_InPhase  | post_test | 0.95 |\n",
       "| 11 | DLPFC_InPhase  | post_test | 0.91 |\n",
       "| 12 | DLPFC_InPhase  | post_test | 0.78 |\n",
       "|  1 | DLPFC_OutPhase | follow_up | 0.77 |\n",
       "|  2 | DLPFC_OutPhase | follow_up | 0.95 |\n",
       "|  3 | DLPFC_OutPhase | follow_up | 0.92 |\n",
       "|  4 | DLPFC_OutPhase | follow_up | 0.92 |\n",
       "|  5 | DLPFC_OutPhase | follow_up | 0.73 |\n",
       "|  6 | DLPFC_OutPhase | follow_up | 0.65 |\n",
       "|  7 | DLPFC_OutPhase | follow_up | 0.89 |\n",
       "|  8 | DLPFC_OutPhase | follow_up | 0.87 |\n",
       "|  9 | DLPFC_OutPhase | follow_up | 0.91 |\n",
       "| 10 | DLPFC_OutPhase | follow_up | 0.84 |\n",
       "| 11 | DLPFC_OutPhase | follow_up | 0.92 |\n",
       "| 12 | DLPFC_OutPhase | follow_up | 0.69 |\n",
       "|  1 | DLPFC_InPhase  | follow_up | 0.86 |\n",
       "|  2 | DLPFC_InPhase  | follow_up | 0.99 |\n",
       "|  3 | DLPFC_InPhase  | follow_up | 0.91 |\n",
       "|  4 | DLPFC_InPhase  | follow_up | 0.92 |\n",
       "|  5 | DLPFC_InPhase  | follow_up | 0.76 |\n",
       "|  6 | DLPFC_InPhase  | follow_up | 0.75 |\n",
       "|  7 | DLPFC_InPhase  | follow_up | 0.87 |\n",
       "|  8 | DLPFC_InPhase  | follow_up | 0.89 |\n",
       "|  9 | DLPFC_InPhase  | follow_up | 0.94 |\n",
       "| 10 | DLPFC_InPhase  | follow_up | 0.93 |\n",
       "| 11 | DLPFC_InPhase  | follow_up | 0.92 |\n",
       "| 12 | DLPFC_InPhase  | follow_up | 0.80 |\n",
       "\n"
      ],
      "text/plain": [
       "   id group          time      Learning_rate\n",
       "1   1 DLPFC_OutPhase pre_test  0.83         \n",
       "2   2 DLPFC_OutPhase pre_test  0.97         \n",
       "3   3 DLPFC_OutPhase pre_test  0.93         \n",
       "4   4 DLPFC_OutPhase pre_test  0.92         \n",
       "5   5 DLPFC_OutPhase pre_test  0.77         \n",
       "6   6 DLPFC_OutPhase pre_test  0.72         \n",
       "7   7 DLPFC_OutPhase pre_test  0.92         \n",
       "8   8 DLPFC_OutPhase pre_test  0.92         \n",
       "9   9 DLPFC_OutPhase pre_test  0.95         \n",
       "10 10 DLPFC_OutPhase pre_test  0.92         \n",
       "11 11 DLPFC_OutPhase pre_test  0.92         \n",
       "12 12 DLPFC_OutPhase pre_test  0.79         \n",
       "13  1 DLPFC_InPhase  pre_test  0.84         \n",
       "14  2 DLPFC_InPhase  pre_test  1.00         \n",
       "15  3 DLPFC_InPhase  pre_test  0.91         \n",
       "16  4 DLPFC_InPhase  pre_test  0.91         \n",
       "17  5 DLPFC_InPhase  pre_test  0.74         \n",
       "18  6 DLPFC_InPhase  pre_test  0.76         \n",
       "19  7 DLPFC_InPhase  pre_test  0.90         \n",
       "20  8 DLPFC_InPhase  pre_test  0.89         \n",
       "21  9 DLPFC_InPhase  pre_test  0.93         \n",
       "22 10 DLPFC_InPhase  pre_test  0.90         \n",
       "23 11 DLPFC_InPhase  pre_test  0.93         \n",
       "24 12 DLPFC_InPhase  pre_test  0.80         \n",
       "25  1 DLPFC_OutPhase post_test 0.69         \n",
       "26  2 DLPFC_OutPhase post_test 0.88         \n",
       "27  3 DLPFC_OutPhase post_test 0.89         \n",
       "28  4 DLPFC_OutPhase post_test 0.89         \n",
       "29  5 DLPFC_OutPhase post_test 0.68         \n",
       "30  6 DLPFC_OutPhase post_test 0.63         \n",
       "⋮  ⋮  ⋮              ⋮         ⋮            \n",
       "43  7 DLPFC_InPhase  post_test 0.87         \n",
       "44  8 DLPFC_InPhase  post_test 0.88         \n",
       "45  9 DLPFC_InPhase  post_test 0.93         \n",
       "46 10 DLPFC_InPhase  post_test 0.95         \n",
       "47 11 DLPFC_InPhase  post_test 0.91         \n",
       "48 12 DLPFC_InPhase  post_test 0.78         \n",
       "49  1 DLPFC_OutPhase follow_up 0.77         \n",
       "50  2 DLPFC_OutPhase follow_up 0.95         \n",
       "51  3 DLPFC_OutPhase follow_up 0.92         \n",
       "52  4 DLPFC_OutPhase follow_up 0.92         \n",
       "53  5 DLPFC_OutPhase follow_up 0.73         \n",
       "54  6 DLPFC_OutPhase follow_up 0.65         \n",
       "55  7 DLPFC_OutPhase follow_up 0.89         \n",
       "56  8 DLPFC_OutPhase follow_up 0.87         \n",
       "57  9 DLPFC_OutPhase follow_up 0.91         \n",
       "58 10 DLPFC_OutPhase follow_up 0.84         \n",
       "59 11 DLPFC_OutPhase follow_up 0.92         \n",
       "60 12 DLPFC_OutPhase follow_up 0.69         \n",
       "61  1 DLPFC_InPhase  follow_up 0.86         \n",
       "62  2 DLPFC_InPhase  follow_up 0.99         \n",
       "63  3 DLPFC_InPhase  follow_up 0.91         \n",
       "64  4 DLPFC_InPhase  follow_up 0.92         \n",
       "65  5 DLPFC_InPhase  follow_up 0.76         \n",
       "66  6 DLPFC_InPhase  follow_up 0.75         \n",
       "67  7 DLPFC_InPhase  follow_up 0.87         \n",
       "68  8 DLPFC_InPhase  follow_up 0.89         \n",
       "69  9 DLPFC_InPhase  follow_up 0.94         \n",
       "70 10 DLPFC_InPhase  follow_up 0.93         \n",
       "71 11 DLPFC_InPhase  follow_up 0.92         \n",
       "72 12 DLPFC_InPhase  follow_up 0.80         "
      ]
     },
     "metadata": {},
     "output_type": "display_data"
    }
   ],
   "source": [
    "Learning_TwoGr"
   ]
  },
  {
   "cell_type": "code",
   "execution_count": 9,
   "id": "dce0c1ee-ec2b-4557-accd-5c704d32be59",
   "metadata": {},
   "outputs": [
    {
     "data": {
      "text/html": [
       "<table class=\"dataframe\">\n",
       "<caption>A tibble: 6 × 6</caption>\n",
       "<thead>\n",
       "\t<tr><th scope=col>group</th><th scope=col>time</th><th scope=col>variable</th><th scope=col>n</th><th scope=col>mean</th><th scope=col>sd</th></tr>\n",
       "\t<tr><th scope=col>&lt;chr&gt;</th><th scope=col>&lt;chr&gt;</th><th scope=col>&lt;fct&gt;</th><th scope=col>&lt;dbl&gt;</th><th scope=col>&lt;dbl&gt;</th><th scope=col>&lt;dbl&gt;</th></tr>\n",
       "</thead>\n",
       "<tbody>\n",
       "\t<tr><td>DLPFC_InPhase </td><td>follow_up</td><td>Learning_rate</td><td>12</td><td>0.878</td><td>0.074</td></tr>\n",
       "\t<tr><td>DLPFC_InPhase </td><td>post_test</td><td>Learning_rate</td><td>12</td><td>0.877</td><td>0.081</td></tr>\n",
       "\t<tr><td>DLPFC_InPhase </td><td>pre_test </td><td>Learning_rate</td><td>12</td><td>0.876</td><td>0.076</td></tr>\n",
       "\t<tr><td>DLPFC_OutPhase</td><td>follow_up</td><td>Learning_rate</td><td>12</td><td>0.838</td><td>0.102</td></tr>\n",
       "\t<tr><td>DLPFC_OutPhase</td><td>post_test</td><td>Learning_rate</td><td>12</td><td>0.787</td><td>0.105</td></tr>\n",
       "\t<tr><td>DLPFC_OutPhase</td><td>pre_test </td><td>Learning_rate</td><td>12</td><td>0.880</td><td>0.081</td></tr>\n",
       "</tbody>\n",
       "</table>\n"
      ],
      "text/latex": [
       "A tibble: 6 × 6\n",
       "\\begin{tabular}{llllll}\n",
       " group & time & variable & n & mean & sd\\\\\n",
       " <chr> & <chr> & <fct> & <dbl> & <dbl> & <dbl>\\\\\n",
       "\\hline\n",
       "\t DLPFC\\_InPhase  & follow\\_up & Learning\\_rate & 12 & 0.878 & 0.074\\\\\n",
       "\t DLPFC\\_InPhase  & post\\_test & Learning\\_rate & 12 & 0.877 & 0.081\\\\\n",
       "\t DLPFC\\_InPhase  & pre\\_test  & Learning\\_rate & 12 & 0.876 & 0.076\\\\\n",
       "\t DLPFC\\_OutPhase & follow\\_up & Learning\\_rate & 12 & 0.838 & 0.102\\\\\n",
       "\t DLPFC\\_OutPhase & post\\_test & Learning\\_rate & 12 & 0.787 & 0.105\\\\\n",
       "\t DLPFC\\_OutPhase & pre\\_test  & Learning\\_rate & 12 & 0.880 & 0.081\\\\\n",
       "\\end{tabular}\n"
      ],
      "text/markdown": [
       "\n",
       "A tibble: 6 × 6\n",
       "\n",
       "| group &lt;chr&gt; | time &lt;chr&gt; | variable &lt;fct&gt; | n &lt;dbl&gt; | mean &lt;dbl&gt; | sd &lt;dbl&gt; |\n",
       "|---|---|---|---|---|---|\n",
       "| DLPFC_InPhase  | follow_up | Learning_rate | 12 | 0.878 | 0.074 |\n",
       "| DLPFC_InPhase  | post_test | Learning_rate | 12 | 0.877 | 0.081 |\n",
       "| DLPFC_InPhase  | pre_test  | Learning_rate | 12 | 0.876 | 0.076 |\n",
       "| DLPFC_OutPhase | follow_up | Learning_rate | 12 | 0.838 | 0.102 |\n",
       "| DLPFC_OutPhase | post_test | Learning_rate | 12 | 0.787 | 0.105 |\n",
       "| DLPFC_OutPhase | pre_test  | Learning_rate | 12 | 0.880 | 0.081 |\n",
       "\n"
      ],
      "text/plain": [
       "  group          time      variable      n  mean  sd   \n",
       "1 DLPFC_InPhase  follow_up Learning_rate 12 0.878 0.074\n",
       "2 DLPFC_InPhase  post_test Learning_rate 12 0.877 0.081\n",
       "3 DLPFC_InPhase  pre_test  Learning_rate 12 0.876 0.076\n",
       "4 DLPFC_OutPhase follow_up Learning_rate 12 0.838 0.102\n",
       "5 DLPFC_OutPhase post_test Learning_rate 12 0.787 0.105\n",
       "6 DLPFC_OutPhase pre_test  Learning_rate 12 0.880 0.081"
      ]
     },
     "metadata": {},
     "output_type": "display_data"
    }
   ],
   "source": [
    "Learning_TwoGr %>% group_by(group,time) %>% get_summary_stats(Learning_rate, type = \"mean_sd\")"
   ]
  },
  {
   "cell_type": "code",
   "execution_count": 10,
   "id": "f8c596e8-9d09-4ad6-ab71-2dcfaad70fd1",
   "metadata": {},
   "outputs": [
    {
     "data": {
      "image/png": "[encoded data removed]",
      "text/plain": [
       "plot without title"
      ]
     },
     "metadata": {
      "image/png": {
       "height": 420,
       "width": 420
      }
     },
     "output_type": "display_data"
    }
   ],
   "source": [
    "ggboxplot(Learning_TwoGr, x= \"time\", y = \"Learning_rate\", color = \"group\")"
   ]
  },
  {
   "cell_type": "code",
   "execution_count": 11,
   "id": "6f9d8120-2d81-4031-819f-a4cc96ceb0db",
   "metadata": {},
   "outputs": [
    {
     "data": {
      "text/html": [
       "<table class=\"dataframe\">\n",
       "<caption>A data.frame: 0 × 6</caption>\n",
       "<thead>\n",
       "\t<tr><th scope=col>group</th><th scope=col>time</th><th scope=col>id</th><th scope=col>Learning_rate</th><th scope=col>is.outlier</th><th scope=col>is.extreme</th></tr>\n",
       "\t<tr><th scope=col>&lt;chr&gt;</th><th scope=col>&lt;chr&gt;</th><th scope=col>&lt;dbl&gt;</th><th scope=col>&lt;dbl&gt;</th><th scope=col>&lt;lgl&gt;</th><th scope=col>&lt;lgl&gt;</th></tr>\n",
       "</thead>\n",
       "<tbody>\n",
       "</tbody>\n",
       "</table>\n"
      ],
      "text/latex": [
       "A data.frame: 0 × 6\n",
       "\\begin{tabular}{llllll}\n",
       " group & time & id & Learning\\_rate & is.outlier & is.extreme\\\\\n",
       " <chr> & <chr> & <dbl> & <dbl> & <lgl> & <lgl>\\\\\n",
       "\\hline\n",
       "\\end{tabular}\n"
      ],
      "text/markdown": [
       "\n",
       "A data.frame: 0 × 6\n",
       "\n",
       "| group &lt;chr&gt; | time &lt;chr&gt; | id &lt;dbl&gt; | Learning_rate &lt;dbl&gt; | is.outlier &lt;lgl&gt; | is.extreme &lt;lgl&gt; |\n",
       "|---|---|---|---|---|---|\n",
       "\n"
      ],
      "text/plain": [
       "     group time id Learning_rate is.outlier is.extreme"
      ]
     },
     "metadata": {},
     "output_type": "display_data"
    }
   ],
   "source": [
    "Learning_TwoGr %>% group_by(group, time) %>% identify_outliers(Learning_rate)"
   ]
  },
  {
   "cell_type": "code",
   "execution_count": 12,
   "id": "436191a6-17e8-4d7c-9283-7579c7c2936f",
   "metadata": {},
   "outputs": [
    {
     "data": {
      "image/png": "[encoded data removed]",
      "text/plain": [
       "plot without title"
      ]
     },
     "metadata": {
      "image/png": {
       "height": 420,
       "width": 420
      }
     },
     "output_type": "display_data"
    }
   ],
   "source": [
    "ggqqplot(Learning_TwoGr, \"Learning_rate\") + facet_grid(time ~ group)"
   ]
  },
  {
   "cell_type": "code",
   "execution_count": 13,
   "id": "c12b76b4-a8ee-4fbe-affe-140247bb02cc",
   "metadata": {},
   "outputs": [
    {
     "data": {
      "text/html": [
       "<table class=\"dataframe\">\n",
       "<caption>A tibble: 6 × 5</caption>\n",
       "<thead>\n",
       "\t<tr><th scope=col>group</th><th scope=col>time</th><th scope=col>variable</th><th scope=col>statistic</th><th scope=col>p</th></tr>\n",
       "\t<tr><th scope=col>&lt;chr&gt;</th><th scope=col>&lt;chr&gt;</th><th scope=col>&lt;chr&gt;</th><th scope=col>&lt;dbl&gt;</th><th scope=col>&lt;dbl&gt;</th></tr>\n",
       "</thead>\n",
       "<tbody>\n",
       "\t<tr><td>DLPFC_InPhase </td><td>follow_up</td><td>Learning_rate</td><td>0.9234678</td><td>0.31596236</td></tr>\n",
       "\t<tr><td>DLPFC_InPhase </td><td>post_test</td><td>Learning_rate</td><td>0.8858129</td><td>0.10407920</td></tr>\n",
       "\t<tr><td>DLPFC_InPhase </td><td>pre_test </td><td>Learning_rate</td><td>0.9191145</td><td>0.27866459</td></tr>\n",
       "\t<tr><td>DLPFC_OutPhase</td><td>follow_up</td><td>Learning_rate</td><td>0.8681048</td><td>0.06183503</td></tr>\n",
       "\t<tr><td>DLPFC_OutPhase</td><td>post_test</td><td>Learning_rate</td><td>0.8868127</td><td>0.10720878</td></tr>\n",
       "\t<tr><td>DLPFC_OutPhase</td><td>pre_test </td><td>Learning_rate</td><td>0.8282109</td><td>0.01996624</td></tr>\n",
       "</tbody>\n",
       "</table>\n"
      ],
      "text/latex": [
       "A tibble: 6 × 5\n",
       "\\begin{tabular}{lllll}\n",
       " group & time & variable & statistic & p\\\\\n",
       " <chr> & <chr> & <chr> & <dbl> & <dbl>\\\\\n",
       "\\hline\n",
       "\t DLPFC\\_InPhase  & follow\\_up & Learning\\_rate & 0.9234678 & 0.31596236\\\\\n",
       "\t DLPFC\\_InPhase  & post\\_test & Learning\\_rate & 0.8858129 & 0.10407920\\\\\n",
       "\t DLPFC\\_InPhase  & pre\\_test  & Learning\\_rate & 0.9191145 & 0.27866459\\\\\n",
       "\t DLPFC\\_OutPhase & follow\\_up & Learning\\_rate & 0.8681048 & 0.06183503\\\\\n",
       "\t DLPFC\\_OutPhase & post\\_test & Learning\\_rate & 0.8868127 & 0.10720878\\\\\n",
       "\t DLPFC\\_OutPhase & pre\\_test  & Learning\\_rate & 0.8282109 & 0.01996624\\\\\n",
       "\\end{tabular}\n"
      ],
      "text/markdown": [
       "\n",
       "A tibble: 6 × 5\n",
       "\n",
       "| group &lt;chr&gt; | time &lt;chr&gt; | variable &lt;chr&gt; | statistic &lt;dbl&gt; | p &lt;dbl&gt; |\n",
       "|---|---|---|---|---|\n",
       "| DLPFC_InPhase  | follow_up | Learning_rate | 0.9234678 | 0.31596236 |\n",
       "| DLPFC_InPhase  | post_test | Learning_rate | 0.8858129 | 0.10407920 |\n",
       "| DLPFC_InPhase  | pre_test  | Learning_rate | 0.9191145 | 0.27866459 |\n",
       "| DLPFC_OutPhase | follow_up | Learning_rate | 0.8681048 | 0.06183503 |\n",
       "| DLPFC_OutPhase | post_test | Learning_rate | 0.8868127 | 0.10720878 |\n",
       "| DLPFC_OutPhase | pre_test  | Learning_rate | 0.8282109 | 0.01996624 |\n",
       "\n"
      ],
      "text/plain": [
       "  group          time      variable      statistic p         \n",
       "1 DLPFC_InPhase  follow_up Learning_rate 0.9234678 0.31596236\n",
       "2 DLPFC_InPhase  post_test Learning_rate 0.8858129 0.10407920\n",
       "3 DLPFC_InPhase  pre_test  Learning_rate 0.9191145 0.27866459\n",
       "4 DLPFC_OutPhase follow_up Learning_rate 0.8681048 0.06183503\n",
       "5 DLPFC_OutPhase post_test Learning_rate 0.8868127 0.10720878\n",
       "6 DLPFC_OutPhase pre_test  Learning_rate 0.8282109 0.01996624"
      ]
     },
     "metadata": {},
     "output_type": "display_data"
    }
   ],
   "source": [
    "Learning_TwoGr %>% group_by(group, time) %>% shapiro_test(Learning_rate)"
   ]
  },
  {
   "cell_type": "code",
   "execution_count": 14,
   "id": "488e86d4-93a3-49ae-b174-6c1498d07424",
   "metadata": {},
   "outputs": [
    {
     "data": {
      "text/html": [
       "<dl>\n",
       "\t<dt>$ANOVA</dt>\n",
       "\t\t<dd><table class=\"dataframe\">\n",
       "<caption>A data.frame: 3 × 7</caption>\n",
       "<thead>\n",
       "\t<tr><th scope=col>Effect</th><th scope=col>DFn</th><th scope=col>DFd</th><th scope=col>F</th><th scope=col>p</th><th scope=col>p&lt;.05</th><th scope=col>ges</th></tr>\n",
       "\t<tr><th scope=col>&lt;chr&gt;</th><th scope=col>&lt;dbl&gt;</th><th scope=col>&lt;dbl&gt;</th><th scope=col>&lt;dbl&gt;</th><th scope=col>&lt;dbl&gt;</th><th scope=col>&lt;chr&gt;</th><th scope=col>&lt;dbl&gt;</th></tr>\n",
       "</thead>\n",
       "<tbody>\n",
       "\t<tr><td>group     </td><td>1</td><td>11</td><td>15.541</td><td>2.00e-03</td><td>*</td><td>0.059</td></tr>\n",
       "\t<tr><td>time      </td><td>2</td><td>22</td><td>27.369</td><td>1.08e-06</td><td>*</td><td>0.049</td></tr>\n",
       "\t<tr><td>group:time</td><td>2</td><td>22</td><td>30.424</td><td>4.63e-07</td><td>*</td><td>0.050</td></tr>\n",
       "</tbody>\n",
       "</table>\n",
       "</dd>\n",
       "\t<dt>$`Mauchly's Test for Sphericity`</dt>\n",
       "\t\t<dd><table class=\"dataframe\">\n",
       "<caption>A data.frame: 2 × 4</caption>\n",
       "<thead>\n",
       "\t<tr><th></th><th scope=col>Effect</th><th scope=col>W</th><th scope=col>p</th><th scope=col>p&lt;.05</th></tr>\n",
       "\t<tr><th></th><th scope=col>&lt;chr&gt;</th><th scope=col>&lt;dbl&gt;</th><th scope=col>&lt;dbl&gt;</th><th scope=col>&lt;chr&gt;</th></tr>\n",
       "</thead>\n",
       "<tbody>\n",
       "\t<tr><th scope=row>1</th><td>time      </td><td>0.469</td><td>0.023</td><td>*</td></tr>\n",
       "\t<tr><th scope=row>2</th><td>group:time</td><td>0.616</td><td>0.089</td><td> </td></tr>\n",
       "</tbody>\n",
       "</table>\n",
       "</dd>\n",
       "\t<dt>$`Sphericity Corrections`</dt>\n",
       "\t\t<dd><table class=\"dataframe\">\n",
       "<caption>A data.frame: 2 × 9</caption>\n",
       "<thead>\n",
       "\t<tr><th scope=col>Effect</th><th scope=col>GGe</th><th scope=col>DF[GG]</th><th scope=col>p[GG]</th><th scope=col>p[GG]&lt;.05</th><th scope=col>HFe</th><th scope=col>DF[HF]</th><th scope=col>p[HF]</th><th scope=col>p[HF]&lt;.05</th></tr>\n",
       "\t<tr><th scope=col>&lt;chr&gt;</th><th scope=col>&lt;dbl&gt;</th><th scope=col>&lt;chr&gt;</th><th scope=col>&lt;dbl&gt;</th><th scope=col>&lt;chr&gt;</th><th scope=col>&lt;dbl&gt;</th><th scope=col>&lt;chr&gt;</th><th scope=col>&lt;dbl&gt;</th><th scope=col>&lt;chr&gt;</th></tr>\n",
       "</thead>\n",
       "<tbody>\n",
       "\t<tr><td>time      </td><td>0.653</td><td>1.31, 14.37</td><td>5.03e-05</td><td>*</td><td>0.705</td><td>1.41, 15.52</td><td>2.81e-05</td><td>*</td></tr>\n",
       "\t<tr><td>group:time</td><td>0.723</td><td>1.45, 15.9 </td><td>1.25e-05</td><td>*</td><td>0.803</td><td>1.61, 17.66</td><td>4.82e-06</td><td>*</td></tr>\n",
       "</tbody>\n",
       "</table>\n",
       "</dd>\n",
       "</dl>\n"
      ],
      "text/latex": [
       "\\begin{description}\n",
       "\\item[\\$ANOVA] A data.frame: 3 × 7\n",
       "\\begin{tabular}{lllllll}\n",
       " Effect & DFn & DFd & F & p & p<.05 & ges\\\\\n",
       " <chr> & <dbl> & <dbl> & <dbl> & <dbl> & <chr> & <dbl>\\\\\n",
       "\\hline\n",
       "\t group      & 1 & 11 & 15.541 & 2.00e-03 & * & 0.059\\\\\n",
       "\t time       & 2 & 22 & 27.369 & 1.08e-06 & * & 0.049\\\\\n",
       "\t group:time & 2 & 22 & 30.424 & 4.63e-07 & * & 0.050\\\\\n",
       "\\end{tabular}\n",
       "\n",
       "\\item[\\$`Mauchly's Test for Sphericity`] A data.frame: 2 × 4\n",
       "\\begin{tabular}{r|llll}\n",
       "  & Effect & W & p & p<.05\\\\\n",
       "  & <chr> & <dbl> & <dbl> & <chr>\\\\\n",
       "\\hline\n",
       "\t1 & time       & 0.469 & 0.023 & *\\\\\n",
       "\t2 & group:time & 0.616 & 0.089 &  \\\\\n",
       "\\end{tabular}\n",
       "\n",
       "\\item[\\$`Sphericity Corrections`] A data.frame: 2 × 9\n",
       "\\begin{tabular}{lllllllll}\n",
       " Effect & GGe & DF{[}GG{]} & p{[}GG{]} & p{[}GG{]}<.05 & HFe & DF{[}HF{]} & p{[}HF{]} & p{[}HF{]}<.05\\\\\n",
       " <chr> & <dbl> & <chr> & <dbl> & <chr> & <dbl> & <chr> & <dbl> & <chr>\\\\\n",
       "\\hline\n",
       "\t time       & 0.653 & 1.31, 14.37 & 5.03e-05 & * & 0.705 & 1.41, 15.52 & 2.81e-05 & *\\\\\n",
       "\t group:time & 0.723 & 1.45, 15.9  & 1.25e-05 & * & 0.803 & 1.61, 17.66 & 4.82e-06 & *\\\\\n",
       "\\end{tabular}\n",
       "\n",
       "\\end{description}\n"
      ],
      "text/markdown": [
       "$ANOVA\n",
       ":   \n",
       "A data.frame: 3 × 7\n",
       "\n",
       "| Effect &lt;chr&gt; | DFn &lt;dbl&gt; | DFd &lt;dbl&gt; | F &lt;dbl&gt; | p &lt;dbl&gt; | p&lt;.05 &lt;chr&gt; | ges &lt;dbl&gt; |\n",
       "|---|---|---|---|---|---|---|\n",
       "| group      | 1 | 11 | 15.541 | 2.00e-03 | * | 0.059 |\n",
       "| time       | 2 | 22 | 27.369 | 1.08e-06 | * | 0.049 |\n",
       "| group:time | 2 | 22 | 30.424 | 4.63e-07 | * | 0.050 |\n",
       "\n",
       "\n",
       "$`Mauchly's Test for Sphericity`\n",
       ":   \n",
       "A data.frame: 2 × 4\n",
       "\n",
       "| <!--/--> | Effect &lt;chr&gt; | W &lt;dbl&gt; | p &lt;dbl&gt; | p&lt;.05 &lt;chr&gt; |\n",
       "|---|---|---|---|---|\n",
       "| 1 | time       | 0.469 | 0.023 | * |\n",
       "| 2 | group:time | 0.616 | 0.089 | <!----> |\n",
       "\n",
       "\n",
       "$`Sphericity Corrections`\n",
       ":   \n",
       "A data.frame: 2 × 9\n",
       "\n",
       "| Effect &lt;chr&gt; | GGe &lt;dbl&gt; | DF[GG] &lt;chr&gt; | p[GG] &lt;dbl&gt; | p[GG]&lt;.05 &lt;chr&gt; | HFe &lt;dbl&gt; | DF[HF] &lt;chr&gt; | p[HF] &lt;dbl&gt; | p[HF]&lt;.05 &lt;chr&gt; |\n",
       "|---|---|---|---|---|---|---|---|---|\n",
       "| time       | 0.653 | 1.31, 14.37 | 5.03e-05 | * | 0.705 | 1.41, 15.52 | 2.81e-05 | * |\n",
       "| group:time | 0.723 | 1.45, 15.9  | 1.25e-05 | * | 0.803 | 1.61, 17.66 | 4.82e-06 | * |\n",
       "\n",
       "\n",
       "\n",
       "\n"
      ],
      "text/plain": [
       "ANOVA Table (type III tests)\n",
       "\n",
       "$ANOVA\n",
       "      Effect DFn DFd      F        p p<.05   ges\n",
       "1      group   1  11 15.541 2.00e-03     * 0.059\n",
       "2       time   2  22 27.369 1.08e-06     * 0.049\n",
       "3 group:time   2  22 30.424 4.63e-07     * 0.050\n",
       "\n",
       "$`Mauchly's Test for Sphericity`\n",
       "      Effect     W     p p<.05\n",
       "1       time 0.469 0.023     *\n",
       "2 group:time 0.616 0.089      \n",
       "\n",
       "$`Sphericity Corrections`\n",
       "      Effect   GGe      DF[GG]    p[GG] p[GG]<.05   HFe      DF[HF]    p[HF]\n",
       "1       time 0.653 1.31, 14.37 5.03e-05         * 0.705 1.41, 15.52 2.81e-05\n",
       "2 group:time 0.723  1.45, 15.9 1.25e-05         * 0.803 1.61, 17.66 4.82e-06\n",
       "  p[HF]<.05\n",
       "1         *\n",
       "2         *\n"
      ]
     },
     "metadata": {},
     "output_type": "display_data"
    }
   ],
   "source": [
    "anova_test(data = Learning_TwoGr, dv = Learning_rate, wid = id, within = c(group, time))"
   ]
  },
  {
   "cell_type": "markdown",
   "id": "b8f4133d-c325-4cb9-9703-b4eec19d0e8d",
   "metadata": {},
   "source": [
    "## Post-hoc tests"
   ]
  },
  {
   "cell_type": "markdown",
   "id": "d2a8e790-3515-4e40-93ed-cbf25c8088a3",
   "metadata": {},
   "source": [
    "از دوراهه به یک راهه "
   ]
  },
  {
   "cell_type": "code",
   "execution_count": 26,
   "id": "84551dfa-a014-4b0c-bde0-885e2bda1743",
   "metadata": {},
   "outputs": [
    {
     "data": {
      "text/html": [
       "<table class=\"dataframe\">\n",
       "<caption>A grouped_anova_test: 3 × 9</caption>\n",
       "<thead>\n",
       "\t<tr><th scope=col>time</th><th scope=col>Effect</th><th scope=col>DFn</th><th scope=col>DFd</th><th scope=col>F</th><th scope=col>p</th><th scope=col>p&lt;.05</th><th scope=col>ges</th><th scope=col>p.adj</th></tr>\n",
       "\t<tr><th scope=col>&lt;chr&gt;</th><th scope=col>&lt;chr&gt;</th><th scope=col>&lt;dbl&gt;</th><th scope=col>&lt;dbl&gt;</th><th scope=col>&lt;dbl&gt;</th><th scope=col>&lt;dbl&gt;</th><th scope=col>&lt;chr&gt;</th><th scope=col>&lt;dbl&gt;</th><th scope=col>&lt;dbl&gt;</th></tr>\n",
       "</thead>\n",
       "<tbody>\n",
       "\t<tr><td>follow_up</td><td>group</td><td>1</td><td>11</td><td> 9.026</td><td>0.01200</td><td>*</td><td>0.052000</td><td>0.03600</td></tr>\n",
       "\t<tr><td>post_test</td><td>group</td><td>1</td><td>11</td><td>30.902</td><td>0.00017</td><td>*</td><td>0.199000</td><td>0.00051</td></tr>\n",
       "\t<tr><td>pre_test </td><td>group</td><td>1</td><td>11</td><td> 0.376</td><td>0.55200</td><td> </td><td>0.000767</td><td>1.00000</td></tr>\n",
       "</tbody>\n",
       "</table>\n"
      ],
      "text/latex": [
       "A grouped\\_anova\\_test: 3 × 9\n",
       "\\begin{tabular}{lllllllll}\n",
       " time & Effect & DFn & DFd & F & p & p<.05 & ges & p.adj\\\\\n",
       " <chr> & <chr> & <dbl> & <dbl> & <dbl> & <dbl> & <chr> & <dbl> & <dbl>\\\\\n",
       "\\hline\n",
       "\t follow\\_up & group & 1 & 11 &  9.026 & 0.01200 & * & 0.052000 & 0.03600\\\\\n",
       "\t post\\_test & group & 1 & 11 & 30.902 & 0.00017 & * & 0.199000 & 0.00051\\\\\n",
       "\t pre\\_test  & group & 1 & 11 &  0.376 & 0.55200 &   & 0.000767 & 1.00000\\\\\n",
       "\\end{tabular}\n"
      ],
      "text/markdown": [
       "\n",
       "A grouped_anova_test: 3 × 9\n",
       "\n",
       "| time &lt;chr&gt; | Effect &lt;chr&gt; | DFn &lt;dbl&gt; | DFd &lt;dbl&gt; | F &lt;dbl&gt; | p &lt;dbl&gt; | p&lt;.05 &lt;chr&gt; | ges &lt;dbl&gt; | p.adj &lt;dbl&gt; |\n",
       "|---|---|---|---|---|---|---|---|---|\n",
       "| follow_up | group | 1 | 11 |  9.026 | 0.01200 | * | 0.052000 | 0.03600 |\n",
       "| post_test | group | 1 | 11 | 30.902 | 0.00017 | * | 0.199000 | 0.00051 |\n",
       "| pre_test  | group | 1 | 11 |  0.376 | 0.55200 | <!----> | 0.000767 | 1.00000 |\n",
       "\n"
      ],
      "text/plain": [
       "  time      Effect DFn DFd F      p       p<.05 ges      p.adj  \n",
       "1 follow_up group  1   11   9.026 0.01200 *     0.052000 0.03600\n",
       "2 post_test group  1   11  30.902 0.00017 *     0.199000 0.00051\n",
       "3 pre_test  group  1   11   0.376 0.55200       0.000767 1.00000"
      ]
     },
     "metadata": {},
     "output_type": "display_data"
    }
   ],
   "source": [
    "Learning_TwoGr %>% group_by(time) %>% anova_test(dv = Learning_rate, wid = id, within = group) %>% adjust_pvalue (method = \"bonferroni\")"
   ]
  },
  {
   "cell_type": "code",
   "execution_count": 1,
   "id": "21704550-f605-4d00-bf89-6d4393cd2c55",
   "metadata": {},
   "outputs": [
    {
     "ename": "ERROR",
     "evalue": "Error in Learning_TwoGr %>% group_by(group) %>% anova_test(dv = Learning_rate, : could not find function \"%>%\"\n",
     "output_type": "error",
     "traceback": [
      "Error in Learning_TwoGr %>% group_by(group) %>% anova_test(dv = Learning_rate, : could not find function \"%>%\"\nTraceback:\n"
     ]
    }
   ],
   "source": [
    "Learning_TwoGr %>% group_by(group) %>%\n",
    "    anova_test(dv = Learning_rate, wid = id, within = time) %>% get_anova_table() %>% adjust_pvalue(method = \"bonferroni\")"
   ]
  },
  {
   "cell_type": "code",
   "execution_count": 30,
   "id": "68b13e51-aca1-41ca-92ba-5e508d838f5a",
   "metadata": {},
   "outputs": [
    {
     "data": {
      "text/html": [
       "<table class=\"dataframe\">\n",
       "<caption>A rstatix_test: 6 × 11</caption>\n",
       "<thead>\n",
       "\t<tr><th></th><th scope=col>group</th><th scope=col>.y.</th><th scope=col>group1</th><th scope=col>group2</th><th scope=col>n1</th><th scope=col>n2</th><th scope=col>statistic</th><th scope=col>df</th><th scope=col>p</th><th scope=col>p.adj</th><th scope=col>p.adj.signif</th></tr>\n",
       "\t<tr><th></th><th scope=col>&lt;chr&gt;</th><th scope=col>&lt;chr&gt;</th><th scope=col>&lt;chr&gt;</th><th scope=col>&lt;chr&gt;</th><th scope=col>&lt;int&gt;</th><th scope=col>&lt;int&gt;</th><th scope=col>&lt;dbl&gt;</th><th scope=col>&lt;dbl&gt;</th><th scope=col>&lt;dbl&gt;</th><th scope=col>&lt;dbl&gt;</th><th scope=col>&lt;chr&gt;</th></tr>\n",
       "</thead>\n",
       "<tbody>\n",
       "\t<tr><th scope=row>1</th><td>DLPFC_InPhase </td><td>Learning_rate</td><td>follow_up</td><td>post_test</td><td>12</td><td>12</td><td> 0.2833584</td><td>11</td><td>7.82e-01</td><td>1.00e+00</td><td>ns  </td></tr>\n",
       "\t<tr><th scope=row>2</th><td>DLPFC_InPhase </td><td>Learning_rate</td><td>follow_up</td><td>pre_test </td><td>12</td><td>12</td><td> 0.5222330</td><td>11</td><td>6.12e-01</td><td>1.00e+00</td><td>ns  </td></tr>\n",
       "\t<tr><th scope=row>3</th><td>DLPFC_InPhase </td><td>Learning_rate</td><td>post_test</td><td>pre_test </td><td>12</td><td>12</td><td> 0.1015346</td><td>11</td><td>9.21e-01</td><td>1.00e+00</td><td>ns  </td></tr>\n",
       "\t<tr><th scope=row>4</th><td>DLPFC_OutPhase</td><td>Learning_rate</td><td>follow_up</td><td>post_test</td><td>12</td><td>12</td><td> 6.4896485</td><td>11</td><td>4.49e-05</td><td>1.35e-04</td><td>*** </td></tr>\n",
       "\t<tr><th scope=row>5</th><td>DLPFC_OutPhase</td><td>Learning_rate</td><td>follow_up</td><td>pre_test </td><td>12</td><td>12</td><td>-4.5301642</td><td>11</td><td>8.58e-04</td><td>3.00e-03</td><td>**  </td></tr>\n",
       "\t<tr><th scope=row>6</th><td>DLPFC_OutPhase</td><td>Learning_rate</td><td>post_test</td><td>pre_test </td><td>12</td><td>12</td><td>-6.9121916</td><td>11</td><td>2.55e-05</td><td>7.65e-05</td><td>****</td></tr>\n",
       "</tbody>\n",
       "</table>\n"
      ],
      "text/latex": [
       "A rstatix\\_test: 6 × 11\n",
       "\\begin{tabular}{r|lllllllllll}\n",
       "  & group & .y. & group1 & group2 & n1 & n2 & statistic & df & p & p.adj & p.adj.signif\\\\\n",
       "  & <chr> & <chr> & <chr> & <chr> & <int> & <int> & <dbl> & <dbl> & <dbl> & <dbl> & <chr>\\\\\n",
       "\\hline\n",
       "\t1 & DLPFC\\_InPhase  & Learning\\_rate & follow\\_up & post\\_test & 12 & 12 &  0.2833584 & 11 & 7.82e-01 & 1.00e+00 & ns  \\\\\n",
       "\t2 & DLPFC\\_InPhase  & Learning\\_rate & follow\\_up & pre\\_test  & 12 & 12 &  0.5222330 & 11 & 6.12e-01 & 1.00e+00 & ns  \\\\\n",
       "\t3 & DLPFC\\_InPhase  & Learning\\_rate & post\\_test & pre\\_test  & 12 & 12 &  0.1015346 & 11 & 9.21e-01 & 1.00e+00 & ns  \\\\\n",
       "\t4 & DLPFC\\_OutPhase & Learning\\_rate & follow\\_up & post\\_test & 12 & 12 &  6.4896485 & 11 & 4.49e-05 & 1.35e-04 & *** \\\\\n",
       "\t5 & DLPFC\\_OutPhase & Learning\\_rate & follow\\_up & pre\\_test  & 12 & 12 & -4.5301642 & 11 & 8.58e-04 & 3.00e-03 & **  \\\\\n",
       "\t6 & DLPFC\\_OutPhase & Learning\\_rate & post\\_test & pre\\_test  & 12 & 12 & -6.9121916 & 11 & 2.55e-05 & 7.65e-05 & ****\\\\\n",
       "\\end{tabular}\n"
      ],
      "text/markdown": [
       "\n",
       "A rstatix_test: 6 × 11\n",
       "\n",
       "| <!--/--> | group &lt;chr&gt; | .y. &lt;chr&gt; | group1 &lt;chr&gt; | group2 &lt;chr&gt; | n1 &lt;int&gt; | n2 &lt;int&gt; | statistic &lt;dbl&gt; | df &lt;dbl&gt; | p &lt;dbl&gt; | p.adj &lt;dbl&gt; | p.adj.signif &lt;chr&gt; |\n",
       "|---|---|---|---|---|---|---|---|---|---|---|---|\n",
       "| 1 | DLPFC_InPhase  | Learning_rate | follow_up | post_test | 12 | 12 |  0.2833584 | 11 | 7.82e-01 | 1.00e+00 | ns   |\n",
       "| 2 | DLPFC_InPhase  | Learning_rate | follow_up | pre_test  | 12 | 12 |  0.5222330 | 11 | 6.12e-01 | 1.00e+00 | ns   |\n",
       "| 3 | DLPFC_InPhase  | Learning_rate | post_test | pre_test  | 12 | 12 |  0.1015346 | 11 | 9.21e-01 | 1.00e+00 | ns   |\n",
       "| 4 | DLPFC_OutPhase | Learning_rate | follow_up | post_test | 12 | 12 |  6.4896485 | 11 | 4.49e-05 | 1.35e-04 | ***  |\n",
       "| 5 | DLPFC_OutPhase | Learning_rate | follow_up | pre_test  | 12 | 12 | -4.5301642 | 11 | 8.58e-04 | 3.00e-03 | **   |\n",
       "| 6 | DLPFC_OutPhase | Learning_rate | post_test | pre_test  | 12 | 12 | -6.9121916 | 11 | 2.55e-05 | 7.65e-05 | **** |\n",
       "\n"
      ],
      "text/plain": [
       "  group          .y.           group1    group2    n1 n2 statistic  df p       \n",
       "1 DLPFC_InPhase  Learning_rate follow_up post_test 12 12  0.2833584 11 7.82e-01\n",
       "2 DLPFC_InPhase  Learning_rate follow_up pre_test  12 12  0.5222330 11 6.12e-01\n",
       "3 DLPFC_InPhase  Learning_rate post_test pre_test  12 12  0.1015346 11 9.21e-01\n",
       "4 DLPFC_OutPhase Learning_rate follow_up post_test 12 12  6.4896485 11 4.49e-05\n",
       "5 DLPFC_OutPhase Learning_rate follow_up pre_test  12 12 -4.5301642 11 8.58e-04\n",
       "6 DLPFC_OutPhase Learning_rate post_test pre_test  12 12 -6.9121916 11 2.55e-05\n",
       "  p.adj    p.adj.signif\n",
       "1 1.00e+00 ns          \n",
       "2 1.00e+00 ns          \n",
       "3 1.00e+00 ns          \n",
       "4 1.35e-04 ***         \n",
       "5 3.00e-03 **          \n",
       "6 7.65e-05 ****        "
      ]
     },
     "metadata": {},
     "output_type": "display_data"
    }
   ],
   "source": [
    "Learning_TwoGr %>% group_by(group) %>% pairwise_t_test(Learning_rate ~ time, paired = TRUE, p.adjust.method = \"bonferroni\")"
   ]
  },
  {
   "cell_type": "code",
   "execution_count": 31,
   "id": "426b2e18-6578-4faf-ab52-687a62ef5ae5",
   "metadata": {},
   "outputs": [],
   "source": [
    "pwc = Learning_TwoGr %>% group_by(group) %>% pairwise_t_test(Learning_rate ~ time, paired = TRUE, p.adjust.method = \"bonferroni\")"
   ]
  },
  {
   "cell_type": "code",
   "execution_count": 35,
   "id": "bc28399c-00c2-4204-a007-63bfeffaad1d",
   "metadata": {},
   "outputs": [],
   "source": [
    "bxp = ggboxplot(Learning_TwoGr, x= \"time\", y = \"Learning_rate\", color = \"group\")"
   ]
  },
  {
   "cell_type": "code",
   "execution_count": 33,
   "id": "5e09a814-ff7b-468b-a6a4-54562478a17e",
   "metadata": {},
   "outputs": [],
   "source": [
    "pwc = pwc %>% add_xy_position(x = \"time\")"
   ]
  },
  {
   "cell_type": "code",
   "execution_count": 36,
   "id": "66c56354-b323-4013-abad-ac2f0f92824a",
   "metadata": {},
   "outputs": [
    {
     "data": {
      "image/png": "[encoded data removed]",
      "text/plain": [
       "plot without title"
      ]
     },
     "metadata": {
      "image/png": {
       "height": 420,
       "width": 420
      }
     },
     "output_type": "display_data"
    }
   ],
   "source": [
    "bxp + stat_pvalue_manual(pwc)"
   ]
  }
 ],
 "metadata": {
  "kernelspec": {
   "display_name": "R",
   "language": "R",
   "name": "ir"
  },
  "language_info": {
   "codemirror_mode": "r",
   "file_extension": ".r",
   "mimetype": "text/x-r-source",
   "name": "R",
   "pygments_lexer": "r",
   "version": "4.3.2"
  }
 },
 "nbformat": 4,
 "nbformat_minor": 5
}
