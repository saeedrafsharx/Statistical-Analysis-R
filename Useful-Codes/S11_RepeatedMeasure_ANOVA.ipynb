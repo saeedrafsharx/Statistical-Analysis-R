{
 "cells": [
  {
   "cell_type": "code",
   "execution_count": 1,
   "id": "bbdc6f66-8807-4a39-9393-8a2f077a6744",
   "metadata": {},
   "outputs": [],
   "source": [
    "library(readxl)"
   ]
  },
  {
   "cell_type": "code",
   "execution_count": 2,
   "id": "060d977b-fd6d-4341-8e86-8ec3f1556296",
   "metadata": {},
   "outputs": [],
   "source": [
    "Learning_data = read_excel(\"D:\\\\Amar\\\\Codes_Data\\\\Learning.xlsx\")"
   ]
  },
  {
   "cell_type": "code",
   "execution_count": 3,
   "id": "c449626c-bbc3-42ef-9378-31bc2fff1793",
   "metadata": {},
   "outputs": [
    {
     "data": {
      "text/html": [
       "<table class=\"dataframe\">\n",
       "<caption>A tibble: 10 × 4</caption>\n",
       "<thead>\n",
       "\t<tr><th scope=col>id</th><th scope=col>t1</th><th scope=col>t2</th><th scope=col>t3</th></tr>\n",
       "\t<tr><th scope=col>&lt;dbl&gt;</th><th scope=col>&lt;dbl&gt;</th><th scope=col>&lt;dbl&gt;</th><th scope=col>&lt;dbl&gt;</th></tr>\n",
       "</thead>\n",
       "<tbody>\n",
       "\t<tr><td> 1</td><td>0.4005027</td><td>0.5182286</td><td>0.7107831</td></tr>\n",
       "\t<tr><td> 2</td><td>0.2558124</td><td>0.6912915</td><td>0.6308434</td></tr>\n",
       "\t<tr><td> 3</td><td>0.3244241</td><td>0.4443434</td><td>0.9778410</td></tr>\n",
       "\t<tr><td> 4</td><td>0.3419538</td><td>0.4711696</td><td>0.8347124</td></tr>\n",
       "\t<tr><td> 5</td><td>0.2871243</td><td>0.3908429</td><td>0.6457287</td></tr>\n",
       "\t<tr><td> 6</td><td>0.2045868</td><td>0.5340549</td><td>0.6653224</td></tr>\n",
       "\t<tr><td> 7</td><td>0.3525992</td><td>0.5580695</td><td>0.6840157</td></tr>\n",
       "\t<tr><td> 8</td><td>0.3179425</td><td>0.4370234</td><td>0.7818623</td></tr>\n",
       "\t<tr><td> 9</td><td>0.3507964</td><td>0.4399808</td><td>0.8471229</td></tr>\n",
       "\t<tr><td>10</td><td>0.3043798</td><td>0.4489376</td><td>0.8581100</td></tr>\n",
       "</tbody>\n",
       "</table>\n"
      ],
      "text/latex": [
       "A tibble: 10 × 4\n",
       "\\begin{tabular}{llll}\n",
       " id & t1 & t2 & t3\\\\\n",
       " <dbl> & <dbl> & <dbl> & <dbl>\\\\\n",
       "\\hline\n",
       "\t  1 & 0.4005027 & 0.5182286 & 0.7107831\\\\\n",
       "\t  2 & 0.2558124 & 0.6912915 & 0.6308434\\\\\n",
       "\t  3 & 0.3244241 & 0.4443434 & 0.9778410\\\\\n",
       "\t  4 & 0.3419538 & 0.4711696 & 0.8347124\\\\\n",
       "\t  5 & 0.2871243 & 0.3908429 & 0.6457287\\\\\n",
       "\t  6 & 0.2045868 & 0.5340549 & 0.6653224\\\\\n",
       "\t  7 & 0.3525992 & 0.5580695 & 0.6840157\\\\\n",
       "\t  8 & 0.3179425 & 0.4370234 & 0.7818623\\\\\n",
       "\t  9 & 0.3507964 & 0.4399808 & 0.8471229\\\\\n",
       "\t 10 & 0.3043798 & 0.4489376 & 0.8581100\\\\\n",
       "\\end{tabular}\n"
      ],
      "text/markdown": [
       "\n",
       "A tibble: 10 × 4\n",
       "\n",
       "| id &lt;dbl&gt; | t1 &lt;dbl&gt; | t2 &lt;dbl&gt; | t3 &lt;dbl&gt; |\n",
       "|---|---|---|---|\n",
       "|  1 | 0.4005027 | 0.5182286 | 0.7107831 |\n",
       "|  2 | 0.2558124 | 0.6912915 | 0.6308434 |\n",
       "|  3 | 0.3244241 | 0.4443434 | 0.9778410 |\n",
       "|  4 | 0.3419538 | 0.4711696 | 0.8347124 |\n",
       "|  5 | 0.2871243 | 0.3908429 | 0.6457287 |\n",
       "|  6 | 0.2045868 | 0.5340549 | 0.6653224 |\n",
       "|  7 | 0.3525992 | 0.5580695 | 0.6840157 |\n",
       "|  8 | 0.3179425 | 0.4370234 | 0.7818623 |\n",
       "|  9 | 0.3507964 | 0.4399808 | 0.8471229 |\n",
       "| 10 | 0.3043798 | 0.4489376 | 0.8581100 |\n",
       "\n"
      ],
      "text/plain": [
       "   id t1        t2        t3       \n",
       "1   1 0.4005027 0.5182286 0.7107831\n",
       "2   2 0.2558124 0.6912915 0.6308434\n",
       "3   3 0.3244241 0.4443434 0.9778410\n",
       "4   4 0.3419538 0.4711696 0.8347124\n",
       "5   5 0.2871243 0.3908429 0.6457287\n",
       "6   6 0.2045868 0.5340549 0.6653224\n",
       "7   7 0.3525992 0.5580695 0.6840157\n",
       "8   8 0.3179425 0.4370234 0.7818623\n",
       "9   9 0.3507964 0.4399808 0.8471229\n",
       "10 10 0.3043798 0.4489376 0.8581100"
      ]
     },
     "metadata": {},
     "output_type": "display_data"
    }
   ],
   "source": [
    "Learning_data"
   ]
  },
  {
   "cell_type": "code",
   "execution_count": 4,
   "id": "2db46e6a-6d5f-4958-9bf7-f8ee7a0b6d10",
   "metadata": {},
   "outputs": [
    {
     "name": "stderr",
     "output_type": "stream",
     "text": [
      "\n",
      "Attaching package: 'rstatix'\n",
      "\n",
      "\n",
      "The following object is masked from 'package:stats':\n",
      "\n",
      "    filter\n",
      "\n",
      "\n"
     ]
    }
   ],
   "source": [
    "library(rstatix)"
   ]
  },
  {
   "cell_type": "code",
   "execution_count": 5,
   "id": "f0e76152-435a-4cc2-bbbc-9692003d0a0f",
   "metadata": {},
   "outputs": [
    {
     "name": "stderr",
     "output_type": "stream",
     "text": [
      "── \u001b[1mAttaching core tidyverse packages\u001b[22m ──────────────────────────────────────────────────────────────── tidyverse 2.0.0 ──\n",
      "\u001b[32m✔\u001b[39m \u001b[34mdplyr    \u001b[39m 1.1.4     \u001b[32m✔\u001b[39m \u001b[34mreadr    \u001b[39m 2.1.4\n",
      "\u001b[32m✔\u001b[39m \u001b[34mforcats  \u001b[39m 1.0.0     \u001b[32m✔\u001b[39m \u001b[34mstringr  \u001b[39m 1.5.1\n",
      "\u001b[32m✔\u001b[39m \u001b[34mggplot2  \u001b[39m 3.4.4     \u001b[32m✔\u001b[39m \u001b[34mtibble   \u001b[39m 3.2.1\n",
      "\u001b[32m✔\u001b[39m \u001b[34mlubridate\u001b[39m 1.9.3     \u001b[32m✔\u001b[39m \u001b[34mtidyr    \u001b[39m 1.3.0\n",
      "\u001b[32m✔\u001b[39m \u001b[34mpurrr    \u001b[39m 1.0.2     \n",
      "── \u001b[1mConflicts\u001b[22m ────────────────────────────────────────────────────────────────────────────────── tidyverse_conflicts() ──\n",
      "\u001b[31m✖\u001b[39m \u001b[34mdplyr\u001b[39m::\u001b[32mfilter()\u001b[39m masks \u001b[34mrstatix\u001b[39m::filter(), \u001b[34mstats\u001b[39m::filter()\n",
      "\u001b[31m✖\u001b[39m \u001b[34mdplyr\u001b[39m::\u001b[32mlag()\u001b[39m    masks \u001b[34mstats\u001b[39m::lag()\n",
      "\u001b[36mℹ\u001b[39m Use the conflicted package (\u001b[3m\u001b[34m<http://conflicted.r-lib.org/>\u001b[39m\u001b[23m) to force all conflicts to become errors\n"
     ]
    }
   ],
   "source": [
    "library(tidyverse)"
   ]
  },
  {
   "cell_type": "code",
   "execution_count": 6,
   "id": "57640c61-83c2-47d4-b0b8-073bef31014d",
   "metadata": {},
   "outputs": [],
   "source": [
    "Learning_data = Learning_data %>% rename(pre_test = t1, post_test = t2, follow_up = t3)"
   ]
  },
  {
   "cell_type": "code",
   "execution_count": 14,
   "id": "c5cda5c2-3c62-4d32-82d8-e394a9acbde7",
   "metadata": {},
   "outputs": [
    {
     "data": {
      "text/html": [
       "<table class=\"dataframe\">\n",
       "<caption>A tibble: 10 × 4</caption>\n",
       "<thead>\n",
       "\t<tr><th scope=col>id</th><th scope=col>pre_test</th><th scope=col>post_test</th><th scope=col>follow_up</th></tr>\n",
       "\t<tr><th scope=col>&lt;dbl&gt;</th><th scope=col>&lt;dbl&gt;</th><th scope=col>&lt;dbl&gt;</th><th scope=col>&lt;dbl&gt;</th></tr>\n",
       "</thead>\n",
       "<tbody>\n",
       "\t<tr><td> 1</td><td>0.4005027</td><td>0.5182286</td><td>0.7107831</td></tr>\n",
       "\t<tr><td> 2</td><td>0.2558124</td><td>0.6912915</td><td>0.6308434</td></tr>\n",
       "\t<tr><td> 3</td><td>0.3244241</td><td>0.4443434</td><td>0.9778410</td></tr>\n",
       "\t<tr><td> 4</td><td>0.3419538</td><td>0.4711696</td><td>0.8347124</td></tr>\n",
       "\t<tr><td> 5</td><td>0.2871243</td><td>0.3908429</td><td>0.6457287</td></tr>\n",
       "\t<tr><td> 6</td><td>0.2045868</td><td>0.5340549</td><td>0.6653224</td></tr>\n",
       "\t<tr><td> 7</td><td>0.3525992</td><td>0.5580695</td><td>0.6840157</td></tr>\n",
       "\t<tr><td> 8</td><td>0.3179425</td><td>0.4370234</td><td>0.7818623</td></tr>\n",
       "\t<tr><td> 9</td><td>0.3507964</td><td>0.4399808</td><td>0.8471229</td></tr>\n",
       "\t<tr><td>10</td><td>0.3043798</td><td>0.4489376</td><td>0.8581100</td></tr>\n",
       "</tbody>\n",
       "</table>\n"
      ],
      "text/latex": [
       "A tibble: 10 × 4\n",
       "\\begin{tabular}{llll}\n",
       " id & pre\\_test & post\\_test & follow\\_up\\\\\n",
       " <dbl> & <dbl> & <dbl> & <dbl>\\\\\n",
       "\\hline\n",
       "\t  1 & 0.4005027 & 0.5182286 & 0.7107831\\\\\n",
       "\t  2 & 0.2558124 & 0.6912915 & 0.6308434\\\\\n",
       "\t  3 & 0.3244241 & 0.4443434 & 0.9778410\\\\\n",
       "\t  4 & 0.3419538 & 0.4711696 & 0.8347124\\\\\n",
       "\t  5 & 0.2871243 & 0.3908429 & 0.6457287\\\\\n",
       "\t  6 & 0.2045868 & 0.5340549 & 0.6653224\\\\\n",
       "\t  7 & 0.3525992 & 0.5580695 & 0.6840157\\\\\n",
       "\t  8 & 0.3179425 & 0.4370234 & 0.7818623\\\\\n",
       "\t  9 & 0.3507964 & 0.4399808 & 0.8471229\\\\\n",
       "\t 10 & 0.3043798 & 0.4489376 & 0.8581100\\\\\n",
       "\\end{tabular}\n"
      ],
      "text/markdown": [
       "\n",
       "A tibble: 10 × 4\n",
       "\n",
       "| id &lt;dbl&gt; | pre_test &lt;dbl&gt; | post_test &lt;dbl&gt; | follow_up &lt;dbl&gt; |\n",
       "|---|---|---|---|\n",
       "|  1 | 0.4005027 | 0.5182286 | 0.7107831 |\n",
       "|  2 | 0.2558124 | 0.6912915 | 0.6308434 |\n",
       "|  3 | 0.3244241 | 0.4443434 | 0.9778410 |\n",
       "|  4 | 0.3419538 | 0.4711696 | 0.8347124 |\n",
       "|  5 | 0.2871243 | 0.3908429 | 0.6457287 |\n",
       "|  6 | 0.2045868 | 0.5340549 | 0.6653224 |\n",
       "|  7 | 0.3525992 | 0.5580695 | 0.6840157 |\n",
       "|  8 | 0.3179425 | 0.4370234 | 0.7818623 |\n",
       "|  9 | 0.3507964 | 0.4399808 | 0.8471229 |\n",
       "| 10 | 0.3043798 | 0.4489376 | 0.8581100 |\n",
       "\n"
      ],
      "text/plain": [
       "   id pre_test  post_test follow_up\n",
       "1   1 0.4005027 0.5182286 0.7107831\n",
       "2   2 0.2558124 0.6912915 0.6308434\n",
       "3   3 0.3244241 0.4443434 0.9778410\n",
       "4   4 0.3419538 0.4711696 0.8347124\n",
       "5   5 0.2871243 0.3908429 0.6457287\n",
       "6   6 0.2045868 0.5340549 0.6653224\n",
       "7   7 0.3525992 0.5580695 0.6840157\n",
       "8   8 0.3179425 0.4370234 0.7818623\n",
       "9   9 0.3507964 0.4399808 0.8471229\n",
       "10 10 0.3043798 0.4489376 0.8581100"
      ]
     },
     "metadata": {},
     "output_type": "display_data"
    }
   ],
   "source": [
    "Learning_data"
   ]
  },
  {
   "cell_type": "markdown",
   "id": "02ca5c52-214a-497a-b84f-38d742a274e2",
   "metadata": {},
   "source": [
    "## تغییر فرمت ستون ها"
   ]
  },
  {
   "cell_type": "code",
   "execution_count": 7,
   "id": "551451ea-7c05-4908-bb3c-c4b2b80bce13",
   "metadata": {},
   "outputs": [],
   "source": [
    "Learning_data = Learning_data %>% gather(key = \"time\", value = \"Learning_rate\", pre_test, post_test, follow_up)"
   ]
  },
  {
   "cell_type": "code",
   "execution_count": 8,
   "id": "2c9e460d-0767-4acd-9cfb-d041ed414149",
   "metadata": {},
   "outputs": [
    {
     "data": {
      "text/html": [
       "<table class=\"dataframe\">\n",
       "<caption>A tibble: 30 × 3</caption>\n",
       "<thead>\n",
       "\t<tr><th scope=col>id</th><th scope=col>time</th><th scope=col>Learning_rate</th></tr>\n",
       "\t<tr><th scope=col>&lt;dbl&gt;</th><th scope=col>&lt;chr&gt;</th><th scope=col>&lt;dbl&gt;</th></tr>\n",
       "</thead>\n",
       "<tbody>\n",
       "\t<tr><td> 1</td><td>pre_test </td><td>0.4005027</td></tr>\n",
       "\t<tr><td> 2</td><td>pre_test </td><td>0.2558124</td></tr>\n",
       "\t<tr><td> 3</td><td>pre_test </td><td>0.3244241</td></tr>\n",
       "\t<tr><td> 4</td><td>pre_test </td><td>0.3419538</td></tr>\n",
       "\t<tr><td> 5</td><td>pre_test </td><td>0.2871243</td></tr>\n",
       "\t<tr><td> 6</td><td>pre_test </td><td>0.2045868</td></tr>\n",
       "\t<tr><td> 7</td><td>pre_test </td><td>0.3525992</td></tr>\n",
       "\t<tr><td> 8</td><td>pre_test </td><td>0.3179425</td></tr>\n",
       "\t<tr><td> 9</td><td>pre_test </td><td>0.3507964</td></tr>\n",
       "\t<tr><td>10</td><td>pre_test </td><td>0.3043798</td></tr>\n",
       "\t<tr><td> 1</td><td>post_test</td><td>0.5182286</td></tr>\n",
       "\t<tr><td> 2</td><td>post_test</td><td>0.6912915</td></tr>\n",
       "\t<tr><td> 3</td><td>post_test</td><td>0.4443434</td></tr>\n",
       "\t<tr><td> 4</td><td>post_test</td><td>0.4711696</td></tr>\n",
       "\t<tr><td> 5</td><td>post_test</td><td>0.3908429</td></tr>\n",
       "\t<tr><td> 6</td><td>post_test</td><td>0.5340549</td></tr>\n",
       "\t<tr><td> 7</td><td>post_test</td><td>0.5580695</td></tr>\n",
       "\t<tr><td> 8</td><td>post_test</td><td>0.4370234</td></tr>\n",
       "\t<tr><td> 9</td><td>post_test</td><td>0.4399808</td></tr>\n",
       "\t<tr><td>10</td><td>post_test</td><td>0.4489376</td></tr>\n",
       "\t<tr><td> 1</td><td>follow_up</td><td>0.7107831</td></tr>\n",
       "\t<tr><td> 2</td><td>follow_up</td><td>0.6308434</td></tr>\n",
       "\t<tr><td> 3</td><td>follow_up</td><td>0.9778410</td></tr>\n",
       "\t<tr><td> 4</td><td>follow_up</td><td>0.8347124</td></tr>\n",
       "\t<tr><td> 5</td><td>follow_up</td><td>0.6457287</td></tr>\n",
       "\t<tr><td> 6</td><td>follow_up</td><td>0.6653224</td></tr>\n",
       "\t<tr><td> 7</td><td>follow_up</td><td>0.6840157</td></tr>\n",
       "\t<tr><td> 8</td><td>follow_up</td><td>0.7818623</td></tr>\n",
       "\t<tr><td> 9</td><td>follow_up</td><td>0.8471229</td></tr>\n",
       "\t<tr><td>10</td><td>follow_up</td><td>0.8581100</td></tr>\n",
       "</tbody>\n",
       "</table>\n"
      ],
      "text/latex": [
       "A tibble: 30 × 3\n",
       "\\begin{tabular}{lll}\n",
       " id & time & Learning\\_rate\\\\\n",
       " <dbl> & <chr> & <dbl>\\\\\n",
       "\\hline\n",
       "\t  1 & pre\\_test  & 0.4005027\\\\\n",
       "\t  2 & pre\\_test  & 0.2558124\\\\\n",
       "\t  3 & pre\\_test  & 0.3244241\\\\\n",
       "\t  4 & pre\\_test  & 0.3419538\\\\\n",
       "\t  5 & pre\\_test  & 0.2871243\\\\\n",
       "\t  6 & pre\\_test  & 0.2045868\\\\\n",
       "\t  7 & pre\\_test  & 0.3525992\\\\\n",
       "\t  8 & pre\\_test  & 0.3179425\\\\\n",
       "\t  9 & pre\\_test  & 0.3507964\\\\\n",
       "\t 10 & pre\\_test  & 0.3043798\\\\\n",
       "\t  1 & post\\_test & 0.5182286\\\\\n",
       "\t  2 & post\\_test & 0.6912915\\\\\n",
       "\t  3 & post\\_test & 0.4443434\\\\\n",
       "\t  4 & post\\_test & 0.4711696\\\\\n",
       "\t  5 & post\\_test & 0.3908429\\\\\n",
       "\t  6 & post\\_test & 0.5340549\\\\\n",
       "\t  7 & post\\_test & 0.5580695\\\\\n",
       "\t  8 & post\\_test & 0.4370234\\\\\n",
       "\t  9 & post\\_test & 0.4399808\\\\\n",
       "\t 10 & post\\_test & 0.4489376\\\\\n",
       "\t  1 & follow\\_up & 0.7107831\\\\\n",
       "\t  2 & follow\\_up & 0.6308434\\\\\n",
       "\t  3 & follow\\_up & 0.9778410\\\\\n",
       "\t  4 & follow\\_up & 0.8347124\\\\\n",
       "\t  5 & follow\\_up & 0.6457287\\\\\n",
       "\t  6 & follow\\_up & 0.6653224\\\\\n",
       "\t  7 & follow\\_up & 0.6840157\\\\\n",
       "\t  8 & follow\\_up & 0.7818623\\\\\n",
       "\t  9 & follow\\_up & 0.8471229\\\\\n",
       "\t 10 & follow\\_up & 0.8581100\\\\\n",
       "\\end{tabular}\n"
      ],
      "text/markdown": [
       "\n",
       "A tibble: 30 × 3\n",
       "\n",
       "| id &lt;dbl&gt; | time &lt;chr&gt; | Learning_rate &lt;dbl&gt; |\n",
       "|---|---|---|\n",
       "|  1 | pre_test  | 0.4005027 |\n",
       "|  2 | pre_test  | 0.2558124 |\n",
       "|  3 | pre_test  | 0.3244241 |\n",
       "|  4 | pre_test  | 0.3419538 |\n",
       "|  5 | pre_test  | 0.2871243 |\n",
       "|  6 | pre_test  | 0.2045868 |\n",
       "|  7 | pre_test  | 0.3525992 |\n",
       "|  8 | pre_test  | 0.3179425 |\n",
       "|  9 | pre_test  | 0.3507964 |\n",
       "| 10 | pre_test  | 0.3043798 |\n",
       "|  1 | post_test | 0.5182286 |\n",
       "|  2 | post_test | 0.6912915 |\n",
       "|  3 | post_test | 0.4443434 |\n",
       "|  4 | post_test | 0.4711696 |\n",
       "|  5 | post_test | 0.3908429 |\n",
       "|  6 | post_test | 0.5340549 |\n",
       "|  7 | post_test | 0.5580695 |\n",
       "|  8 | post_test | 0.4370234 |\n",
       "|  9 | post_test | 0.4399808 |\n",
       "| 10 | post_test | 0.4489376 |\n",
       "|  1 | follow_up | 0.7107831 |\n",
       "|  2 | follow_up | 0.6308434 |\n",
       "|  3 | follow_up | 0.9778410 |\n",
       "|  4 | follow_up | 0.8347124 |\n",
       "|  5 | follow_up | 0.6457287 |\n",
       "|  6 | follow_up | 0.6653224 |\n",
       "|  7 | follow_up | 0.6840157 |\n",
       "|  8 | follow_up | 0.7818623 |\n",
       "|  9 | follow_up | 0.8471229 |\n",
       "| 10 | follow_up | 0.8581100 |\n",
       "\n"
      ],
      "text/plain": [
       "   id time      Learning_rate\n",
       "1   1 pre_test  0.4005027    \n",
       "2   2 pre_test  0.2558124    \n",
       "3   3 pre_test  0.3244241    \n",
       "4   4 pre_test  0.3419538    \n",
       "5   5 pre_test  0.2871243    \n",
       "6   6 pre_test  0.2045868    \n",
       "7   7 pre_test  0.3525992    \n",
       "8   8 pre_test  0.3179425    \n",
       "9   9 pre_test  0.3507964    \n",
       "10 10 pre_test  0.3043798    \n",
       "11  1 post_test 0.5182286    \n",
       "12  2 post_test 0.6912915    \n",
       "13  3 post_test 0.4443434    \n",
       "14  4 post_test 0.4711696    \n",
       "15  5 post_test 0.3908429    \n",
       "16  6 post_test 0.5340549    \n",
       "17  7 post_test 0.5580695    \n",
       "18  8 post_test 0.4370234    \n",
       "19  9 post_test 0.4399808    \n",
       "20 10 post_test 0.4489376    \n",
       "21  1 follow_up 0.7107831    \n",
       "22  2 follow_up 0.6308434    \n",
       "23  3 follow_up 0.9778410    \n",
       "24  4 follow_up 0.8347124    \n",
       "25  5 follow_up 0.6457287    \n",
       "26  6 follow_up 0.6653224    \n",
       "27  7 follow_up 0.6840157    \n",
       "28  8 follow_up 0.7818623    \n",
       "29  9 follow_up 0.8471229    \n",
       "30 10 follow_up 0.8581100    "
      ]
     },
     "metadata": {},
     "output_type": "display_data"
    }
   ],
   "source": [
    "Learning_data"
   ]
  },
  {
   "cell_type": "code",
   "execution_count": 17,
   "id": "4b5795be-86f4-40bc-bd6f-748a72e5393e",
   "metadata": {},
   "outputs": [
    {
     "data": {
      "text/html": [
       "<table class=\"dataframe\">\n",
       "<caption>A tibble: 3 × 5</caption>\n",
       "<thead>\n",
       "\t<tr><th scope=col>time</th><th scope=col>variable</th><th scope=col>n</th><th scope=col>mean</th><th scope=col>sd</th></tr>\n",
       "\t<tr><th scope=col>&lt;chr&gt;</th><th scope=col>&lt;fct&gt;</th><th scope=col>&lt;dbl&gt;</th><th scope=col>&lt;dbl&gt;</th><th scope=col>&lt;dbl&gt;</th></tr>\n",
       "</thead>\n",
       "<tbody>\n",
       "\t<tr><td>follow_up</td><td>Learning_rate</td><td>10</td><td>0.764</td><td>0.114</td></tr>\n",
       "\t<tr><td>post_test</td><td>Learning_rate</td><td>10</td><td>0.493</td><td>0.086</td></tr>\n",
       "\t<tr><td>pre_test </td><td>Learning_rate</td><td>10</td><td>0.314</td><td>0.055</td></tr>\n",
       "</tbody>\n",
       "</table>\n"
      ],
      "text/latex": [
       "A tibble: 3 × 5\n",
       "\\begin{tabular}{lllll}\n",
       " time & variable & n & mean & sd\\\\\n",
       " <chr> & <fct> & <dbl> & <dbl> & <dbl>\\\\\n",
       "\\hline\n",
       "\t follow\\_up & Learning\\_rate & 10 & 0.764 & 0.114\\\\\n",
       "\t post\\_test & Learning\\_rate & 10 & 0.493 & 0.086\\\\\n",
       "\t pre\\_test  & Learning\\_rate & 10 & 0.314 & 0.055\\\\\n",
       "\\end{tabular}\n"
      ],
      "text/markdown": [
       "\n",
       "A tibble: 3 × 5\n",
       "\n",
       "| time &lt;chr&gt; | variable &lt;fct&gt; | n &lt;dbl&gt; | mean &lt;dbl&gt; | sd &lt;dbl&gt; |\n",
       "|---|---|---|---|---|\n",
       "| follow_up | Learning_rate | 10 | 0.764 | 0.114 |\n",
       "| post_test | Learning_rate | 10 | 0.493 | 0.086 |\n",
       "| pre_test  | Learning_rate | 10 | 0.314 | 0.055 |\n",
       "\n"
      ],
      "text/plain": [
       "  time      variable      n  mean  sd   \n",
       "1 follow_up Learning_rate 10 0.764 0.114\n",
       "2 post_test Learning_rate 10 0.493 0.086\n",
       "3 pre_test  Learning_rate 10 0.314 0.055"
      ]
     },
     "metadata": {},
     "output_type": "display_data"
    }
   ],
   "source": [
    "Learning_data %>% group_by(time) %>% get_summary_stats(Learning_rate, type =\"mean_sd\")"
   ]
  },
  {
   "cell_type": "code",
   "execution_count": 19,
   "id": "e097ca7d-4ac0-4bb0-94c1-b2cf2e1a9113",
   "metadata": {},
   "outputs": [],
   "source": [
    "library(ggpubr)"
   ]
  },
  {
   "cell_type": "code",
   "execution_count": 21,
   "id": "f118b9c0-d8d0-4534-a6d2-336ac65b1159",
   "metadata": {},
   "outputs": [
    {
     "data": {
      "image/png": "[encoded data removed]",
      "text/plain": [
       "plot without title"
      ]
     },
     "metadata": {
      "image/png": {
       "height": 420,
       "width": 420
      }
     },
     "output_type": "display_data"
    }
   ],
   "source": [
    "ggboxplot(Learning_data, x= \"time\", y = \"Learning_rate\", add = \"point\")"
   ]
  },
  {
   "cell_type": "code",
   "execution_count": 23,
   "id": "c2a2f840-08af-4af0-b694-402db4dc1ac4",
   "metadata": {},
   "outputs": [
    {
     "data": {
      "text/html": [
       "<table class=\"dataframe\">\n",
       "<caption>A tibble: 2 × 5</caption>\n",
       "<thead>\n",
       "\t<tr><th scope=col>time</th><th scope=col>id</th><th scope=col>Learning_rate</th><th scope=col>is.outlier</th><th scope=col>is.extreme</th></tr>\n",
       "\t<tr><th scope=col>&lt;chr&gt;</th><th scope=col>&lt;dbl&gt;</th><th scope=col>&lt;dbl&gt;</th><th scope=col>&lt;lgl&gt;</th><th scope=col>&lt;lgl&gt;</th></tr>\n",
       "</thead>\n",
       "<tbody>\n",
       "\t<tr><td>post_test</td><td>2</td><td>0.6912915</td><td>TRUE</td><td>FALSE</td></tr>\n",
       "\t<tr><td>pre_test </td><td>6</td><td>0.2045868</td><td>TRUE</td><td>FALSE</td></tr>\n",
       "</tbody>\n",
       "</table>\n"
      ],
      "text/latex": [
       "A tibble: 2 × 5\n",
       "\\begin{tabular}{lllll}\n",
       " time & id & Learning\\_rate & is.outlier & is.extreme\\\\\n",
       " <chr> & <dbl> & <dbl> & <lgl> & <lgl>\\\\\n",
       "\\hline\n",
       "\t post\\_test & 2 & 0.6912915 & TRUE & FALSE\\\\\n",
       "\t pre\\_test  & 6 & 0.2045868 & TRUE & FALSE\\\\\n",
       "\\end{tabular}\n"
      ],
      "text/markdown": [
       "\n",
       "A tibble: 2 × 5\n",
       "\n",
       "| time &lt;chr&gt; | id &lt;dbl&gt; | Learning_rate &lt;dbl&gt; | is.outlier &lt;lgl&gt; | is.extreme &lt;lgl&gt; |\n",
       "|---|---|---|---|---|\n",
       "| post_test | 2 | 0.6912915 | TRUE | FALSE |\n",
       "| pre_test  | 6 | 0.2045868 | TRUE | FALSE |\n",
       "\n"
      ],
      "text/plain": [
       "  time      id Learning_rate is.outlier is.extreme\n",
       "1 post_test 2  0.6912915     TRUE       FALSE     \n",
       "2 pre_test  6  0.2045868     TRUE       FALSE     "
      ]
     },
     "metadata": {},
     "output_type": "display_data"
    }
   ],
   "source": [
    "Learning_data %>% group_by(time) %>% identify_outliers(Learning_rate\n",
    "                                                      )"
   ]
  },
  {
   "cell_type": "code",
   "execution_count": 24,
   "id": "eae0069c-bc51-452a-9ab5-83bcbb50024e",
   "metadata": {},
   "outputs": [
    {
     "data": {
      "image/png": "[encoded data removed]",
      "text/plain": [
       "plot without title"
      ]
     },
     "metadata": {
      "image/png": {
       "height": 420,
       "width": 420
      }
     },
     "output_type": "display_data"
    }
   ],
   "source": [
    "ggqqplot(Learning_data, \"Learning_rate\", facet.by = \"time\")"
   ]
  },
  {
   "cell_type": "code",
   "execution_count": 25,
   "id": "e2b9ac8e-bb4c-4b17-ba62-c970a3a603d4",
   "metadata": {},
   "outputs": [
    {
     "data": {
      "text/html": [
       "<table class=\"dataframe\">\n",
       "<caption>A tibble: 3 × 4</caption>\n",
       "<thead>\n",
       "\t<tr><th scope=col>time</th><th scope=col>variable</th><th scope=col>statistic</th><th scope=col>p</th></tr>\n",
       "\t<tr><th scope=col>&lt;chr&gt;</th><th scope=col>&lt;chr&gt;</th><th scope=col>&lt;dbl&gt;</th><th scope=col>&lt;dbl&gt;</th></tr>\n",
       "</thead>\n",
       "<tbody>\n",
       "\t<tr><td>follow_up</td><td>Learning_rate</td><td>0.9227149</td><td>0.3801562</td></tr>\n",
       "\t<tr><td>post_test</td><td>Learning_rate</td><td>0.8758846</td><td>0.1169956</td></tr>\n",
       "\t<tr><td>pre_test </td><td>Learning_rate</td><td>0.9666901</td><td>0.8585765</td></tr>\n",
       "</tbody>\n",
       "</table>\n"
      ],
      "text/latex": [
       "A tibble: 3 × 4\n",
       "\\begin{tabular}{llll}\n",
       " time & variable & statistic & p\\\\\n",
       " <chr> & <chr> & <dbl> & <dbl>\\\\\n",
       "\\hline\n",
       "\t follow\\_up & Learning\\_rate & 0.9227149 & 0.3801562\\\\\n",
       "\t post\\_test & Learning\\_rate & 0.8758846 & 0.1169956\\\\\n",
       "\t pre\\_test  & Learning\\_rate & 0.9666901 & 0.8585765\\\\\n",
       "\\end{tabular}\n"
      ],
      "text/markdown": [
       "\n",
       "A tibble: 3 × 4\n",
       "\n",
       "| time &lt;chr&gt; | variable &lt;chr&gt; | statistic &lt;dbl&gt; | p &lt;dbl&gt; |\n",
       "|---|---|---|---|\n",
       "| follow_up | Learning_rate | 0.9227149 | 0.3801562 |\n",
       "| post_test | Learning_rate | 0.8758846 | 0.1169956 |\n",
       "| pre_test  | Learning_rate | 0.9666901 | 0.8585765 |\n",
       "\n"
      ],
      "text/plain": [
       "  time      variable      statistic p        \n",
       "1 follow_up Learning_rate 0.9227149 0.3801562\n",
       "2 post_test Learning_rate 0.8758846 0.1169956\n",
       "3 pre_test  Learning_rate 0.9666901 0.8585765"
      ]
     },
     "metadata": {},
     "output_type": "display_data"
    }
   ],
   "source": [
    "Learning_data %>% group_by(time) %>% shapiro_test(Learning_rate)"
   ]
  },
  {
   "cell_type": "code",
   "execution_count": 27,
   "id": "16706c2a-50af-4d96-af08-33376a7864b5",
   "metadata": {},
   "outputs": [
    {
     "data": {
      "text/html": [
       "<dl>\n",
       "\t<dt>$ANOVA</dt>\n",
       "\t\t<dd><table class=\"dataframe\">\n",
       "<caption>A data.frame: 1 × 7</caption>\n",
       "<thead>\n",
       "\t<tr><th scope=col>Effect</th><th scope=col>DFn</th><th scope=col>DFd</th><th scope=col>F</th><th scope=col>p</th><th scope=col>p&lt;.05</th><th scope=col>ges</th></tr>\n",
       "\t<tr><th scope=col>&lt;chr&gt;</th><th scope=col>&lt;dbl&gt;</th><th scope=col>&lt;dbl&gt;</th><th scope=col>&lt;dbl&gt;</th><th scope=col>&lt;dbl&gt;</th><th scope=col>&lt;chr&gt;</th><th scope=col>&lt;dbl&gt;</th></tr>\n",
       "</thead>\n",
       "<tbody>\n",
       "\t<tr><td>time</td><td>2</td><td>18</td><td>55.469</td><td>2.01e-08</td><td>*</td><td>0.829</td></tr>\n",
       "</tbody>\n",
       "</table>\n",
       "</dd>\n",
       "\t<dt>$`Mauchly's Test for Sphericity`</dt>\n",
       "\t\t<dd><table class=\"dataframe\">\n",
       "<caption>A data.frame: 1 × 4</caption>\n",
       "<thead>\n",
       "\t<tr><th></th><th scope=col>Effect</th><th scope=col>W</th><th scope=col>p</th><th scope=col>p&lt;.05</th></tr>\n",
       "\t<tr><th></th><th scope=col>&lt;chr&gt;</th><th scope=col>&lt;dbl&gt;</th><th scope=col>&lt;dbl&gt;</th><th scope=col>&lt;chr&gt;</th></tr>\n",
       "</thead>\n",
       "<tbody>\n",
       "\t<tr><th scope=row>1</th><td>time</td><td>0.551</td><td>0.092</td><td></td></tr>\n",
       "</tbody>\n",
       "</table>\n",
       "</dd>\n",
       "\t<dt>$`Sphericity Corrections`</dt>\n",
       "\t\t<dd><table class=\"dataframe\">\n",
       "<caption>A data.frame: 1 × 9</caption>\n",
       "<thead>\n",
       "\t<tr><th scope=col>Effect</th><th scope=col>GGe</th><th scope=col>DF[GG]</th><th scope=col>p[GG]</th><th scope=col>p[GG]&lt;.05</th><th scope=col>HFe</th><th scope=col>DF[HF]</th><th scope=col>p[HF]</th><th scope=col>p[HF]&lt;.05</th></tr>\n",
       "\t<tr><th scope=col>&lt;chr&gt;</th><th scope=col>&lt;dbl&gt;</th><th scope=col>&lt;chr&gt;</th><th scope=col>&lt;dbl&gt;</th><th scope=col>&lt;chr&gt;</th><th scope=col>&lt;dbl&gt;</th><th scope=col>&lt;chr&gt;</th><th scope=col>&lt;dbl&gt;</th><th scope=col>&lt;chr&gt;</th></tr>\n",
       "</thead>\n",
       "<tbody>\n",
       "\t<tr><td>time</td><td>0.69</td><td>1.38, 12.42</td><td>2.16e-06</td><td>*</td><td>0.774</td><td>1.55, 13.94</td><td>6.03e-07</td><td>*</td></tr>\n",
       "</tbody>\n",
       "</table>\n",
       "</dd>\n",
       "</dl>\n"
      ],
      "text/latex": [
       "\\begin{description}\n",
       "\\item[\\$ANOVA] A data.frame: 1 × 7\n",
       "\\begin{tabular}{lllllll}\n",
       " Effect & DFn & DFd & F & p & p<.05 & ges\\\\\n",
       " <chr> & <dbl> & <dbl> & <dbl> & <dbl> & <chr> & <dbl>\\\\\n",
       "\\hline\n",
       "\t time & 2 & 18 & 55.469 & 2.01e-08 & * & 0.829\\\\\n",
       "\\end{tabular}\n",
       "\n",
       "\\item[\\$`Mauchly's Test for Sphericity`] A data.frame: 1 × 4\n",
       "\\begin{tabular}{r|llll}\n",
       "  & Effect & W & p & p<.05\\\\\n",
       "  & <chr> & <dbl> & <dbl> & <chr>\\\\\n",
       "\\hline\n",
       "\t1 & time & 0.551 & 0.092 & \\\\\n",
       "\\end{tabular}\n",
       "\n",
       "\\item[\\$`Sphericity Corrections`] A data.frame: 1 × 9\n",
       "\\begin{tabular}{lllllllll}\n",
       " Effect & GGe & DF{[}GG{]} & p{[}GG{]} & p{[}GG{]}<.05 & HFe & DF{[}HF{]} & p{[}HF{]} & p{[}HF{]}<.05\\\\\n",
       " <chr> & <dbl> & <chr> & <dbl> & <chr> & <dbl> & <chr> & <dbl> & <chr>\\\\\n",
       "\\hline\n",
       "\t time & 0.69 & 1.38, 12.42 & 2.16e-06 & * & 0.774 & 1.55, 13.94 & 6.03e-07 & *\\\\\n",
       "\\end{tabular}\n",
       "\n",
       "\\end{description}\n"
      ],
      "text/markdown": [
       "$ANOVA\n",
       ":   \n",
       "A data.frame: 1 × 7\n",
       "\n",
       "| Effect &lt;chr&gt; | DFn &lt;dbl&gt; | DFd &lt;dbl&gt; | F &lt;dbl&gt; | p &lt;dbl&gt; | p&lt;.05 &lt;chr&gt; | ges &lt;dbl&gt; |\n",
       "|---|---|---|---|---|---|---|\n",
       "| time | 2 | 18 | 55.469 | 2.01e-08 | * | 0.829 |\n",
       "\n",
       "\n",
       "$`Mauchly's Test for Sphericity`\n",
       ":   \n",
       "A data.frame: 1 × 4\n",
       "\n",
       "| <!--/--> | Effect &lt;chr&gt; | W &lt;dbl&gt; | p &lt;dbl&gt; | p&lt;.05 &lt;chr&gt; |\n",
       "|---|---|---|---|---|\n",
       "| 1 | time | 0.551 | 0.092 | <!----> |\n",
       "\n",
       "\n",
       "$`Sphericity Corrections`\n",
       ":   \n",
       "A data.frame: 1 × 9\n",
       "\n",
       "| Effect &lt;chr&gt; | GGe &lt;dbl&gt; | DF[GG] &lt;chr&gt; | p[GG] &lt;dbl&gt; | p[GG]&lt;.05 &lt;chr&gt; | HFe &lt;dbl&gt; | DF[HF] &lt;chr&gt; | p[HF] &lt;dbl&gt; | p[HF]&lt;.05 &lt;chr&gt; |\n",
       "|---|---|---|---|---|---|---|---|---|\n",
       "| time | 0.69 | 1.38, 12.42 | 2.16e-06 | * | 0.774 | 1.55, 13.94 | 6.03e-07 | * |\n",
       "\n",
       "\n",
       "\n",
       "\n"
      ],
      "text/plain": [
       "ANOVA Table (type III tests)\n",
       "\n",
       "$ANOVA\n",
       "  Effect DFn DFd      F        p p<.05   ges\n",
       "1   time   2  18 55.469 2.01e-08     * 0.829\n",
       "\n",
       "$`Mauchly's Test for Sphericity`\n",
       "  Effect     W     p p<.05\n",
       "1   time 0.551 0.092      \n",
       "\n",
       "$`Sphericity Corrections`\n",
       "  Effect  GGe      DF[GG]    p[GG] p[GG]<.05   HFe      DF[HF]    p[HF]\n",
       "1   time 0.69 1.38, 12.42 2.16e-06         * 0.774 1.55, 13.94 6.03e-07\n",
       "  p[HF]<.05\n",
       "1         *\n"
      ]
     },
     "metadata": {},
     "output_type": "display_data"
    }
   ],
   "source": [
    "anova_test(data = Learning_data, dv = Learning_rate, wid = id, within = time)"
   ]
  },
  {
   "cell_type": "markdown",
   "id": "d7f8424c-f72e-4eb5-a37f-84feb6cc5beb",
   "metadata": {},
   "source": [
    "## Post-hoc tests"
   ]
  },
  {
   "cell_type": "code",
   "execution_count": null,
   "id": "6af498de-36d9-4161-8072-a6c23c6a6b7d",
   "metadata": {},
   "outputs": [],
   "source": []
  },
  {
   "cell_type": "code",
   "execution_count": 30,
   "id": "007caf5e-6863-4c90-ad3f-e04b9a28c2cd",
   "metadata": {},
   "outputs": [
    {
     "data": {
      "text/html": [
       "<table class=\"dataframe\">\n",
       "<caption>A rstatix_test: 3 × 10</caption>\n",
       "<thead>\n",
       "\t<tr><th></th><th scope=col>.y.</th><th scope=col>group1</th><th scope=col>group2</th><th scope=col>n1</th><th scope=col>n2</th><th scope=col>statistic</th><th scope=col>df</th><th scope=col>p</th><th scope=col>p.adj</th><th scope=col>p.adj.signif</th></tr>\n",
       "\t<tr><th></th><th scope=col>&lt;chr&gt;</th><th scope=col>&lt;chr&gt;</th><th scope=col>&lt;chr&gt;</th><th scope=col>&lt;int&gt;</th><th scope=col>&lt;int&gt;</th><th scope=col>&lt;dbl&gt;</th><th scope=col>&lt;dbl&gt;</th><th scope=col>&lt;dbl&gt;</th><th scope=col>&lt;dbl&gt;</th><th scope=col>&lt;chr&gt;</th></tr>\n",
       "</thead>\n",
       "<tbody>\n",
       "\t<tr><th scope=row>1</th><td>Learning_rate</td><td>follow_up</td><td>post_test</td><td>10</td><td>10</td><td> 4.867816</td><td>9</td><td>8.86e-04</td><td>3e-03</td><td>**  </td></tr>\n",
       "\t<tr><th scope=row>2</th><td>Learning_rate</td><td>follow_up</td><td>pre_test </td><td>10</td><td>10</td><td>13.228148</td><td>9</td><td>3.34e-07</td><td>1e-06</td><td>****</td></tr>\n",
       "\t<tr><th scope=row>3</th><td>Learning_rate</td><td>post_test</td><td>pre_test </td><td>10</td><td>10</td><td> 4.967619</td><td>9</td><td>7.72e-04</td><td>2e-03</td><td>**  </td></tr>\n",
       "</tbody>\n",
       "</table>\n"
      ],
      "text/latex": [
       "A rstatix\\_test: 3 × 10\n",
       "\\begin{tabular}{r|llllllllll}\n",
       "  & .y. & group1 & group2 & n1 & n2 & statistic & df & p & p.adj & p.adj.signif\\\\\n",
       "  & <chr> & <chr> & <chr> & <int> & <int> & <dbl> & <dbl> & <dbl> & <dbl> & <chr>\\\\\n",
       "\\hline\n",
       "\t1 & Learning\\_rate & follow\\_up & post\\_test & 10 & 10 &  4.867816 & 9 & 8.86e-04 & 3e-03 & **  \\\\\n",
       "\t2 & Learning\\_rate & follow\\_up & pre\\_test  & 10 & 10 & 13.228148 & 9 & 3.34e-07 & 1e-06 & ****\\\\\n",
       "\t3 & Learning\\_rate & post\\_test & pre\\_test  & 10 & 10 &  4.967619 & 9 & 7.72e-04 & 2e-03 & **  \\\\\n",
       "\\end{tabular}\n"
      ],
      "text/markdown": [
       "\n",
       "A rstatix_test: 3 × 10\n",
       "\n",
       "| <!--/--> | .y. &lt;chr&gt; | group1 &lt;chr&gt; | group2 &lt;chr&gt; | n1 &lt;int&gt; | n2 &lt;int&gt; | statistic &lt;dbl&gt; | df &lt;dbl&gt; | p &lt;dbl&gt; | p.adj &lt;dbl&gt; | p.adj.signif &lt;chr&gt; |\n",
       "|---|---|---|---|---|---|---|---|---|---|---|\n",
       "| 1 | Learning_rate | follow_up | post_test | 10 | 10 |  4.867816 | 9 | 8.86e-04 | 3e-03 | **   |\n",
       "| 2 | Learning_rate | follow_up | pre_test  | 10 | 10 | 13.228148 | 9 | 3.34e-07 | 1e-06 | **** |\n",
       "| 3 | Learning_rate | post_test | pre_test  | 10 | 10 |  4.967619 | 9 | 7.72e-04 | 2e-03 | **   |\n",
       "\n"
      ],
      "text/plain": [
       "  .y.           group1    group2    n1 n2 statistic df p        p.adj\n",
       "1 Learning_rate follow_up post_test 10 10  4.867816 9  8.86e-04 3e-03\n",
       "2 Learning_rate follow_up pre_test  10 10 13.228148 9  3.34e-07 1e-06\n",
       "3 Learning_rate post_test pre_test  10 10  4.967619 9  7.72e-04 2e-03\n",
       "  p.adj.signif\n",
       "1 **          \n",
       "2 ****        \n",
       "3 **          "
      ]
     },
     "metadata": {},
     "output_type": "display_data"
    }
   ],
   "source": [
    "Learning_data %>% pairwise_t_test(Learning_rate ~ time, paired = TRUE, p.adjust.method = \"bonferroni\")"
   ]
  },
  {
   "cell_type": "code",
   "execution_count": 34,
   "id": "82c601aa-96f2-46da-a1df-189b67727925",
   "metadata": {},
   "outputs": [],
   "source": [
    "pwc = Learning_data %>% pairwise_t_test(Learning_rate ~ time, paired = TRUE, p.adjust.method = \"bonferroni\")"
   ]
  },
  {
   "cell_type": "code",
   "execution_count": 35,
   "id": "cd176826-ab58-4c73-9169-b65992125b8d",
   "metadata": {},
   "outputs": [],
   "source": [
    "bxp = ggboxplot(Learning_data, x= \"time\", y = \"Learning_rate\", add = \"point\")"
   ]
  },
  {
   "cell_type": "code",
   "execution_count": 36,
   "id": "7b4b2396-518a-4dbe-88c2-cf79e97fcec4",
   "metadata": {},
   "outputs": [],
   "source": [
    "pwc = pwc %>% add_xy_position(x = \"time\")"
   ]
  },
  {
   "cell_type": "code",
   "execution_count": 37,
   "id": "9fb4c804-4ba7-4d5c-9491-99cc7b54d1c3",
   "metadata": {},
   "outputs": [
    {
     "data": {
      "image/png": "[encoded data removed]",
      "text/plain": [
       "plot without title"
      ]
     },
     "metadata": {
      "image/png": {
       "height": 420,
       "width": 420
      }
     },
     "output_type": "display_data"
    }
   ],
   "source": [
    "bxp + stat_pvalue_manual(pwc)"
   ]
  }
 ],
 "metadata": {
  "kernelspec": {
   "display_name": "R",
   "language": "R",
   "name": "ir"
  },
  "language_info": {
   "codemirror_mode": "r",
   "file_extension": ".r",
   "mimetype": "text/x-r-source",
   "name": "R",
   "pygments_lexer": "r",
   "version": "4.3.2"
  }
 },
 "nbformat": 4,
 "nbformat_minor": 5
}
